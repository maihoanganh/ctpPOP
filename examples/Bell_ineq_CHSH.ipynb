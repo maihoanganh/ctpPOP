{
 "cells": [
  {
   "cell_type": "code",
   "execution_count": 25,
   "metadata": {},
   "outputs": [],
   "source": [
    "using DynamicPolynomials, LinearAlgebra\n",
    "\n",
    "@ncpolyvar x1 x2 y1 y2 \n",
    "\n",
    "var=Vector{PolyVar{false}}([x1;x2;y1;y2])\n",
    "\n",
    "function star_algebra(mom)\n",
    "    if mom==1\n",
    "        return mom\n",
    "    else\n",
    "        ind=mom.z .>0\n",
    "        vars=mom.vars[ind]\n",
    "        exp=mom.z[ind]\n",
    "        return prod(vars[i]^exp[i] for i in length(exp):-1:1)\n",
    "    end\n",
    "end\n",
    "\n",
    "function get_star_alg(f)\n",
    "    mom=monomials(f)\n",
    "    coe=coefficients(f)\n",
    "    mom=star_algebra.(mom)\n",
    "    return dot(mom,coe)\n",
    "end\n",
    "\n",
    "u = x1*y1 + x1*y2 + x2*y1 - x2*y2\n",
    "\n",
    "f =-(u + get_star_alg(u))/2\n",
    "\n",
    "g=Vector{Polynomial{false,Float64}}([])\n",
    "\n",
    "h=[1.0-x1^2;1-x2^2;1-y1^2;1-y2^2;x1*y1-y1*x1;x2*y1-y1*x2;x1*y2-y2*x1;x2*y2-y2*x2];"
   ]
  },
  {
   "cell_type": "code",
   "execution_count": 26,
   "metadata": {},
   "outputs": [
    {
     "name": "stderr",
     "output_type": "stream",
     "text": [
      "WARNING: replacing module ctpNCPOP.\n"
     ]
    }
   ],
   "source": [
    "include(\"../src/ctpNCPOP.jl\")\n",
    "using .ctpNCPOP\n",
    "\n",
    "n,m,l,lmon_g,supp_g,coe_g,lmon_h,supp_h,coe_h,lmon_f,supp_f,coe_f,dg,dh=ctpNCPOP.get_info(var,f,g,h);"
   ]
  },
  {
   "cell_type": "code",
   "execution_count": 27,
   "metadata": {},
   "outputs": [
    {
     "name": "stdout",
     "output_type": "stream",
     "text": [
      "Number of variables: n=4\n",
      "Number of inequality constraints: m=0\n",
      "Number of equality constraints: l=8\n"
     ]
    }
   ],
   "source": [
    "println(\"Number of variables: n=\",n)\n",
    "println(\"Number of inequality constraints: m=\",m)\n",
    "println(\"Number of equality constraints: l=\",l)"
   ]
  },
  {
   "cell_type": "code",
   "execution_count": 28,
   "metadata": {},
   "outputs": [
    {
     "name": "stdout",
     "output_type": "stream",
     "text": [
      "Relaxation order: k=2\n"
     ]
    }
   ],
   "source": [
    "k=2\n",
    "\n",
    "println(\"Relaxation order: k=\",k)"
   ]
  },
  {
   "cell_type": "code",
   "execution_count": 29,
   "metadata": {},
   "outputs": [
    {
     "name": "stdout",
     "output_type": "stream",
     "text": [
      "  Computing constant trace status: OPTIMAL\n",
      "  Constant trace: ak = 21.0\n",
      "  Number of blocks: omega=1\n",
      "  Size of the largest block: s^max=21\n",
      "  Number of equality trace constraints: zeta=141\n",
      "Modeling time:\n",
      "  0.195514 seconds (221.73 k allocations: 12.374 MiB)\n",
      "iter=1   val=-14.849242404917499   gap=2.241566876217509e-16   feas=36.76360292463186\n",
      "iter=2   val=-4.949747468305834   gap=0.6920622242586193   feas=12.980743896091104\n",
      "iter=4   val=-5.934974315774804   gap=0.23719950679988197   feas=9.24936839190288\n",
      "iter=8   val=-1.6486039766041125   gap=0.5662580107054244   feas=3.592620306715505\n",
      "iter=16   val=-3.274217984830528   gap=0.3523122991075588   feas=2.4400740775332324\n",
      "iter=32   val=-2.248420279668945   gap=0.29155749189377705   feas=1.1889146796047911\n",
      "iter=64   val=-2.5194388406734087   gap=0.18580276756653458   feas=0.6774400265017426\n",
      "iter=128   val=-2.6453779121057046   gap=0.06364504995708592   feas=0.39423985435391484\n",
      "iter=256   val=-2.8147704546260517   gap=0.11444398325059893   feas=0.13657174672397462\n",
      "iter=512   val=-2.837889922877668   gap=0.07625966112125097   feas=0.054686156225756594\n",
      "iter=1024   val=-2.8194767793856528   gap=0.04678655931819444   feas=0.02694452023010332\n",
      "iter=2048   val=-2.824086093505074   gap=0.033326060362469344   feas=0.01611914386065378\n",
      "iter=4096   val=-2.825931066606181   gap=0.01983074451344853   feas=0.008526718813511478\n",
      "iter=8192   val=-2.830267739367   gap=0.006650760428897455   feas=0.005468849685320302\n",
      "iter=16384   val=-2.8286406727041706   gap=0.01666235077482304   feas=0.001355904580084762\n",
      "iter=32768   val=-2.8284106405418146   gap=0.007513998911658387   feas=0.0009507941343363858\n",
      "iter=54617   val=-2.8280440623060654   gap=0.0009608256548095619   feas=0.0008377898015098322\n",
      "tol satisfies!!!\n",
      "\n",
      "####################################\n",
      "opt_val = -2.8280440623060654\n",
      "####################################\n",
      "Solving time:\n",
      " 11.825698 seconds (11.53 M allocations: 1.738 GiB, 2.28% gc time)\n",
      "Total time:\n",
      " 12.021424 seconds (11.75 M allocations: 1.751 GiB, 2.24% gc time)\n"
     ]
    },
    {
     "name": "stderr",
     "output_type": "stream",
     "text": [
      "WARNING: replacing module ctpNCPOP.\n"
     ]
    },
    {
     "data": {
      "text/plain": [
       "-2.8280440623060654"
      ]
     },
     "execution_count": 29,
     "metadata": {},
     "output_type": "execute_result"
    }
   ],
   "source": [
    "include(\"../src/ctpNCPOP.jl\")\n",
    "using .ctpNCPOP\n",
    "\n",
    "opt_val1=ctpNCPOP.POP_dense_CGAL(n,m,l,lmon_g,supp_g,coe_g,lmon_h,supp_h,coe_h,lmon_f,supp_f,coe_f,dg,dh,k,\n",
    "                                 maxit=Int64(1e6),tol=1e-3,\n",
    "                                 use_eqcons_to_get_constant_trace=true,\n",
    "                                 check_tol_each_iter=true)"
   ]
  },
  {
   "cell_type": "code",
   "execution_count": null,
   "metadata": {},
   "outputs": [],
   "source": []
  },
  {
   "cell_type": "code",
   "execution_count": null,
   "metadata": {},
   "outputs": [],
   "source": []
  },
  {
   "cell_type": "code",
   "execution_count": 30,
   "metadata": {},
   "outputs": [
    {
     "name": "stdout",
     "output_type": "stream",
     "text": [
      "------------------------------------------------------\n",
      "The sizes of blocks:\n",
      "[21]\n",
      "[1]\n",
      "------------------------------------------------------\n",
      "Problem\n",
      "  Name                   :                 \n",
      "  Objective sense        : max             \n",
      "  Type                   : CONIC (conic optimization problem)\n",
      "  Constraints            : 191             \n",
      "  Cones                  : 0               \n",
      "  Scalar variables       : 121             \n",
      "  Matrix variables       : 1               \n",
      "  Integer variables      : 0               \n",
      "\n",
      "Optimizer started.\n",
      "Presolve started.\n",
      "Linear dependency checker started.\n",
      "Linear dependency checker terminated.\n",
      "Eliminator started.\n",
      "Freed constraints in eliminator : 0\n",
      "Eliminator terminated.\n",
      "Eliminator started.\n",
      "Freed constraints in eliminator : 0\n",
      "Eliminator terminated.\n",
      "Eliminator - tries                  : 2                 time                   : 0.00            \n",
      "Lin. dep.  - tries                  : 1                 time                   : 0.00            \n",
      "Lin. dep.  - number                 : 0               \n",
      "Presolve terminated. Time: 0.00    \n",
      "Problem\n",
      "  Name                   :                 \n",
      "  Objective sense        : max             \n",
      "  Type                   : CONIC (conic optimization problem)\n",
      "  Constraints            : 191             \n",
      "  Cones                  : 0               \n",
      "  Scalar variables       : 121             \n",
      "  Matrix variables       : 1               \n",
      "  Integer variables      : 0               \n",
      "\n",
      "Optimizer  - threads                : 4               \n",
      "Optimizer  - solved problem         : the primal      \n",
      "Optimizer  - Constraints            : 191\n",
      "Optimizer  - Cones                  : 1\n",
      "Optimizer  - Scalar variables       : 102               conic                  : 102             \n",
      "Optimizer  - Semi-definite variables: 1                 scalarized             : 231             \n",
      "Factor     - setup time             : 0.00              dense det. time        : 0.00            \n",
      "Factor     - ML order time          : 0.00              GP order time          : 0.00            \n",
      "Factor     - nonzeros before factor : 1.83e+04          after factor           : 1.83e+04        \n",
      "Factor     - dense dim.             : 0                 flops                  : 2.52e+06        \n",
      "ITE PFEAS    DFEAS    GFEAS    PRSTATUS   POBJ              DOBJ              MU       TIME  \n",
      "0   1.0e+00  1.0e+00  1.0e+00  0.00e+00   0.000000000e+00   0.000000000e+00   1.0e+00  0.00  \n",
      "1   3.6e-01  3.6e-01  2.5e-01  4.43e-01   -2.940874374e-01  -3.289067618e-01  3.6e-01  0.00  \n",
      "2   7.6e-02  7.6e-02  3.3e-02  6.07e-01   -1.139255159e+00  -1.206819642e+00  7.6e-02  0.01  \n",
      "3   7.1e-03  7.1e-03  1.1e-03  7.71e-01   -2.637217136e+00  -2.646606708e+00  7.1e-03  0.01  \n",
      "4   1.4e-03  1.4e-03  9.3e-05  9.81e-01   -2.791242699e+00  -2.792925297e+00  1.4e-03  0.01  \n",
      "5   1.3e-05  1.3e-05  8.0e-08  9.95e-01   -2.828157341e+00  -2.828172879e+00  1.3e-05  0.01  \n",
      "6   1.3e-07  1.3e-07  8.4e-11  1.00e+00   -2.828425230e+00  -2.828425386e+00  1.3e-07  0.01  \n",
      "7   9.1e-10  8.9e-10  4.5e-14  1.00e+00   -2.828427116e+00  -2.828427117e+00  8.8e-10  0.02  \n",
      "Optimizer terminated. Time: 0.02    \n",
      "\n",
      "optimum = -2.8284271156042253\n",
      "  0.019242 seconds (27.75 k allocations: 2.224 MiB)\n"
     ]
    }
   ],
   "source": [
    "using NCTSSOS\n",
    "\n",
    "@time ctpNCPOP.nctssos_first(Vector{Vector{Vector{UInt16}}}([[supp_f];supp_g;supp_h]),[[coe_f];coe_g;coe_h],\n",
    "    n,k,[dg;dh],numeq=l,reducebasis=false,obj=\"eigen\",merge=false,TS=false,QUIET=false);"
   ]
  },
  {
   "cell_type": "code",
   "execution_count": null,
   "metadata": {},
   "outputs": [],
   "source": []
  }
 ],
 "metadata": {
  "kernelspec": {
   "display_name": "Julia 1.3.0",
   "language": "julia",
   "name": "julia-1.3"
  },
  "language_info": {
   "file_extension": ".jl",
   "mimetype": "application/julia",
   "name": "julia",
   "version": "1.3.0"
  }
 },
 "nbformat": 4,
 "nbformat_minor": 2
}
