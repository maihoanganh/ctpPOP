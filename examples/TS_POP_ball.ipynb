{
 "cells": [
  {
   "cell_type": "code",
   "execution_count": 13,
   "metadata": {},
   "outputs": [
    {
     "name": "stdout",
     "output_type": "stream",
     "text": [
      "***Problem setting***\n",
      "Number of variable: n=20\n",
      "====================\n",
      "Number of inequality constraints: m=1\n",
      "====================\n",
      "Number of equality constraints: l=5\n"
     ]
    }
   ],
   "source": [
    "using DynamicPolynomials, SparseArrays\n",
    "\n",
    "println(\"***Problem setting***\")\n",
    "\n",
    "n=20\n",
    "\n",
    "println(\"Number of variable: n=\",n)\n",
    "println(\"====================\")\n",
    "\n",
    "@ncpolyvar x[1:n]# variables\n",
    "\n",
    "function star_algebra(mom)\n",
    "    if mom==1\n",
    "        return mom\n",
    "    else\n",
    "        ind=mom.z .>0\n",
    "        vars=mom.vars[ind]\n",
    "        exp=mom.z[ind]\n",
    "        return prod(vars[i]^exp[i] for i in length(exp):-1:1)\n",
    "    end\n",
    "end\n",
    "\n",
    "function generate_random_poly(v)\n",
    "    lv=length(v)\n",
    "    c=2*rand(Float64,lv).-1\n",
    "    return sum(c[j]*v[j] for j in 1:lv)\n",
    "end\n",
    "# random quadratic objective function f\n",
    "v=reverse(monomials(x,2))\n",
    "v+=star_algebra.(v)\n",
    "v=v./2\n",
    "f=generate_random_poly(v)\n",
    "\n",
    "\n",
    "# unit sphere constraint\n",
    "g=[1.0-sum(x.^2)] #type of coefficients of each polynomial must be float\n",
    "\n",
    "m=length(g)\n",
    "println(\"Number of inequality constraints: m=\",m)\n",
    "println(\"====================\")\n",
    "\n",
    "l=ceil(Int64, n/4)\n",
    "\n",
    "h=Vector{Polynomial{false,Float64}}(undef,l)\n",
    "randx=2*rand(n).-1# create a feasible solution\n",
    "randx=rand(1)[1]*randx./sqrt(sum(randx.^2))\n",
    "\n",
    "\n",
    "for j in 1:l\n",
    "    h[j]=generate_random_poly(v[2:end])\n",
    "    h[j]-=h[j](x => randx) #make constraints feasible\n",
    "end\n",
    "\n",
    "l=length(h)\n",
    "println(\"Number of equality constraints: l=\",l)\n"
   ]
  },
  {
   "cell_type": "code",
   "execution_count": 14,
   "metadata": {},
   "outputs": [
    {
     "name": "stderr",
     "output_type": "stream",
     "text": [
      "WARNING: replacing module ctpNCPOP.\n"
     ]
    }
   ],
   "source": [
    "include(\"../src/ctpNCPOP.jl\")\n",
    "using .ctpNCPOP\n",
    "\n",
    "n,m,l,lmon_g,supp_g,coe_g,lmon_h,supp_h,coe_h,lmon_f,supp_f,coe_f,dg,dh=ctpNCPOP.get_info(x,f,g,h);"
   ]
  },
  {
   "cell_type": "code",
   "execution_count": 15,
   "metadata": {},
   "outputs": [
    {
     "name": "stdout",
     "output_type": "stream",
     "text": [
      "Relaxed order: k=2\n",
      "====================\n",
      "Sparse order: t=1\n"
     ]
    }
   ],
   "source": [
    "k=2\n",
    "\n",
    "println(\"Relaxed order: k=\",k)\n",
    "println(\"====================\")\n",
    "t=1\n",
    "println(\"Sparse order: t=\",t)"
   ]
  },
  {
   "cell_type": "code",
   "execution_count": 16,
   "metadata": {},
   "outputs": [
    {
     "name": "stdout",
     "output_type": "stream",
     "text": [
      "------------------------------------------------------\n",
      "The sizes of blocks:\n",
      "[401, 20]\n",
      "[1, 1]\n",
      "------------------------------------------------------\n",
      "Problem\n",
      "  Name                   :                 \n",
      "  Objective sense        : max             \n",
      "  Type                   : CONIC (conic optimization problem)\n",
      "  Constraints            : 80411           \n",
      "  Cones                  : 0               \n",
      "  Scalar variables       : 1057            \n",
      "  Matrix variables       : 3               \n",
      "  Integer variables      : 0               \n",
      "\n",
      "Optimizer started.\n",
      "Presolve started.\n",
      "Linear dependency checker started.\n",
      "Linear dependency checker terminated.\n",
      "Eliminator started.\n",
      "Freed constraints in eliminator : 0\n",
      "Eliminator terminated.\n",
      "Eliminator - tries                  : 1                 time                   : 0.00            \n",
      "Lin. dep.  - tries                  : 1                 time                   : 0.01            \n",
      "Lin. dep.  - number                 : 0               \n",
      "Presolve terminated. Time: 0.07    \n"
     ]
    },
    {
     "name": "stderr",
     "output_type": "stream",
     "text": [
      "WARNING: Force throwing a SIGINT\n"
     ]
    },
    {
     "ename": "InterruptException",
     "evalue": "InterruptException:",
     "output_type": "error",
     "traceback": [
      "InterruptException:",
      "",
      "Stacktrace:",
      " [1] macro expansion at /home/hoanganh/.julia/packages/Mosek/6LuE3/src/Mosek.jl:30 [inlined]",
      " [2] #370 at /home/hoanganh/.julia/packages/Mosek/6LuE3/src/msk_functions.jl:5487 [inlined]",
      " [3] disable_sigint at ./c.jl:446 [inlined]",
      " [4] optimize(::Mosek.Task) at /home/hoanganh/.julia/packages/Mosek/6LuE3/src/msk_functions.jl:5486",
      " [5] optimize!(::MosekTools.MosekModel) at /home/hoanganh/.julia/packages/MosekTools/sppJY/src/MosekTools.jl:272",
      " [6] optimize!(::MathOptInterface.Bridges.LazyBridgeOptimizer{MosekTools.MosekModel}) at /home/hoanganh/.julia/packages/MathOptInterface/VjkSQ/src/Bridges/bridge_optimizer.jl:264",
      " [7] optimize!(::MathOptInterface.Utilities.CachingOptimizer{MathOptInterface.AbstractOptimizer,MathOptInterface.Utilities.UniversalFallback{MathOptInterface.Utilities.Model{Float64}}}) at /home/hoanganh/.julia/packages/MathOptInterface/VjkSQ/src/Utilities/cachingoptimizer.jl:215",
      " [8] #optimize!#102(::Bool, ::Bool, ::Base.Iterators.Pairs{Union{},Union{},Tuple{},NamedTuple{(),Tuple{}}}, ::typeof(JuMP.optimize!), ::JuMP.Model, ::Nothing) at /home/hoanganh/.julia/packages/JuMP/e0Uc2/src/optimizer_interface.jl:130",
      " [9] optimize! at /home/hoanganh/.julia/packages/JuMP/e0Uc2/src/optimizer_interface.jl:106 [inlined] (repeats 2 times)",
      " [10] #ncblockcpop#165(::Int64, ::Bool, ::String, ::typeof(ncblockcpop), ::Int64, ::Array{Array{Array{UInt16,1},1},1}, ::Array{Array{Float64,1},1}, ::Array{Int64,1}, ::Array{Array{UInt16,1},1}, ::Array{Array{Array{UInt16,1},1},1}, ::Array{Array{Int64,1},1}, ::Int64, ::Array{Int64,1}, ::Array{Array{Array{UInt16,1},1},1}, ::Array{UInt16,1}, ::Array{Array{UInt16,1},1}) at /home/hoanganh/.julia/packages/NCTSSOS/wMUyi/src/nccpop.jl:438",
      " [11] (::NCTSSOS.var\"#kw##ncblockcpop\")(::NamedTuple{(:numeq, :QUIET, :obj),Tuple{Int64,Bool,String}}, ::typeof(ncblockcpop), ::Int64, ::Array{Array{Array{UInt16,1},1},1}, ::Array{Array{Float64,1},1}, ::Array{Int64,1}, ::Array{Array{UInt16,1},1}, ::Array{Array{Array{UInt16,1},1},1}, ::Array{Array{Int64,1},1}, ::Int64, ::Array{Int64,1}, ::Array{Array{Array{UInt16,1},1},1}, ::Array{UInt16,1}, ::Array{Array{UInt16,1},1}) at ./none:0",
      " [12] #nctssos_first#145(::Int64, ::Bool, ::String, ::String, ::Bool, ::Bool, ::typeof(nctssos_first), ::Array{Array{Array{UInt16,1},1},1}, ::Array{Array{Float64,1},1}, ::Int64, ::Int64, ::Array{Int64,1}) at /home/hoanganh/.julia/packages/NCTSSOS/wMUyi/src/nccpop.jl:132",
      " [13] (::NCTSSOS.var\"#kw##nctssos_first\")(::NamedTuple{(:numeq, :reducebasis, :obj, :merge, :TS, :QUIET),Tuple{Int64,Bool,String,Bool,String,Bool}}, ::typeof(nctssos_first), ::Array{Array{Array{UInt16,1},1},1}, ::Array{Array{Float64,1},1}, ::Int64, ::Int64, ::Array{Int64,1}) at ./none:0",
      " [14] macro expansion at ./In[16]:6 [inlined]",
      " [15] top-level scope at ./In[16]:2"
     ]
    }
   ],
   "source": [
    "using NCTSSOS\n",
    "\n",
    "\n",
    "@time begin\n",
    "j=1\n",
    "opt,data=nctssos_first(Vector{Vector{Vector{UInt16}}}([[supp_f];supp_g;supp_h]),[[coe_f];coe_g;coe_h],n,k,[dg;dh],numeq=l,reducebasis=false,obj=\"eigen\",merge=false,TS=\"block\",QUIET=false)\n",
    "while j <= t-1\n",
    "    opt,data=nctssos_higher!(NCTSSOS.cdata_type(data),TS=\"block\")\n",
    "end\n",
    "end\n",
    "\n"
   ]
  },
  {
   "cell_type": "code",
   "execution_count": 17,
   "metadata": {},
   "outputs": [
    {
     "name": "stdout",
     "output_type": "stream",
     "text": [
      "  Computing constant trace status: OPTIMAL\n",
      "  Constant trace: ak = 3.0\n",
      "  Number of blocks: omega="
     ]
    },
    {
     "name": "stderr",
     "output_type": "stream",
     "text": [
      "WARNING: replacing module ctpNCPOP.\n"
     ]
    },
    {
     "name": "stdout",
     "output_type": "stream",
     "text": [
      "4\n",
      "  Size of the largest block: s^max=401\n",
      "  Number of equality trace constraints: zeta=1667\n",
      "Modeling time:\n",
      "  4.467298 seconds (16.91 M allocations: 5.729 GiB, 18.26% gc time)\n",
      "iter=1   val=-10.275754800273232   gap=1.5753773213986577e-16   feas=2.6149467005057776\n",
      "iter=2   val=-3.4252516000910775   gap=0.7733440327558271   feas=0.9817046808309702\n",
      "iter=4   val=-3.639475536598281   gap=0.6405369657704308   feas=0.5949528452027811\n",
      "iter=8   val=-4.126497015484076   gap=0.27277731450604076   feas=0.43504488788325907\n",
      "iter=16   val=-3.3979608280460645   gap=0.33446632964555484   feas=0.211225698251123\n",
      "iter=32   val=-3.2229318135313587   gap=0.3215588931236793   feas=0.1129381348688042\n",
      "iter=64   val=-3.3678969255276656   gap=0.11554459282286064   feas=0.07385159942264946\n",
      "iter=128   val=-3.276286580559314   gap=0.03094024693833254   feas=0.036431286262451984\n",
      "iter=256   val=-3.1415561155200367   gap=0.061027381387416715   feas=0.015588266311423342\n",
      "iter=512   val=-3.129075753931881   gap=0.11227652689660132   feas=0.0036724746146007017\n",
      "iter=1024   val=-3.1220496537224904   gap=0.03929412041168341   feas=0.003559492350811729\n",
      "iter=2048   val=-3.1357811183157667   gap=0.021830589204636   feas=0.00196252202087171\n",
      "iter=3978   val=-3.134982200629076   gap=0.000488260669327468   feas=0.0006145574086793194\n",
      "tol satisfies!!!\n",
      "\n",
      "####################################\n",
      "opt_val = -3.134982200629076\n",
      "####################################\n",
      "Solving time:\n",
      " 25.686331 seconds (4.11 M allocations: 15.507 GiB, 3.10% gc time)\n",
      "Total time:\n",
      " 30.153944 seconds (21.02 M allocations: 21.236 GiB, 5.34% gc time)\n"
     ]
    },
    {
     "data": {
      "text/plain": [
       "-3.134982200629076"
      ]
     },
     "execution_count": 17,
     "metadata": {},
     "output_type": "execute_result"
    }
   ],
   "source": [
    "include(\"../src/ctpNCPOP.jl\")\n",
    "using .ctpNCPOP\n",
    "\n",
    "opt_val=ctpNCPOP.POP_TS_CGAL(n,m,l,lmon_g,supp_g,coe_g,lmon_h,supp_h,coe_h,lmon_f,supp_f,coe_f,dg,dh,k,t,\n",
    "                         tol=1e-3,use_eqcons_to_get_constant_trace=false)"
   ]
  },
  {
   "cell_type": "code",
   "execution_count": 18,
   "metadata": {},
   "outputs": [],
   "source": [
    "#using ctpPOP\n",
    "\n",
    "#optval=ctpPOP.POP_NLP(n,m,l,lmon_g,supp_g,coe_g,lmon_h,supp_h,coe_h,lmon_f,supp_f,coe_f)"
   ]
  },
  {
   "cell_type": "code",
   "execution_count": null,
   "metadata": {},
   "outputs": [],
   "source": []
  }
 ],
 "metadata": {
  "kernelspec": {
   "display_name": "Julia 1.3.0",
   "language": "julia",
   "name": "julia-1.3"
  },
  "language_info": {
   "file_extension": ".jl",
   "mimetype": "application/julia",
   "name": "julia",
   "version": "1.3.0"
  }
 },
 "nbformat": 4,
 "nbformat_minor": 2
}
