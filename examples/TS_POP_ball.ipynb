{
 "cells": [
  {
   "cell_type": "code",
   "execution_count": 8,
   "metadata": {},
   "outputs": [
    {
     "name": "stdout",
     "output_type": "stream",
     "text": [
      "***Problem setting***\n",
      "Number of variable: n=5\n",
      "====================\n",
      "Number of inequality constraints: m=1\n",
      "====================\n",
      "Number of equality constraints: l=2\n"
     ]
    }
   ],
   "source": [
    "using DynamicPolynomials, SparseArrays\n",
    "\n",
    "println(\"***Problem setting***\")\n",
    "\n",
    "n=5\n",
    "\n",
    "println(\"Number of variable: n=\",n)\n",
    "println(\"====================\")\n",
    "\n",
    "@polyvar x[1:n]# variables\n",
    "\n",
    "function generate_random_poly(v)\n",
    "    lv=length(v)\n",
    "    c=2*rand(Float64,lv).-1\n",
    "    return sum(c[j]*v[j] for j in 1:lv)\n",
    "end\n",
    "# random quadratic objective function f\n",
    "v=reverse(monomials(x,2))\n",
    "f=generate_random_poly(v)\n",
    "\n",
    "\n",
    "# unit sphere constraint\n",
    "g=[1.0-sum(x.^2)] #type of coefficients of each polynomial must be float\n",
    "\n",
    "m=length(g)\n",
    "println(\"Number of inequality constraints: m=\",m)\n",
    "println(\"====================\")\n",
    "\n",
    "l=ceil(Int64, n/4)\n",
    "\n",
    "h=Vector{Polynomial{true,Float64}}(undef,l)\n",
    "randx=2*rand(n).-1# create a feasible solution\n",
    "randx=rand(1)[1]*randx./sqrt(sum(randx.^2))\n",
    "\n",
    "\n",
    "for j in 1:l\n",
    "    h[j]=generate_random_poly(v[2:end])\n",
    "    h[j]-=h[j](x => randx) #make constraints feasible\n",
    "end\n",
    "\n",
    "l=length(h)\n",
    "println(\"Number of equality constraints: l=\",l)\n"
   ]
  },
  {
   "cell_type": "code",
   "execution_count": 9,
   "metadata": {},
   "outputs": [
    {
     "name": "stderr",
     "output_type": "stream",
     "text": [
      "WARNING: replacing module ctpPOP.\n"
     ]
    }
   ],
   "source": [
    "include(\"../src/ctpPOP.jl\")\n",
    "using .ctpPOP\n",
    "\n",
    "n,m,l,lmon_g,supp_g,coe_g,lmon_h,supp_h,coe_h,lmon_f,supp_f,coe_f,dg,dh=ctpPOP.get_info(x,f,g,h,sparse=false);"
   ]
  },
  {
   "cell_type": "code",
   "execution_count": 10,
   "metadata": {},
   "outputs": [
    {
     "name": "stdout",
     "output_type": "stream",
     "text": [
      "Relaxed order: k=2\n",
      "====================\n",
      "Sparse order: t=1\n"
     ]
    }
   ],
   "source": [
    "k=2\n",
    "\n",
    "println(\"Relaxed order: k=\",k)\n",
    "println(\"====================\")\n",
    "t=1\n",
    "println(\"Sparse order: t=\",t)"
   ]
  },
  {
   "cell_type": "code",
   "execution_count": 11,
   "metadata": {},
   "outputs": [
    {
     "name": "stdout",
     "output_type": "stream",
     "text": [
      "  Computing constant trace status: OPTIMAL\n",
      "  Constant trace: ak = 3.0\n",
      "  Number of blocks: omega="
     ]
    },
    {
     "name": "stderr",
     "output_type": "stream",
     "text": [
      "WARNING: replacing module ctpPOP.\n"
     ]
    },
    {
     "name": "stdout",
     "output_type": "stream",
     "text": [
      "4\n",
      "  Size of the largest block: s^max=16\n",
      "  Number of equality trace constraints: zeta=114\n",
      "Modeling time:\n",
      "  0.513487 seconds (569.55 k allocations: 29.184 MiB, 8.24% gc time)\n",
      "iter=1   val=-3.579565016741219   gap=2.909157583045339e-16   feas=3.703219850198637\n",
      "iter=2   val=-1.1931883389137399   gap=0.49758099865176814   feas=0.9704996580190388\n",
      "iter=4   val=-1.0749916451356327   gap=0.35479213130795517   feas=0.6671687973252838\n",
      "iter=8   val=-1.4277675128057306   gap=0.19649271557073955   feas=0.7512318245164814\n",
      "iter=16   val=-0.8209167006946732   gap=0.21652033463892342   feas=0.14644382392276067\n",
      "iter=32   val=-0.7306316941642405   gap=0.1495943286500052   feas=0.07542184711834668\n",
      "iter=64   val=-0.7889757964989162   gap=0.01699333608802713   feas=0.08858701110258771\n",
      "iter=128   val=-0.7838386368107848   gap=0.07006859097977103   feas=0.01101626069188409\n",
      "iter=256   val=-0.7983090232663628   gap=0.001130537918838376   feas=0.013992999120662387\n",
      "iter=512   val=-0.7934114318204264   gap=0.054065804556402204   feas=0.0017820575194120516\n",
      "iter=1024   val=-0.795326562580005   gap=0.002312177040060182   feas=0.00419540550042999\n",
      "iter=2048   val=-0.7937599341848464   gap=0.027942661657019547   feas=0.0006377336236604888\n",
      "iter=4096   val=-0.7940813110563506   gap=0.0011681632328082612   feas=0.0011339585746357663\n",
      "iter=7366   val=-0.7938012982187435   gap=0.0009882345316704218   feas=0.0004585850675781226\n",
      "tol satisfies!!!\n",
      "\n",
      "####################################\n",
      "opt_val = -0.7938012982187435\n",
      "####################################\n",
      "Solving time:\n",
      "  2.063531 seconds (2.50 M allocations: 244.676 MiB, 3.05% gc time)\n",
      "Total time:\n",
      "  2.577280 seconds (3.07 M allocations: 273.874 MiB, 4.08% gc time)\n"
     ]
    },
    {
     "data": {
      "text/plain": [
       "-0.7938012982187435"
      ]
     },
     "execution_count": 11,
     "metadata": {},
     "output_type": "execute_result"
    }
   ],
   "source": [
    "include(\"../src/ctpPOP.jl\")\n",
    "using .ctpPOP\n",
    "\n",
    "opt_val=ctpPOP.POP_TS_CGAL(n,m,l,lmon_g,supp_g,coe_g,lmon_h,supp_h,coe_h,lmon_f,supp_f,coe_f,dg,dh,k,t,\n",
    "                         maxit=Int64(1e6),tol=1e-3,\n",
    "                         use_eqcons_to_get_constant_trace=false,\n",
    "                         check_tol_each_iter=true)"
   ]
  },
  {
   "cell_type": "code",
   "execution_count": 12,
   "metadata": {},
   "outputs": [
    {
     "name": "stdout",
     "output_type": "stream",
     "text": [
      "------------------------------------------------------\n",
      "The sizes of blocks:\n",
      "[16, 5]\n",
      "[1, 1]\n",
      "------------------------------------------------------\n",
      "Problem\n",
      "  Name                   :                 \n",
      "  Objective sense        : max             \n",
      "  Type                   : CONIC (conic optimization problem)\n",
      "  Constraints            : 86              \n",
      "  Cones                  : 0               \n",
      "  Scalar variables       : 34              \n",
      "  Matrix variables       : 3               \n",
      "  Integer variables      : 0               \n",
      "\n",
      "Optimizer started.\n",
      "Presolve started.\n",
      "Linear dependency checker started.\n",
      "Linear dependency checker terminated.\n",
      "Eliminator started.\n",
      "Freed constraints in eliminator : 0\n",
      "Eliminator terminated.\n",
      "Eliminator started.\n",
      "Freed constraints in eliminator : 0\n",
      "Eliminator terminated.\n",
      "Eliminator - tries                  : 2                 time                   : 0.00            \n",
      "Lin. dep.  - tries                  : 1                 time                   : 0.00            \n",
      "Lin. dep.  - number                 : 0               \n",
      "Presolve terminated. Time: 0.00    \n",
      "Problem\n",
      "  Name                   :                 \n",
      "  Objective sense        : max             \n",
      "  Type                   : CONIC (conic optimization problem)\n",
      "  Constraints            : 86              \n",
      "  Cones                  : 0               \n",
      "  Scalar variables       : 34              \n",
      "  Matrix variables       : 3               \n",
      "  Integer variables      : 0               \n",
      "\n",
      "Optimizer  - threads                : 4               \n",
      "Optimizer  - solved problem         : the primal      \n",
      "Optimizer  - Constraints            : 86\n",
      "Optimizer  - Cones                  : 1\n",
      "Optimizer  - Scalar variables       : 35                conic                  : 34              \n",
      "Optimizer  - Semi-definite variables: 3                 scalarized             : 166             \n",
      "Factor     - setup time             : 0.00              dense det. time        : 0.00            \n",
      "Factor     - ML order time          : 0.00              GP order time          : 0.00            \n",
      "Factor     - nonzeros before factor : 3741              after factor           : 3741            \n",
      "Factor     - dense dim.             : 0                 flops                  : 2.98e+05        \n",
      "ITE PFEAS    DFEAS    GFEAS    PRSTATUS   POBJ              DOBJ              MU       TIME  \n",
      "0   2.7e+00  1.0e+00  1.0e+00  0.00e+00   0.000000000e+00   0.000000000e+00   1.0e+00  0.00  \n",
      "1   1.1e+00  4.1e-01  2.4e-01  4.10e-01   -7.453591130e-01  -6.620771813e-01  4.1e-01  0.00  \n",
      "2   2.6e-01  9.7e-02  2.1e-02  1.59e+00   -6.282446287e-01  -6.006095386e-01  9.7e-02  0.00  \n",
      "3   3.5e-02  1.3e-02  1.2e-03  1.09e+00   -7.895616692e-01  -7.881529669e-01  1.3e-02  0.00  \n",
      "4   2.3e-03  8.5e-04  2.1e-05  1.05e+00   -7.924671193e-01  -7.924228611e-01  8.5e-04  0.01  \n",
      "5   6.6e-05  2.4e-05  1.0e-07  9.97e-01   -7.935450165e-01  -7.935444340e-01  2.4e-05  0.01  \n",
      "6   3.9e-06  1.4e-06  1.5e-09  1.00e+00   -7.935532805e-01  -7.935532458e-01  1.4e-06  0.01  \n",
      "7   2.1e-07  7.8e-08  1.9e-11  1.00e+00   -7.935531401e-01  -7.935531382e-01  7.8e-08  0.01  \n",
      "8   1.5e-08  5.7e-09  3.6e-13  1.00e+00   -7.935531282e-01  -7.935531281e-01  5.6e-09  0.01  \n",
      "Optimizer terminated. Time: 0.01    \n",
      "\n",
      "optimum = -0.7935531282106204\n",
      "  0.016228 seconds (40.10 k allocations: 3.438 MiB)\n"
     ]
    }
   ],
   "source": [
    "using TSSOS\n",
    "\n",
    "@time tssos_first([[f];g;h],x,k,numeq=length(h),TS=\"block\",quotient=false);"
   ]
  },
  {
   "cell_type": "code",
   "execution_count": 13,
   "metadata": {},
   "outputs": [
    {
     "name": "stdout",
     "output_type": "stream",
     "text": [
      "This is Ipopt version 3.13.2, running with linear solver mumps.\n",
      "NOTE: Other linear solvers might be more efficient (see Ipopt documentation).\n",
      "\n",
      "Number of nonzeros in equality constraint Jacobian...:       48\n",
      "Number of nonzeros in inequality constraint Jacobian.:        5\n",
      "Number of nonzeros in Lagrangian Hessian.............:       48\n",
      "\n",
      "Total number of variables............................:        5\n",
      "                     variables with only lower bounds:        0\n",
      "                variables with lower and upper bounds:        0\n",
      "                     variables with only upper bounds:        0\n",
      "Total number of equality constraints.................:        2\n",
      "Total number of inequality constraints...............:        1\n",
      "        inequality constraints with only lower bounds:        1\n",
      "   inequality constraints with lower and upper bounds:        0\n",
      "        inequality constraints with only upper bounds:        0\n",
      "\n",
      "iter    objective    inf_pr   inf_du lg(mu)  ||d||  lg(rg) alpha_du alpha_pr  ls\n",
      "   0  0.0000000e+00 1.19e-03 1.00e+00  -1.0 0.00e+00    -  0.00e+00 0.00e+00   0\n",
      "   1  0.0000000e+00 1.19e-03 2.08e-07  -1.7 7.52e-11   2.0 1.00e+00 1.00e+00s 22\n",
      "   2  0.0000000e+00 1.19e-03 1.06e-04  -3.8 9.71e-11   6.0 1.00e+00 1.00e+00s 22\n",
      "   3  0.0000000e+00 1.19e-03 6.33e-05  -5.7 2.17e-11   6.5 1.00e+00 1.00e+00s 22\n",
      "   4  0.0000000e+00 1.19e-03 8.54e-06  -5.7 1.37e-13   7.8 1.00e+00 1.00e+00s 22\n",
      "   5  0.0000000e+00 1.19e-03 3.51e-07  -5.7 1.69e-14   7.3 1.00e+00 1.00e+00s 22\n",
      "   6r 0.0000000e+00 1.19e-03 9.99e+02  -2.9 0.00e+00   7.7 0.00e+00 0.00e+00R  1\n",
      "   7r 0.0000000e+00 1.19e-03 1.19e-08  -2.9 2.82e-12    -  1.00e+00 1.00e+00h  1\n",
      "   8r 0.0000000e+00 1.19e-03 8.90e-02  -6.6 1.19e-06   4.0 1.00e+00 9.94e-01f  1\n",
      "   9r 0.0000000e+00 1.19e-03 2.51e-05  -6.6 7.54e-09   3.5 1.00e+00 1.00e+00f  1\n",
      "iter    objective    inf_pr   inf_du lg(mu)  ||d||  lg(rg) alpha_du alpha_pr  ls\n",
      "  10r 0.0000000e+00 1.19e-03 7.96e-10  -6.6 8.93e-14   3.9 1.00e+00 1.00e+00h  1\n",
      "  11r 0.0000000e+00 1.19e-03 6.19e-06  -9.0 2.61e-10   4.4 1.00e+00 1.00e+00f  1\n",
      "\n",
      "Number of Iterations....: 11\n",
      "\n",
      "                                   (scaled)                 (unscaled)\n",
      "Objective...............:   0.0000000000000000e+00    0.0000000000000000e+00\n",
      "Dual infeasibility......:   1.0167460800897811e-14    1.0167460800897811e-14\n",
      "Constraint violation....:   1.1877929211668791e-03    1.1877929211668791e-03\n",
      "Complementarity.........:   9.0909090909090910e-10    9.0909090909090910e-10\n",
      "Overall NLP error.......:   1.1877929211668791e-03    1.1877929211668791e-03\n",
      "\n",
      "\n",
      "Number of objective function evaluations             = 78\n",
      "Number of objective gradient evaluations             = 8\n",
      "Number of equality constraint evaluations            = 78\n",
      "Number of inequality constraint evaluations          = 78\n",
      "Number of equality constraint Jacobian evaluations   = 14\n",
      "Number of inequality constraint Jacobian evaluations = 14\n",
      "Number of Lagrangian Hessian evaluations             = 12\n",
      "Total CPU secs in IPOPT (w/o function evaluations)   =      0.013\n",
      "Total CPU secs in NLP function evaluations           =      0.001\n",
      "\n",
      "EXIT: Converged to a point of local infeasibility. Problem may be infeasible.\n",
      "LOCALLY_INFEASIBLE\n",
      "opt_val=0.0\n",
      "  0.024156 seconds (4.64 k allocations: 343.906 KiB)\n"
     ]
    },
    {
     "name": "stderr",
     "output_type": "stream",
     "text": [
      "WARNING: replacing module ctpPOP.\n"
     ]
    },
    {
     "data": {
      "text/plain": [
       "0.0"
      ]
     },
     "execution_count": 13,
     "metadata": {},
     "output_type": "execute_result"
    }
   ],
   "source": [
    "include(\"../src/ctpPOP.jl\")\n",
    "using .ctpPOP\n",
    "\n",
    "optval=ctpPOP.POP_NLP(n,m,l,lmon_g,supp_g,coe_g,lmon_h,supp_h,coe_h,lmon_f,supp_f,coe_f)"
   ]
  },
  {
   "cell_type": "code",
   "execution_count": null,
   "metadata": {},
   "outputs": [],
   "source": []
  }
 ],
 "metadata": {
  "kernelspec": {
   "display_name": "Julia 1.3.0",
   "language": "julia",
   "name": "julia-1.3"
  },
  "language_info": {
   "file_extension": ".jl",
   "mimetype": "application/julia",
   "name": "julia",
   "version": "1.3.0"
  }
 },
 "nbformat": 4,
 "nbformat_minor": 2
}
