{
 "cells": [
  {
   "cell_type": "code",
   "execution_count": 1,
   "metadata": {},
   "outputs": [
    {
     "data": {
      "text/plain": [
       "1-element Array{Polynomial{false,Float64},1}:\n",
       " x₁x₂ + x₂x₁ + 1.0"
      ]
     },
     "execution_count": 1,
     "metadata": {},
     "output_type": "execute_result"
    }
   ],
   "source": [
    "using DynamicPolynomials\n",
    "\n",
    "@ncpolyvar x[1:2]\n",
    "f = 2.0+x[1]^2+x[1]*x[2]+x[2]*x[1]+x[2]^2\n",
    "g = [1.0-x[1]^2-x[2]^2]\n",
    "#h = Vector{Polynomial{false,Float64}}([])\n",
    "h = [x[1]*x[2]+x[2]*x[1]+1.0]"
   ]
  },
  {
   "cell_type": "code",
   "execution_count": 14,
   "metadata": {},
   "outputs": [
    {
     "data": {
      "text/plain": [
       "LinearAlgebra.Symmetric{VariableRef,Array{VariableRef,2}}"
      ]
     },
     "execution_count": 14,
     "metadata": {},
     "output_type": "execute_result"
    }
   ],
   "source": [
    "using JuMP, Mosek\n",
    "\n",
    "model = Model(with_optimizer(Mosek.Optimizer, QUIET=false))\n",
    "G0=@variable(model, [1:3,1:3], PSD)\n",
    "\n",
    "typeof(G0)"
   ]
  },
  {
   "cell_type": "code",
   "execution_count": 4,
   "metadata": {},
   "outputs": [
    {
     "name": "stderr",
     "output_type": "stream",
     "text": [
      "WARNING: replacing module ctpNCPOP.\n"
     ]
    },
    {
     "data": {
      "text/plain": [
       "(5, Array{UInt64,1}[[0x0000000000000001, 0x0000000000000001], [0x0000000000000001, 0x0000000000000002], [0x0000000000000002, 0x0000000000000002], [0x0000000000000002, 0x0000000000000001], []], [1.0, 1.0, 1.0, 1.0, 2.0])"
      ]
     },
     "execution_count": 4,
     "metadata": {},
     "output_type": "execute_result"
    }
   ],
   "source": [
    "include(\"../src/ctpNCPOP.jl\")\n",
    "using .ctpNCPOP\n",
    "\n",
    "lm, supp, coe=ctpNCPOP.info(f,x,2)"
   ]
  },
  {
   "cell_type": "code",
   "execution_count": 10,
   "metadata": {},
   "outputs": [
    {
     "data": {
      "text/plain": [
       "2-element Array{Int64,1}:\n",
       " 1\n",
       " 2"
      ]
     },
     "execution_count": 10,
     "metadata": {},
     "output_type": "execute_result"
    }
   ],
   "source": [
    "using SparseArrays\n",
    "supp=sparse([5 0;0 1;0 0])\n",
    "unique(supp.rowval)"
   ]
  },
  {
   "cell_type": "code",
   "execution_count": 22,
   "metadata": {},
   "outputs": [
    {
     "data": {
      "text/plain": [
       "3-element Array{UInt64,1}:\n",
       " 0x0000000000000001\n",
       " 0x0000000000000003\n",
       " 0x0000000000000002"
      ]
     },
     "execution_count": 22,
     "metadata": {},
     "output_type": "execute_result"
    }
   ],
   "source": [
    "ctpNCPOP._sym_canon(Vector{UInt64}([2;3;1]))"
   ]
  },
  {
   "cell_type": "code",
   "execution_count": 24,
   "metadata": {},
   "outputs": [
    {
     "data": {
      "text/plain": [
       "true"
      ]
     },
     "execution_count": 24,
     "metadata": {},
     "output_type": "execute_result"
    }
   ],
   "source": [
    "A=[1; 2]\n",
    "B=[1; 2]\n",
    "\n",
    "A==B"
   ]
  },
  {
   "cell_type": "code",
   "execution_count": null,
   "metadata": {},
   "outputs": [],
   "source": []
  },
  {
   "cell_type": "code",
   "execution_count": 161,
   "metadata": {},
   "outputs": [
    {
     "data": {
      "text/plain": [
       "7-element Array{Polynomial{false,Float64},1}:\n",
       " 1.0              \n",
       " x₂               \n",
       " x₁               \n",
       " 0.5x₁x₂ + 0.5x₂x₁\n",
       " x₂²              \n",
       " 0.5x₁x₂ + 0.5x₂x₁\n",
       " x₁²              "
      ]
     },
     "execution_count": 161,
     "metadata": {},
     "output_type": "execute_result"
    }
   ],
   "source": [
    "@ncpolyvar x[1:2]\n",
    "v=reverse(monomials(x,0:2))\n",
    "\n",
    "function star_algebra(mom)\n",
    "    if mom==1\n",
    "        return mom\n",
    "    else\n",
    "        ind=mom.z .>0\n",
    "        vars=mom.vars[ind]\n",
    "        exp=mom.z[ind]\n",
    "        return prod(vars[i]^exp[i] for i in length(exp):-1:1)\n",
    "    end\n",
    "end\n",
    "\n",
    "v=reverse(monomials(x,0:2))\n",
    "v+=star_algebra.(v)\n",
    "v=v./2"
   ]
  },
  {
   "cell_type": "code",
   "execution_count": 159,
   "metadata": {},
   "outputs": [
    {
     "ename": "ArgumentError",
     "evalue": "ArgumentError: reducing over an empty collection is not allowed",
     "output_type": "error",
     "traceback": [
      "ArgumentError: reducing over an empty collection is not allowed",
      "",
      "Stacktrace:",
      " [1] _empty_reduce_error() at ./reduce.jl:212",
      " [2] mapreduce_empty_iter(::Function, ::Function, ::Base.Generator{StepRange{Int64,Int64},var\"#11#12\"{Array{PolyVar{false},1},Array{Int64,1}}}, ::Base.EltypeUnknown) at ./reduce.jl:257",
      " [3] mapfoldl_impl at ./reduce.jl:57 [inlined]",
      " [4] #mapfoldl#186 at ./reduce.jl:72 [inlined]",
      " [5] mapfoldl at ./reduce.jl:72 [inlined]",
      " [6] #mapreduce#194 at ./reduce.jl:200 [inlined]",
      " [7] mapreduce at ./reduce.jl:200 [inlined]",
      " [8] prod at ./reduce.jl:448 [inlined]",
      " [9] star_algebra(::Monomial{false}) at ./In[157]:8",
      " [10] top-level scope at In[159]:1"
     ]
    }
   ],
   "source": [
    "star_algebra(v[1])"
   ]
  },
  {
   "cell_type": "code",
   "execution_count": 149,
   "metadata": {},
   "outputs": [
    {
     "data": {
      "text/latex": [
       "$$ x_{1}^{2}x_{3}x_{2} $$"
      ],
      "text/plain": [
       "x₁²x₃x₂"
      ]
     },
     "execution_count": 149,
     "metadata": {},
     "output_type": "execute_result"
    }
   ],
   "source": [
    "v[17]"
   ]
  },
  {
   "cell_type": "code",
   "execution_count": 150,
   "metadata": {},
   "outputs": [
    {
     "data": {
      "text/plain": [
       "3-element BitArray{1}:\n",
       " 1\n",
       " 1\n",
       " 1"
      ]
     },
     "execution_count": 150,
     "metadata": {},
     "output_type": "execute_result"
    }
   ],
   "source": [
    "ind=v[17].z .>0"
   ]
  },
  {
   "cell_type": "code",
   "execution_count": 153,
   "metadata": {},
   "outputs": [
    {
     "data": {
      "text/plain": [
       "3-element BitArray{1}:\n",
       " 1\n",
       " 1\n",
       " 1"
      ]
     },
     "execution_count": 153,
     "metadata": {},
     "output_type": "execute_result"
    }
   ],
   "source": [
    "ind"
   ]
  },
  {
   "cell_type": "code",
   "execution_count": 151,
   "metadata": {},
   "outputs": [
    {
     "data": {
      "text/plain": [
       "3-element Array{PolyVar{false},1}:\n",
       " x₁\n",
       " x₃\n",
       " x₂"
      ]
     },
     "execution_count": 151,
     "metadata": {},
     "output_type": "execute_result"
    }
   ],
   "source": [
    "vars=v[17].vars[ind]"
   ]
  },
  {
   "cell_type": "code",
   "execution_count": 152,
   "metadata": {},
   "outputs": [
    {
     "data": {
      "text/plain": [
       "3-element Array{Int64,1}:\n",
       " 2\n",
       " 1\n",
       " 1"
      ]
     },
     "execution_count": 152,
     "metadata": {},
     "output_type": "execute_result"
    }
   ],
   "source": [
    "exp=v[17].z[ind]"
   ]
  },
  {
   "cell_type": "code",
   "execution_count": 154,
   "metadata": {},
   "outputs": [
    {
     "data": {
      "text/latex": [
       "$$ x_{2}x_{3}x_{1}^{2} $$"
      ],
      "text/plain": [
       "x₂x₃x₁²"
      ]
     },
     "execution_count": 154,
     "metadata": {},
     "output_type": "execute_result"
    }
   ],
   "source": [
    "prod(vars[i]^exp[i] for i in length(exp):-1:1)"
   ]
  },
  {
   "cell_type": "code",
   "execution_count": 117,
   "metadata": {},
   "outputs": [
    {
     "name": "stdout",
     "output_type": "stream",
     "text": [
      "Relaxation order: k=2\n"
     ]
    }
   ],
   "source": [
    "k=2\n",
    "println(\"Relaxation order: k=\",k)"
   ]
  },
  {
   "cell_type": "code",
   "execution_count": 118,
   "metadata": {},
   "outputs": [
    {
     "name": "stderr",
     "output_type": "stream",
     "text": [
      "WARNING: replacing module ctpNCPOP.\n"
     ]
    }
   ],
   "source": [
    "include(\"../src/ctpNCPOP.jl\")\n",
    "using .ctpNCPOP\n",
    "\n",
    "n,m,l,lmon_g,supp_g,coe_g,lmon_h,supp_h,coe_h,lmon_f,supp_f,coe_f,dg,dh=ctpNCPOP.get_info(x,f,g,h,sparse=false);"
   ]
  },
  {
   "cell_type": "code",
   "execution_count": 119,
   "metadata": {},
   "outputs": [
    {
     "name": "stdout",
     "output_type": "stream",
     "text": [
      "  Computing constant trace status: OPTIMAL\n",
      "  Constant trace: ak = 3.0\n",
      "  Number of blocks: omega=2\n",
      "  Size of the largest block: s^max=7\n",
      "  Number of equality trace constraints: zeta="
     ]
    },
    {
     "name": "stderr",
     "output_type": "stream",
     "text": [
      "WARNING: replacing module ctpNCPOP.\n"
     ]
    },
    {
     "name": "stdout",
     "output_type": "stream",
     "text": [
      "19\n",
      "Modeling time:\n",
      "  0.129656 seconds (153.99 k allocations: 7.798 MiB)\n",
      "iter=1   val=-5.887846720064157e-17   gap=5.357819291094374e-17   feas=2.190972608948529\n",
      "iter=2   val=0.1084770103411627   gap=0.5219975339610938   feas=1.8757430557536698\n",
      "iter=4   val=1.7947554537973327   gap=1.249051612408578   feas=0.5123625241106545\n",
      "iter=8   val=1.742144500141759   gap=1.0248897823639014   feas=0.452140292586313\n",
      "iter=16   val=1.7283210967697304   gap=0.585241557273317   feas=0.30066718006710363\n",
      "iter=32   val=1.850231571082291   gap=0.36787980665967623   feas=0.16441235381368594\n",
      "iter=64   val=2.0078396591295067   gap=0.026654888707663877   feas=0.07427882335106706\n",
      "iter=128   val=1.97839146978514   gap=0.12898422162116957   feas=0.03768912162327496\n",
      "iter=256   val=2.0062088333365704   gap=0.04662224530463259   feas=0.01779490644401029\n",
      "iter=512   val=1.9949638100054596   gap=0.004786263070253096   feas=0.009614209985758139\n",
      "iter=1024   val=2.0017886267613587   gap=0.033500972983920185   feas=0.004255561051190494\n",
      "iter=2048   val=1.9989086600617663   gap=0.0011452798603651137   feas=0.002493839178294809\n",
      "iter=4096   val=2.0004196819052193   gap=0.016302505333779423   feas=0.0010057651079407775\n",
      "iter=5252   val=1.9995613656703728   gap=0.0004998650474268557   feas=0.0009999090438152097\n",
      "tol satisfies!!!\n",
      "\n",
      "####################################\n",
      "opt_val = 1.9995613656703728\n",
      "####################################\n",
      "Solving time:\n",
      "  0.640382 seconds (1.03 M allocations: 66.233 MiB, 5.27% gc time)\n",
      "Total time:\n",
      "  0.770258 seconds (1.18 M allocations: 74.044 MiB, 4.38% gc time)\n"
     ]
    },
    {
     "data": {
      "text/plain": [
       "1.9995613656703728"
      ]
     },
     "execution_count": 119,
     "metadata": {},
     "output_type": "execute_result"
    }
   ],
   "source": [
    "include(\"../src/ctpNCPOP.jl\")\n",
    "using .ctpNCPOP\n",
    "\n",
    "opt_val1=ctpNCPOP.POP_dense_CGAL(n,m,l,lmon_g,supp_g,coe_g,lmon_h,supp_h,coe_h,lmon_f,supp_f,coe_f,dg,dh,k,\n",
    "                                 maxit=Int64(1e6),tol=1e-3,\n",
    "                                 use_eqcons_to_get_constant_trace=false,\n",
    "                                 check_tol_each_iter=true)"
   ]
  },
  {
   "cell_type": "code",
   "execution_count": null,
   "metadata": {},
   "outputs": [],
   "source": []
  },
  {
   "cell_type": "code",
   "execution_count": 120,
   "metadata": {},
   "outputs": [
    {
     "name": "stdout",
     "output_type": "stream",
     "text": [
      "------------------------------------------------------\n",
      "The sizes of blocks:\n",
      "[7]\n",
      "[1]\n",
      "------------------------------------------------------\n",
      "Problem\n",
      "  Name                   :                 \n",
      "  Objective sense        : max             \n",
      "  Type                   : CONIC (conic optimization problem)\n",
      "  Constraints            : 22              \n",
      "  Cones                  : 0               \n",
      "  Scalar variables       : 7               \n",
      "  Matrix variables       : 2               \n",
      "  Integer variables      : 0               \n",
      "\n",
      "Optimizer started.\n",
      "Presolve started.\n",
      "Linear dependency checker started.\n",
      "Linear dependency checker terminated.\n",
      "Eliminator started.\n",
      "Freed constraints in eliminator : 0\n",
      "Eliminator terminated.\n",
      "Eliminator started.\n",
      "Freed constraints in eliminator : 0\n",
      "Eliminator terminated.\n",
      "Eliminator - tries                  : 2                 time                   : 0.00            \n",
      "Lin. dep.  - tries                  : 1                 time                   : 0.00            \n",
      "Lin. dep.  - number                 : 0               \n",
      "Presolve terminated. Time: 0.00    \n",
      "Problem\n",
      "  Name                   :                 \n",
      "  Objective sense        : max             \n",
      "  Type                   : CONIC (conic optimization problem)\n",
      "  Constraints            : 22              \n",
      "  Cones                  : 0               \n",
      "  Scalar variables       : 7               \n",
      "  Matrix variables       : 2               \n",
      "  Integer variables      : 0               \n",
      "\n",
      "Optimizer  - threads                : 4               \n",
      "Optimizer  - solved problem         : the primal      \n",
      "Optimizer  - Constraints            : 22\n",
      "Optimizer  - Cones                  : 1\n",
      "Optimizer  - Scalar variables       : 8                 conic                  : 8               \n",
      "Optimizer  - Semi-definite variables: 2                 scalarized             : 34              \n",
      "Factor     - setup time             : 0.00              dense det. time        : 0.00            \n",
      "Factor     - ML order time          : 0.00              GP order time          : 0.00            \n",
      "Factor     - nonzeros before factor : 253               after factor           : 253             \n",
      "Factor     - dense dim.             : 0                 flops                  : 7.32e+03        \n",
      "ITE PFEAS    DFEAS    GFEAS    PRSTATUS   POBJ              DOBJ              MU       TIME  \n",
      "0   5.0e-01  1.0e+00  1.0e+00  0.00e+00   0.000000000e+00   0.000000000e+00   1.0e+00  0.00  \n",
      "1   1.8e-01  3.6e-01  2.3e-01  9.33e-01   6.813554659e-01   6.476996932e-01   3.6e-01  0.00  \n",
      "2   3.3e-02  6.6e-02  3.7e-02  2.30e-01   1.939798209e+00   1.753464304e+00   6.6e-02  0.00  \n",
      "3   4.7e-04  9.4e-04  6.5e-05  9.65e-01   1.998940133e+00   1.995931855e+00   9.4e-04  0.00  \n",
      "4   1.2e-05  2.3e-05  2.1e-07  1.03e+00   1.999919599e+00   1.999884902e+00   2.3e-05  0.00  \n",
      "5   9.8e-07  2.0e-06  4.7e-09  1.07e+00   1.999992431e+00   1.999990380e+00   2.0e-06  0.00  \n",
      "6   2.6e-08  5.2e-08  1.9e-11  1.02e+00   1.999999784e+00   1.999999743e+00   5.2e-08  0.00  \n",
      "7   2.4e-10  5.1e-10  1.5e-14  1.01e+00   1.999999998e+00   1.999999998e+00   4.7e-10  0.00  \n",
      "Optimizer terminated. Time: 0.00    \n",
      "\n",
      "optimum = 1.9999999976517298\n"
     ]
    }
   ],
   "source": [
    "using NCTSSOS\n",
    "\n",
    "opt,data = nctssos_first([f; g; h], x, k, numeq=1, TS=false, obj=\"eigen\");"
   ]
  },
  {
   "cell_type": "code",
   "execution_count": null,
   "metadata": {},
   "outputs": [],
   "source": []
  }
 ],
 "metadata": {
  "kernelspec": {
   "display_name": "Julia 1.3.0",
   "language": "julia",
   "name": "julia-1.3"
  },
  "language_info": {
   "file_extension": ".jl",
   "mimetype": "application/julia",
   "name": "julia",
   "version": "1.3.0"
  }
 },
 "nbformat": 4,
 "nbformat_minor": 2
}
