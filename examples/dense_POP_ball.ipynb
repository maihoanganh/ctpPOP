{
 "cells": [
  {
   "cell_type": "code",
   "execution_count": 1,
   "metadata": {},
   "outputs": [
    {
     "name": "stderr",
     "output_type": "stream",
     "text": [
      "┌ Info: Precompiling DynamicPolynomials [7c1d4256-1411-5781-91ec-d7bc3513ac07]\n",
      "└ @ Base loading.jl:1273\n"
     ]
    },
    {
     "name": "stdout",
     "output_type": "stream",
     "text": [
      "***Problem setting***\n",
      "Number of variable: n=5\n",
      "====================\n",
      "Number of inequality constraints: m=1\n",
      "====================\n",
      "Number of equality constraints: l=0\n"
     ]
    }
   ],
   "source": [
    "using DynamicPolynomials\n",
    "\n",
    "println(\"***Problem setting***\")\n",
    "\n",
    "n=5\n",
    "\n",
    "println(\"Number of variable: n=\",n)\n",
    "println(\"====================\")\n",
    "\n",
    "@polyvar x[1:n]# variables\n",
    "\n",
    "function generate_random_poly(v)\n",
    "    c=2*rand(Float64,length(v)).-1\n",
    "    return c'*v\n",
    "end\n",
    "# random quadratic objective function f\n",
    "v=reverse(monomials(x,0:2))\n",
    "f=generate_random_poly(v)\n",
    "\n",
    "\n",
    "# unit sphere constraint\n",
    "g=[1.0-sum(x.^2)] #type of coefficients of each polynomial must be float\n",
    "\n",
    "m=length(g)\n",
    "println(\"Number of inequality constraints: m=\",m)\n",
    "println(\"====================\")\n",
    "\n",
    "l=0#ceil(Int64, n/4)\n",
    "\n",
    "h=Vector{Polynomial{true,Float64}}(undef,l)\n",
    "randx=2*rand(n).-1# create a feasible solution\n",
    "randx=rand(1)[1]*randx./sqrt(sum(randx.^2))\n",
    "\n",
    "\n",
    "for j in 1:l\n",
    "    h[j]=generate_random_poly(v[2:end])\n",
    "    h[j]-=h[j](x => randx) #make constraints feasible\n",
    "end\n",
    "\n",
    "l=length(h)\n",
    "println(\"Number of equality constraints: l=\",l)"
   ]
  },
  {
   "cell_type": "code",
   "execution_count": 2,
   "metadata": {},
   "outputs": [
    {
     "name": "stderr",
     "output_type": "stream",
     "text": [
      "┌ Info: Precompiling ctpPOP [5c31df1e-377b-494c-ac18-a4b44b7ffaff]\n",
      "└ @ Base loading.jl:1273\n"
     ]
    }
   ],
   "source": [
    "using ctpPOP\n",
    "\n",
    "n,m,l,lmon_g,supp_g,coe_g,lmon_h,supp_h,coe_h,lmon_f,supp_f,coe_f,dg,dh=ctpPOP.get_info(x,f,g,h,sparse=false);"
   ]
  },
  {
   "cell_type": "code",
   "execution_count": 3,
   "metadata": {},
   "outputs": [
    {
     "name": "stdout",
     "output_type": "stream",
     "text": [
      "Relaxation order: k=2\n"
     ]
    }
   ],
   "source": [
    "\n",
    "k=2\n",
    "\n",
    "println(\"Relaxation order: k=\",k)"
   ]
  },
  {
   "cell_type": "code",
   "execution_count": 4,
   "metadata": {},
   "outputs": [
    {
     "name": "stderr",
     "output_type": "stream",
     "text": [
      "┌ Warning: `with_optimizer` is deprecated. Adapt the following example to update your code:\n",
      "│ `with_optimizer(Ipopt.Optimizer, max_cpu_time=60.0)` becomes `optimizer_with_attributes(Ipopt.Optimizer, \"max_cpu_time\" => 60.0)`.\n",
      "│   caller = ip:0x0\n",
      "└ @ Core :-1\n"
     ]
    },
    {
     "name": "stdout",
     "output_type": "stream",
     "text": [
      "  Computing constant trace status: OPTIMAL\n",
      "  Constant trace: ak = 3.0\n",
      "  Number of blocks: omega=2\n",
      "  Size of the largest block: s^max=21\n",
      "  Number of equality trace constraints: zeta=127\n",
      "Modeling time:\n",
      " 17.073670 seconds (49.70 M allocations: 2.443 GiB, 6.19% gc time)\n",
      "iter=1   val=-1.8770244197410182   gap=0.1883051545172064   feas=1.8255481839515784\n",
      "iter=2   val=-0.7934221428372792   gap=0.4395860803426899   feas=0.8435240798406108\n",
      "iter=4   val=-1.1132679394328377   gap=0.21844759216055748   feas=0.5099693027573341\n",
      "iter=8   val=-1.105458738703054   gap=0.11060945795488557   feas=0.18927435442053742\n",
      "iter=16   val=-1.1837263898251755   gap=0.012900333768533981   feas=0.04521887331257348\n",
      "iter=32   val=-1.2077865799511422   gap=0.005396920076370289   feas=0.011253702788155647\n",
      "iter=64   val=-1.2140411822166792   gap=0.001507954947676922   feas=0.002856413941108966\n",
      "iter=109   val=-1.2154249580687237   gap=0.0005788220390674539   feas=0.000991049099015821\n",
      "tol satisfies!!!\n",
      "\n",
      "####################################\n",
      "opt_val = -1.2154249580687237\n",
      "####################################\n",
      "Solving time:\n",
      "  0.365567 seconds (1.15 M allocations: 61.528 MiB)\n",
      "Total time:\n",
      " 17.474514 seconds (50.89 M allocations: 2.505 GiB, 6.04% gc time)\n"
     ]
    },
    {
     "data": {
      "text/plain": [
       "-1.2154249580687237"
      ]
     },
     "execution_count": 4,
     "metadata": {},
     "output_type": "execute_result"
    }
   ],
   "source": [
    "using ctpPOP\n",
    "\n",
    "opt_val1=ctpPOP.POP_dense_CGAL(n,m,l,lmon_g,supp_g,coe_g,lmon_h,supp_h,coe_h,lmon_f,supp_f,coe_f,dg,dh,k,\n",
    "                         maxit=Int64(1e6),tol=1e-3,\n",
    "                         use_eqcons_to_get_constant_trace=false,\n",
    "                         check_tol_each_iter=true)"
   ]
  },
  {
   "cell_type": "code",
   "execution_count": 5,
   "metadata": {},
   "outputs": [
    {
     "name": "stdout",
     "output_type": "stream",
     "text": [
      "Problem\n",
      "  Name                   :                 \n",
      "  Objective sense        : max             \n",
      "  Type                   : CONIC (conic optimization problem)\n",
      "  Constraints            : 126             \n",
      "  Cones                  : 0               \n",
      "  Scalar variables       : 1               \n",
      "  Matrix variables       : 2               \n",
      "  Integer variables      : 0               \n",
      "\n",
      "Optimizer started.\n",
      "Presolve started.\n",
      "Linear dependency checker started.\n",
      "Linear dependency checker terminated.\n",
      "Eliminator started.\n",
      "Freed constraints in eliminator : 0\n",
      "Eliminator terminated.\n",
      "Eliminator - tries                  : 1                 time                   : 0.00            \n",
      "Lin. dep.  - tries                  : 1                 time                   : 0.00            \n",
      "Lin. dep.  - number                 : 0               \n",
      "Presolve terminated. Time: 0.00    \n",
      "Problem\n",
      "  Name                   :                 \n",
      "  Objective sense        : max             \n",
      "  Type                   : CONIC (conic optimization problem)\n",
      "  Constraints            : 126             \n",
      "  Cones                  : 0               \n",
      "  Scalar variables       : 1               \n",
      "  Matrix variables       : 2               \n",
      "  Integer variables      : 0               \n",
      "\n",
      "Optimizer  - threads                : 4               \n",
      "Optimizer  - solved problem         : the primal      \n",
      "Optimizer  - Constraints            : 126\n",
      "Optimizer  - Cones                  : 1\n",
      "Optimizer  - Scalar variables       : 2                 conic                  : 2               \n",
      "Optimizer  - Semi-definite variables: 2                 scalarized             : 252             \n",
      "Factor     - setup time             : 0.00              dense det. time        : 0.00            \n",
      "Factor     - ML order time          : 0.00              GP order time          : 0.00            \n",
      "Factor     - nonzeros before factor : 8001              after factor           : 8001            \n",
      "Factor     - dense dim.             : 0                 flops                  : 8.46e+05        \n",
      "ITE PFEAS    DFEAS    GFEAS    PRSTATUS   POBJ              DOBJ              MU       TIME  \n",
      "0   1.6e+00  1.0e+00  1.0e+00  0.00e+00   0.000000000e+00   0.000000000e+00   1.0e+00  0.00  \n",
      "1   4.5e-01  2.8e-01  1.6e-01  4.27e-01   -8.739566920e-01  -8.539322116e-01  2.8e-01  0.00  \n",
      "2   7.3e-02  4.6e-02  9.5e-03  1.25e+00   -1.076006745e+00  -1.070982773e+00  4.6e-02  0.00  \n",
      "3   2.5e-03  1.6e-03  7.6e-05  1.00e+00   -1.215660233e+00  -1.216315814e+00  1.6e-03  0.00  \n",
      "4   5.9e-07  3.7e-07  2.0e-10  1.00e+00   -1.216159516e+00  -1.216159425e+00  3.7e-07  0.00  \n",
      "5   1.9e-08  1.2e-08  1.2e-12  9.99e-01   -1.216160182e+00  -1.216160179e+00  1.2e-08  0.01  \n",
      "Optimizer terminated. Time: 0.01    \n",
      "\n",
      "OPTIMAL\n",
      "opt_val=-1.216160181623996\n",
      "  5.574721 seconds (13.43 M allocations: 694.596 MiB, 3.32% gc time)\n"
     ]
    },
    {
     "data": {
      "text/plain": [
       "-1.216160181623996"
      ]
     },
     "execution_count": 5,
     "metadata": {},
     "output_type": "execute_result"
    }
   ],
   "source": [
    "using ctpPOP\n",
    "\n",
    "opt_val2=ctpPOP.POP_dense_SOS(x,f,g,h,k,tol=1e-3)"
   ]
  },
  {
   "cell_type": "code",
   "execution_count": 6,
   "metadata": {},
   "outputs": [
    {
     "name": "stdout",
     "output_type": "stream",
     "text": [
      "  Computing constant trace status: OPTIMAL\n",
      "  Constant trace: ak = 3.0\n",
      "  Number of blocks: omega=2\n",
      "  Size of the largest block: s^max=21\n",
      "  Number of equality trace constraints: zeta=127\n",
      "Modeling time:\n",
      "  0.056890 seconds (11.53 k allocations: 1.218 MiB, 78.79% gc time)\n",
      "---------------\n",
      "| Parameters: |\n",
      "---------------\n",
      "n:       127\n",
      "maxtime: 300000.000000\n",
      "na:      2\n",
      "mcu:     5\n",
      "mc:      7\n",
      "rpar: \n",
      "ipar: \n",
      " Warning: MC > MCU. Assigned MC = MCU.\n",
      " Entry to LMBM:\n",
      " NIT=    1  NFE=    1  F= 0.29544512D+00  WK= 0.2490D+00  QK= 0.1245D+00\n",
      " NIT=    2  NFE=    2  F= 0.19820468D+00  WK= 0.2619D-01  QK= 0.2159D-01\n",
      " NIT=    3  NFE=    3  F= 0.18213527D+00  WK= 0.4279D-02  QK= 0.2739D-02\n",
      " NIT=    4  NFE=    4  F= 0.18087998D+00  WK= 0.1639D-02  QK= 0.3328D-02\n",
      " Exit from LMBM:\n",
      " NIT=    5  NFE=    5  F= 0.17990096D+00  WK= 0.3815D-03  QK= 0.3278D-03  ITERM=  1\n",
      "-----------\n",
      "| Output: |\n",
      "-----------\n",
      "Termination:     1\n",
      "N. iter.:        5\n",
      "N. func. eval.:  5\n",
      "Final value:     0.179901\n",
      "Execution time:  0.071075\n",
      "\n",
      "####################################\n",
      "opt_val = -1.2189140088695463\n",
      "####################################\n",
      "Solving time:\n",
      "  0.326983 seconds (433.94 k allocations: 23.291 MiB)\n",
      "Total time:\n",
      "  0.384052 seconds (446.06 k allocations: 24.521 MiB, 11.67% gc time)\n"
     ]
    },
    {
     "data": {
      "text/plain": [
       "-1.2189140088695463"
      ]
     },
     "execution_count": 6,
     "metadata": {},
     "output_type": "execute_result"
    }
   ],
   "source": [
    "using ctpPOP\n",
    "\n",
    "opt_val=ctpPOP.POP_dense_LMBM(n,m,l,lmon_g,supp_g,coe_g,lmon_h,supp_h,coe_h,lmon_f,supp_f,coe_f,dg,dh,k,\n",
    "                         tol=1e-3,use_eqcons_to_get_constant_trace=false)"
   ]
  },
  {
   "cell_type": "code",
   "execution_count": null,
   "metadata": {},
   "outputs": [],
   "source": [
    "using ctpPOP\n",
    "\n",
    "optval=ctpPOP.POP_NLP(n,m,l,lmon_g,supp_g,coe_g,lmon_h,supp_h,coe_h,lmon_f,supp_f,coe_f)"
   ]
  },
  {
   "cell_type": "code",
   "execution_count": null,
   "metadata": {},
   "outputs": [],
   "source": []
  }
 ],
 "metadata": {
  "kernelspec": {
   "display_name": "Julia 1.3.0",
   "language": "julia",
   "name": "julia-1.3"
  },
  "language_info": {
   "file_extension": ".jl",
   "mimetype": "application/julia",
   "name": "julia",
   "version": "1.3.0"
  }
 },
 "nbformat": 4,
 "nbformat_minor": 2
}
