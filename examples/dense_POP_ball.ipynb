{
 "cells": [
  {
   "cell_type": "code",
   "execution_count": 8,
   "metadata": {},
   "outputs": [
    {
     "name": "stdout",
     "output_type": "stream",
     "text": [
      "***Problem setting***\n",
      "Number of variable: n=5\n",
      "====================\n",
      "Number of inequality constraints: m=1\n",
      "====================\n",
      "Number of equality constraints: l=0\n"
     ]
    }
   ],
   "source": [
    "using DynamicPolynomials\n",
    "\n",
    "println(\"***Problem setting***\")\n",
    "\n",
    "n=5\n",
    "\n",
    "println(\"Number of variable: n=\",n)\n",
    "println(\"====================\")\n",
    "\n",
    "@polyvar x[1:n]# variables\n",
    "\n",
    "function generate_random_poly(v)\n",
    "    c=2*rand(Float64,length(v)).-1\n",
    "    return c'*v\n",
    "end\n",
    "# random quadratic objective function f\n",
    "v=reverse(monomials(x,0:2))\n",
    "f=generate_random_poly(v)\n",
    "\n",
    "\n",
    "# unit sphere constraint\n",
    "g=[1.0-sum(x.^2)] #type of coefficients of each polynomial must be float\n",
    "\n",
    "m=length(g)\n",
    "println(\"Number of inequality constraints: m=\",m)\n",
    "println(\"====================\")\n",
    "\n",
    "l=0#ceil(Int64, n/4)\n",
    "\n",
    "h=Vector{Polynomial{true,Float64}}(undef,l)\n",
    "randx=2*rand(n).-1# create a feasible solution\n",
    "randx=rand(1)[1]*randx./sqrt(sum(randx.^2))\n",
    "\n",
    "\n",
    "for j in 1:l\n",
    "    h[j]=generate_random_poly(v[2:end])\n",
    "    h[j]-=h[j](x => randx) #make constraints feasible\n",
    "end\n",
    "\n",
    "l=length(h)\n",
    "println(\"Number of equality constraints: l=\",l)"
   ]
  },
  {
   "cell_type": "code",
   "execution_count": 9,
   "metadata": {},
   "outputs": [],
   "source": [
    "using ctpPOP\n",
    "\n",
    "n,m,l,lmon_g,supp_g,coe_g,lmon_h,supp_h,coe_h,lmon_f,supp_f,coe_f,dg,dh=ctpPOP.get_info(x,f,g,h,sparse=false);"
   ]
  },
  {
   "cell_type": "code",
   "execution_count": 10,
   "metadata": {},
   "outputs": [
    {
     "name": "stdout",
     "output_type": "stream",
     "text": [
      "Relaxation order: k=2\n"
     ]
    }
   ],
   "source": [
    "\n",
    "k=2\n",
    "\n",
    "println(\"Relaxation order: k=\",k)"
   ]
  },
  {
   "cell_type": "code",
   "execution_count": 11,
   "metadata": {},
   "outputs": [
    {
     "name": "stdout",
     "output_type": "stream",
     "text": [
      "  Computing constant trace status: OPTIMAL\n",
      "  Constant trace: ak = 3.0\n",
      "  Number of blocks: omega=2\n",
      "  Size of the largest block: s^max=21\n",
      "  Number of equality trace constraints: zeta=127\n",
      "Modeling time:\n",
      "  0.007441 seconds (11.43 k allocations: 1.212 MiB)\n",
      "iter=1   val=-3.723058261182444   gap=0.020775133027743427   feas=2.982416951811426\n",
      "iter=2   val=-1.2712427163948798   gap=0.5558158031450235   feas=0.4975873537764451\n",
      "iter=4   val=-1.3392131561376852   gap=0.4335926604191025   feas=0.47516154415675893\n",
      "iter=8   val=-1.4326580589823255   gap=0.024484411555608144   feas=0.15068242731489367\n",
      "iter=16   val=-1.4818836284606989   gap=0.01783653111394389   feas=0.03307129307286379\n",
      "iter=32   val=-1.5264673008216985   gap=0.0071363773468949895   feas=0.007274184811025378\n",
      "iter=64   val=-1.5378748953253205   gap=0.0019365466802161134   feas=0.0018402516871921426\n",
      "iter=92   val=-1.5398432272403761   gap=0.0009837015216999422   feas=0.0008947375844657054\n",
      "tol satisfies!!!\n",
      "\n",
      "####################################\n",
      "opt_val = -1.5398432272403761\n",
      "####################################\n",
      "Solving time:\n",
      "  0.028396 seconds (29.51 k allocations: 3.533 MiB)\n",
      "Total time:\n",
      "  0.036038 seconds (41.48 k allocations: 4.757 MiB)\n"
     ]
    },
    {
     "data": {
      "text/plain": [
       "-1.5398432272403761"
      ]
     },
     "execution_count": 11,
     "metadata": {},
     "output_type": "execute_result"
    }
   ],
   "source": [
    "using ctpPOP\n",
    "\n",
    "opt_val1=ctpPOP.POP_dense_CGAL(n,m,l,lmon_g,supp_g,coe_g,lmon_h,supp_h,coe_h,lmon_f,supp_f,coe_f,dg,dh,k,\n",
    "                         maxit=Int64(1e6),tol=1e-3,\n",
    "                         use_eqcons_to_get_constant_trace=false,\n",
    "                         check_tol_each_iter=true)"
   ]
  },
  {
   "cell_type": "code",
   "execution_count": 12,
   "metadata": {},
   "outputs": [
    {
     "name": "stdout",
     "output_type": "stream",
     "text": [
      "Problem\n",
      "  Name                   :                 \n",
      "  Objective sense        : max             \n",
      "  Type                   : CONIC (conic optimization problem)\n",
      "  Constraints            : 126             \n",
      "  Cones                  : 0               \n",
      "  Scalar variables       : 1               \n",
      "  Matrix variables       : 2               \n",
      "  Integer variables      : 0               \n",
      "\n",
      "Optimizer started.\n",
      "Presolve started.\n",
      "Linear dependency checker started.\n",
      "Linear dependency checker terminated.\n",
      "Eliminator started.\n",
      "Freed constraints in eliminator : 0\n",
      "Eliminator terminated.\n",
      "Eliminator - tries                  : 1                 time                   : 0.00            \n",
      "Lin. dep.  - tries                  : 1                 time                   : 0.00            \n",
      "Lin. dep.  - number                 : 0               \n",
      "Presolve terminated. Time: 0.00    \n",
      "Problem\n",
      "  Name                   :                 \n",
      "  Objective sense        : max             \n",
      "  Type                   : CONIC (conic optimization problem)\n",
      "  Constraints            : 126             \n",
      "  Cones                  : 0               \n",
      "  Scalar variables       : 1               \n",
      "  Matrix variables       : 2               \n",
      "  Integer variables      : 0               \n",
      "\n",
      "Optimizer  - threads                : 4               \n",
      "Optimizer  - solved problem         : the primal      \n",
      "Optimizer  - Constraints            : 126\n",
      "Optimizer  - Cones                  : 1\n",
      "Optimizer  - Scalar variables       : 2                 conic                  : 2               \n",
      "Optimizer  - Semi-definite variables: 2                 scalarized             : 252             \n",
      "Factor     - setup time             : 0.00              dense det. time        : 0.00            \n",
      "Factor     - ML order time          : 0.00              GP order time          : 0.00            \n",
      "Factor     - nonzeros before factor : 8001              after factor           : 8001            \n",
      "Factor     - dense dim.             : 0                 flops                  : 8.46e+05        \n",
      "ITE PFEAS    DFEAS    GFEAS    PRSTATUS   POBJ              DOBJ              MU       TIME  \n",
      "0   2.0e+00  1.0e+00  1.0e+00  0.00e+00   0.000000000e+00   0.000000000e+00   1.0e+00  0.00  \n",
      "1   6.3e-01  3.2e-01  2.0e-01  4.61e-01   -9.887282843e-01  -1.004857079e+00  3.2e-01  0.00  \n",
      "2   9.1e-02  4.6e-02  1.1e-02  1.14e+00   -1.368804836e+00  -1.369922761e+00  4.6e-02  0.00  \n",
      "3   3.2e-03  1.6e-03  8.1e-05  9.58e-01   -1.540030775e+00  -1.540748592e+00  1.6e-03  0.01  \n",
      "4   2.0e-05  9.9e-06  4.0e-08  9.98e-01   -1.541695440e+00  -1.541700490e+00  9.9e-06  0.01  \n",
      "5   4.2e-07  2.1e-07  1.3e-10  1.00e+00   -1.541702551e+00  -1.541702661e+00  2.1e-07  0.01  \n",
      "6   3.1e-08  1.6e-08  2.4e-12  1.00e+00   -1.541703108e+00  -1.541703115e+00  1.5e-08  0.01  \n",
      "7   5.4e-10  5.4e-10  6.1e-15  1.00e+00   -1.541703169e+00  -1.541703169e+00  2.8e-10  0.01  \n",
      "Optimizer terminated. Time: 0.01    \n",
      "\n",
      "OPTIMAL\n",
      "opt_val=-1.5417031692794239\n",
      "  0.025485 seconds (74.86 k allocations: 8.367 MiB)\n"
     ]
    },
    {
     "data": {
      "text/plain": [
       "-1.5417031692794239"
      ]
     },
     "execution_count": 12,
     "metadata": {},
     "output_type": "execute_result"
    }
   ],
   "source": [
    "using ctpPOP\n",
    "\n",
    "opt_val2=ctpPOP.POP_dense_SOS(x,f,g,h,k,tol=1e-3)"
   ]
  },
  {
   "cell_type": "code",
   "execution_count": 13,
   "metadata": {},
   "outputs": [
    {
     "name": "stdout",
     "output_type": "stream",
     "text": [
      "  Computing constant trace status: OPTIMAL\n",
      "  Constant trace: ak = 3.0\n",
      "  Number of blocks: omega=2\n",
      "  Size of the largest block: s^max=21\n",
      "  Number of equality trace constraints: zeta=127\n",
      "Modeling time:\n",
      "  0.008024 seconds (11.43 k allocations: 1.212 MiB)\n",
      "---------------\n",
      "| Parameters: |\n",
      "---------------\n",
      "n:       127\n",
      "maxtime: 300000.000000\n",
      "na:      2\n",
      "mcu:     5\n",
      "mc:      7\n",
      "rpar: \n",
      "ipar: \n",
      " Warning: MC > MCU. Assigned MC = MCU.\n",
      " Entry to LMBM:\n",
      " NIT=    1  NFE=    1  F= 0.59615058D+00  WK= 0.4843D+00  QK= 0.2422D+00\n",
      " NIT=    2  NFE=    2  F= 0.33308285D+00  WK= 0.1122D+00  QK= 0.9080D-01\n",
      " NIT=    3  NFE=    3  F= 0.27197313D+00  WK= 0.4893D-01  QK= 0.3026D-01\n",
      " NIT=    4  NFE=    4  F= 0.25642872D+00  WK= 0.2058D-01  QK= 0.2862D-01\n",
      " NIT=    5  NFE=    5  F= 0.24852202D+00  WK= 0.2507D-02  QK= 0.4097D-02\n",
      " NIT=    6  NFE=    6  F= 0.24662019D+00  WK= 0.2365D-02  QK= 0.1303D-02\n",
      " Exit from LMBM:\n",
      " NIT=    7  NFE=    7  F= 0.24533549D+00  WK= 0.4545D-03  QK= 0.3756D-03  ITERM=  1\n",
      "-----------\n",
      "| Output: |\n",
      "-----------\n",
      "Termination:     1\n",
      "N. iter.:        7\n",
      "N. func. eval.:  7\n",
      "Final value:     0.245335\n",
      "Execution time:  0.002365\n",
      "\n",
      "####################################\n",
      "opt_val = -1.5435532550989586\n",
      "####################################\n",
      "Solving time:\n",
      "  0.003114 seconds (3.93 k allocations: 367.734 KiB)\n",
      "Total time:\n",
      "  0.011352 seconds (15.91 k allocations: 1.583 MiB)\n"
     ]
    },
    {
     "data": {
      "text/plain": [
       "-1.5435532550989586"
      ]
     },
     "execution_count": 13,
     "metadata": {},
     "output_type": "execute_result"
    }
   ],
   "source": [
    "using ctpPOP\n",
    "\n",
    "opt_val=ctpPOP.POP_dense_LMBM(n,m,l,lmon_g,supp_g,coe_g,lmon_h,supp_h,coe_h,lmon_f,supp_f,coe_f,dg,dh,k,\n",
    "                         tol=1e-3,use_eqcons_to_get_constant_trace=false)"
   ]
  },
  {
   "cell_type": "code",
   "execution_count": 14,
   "metadata": {},
   "outputs": [
    {
     "name": "stdout",
     "output_type": "stream",
     "text": [
      "This is Ipopt version 3.13.1, running with linear solver mumps.\n",
      "NOTE: Other linear solvers might be more efficient (see Ipopt documentation).\n",
      "\n",
      "Number of nonzeros in equality constraint Jacobian...:        0\n",
      "Number of nonzeros in inequality constraint Jacobian.:        5\n",
      "Number of nonzeros in Lagrangian Hessian.............:       20\n",
      "\n",
      "Total number of variables............................:        5\n",
      "                     variables with only lower bounds:        0\n",
      "                variables with lower and upper bounds:        0\n",
      "                     variables with only upper bounds:        0\n",
      "Total number of equality constraints.................:        0\n",
      "Total number of inequality constraints...............:        1\n",
      "        inequality constraints with only lower bounds:        1\n",
      "   inequality constraints with lower and upper bounds:        0\n",
      "        inequality constraints with only upper bounds:        0\n",
      "\n",
      "iter    objective    inf_pr   inf_du lg(mu)  ||d||  lg(rg) alpha_du alpha_pr  ls\n",
      "   0  5.4799547e-01 0.00e+00 1.00e+00  -1.0 0.00e+00    -  0.00e+00 0.00e+00   0\n",
      "WARNING: Problem in step computation; switching to emergency mode.\n",
      "Restoration phase is called at point that is almost feasible,\n",
      "  with constraint violation 0.000000e+00. Abort.\n",
      "\n",
      "Number of Iterations....: 0\n",
      "\n",
      "                                   (scaled)                 (unscaled)\n",
      "Objective...............:   5.4799546923059417e-01    5.4799546923059417e-01\n",
      "Dual infeasibility......:   1.0000000000000000e+00    1.0000000000000000e+00\n",
      "Constraint violation....:   0.0000000000000000e+00    0.0000000000000000e+00\n",
      "Complementarity.........:   1.0000000099999999e+00    1.0000000099999999e+00\n",
      "Overall NLP error.......:   1.0000000099999999e+00    1.0000000099999999e+00\n",
      "\n",
      "\n",
      "Number of objective function evaluations             = 1\n",
      "Number of objective gradient evaluations             = 1\n",
      "Number of equality constraint evaluations            = 0\n",
      "Number of inequality constraint evaluations          = 1\n",
      "Number of equality constraint Jacobian evaluations   = 0\n",
      "Number of inequality constraint Jacobian evaluations = 1\n",
      "Number of Lagrangian Hessian evaluations             = 1\n",
      "Total CPU secs in IPOPT (w/o function evaluations)   =      0.001\n",
      "Total CPU secs in NLP function evaluations           =      0.000\n",
      "\n",
      "EXIT: Restoration Failed!\n",
      "NUMERICAL_ERROR\n",
      "opt_val=0.5479954692305942\n",
      "  0.007458 seconds (2.73 k allocations: 210.984 KiB)\n"
     ]
    },
    {
     "data": {
      "text/plain": [
       "0.5479954692305942"
      ]
     },
     "execution_count": 14,
     "metadata": {},
     "output_type": "execute_result"
    }
   ],
   "source": [
    "using ctpPOP\n",
    "\n",
    "optval=ctpPOP.POP_NLP(n,m,l,lmon_g,supp_g,coe_g,lmon_h,supp_h,coe_h,lmon_f,supp_f,coe_f)"
   ]
  },
  {
   "cell_type": "code",
   "execution_count": null,
   "metadata": {},
   "outputs": [],
   "source": []
  }
 ],
 "metadata": {
  "kernelspec": {
   "display_name": "Julia 1.3.0",
   "language": "julia",
   "name": "julia-1.3"
  },
  "language_info": {
   "file_extension": ".jl",
   "mimetype": "application/julia",
   "name": "julia",
   "version": "1.3.0"
  }
 },
 "nbformat": 4,
 "nbformat_minor": 2
}
