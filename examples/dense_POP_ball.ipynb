{
 "cells": [
  {
   "cell_type": "code",
   "execution_count": 8,
   "metadata": {},
   "outputs": [
    {
     "name": "stdout",
     "output_type": "stream",
     "text": [
      "***Problem setting***\n",
      "Number of variable: n=5\n",
      "====================\n",
      "Number of inequality constraints: m=1\n",
      "====================\n",
      "Number of equality constraints: l=0\n"
     ]
    }
   ],
   "source": [
    "using DynamicPolynomials\n",
    "\n",
    "println(\"***Problem setting***\")\n",
    "\n",
    "n=5\n",
    "\n",
    "println(\"Number of variable: n=\",n)\n",
    "println(\"====================\")\n",
    "\n",
    "@polyvar x[1:n]# variables\n",
    "\n",
    "function generate_random_poly(v)\n",
    "    c=2*rand(Float64,length(v)).-1\n",
    "    return c'*v\n",
    "end\n",
    "# random quadratic objective function f\n",
    "v=reverse(monomials(x,0:2))\n",
    "f=generate_random_poly(v)\n",
    "\n",
    "\n",
    "# unit sphere constraint\n",
    "g=[1.0-sum(x.^2)] #type of coefficients of each polynomial must be float\n",
    "\n",
    "m=length(g)\n",
    "println(\"Number of inequality constraints: m=\",m)\n",
    "println(\"====================\")\n",
    "\n",
    "l=0#ceil(Int64, n/4)\n",
    "\n",
    "h=Vector{Polynomial{true,Float64}}(undef,l)\n",
    "randx=2*rand(n).-1# create a feasible solution\n",
    "randx=rand(1)[1]*randx./sqrt(sum(randx.^2))\n",
    "\n",
    "\n",
    "for j in 1:l\n",
    "    h[j]=generate_random_poly(v[2:end])\n",
    "    h[j]-=h[j](x => randx) #make constraints feasible\n",
    "end\n",
    "\n",
    "l=length(h)\n",
    "println(\"Number of equality constraints: l=\",l)"
   ]
  },
  {
   "cell_type": "code",
   "execution_count": 9,
   "metadata": {},
   "outputs": [
    {
     "name": "stderr",
     "output_type": "stream",
     "text": [
      "WARNING: replacing module ctpPOP.\n"
     ]
    }
   ],
   "source": [
    "include(\"../src/ctpPOP.jl\")\n",
    "using .ctpPOP\n",
    "\n",
    "n,m,l,lmon_g,supp_g,coe_g,lmon_h,supp_h,coe_h,lmon_f,supp_f,coe_f,dg,dh=ctpPOP.get_info(x,f,g,h,sparse=false);"
   ]
  },
  {
   "cell_type": "code",
   "execution_count": 10,
   "metadata": {},
   "outputs": [
    {
     "name": "stdout",
     "output_type": "stream",
     "text": [
      "Relaxation order: k=2\n"
     ]
    }
   ],
   "source": [
    "\n",
    "k=2\n",
    "\n",
    "println(\"Relaxation order: k=\",k)"
   ]
  },
  {
   "cell_type": "code",
   "execution_count": 11,
   "metadata": {},
   "outputs": [
    {
     "name": "stdout",
     "output_type": "stream",
     "text": [
      "  Computing constant trace status: OPTIMAL\n",
      "  Constant trace: ak = 3.0\n",
      "  Condition number: c = 28.583211855912904\n",
      "  Number of blocks: omega=2\n",
      "  Size of the largest block: s^max=21\n",
      "  Number of equality trace constraints: zeta=127\n",
      "Modeling time:\n",
      "  0.086412 seconds (95.60 k allocations: 5.447 MiB)\n",
      "iter=1   val=-3.509791592181167   gap=0.2010047994937543   feas=2.0507831423073766\n",
      "iter=2   val=-2.6502293270187405   gap=0.19191911146474125   feas=1.9799872814177795\n",
      "iter=4   val=-2.2783963254023707   gap=0.004891049150586628   feas=0.5983386238151959\n",
      "iter=8   val=-2.106554494424727   gap=0.061940922198600167   feas=0.25203204329655277\n",
      "iter=16   val=-2.185177583859458   gap=0.01902872043170683   feas=0.05801759766021788\n",
      "iter=32   val=-2.2313653318266153   gap=0.008064567052591311   feas=0.011005003014569152\n",
      "iter=64   val=-2.2511993499541236   gap=0.002191163912634713   feas=0.0027710498366621526\n",
      "iter=107   val=-2.255534912911158   gap=0.0008013322270204349   feas=0.000997533066728845\n",
      "tol satisfies!!!\n",
      "\n",
      "####################################\n",
      "opt_val = -2.255534912911158\n",
      "####################################\n",
      "Solving time:\n",
      "  0.031982 seconds (33.78 k allocations: 4.085 MiB)\n",
      "Total time:\n",
      "  0.118597 seconds (129.92 k allocations: 9.544 MiB)\n"
     ]
    },
    {
     "name": "stderr",
     "output_type": "stream",
     "text": [
      "WARNING: replacing module ctpPOP.\n"
     ]
    },
    {
     "data": {
      "text/plain": [
       "-2.255534912911158"
      ]
     },
     "execution_count": 11,
     "metadata": {},
     "output_type": "execute_result"
    }
   ],
   "source": [
    "include(\"../src/ctpPOP.jl\")\n",
    "using .ctpPOP\n",
    "\n",
    "opt_val1=ctpPOP.POP_dense_CGAL(n,m,l,lmon_g,supp_g,coe_g,lmon_h,supp_h,coe_h,lmon_f,supp_f,coe_f,dg,dh,k,\n",
    "                         maxit=Int64(1e6),tol=1e-3,\n",
    "                         use_eqcons_to_get_constant_trace=false,\n",
    "                         check_tol_each_iter=true)"
   ]
  },
  {
   "cell_type": "code",
   "execution_count": 12,
   "metadata": {},
   "outputs": [
    {
     "name": "stdout",
     "output_type": "stream",
     "text": [
      "**SumOfSquares+Mosek:\n",
      "Problem\n",
      "  Name                   :                 \n",
      "  Objective sense        : max             \n",
      "  Type                   : CONIC (conic optimization problem)\n",
      "  Constraints            : 126             \n",
      "  Cones                  : 0               \n",
      "  Scalar variables       : 1               \n",
      "  Matrix variables       : 2               \n",
      "  Integer variables      : 0               \n",
      "\n",
      "Optimizer started.\n",
      "Presolve started.\n",
      "Linear dependency checker started.\n",
      "Linear dependency checker terminated.\n",
      "Eliminator started.\n",
      "Freed constraints in eliminator : 0\n",
      "Eliminator terminated.\n",
      "Eliminator - tries                  : 1                 time                   : 0.00            \n",
      "Lin. dep.  - tries                  : 1                 time                   : 0.00            \n",
      "Lin. dep.  - number                 : 0               \n",
      "Presolve terminated. Time: 0.00    \n",
      "Problem\n",
      "  Name                   :                 \n",
      "  Objective sense        : max             \n",
      "  Type                   : CONIC (conic optimization problem)\n",
      "  Constraints            : 126             \n",
      "  Cones                  : 0               \n",
      "  Scalar variables       : 1               \n",
      "  Matrix variables       : 2               \n",
      "  Integer variables      : 0               \n",
      "\n",
      "Optimizer  - threads                : 4               \n",
      "Optimizer  - solved problem         : the primal      \n",
      "Optimizer  - Constraints            : 126\n",
      "Optimizer  - Cones                  : 1\n",
      "Optimizer  - Scalar variables       : 2                 conic                  : 2               \n",
      "Optimizer  - Semi-definite variables: 2                 scalarized             : 252             \n",
      "Factor     - setup time             : 0.00              dense det. time        : 0.00            \n",
      "Factor     - ML order time          : 0.00              GP order time          : 0.00            \n",
      "Factor     - nonzeros before factor : 8001              after factor           : 8001            \n",
      "Factor     - dense dim.             : 0                 flops                  : 8.46e+05        \n",
      "ITE PFEAS    DFEAS    GFEAS    PRSTATUS   POBJ              DOBJ              MU       TIME  \n",
      "0   3.0e+00  1.0e+00  1.0e+00  0.00e+00   0.000000000e+00   0.000000000e+00   1.0e+00  0.00  \n",
      "1   9.7e-01  3.3e-01  1.8e-01  -1.93e-01  -1.708083003e+00  -1.639626958e+00  3.3e-01  0.00  \n",
      "2   2.3e-01  7.6e-02  1.9e-02  1.65e+00   -1.973855070e+00  -1.966814262e+00  7.6e-02  0.00  \n",
      "3   1.5e-02  5.1e-03  3.9e-04  9.51e-01   -2.256077997e+00  -2.257161210e+00  5.1e-03  0.01  \n",
      "4   1.3e-05  4.5e-06  9.5e-09  1.01e+00   -2.257969518e+00  -2.257969883e+00  4.5e-06  0.01  \n",
      "5   3.7e-07  1.2e-07  4.5e-11  1.00e+00   -2.257973448e+00  -2.257973458e+00  1.2e-07  0.01  \n",
      "6   1.8e-08  5.9e-09  4.6e-13  1.00e+00   -2.257973777e+00  -2.257973777e+00  5.9e-09  0.01  \n",
      "Optimizer terminated. Time: 0.01    \n",
      "\n",
      "OPTIMAL\n",
      "opt_val=-2.257973776877702\n",
      "  0.070183 seconds (107.45 k allocations: 10.024 MiB)\n"
     ]
    },
    {
     "name": "stderr",
     "output_type": "stream",
     "text": [
      "WARNING: replacing module ctpPOP.\n"
     ]
    },
    {
     "data": {
      "text/plain": [
       "-2.257973776877702"
      ]
     },
     "execution_count": 12,
     "metadata": {},
     "output_type": "execute_result"
    }
   ],
   "source": [
    "include(\"../src/ctpPOP.jl\")\n",
    "using .ctpPOP\n",
    "\n",
    "opt_val2=ctpPOP.POP_dense_SOS(x,f,g,h,k,tol=1e-3)"
   ]
  },
  {
   "cell_type": "code",
   "execution_count": 13,
   "metadata": {},
   "outputs": [
    {
     "name": "stdout",
     "output_type": "stream",
     "text": [
      "  Computing constant trace status: OPTIMAL\n",
      "  Constant trace: ak = 3.0\n",
      "  Condition number: c = 28.583211855912904\n",
      "  Number of blocks: omega=2\n",
      "  Size of the largest block: s^max=21\n",
      "  Number of equality trace constraints: zeta=127\n",
      "Modeling time:\n",
      "  0.086339 seconds (95.60 k allocations: 5.447 MiB)\n"
     ]
    },
    {
     "name": "stderr",
     "output_type": "stream",
     "text": [
      "WARNING: replacing module ctpPOP.\n"
     ]
    },
    {
     "name": "stdout",
     "output_type": "stream",
     "text": [
      "---------------\n",
      "| Parameters: |\n",
      "---------------\n",
      "n:       127\n",
      "maxtime: 300000.000000\n",
      "na:      2\n",
      "mcu:     5\n",
      "mc:      7\n",
      "rpar: \n",
      "ipar: \n",
      " Warning: MC > MCU. Assigned MC = MCU.\n",
      " Entry to LMBM:\n",
      " NIT=    1  NFE=    1  F= 0.59887931D+00  WK= 0.1615D+00  QK= 0.8073D-01\n",
      " NIT=    2  NFE=    2  F= 0.48003951D+00  WK= 0.1390D+00  QK= 0.9564D-01\n",
      " NIT=    3  NFE=    3  F= 0.40367570D+00  WK= 0.1754D+00  QK= 0.1021D+00\n",
      " Warning: A nondescent search direction occured. Restart.\n",
      " NIT=    4  NFE=    4  F= 0.40367570D+00  WK= 0.2043D+00  QK= 0.1021D+00\n",
      " NIT=    5  NFE=    5  F= 0.40367570D+00  WK= 0.1096D+00  QK= 0.5649D-01\n",
      " NIT=    6  NFE=    6  F= 0.38127117D+00  WK= 0.2104D-02  QK= 0.4436D-02\n",
      " Exit from LMBM:\n",
      " NIT=    7  NFE=    7  F= 0.37985614D+00  WK= 0.6466D-03  QK= 0.7566D-03  ITERM=  1\n",
      "-----------\n",
      "| Output: |\n",
      "-----------\n",
      "Termination:     1\n",
      "N. iter.:        7\n",
      "N. func. eval.:  7\n",
      "Final value:     0.379856\n",
      "Execution time:  0.111099\n",
      "\n",
      "####################################\n",
      "opt_val = -2.261151704848079\n",
      "####################################\n",
      "Solving time:\n",
      "  0.259928 seconds (259.27 k allocations: 14.889 MiB)\n",
      "Total time:\n",
      "  0.346468 seconds (355.39 k allocations: 20.347 MiB)\n"
     ]
    },
    {
     "data": {
      "text/plain": [
       "-2.261151704848079"
      ]
     },
     "execution_count": 13,
     "metadata": {},
     "output_type": "execute_result"
    }
   ],
   "source": [
    "include(\"../src/ctpPOP.jl\")\n",
    "using .ctpPOP\n",
    "\n",
    "opt_val=ctpPOP.POP_dense_LMBM(n,m,l,lmon_g,supp_g,coe_g,lmon_h,supp_h,coe_h,lmon_f,supp_f,coe_f,dg,dh,k,\n",
    "                         tol=1e-3,use_eqcons_to_get_constant_trace=false)"
   ]
  },
  {
   "cell_type": "code",
   "execution_count": 14,
   "metadata": {},
   "outputs": [
    {
     "name": "stdout",
     "output_type": "stream",
     "text": [
      "This is Ipopt version 3.13.2, running with linear solver mumps.\n",
      "NOTE: Other linear solvers might be more efficient (see Ipopt documentation).\n",
      "\n",
      "Number of nonzeros in equality constraint Jacobian...:        0\n",
      "Number of nonzeros in inequality constraint Jacobian.:        5\n",
      "Number of nonzeros in Lagrangian Hessian.............:       20\n",
      "\n",
      "Total number of variables............................:        5\n",
      "                     variables with only lower bounds:        0\n",
      "                variables with lower and upper bounds:        0\n",
      "                     variables with only upper bounds:        0\n",
      "Total number of equality constraints.................:        0\n",
      "Total number of inequality constraints...............:        1\n",
      "        inequality constraints with only lower bounds:        1\n",
      "   inequality constraints with lower and upper bounds:        0\n",
      "        inequality constraints with only upper bounds:        0\n",
      "\n",
      "iter    objective    inf_pr   inf_du lg(mu)  ||d||  lg(rg) alpha_du alpha_pr  ls\n",
      "   0 -9.6175621e-01 0.00e+00 7.01e-01  -1.0 0.00e+00    -  0.00e+00 0.00e+00   0\n",
      "   1 -1.9451994e+00 0.00e+00 1.31e+00  -1.7 6.70e-01    -  1.00e+00 1.00e+00f  1\n",
      "   2 -2.3258582e+00 7.38e-02 9.89e-01  -1.7 1.03e+00   0.0 1.00e+00 9.58e-01h  1\n",
      "   3 -2.0386718e+00 0.00e+00 1.30e-02  -1.7 2.48e-01    -  1.00e+00 1.00e+00h  1\n",
      "   4 -2.2412487e+00 0.00e+00 8.46e-03  -1.7 2.27e-01    -  1.00e+00 1.00e+00h  1\n",
      "   5 -2.2580048e+00 3.25e-05 5.34e-05  -3.8 3.09e-02    -  1.00e+00 1.00e+00h  1\n",
      "   6 -2.2579720e+00 0.00e+00 1.07e-09  -5.7 5.45e-05    -  1.00e+00 1.00e+00h  1\n",
      "   7 -2.2579738e+00 0.00e+00 3.79e-13  -8.6 1.94e-06    -  1.00e+00 1.00e+00h  1\n",
      "\n",
      "Number of Iterations....: 7\n",
      "\n",
      "                                   (scaled)                 (unscaled)\n",
      "Objective...............:  -2.2579738063237342e+00   -2.2579738063237342e+00\n",
      "Dual infeasibility......:   3.7858605139717838e-13    3.7858605139717838e-13\n",
      "Constraint violation....:   0.0000000000000000e+00    0.0000000000000000e+00\n",
      "Complementarity.........:   2.5063112960226156e-09    2.5063112960226156e-09\n",
      "Overall NLP error.......:   2.5063112960226156e-09    2.5063112960226156e-09\n",
      "\n",
      "\n",
      "Number of objective function evaluations             = 8\n",
      "Number of objective gradient evaluations             = 8\n",
      "Number of equality constraint evaluations            = 0\n",
      "Number of inequality constraint evaluations          = 8\n",
      "Number of equality constraint Jacobian evaluations   = 0\n",
      "Number of inequality constraint Jacobian evaluations = 8\n",
      "Number of Lagrangian Hessian evaluations             = 7\n",
      "Total CPU secs in IPOPT (w/o function evaluations)   =      0.010\n",
      "Total CPU secs in NLP function evaluations           =      0.000\n",
      "\n",
      "EXIT: Optimal Solution Found.\n",
      "LOCALLY_SOLVED\n",
      "opt_val=-2.2579738063237342\n",
      "  0.019117 seconds (2.92 k allocations: 222.203 KiB)\n"
     ]
    },
    {
     "name": "stderr",
     "output_type": "stream",
     "text": [
      "WARNING: replacing module ctpPOP.\n"
     ]
    },
    {
     "data": {
      "text/plain": [
       "-2.2579738063237342"
      ]
     },
     "execution_count": 14,
     "metadata": {},
     "output_type": "execute_result"
    }
   ],
   "source": [
    "include(\"../src/ctpPOP.jl\")\n",
    "using .ctpPOP\n",
    "\n",
    "optval=ctpPOP.POP_NLP(n,m,l,lmon_g,supp_g,coe_g,lmon_h,supp_h,coe_h,lmon_f,supp_f,coe_f)"
   ]
  },
  {
   "cell_type": "code",
   "execution_count": null,
   "metadata": {},
   "outputs": [],
   "source": []
  }
 ],
 "metadata": {
  "kernelspec": {
   "display_name": "Julia 1.3.0",
   "language": "julia",
   "name": "julia-1.3"
  },
  "language_info": {
   "file_extension": ".jl",
   "mimetype": "application/julia",
   "name": "julia",
   "version": "1.3.0"
  }
 },
 "nbformat": 4,
 "nbformat_minor": 2
}
