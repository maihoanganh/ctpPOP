{
 "cells": [
  {
   "cell_type": "code",
   "execution_count": 39,
   "metadata": {},
   "outputs": [
    {
     "name": "stdout",
     "output_type": "stream",
     "text": [
      "***Problem setting***\n",
      "Number of variable: n=20\n",
      "====================\n",
      "Number of inequality constraints: m=1\n",
      "====================\n",
      "Number of equality constraints: l=5\n"
     ]
    }
   ],
   "source": [
    "using DynamicPolynomials\n",
    "\n",
    "println(\"***Problem setting***\")\n",
    "\n",
    "n=20\n",
    "\n",
    "println(\"Number of variable: n=\",n)\n",
    "println(\"====================\")\n",
    "\n",
    "@polyvar x[1:n]# variables\n",
    "\n",
    "function generate_random_poly(v)\n",
    "    c=2*rand(Float64,length(v)).-1\n",
    "    return c'*v\n",
    "end\n",
    "# random quadratic objective function f\n",
    "v=reverse(monomials(x,0:2))\n",
    "f=generate_random_poly(v)\n",
    "\n",
    "\n",
    "# unit sphere constraint\n",
    "g=[1.0-sum(x.^2)] #type of coefficients of each polynomial must be float\n",
    "\n",
    "m=length(g)\n",
    "println(\"Number of inequality constraints: m=\",m)\n",
    "println(\"====================\")\n",
    "\n",
    "l=ceil(Int64, n/4)\n",
    "\n",
    "h=Vector{Polynomial{true,Float64}}(undef,l)\n",
    "randx=2*rand(n).-1# create a feasible solution\n",
    "randx=rand(1)[1]*randx./sqrt(sum(randx.^2))\n",
    "\n",
    "\n",
    "for j in 1:l\n",
    "    h[j]=generate_random_poly(v[2:end])\n",
    "    h[j]-=h[j](x => randx) #make constraints feasible\n",
    "end\n",
    "\n",
    "l=length(h)\n",
    "println(\"Number of equality constraints: l=\",l)"
   ]
  },
  {
   "cell_type": "code",
   "execution_count": 40,
   "metadata": {},
   "outputs": [
    {
     "name": "stderr",
     "output_type": "stream",
     "text": [
      "WARNING: replacing module ctpPOP.\n"
     ]
    }
   ],
   "source": [
    "include(\"../src/ctpPOP.jl\")\n",
    "using .ctpPOP\n",
    "\n",
    "n,m,l,lmon_g,supp_g,coe_g,lmon_h,supp_h,coe_h,lmon_f,supp_f,coe_f,dg,dh=ctpPOP.get_info(x,f,g,h,sparse=false);"
   ]
  },
  {
   "cell_type": "code",
   "execution_count": 41,
   "metadata": {},
   "outputs": [
    {
     "name": "stdout",
     "output_type": "stream",
     "text": [
      "Relaxation order: k=2\n"
     ]
    }
   ],
   "source": [
    "k=2\n",
    "println(\"Relaxation order: k=\",k)"
   ]
  },
  {
   "cell_type": "code",
   "execution_count": 42,
   "metadata": {},
   "outputs": [
    {
     "name": "stdout",
     "output_type": "stream",
     "text": [
      "  Computing constant trace status: OPTIMAL\n",
      "  Constant trace: ak = 3.0\n",
      "  Number of blocks: omega=2\n",
      "  Size of the largest block: s^max=231\n",
      "  Number of equality trace constraints: zeta=17557\n"
     ]
    },
    {
     "name": "stderr",
     "output_type": "stream",
     "text": [
      "WARNING: replacing module ctpPOP.\n"
     ]
    },
    {
     "name": "stdout",
     "output_type": "stream",
     "text": [
      "Modeling time:\n",
      "  1.591524 seconds (5.32 M allocations: 1.146 GiB, 43.07% gc time)\n",
      "iter=1   val=-7.181484134767125   gap=0.01813288940856449   feas=2.836198327697807\n",
      "iter=2   val=-3.7070055136107083   gap=0.5007683208833488   feas=0.7196240306978594\n",
      "iter=4   val=-3.787956344641362   gap=0.3653158279984174   feas=0.6745932626810663\n",
      "iter=8   val=-3.582653551840512   gap=0.30842896917300483   feas=0.5721001011984129\n",
      "iter=16   val=-3.2022390586794387   gap=0.036962852894003466   feas=0.3259391440480649\n",
      "iter=32   val=-2.8829587949356523   gap=0.041873239751723565   feas=0.11145184147835734\n",
      "iter=64   val=-2.929894470232585   gap=0.012807263680610177   feas=0.03274735728055556\n",
      "iter=128   val=-2.965441640448547   gap=0.006724139980617246   feas=0.006990910829025011\n",
      "iter=256   val=-2.9846691150341846   gap=0.0015747580332490865   feas=0.0017142211751838136\n",
      "iter=341   val=-2.9872300874881814   gap=0.0009398275288389677   feas=0.0009794110287057384\n",
      "tol satisfies!!!\n",
      "\n",
      "####################################\n",
      "opt_val = -2.9872300874881814\n",
      "####################################\n",
      "Solving time:\n",
      "  1.509560 seconds (279.51 k allocations: 664.167 MiB, 3.19% gc time)\n",
      "Total time:\n",
      "  3.101355 seconds (5.60 M allocations: 1.795 GiB, 23.65% gc time)\n"
     ]
    },
    {
     "data": {
      "text/plain": [
       "-2.9872300874881814"
      ]
     },
     "execution_count": 42,
     "metadata": {},
     "output_type": "execute_result"
    }
   ],
   "source": [
    "include(\"../src/ctpPOP.jl\")\n",
    "using .ctpPOP\n",
    "\n",
    "opt_val1=ctpPOP.POP_dense_CGAL(n,m,l,lmon_g,supp_g,coe_g,lmon_h,supp_h,coe_h,lmon_f,supp_f,coe_f,dg,dh,k,\n",
    "                         maxit=Int64(1e6),tol=1e-3,\n",
    "                         use_eqcons_to_get_constant_trace=false,\n",
    "                         check_tol_each_iter=true)"
   ]
  },
  {
   "cell_type": "code",
   "execution_count": 37,
   "metadata": {},
   "outputs": [
    {
     "name": "stdout",
     "output_type": "stream",
     "text": [
      "Problem\n",
      "  Name                   :                 \n",
      "  Objective sense        : max             \n",
      "  Type                   : CONIC (conic optimization problem)\n",
      "  Constraints            : 351             \n",
      "  Cones                  : 0               \n",
      "  Scalar variables       : 9               \n",
      "  Matrix variables       : 1               \n",
      "  Integer variables      : 0               \n",
      "\n",
      "Optimizer started.\n",
      "Presolve started.\n",
      "Linear dependency checker started.\n",
      "Linear dependency checker terminated.\n",
      "Eliminator started.\n",
      "Freed constraints in eliminator : 0\n",
      "Eliminator terminated.\n",
      "Eliminator - tries                  : 1                 time                   : 0.00            \n",
      "Lin. dep.  - tries                  : 1                 time                   : 0.00            \n",
      "Lin. dep.  - number                 : 0               \n",
      "Presolve terminated. Time: 0.00    \n",
      "Problem\n",
      "  Name                   :                 \n",
      "  Objective sense        : max             \n",
      "  Type                   : CONIC (conic optimization problem)\n",
      "  Constraints            : 351             \n",
      "  Cones                  : 0               \n",
      "  Scalar variables       : 9               \n",
      "  Matrix variables       : 1               \n",
      "  Integer variables      : 0               \n",
      "\n",
      "Optimizer  - threads                : 4               \n",
      "Optimizer  - solved problem         : the primal      \n",
      "Optimizer  - Constraints            : 351\n",
      "Optimizer  - Cones                  : 1\n",
      "Optimizer  - Scalar variables       : 10                conic                  : 9               \n",
      "Optimizer  - Semi-definite variables: 1                 scalarized             : 351             \n",
      "Factor     - setup time             : 0.00              dense det. time        : 0.00            \n",
      "Factor     - ML order time          : 0.00              GP order time          : 0.00            \n",
      "Factor     - nonzeros before factor : 6.42e+04          after factor           : 6.45e+04        \n",
      "Factor     - dense dim.             : 9                 flops                  : 1.59e+07        \n",
      "ITE PFEAS    DFEAS    GFEAS    PRSTATUS   POBJ              DOBJ              MU       TIME  \n",
      "0   1.9e+00  1.0e+00  1.0e+00  0.00e+00   0.000000000e+00   0.000000000e+00   1.0e+00  0.00  \n",
      "1   2.3e-01  1.2e-01  2.7e-01  -9.48e-01  -8.553275915e+00  -1.303195922e+01  1.2e-01  0.01  \n",
      "2   3.2e-02  1.7e-02  7.9e-03  1.16e+00   -4.544118263e+00  -4.697383558e+00  1.7e-02  0.01  \n",
      "3   4.1e-03  2.1e-03  2.9e-04  1.66e+00   -3.771599503e+00  -3.783971744e+00  2.1e-03  0.01  \n",
      "4   5.9e-04  3.1e-04  1.2e-05  1.07e+00   -3.750587047e+00  -3.751336753e+00  3.1e-04  0.02  \n",
      "5   2.7e-05  1.4e-05  8.6e-08  1.03e+00   -3.747252412e+00  -3.747253396e+00  1.4e-05  0.02  \n",
      "6   1.8e-05  9.4e-06  5.2e-08  1.00e+00   -3.747307866e+00  -3.747312918e+00  9.4e-06  0.02  \n",
      "7   2.8e-06  1.4e-06  3.9e-09  1.00e+00   -3.747076590e+00  -3.747079811e+00  1.4e-06  0.03  \n",
      "8   7.9e-08  4.1e-08  1.7e-11  1.00e+00   -3.747055233e+00  -3.747055292e+00  4.1e-08  0.03  \n",
      "9   4.5e-10  2.6e-10  6.9e-15  1.00e+00   -3.747054771e+00  -3.747054771e+00  2.3e-10  0.03  \n",
      "Optimizer terminated. Time: 0.03    \n",
      "\n",
      "OPTIMAL\n",
      "opt_val=-3.7470547707687674\n",
      "  0.099657 seconds (221.82 k allocations: 21.634 MiB)\n"
     ]
    },
    {
     "name": "stderr",
     "output_type": "stream",
     "text": [
      "WARNING: replacing module ctpPOP.\n"
     ]
    },
    {
     "data": {
      "text/plain": [
       "-3.7470547707687674"
      ]
     },
     "execution_count": 37,
     "metadata": {},
     "output_type": "execute_result"
    }
   ],
   "source": [
    "include(\"../src/ctpPOP.jl\")\n",
    "using .ctpPOP\n",
    "\n",
    "opt_val2=ctpPOP.POP_dense_SOS(x,f,g,h,k,tol=1e-3)"
   ]
  },
  {
   "cell_type": "code",
   "execution_count": null,
   "metadata": {},
   "outputs": [],
   "source": []
  },
  {
   "cell_type": "code",
   "execution_count": 43,
   "metadata": {},
   "outputs": [
    {
     "name": "stdout",
     "output_type": "stream",
     "text": [
      "  Computing constant trace status: OPTIMAL\n",
      "  Constant trace: ak = 3.0\n",
      "  Number of blocks: omega=2\n",
      "  Size of the largest block: s^max=231\n",
      "  Number of equality trace constraints: zeta=17557\n"
     ]
    },
    {
     "name": "stderr",
     "output_type": "stream",
     "text": [
      "WARNING: replacing module ctpPOP.\n"
     ]
    },
    {
     "name": "stdout",
     "output_type": "stream",
     "text": [
      "Modeling time:\n",
      "  0.941072 seconds (5.32 M allocations: 1.146 GiB, 15.09% gc time)\n",
      "---------------\n",
      "| Parameters: |\n",
      "---------------\n",
      "n:       17557\n",
      "maxtime: 300000.000000\n",
      "na:      2\n",
      "mcu:     5\n",
      "mc:      7\n",
      "rpar: \n",
      "ipar: \n",
      "-----------\n",
      "| Output: |\n",
      "-----------\n",
      "Termination:     -4\n",
      "N. iter.:        100\n",
      "N. func. eval.:  753\n",
      "Final value:     0.166988\n",
      "Execution time:  9.443680\n",
      "\n",
      "####################################\n",
      "opt_val = -3.2632300586323857\n",
      "####################################\n",
      "Solving time:\n",
      "  4.285846 seconds (877.24 k allocations: 4.715 GiB, 6.23% gc time)\n",
      "Total time:\n",
      "  5.227190 seconds (6.20 M allocations: 5.861 GiB, 7.83% gc time)\n"
     ]
    },
    {
     "data": {
      "text/plain": [
       "-3.2632300586323857"
      ]
     },
     "execution_count": 43,
     "metadata": {},
     "output_type": "execute_result"
    }
   ],
   "source": [
    "include(\"../src/ctpPOP.jl\")\n",
    "using .ctpPOP\n",
    "\n",
    "opt_val=ctpPOP.POP_dense_LMBM(n,m,l,lmon_g,supp_g,coe_g,lmon_h,supp_h,coe_h,lmon_f,supp_f,coe_f,dg,dh,k,\n",
    "                         tol=1e-5,use_eqcons_to_get_constant_trace=false)"
   ]
  },
  {
   "cell_type": "code",
   "execution_count": 7,
   "metadata": {},
   "outputs": [],
   "source": [
    "#using ctpPOP\n",
    "\n",
    "#optval=ctpPOP.POP_NLP(n,m,l,lmon_g,supp_g,coe_g,lmon_h,supp_h,coe_h,lmon_f,supp_f,coe_f)"
   ]
  },
  {
   "cell_type": "code",
   "execution_count": null,
   "metadata": {},
   "outputs": [],
   "source": []
  },
  {
   "cell_type": "code",
   "execution_count": null,
   "metadata": {},
   "outputs": [],
   "source": []
  }
 ],
 "metadata": {
  "kernelspec": {
   "display_name": "Julia 1.3.0",
   "language": "julia",
   "name": "julia-1.3"
  },
  "language_info": {
   "file_extension": ".jl",
   "mimetype": "application/julia",
   "name": "julia",
   "version": "1.3.0"
  }
 },
 "nbformat": 4,
 "nbformat_minor": 2
}
