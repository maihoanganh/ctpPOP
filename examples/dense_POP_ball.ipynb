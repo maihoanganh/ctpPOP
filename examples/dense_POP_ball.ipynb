{
 "cells": [
  {
   "cell_type": "code",
   "execution_count": 1,
   "metadata": {},
   "outputs": [
    {
     "name": "stdout",
     "output_type": "stream",
     "text": [
      "***Problem setting***\n",
      "Number of variable: n=3\n",
      "====================\n",
      "Number of inequality constraints: m=1\n",
      "====================\n",
      "Number of equality constraints: l=1\n"
     ]
    }
   ],
   "source": [
    "using DynamicPolynomials\n",
    "\n",
    "println(\"***Problem setting***\")\n",
    "\n",
    "n=3\n",
    "\n",
    "println(\"Number of variable: n=\",n)\n",
    "println(\"====================\")\n",
    "\n",
    "@ncpolyvar x[1:n]# variables\n",
    "\n",
    "function star_algebra(mom)\n",
    "    if mom==1\n",
    "        return mom\n",
    "    else\n",
    "        ind=mom.z .>0\n",
    "        vars=mom.vars[ind]\n",
    "        exp=mom.z[ind]\n",
    "        return prod(vars[i]^exp[i] for i in length(exp):-1:1)\n",
    "    end\n",
    "end\n",
    "function generate_random_poly(v)\n",
    "    c=2*rand(Float64,length(v)).-1\n",
    "    return c'*v\n",
    "end\n",
    "# random quadratic objective function f\n",
    "v=reverse(monomials(x,0:2))\n",
    "v+=star_algebra.(v)\n",
    "v=v./2\n",
    "\n",
    "f=generate_random_poly(v)\n",
    "\n",
    "\n",
    "# unit sphere constraint\n",
    "g=[1.0-sum(x.^2)] #type of coefficients of each polynomial must be float\n",
    "\n",
    "m=length(g)\n",
    "println(\"Number of inequality constraints: m=\",m)\n",
    "println(\"====================\")\n",
    "\n",
    "l=ceil(Int64, n/4)\n",
    "\n",
    "h=Vector{Polynomial{false,Float64}}(undef,l)\n",
    "randx=2*rand(n).-1# create a feasible solution\n",
    "randx=rand(1)[1]*randx./sqrt(sum(randx.^2))\n",
    "\n",
    "\n",
    "for j in 1:l\n",
    "    h[j]=generate_random_poly(v[2:end])\n",
    "    h[j]-=h[j](x => randx) #make constraints feasible\n",
    "end\n",
    "\n",
    "l=length(h)\n",
    "println(\"Number of equality constraints: l=\",l)"
   ]
  },
  {
   "cell_type": "code",
   "execution_count": 2,
   "metadata": {},
   "outputs": [],
   "source": [
    "include(\"../src/ctpNCPOP.jl\")\n",
    "using .ctpNCPOP\n",
    "\n",
    "n,m,l,lmon_g,supp_g,coe_g,lmon_h,supp_h,coe_h,lmon_f,supp_f,coe_f,dg,dh=ctpNCPOP.get_info(x,f,g,h);"
   ]
  },
  {
   "cell_type": "code",
   "execution_count": 3,
   "metadata": {},
   "outputs": [
    {
     "name": "stdout",
     "output_type": "stream",
     "text": [
      "Relaxation order: k=2\n"
     ]
    }
   ],
   "source": [
    "\n",
    "k=2\n",
    "\n",
    "println(\"Relaxation order: k=\",k)"
   ]
  },
  {
   "cell_type": "code",
   "execution_count": 4,
   "metadata": {},
   "outputs": [
    {
     "name": "stderr",
     "output_type": "stream",
     "text": [
      "WARNING: replacing module ctpNCPOP.\n",
      "┌ Warning: `with_optimizer` is deprecated. Adapt the following example to update your code:\n",
      "│ `with_optimizer(Ipopt.Optimizer, max_cpu_time=60.0)` becomes `optimizer_with_attributes(Ipopt.Optimizer, \"max_cpu_time\" => 60.0)`.\n",
      "│   caller = ip:0x0\n",
      "└ @ Core :-1\n"
     ]
    },
    {
     "name": "stdout",
     "output_type": "stream",
     "text": [
      "  Computing constant trace status: OPTIMAL\n",
      "  Constant trace: ak = 3.0\n",
      "  Number of blocks: omega=2\n",
      "  Size of the largest block: s^max=13\n",
      "  Number of equality trace constraints: zeta=39\n",
      "Modeling time:\n",
      " 23.106484 seconds (47.69 M allocations: 2.341 GiB, 6.51% gc time)\n",
      "iter=1   val=-4.024598317790835   gap=0.018556817341320038   feas=3.043018619114468\n",
      "iter=2   val=-1.8459532139664194   gap=0.2163849639637823   feas=0.5468203066793152\n",
      "iter=4   val=-2.123833121213326   gap=0.005868917558758952   feas=0.5391394775506972\n",
      "iter=8   val=-2.0891843391715352   gap=0.1062669641283489   feas=0.42162502302698185\n",
      "iter=16   val=-2.038682145901037   gap=0.1627478725161107   feas=0.3986952412566465\n",
      "iter=32   val=-2.036719250027245   gap=0.3117566478999945   feas=0.39662358066506165\n",
      "iter=64   val=-1.4523685578094125   gap=0.2664092093237933   feas=0.23140046431279077\n",
      "iter=128   val=-0.9038855018942465   gap=0.07624105599853252   feas=0.07198062416256897\n",
      "iter=256   val=-0.6693843829996262   gap=0.027962964501060374   feas=0.021048460713232596\n",
      "iter=512   val=-0.6934001640806773   gap=0.02319957139462043   feas=0.00494149579851411\n",
      "iter=1024   val=-0.7101921101520015   gap=1.244724950831016e-5   feas=0.0025478878244176873\n",
      "iter=2048   val=-0.7048633553147333   gap=0.0007721899680213061   feas=0.000825958796823729\n",
      "iter=4096   val=-0.703781768205361   gap=0.00028906404552654907   feas=0.0005219929975737184\n",
      "iter=8192   val=-0.7039396313784749   gap=0.00023812344158701115   feas=0.00024398851666531155\n",
      "iter=16384   val=-0.7040705713456462   gap=0.0015502439177108357   feas=8.713419042353028e-5\n",
      "iter=22279   val=-0.7039534186382683   gap=9.939865393037833e-5   feas=9.91543840664477e-5\n",
      "tol satisfies!!!\n",
      "\n",
      "####################################\n",
      "opt_val = -0.7039534186382683\n",
      "####################################\n",
      "Solving time:\n",
      "  4.577634 seconds (6.03 M allocations: 493.489 MiB, 3.62% gc time)\n",
      "Total time:\n",
      " 27.727285 seconds (53.76 M allocations: 2.825 GiB, 6.02% gc time)\n"
     ]
    },
    {
     "data": {
      "text/plain": [
       "-0.7039534186382683"
      ]
     },
     "execution_count": 4,
     "metadata": {},
     "output_type": "execute_result"
    }
   ],
   "source": [
    "include(\"../src/ctpNCPOP.jl\")\n",
    "using .ctpNCPOP\n",
    "\n",
    "opt_val1=ctpNCPOP.POP_dense_CGAL(n,m,l,lmon_g,supp_g,coe_g,lmon_h,supp_h,coe_h,lmon_f,supp_f,coe_f,dg,dh,k,\n",
    "                                 maxit=Int64(1e6),tol=1e-4,\n",
    "                                 use_eqcons_to_get_constant_trace=false,\n",
    "                                 check_tol_each_iter=true)"
   ]
  },
  {
   "cell_type": "code",
   "execution_count": null,
   "metadata": {},
   "outputs": [],
   "source": []
  },
  {
   "cell_type": "code",
   "execution_count": 5,
   "metadata": {},
   "outputs": [
    {
     "name": "stdout",
     "output_type": "stream",
     "text": [
      "------------------------------------------------------\n",
      "The sizes of blocks:\n",
      "[13]\n",
      "[1]\n",
      "------------------------------------------------------\n",
      "Problem\n",
      "  Name                   :                 \n",
      "  Objective sense        : max             \n",
      "  Type                   : CONIC (conic optimization problem)\n",
      "  Constraints            : 73              \n",
      "  Cones                  : 0               \n",
      "  Scalar variables       : 11              \n",
      "  Matrix variables       : 2               \n",
      "  Integer variables      : 0               \n",
      "\n",
      "Optimizer started.\n",
      "Presolve started.\n",
      "Linear dependency checker started.\n",
      "Linear dependency checker terminated.\n",
      "Eliminator started.\n",
      "Freed constraints in eliminator : 0\n",
      "Eliminator terminated.\n",
      "Eliminator - tries                  : 1                 time                   : 0.00            \n",
      "Lin. dep.  - tries                  : 1                 time                   : 0.00            \n",
      "Lin. dep.  - number                 : 0               \n",
      "Presolve terminated. Time: 0.00    \n",
      "Problem\n",
      "  Name                   :                 \n",
      "  Objective sense        : max             \n",
      "  Type                   : CONIC (conic optimization problem)\n",
      "  Constraints            : 73              \n",
      "  Cones                  : 0               \n",
      "  Scalar variables       : 11              \n",
      "  Matrix variables       : 2               \n",
      "  Integer variables      : 0               \n",
      "\n",
      "Optimizer  - threads                : 4               \n",
      "Optimizer  - solved problem         : the primal      \n",
      "Optimizer  - Constraints            : 73\n",
      "Optimizer  - Cones                  : 1\n",
      "Optimizer  - Scalar variables       : 12                conic                  : 12              \n",
      "Optimizer  - Semi-definite variables: 2                 scalarized             : 101             \n",
      "Factor     - setup time             : 0.00              dense det. time        : 0.00            \n",
      "Factor     - ML order time          : 0.00              GP order time          : 0.00            \n",
      "Factor     - nonzeros before factor : 2701              after factor           : 2701            \n",
      "Factor     - dense dim.             : 0                 flops                  : 1.68e+05        \n",
      "ITE PFEAS    DFEAS    GFEAS    PRSTATUS   POBJ              DOBJ              MU       TIME  \n",
      "0   1.9e+00  1.0e+00  1.0e+00  0.00e+00   0.000000000e+00   0.000000000e+00   1.0e+00  0.00  \n",
      "1   7.8e-01  4.2e-01  2.9e-01  5.01e-01   -6.805053460e-01  -6.875398633e-01  4.2e-01  0.00  \n",
      "2   1.9e-01  1.0e-01  3.8e-02  1.09e+00   -8.028245094e-01  -8.173539114e-01  1.0e-01  0.00  \n",
      "3   3.7e-02  2.0e-02  3.4e-03  9.04e-01   -6.682127176e-01  -6.741880870e-01  2.0e-02  0.00  \n",
      "4   3.8e-03  2.1e-03  1.2e-04  9.52e-01   -7.004194462e-01  -7.011103309e-01  2.1e-03  0.00  \n",
      "5   4.1e-04  2.2e-04  4.1e-06  9.93e-01   -7.036985515e-01  -7.037728410e-01  2.2e-04  0.00  \n",
      "6   2.9e-05  1.6e-05  7.7e-08  9.99e-01   -7.039962608e-01  -7.040013024e-01  1.6e-05  0.01  \n",
      "7   1.1e-06  5.7e-07  5.2e-10  1.00e+00   -7.040116953e-01  -7.040118500e-01  5.7e-07  0.01  \n",
      "8   6.6e-08  3.6e-08  8.1e-12  1.00e+00   -7.040117666e-01  -7.040117749e-01  3.6e-08  0.01  \n",
      "9   2.9e-09  1.6e-09  7.4e-14  1.00e+00   -7.040117602e-01  -7.040117605e-01  1.6e-09  0.01  \n",
      "Optimizer terminated. Time: 0.01    \n",
      "\n",
      "optimum = -0.7040117602170779\n",
      " 12.994616 seconds (24.52 M allocations: 1.197 GiB, 6.09% gc time)\n"
     ]
    }
   ],
   "source": [
    "using NCTSSOS\n",
    "\n",
    "@time ctpNCPOP.nctssos_first(Vector{Vector{Vector{UInt16}}}([[supp_f];supp_g;supp_h]),[[coe_f];coe_g;coe_h],\n",
    "    n,k,[dg;dh],numeq=l,reducebasis=false,obj=\"eigen\",merge=false,TS=false,QUIET=false);"
   ]
  },
  {
   "cell_type": "code",
   "execution_count": 6,
   "metadata": {},
   "outputs": [],
   "source": [
    "#using ctpPOP\n",
    "\n",
    "#optval=ctpPOP.POP_NLP(n,m,l,lmon_g,supp_g,coe_g,lmon_h,supp_h,coe_h,lmon_f,supp_f,coe_f)"
   ]
  },
  {
   "cell_type": "code",
   "execution_count": null,
   "metadata": {},
   "outputs": [],
   "source": []
  }
 ],
 "metadata": {
  "kernelspec": {
   "display_name": "Julia 1.3.0",
   "language": "julia",
   "name": "julia-1.3"
  },
  "language_info": {
   "file_extension": ".jl",
   "mimetype": "application/julia",
   "name": "julia",
   "version": "1.3.0"
  }
 },
 "nbformat": 4,
 "nbformat_minor": 2
}
