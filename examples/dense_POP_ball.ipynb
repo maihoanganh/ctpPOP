{
 "cells": [
  {
   "cell_type": "code",
   "execution_count": 1,
   "metadata": {},
   "outputs": [
    {
     "name": "stdout",
     "output_type": "stream",
     "text": [
      "***Problem setting***\n",
      "Number of variable: n=5\n",
      "====================\n",
      "Number of inequality constraints: m=1\n",
      "====================\n",
      "Number of equality constraints: l=0\n"
     ]
    }
   ],
   "source": [
    "using DynamicPolynomials\n",
    "\n",
    "println(\"***Problem setting***\")\n",
    "\n",
    "n=5\n",
    "\n",
    "println(\"Number of variable: n=\",n)\n",
    "println(\"====================\")\n",
    "\n",
    "@polyvar x[1:n]# variables\n",
    "\n",
    "function generate_random_poly(v)\n",
    "    c=2*rand(Float64,length(v)).-1\n",
    "    return c'*v\n",
    "end\n",
    "# random quadratic objective function f\n",
    "v=reverse(monomials(x,0:2))\n",
    "f=generate_random_poly(v)\n",
    "\n",
    "\n",
    "# unit sphere constraint\n",
    "g=[1.0-sum(x.^2)] #type of coefficients of each polynomial must be float\n",
    "\n",
    "m=length(g)\n",
    "println(\"Number of inequality constraints: m=\",m)\n",
    "println(\"====================\")\n",
    "\n",
    "l=0#ceil(Int64, n/4)\n",
    "\n",
    "h=Vector{Polynomial{true,Float64}}(undef,l)\n",
    "randx=2*rand(n).-1# create a feasible solution\n",
    "randx=rand(1)[1]*randx./sqrt(sum(randx.^2))\n",
    "\n",
    "\n",
    "for j in 1:l\n",
    "    h[j]=generate_random_poly(v[2:end])\n",
    "    h[j]-=h[j](x => randx) #make constraints feasible\n",
    "end\n",
    "\n",
    "l=length(h)\n",
    "println(\"Number of equality constraints: l=\",l)"
   ]
  },
  {
   "cell_type": "code",
   "execution_count": 2,
   "metadata": {},
   "outputs": [
    {
     "name": "stderr",
     "output_type": "stream",
     "text": [
      "┌ Info: Precompiling ctpPOP [8dd00c7b-d197-4c04-bcb1-2ef5c20236b2]\n",
      "└ @ Base loading.jl:1273\n"
     ]
    }
   ],
   "source": [
    "using ctpPOP\n",
    "\n",
    "n,m,l,lmon_g,supp_g,coe_g,lmon_h,supp_h,coe_h,lmon_f,supp_f,coe_f,dg,dh=ctpPOP.get_info(x,f,g,h,sparse=false);"
   ]
  },
  {
   "cell_type": "code",
   "execution_count": 3,
   "metadata": {},
   "outputs": [
    {
     "name": "stdout",
     "output_type": "stream",
     "text": [
      "Relaxation order: k=2\n"
     ]
    }
   ],
   "source": [
    "\n",
    "k=2\n",
    "\n",
    "println(\"Relaxation order: k=\",k)"
   ]
  },
  {
   "cell_type": "code",
   "execution_count": 4,
   "metadata": {},
   "outputs": [
    {
     "name": "stderr",
     "output_type": "stream",
     "text": [
      "┌ Warning: `with_optimizer` is deprecated. Adapt the following example to update your code:\n",
      "│ `with_optimizer(Ipopt.Optimizer, max_cpu_time=60.0)` becomes `optimizer_with_attributes(Ipopt.Optimizer, \"max_cpu_time\" => 60.0)`.\n",
      "│   caller = ip:0x0\n",
      "└ @ Core :-1\n"
     ]
    },
    {
     "name": "stdout",
     "output_type": "stream",
     "text": [
      "  Computing constant trace status: OPTIMAL\n",
      "  Constant trace: ak = 3.0\n",
      "  Number of blocks: omega=2\n",
      "  Size of the largest block: s^max=21\n",
      "  Number of equality trace constraints: zeta=127\n",
      "Modeling time:\n",
      " 24.188929 seconds (49.71 M allocations: 2.443 GiB, 5.58% gc time)\n",
      "iter=1   val=-3.5871355390612805   gap=0.19426045196619418   feas=1.8137304370496343\n",
      "iter=2   val=-2.9759200907312944   gap=0.18516211315693398   feas=2.0216471604570763\n",
      "iter=4   val=-2.581133289439201   gap=0.012538494918140684   feas=0.691381130474892\n",
      "iter=8   val=-2.27498261063971   gap=0.06990433623967664   feas=0.22660616498745306\n",
      "iter=16   val=-2.332505110210524   gap=0.06546846117933111   feas=0.08979167116259969\n",
      "iter=32   val=-2.378095022294527   gap=0.013315737011575587   feas=0.015959873415934207\n",
      "iter=64   val=-2.403329410721694   gap=0.0033509563391979783   feas=0.0009359327440795304\n",
      "iter=120   val=-2.4109868166973483   gap=0.000984422348347261   feas=0.00026763526088509446\n",
      "tol satisfies!!!\n",
      "\n",
      "####################################\n",
      "opt_val = -2.4109868166973483\n",
      "####################################\n",
      "Solving time:\n",
      "  0.578288 seconds (1.15 M allocations: 61.950 MiB)\n",
      "Total time:\n",
      " 24.812557 seconds (50.91 M allocations: 2.505 GiB, 5.44% gc time)\n"
     ]
    },
    {
     "data": {
      "text/plain": [
       "-2.4109868166973483"
      ]
     },
     "execution_count": 4,
     "metadata": {},
     "output_type": "execute_result"
    }
   ],
   "source": [
    "using ctpPOP\n",
    "\n",
    "opt_val1=ctpPOP.POP_dense_CGAL(n,m,l,lmon_g,supp_g,coe_g,lmon_h,supp_h,coe_h,lmon_f,supp_f,coe_f,dg,dh,k,\n",
    "                         maxit=Int64(1e6),tol=1e-3,\n",
    "                         use_eqcons_to_get_constant_trace=false,\n",
    "                         check_tol_each_iter=true)"
   ]
  },
  {
   "cell_type": "code",
   "execution_count": 5,
   "metadata": {},
   "outputs": [
    {
     "name": "stdout",
     "output_type": "stream",
     "text": [
      "Problem\n",
      "  Name                   :                 \n",
      "  Objective sense        : max             \n",
      "  Type                   : CONIC (conic optimization problem)\n",
      "  Constraints            : 126             \n",
      "  Cones                  : 0               \n",
      "  Scalar variables       : 1               \n",
      "  Matrix variables       : 2               \n",
      "  Integer variables      : 0               \n",
      "\n",
      "Optimizer started.\n",
      "Presolve started.\n",
      "Linear dependency checker started.\n",
      "Linear dependency checker terminated.\n",
      "Eliminator started.\n",
      "Freed constraints in eliminator : 0\n",
      "Eliminator terminated.\n",
      "Eliminator - tries                  : 1                 time                   : 0.00            \n",
      "Lin. dep.  - tries                  : 1                 time                   : 0.00            \n",
      "Lin. dep.  - number                 : 0               \n",
      "Presolve terminated. Time: 0.00    \n",
      "Problem\n",
      "  Name                   :                 \n",
      "  Objective sense        : max             \n",
      "  Type                   : CONIC (conic optimization problem)\n",
      "  Constraints            : 126             \n",
      "  Cones                  : 0               \n",
      "  Scalar variables       : 1               \n",
      "  Matrix variables       : 2               \n",
      "  Integer variables      : 0               \n",
      "\n",
      "Optimizer  - threads                : 4               \n",
      "Optimizer  - solved problem         : the primal      \n",
      "Optimizer  - Constraints            : 126\n",
      "Optimizer  - Cones                  : 1\n",
      "Optimizer  - Scalar variables       : 2                 conic                  : 2               \n",
      "Optimizer  - Semi-definite variables: 2                 scalarized             : 252             \n",
      "Factor     - setup time             : 0.00              dense det. time        : 0.00            \n",
      "Factor     - ML order time          : 0.00              GP order time          : 0.00            \n",
      "Factor     - nonzeros before factor : 8001              after factor           : 8001            \n",
      "Factor     - dense dim.             : 0                 flops                  : 8.46e+05        \n",
      "ITE PFEAS    DFEAS    GFEAS    PRSTATUS   POBJ              DOBJ              MU       TIME  \n",
      "0   2.7e+00  1.0e+00  1.0e+00  0.00e+00   0.000000000e+00   0.000000000e+00   1.0e+00  0.00  \n",
      "1   8.7e-01  3.2e-01  2.3e-01  -2.16e-01  -1.867644869e+00  -1.935511230e+00  3.2e-01  0.00  \n",
      "2   1.6e-01  5.9e-02  1.5e-02  1.40e+00   -2.167697689e+00  -2.168482685e+00  5.9e-02  0.01  \n",
      "3   1.7e-02  6.5e-03  6.4e-04  1.04e+00   -2.410015532e+00  -2.412882598e+00  6.5e-03  0.01  \n",
      "4   7.2e-05  2.7e-05  1.7e-07  1.01e+00   -2.413989565e+00  -2.413998899e+00  2.7e-05  0.01  \n",
      "5   5.3e-06  2.0e-06  3.2e-09  9.99e-01   -2.414056081e+00  -2.414056682e+00  2.0e-06  0.01  \n",
      "6   1.2e-07  4.3e-08  1.0e-11  1.00e+00   -2.414064049e+00  -2.414064060e+00  4.3e-08  0.01  \n",
      "7   7.0e-10  2.5e-10  4.6e-15  1.00e+00   -2.414064258e+00  -2.414064258e+00  2.5e-10  0.01  \n",
      "Optimizer terminated. Time: 0.01    \n",
      "\n",
      "OPTIMAL\n",
      "opt_val=-2.4140642584005643\n",
      "  9.101702 seconds (13.43 M allocations: 692.891 MiB, 3.54% gc time)\n"
     ]
    },
    {
     "data": {
      "text/plain": [
       "-2.4140642584005643"
      ]
     },
     "execution_count": 5,
     "metadata": {},
     "output_type": "execute_result"
    }
   ],
   "source": [
    "using ctpPOP\n",
    "\n",
    "opt_val2=ctpPOP.POP_dense_SOS(x,f,g,h,k,tol=1e-3)"
   ]
  },
  {
   "cell_type": "code",
   "execution_count": 6,
   "metadata": {},
   "outputs": [
    {
     "name": "stdout",
     "output_type": "stream",
     "text": [
      "  Computing constant trace status: OPTIMAL\n",
      "  Constant trace: ak = 3.0\n",
      "  Number of blocks: omega=2\n",
      "  Size of the largest block: s^max=21\n",
      "  Number of equality trace constraints: zeta=127\n",
      "Modeling time:\n",
      "  0.007923 seconds (11.43 k allocations: 1.212 MiB)\n",
      "---------------\n",
      "| Parameters: |\n",
      "---------------\n",
      "n:       127\n",
      "maxtime: 300000.000000\n",
      "na:      2\n",
      "mcu:     5\n",
      "mc:      7\n",
      "rpar: \n",
      "ipar: \n",
      " Warning: MC > MCU. Assigned MC = MCU.\n",
      " Entry to LMBM:\n",
      " NIT=    1  NFE=    1  F= 0.55409887D+00  WK= 0.1404D+00  QK= 0.7021D-01\n",
      " NIT=    2  NFE=    2  F= 0.45037409D+00  WK= 0.8090D-01  QK= 0.2578D+00\n",
      " NIT=    3  NFE=    3  F= 0.42387754D+00  WK= 0.3283D-01  QK= 0.4693D-01\n",
      " NIT=    4  NFE=    4  F= 0.40442152D+00  WK= 0.8642D-01  QK= 0.3907D-01\n",
      " NIT=    5  NFE=    5  F= 0.40442152D+00  WK= 0.5514D-01  QK= 0.2799D-01\n",
      " NIT=    6  NFE=    6  F= 0.37680270D+00  WK= 0.5206D-01  QK= 0.1877D-01\n",
      " NIT=    7  NFE=    7  F= 0.37680270D+00  WK= 0.2900D-01  QK= 0.1474D-01\n",
      " NIT=    8  NFE=    8  F= 0.36908960D+00  WK= 0.9513D-02  QK= 0.4959D-02\n",
      " NIT=    9  NFE=    9  F= 0.36659657D+00  WK= 0.5138D-02  QK= 0.3884D-01\n",
      " NIT=   10  NFE=   10  F= 0.36441671D+00  WK= 0.2086D-03  QK= 0.1121D-02\n",
      " Exit from LMBM:\n",
      " NIT=   11  NFE=   11  F= 0.36427121D+00  WK= 0.1233D-03  QK= 0.2336D-03  ITERM=  1\n",
      "-----------\n",
      "| Output: |\n",
      "-----------\n",
      "Termination:     1\n",
      "N. iter.:        11\n",
      "N. func. eval.:  11\n",
      "Final value:     0.364271\n",
      "Execution time:  0.077560\n",
      "\n",
      "####################################\n",
      "opt_val = -2.414939056264849\n",
      "####################################\n",
      "Solving time:\n",
      "  0.479628 seconds (435.75 k allocations: 23.542 MiB)\n",
      "Total time:\n",
      "  0.487754 seconds (447.70 k allocations: 24.765 MiB)\n"
     ]
    },
    {
     "data": {
      "text/plain": [
       "-2.414939056264849"
      ]
     },
     "execution_count": 6,
     "metadata": {},
     "output_type": "execute_result"
    }
   ],
   "source": [
    "using ctpPOP\n",
    "\n",
    "opt_val=ctpPOP.POP_dense_LMBM(n,m,l,lmon_g,supp_g,coe_g,lmon_h,supp_h,coe_h,lmon_f,supp_f,coe_f,dg,dh,k,\n",
    "                         tol=1e-3,use_eqcons_to_get_constant_trace=false)"
   ]
  },
  {
   "cell_type": "code",
   "execution_count": null,
   "metadata": {},
   "outputs": [],
   "source": [
    "using ctpPOP\n",
    "\n",
    "optval=ctpPOP.POP_NLP(n,m,l,lmon_g,supp_g,coe_g,lmon_h,supp_h,coe_h,lmon_f,supp_f,coe_f,set_initial_point_opf=false)"
   ]
  },
  {
   "cell_type": "code",
   "execution_count": null,
   "metadata": {},
   "outputs": [],
   "source": []
  }
 ],
 "metadata": {
  "kernelspec": {
   "display_name": "Julia 1.3.0",
   "language": "julia",
   "name": "julia-1.3"
  },
  "language_info": {
   "file_extension": ".jl",
   "mimetype": "application/julia",
   "name": "julia",
   "version": "1.3.0"
  }
 },
 "nbformat": 4,
 "nbformat_minor": 2
}
