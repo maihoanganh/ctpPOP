{
 "cells": [
  {
   "cell_type": "code",
   "execution_count": 8,
   "metadata": {},
   "outputs": [
    {
     "name": "stdout",
     "output_type": "stream",
     "text": [
      "***Problem setting***\n",
      "Number of variable: n=5\n",
      "====================\n",
      "Number of inequality constraints: m=1\n",
      "====================\n",
      "Number of equality constraints: l=0\n"
     ]
    }
   ],
   "source": [
    "using DynamicPolynomials\n",
    "\n",
    "println(\"***Problem setting***\")\n",
    "\n",
    "n=5\n",
    "\n",
    "println(\"Number of variable: n=\",n)\n",
    "println(\"====================\")\n",
    "\n",
    "@polyvar x[1:n]# variables\n",
    "\n",
    "function generate_random_poly(v)\n",
    "    c=2*rand(Float64,length(v)).-1\n",
    "    return c'*v\n",
    "end\n",
    "# random quadratic objective function f\n",
    "v=reverse(monomials(x,0:2))\n",
    "f=generate_random_poly(v)\n",
    "\n",
    "\n",
    "# unit sphere constraint\n",
    "g=[1.0-sum(x.^2)] #type of coefficients of each polynomial must be float\n",
    "\n",
    "m=length(g)\n",
    "println(\"Number of inequality constraints: m=\",m)\n",
    "println(\"====================\")\n",
    "\n",
    "l=0#ceil(Int64, n/4)\n",
    "\n",
    "h=Vector{Polynomial{true,Float64}}(undef,l)\n",
    "randx=2*rand(n).-1# create a feasible solution\n",
    "randx=rand(1)[1]*randx./sqrt(sum(randx.^2))\n",
    "\n",
    "\n",
    "for j in 1:l\n",
    "    h[j]=generate_random_poly(v[2:end])\n",
    "    h[j]-=h[j](x => randx) #make constraints feasible\n",
    "end\n",
    "\n",
    "l=length(h)\n",
    "println(\"Number of equality constraints: l=\",l)"
   ]
  },
  {
   "cell_type": "code",
   "execution_count": 9,
   "metadata": {},
   "outputs": [],
   "source": [
    "using ctpPOP\n",
    "\n",
    "n,m,l,lmon_g,supp_g,coe_g,lmon_h,supp_h,coe_h,lmon_f,supp_f,coe_f,dg,dh=ctpPOP.get_info(x,f,g,h,sparse=false);"
   ]
  },
  {
   "cell_type": "code",
   "execution_count": 10,
   "metadata": {},
   "outputs": [
    {
     "name": "stdout",
     "output_type": "stream",
     "text": [
      "Relaxation order: k=2\n"
     ]
    }
   ],
   "source": [
    "\n",
    "k=2\n",
    "\n",
    "println(\"Relaxation order: k=\",k)"
   ]
  },
  {
   "cell_type": "code",
   "execution_count": 11,
   "metadata": {},
   "outputs": [
    {
     "name": "stdout",
     "output_type": "stream",
     "text": [
      "  Computing constant trace status: OPTIMAL\n",
      "  Constant trace: ak = 3.0\n",
      "  Number of blocks: omega=2\n",
      "  Size of the largest block: s^max=21\n",
      "  Number of equality trace constraints: zeta=127\n",
      "Modeling time:\n",
      "  0.007875 seconds (11.43 k allocations: 1.212 MiB)\n",
      "iter=1   val=-3.429967486094198   gap=3.392205700598837e-5   feas=3.2712749225299538\n",
      "iter=2   val=-1.475582873121216   gap=0.5552824270818066   feas=0.5173514397313852\n",
      "iter=4   val=-1.3353735795376773   gap=0.3061045872471591   feas=0.6917563642323653\n",
      "iter=8   val=-1.521885595975227   gap=0.03214116542519133   feas=0.33797282587657873\n",
      "iter=16   val=-1.259543600934106   gap=0.0515130758494126   feas=0.23839736601621683\n",
      "iter=32   val=-1.3074470952591062   gap=0.035649981807156256   feas=0.11057516289510524\n",
      "iter=64   val=-1.3359737209677744   gap=0.018523216116806112   feas=0.05615505309484561\n",
      "iter=128   val=-1.3657286476255475   gap=0.03647221613150539   feas=0.018937829803657453\n",
      "iter=256   val=-1.3598030619930124   gap=0.03923916508329637   feas=0.00327930131890042\n",
      "iter=512   val=-1.3622572551799248   gap=0.031549148420991935   feas=0.0005492788919218588\n",
      "iter=1024   val=-1.3629194406636478   gap=0.00332346431713707   feas=0.0020577206782348974\n",
      "iter=2048   val=-1.3657864671421422   gap=0.0011688223790028713   feas=0.0003479466275815043\n",
      "iter=4096   val=-1.3667774475794916   gap=0.001234191190137155   feas=0.000267215891409264\n",
      "iter=5150   val=-1.367219972506891   gap=0.0009997492191976393   feas=0.00017654242118445354\n",
      "tol satisfies!!!\n",
      "\n",
      "####################################\n",
      "opt_val = -1.367219972506891\n",
      "####################################\n",
      "Solving time:\n",
      "  1.198846 seconds (1.52 M allocations: 194.248 MiB, 3.61% gc time)\n",
      "Total time:\n",
      "  1.206953 seconds (1.53 M allocations: 195.473 MiB, 3.58% gc time)\n"
     ]
    },
    {
     "data": {
      "text/plain": [
       "-1.367219972506891"
      ]
     },
     "execution_count": 11,
     "metadata": {},
     "output_type": "execute_result"
    }
   ],
   "source": [
    "using ctpPOP\n",
    "\n",
    "opt_val1=ctpPOP.POP_dense_CGAL(n,m,l,lmon_g,supp_g,coe_g,lmon_h,supp_h,coe_h,lmon_f,supp_f,coe_f,dg,dh,k,\n",
    "                         maxit=Int64(1e6),tol=1e-3,\n",
    "                         use_eqcons_to_get_constant_trace=false,\n",
    "                         check_tol_each_iter=true)"
   ]
  },
  {
   "cell_type": "code",
   "execution_count": 12,
   "metadata": {},
   "outputs": [
    {
     "name": "stdout",
     "output_type": "stream",
     "text": [
      "Problem\n",
      "  Name                   :                 \n",
      "  Objective sense        : max             \n",
      "  Type                   : CONIC (conic optimization problem)\n",
      "  Constraints            : 126             \n",
      "  Cones                  : 0               \n",
      "  Scalar variables       : 1               \n",
      "  Matrix variables       : 2               \n",
      "  Integer variables      : 0               \n",
      "\n",
      "Optimizer started.\n",
      "Presolve started.\n",
      "Linear dependency checker started.\n",
      "Linear dependency checker terminated.\n",
      "Eliminator started.\n",
      "Freed constraints in eliminator : 0\n",
      "Eliminator terminated.\n",
      "Eliminator - tries                  : 1                 time                   : 0.00            \n",
      "Lin. dep.  - tries                  : 1                 time                   : 0.00            \n",
      "Lin. dep.  - number                 : 0               \n",
      "Presolve terminated. Time: 0.00    \n",
      "Problem\n",
      "  Name                   :                 \n",
      "  Objective sense        : max             \n",
      "  Type                   : CONIC (conic optimization problem)\n",
      "  Constraints            : 126             \n",
      "  Cones                  : 0               \n",
      "  Scalar variables       : 1               \n",
      "  Matrix variables       : 2               \n",
      "  Integer variables      : 0               \n",
      "\n",
      "Optimizer  - threads                : 4               \n",
      "Optimizer  - solved problem         : the primal      \n",
      "Optimizer  - Constraints            : 126\n",
      "Optimizer  - Cones                  : 1\n",
      "Optimizer  - Scalar variables       : 2                 conic                  : 2               \n",
      "Optimizer  - Semi-definite variables: 2                 scalarized             : 252             \n",
      "Factor     - setup time             : 0.00              dense det. time        : 0.00            \n",
      "Factor     - ML order time          : 0.00              GP order time          : 0.00            \n",
      "Factor     - nonzeros before factor : 8001              after factor           : 8001            \n",
      "Factor     - dense dim.             : 0                 flops                  : 8.46e+05        \n",
      "ITE PFEAS    DFEAS    GFEAS    PRSTATUS   POBJ              DOBJ              MU       TIME  \n",
      "0   1.9e+00  1.0e+00  1.0e+00  0.00e+00   0.000000000e+00   0.000000000e+00   1.0e+00  0.00  \n",
      "1   6.3e-01  3.2e-01  1.6e-01  2.44e-01   -1.274267456e+00  -1.177556741e+00  3.2e-01  0.00  \n",
      "2   1.1e-01  5.6e-02  9.1e-03  1.57e+00   -1.281733392e+00  -1.262341841e+00  5.6e-02  0.00  \n",
      "3   8.3e-03  4.3e-03  2.3e-04  1.15e+00   -1.357594574e+00  -1.357206227e+00  4.3e-03  0.01  \n",
      "4   4.3e-04  2.2e-04  2.5e-06  9.89e-01   -1.369544977e+00  -1.369504496e+00  2.2e-04  0.01  \n",
      "5   3.2e-07  1.6e-07  5.3e-11  1.00e+00   -1.369715995e+00  -1.369715972e+00  1.6e-07  0.01  \n",
      "6   1.7e-08  8.9e-09  6.7e-13  1.00e+00   -1.369716141e+00  -1.369716140e+00  8.9e-09  0.01  \n",
      "Optimizer terminated. Time: 0.01    \n",
      "\n",
      "OPTIMAL\n",
      "opt_val=-1.3697161414137733\n",
      "  0.023393 seconds (74.84 k allocations: 8.366 MiB)\n"
     ]
    },
    {
     "data": {
      "text/plain": [
       "-1.3697161414137733"
      ]
     },
     "execution_count": 12,
     "metadata": {},
     "output_type": "execute_result"
    }
   ],
   "source": [
    "using ctpPOP\n",
    "\n",
    "opt_val2=ctpPOP.POP_dense_SOS(x,f,g,h,k,tol=1e-3)"
   ]
  },
  {
   "cell_type": "code",
   "execution_count": 13,
   "metadata": {},
   "outputs": [
    {
     "name": "stdout",
     "output_type": "stream",
     "text": [
      "  Computing constant trace status: OPTIMAL\n",
      "  Constant trace: ak = 3.0\n",
      "  Number of blocks: omega=2\n",
      "  Size of the largest block: s^max=21\n",
      "  Number of equality trace constraints: zeta=127\n",
      "Modeling time:\n",
      "  0.009242 seconds (11.43 k allocations: 1.212 MiB)\n",
      "---------------\n",
      "| Parameters: |\n",
      "---------------\n",
      "n:       127\n",
      "maxtime: 300000.000000\n",
      "na:      2\n",
      "mcu:     5\n",
      "mc:      7\n",
      "rpar: \n",
      "ipar: \n",
      " Warning: MC > MCU. Assigned MC = MCU.\n",
      " Entry to LMBM:\n",
      " NIT=    1  NFE=    1  F= 0.66038060D+00  WK= 0.5330D+00  QK= 0.2665D+00\n",
      " NIT=    2  NFE=    2  F= 0.41191474D+00  WK= 0.6964D-01  QK= 0.6337D-01\n",
      " NIT=    3  NFE=    3  F= 0.34544088D+00  WK= 0.1085D+01  QK= 0.5418D-01\n",
      " Warning: A nondescent search direction occured. Restart.\n",
      " NIT=    4  NFE=    4  F= 0.34544088D+00  WK= 0.1084D+00  QK= 0.5418D-01\n",
      " NIT=    5  NFE=    5  F= 0.34544088D+00  WK= 0.8336D-01  QK= 0.4629D-01\n",
      " NIT=    6  NFE=    6  F= 0.30946185D+00  WK= 0.3921D-01  QK= 0.7583D-01\n",
      " NIT=    7  NFE=    7  F= 0.28101885D+00  WK= 0.2762D-01  QK= 0.9295D-01\n",
      " NIT=    8  NFE=    8  F= 0.28101885D+00  WK= 0.7765D-01  QK= 0.7297D-01\n",
      " NIT=    9  NFE=   13  F= 0.27972984D+00  WK= 0.6682D-02  QK= 0.4679D-01\n",
      " NIT=   10  NFE=   14  F= 0.27383900D+00  WK= 0.2727D-01  QK= 0.3527D-01\n",
      " NIT=   11  NFE=   15  F= 0.27383900D+00  WK= 0.1096D-01  QK= 0.1172D-01\n",
      " NIT=   12  NFE=   19  F= 0.27382707D+00  WK= 0.1294D-01  QK= 0.4773D-01\n",
      " Warning: A nondescent search direction occured. Restart.\n",
      " NIT=   13  NFE=   20  F= 0.27382707D+00  WK= 0.9547D-01  QK= 0.4773D-01\n",
      " NIT=   14  NFE=   21  F= 0.27382707D+00  WK= 0.5114D-01  QK= 0.2563D-01\n",
      " NIT=   15  NFE=   24  F= 0.27233231D+00  WK= 0.1322D-01  QK= 0.4831D-01\n",
      " NIT=   16  NFE=   25  F= 0.27233231D+00  WK= 0.1228D-01  QK= 0.1553D-01\n",
      " NIT=   17  NFE=   26  F= 0.26743157D+00  WK= 0.1017D-01  QK= 0.5849D-01\n",
      " NIT=   18  NFE=   27  F= 0.26743157D+00  WK= 0.1201D-01  QK= 0.1487D-01\n",
      " NIT=   19  NFE=   29  F= 0.26636515D+00  WK= 0.6510D-02  QK= 0.6899D-01\n",
      " NIT=   20  NFE=   30  F= 0.26517842D+00  WK= 0.1955D-02  QK= 0.4587D-01\n",
      " NIT=   21  NFE=   31  F= 0.26483705D+00  WK= 0.8748D-03  QK= 0.2923D-01\n",
      " NIT=   22  NFE=   32  F= 0.26418268D+00  WK= 0.3648D-03  QK= 0.5810D-02\n",
      " NIT=   23  NFE=   33  F= 0.26403391D+00  WK= 0.8996D-04  QK= 0.2783D-02\n",
      " Exit from LMBM:\n",
      " NIT=   24  NFE=   34  F= 0.26397465D+00  WK= 0.5146D-04  QK= 0.5885D-03  ITERM=  1\n",
      "-----------\n",
      "| Output: |\n",
      "-----------\n",
      "Termination:     1\n",
      "N. iter.:        24\n",
      "N. func. eval.:  34\n",
      "Final value:     0.263975\n",
      "Execution time:  0.013557\n",
      "\n",
      "####################################\n",
      "opt_val = -1.3710882683903975\n",
      "####################################\n",
      "Solving time:\n",
      "  0.014653 seconds (11.94 k allocations: 1.490 MiB)\n",
      "Total time:\n",
      "  0.024119 seconds (23.90 k allocations: 2.713 MiB)\n"
     ]
    },
    {
     "data": {
      "text/plain": [
       "-1.3710882683903975"
      ]
     },
     "execution_count": 13,
     "metadata": {},
     "output_type": "execute_result"
    }
   ],
   "source": [
    "using ctpPOP\n",
    "\n",
    "opt_val=ctpPOP.POP_dense_LMBM(n,m,l,lmon_g,supp_g,coe_g,lmon_h,supp_h,coe_h,lmon_f,supp_f,coe_f,dg,dh,k,\n",
    "                         tol=1e-3,use_eqcons_to_get_constant_trace=false)"
   ]
  },
  {
   "cell_type": "code",
   "execution_count": 14,
   "metadata": {},
   "outputs": [],
   "source": [
    "#using ctpPOP\n",
    "\n",
    "#optval=ctpPOP.POP_NLP(n,m,l,lmon_g,supp_g,coe_g,lmon_h,supp_h,coe_h,lmon_f,supp_f,coe_f)"
   ]
  },
  {
   "cell_type": "code",
   "execution_count": null,
   "metadata": {},
   "outputs": [],
   "source": []
  }
 ],
 "metadata": {
  "kernelspec": {
   "display_name": "Julia 1.3.0",
   "language": "julia",
   "name": "julia-1.3"
  },
  "language_info": {
   "file_extension": ".jl",
   "mimetype": "application/julia",
   "name": "julia",
   "version": "1.3.0"
  }
 },
 "nbformat": 4,
 "nbformat_minor": 2
}
