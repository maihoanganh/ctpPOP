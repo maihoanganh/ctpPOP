{
 "cells": [
  {
   "cell_type": "code",
   "execution_count": 25,
   "metadata": {},
   "outputs": [],
   "source": [
    "using DynamicPolynomials, LinearAlgebra\n",
    "\n",
    "@ncpolyvar x1 x2 x3 x4 x5 y1 y2 y3 y4 y5\n",
    "\n",
    "function star_algebra(mom)\n",
    "    if mom==1\n",
    "        return mom\n",
    "    else\n",
    "        ind=mom.z .>0\n",
    "        vars=mom.vars[ind]\n",
    "        exp=mom.z[ind]\n",
    "        return prod(vars[i]^exp[i] for i in length(exp):-1:1)\n",
    "    end\n",
    "end\n",
    "\n",
    "function get_star_alg(f)\n",
    "    mom=monomials(f)\n",
    "    coe=coefficients(f)\n",
    "    mom=star_algebra.(mom)\n",
    "    return dot(mom,coe)\n",
    "end\n",
    "\n",
    "\n",
    "X = [x1; x2; x3; x4; x5];\n",
    "Y = [y1; y2; y3; y4; y5];\n",
    "var=Vector{PolyVar{false}}([X;Y])\n",
    "C = [-1 -1 0 -1 1; -1 -1 -1 1 0; 1 1 -1 1 1; -1 1 0 0 0; 0 0 1 1 0];\n",
    "\n",
    "A = [0 0 -1 0 -1]; B = [0 -1 0 -1 -1];\n",
    "\n",
    "u =A*X +B*Y + X'*C*Y;\n",
    "\n",
    "u = x1*(y1+y2+y3)+x2*(y1+y2-y3)+x3*(y1-y2)-x1-2*y1-y2\n",
    "\n",
    "f = -0.5*(u + get_star_alg(u))\n",
    "\n",
    "g=Vector{Polynomial{false,Float64}}([])\n",
    "\n",
    "h=1.0*[X[j]-X[j]^2 for j in 1:5]\n",
    "h=[h;[Y[j]-Y[j]^2 for j in 1:5]]\n",
    "h=[h;[X[j]*Y[i]-Y[i]*X[j] for i in 1:5 for j in 1:5]]\n",
    "\n",
    "f=f(var=>(0.5*var.+0.5))\n",
    "\n",
    "for j in 1:length(h)\n",
    "    h[j]=4*h[j](var=>(0.5*var.+0.5))\n",
    "end"
   ]
  },
  {
   "cell_type": "code",
   "execution_count": 26,
   "metadata": {},
   "outputs": [
    {
     "name": "stderr",
     "output_type": "stream",
     "text": [
      "WARNING: replacing module ctpNCPOP.\n"
     ]
    }
   ],
   "source": [
    "include(\"../src/ctpNCPOP.jl\")\n",
    "using .ctpNCPOP\n",
    "\n",
    "n,m,l,lmon_g,supp_g,coe_g,lmon_h,supp_h,coe_h,lmon_f,supp_f,coe_f,dg,dh=ctpNCPOP.get_info(var,f,g,h);"
   ]
  },
  {
   "cell_type": "code",
   "execution_count": 27,
   "metadata": {},
   "outputs": [
    {
     "name": "stdout",
     "output_type": "stream",
     "text": [
      "Number of variables: n=10\n",
      "Number of inequality constraints: m=0\n",
      "Number of equality constraints: l=35\n"
     ]
    }
   ],
   "source": [
    "println(\"Number of variables: n=\",n)\n",
    "println(\"Number of inequality constraints: m=\",m)\n",
    "println(\"Number of equality constraints: l=\",l)"
   ]
  },
  {
   "cell_type": "code",
   "execution_count": 28,
   "metadata": {},
   "outputs": [
    {
     "name": "stdout",
     "output_type": "stream",
     "text": [
      "Relaxation order: k=3\n"
     ]
    }
   ],
   "source": [
    "k=3\n",
    "\n",
    "println(\"Relaxation order: k=\",k)"
   ]
  },
  {
   "cell_type": "code",
   "execution_count": 29,
   "metadata": {},
   "outputs": [
    {
     "name": "stdout",
     "output_type": "stream",
     "text": [
      "  Computing constant trace status: OPTIMAL\n",
      "  Constant trace: ak = 1111.0\n",
      "  Number of blocks: omega="
     ]
    },
    {
     "name": "stderr",
     "output_type": "stream",
     "text": [
      "WARNING: replacing module ctpNCPOP.\n"
     ]
    },
    {
     "name": "stdout",
     "output_type": "stream",
     "text": [
      "1\n",
      "  Size of the largest block: s^max=1111\n",
      "  Number of equality trace constraints: zeta=256586\n",
      "Modeling time:\n",
      "231.071087 seconds (63.72 M allocations: 1.387 TiB, 6.69% gc time)\n",
      "iter=1   val=-277.75000000000006   gap=8.156903154914153e-16   feas=2730.8161859903107\n",
      "iter=2   val=-71.70677928754719   gap=0.7043630140553391   feas=1894.9364668850974\n",
      "iter=4   val=-148.4255031905788   gap=0.2487494086284198   feas=1444.8114694884816\n",
      "iter=8   val=-39.476126002412435   gap=0.708356058064746   feas=734.4263864313411\n",
      "iter=16   val=-11.107721779776696   gap=0.9095925229111842   feas=405.58464007369736\n",
      "iter=32   val=-3.046716081327713   gap=0.9661036130429298   feas=358.52012929473375\n",
      "iter=64   val=-1.5531952148682708   gap=0.9714386490759824   feas=110.5921617548937\n",
      "iter=128   val=-0.8406720732917424   gap=0.9745644932816284   feas=45.77914984564275\n",
      "iter=256   val=-0.37253873967641743   gap=0.963224342294251   feas=45.59330361314494\n",
      "iter=512   val=0.1197680252993557   gap=0.9347034311803599   feas=21.307785779628734\n",
      "iter=1024   val=-0.07954582222552496   gap=0.8987590941115978   feas=12.802149627139995\n",
      "iter=2048   val=0.6631323270174689   gap=0.9480276246178582   feas=6.993851547108628\n",
      "iter=4096   val=0.5552426200832125   gap=0.8714613447372327   feas=3.0628660195224953\n",
      "iter=8192   val=-0.024550755714098704   gap=0.5674720753695702   feas=1.2233355859459056\n",
      "iter=16384   val=-0.14238317521492103   gap=0.3891635940259713   feas=0.48132829242121755\n",
      "iter=32768   val=-0.22447002413096778   gap=0.2611901512104541   feas=0.20383721070736222\n",
      "iter=65536   val=-0.24124123814387405   gap=0.1786682527702454   feas=0.08914019635805943\n"
     ]
    },
    {
     "ename": "InterruptException",
     "evalue": "InterruptException:",
     "output_type": "error",
     "traceback": [
      "InterruptException:",
      "",
      "Stacktrace:",
      " [1] getindex at ./boot.jl:404 [inlined]",
      " [2] syevr!(::Char, ::Char, ::Char, ::Array{Float64,2}, ::Float64, ::Float64, ::Int64, ::Int64, ::Float64) at /buildworker/worker/package_linux64/build/usr/share/julia/stdlib/v1.3/LinearAlgebra/src/lapack.jl:5093",
      " [3] eigen at /buildworker/worker/package_linux64/build/usr/share/julia/stdlib/v1.3/LinearAlgebra/src/symmetric.jl:543 [inlined]",
      " [4] SmallEig_dense(::Array{Float64,2}, ::UInt64) at /home/hoanganh/Desktop/math-topics/ctpNCPOP/code/ctpNCPOP/src/dense_pop/pop_dense_CGAL.jl:440",
      " [5] SmallEig_block_dense at /home/hoanganh/Desktop/math-topics/ctpNCPOP/code/ctpNCPOP/src/dense_pop/pop_dense_CGAL.jl:462 [inlined]",
      " [6] macro expansion at /home/hoanganh/Desktop/math-topics/ctpNCPOP/code/ctpNCPOP/src/dense_pop/pop_dense_CGAL.jl:477 [inlined]",
      " [7] macro expansion at ./simdloop.jl:77 [inlined]",
      " [8] SmallEigBlocks_dense(::Array{Adjoint{Float64,Array{Float64,1}},1}, ::Array{SparseArrays.SparseMatrixCSC{Float64,Ti} where Ti<:Integer,1}, ::Array{Float64,1}, ::Array{UInt64,1}, ::Int64) at /home/hoanganh/Desktop/math-topics/ctpNCPOP/code/ctpNCPOP/src/dense_pop/pop_dense_CGAL.jl:476",
      " [9] update_dense_CGAL!(::Array{Float64,1}, ::Array{Float64,1}, ::Array{Float64,1}, ::Int64, ::Array{SparseArrays.SparseMatrixCSC{Float64,Ti} where Ti<:Integer,1}, ::Array{Adjoint{Float64,Array{Float64,1}},1}, ::Array{UInt64,1}, ::Int64, ::Float64, ::Float64, ::Float64) at /home/hoanganh/Desktop/math-topics/ctpNCPOP/code/ctpNCPOP/src/dense_pop/pop_dense_CGAL.jl:492",
      " [10] #solve_POP_dense_CGAL#111(::Int64, ::Float64, ::Bool, ::typeof(Main.ctpNCPOP.solve_POP_dense_CGAL), ::Int64, ::Array{Adjoint{Float64,Array{Float64,1}},1}, ::Array{SparseArrays.SparseMatrixCSC{Float64,Ti} where Ti<:Integer,1}, ::Array{UInt64,1}, ::UInt64, ::Float64, ::Float64, ::Float64) at /home/hoanganh/Desktop/math-topics/ctpNCPOP/code/ctpNCPOP/src/dense_pop/pop_dense_CGAL.jl:527",
      " [11] #solve_POP_dense_CGAL at ./none:0 [inlined]",
      " [12] macro expansion at ./util.jl:155 [inlined]",
      " [13] macro expansion at /home/hoanganh/Desktop/math-topics/ctpNCPOP/code/ctpNCPOP/src/dense_pop/pop_dense_CGAL.jl:580 [inlined]",
      " [14] macro expansion at ./util.jl:155 [inlined]",
      " [15] #POP_dense_CGAL#112(::Int64, ::Float64, ::Bool, ::Bool, ::typeof(Main.ctpNCPOP.POP_dense_CGAL), ::Int64, ::Int64, ::Int64, ::Array{UInt64,1}, ::Array{Array{Array{UInt64,1},1},1}, ::Array{Array{Float64,1},1}, ::Array{UInt64,1}, ::Array{Array{Array{UInt64,1},1},1}, ::Array{Array{Float64,1},1}, ::Int64, ::Array{Array{UInt64,1},1}, ::Array{Float64,1}, ::Array{Int64,1}, ::Array{Int64,1}, ::Int64) at /home/hoanganh/Desktop/math-topics/ctpNCPOP/code/ctpNCPOP/src/dense_pop/pop_dense_CGAL.jl:573",
      " [16] (::Main.ctpNCPOP.var\"#kw##POP_dense_CGAL\")(::NamedTuple{(:maxit, :tol, :use_eqcons_to_get_constant_trace, :check_tol_each_iter),Tuple{Int64,Float64,Bool,Bool}}, ::typeof(Main.ctpNCPOP.POP_dense_CGAL), ::Int64, ::Int64, ::Int64, ::Array{UInt64,1}, ::Array{Array{Array{UInt64,1},1},1}, ::Array{Array{Float64,1},1}, ::Array{UInt64,1}, ::Array{Array{Array{UInt64,1},1},1}, ::Array{Array{Float64,1},1}, ::Int64, ::Array{Array{UInt64,1},1}, ::Array{Float64,1}, ::Array{Int64,1}, ::Array{Int64,1}, ::Int64) at ./none:0",
      " [17] top-level scope at In[29]:3"
     ]
    }
   ],
   "source": [
    "include(\"../src/ctpNCPOP.jl\")\n",
    "using .ctpNCPOP\n",
    "\n",
    "opt_val1=ctpNCPOP.POP_dense_CGAL(n,m,l,lmon_g,supp_g,coe_g,lmon_h,supp_h,coe_h,lmon_f,supp_f,coe_f,dg,dh,k,\n",
    "                                 maxit=Int64(1e6),tol=1e-3,\n",
    "                                 use_eqcons_to_get_constant_trace=true,\n",
    "                                 check_tol_each_iter=true)"
   ]
  },
  {
   "cell_type": "code",
   "execution_count": null,
   "metadata": {},
   "outputs": [],
   "source": [
    "testing Bell ineq start: 3h00 stop:12h39"
   ]
  },
  {
   "cell_type": "code",
   "execution_count": 31,
   "metadata": {},
   "outputs": [
    {
     "data": {
      "text/plain": [
       "34740"
      ]
     },
     "execution_count": 31,
     "metadata": {},
     "output_type": "execute_result"
    }
   ],
   "source": [
    "9*3600+39*60"
   ]
  },
  {
   "cell_type": "code",
   "execution_count": null,
   "metadata": {},
   "outputs": [],
   "source": []
  },
  {
   "cell_type": "code",
   "execution_count": 30,
   "metadata": {},
   "outputs": [
    {
     "name": "stdout",
     "output_type": "stream",
     "text": [
      "------------------------------------------------------\n",
      "The sizes of blocks:\n",
      "[1111]\n",
      "[1]\n",
      "------------------------------------------------------\n",
      "Problem\n",
      "  Name                   :                 \n",
      "  Objective sense        : max             \n",
      "  Type                   : CONIC (conic optimization problem)\n",
      "  Constraints            : 556666          \n",
      "  Cones                  : 0               \n",
      "  Scalar variables       : 217561          \n",
      "  Matrix variables       : 1               \n",
      "  Integer variables      : 0               \n",
      "\n",
      "Optimizer started.\n",
      "Presolve started.\n",
      "Linear dependency checker started.\n",
      "Linear dependency checker terminated.\n",
      "Eliminator started.\n",
      "Freed constraints in eliminator : 0\n",
      "Eliminator terminated.\n",
      "Eliminator started.\n",
      "Freed constraints in eliminator : 0\n",
      "Eliminator terminated.\n",
      "Eliminator - tries                  : 2                 time                   : 0.00            \n",
      "Lin. dep.  - tries                  : 1                 time                   : 0.10            \n",
      "Lin. dep.  - number                 : 0               \n",
      "Presolve terminated. Time: 0.46    \n",
      "MOSEK error 1051: Out of space.\n",
      "Optimizer terminated. Time: 2.59    \n",
      "\n"
     ]
    },
    {
     "ename": "Mosek.MosekError",
     "evalue": "Mosek.MosekError(1051, \"Out of space.\")",
     "output_type": "error",
     "traceback": [
      "Mosek.MosekError(1051, \"Out of space.\")",
      "",
      "Stacktrace:",
      " [1] optimize(::Mosek.Task) at /home/hoanganh/.julia/packages/Mosek/6LuE3/src/msk_functions.jl:5491",
      " [2] optimize!(::MosekTools.MosekModel) at /home/hoanganh/.julia/packages/MosekTools/sppJY/src/MosekTools.jl:272",
      " [3] optimize!(::MathOptInterface.Bridges.LazyBridgeOptimizer{MosekTools.MosekModel}) at /home/hoanganh/.julia/packages/MathOptInterface/VjkSQ/src/Bridges/bridge_optimizer.jl:264",
      " [4] optimize!(::MathOptInterface.Utilities.CachingOptimizer{MathOptInterface.AbstractOptimizer,MathOptInterface.Utilities.UniversalFallback{MathOptInterface.Utilities.Model{Float64}}}) at /home/hoanganh/.julia/packages/MathOptInterface/VjkSQ/src/Utilities/cachingoptimizer.jl:215",
      " [5] #optimize!#102(::Bool, ::Bool, ::Base.Iterators.Pairs{Union{},Union{},Tuple{},NamedTuple{(),Tuple{}}}, ::typeof(JuMP.optimize!), ::JuMP.Model, ::Nothing) at /home/hoanganh/.julia/packages/JuMP/e0Uc2/src/optimizer_interface.jl:130",
      " [6] optimize! at /home/hoanganh/.julia/packages/JuMP/e0Uc2/src/optimizer_interface.jl:106 [inlined] (repeats 2 times)",
      " [7] #ncblockcpop#165(::Int64, ::Bool, ::String, ::typeof(ncblockcpop), ::Int64, ::Array{Array{Array{UInt16,1},1},1}, ::Array{Array{Float64,1},1}, ::Array{Int64,1}, ::Array{Array{UInt16,1},1}, ::Array{Array{Array{UInt16,1},1},1}, ::Array{Array{Int64,1},1}, ::Int64, ::Array{Int64,1}, ::Array{Array{Array{UInt16,1},1},1}, ::Array{UInt16,1}, ::Array{Array{UInt16,1},1}) at /home/hoanganh/.julia/packages/NCTSSOS/wMUyi/src/nccpop.jl:438",
      " [8] (::NCTSSOS.var\"#kw##ncblockcpop\")(::NamedTuple{(:numeq, :QUIET, :obj),Tuple{Int64,Bool,String}}, ::typeof(ncblockcpop), ::Int64, ::Array{Array{Array{UInt16,1},1},1}, ::Array{Array{Float64,1},1}, ::Array{Int64,1}, ::Array{Array{UInt16,1},1}, ::Array{Array{Array{UInt16,1},1},1}, ::Array{Array{Int64,1},1}, ::Int64, ::Array{Int64,1}, ::Array{Array{Array{UInt16,1},1},1}, ::Array{UInt16,1}, ::Array{Array{UInt16,1},1}) at ./none:0",
      " [9] #nctssos_first#145(::Int64, ::Bool, ::Bool, ::String, ::Bool, ::Bool, ::typeof(nctssos_first), ::Array{Array{Array{UInt16,1},1},1}, ::Array{Array{Float64,1},1}, ::Int64, ::Int64, ::Array{Int64,1}) at /home/hoanganh/.julia/packages/NCTSSOS/wMUyi/src/nccpop.jl:132",
      " [10] (::NCTSSOS.var\"#kw##nctssos_first\")(::NamedTuple{(:numeq, :reducebasis, :obj, :merge, :TS, :QUIET),Tuple{Int64,Bool,String,Bool,Bool,Bool}}, ::typeof(nctssos_first), ::Array{Array{Array{UInt16,1},1},1}, ::Array{Array{Float64,1},1}, ::Int64, ::Int64, ::Array{Int64,1}) at ./none:0",
      " [11] top-level scope at util.jl:155",
      " [12] top-level scope at In[30]:2"
     ]
    }
   ],
   "source": [
    "using NCTSSOS\n",
    "\n",
    "@time ctpNCPOP.nctssos_first(Vector{Vector{Vector{UInt16}}}([[supp_f];supp_g;supp_h]),[[coe_f];coe_g;coe_h],\n",
    "    n,k,[dg;dh],numeq=l,reducebasis=false,obj=\"eigen\",merge=false,TS=false,QUIET=false);"
   ]
  },
  {
   "cell_type": "code",
   "execution_count": null,
   "metadata": {},
   "outputs": [],
   "source": []
  }
 ],
 "metadata": {
  "kernelspec": {
   "display_name": "Julia 1.3.0",
   "language": "julia",
   "name": "julia-1.3"
  },
  "language_info": {
   "file_extension": ".jl",
   "mimetype": "application/julia",
   "name": "julia",
   "version": "1.3.0"
  }
 },
 "nbformat": 4,
 "nbformat_minor": 2
}
