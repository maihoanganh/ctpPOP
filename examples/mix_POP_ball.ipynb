{
 "cells": [
  {
   "cell_type": "code",
   "execution_count": 10,
   "metadata": {},
   "outputs": [
    {
     "name": "stdout",
     "output_type": "stream",
     "text": [
      "***Problem setting***\n",
      "Number of variable: n=6\n",
      "====================\n",
      "Number of inequality constraints: m=4\n",
      "====================\n",
      "Number of equality constraints: l=1\n"
     ]
    }
   ],
   "source": [
    "using DynamicPolynomials, LinearAlgebra, SparseArrays\n",
    "\n",
    "println(\"***Problem setting***\")\n",
    "\n",
    "n=6\n",
    "println(\"Number of variable: n=\",n)\n",
    "println(\"====================\")\n",
    "\n",
    "@polyvar x[1:n]# variables\n",
    "\n",
    "function generate_random_poly(T::UnitRange{Int64})\n",
    "    v=reverse(monomials(x[T],2))\n",
    "    c=2*rand(Float64,length(v)).-1\n",
    "    return c'*v\n",
    "end\n",
    "\n",
    "# unit sphere constraint\n",
    "u=2\n",
    "p=floor(Int64,n/u)+1\n",
    "\n",
    "I=Vector{UnitRange{Int64}}(undef,p)\n",
    "I[1]=1:u\n",
    "I[2:p-1]=[u*(j-1):u*j for j in 2:p-1]\n",
    "I[p]=u*(p-1):n\n",
    "\n",
    "# random quadratic objective function f\n",
    "vecf=[generate_random_poly(I[j]) for j in 1:p]\n",
    "f=sum(vecf)\n",
    "\n",
    "g=[1.0-sum(x[I[j]].^2) for j in 1:p]\n",
    "J=[j:j for j in 1:p]\n",
    "\n",
    "m=length(g)\n",
    "println(\"Number of inequality constraints: m=\",m)\n",
    "println(\"====================\")\n",
    "\n",
    "l=ceil(Int64, n/7)\n",
    "\n",
    "r=floor(Int64,l/p)\n",
    "W=[(j-1)*r+1:j*r for j in 1:p-1]\n",
    "append!(W,[(p-1)*r+1:l])\n",
    "\n",
    "h=Vector{Polynomial{true,Float64}}(undef,l)\n",
    "\n",
    "randx=2*rand(Float64,n).-1\n",
    "for j in 1:p\n",
    "    randx[I[j]]=randx[I[j]]./norm(randx[I[j]])\n",
    "    randx[I[j]]=rand(Float64,1)[1]*randx[I[j]]\n",
    "end\n",
    "\n",
    "for j in 1:p\n",
    "    for i in W[j]\n",
    "        h[i]=generate_random_poly(I[j])\n",
    "        h[i]-=h[i](x => randx) #make constraints feasible\n",
    "    end\n",
    "end\n",
    "\n",
    "l=length(h)\n",
    "println(\"Number of equality constraints: l=\",l)"
   ]
  },
  {
   "cell_type": "code",
   "execution_count": 11,
   "metadata": {},
   "outputs": [
    {
     "name": "stderr",
     "output_type": "stream",
     "text": [
      "WARNING: replacing module ctpPOP.\n"
     ]
    }
   ],
   "source": [
    "include(\"../src/ctpPOP.jl\")\n",
    "using .ctpPOP\n",
    "\n",
    "n,m,l,lmon_g,supp_g,coe_g,lmon_h,supp_h,coe_h,lmon_f,supp_f,coe_f,dg,dh=ctpPOP.get_info(x,f,g,h,sparse=true);"
   ]
  },
  {
   "cell_type": "code",
   "execution_count": 12,
   "metadata": {},
   "outputs": [
    {
     "name": "stdout",
     "output_type": "stream",
     "text": [
      "Relaxed order: k=2\n",
      "====================\n",
      "Term sparse order: t=2\n"
     ]
    }
   ],
   "source": [
    "k=2\n",
    "\n",
    "println(\"Relaxed order: k=\",k)\n",
    "println(\"====================\")\n",
    "t=2\n",
    "\n",
    "println(\"Term sparse order: t=\",t)"
   ]
  },
  {
   "cell_type": "code",
   "execution_count": 13,
   "metadata": {},
   "outputs": [
    {
     "name": "stdout",
     "output_type": "stream",
     "text": [
      "------------------------------------------------------\n",
      "The clique sizes of varibles:\n",
      "[3, 2]\n",
      "[2, 1]\n",
      "------------------------------------------------------\n",
      "Problem\n",
      "  Name                   :                 \n",
      "  Objective sense        : max             \n",
      "  Type                   : CONIC (conic optimization problem)\n",
      "  Constraints            : 53              \n",
      "  Cones                  : 0               \n",
      "  Scalar variables       : 12              \n",
      "  Matrix variables       : 13              \n",
      "  Integer variables      : 0               \n",
      "\n",
      "Optimizer started.\n",
      "Presolve started.\n",
      "Linear dependency checker started.\n",
      "Linear dependency checker terminated.\n",
      "Eliminator started.\n",
      "Freed constraints in eliminator : 0\n",
      "Eliminator terminated.\n",
      "Eliminator - tries                  : 1                 time                   : 0.00            \n",
      "Lin. dep.  - tries                  : 1                 time                   : 0.00            \n",
      "Lin. dep.  - number                 : 0               \n",
      "Presolve terminated. Time: 0.00    \n",
      "Problem\n",
      "  Name                   :                 \n",
      "  Objective sense        : max             \n",
      "  Type                   : CONIC (conic optimization problem)\n",
      "  Constraints            : 53              \n",
      "  Cones                  : 0               \n",
      "  Scalar variables       : 12              \n",
      "  Matrix variables       : 13              \n",
      "  Integer variables      : 0               \n",
      "\n",
      "Optimizer  - threads                : 4               \n",
      "Optimizer  - solved problem         : the primal      \n",
      "Optimizer  - Constraints            : 53\n",
      "Optimizer  - Cones                  : 3\n",
      "Optimizer  - Scalar variables       : 19                conic                  : 15              \n",
      "Optimizer  - Semi-definite variables: 11                scalarized             : 122             \n",
      "Factor     - setup time             : 0.00              dense det. time        : 0.00            \n",
      "Factor     - ML order time          : 0.00              GP order time          : 0.00            \n",
      "Factor     - nonzeros before factor : 598               after factor           : 696             \n",
      "Factor     - dense dim.             : 0                 flops                  : 2.19e+04        \n",
      "ITE PFEAS    DFEAS    GFEAS    PRSTATUS   POBJ              DOBJ              MU       TIME  \n",
      "0   7.4e+00  1.0e+00  1.0e+00  0.00e+00   0.000000000e+00   0.000000000e+00   1.0e+00  0.00  \n",
      "1   2.7e+00  3.7e-01  1.4e-01  1.13e+00   -3.753340139e-01  -2.161340879e-01  3.7e-01  0.00  \n",
      "2   8.7e-01  1.2e-01  2.6e-02  1.84e+00   -8.353705853e-01  -8.150610249e-01  1.2e-01  0.00  \n",
      "3   3.1e-01  4.1e-02  5.1e-03  1.19e+00   -1.026558315e+00  -1.019189047e+00  4.1e-02  0.00  \n",
      "4   1.1e-01  1.5e-02  1.1e-03  1.04e+00   -1.057442319e+00  -1.054741222e+00  1.5e-02  0.01  \n",
      "5   1.5e-02  2.0e-03  5.6e-05  1.01e+00   -1.104133876e+00  -1.103786374e+00  2.0e-03  0.01  \n",
      "6   2.2e-03  2.9e-04  3.0e-06  9.94e-01   -1.109835533e+00  -1.109785431e+00  2.9e-04  0.01  \n",
      "7   1.7e-04  2.3e-05  6.7e-08  9.97e-01   -1.110743171e+00  -1.110738921e+00  2.3e-05  0.01  \n",
      "8   2.7e-06  3.7e-07  1.4e-10  9.99e-01   -1.110822851e+00  -1.110822785e+00  3.7e-07  0.01  \n",
      "9   1.9e-07  2.6e-08  2.6e-12  9.99e-01   -1.110823991e+00  -1.110823986e+00  2.6e-08  0.01  \n",
      "10  1.9e-08  2.6e-09  7.8e-14  9.99e-01   -1.110824066e+00  -1.110824066e+00  2.5e-09  0.01  \n",
      "Optimizer terminated. Time: 0.01    \n",
      "\n",
      "optimum = -1.110824066253166\n",
      "  0.016448 seconds (24.90 k allocations: 1.885 MiB)\n"
     ]
    },
    {
     "data": {
      "text/plain": [
       "(-1.110824066253166, nothing, TSSOS.mdata_type(6, 0, 5, [2, 2, 2, 2, 2], SparseMatrixCSC{UInt8,UInt32}[\n",
       "  [1,  1]  =  0x02\n",
       "  [1,  2]  =  0x01\n",
       "  [2,  2]  =  0x01\n",
       "  [2,  3]  =  0x02\n",
       "  [2,  4]  =  0x01\n",
       "  [3,  4]  =  0x01\n",
       "  [2,  5]  =  0x01\n",
       "  [4,  5]  =  0x01\n",
       "  [3,  6]  =  0x02\n",
       "  [3,  7]  =  0x01\n",
       "  [4,  7]  =  0x01\n",
       "  [4,  8]  =  0x02\n",
       "  [4,  9]  =  0x01\n",
       "  [5,  9]  =  0x01\n",
       "  [4, 10]  =  0x01\n",
       "  [6, 10]  =  0x01\n",
       "  [5, 11]  =  0x02\n",
       "  [5, 12]  =  0x01\n",
       "  [6, 12]  =  0x01\n",
       "  [6, 13]  =  0x02, \n",
       "  [1, 1]  =  0x02\n",
       "  [2, 2]  =  0x02, \n",
       "  [2, 1]  =  0x02\n",
       "  [3, 2]  =  0x02\n",
       "  [4, 3]  =  0x02, \n",
       "  [4, 1]  =  0x02\n",
       "  [5, 2]  =  0x02\n",
       "  [6, 3]  =  0x02, \n",
       "  [6, 1]  =  0x02, \n",
       "  [6, 1]  =  0x02], Array{Float64,1}[[0.35072651389979903, -0.4872598815355609, 0.7006800500765595, 0.11781351773757365, -0.6963440465881354, 0.29481242391506823, 0.2061806929536676, -0.4310534205437757, -0.8844025265748674, 0.34388368932222324, -0.7288432486166831, -0.11052304217916031, 0.7533280371342874], [-1.0, -1.0, 1.0], [-1.0, -1.0, -1.0, 1.0], [-1.0, -1.0, -1.0, 1.0], [-1.0, 1.0], [-0.5215398070504875, 0.026534450919108214]], 1, [2, 2, 2], \n",
       "  [4,  2]  =  0x02\n",
       "  [4,  3]  =  0x01\n",
       "  [5,  3]  =  0x01\n",
       "  [5,  4]  =  0x02\n",
       "  [4,  5]  =  0x01\n",
       "  [6,  5]  =  0x01\n",
       "  [5,  6]  =  0x01\n",
       "  [6,  6]  =  0x01\n",
       "  [6,  7]  =  0x02\n",
       "  [4,  8]  =  0x04\n",
       "  [4,  9]  =  0x03\n",
       "  [5,  9]  =  0x01\n",
       "  ⋮\n",
       "  [4, 40]  =  0x03\n",
       "  [3, 41]  =  0x01\n",
       "  [4, 41]  =  0x03\n",
       "  [1, 42]  =  0x02\n",
       "  [1, 43]  =  0x01\n",
       "  [2, 43]  =  0x01\n",
       "  [1, 44]  =  0x04\n",
       "  [1, 45]  =  0x03\n",
       "  [2, 45]  =  0x01\n",
       "  [1, 46]  =  0x02\n",
       "  [2, 46]  =  0x02\n",
       "  [1, 47]  =  0x01\n",
       "  [2, 47]  =  0x03, Array{Array{UInt8,2},1}[[[0x00 0x00 … 0x00 0x00; 0x00 0x00 … 0x00 0x00; 0x00 0x00 … 0x00 0x00], [0x02 0x00 0x00 0x00; 0x00 0x02 0x00 0x00; 0x00 0x00 0x02 0x00], [0x00 0x00; 0x00 0x00; 0x02 0x00], [0x00 0x00; 0x00 0x00; 0x02 0x00]], [[0x00 0x00 … 0x00 0x00; 0x00 0x00 … 0x00 0x00; 0x00 0x00 … 0x00 0x00], [0x02 0x00 0x00 0x00; 0x00 0x02 0x00 0x00; 0x00 0x00 0x02 0x00]], [[0x00 0x00 … 0x00 0x00; 0x00 0x00 … 0x00 0x00], [0x02 0x00 0x00; 0x00 0x02 0x00]]], Array{UInt16,1}[[0x000d, 0x0004, 0x0002, 0x0002], [0x000d, 0x0004], [0x000d, 0x0003]], Array{UInt8,2}[[0x00 0x01 … 0x00 0x00; 0x00 0x00 … 0x01 0x00; 0x00 0x00 … 0x01 0x02], [0x00 0x01 … 0x00 0x00; 0x00 0x00 … 0x01 0x00; 0x00 0x00 … 0x01 0x02], [0x00 0x01 … 0x01 0x00; 0x00 0x00 … 0x01 0x02]], Array{Array{UInt8,2},1}[[[0x00 0x01 0x00 0x00; 0x00 0x00 0x01 0x00; 0x00 0x00 0x00 0x01], [0x00 0x01 0x00 0x00; 0x00 0x00 0x01 0x00; 0x00 0x00 0x00 0x01], [0x00 0x01 0x00 0x00; 0x00 0x00 0x01 0x00; 0x00 0x00 0x00 0x01]], [[0x00 0x01 0x00 0x00; 0x00 0x00 0x01 0x00; 0x00 0x00 0x00 0x01]], [[0x00 0x01 0x00; 0x00 0x00 0x01]]], 3, Array{UInt16,1}[[0x0004, 0x0005, 0x0006], [0x0002, 0x0003, 0x0004], [0x0001, 0x0002]], [3, 3, 2], Array{UInt16,1}[[0x0003, 0x0004, 0x0005], [0x0002], [0x0001]], UInt16[], Array{Array{Array{UInt16,1},1},1}[[[[0x0001, 0x0005, 0x0006, 0x0007, 0x0008, 0x0009, 0x000a], [0x0002, 0x0003, 0x0004]], [[0x0001], [0x0002, 0x0003, 0x0004]], [[0x0001], [0x0002, 0x0003, 0x0004]], [[0x0001], [0x0002, 0x0003, 0x0004]]], [[[0x0001, 0x0005, 0x0006, 0x0007, 0x0008, 0x0009, 0x000a], [0x0002, 0x0003, 0x0004]], [[0x0001], [0x0002, 0x0003, 0x0004]]], [[[0x0001, 0x0004, 0x0005, 0x0006], [0x0002, 0x0003]], [[0x0001], [0x0002, 0x0003]]]], Array{UInt16,1}[[0x0002, 0x0002, 0x0002, 0x0002], [0x0002, 0x0002], [0x0002, 0x0002]], Array{Array{Int64,1},1}[[[7, 3], [1, 3], [1, 3], [1, 3]], [[7, 3], [1, 3]], [[4, 2], [1, 2]]], Array{UInt16,1}[[0x0007, 0x0003], [0x0007, 0x0003], [0x0004, 0x0002]], Array{UInt16,1}[[0x0001, 0x0001], [0x0001, 0x0001], [0x0001, 0x0001]]))"
      ]
     },
     "execution_count": 13,
     "metadata": {},
     "output_type": "execute_result"
    }
   ],
   "source": [
    "using TSSOS\n",
    "\n",
    "\n",
    "@time begin\n",
    "    opt,sol,data=cs_tssos_first(Vector{SparseMatrixCSC{UInt8,UInt32}}([[supp_f];supp_g;supp_h]),[[coe_f];coe_g;coe_h],n,k,[dg;dh],numeq=l,CS=\"MD\",TS=\"block\",CTP=false);\n",
    "    #opt,sol,data=cs_tssos_higher!(data,TS=\"block\");\n",
    "end"
   ]
  },
  {
   "cell_type": "code",
   "execution_count": 14,
   "metadata": {},
   "outputs": [
    {
     "name": "stdout",
     "output_type": "stream",
     "text": [
      "------------------------------------------------------\n",
      "The clique sizes of varibles:\n",
      "[3, 2]\n",
      "[2, 1]\n",
      "------------------------------------------------------\n",
      "  Number of cliques: p=3\n",
      "  Largest clique size: u=3\n"
     ]
    },
    {
     "name": "stderr",
     "output_type": "stream",
     "text": [
      "WARNING: replacing module ctpPOP.\n"
     ]
    },
    {
     "name": "stdout",
     "output_type": "stream",
     "text": [
      "  Largest constant trace: a=5.0\n",
      "  Number of blocks: omega=14\n",
      "  Number of equality consraints: zeta=67\n",
      "  Size of the largest block: s^max=7\n",
      "Modeling time:\n",
      "  1.146710 seconds (1.13 M allocations: 55.738 MiB)\n",
      "iter=1   val=-6.1323134014158445   gap=1.2452879868175896e-16   feas=10.505901273097955\n",
      "iter=2   val=-2.044104467138615   gap=0.7077432556421772   feas=2.6995821751563978\n",
      "iter=4   val=-2.158603544061307   gap=0.3422625284105917   feas=3.0396414231888222\n",
      "iter=8   val=-1.8478707393084481   gap=0.1524507792421174   feas=1.9400971043613255\n",
      "iter=16   val=-1.053157729598648   gap=0.3775014303058916   feas=0.482886185627037\n",
      "iter=32   val=-1.0577759923878125   gap=0.22759140386125182   feas=0.3122255879866713\n",
      "iter=64   val=-1.1641103478107366   gap=0.20250782505778334   feas=0.21106239487872464\n",
      "iter=128   val=-1.1582200479926295   gap=0.10475586647852297   feas=0.10992400457028083\n",
      "iter=256   val=-1.1129245291761796   gap=0.053269479298382126   feas=0.05370057656413033\n",
      "iter=512   val=-1.102647939774669   gap=0.07572190098970435   feas=0.01502208202866677\n",
      "iter=1024   val=-1.110546959152521   gap=0.0867597353380554   feas=0.008228215391758486\n",
      "iter=2048   val=-1.1096399623944657   gap=0.02466958771342743   feas=0.0043512969729566486\n",
      "iter=2821   val=-1.111642752663142   gap=0.006479447186211235   feas=0.004649440301459547\n",
      "tol satisfies!!!\n",
      "\n",
      "####################################\n",
      "opt_val = -1.111642752663142\n",
      "####################################\n",
      "Solving time:\n",
      "  1.813767 seconds (2.41 M allocations: 143.331 MiB, 5.86% gc time)\n",
      "Total time:\n",
      "  2.960716 seconds (3.54 M allocations: 199.081 MiB, 3.59% gc time)\n"
     ]
    },
    {
     "data": {
      "text/plain": [
       "-1.111642752663142"
      ]
     },
     "execution_count": 14,
     "metadata": {},
     "output_type": "execute_result"
    }
   ],
   "source": [
    "include(\"../src/ctpPOP.jl\")\n",
    "using .ctpPOP\n",
    "\n",
    "opt_val1=ctpPOP.POP_mix_CGAL(n,m,l,lmon_g,supp_g,coe_g,lmon_h,supp_h,coe_h,lmon_f,supp_f,coe_f,dg,dh,k,t,\n",
    "    maxit=Int64(1e10),tol=1e-2,use_eqcons_to_get_constant_trace=false,check_tol_each_iter=true)"
   ]
  },
  {
   "cell_type": "code",
   "execution_count": 15,
   "metadata": {},
   "outputs": [
    {
     "name": "stdout",
     "output_type": "stream",
     "text": [
      "This is Ipopt version 3.13.2, running with linear solver mumps.\n",
      "NOTE: Other linear solvers might be more efficient (see Ipopt documentation).\n",
      "\n",
      "Number of nonzeros in equality constraint Jacobian...:        1\n",
      "Number of nonzeros in inequality constraint Jacobian.:        9\n",
      "Number of nonzeros in Lagrangian Hessian.............:       23\n",
      "\n",
      "Total number of variables............................:        6\n",
      "                     variables with only lower bounds:        0\n",
      "                variables with lower and upper bounds:        0\n",
      "                     variables with only upper bounds:        0\n",
      "Total number of equality constraints.................:        1\n",
      "Total number of inequality constraints...............:        4\n",
      "        inequality constraints with only lower bounds:        4\n",
      "   inequality constraints with lower and upper bounds:        0\n",
      "        inequality constraints with only upper bounds:        0\n",
      "\n",
      "iter    objective    inf_pr   inf_du lg(mu)  ||d||  lg(rg) alpha_du alpha_pr  ls\n",
      "   0  0.0000000e+00 2.65e-02 1.00e+00  -1.0 0.00e+00    -  0.00e+00 0.00e+00   0\n",
      "   1  0.0000000e+00 2.65e-02 2.08e-07  -1.7 7.52e-11   2.0 1.00e+00 1.00e+00s 22\n",
      "   2  0.0000000e+00 2.65e-02 8.41e-04  -3.8 9.63e-11   6.9 1.00e+00 1.00e+00s 22\n",
      "   3r 0.0000000e+00 2.65e-02 9.99e+02  -1.6 0.00e+00   8.3 0.00e+00 0.00e+00R  1\n",
      "   4r 0.0000000e+00 2.65e-02 2.65e-07  -1.6 1.43e-09    -  1.00e+00 1.00e+00f  1\n",
      "   5r 0.0000000e+00 2.65e-02 2.62e-01  -3.5 2.62e-05   4.0 1.00e+00 1.00e+00f  1\n",
      "   6r 0.0000000e+00 2.65e-02 2.55e-05  -3.5 7.65e-09   3.5 1.00e+00 1.00e+00f  1\n",
      "   7r 0.0000000e+00 2.65e-02 3.16e-04  -8.0 2.84e-07   3.0 1.00e+00 1.00e+00f  1\n",
      "\n",
      "Number of Iterations....: 7\n",
      "\n",
      "                                   (scaled)                 (unscaled)\n",
      "Objective...............:   0.0000000000000000e+00    0.0000000000000000e+00\n",
      "Dual infeasibility......:   4.6699989547339483e-10    4.6699989547339483e-10\n",
      "Constraint violation....:   2.6534450919108214e-02    2.6534450919108214e-02\n",
      "Complementarity.........:   1.0484281118167626e-08    1.0484281118167626e-08\n",
      "Overall NLP error.......:   2.6534450919108214e-02    2.6534450919108214e-02\n",
      "\n",
      "\n",
      "Number of objective function evaluations             = 53\n",
      "Number of objective gradient evaluations             = 5\n",
      "Number of equality constraint evaluations            = 53\n",
      "Number of inequality constraint evaluations          = 53\n",
      "Number of equality constraint Jacobian evaluations   = 10\n",
      "Number of inequality constraint Jacobian evaluations = 10\n",
      "Number of Lagrangian Hessian evaluations             = 8\n",
      "Total CPU secs in IPOPT (w/o function evaluations)   =      0.020\n",
      "Total CPU secs in NLP function evaluations           =      0.001\n",
      "\n",
      "EXIT: Converged to a point of local infeasibility. Problem may be infeasible.\n",
      "LOCALLY_INFEASIBLE\n",
      "opt_val=0.0\n",
      "  0.101089 seconds (52.00 k allocations: 2.679 MiB)\n"
     ]
    },
    {
     "name": "stderr",
     "output_type": "stream",
     "text": [
      "WARNING: replacing module ctpPOP.\n"
     ]
    },
    {
     "data": {
      "text/plain": [
       "0.0"
      ]
     },
     "execution_count": 15,
     "metadata": {},
     "output_type": "execute_result"
    }
   ],
   "source": [
    "include(\"../src/ctpPOP.jl\")\n",
    "using .ctpPOP\n",
    "\n",
    "optval=ctpPOP.POP_NLP(n,m,l,lmon_g,supp_g,coe_g,lmon_h,supp_h,coe_h,lmon_f,supp_f,coe_f)"
   ]
  },
  {
   "cell_type": "code",
   "execution_count": null,
   "metadata": {},
   "outputs": [],
   "source": []
  }
 ],
 "metadata": {
  "kernelspec": {
   "display_name": "Julia 1.3.0",
   "language": "julia",
   "name": "julia-1.3"
  },
  "language_info": {
   "file_extension": ".jl",
   "mimetype": "application/julia",
   "name": "julia",
   "version": "1.3.0"
  }
 },
 "nbformat": 4,
 "nbformat_minor": 2
}
