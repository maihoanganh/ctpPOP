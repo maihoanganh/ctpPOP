{
 "cells": [
  {
   "cell_type": "code",
   "execution_count": 22,
   "metadata": {},
   "outputs": [
    {
     "name": "stdout",
     "output_type": "stream",
     "text": [
      "***Problem setting***\n",
      "Number of variable: n=1000\n",
      "====================\n",
      "Number of inequality constraints: m=51\n",
      "====================\n",
      "Number of equality constraints: l=143\n"
     ]
    }
   ],
   "source": [
    "using DynamicPolynomials, LinearAlgebra, SparseArrays\n",
    "\n",
    "println(\"***Problem setting***\")\n",
    "\n",
    "n=1000\n",
    "println(\"Number of variable: n=\",n)\n",
    "println(\"====================\")\n",
    "\n",
    "@ncpolyvar x[1:n]# variables\n",
    "\n",
    "function star_algebra(mom)\n",
    "    if mom==1\n",
    "        return mom\n",
    "    else\n",
    "        ind=mom.z .>0\n",
    "        vars=mom.vars[ind]\n",
    "        exp=mom.z[ind]\n",
    "        return prod(vars[i]^exp[i] for i in length(exp):-1:1)\n",
    "    end\n",
    "end\n",
    "\n",
    "function generate_random_poly(T::UnitRange{Int64})\n",
    "    v=reverse(monomials(x[T],2))\n",
    "    v+=star_algebra.(v)\n",
    "    v=v./2\n",
    "    c=2*rand(Float64,length(v)).-1\n",
    "    return c'*v\n",
    "end\n",
    "\n",
    "# unit sphere constraint\n",
    "u=20\n",
    "p=floor(Int64,n/u)+1\n",
    "\n",
    "I=Vector{UnitRange{Int64}}(undef,p)\n",
    "I[1]=1:u\n",
    "I[2:p-1]=[u*(j-1):u*j for j in 2:p-1]\n",
    "I[p]=u*(p-1):n\n",
    "\n",
    "# random quadratic objective function f\n",
    "vecf=[generate_random_poly(I[j]) for j in 1:p]\n",
    "f=sum(vecf)\n",
    "\n",
    "g=[1.0-sum(x[I[j]].^2) for j in 1:p]\n",
    "J=[j:j for j in 1:p]\n",
    "\n",
    "m=length(g)\n",
    "println(\"Number of inequality constraints: m=\",m)\n",
    "println(\"====================\")\n",
    "\n",
    "l=ceil(Int64, n/7)\n",
    "\n",
    "r=floor(Int64,l/p)\n",
    "W=[(j-1)*r+1:j*r for j in 1:p-1]\n",
    "append!(W,[(p-1)*r+1:l])\n",
    "\n",
    "h=Vector{Polynomial{false,Float64}}(undef,l)\n",
    "\n",
    "randx=2*rand(Float64,n).-1\n",
    "for j in 1:p\n",
    "    randx[I[j]]=randx[I[j]]./norm(randx[I[j]])\n",
    "    randx[I[j]]=rand(Float64,1)[1]*randx[I[j]]\n",
    "end\n",
    "\n",
    "for j in 1:p\n",
    "    for i in W[j]\n",
    "        h[i]=generate_random_poly(I[j])\n",
    "        h[i]-=h[i](x => randx) #make constraints feasible\n",
    "    end\n",
    "end\n",
    "\n",
    "l=length(h)\n",
    "println(\"Number of equality constraints: l=\",l)"
   ]
  },
  {
   "cell_type": "code",
   "execution_count": 23,
   "metadata": {},
   "outputs": [
    {
     "name": "stderr",
     "output_type": "stream",
     "text": [
      "WARNING: replacing module ctpNCPOP.\n"
     ]
    }
   ],
   "source": [
    "include(\"../src/ctpNCPOP.jl\")\n",
    "using .ctpNCPOP\n",
    "\n",
    "n,m,l,lmon_g,supp_g,coe_g,lmon_h,supp_h,coe_h,lmon_f,supp_f,coe_f,dg,dh=ctpNCPOP.get_info(x,f,g,h);"
   ]
  },
  {
   "cell_type": "code",
   "execution_count": 27,
   "metadata": {},
   "outputs": [
    {
     "name": "stdout",
     "output_type": "stream",
     "text": [
      "Relaxed order: k=2\n",
      "====================\n",
      "Term sparse order: t=1\n"
     ]
    }
   ],
   "source": [
    "k=2\n",
    "\n",
    "println(\"Relaxed order: k=\",k)\n",
    "println(\"====================\")\n",
    "t=1\n",
    "\n",
    "println(\"Term sparse order: t=\",t)"
   ]
  },
  {
   "cell_type": "code",
   "execution_count": 28,
   "metadata": {},
   "outputs": [
    {
     "name": "stdout",
     "output_type": "stream",
     "text": [
      "------------------------------------------------------\n",
      "The clique sizes of varibles:\n",
      "[21, 20]\n",
      "[49, 1]\n",
      "------------------------------------------------------\n",
      "  Number of cliques: p=50\n",
      "  Largest clique size: u=21\n"
     ]
    },
    {
     "name": "stderr",
     "output_type": "stream",
     "text": [
      "WARNING: replacing module ctpNCPOP.\n"
     ]
    },
    {
     "name": "stdout",
     "output_type": "stream",
     "text": [
      "  Largest constant trace: a=5.0\n",
      "  Number of blocks: omega=202\n",
      "  Number of equality consraints: zeta=67102\n",
      "  Size of the largest block: s^max=442\n",
      "Modeling time:\n",
      "412.428809 seconds (2.11 G allocations: 283.123 GiB, 50.11% gc time)\n",
      "iter=1   val=-508.76249317517966   gap=1.1150961402975128e-16   feas=30.226251473251985\n",
      "iter=2   val=-454.95614732400645   gap=0.1429032460262949   feas=27.19436165017676\n",
      "iter=4   val=-422.6777484486767   gap=0.2588745388547638   feas=17.99846574370734\n",
      "iter=8   val=-262.3684127014755   gap=0.11664878878185153   feas=8.531178684906346\n",
      "iter=16   val=-220.76788251387777   gap=0.017149351584980682   feas=4.917144736350016\n",
      "iter=32   val=-195.48940227079936   gap=0.04138210877582374   feas=2.482422714395859\n",
      "iter=64   val=-191.62012442367305   gap=0.005329213475754247   feas=1.7540160161978489\n",
      "iter=128   val=-180.9287429587122   gap=0.009071587062728474   feas=1.1683458543012546\n",
      "iter=256   val=-169.23251246599614   gap=0.0009620123085111211   feas=0.5857691747291222\n",
      "iter=512   val=-160.51205938271374   gap=0.017387650726271783   feas=0.20125399933992738\n",
      "iter=1024   val=-159.4184607771185   gap=0.01857616889379675   feas=0.0717620484683693\n",
      "iter=2048   val=-159.58075753141776   gap=0.012626823807323663   feas=0.030542254593226792\n",
      "iter=4096   val=-159.68564976412776   gap=0.007720804297482984   feas=0.011524060680434734\n",
      "iter=7734   val=-159.73962175602716   gap=0.004957027182239352   feas=0.004948846976803284\n",
      "tol satisfies!!!\n",
      "\n",
      "####################################\n",
      "opt_val = -159.73962175602716\n",
      "####################################\n",
      "Solving time:\n",
      "2570.380055 seconds (421.14 M allocations: 2.022 TiB, 0.65% gc time)\n",
      "Total time:\n",
      "2982.809168 seconds (2.53 G allocations: 2.298 TiB, 7.49% gc time)\n"
     ]
    },
    {
     "data": {
      "text/plain": [
       "-159.73962175602716"
      ]
     },
     "execution_count": 28,
     "metadata": {},
     "output_type": "execute_result"
    }
   ],
   "source": [
    "include(\"../src/ctpNCPOP.jl\")\n",
    "using .ctpNCPOP\n",
    "\n",
    "opt_val1=ctpNCPOP.POP_mix_CGAL(n,m,l,lmon_g,supp_g,coe_g,lmon_h,supp_h,coe_h,lmon_f,supp_f,coe_f,dg,dh,k,t,\n",
    "    maxit=Int64(1e10),tol=5e-3,use_eqcons_to_get_constant_trace=false,check_tol_each_iter=true)"
   ]
  },
  {
   "cell_type": "code",
   "execution_count": null,
   "metadata": {},
   "outputs": [],
   "source": []
  },
  {
   "cell_type": "code",
   "execution_count": 26,
   "metadata": {},
   "outputs": [
    {
     "name": "stdout",
     "output_type": "stream",
     "text": [
      "------------------------------------------------------\n",
      "The clique sizes of varibles:\n",
      "[21, 20]\n",
      "[49, 1]\n",
      "------------------------------------------------------\n",
      "Problem\n",
      "  Name                   :                 \n",
      "  Objective sense        : max             \n",
      "  Type                   : CONIC (conic optimization problem)\n",
      "  Constraints            : 11481           \n",
      "  Cones                  : 0               \n",
      "  Scalar variables       : 245             \n",
      "  Matrix variables       : 50              \n",
      "  Integer variables      : 0               \n",
      "\n",
      "Optimizer started.\n",
      "Presolve started.\n",
      "Linear dependency checker started.\n",
      "Linear dependency checker terminated.\n",
      "Eliminator started.\n",
      "Freed constraints in eliminator : 0\n",
      "Eliminator terminated.\n",
      "Eliminator - tries                  : 1                 time                   : 0.00            \n",
      "Lin. dep.  - tries                  : 1                 time                   : 0.00            \n",
      "Lin. dep.  - number                 : 0               \n",
      "Presolve terminated. Time: 0.00    \n",
      "Problem\n",
      "  Name                   :                 \n",
      "  Objective sense        : max             \n",
      "  Type                   : CONIC (conic optimization problem)\n",
      "  Constraints            : 11481           \n",
      "  Cones                  : 0               \n",
      "  Scalar variables       : 245             \n",
      "  Matrix variables       : 50              \n",
      "  Integer variables      : 0               \n",
      "\n",
      "Optimizer  - threads                : 4               \n",
      "Optimizer  - solved problem         : the primal      \n",
      "Optimizer  - Constraints            : 11480\n",
      "Optimizer  - Cones                  : 0\n",
      "Optimizer  - Scalar variables       : 176               conic                  : 0               \n",
      "Optimizer  - Semi-definite variables: 50                scalarized             : 11529           \n",
      "Factor     - setup time             : 0.07              dense det. time        : 0.00            \n",
      "Factor     - ML order time          : 0.03              GP order time          : 0.00            \n",
      "Factor     - nonzeros before factor : 1.34e+06          after factor           : 1.34e+06        \n",
      "Factor     - dense dim.             : 0                 flops                  : 2.21e+08        \n",
      "ITE PFEAS    DFEAS    GFEAS    PRSTATUS   POBJ              DOBJ              MU       TIME  \n",
      "0   3.5e+00  1.0e+00  1.0e+00  0.00e+00   0.000000000e+00   0.000000000e+00   1.0e+00  0.08  \n",
      "1   7.9e-01  2.2e-01  4.4e-01  -9.73e-01  -1.616646341e+02  -1.646551829e+02  2.2e-01  0.14  \n",
      "2   9.5e-02  2.7e-02  1.3e-02  -3.21e-01  -2.587322566e+02  -2.588416754e+02  2.7e-02  0.22  \n",
      "3   1.9e-02  5.3e-03  1.7e-03  2.38e+00   -1.702309298e+02  -1.703140166e+02  5.3e-03  0.29  \n",
      "4   2.6e-03  7.4e-04  7.3e-05  1.14e+00   -1.631338340e+02  -1.631412877e+02  7.4e-04  0.35  \n",
      "5   2.7e-04  7.7e-05  2.0e-06  1.01e+00   -1.625705550e+02  -1.625710298e+02  7.7e-05  0.40  \n",
      "6   3.7e-05  1.0e-05  1.0e-07  1.00e+00   -1.625290181e+02  -1.625290813e+02  1.0e-05  0.47  \n",
      "7   5.3e-06  1.5e-06  5.5e-09  1.00e+00   -1.625230325e+02  -1.625230418e+02  1.5e-06  0.52  \n",
      "8   8.0e-07  2.2e-07  3.3e-10  1.00e+00   -1.625225859e+02  -1.625225873e+02  2.2e-07  0.58  \n",
      "9   4.2e-08  1.2e-08  4.0e-12  1.00e+00   -1.625225097e+02  -1.625225098e+02  1.2e-08  0.64  \n",
      "10  4.4e-09  1.3e-09  1.3e-13  1.00e+00   -1.625225054e+02  -1.625225054e+02  1.2e-09  0.70  \n",
      "Optimizer terminated. Time: 0.70    \n",
      "\n",
      "optimum = -162.52250539225872\n",
      "  1.809550 seconds (5.21 M allocations: 442.134 MiB)\n"
     ]
    }
   ],
   "source": [
    "using NCTSSOS\n",
    "\n",
    "@time begin\n",
    "\n",
    "j=1\n",
    "opt,data=cs_nctssos_first(Vector{Vector{Vector{UInt16}}}([[supp_f];supp_g;supp_h]),[[coe_f];coe_g;coe_h],\n",
    "        n,k,[dg;dh],numeq=l,minimize=true,obj=\"eigen\",TS=\"block\",QUIET=false);\n",
    "while j <= t-1\n",
    "    opt,data=cs_nctssos_higher!(data,TS=\"MD\")\n",
    "    j+=1\n",
    "end\n",
    "    \n",
    "end"
   ]
  },
  {
   "cell_type": "code",
   "execution_count": null,
   "metadata": {},
   "outputs": [],
   "source": []
  },
  {
   "cell_type": "code",
   "execution_count": null,
   "metadata": {},
   "outputs": [],
   "source": []
  }
 ],
 "metadata": {
  "kernelspec": {
   "display_name": "Julia 1.3.0",
   "language": "julia",
   "name": "julia-1.3"
  },
  "language_info": {
   "file_extension": ".jl",
   "mimetype": "application/julia",
   "name": "julia",
   "version": "1.3.0"
  }
 },
 "nbformat": 4,
 "nbformat_minor": 2
}
