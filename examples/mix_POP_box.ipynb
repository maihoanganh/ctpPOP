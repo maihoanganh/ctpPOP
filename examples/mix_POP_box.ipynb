{
 "cells": [
  {
   "cell_type": "code",
   "execution_count": 41,
   "metadata": {},
   "outputs": [
    {
     "name": "stdout",
     "output_type": "stream",
     "text": [
      "***Problem setting***\n",
      "Number of variable: n=20\n",
      "====================\n",
      "Number of inequality constraints: m=20\n",
      "====================\n",
      "Number of equality constraints: l=3\n",
      "====================\n",
      "Relaxed order: k=2\n",
      "====================\n",
      "Sparse order: t=1\n",
      "====================\n"
     ]
    }
   ],
   "source": [
    "using DynamicPolynomials, LinearAlgebra, SparseArrays\n",
    "\n",
    "println(\"***Problem setting***\")\n",
    "\n",
    "n=20\n",
    "\n",
    "println(\"Number of variable: n=\",n)\n",
    "println(\"====================\")\n",
    "\n",
    "@polyvar x[1:n]# variables\n",
    "\n",
    "function generate_random_poly(T::UnitRange{Int64})\n",
    "    v=reverse(monomials(x[T],2))\n",
    "    c=2*rand(Float64,length(v)).-1\n",
    "    return c'*v\n",
    "end\n",
    "\n",
    "# unit sphere constraint\n",
    "u=5\n",
    "p=floor(Int64,n/u)+1\n",
    "\n",
    "I=Vector{UnitRange{Int64}}(undef,p)\n",
    "I[1]=1:u\n",
    "I[2:p-1]=[u*(j-1):u*j for j in 2:p-1]\n",
    "I[p]=u*(p-1):n\n",
    "\n",
    "# random quadratic objective function f\n",
    "f=sum(generate_random_poly(I[j]) for j in 1:p)\n",
    "\n",
    "\n",
    "\n",
    "g=-(x.^2).+(1/u)\n",
    "\n",
    "\n",
    "\n",
    "m=length(g)\n",
    "println(\"Number of inequality constraints: m=\",m)\n",
    "println(\"====================\")\n",
    "\n",
    "l=ceil(Int64, n/7)\n",
    "\n",
    "r=floor(Int64,l/p)\n",
    "W=[(j-1)*r+1:j*r for j in 1:p-1]\n",
    "append!(W,[(p-1)*r+1:l])\n",
    "\n",
    "h=Vector{Polynomial{true,Float64}}(undef,l)\n",
    "\n",
    "randx=2*rand(n).-1\n",
    "randx=randx./sqrt(u)\n",
    "\n",
    "for j in 1:p\n",
    "    for i in W[j]\n",
    "        h[i]=generate_random_poly(I[j])\n",
    "        h[i]-=h[i](x => randx) #make constraints feasible\n",
    "    end\n",
    "end\n",
    "\n",
    "l=length(h)\n",
    "println(\"Number of equality constraints: l=\",l)\n",
    "println(\"====================\")\n",
    "\n",
    "k=2\n",
    "\n",
    "println(\"Relaxed order: k=\",k)\n",
    "println(\"====================\")\n",
    "\n",
    "t=1\n",
    "\n",
    "println(\"Sparse order: t=\",t)\n",
    "println(\"====================\")"
   ]
  },
  {
   "cell_type": "code",
   "execution_count": 42,
   "metadata": {},
   "outputs": [
    {
     "name": "stderr",
     "output_type": "stream",
     "text": [
      "WARNING: replacing module ctpPOP.\n",
      "WARNING: Compat.Printf is deprecated, use Printf instead.\n",
      "  likely near /home/hoanganh/Desktop/math-topics/ctpPOP/codes/ctpPOP/solvers/ProximalBundleMethod/ProximalMethod.jl:391\n"
     ]
    }
   ],
   "source": [
    "include(\"../src/ctpPOP.jl\")\n",
    "using .ctpPOP\n",
    "\n",
    "n,m,l,lmon_g,supp_g,coe_g,lmon_h,supp_h,coe_h,lmon_f,supp_f,coe_f,dg,dh=ctpPOP.get_info(x,f,g,h,sparse=true);"
   ]
  },
  {
   "cell_type": "code",
   "execution_count": 43,
   "metadata": {
    "scrolled": true
   },
   "outputs": [
    {
     "name": "stdout",
     "output_type": "stream",
     "text": [
      "------------------------------------------------------\n",
      "The clique sizes of varibles:\n",
      "[6, 5]\n",
      "[3, 1]\n",
      "------------------------------------------------------\n",
      "Problem\n",
      "  Name                   :                 \n",
      "  Objective sense        : max             \n",
      "  Type                   : CONIC (conic optimization problem)\n",
      "  Constraints            : 541             \n",
      "  Cones                  : 0               \n",
      "  Scalar variables       : 87              \n",
      "  Matrix variables       : 32              \n",
      "  Integer variables      : 0               \n",
      "\n",
      "Optimizer started.\n",
      "Presolve started.\n",
      "Linear dependency checker started.\n",
      "Linear dependency checker terminated.\n",
      "Eliminator started.\n",
      "Freed constraints in eliminator : 0\n",
      "Eliminator terminated.\n",
      "Eliminator - tries                  : 1                 time                   : 0.00            \n",
      "Lin. dep.  - tries                  : 1                 time                   : 0.00            \n",
      "Lin. dep.  - number                 : 0               \n",
      "Presolve terminated. Time: 0.00    \n",
      "Problem\n",
      "  Name                   :                 \n",
      "  Objective sense        : max             \n",
      "  Type                   : CONIC (conic optimization problem)\n",
      "  Constraints            : 541             \n",
      "  Cones                  : 0               \n",
      "  Scalar variables       : 87              \n",
      "  Matrix variables       : 32              \n",
      "  Integer variables      : 0               \n",
      "\n",
      "Optimizer  - threads                : 4               \n",
      "Optimizer  - solved problem         : the primal      \n",
      "Optimizer  - Constraints            : 541\n",
      "Optimizer  - Cones                  : 1\n",
      "Optimizer  - Scalar variables       : 44                conic                  : 24              \n",
      "Optimizer  - Semi-definite variables: 32                scalarized             : 1468            \n",
      "Factor     - setup time             : 0.02              dense det. time        : 0.00            \n",
      "Factor     - ML order time          : 0.00              GP order time          : 0.00            \n",
      "Factor     - nonzeros before factor : 3.73e+04          after factor           : 3.96e+04        \n",
      "Factor     - dense dim.             : 0                 flops                  : 4.60e+06        \n",
      "ITE PFEAS    DFEAS    GFEAS    PRSTATUS   POBJ              DOBJ              MU       TIME  \n",
      "0   8.0e+00  1.0e+00  1.0e+00  0.00e+00   0.000000000e+00   0.000000000e+00   1.0e+00  0.04  \n",
      "1   5.3e+00  6.6e-01  5.0e-01  -1.41e-01  -1.528716946e+00  -1.438267598e+00  6.6e-01  0.07  \n",
      "2   1.7e+00  2.2e-01  4.6e-02  1.73e+00   -3.409570497e+00  -3.320433643e+00  2.2e-01  0.09  \n",
      "3   3.3e-01  4.1e-02  3.0e-03  1.29e+00   -3.333903490e+00  -3.317742025e+00  4.1e-02  0.11  \n",
      "4   8.3e-02  1.0e-02  4.8e-04  1.06e+00   -3.259092962e+00  -3.255760123e+00  1.0e-02  0.13  \n",
      "5   2.1e-02  2.7e-03  7.2e-05  9.03e-01   -3.255959595e+00  -3.255178587e+00  2.7e-03  0.15  \n",
      "6   5.3e-03  6.6e-04  1.0e-05  8.50e-01   -3.254161512e+00  -3.253981226e+00  6.6e-04  0.18  \n",
      "7   1.7e-03  2.1e-04  2.0e-06  8.06e-01   -3.252079732e+00  -3.252027292e+00  2.1e-04  0.19  \n",
      "8   5.3e-04  6.6e-05  4.1e-07  7.18e-01   -3.250516133e+00  -3.250501464e+00  6.6e-05  0.21  \n",
      "9   1.6e-04  2.0e-05  8.5e-08  7.56e-01   -3.249686403e+00  -3.249683873e+00  2.0e-05  0.22  \n",
      "10  5.1e-05  6.3e-06  1.7e-08  6.65e-01   -3.249240739e+00  -3.249240454e+00  6.3e-06  0.23  \n",
      "11  1.1e-05  1.4e-06  2.0e-09  7.70e-01   -3.249016695e+00  -3.249016880e+00  1.4e-06  0.24  \n",
      "12  1.3e-06  1.6e-07  8.9e-11  8.74e-01   -3.248954160e+00  -3.248954240e+00  1.6e-07  0.26  \n",
      "13  4.7e-08  5.8e-09  6.2e-13  9.92e-01   -3.248951295e+00  -3.248951298e+00  5.8e-09  0.28  \n",
      "14  2.5e-09  8.3e-10  2.6e-15  1.00e+00   -3.248951177e+00  -3.248951177e+00  1.5e-10  0.31  \n",
      "Optimizer terminated. Time: 0.31    \n",
      "\n",
      "optimum = -3.248951176541306\n",
      "  0.537261 seconds (260.11 k allocations: 20.925 MiB)\n"
     ]
    }
   ],
   "source": [
    "using TSSOS\n",
    "\n",
    "\n",
    "@time opt,sol,data=cs_tssos_first(Vector{SparseMatrixCSC{UInt8,UInt32}}([[supp_f];supp_g;supp_h]),[[coe_f];coe_g;coe_h],n,k,[dg;dh],numeq=l,CS=\"MD\",TS=\"block\",CTP=false);"
   ]
  },
  {
   "cell_type": "code",
   "execution_count": 46,
   "metadata": {},
   "outputs": [
    {
     "name": "stdout",
     "output_type": "stream",
     "text": [
      "------------------------------------------------------\n",
      "The clique sizes of varibles:\n",
      "[6, 5]\n",
      "[3, 1]\n",
      "------------------------------------------------------\n"
     ]
    },
    {
     "name": "stderr",
     "output_type": "stream",
     "text": [
      "WARNING: replacing module ctpPOP.\n",
      "WARNING: Compat.Printf is deprecated, use Printf instead.\n",
      "  likely near /home/hoanganh/Desktop/math-topics/ctpPOP/codes/ctpPOP/solvers/ProximalBundleMethod/ProximalMethod.jl:391\n"
     ]
    },
    {
     "name": "stdout",
     "output_type": "stream",
     "text": [
      "  Number of cliques: p=4\n",
      "  Largest clique size: u=6\n",
      "  Largest constant trace: a=3.6399999999999997\n",
      "  Number of blocks: omega=54\n",
      "  Number of equality consraints: zeta=995\n",
      "  Size of the largest block: s^max=22\n",
      "Modeling time:\n",
      "  7.937845 seconds (4.33 M allocations: 218.481 MiB, 1.56% gc time)\n",
      "iter=1.0   val=-16.919549937125073   gap=0.0   feas=7.741025621337651\n",
      "iter=2.0   val=-5.639849979041691   gap=12.976702645470773   feas=1.8143477849511975\n",
      "iter=4.0   val=-5.122174640379852   gap=6.759798506739603   feas=2.4756476775736087\n",
      "iter=8.0   val=-4.932596954266475   gap=2.9886663663867914   feas=1.3773610180978095\n",
      "iter=16.0   val=-3.1747095625176955   gap=2.616158202673109   feas=0.8672726534004706\n",
      "iter=32.0   val=-3.3321077759527062   gap=2.258863523242298   feas=0.4059736854775491\n",
      "iter=64.0   val=-3.1621876607367447   gap=1.3943085609233261   feas=0.24687399574393917\n",
      "iter=128.0   val=-3.1983667905034205   gap=0.8454047801246882   feas=0.1261396307262505\n",
      "iter=256.0   val=-3.27808670396499   gap=0.6049122517031371   feas=0.05496531635292494\n",
      "iter=512.0   val=-3.273566648916685   gap=0.2643644060259347   feas=0.027987402796204097\n",
      "iter=1024.0   val=-3.260422250567145   gap=0.161571707759133   feas=0.01289406463044519\n",
      "iter=2048.0   val=-3.263842668429865   gap=0.12898928186231284   feas=0.0071873111362069485\n",
      "iter=4096.0   val=-3.260684076441747   gap=0.10922901051914868   feas=0.0030892274226725167\n",
      "iter=8192.0   val=-3.259301678137214   gap=0.03680693360206533   feas=0.0016151204575292032\n",
      "iter=13493.0   val=-3.257407735486295   gap=0.009822361494746357   feas=0.0012665443050007877\n",
      "tol satisfies!!!\n",
      "\n",
      "####################################\n",
      "opt_val = -3.257407735486295\n",
      "####################################\n",
      "Solving time:\n",
      " 65.569523 seconds (46.39 M allocations: 4.931 GiB, 2.29% gc time)\n",
      "Total time:\n",
      " 73.507752 seconds (50.73 M allocations: 5.144 GiB, 2.21% gc time)\n"
     ]
    },
    {
     "data": {
      "text/plain": [
       "-3.257407735486295"
      ]
     },
     "execution_count": 46,
     "metadata": {},
     "output_type": "execute_result"
    }
   ],
   "source": [
    "include(\"../src/ctpPOP.jl\")\n",
    "using .ctpPOP\n",
    "\n",
    "opt_val1=ctpPOP.POP_mix_CGAL(n,m,l,lmon_g,supp_g,coe_g,lmon_h,supp_h,coe_h,lmon_f,supp_f,coe_f,dg,dh,k,t,EigAlg=\"Arpack\",maxit=1e10,tol=1e-2,UseEq=false)"
   ]
  },
  {
   "cell_type": "code",
   "execution_count": null,
   "metadata": {},
   "outputs": [],
   "source": []
  }
 ],
 "metadata": {
  "kernelspec": {
   "display_name": "Julia 1.3.0",
   "language": "julia",
   "name": "julia-1.3"
  },
  "language_info": {
   "file_extension": ".jl",
   "mimetype": "application/julia",
   "name": "julia",
   "version": "1.3.0"
  }
 },
 "nbformat": 4,
 "nbformat_minor": 2
}
