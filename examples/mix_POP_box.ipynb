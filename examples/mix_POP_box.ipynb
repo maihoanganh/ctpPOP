{
 "cells": [
  {
   "cell_type": "code",
   "execution_count": 9,
   "metadata": {},
   "outputs": [
    {
     "name": "stdout",
     "output_type": "stream",
     "text": [
      "***Problem setting***\n",
      "Number of variable: n=5\n",
      "====================\n",
      "Number of inequality constraints: m=5\n",
      "====================\n",
      "Number of equality constraints: l=1\n",
      "====================\n"
     ]
    }
   ],
   "source": [
    "using DynamicPolynomials, LinearAlgebra, SparseArrays\n",
    "\n",
    "println(\"***Problem setting***\")\n",
    "\n",
    "n=5\n",
    "\n",
    "println(\"Number of variable: n=\",n)\n",
    "println(\"====================\")\n",
    "\n",
    "@polyvar x[1:n]# variables\n",
    "\n",
    "function generate_random_poly(T::UnitRange{Int64})\n",
    "    v=reverse(monomials(x[T],2))\n",
    "    c=2*rand(Float64,length(v)).-1\n",
    "    return c'*v\n",
    "end\n",
    "\n",
    "# unit sphere constraint\n",
    "u=5\n",
    "p=floor(Int64,n/u)+1\n",
    "\n",
    "I=Vector{UnitRange{Int64}}(undef,p)\n",
    "I[1]=1:u\n",
    "I[2:p-1]=[u*(j-1):u*j for j in 2:p-1]\n",
    "I[p]=u*(p-1):n\n",
    "\n",
    "# random quadratic objective function f\n",
    "f=sum(generate_random_poly(I[j]) for j in 1:p)\n",
    "\n",
    "\n",
    "\n",
    "g=-(x.^2).+(1/u)\n",
    "\n",
    "\n",
    "\n",
    "m=length(g)\n",
    "println(\"Number of inequality constraints: m=\",m)\n",
    "println(\"====================\")\n",
    "\n",
    "l=ceil(Int64, n/7)\n",
    "\n",
    "r=floor(Int64,l/p)\n",
    "W=[(j-1)*r+1:j*r for j in 1:p-1]\n",
    "append!(W,[(p-1)*r+1:l])\n",
    "\n",
    "h=Vector{Polynomial{true,Float64}}(undef,l)\n",
    "\n",
    "randx=2*rand(n).-1\n",
    "randx=randx./sqrt(u)\n",
    "\n",
    "for j in 1:p\n",
    "    for i in W[j]\n",
    "        h[i]=generate_random_poly(I[j])\n",
    "        h[i]-=h[i](x => randx) #make constraints feasible\n",
    "    end\n",
    "end\n",
    "\n",
    "l=length(h)\n",
    "println(\"Number of equality constraints: l=\",l)\n",
    "println(\"====================\")\n",
    "\n"
   ]
  },
  {
   "cell_type": "code",
   "execution_count": 10,
   "metadata": {},
   "outputs": [
    {
     "name": "stdout",
     "output_type": "stream",
     "text": [
      "Relaxed order: k=2\n",
      "====================\n",
      "Sparse order: t=1\n",
      "====================\n"
     ]
    }
   ],
   "source": [
    "k=2\n",
    "\n",
    "println(\"Relaxed order: k=\",k)\n",
    "println(\"====================\")\n",
    "\n",
    "t=1\n",
    "\n",
    "println(\"Sparse order: t=\",t)\n",
    "println(\"====================\")"
   ]
  },
  {
   "cell_type": "code",
   "execution_count": 11,
   "metadata": {},
   "outputs": [
    {
     "name": "stderr",
     "output_type": "stream",
     "text": [
      "WARNING: replacing module ctpPOP.\n"
     ]
    }
   ],
   "source": [
    "include(\"../src/ctpPOP.jl\")\n",
    "using .ctpPOP\n",
    "\n",
    "n,m,l,lmon_g,supp_g,coe_g,lmon_h,supp_h,coe_h,lmon_f,supp_f,coe_f,dg,dh=ctpPOP.get_info(x,f,g,h,sparse=true);"
   ]
  },
  {
   "cell_type": "code",
   "execution_count": 12,
   "metadata": {
    "scrolled": true
   },
   "outputs": [
    {
     "name": "stdout",
     "output_type": "stream",
     "text": [
      "------------------------------------------------------\n",
      "The clique sizes of varibles:\n",
      "[5]\n",
      "[1]\n",
      "------------------------------------------------------\n",
      "Problem\n",
      "  Name                   :                 \n",
      "  Objective sense        : max             \n",
      "  Type                   : CONIC (conic optimization problem)\n",
      "  Constraints            : 91              \n",
      "  Cones                  : 0               \n",
      "  Scalar variables       : 22              \n",
      "  Matrix variables       : 8               \n",
      "  Integer variables      : 0               \n",
      "\n",
      "Optimizer started.\n",
      "Presolve started.\n",
      "Linear dependency checker started.\n",
      "Linear dependency checker terminated.\n",
      "Eliminator started.\n",
      "Freed constraints in eliminator : 0\n",
      "Eliminator terminated.\n",
      "Eliminator - tries                  : 1                 time                   : 0.00            \n",
      "Lin. dep.  - tries                  : 1                 time                   : 0.00            \n",
      "Lin. dep.  - number                 : 0               \n",
      "Presolve terminated. Time: 0.00    \n",
      "Problem\n",
      "  Name                   :                 \n",
      "  Objective sense        : max             \n",
      "  Type                   : CONIC (conic optimization problem)\n",
      "  Constraints            : 91              \n",
      "  Cones                  : 0               \n",
      "  Scalar variables       : 22              \n",
      "  Matrix variables       : 8               \n",
      "  Integer variables      : 0               \n",
      "\n",
      "Optimizer  - threads                : 4               \n",
      "Optimizer  - solved problem         : the primal      \n",
      "Optimizer  - Constraints            : 91\n",
      "Optimizer  - Cones                  : 1\n",
      "Optimizer  - Scalar variables       : 23                conic                  : 18              \n",
      "Optimizer  - Semi-definite variables: 8                 scalarized             : 247             \n",
      "Factor     - setup time             : 0.00              dense det. time        : 0.00            \n",
      "Factor     - ML order time          : 0.00              GP order time          : 0.00            \n",
      "Factor     - nonzeros before factor : 3836              after factor           : 3836            \n",
      "Factor     - dense dim.             : 0                 flops                  : 2.88e+05        \n",
      "ITE PFEAS    DFEAS    GFEAS    PRSTATUS   POBJ              DOBJ              MU       TIME  \n",
      "0   3.6e+00  1.0e+00  1.0e+00  0.00e+00   0.000000000e+00   0.000000000e+00   1.0e+00  0.00  \n",
      "1   1.6e+00  4.4e-01  2.2e-01  8.55e-01   -5.693795669e-01  -4.159040243e-01  4.4e-01  0.00  \n",
      "2   3.6e-01  1.0e-01  1.9e-02  2.10e+00   -4.869993543e-01  -4.716872505e-01  1.0e-01  0.00  \n",
      "3   1.8e-01  5.0e-02  6.6e-03  1.29e+00   -4.960072276e-01  -4.895732976e-01  5.0e-02  0.00  \n",
      "4   2.8e-02  7.8e-03  4.1e-04  1.13e+00   -5.188208245e-01  -5.179766408e-01  7.8e-03  0.00  \n",
      "5   4.2e-03  1.2e-03  2.2e-05  1.01e+00   -5.248878139e-01  -5.247132118e-01  1.2e-03  0.00  \n",
      "6   5.5e-04  1.5e-04  1.0e-06  1.00e+00   -5.258942136e-01  -5.258696874e-01  1.5e-04  0.01  \n",
      "7   3.5e-05  9.8e-06  1.7e-08  1.00e+00   -5.259648425e-01  -5.259631749e-01  9.8e-06  0.01  \n",
      "8   8.5e-07  2.4e-07  6.1e-11  1.00e+00   -5.259681426e-01  -5.259681007e-01  2.4e-07  0.01  \n",
      "9   5.7e-08  1.6e-08  1.0e-12  1.01e+00   -5.259681481e-01  -5.259681453e-01  1.6e-08  0.01  \n",
      "Optimizer terminated. Time: 0.01    \n",
      "\n",
      "optimum = -0.5259681481283173\n",
      "  0.011605 seconds (40.14 k allocations: 3.105 MiB)\n"
     ]
    },
    {
     "data": {
      "text/plain": [
       "(-0.5259681481283173, nothing, TSSOS.mdata_type(5, 0, 6, [2, 2, 2, 2, 2, 2], SparseMatrixCSC{UInt8,UInt32}[\n",
       "  [1,  1]  =  0x02\n",
       "  [1,  2]  =  0x01\n",
       "  [2,  2]  =  0x01\n",
       "  [1,  3]  =  0x01\n",
       "  [3,  3]  =  0x01\n",
       "  [1,  4]  =  0x01\n",
       "  [4,  4]  =  0x01\n",
       "  [1,  5]  =  0x01\n",
       "  [5,  5]  =  0x01\n",
       "  [2,  6]  =  0x02\n",
       "  [2,  7]  =  0x01\n",
       "  [3,  7]  =  0x01\n",
       "  [2,  8]  =  0x01\n",
       "  [4,  8]  =  0x01\n",
       "  [2,  9]  =  0x01\n",
       "  [5,  9]  =  0x01\n",
       "  [3, 10]  =  0x02\n",
       "  [3, 11]  =  0x01\n",
       "  [4, 11]  =  0x01\n",
       "  [3, 12]  =  0x01\n",
       "  [5, 12]  =  0x01\n",
       "  [4, 13]  =  0x02\n",
       "  [4, 14]  =  0x01\n",
       "  [5, 14]  =  0x01\n",
       "  [5, 15]  =  0x02, \n",
       "  [1, 1]  =  0x02, \n",
       "  [2, 1]  =  0x02, \n",
       "  [3, 1]  =  0x02, \n",
       "  [4, 1]  =  0x02, \n",
       "  [5, 1]  =  0x02, \n",
       "  [5, 1]  =  0x02], Array{Float64,1}[[-0.6088974379888188, -0.2232030019677964, 0.554758433687049, 0.7833688241734378, 0.445805819170801, 0.5519704238273353, 0.6170181962771797, -0.16044819651187492, -0.9526768755181374, 0.9300690508628815, 0.0021934381000776604, 0.766111917723026, 0.39183638876841664, 0.9279609711791377, -0.28283555014194706], [-1.0, 0.2], [-1.0, 0.2], [-1.0, 0.2], [-1.0, 0.2], [-1.0, 0.2], [0.6977226700721988, -0.08389574553040244]], 1, [2], \n",
       "  [1,  2]  =  0x02\n",
       "  [1,  3]  =  0x01\n",
       "  [2,  3]  =  0x01\n",
       "  [2,  4]  =  0x02\n",
       "  [1,  5]  =  0x01\n",
       "  [3,  5]  =  0x01\n",
       "  [2,  6]  =  0x01\n",
       "  [3,  6]  =  0x01\n",
       "  [3,  7]  =  0x02\n",
       "  [1,  8]  =  0x01\n",
       "  [4,  8]  =  0x01\n",
       "  [2,  9]  =  0x01\n",
       "  ⋮\n",
       "  [4, 80]  =  0x03\n",
       "  [5, 80]  =  0x01\n",
       "  [4, 81]  =  0x02\n",
       "  [5, 81]  =  0x02\n",
       "  [1, 82]  =  0x01\n",
       "  [5, 82]  =  0x03\n",
       "  [2, 83]  =  0x01\n",
       "  [5, 83]  =  0x03\n",
       "  [3, 84]  =  0x01\n",
       "  [5, 84]  =  0x03\n",
       "  [4, 85]  =  0x01\n",
       "  [5, 85]  =  0x03\n",
       "  [5, 86]  =  0x04, Array{Array{UInt8,2},1}[[[0x00 0x00 … 0x00 0x00; 0x00 0x00 … 0x00 0x00; … ; 0x00 0x00 … 0x00 0x00; 0x00 0x00 … 0x00 0x00], [0x02 0x00; 0x00 0x00; … ; 0x00 0x00; 0x00 0x00], [0x00 0x00; 0x02 0x00; … ; 0x00 0x00; 0x00 0x00], [0x00 0x00; 0x00 0x00; … ; 0x00 0x00; 0x00 0x00], [0x00 0x00; 0x00 0x00; … ; 0x02 0x00; 0x00 0x00], [0x00 0x00; 0x00 0x00; … ; 0x00 0x00; 0x02 0x00], [0x00 0x00; 0x00 0x00; … ; 0x00 0x00; 0x02 0x00]]], Array{UInt16,1}[[0x000f, 0x0002, 0x0002, 0x0002, 0x0002, 0x0002, 0x0002]], Array{UInt8,2}[[0x00 0x01 … 0x00 0x00; 0x00 0x00 … 0x00 0x00; … ; 0x00 0x00 … 0x01 0x00; 0x00 0x00 … 0x01 0x02]], Array{Array{UInt8,2},1}[[[0x00 0x01 … 0x00 0x00; 0x00 0x00 … 0x00 0x00; … ; 0x00 0x00 … 0x01 0x00; 0x00 0x00 … 0x00 0x01], [0x00 0x01 … 0x00 0x00; 0x00 0x00 … 0x00 0x00; … ; 0x00 0x00 … 0x01 0x00; 0x00 0x00 … 0x00 0x01], [0x00 0x01 … 0x00 0x00; 0x00 0x00 … 0x00 0x00; … ; 0x00 0x00 … 0x01 0x00; 0x00 0x00 … 0x00 0x01], [0x00 0x01 … 0x00 0x00; 0x00 0x00 … 0x00 0x00; … ; 0x00 0x00 … 0x01 0x00; 0x00 0x00 … 0x00 0x01], [0x00 0x01 … 0x00 0x00; 0x00 0x00 … 0x00 0x00; … ; 0x00 0x00 … 0x01 0x00; 0x00 0x00 … 0x00 0x01], [0x00 0x01 … 0x00 0x00; 0x00 0x00 … 0x00 0x00; … ; 0x00 0x00 … 0x01 0x00; 0x00 0x00 … 0x00 0x01]]], 1, Array{UInt16,1}[[0x0001, 0x0002, 0x0003, 0x0004, 0x0005]], [5], Array{UInt16,1}[[0x0001, 0x0002, 0x0003, 0x0004, 0x0005, 0x0006]], UInt16[], Array{Array{Array{UInt16,1},1},1}[[[[0x0001, 0x0007, 0x0008, 0x0009, 0x000a, 0x000b, 0x000c, 0x000d, 0x000e, 0x000f, 0x0010, 0x0011, 0x0012, 0x0013, 0x0014, 0x0015], [0x0002, 0x0003, 0x0004, 0x0005, 0x0006]], [[0x0001], [0x0002, 0x0003, 0x0004, 0x0005, 0x0006]], [[0x0001], [0x0002, 0x0003, 0x0004, 0x0005, 0x0006]], [[0x0001], [0x0002, 0x0003, 0x0004, 0x0005, 0x0006]], [[0x0001], [0x0002, 0x0003, 0x0004, 0x0005, 0x0006]], [[0x0001], [0x0002, 0x0003, 0x0004, 0x0005, 0x0006]], [[0x0001], [0x0002, 0x0003, 0x0004, 0x0005, 0x0006]]]], Array{UInt16,1}[[0x0002, 0x0002, 0x0002, 0x0002, 0x0002, 0x0002, 0x0002]], Array{Array{Int64,1},1}[[[16, 5], [1, 5], [1, 5], [1, 5], [1, 5], [1, 5], [1, 5]]], Array{UInt16,1}[[0x0010, 0x0005]], Array{UInt16,1}[[0x0001, 0x0001]]))"
      ]
     },
     "execution_count": 12,
     "metadata": {},
     "output_type": "execute_result"
    }
   ],
   "source": [
    "using TSSOS\n",
    "\n",
    "\n",
    "@time begin\n",
    "    ~,~,data=cs_tssos_first(Vector{SparseMatrixCSC{UInt8,UInt32}}([[supp_f];supp_g;supp_h]),[[coe_f];coe_g;coe_h],n,k,[dg;dh],numeq=l,CS=\"MD\",TS=\"block\",CTP=false);\n",
    "    for j in 1:t-1\n",
    "        ~,~,data=cs_tssos_higher!(data,TS=\"block\");\n",
    "    end\n",
    "end"
   ]
  },
  {
   "cell_type": "code",
   "execution_count": 13,
   "metadata": {},
   "outputs": [
    {
     "name": "stdout",
     "output_type": "stream",
     "text": [
      "------------------------------------------------------\n",
      "The clique sizes of varibles:\n",
      "[5]\n",
      "[1]\n",
      "------------------------------------------------------\n",
      "  Number of cliques: p=1\n",
      "  Largest clique size: u=5\n"
     ]
    },
    {
     "name": "stderr",
     "output_type": "stream",
     "text": [
      "WARNING: replacing module ctpPOP.\n"
     ]
    },
    {
     "name": "stdout",
     "output_type": "stream",
     "text": [
      "  Largest constant trace: a=3.0\n",
      "  Number of blocks: omega=12\n",
      "  Number of equality consraints: zeta=162\n",
      "  Size of the largest block: s^max=16\n",
      "Modeling time:\n",
      "  0.558120 seconds (717.99 k allocations: 36.492 MiB)\n",
      "iter=1   val=-2.451010370239651   gap=2.57367647272079e-16   feas=3.355626257960232\n",
      "iter=2   val=-0.8170034567465505   gap=0.6080109825999888   feas=0.6620971215894007\n",
      "iter=4   val=-0.9063256661784256   gap=0.4658003984470651   feas=0.9186556523510263\n",
      "iter=8   val=-0.6281948583991066   gap=0.08308621838312719   feas=0.4661218968308251\n",
      "iter=16   val=-0.45523690455644017   gap=0.11268695294573162   feas=0.39949082608570746\n",
      "iter=32   val=-0.5807222953398592   gap=0.1649246186808473   feas=0.15680917150486903\n",
      "iter=64   val=-0.5330829597887387   gap=0.1383306693055401   feas=0.12076827595864492\n",
      "iter=128   val=-0.4980138743004699   gap=0.0961879180737565   feas=0.05740182348588339\n",
      "iter=256   val=-0.5206550492241858   gap=0.0904167140341381   feas=0.01454147836992249\n",
      "iter=333   val=-0.5173795034129177   gap=0.006595173191177161   feas=0.00942023855349951\n",
      "tol satisfies!!!\n",
      "\n",
      "####################################\n",
      "opt_val = -0.5173795034129177\n",
      "####################################\n",
      "Solving time:\n",
      "  0.111387 seconds (232.46 k allocations: 18.366 MiB)\n",
      "Total time:\n",
      "  0.669644 seconds (950.96 k allocations: 54.869 MiB)\n"
     ]
    },
    {
     "data": {
      "text/plain": [
       "-0.5173795034129177"
      ]
     },
     "execution_count": 13,
     "metadata": {},
     "output_type": "execute_result"
    }
   ],
   "source": [
    "include(\"../src/ctpPOP.jl\")\n",
    "using .ctpPOP\n",
    "\n",
    "opt_val1=ctpPOP.POP_mix_CGAL(n,m,l,lmon_g,supp_g,coe_g,lmon_h,supp_h,coe_h,lmon_f,supp_f,coe_f,dg,dh,k,t,\n",
    "    maxit=Int64(1e10),tol=1e-2,use_eqcons_to_get_constant_trace=false,check_tol_each_iter=true)"
   ]
  },
  {
   "cell_type": "code",
   "execution_count": 14,
   "metadata": {},
   "outputs": [
    {
     "name": "stdout",
     "output_type": "stream",
     "text": [
      "------------------------------------------------------\n",
      "The clique sizes of varibles:\n",
      "[5]\n",
      "[1]\n",
      "------------------------------------------------------\n",
      "  Number of cliques: p=1\n",
      "  Largest clique size: u=5\n"
     ]
    },
    {
     "name": "stderr",
     "output_type": "stream",
     "text": [
      "WARNING: replacing module ctpPOP.\n"
     ]
    },
    {
     "name": "stdout",
     "output_type": "stream",
     "text": [
      "  Largest constant trace: a=3.0\n",
      "  Number of blocks: omega=12\n",
      "  Number of equality consraints: zeta=162\n",
      "  Size of the largest block: s^max=16\n",
      "Modeling time:\n",
      "  0.516476 seconds (717.95 k allocations: 36.472 MiB)\n",
      "**LMBM solver:\n",
      "---------------\n",
      "| Parameters: |\n",
      "---------------\n",
      "n:       162\n",
      "maxtime: 300000.000000\n",
      "na:      2\n",
      "mcu:     5\n",
      "mc:      7\n",
      "rpar: \n",
      "ipar: \n",
      " Warning: MC > MCU. Assigned MC = MCU.\n",
      " Entry to LMBM:\n",
      " NIT=    1  NFE=    1  F= 0.42246092D+00  WK= 0.3716D-01  QK= 0.1858D-01\n",
      " NIT=    2  NFE=    2  F= 0.38529892D+00  WK= 0.3716D-01  QK= 0.1858D-01\n",
      " NIT=    3  NFE=    3  F= 0.34813691D+00  WK= 0.3716D-01  QK= 0.1858D-01\n",
      " NIT=    4  NFE=    4  F= 0.31097490D+00  WK= 0.3716D-01  QK= 0.1858D-01\n",
      " NIT=    5  NFE=    5  F= 0.29729605D+00  WK= 0.3716D-01  QK= 0.1858D-01\n",
      " NIT=    6  NFE=   50  F= 0.29729605D+00  WK= 0.3716D-01  QK= 0.1858D-01\n",
      " NIT=    7  NFE=   95  F= 0.29729605D+00  WK= 0.3716D-01  QK= 0.1858D-01\n",
      " NIT=    8  NFE=  140  F= 0.29729605D+00  WK= 0.3716D-01  QK= 0.1858D-01\n",
      " NIT=    9  NFE=  185  F= 0.29729605D+00  WK= 0.3716D-01  QK= 0.1858D-01\n",
      " NIT=   10  NFE=  230  F= 0.29729605D+00  WK= 0.3716D-01  QK= 0.1858D-01\n",
      " NIT=   11  NFE=  275  F= 0.29729605D+00  WK= 0.3716D-01  QK= 0.1858D-01\n",
      " NIT=   12  NFE=  320  F= 0.29729605D+00  WK= 0.3716D-01  QK= 0.1858D-01\n",
      " NIT=   13  NFE=  365  F= 0.29729605D+00  WK= 0.3716D-01  QK= 0.1858D-01\n",
      " NIT=   14  NFE=  410  F= 0.29729605D+00  WK= 0.3716D-01  QK= 0.1858D-01\n",
      " NIT=   15  NFE=  455  F= 0.29729605D+00  WK= 0.3716D-01  QK= 0.1858D-01\n",
      " NIT=   16  NFE=  500  F= 0.29729605D+00  WK= 0.3716D-01  QK= 0.1858D-01\n",
      " NIT=   17  NFE=  545  F= 0.29729605D+00  WK= 0.3716D-01  QK= 0.1858D-01\n",
      " NIT=   18  NFE=  590  F= 0.29729605D+00  WK= 0.3716D-01  QK= 0.1858D-01\n",
      " NIT=   19  NFE=  635  F= 0.29729605D+00  WK= 0.3716D-01  QK= 0.1858D-01\n",
      " NIT=   20  NFE=  680  F= 0.29729605D+00  WK= 0.3716D-01  QK= 0.1858D-01\n",
      " NIT=   21  NFE=  725  F= 0.29729605D+00  WK= 0.3716D-01  QK= 0.1858D-01\n",
      " NIT=   22  NFE=  770  F= 0.29729605D+00  WK= 0.3716D-01  QK= 0.1858D-01\n",
      " NIT=   23  NFE=  815  F= 0.29729605D+00  WK= 0.3716D-01  QK= 0.1858D-01\n",
      " NIT=   24  NFE=  860  F= 0.29729605D+00  WK= 0.3716D-01  QK= 0.1858D-01\n",
      " NIT=   25  NFE=  905  F= 0.29729605D+00  WK= 0.3716D-01  QK= 0.1858D-01\n",
      " Exit from LMBM:\n",
      " Abnormal exit: Failure in attaining the demanded accuracy.\n",
      " NIT=   26  NFE=  950  F= 0.29729605D+00  WK= 0.3716D-01  QK= 0.1858D-01  ITERM= -4\n",
      "-----------\n",
      "| Output: |\n",
      "-----------\n",
      "Termination:     -4\n",
      "N. iter.:        26\n",
      "N. func. eval.:  950\n",
      "Final value:     0.297296\n",
      "Execution time:  0.297119\n",
      "\n",
      "####################################\n",
      "opt_val = -1.724835758920147\n",
      "####################################\n",
      "  0.393436 seconds (922.99 k allocations: 67.748 MiB)\n",
      "Total time:\n",
      "  0.910035 seconds (1.64 M allocations: 104.230 MiB)\n"
     ]
    },
    {
     "data": {
      "text/plain": [
       "-1.724835758920147"
      ]
     },
     "execution_count": 14,
     "metadata": {},
     "output_type": "execute_result"
    }
   ],
   "source": [
    "include(\"../src/ctpPOP.jl\")\n",
    "using .ctpPOP\n",
    "\n",
    "opt_val=ctpPOP.POP_mix_LMBM(n,m,l,lmon_g,supp_g,coe_g,lmon_h,supp_h,coe_h,lmon_f,supp_f,coe_f,dg,dh,k,t,\n",
    "    tol=1e-2,use_eqcons_to_get_constant_trace=false)"
   ]
  },
  {
   "cell_type": "code",
   "execution_count": 15,
   "metadata": {},
   "outputs": [
    {
     "name": "stdout",
     "output_type": "stream",
     "text": [
      "This is Ipopt version 3.13.2, running with linear solver mumps.\n",
      "NOTE: Other linear solvers might be more efficient (see Ipopt documentation).\n",
      "\n",
      "Number of nonzeros in equality constraint Jacobian...:        1\n",
      "Number of nonzeros in inequality constraint Jacobian.:        5\n",
      "Number of nonzeros in Lagrangian Hessian.............:       21\n",
      "\n",
      "Total number of variables............................:        5\n",
      "                     variables with only lower bounds:        0\n",
      "                variables with lower and upper bounds:        0\n",
      "                     variables with only upper bounds:        0\n",
      "Total number of equality constraints.................:        1\n",
      "Total number of inequality constraints...............:        5\n",
      "        inequality constraints with only lower bounds:        5\n",
      "   inequality constraints with lower and upper bounds:        0\n",
      "        inequality constraints with only upper bounds:        0\n",
      "\n",
      "iter    objective    inf_pr   inf_du lg(mu)  ||d||  lg(rg) alpha_du alpha_pr  ls\n",
      "   0  0.0000000e+00 8.39e-02 1.00e+00  -1.0 0.00e+00    -  0.00e+00 0.00e+00   0\n",
      "   1  0.0000000e+00 8.39e-02 2.38e-07  -1.7 3.76e-10   2.0 1.00e+00 1.00e+00s 22\n",
      "   2r 0.0000000e+00 8.39e-02 9.99e+02  -1.1 0.00e+00   7.8 0.00e+00 4.77e-07R 22\n",
      "   3r 0.0000000e+00 8.39e-02 8.39e-07  -1.1 7.00e-08    -  1.00e+00 1.00e+00f  1\n",
      "   4r 0.0000000e+00 8.39e-02 8.38e-01  -4.0 8.38e-05   4.0 1.00e+00 1.00e+00f  1\n",
      "   5r 0.0000000e+00 8.39e-02 3.51e-04  -4.0 1.05e-07   3.5 1.00e+00 1.00e+00f  1\n",
      "   6r 0.0000000e+00 8.39e-02 8.91e-04  -6.0 1.00e-07   3.9 1.00e+00 1.00e+00f  1\n",
      "   7r 0.0000000e+00 8.39e-02 2.33e-10  -6.0 8.20e-14   3.5 1.00e+00 1.00e+00h  1\n",
      "   8r 0.0000000e+00 8.39e-02 8.05e-06  -9.0 1.02e-09   3.9 1.00e+00 1.00e+00f  1\n",
      "\n",
      "Number of Iterations....: 8\n",
      "\n",
      "                                   (scaled)                 (unscaled)\n",
      "Objective...............:   0.0000000000000000e+00    0.0000000000000000e+00\n",
      "Dual infeasibility......:   3.7646607971784327e-14    3.7646607971784327e-14\n",
      "Constraint violation....:   8.3895745530402438e-02    8.3895745530402438e-02\n",
      "Complementarity.........:   1.0301436450418983e-09    1.0301436450418983e-09\n",
      "Overall NLP error.......:   8.3895745530402438e-02    8.3895745530402438e-02\n",
      "\n",
      "\n",
      "Number of objective function evaluations             = 54\n",
      "Number of objective gradient evaluations             = 4\n",
      "Number of equality constraint evaluations            = 54\n",
      "Number of inequality constraint evaluations          = 54\n",
      "Number of equality constraint Jacobian evaluations   = 11\n",
      "Number of inequality constraint Jacobian evaluations = 11\n",
      "Number of Lagrangian Hessian evaluations             = 9\n",
      "Total CPU secs in IPOPT (w/o function evaluations)   =      0.016\n",
      "Total CPU secs in NLP function evaluations           =      0.001\n",
      "\n",
      "EXIT: Converged to a point of local infeasibility. Problem may be infeasible.\n",
      "LOCALLY_INFEASIBLE\n",
      "opt_val=0.0\n",
      "  0.079289 seconds (51.97 k allocations: 2.678 MiB)\n"
     ]
    },
    {
     "name": "stderr",
     "output_type": "stream",
     "text": [
      "WARNING: replacing module ctpPOP.\n"
     ]
    },
    {
     "data": {
      "text/plain": [
       "0.0"
      ]
     },
     "execution_count": 15,
     "metadata": {},
     "output_type": "execute_result"
    }
   ],
   "source": [
    "include(\"../src/ctpPOP.jl\")\n",
    "using .ctpPOP\n",
    "\n",
    "optval=ctpPOP.POP_NLP(n,m,l,lmon_g,supp_g,coe_g,lmon_h,supp_h,coe_h,lmon_f,supp_f,coe_f)"
   ]
  },
  {
   "cell_type": "code",
   "execution_count": null,
   "metadata": {},
   "outputs": [],
   "source": []
  }
 ],
 "metadata": {
  "kernelspec": {
   "display_name": "Julia 1.3.0",
   "language": "julia",
   "name": "julia-1.3"
  },
  "language_info": {
   "file_extension": ".jl",
   "mimetype": "application/julia",
   "name": "julia",
   "version": "1.3.0"
  }
 },
 "nbformat": 4,
 "nbformat_minor": 2
}
