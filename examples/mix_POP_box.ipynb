{
 "cells": [
  {
   "cell_type": "code",
   "execution_count": 12,
   "metadata": {},
   "outputs": [
    {
     "name": "stdout",
     "output_type": "stream",
     "text": [
      "***Problem setting***\n",
      "Number of variable: n=1000\n",
      "====================\n",
      "Number of inequality constraints: m=1000\n",
      "====================\n",
      "Number of equality constraints: l=143\n",
      "====================\n"
     ]
    }
   ],
   "source": [
    "using DynamicPolynomials, LinearAlgebra, SparseArrays\n",
    "\n",
    "println(\"***Problem setting***\")\n",
    "\n",
    "n=1000\n",
    "\n",
    "println(\"Number of variable: n=\",n)\n",
    "println(\"====================\")\n",
    "\n",
    "@ncpolyvar x[1:n]# variables\n",
    "\n",
    "function star_algebra(mom)\n",
    "    if mom==1\n",
    "        return mom\n",
    "    else\n",
    "        ind=mom.z .>0\n",
    "        vars=mom.vars[ind]\n",
    "        exp=mom.z[ind]\n",
    "        return prod(vars[i]^exp[i] for i in length(exp):-1:1)\n",
    "    end\n",
    "end\n",
    "\n",
    "function generate_random_poly(T::UnitRange{Int64})\n",
    "    v=reverse(monomials(x[T],2))\n",
    "    v+=star_algebra.(v)\n",
    "    v=v./2\n",
    "    c=2*rand(Float64,length(v)).-1\n",
    "    return c'*v\n",
    "end\n",
    "\n",
    "# unit sphere constraint\n",
    "u=15\n",
    "p=floor(Int64,n/u)+1\n",
    "\n",
    "I=Vector{UnitRange{Int64}}(undef,p)\n",
    "I[1]=1:u\n",
    "I[2:p-1]=[u*(j-1):u*j for j in 2:p-1]\n",
    "I[p]=u*(p-1):n\n",
    "\n",
    "# random quadratic objective function f\n",
    "f=sum(generate_random_poly(I[j]) for j in 1:p)\n",
    "\n",
    "g=-(x.^2).+(1/u)\n",
    "\n",
    "m=length(g)\n",
    "println(\"Number of inequality constraints: m=\",m)\n",
    "println(\"====================\")\n",
    "\n",
    "l=ceil(Int64, n/7)\n",
    "\n",
    "r=floor(Int64,l/p)\n",
    "W=[(j-1)*r+1:j*r for j in 1:p-1]\n",
    "append!(W,[(p-1)*r+1:l])\n",
    "\n",
    "h=Vector{Polynomial{false,Float64}}(undef,l)\n",
    "\n",
    "randx=2*rand(n).-1\n",
    "randx=randx./sqrt(u)\n",
    "\n",
    "for j in 1:p\n",
    "    for i in W[j]\n",
    "        h[i]=generate_random_poly(I[j])\n",
    "        h[i]-=h[i](x => randx) #make constraints feasible\n",
    "    end\n",
    "end\n",
    "\n",
    "l=length(h)\n",
    "println(\"Number of equality constraints: l=\",l)\n",
    "println(\"====================\")"
   ]
  },
  {
   "cell_type": "code",
   "execution_count": 13,
   "metadata": {},
   "outputs": [
    {
     "name": "stderr",
     "output_type": "stream",
     "text": [
      "WARNING: replacing module ctpNCPOP.\n"
     ]
    }
   ],
   "source": [
    "include(\"../src/ctpNCPOP.jl\")\n",
    "using .ctpNCPOP\n",
    "\n",
    "n,m,l,lmon_g,supp_g,coe_g,lmon_h,supp_h,coe_h,lmon_f,supp_f,coe_f,dg,dh=ctpNCPOP.get_info(x,f,g,h);"
   ]
  },
  {
   "cell_type": "code",
   "execution_count": 14,
   "metadata": {},
   "outputs": [
    {
     "name": "stdout",
     "output_type": "stream",
     "text": [
      "Relaxed order: k=2\n",
      "====================\n",
      "Sparse order: t=1\n",
      "====================\n"
     ]
    }
   ],
   "source": [
    "k=2\n",
    "\n",
    "println(\"Relaxed order: k=\",k)\n",
    "println(\"====================\")\n",
    "\n",
    "t=1\n",
    "\n",
    "println(\"Sparse order: t=\",t)\n",
    "println(\"====================\")"
   ]
  },
  {
   "cell_type": "code",
   "execution_count": null,
   "metadata": {
    "scrolled": true
   },
   "outputs": [
    {
     "name": "stdout",
     "output_type": "stream",
     "text": [
      "------------------------------------------------------\n",
      "The clique sizes of varibles:\n",
      "[16, 15, 11]\n",
      "[65, 1, 1]\n",
      "------------------------------------------------------\n",
      "  Number of cliques: p=67\n",
      "  Largest clique size: u=16\n"
     ]
    },
    {
     "name": "stderr",
     "output_type": "stream",
     "text": [
      "WARNING: replacing module ctpNCPOP.\n"
     ]
    },
    {
     "name": "stdout",
     "output_type": "stream",
     "text": [
      "  Largest constant trace: a=3.204444444444444\n",
      "  Number of blocks: omega=2266\n",
      "  Number of equality consraints: zeta=181006\n",
      "  Size of the largest block: s^max=257\n",
      "Modeling time:\n",
      "131.919565 seconds (1.18 G allocations: 148.159 GiB, 12.90% gc time)\n",
      "iter=1   val=-613.584187751235   gap=1.8498171607310047e-16   feas=22.075947096897544\n",
      "iter=2   val=-511.9467265153123   gap=0.09052768794835982   feas=18.644517799791178\n",
      "iter=4   val=-356.1217691047821   gap=0.10477497354136212   feas=9.947926800117276\n",
      "iter=8   val=-267.0984720877958   gap=0.14434935300759047   feas=4.825927628129485\n",
      "iter=16   val=-203.44272931505682   gap=0.25897100195452605   feas=2.3959110718862275\n",
      "iter=32   val=-203.66845663280776   gap=0.11896362591516409   feas=1.5953534048391402\n",
      "iter=64   val=-189.86782097514464   gap=0.07311962470773213   feas=0.9846846704825888\n",
      "iter=128   val=-167.98460240665122   gap=0.08546421962791344   feas=0.5186677885983717\n",
      "iter=256   val=-159.2491636299329   gap=0.04686997963075526   feas=0.2533284117277238\n",
      "iter=512   val=-155.80196924679987   gap=0.04792431767439795   feas=0.11323493833028517\n",
      "iter=1024   val=-155.28213467563774   gap=0.05060730014745585   feas=0.05089325371684585\n",
      "iter=2048   val=-155.52475206664673   gap=0.032617241820897286   feas=0.02631584077547543\n",
      "iter=4096   val=-155.64883841653776   gap=0.024170445185095927   feas=0.013739658313962374\n",
      "iter=8192   val=-155.7185121097007   gap=0.018218495338596857   feas=0.006604505415681481\n"
     ]
    }
   ],
   "source": [
    "include(\"../src/ctpNCPOP.jl\")\n",
    "using .ctpNCPOP\n",
    "\n",
    "opt_val1=ctpNCPOP.POP_mix_CGAL(n,m,l,lmon_g,supp_g,coe_g,lmon_h,supp_h,coe_h,lmon_f,supp_f,coe_f,dg,dh,k,t,\n",
    "    maxit=Int64(1e10),tol=5e-3,use_eqcons_to_get_constant_trace=false,check_tol_each_iter=true)"
   ]
  },
  {
   "cell_type": "code",
   "execution_count": null,
   "metadata": {},
   "outputs": [],
   "source": []
  },
  {
   "cell_type": "code",
   "execution_count": null,
   "metadata": {},
   "outputs": [],
   "source": []
  },
  {
   "cell_type": "code",
   "execution_count": 11,
   "metadata": {},
   "outputs": [
    {
     "name": "stdout",
     "output_type": "stream",
     "text": [
      "------------------------------------------------------\n",
      "The clique sizes of varibles:\n",
      "[11, 10]\n",
      "[99, 1]\n",
      "------------------------------------------------------\n",
      "Problem\n",
      "  Name                   :                 \n",
      "  Objective sense        : max             \n",
      "  Type                   : CONIC (conic optimization problem)\n",
      "  Constraints            : 742161          \n",
      "  Cones                  : 0               \n",
      "  Scalar variables       : 1144            \n",
      "  Matrix variables       : 1343            \n",
      "  Integer variables      : 0               \n",
      "\n",
      "Optimizer started.\n",
      "Presolve started.\n",
      "Linear dependency checker started.\n",
      "Linear dependency checker terminated.\n",
      "Eliminator started.\n",
      "Freed constraints in eliminator : 0\n",
      "Eliminator terminated.\n",
      "Eliminator - tries                  : 1                 time                   : 0.00            \n",
      "Lin. dep.  - tries                  : 1                 time                   : 0.14            \n",
      "Lin. dep.  - number                 : 0               \n",
      "Presolve terminated. Time: 0.26    \n",
      "Problem\n",
      "  Name                   :                 \n",
      "  Objective sense        : max             \n",
      "  Type                   : CONIC (conic optimization problem)\n",
      "  Constraints            : 742161          \n",
      "  Cones                  : 0               \n",
      "  Scalar variables       : 1144            \n",
      "  Matrix variables       : 1343            \n",
      "  Integer variables      : 0               \n",
      "\n",
      "Optimizer  - threads                : 4               \n",
      "Optimizer  - solved problem         : the primal      \n",
      "Optimizer  - Constraints            : 742161\n",
      "Optimizer  - Cones                  : 1\n",
      "Optimizer  - Scalar variables       : 1103              conic                  : 3               \n",
      "Optimizer  - Semi-definite variables: 1343              scalarized             : 829865          \n",
      "Factor     - setup time             : 880.76            dense det. time        : 0.00            \n",
      "Factor     - ML order time          : 517.93            GP order time          : 0.00            \n",
      "Factor     - nonzeros before factor : 2.76e+09          after factor           : 2.76e+09        \n",
      "Factor     - dense dim.             : 0                 flops                  : 1.37e+13        \n",
      "ITE PFEAS    DFEAS    GFEAS    PRSTATUS   POBJ              DOBJ              MU       TIME  \n",
      "0   1.0e+02  1.0e+00  1.0e+00  0.00e+00   0.000000000e+00   0.000000000e+00   1.0e+00  883.12\n",
      "1   8.7e+01  8.7e-01  9.3e-01  -9.68e-01  -1.319377715e+00  -1.466542836e+00  8.7e-01  1341.40\n",
      "2   8.5e+01  8.5e-01  8.2e-01  -7.64e-01  -8.795509452e+01  -8.799250479e+01  8.5e-01  1788.60\n",
      "3   3.5e+01  3.5e-01  3.7e-01  -5.16e-01  -1.814004207e+02  -1.818996884e+02  3.5e-01  2234.66\n",
      "4   4.3e+00  4.3e-02  5.8e-03  5.86e-01   -2.616813960e+02  -2.616467743e+02  4.3e-02  2714.70\n",
      "5   2.5e+00  2.5e-02  2.5e-03  2.36e+00   -2.133831036e+02  -2.133729657e+02  2.5e-02  3169.70\n",
      "6   1.6e+00  1.6e-02  1.3e-03  1.64e+00   -2.016941676e+02  -2.016892429e+02  1.6e-02  3619.50\n",
      "7   1.8e-01  1.8e-03  4.0e-05  1.42e+00   -1.898026738e+02  -1.898021713e+02  1.8e-03  4111.89\n",
      "8   2.8e-02  2.8e-04  2.6e-06  1.08e+00   -1.886573232e+02  -1.886572563e+02  2.8e-04  4602.89\n",
      "9   2.1e-02  2.1e-04  1.6e-06  1.01e+00   -1.886117177e+02  -1.886116688e+02  2.1e-04  5049.96\n",
      "10  1.2e-02  1.2e-04  6.7e-07  1.01e+00   -1.885542788e+02  -1.885542517e+02  1.2e-04  5489.62\n",
      "11  1.8e-03  1.8e-05  4.3e-08  1.01e+00   -1.884937878e+02  -1.884937835e+02  1.8e-05  6020.11\n",
      "12  1.0e-03  1.0e-05  1.8e-08  1.00e+00   -1.884888618e+02  -1.884888593e+02  1.0e-05  6365.44\n",
      "13  1.4e-04  1.4e-06  9.0e-10  1.00e+00   -1.884833441e+02  -1.884833438e+02  1.4e-06  6726.94\n",
      "14  8.6e-05  8.5e-07  4.3e-10  1.00e+00   -1.884830135e+02  -1.884830133e+02  8.5e-07  7172.81\n",
      "15  1.0e-05  1.2e-07  2.3e-11  1.00e+00   -1.884825644e+02  -1.884825643e+02  1.2e-07  7672.34\n",
      "16  5.0e-07  1.9e-08  1.4e-12  1.00e+00   -1.884825007e+02  -1.884825007e+02  1.8e-08  8044.47\n",
      "17  3.2e-07  6.7e-09  2.1e-13  1.00e+00   -1.884824919e+02  -1.884824919e+02  5.2e-09  8377.09\n",
      "18  1.6e-08  5.3e-09  1.2e-15  1.00e+00   -1.884824885e+02  -1.884824885e+02  1.7e-10  8721.34\n",
      "Optimizer terminated. Time: 8723.50 \n",
      "\n",
      "optimum = -188.48248845455157\n",
      "8956.666972 seconds (3.09 G allocations: 252.994 GiB, 0.44% gc time)\n"
     ]
    }
   ],
   "source": [
    "using NCTSSOS\n",
    "\n",
    "@time begin\n",
    "\n",
    "j=1\n",
    "opt,data=cs_nctssos_first(Vector{Vector{Vector{UInt16}}}([[supp_f];supp_g;supp_h]),[[coe_f];coe_g;coe_h],\n",
    "        n,k,[dg;dh],numeq=l,minimize=true,obj=\"eigen\",TS=\"block\",QUIET=false);\n",
    "while j <= t-1\n",
    "    opt,data=cs_nctssos_higher!(data,TS=\"MD\")\n",
    "    j+=1\n",
    "end\n",
    "    \n",
    "end"
   ]
  },
  {
   "cell_type": "code",
   "execution_count": 6,
   "metadata": {},
   "outputs": [],
   "source": [
    "#using ctpPOP\n",
    "\n",
    "#optval=ctpPOP.POP_NLP(n,m,l,lmon_g,supp_g,coe_g,lmon_h,supp_h,coe_h,lmon_f,supp_f,coe_f)"
   ]
  },
  {
   "cell_type": "code",
   "execution_count": null,
   "metadata": {},
   "outputs": [],
   "source": []
  }
 ],
 "metadata": {
  "kernelspec": {
   "display_name": "Julia 1.3.0",
   "language": "julia",
   "name": "julia-1.3"
  },
  "language_info": {
   "file_extension": ".jl",
   "mimetype": "application/julia",
   "name": "julia",
   "version": "1.3.0"
  }
 },
 "nbformat": 4,
 "nbformat_minor": 2
}
