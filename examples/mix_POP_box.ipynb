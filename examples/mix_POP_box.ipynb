{
 "cells": [
  {
   "cell_type": "code",
   "execution_count": 11,
   "metadata": {},
   "outputs": [
    {
     "name": "stdout",
     "output_type": "stream",
     "text": [
      "***Problem setting***\n",
      "Number of variable: n=5\n",
      "====================\n",
      "Number of inequality constraints: m=5\n",
      "====================\n",
      "Number of equality constraints: l=1\n",
      "====================\n"
     ]
    }
   ],
   "source": [
    "using DynamicPolynomials, LinearAlgebra, SparseArrays\n",
    "\n",
    "println(\"***Problem setting***\")\n",
    "\n",
    "n=5\n",
    "\n",
    "println(\"Number of variable: n=\",n)\n",
    "println(\"====================\")\n",
    "\n",
    "@polyvar x[1:n]# variables\n",
    "\n",
    "function generate_random_poly(T::UnitRange{Int64})\n",
    "    v=reverse(monomials(x[T],2))\n",
    "    c=2*rand(Float64,length(v)).-1\n",
    "    return c'*v\n",
    "end\n",
    "\n",
    "# unit sphere constraint\n",
    "u=5\n",
    "p=floor(Int64,n/u)+1\n",
    "\n",
    "I=Vector{UnitRange{Int64}}(undef,p)\n",
    "I[1]=1:u\n",
    "I[2:p-1]=[u*(j-1):u*j for j in 2:p-1]\n",
    "I[p]=u*(p-1):n\n",
    "\n",
    "# random quadratic objective function f\n",
    "f=sum(generate_random_poly(I[j]) for j in 1:p)\n",
    "\n",
    "\n",
    "\n",
    "g=-(x.^2).+(1/u)\n",
    "\n",
    "\n",
    "\n",
    "m=length(g)\n",
    "println(\"Number of inequality constraints: m=\",m)\n",
    "println(\"====================\")\n",
    "\n",
    "l=ceil(Int64, n/7)\n",
    "\n",
    "r=floor(Int64,l/p)\n",
    "W=[(j-1)*r+1:j*r for j in 1:p-1]\n",
    "append!(W,[(p-1)*r+1:l])\n",
    "\n",
    "h=Vector{Polynomial{true,Float64}}(undef,l)\n",
    "\n",
    "randx=2*rand(n).-1\n",
    "randx=randx./sqrt(u)\n",
    "\n",
    "for j in 1:p\n",
    "    for i in W[j]\n",
    "        h[i]=generate_random_poly(I[j])\n",
    "        h[i]-=h[i](x => randx) #make constraints feasible\n",
    "    end\n",
    "end\n",
    "\n",
    "l=length(h)\n",
    "println(\"Number of equality constraints: l=\",l)\n",
    "println(\"====================\")\n",
    "\n"
   ]
  },
  {
   "cell_type": "code",
   "execution_count": 12,
   "metadata": {},
   "outputs": [
    {
     "name": "stdout",
     "output_type": "stream",
     "text": [
      "Relaxed order: k=2\n",
      "====================\n",
      "Sparse order: t=1\n",
      "====================\n"
     ]
    }
   ],
   "source": [
    "k=2\n",
    "\n",
    "println(\"Relaxed order: k=\",k)\n",
    "println(\"====================\")\n",
    "\n",
    "t=1\n",
    "\n",
    "println(\"Sparse order: t=\",t)\n",
    "println(\"====================\")"
   ]
  },
  {
   "cell_type": "code",
   "execution_count": 13,
   "metadata": {},
   "outputs": [
    {
     "name": "stderr",
     "output_type": "stream",
     "text": [
      "WARNING: replacing module ctpPOP.\n"
     ]
    }
   ],
   "source": [
    "include(\"../src/ctpPOP.jl\")\n",
    "using .ctpPOP\n",
    "\n",
    "n,m,l,lmon_g,supp_g,coe_g,lmon_h,supp_h,coe_h,lmon_f,supp_f,coe_f,dg,dh=ctpPOP.get_info(x,f,g,h,sparse=true);"
   ]
  },
  {
   "cell_type": "code",
   "execution_count": 14,
   "metadata": {
    "scrolled": true
   },
   "outputs": [
    {
     "name": "stdout",
     "output_type": "stream",
     "text": [
      "------------------------------------------------------\n",
      "The clique sizes of varibles:\n",
      "[5]\n",
      "[1]\n",
      "------------------------------------------------------\n",
      "Problem\n",
      "  Name                   :                 \n",
      "  Objective sense        : max             \n",
      "  Type                   : CONIC (conic optimization problem)\n",
      "  Constraints            : 91              \n",
      "  Cones                  : 0               \n",
      "  Scalar variables       : 22              \n",
      "  Matrix variables       : 8               \n",
      "  Integer variables      : 0               \n",
      "\n",
      "Optimizer started.\n",
      "Presolve started.\n",
      "Linear dependency checker started.\n",
      "Linear dependency checker terminated.\n",
      "Eliminator started.\n",
      "Freed constraints in eliminator : 0\n",
      "Eliminator terminated.\n",
      "Eliminator - tries                  : 1                 time                   : 0.00            \n",
      "Lin. dep.  - tries                  : 1                 time                   : 0.00            \n",
      "Lin. dep.  - number                 : 0               \n",
      "Presolve terminated. Time: 0.00    \n",
      "Problem\n",
      "  Name                   :                 \n",
      "  Objective sense        : max             \n",
      "  Type                   : CONIC (conic optimization problem)\n",
      "  Constraints            : 91              \n",
      "  Cones                  : 0               \n",
      "  Scalar variables       : 22              \n",
      "  Matrix variables       : 8               \n",
      "  Integer variables      : 0               \n",
      "\n",
      "Optimizer  - threads                : 4               \n",
      "Optimizer  - solved problem         : the primal      \n",
      "Optimizer  - Constraints            : 91\n",
      "Optimizer  - Cones                  : 1\n",
      "Optimizer  - Scalar variables       : 23                conic                  : 18              \n",
      "Optimizer  - Semi-definite variables: 8                 scalarized             : 247             \n",
      "Factor     - setup time             : 0.00              dense det. time        : 0.00            \n",
      "Factor     - ML order time          : 0.00              GP order time          : 0.00            \n",
      "Factor     - nonzeros before factor : 3836              after factor           : 3836            \n",
      "Factor     - dense dim.             : 0                 flops                  : 2.88e+05        \n",
      "ITE PFEAS    DFEAS    GFEAS    PRSTATUS   POBJ              DOBJ              MU       TIME  \n",
      "0   3.3e+00  1.0e+00  1.0e+00  0.00e+00   0.000000000e+00   0.000000000e+00   1.0e+00  0.00  \n",
      "1   1.5e+00  4.5e-01  2.1e-01  6.78e-01   -6.270841333e-01  -4.475174706e-01  4.5e-01  0.00  \n",
      "2   3.9e-01  1.2e-01  2.4e-02  2.22e+00   -5.167090835e-01  -4.948889892e-01  1.2e-01  0.00  \n",
      "3   1.7e-01  5.2e-02  6.6e-03  1.35e+00   -5.206491863e-01  -5.128729237e-01  5.2e-02  0.01  \n",
      "4   3.5e-02  1.1e-02  5.6e-04  1.11e+00   -5.278320941e-01  -5.258449924e-01  1.1e-02  0.01  \n",
      "5   2.2e-03  6.8e-04  9.0e-06  1.02e+00   -5.327717278e-01  -5.326493249e-01  6.8e-04  0.01  \n",
      "6   2.0e-04  6.2e-05  2.4e-07  1.00e+00   -5.331597120e-01  -5.331486039e-01  6.2e-05  0.01  \n",
      "7   1.1e-05  3.4e-06  3.2e-09  1.00e+00   -5.331935503e-01  -5.331929298e-01  3.4e-06  0.01  \n",
      "8   4.2e-07  1.3e-07  2.3e-11  1.00e+00   -5.331952523e-01  -5.331952290e-01  1.3e-07  0.01  \n",
      "9   1.4e-08  4.2e-09  1.4e-13  1.00e+00   -5.331953003e-01  -5.331952996e-01  4.2e-09  0.01  \n",
      "Optimizer terminated. Time: 0.01    \n",
      "\n",
      "optimum = -0.5331953003358436\n",
      "  0.018591 seconds (40.10 k allocations: 3.103 MiB)\n"
     ]
    },
    {
     "data": {
      "text/plain": [
       "(-0.5331953003358436, nothing, TSSOS.mdata_type(5, 0, 6, [2, 2, 2, 2, 2, 2], SparseMatrixCSC{UInt8,UInt32}[\n",
       "  [1,  1]  =  0x02\n",
       "  [1,  2]  =  0x01\n",
       "  [2,  2]  =  0x01\n",
       "  [1,  3]  =  0x01\n",
       "  [3,  3]  =  0x01\n",
       "  [1,  4]  =  0x01\n",
       "  [4,  4]  =  0x01\n",
       "  [1,  5]  =  0x01\n",
       "  [5,  5]  =  0x01\n",
       "  [2,  6]  =  0x02\n",
       "  [2,  7]  =  0x01\n",
       "  [3,  7]  =  0x01\n",
       "  [2,  8]  =  0x01\n",
       "  [4,  8]  =  0x01\n",
       "  [2,  9]  =  0x01\n",
       "  [5,  9]  =  0x01\n",
       "  [3, 10]  =  0x02\n",
       "  [3, 11]  =  0x01\n",
       "  [4, 11]  =  0x01\n",
       "  [3, 12]  =  0x01\n",
       "  [5, 12]  =  0x01\n",
       "  [4, 13]  =  0x02\n",
       "  [4, 14]  =  0x01\n",
       "  [5, 14]  =  0x01\n",
       "  [5, 15]  =  0x02, \n",
       "  [1, 1]  =  0x02, \n",
       "  [2, 1]  =  0x02, \n",
       "  [3, 1]  =  0x02, \n",
       "  [4, 1]  =  0x02, \n",
       "  [5, 1]  =  0x02, \n",
       "  [5, 1]  =  0x02], Array{Float64,1}[[0.6626117533412383, 0.6891980419938131, -0.7234038092961699, 0.1292320020044846, 0.9765518237575104, -0.25102281269110494, -0.8285319875811972, -0.6712743356044268, 0.9089764812642476, -0.02446544917440807, -0.49353905135950304, -0.7134180339656364, -0.0027361971815560437, 0.09271008663836788, -0.21346624720054574], [-1.0, 0.2], [-1.0, 0.2], [-1.0, 0.2], [-1.0, 0.2], [-1.0, 0.2], [-0.3413326260331089, 0.02948193702504979]], 1, [2], \n",
       "  [1,  2]  =  0x02\n",
       "  [1,  3]  =  0x01\n",
       "  [2,  3]  =  0x01\n",
       "  [2,  4]  =  0x02\n",
       "  [1,  5]  =  0x01\n",
       "  [3,  5]  =  0x01\n",
       "  [2,  6]  =  0x01\n",
       "  [3,  6]  =  0x01\n",
       "  [3,  7]  =  0x02\n",
       "  [1,  8]  =  0x01\n",
       "  [4,  8]  =  0x01\n",
       "  [2,  9]  =  0x01\n",
       "  ⋮\n",
       "  [4, 80]  =  0x03\n",
       "  [5, 80]  =  0x01\n",
       "  [4, 81]  =  0x02\n",
       "  [5, 81]  =  0x02\n",
       "  [1, 82]  =  0x01\n",
       "  [5, 82]  =  0x03\n",
       "  [2, 83]  =  0x01\n",
       "  [5, 83]  =  0x03\n",
       "  [3, 84]  =  0x01\n",
       "  [5, 84]  =  0x03\n",
       "  [4, 85]  =  0x01\n",
       "  [5, 85]  =  0x03\n",
       "  [5, 86]  =  0x04, Array{Array{UInt8,2},1}[[[0x00 0x00 … 0x00 0x00; 0x00 0x00 … 0x00 0x00; … ; 0x00 0x00 … 0x00 0x00; 0x00 0x00 … 0x00 0x00], [0x02 0x00; 0x00 0x00; … ; 0x00 0x00; 0x00 0x00], [0x00 0x00; 0x02 0x00; … ; 0x00 0x00; 0x00 0x00], [0x00 0x00; 0x00 0x00; … ; 0x00 0x00; 0x00 0x00], [0x00 0x00; 0x00 0x00; … ; 0x02 0x00; 0x00 0x00], [0x00 0x00; 0x00 0x00; … ; 0x00 0x00; 0x02 0x00], [0x00 0x00; 0x00 0x00; … ; 0x00 0x00; 0x02 0x00]]], Array{UInt16,1}[[0x000f, 0x0002, 0x0002, 0x0002, 0x0002, 0x0002, 0x0002]], Array{UInt8,2}[[0x00 0x01 … 0x00 0x00; 0x00 0x00 … 0x00 0x00; … ; 0x00 0x00 … 0x01 0x00; 0x00 0x00 … 0x01 0x02]], Array{Array{UInt8,2},1}[[[0x00 0x01 … 0x00 0x00; 0x00 0x00 … 0x00 0x00; … ; 0x00 0x00 … 0x01 0x00; 0x00 0x00 … 0x00 0x01], [0x00 0x01 … 0x00 0x00; 0x00 0x00 … 0x00 0x00; … ; 0x00 0x00 … 0x01 0x00; 0x00 0x00 … 0x00 0x01], [0x00 0x01 … 0x00 0x00; 0x00 0x00 … 0x00 0x00; … ; 0x00 0x00 … 0x01 0x00; 0x00 0x00 … 0x00 0x01], [0x00 0x01 … 0x00 0x00; 0x00 0x00 … 0x00 0x00; … ; 0x00 0x00 … 0x01 0x00; 0x00 0x00 … 0x00 0x01], [0x00 0x01 … 0x00 0x00; 0x00 0x00 … 0x00 0x00; … ; 0x00 0x00 … 0x01 0x00; 0x00 0x00 … 0x00 0x01], [0x00 0x01 … 0x00 0x00; 0x00 0x00 … 0x00 0x00; … ; 0x00 0x00 … 0x01 0x00; 0x00 0x00 … 0x00 0x01]]], 1, Array{UInt16,1}[[0x0001, 0x0002, 0x0003, 0x0004, 0x0005]], [5], Array{UInt16,1}[[0x0001, 0x0002, 0x0003, 0x0004, 0x0005, 0x0006]], UInt16[], Array{Array{Array{UInt16,1},1},1}[[[[0x0001, 0x0007, 0x0008, 0x0009, 0x000a, 0x000b, 0x000c, 0x000d, 0x000e, 0x000f, 0x0010, 0x0011, 0x0012, 0x0013, 0x0014, 0x0015], [0x0002, 0x0003, 0x0004, 0x0005, 0x0006]], [[0x0001], [0x0002, 0x0003, 0x0004, 0x0005, 0x0006]], [[0x0001], [0x0002, 0x0003, 0x0004, 0x0005, 0x0006]], [[0x0001], [0x0002, 0x0003, 0x0004, 0x0005, 0x0006]], [[0x0001], [0x0002, 0x0003, 0x0004, 0x0005, 0x0006]], [[0x0001], [0x0002, 0x0003, 0x0004, 0x0005, 0x0006]], [[0x0001], [0x0002, 0x0003, 0x0004, 0x0005, 0x0006]]]], Array{UInt16,1}[[0x0002, 0x0002, 0x0002, 0x0002, 0x0002, 0x0002, 0x0002]], Array{Array{Int64,1},1}[[[16, 5], [1, 5], [1, 5], [1, 5], [1, 5], [1, 5], [1, 5]]], Array{UInt16,1}[[0x0010, 0x0005]], Array{UInt16,1}[[0x0001, 0x0001]]))"
      ]
     },
     "execution_count": 14,
     "metadata": {},
     "output_type": "execute_result"
    }
   ],
   "source": [
    "using TSSOS\n",
    "\n",
    "\n",
    "@time begin\n",
    "    opt,sol,data=cs_tssos_first(Vector{SparseMatrixCSC{UInt8,UInt32}}([[supp_f];supp_g;supp_h]),[[coe_f];coe_g;coe_h],n,k,[dg;dh],numeq=l,CS=\"MD\",TS=\"block\",CTP=false);\n",
    "    #opt,sol,data=cs_tssos_higher!(data,TS=\"block\");\n",
    "end"
   ]
  },
  {
   "cell_type": "code",
   "execution_count": 15,
   "metadata": {},
   "outputs": [
    {
     "name": "stdout",
     "output_type": "stream",
     "text": [
      "------------------------------------------------------\n",
      "The clique sizes of varibles:\n",
      "[5]\n",
      "[1]\n",
      "------------------------------------------------------\n",
      "  Number of cliques: p=1\n",
      "  Largest clique size: u=5\n"
     ]
    },
    {
     "name": "stderr",
     "output_type": "stream",
     "text": [
      "WARNING: replacing module ctpPOP.\n"
     ]
    },
    {
     "name": "stdout",
     "output_type": "stream",
     "text": [
      "  Largest constant trace: a=3.0\n",
      "  Number of blocks: omega=12\n",
      "  Number of equality consraints: zeta=162\n",
      "  Size of the largest block: s^max=16\n",
      "Modeling time:\n",
      "  0.957637 seconds (718.03 k allocations: 36.482 MiB, 7.41% gc time)\n",
      "iter=1   val=-2.55467284216763   gap=0.0   feas=3.3412683530552747\n",
      "iter=2   val=-0.8515576140558767   gap=0.5545826935318479   feas=0.6730752570463944\n",
      "iter=4   val=-0.7420368265191777   gap=0.447184466498697   feas=0.8486433338158623\n",
      "iter=8   val=-0.6017484633132005   gap=0.04973509403365674   feas=0.45037169048393055\n",
      "iter=16   val=-0.5413682688098325   gap=0.23337285140490188   feas=0.24772082453685051\n",
      "iter=32   val=-0.6199109787246758   gap=0.19923853291857402   feas=0.14428843356782983\n",
      "iter=64   val=-0.5274648062330041   gap=0.05029826670988737   feas=0.06633644438971276\n",
      "iter=128   val=-0.5216538627623573   gap=0.06605660386267483   feas=0.023432846172524113\n",
      "iter=256   val=-0.5343145844210737   gap=0.06378578170287139   feas=0.013176694463712788\n",
      "iter=429   val=-0.5294003349478444   gap=0.006190208113569883   feas=0.007505513508954327\n",
      "tol satisfies!!!\n",
      "\n",
      "####################################\n",
      "opt_val = -0.5294003349478444\n",
      "####################################\n",
      "Solving time:\n",
      "  0.225896 seconds (297.52 k allocations: 23.456 MiB)\n",
      "Total time:\n",
      "  1.183757 seconds (1.02 M allocations: 59.950 MiB, 6.00% gc time)\n"
     ]
    },
    {
     "data": {
      "text/plain": [
       "-0.5294003349478444"
      ]
     },
     "execution_count": 15,
     "metadata": {},
     "output_type": "execute_result"
    }
   ],
   "source": [
    "include(\"../src/ctpPOP.jl\")\n",
    "using .ctpPOP\n",
    "\n",
    "opt_val1=ctpPOP.POP_mix_CGAL(n,m,l,lmon_g,supp_g,coe_g,lmon_h,supp_h,coe_h,lmon_f,supp_f,coe_f,dg,dh,k,t,\n",
    "    maxit=Int64(1e10),tol=1e-2,use_eqcons_to_get_constant_trace=false,check_tol_each_iter=true)"
   ]
  },
  {
   "cell_type": "code",
   "execution_count": 16,
   "metadata": {},
   "outputs": [
    {
     "name": "stdout",
     "output_type": "stream",
     "text": [
      "This is Ipopt version 3.13.2, running with linear solver mumps.\n",
      "NOTE: Other linear solvers might be more efficient (see Ipopt documentation).\n",
      "\n",
      "Number of nonzeros in equality constraint Jacobian...:        1\n",
      "Number of nonzeros in inequality constraint Jacobian.:        5\n",
      "Number of nonzeros in Lagrangian Hessian.............:       21\n",
      "\n",
      "Total number of variables............................:        5\n",
      "                     variables with only lower bounds:        0\n",
      "                variables with lower and upper bounds:        0\n",
      "                     variables with only upper bounds:        0\n",
      "Total number of equality constraints.................:        1\n",
      "Total number of inequality constraints...............:        5\n",
      "        inequality constraints with only lower bounds:        5\n",
      "   inequality constraints with lower and upper bounds:        0\n",
      "        inequality constraints with only upper bounds:        0\n",
      "\n",
      "iter    objective    inf_pr   inf_du lg(mu)  ||d||  lg(rg) alpha_du alpha_pr  ls\n",
      "   0  0.0000000e+00 2.95e-02 1.00e+00  -1.0 0.00e+00    -  0.00e+00 0.00e+00   0\n",
      "   1  0.0000000e+00 2.95e-02 2.38e-07  -1.7 3.76e-10   2.0 1.00e+00 1.00e+00s 22\n",
      "   2  0.0000000e+00 2.95e-02 4.92e-03  -2.5 5.63e-10   6.9 1.00e+00 1.00e+00s 22\n",
      "   3  0.0000000e+00 2.95e-02 3.88e-03  -2.5 1.66e-10   7.4 1.00e+00 1.00e+00s 22\n",
      "   4  0.0000000e+00 2.95e-02 1.59e-03  -2.5 2.56e-11   7.8 1.00e+00 1.00e+00s 22\n",
      "   5  0.0000000e+00 2.95e-02 1.94e-04  -2.5 1.17e-12   8.2 1.00e+00 1.00e+00s 22\n",
      "   6r 0.0000000e+00 2.95e-02 9.99e+02  -1.5 0.00e+00   7.7 0.00e+00 0.00e+00R  1\n",
      "   7r 0.0000000e+00 2.95e-02 2.95e-07  -1.5 8.69e-09    -  1.00e+00 1.00e+00f  1\n",
      "   8r 0.0000000e+00 2.95e-02 2.91e-01  -3.4 2.91e-05   4.0 1.00e+00 1.00e+00f  1\n",
      "   9r 0.0000000e+00 2.95e-02 4.27e-05  -3.4 1.28e-08   3.5 1.00e+00 1.00e+00f  1\n",
      "iter    objective    inf_pr   inf_du lg(mu)  ||d||  lg(rg) alpha_du alpha_pr  ls\n",
      "  10r 0.0000000e+00 2.95e-02 4.00e-04  -7.7 3.60e-07   3.0 1.00e+00 1.00e+00f  1\n",
      "\n",
      "Number of Iterations....: 10\n",
      "\n",
      "                                   (scaled)                 (unscaled)\n",
      "Objective...............:   0.0000000000000000e+00    0.0000000000000000e+00\n",
      "Dual infeasibility......:   3.7529459407769088e-09    3.7529459407769088e-09\n",
      "Constraint violation....:   2.9481937025049788e-02    2.9481937025049788e-02\n",
      "Complementarity.........:   1.7870113948925141e-08    1.7870113948925141e-08\n",
      "Overall NLP error.......:   2.9481937025049788e-02    2.9481937025049788e-02\n",
      "\n",
      "\n",
      "Number of objective function evaluations             = 56\n",
      "Number of objective gradient evaluations             = 8\n",
      "Number of equality constraint evaluations            = 56\n",
      "Number of inequality constraint evaluations          = 56\n",
      "Number of equality constraint Jacobian evaluations   = 13\n",
      "Number of inequality constraint Jacobian evaluations = 13\n",
      "Number of Lagrangian Hessian evaluations             = 11\n",
      "Total CPU secs in IPOPT (w/o function evaluations)   =      0.015\n",
      "Total CPU secs in NLP function evaluations           =      0.000\n",
      "\n",
      "EXIT: Converged to a point of local infeasibility. Problem may be infeasible.\n",
      "LOCALLY_INFEASIBLE\n",
      "opt_val=0.0\n",
      "  0.106884 seconds (52.02 k allocations: 2.681 MiB)\n"
     ]
    },
    {
     "name": "stderr",
     "output_type": "stream",
     "text": [
      "WARNING: replacing module ctpPOP.\n"
     ]
    },
    {
     "data": {
      "text/plain": [
       "0.0"
      ]
     },
     "execution_count": 16,
     "metadata": {},
     "output_type": "execute_result"
    }
   ],
   "source": [
    "include(\"../src/ctpPOP.jl\")\n",
    "using .ctpPOP\n",
    "\n",
    "optval=ctpPOP.POP_NLP(n,m,l,lmon_g,supp_g,coe_g,lmon_h,supp_h,coe_h,lmon_f,supp_f,coe_f)"
   ]
  },
  {
   "cell_type": "code",
   "execution_count": null,
   "metadata": {},
   "outputs": [],
   "source": []
  }
 ],
 "metadata": {
  "kernelspec": {
   "display_name": "Julia 1.3.0",
   "language": "julia",
   "name": "julia-1.3"
  },
  "language_info": {
   "file_extension": ".jl",
   "mimetype": "application/julia",
   "name": "julia",
   "version": "1.3.0"
  }
 },
 "nbformat": 4,
 "nbformat_minor": 2
}
