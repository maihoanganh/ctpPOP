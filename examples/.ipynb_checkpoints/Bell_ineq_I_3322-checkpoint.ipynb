{
 "cells": [
  {
   "cell_type": "code",
   "execution_count": null,
   "metadata": {},
   "outputs": [],
   "source": [
    "using DynamicPolynomials, LinearAlgebra\n",
    "\n",
    "@ncpolyvar x1 x2 x3 y1 y2 y3\n",
    "\n",
    "var=Vector{PolyVar{false}}([x1;x2;x3;y1;y2;y3])\n",
    "\n",
    "function star_algebra(mom)\n",
    "    if mom==1\n",
    "        return mom\n",
    "    else\n",
    "        ind=mom.z .>0\n",
    "        vars=mom.vars[ind]\n",
    "        exp=mom.z[ind]\n",
    "        return prod(vars[i]^exp[i] for i in length(exp):-1:1)\n",
    "    end\n",
    "end\n",
    "\n",
    "function get_star_alg(f)\n",
    "    mom=monomials(f)\n",
    "    coe=coefficients(f)\n",
    "    mom=star_algebra.(mom)\n",
    "    return dot(mom,coe)\n",
    "end\n",
    "\n",
    "\n",
    "\n",
    "u = x1*(y1+y2+y3)+x2*(y1+y2-y3)+x3*(y1-y2)-x1-2.0*y1-y2\n",
    "\n",
    "f = -(u + get_star_alg(u))/2\n",
    "\n",
    "g=Vector{Polynomial{false,Float64}}([])\n",
    "\n",
    "h=1.0*[x1-x1^2;\n",
    "    x2-x2^2;\n",
    "    x3-x3^2;\n",
    "    y1-y1^2;\n",
    "    y2-y2^2;\n",
    "    y3-y3^2;\n",
    "    x1*y1-y1*x1;\n",
    "    x2*y1-y1*x2;\n",
    "    x3*y1-y1*x3;\n",
    "    x1*y2-y2*x1;\n",
    "    x2*y2-y2*x2;\n",
    "    x3*y2-y2*x3;\n",
    "    x1*y3-y3*x1;\n",
    "    x2*y3-y3*x2;\n",
    "    x3*y3-y3*x3];\n",
    "\n",
    "f=f([x1;x2;x3;y1;y2;y3]=>[0.5*x1+0.5;0.5*x2+0.5;0.5*x3+0.5;0.5*y1+0.5;0.5*y2+0.5;0.5*y3+0.5])\n",
    "\n",
    "for j in 1:length(h)\n",
    "    h[j]=4.0*h[j]([x1;x2;x3;y1;y2;y3]=>[0.5*x1+0.5;0.5*x2+0.5;0.5*x3+0.5;0.5*y1+0.5;0.5*y2+0.5;0.5*y3+0.5])\n",
    "end"
   ]
  },
  {
   "cell_type": "code",
   "execution_count": null,
   "metadata": {},
   "outputs": [],
   "source": [
    "include(\"../src/ctpNCPOP.jl\")\n",
    "using .ctpNCPOP\n",
    "\n",
    "n,m,l,lmon_g,supp_g,coe_g,lmon_h,supp_h,coe_h,lmon_f,supp_f,coe_f,dg,dh=ctpNCPOP.get_info(var,f,g,h);"
   ]
  },
  {
   "cell_type": "code",
   "execution_count": null,
   "metadata": {},
   "outputs": [],
   "source": [
    "println(\"Number of variables: n=\",n)\n",
    "println(\"Number of inequality constraints: m=\",m)\n",
    "println(\"Number of equality constraints: l=\",l)"
   ]
  },
  {
   "cell_type": "code",
   "execution_count": null,
   "metadata": {},
   "outputs": [],
   "source": [
    "k=1\n",
    "\n",
    "println(\"Relaxation order: k=\",k)"
   ]
  },
  {
   "cell_type": "code",
   "execution_count": null,
   "metadata": {},
   "outputs": [],
   "source": [
    "include(\"../src/ctpNCPOP.jl\")\n",
    "using .ctpNCPOP\n",
    "\n",
    "opt_val1=ctpNCPOP.POP_dense_CGAL(n,m,l,lmon_g,supp_g,coe_g,lmon_h,supp_h,coe_h,lmon_f,supp_f,coe_f,dg,dh,k,\n",
    "                                 maxit=Int64(1e6),tol=1e-3,\n",
    "                                 use_eqcons_to_get_constant_trace=true,\n",
    "                                 check_tol_each_iter=true)"
   ]
  },
  {
   "cell_type": "code",
   "execution_count": null,
   "metadata": {},
   "outputs": [],
   "source": []
  },
  {
   "cell_type": "code",
   "execution_count": null,
   "metadata": {},
   "outputs": [],
   "source": []
  },
  {
   "cell_type": "code",
   "execution_count": null,
   "metadata": {},
   "outputs": [],
   "source": [
    "using NCTSSOS\n",
    "\n",
    "@time ctpNCPOP.nctssos_first(Vector{Vector{Vector{UInt16}}}([[supp_f];supp_g;supp_h]),[[coe_f];coe_g;coe_h],\n",
    "    n,k,[dg;dh],numeq=l,reducebasis=false,obj=\"eigen\",merge=false,TS=false,QUIET=false);"
   ]
  },
  {
   "cell_type": "code",
   "execution_count": null,
   "metadata": {},
   "outputs": [],
   "source": []
  },
  {
   "cell_type": "code",
   "execution_count": null,
   "metadata": {},
   "outputs": [],
   "source": []
  }
 ],
 "metadata": {
  "kernelspec": {
   "display_name": "Julia 1.3.0",
   "language": "julia",
   "name": "julia-1.3"
  },
  "language_info": {
   "file_extension": ".jl",
   "mimetype": "application/julia",
   "name": "julia",
   "version": "1.3.0"
  }
 },
 "nbformat": 4,
 "nbformat_minor": 2
}
