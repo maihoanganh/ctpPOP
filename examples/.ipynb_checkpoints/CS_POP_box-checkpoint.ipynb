{
 "cells": [
  {
   "cell_type": "code",
   "execution_count": 11,
   "metadata": {},
   "outputs": [
    {
     "name": "stdout",
     "output_type": "stream",
     "text": [
      "***Problem setting***\n",
      "Number of variable: n=1000\n",
      "====================\n",
      "Number of inequality constraints: m=1000\n",
      "====================\n",
      "Number of equality constraints: l=143\n",
      "====================\n"
     ]
    }
   ],
   "source": [
    "using DynamicPolynomials, LinearAlgebra, SparseArrays\n",
    "\n",
    "println(\"***Problem setting***\")\n",
    "\n",
    "n=1000\n",
    "\n",
    "println(\"Number of variable: n=\",n)\n",
    "println(\"====================\")\n",
    "\n",
    "@ncpolyvar x[1:n]# variables\n",
    "function star_algebra(mom)\n",
    "    if mom==1\n",
    "        return mom\n",
    "    else\n",
    "        ind=mom.z .>0\n",
    "        vars=mom.vars[ind]\n",
    "        exp=mom.z[ind]\n",
    "        return prod(vars[i]^exp[i] for i in length(exp):-1:1)\n",
    "    end\n",
    "end\n",
    "function generate_random_poly(T::UnitRange{Int64})\n",
    "    v=reverse(monomials(x[T],0:2))\n",
    "    v+=star_algebra.(v)\n",
    "    v=v./2\n",
    "    c=2*rand(Float64,length(v)).-1\n",
    "    return c'*v\n",
    "end\n",
    "\n",
    "# unit sphere constraint\n",
    "u=10\n",
    "p=floor(Int64,n/u)\n",
    "\n",
    "I=Vector{UnitRange{Int64}}(undef,p)\n",
    "I[1]=1:u\n",
    "I[2:p-1]=[u*(j-1):u*j for j in 2:p-1]\n",
    "I[p]=u*(p-1):n\n",
    "\n",
    "# random quadratic objective function f\n",
    "f=sum(generate_random_poly(I[j]) for j in 1:p)\n",
    "\n",
    "f=f/100\n",
    "g=-(x.^2).+1/u\n",
    "\n",
    "\n",
    "\n",
    "m=length(g)\n",
    "println(\"Number of inequality constraints: m=\",m)\n",
    "println(\"====================\")\n",
    "\n",
    "l=ceil(Int64, n/7)\n",
    "\n",
    "r=floor(Int64,l/p)\n",
    "W=[(j-1)*r+1:j*r for j in 1:p-1]\n",
    "append!(W,[(p-1)*r+1:l])\n",
    "\n",
    "h=Vector{Polynomial{false,Float64}}(undef,l)\n",
    "\n",
    "\n",
    "randx=2*rand(n).-1\n",
    "randx=randx./sqrt(u)\n",
    "\n",
    "for j in 1:p\n",
    "    for i in W[j]\n",
    "        h[i]=generate_random_poly(I[j])\n",
    "        h[i]-=h[i](x => randx) #make constraints feasible\n",
    "    end\n",
    "end\n",
    "\n",
    "l=length(h)\n",
    "println(\"Number of equality constraints: l=\",l)\n",
    "println(\"====================\")\n"
   ]
  },
  {
   "cell_type": "code",
   "execution_count": null,
   "metadata": {},
   "outputs": [],
   "source": []
  },
  {
   "cell_type": "code",
   "execution_count": 12,
   "metadata": {},
   "outputs": [
    {
     "name": "stderr",
     "output_type": "stream",
     "text": [
      "WARNING: replacing module ctpNCPOP.\n"
     ]
    }
   ],
   "source": [
    "include(\"../src/ctpNCPOP.jl\")\n",
    "using .ctpNCPOP\n",
    "\n",
    "n,m,l,lmon_g,supp_g,coe_g,lmon_h,supp_h,coe_h,lmon_f,supp_f,coe_f,dg,dh=ctpNCPOP.get_info(x,f,g,h);"
   ]
  },
  {
   "cell_type": "code",
   "execution_count": 13,
   "metadata": {},
   "outputs": [
    {
     "name": "stdout",
     "output_type": "stream",
     "text": [
      "Relaxed order: k=2\n",
      "====================\n"
     ]
    }
   ],
   "source": [
    "k=2\n",
    "\n",
    "println(\"Relaxed order: k=\",k)\n",
    "println(\"====================\")"
   ]
  },
  {
   "cell_type": "code",
   "execution_count": 14,
   "metadata": {},
   "outputs": [
    {
     "name": "stdout",
     "output_type": "stream",
     "text": [
      "------------------------------------------------------\n",
      "The clique sizes of varibles:\n",
      "[11, 10]\n",
      "[99, 1]\n",
      "------------------------------------------------------\n",
      "  Number of cliques: p=100\n",
      "  Largest clique size: u=11\n"
     ]
    },
    {
     "name": "stderr",
     "output_type": "stream",
     "text": [
      "WARNING: replacing module ctpNCPOP.\n"
     ]
    },
    {
     "name": "stdout",
     "output_type": "stream",
     "text": [
      "  Largest constant trace: a=3.3100000000000014\n",
      "  Number of blocks: omega=1199\n",
      "  Number of equality consraints: zeta=169664\n",
      "  Size of the largest block: s^max=133\n",
      "Modeling time:\n",
      " 71.448564 seconds (532.02 M allocations: 81.260 GiB, 14.26% gc time)\n",
      "iter=1   val=-757.1594708854943   gap=0.0003995686038438391   feas=36.258891444706144\n",
      "iter=2   val=-560.2159872010915   gap=0.07337353778900396   feas=20.50308394286348\n",
      "iter=4   val=-415.34057751826543   gap=0.1985044314991032   feas=9.580456373420194\n",
      "iter=8   val=-380.8252212776034   gap=0.0031358169350348478   feas=7.357073213709216\n",
      "iter=16   val=-329.0573136275038   gap=0.035383659483994676   feas=3.7645776290654567\n",
      "iter=32   val=-309.65316646924293   gap=0.028970875420409613   feas=2.176764556433555\n",
      "iter=64   val=-287.1524814557356   gap=0.026916139930764978   feas=1.2600836214604183\n",
      "iter=128   val=-265.88323815692206   gap=0.009005844402272761   feas=0.64733894503791\n",
      "iter=256   val=-254.39523042022395   gap=0.01842969896971484   feas=0.28446191817515276\n",
      "iter=512   val=-251.15256693921094   gap=0.019384034362956392   feas=0.12010319289758938\n",
      "iter=1024   val=-250.44253191591847   gap=0.013256713805296068   feas=0.05391169395100373\n",
      "iter=2048   val=-250.26997866352747   gap=0.009828068585146978   feas=0.024397523055460967\n",
      "iter=4096   val=-250.24146267138727   gap=0.006692232335754929   feas=0.012306595557974752\n",
      "iter=8192   val=-250.20777214632807   gap=0.004420238981869908   feas=0.006193961451167582\n",
      "iter=16384   val=-250.20118932519497   gap=0.0028126641607989595   feas=0.0032666496227553472\n",
      "iter=32768   val=-250.1945538656996   gap=0.0022961139722419443   feas=0.00179957680133417\n",
      "iter=64706   val=-250.19163199112634   gap=0.0009765222179032219   feas=0.0009994643386237654\n",
      "tol satisfies!!!\n",
      "\n",
      "####################################\n",
      "opt_val = -250.19163199112634\n",
      "####################################\n",
      "Solving time:\n",
      "25763.872683 seconds (10.81 G allocations: 12.744 TiB, 2.14% gc time)\n",
      "Total time:\n",
      "25835.321734 seconds (11.35 G allocations: 12.823 TiB, 2.17% gc time)\n"
     ]
    },
    {
     "data": {
      "text/plain": [
       "-250.19163199112634"
      ]
     },
     "execution_count": 14,
     "metadata": {},
     "output_type": "execute_result"
    }
   ],
   "source": [
    "include(\"../src/ctpNCPOP.jl\")\n",
    "using .ctpNCPOP\n",
    "\n",
    "opt_val1=ctpNCPOP.POP_CS_CGAL(n,m,l,lmon_g,supp_g,coe_g,lmon_h,supp_h,coe_h,lmon_f,supp_f,coe_f,dg,dh,k,\n",
    "    maxit=Int64(1e10),tol=1e-3,use_eqcons_to_get_constant_trace=false,check_tol_each_iter=true)"
   ]
  },
  {
   "cell_type": "code",
   "execution_count": null,
   "metadata": {},
   "outputs": [
    {
     "name": "stdout",
     "output_type": "stream",
     "text": [
      "------------------------------------------------------\n",
      "The clique sizes of varibles:\n",
      "[11, 10]\n",
      "[99, 1]\n",
      "------------------------------------------------------\n",
      "  Number of cliques: p=100\n",
      "  Largest clique size: u=11\n"
     ]
    },
    {
     "name": "stderr",
     "output_type": "stream",
     "text": [
      "WARNING: replacing module ctpNCPOP.\n"
     ]
    },
    {
     "name": "stdout",
     "output_type": "stream",
     "text": [
      "  Largest constant trace: a=3.3100000000000014\n",
      "  Number of blocks: omega=1199\n",
      "  Number of equality consraints: zeta=169664\n",
      "  Size of the largest block: s^max=133\n",
      "Mosek:-----------------\n",
      "Problem\n",
      "  Name                   :                 \n",
      "  Objective sense        : min             \n",
      "  Type                   : CONIC (conic optimization problem)\n",
      "  Constraints            : 1143672         \n",
      "  Cones                  : 0               \n",
      "  Scalar variables       : 974007          \n",
      "  Matrix variables       : 1199            \n",
      "  Integer variables      : 0               \n",
      "\n",
      "Optimizer started.\n",
      "Presolve started.\n",
      "Linear dependency checker started.\n",
      "Linear dependency checker terminated.\n",
      "Eliminator started.\n",
      "Freed constraints in eliminator : 158422\n",
      "Eliminator terminated.\n",
      "Eliminator started.\n"
     ]
    }
   ],
   "source": [
    "include(\"../src/ctpNCPOP.jl\")\n",
    "using .ctpNCPOP\n",
    "\n",
    "opt_val1=ctpNCPOP.POP_CS_CGAL(n,m,l,lmon_g,supp_g,coe_g,lmon_h,supp_h,coe_h,lmon_f,supp_f,coe_f,dg,dh,k,\n",
    "    maxit=Int64(1e10),tol=5e-3,use_eqcons_to_get_constant_trace=false,check_tol_each_iter=true,check_by_mosek=true)"
   ]
  },
  {
   "cell_type": "code",
   "execution_count": null,
   "metadata": {},
   "outputs": [],
   "source": []
  }
 ],
 "metadata": {
  "kernelspec": {
   "display_name": "Julia 1.3.0",
   "language": "julia",
   "name": "julia-1.3"
  },
  "language_info": {
   "file_extension": ".jl",
   "mimetype": "application/julia",
   "name": "julia",
   "version": "1.3.0"
  }
 },
 "nbformat": 4,
 "nbformat_minor": 2
}
