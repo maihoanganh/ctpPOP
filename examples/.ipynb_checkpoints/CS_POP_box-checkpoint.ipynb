{
 "cells": [
  {
   "cell_type": "code",
   "execution_count": 9,
   "metadata": {},
   "outputs": [
    {
     "name": "stdout",
     "output_type": "stream",
     "text": [
      "***Problem setting***\n",
      "Number of variable: n=6\n",
      "====================\n",
      "Number of inequality constraints: m=6\n",
      "====================\n",
      "Number of equality constraints: l=1\n",
      "====================\n",
      "Relaxed order: k=2\n",
      "====================\n"
     ]
    }
   ],
   "source": [
    "using DynamicPolynomials, LinearAlgebra, SparseArrays\n",
    "\n",
    "println(\"***Problem setting***\")\n",
    "\n",
    "n=6\n",
    "\n",
    "println(\"Number of variable: n=\",n)\n",
    "println(\"====================\")\n",
    "\n",
    "@polyvar x[1:n]# variables\n",
    "\n",
    "function generate_random_poly(T::UnitRange{Int64})\n",
    "    v=reverse(monomials(x[T],0:2))\n",
    "    c=2*rand(Float64,length(v)).-1\n",
    "    return c'*v\n",
    "end\n",
    "\n",
    "# unit sphere constraint\n",
    "u=3\n",
    "p=floor(Int64,n/u)\n",
    "\n",
    "I=Vector{UnitRange{Int64}}(undef,p)\n",
    "I[1]=1:u\n",
    "I[2:p-1]=[u*(j-1):u*j for j in 2:p-1]\n",
    "I[p]=u*(p-1):n\n",
    "\n",
    "# random quadratic objective function f\n",
    "f=sum(generate_random_poly(I[j]) for j in 1:p)\n",
    "\n",
    "\n",
    "g=-(x.^2).+1/u\n",
    "\n",
    "\n",
    "\n",
    "m=length(g)\n",
    "println(\"Number of inequality constraints: m=\",m)\n",
    "println(\"====================\")\n",
    "\n",
    "l=ceil(Int64, n/7)\n",
    "\n",
    "r=floor(Int64,l/p)\n",
    "W=[(j-1)*r+1:j*r for j in 1:p-1]\n",
    "append!(W,[(p-1)*r+1:l])\n",
    "\n",
    "h=Vector{Polynomial{true,Float64}}(undef,l)\n",
    "\n",
    "\n",
    "randx=2*rand(n).-1\n",
    "randx=randx./sqrt(u)\n",
    "\n",
    "for j in 1:p\n",
    "    for i in W[j]\n",
    "        h[i]=generate_random_poly(I[j])\n",
    "        h[i]-=h[i](x => randx) #make constraints feasible\n",
    "    end\n",
    "end\n",
    "\n",
    "l=length(h)\n",
    "println(\"Number of equality constraints: l=\",l)\n",
    "println(\"====================\")\n",
    "\n",
    "k=2\n",
    "\n",
    "println(\"Relaxed order: k=\",k)\n",
    "println(\"====================\")"
   ]
  },
  {
   "cell_type": "code",
   "execution_count": 10,
   "metadata": {},
   "outputs": [
    {
     "name": "stderr",
     "output_type": "stream",
     "text": [
      "WARNING: replacing module ctpPOP.\n"
     ]
    }
   ],
   "source": [
    "include(\"../src/ctpPOP.jl\")\n",
    "using .ctpPOP\n",
    "\n",
    "n,m,l,lmon_g,supp_g,coe_g,lmon_h,supp_h,coe_h,lmon_f,supp_f,coe_f,dg,dh=ctpPOP.get_info(x,f,g,h,sparse=true);"
   ]
  },
  {
   "cell_type": "code",
   "execution_count": 11,
   "metadata": {},
   "outputs": [
    {
     "name": "stdout",
     "output_type": "stream",
     "text": [
      "------------------------------------------------------\n",
      "The clique sizes of varibles:\n",
      "[4, 3]\n",
      "[1, 1]\n",
      "------------------------------------------------------\n",
      "  Number of cliques: p=2\n",
      "  Largest clique size: u=4\n"
     ]
    },
    {
     "name": "stderr",
     "output_type": "stream",
     "text": [
      "WARNING: replacing module ctpPOP.\n"
     ]
    },
    {
     "name": "stdout",
     "output_type": "stream",
     "text": [
      "  Largest constant trace: a=4.111111111111111\n",
      "  Number of blocks: omega=9\n",
      "  Number of equality consraints: zeta=181\n",
      "  Size of the largest block: s^max=15\n",
      "Modeling time:\n",
      "  0.200519 seconds (214.51 k allocations: 11.989 MiB)\n",
      "iter=1   val=-6.170996577427532   gap=0.0007476376775108653   feas=6.726683555527546\n",
      "iter=2   val=-1.0643122143947181   gap=0.747293756482269   feas=1.9665264016147217\n",
      "iter=4   val=-1.0452413431774372   gap=0.5709359815152388   feas=2.597105703904044\n",
      "iter=8   val=0.09499863283497112   gap=0.756118490095972   feas=1.2304126212241444\n",
      "iter=16   val=0.2590775782694844   gap=0.6772883674513142   feas=0.7501548005821911\n",
      "iter=32   val=0.15795484674609986   gap=0.41360906339589765   feas=0.32000451985852196\n",
      "iter=64   val=0.09028430399679878   gap=0.3326609457609236   feas=0.16371209387718186\n",
      "iter=128   val=0.16163541809565785   gap=0.26271328921103443   feas=0.07919384337980115\n",
      "iter=256   val=0.1093389838577655   gap=0.09208787425260702   feas=0.03227179998586521\n",
      "iter=512   val=0.10496830223137765   gap=0.04006400615321916   feas=0.016806940656063727\n",
      "iter=1024   val=0.09079688550472909   gap=0.03519516661429448   feas=0.004750084684466663\n",
      "iter=1272   val=0.08632958119278832   gap=0.009578826836068458   feas=0.004102019567985888\n",
      "tol satisfies!!!\n",
      "\n",
      "####################################\n",
      "opt_val = 0.08632958119278832\n",
      "####################################\n",
      "Solving time:\n",
      "  0.548714 seconds (1.08 M allocations: 85.827 MiB, 9.52% gc time)\n",
      "Total time:\n",
      "  0.749374 seconds (1.29 M allocations: 97.828 MiB, 6.97% gc time)\n"
     ]
    },
    {
     "data": {
      "text/plain": [
       "0.08632958119278832"
      ]
     },
     "execution_count": 11,
     "metadata": {},
     "output_type": "execute_result"
    }
   ],
   "source": [
    "include(\"../src/ctpPOP.jl\")\n",
    "using .ctpPOP\n",
    "\n",
    "opt_val1=ctpPOP.POP_CS_CGAL(n,m,l,lmon_g,supp_g,coe_g,lmon_h,supp_h,coe_h,lmon_f,supp_f,coe_f,dg,dh,k,\n",
    "    maxit=Int64(1e10),tol=1e-2,use_eqcons_to_get_constant_trace=false,check_tol_each_iter=true)"
   ]
  },
  {
   "cell_type": "code",
   "execution_count": 12,
   "metadata": {},
   "outputs": [
    {
     "name": "stdout",
     "output_type": "stream",
     "text": [
      "------------------------------------------------------\n",
      "The clique sizes of varibles:\n",
      "[4, 3]\n",
      "[1, 1]\n",
      "------------------------------------------------------\n",
      "  Number of cliques: p=2\n",
      "  Largest clique size: u=4\n"
     ]
    },
    {
     "name": "stderr",
     "output_type": "stream",
     "text": [
      "WARNING: replacing module ctpPOP.\n"
     ]
    },
    {
     "name": "stdout",
     "output_type": "stream",
     "text": [
      "  Largest constant trace: a=4.111111111111111\n",
      "  Number of blocks: omega=9\n",
      "  Number of equality consraints: zeta=181\n",
      "  Size of the largest block: s^max=15\n",
      "Modeling time:\n",
      "  0.196778 seconds (214.50 k allocations: 11.989 MiB)\n",
      "**LMBM solver:\n",
      "---------------\n",
      "| Parameters: |\n",
      "---------------\n",
      "n:       181\n",
      "maxtime: 300000.000000\n",
      "na:      2\n",
      "mcu:     5\n",
      "mc:      7\n",
      "rpar: \n",
      "ipar: \n",
      " Warning: MC > MCU. Assigned MC = MCU.\n",
      " Entry to LMBM:\n",
      " NIT=    1  NFE=    1  F= 0.55379844D+00  WK= 0.1668D-01  QK= 0.8339D-02\n",
      " NIT=    2  NFE=    2  F= 0.53741018D+00  WK= 0.1668D-01  QK= 0.8339D-02\n",
      " NIT=    3  NFE=    3  F= 0.52107822D+00  WK= 0.1668D-01  QK= 0.8339D-02\n",
      " NIT=    4  NFE=    4  F= 0.50482058D+00  WK= 0.1668D-01  QK= 0.8339D-02\n",
      " NIT=    5  NFE=    5  F= 0.48866381D+00  WK= 0.1668D-01  QK= 0.8339D-02\n",
      " NIT=    6  NFE=    6  F= 0.47264864D+00  WK= 0.1668D-01  QK= 0.8339D-02\n",
      " NIT=    7  NFE=    7  F= 0.45684078D+00  WK= 0.1668D-01  QK= 0.8339D-02\n",
      " NIT=    8  NFE=    8  F= 0.44135296D+00  WK= 0.1668D-01  QK= 0.8339D-02\n",
      " NIT=    9  NFE=    9  F= 0.42639465D+00  WK= 0.1668D-01  QK= 0.8339D-02\n",
      " NIT=   10  NFE=   10  F= 0.41239683D+00  WK= 0.1668D-01  QK= 0.8339D-02\n",
      " NIT=   11  NFE=   11  F= 0.40036967D+00  WK= 0.1668D-01  QK= 0.8339D-02\n",
      " NIT=   12  NFE=   12  F= 0.39303161D+00  WK= 0.1668D-01  QK= 0.8339D-02\n",
      " NIT=   13  NFE=   15  F= 0.39263027D+00  WK= 0.1668D-01  QK= 0.8339D-02\n",
      " NIT=   14  NFE=   60  F= 0.39263027D+00  WK= 0.1668D-01  QK= 0.8339D-02\n",
      " NIT=   15  NFE=  105  F= 0.39263027D+00  WK= 0.1668D-01  QK= 0.8339D-02\n",
      " Exit from LMBM:\n",
      " Abnormal exit: The value of the function does not change.\n",
      " NIT=   15  NFE=  145  F= 0.39263027D+00  WK= 0.1668D-01  QK= 0.8339D-02  ITERM=  3\n",
      "-----------\n",
      "| Output: |\n",
      "-----------\n",
      "Termination:     3\n",
      "N. iter.:        15\n",
      "N. func. eval.:  145\n",
      "Final value:     0.392630\n",
      "Execution time:  0.122742\n",
      "\n",
      "####################################\n",
      "opt_val = -4.375530626392639\n",
      "####################################\n",
      "  0.222115 seconds (380.67 k allocations: 24.509 MiB)\n",
      "Total time:\n",
      "  0.419041 seconds (595.68 k allocations: 36.508 MiB)\n"
     ]
    },
    {
     "data": {
      "text/plain": [
       "-4.375530626392639"
      ]
     },
     "execution_count": 12,
     "metadata": {},
     "output_type": "execute_result"
    }
   ],
   "source": [
    "include(\"../src/ctpPOP.jl\")\n",
    "using .ctpPOP\n",
    "\n",
    "opt_val1=ctpPOP.POP_CS_LMBM(n,m,l,lmon_g,supp_g,coe_g,lmon_h,supp_h,coe_h,lmon_f,supp_f,coe_f,dg,dh,k,\n",
    "    tol=1e-2,use_eqcons_to_get_constant_trace=false)"
   ]
  },
  {
   "cell_type": "code",
   "execution_count": 13,
   "metadata": {},
   "outputs": [
    {
     "name": "stdout",
     "output_type": "stream",
     "text": [
      "------------------------------------------------------\n",
      "The clique sizes of varibles:\n",
      "[4, 3]\n",
      "[1, 1]\n",
      "------------------------------------------------------\n",
      "Problem\n",
      "  Name                   :                 \n",
      "  Objective sense        : max             \n",
      "  Type                   : CONIC (conic optimization problem)\n",
      "  Constraints            : 100             \n",
      "  Cones                  : 0               \n",
      "  Scalar variables       : 16              \n",
      "  Matrix variables       : 10              \n",
      "  Integer variables      : 0               \n",
      "\n",
      "Optimizer started.\n",
      "Presolve started.\n",
      "Linear dependency checker started.\n",
      "Linear dependency checker terminated.\n",
      "Eliminator started.\n",
      "Freed constraints in eliminator : 0\n",
      "Eliminator terminated.\n",
      "Eliminator - tries                  : 1                 time                   : 0.00            \n",
      "Lin. dep.  - tries                  : 1                 time                   : 0.00            \n",
      "Lin. dep.  - number                 : 0               \n",
      "Presolve terminated. Time: 0.00    \n",
      "Problem\n",
      "  Name                   :                 \n",
      "  Objective sense        : max             \n",
      "  Type                   : CONIC (conic optimization problem)\n",
      "  Constraints            : 100             \n",
      "  Cones                  : 0               \n",
      "  Scalar variables       : 16              \n",
      "  Matrix variables       : 10              \n",
      "  Integer variables      : 0               \n",
      "\n",
      "Optimizer  - threads                : 4               \n",
      "Optimizer  - solved problem         : the primal      \n",
      "Optimizer  - Constraints            : 100\n",
      "Optimizer  - Cones                  : 1\n",
      "Optimizer  - Scalar variables       : 17                conic                  : 17              \n",
      "Optimizer  - Semi-definite variables: 10                scalarized             : 275             \n",
      "Factor     - setup time             : 0.00              dense det. time        : 0.00            \n",
      "Factor     - ML order time          : 0.00              GP order time          : 0.00            \n",
      "Factor     - nonzeros before factor : 3100              after factor           : 3100            \n",
      "Factor     - dense dim.             : 0                 flops                  : 2.02e+05        \n",
      "ITE PFEAS    DFEAS    GFEAS    PRSTATUS   POBJ              DOBJ              MU       TIME  \n",
      "0   4.8e+00  1.0e+00  1.0e+00  0.00e+00   0.000000000e+00   0.000000000e+00   1.0e+00  0.00  \n",
      "1   1.7e+00  3.5e-01  1.3e-01  1.60e+00   1.028645154e-01   2.086533757e-01   3.5e-01  0.00  \n",
      "2   4.4e-01  9.2e-02  1.6e-02  1.63e+00   1.078150016e-01   1.269866007e-01   9.2e-02  0.00  \n",
      "3   1.1e-01  2.4e-02  2.1e-03  1.16e+00   1.306055608e-01   1.350722837e-01   2.4e-02  0.00  \n",
      "4   2.9e-02  6.1e-03  2.7e-04  9.81e-01   8.215518305e-02   8.339610021e-02   6.1e-03  0.00  \n",
      "5   6.1e-03  1.3e-03  2.5e-05  1.00e+00   7.563236411e-02   7.588789053e-02   1.3e-03  0.00  \n",
      "6   1.7e-03  3.6e-04  3.8e-06  9.96e-01   7.414144933e-02   7.421852747e-02   3.6e-04  0.00  \n",
      "7   6.1e-05  1.3e-05  2.5e-08  9.98e-01   7.325138498e-02   7.325410954e-02   1.3e-05  0.01  \n",
      "8   6.7e-06  1.4e-06  9.2e-10  1.00e+00   7.321663068e-02   7.321692852e-02   1.4e-06  0.01  \n",
      "9   6.7e-07  1.4e-07  2.9e-11  1.00e+00   7.321253240e-02   7.321256223e-02   1.4e-07  0.01  \n",
      "10  2.3e-08  4.9e-09  1.9e-13  1.00e+00   7.321208907e-02   7.321209008e-02   4.8e-09  0.01  \n",
      "Optimizer terminated. Time: 0.01    \n",
      "\n",
      "optimum = 0.07321208906728366\n",
      "  0.012968 seconds (54.58 k allocations: 4.127 MiB)\n"
     ]
    },
    {
     "data": {
      "text/plain": [
       "(0.07321208906728366, nothing, TSSOS.mdata_type(6, 0, 7, [2, 2, 2, 2, 2, 2, 2], SparseMatrixCSC{UInt8,UInt32}[\n",
       "  [1,  1]  =  0x02\n",
       "  [1,  2]  =  0x01\n",
       "  [2,  2]  =  0x01\n",
       "  [1,  3]  =  0x01\n",
       "  [3,  3]  =  0x01\n",
       "  [2,  4]  =  0x02\n",
       "  [2,  5]  =  0x01\n",
       "  [3,  5]  =  0x01\n",
       "  [3,  6]  =  0x02\n",
       "  [3,  7]  =  0x01\n",
       "  [4,  7]  =  0x01\n",
       "  [3,  8]  =  0x01\n",
       "  ⋮\n",
       "  [5, 11]  =  0x01\n",
       "  [4, 12]  =  0x01\n",
       "  [6, 12]  =  0x01\n",
       "  [5, 13]  =  0x02\n",
       "  [5, 14]  =  0x01\n",
       "  [6, 14]  =  0x01\n",
       "  [6, 15]  =  0x02\n",
       "  [1, 16]  =  0x01\n",
       "  [2, 17]  =  0x01\n",
       "  [3, 18]  =  0x01\n",
       "  [4, 19]  =  0x01\n",
       "  [5, 20]  =  0x01\n",
       "  [6, 21]  =  0x01, \n",
       "  [1, 1]  =  0x02, \n",
       "  [2, 1]  =  0x02, \n",
       "  [3, 1]  =  0x02, \n",
       "  [4, 1]  =  0x02, \n",
       "  [5, 1]  =  0x02, \n",
       "  [6, 1]  =  0x02, \n",
       "  [3,  1]  =  0x02\n",
       "  [3,  2]  =  0x01\n",
       "  [4,  2]  =  0x01\n",
       "  [3,  3]  =  0x01\n",
       "  [5,  3]  =  0x01\n",
       "  [3,  4]  =  0x01\n",
       "  [6,  4]  =  0x01\n",
       "  [4,  5]  =  0x02\n",
       "  [4,  6]  =  0x01\n",
       "  [5,  6]  =  0x01\n",
       "  [4,  7]  =  0x01\n",
       "  [6,  7]  =  0x01\n",
       "  [5,  8]  =  0x02\n",
       "  [5,  9]  =  0x01\n",
       "  [6,  9]  =  0x01\n",
       "  [6, 10]  =  0x02\n",
       "  [3, 11]  =  0x01\n",
       "  [4, 12]  =  0x01\n",
       "  [5, 13]  =  0x01\n",
       "  [6, 14]  =  0x01], Array{Float64,1}[[0.7699999914005367, 0.5956935596214032, 0.860378104010652, -0.33163231531247606, 0.3164795404186398, 1.4162801006742582, -0.0022152973043985114, -0.8770397340838789, 0.8232547216268977, -0.18612237083831307  …  0.9553962756392811, 0.6617275032149426, -0.8355118377594586, 0.5534350060723403, 0.7532492657733822, -0.08471043637170306, -0.07954267609031795, -0.2497085034503006, -0.343843344512901, 1.2252535867380052], [-1.0, 0.3333333333333333], [-1.0, 0.3333333333333333], [-1.0, 0.3333333333333333], [-1.0, 0.3333333333333333], [-1.0, 0.3333333333333333], [-1.0, 0.3333333333333333], [0.49567395508614664, 0.5374097365846007, -0.6203729999514458, 0.2738593165707184, 0.18439174652235613, -0.16978648272928432, -0.9568681322296717, -0.25108098685969216, -0.9592873331251073, -0.1429367143745437, -0.48257019455275074, 0.015595506884746424, 0.26236411046800256, -0.4411170569349241, 0.22620175441184975]], 1, [2, 2], \n",
       "  [3,   2]  =  0x01\n",
       "  [4,   3]  =  0x01\n",
       "  [5,   4]  =  0x01\n",
       "  [6,   5]  =  0x01\n",
       "  [3,   6]  =  0x02\n",
       "  [3,   7]  =  0x01\n",
       "  [4,   7]  =  0x01\n",
       "  [4,   8]  =  0x02\n",
       "  [3,   9]  =  0x01\n",
       "  [5,   9]  =  0x01\n",
       "  [4,  10]  =  0x01\n",
       "  [5,  10]  =  0x01\n",
       "  ⋮\n",
       "  [3,  94]  =  0x01\n",
       "  [1,  95]  =  0x01\n",
       "  [2,  95]  =  0x01\n",
       "  [3,  95]  =  0x02\n",
       "  [2,  96]  =  0x04\n",
       "  [2,  97]  =  0x03\n",
       "  [3,  97]  =  0x01\n",
       "  [2,  98]  =  0x02\n",
       "  [3,  98]  =  0x02\n",
       "  [1,  99]  =  0x01\n",
       "  [3,  99]  =  0x03\n",
       "  [2, 100]  =  0x01\n",
       "  [3, 100]  =  0x03, Array{Array{UInt8,2},1}[[[0x00 0x00 … 0x00 0x00; 0x00 0x00 … 0x00 0x00; 0x00 0x00 … 0x00 0x00; 0x00 0x00 … 0x00 0x00], [0x00 0x00; 0x02 0x00; 0x00 0x00; 0x00 0x00], [0x00 0x00; 0x00 0x00; 0x02 0x00; 0x00 0x00], [0x00 0x00; 0x00 0x00; 0x00 0x00; 0x02 0x00], [0x02 0x01 … 0x00 0x00; 0x00 0x01 … 0x00 0x00; 0x00 0x00 … 0x00 0x00; 0x00 0x00 … 0x01 0x00]], [[0x00 0x00 … 0x00 0x00; 0x00 0x00 … 0x00 0x00; 0x00 0x00 … 0x00 0x00], [0x02 0x00; 0x00 0x00; 0x00 0x00], [0x00 0x00; 0x02 0x00; 0x00 0x00], [0x00 0x00; 0x00 0x00; 0x02 0x00]]], Array{UInt16,1}[[0x0016, 0x0002, 0x0002, 0x0002, 0x000f], [0x0016, 0x0002, 0x0002, 0x0002]], Array{UInt8,2}[[0x00 0x01 … 0x00 0x00; 0x00 0x00 … 0x00 0x00; 0x00 0x00 … 0x01 0x00; 0x00 0x00 … 0x01 0x02], [0x00 0x01 … 0x00 0x00; 0x00 0x00 … 0x01 0x00; 0x00 0x00 … 0x01 0x02]], Array{Array{UInt8,2},1}[[[0x00 0x01 … 0x00 0x00; 0x00 0x00 … 0x00 0x00; 0x00 0x00 … 0x01 0x00; 0x00 0x00 … 0x00 0x01], [0x00 0x01 … 0x00 0x00; 0x00 0x00 … 0x00 0x00; 0x00 0x00 … 0x01 0x00; 0x00 0x00 … 0x00 0x01], [0x00 0x01 … 0x00 0x00; 0x00 0x00 … 0x00 0x00; 0x00 0x00 … 0x01 0x00; 0x00 0x00 … 0x00 0x01], [0x00 0x01 … 0x00 0x00; 0x00 0x00 … 0x00 0x00; 0x00 0x00 … 0x01 0x00; 0x00 0x00 … 0x00 0x01]], [[0x00 0x01 0x00 0x00; 0x00 0x00 0x01 0x00; 0x00 0x00 0x00 0x01], [0x00 0x01 0x00 0x00; 0x00 0x00 0x01 0x00; 0x00 0x00 0x00 0x01], [0x00 0x01 0x00 0x00; 0x00 0x00 0x01 0x00; 0x00 0x00 0x00 0x01]]], 2, Array{UInt16,1}[[0x0003, 0x0004, 0x0005, 0x0006], [0x0001, 0x0002, 0x0003]], [4, 3], Array{UInt16,1}[[0x0004, 0x0005, 0x0006, 0x0007], [0x0001, 0x0002, 0x0003]], UInt16[], Array{Array{Array{UInt16,1},1},1}[[[[0x0001, 0x0002, 0x0003, 0x0004, 0x0005, 0x0006, 0x0007, 0x0008, 0x0009, 0x000a, 0x000b, 0x000c, 0x000d, 0x000e, 0x000f]], [[0x0001, 0x0002, 0x0003, 0x0004, 0x0005]], [[0x0001, 0x0002, 0x0003, 0x0004, 0x0005]], [[0x0001, 0x0002, 0x0003, 0x0004, 0x0005]], [[0x0001, 0x0002, 0x0003, 0x0004, 0x0005]]], [[[0x0001, 0x0002, 0x0003, 0x0004, 0x0005, 0x0006, 0x0007, 0x0008, 0x0009, 0x000a]], [[0x0001, 0x0002, 0x0003, 0x0004]], [[0x0001, 0x0002, 0x0003, 0x0004]], [[0x0001, 0x0002, 0x0003, 0x0004]]]], Array{UInt16,1}[[0x0001, 0x0001, 0x0001, 0x0001, 0x0001], [0x0001, 0x0001, 0x0001, 0x0001]], Array{Array{Int64,1},1}[[[15], [5], [5], [5], [5]], [[10], [4], [4], [4]]], Array{UInt16,1}[[0x000f], [0x000a]], Array{UInt16,1}[[0x0001], [0x0001]]))"
      ]
     },
     "execution_count": 13,
     "metadata": {},
     "output_type": "execute_result"
    }
   ],
   "source": [
    "using TSSOS\n",
    "\n",
    "\n",
    "@time opt,sol,data=cs_tssos_first(Vector{SparseMatrixCSC{UInt8,UInt32}}([[supp_f];supp_g;supp_h]),[[coe_f];coe_g;coe_h],n,k,[dg;dh],numeq=l,CS=\"MD\",TS=false,CTP=false);"
   ]
  },
  {
   "cell_type": "code",
   "execution_count": 14,
   "metadata": {},
   "outputs": [
    {
     "name": "stdout",
     "output_type": "stream",
     "text": [
      "This is Ipopt version 3.13.2, running with linear solver mumps.\n",
      "NOTE: Other linear solvers might be more efficient (see Ipopt documentation).\n",
      "\n",
      "Number of nonzeros in equality constraint Jacobian...:       20\n",
      "Number of nonzeros in inequality constraint Jacobian.:        6\n",
      "Number of nonzeros in Lagrangian Hessian.............:       31\n",
      "\n",
      "Total number of variables............................:        6\n",
      "                     variables with only lower bounds:        0\n",
      "                variables with lower and upper bounds:        0\n",
      "                     variables with only upper bounds:        0\n",
      "Total number of equality constraints.................:        1\n",
      "Total number of inequality constraints...............:        6\n",
      "        inequality constraints with only lower bounds:        6\n",
      "   inequality constraints with lower and upper bounds:        0\n",
      "        inequality constraints with only upper bounds:        0\n",
      "\n",
      "iter    objective    inf_pr   inf_du lg(mu)  ||d||  lg(rg) alpha_du alpha_pr  ls\n",
      "   0  1.2252536e+00 2.26e-01 7.53e-01  -1.0 0.00e+00    -  0.00e+00 0.00e+00   0\n",
      "   1  1.4208175e-01 1.37e-01 1.03e+00  -1.7 6.04e-01    -  1.00e+00 1.00e+00f  1\n",
      "   2 -2.1805187e-01 3.08e-01 8.50e-01  -1.7 1.31e+00   0.0 1.00e+00 2.53e-01h  1\n",
      "   3 -2.6393100e-01 2.42e-01 7.01e-01  -1.7 9.20e-01    -  1.00e+00 1.83e-01h  1\n",
      "   4  1.7039504e-01 9.06e-03 1.55e-01  -1.7 1.74e-01    -  1.00e+00 1.00e+00h  1\n",
      "   5  1.7686968e-01 7.29e-04 6.27e-03  -2.5 2.15e-02    -  1.00e+00 9.75e-01h  1\n",
      "   6  1.7679920e-01 1.48e-06 6.94e-05  -3.8 3.33e-03    -  1.00e+00 1.00e+00h  1\n",
      "   7  1.7650274e-01 1.59e-08 2.65e-07  -5.7 2.46e-04    -  1.00e+00 1.00e+00h  1\n",
      "   8  1.7649912e-01 1.41e-12 3.11e-11  -8.6 2.43e-06    -  1.00e+00 1.00e+00h  1\n",
      "\n",
      "Number of Iterations....: 8\n",
      "\n",
      "                                   (scaled)                 (unscaled)\n",
      "Objective...............:   1.7649911719315664e-01    1.7649911719315664e-01\n",
      "Dual infeasibility......:   3.1088548402280480e-11    3.1088548402280480e-11\n",
      "Constraint violation....:   1.4050705043899825e-12    1.4050705043899825e-12\n",
      "Complementarity.........:   2.5124307436038971e-09    2.5124307436038971e-09\n",
      "Overall NLP error.......:   2.5124307436038971e-09    2.5124307436038971e-09\n",
      "\n",
      "\n",
      "Number of objective function evaluations             = 9\n",
      "Number of objective gradient evaluations             = 9\n",
      "Number of equality constraint evaluations            = 9\n",
      "Number of inequality constraint evaluations          = 9\n",
      "Number of equality constraint Jacobian evaluations   = 9\n",
      "Number of inequality constraint Jacobian evaluations = 9\n",
      "Number of Lagrangian Hessian evaluations             = 8\n",
      "Total CPU secs in IPOPT (w/o function evaluations)   =      0.004\n",
      "Total CPU secs in NLP function evaluations           =      0.000\n",
      "\n",
      "EXIT: Optimal Solution Found.\n",
      "LOCALLY_SOLVED\n",
      "opt_val=0.17649911719315664\n",
      "  0.058245 seconds (52.51 k allocations: 2.733 MiB)\n"
     ]
    },
    {
     "name": "stderr",
     "output_type": "stream",
     "text": [
      "WARNING: replacing module ctpPOP.\n"
     ]
    },
    {
     "data": {
      "text/plain": [
       "0.17649911719315664"
      ]
     },
     "execution_count": 14,
     "metadata": {},
     "output_type": "execute_result"
    }
   ],
   "source": [
    "include(\"../src/ctpPOP.jl\")\n",
    "using .ctpPOP\n",
    "\n",
    "optval=ctpPOP.POP_NLP(n,m,l,lmon_g,supp_g,coe_g,lmon_h,supp_h,coe_h,lmon_f,supp_f,coe_f)"
   ]
  },
  {
   "cell_type": "code",
   "execution_count": null,
   "metadata": {},
   "outputs": [],
   "source": []
  }
 ],
 "metadata": {
  "kernelspec": {
   "display_name": "Julia 1.3.0",
   "language": "julia",
   "name": "julia-1.3"
  },
  "language_info": {
   "file_extension": ".jl",
   "mimetype": "application/julia",
   "name": "julia",
   "version": "1.3.0"
  }
 },
 "nbformat": 4,
 "nbformat_minor": 2
}
