{
 "cells": [
  {
   "cell_type": "code",
   "execution_count": 1,
   "metadata": {},
   "outputs": [
    {
     "name": "stdout",
     "output_type": "stream",
     "text": [
      "***Problem setting***\n",
      "Number of variable: n=5\n",
      "====================\n",
      "Number of inequality constraints: m=1\n",
      "====================\n",
      "Number of equality constraints: l=0\n",
      "====================\n",
      "Relaxed order: k=2\n",
      "====================\n",
      "Sparse order: t=2\n"
     ]
    }
   ],
   "source": [
    "using DynamicPolynomials, SparseArrays\n",
    "\n",
    "println(\"***Problem setting***\")\n",
    "\n",
    "n=5\n",
    "\n",
    "println(\"Number of variable: n=\",n)\n",
    "println(\"====================\")\n",
    "\n",
    "@polyvar x[1:n]# variables\n",
    "\n",
    "function generate_random_poly(v)\n",
    "    lv=length(v)\n",
    "    c=2*rand(Float64,lv).-1\n",
    "    return sum(c[j]*v[j] for j in 1:lv)\n",
    "end\n",
    "# random quadratic objective function f\n",
    "v=reverse(monomials(x,2))\n",
    "f=generate_random_poly(v)\n",
    "\n",
    "\n",
    "# unit sphere constraint\n",
    "g=[1.0-sum(x.^2)] #type of coefficients of each polynomial must be float\n",
    "\n",
    "m=length(g)\n",
    "println(\"Number of inequality constraints: m=\",m)\n",
    "println(\"====================\")\n",
    "\n",
    "l=0#ceil(Int64, n/4)\n",
    "\n",
    "h=Vector{Polynomial{true,Float64}}(undef,l)\n",
    "randx=2*rand(n).-1# create a feasible solution\n",
    "randx=rand(1)[1]*randx./sqrt(sum(randx.^2))\n",
    "\n",
    "\n",
    "for j in 1:l\n",
    "    h[j]=generate_random_poly(v[2:end])\n",
    "    h[j]-=h[j](x => randx) #make constraints feasible\n",
    "end\n",
    "\n",
    "l=length(h)\n",
    "println(\"Number of equality constraints: l=\",l)\n",
    "println(\"====================\")\n",
    "\n",
    "k=2\n",
    "\n",
    "println(\"Relaxed order: k=\",k)\n",
    "println(\"====================\")\n",
    "t=1\n",
    "println(\"Sparse order: t=\",t)"
   ]
  },
  {
   "cell_type": "code",
   "execution_count": 10,
   "metadata": {},
   "outputs": [
    {
     "name": "stdout",
     "output_type": "stream",
     "text": [
      "  Computing constant trace status: OPTIMAL\n",
      "  Constant trace: ak = 3.0\n",
      "  Stable sparse order: t="
     ]
    },
    {
     "name": "stderr",
     "output_type": "stream",
     "text": [
      "WARNING: replacing module ctpPOP.\n",
      "WARNING: Compat.Printf is deprecated, use Printf instead.\n",
      "  likely near /home/hoanganh/Desktop/math-topics/ctpPOP/codes/ctpPOP/solvers/ProximalBundleMethod/ProximalMethod.jl:391\n"
     ]
    },
    {
     "name": "stdout",
     "output_type": "stream",
     "text": [
      "1\n",
      "  Number of blocks: omega=4\n",
      "  Size of the largest block: s^max=16\n",
      "  Number of equality trace constraints: zeta=82\n",
      "Modeling time:\n",
      "  0.824739 seconds (699.43 k allocations: 35.298 MiB)\n",
      "iter=1.0   val=-3.414786430557195   gap=2.6645352591003757e-15   feas=3.234690391941398\n",
      "iter=2.0   val=-1.1382621435190652   gap=3.117556036020865   feas=0.43917132656871477\n",
      "iter=4.0   val=-0.903343665979293   gap=1.9989044043586874   feas=0.5911058019534905\n",
      "iter=8.0   val=-0.7248285092425981   gap=0.2753016457676183   feas=0.5586462636983218\n",
      "iter=16.0   val=-1.0957511337306116   gap=0.5578083318568097   feas=0.06382539382535571\n",
      "iter=32.0   val=-1.0583168870459603   gap=0.15471047485810363   feas=0.09733459363259299\n",
      "iter=64.0   val=-1.13547785773416   gap=0.31452932922835397   feas=0.003647044911723568\n",
      "iter=128.0   val=-1.1203255944512451   gap=0.13654231349746837   feas=0.02321540581394447\n",
      "iter=256.0   val=-1.1390193800077784   gap=0.1493402461894653   feas=0.0025975868678699177\n",
      "iter=512.0   val=-1.1345338691199058   gap=0.06414668746886898   feas=0.004767205256199144\n",
      "iter=1024.0   val=-1.138771336676661   gap=0.09172936675205312   feas=0.00099371656639021\n",
      "iter=2048.0   val=-1.1374720384089738   gap=0.032314670202108875   feas=0.0010159601652749784\n",
      "iter=4096.0   val=-1.1384526332095148   gap=0.0466720607576534   feas=0.0003236873317639833\n",
      "iter=5154.0   val=-1.1375375975413915   gap=0.0009960045060100065   feas=0.0009888156295600973\n",
      "tol satisfies!!!\n",
      "\n",
      "####################################\n",
      "opt_val = -1.1375375975413915\n",
      "####################################\n",
      "Solving time:\n",
      "  2.768200 seconds (2.13 M allocations: 193.159 MiB, 3.53% gc time)\n",
      "Total time:\n",
      "  3.593344 seconds (2.83 M allocations: 228.470 MiB, 2.72% gc time)\n"
     ]
    },
    {
     "data": {
      "text/plain": [
       "-1.1375375975413915"
      ]
     },
     "execution_count": 10,
     "metadata": {},
     "output_type": "execute_result"
    }
   ],
   "source": [
    "include(\"../src/ctpPOP.jl\")\n",
    "using .ctpPOP\n",
    "\n",
    "opt_val=ctpPOP.POP_TS_CGAL(x,f,g,h,k,t;EigAlg=\"Arpack\",maxit=1e10,tol=1e-3,UseEq=false)"
   ]
  },
  {
   "cell_type": "code",
   "execution_count": 12,
   "metadata": {},
   "outputs": [
    {
     "name": "stdout",
     "output_type": "stream",
     "text": [
      "  Computing constant trace status: OPTIMAL\n",
      "  Constant trace: ak = 3.0\n",
      "  Stable sparse order: t="
     ]
    },
    {
     "name": "stderr",
     "output_type": "stream",
     "text": [
      "WARNING: replacing module ctpPOP.\n",
      "WARNING: Compat.Printf is deprecated, use Printf instead.\n",
      "  likely near /home/hoanganh/Desktop/math-topics/ctpPOP/codes/ctpPOP/solvers/ProximalBundleMethod/ProximalMethod.jl:391\n"
     ]
    },
    {
     "name": "stdout",
     "output_type": "stream",
     "text": [
      "1\n",
      "  Number of blocks: omega=4\n",
      "  Size of the largest block: s^max=16\n",
      "  Number of equality trace constraints: zeta=82\n",
      "Modeling time:\n",
      "  0.992472 seconds (699.47 k allocations: 35.339 MiB, 3.92% gc time)\n",
      "---------------\n",
      "| Parameters: |\n",
      "---------------\n",
      "n:       82\n",
      "maxtime: 300000.000000\n",
      "na:      2\n",
      "mcu:     5\n",
      "mc:      7\n",
      "rpar: \n",
      "ipar: \n",
      " Warning: MC > MCU. Assigned MC = MCU.\n",
      " Entry to LMBM:\n",
      " NIT=    1  NFE=    1  F= 0.64977790D+00  WK= 0.4974D+00  QK= 0.2487D+00\n",
      " NIT=    2  NFE=    2  F= 0.26627386D+00  WK= 0.9828D-01  QK= 0.8128D-01\n",
      " NIT=    3  NFE=    3  F= 0.26627386D+00  WK= 0.6127D-01  QK= 0.4207D-01\n",
      " NIT=    4  NFE=    5  F= 0.26234608D+00  WK= 0.1853D-01  QK= 0.2458D+00\n",
      " NIT=    5  NFE=    6  F= 0.25405941D+00  WK= 0.1093D-01  QK= 0.8015D-01\n",
      " NIT=    6  NFE=    7  F= 0.24353819D+00  WK= 0.4438D+00  QK= 0.8302D-01\n",
      " Warning: A nondescent search direction occured. Restart.\n",
      " NIT=    7  NFE=    8  F= 0.24353819D+00  WK= 0.1660D+00  QK= 0.8302D-01\n",
      " NIT=    8  NFE=    9  F= 0.24353819D+00  WK= 0.6174D-01  QK= 0.3209D-01\n",
      " NIT=    9  NFE=   14  F= 0.24250839D+00  WK= 0.1029D-01  QK= 0.2468D+00\n",
      " NIT=   10  NFE=   15  F= 0.23736149D+00  WK= 0.1119D-01  QK= 0.2480D+00\n",
      " NIT=   11  NFE=   16  F= 0.23431617D+00  WK= 0.4745D-02  QK= 0.8471D-01\n",
      " NIT=   12  NFE=   17  F= 0.23431617D+00  WK= 0.8323D-02  QK= 0.3971D-01\n",
      " NIT=   13  NFE=   18  F= 0.22874586D+00  WK= 0.2222D-01  QK= 0.8068D-01\n",
      " NIT=   14  NFE=   19  F= 0.21939910D+00  WK= 0.2361D-01  QK= 0.2486D+00\n",
      " NIT=   15  NFE=   20  F= 0.21939910D+00  WK= 0.1071D-01  QK= 0.2163D+00\n",
      " NIT=   16  NFE=   21  F= 0.21937011D+00  WK= 0.7159D-02  QK= 0.5699D-01\n",
      " NIT=   17  NFE=   23  F= 0.21803931D+00  WK= 0.3697D-02  QK= 0.6305D-01\n",
      " Warning: A nondescent search direction occured. Restart.\n",
      " NIT=   18  NFE=   24  F= 0.21803931D+00  WK= 0.1261D+00  QK= 0.6305D-01\n",
      " NIT=   19  NFE=   25  F= 0.21803931D+00  WK= 0.3744D-01  QK= 0.1984D-01\n",
      " NIT=   20  NFE=   29  F= 0.21755212D+00  WK= 0.1994D-02  QK= 0.2488D+00\n",
      " NIT=   21  NFE=   30  F= 0.21737432D+00  WK= 0.3091D-03  QK= 0.6190D-01\n",
      " NIT=   22  NFE=   31  F= 0.21709539D+00  WK= 0.3210D-02  QK= 0.6201D-01\n",
      " Warning: A nondescent search direction occured. Restart.\n",
      " NIT=   23  NFE=   32  F= 0.21709539D+00  WK= 0.1240D+00  QK= 0.6201D-01\n",
      " NIT=   24  NFE=   33  F= 0.21709539D+00  WK= 0.3567D-01  QK= 0.1898D-01\n",
      " NIT=   25  NFE=   38  F= 0.21674288D+00  WK= 0.5762D-03  QK= 0.2485D+00\n",
      " NIT=   26  NFE=   39  F= 0.21668643D+00  WK= 0.1704D-04  QK= 0.6197D-01\n",
      " NIT=   27  NFE=   40  F= 0.21668450D+00  WK= 0.1353D-04  QK= 0.2485D+00\n",
      " NIT=   28  NFE=   41  F= 0.21667346D+00  WK= 0.6492D-04  QK= 0.6196D-01\n",
      " NIT=   29  NFE=   42  F= 0.21664594D+00  WK= 0.1264D-03  QK= 0.6193D-01\n",
      " NIT=   30  NFE=   43  F= 0.21664594D+00  WK= 0.6271D-04  QK= 0.5586D-01\n",
      " NIT=   31  NFE=   44  F= 0.21663218D+00  WK= 0.6024D-04  QK= 0.6211D-01\n",
      " NIT=   32  NFE=   45  F= 0.21663218D+00  WK= 0.2437D-04  QK= 0.3884D-01\n",
      " NIT=   33  NFE=   46  F= 0.21662436D+00  WK= 0.1572D-03  QK= 0.6208D-01\n",
      " NIT=   34  NFE=   47  F= 0.21662436D+00  WK= 0.5659D-04  QK= 0.4427D-01\n",
      " NIT=   35  NFE=   48  F= 0.21661962D+00  WK= 0.1442D-03  QK= 0.6208D-01\n",
      " Warning: A nondescent search direction occured. Restart.\n",
      " NIT=   36  NFE=   49  F= 0.21661962D+00  WK= 0.1242D+00  QK= 0.6208D-01\n",
      " NIT=   37  NFE=   50  F= 0.21661962D+00  WK= 0.3564D-01  QK= 0.1897D-01\n",
      " NIT=   38  NFE=   61  F= 0.21661339D+00  WK= 0.9275D-05  QK= 0.2487D+00\n",
      " NIT=   39  NFE=   62  F= 0.21661303D+00  WK= 0.3754D-06  QK= 0.6207D-01\n",
      " NIT=   40  NFE=   63  F= 0.21661283D+00  WK= 0.1865D-05  QK= 0.2487D+00\n",
      " NIT=   41  NFE=   64  F= 0.21661146D+00  WK= 0.5744D-05  QK= 0.2486D+00\n",
      " NIT=   42  NFE=   65  F= 0.21660618D+00  WK= 0.7851D-04  QK= 0.2486D+00\n",
      " NIT=   43  NFE=   66  F= 0.21660618D+00  WK= 0.6456D-04  QK= 0.1722D+00\n",
      " NIT=   44  NFE=   67  F= 0.21660328D+00  WK= 0.9373D-05  QK= 0.6244D-01\n",
      " NIT=   45  NFE=   68  F= 0.21659792D+00  WK= 0.1679D-05  QK= 0.6226D-01\n",
      " NIT=   46  NFE=   69  F= 0.21659677D+00  WK= 0.9952D-06  QK= 0.6218D-01\n",
      " Exit from LMBM:\n",
      " Abnormal exit: Too many steps without significant progress.\n",
      " NIT=   46  NFE=   70  F= 0.21659651D+00  WK= 0.9952D-06  QK= 0.6218D-01  ITERM=  2\n",
      "-----------\n",
      "| Output: |\n",
      "-----------\n",
      "Termination:     2\n",
      "N. iter.:        46\n",
      "N. func. eval.:  70\n",
      "Final value:     0.216597\n",
      "Execution time:  0.466156\n",
      "\n",
      "####################################\n",
      "opt_val = -1.1382825017894749\n",
      "####################################\n",
      "Solving time:\n",
      "  1.254299 seconds (549.84 k allocations: 29.931 MiB)\n",
      "Dimension of the null space of Gram matrix = 1\n",
      "Extracting solutuion time:\n",
      "  0.123988 seconds (48.67 k allocations: 2.546 MiB)\n",
      "Total time:\n",
      "  2.371241 seconds (1.30 M allocations: 67.833 MiB, 1.64% gc time)\n"
     ]
    },
    {
     "data": {
      "text/plain": [
       "(-1.1382825017894749, Array{Float64,1}[])"
      ]
     },
     "execution_count": 12,
     "metadata": {},
     "output_type": "execute_result"
    }
   ],
   "source": [
    "include(\"../src/ctpPOP.jl\")\n",
    "using .ctpPOP\n",
    "\n",
    "opt_val=ctpPOP.POP_TS_LMBM(x,f,g,h,k,t;EigAlg=\"Arpack\",tol=1e-3,UseEq=false)"
   ]
  },
  {
   "cell_type": "code",
   "execution_count": 6,
   "metadata": {},
   "outputs": [
    {
     "name": "stdout",
     "output_type": "stream",
     "text": [
      "------------------------------------------------------\n",
      "The sizes of blocks:\n",
      "[16, 5]\n",
      "[1, 1]\n",
      "------------------------------------------------------\n",
      "Problem\n",
      "  Name                   :                 \n",
      "  Objective sense        : max             \n",
      "  Type                   : CONIC (conic optimization problem)\n",
      "  Constraints            : 86              \n",
      "  Cones                  : 0               \n",
      "  Scalar variables       : 2               \n",
      "  Matrix variables       : 3               \n",
      "  Integer variables      : 0               \n",
      "\n",
      "Optimizer started.\n",
      "Presolve started.\n",
      "Linear dependency checker started.\n",
      "Linear dependency checker terminated.\n",
      "Eliminator started.\n",
      "Freed constraints in eliminator : 0\n",
      "Eliminator terminated.\n",
      "Eliminator - tries                  : 1                 time                   : 0.00            \n",
      "Lin. dep.  - tries                  : 1                 time                   : 0.00            \n",
      "Lin. dep.  - number                 : 0               \n",
      "Presolve terminated. Time: 0.00    \n",
      "Problem\n",
      "  Name                   :                 \n",
      "  Objective sense        : max             \n",
      "  Type                   : CONIC (conic optimization problem)\n",
      "  Constraints            : 86              \n",
      "  Cones                  : 0               \n",
      "  Scalar variables       : 2               \n",
      "  Matrix variables       : 3               \n",
      "  Integer variables      : 0               \n",
      "\n",
      "Optimizer  - threads                : 4               \n",
      "Optimizer  - solved problem         : the primal      \n",
      "Optimizer  - Constraints            : 86\n",
      "Optimizer  - Cones                  : 1\n",
      "Optimizer  - Scalar variables       : 3                 conic                  : 2               \n",
      "Optimizer  - Semi-definite variables: 3                 scalarized             : 166             \n",
      "Factor     - setup time             : 0.00              dense det. time        : 0.00            \n",
      "Factor     - ML order time          : 0.00              GP order time          : 0.00            \n",
      "Factor     - nonzeros before factor : 3741              after factor           : 3741            \n",
      "Factor     - dense dim.             : 0                 flops                  : 2.84e+05        \n",
      "ITE PFEAS    DFEAS    GFEAS    PRSTATUS   POBJ              DOBJ              MU       TIME  \n",
      "0   2.5e+00  1.0e+00  1.0e+00  0.00e+00   0.000000000e+00   0.000000000e+00   1.0e+00  0.00  \n",
      "1   1.1e+00  4.3e-01  2.7e-01  4.50e-01   -8.017724872e-01  -7.503716357e-01  4.3e-01  0.00  \n",
      "2   1.9e-01  7.4e-02  1.3e-02  1.43e+00   -9.874438077e-01  -9.564554808e-01  7.4e-02  0.01  \n",
      "3   2.5e-02  1.0e-02  7.3e-04  1.06e+00   -1.124201514e+00  -1.121289706e+00  1.0e-02  0.01  \n",
      "4   3.5e-04  1.4e-04  1.2e-06  1.02e+00   -1.138002270e+00  -1.137964598e+00  1.4e-04  0.01  \n",
      "5   8.3e-07  3.3e-07  1.4e-10  1.00e+00   -1.138261680e+00  -1.138261597e+00  3.3e-07  0.01  \n",
      "6   6.9e-08  2.7e-08  3.3e-12  1.00e+00   -1.138262105e+00  -1.138262098e+00  2.7e-08  0.01  \n",
      "7   4.5e-09  1.8e-09  5.6e-14  1.00e+00   -1.138262141e+00  -1.138262140e+00  1.8e-09  0.01  \n",
      "Optimizer terminated. Time: 0.02    \n",
      "\n",
      "optimum = -1.1382621405839066\n",
      " 37.158330 seconds (37.71 M allocations: 1.849 GiB, 3.96% gc time)\n"
     ]
    },
    {
     "data": {
      "text/plain": [
       "(-1.1382621405839066, nothing, TSSOS.cdata_type(5, 0, 1, 0, PolyVar{true}[x₁, x₂, x₃, x₄, x₅], Polynomial{true,Float64}[0.2957084589183778x₁² - 0.6070235805289705x₁x₂ + 0.7971349536625572x₁x₃ + 0.6572267901584454x₁x₄ + 0.5358587686457295x₁x₅ - 0.5283377288580038x₂² + 0.5004416622750911x₂x₃ - 0.0427367633146325x₂x₄ - 0.009155657655769645x₂x₅ + 0.8563668140939513x₃² - 0.5919745910453371x₃x₄ - 0.30841003101167175x₃x₅ - 0.4897162726195483x₄² - 0.9581245696867202x₄x₅ - 0.24388958472250932x₅², -x₁² - x₂² - x₃² - x₄² - x₅² + 1.0], Any[], Any[], Array{UInt8,2}[[0x02 0x01 … 0x00 0x00; 0x00 0x01 … 0x00 0x00; … ; 0x00 0x00 … 0x01 0x00; 0x00 0x00 … 0x01 0x02], [0x02 0x00 … 0x00 0x00; 0x00 0x02 … 0x00 0x00; … ; 0x00 0x00 … 0x00 0x00; 0x00 0x00 … 0x02 0x00]], Array{Float64,1}[[0.2957084589183778, -0.6070235805289705, 0.7971349536625572, 0.6572267901584454, 0.5358587686457295, -0.5283377288580038, 0.5004416622750911, -0.0427367633146325, -0.009155657655769645, 0.8563668140939513, -0.5919745910453371, -0.30841003101167175, -0.4897162726195483, -0.9581245696867202, -0.24388958472250932], [-1.0, -1.0, -1.0, -1.0, -1.0, 1.0]], UInt32[0x0000000f, 0x00000006], 2, [2], UInt8[0x00 0x01 … 0x00 0x00; 0x00 0x00 … 0x00 0x00; … ; 0x00 0x00 … 0x01 0x00; 0x00 0x00 … 0x01 0x02], Array{UInt8,2}[[0x00 0x01 … 0x00 0x00; 0x00 0x00 … 0x00 0x00; … ; 0x00 0x00 … 0x01 0x00; 0x00 0x00 … 0x00 0x01]], UInt8[0x00 0x02 … 0x00 0x00; 0x00 0x00 … 0x00 0x00; … ; 0x00 0x00 … 0x01 0x00; 0x00 0x00 … 0x01 0x02], [16, 5], [1, 1], Array{Array{UInt16,1},1}[[[0x0001], [0x0002, 0x0003, 0x0004, 0x0005, 0x0006]]], UInt16[0x0002], Array{UInt16,1}[[0x0001, 0x0005]]))"
      ]
     },
     "execution_count": 6,
     "metadata": {},
     "output_type": "execute_result"
    }
   ],
   "source": [
    "using TSSOS\n",
    "\n",
    "@time tssos_first([[f];g;h],x,k,numeq=length(h),TS=\"block\",quotient=false);"
   ]
  },
  {
   "cell_type": "code",
   "execution_count": null,
   "metadata": {},
   "outputs": [],
   "source": []
  },
  {
   "cell_type": "code",
   "execution_count": 3,
   "metadata": {
    "scrolled": true
   },
   "outputs": [
    {
     "name": "stdout",
     "output_type": "stream",
     "text": [
      " Support-extension operator is stable at sparse order t = 2\n",
      "  Number of blocks: omega="
     ]
    },
    {
     "name": "stderr",
     "output_type": "stream",
     "text": [
      "WARNING: replacing module SpectralPOP.\n"
     ]
    },
    {
     "name": "stdout",
     "output_type": "stream",
     "text": [
      "2\n",
      "  Size of the largest block: s^max=1326\n",
      "  Number of equality trace constraints: zeta=65077\n",
      "  Constant trace: ak=4.0\n",
      " 32.063696 seconds (36.58 M allocations: 13.653 GiB, 4.48% gc time)\n",
      "---------------\n",
      "| Parameters: |\n",
      "---------------\n",
      "n:       65077\n",
      "maxtime: 300000.000000\n",
      "na:      2\n",
      "mcu:     5\n",
      "mc:      7\n",
      "rpar: \n",
      "ipar: \n",
      " Warning: MC > MCU. Assigned MC = MCU.\n",
      " Entry to LMBM:\n",
      " NIT=    1  NFE=    1  F= 0.37164225D+02  WK= 0.7657D+01  QK= 0.3828D+01\n",
      " NIT=    2  NFE=    2  F= 0.32068236D+02  WK= 0.4048D+02  QK= 0.2847D+01\n",
      " NIT=    3  NFE=    3  F= 0.28436343D+02  WK= 0.3690D+01  QK= 0.9192D+00\n",
      " NIT=    4  NFE=    4  F= 0.27379360D+02  WK= 0.1422D+01  QK= 0.1820D+01\n",
      " NIT=    5  NFE=    5  F= 0.26153070D+02  WK= 0.4199D+01  QK= 0.7562D+00\n",
      " NIT=    6  NFE=    6  F= 0.24698523D+02  WK= 0.1040D+01  QK= 0.2036D+00\n",
      " Warning: A nondescent search direction occured. Restart.\n",
      " NIT=    7  NFE=    7  F= 0.24698523D+02  WK= 0.4073D+00  QK= 0.2036D+00\n",
      " NIT=    8  NFE=    8  F= 0.24698523D+02  WK= 0.3288D+00  QK= 0.1698D+00\n",
      " NIT=    9  NFE=    9  F= 0.24562380D+02  WK= 0.1125D+00  QK= 0.4053D+00\n",
      " NIT=   10  NFE=   10  F= 0.24475986D+02  WK= 0.1453D+00  QK= 0.1802D+00\n",
      " NIT=   11  NFE=   11  F= 0.24379827D+02  WK= 0.1437D+00  QK= 0.4677D+00\n",
      " NIT=   12  NFE=   12  F= 0.24286352D+02  WK= 0.1864D+00  QK= 0.2247D+00\n",
      " NIT=   13  NFE=   13  F= 0.24286352D+02  WK= 0.3957D+00  QK= 0.2173D+00\n",
      " NIT=   14  NFE=   14  F= 0.24286352D+02  WK= 0.2554D+00  QK= 0.1493D+00\n",
      " NIT=   15  NFE=   15  F= 0.24188355D+02  WK= 0.2082D+00  QK= 0.3504D+00\n",
      " Warning: A nondescent search direction occured. Restart.\n",
      " NIT=   16  NFE=   16  F= 0.24188355D+02  WK= 0.7007D+00  QK= 0.3504D+00\n",
      " NIT=   17  NFE=   17  F= 0.24188355D+02  WK= 0.3648D+00  QK= 0.1856D+00\n",
      " NIT=   18  NFE=   20  F= 0.24188355D+02  WK= 0.9305D-01  QK= 0.5473D-01\n",
      " NIT=   19  NFE=   21  F= 0.24161386D+02  WK= 0.2225D-01  QK= 0.1763D+00\n",
      " NIT=   20  NFE=   22  F= 0.24148969D+02  WK= 0.2292D-02  QK= 0.7144D-02\n",
      " NIT=   21  NFE=   23  F= 0.24146990D+02  WK= 0.1345D-01  QK= 0.1392D-01\n",
      " NIT=   22  NFE=   24  F= 0.24136513D+02  WK= 0.2737D-01  QK= 0.3434D-01\n"
     ]
    },
    {
     "ename": "InterruptException",
     "evalue": "InterruptException:",
     "output_type": "error",
     "traceback": [
      "InterruptException:",
      "",
      "Stacktrace:",
      " [1] Array at ./boot.jl:404 [inlined]",
      " [2] Array at ./boot.jl:413 [inlined]",
      " [3] zeros at ./array.jl:461 [inlined]",
      " [4] #_eigs at ./none:0 [inlined]",
      " [5] #eigs#10 at /home/hoanganh/.julia/packages/Arpack/o35I5/src/Arpack.jl:46 [inlined]",
      " [6] #eigs at ./none:0 [inlined]",
      " [7] #eigs#9 at /home/hoanganh/.julia/packages/Arpack/o35I5/src/Arpack.jl:45 [inlined]",
      " [8] #eigs at ./none:0 [inlined]",
      " [9] #SparseLargEig#431(::String, ::typeof(Main.SpectralPOP.SparseLargEig), ::SparseMatrixCSC{Float64,Int64}, ::Int64) at /home/hoanganh/Desktop/math-topics/SparseSpectralPOP/codes/SparseSpectralPOP/src/TSSpectralPOP_single_ball.jl:325",
      " [10] #SparseLargEig at /home/hoanganh/Desktop/math-topics/SparseSpectralPOP/codes/SparseSpectralPOP/src/TSSpectralPOP_single_ball.jl:0 [inlined]",
      " [11] #eig_sparse_momenmat#432(::String, ::typeof(Main.SpectralPOP.eig_sparse_momenmat), ::Array{Float64,1}, ::Int64, ::Int64, ::Int64, ::Array{Int64,1}, ::SparseMatrixCSC{UInt64,Int64}, ::Array{SparseMatrixCSC{UInt64,Int64},1}) at /home/hoanganh/Desktop/math-topics/SparseSpectralPOP/codes/SparseSpectralPOP/src/TSSpectralPOP_single_ball.jl:360",
      " [12] #eig_sparse_momenmat at ./none:0 [inlined]",
      " [13] (::Main.SpectralPOP.var\"#phi#434\"{String,Int64,Int64,Int64,Array{Int64,1},SparseMatrixCSC{UInt64,Int64},Array{SparseMatrixCSC{UInt64,Int64},1},SparseMatrixCSC{Float64,Int64},Array{Float64,1},UInt64})(::Int32, ::Ptr{Float64}, ::Ptr{Float64}) at /home/hoanganh/Desktop/math-topics/SparseSpectralPOP/codes/SparseSpectralPOP/src/TSSpectralPOP_single_ball.jl:398",
      " [14] #lmbm#1(::Int64, ::Int64, ::Bool, ::Float64, ::Float64, ::Int64, ::typeof(Main.SpectralPOP.lmbm), ::Function, ::Array{Float64,1}) at /home/hoanganh/Desktop/math-topics/SparseSpectralPOP/codes/SparseSpectralPOP/solvers/LMBM/LMBM.jl:106",
      " [15] #lmbm at ./none:0 [inlined]",
      " [16] #solve_TSSpectralPOP_single_ball#433(::Float64, ::String, ::typeof(Main.SpectralPOP.solve_TSSpectralPOP_single_ball), ::Int64, ::Int64, ::Int64, ::Array{Int64,1}, ::SparseMatrixCSC{UInt64,Int64}, ::Array{SparseMatrixCSC{UInt64,Int64},1}, ::UInt64, ::SparseMatrixCSC{Float64,Int64}, ::Array{Float64,1}, ::UInt64) at /home/hoanganh/Desktop/math-topics/SparseSpectralPOP/codes/SparseSpectralPOP/src/TSSpectralPOP_single_ball.jl:405",
      " [17] (::Main.SpectralPOP.var\"#kw##solve_TSSpectralPOP_single_ball\")(::NamedTuple{(:tol, :EigAlg),Tuple{Float64,String}}, ::typeof(Main.SpectralPOP.solve_TSSpectralPOP_single_ball), ::Int64, ::Int64, ::Int64, ::Array{Int64,1}, ::SparseMatrixCSC{UInt64,Int64}, ::Array{SparseMatrixCSC{UInt64,Int64},1}, ::UInt64, ::SparseMatrixCSC{Float64,Int64}, ::Array{Float64,1}, ::UInt64) at ./none:0",
      " [18] #TSSpectralPOP_single_ball#435(::String, ::Float64, ::typeof(Main.SpectralPOP.TSSpectralPOP_single_ball), ::Array{PolyVar{true},1}, ::Polynomial{true,Float64}, ::Array{Polynomial{true,Float64},1}, ::Array{Polynomial{true,Float64},1}, ::Int64, ::Int64, ::Float64) at ./util.jl:155",
      " [19] (::Main.SpectralPOP.var\"#kw##TSSpectralPOP_single_ball\")(::NamedTuple{(:EigAlg, :tol),Tuple{String,Float64}}, ::typeof(Main.SpectralPOP.TSSpectralPOP_single_ball), ::Array{PolyVar{true},1}, ::Polynomial{true,Float64}, ::Array{Polynomial{true,Float64},1}, ::Array{Polynomial{true,Float64},1}, ::Int64, ::Int64, ::Float64) at ./none:0",
      " [20] top-level scope at In[3]:3"
     ]
    }
   ],
   "source": []
  },
  {
   "cell_type": "code",
   "execution_count": null,
   "metadata": {
    "scrolled": true
   },
   "outputs": [],
   "source": [
    "include(\"../src/SpectralPOP.jl\")\n",
    "using .SpectralPOP\n",
    "\n",
    "\n",
    "opt_val,opt_sol=SpectralPOP.POP_single_ball(x,f,1.0,h,k;EigAlg=\"Arpack\",tol=1e-3)"
   ]
  },
  {
   "cell_type": "code",
   "execution_count": null,
   "metadata": {},
   "outputs": [],
   "source": []
  },
  {
   "cell_type": "code",
   "execution_count": null,
   "metadata": {},
   "outputs": [],
   "source": []
  },
  {
   "cell_type": "code",
   "execution_count": null,
   "metadata": {},
   "outputs": [],
   "source": []
  },
  {
   "cell_type": "code",
   "execution_count": 6,
   "metadata": {},
   "outputs": [
    {
     "ename": "LoadError",
     "evalue": "LoadError: InterruptException:\nin expression starting at /home/hoanganh/Desktop/math-topics/SparseSpectralPOP/codes/SparseSpectralPOP/src/correlative_pop_single_ball.jl:1",
     "output_type": "error",
     "traceback": [
      "LoadError: InterruptException:\nin expression starting at /home/hoanganh/Desktop/math-topics/SparseSpectralPOP/codes/SparseSpectralPOP/src/correlative_pop_single_ball.jl:1",
      "",
      "Stacktrace:",
      " [1] include at ./boot.jl:328 [inlined]",
      " [2] include_relative(::Module, ::String) at ./loading.jl:1105",
      " [3] include at ./Base.jl:31 [inlined]",
      " [4] include(::String) at /home/hoanganh/Desktop/math-topics/SparseSpectralPOP/codes/SparseSpectralPOP/src/SpectralPOP.jl:1",
      " [5] top-level scope at /home/hoanganh/Desktop/math-topics/SparseSpectralPOP/codes/SparseSpectralPOP/src/SpectralPOP.jl:32",
      " [6] include at ./boot.jl:328 [inlined]",
      " [7] include_relative(::Module, ::String) at ./loading.jl:1105",
      " [8] include(::Module, ::String) at ./Base.jl:31",
      " [9] include(::String) at ./client.jl:424",
      " [10] top-level scope at In[6]:1"
     ]
    }
   ],
   "source": [
    "include(\"../src/SpectralPOP.jl\")\n",
    "using .SpectralPOP\n",
    "\n",
    "opt_val=SpectralPOP.SumofSquares_POP(x,f,g,h,k)"
   ]
  },
  {
   "cell_type": "code",
   "execution_count": 23,
   "metadata": {},
   "outputs": [
    {
     "ename": "ErrorException",
     "evalue": "`mutable_operate!(removeleadingterm, ::Polynomial{true,Float64})` is not implemented yet.",
     "output_type": "error",
     "traceback": [
      "`mutable_operate!(removeleadingterm, ::Polynomial{true,Float64})` is not implemented yet.",
      "",
      "Stacktrace:",
      " [1] error(::String, ::String, ::String) at ./error.jl:42",
      " [2] mutable_operate_fallback(::MutableArithmetics.IsMutable, ::Function, ::Polynomial{true,Float64}) at /home/hoanganh/.julia/packages/MutableArithmetics/NuiNA/src/interface.jl:210",
      " [3] mutable_operate!(::Function, ::Polynomial{true,Float64}) at /home/hoanganh/.julia/packages/MutableArithmetics/NuiNA/src/interface.jl:221",
      " [4] operate_fallback!(::MutableArithmetics.IsMutable, ::Function, ::Polynomial{true,Float64}) at /home/hoanganh/.julia/packages/MutableArithmetics/NuiNA/src/interface.jl:278",
      " [5] operate!(::Function, ::Polynomial{true,Float64}) at /home/hoanganh/.julia/packages/MutableArithmetics/NuiNA/src/interface.jl:271",
      " [6] #divrem#94(::Base.Iterators.Pairs{Union{},Union{},Tuple{},NamedTuple{(),Tuple{}}}, ::typeof(divrem), ::Polynomial{true,Float64}, ::Array{Polynomial{true,Float64},1}) at /home/hoanganh/.julia/packages/MultivariatePolynomials/CZWzD/src/division.jl:86",
      " [7] divrem at /home/hoanganh/.julia/packages/MultivariatePolynomials/CZWzD/src/division.jl:65 [inlined]",
      " [8] #rem#92 at /home/hoanganh/.julia/packages/MultivariatePolynomials/CZWzD/src/division.jl:31 [inlined]",
      " [9] rem at /home/hoanganh/.julia/packages/MultivariatePolynomials/CZWzD/src/division.jl:31 [inlined]",
      " [10] #tssos_first#66(::Int64, ::Int64, ::Bool, ::Nothing, ::Bool, ::String, ::Bool, ::Bool, ::Bool, ::Bool, ::Bool, ::Bool, ::Float64, ::typeof(tssos_first), ::Array{Polynomial{true,Float64},1}, ::Array{PolyVar{true},1}, ::Int64) at /home/hoanganh/.julia/packages/TSSOS/N4zjL/src/blockpop_cons.jl:32",
      " [11] (::TSSOS.var\"#kw##tssos_first\")(::NamedTuple{(:numeq, :TS),Tuple{Int64,String}}, ::typeof(tssos_first), ::Array{Polynomial{true,Float64},1}, ::Array{PolyVar{true},1}, ::Int64) at ./none:0",
      " [12] top-level scope at In[23]:3"
     ]
    }
   ],
   "source": [
    "using TSSOS\n",
    "pop=[f,g[1]]\n",
    "opt,sol,data=tssos_first(pop,x,k,numeq=1,TS=\"block\")"
   ]
  },
  {
   "cell_type": "code",
   "execution_count": 18,
   "metadata": {},
   "outputs": [
    {
     "ename": "ErrorException",
     "evalue": "`mutable_operate!(removeleadingterm, ::Polynomial{true,Float64})` is not implemented yet.",
     "output_type": "error",
     "traceback": [
      "`mutable_operate!(removeleadingterm, ::Polynomial{true,Float64})` is not implemented yet.",
      "",
      "Stacktrace:",
      " [1] error(::String, ::String, ::String) at ./error.jl:42",
      " [2] mutable_operate_fallback(::MutableArithmetics.IsMutable, ::Function, ::Polynomial{true,Float64}) at /home/hoanganh/.julia/packages/MutableArithmetics/NuiNA/src/interface.jl:210",
      " [3] mutable_operate!(::Function, ::Polynomial{true,Float64}) at /home/hoanganh/.julia/packages/MutableArithmetics/NuiNA/src/interface.jl:221",
      " [4] operate_fallback!(::MutableArithmetics.IsMutable, ::Function, ::Polynomial{true,Float64}) at /home/hoanganh/.julia/packages/MutableArithmetics/NuiNA/src/interface.jl:278",
      " [5] operate!(::Function, ::Polynomial{true,Float64}) at /home/hoanganh/.julia/packages/MutableArithmetics/NuiNA/src/interface.jl:271",
      " [6] #divrem#94(::Base.Iterators.Pairs{Union{},Union{},Tuple{},NamedTuple{(),Tuple{}}}, ::typeof(divrem), ::Polynomial{true,Int64}, ::Array{Polynomial{true,Int64},1}) at /home/hoanganh/.julia/packages/MultivariatePolynomials/CZWzD/src/division.jl:86",
      " [7] divrem at /home/hoanganh/.julia/packages/MultivariatePolynomials/CZWzD/src/division.jl:65 [inlined]",
      " [8] #rem#92 at /home/hoanganh/.julia/packages/MultivariatePolynomials/CZWzD/src/division.jl:31 [inlined]",
      " [9] rem at /home/hoanganh/.julia/packages/MultivariatePolynomials/CZWzD/src/division.jl:31 [inlined]",
      " [10] #tssos_first#66(::Int64, ::Int64, ::Bool, ::Nothing, ::Bool, ::String, ::Bool, ::Bool, ::Bool, ::Bool, ::Bool, ::Bool, ::Float64, ::typeof(tssos_first), ::Array{Polynomial{true,Int64},1}, ::Array{PolyVar{true},1}, ::Int64) at /home/hoanganh/.julia/packages/TSSOS/N4zjL/src/blockpop_cons.jl:32",
      " [11] (::TSSOS.var\"#kw##tssos_first\")(::NamedTuple{(:numeq, :TS),Tuple{Int64,String}}, ::typeof(tssos_first), ::Array{Polynomial{true,Int64},1}, ::Array{PolyVar{true},1}, ::Int64) at ./none:0",
      " [12] top-level scope at In[18]:6"
     ]
    }
   ],
   "source": [
    "using TSSOS\n",
    "using DynamicPolynomials\n",
    "@polyvar x[1:3]\n",
    "f_1=1+x[1]^4+x[2]^4+x[3]^4+x[1]*x[2]*x[3]+x[2]\n",
    "g_1=1-sum(x.^2)\n",
    "opt,sol,data=tssos_first([f_1,g_1],x,2,numeq=1,TS=\"block\")"
   ]
  },
  {
   "cell_type": "code",
   "execution_count": 20,
   "metadata": {},
   "outputs": [
    {
     "ename": "ErrorException",
     "evalue": "`mutable_operate!(removeleadingterm, ::Polynomial{true,Float64})` is not implemented yet.",
     "output_type": "error",
     "traceback": [
      "`mutable_operate!(removeleadingterm, ::Polynomial{true,Float64})` is not implemented yet.",
      "",
      "Stacktrace:",
      " [1] error(::String, ::String, ::String) at ./error.jl:42",
      " [2] mutable_operate_fallback(::MutableArithmetics.IsMutable, ::Function, ::Polynomial{true,Float64}) at /home/hoanganh/.julia/packages/MutableArithmetics/NuiNA/src/interface.jl:210",
      " [3] mutable_operate!(::Function, ::Polynomial{true,Float64}) at /home/hoanganh/.julia/packages/MutableArithmetics/NuiNA/src/interface.jl:221",
      " [4] operate_fallback!(::MutableArithmetics.IsMutable, ::Function, ::Polynomial{true,Float64}) at /home/hoanganh/.julia/packages/MutableArithmetics/NuiNA/src/interface.jl:278",
      " [5] operate!(::Function, ::Polynomial{true,Float64}) at /home/hoanganh/.julia/packages/MutableArithmetics/NuiNA/src/interface.jl:271",
      " [6] #divrem#94(::Base.Iterators.Pairs{Union{},Union{},Tuple{},NamedTuple{(),Tuple{}}}, ::typeof(divrem), ::Polynomial{true,Int64}, ::Array{Polynomial{true,Int64},1}) at /home/hoanganh/.julia/packages/MultivariatePolynomials/CZWzD/src/division.jl:102",
      " [7] divrem at /home/hoanganh/.julia/packages/MultivariatePolynomials/CZWzD/src/division.jl:65 [inlined]",
      " [8] #rem#92 at /home/hoanganh/.julia/packages/MultivariatePolynomials/CZWzD/src/division.jl:31 [inlined]",
      " [9] rem at /home/hoanganh/.julia/packages/MultivariatePolynomials/CZWzD/src/division.jl:31 [inlined]",
      " [10] #tssos_first#66(::Int64, ::Int64, ::Bool, ::Nothing, ::Bool, ::String, ::Bool, ::Bool, ::Bool, ::Bool, ::Bool, ::Bool, ::Float64, ::typeof(tssos_first), ::Array{Polynomial{true,Int64},1}, ::Array{PolyVar{true},1}, ::Int64) at /home/hoanganh/.julia/packages/TSSOS/N4zjL/src/blockpop_cons.jl:32",
      " [11] (::TSSOS.var\"#kw##tssos_first\")(::NamedTuple{(:numeq, :TS),Tuple{Int64,String}}, ::typeof(tssos_first), ::Array{Polynomial{true,Int64},1}, ::Array{PolyVar{true},1}, ::Int64) at ./none:0",
      " [12] top-level scope at In[20]:7"
     ]
    }
   ],
   "source": [
    "@polyvar x[1:3]\n",
    "f=1+x[1]^4+x[2]^4+x[3]^4+x[1]*x[2]*x[3]+x[2]\n",
    "g_1=1-x[1]^2-2*x[2]^2\n",
    "g_2=x[2]^2+x[3]^2-1\n",
    "pop=[f,g_1,g_2]\n",
    "d=2 # the relaxation order\n",
    "opt,sol,data=tssos_first(pop,x,d,numeq=1,TS=\"MD\")"
   ]
  },
  {
   "cell_type": "code",
   "execution_count": 21,
   "metadata": {},
   "outputs": [
    {
     "data": {
      "text/plain": [
       "8-element Array{Int64,1}:\n",
       " 1\n",
       " 2\n",
       " 4\n",
       " 5\n",
       " 6\n",
       " 7\n",
       " 8\n",
       " 9"
      ]
     },
     "execution_count": 21,
     "metadata": {},
     "output_type": "execute_result"
    }
   ],
   "source": [
    "union(1:2,4:7,8:9)"
   ]
  },
  {
   "cell_type": "code",
   "execution_count": null,
   "metadata": {},
   "outputs": [],
   "source": []
  }
 ],
 "metadata": {
  "kernelspec": {
   "display_name": "Julia 1.3.0",
   "language": "julia",
   "name": "julia-1.3"
  },
  "language_info": {
   "file_extension": ".jl",
   "mimetype": "application/julia",
   "name": "julia",
   "version": "1.3.0"
  }
 },
 "nbformat": 4,
 "nbformat_minor": 2
}
