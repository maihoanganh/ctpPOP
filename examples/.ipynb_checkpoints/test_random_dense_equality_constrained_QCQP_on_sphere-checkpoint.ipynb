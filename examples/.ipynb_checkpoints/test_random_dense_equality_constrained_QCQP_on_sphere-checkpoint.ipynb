{
 "cells": [
  {
   "cell_type": "code",
   "execution_count": 1,
   "metadata": {},
   "outputs": [
    {
     "name": "stdout",
     "output_type": "stream",
     "text": [
      "***Problem setting***\n",
      "Number of variable: n=5\n",
      "====================\n",
      "Number of equality constraints: l_h=3\n",
      "====================\n",
      "Relaxed order: k=1\n"
     ]
    }
   ],
   "source": [
    "using DynamicPolynomials\n",
    "\n",
    "println(\"***Problem setting***\")\n",
    "\n",
    "n=5\n",
    "\n",
    "l=ceil(Int32, n/4)\n",
    "\n",
    "println(\"Number of variable: n=\",n)\n",
    "println(\"====================\")\n",
    "\n",
    "@polyvar x[1:n]# variables\n",
    "\n",
    "function generate_random_poly(v::Vector{Monomial{true}})\n",
    "    c=2*rand(Float64,length(v)).-1\n",
    "    return c'*v\n",
    "end\n",
    "\n",
    "R=1.0\n",
    "\n",
    "function generate_objective_and_constraints(x)\n",
    "    # random quadratic objective function f\n",
    "    v=reverse(monomials(x,0:2))\n",
    "    f=generate_random_poly(v)\n",
    "\n",
    "\n",
    "    # unit sphere constraint\n",
    "    h=[R-sum(x.^2)] #type of coefficients of each polynomial must be float\n",
    "\n",
    "    # random quadratic equality constraints\n",
    "    randx=2*rand(n).-1# create a feasible solution\n",
    "    randx=randx./sqrt(sum(randx.^2))\n",
    "\n",
    "\n",
    "    for j in 1:l\n",
    "        push!(h,generate_random_poly(v[2:end]))\n",
    "        h[end]-=h[end](x => randx) #make constraints feasible\n",
    "    end\n",
    "    l_h=length(h)\n",
    "\n",
    "    println(\"Number of equality constraints: l_h=\",l_h)\n",
    "    println(\"====================\")\n",
    "    return f,h\n",
    "end\n",
    "\n",
    "\n",
    "f,h=generate_objective_and_constraints(x)\n",
    "\n",
    "k=Int64(1)\n",
    "\n",
    "println(\"Relaxed order: k=\",k)"
   ]
  },
  {
   "cell_type": "code",
   "execution_count": 25,
   "metadata": {},
   "outputs": [
    {
     "name": "stdout",
     "output_type": "stream",
     "text": [
      "**Convert moment relaxation to standard SDP:\n",
      "  Size of psd matrix: sk=6\n",
      "  Number of equality trace constraints: m=4\n",
      "  0.048853 seconds (51.80 k allocations: 2.643 MiB)\n",
      "**LMBM solver:\n",
      "---------------\n",
      "| Parameters: |\n",
      "---------------\n",
      "n:       4\n",
      "maxtime: 300000.000000\n",
      "na:      2\n",
      "mcu:     5\n",
      "mc:      7\n",
      "rpar: \n",
      "ipar: \n",
      "-----------\n",
      "| Output: |\n",
      "-----------\n",
      "Termination:     3\n",
      "N. iter.:        81\n",
      "N. func. eval.:  220\n",
      "Final value:     1.831502\n",
      "Execution time:  0.076172\n",
      "  0.244275 seconds (278.50 k allocations: 15.911 MiB)\n",
      "------------------------------------\n",
      "**Numerical result:\n",
      "====================================\n",
      "opt_val=-1.8315024013178813\n",
      "====================================\n",
      "Dimension of the null space of Gram matrix = 2\n",
      "  0.000196 seconds (187 allocations: 17.156 KiB)\n",
      "  0.293784 seconds (331.49 k allocations: 18.591 MiB)\n"
     ]
    },
    {
     "data": {
      "text/plain": [
       "(-1.8315024013178813, Array{Float64,1}[])"
      ]
     },
     "execution_count": 25,
     "metadata": {},
     "output_type": "execute_result"
    }
   ],
   "source": [
    "include(\"../src/SpectralPOP.jl\") \n",
    "using .SpectralPOP\n",
    "\n",
    "opt_val,opt_sol = SpectralPOP.CTP_POP(x,f,h,k,R;method=\"LMBM\",EigAlg=\"Arpack\",tol=1e-5) #Limited memory bundle method"
   ]
  },
  {
   "cell_type": "code",
   "execution_count": 26,
   "metadata": {
    "scrolled": true
   },
   "outputs": [
    {
     "name": "stdout",
     "output_type": "stream",
     "text": [
      "**Convert moment relaxation to standard SDP:\n",
      "  Size of psd matrix: sk=6\n",
      "  Number of equality trace constraints: m=4\n",
      "  0.000354 seconds (1.60 k allocations: 143.703 KiB)\n",
      "**SketchyCGAL solver:\n",
      "- SketchyCGAL SDP Solver - Beta.V.0.0\n",
      "--------------------------\n",
      " iter=1 \n",
      " stopObj=2.9659552471994504 \n",
      " stopFeas=1.0 \n",
      " primalObj=-2.046125880991506 \n",
      "--------------------------\n",
      " iter=2 \n",
      " stopObj=7.0999573654267625 \n",
      " stopFeas=0.8325452788686959 \n",
      " primalObj=-2.601766722603206 \n",
      "--------------------------\n",
      " iter=4 \n",
      " stopObj=4.190999993046546 \n",
      " stopFeas=0.6141060054597697 \n",
      " primalObj=-1.6063484300443014 \n",
      "--------------------------\n",
      " iter=8 \n",
      " stopObj=2.322316192491186 \n",
      " stopFeas=0.3946936790703831 \n",
      " primalObj=-1.8124189536980517 \n",
      "--------------------------\n",
      " iter=16 \n",
      " stopObj=2.2789325138413767 \n",
      " stopFeas=0.25509711466936325 \n",
      " primalObj=-1.720036172410461 \n",
      "--------------------------\n",
      " iter=32 \n",
      " stopObj=1.64282877114394 \n",
      " stopFeas=0.09816868685438516 \n",
      " primalObj=-1.6647086805932452 \n",
      "--------------------------\n",
      " iter=64 \n",
      " stopObj=1.0581353878815318 \n",
      " stopFeas=0.047471800739235834 \n",
      " primalObj=-1.7277051159547365 \n",
      "--------------------------\n",
      " iter=128 \n",
      " stopObj=0.6720371858120311 \n",
      " stopFeas=0.02208135052193824 \n",
      " primalObj=-1.7501244111501912 \n",
      "--------------------------\n",
      " iter=256 \n",
      " stopObj=0.10926101138008315 \n",
      " stopFeas=0.011010526604794865 \n",
      " primalObj=-1.7723617224838473 \n",
      "--------------------------\n",
      " iter=512 \n",
      " stopObj=0.34852926542261153 \n",
      " stopFeas=0.005237845782215617 \n",
      " primalObj=-1.7934330106627605 \n",
      "* status = stopping criteria met\n",
      "  0.116568 seconds (321.94 k allocations: 31.938 MiB)\n",
      "------------------------------------\n",
      "**Numerical result:\n",
      "====================================\n",
      "opt_val=-1.799048361227365\n",
      "====================================\n",
      "Rank of moment matrix = 6\n",
      "  0.000037 seconds (80 allocations: 5.344 KiB)\n",
      "  0.117412 seconds (324.64 k allocations: 32.105 MiB)\n"
     ]
    },
    {
     "data": {
      "text/plain": [
       "(-1.799048361227365, Array{Float64,1}[])"
      ]
     },
     "execution_count": 26,
     "metadata": {},
     "output_type": "execute_result"
    }
   ],
   "source": [
    " opt_val,opt_sol = SpectralPOP.CTP_POP(x,f,h,k,R;method=\"SketchyCGAL\",EigAlg=\"Normal\",tol=1e-3)"
   ]
  },
  {
   "cell_type": "code",
   "execution_count": 27,
   "metadata": {
    "scrolled": true
   },
   "outputs": [
    {
     "name": "stdout",
     "output_type": "stream",
     "text": [
      "**SumOfSquares+Mosek:\n",
      "OPTIMAL\n",
      "opt_val=-1.831502376340787\n",
      "  0.010551 seconds (10.40 k allocations: 969.547 KiB)\n"
     ]
    },
    {
     "name": "stderr",
     "output_type": "stream",
     "text": [
      "WARNING: replacing module SpectralPOP.\n"
     ]
    },
    {
     "data": {
      "text/plain": [
       "-1.831502376340787"
      ]
     },
     "execution_count": 27,
     "metadata": {},
     "output_type": "execute_result"
    }
   ],
   "source": [
    "include(\"../src/SpectralPOP.jl\")\n",
    "using .SpectralPOP\n",
    "\n",
    "g=Vector{Polynomial{true,Float64}}([])\n",
    "opt_val = SpectralPOP.SumofSquares_POP(x,f,g,h,k) # SumOfSquares.jl + Mosek"
   ]
  },
  {
   "cell_type": "code",
   "execution_count": 28,
   "metadata": {
    "scrolled": true
   },
   "outputs": [
    {
     "name": "stdout",
     "output_type": "stream",
     "text": [
      "**SumOfSquares+Mosek:\n",
      "OPTIMAL\n",
      "opt_val=-1.8315023763354146\n",
      "nothing\n",
      "  0.266491 seconds (306.41 k allocations: 14.999 MiB)\n"
     ]
    },
    {
     "name": "stderr",
     "output_type": "stream",
     "text": [
      "WARNING: replacing module SpectralPOP.\n"
     ]
    },
    {
     "data": {
      "text/plain": [
       "(-1.8315023763354146, Float64[])"
      ]
     },
     "execution_count": 28,
     "metadata": {},
     "output_type": "execute_result"
    }
   ],
   "source": [
    "include(\"../src/SpectralPOP.jl\")\n",
    "using .SpectralPOP\n",
    "\n",
    "g=Vector{Polynomial{true,Float64}}([])\n",
    "\n",
    "opt_val,opt_sol = SpectralPOP.SumofSquares_POP_WithExtraction(x,f,g,h,k) # SumOfSquares + Mosek"
   ]
  },
  {
   "cell_type": "code",
   "execution_count": null,
   "metadata": {},
   "outputs": [],
   "source": []
  }
 ],
 "metadata": {
  "kernelspec": {
   "display_name": "Julia 1.3.0",
   "language": "julia",
   "name": "julia-1.3"
  },
  "language_info": {
   "file_extension": ".jl",
   "mimetype": "application/julia",
   "name": "julia",
   "version": "1.3.0"
  }
 },
 "nbformat": 4,
 "nbformat_minor": 2
}
