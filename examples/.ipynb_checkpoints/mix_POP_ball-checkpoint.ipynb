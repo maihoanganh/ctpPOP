{
 "cells": [
  {
   "cell_type": "code",
   "execution_count": 42,
   "metadata": {},
   "outputs": [
    {
     "name": "stdout",
     "output_type": "stream",
     "text": [
      "***Problem setting***\n",
      "Number of variable: n=1000\n",
      "====================\n",
      "Number of inequality constraints: m=101\n",
      "====================\n",
      "Number of equality constraints: l=143\n"
     ]
    }
   ],
   "source": [
    "using DynamicPolynomials, LinearAlgebra, SparseArrays\n",
    "\n",
    "println(\"***Problem setting***\")\n",
    "\n",
    "n=1000\n",
    "println(\"Number of variable: n=\",n)\n",
    "println(\"====================\")\n",
    "\n",
    "@ncpolyvar x[1:n]# variables\n",
    "\n",
    "function star_algebra(mom)\n",
    "    if mom==1\n",
    "        return mom\n",
    "    else\n",
    "        ind=mom.z .>0\n",
    "        vars=mom.vars[ind]\n",
    "        exp=mom.z[ind]\n",
    "        return prod(vars[i]^exp[i] for i in length(exp):-1:1)\n",
    "    end\n",
    "end\n",
    "\n",
    "function generate_random_poly(T::UnitRange{Int64})\n",
    "    v=reverse(monomials(x[T],2))\n",
    "    v+=star_algebra.(v)\n",
    "    v=v./2\n",
    "    c=2*rand(Float64,length(v)).-1\n",
    "    return c'*v\n",
    "end\n",
    "\n",
    "# unit sphere constraint\n",
    "u=10\n",
    "p=floor(Int64,n/u)+1\n",
    "\n",
    "I=Vector{UnitRange{Int64}}(undef,p)\n",
    "I[1]=1:u\n",
    "I[2:p-1]=[u*(j-1):u*j for j in 2:p-1]\n",
    "I[p]=u*(p-1):n\n",
    "\n",
    "# random quadratic objective function f\n",
    "vecf=[generate_random_poly(I[j]) for j in 1:p]\n",
    "f=sum(vecf)\n",
    "\n",
    "g=[1.0-sum(x[I[j]].^2) for j in 1:p]\n",
    "J=[j:j for j in 1:p]\n",
    "\n",
    "m=length(g)\n",
    "println(\"Number of inequality constraints: m=\",m)\n",
    "println(\"====================\")\n",
    "\n",
    "l=ceil(Int64, n/7)\n",
    "\n",
    "r=floor(Int64,l/p)\n",
    "W=[(j-1)*r+1:j*r for j in 1:p-1]\n",
    "append!(W,[(p-1)*r+1:l])\n",
    "\n",
    "h=Vector{Polynomial{false,Float64}}(undef,l)\n",
    "\n",
    "randx=2*rand(Float64,n).-1\n",
    "for j in 1:p\n",
    "    randx[I[j]]=randx[I[j]]./norm(randx[I[j]])\n",
    "    randx[I[j]]=rand(Float64,1)[1]*randx[I[j]]\n",
    "end\n",
    "\n",
    "for j in 1:p\n",
    "    for i in W[j]\n",
    "        h[i]=generate_random_poly(I[j])\n",
    "        h[i]-=h[i](x => randx) #make constraints feasible\n",
    "    end\n",
    "end\n",
    "\n",
    "l=length(h)\n",
    "println(\"Number of equality constraints: l=\",l)"
   ]
  },
  {
   "cell_type": "code",
   "execution_count": 43,
   "metadata": {},
   "outputs": [
    {
     "name": "stderr",
     "output_type": "stream",
     "text": [
      "WARNING: replacing module ctpNCPOP.\n"
     ]
    }
   ],
   "source": [
    "include(\"../src/ctpNCPOP.jl\")\n",
    "using .ctpNCPOP\n",
    "\n",
    "n,m,l,lmon_g,supp_g,coe_g,lmon_h,supp_h,coe_h,lmon_f,supp_f,coe_f,dg,dh=ctpNCPOP.get_info(x,f,g,h);"
   ]
  },
  {
   "cell_type": "code",
   "execution_count": 44,
   "metadata": {},
   "outputs": [
    {
     "name": "stdout",
     "output_type": "stream",
     "text": [
      "Relaxed order: k=2\n",
      "====================\n",
      "Term sparse order: t=1\n"
     ]
    }
   ],
   "source": [
    "k=2\n",
    "\n",
    "println(\"Relaxed order: k=\",k)\n",
    "println(\"====================\")\n",
    "t=1\n",
    "\n",
    "println(\"Term sparse order: t=\",t)"
   ]
  },
  {
   "cell_type": "code",
   "execution_count": 45,
   "metadata": {},
   "outputs": [
    {
     "name": "stdout",
     "output_type": "stream",
     "text": [
      "------------------------------------------------------\n",
      "The clique sizes of varibles:\n",
      "[11, 10]\n",
      "[99, 1]\n",
      "------------------------------------------------------\n",
      "  Number of cliques: p=100\n",
      "  Largest clique size: u=11\n",
      "  Largest constant trace: a=5.0\n",
      "  Number of blocks: omega=402\n",
      "  Number of equality consraints: zeta=28703\n",
      "  Size of the largest block: s^max=122\n",
      "Modeling time:\n",
      " 40.936714 seconds (520.45 M allocations: 49.202 GiB, 18.86% gc time)\n",
      "iter=1   val=-685.1430054202066   gap=8.284485655580802e-16   feas=43.25880860338111\n",
      "iter=2   val=-587.7521847194723   gap=0.18904142673933214   feas=33.967823653402924\n",
      "iter=4   val=-485.9310666837198   gap=0.31916220992414446   feas=26.176189092379374\n",
      "iter=8   val=-333.5508286032071   gap=0.14351981312564943   feas=12.974162746916912\n",
      "iter=16   val=-241.00998561990681   gap=0.10011444446800137   feas=4.6074282900857115\n",
      "iter=32   val=-236.5542884406266   gap=0.05317757105809195   feas=2.710847311385423\n",
      "iter=64   val=-231.84099648927824   gap=0.016134056694397575   feas=1.781822028701814\n",
      "iter=128   val=-224.58991288487582   gap=0.005249849651812402   feas=0.9812518405541607\n",
      "iter=256   val=-216.81269278830212   gap=0.01135939826792082   feas=0.437119006465035\n",
      "iter=512   val=-213.9429523244315   gap=0.016495157619906782   feas=0.18185090916113525\n",
      "iter=1024   val=-212.94192116919035   gap=0.012213960028015114   feas=0.07762563234804237\n",
      "iter=2048   val=-212.948252767246   gap=0.007590216149014198   feas=0.04109116223539004\n",
      "iter=4096   val=-212.94425934863102   gap=0.007880414470766487   feas=0.01814508712230207\n",
      "iter=7179   val=-213.0082334878696   gap=0.004428480096887224   feas=0.009872418835423407\n",
      "tol satisfies!!!\n",
      "\n",
      "####################################\n",
      "opt_val = -213.0082334878696\n",
      "####################################\n",
      "Solving time:\n",
      "858.754115 seconds (400.24 M allocations: 443.512 GiB, 2.00% gc time)\n",
      "Total time:\n",
      "899.691050 seconds (920.69 M allocations: 492.714 GiB, 2.76% gc time)\n"
     ]
    },
    {
     "name": "stderr",
     "output_type": "stream",
     "text": [
      "WARNING: replacing module ctpNCPOP.\n"
     ]
    },
    {
     "data": {
      "text/plain": [
       "-213.0082334878696"
      ]
     },
     "execution_count": 45,
     "metadata": {},
     "output_type": "execute_result"
    }
   ],
   "source": [
    "include(\"../src/ctpNCPOP.jl\")\n",
    "using .ctpNCPOP\n",
    "\n",
    "opt_val1=ctpNCPOP.POP_mix_CGAL(n,m,l,lmon_g,supp_g,coe_g,lmon_h,supp_h,coe_h,lmon_f,supp_f,coe_f,dg,dh,k,t,\n",
    "    maxit=Int64(1e10),tol=5e-3,use_eqcons_to_get_constant_trace=false,check_tol_each_iter=true)"
   ]
  },
  {
   "cell_type": "code",
   "execution_count": null,
   "metadata": {},
   "outputs": [],
   "source": []
  },
  {
   "cell_type": "code",
   "execution_count": 46,
   "metadata": {},
   "outputs": [
    {
     "name": "stdout",
     "output_type": "stream",
     "text": [
      "------------------------------------------------------\n",
      "The clique sizes of varibles:\n",
      "[11, 10]\n",
      "[99, 1]\n",
      "------------------------------------------------------\n",
      "Problem\n",
      "  Name                   :                 \n",
      "  Objective sense        : max             \n",
      "  Type                   : CONIC (conic optimization problem)\n",
      "  Constraints            : 742161          \n",
      "  Cones                  : 0               \n",
      "  Scalar variables       : 245             \n",
      "  Matrix variables       : 444             \n",
      "  Integer variables      : 0               \n",
      "\n",
      "Optimizer started.\n",
      "Presolve started.\n",
      "Linear dependency checker started.\n",
      "Linear dependency checker terminated.\n",
      "Eliminator started.\n",
      "Freed constraints in eliminator : 0\n",
      "Eliminator terminated.\n",
      "Eliminator - tries                  : 1                 time                   : 0.00            \n",
      "Lin. dep.  - tries                  : 1                 time                   : 0.08            \n",
      "Lin. dep.  - number                 : 0               \n",
      "Presolve terminated. Time: 0.15    \n",
      "Problem\n",
      "  Name                   :                 \n",
      "  Objective sense        : max             \n",
      "  Type                   : CONIC (conic optimization problem)\n",
      "  Constraints            : 742161          \n",
      "  Cones                  : 0               \n",
      "  Scalar variables       : 245             \n",
      "  Matrix variables       : 444             \n",
      "  Integer variables      : 0               \n",
      "\n",
      "Optimizer  - threads                : 4               \n",
      "Optimizer  - solved problem         : the primal      \n",
      "Optimizer  - Constraints            : 742161\n",
      "Optimizer  - Cones                  : 1\n",
      "Optimizer  - Scalar variables       : 204               conic                  : 3               \n",
      "Optimizer  - Semi-definite variables: 444               scalarized             : 770619          \n",
      "Factor     - setup time             : 559.46            dense det. time        : 0.00            \n",
      "Factor     - ML order time          : 333.60            GP order time          : 0.00            \n",
      "Factor     - nonzeros before factor : 2.76e+09          after factor           : 2.76e+09        \n",
      "Factor     - dense dim.             : 0                 flops                  : 1.37e+13        \n",
      "ITE PFEAS    DFEAS    GFEAS    PRSTATUS   POBJ              DOBJ              MU       TIME  \n",
      "0   1.0e+02  1.0e+00  1.0e+00  0.00e+00   0.000000000e+00   0.000000000e+00   1.0e+00  560.89\n",
      "1   8.6e+01  8.6e-01  9.3e-01  -9.93e-01  -1.361104602e+00  -1.515954786e+00  8.6e-01  895.74\n",
      "2   8.5e+01  8.5e-01  8.3e-01  -7.72e-01  -7.547392462e+01  -7.552875848e+01  8.5e-01  1241.23\n",
      "3   4.5e+01  4.5e-01  4.4e-01  -5.74e-01  -1.726039760e+02  -1.729016860e+02  4.5e-01  1587.00\n",
      "4   1.1e+01  1.1e-01  4.1e-02  5.95e-01   -2.552063543e+02  -2.551969253e+02  1.1e-01  1940.18\n",
      "5   2.2e+00  2.2e-02  2.2e-03  1.71e+00   -2.242034644e+02  -2.241960902e+02  2.2e-02  2326.17\n",
      "6   1.0e+00  1.0e-02  7.1e-04  1.49e+00   -2.179775928e+02  -2.179749816e+02  1.0e-02  2686.65\n",
      "7   1.5e-01  1.5e-03  3.9e-05  1.18e+00   -2.163356737e+02  -2.163353791e+02  1.5e-03  3060.45\n",
      "8   1.0e-01  1.0e-03  2.1e-05  1.03e+00   -2.163834312e+02  -2.163832356e+02  1.0e-03  3394.39\n",
      "9   1.3e-02  1.3e-04  9.8e-07  1.02e+00   -2.164128700e+02  -2.164128405e+02  1.3e-04  3754.89\n",
      "10  6.9e-03  6.9e-05  3.7e-07  1.00e+00   -2.164220205e+02  -2.164220053e+02  6.9e-05  4091.60\n",
      "11  1.2e-03  1.2e-05  2.8e-08  1.00e+00   -2.164295560e+02  -2.164295534e+02  1.2e-05  4438.11\n",
      "12  7.7e-04  7.7e-06  1.4e-08  1.00e+00   -2.164303131e+02  -2.164303115e+02  7.7e-06  4764.82\n",
      "13  1.5e-04  1.5e-06  1.2e-09  1.00e+00   -2.164313745e+02  -2.164313742e+02  1.5e-06  5117.11\n",
      "14  2.7e-05  2.6e-07  9.2e-11  1.00e+00   -2.164315988e+02  -2.164315987e+02  2.6e-07  5472.43\n",
      "15  4.3e-06  3.1e-08  3.7e-12  1.00e+00   -2.164316423e+02  -2.164316423e+02  3.1e-08  5819.91\n",
      "16  5.3e-08  1.2e-09  6.6e-15  1.00e+00   -2.164316490e+02  -2.164316490e+02  4.6e-10  6192.88\n",
      "Optimizer terminated. Time: 6195.61 \n",
      "\n",
      "optimum = -216.43164896050698\n",
      "6256.310171 seconds (1.09 G allocations: 88.707 GiB, 0.23% gc time)\n"
     ]
    }
   ],
   "source": [
    "using NCTSSOS\n",
    "\n",
    "@time begin\n",
    "\n",
    "j=1\n",
    "opt,data=cs_nctssos_first(Vector{Vector{Vector{UInt16}}}([[supp_f];supp_g;supp_h]),[[coe_f];coe_g;coe_h],\n",
    "        n,k,[dg;dh],numeq=l,minimize=true,obj=\"eigen\",TS=\"block\",QUIET=false);\n",
    "while j <= t-1\n",
    "    opt,data=cs_nctssos_higher!(data,TS=\"MD\")\n",
    "    j+=1\n",
    "end\n",
    "    \n",
    "end"
   ]
  },
  {
   "cell_type": "code",
   "execution_count": null,
   "metadata": {},
   "outputs": [],
   "source": []
  },
  {
   "cell_type": "code",
   "execution_count": null,
   "metadata": {},
   "outputs": [],
   "source": []
  }
 ],
 "metadata": {
  "kernelspec": {
   "display_name": "Julia 1.3.0",
   "language": "julia",
   "name": "julia-1.3"
  },
  "language_info": {
   "file_extension": ".jl",
   "mimetype": "application/julia",
   "name": "julia",
   "version": "1.3.0"
  }
 },
 "nbformat": 4,
 "nbformat_minor": 2
}
