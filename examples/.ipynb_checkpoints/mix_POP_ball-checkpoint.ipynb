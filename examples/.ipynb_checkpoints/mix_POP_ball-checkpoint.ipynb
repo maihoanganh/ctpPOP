{
 "cells": [
  {
   "cell_type": "code",
   "execution_count": 9,
   "metadata": {},
   "outputs": [
    {
     "name": "stdout",
     "output_type": "stream",
     "text": [
      "***Problem setting***\n",
      "Number of variable: n=6\n",
      "====================\n",
      "Number of inequality constraints: m=4\n",
      "====================\n",
      "Number of equality constraints: l=1\n"
     ]
    }
   ],
   "source": [
    "using DynamicPolynomials, LinearAlgebra, SparseArrays\n",
    "\n",
    "println(\"***Problem setting***\")\n",
    "\n",
    "n=6\n",
    "println(\"Number of variable: n=\",n)\n",
    "println(\"====================\")\n",
    "\n",
    "@polyvar x[1:n]# variables\n",
    "\n",
    "function generate_random_poly(T::UnitRange{Int64})\n",
    "    v=reverse(monomials(x[T],2))\n",
    "    c=2*rand(Float64,length(v)).-1\n",
    "    return c'*v\n",
    "end\n",
    "\n",
    "# unit sphere constraint\n",
    "u=2\n",
    "p=floor(Int64,n/u)+1\n",
    "\n",
    "I=Vector{UnitRange{Int64}}(undef,p)\n",
    "I[1]=1:u\n",
    "I[2:p-1]=[u*(j-1):u*j for j in 2:p-1]\n",
    "I[p]=u*(p-1):n\n",
    "\n",
    "# random quadratic objective function f\n",
    "vecf=[generate_random_poly(I[j]) for j in 1:p]\n",
    "f=sum(vecf)\n",
    "\n",
    "g=[1.0-sum(x[I[j]].^2) for j in 1:p]\n",
    "J=[j:j for j in 1:p]\n",
    "\n",
    "m=length(g)\n",
    "println(\"Number of inequality constraints: m=\",m)\n",
    "println(\"====================\")\n",
    "\n",
    "l=ceil(Int64, n/7)\n",
    "\n",
    "r=floor(Int64,l/p)\n",
    "W=[(j-1)*r+1:j*r for j in 1:p-1]\n",
    "append!(W,[(p-1)*r+1:l])\n",
    "\n",
    "h=Vector{Polynomial{true,Float64}}(undef,l)\n",
    "\n",
    "randx=2*rand(Float64,n).-1\n",
    "for j in 1:p\n",
    "    randx[I[j]]=randx[I[j]]./norm(randx[I[j]])\n",
    "    randx[I[j]]=rand(Float64,1)[1]*randx[I[j]]\n",
    "end\n",
    "\n",
    "for j in 1:p\n",
    "    for i in W[j]\n",
    "        h[i]=generate_random_poly(I[j])\n",
    "        h[i]-=h[i](x => randx) #make constraints feasible\n",
    "    end\n",
    "end\n",
    "\n",
    "l=length(h)\n",
    "println(\"Number of equality constraints: l=\",l)"
   ]
  },
  {
   "cell_type": "code",
   "execution_count": 10,
   "metadata": {},
   "outputs": [
    {
     "name": "stderr",
     "output_type": "stream",
     "text": [
      "WARNING: replacing module ctpPOP.\n"
     ]
    }
   ],
   "source": [
    "include(\"../src/ctpPOP.jl\")\n",
    "using .ctpPOP\n",
    "\n",
    "n,m,l,lmon_g,supp_g,coe_g,lmon_h,supp_h,coe_h,lmon_f,supp_f,coe_f,dg,dh=ctpPOP.get_info(x,f,g,h,sparse=true);"
   ]
  },
  {
   "cell_type": "code",
   "execution_count": 11,
   "metadata": {},
   "outputs": [
    {
     "name": "stdout",
     "output_type": "stream",
     "text": [
      "Relaxed order: k=2\n",
      "====================\n",
      "Term sparse order: t=2\n"
     ]
    }
   ],
   "source": [
    "k=2\n",
    "\n",
    "println(\"Relaxed order: k=\",k)\n",
    "println(\"====================\")\n",
    "t=2\n",
    "\n",
    "println(\"Term sparse order: t=\",t)"
   ]
  },
  {
   "cell_type": "code",
   "execution_count": 12,
   "metadata": {},
   "outputs": [
    {
     "name": "stdout",
     "output_type": "stream",
     "text": [
      "------------------------------------------------------\n",
      "The clique sizes of varibles:\n",
      "[3, 2]\n",
      "[2, 1]\n",
      "------------------------------------------------------\n",
      "Problem\n",
      "  Name                   :                 \n",
      "  Objective sense        : max             \n",
      "  Type                   : CONIC (conic optimization problem)\n",
      "  Constraints            : 53              \n",
      "  Cones                  : 0               \n",
      "  Scalar variables       : 12              \n",
      "  Matrix variables       : 13              \n",
      "  Integer variables      : 0               \n",
      "\n",
      "Optimizer started.\n",
      "Presolve started.\n",
      "Linear dependency checker started.\n",
      "Linear dependency checker terminated.\n",
      "Eliminator started.\n",
      "Freed constraints in eliminator : 0\n",
      "Eliminator terminated.\n",
      "Eliminator - tries                  : 1                 time                   : 0.00            \n",
      "Lin. dep.  - tries                  : 1                 time                   : 0.00            \n",
      "Lin. dep.  - number                 : 0               \n",
      "Presolve terminated. Time: 0.00    \n",
      "Problem\n",
      "  Name                   :                 \n",
      "  Objective sense        : max             \n",
      "  Type                   : CONIC (conic optimization problem)\n",
      "  Constraints            : 53              \n",
      "  Cones                  : 0               \n",
      "  Scalar variables       : 12              \n",
      "  Matrix variables       : 13              \n",
      "  Integer variables      : 0               \n",
      "\n",
      "Optimizer  - threads                : 4               \n",
      "Optimizer  - solved problem         : the primal      \n",
      "Optimizer  - Constraints            : 53\n",
      "Optimizer  - Cones                  : 3\n",
      "Optimizer  - Scalar variables       : 19                conic                  : 15              \n",
      "Optimizer  - Semi-definite variables: 11                scalarized             : 122             \n",
      "Factor     - setup time             : 0.00              dense det. time        : 0.00            \n",
      "Factor     - ML order time          : 0.00              GP order time          : 0.00            \n",
      "Factor     - nonzeros before factor : 598               after factor           : 696             \n",
      "Factor     - dense dim.             : 0                 flops                  : 2.19e+04        \n",
      "ITE PFEAS    DFEAS    GFEAS    PRSTATUS   POBJ              DOBJ              MU       TIME  \n",
      "0   6.1e+00  1.0e+00  1.0e+00  0.00e+00   0.000000000e+00   0.000000000e+00   1.0e+00  0.00  \n",
      "1   2.9e+00  4.9e-01  2.8e-01  6.20e-01   -6.740647457e-01  -5.459706588e-01  4.9e-01  0.00  \n",
      "2   1.4e+00  2.3e-01  8.9e-02  2.32e+00   -8.112021764e-01  -8.161852819e-01  2.3e-01  0.00  \n",
      "3   3.1e-01  5.1e-02  9.3e-03  1.10e+00   -1.212789180e+00  -1.214944016e+00  5.1e-02  0.00  \n",
      "4   8.4e-02  1.4e-02  1.3e-03  8.98e-01   -1.437425244e+00  -1.437724170e+00  1.4e-02  0.00  \n",
      "5   5.4e-03  8.8e-04  2.1e-05  1.00e+00   -1.498600191e+00  -1.498612013e+00  8.8e-04  0.00  \n",
      "6   8.8e-05  1.4e-05  4.6e-08  1.00e+00   -1.502701121e+00  -1.502701696e+00  1.4e-05  0.00  \n",
      "7   5.4e-06  8.8e-07  6.9e-10  9.99e-01   -1.502749807e+00  -1.502749845e+00  8.8e-07  0.00  \n",
      "8   2.9e-07  4.8e-08  8.7e-12  1.00e+00   -1.502752541e+00  -1.502752544e+00  4.8e-08  0.00  \n",
      "9   3.8e-08  6.3e-09  4.1e-13  1.00e+00   -1.502752688e+00  -1.502752688e+00  6.2e-09  0.01  \n",
      "Optimizer terminated. Time: 0.01    \n",
      "\n",
      "optimum = -1.5027526879732798\n",
      "  0.047247 seconds (24.89 k allocations: 1.884 MiB, 79.99% gc time)\n"
     ]
    },
    {
     "data": {
      "text/plain": [
       "(-1.5027526879732798, nothing, TSSOS.mdata_type(6, 0, 5, [2, 2, 2, 2, 2], SparseMatrixCSC{UInt8,UInt32}[\n",
       "  [1,  1]  =  0x02\n",
       "  [1,  2]  =  0x01\n",
       "  [2,  2]  =  0x01\n",
       "  [2,  3]  =  0x02\n",
       "  [2,  4]  =  0x01\n",
       "  [3,  4]  =  0x01\n",
       "  [2,  5]  =  0x01\n",
       "  [4,  5]  =  0x01\n",
       "  [3,  6]  =  0x02\n",
       "  [3,  7]  =  0x01\n",
       "  [4,  7]  =  0x01\n",
       "  [4,  8]  =  0x02\n",
       "  [4,  9]  =  0x01\n",
       "  [5,  9]  =  0x01\n",
       "  [4, 10]  =  0x01\n",
       "  [6, 10]  =  0x01\n",
       "  [5, 11]  =  0x02\n",
       "  [5, 12]  =  0x01\n",
       "  [6, 12]  =  0x01\n",
       "  [6, 13]  =  0x02, \n",
       "  [1, 1]  =  0x02\n",
       "  [2, 2]  =  0x02, \n",
       "  [2, 1]  =  0x02\n",
       "  [3, 2]  =  0x02\n",
       "  [4, 3]  =  0x02, \n",
       "  [4, 1]  =  0x02\n",
       "  [5, 2]  =  0x02\n",
       "  [6, 3]  =  0x02, \n",
       "  [6, 1]  =  0x02, \n",
       "  [6, 1]  =  0x02], Array{Float64,1}[[-0.2044527852390603, -0.6885604086046793, -0.09204237899655343, 0.37861323857884654, 0.37557832898297194, -0.8005519687531542, -0.14242537661318577, 0.9297262261958363, -0.505800311249986, 0.017370710195381278, -0.14696385743411255, 0.24475032163427102, -0.599465392224074], [-1.0, -1.0, 1.0], [-1.0, -1.0, -1.0, 1.0], [-1.0, -1.0, -1.0, 1.0], [-1.0, 1.0], [-0.5362155704472551, 0.0050817641946979625]], 1, [2, 2, 2], \n",
       "  [4,  2]  =  0x02\n",
       "  [4,  3]  =  0x01\n",
       "  [5,  3]  =  0x01\n",
       "  [5,  4]  =  0x02\n",
       "  [4,  5]  =  0x01\n",
       "  [6,  5]  =  0x01\n",
       "  [5,  6]  =  0x01\n",
       "  [6,  6]  =  0x01\n",
       "  [6,  7]  =  0x02\n",
       "  [4,  8]  =  0x04\n",
       "  [4,  9]  =  0x03\n",
       "  [5,  9]  =  0x01\n",
       "  ⋮\n",
       "  [4, 40]  =  0x03\n",
       "  [3, 41]  =  0x01\n",
       "  [4, 41]  =  0x03\n",
       "  [1, 42]  =  0x02\n",
       "  [1, 43]  =  0x01\n",
       "  [2, 43]  =  0x01\n",
       "  [1, 44]  =  0x04\n",
       "  [1, 45]  =  0x03\n",
       "  [2, 45]  =  0x01\n",
       "  [1, 46]  =  0x02\n",
       "  [2, 46]  =  0x02\n",
       "  [1, 47]  =  0x01\n",
       "  [2, 47]  =  0x03, Array{Array{UInt8,2},1}[[[0x00 0x00 … 0x00 0x00; 0x00 0x00 … 0x00 0x00; 0x00 0x00 … 0x00 0x00], [0x02 0x00 0x00 0x00; 0x00 0x02 0x00 0x00; 0x00 0x00 0x02 0x00], [0x00 0x00; 0x00 0x00; 0x02 0x00], [0x00 0x00; 0x00 0x00; 0x02 0x00]], [[0x00 0x00 … 0x00 0x00; 0x00 0x00 … 0x00 0x00; 0x00 0x00 … 0x00 0x00], [0x02 0x00 0x00 0x00; 0x00 0x02 0x00 0x00; 0x00 0x00 0x02 0x00]], [[0x00 0x00 … 0x00 0x00; 0x00 0x00 … 0x00 0x00], [0x02 0x00 0x00; 0x00 0x02 0x00]]], Array{UInt16,1}[[0x000d, 0x0004, 0x0002, 0x0002], [0x000d, 0x0004], [0x000d, 0x0003]], Array{UInt8,2}[[0x00 0x01 … 0x00 0x00; 0x00 0x00 … 0x01 0x00; 0x00 0x00 … 0x01 0x02], [0x00 0x01 … 0x00 0x00; 0x00 0x00 … 0x01 0x00; 0x00 0x00 … 0x01 0x02], [0x00 0x01 … 0x01 0x00; 0x00 0x00 … 0x01 0x02]], Array{Array{UInt8,2},1}[[[0x00 0x01 0x00 0x00; 0x00 0x00 0x01 0x00; 0x00 0x00 0x00 0x01], [0x00 0x01 0x00 0x00; 0x00 0x00 0x01 0x00; 0x00 0x00 0x00 0x01], [0x00 0x01 0x00 0x00; 0x00 0x00 0x01 0x00; 0x00 0x00 0x00 0x01]], [[0x00 0x01 0x00 0x00; 0x00 0x00 0x01 0x00; 0x00 0x00 0x00 0x01]], [[0x00 0x01 0x00; 0x00 0x00 0x01]]], 3, Array{UInt16,1}[[0x0004, 0x0005, 0x0006], [0x0002, 0x0003, 0x0004], [0x0001, 0x0002]], [3, 3, 2], Array{UInt16,1}[[0x0003, 0x0004, 0x0005], [0x0002], [0x0001]], UInt16[], Array{Array{Array{UInt16,1},1},1}[[[[0x0001, 0x0005, 0x0006, 0x0007, 0x0008, 0x0009, 0x000a], [0x0002, 0x0003, 0x0004]], [[0x0001], [0x0002, 0x0003, 0x0004]], [[0x0001], [0x0002, 0x0003, 0x0004]], [[0x0001], [0x0002, 0x0003, 0x0004]]], [[[0x0001, 0x0005, 0x0006, 0x0007, 0x0008, 0x0009, 0x000a], [0x0002, 0x0003, 0x0004]], [[0x0001], [0x0002, 0x0003, 0x0004]]], [[[0x0001, 0x0004, 0x0005, 0x0006], [0x0002, 0x0003]], [[0x0001], [0x0002, 0x0003]]]], Array{UInt16,1}[[0x0002, 0x0002, 0x0002, 0x0002], [0x0002, 0x0002], [0x0002, 0x0002]], Array{Array{Int64,1},1}[[[7, 3], [1, 3], [1, 3], [1, 3]], [[7, 3], [1, 3]], [[4, 2], [1, 2]]], Array{UInt16,1}[[0x0007, 0x0003], [0x0007, 0x0003], [0x0004, 0x0002]], Array{UInt16,1}[[0x0001, 0x0001], [0x0001, 0x0001], [0x0001, 0x0001]]))"
      ]
     },
     "execution_count": 12,
     "metadata": {},
     "output_type": "execute_result"
    }
   ],
   "source": [
    "using TSSOS\n",
    "\n",
    "\n",
    "@time begin\n",
    "    ~,~,data=cs_tssos_first(Vector{SparseMatrixCSC{UInt8,UInt32}}([[supp_f];supp_g;supp_h]),[[coe_f];coe_g;coe_h],n,k,[dg;dh],numeq=l,CS=\"MD\",TS=\"block\",CTP=false);\n",
    "    for j in 1:t-1\n",
    "        ~,~,data=cs_tssos_higher!(data,TS=\"block\");\n",
    "    end\n",
    "end"
   ]
  },
  {
   "cell_type": "code",
   "execution_count": 13,
   "metadata": {},
   "outputs": [
    {
     "name": "stdout",
     "output_type": "stream",
     "text": [
      "------------------------------------------------------\n",
      "The clique sizes of varibles:\n",
      "[3, 2]\n",
      "[2, 1]\n",
      "------------------------------------------------------\n",
      "  Number of cliques: p=3\n",
      "  Largest clique size: u=3\n"
     ]
    },
    {
     "name": "stderr",
     "output_type": "stream",
     "text": [
      "WARNING: replacing module ctpPOP.\n"
     ]
    },
    {
     "name": "stdout",
     "output_type": "stream",
     "text": [
      "  Largest constant trace: a=5.0\n",
      "  Number of blocks: omega=14\n",
      "  Number of equality consraints: zeta=67\n",
      "  Size of the largest block: s^max=7\n",
      "Modeling time:\n",
      "  0.877344 seconds (1.13 M allocations: 55.748 MiB)\n",
      "iter=1   val=-5.725731422078165   gap=2.64113555526334e-16   feas=10.256090236914911\n",
      "iter=2   val=-1.9085771406927217   gap=0.7144368750511796   feas=3.035584217105014\n",
      "iter=4   val=-2.546685588530511   gap=0.23951607934645383   feas=3.427988793272919\n",
      "iter=8   val=-1.5091949584102378   gap=0.45071956161755056   feas=0.8462720374358751\n",
      "iter=16   val=-1.615104155093557   gap=0.271270269884197   feas=0.6881577494017458\n",
      "iter=32   val=-1.4904698720043656   gap=0.2506846369865074   feas=0.34912793389601493\n",
      "iter=64   val=-1.490332628818983   gap=0.13508453626863845   feas=0.12799344780228664\n",
      "iter=128   val=-1.4995161030424655   gap=0.14442278453514457   feas=0.06652626582791124\n",
      "iter=256   val=-1.5047124276460786   gap=0.09207028352264028   feas=0.037450798036724936\n",
      "iter=512   val=-1.500426763424884   gap=0.05285446051299254   feas=0.018030229652593464\n",
      "iter=1024   val=-1.502714307976856   gap=0.06571055783289623   feas=0.00770663420196003\n",
      "iter=2048   val=-1.5023276206073646   gap=0.013870937252242628   feas=0.005313468750852297\n",
      "iter=2543   val=-1.5024557939071583   gap=0.009106799464246156   feas=0.004126187980880825\n",
      "tol satisfies!!!\n",
      "\n",
      "####################################\n",
      "opt_val = -1.5024557939071583\n",
      "####################################\n",
      "Solving time:\n",
      "  0.858460 seconds (2.18 M allocations: 129.616 MiB, 5.98% gc time)\n",
      "Total time:\n",
      "  1.735967 seconds (3.31 M allocations: 185.376 MiB, 2.96% gc time)\n"
     ]
    },
    {
     "data": {
      "text/plain": [
       "-1.5024557939071583"
      ]
     },
     "execution_count": 13,
     "metadata": {},
     "output_type": "execute_result"
    }
   ],
   "source": [
    "include(\"../src/ctpPOP.jl\")\n",
    "using .ctpPOP\n",
    "\n",
    "opt_val1=ctpPOP.POP_mix_CGAL(n,m,l,lmon_g,supp_g,coe_g,lmon_h,supp_h,coe_h,lmon_f,supp_f,coe_f,dg,dh,k,t,\n",
    "    maxit=Int64(1e10),tol=1e-2,use_eqcons_to_get_constant_trace=false,check_tol_each_iter=true)"
   ]
  },
  {
   "cell_type": "code",
   "execution_count": 14,
   "metadata": {},
   "outputs": [
    {
     "name": "stdout",
     "output_type": "stream",
     "text": [
      "------------------------------------------------------\n",
      "The clique sizes of varibles:\n",
      "[3, 2]\n",
      "[2, 1]\n",
      "------------------------------------------------------\n",
      "  Number of cliques: p=3\n",
      "  Largest clique size: u=3\n"
     ]
    },
    {
     "name": "stderr",
     "output_type": "stream",
     "text": [
      "WARNING: replacing module ctpPOP.\n"
     ]
    },
    {
     "name": "stdout",
     "output_type": "stream",
     "text": [
      "  Largest constant trace: a=5.0\n",
      "  Number of blocks: omega=14\n",
      "  Number of equality consraints: zeta=67\n",
      "  Size of the largest block: s^max=7\n",
      "Modeling time:\n",
      "  0.825282 seconds (1.13 M allocations: 55.739 MiB, 6.35% gc time)\n",
      "**LMBM solver:\n",
      "---------------\n",
      "| Parameters: |\n",
      "---------------\n",
      "n:       67\n",
      "maxtime: 300000.000000\n",
      "na:      2\n",
      "mcu:     5\n",
      "mc:      7\n",
      "rpar: \n",
      "ipar: \n",
      " Warning: MC > MCU. Assigned MC = MCU.\n",
      " Entry to LMBM:\n",
      " NIT=    1  NFE=    1  F= 0.93258688D+00  WK= 0.1055D-01  QK= 0.5275D-02\n",
      " NIT=    2  NFE=    2  F= 0.92203696D+00  WK= 0.1055D-01  QK= 0.5275D-02\n",
      " NIT=    3  NFE=    3  F= 0.91148703D+00  WK= 0.1055D-01  QK= 0.5275D-02\n",
      " NIT=    4  NFE=    4  F= 0.90093710D+00  WK= 0.1055D-01  QK= 0.5275D-02\n",
      " NIT=    5  NFE=    5  F= 0.89038718D+00  WK= 0.1055D-01  QK= 0.5275D-02\n",
      " NIT=    6  NFE=    6  F= 0.87983725D+00  WK= 0.1055D-01  QK= 0.5275D-02\n",
      " NIT=    7  NFE=    8  F= 0.87961112D+00  WK= 0.1055D-01  QK= 0.5275D-02\n",
      " NIT=    8  NFE=   53  F= 0.87961112D+00  WK= 0.1055D-01  QK= 0.5275D-02\n",
      " NIT=    9  NFE=   98  F= 0.87961112D+00  WK= 0.1055D-01  QK= 0.5275D-02\n",
      " NIT=   10  NFE=  143  F= 0.87961112D+00  WK= 0.1055D-01  QK= 0.5275D-02\n",
      " NIT=   11  NFE=  188  F= 0.87961112D+00  WK= 0.1055D-01  QK= 0.5275D-02\n",
      " NIT=   12  NFE=  233  F= 0.87961112D+00  WK= 0.1055D-01  QK= 0.5275D-02\n",
      " NIT=   13  NFE=  278  F= 0.87961112D+00  WK= 0.1055D-01  QK= 0.5275D-02\n",
      " NIT=   14  NFE=  323  F= 0.87961112D+00  WK= 0.1055D-01  QK= 0.5275D-02\n",
      " NIT=   15  NFE=  368  F= 0.87961112D+00  WK= 0.1055D-01  QK= 0.5275D-02\n",
      " NIT=   16  NFE=  413  F= 0.87961112D+00  WK= 0.1055D-01  QK= 0.5275D-02\n",
      " NIT=   17  NFE=  458  F= 0.87961112D+00  WK= 0.1055D-01  QK= 0.5275D-02\n",
      " NIT=   18  NFE=  503  F= 0.87961112D+00  WK= 0.1055D-01  QK= 0.5275D-02\n",
      " NIT=   19  NFE=  548  F= 0.87961112D+00  WK= 0.1055D-01  QK= 0.5275D-02\n",
      " NIT=   20  NFE=  593  F= 0.87961112D+00  WK= 0.1055D-01  QK= 0.5275D-02\n",
      " NIT=   21  NFE=  638  F= 0.87961112D+00  WK= 0.1055D-01  QK= 0.5275D-02\n",
      " NIT=   22  NFE=  683  F= 0.87961112D+00  WK= 0.1055D-01  QK= 0.5275D-02\n",
      " NIT=   23  NFE=  728  F= 0.87961112D+00  WK= 0.1055D-01  QK= 0.5275D-02\n",
      " NIT=   24  NFE=  773  F= 0.87961112D+00  WK= 0.1055D-01  QK= 0.5275D-02\n",
      " NIT=   25  NFE=  818  F= 0.87961112D+00  WK= 0.1055D-01  QK= 0.5275D-02\n",
      " NIT=   26  NFE=  863  F= 0.87961112D+00  WK= 0.1055D-01  QK= 0.5275D-02\n",
      " NIT=   27  NFE=  908  F= 0.87961112D+00  WK= 0.1055D-01  QK= 0.5275D-02\n",
      " Exit from LMBM:\n",
      " Abnormal exit: Failure in attaining the demanded accuracy.\n",
      " NIT=   28  NFE=  953  F= 0.87961112D+00  WK= 0.1055D-01  QK= 0.5275D-02  ITERM= -4\n",
      "-----------\n",
      "| Output: |\n",
      "-----------\n",
      "Termination:     -4\n",
      "N. iter.:        28\n",
      "N. func. eval.:  953\n",
      "Final value:     0.879611\n",
      "Execution time:  0.386368\n",
      "\n",
      "####################################\n",
      "opt_val = -5.4004802738569575\n",
      "####################################\n",
      "  0.494020 seconds (1.06 M allocations: 62.952 MiB)\n",
      "Total time:\n",
      "  1.319446 seconds (2.19 M allocations: 118.704 MiB, 3.97% gc time)\n"
     ]
    },
    {
     "data": {
      "text/plain": [
       "-5.4004802738569575"
      ]
     },
     "execution_count": 14,
     "metadata": {},
     "output_type": "execute_result"
    }
   ],
   "source": [
    "include(\"../src/ctpPOP.jl\")\n",
    "using .ctpPOP\n",
    "\n",
    "opt_val=ctpPOP.POP_mix_LMBM(n,m,l,lmon_g,supp_g,coe_g,lmon_h,supp_h,coe_h,lmon_f,supp_f,coe_f,dg,dh,k,t,\n",
    "    tol=1e-2,use_eqcons_to_get_constant_trace=false)"
   ]
  },
  {
   "cell_type": "code",
   "execution_count": 15,
   "metadata": {},
   "outputs": [
    {
     "name": "stdout",
     "output_type": "stream",
     "text": [
      "This is Ipopt version 3.13.2, running with linear solver mumps.\n",
      "NOTE: Other linear solvers might be more efficient (see Ipopt documentation).\n",
      "\n",
      "Number of nonzeros in equality constraint Jacobian...:        1\n",
      "Number of nonzeros in inequality constraint Jacobian.:        9\n",
      "Number of nonzeros in Lagrangian Hessian.............:       23\n",
      "\n",
      "Total number of variables............................:        6\n",
      "                     variables with only lower bounds:        0\n",
      "                variables with lower and upper bounds:        0\n",
      "                     variables with only upper bounds:        0\n",
      "Total number of equality constraints.................:        1\n",
      "Total number of inequality constraints...............:        4\n",
      "        inequality constraints with only lower bounds:        4\n",
      "   inequality constraints with lower and upper bounds:        0\n",
      "        inequality constraints with only upper bounds:        0\n",
      "\n",
      "iter    objective    inf_pr   inf_du lg(mu)  ||d||  lg(rg) alpha_du alpha_pr  ls\n",
      "   0  0.0000000e+00 5.08e-03 1.00e+00  -1.0 0.00e+00    -  0.00e+00 0.00e+00   0\n",
      "   1  0.0000000e+00 5.08e-03 2.08e-07  -1.7 7.52e-11   2.0 1.00e+00 1.00e+00s 22\n",
      "   2  0.0000000e+00 5.08e-03 8.41e-04  -3.8 9.63e-11   6.9 1.00e+00 1.00e+00s 22\n",
      "   3  0.0000000e+00 5.08e-03 4.57e-04  -3.8 1.96e-11   7.4 1.00e+00 1.00e+00s 22\n",
      "   4  0.0000000e+00 5.08e-03 1.13e-04  -3.8 1.82e-12   7.8 1.00e+00 1.00e+00s 22\n",
      "   5  0.0000000e+00 5.08e-03 5.18e-06  -3.8 2.50e-13   7.3 1.00e+00 1.00e+00s 22\n",
      "   6r 0.0000000e+00 5.08e-03 9.99e+02  -2.3 0.00e+00   7.7 0.00e+00 0.00e+00R  1\n",
      "   7r 0.0000000e+00 5.08e-03 5.08e-08  -2.3 5.15e-11    -  1.00e+00 1.00e+00h  1\n",
      "   8r 0.0000000e+00 5.08e-03 5.07e-02  -5.2 5.07e-06   4.0 1.00e+00 1.00e+00f  1\n",
      "   9r 0.0000000e+00 5.08e-03 4.01e-06  -5.2 1.20e-09   3.5 1.00e+00 1.00e+00f  1\n",
      "iter    objective    inf_pr   inf_du lg(mu)  ||d||  lg(rg) alpha_du alpha_pr  ls\n",
      "  10r 0.0000000e+00 5.08e-03 7.64e-06  -7.7 6.88e-09   3.0 1.00e+00 1.00e+00f  1\n",
      "\n",
      "Number of Iterations....: 10\n",
      "\n",
      "                                   (scaled)                 (unscaled)\n",
      "Objective...............:   0.0000000000000000e+00    0.0000000000000000e+00\n",
      "Dual infeasibility......:   4.5080003443530156e-13    4.5080003443530156e-13\n",
      "Constraint violation....:   5.0817641946979625e-03    5.0817641946979625e-03\n",
      "Complementarity.........:   1.8105018281136397e-08    1.8105018281136397e-08\n",
      "Overall NLP error.......:   5.0817641946979625e-03    5.0817641946979625e-03\n",
      "\n",
      "\n",
      "Number of objective function evaluations             = 56\n",
      "Number of objective gradient evaluations             = 8\n",
      "Number of equality constraint evaluations            = 56\n",
      "Number of inequality constraint evaluations          = 56\n",
      "Number of equality constraint Jacobian evaluations   = 13\n",
      "Number of inequality constraint Jacobian evaluations = 13\n",
      "Number of Lagrangian Hessian evaluations             = 11\n",
      "Total CPU secs in IPOPT (w/o function evaluations)   =      0.008\n",
      "Total CPU secs in NLP function evaluations           =      0.000\n",
      "\n",
      "EXIT: Converged to a point of local infeasibility. Problem may be infeasible.\n",
      "LOCALLY_INFEASIBLE\n",
      "opt_val=0.0\n",
      "  0.060372 seconds (52.07 k allocations: 2.684 MiB)\n"
     ]
    },
    {
     "name": "stderr",
     "output_type": "stream",
     "text": [
      "WARNING: replacing module ctpPOP.\n"
     ]
    },
    {
     "data": {
      "text/plain": [
       "0.0"
      ]
     },
     "execution_count": 15,
     "metadata": {},
     "output_type": "execute_result"
    }
   ],
   "source": [
    "include(\"../src/ctpPOP.jl\")\n",
    "using .ctpPOP\n",
    "\n",
    "optval=ctpPOP.POP_NLP(n,m,l,lmon_g,supp_g,coe_g,lmon_h,supp_h,coe_h,lmon_f,supp_f,coe_f)"
   ]
  },
  {
   "cell_type": "code",
   "execution_count": null,
   "metadata": {},
   "outputs": [],
   "source": []
  }
 ],
 "metadata": {
  "kernelspec": {
   "display_name": "Julia 1.3.0",
   "language": "julia",
   "name": "julia-1.3"
  },
  "language_info": {
   "file_extension": ".jl",
   "mimetype": "application/julia",
   "name": "julia",
   "version": "1.3.0"
  }
 },
 "nbformat": 4,
 "nbformat_minor": 2
}
