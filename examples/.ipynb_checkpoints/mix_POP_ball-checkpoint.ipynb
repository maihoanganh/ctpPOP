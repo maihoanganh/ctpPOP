{
 "cells": [
  {
   "cell_type": "code",
   "execution_count": 24,
   "metadata": {},
   "outputs": [
    {
     "name": "stdout",
     "output_type": "stream",
     "text": [
      "***Problem setting***\n",
      "Number of variable: n=6\n",
      "====================\n",
      "Number of inequality constraints: m=4\n",
      "====================\n",
      "Number of equality constraints: l=1\n"
     ]
    }
   ],
   "source": [
    "using DynamicPolynomials, LinearAlgebra, SparseArrays\n",
    "\n",
    "println(\"***Problem setting***\")\n",
    "\n",
    "n=6\n",
    "println(\"Number of variable: n=\",n)\n",
    "println(\"====================\")\n",
    "\n",
    "@polyvar x[1:n]# variables\n",
    "\n",
    "function generate_random_poly(T::UnitRange{Int64})\n",
    "    v=reverse(monomials(x[T],2))\n",
    "    c=2*rand(Float64,length(v)).-1\n",
    "    return c'*v\n",
    "end\n",
    "\n",
    "# unit sphere constraint\n",
    "u=2\n",
    "p=floor(Int64,n/u)+1\n",
    "\n",
    "I=Vector{UnitRange{Int64}}(undef,p)\n",
    "I[1]=1:u\n",
    "I[2:p-1]=[u*(j-1):u*j for j in 2:p-1]\n",
    "I[p]=u*(p-1):n\n",
    "\n",
    "# random quadratic objective function f\n",
    "vecf=[generate_random_poly(I[j]) for j in 1:p]\n",
    "f=sum(vecf)\n",
    "\n",
    "g=[1.0-sum(x[I[j]].^2) for j in 1:p]\n",
    "J=[j:j for j in 1:p]\n",
    "\n",
    "m=length(g)\n",
    "println(\"Number of inequality constraints: m=\",m)\n",
    "println(\"====================\")\n",
    "\n",
    "l=ceil(Int64, n/7)\n",
    "\n",
    "r=floor(Int64,l/p)\n",
    "W=[(j-1)*r+1:j*r for j in 1:p-1]\n",
    "append!(W,[(p-1)*r+1:l])\n",
    "\n",
    "h=Vector{Polynomial{true,Float64}}(undef,l)\n",
    "\n",
    "randx=2*rand(Float64,n).-1\n",
    "for j in 1:p\n",
    "    randx[I[j]]=randx[I[j]]./norm(randx[I[j]])\n",
    "    randx[I[j]]=rand(Float64,1)[1]*randx[I[j]]\n",
    "end\n",
    "\n",
    "for j in 1:p\n",
    "    for i in W[j]\n",
    "        h[i]=generate_random_poly(I[j])\n",
    "        h[i]-=h[i](x => randx) #make constraints feasible\n",
    "    end\n",
    "end\n",
    "\n",
    "l=length(h)\n",
    "println(\"Number of equality constraints: l=\",l)"
   ]
  },
  {
   "cell_type": "code",
   "execution_count": 25,
   "metadata": {},
   "outputs": [],
   "source": [
    "using ctpPOP\n",
    "\n",
    "n,m,l,lmon_g,supp_g,coe_g,lmon_h,supp_h,coe_h,lmon_f,supp_f,coe_f,dg,dh=ctpPOP.get_info(x,f,g,h,sparse=true);"
   ]
  },
  {
   "cell_type": "code",
   "execution_count": 26,
   "metadata": {},
   "outputs": [
    {
     "name": "stdout",
     "output_type": "stream",
     "text": [
      "Relaxed order: k=2\n",
      "====================\n",
      "Term sparse order: t=1\n"
     ]
    }
   ],
   "source": [
    "k=2\n",
    "\n",
    "println(\"Relaxed order: k=\",k)\n",
    "println(\"====================\")\n",
    "t=1\n",
    "\n",
    "println(\"Term sparse order: t=\",t)"
   ]
  },
  {
   "cell_type": "code",
   "execution_count": 27,
   "metadata": {},
   "outputs": [
    {
     "name": "stdout",
     "output_type": "stream",
     "text": [
      "------------------------------------------------------\n",
      "The clique sizes of varibles:\n",
      "[3, 2]\n",
      "[2, 1]\n",
      "------------------------------------------------------\n",
      "Problem\n",
      "  Name                   :                 \n",
      "  Objective sense        : max             \n",
      "  Type                   : CONIC (conic optimization problem)\n",
      "  Constraints            : 53              \n",
      "  Cones                  : 0               \n",
      "  Scalar variables       : 12              \n",
      "  Matrix variables       : 13              \n",
      "  Integer variables      : 0               \n",
      "\n",
      "Optimizer started.\n",
      "Presolve started.\n",
      "Linear dependency checker started.\n",
      "Linear dependency checker terminated.\n",
      "Eliminator started.\n",
      "Freed constraints in eliminator : 0\n",
      "Eliminator terminated.\n",
      "Eliminator - tries                  : 1                 time                   : 0.00            \n",
      "Lin. dep.  - tries                  : 1                 time                   : 0.00            \n",
      "Lin. dep.  - number                 : 0               \n",
      "Presolve terminated. Time: 0.00    \n",
      "Problem\n",
      "  Name                   :                 \n",
      "  Objective sense        : max             \n",
      "  Type                   : CONIC (conic optimization problem)\n",
      "  Constraints            : 53              \n",
      "  Cones                  : 0               \n",
      "  Scalar variables       : 12              \n",
      "  Matrix variables       : 13              \n",
      "  Integer variables      : 0               \n",
      "\n",
      "Optimizer  - threads                : 4               \n",
      "Optimizer  - solved problem         : the primal      \n",
      "Optimizer  - Constraints            : 53\n",
      "Optimizer  - Cones                  : 3\n",
      "Optimizer  - Scalar variables       : 19                conic                  : 15              \n",
      "Optimizer  - Semi-definite variables: 11                scalarized             : 122             \n",
      "Factor     - setup time             : 0.00              dense det. time        : 0.00            \n",
      "Factor     - ML order time          : 0.00              GP order time          : 0.00            \n",
      "Factor     - nonzeros before factor : 598               after factor           : 696             \n",
      "Factor     - dense dim.             : 0                 flops                  : 2.19e+04        \n",
      "ITE PFEAS    DFEAS    GFEAS    PRSTATUS   POBJ              DOBJ              MU       TIME  \n",
      "0   8.3e+00  1.0e+00  1.0e+00  0.00e+00   0.000000000e+00   0.000000000e+00   1.0e+00  0.00  \n",
      "1   4.5e+00  5.4e-01  4.1e-01  -1.28e-01  -1.049522747e+00  -1.024561915e+00  5.4e-01  0.00  \n",
      "2   1.9e+00  2.3e-01  9.0e-02  2.28e+00   -1.354605795e+00  -1.358557997e+00  2.3e-01  0.00  \n",
      "3   4.0e-01  4.8e-02  7.5e-03  1.14e+00   -1.721680591e+00  -1.717399735e+00  4.8e-02  0.00  \n",
      "4   1.0e-01  1.3e-02  1.0e-03  1.01e+00   -1.886303980e+00  -1.885210169e+00  1.3e-02  0.00  \n",
      "5   2.3e-02  2.7e-03  1.0e-04  9.91e-01   -1.925346733e+00  -1.925073930e+00  2.7e-03  0.00  \n",
      "6   8.5e-04  1.0e-04  7.2e-07  9.93e-01   -1.937386744e+00  -1.937373484e+00  1.0e-04  0.00  \n",
      "7   1.6e-05  1.9e-06  1.8e-09  1.00e+00   -1.937841363e+00  -1.937841114e+00  1.9e-06  0.00  \n",
      "8   6.8e-07  8.2e-08  1.6e-11  1.00e+00   -1.937848343e+00  -1.937848332e+00  8.2e-08  0.00  \n",
      "9   4.9e-08  5.9e-09  3.1e-13  1.00e+00   -1.937848575e+00  -1.937848574e+00  5.9e-09  0.01  \n",
      "Optimizer terminated. Time: 0.01    \n",
      "\n",
      "optimum = -1.9378485748572145\n",
      "  0.008993 seconds (24.86 k allocations: 1.883 MiB)\n"
     ]
    }
   ],
   "source": [
    "using TSSOS\n",
    "\n",
    "\n",
    "@time begin\n",
    "    ~,~,data=cs_tssos_first(Vector{SparseMatrixCSC{UInt8,UInt32}}([[supp_f];supp_g;supp_h]),[[coe_f];coe_g;coe_h],n,k,[dg;dh],numeq=l,CS=\"MD\",TS=\"block\");\n",
    "    for j in 1:t-1\n",
    "        ~,~,data=cs_tssos_higher!(data,TS=\"block\");\n",
    "    end\n",
    "end"
   ]
  },
  {
   "cell_type": "code",
   "execution_count": 28,
   "metadata": {},
   "outputs": [
    {
     "name": "stdout",
     "output_type": "stream",
     "text": [
      "------------------------------------------------------\n",
      "The clique sizes of varibles:\n",
      "[3, 2]\n",
      "[2, 1]\n",
      "------------------------------------------------------\n",
      "  Number of cliques: p=3\n",
      "  Largest clique size: u=3\n",
      "  Largest constant trace: a=5.0\n",
      "  Number of blocks: omega=14\n",
      "  Number of equality consraints: zeta=67\n",
      "  Size of the largest block: s^max=7\n",
      "Modeling time:\n",
      "  0.015508 seconds (23.44 k allocations: 1.932 MiB)\n",
      "iter=1   val=-10.278173071249274   gap=4.725118584840492e-16   feas=11.211522816039446\n",
      "iter=2   val=-3.4260576904164246   gap=0.6946108835344827   feas=3.114025588461978\n",
      "iter=4   val=-3.2585211041899065   gap=0.5299220479829967   feas=3.4857157278413418\n",
      "iter=8   val=-2.4421302405853105   gap=0.3139096685016424   feas=0.9582531746038421\n",
      "iter=16   val=-2.3095556092536493   gap=0.4887691941489962   feas=0.8421563406589121\n",
      "iter=32   val=-1.8805268382809783   gap=0.26205045858141895   feas=0.3854115836064767\n",
      "iter=64   val=-1.8656883675179352   gap=0.18406928208553888   feas=0.19770596675176325\n",
      "iter=128   val=-1.8691207375052377   gap=0.1358878605805495   feas=0.07637327521220671\n",
      "iter=256   val=-1.954951705202765   gap=0.12913541395350486   feas=0.03886096598381884\n",
      "iter=512   val=-1.9384036146720545   gap=0.05598762465350826   feas=0.027423503117703203\n",
      "iter=1024   val=-1.9319044272332018   gap=0.05540202314175437   feas=0.010715137871597682\n",
      "iter=2048   val=-1.932916971525433   gap=0.027604652950894214   feas=0.004881812831007257\n",
      "iter=2740   val=-1.9397019831616544   gap=0.009848975310731173   feas=0.004488086691541474\n",
      "tol satisfies!!!\n",
      "\n",
      "####################################\n",
      "opt_val = -1.9397019831616544\n",
      "####################################\n",
      "Solving time:\n",
      "  0.752122 seconds (2.34 M allocations: 139.293 MiB, 2.87% gc time)\n",
      "Total time:\n",
      "  0.767812 seconds (2.37 M allocations: 141.238 MiB, 2.82% gc time)\n"
     ]
    },
    {
     "data": {
      "text/plain": [
       "-1.9397019831616544"
      ]
     },
     "execution_count": 28,
     "metadata": {},
     "output_type": "execute_result"
    }
   ],
   "source": [
    "using ctpPOP\n",
    "\n",
    "opt_val1=ctpPOP.POP_mix_CGAL(n,m,l,lmon_g,supp_g,coe_g,lmon_h,supp_h,coe_h,lmon_f,supp_f,coe_f,dg,dh,k,t,\n",
    "    maxit=Int64(1e10),tol=1e-2,use_eqcons_to_get_constant_trace=false,check_tol_each_iter=true)"
   ]
  },
  {
   "cell_type": "code",
   "execution_count": 29,
   "metadata": {},
   "outputs": [
    {
     "name": "stdout",
     "output_type": "stream",
     "text": [
      "------------------------------------------------------\n",
      "The clique sizes of varibles:\n",
      "[3, 2]\n",
      "[2, 1]\n",
      "------------------------------------------------------\n",
      "  Number of cliques: p=3\n",
      "  Largest clique size: u=3\n",
      "  Largest constant trace: a=5.0\n",
      "  Number of blocks: omega=14\n",
      "  Number of equality consraints: zeta=67\n",
      "  Size of the largest block: s^max=7\n",
      "Modeling time:\n",
      "  0.013389 seconds (23.44 k allocations: 1.932 MiB)\n",
      "**LMBM solver:\n",
      "---------------\n",
      "| Parameters: |\n",
      "---------------\n",
      "n:       67\n",
      "maxtime: 300000.000000\n",
      "na:      2\n",
      "mcu:     5\n",
      "mc:      7\n",
      "rpar: \n",
      "ipar: \n",
      " Warning: MC > MCU. Assigned MC = MCU.\n",
      " Entry to LMBM:\n",
      " NIT=    1  NFE=    1  F= 0.10835874D+01  WK= 0.9829D-02  QK= 0.4914D-02\n",
      " NIT=    2  NFE=    2  F= 0.10737586D+01  WK= 0.9829D-02  QK= 0.4914D-02\n",
      " NIT=    3  NFE=    3  F= 0.10639299D+01  WK= 0.9829D-02  QK= 0.4914D-02\n",
      " NIT=    4  NFE=    4  F= 0.10541011D+01  WK= 0.9829D-02  QK= 0.4914D-02\n",
      " NIT=    5  NFE=    5  F= 0.10442724D+01  WK= 0.9829D-02  QK= 0.4914D-02\n",
      " NIT=    6  NFE=    6  F= 0.10344437D+01  WK= 0.9829D-02  QK= 0.4914D-02\n",
      " NIT=    7  NFE=    7  F= 0.10246149D+01  WK= 0.9829D-02  QK= 0.4914D-02\n",
      " NIT=    8  NFE=    8  F= 0.10147862D+01  WK= 0.9829D-02  QK= 0.4914D-02\n",
      " NIT=    9  NFE=    9  F= 0.10049574D+01  WK= 0.9829D-02  QK= 0.4914D-02\n",
      " NIT=   10  NFE=   10  F= 0.99512868D+00  WK= 0.9829D-02  QK= 0.4914D-02\n",
      " Exit from LMBM:\n",
      " Abnormal exit: Too many steps without significant progress.\n",
      " NIT=   10  NFE=   11  F= 0.98529994D+00  WK= 0.9829D-02  QK= 0.4914D-02  ITERM=  2\n",
      "-----------\n",
      "| Output: |\n",
      "-----------\n",
      "Termination:     2\n",
      "N. iter.:        10\n",
      "N. func. eval.:  11\n",
      "Final value:     0.985300\n",
      "Execution time:  0.003120\n",
      "\n",
      "####################################\n",
      "opt_val = -9.345885349078534\n",
      "####################################\n",
      "  0.003655 seconds (11.11 k allocations: 623.109 KiB)\n",
      "Total time:\n",
      "  0.017169 seconds (35.08 k allocations: 2.555 MiB)\n"
     ]
    },
    {
     "data": {
      "text/plain": [
       "-9.345885349078534"
      ]
     },
     "execution_count": 29,
     "metadata": {},
     "output_type": "execute_result"
    }
   ],
   "source": [
    "using ctpPOP\n",
    "\n",
    "opt_val=ctpPOP.POP_mix_LMBM(n,m,l,lmon_g,supp_g,coe_g,lmon_h,supp_h,coe_h,lmon_f,supp_f,coe_f,dg,dh,k,t,\n",
    "    tol=1e-2,use_eqcons_to_get_constant_trace=false)"
   ]
  },
  {
   "cell_type": "code",
   "execution_count": 30,
   "metadata": {},
   "outputs": [],
   "source": [
    "#using ctpPOP\n",
    "\n",
    "#optval=ctpPOP.POP_NLP(n,m,l,lmon_g,supp_g,coe_g,lmon_h,supp_h,coe_h,lmon_f,supp_f,coe_f)"
   ]
  },
  {
   "cell_type": "code",
   "execution_count": null,
   "metadata": {},
   "outputs": [],
   "source": []
  }
 ],
 "metadata": {
  "kernelspec": {
   "display_name": "Julia 1.3.0",
   "language": "julia",
   "name": "julia-1.3"
  },
  "language_info": {
   "file_extension": ".jl",
   "mimetype": "application/julia",
   "name": "julia",
   "version": "1.3.0"
  }
 },
 "nbformat": 4,
 "nbformat_minor": 2
}
