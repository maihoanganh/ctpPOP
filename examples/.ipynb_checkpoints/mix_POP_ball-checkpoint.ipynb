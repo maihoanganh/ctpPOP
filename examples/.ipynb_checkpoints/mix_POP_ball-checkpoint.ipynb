{
 "cells": [
  {
   "cell_type": "code",
   "execution_count": null,
   "metadata": {},
   "outputs": [
    {
     "name": "stdout",
     "output_type": "stream",
     "text": [
      "***Problem setting***\n",
      "Number of variable: n=6"
     ]
    }
   ],
   "source": [
    "using DynamicPolynomials, LinearAlgebra, SparseArrays\n",
    "\n",
    "println(\"***Problem setting***\")\n",
    "\n",
    "n=6\n",
    "println(\"Number of variable: n=\",n)\n",
    "println(\"====================\")\n",
    "\n",
    "@polyvar x[1:n]# variables\n",
    "\n",
    "function generate_random_poly(T::UnitRange{Int64})\n",
    "    v=reverse(monomials(x[T],2))\n",
    "    c=2*rand(Float64,length(v)).-1\n",
    "    return c'*v\n",
    "end\n",
    "\n",
    "# unit sphere constraint\n",
    "u=2\n",
    "p=floor(Int64,n/u)+1\n",
    "\n",
    "I=Vector{UnitRange{Int64}}(undef,p)\n",
    "I[1]=1:u\n",
    "I[2:p-1]=[u*(j-1):u*j for j in 2:p-1]\n",
    "I[p]=u*(p-1):n\n",
    "\n",
    "# random quadratic objective function f\n",
    "vecf=[generate_random_poly(I[j]) for j in 1:p]\n",
    "f=sum(vecf)\n",
    "\n",
    "g=[1.0-sum(x[I[j]].^2) for j in 1:p]\n",
    "J=[j:j for j in 1:p]\n",
    "\n",
    "m=length(g)\n",
    "println(\"Number of inequality constraints: m=\",m)\n",
    "println(\"====================\")\n",
    "\n",
    "l=ceil(Int64, n/7)\n",
    "\n",
    "r=floor(Int64,l/p)\n",
    "W=[(j-1)*r+1:j*r for j in 1:p-1]\n",
    "append!(W,[(p-1)*r+1:l])\n",
    "\n",
    "h=Vector{Polynomial{true,Float64}}(undef,l)\n",
    "\n",
    "randx=2*rand(Float64,n).-1\n",
    "for j in 1:p\n",
    "    randx[I[j]]=randx[I[j]]./norm(randx[I[j]])\n",
    "    randx[I[j]]=rand(Float64,1)[1]*randx[I[j]]\n",
    "end\n",
    "\n",
    "for j in 1:p\n",
    "    for i in W[j]\n",
    "        h[i]=generate_random_poly(I[j])\n",
    "        h[i]-=h[i](x => randx) #make constraints feasible\n",
    "    end\n",
    "end\n",
    "\n",
    "l=length(h)\n",
    "println(\"Number of equality constraints: l=\",l)\n",
    "println(\"====================\")\n",
    "\n",
    "k=2\n",
    "\n",
    "println(\"Relaxed order: k=\",k)\n",
    "println(\"====================\")\n",
    "t=2\n",
    "\n",
    "println(\"Term sparse order: t=\",t)"
   ]
  },
  {
   "cell_type": "code",
   "execution_count": null,
   "metadata": {},
   "outputs": [],
   "source": [
    "include(\"../src/ctpPOP.jl\")\n",
    "using .ctpPOP\n",
    "\n",
    "n,m,l,lmon_g,supp_g,coe_g,lmon_h,supp_h,coe_h,lmon_f,supp_f,coe_f,dg,dh=ctpPOP.get_info(x,f,g,h,sparse=true);"
   ]
  },
  {
   "cell_type": "code",
   "execution_count": 3,
   "metadata": {},
   "outputs": [
    {
     "name": "stdout",
     "output_type": "stream",
     "text": [
      "------------------------------------------------------\n"
     ]
    },
    {
     "name": "stderr",
     "output_type": "stream",
     "text": [
      "WARNING: replacing module ctpPOP.\n",
      "WARNING: Compat.Printf is deprecated, use Printf instead.\n",
      "  likely near /home/hoanganh/Desktop/math-topics/ctpPOP/codes/ctpPOP/solvers/ProximalBundleMethod/ProximalMethod.jl:391\n"
     ]
    },
    {
     "name": "stdout",
     "output_type": "stream",
     "text": [
      "The clique sizes of varibles:\n",
      "[3, 2]\n",
      "[2, 1]\n",
      "------------------------------------------------------\n",
      "  Number of cliques: p=3\n",
      "  Largest clique size: u=3\n"
     ]
    },
    {
     "name": "stderr",
     "output_type": "stream",
     "text": [
      "┌ Warning: `with_optimizer` is deprecated. Adapt the following example to update your code:\n",
      "│ `with_optimizer(Ipopt.Optimizer, max_cpu_time=60.0)` becomes `optimizer_with_attributes(Ipopt.Optimizer, \"max_cpu_time\" => 60.0)`.\n",
      "│   caller = ip:0x0\n",
      "└ @ Core :-1\n"
     ]
    },
    {
     "name": "stdout",
     "output_type": "stream",
     "text": [
      "  Largest constant trace: a=5.0\n",
      "  Number of blocks: omega=14\n",
      "  Number of equality consraints: zeta=67\n",
      "  Size of the largest block: s^max=7\n",
      "Modeling time:\n",
      " 54.823648 seconds (59.01 M allocations: 2.890 GiB, 3.79% gc time)\n",
      "iter=1.0   val=-8.092179107932234   gap=3.552713678800501e-15   feas=10.277034862547254\n",
      "iter=2.0   val=-2.6973930359774116   gap=6.166739171995301   feas=2.440395479765011\n",
      "iter=4.0   val=-2.455199994134786   gap=3.276559746205621   feas=2.731699314348746\n",
      "iter=8.0   val=-2.067541226477191   gap=1.8882904922056567   feas=1.2124860129468258\n",
      "iter=16.0   val=-2.4311481073013437   gap=0.6236692988633492   feas=0.7994998520792704\n",
      "iter=32.0   val=-2.1959885169231828   gap=0.9032032766931386   feas=0.26812113524153214\n",
      "iter=64.0   val=-2.1466142627685785   gap=0.3976341140203279   feas=0.17607450193011215\n",
      "iter=128.0   val=-2.146039067637082   gap=0.48930393904947733   feas=0.07633319497756043\n",
      "iter=256.0   val=-2.1233854924776505   gap=0.17526387430495927   feas=0.040797581844569185\n",
      "iter=512.0   val=-2.1211790948754614   gap=0.15114100115907236   feas=0.02041787941299216\n",
      "iter=1024.0   val=-2.1129362159977023   gap=0.06505232219740753   feas=0.0107278617139127\n",
      "iter=2048.0   val=-2.115203921746303   gap=0.06553852353061451   feas=0.003761022360994399\n",
      "iter=4096.0   val=-2.114558452681239   gap=0.01856046141381329   feas=0.003018385575226674\n",
      "iter=8192.0   val=-2.1147923191996547   gap=0.029057775624557358   feas=0.001146970257485077\n",
      "iter=11746.0   val=-2.1147959641203022   gap=0.009929291323439227   feas=0.0010592497226997203\n",
      "tol satisfies!!!\n",
      "\n",
      "####################################\n",
      "opt_val = -2.1147959641203022\n",
      "####################################\n",
      "Solving time:\n",
      " 11.767846 seconds (12.70 M allocations: 755.187 MiB, 2.08% gc time)\n",
      "Total time:\n",
      " 66.665617 seconds (71.76 M allocations: 3.630 GiB, 3.48% gc time)\n"
     ]
    },
    {
     "data": {
      "text/plain": [
       "-2.1147959641203022"
      ]
     },
     "execution_count": 3,
     "metadata": {},
     "output_type": "execute_result"
    }
   ],
   "source": [
    "include(\"../src/ctpPOP.jl\")\n",
    "using .ctpPOP\n",
    "\n",
    "opt_val1=ctpPOP.POP_mix_CGAL(n,m,l,lmon_g,supp_g,coe_g,lmon_h,supp_h,coe_h,lmon_f,supp_f,coe_f,dg,dh,k,t,EigAlg=\"Arpack\",maxit=1e10,tol=1e-2,UseEq=false)"
   ]
  },
  {
   "cell_type": "code",
   "execution_count": null,
   "metadata": {},
   "outputs": [],
   "source": [
    "include(\"../src/ctpPOP.jl\")\n",
    "using .ctpPOP\n",
    "\n",
    "opt_val1=ctpPOP.POP_mix_LMBM(n,m,l,lmon_g,supp_g,coe_g,lmon_h,supp_h,coe_h,lmon_f,supp_f,coe_f,dg,dh,k,t,EigAlg=\"Arpack\",maxit=1e10,tol=1e-2,UseEq=false)"
   ]
  },
  {
   "cell_type": "code",
   "execution_count": 4,
   "metadata": {},
   "outputs": [
    {
     "name": "stdout",
     "output_type": "stream",
     "text": [
      "------------------------------------------------------\n",
      "The clique sizes of varibles:\n",
      "[3, 2]\n",
      "[2, 1]\n",
      "------------------------------------------------------\n",
      "Problem\n",
      "  Name                   :                 \n",
      "  Objective sense        : max             \n",
      "  Type                   : CONIC (conic optimization problem)\n",
      "  Constraints            : 53              \n",
      "  Cones                  : 0               \n",
      "  Scalar variables       : 12              \n",
      "  Matrix variables       : 13              \n",
      "  Integer variables      : 0               \n",
      "\n",
      "Optimizer started.\n",
      "Presolve started.\n",
      "Linear dependency checker started.\n",
      "Linear dependency checker terminated.\n",
      "Eliminator started.\n",
      "Freed constraints in eliminator : 0\n",
      "Eliminator terminated.\n",
      "Eliminator - tries                  : 1                 time                   : 0.00            \n",
      "Lin. dep.  - tries                  : 1                 time                   : 0.00            \n",
      "Lin. dep.  - number                 : 0               \n",
      "Presolve terminated. Time: 0.00    \n",
      "Problem\n",
      "  Name                   :                 \n",
      "  Objective sense        : max             \n",
      "  Type                   : CONIC (conic optimization problem)\n",
      "  Constraints            : 53              \n",
      "  Cones                  : 0               \n",
      "  Scalar variables       : 12              \n",
      "  Matrix variables       : 13              \n",
      "  Integer variables      : 0               \n",
      "\n",
      "Optimizer  - threads                : 4               \n",
      "Optimizer  - solved problem         : the primal      \n",
      "Optimizer  - Constraints            : 53\n",
      "Optimizer  - Cones                  : 3\n",
      "Optimizer  - Scalar variables       : 19                conic                  : 15              \n",
      "Optimizer  - Semi-definite variables: 11                scalarized             : 122             \n",
      "Factor     - setup time             : 0.00              dense det. time        : 0.00            \n",
      "Factor     - ML order time          : 0.00              GP order time          : 0.00            \n",
      "Factor     - nonzeros before factor : 598               after factor           : 696             \n",
      "Factor     - dense dim.             : 0                 flops                  : 2.19e+04        \n",
      "ITE PFEAS    DFEAS    GFEAS    PRSTATUS   POBJ              DOBJ              MU       TIME  \n",
      "0   6.6e+00  1.0e+00  1.0e+00  0.00e+00   0.000000000e+00   0.000000000e+00   1.0e+00  0.00  \n",
      "1   3.2e+00  4.9e-01  3.0e-01  5.16e-01   -7.608008741e-01  -6.589102476e-01  4.9e-01  0.00  \n",
      "2   1.1e+00  1.7e-01  6.3e-02  2.11e+00   -1.453220190e+00  -1.479156538e+00  1.7e-01  0.00  \n",
      "3   3.0e-01  4.6e-02  8.6e-03  1.18e+00   -1.859786915e+00  -1.865134627e+00  4.6e-02  0.01  \n",
      "4   6.9e-02  1.1e-02  9.2e-04  9.75e-01   -2.061236720e+00  -2.062012576e+00  1.1e-02  0.01  \n",
      "5   8.2e-03  1.2e-03  3.7e-05  9.91e-01   -2.107244450e+00  -2.107315421e+00  1.2e-03  0.01  \n",
      "6   1.9e-04  2.9e-05  1.3e-07  9.94e-01   -2.114751552e+00  -2.114753410e+00  2.9e-05  0.01  \n",
      "7   9.2e-06  1.4e-06  1.4e-09  1.00e+00   -2.114904511e+00  -2.114904598e+00  1.4e-06  0.01  \n",
      "8   4.4e-07  6.7e-08  1.5e-11  1.00e+00   -2.114910406e+00  -2.114910410e+00  6.7e-08  0.01  \n",
      "9   4.3e-08  6.6e-09  4.5e-13  1.00e+00   -2.114910652e+00  -2.114910653e+00  6.6e-09  0.01  \n",
      "Optimizer terminated. Time: 0.02    \n",
      "\n",
      "optimum = -2.114910652487148\n",
      " 31.014785 seconds (33.25 M allocations: 1.601 GiB, 3.33% gc time)\n"
     ]
    }
   ],
   "source": [
    "using TSSOS\n",
    "\n",
    "\n",
    "@time opt,sol,data=cs_tssos_first(Vector{SparseMatrixCSC{UInt8,UInt32}}([[supp_f];supp_g;supp_h]),[[coe_f];coe_g;coe_h],n,k,[dg;dh],numeq=l,CS=\"MD\",TS=\"block\",CTP=false);"
   ]
  },
  {
   "cell_type": "code",
   "execution_count": null,
   "metadata": {},
   "outputs": [],
   "source": []
  }
 ],
 "metadata": {
  "kernelspec": {
   "display_name": "Julia 1.3.0",
   "language": "julia",
   "name": "julia-1.3"
  },
  "language_info": {
   "file_extension": ".jl",
   "mimetype": "application/julia",
   "name": "julia",
   "version": "1.3.0"
  }
 },
 "nbformat": 4,
 "nbformat_minor": 2
}
