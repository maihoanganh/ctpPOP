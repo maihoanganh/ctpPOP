{
 "cells": [
  {
   "cell_type": "code",
   "execution_count": 11,
   "metadata": {},
   "outputs": [
    {
     "name": "stdout",
     "output_type": "stream",
     "text": [
      "***Problem setting***\n",
      "Number of variable: n=6\n",
      "====================\n",
      "Number of inequality constraints: m=4\n",
      "====================\n",
      "Number of equality constraints: l=1\n",
      "====================\n",
      "Relaxed order: k=2\n",
      "====================\n",
      "Term sparse order: t=2\n"
     ]
    }
   ],
   "source": [
    "using DynamicPolynomials, LinearAlgebra, SparseArrays\n",
    "\n",
    "println(\"***Problem setting***\")\n",
    "\n",
    "n=6\n",
    "println(\"Number of variable: n=\",n)\n",
    "println(\"====================\")\n",
    "\n",
    "@polyvar x[1:n]# variables\n",
    "\n",
    "function generate_random_poly(T::UnitRange{Int64})\n",
    "    v=reverse(monomials(x[T],2))\n",
    "    c=2*rand(Float64,length(v)).-1\n",
    "    return c'*v\n",
    "end\n",
    "\n",
    "# unit sphere constraint\n",
    "u=2\n",
    "p=floor(Int64,n/u)+1\n",
    "\n",
    "I=Vector{UnitRange{Int64}}(undef,p)\n",
    "I[1]=1:u\n",
    "I[2:p-1]=[u*(j-1):u*j for j in 2:p-1]\n",
    "I[p]=u*(p-1):n\n",
    "\n",
    "# random quadratic objective function f\n",
    "vecf=[generate_random_poly(I[j]) for j in 1:p]\n",
    "f=sum(vecf)\n",
    "\n",
    "g=[1.0-sum(x[I[j]].^2) for j in 1:p]\n",
    "J=[j:j for j in 1:p]\n",
    "\n",
    "m=length(g)\n",
    "println(\"Number of inequality constraints: m=\",m)\n",
    "println(\"====================\")\n",
    "\n",
    "l=ceil(Int64, n/7)\n",
    "\n",
    "r=floor(Int64,l/p)\n",
    "W=[(j-1)*r+1:j*r for j in 1:p-1]\n",
    "append!(W,[(p-1)*r+1:l])\n",
    "\n",
    "h=Vector{Polynomial{true,Float64}}(undef,l)\n",
    "\n",
    "randx=2*rand(Float64,n).-1\n",
    "for j in 1:p\n",
    "    randx[I[j]]=randx[I[j]]./norm(randx[I[j]])\n",
    "    randx[I[j]]=rand(Float64,1)[1]*randx[I[j]]\n",
    "end\n",
    "\n",
    "for j in 1:p\n",
    "    for i in W[j]\n",
    "        h[i]=generate_random_poly(I[j])\n",
    "        h[i]-=h[i](x => randx) #make constraints feasible\n",
    "    end\n",
    "end\n",
    "\n",
    "l=length(h)\n",
    "println(\"Number of equality constraints: l=\",l)"
   ]
  },
  {
   "cell_type": "code",
   "execution_count": 12,
   "metadata": {},
   "outputs": [
    {
     "name": "stderr",
     "output_type": "stream",
     "text": [
      "WARNING: replacing module ctpPOP.\n",
      "WARNING: Compat.Printf is deprecated, use Printf instead.\n",
      "  likely near /home/hoanganh/Desktop/math-topics/ctpPOP/codes/ctpPOP/solvers/ProximalBundleMethod/ProximalMethod.jl:391\n"
     ]
    }
   ],
   "source": [
    "include(\"../src/ctpPOP.jl\")\n",
    "using .ctpPOP\n",
    "\n",
    "n,m,l,lmon_g,supp_g,coe_g,lmon_h,supp_h,coe_h,lmon_f,supp_f,coe_f,dg,dh=ctpPOP.get_info(x,f,g,h,sparse=true);"
   ]
  },
  {
   "cell_type": "code",
   "execution_count": 13,
   "metadata": {},
   "outputs": [
    {
     "name": "stdout",
     "output_type": "stream",
     "text": [
      "------------------------------------------------------\n",
      "The clique sizes of varibles:\n",
      "[3, 2]\n",
      "[2, 1]\n",
      "------------------------------------------------------\n",
      "  Number of cliques: p=3\n",
      "  Largest clique size: u=3\n"
     ]
    },
    {
     "name": "stderr",
     "output_type": "stream",
     "text": [
      "WARNING: replacing module ctpPOP.\n",
      "WARNING: Compat.Printf is deprecated, use Printf instead.\n",
      "  likely near /home/hoanganh/Desktop/math-topics/ctpPOP/codes/ctpPOP/solvers/ProximalBundleMethod/ProximalMethod.jl:391\n"
     ]
    },
    {
     "name": "stdout",
     "output_type": "stream",
     "text": [
      "  Largest constant trace: a=5.0\n",
      "  Number of blocks: omega=14\n",
      "  Number of equality consraints: zeta=67\n",
      "  Size of the largest block: s^max=7\n",
      "Modeling time:\n",
      "  5.507428 seconds (4.03 M allocations: 195.330 MiB, 1.80% gc time)\n",
      "iter=1.0   val=-12.546910305402697   gap=0.0   feas=10.974364811274025\n",
      "iter=2.0   val=-4.182303435134233   gap=9.522351781174041   feas=3.0385145014299946\n",
      "iter=4.0   val=-3.3132797300458297   gap=4.591085678456165   feas=3.38653952244589\n",
      "iter=8.0   val=-2.894031544727605   gap=3.691470701810571   feas=1.0611727331067466\n",
      "iter=16.0   val=-2.3049926220224317   gap=1.4845896264850067   feas=0.8369870662965004\n",
      "iter=32.0   val=-2.953892161467142   gap=1.9381527177744382   feas=0.17888537240844712\n",
      "iter=64.0   val=-2.7582568256923228   gap=0.4455308712191144   feas=0.18572507214106082\n",
      "iter=128.0   val=-2.867970883311784   gap=0.912314542881175   feas=0.055077245788831455\n",
      "iter=256.0   val=-2.854113313249163   gap=0.19526832279431972   feas=0.0590870684156549\n",
      "iter=512.0   val=-2.8401510961382335   gap=0.3891578227309975   feas=0.014114490785161799\n",
      "iter=1024.0   val=-2.856087043732842   gap=0.06845657519210846   feas=0.01462722883862305\n",
      "iter=2048.0   val=-2.846327986068152   gap=0.1975150782173123   feas=0.003797222349153414\n",
      "iter=4096.0   val=-2.848803463027595   gap=0.05188898658569663   feas=0.00342717934468614\n",
      "iter=4219.0   val=-2.850946637506075   gap=0.009763150872419857   feas=0.003791886940973707\n",
      "tol satisfies!!!\n",
      "\n",
      "####################################\n",
      "opt_val = -2.850946637506075\n",
      "####################################\n",
      "Solving time:\n",
      "  2.463620 seconds (4.01 M allocations: 242.627 MiB, 4.85% gc time)\n",
      "Total time:\n",
      "  7.971316 seconds (8.04 M allocations: 437.971 MiB, 2.74% gc time)\n"
     ]
    },
    {
     "data": {
      "text/plain": [
       "-2.850946637506075"
      ]
     },
     "execution_count": 13,
     "metadata": {},
     "output_type": "execute_result"
    }
   ],
   "source": [
    "include(\"../src/ctpPOP.jl\")\n",
    "using .ctpPOP\n",
    "\n",
    "opt_val1=ctpPOP.POP_mix_CGAL(n,m,l,lmon_g,supp_g,coe_g,lmon_h,supp_h,coe_h,lmon_f,supp_f,coe_f,dg,dh,k,t,EigAlg=\"Arpack\",maxit=1e10,tol=1e-2,UseEq=false)"
   ]
  },
  {
   "cell_type": "code",
   "execution_count": 14,
   "metadata": {},
   "outputs": [
    {
     "name": "stdout",
     "output_type": "stream",
     "text": [
      "------------------------------------------------------\n",
      "The clique sizes of varibles:\n",
      "[3, 2]\n",
      "[2, 1]\n",
      "------------------------------------------------------\n",
      "  Number of cliques: p=3\n",
      "  Largest clique size: u=3\n"
     ]
    },
    {
     "name": "stderr",
     "output_type": "stream",
     "text": [
      "WARNING: replacing module ctpPOP.\n",
      "WARNING: Compat.Printf is deprecated, use Printf instead.\n",
      "  likely near /home/hoanganh/Desktop/math-topics/ctpPOP/codes/ctpPOP/solvers/ProximalBundleMethod/ProximalMethod.jl:391\n"
     ]
    },
    {
     "name": "stdout",
     "output_type": "stream",
     "text": [
      "  Largest constant trace: a=5.0\n",
      "  Number of blocks: omega=14\n",
      "  Number of equality consraints: zeta=67\n",
      "  Size of the largest block: s^max=7\n",
      "Modeling time:\n",
      "  4.834692 seconds (4.03 M allocations: 195.314 MiB, 1.83% gc time)\n",
      "**LMBM solver:\n",
      "---------------\n",
      "| Parameters: |\n",
      "---------------\n",
      "n:       67\n",
      "maxtime: 300000.000000\n",
      "na:      2\n",
      "mcu:     5\n",
      "mc:      7\n",
      "rpar: \n",
      "ipar: \n",
      " Warning: MC > MCU. Assigned MC = MCU.\n",
      " Entry to LMBM:\n",
      " NIT=    1  NFE=    1  F= 0.13276894D+01  WK= 0.1040D-01  QK= 0.5199D-02\n",
      " NIT=    2  NFE=    2  F= 0.13172913D+01  WK= 0.1040D-01  QK= 0.5199D-02\n",
      " NIT=    3  NFE=    3  F= 0.13068932D+01  WK= 0.1040D-01  QK= 0.5199D-02\n",
      " NIT=    4  NFE=    4  F= 0.12964951D+01  WK= 0.1040D-01  QK= 0.5199D-02\n",
      " NIT=    5  NFE=    5  F= 0.12860970D+01  WK= 0.1040D-01  QK= 0.5199D-02\n",
      " NIT=    6  NFE=    6  F= 0.12756988D+01  WK= 0.1040D-01  QK= 0.5199D-02\n",
      " NIT=    7  NFE=    7  F= 0.12653007D+01  WK= 0.1040D-01  QK= 0.5199D-02\n",
      " NIT=    8  NFE=    8  F= 0.12549026D+01  WK= 0.1040D-01  QK= 0.5199D-02\n",
      " NIT=    9  NFE=    9  F= 0.12445045D+01  WK= 0.1040D-01  QK= 0.5199D-02\n",
      " NIT=   10  NFE=   10  F= 0.12341064D+01  WK= 0.1040D-01  QK= 0.5199D-02\n",
      " NIT=   11  NFE=   11  F= 0.12237083D+01  WK= 0.1040D-01  QK= 0.5199D-02\n",
      " NIT=   12  NFE=   12  F= 0.12133101D+01  WK= 0.1040D-01  QK= 0.5199D-02\n",
      " NIT=   13  NFE=   13  F= 0.12029120D+01  WK= 0.1040D-01  QK= 0.5199D-02\n",
      " NIT=   14  NFE=   14  F= 0.11925139D+01  WK= 0.1040D-01  QK= 0.5199D-02\n",
      " NIT=   15  NFE=   15  F= 0.11821158D+01  WK= 0.1040D-01  QK= 0.5199D-02\n",
      " NIT=   16  NFE=   16  F= 0.11717177D+01  WK= 0.1040D-01  QK= 0.5199D-02\n",
      " NIT=   17  NFE=   17  F= 0.11613196D+01  WK= 0.1040D-01  QK= 0.5199D-02\n",
      " NIT=   18  NFE=   18  F= 0.11509214D+01  WK= 0.1040D-01  QK= 0.5199D-02\n",
      " NIT=   19  NFE=   24  F= 0.11505965D+01  WK= 0.1040D-01  QK= 0.5199D-02\n",
      " NIT=   20  NFE=   31  F= 0.11504341D+01  WK= 0.1040D-01  QK= 0.5199D-02\n",
      " NIT=   21  NFE=   41  F= 0.11504138D+01  WK= 0.1040D-01  QK= 0.5199D-02\n",
      " NIT=   22  NFE=   54  F= 0.11504112D+01  WK= 0.1040D-01  QK= 0.5199D-02\n",
      " NIT=   23  NFE=   68  F= 0.11504100D+01  WK= 0.1040D-01  QK= 0.5199D-02\n",
      " NIT=   24  NFE=   87  F= 0.11504099D+01  WK= 0.1040D-01  QK= 0.5199D-02\n",
      " NIT=   25  NFE=  108  F= 0.11504099D+01  WK= 0.1040D-01  QK= 0.5199D-02\n",
      " NIT=   26  NFE=  130  F= 0.11504099D+01  WK= 0.1040D-01  QK= 0.5199D-02\n",
      " NIT=   27  NFE=  175  F= 0.11504099D+01  WK= 0.1040D-01  QK= 0.5199D-02\n",
      " NIT=   28  NFE=  220  F= 0.11504099D+01  WK= 0.1040D-01  QK= 0.5199D-02\n",
      " NIT=   29  NFE=  265  F= 0.11504099D+01  WK= 0.1040D-01  QK= 0.5199D-02\n",
      " NIT=   30  NFE=  310  F= 0.11504099D+01  WK= 0.1040D-01  QK= 0.5199D-02\n",
      " NIT=   31  NFE=  355  F= 0.11504099D+01  WK= 0.1040D-01  QK= 0.5199D-02\n",
      " NIT=   32  NFE=  400  F= 0.11504099D+01  WK= 0.1040D-01  QK= 0.5199D-02\n",
      " NIT=   33  NFE=  445  F= 0.11504099D+01  WK= 0.1040D-01  QK= 0.5199D-02\n",
      " NIT=   34  NFE=  490  F= 0.11504099D+01  WK= 0.1040D-01  QK= 0.5199D-02\n",
      " NIT=   35  NFE=  535  F= 0.11504099D+01  WK= 0.1040D-01  QK= 0.5199D-02\n",
      " NIT=   36  NFE=  580  F= 0.11504099D+01  WK= 0.1040D-01  QK= 0.5199D-02\n",
      " NIT=   37  NFE=  625  F= 0.11504099D+01  WK= 0.1040D-01  QK= 0.5199D-02\n",
      " NIT=   38  NFE=  670  F= 0.11504099D+01  WK= 0.1040D-01  QK= 0.5199D-02\n",
      " NIT=   39  NFE=  715  F= 0.11504099D+01  WK= 0.1040D-01  QK= 0.5199D-02\n",
      " NIT=   40  NFE=  760  F= 0.11504099D+01  WK= 0.1040D-01  QK= 0.5199D-02\n",
      " NIT=   41  NFE=  805  F= 0.11504099D+01  WK= 0.1040D-01  QK= 0.5199D-02\n",
      " NIT=   42  NFE=  850  F= 0.11504099D+01  WK= 0.1040D-01  QK= 0.5199D-02\n",
      " NIT=   43  NFE=  895  F= 0.11504099D+01  WK= 0.1040D-01  QK= 0.5199D-02\n",
      " NIT=   44  NFE=  940  F= 0.11504099D+01  WK= 0.1040D-01  QK= 0.5199D-02\n",
      " NIT=   45  NFE=  985  F= 0.11504099D+01  WK= 0.1040D-01  QK= 0.5199D-02\n",
      " NIT=   46  NFE= 1030  F= 0.11504099D+01  WK= 0.1040D-01  QK= 0.5199D-02\n",
      " Exit from LMBM:\n",
      " Abnormal exit: Failure in attaining the demanded accuracy.\n",
      " NIT=   47  NFE= 1075  F= 0.11504099D+01  WK= 0.1040D-01  QK= 0.5199D-02  ITERM= -4\n",
      "-----------\n",
      "| Output: |\n",
      "-----------\n",
      "Termination:     -4\n",
      "N. iter.:        47\n",
      "N. func. eval.:  1075\n",
      "Final value:     1.150410\n",
      "Execution time:  0.789093\n",
      "\n",
      "####################################\n",
      "opt_val = -10.871586295149864\n",
      "####################################\n",
      "  1.040875 seconds (1.86 M allocations: 96.217 MiB, 6.79% gc time)\n",
      "Total time:\n",
      "  5.875839 seconds (5.89 M allocations: 291.544 MiB, 2.71% gc time)\n"
     ]
    },
    {
     "data": {
      "text/plain": [
       "-10.871586295149864"
      ]
     },
     "execution_count": 14,
     "metadata": {},
     "output_type": "execute_result"
    }
   ],
   "source": [
    "include(\"../src/ctpPOP.jl\")\n",
    "using .ctpPOP\n",
    "\n",
    "opt_val1=ctpPOP.POP_mix_LMBM(n,m,l,lmon_g,supp_g,coe_g,lmon_h,supp_h,coe_h,lmon_f,supp_f,coe_f,dg,dh,k,t,EigAlg=\"Arpack\",UseEq=false)"
   ]
  },
  {
   "cell_type": "code",
   "execution_count": 15,
   "metadata": {},
   "outputs": [
    {
     "name": "stdout",
     "output_type": "stream",
     "text": [
      "------------------------------------------------------\n",
      "The clique sizes of varibles:\n",
      "[3, 2]\n",
      "[2, 1]\n",
      "------------------------------------------------------\n",
      "Problem\n",
      "  Name                   :                 \n",
      "  Objective sense        : max             \n",
      "  Type                   : CONIC (conic optimization problem)\n",
      "  Constraints            : 53              \n",
      "  Cones                  : 0               \n",
      "  Scalar variables       : 12              \n",
      "  Matrix variables       : 13              \n",
      "  Integer variables      : 0               \n",
      "\n",
      "Optimizer started.\n",
      "Presolve started.\n",
      "Linear dependency checker started.\n",
      "Linear dependency checker terminated.\n",
      "Eliminator started.\n",
      "Freed constraints in eliminator : 0\n",
      "Eliminator terminated.\n",
      "Eliminator - tries                  : 1                 time                   : 0.00            \n",
      "Lin. dep.  - tries                  : 1                 time                   : 0.00            \n",
      "Lin. dep.  - number                 : 0               \n",
      "Presolve terminated. Time: 0.00    \n",
      "Problem\n",
      "  Name                   :                 \n",
      "  Objective sense        : max             \n",
      "  Type                   : CONIC (conic optimization problem)\n",
      "  Constraints            : 53              \n",
      "  Cones                  : 0               \n",
      "  Scalar variables       : 12              \n",
      "  Matrix variables       : 13              \n",
      "  Integer variables      : 0               \n",
      "\n",
      "Optimizer  - threads                : 4               \n",
      "Optimizer  - solved problem         : the primal      \n",
      "Optimizer  - Constraints            : 53\n",
      "Optimizer  - Cones                  : 3\n",
      "Optimizer  - Scalar variables       : 19                conic                  : 15              \n",
      "Optimizer  - Semi-definite variables: 11                scalarized             : 122             \n",
      "Factor     - setup time             : 0.00              dense det. time        : 0.00            \n",
      "Factor     - ML order time          : 0.00              GP order time          : 0.00            \n",
      "Factor     - nonzeros before factor : 598               after factor           : 696             \n",
      "Factor     - dense dim.             : 0                 flops                  : 2.19e+04        \n",
      "ITE PFEAS    DFEAS    GFEAS    PRSTATUS   POBJ              DOBJ              MU       TIME  \n",
      "0   8.6e+00  1.0e+00  1.0e+00  0.00e+00   0.000000000e+00   0.000000000e+00   1.0e+00  0.00  \n",
      "1   4.6e+00  5.4e-01  4.2e-01  -7.09e-02  -1.050582005e+00  -1.042640120e+00  5.4e-01  0.00  \n",
      "2   1.4e+00  1.6e-01  6.3e-02  2.19e+00   -1.771829892e+00  -1.816007853e+00  1.6e-01  0.00  \n",
      "3   2.0e-01  2.3e-02  3.7e-03  8.37e-01   -2.680098155e+00  -2.689313328e+00  2.3e-02  0.00  \n",
      "4   1.4e-02  1.6e-03  7.1e-05  9.50e-01   -2.837925913e+00  -2.838739854e+00  1.6e-03  0.00  \n",
      "5   5.0e-04  5.9e-05  5.1e-07  9.89e-01   -2.848095938e+00  -2.848126928e+00  5.9e-05  0.00  \n",
      "6   3.0e-05  3.4e-06  7.3e-09  1.00e+00   -2.848366730e+00  -2.848368529e+00  3.4e-06  0.01  \n",
      "7   1.0e-06  1.2e-07  4.6e-11  1.00e+00   -2.848379093e+00  -2.848379155e+00  1.2e-07  0.01  \n",
      "8   3.1e-08  3.6e-09  2.4e-13  1.00e+00   -2.848379399e+00  -2.848379401e+00  3.6e-09  0.01  \n",
      "Optimizer terminated. Time: 0.01    \n",
      "\n",
      "optimum = -2.8483793989263564\n",
      "  0.012240 seconds (24.85 k allocations: 1.883 MiB)\n"
     ]
    }
   ],
   "source": [
    "using TSSOS\n",
    "\n",
    "\n",
    "@time opt,sol,data=cs_tssos_first(Vector{SparseMatrixCSC{UInt8,UInt32}}([[supp_f];supp_g;supp_h]),[[coe_f];coe_g;coe_h],n,k,[dg;dh],numeq=l,CS=\"MD\",TS=\"block\",CTP=false);"
   ]
  },
  {
   "cell_type": "code",
   "execution_count": null,
   "metadata": {},
   "outputs": [],
   "source": []
  }
 ],
 "metadata": {
  "kernelspec": {
   "display_name": "Julia 1.3.0",
   "language": "julia",
   "name": "julia-1.3"
  },
  "language_info": {
   "file_extension": ".jl",
   "mimetype": "application/julia",
   "name": "julia",
   "version": "1.3.0"
  }
 },
 "nbformat": 4,
 "nbformat_minor": 2
}
