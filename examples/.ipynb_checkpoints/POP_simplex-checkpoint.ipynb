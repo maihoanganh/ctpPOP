{
 "cells": [
  {
   "cell_type": "code",
   "execution_count": 1,
   "metadata": {},
   "outputs": [
    {
     "name": "stdout",
     "output_type": "stream",
     "text": [
      "***Problem setting***\n",
      "Number of variable: n=5\n",
      "====================\n",
      "Number of inequality constraints: m=7\n",
      "====================\n",
      "Number of equality constraints: l=1\n",
      "====================\n",
      "Relaxed order: k=2\n"
     ]
    }
   ],
   "source": [
    "using DynamicPolynomials\n",
    "\n",
    "println(\"***Problem setting***\")\n",
    "\n",
    "n=5\n",
    "\n",
    "println(\"Number of variable: n=\",n)\n",
    "println(\"====================\")\n",
    "\n",
    "@polyvar x[1:n]# variables\n",
    "\n",
    "function generate_random_poly(v)\n",
    "    c=2*rand(Float64,length(v)).-1\n",
    "    return c'*v\n",
    "end\n",
    "# random quadratic objective function f\n",
    "v=reverse(monomials(x,0:2))\n",
    "f=generate_random_poly(v)\n",
    "\n",
    "\n",
    "# unit sphere constraint\n",
    "g=[x;1.0-sum(x);1.0-sum(x.^2)] #type of coefficients of each polynomial must be float\n",
    "\n",
    "m=length(g)\n",
    "println(\"Number of inequality constraints: m=\",m)\n",
    "println(\"====================\")\n",
    "\n",
    "l=ceil(Int64, n/7)\n",
    "\n",
    "h=Vector{Polynomial{true,Float64}}(undef,l)\n",
    "randx=2*rand(n).-1# create a feasible solution\n",
    "randx=rand(1)[1]*randx./sqrt(sum(randx.^2))\n",
    "\n",
    "\n",
    "for j in 1:l\n",
    "    h[j]=generate_random_poly(v[2:end])\n",
    "    h[j]-=h[j](x => randx) #make constraints feasible\n",
    "end\n",
    "\n",
    "l=length(h)\n",
    "println(\"Number of equality constraints: l=\",l)\n",
    "println(\"====================\")\n",
    "\n",
    "k=2\n",
    "\n",
    "println(\"Relaxed order: k=\",k)\n",
    "\n"
   ]
  },
  {
   "cell_type": "code",
   "execution_count": null,
   "metadata": {},
   "outputs": [],
   "source": [
    "include(\"../src/ctpPOP.jl\")\n",
    "using .ctpPOP\n",
    "\n",
    "opt_val=ctpPOP.POP_CGAL(x,f,g,h,k;EigAlg=\"Mix\",tol=1e-4,UseEq=false)"
   ]
  },
  {
   "cell_type": "code",
   "execution_count": 43,
   "metadata": {},
   "outputs": [
    {
     "name": "stdout",
     "output_type": "stream",
     "text": [
      "  Computing constant trace status: OPTIMAL\n",
      "  Constant trace: ak = 5.0\n",
      "  Number of blocks: omega=28\n",
      "  Size of the largest block: s^max=351\n",
      "  Number of equality trace constraints: zeta=48907\n"
     ]
    },
    {
     "name": "stderr",
     "output_type": "stream",
     "text": [
      "WARNING: replacing module ctpPOP.\n"
     ]
    },
    {
     "name": "stdout",
     "output_type": "stream",
     "text": [
      "Modeling time:\n",
      "  2.107121 seconds (12.24 M allocations: 2.915 GiB, 15.27% gc time)\n",
      "---------------\n",
      "| Parameters: |\n",
      "---------------\n",
      "n:       48907\n",
      "maxtime: 300000.000000\n",
      "na:      2\n",
      "mcu:     5\n",
      "mc:      7\n",
      "rpar: \n",
      "ipar: \n",
      " Warning: MC > MCU. Assigned MC = MCU.\n",
      " Entry to LMBM:\n",
      " NIT=    1  NFE=    1  F= 0.34250330D+00  WK= 0.1763D+01  QK= 0.8813D+00\n",
      " NIT=    2  NFE=    2  F= 0.34250330D+00  WK= 0.1187D+01  QK= 0.5969D+00\n",
      " NIT=    3  NFE=    3  F= 0.34250330D+00  WK= 0.9815D+00  QK= 0.5197D+00\n",
      " NIT=    4  NFE=    4  F= 0.34250330D+00  WK= 0.8612D+00  QK= 0.4584D+00\n",
      " NIT=    5  NFE=    5  F= 0.34250330D+00  WK= 0.7802D+00  QK= 0.4163D+00\n",
      " NIT=    6  NFE=    6  F= 0.34250330D+00  WK= 0.7058D+00  QK= 0.3773D+00\n",
      " NIT=    7  NFE=    7  F= 0.34250330D+00  WK= 0.5959D+00  QK= 0.3128D+00\n",
      " NIT=    8  NFE=    8  F= 0.18615335D+00  WK= 0.1247D+00  QK= 0.3851D+00\n",
      " NIT=    9  NFE=    9  F= 0.18615335D+00  WK= 0.2926D+00  QK= 0.2752D+00\n",
      " NIT=   10  NFE=   10  F= 0.18615335D+00  WK= 0.1985D+00  QK= 0.1742D+00\n",
      " NIT=   11  NFE=   11  F= 0.18615335D+00  WK= 0.1740D+00  QK= 0.1393D+00\n",
      " NIT=   12  NFE=   12  F= 0.13416927D+00  WK= 0.9091D-01  QK= 0.3991D+00\n",
      " NIT=   13  NFE=   13  F= 0.13416927D+00  WK= 0.1243D+00  QK= 0.1856D+00\n",
      " NIT=   14  NFE=   15  F= 0.12266489D+00  WK= 0.7453D-01  QK= 0.8199D+00\n",
      " NIT=   15  NFE=   16  F= 0.12266489D+00  WK= 0.1422D+00  QK= 0.4595D+00\n",
      " NIT=   16  NFE=   18  F= 0.12266489D+00  WK= 0.1311D+00  QK= 0.4283D+00\n",
      " NIT=   17  NFE=   20  F= 0.12266489D+00  WK= 0.1194D+00  QK= 0.3696D+00\n",
      " NIT=   18  NFE=   22  F= 0.10060701D+00  WK= 0.3712D-01  QK= 0.2964D+00\n",
      " NIT=   19  NFE=   23  F= 0.10060701D+00  WK= 0.8269D-01  QK= 0.1685D+00\n",
      " NIT=   20  NFE=   25  F= 0.93060465D-01  WK= 0.1508D-01  QK= 0.2175D+00\n",
      " NIT=   21  NFE=   26  F= 0.93060465D-01  WK= 0.8167D-01  QK= 0.1417D+00\n",
      " NIT=   22  NFE=   28  F= 0.93060465D-01  WK= 0.6989D-01  QK= 0.1078D+00\n",
      " NIT=   23  NFE=   30  F= 0.86386553D-01  WK= 0.2346D-01  QK= 0.4711D+00\n",
      " NIT=   24  NFE=   31  F= 0.86386553D-01  WK= 0.6524D-01  QK= 0.2935D+00\n",
      " NIT=   25  NFE=   35  F= 0.86386553D-01  WK= 0.5840D-01  QK= 0.2506D+00\n",
      " NIT=   26  NFE=   38  F= 0.86386553D-01  WK= 0.5218D-01  QK= 0.2129D+00\n",
      " NIT=   27  NFE=   41  F= 0.86386553D-01  WK= 0.4635D-01  QK= 0.1795D+00\n",
      " NIT=   28  NFE=   43  F= 0.86386553D-01  WK= 0.3843D-01  QK= 0.1479D+00\n",
      " NIT=   29  NFE=   45  F= 0.79977756D-01  WK= 0.1340D-01  QK= 0.3382D+00\n",
      " NIT=   30  NFE=   46  F= 0.79977756D-01  WK= 0.8084D-01  QK= 0.2302D+00\n",
      " NIT=   31  NFE=   49  F= 0.79977756D-01  WK= 0.6157D-01  QK= 0.1798D+00\n",
      " NIT=   32  NFE=   51  F= 0.75491808D-01  WK= 0.1825D-01  QK= 0.3013D+00\n",
      " NIT=   33  NFE=   52  F= 0.75491808D-01  WK= 0.1047D+00  QK= 0.1900D+00\n",
      " NIT=   34  NFE=   56  F= 0.75491808D-01  WK= 0.8303D-01  QK= 0.1362D+00\n",
      " NIT=   35  NFE=   59  F= 0.75491808D-01  WK= 0.7072D-01  QK= 0.1081D+00\n",
      " NIT=   36  NFE=   62  F= 0.75491808D-01  WK= 0.6510D-01  QK= 0.9381D-01\n",
      " NIT=   37  NFE=   65  F= 0.73298901D-01  WK= 0.5791D-02  QK= 0.3051D+00\n",
      " NIT=   38  NFE=   66  F= 0.73298901D-01  WK= 0.7849D-01  QK= 0.2074D+00\n",
      " NIT=   39  NFE=   70  F= 0.73298901D-01  WK= 0.7104D-01  QK= 0.2224D+00\n",
      " NIT=   40  NFE=   74  F= 0.72316298D-01  WK= 0.1534D-02  QK= 0.3064D+00\n",
      " NIT=   41  NFE=   75  F= 0.71880968D-01  WK= 0.1312D-02  QK= 0.2072D+00\n",
      " NIT=   42  NFE=   76  F= 0.71880968D-01  WK= 0.5278D-01  QK= 0.1517D+00\n",
      " NIT=   43  NFE=   80  F= 0.71880968D-01  WK= 0.4509D-01  QK= 0.1609D+00\n",
      " NIT=   44  NFE=   83  F= 0.71880968D-01  WK= 0.4027D-01  QK= 0.1357D+00\n",
      " NIT=   45  NFE=   86  F= 0.70749649D-01  WK= 0.2315D-02  QK= 0.3159D+00\n",
      " NIT=   46  NFE=   87  F= 0.70749649D-01  WK= 0.6148D-01  QK= 0.1758D+00\n",
      " NIT=   47  NFE=   90  F= 0.70749649D-01  WK= 0.3737D-01  QK= 0.1358D+00\n",
      " NIT=   48  NFE=   93  F= 0.70749649D-01  WK= 0.3548D-01  QK= 0.1233D+00\n",
      " NIT=   49  NFE=   96  F= 0.69156843D-01  WK= 0.1671D-02  QK= 0.2971D+00\n",
      " NIT=   50  NFE=   97  F= 0.69156843D-01  WK= 0.5846D-01  QK= 0.1521D+00\n",
      " NIT=   51  NFE=  102  F= 0.69026174D-01  WK= 0.1535D-02  QK= 0.3158D+00\n",
      " NIT=   52  NFE=  103  F= 0.69026174D-01  WK= 0.9082D-01  QK= 0.2029D+00\n",
      " NIT=   53  NFE=  107  F= 0.69026174D-01  WK= 0.7043D-01  QK= 0.1403D+00\n",
      " NIT=   54  NFE=  110  F= 0.69026174D-01  WK= 0.4609D-01  QK= 0.1053D+00\n",
      " NIT=   55  NFE=  113  F= 0.69026174D-01  WK= 0.3325D-01  QK= 0.6098D-01\n",
      " NIT=   56  NFE=  116  F= 0.69026174D-01  WK= 0.2777D-01  QK= 0.5209D-01\n",
      " NIT=   57  NFE=  119  F= 0.67991658D-01  WK= 0.4624D-02  QK= 0.2991D+00\n",
      " NIT=   58  NFE=  120  F= 0.67991658D-01  WK= 0.8809D-01  QK= 0.1728D+00\n",
      " NIT=   59  NFE=  124  F= 0.67991658D-01  WK= 0.5346D-01  QK= 0.9272D-01\n",
      " NIT=   60  NFE=  128  F= 0.67991658D-01  WK= 0.4878D-01  QK= 0.8091D-01\n",
      " NIT=   61  NFE=  131  F= 0.67991658D-01  WK= 0.3323D-01  QK= 0.6261D-01\n",
      " NIT=   62  NFE=  134  F= 0.67144436D-01  WK= 0.3898D-02  QK= 0.1717D+00\n",
      " NIT=   63  NFE=  135  F= 0.67144436D-01  WK= 0.1063D+00  QK= 0.1080D+00\n",
      " NIT=   64  NFE=  139  F= 0.67144436D-01  WK= 0.6006D-01  QK= 0.7600D-01\n",
      " NIT=   65  NFE=  143  F= 0.66616147D-01  WK= 0.1959D-02  QK= 0.2895D+00\n",
      " NIT=   66  NFE=  144  F= 0.66616147D-01  WK= 0.9846D-01  QK= 0.1905D+00\n",
      " NIT=   67  NFE=  148  F= 0.66080673D-01  WK= 0.1476D-02  QK= 0.2218D+00\n",
      " NIT=   68  NFE=  149  F= 0.66080673D-01  WK= 0.2124D-01  QK= 0.1421D+00\n",
      " NIT=   69  NFE=  152  F= 0.65636582D-01  WK= 0.6996D-03  QK= 0.2995D+00\n",
      " NIT=   70  NFE=  153  F= 0.65636582D-01  WK= 0.4204D-01  QK= 0.2168D+00\n",
      " NIT=   71  NFE=  157  F= 0.65457579D-01  WK= 0.5196D-03  QK= 0.2323D+00\n",
      " NIT=   72  NFE=  158  F= 0.65307675D-01  WK= 0.4461D-03  QK= 0.1606D+00\n",
      " NIT=   73  NFE=  159  F= 0.64873620D-01  WK= 0.1298D-01  QK= 0.1565D+00\n",
      " NIT=   74  NFE=  160  F= 0.64873620D-01  WK= 0.9253D-01  QK= 0.8285D-01\n",
      " NIT=   75  NFE=  166  F= 0.64689764D-01  WK= 0.2249D-02  QK= 0.2849D+00\n",
      " NIT=   76  NFE=  167  F= 0.64689764D-01  WK= 0.4233D-01  QK= 0.1847D+00\n",
      " NIT=   77  NFE=  172  F= 0.64648256D-01  WK= 0.5244D+00  QK= 0.2849D+00\n",
      " NIT=   78  NFE=  174  F= 0.64648256D-01  WK= 0.4185D-01  QK= 0.1896D+00\n",
      " NIT=   79  NFE=  180  F= 0.64648256D-01  WK= 0.2776D-01  QK= 0.9670D-01\n",
      " NIT=   80  NFE=  187  F= 0.64632598D-01  WK= 0.6190D-01  QK= 0.1590D+00\n",
      " NIT=   81  NFE=  188  F= 0.64632598D-01  WK= 0.4030D-01  QK= 0.1386D+00\n",
      " NIT=   82  NFE=  202  F= 0.64630624D-01  WK= 0.1004D-01  QK= 0.1596D+00\n",
      " NIT=   83  NFE=  203  F= 0.64630624D-01  WK= 0.2987D-01  QK= 0.1237D+00\n",
      " NIT=   84  NFE=  212  F= 0.64622680D-01  WK= 0.4855D-04  QK= 0.3070D+00\n",
      " NIT=   85  NFE=  213  F= 0.64622680D-01  WK= 0.1281D+00  QK= 0.2688D+00\n",
      " NIT=   86  NFE=  223  F= 0.64622669D-01  WK= 0.5550D+02  QK= 0.3070D+00\n",
      " NIT=   87  NFE=  224  F= 0.64622669D-01  WK= 0.1755D+01  QK= 0.1027D+01\n",
      " Warning: A nondescent search direction occured. Restart.\n",
      " NIT=   88  NFE=  247  F= 0.64622669D-01  WK= 0.6141D+00  QK= 0.3070D+00\n",
      " NIT=   89  NFE=  248  F= 0.64622669D-01  WK= 0.4051D+00  QK= 0.2026D+00\n",
      " NIT=   90  NFE=  260  F= 0.64622669D-01  WK= 0.2820D+00  QK= 0.1504D+00\n",
      " NIT=   91  NFE=  271  F= 0.64621920D-01  WK= 0.1255D+02  QK= 0.3070D+00\n",
      " NIT=   92  NFE=  272  F= 0.64621920D-01  WK= 0.2071D+01  QK= 0.1154D+01\n",
      " Warning: A nondescent search direction occured. Restart.\n",
      " NIT=   93  NFE=  296  F= 0.64621920D-01  WK= 0.6141D+00  QK= 0.3070D+00\n",
      " NIT=   94  NFE=  297  F= 0.64621920D-01  WK= 0.4051D+00  QK= 0.2026D+00\n",
      " NIT=   95  NFE=  307  F= 0.64621920D-01  WK= 0.2820D+00  QK= 0.1504D+00\n",
      " NIT=   96  NFE=  315  F= 0.64621920D-01  WK= 0.2060D+00  QK= 0.1804D+00\n",
      " NIT=   97  NFE=  321  F= 0.64559466D-01  WK= 0.1568D-02  QK= 0.3056D+00\n",
      " NIT=   98  NFE=  322  F= 0.64559466D-01  WK= 0.6911D-01  QK= 0.1672D+00\n",
      " NIT=   99  NFE=  332  F= 0.64559466D-01  WK= 0.2200D+02  QK= 0.3056D+00\n",
      " Warning: A nondescent search direction occured. Restart.\n",
      " NIT=  100  NFE=  333  F= 0.64559466D-01  WK= 0.6112D+00  QK= 0.3056D+00\n",
      " NIT=  101  NFE=  334  F= 0.64559466D-01  WK= 0.3760D+00  QK= 0.1884D+00\n",
      " NIT=  102  NFE=  344  F= 0.64534162D-01  WK= 0.2442D-02  QK= 0.2994D+00\n",
      " NIT=  103  NFE=  345  F= 0.64534162D-01  WK= 0.2017D+00  QK= 0.2553D+00\n",
      " NIT=  104  NFE=  360  F= 0.64534162D-01  WK= 0.9419D-01  QK= 0.1146D+00\n",
      " NIT=  105  NFE=  367  F= 0.64521055D-01  WK= 0.5017D+02  QK= 0.2994D+00\n",
      " NIT=  106  NFE=  368  F= 0.64521055D-01  WK= 0.1846D+01  QK= 0.1071D+01\n",
      " Warning: A nondescent search direction occured. Restart.\n",
      " NIT=  107  NFE=  388  F= 0.64521055D-01  WK= 0.5988D+00  QK= 0.2994D+00\n",
      " NIT=  108  NFE=  389  F= 0.64521055D-01  WK= 0.3858D+00  QK= 0.1929D+00\n",
      " NIT=  109  NFE=  406  F= 0.64521055D-01  WK= 0.1611D+00  QK= 0.8544D-01\n",
      " NIT=  110  NFE=  420  F= 0.64521055D-01  WK= 0.1601D+00  QK= 0.1807D+00\n",
      " NIT=  111  NFE=  428  F= 0.64518245D-01  WK= 0.1694D+02  QK= 0.2994D+00\n",
      " NIT=  112  NFE=  429  F= 0.64518245D-01  WK= 0.1826D+01  QK= 0.1063D+01\n",
      " Warning: A nondescent search direction occured. Restart.\n",
      " NIT=  113  NFE=  451  F= 0.64518245D-01  WK= 0.5988D+00  QK= 0.2994D+00\n",
      " NIT=  114  NFE=  452  F= 0.64518245D-01  WK= 0.3858D+00  QK= 0.1929D+00\n",
      " NIT=  115  NFE=  469  F= 0.64518245D-01  WK= 0.1603D+00  QK= 0.8418D-01\n",
      " NIT=  116  NFE=  483  F= 0.64518245D-01  WK= 0.1566D+00  QK= 0.1469D+00\n",
      " NIT=  117  NFE=  497  F= 0.64518245D-01  WK= 0.1558D+00  QK= 0.2220D+00\n",
      " NIT=  118  NFE=  511  F= 0.64518245D-01  WK= 0.1558D+00  QK= 0.2994D+00\n",
      " NIT=  119  NFE=  525  F= 0.64518245D-01  WK= 0.1558D+00  QK= 0.2994D+00\n",
      " NIT=  120  NFE=  539  F= 0.64518245D-01  WK= 0.1557D+00  QK= 0.2994D+00\n",
      " NIT=  121  NFE=  550  F= 0.64518245D-01  WK= 0.1681D+02  QK= 0.2994D+00\n",
      " NIT=  122  NFE=  551  F= 0.64518245D-01  WK= 0.1809D+01  QK= 0.1054D+01\n",
      " Warning: A nondescent search direction occured. Restart.\n",
      " NIT=  123  NFE=  571  F= 0.64518245D-01  WK= 0.5988D+00  QK= 0.2994D+00\n",
      " NIT=  124  NFE=  572  F= 0.64518245D-01  WK= 0.3858D+00  QK= 0.1929D+00\n",
      " NIT=  125  NFE=  589  F= 0.64518245D-01  WK= 0.1710D+00  QK= 0.9186D-01\n",
      " NIT=  126  NFE=  599  F= 0.64518237D-01  WK= 0.1588D+02  QK= 0.2994D+00\n",
      " NIT=  127  NFE=  600  F= 0.64518237D-01  WK= 0.1871D+01  QK= 0.1087D+01\n",
      " Warning: A nondescent search direction occured. Restart.\n",
      " NIT=  128  NFE=  620  F= 0.64518237D-01  WK= 0.5988D+00  QK= 0.2994D+00\n",
      " NIT=  129  NFE=  621  F= 0.64518237D-01  WK= 0.3858D+00  QK= 0.1929D+00\n",
      " NIT=  130  NFE=  638  F= 0.64518237D-01  WK= 0.1651D+00  QK= 0.8806D-01\n",
      " NIT=  131  NFE=  652  F= 0.64518237D-01  WK= 0.1643D+00  QK= 0.2371D+00\n",
      " NIT=  132  NFE=  666  F= 0.64518237D-01  WK= 0.1482D+00  QK= 0.1625D+00\n",
      " NIT=  133  NFE=  680  F= 0.64518237D-01  WK= 0.1476D+00  QK= 0.2994D+00\n",
      " NIT=  134  NFE=  697  F= 0.64518237D-01  WK= 0.1476D+00  QK= 0.2994D+00\n",
      " NIT=  135  NFE=  711  F= 0.64518237D-01  WK= 0.1476D+00  QK= 0.2994D+00\n",
      " NIT=  136  NFE=  728  F= 0.64518237D-01  WK= 0.1476D+00  QK= 0.2994D+00\n",
      " Exit from LMBM:\n",
      " Abnormal exit: The value of the function does not change.\n",
      " NIT=  136  NFE=  741  F= 0.64518237D-01  WK= 0.1476D+00  QK= 0.2994D+00  ITERM=  3\n",
      "-----------\n"
     ]
    },
    {
     "name": "stdout",
     "output_type": "stream",
     "text": [
      "| Output: |\n",
      "-----------\n",
      "Termination:     3\n",
      "N. iter.:        136\n",
      "N. func. eval.:  741\n",
      "Final value:     0.064518\n",
      "Execution time:  34.252930\n",
      "\n",
      "####################################\n",
      "opt_val = -2.4683643926928336\n",
      "####################################\n",
      "Solving time:\n",
      " 12.786152 seconds (4.29 M allocations: 7.616 GiB, 2.26% gc time)\n",
      "Dimension of the null space of Gram matrix = 1\n",
      "------------------------------------\n",
      "atom 1 = [0.020960825930614754, 0.20106683299560182, 0.0033508874921189752, -0.01621448159217807, 0.12387639046853807, -0.05823847634930991, -0.07705842359755946, -0.08548441018040845, 0.1836059105296595, -0.05463637468809975, 0.09243635004895215, -0.0046355339435049615, 0.030808828866223575, 0.10654975237003428, -0.026357347455485677, -0.029947931950155833, 0.007897939614518965, 0.007883985864236493, -0.011769489508828121, 0.05812241172855441, -0.01347572912209445, 0.04392671920241324, -0.05193482001116475, 0.023258317386314505, 0.07802766286111465]\n",
      "  check gap of lower bound  = 2.206874167323341\n",
      "  check inequality constraint 1 = 0.020960825930614754\n",
      "  check inequality constraint 2 = 0.20106683299560182\n",
      "  check inequality constraint 3 = 0.0033508874921189752\n",
      "  check inequality constraint 4 = -0.01621448159217807\n",
      "  check inequality constraint 5 = 0.12387639046853807\n",
      "  check inequality constraint 6 = -0.05823847634930991\n",
      "  check inequality constraint 7 = -0.07705842359755946\n",
      "  check inequality constraint 8 = -0.08548441018040845\n",
      "  check inequality constraint 9 = 0.1836059105296595\n",
      "  check inequality constraint 10 = -0.05463637468809975\n",
      "  check inequality constraint 11 = 0.09243635004895215\n",
      "  check inequality constraint 12 = -0.0046355339435049615\n",
      "  check inequality constraint 13 = 0.030808828866223575\n",
      "  check inequality constraint 14 = 0.10654975237003428\n",
      "  check inequality constraint 15 = -0.026357347455485677\n",
      "  check inequality constraint 16 = -0.029947931950155833\n",
      "  check inequality constraint 17 = 0.007897939614518965\n",
      "  check inequality constraint 18 = 0.007883985864236493\n",
      "  check inequality constraint 19 = -0.011769489508828121\n",
      "  check inequality constraint 20 = 0.05812241172855441\n",
      "  check inequality constraint 21 = -0.01347572912209445\n",
      "  check inequality constraint 22 = 0.04392671920241324\n",
      "  check inequality constraint 23 = -0.05193482001116475\n",
      "  check inequality constraint 24 = 0.023258317386314505\n",
      "  check inequality constraint 25 = 0.07802766286111465\n",
      "  check inequality constraint 26 = 0.44798020303989405\n",
      "  check inequality constraint 27 = 0.8526412031701333\n",
      "  check equality constraint 1 = -0.4246824355525395\n",
      "  check equality constraint 2 = -0.24277668293248703\n",
      "  check equality constraint 3 = 0.2991423664943208\n",
      "  check equality constraint 4 = 0.550871047152716\n",
      "Extracting solutuion time:\n",
      "  0.240124 seconds (188.65 k allocations: 17.888 MiB)\n",
      "Total time:\n",
      " 15.133754 seconds (16.72 M allocations: 10.548 GiB, 4.04% gc time)\n"
     ]
    },
    {
     "data": {
      "text/plain": [
       "(-2.4683643926928336, Array{Float64,1}[])"
      ]
     },
     "execution_count": 43,
     "metadata": {},
     "output_type": "execute_result"
    }
   ],
   "source": [
    "include(\"../src/ctpPOP.jl\")\n",
    "using .ctpPOP\n",
    "\n",
    "opt_val=ctpPOP.POP_LMBM(x,f,g,h,k;EigAlg=\"Arpack\",tol=1e-4,UseEq=false)"
   ]
  },
  {
   "cell_type": "code",
   "execution_count": null,
   "metadata": {},
   "outputs": [],
   "source": []
  },
  {
   "cell_type": "code",
   "execution_count": 44,
   "metadata": {},
   "outputs": [
    {
     "name": "stdout",
     "output_type": "stream",
     "text": [
      "**SumOfSquares+Mosek:\n"
     ]
    },
    {
     "name": "stderr",
     "output_type": "stream",
     "text": [
      "WARNING: replacing module ctpPOP.\n"
     ]
    },
    {
     "name": "stdout",
     "output_type": "stream",
     "text": [
      "OPTIMAL\n",
      "opt_val=-1.0495723585859016\n",
      "992.916621 seconds (38.85 M allocations: 3.977 GiB, 0.08% gc time)\n"
     ]
    },
    {
     "data": {
      "text/plain": [
       "-1.0495723585859016"
      ]
     },
     "execution_count": 44,
     "metadata": {},
     "output_type": "execute_result"
    }
   ],
   "source": [
    "include(\"../src/ctpPOP.jl\")\n",
    "using .ctpPOP\n",
    "\n",
    "opt_val=ctpPOP.SumofSquares_POP(x,f,g,h,k)"
   ]
  },
  {
   "cell_type": "code",
   "execution_count": null,
   "metadata": {},
   "outputs": [],
   "source": []
  },
  {
   "cell_type": "code",
   "execution_count": null,
   "metadata": {},
   "outputs": [],
   "source": []
  },
  {
   "cell_type": "code",
   "execution_count": 15,
   "metadata": {},
   "outputs": [
    {
     "data": {
      "text/plain": [
       "1.0"
      ]
     },
     "execution_count": 15,
     "metadata": {},
     "output_type": "execute_result"
    }
   ],
   "source": [
    "using LinearAlgebra\n",
    "\n",
    "norm([sqrt(2)/2;sqrt(2)/2])"
   ]
  },
  {
   "cell_type": "code",
   "execution_count": 22,
   "metadata": {},
   "outputs": [
    {
     "data": {
      "text/plain": [
       "2-element Array{Float64,1}:\n",
       " 1.0              \n",
       " 2.449489742783178"
      ]
     },
     "execution_count": 22,
     "metadata": {},
     "output_type": "execute_result"
    }
   ],
   "source": [
    "sqrt.([1;6])"
   ]
  },
  {
   "cell_type": "code",
   "execution_count": 34,
   "metadata": {},
   "outputs": [
    {
     "data": {
      "text/plain": [
       "0.11904761904761904"
      ]
     },
     "execution_count": 34,
     "metadata": {},
     "output_type": "execute_result"
    }
   ],
   "source": [
    "5/(6*7)"
   ]
  },
  {
   "cell_type": "code",
   "execution_count": 36,
   "metadata": {},
   "outputs": [
    {
     "name": "stdout",
     "output_type": "stream",
     "text": [
      " 15.410639 seconds (1.16 k allocations: 1.956 MiB)\n",
      " 10.863900 seconds (1.27 k allocations: 3.291 MiB)\n"
     ]
    }
   ],
   "source": [
    "using Arpack, KrylovKit, ArnoldiMethod\n",
    "\n",
    "n=10000\n",
    "\n",
    "A=rand(n,n)\n",
    "A=0.5*(A+A')\n",
    "\n",
    "#@time eigsolve(A, [howmany = 1, which = :SR, T = eltype(A)])\n",
    "@time eigs(A,nev = 1,which=:SR,tol=1e-5) \n",
    "@time partialeigen(partialschur(A, nev=1,tol=1e-5, which=SR())[1]);\n",
    "\n"
   ]
  },
  {
   "cell_type": "code",
   "execution_count": 1,
   "metadata": {},
   "outputs": [
    {
     "data": {
      "text/plain": [
       "2.0265696584831496"
      ]
     },
     "execution_count": 1,
     "metadata": {},
     "output_type": "execute_result"
    }
   ],
   "source": [
    "1.4330011480603408*sqrt(2)"
   ]
  },
  {
   "cell_type": "code",
   "execution_count": null,
   "metadata": {},
   "outputs": [],
   "source": []
  }
 ],
 "metadata": {
  "kernelspec": {
   "display_name": "Julia 1.3.0",
   "language": "julia",
   "name": "julia-1.3"
  },
  "language_info": {
   "file_extension": ".jl",
   "mimetype": "application/julia",
   "name": "julia",
   "version": "1.3.0"
  }
 },
 "nbformat": 4,
 "nbformat_minor": 2
}
