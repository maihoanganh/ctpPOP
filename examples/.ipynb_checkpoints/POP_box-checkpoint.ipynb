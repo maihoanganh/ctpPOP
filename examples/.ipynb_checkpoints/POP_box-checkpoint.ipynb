{
 "cells": [
  {
   "cell_type": "code",
   "execution_count": 11,
   "metadata": {},
   "outputs": [
    {
     "name": "stdout",
     "output_type": "stream",
     "text": [
      "***Problem setting***\n",
      "Number of variable: n=20\n",
      "====================\n",
      "Number of inequality constraints: m=20\n",
      "====================\n",
      "Number of equality constraints: l=0\n",
      "====================\n",
      "Relaxed order: k=2\n"
     ]
    }
   ],
   "source": [
    "using DynamicPolynomials, LinearAlgebra, SparseArrays\n",
    "\n",
    "println(\"***Problem setting***\")\n",
    "\n",
    "n=20\n",
    "\n",
    "println(\"Number of variable: n=\",n)\n",
    "println(\"====================\")\n",
    "\n",
    "@polyvar x[1:n]# variables\n",
    "\n",
    "function generate_random_poly(v)\n",
    "    c=2*rand(Float64,length(v)).-1\n",
    "    return c'*v\n",
    "end\n",
    "# random quadratic objective function f\n",
    "v=reverse(monomials(x,0:2))\n",
    "f=generate_random_poly(v)\n",
    "\n",
    "\n",
    "# unit sphere constraint\n",
    "m=n\n",
    "q=floor(Int64,n/m)\n",
    "R=ones(Float64,m)./n\n",
    "T=[(j-1)*q+1:j*q for j in 1:m-1]\n",
    "append!(T,[(m-1)*q+1:n])\n",
    "\n",
    "g=[R[j]-sum(x[T[j]].^2) for j in 1:m]\n",
    "\n",
    "m=length(g)\n",
    "println(\"Number of inequality constraints: m=\",m)\n",
    "println(\"====================\")\n",
    "\n",
    "l=0#ceil(Int64, n/7)\n",
    "\n",
    "h=Vector{Polynomial{true,Float64}}(undef,l)\n",
    "randx=[2*rand(length(T[j])).-1 for j in 1:m]# create a feasible solution\n",
    "randx=[sqrt(R[j])*rand(1)[1]*randx[j]/norm(randx[j]) for j in 1:m]\n",
    "randx=vcat(randx...)\n",
    "\n",
    "for j in 1:l\n",
    "    h[j]=generate_random_poly(v[2:end])\n",
    "    h[j]-=h[j](x => randx) #make constraints feasible\n",
    "end\n",
    "\n",
    "l=length(h)\n",
    "println(\"Number of equality constraints: l=\",l)\n",
    "println(\"====================\")\n",
    "\n",
    "k=2\n",
    "\n",
    "println(\"Relaxed order: k=\",k)"
   ]
  },
  {
   "cell_type": "code",
   "execution_count": 12,
   "metadata": {},
   "outputs": [
    {
     "data": {
      "text/plain": [
       "0.6679603511108603"
      ]
     },
     "execution_count": 12,
     "metadata": {},
     "output_type": "execute_result"
    }
   ],
   "source": [
    "f(x => zeros(n))"
   ]
  },
  {
   "cell_type": "code",
   "execution_count": 13,
   "metadata": {
    "scrolled": true
   },
   "outputs": [
    {
     "name": "stdout",
     "output_type": "stream",
     "text": [
      "  Computing constant trace status: OPTIMAL\n",
      "  Constant trace: ak = 3.0000000000000013\n",
      "  Number of blocks: omega=21\n",
      "  Size of the largest block: s^max=231\n",
      "  Number of equality trace constraints: zeta=20791\n",
      "Modeling time:"
     ]
    },
    {
     "name": "stderr",
     "output_type": "stream",
     "text": [
      "WARNING: replacing module ctpPOP.\n",
      "WARNING: Compat.Printf is deprecated, use Printf instead.\n",
      "  likely near /home/hoanganh/Desktop/math-topics/ctpPOP/codes/ctpPOP/solvers/ProximalBundleMethod/ProximalMethod.jl:391\n"
     ]
    },
    {
     "name": "stdout",
     "output_type": "stream",
     "text": [
      "\n",
      "  0.355174 seconds (1.22 M allocations: 231.909 MiB, 17.58% gc time)\n",
      "iter=1.0   val=-6.820154315610802   gap=0.03782409751942126   feas=2.6931615572898258\n",
      "iter=2.0   val=-2.152381945614702   gap=0.7595840952876067   feas=0.5847413982201449\n",
      "iter=4.0   val=-2.543247848978114   gap=0.6179842029974498   feas=0.6215773276263323\n",
      "iter=8.0   val=-2.34928216668901   gap=0.5470611089630423   feas=0.5129253305825473\n",
      "iter=16.0   val=-1.9963413372279337   gap=0.44495270417871097   feas=0.2891928426888451\n",
      "iter=32.0   val=-1.6798369368849002   gap=0.3776950858276627   feas=0.17856053088404564\n",
      "iter=64.0   val=-1.8124082243631388   gap=0.22674319932445738   feas=0.09976801371805635\n",
      "iter=128.0   val=-1.90553902273576   gap=0.07497488778242113   feas=0.048927403540568896\n",
      "iter=256.0   val=-1.9358159691604935   gap=0.04210413231702594   feas=0.02965848393366807\n",
      "iter=512.0   val=-1.9647581897120436   gap=0.016570377957068064   feas=0.016344982275100405\n",
      "iter=1024.0   val=-1.9736037222574145   gap=0.025440006385054996   feas=0.008479889389940303\n",
      "iter=2048.0   val=-1.9929267262642645   gap=0.03411393082198421   feas=0.003366024136703534\n",
      "iter=4096.0   val=-2.0039669164666947   gap=0.007567820457403277   feas=0.0012395657438285781\n",
      "iter=4366.0   val=-2.005285407378718   gap=0.00027478312424781393   feas=0.000957176586174698\n",
      "tol satisfies!!!\n",
      "\n",
      "####################################\n",
      "opt_val = -2.005285407378718\n",
      "####################################\n",
      "Solving time:\n",
      " 41.805679 seconds (16.01 M allocations: 13.186 GiB, 2.90% gc time)\n",
      "Total time:\n",
      " 42.161125 seconds (17.23 M allocations: 13.412 GiB, 3.03% gc time)\n"
     ]
    },
    {
     "data": {
      "text/plain": [
       "-2.005285407378718"
      ]
     },
     "execution_count": 13,
     "metadata": {},
     "output_type": "execute_result"
    }
   ],
   "source": [
    "include(\"../src/ctpPOP.jl\")\n",
    "using .ctpPOP\n",
    "\n",
    "opt_val1=ctpPOP.POP_CGAL(x,f,g,h,k;EigAlg=\"Arpack\",maxit=1e10,tol=1e-3,UseEq=false)"
   ]
  },
  {
   "cell_type": "code",
   "execution_count": 14,
   "metadata": {},
   "outputs": [
    {
     "name": "stdout",
     "output_type": "stream",
     "text": [
      "  Computing constant trace status: OPTIMAL\n",
      "  Constant trace: ak = 3.0000000000000013\n",
      "  Number of blocks: omega=21\n",
      "  Size of the largest block: s^max=231\n",
      "  Number of equality trace constraints: zeta=20791\n",
      "Modeling time:"
     ]
    },
    {
     "name": "stderr",
     "output_type": "stream",
     "text": [
      "WARNING: replacing module ctpPOP.\n",
      "WARNING: Compat.Printf is deprecated, use Printf instead.\n",
      "  likely near /home/hoanganh/Desktop/math-topics/ctpPOP/codes/ctpPOP/solvers/ProximalBundleMethod/ProximalMethod.jl:391\n"
     ]
    },
    {
     "name": "stdout",
     "output_type": "stream",
     "text": [
      "\n",
      "  0.320808 seconds (1.22 M allocations: 224.876 MiB, 17.95% gc time)\n",
      "---------------\n",
      "| Parameters: |\n",
      "---------------\n",
      "n:       20791\n",
      "maxtime: 300000.000000\n",
      "na:      2\n",
      "mcu:     5\n",
      "mc:      7\n",
      "rpar: \n",
      "ipar: \n",
      " Warning: MC > MCU. Assigned MC = MCU.\n",
      " Entry to LMBM:\n",
      " NIT=    1  NFE=    1  F= 0.70297718D+01  WK= 0.9393D+00  QK= 0.4697D+00\n",
      " NIT=    2  NFE=    2  F= 0.63452302D+01  WK= 0.6607D+00  QK= 0.4592D+00\n",
      " NIT=    3  NFE=    3  F= 0.57005756D+01  WK= 0.2928D+02  QK= 0.4407D+00\n",
      " NIT=    4  NFE=    4  F= 0.52442407D+01  WK= 0.6357D+00  QK= 0.4633D+00\n",
      " NIT=    5  NFE=    5  F= 0.48007219D+01  WK= 0.7677D+02  QK= 0.4584D+00\n",
      " NIT=    6  NFE=    6  F= 0.44488340D+01  WK= 0.2637D+00  QK= 0.2547D+00\n",
      " NIT=    7  NFE=    7  F= 0.42419170D+01  WK= 0.7789D+00  QK= 0.1980D+00\n",
      " NIT=    8  NFE=    8  F= 0.40076391D+01  WK= 0.6163D+00  QK= 0.1340D+00\n",
      " NIT=    9  NFE=    9  F= 0.37278411D+01  WK= 0.1598D+01  QK= 0.9274D-01\n",
      " NIT=   10  NFE=   10  F= 0.34977146D+01  WK= 0.3878D+00  QK= 0.3290D+00\n",
      " NIT=   11  NFE=   11  F= 0.34043906D+01  WK= 0.1320D+00  QK= 0.8917D-01\n",
      " NIT=   12  NFE=   12  F= 0.33130746D+01  WK= 0.2799D+00  QK= 0.1179D+00\n",
      " NIT=   13  NFE=   13  F= 0.33130746D+01  WK= 0.2751D+00  QK= 0.1420D+00\n",
      " NIT=   14  NFE=   14  F= 0.32900248D+01  WK= 0.1367D+00  QK= 0.8327D-01\n",
      " NIT=   15  NFE=   15  F= 0.31692256D+01  WK= 0.8510D+00  QK= 0.9059D-01\n",
      " Warning: A nondescent search direction occured. Restart.\n",
      " NIT=   16  NFE=   16  F= 0.31692256D+01  WK= 0.1812D+00  QK= 0.9059D-01\n",
      " NIT=   17  NFE=   17  F= 0.30863882D+01  WK= 0.7204D-01  QK= 0.7399D-01\n",
      " NIT=   18  NFE=   18  F= 0.30155647D+01  WK= 0.5592D+00  QK= 0.9148D-01\n",
      " Warning: A nondescent search direction occured. Restart.\n",
      " NIT=   19  NFE=   19  F= 0.30155647D+01  WK= 0.1830D+00  QK= 0.9148D-01\n",
      " NIT=   20  NFE=   20  F= 0.30155647D+01  WK= 0.1538D+00  QK= 0.7916D-01\n",
      " NIT=   21  NFE=   21  F= 0.29975875D+01  WK= 0.3730D-01  QK= 0.8832D-01\n",
      " NIT=   22  NFE=   22  F= 0.29782566D+01  WK= 0.1887D-01  QK= 0.7534D-01\n",
      " NIT=   23  NFE=   23  F= 0.29608205D+01  WK= 0.1787D+00  QK= 0.6084D-01\n",
      " Warning: A nondescent search direction occured. Restart.\n",
      " NIT=   24  NFE=   24  F= 0.29608205D+01  WK= 0.1217D+00  QK= 0.6084D-01\n",
      " NIT=   25  NFE=   25  F= 0.29608205D+01  WK= 0.9878D-01  QK= 0.5000D-01\n",
      " NIT=   26  NFE=   26  F= 0.29488493D+01  WK= 0.2914D-01  QK= 0.1247D+00\n",
      " NIT=   27  NFE=   27  F= 0.29224666D+01  WK= 0.2235D+00  QK= 0.8338D-01\n",
      " Warning: A nondescent search direction occured. Restart.\n",
      " NIT=   28  NFE=   29  F= 0.29224666D+01  WK= 0.1668D+00  QK= 0.8338D-01\n",
      " NIT=   29  NFE=   30  F= 0.29224666D+01  WK= 0.1359D+00  QK= 0.6972D-01\n",
      " NIT=   30  NFE=   31  F= 0.29096702D+01  WK= 0.3104D-01  QK= 0.6540D-01\n",
      " NIT=   31  NFE=   32  F= 0.28861107D+01  WK= 0.6547D-01  QK= 0.4495D-01\n",
      " NIT=   32  NFE=   33  F= 0.28861107D+01  WK= 0.4598D-01  QK= 0.4110D-01\n",
      " NIT=   33  NFE=   35  F= 0.28833474D+01  WK= 0.3459D-01  QK= 0.3050D+00\n",
      " NIT=   34  NFE=   36  F= 0.28833474D+01  WK= 0.1212D-01  QK= 0.2229D+00\n",
      " NIT=   35  NFE=   41  F= 0.28769049D+01  WK= 0.3752D+00  QK= 0.3859D+00\n",
      " NIT=   36  NFE=   43  F= 0.28769049D+01  WK= 0.1648D+00  QK= 0.2929D+00\n",
      " NIT=   37  NFE=   56  F= 0.28616293D+01  WK= 0.2177D-01  QK= 0.9848D-01\n",
      " NIT=   38  NFE=   58  F= 0.28616293D+01  WK= 0.9195D-01  QK= 0.8537D-01\n",
      " NIT=   39  NFE=  103  F= 0.28616293D+01  WK= 0.8348D-01  QK= 0.7297D-01\n",
      " NIT=   40  NFE=  148  F= 0.28616293D+01  WK= 0.5747D-01  QK= 0.7495D-01\n",
      " NIT=   41  NFE=  193  F= 0.28616293D+01  WK= 0.5747D-01  QK= 0.7495D-01\n",
      " NIT=   42  NFE=  215  F= 0.28603176D+01  WK= 0.2406D+00  QK= 0.9640D-01\n",
      " NIT=   43  NFE=  218  F= 0.28603176D+01  WK= 0.7024D-01  QK= 0.6718D-01\n",
      " NIT=   44  NFE=  263  F= 0.28603176D+01  WK= 0.5873D-01  QK= 0.5126D-01\n",
      " NIT=   45  NFE=  308  F= 0.28603176D+01  WK= 0.5873D-01  QK= 0.5126D-01\n",
      " NIT=   46  NFE=  353  F= 0.28603176D+01  WK= 0.5077D-01  QK= 0.5126D-01\n",
      " NIT=   47  NFE=  398  F= 0.28603176D+01  WK= 0.5069D-01  QK= 0.4961D-01\n",
      " NIT=   48  NFE=  443  F= 0.28603176D+01  WK= 0.5069D-01  QK= 0.4961D-01\n",
      " NIT=   49  NFE=  446  F= 0.28460569D+01  WK= 0.1811D+01  QK= 0.2753D+00\n",
      " NIT=   50  NFE=  447  F= 0.28460569D+01  WK= 0.6602D+00  QK= 0.3422D+00\n",
      " NIT=   51  NFE=  492  F= 0.28460569D+01  WK= 0.1001D+00  QK= 0.2900D+00\n",
      " NIT=   52  NFE=  537  F= 0.28460569D+01  WK= 0.1001D+00  QK= 0.2900D+00\n",
      " NIT=   53  NFE=  582  F= 0.28460569D+01  WK= 0.9699D-01  QK= 0.2834D+00\n",
      " NIT=   54  NFE=  627  F= 0.28460569D+01  WK= 0.7576D-01  QK= 0.1911D+00\n",
      " NIT=   55  NFE=  672  F= 0.28460569D+01  WK= 0.7576D-01  QK= 0.1911D+00\n",
      " NIT=   56  NFE=  717  F= 0.28460569D+01  WK= 0.7576D-01  QK= 0.1911D+00\n",
      " Warning: A nondescent search direction occured. Restart.\n",
      " NIT=   57  NFE=  762  F= 0.28460569D+01  WK= 0.5506D+00  QK= 0.2753D+00\n",
      " NIT=   58  NFE=  764  F= 0.28460569D+01  WK= 0.1562D+00  QK= 0.7828D-01\n",
      " NIT=   59  NFE=  809  F= 0.28460569D+01  WK= 0.1488D+00  QK= 0.7725D-01\n",
      " NIT=   60  NFE=  810  F= 0.28446551D+01  WK= 0.3039D-01  QK= 0.6082D-01\n",
      " NIT=   61  NFE=  811  F= 0.28446551D+01  WK= 0.5722D-01  QK= 0.5027D-01\n",
      " NIT=   62  NFE=  856  F= 0.28446551D+01  WK= 0.4902D-01  QK= 0.6082D-01\n",
      " NIT=   63  NFE=  901  F= 0.28446551D+01  WK= 0.4902D-01  QK= 0.6082D-01\n",
      " NIT=   64  NFE=  922  F= 0.28432693D+01  WK= 0.6560D-02  QK= 0.4096D-01\n",
      " NIT=   65  NFE=  967  F= 0.28432693D+01  WK= 0.1707D-01  QK= 0.4096D-01\n",
      " NIT=   66  NFE= 1012  F= 0.28432693D+01  WK= 0.1707D-01  QK= 0.4096D-01\n",
      " NIT=   67  NFE= 1014  F= 0.28373522D+01  WK= 0.3734D-01  QK= 0.6712D-01\n",
      " NIT=   68  NFE= 1015  F= 0.28373522D+01  WK= 0.5877D-01  QK= 0.6752D-01\n",
      " NIT=   69  NFE= 1020  F= 0.28347966D+01  WK= 0.1947D-01  QK= 0.4368D-01\n",
      " NIT=   70  NFE= 1052  F= 0.28103469D+01  WK= 0.1209D-01  QK= 0.1823D+00\n",
      " NIT=   71  NFE= 1097  F= 0.28103469D+01  WK= 0.3321D-01  QK= 0.1823D+00\n",
      " NIT=   72  NFE= 1142  F= 0.28103469D+01  WK= 0.3321D-01  QK= 0.1823D+00\n",
      " NIT=   73  NFE= 1187  F= 0.28103469D+01  WK= 0.3321D-01  QK= 0.1823D+00\n",
      " NIT=   74  NFE= 1232  F= 0.28103469D+01  WK= 0.3320D-01  QK= 0.1823D+00\n",
      " NIT=   75  NFE= 1271  F= 0.28083020D+01  WK= 0.1900D+03  QK= 0.3072D+00\n",
      " Warning: A nondescent search direction occured. Restart.\n",
      " NIT=   76  NFE= 1272  F= 0.28083020D+01  WK= 0.6144D+00  QK= 0.3072D+00\n",
      " NIT=   77  NFE= 1274  F= 0.28083020D+01  WK= 0.1590D+00  QK= 0.7995D-01\n",
      " NIT=   78  NFE= 1319  F= 0.28083020D+01  WK= 0.1410D+00  QK= 0.7808D-01\n",
      " NIT=   79  NFE= 1364  F= 0.28083020D+01  WK= 0.1380D+00  QK= 0.9248D-01\n",
      " NIT=   80  NFE= 1409  F= 0.28083020D+01  WK= 0.1380D+00  QK= 0.9256D-01\n",
      " NIT=   81  NFE= 1454  F= 0.28083020D+01  WK= 0.1380D+00  QK= 0.9256D-01\n",
      " NIT=   82  NFE= 1499  F= 0.28083020D+01  WK= 0.1380D+00  QK= 0.9256D-01\n",
      " NIT=   83  NFE= 1544  F= 0.28083020D+01  WK= 0.1377D+00  QK= 0.9256D-01\n",
      " NIT=   84  NFE= 1589  F= 0.28083020D+01  WK= 0.1377D+00  QK= 0.9296D-01\n",
      " NIT=   85  NFE= 1590  F= 0.27813956D+01  WK= 0.9104D+00  QK= 0.4361D+00\n",
      " NIT=   86  NFE= 1592  F= 0.27813956D+01  WK= 0.1979D+00  QK= 0.1180D+00\n",
      " NIT=   87  NFE= 1637  F= 0.27813956D+01  WK= 0.8617D-01  QK= 0.5980D-01\n",
      " NIT=   88  NFE= 1659  F= 0.27325816D+01  WK= 0.1669D-02  QK= 0.3555D+00\n",
      " NIT=   89  NFE= 1704  F= 0.27325816D+01  WK= 0.1753D-01  QK= 0.3555D+00\n",
      " NIT=   90  NFE= 1749  F= 0.27325816D+01  WK= 0.1753D-01  QK= 0.3555D+00\n",
      " NIT=   91  NFE= 1794  F= 0.27325816D+01  WK= 0.1753D-01  QK= 0.3555D+00\n",
      " NIT=   92  NFE= 1839  F= 0.27325816D+01  WK= 0.1753D-01  QK= 0.3555D+00\n",
      " NIT=   93  NFE= 1884  F= 0.27325816D+01  WK= 0.1753D-01  QK= 0.3555D+00\n",
      " NIT=   94  NFE= 1929  F= 0.27325816D+01  WK= 0.1753D-01  QK= 0.3555D+00\n",
      " NIT=   95  NFE= 1974  F= 0.27325816D+01  WK= 0.1753D-01  QK= 0.3555D+00\n",
      " NIT=   96  NFE= 2019  F= 0.27325816D+01  WK= 0.1753D-01  QK= 0.3555D+00\n",
      " NIT=   97  NFE= 2064  F= 0.27325816D+01  WK= 0.1753D-01  QK= 0.3555D+00\n",
      " NIT=   98  NFE= 2109  F= 0.27325816D+01  WK= 0.1753D-01  QK= 0.3555D+00\n",
      " NIT=   99  NFE= 2154  F= 0.27325816D+01  WK= 0.1753D-01  QK= 0.3555D+00\n",
      " NIT=  100  NFE= 2199  F= 0.27325816D+01  WK= 0.1753D-01  QK= 0.3555D+00\n",
      " NIT=  101  NFE= 2244  F= 0.27325816D+01  WK= 0.1753D-01  QK= 0.3555D+00\n",
      " NIT=  102  NFE= 2289  F= 0.27325816D+01  WK= 0.1753D-01  QK= 0.3555D+00\n",
      " NIT=  103  NFE= 2334  F= 0.27325816D+01  WK= 0.1753D-01  QK= 0.3555D+00\n",
      " NIT=  104  NFE= 2379  F= 0.27325816D+01  WK= 0.1753D-01  QK= 0.3555D+00\n",
      " NIT=  105  NFE= 2424  F= 0.27325816D+01  WK= 0.1753D-01  QK= 0.3555D+00\n",
      " NIT=  106  NFE= 2469  F= 0.27325816D+01  WK= 0.1753D-01  QK= 0.3555D+00\n",
      " NIT=  107  NFE= 2514  F= 0.27325816D+01  WK= 0.1753D-01  QK= 0.3555D+00\n",
      " NIT=  108  NFE= 2549  F= 0.27321895D+01  WK= 0.3326D+03  QK= 0.4406D+00\n",
      " NIT=  109  NFE= 2550  F= 0.27321895D+01  WK= 0.2074D+00  QK= 0.3880D+00\n",
      " NIT=  110  NFE= 2595  F= 0.27321895D+01  WK= 0.2706D-01  QK= 0.4406D+00\n",
      " NIT=  111  NFE= 2640  F= 0.27321895D+01  WK= 0.2706D-01  QK= 0.4406D+00\n",
      " NIT=  112  NFE= 2685  F= 0.27321895D+01  WK= 0.2706D-01  QK= 0.4406D+00\n",
      " NIT=  113  NFE= 2730  F= 0.27321895D+01  WK= 0.2706D-01  QK= 0.4406D+00\n",
      " NIT=  114  NFE= 2775  F= 0.27321895D+01  WK= 0.2706D-01  QK= 0.4406D+00\n",
      " NIT=  115  NFE= 2820  F= 0.27321895D+01  WK= 0.2706D-01  QK= 0.4406D+00\n",
      " Warning: A nondescent search direction occured. Restart.\n",
      " NIT=  116  NFE= 2865  F= 0.27321895D+01  WK= 0.8812D+00  QK= 0.4406D+00\n",
      " NIT=  117  NFE= 2866  F= 0.27321895D+01  WK= 0.5767D+00  QK= 0.2921D+00\n",
      " NIT=  118  NFE= 2911  F= 0.27321895D+01  WK= 0.1894D+00  QK= 0.1003D+00\n",
      " NIT=  119  NFE= 2956  F= 0.27321895D+01  WK= 0.4340D-01  QK= 0.4406D+00\n",
      " NIT=  120  NFE= 3001  F= 0.27321895D+01  WK= 0.4310D-01  QK= 0.4406D+00\n",
      " NIT=  121  NFE= 3046  F= 0.27321895D+01  WK= 0.4310D-01  QK= 0.4406D+00\n",
      " NIT=  122  NFE= 3091  F= 0.27321895D+01  WK= 0.4280D-01  QK= 0.4406D+00\n",
      " NIT=  123  NFE= 3136  F= 0.27321895D+01  WK= 0.4280D-01  QK= 0.4406D+00\n",
      " NIT=  124  NFE= 3181  F= 0.27321895D+01  WK= 0.4280D-01  QK= 0.4406D+00\n",
      " NIT=  125  NFE= 3226  F= 0.27321895D+01  WK= 0.4280D-01  QK= 0.4406D+00\n",
      " NIT=  126  NFE= 3271  F= 0.27321895D+01  WK= 0.4280D-01  QK= 0.4406D+00\n",
      " NIT=  127  NFE= 3316  F= 0.27321895D+01  WK= 0.4280D-01  QK= 0.4406D+00\n",
      " NIT=  128  NFE= 3361  F= 0.27321895D+01  WK= 0.4280D-01  QK= 0.4406D+00\n",
      " NIT=  129  NFE= 3406  F= 0.27321895D+01  WK= 0.4280D-01  QK= 0.4406D+00\n",
      " NIT=  130  NFE= 3451  F= 0.27321895D+01  WK= 0.3574D-01  QK= 0.4406D+00\n",
      " NIT=  131  NFE= 3496  F= 0.27321895D+01  WK= 0.3574D-01  QK= 0.4406D+00\n",
      " NIT=  132  NFE= 3541  F= 0.27321895D+01  WK= 0.3574D-01  QK= 0.4406D+00\n",
      " NIT=  133  NFE= 3586  F= 0.27321895D+01  WK= 0.3574D-01  QK= 0.4406D+00\n",
      " NIT=  134  NFE= 3631  F= 0.27321895D+01  WK= 0.3574D-01  QK= 0.4406D+00\n",
      " NIT=  135  NFE= 3676  F= 0.27321895D+01  WK= 0.3574D-01  QK= 0.4406D+00\n",
      " NIT=  136  NFE= 3721  F= 0.27321895D+01  WK= 0.3574D-01  QK= 0.4406D+00\n",
      " NIT=  137  NFE= 3766  F= 0.27321895D+01  WK= 0.3123D-01  QK= 0.4406D+00\n",
      " NIT=  138  NFE= 3811  F= 0.27321895D+01  WK= 0.3068D-01  QK= 0.4406D+00\n",
      " NIT=  139  NFE= 3856  F= 0.27321895D+01  WK= 0.3068D-01  QK= 0.4406D+00\n",
      " NIT=  140  NFE= 3901  F= 0.27321895D+01  WK= 0.3068D-01  QK= 0.4406D+00\n",
      " NIT=  141  NFE= 3946  F= 0.27321895D+01  WK= 0.3068D-01  QK= 0.4406D+00\n",
      " NIT=  142  NFE= 3991  F= 0.27321895D+01  WK= 0.3068D-01  QK= 0.4406D+00\n",
      " NIT=  143  NFE= 4036  F= 0.27321895D+01  WK= 0.3068D-01  QK= 0.4406D+00\n",
      " NIT=  144  NFE= 4081  F= 0.27321895D+01  WK= 0.3068D-01  QK= 0.4406D+00\n",
      " NIT=  145  NFE= 4126  F= 0.27321895D+01  WK= 0.3068D-01  QK= 0.4406D+00\n",
      " NIT=  146  NFE= 4171  F= 0.27321895D+01  WK= 0.3068D-01  QK= 0.4406D+00\n",
      " NIT=  147  NFE= 4216  F= 0.27321895D+01  WK= 0.3068D-01  QK= 0.4406D+00\n",
      " NIT=  148  NFE= 4261  F= 0.27321895D+01  WK= 0.3068D-01  QK= 0.4406D+00\n",
      " NIT=  149  NFE= 4306  F= 0.27321895D+01  WK= 0.3068D-01  QK= 0.4406D+00\n",
      " NIT=  150  NFE= 4351  F= 0.27321895D+01  WK= 0.3068D-01  QK= 0.4406D+00\n",
      " NIT=  151  NFE= 4396  F= 0.27321895D+01  WK= 0.3068D-01  QK= 0.4406D+00\n",
      " NIT=  152  NFE= 4441  F= 0.27321895D+01  WK= 0.3068D-01  QK= 0.4406D+00\n",
      " NIT=  153  NFE= 4486  F= 0.27321895D+01  WK= 0.3068D-01  QK= 0.4406D+00\n",
      " NIT=  154  NFE= 4531  F= 0.27321895D+01  WK= 0.3068D-01  QK= 0.4406D+00\n",
      " NIT=  155  NFE= 4576  F= 0.27321895D+01  WK= 0.3068D-01  QK= 0.4406D+00\n",
      " NIT=  156  NFE= 4621  F= 0.27321895D+01  WK= 0.3068D-01  QK= 0.4406D+00\n",
      " NIT=  157  NFE= 4666  F= 0.27321895D+01  WK= 0.3068D-01  QK= 0.4406D+00\n",
      " NIT=  158  NFE= 4685  F= 0.27282103D+01  WK= 0.2145D-03  QK= 0.3992D+00\n",
      " NIT=  159  NFE= 4730  F= 0.27282103D+01  WK= 0.3044D-01  QK= 0.3992D+00\n",
      " NIT=  160  NFE= 4775  F= 0.27282103D+01  WK= 0.3044D-01  QK= 0.3992D+00\n",
      " NIT=  161  NFE= 4820  F= 0.27282103D+01  WK= 0.3044D-01  QK= 0.3992D+00\n",
      " NIT=  162  NFE= 4865  F= 0.27282103D+01  WK= 0.3044D-01  QK= 0.3992D+00\n",
      " NIT=  163  NFE= 4910  F= 0.27282103D+01  WK= 0.3044D-01  QK= 0.3992D+00\n",
      " NIT=  164  NFE= 4955  F= 0.27282103D+01  WK= 0.3039D-01  QK= 0.3992D+00\n",
      " NIT=  165  NFE= 5000  F= 0.27282103D+01  WK= 0.3039D-01  QK= 0.3992D+00\n",
      " NIT=  166  NFE= 5045  F= 0.27282103D+01  WK= 0.3039D-01  QK= 0.3992D+00\n",
      " NIT=  167  NFE= 5090  F= 0.27282103D+01  WK= 0.3039D-01  QK= 0.3992D+00\n",
      " NIT=  168  NFE= 5135  F= 0.27282103D+01  WK= 0.3039D-01  QK= 0.3992D+00\n",
      " NIT=  169  NFE= 5180  F= 0.27282103D+01  WK= 0.3039D-01  QK= 0.3992D+00\n",
      " NIT=  170  NFE= 5225  F= 0.27282103D+01  WK= 0.3039D-01  QK= 0.3992D+00\n",
      " NIT=  171  NFE= 5270  F= 0.27282103D+01  WK= 0.3039D-01  QK= 0.3992D+00\n",
      " NIT=  172  NFE= 5315  F= 0.27282103D+01  WK= 0.3039D-01  QK= 0.3992D+00\n",
      " NIT=  173  NFE= 5360  F= 0.27282103D+01  WK= 0.3039D-01  QK= 0.3992D+00\n",
      " NIT=  174  NFE= 5405  F= 0.27282103D+01  WK= 0.3039D-01  QK= 0.3992D+00\n",
      " NIT=  175  NFE= 5450  F= 0.27282103D+01  WK= 0.3039D-01  QK= 0.3992D+00\n",
      " NIT=  176  NFE= 5495  F= 0.27282103D+01  WK= 0.3039D-01  QK= 0.3992D+00\n",
      " NIT=  177  NFE= 5540  F= 0.27282103D+01  WK= 0.3039D-01  QK= 0.3992D+00\n",
      " NIT=  178  NFE= 5585  F= 0.27282103D+01  WK= 0.3039D-01  QK= 0.3992D+00\n",
      " NIT=  179  NFE= 5630  F= 0.27282103D+01  WK= 0.3039D-01  QK= 0.3992D+00\n",
      " NIT=  180  NFE= 5675  F= 0.27282103D+01  WK= 0.3039D-01  QK= 0.3992D+00\n",
      " NIT=  181  NFE= 5720  F= 0.27282103D+01  WK= 0.3039D-01  QK= 0.3992D+00\n",
      " NIT=  182  NFE= 5765  F= 0.27282103D+01  WK= 0.3039D-01  QK= 0.3992D+00\n",
      " NIT=  183  NFE= 5810  F= 0.27282103D+01  WK= 0.3039D-01  QK= 0.3992D+00\n",
      " NIT=  184  NFE= 5855  F= 0.27282103D+01  WK= 0.3039D-01  QK= 0.3992D+00\n",
      " Exit from LMBM:\n",
      " Abnormal exit: Failure in attaining the demanded accuracy.\n",
      " NIT=  185  NFE= 5900  F= 0.27282103D+01  WK= 0.3039D-01  QK= 0.3992D+00  ITERM= -4\n",
      "-----------\n",
      "| Output: |\n"
     ]
    },
    {
     "name": "stdout",
     "output_type": "stream",
     "text": [
      "-----------\n",
      "Termination:     -4\n",
      "N. iter.:        185\n",
      "N. func. eval.:  5900\n",
      "Final value:     2.728210\n",
      "Execution time:  126.969788\n",
      "\n",
      "####################################\n",
      "opt_val = -2.7282102965802433\n",
      "####################################\n",
      "Solving time:\n",
      " 58.677602 seconds (21.48 M allocations: 16.282 GiB, 3.04% gc time)\n",
      "Dimension of the null space of Gram matrix = 1\n",
      "------------------------------------\n",
      "atom 1 = [0.07641011049594984, 0.029619280811268058, -0.054844048798365214, 0.02921022195563802, -0.007773455099893223, -0.07191359361998505, 0.035320795367520134, 0.026238270467904768, -0.021920946979245196, 0.10618746344970063, -0.025086425481091648, 0.07437958683269995, 0.0008640214776260268, -0.036159405789389705, 0.0014265880873643283, -0.1044943455173428, 0.06647122814260893, -0.04803649982543308, 0.014978566333182687, 0.11766961660808457]\n",
      "  check gap of lower bound  = 3.339415815220976\n",
      "  check inequality constraint 1 = 0.044161495013996736\n",
      "  check inequality constraint 2 = 0.04912269820422325\n",
      "  check inequality constraint 3 = 0.046992130311402536\n",
      "  check inequality constraint 4 = 0.04914676293330236\n",
      "  check inequality constraint 5 = 0.04993957339580995\n",
      "  check inequality constraint 6 = 0.04482843505265965\n",
      "  check inequality constraint 7 = 0.048752441414605774\n",
      "  check inequality constraint 8 = 0.04931155316285308\n",
      "  check inequality constraint 9 = 0.04951947208353313\n",
      "  check inequality constraint 10 = 0.03872422260611849\n",
      "  check inequality constraint 11 = 0.049370671256581636\n",
      "  check inequality constraint 12 = 0.04446767706259685\n",
      "  check inequality constraint 13 = 0.049999253466886204\n",
      "  check inequality constraint 14 = 0.048692497372958256\n",
      "  check inequality constraint 15 = 0.049997964846428995\n",
      "  check inequality constraint 16 = 0.03908093175490218\n",
      "  check inequality constraint 17 = 0.04558157582921324\n",
      "  check inequality constraint 18 = 0.04769249468452117\n",
      "  check inequality constraint 19 = 0.04977564255060245\n",
      "  check inequality constraint 20 = 0.036153861327306386\n",
      "Extracting solutuion time:\n",
      "  0.030839 seconds (5.98 k allocations: 3.955 MiB)\n",
      "Total time:\n",
      " 59.029623 seconds (22.71 M allocations: 16.505 GiB, 3.12% gc time)\n"
     ]
    },
    {
     "data": {
      "text/plain": [
       "(-2.7282102965802433, Array{Float64,1}[])"
      ]
     },
     "execution_count": 14,
     "metadata": {},
     "output_type": "execute_result"
    }
   ],
   "source": [
    "include(\"../src/ctpPOP.jl\")\n",
    "using .ctpPOP\n",
    "\n",
    "opt_val1=ctpPOP.POP_LMBM(x,f,g,h,k;EigAlg=\"Arpack\",tol=1e-3,UseEq=false)"
   ]
  },
  {
   "cell_type": "code",
   "execution_count": 15,
   "metadata": {},
   "outputs": [
    {
     "name": "stdout",
     "output_type": "stream",
     "text": [
      "**SumOfSquares+Mosek:\n"
     ]
    },
    {
     "name": "stderr",
     "output_type": "stream",
     "text": [
      "WARNING: replacing module ctpPOP.\n",
      "WARNING: Compat.Printf is deprecated, use Printf instead.\n",
      "  likely near /home/hoanganh/Desktop/math-topics/ctpPOP/codes/ctpPOP/solvers/ProximalBundleMethod/ProximalMethod.jl:391\n"
     ]
    },
    {
     "name": "stdout",
     "output_type": "stream",
     "text": [
      "Problem\n",
      "  Name                   :                 \n",
      "  Objective sense        : max             \n",
      "  Type                   : CONIC (conic optimization problem)\n",
      "  Constraints            : 10626           \n",
      "  Cones                  : 0               \n",
      "  Scalar variables       : 1               \n",
      "  Matrix variables       : 21              \n",
      "  Integer variables      : 0               \n",
      "\n",
      "Optimizer started.\n",
      "Presolve started.\n",
      "Linear dependency checker started.\n",
      "Linear dependency checker terminated.\n",
      "Eliminator started.\n",
      "Freed constraints in eliminator : 0\n",
      "Eliminator terminated.\n",
      "Eliminator - tries                  : 1                 time                   : 0.00            \n",
      "Lin. dep.  - tries                  : 1                 time                   : 0.00            \n",
      "Lin. dep.  - number                 : 0               \n",
      "Presolve terminated. Time: 0.00    \n",
      "Problem\n",
      "  Name                   :                 \n",
      "  Objective sense        : max             \n",
      "  Type                   : CONIC (conic optimization problem)\n",
      "  Constraints            : 10626           \n",
      "  Cones                  : 0               \n",
      "  Scalar variables       : 1               \n",
      "  Matrix variables       : 21              \n",
      "  Integer variables      : 0               \n",
      "\n",
      "Optimizer  - threads                : 4               \n",
      "Optimizer  - solved problem         : the primal      \n",
      "Optimizer  - Constraints            : 10626\n",
      "Optimizer  - Cones                  : 1\n",
      "Optimizer  - Scalar variables       : 2                 conic                  : 2               \n",
      "Optimizer  - Semi-definite variables: 21                scalarized             : 31416           \n",
      "Factor     - setup time             : 9.97              dense det. time        : 0.00            \n",
      "Factor     - ML order time          : 6.56              GP order time          : 0.00            \n",
      "Factor     - nonzeros before factor : 5.65e+07          after factor           : 5.65e+07        \n",
      "Factor     - dense dim.             : 0                 flops                  : 4.02e+11        \n",
      "ITE PFEAS    DFEAS    GFEAS    PRSTATUS   POBJ              DOBJ              MU       TIME  \n",
      "0   1.9e+00  1.0e+00  1.0e+00  0.00e+00   0.000000000e+00   0.000000000e+00   1.0e+00  10.01 \n",
      "1   9.0e-01  4.8e-01  5.5e-01  -8.01e-01  -1.760989402e+00  -2.296458581e+00  4.8e-01  19.26 \n",
      "2   4.8e-02  2.6e-02  1.5e-03  1.09e-01   -3.031330192e+00  -2.989576612e+00  2.6e-02  29.30 \n",
      "3   1.5e-02  7.8e-03  5.7e-04  2.12e+00   -2.121000862e+00  -2.118602080e+00  7.8e-03  38.83 \n",
      "4   1.2e-03  6.3e-04  1.3e-05  1.10e+00   -2.017015967e+00  -2.016834400e+00  6.3e-04  48.38 \n",
      "5   6.5e-04  3.5e-04  5.7e-06  7.57e-01   -2.018683982e+00  -2.018598696e+00  3.5e-04  57.21 \n",
      "6   9.3e-05  4.9e-05  3.5e-07  8.29e-01   -2.014898350e+00  -2.014893479e+00  4.9e-05  66.45 \n",
      "7   5.1e-08  2.7e-08  3.4e-12  1.00e+00   -2.014624101e+00  -2.014624088e+00  2.7e-08  76.49 \n",
      "8   3.6e-12  2.2e-12  2.4e-16  1.00e+00   -2.014624019e+00  -2.014624019e+00  1.9e-12  86.22 \n",
      "Optimizer terminated. Time: 86.24   \n",
      "\n",
      "OPTIMAL\n",
      "opt_val=-2.0146240194195006\n",
      " 87.852083 seconds (12.64 M allocations: 1.321 GiB, 0.48% gc time)\n"
     ]
    },
    {
     "data": {
      "text/plain": [
       "-2.0146240194195006"
      ]
     },
     "execution_count": 15,
     "metadata": {},
     "output_type": "execute_result"
    }
   ],
   "source": [
    "include(\"../src/ctpPOP.jl\")\n",
    "using .ctpPOP\n",
    "\n",
    "opt_val2=ctpPOP.SumofSquares_POP(x,f,g,h,k,tol=1e-3)"
   ]
  },
  {
   "cell_type": "code",
   "execution_count": null,
   "metadata": {},
   "outputs": [],
   "source": []
  },
  {
   "cell_type": "code",
   "execution_count": null,
   "metadata": {},
   "outputs": [],
   "source": []
  },
  {
   "cell_type": "code",
   "execution_count": 35,
   "metadata": {},
   "outputs": [
    {
     "data": {
      "text/plain": [
       "1.3586505182538753"
      ]
     },
     "execution_count": 35,
     "metadata": {},
     "output_type": "execute_result"
    }
   ],
   "source": [
    "gap(a,b)=abs(a-b)/maximum([abs(a);abs(b)])*100\n",
    "\n",
    "gap(opt_val1,opt_val2)"
   ]
  },
  {
   "cell_type": "code",
   "execution_count": null,
   "metadata": {},
   "outputs": [],
   "source": []
  }
 ],
 "metadata": {
  "kernelspec": {
   "display_name": "Julia 1.3.0",
   "language": "julia",
   "name": "julia-1.3"
  },
  "language_info": {
   "file_extension": ".jl",
   "mimetype": "application/julia",
   "name": "julia",
   "version": "1.3.0"
  }
 },
 "nbformat": 4,
 "nbformat_minor": 2
}
