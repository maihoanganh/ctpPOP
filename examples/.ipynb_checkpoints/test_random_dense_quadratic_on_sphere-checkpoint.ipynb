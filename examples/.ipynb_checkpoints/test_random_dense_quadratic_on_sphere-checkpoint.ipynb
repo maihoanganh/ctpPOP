{
 "cells": [
  {
   "cell_type": "markdown",
   "metadata": {},
   "source": [
    "The following codes is to set up random problem:"
   ]
  },
  {
   "cell_type": "code",
   "execution_count": 1,
   "metadata": {},
   "outputs": [
    {
     "name": "stdout",
     "output_type": "stream",
     "text": [
      "***Problem setting***\n",
      "Number of variable: n=50\n",
      "====================\n",
      "Number of equality constraints: l=1\n",
      "====================\n",
      "Relaxed order: k=1\n"
     ]
    }
   ],
   "source": [
    "using DynamicPolynomials\n",
    "\n",
    "println(\"***Problem setting***\")\n",
    "\n",
    "n=50\n",
    "\n",
    "println(\"Number of variable: n=\",n)\n",
    "println(\"====================\")\n",
    "\n",
    "@polyvar x[1:n] #variables\n",
    "\n",
    "\n",
    "v=reverse(monomials(x,0:2))\n",
    "c=2*rand(Float64,length(v)).-1\n",
    "f= c'*v #objective function\n",
    "\n",
    "\n",
    "\n",
    "R=1.0\n",
    "h=[R-sum(x.^2)] #sphere constraints\n",
    "\n",
    "l=length(h)\n",
    "\n",
    "println(\"Number of equality constraints: l=\",l)\n",
    "println(\"====================\")\n",
    "\n",
    "k=1 # relaxed order\n",
    "\n",
    "println(\"Relaxed order: k=\",k)"
   ]
  },
  {
   "cell_type": "markdown",
   "metadata": {},
   "source": [
    "We now use spectral minimization and Proximal bundle method to solve first order relaxation of above POP."
   ]
  },
  {
   "cell_type": "code",
   "execution_count": 41,
   "metadata": {},
   "outputs": [
    {
     "name": "stdout",
     "output_type": "stream",
     "text": [
      "**Convert moment relaxation to standard SDP:\n",
      "  Size of psd matrix: sk=6\n",
      "  Number of equality trace constraints: m=2\n",
      "  0.043338 seconds (51.47 k allocations: 2.603 MiB)\n",
      "**PB solver:\n"
     ]
    },
    {
     "name": "stderr",
     "output_type": "stream",
     "text": [
      "WARNING: replacing module SpectralPOP.\n"
     ]
    },
    {
     "name": "stdout",
     "output_type": "stream",
     "text": [
      "Iter 1: fx0 2.526130e+00, fx1 0.000000e+00, fy 2.526130e+00, v -6.113775e-03, u 1.000000e+03, i 0\n",
      "Iter 2: fx0 2.522916e+00, fx1 2.522916e+00, fy 2.522916e+00, v -5.046013e-03, u 1.000000e+03, i 1\n",
      "Iter 3: fx0 2.519730e+00, fx1 2.519730e+00, fy 2.519730e+00, v -5.821719e-03, u 7.370830e+02, i 1\n",
      "Iter 4: fx0 2.515449e+00, fx1 2.515449e+00, fy 2.515449e+00, v -9.456481e-03, u 3.903043e+02, i 1\n",
      "Iter 5: fx0 2.507493e+00, fx1 2.507493e+00, fy 2.507493e+00, v -2.652317e-02, u 1.238104e+02, i 1\n",
      "Iter 6: fx0 2.483484e+00, fx1 2.483484e+00, fy 2.483484e+00, v -1.152035e-01, u 2.347603e+01, i 1\n",
      "Iter 7: fx0 2.399607e+00, fx1 2.399607e+00, fy 2.399607e+00, v -3.221996e-02, u 1.276747e+01, i 1\n",
      "Iter 8: fx0 2.390443e+00, fx1 2.390443e+00, fy 2.390443e+00, v -6.673434e-03, u 1.276747e+01, i 2\n",
      "Iter 9: fx0 2.388165e+00, fx1 2.388165e+00, fy 2.388165e+00, v -2.351277e-03, u 1.276747e+01, i 3\n",
      "Iter 10: fx0 2.388165e+00, fx1 2.388165e+00, fy 2.388555e+00, v -1.336580e-03, u 1.276747e+01, i -1\n",
      "Iter 11: fx0 2.388119e+00, fx1 2.388119e+00, fy 2.388119e+00, v -1.036171e-03, u 1.276747e+01, i 1\n",
      "Iter 12: fx0 2.387956e+00, fx1 2.387956e+00, fy 2.387956e+00, v -7.206648e-04, u 1.276747e+01, i 2\n",
      "Iter 13: fx0 2.387928e+00, fx1 2.387928e+00, fy 2.387928e+00, v -6.004733e-04, u 1.276747e+01, i 3\n",
      "Iter 14: fx0 2.387928e+00, fx1 2.387928e+00, fy 2.387944e+00, v -5.113189e-04, u 1.276747e+01, i -1\n",
      "Iter 15: fx0 2.387928e+00, fx1 2.387928e+00, fy 2.387946e+00, v -4.455031e-04, u 1.276747e+01, i -2\n",
      "Iter 16: fx0 2.387928e+00, fx1 2.387928e+00, fy 2.387953e+00, v -3.943240e-04, u 1.276747e+01, i -3\n",
      "Iter 17: fx0 2.387928e+00, fx1 2.387928e+00, fy 2.387933e+00, v -1.640262e-04, u 1.276747e+01, i -4\n",
      "Iter 18: fx0 2.387928e+00, fx1 2.387928e+00, fy 2.387939e+00, v -3.216710e-04, u 1.276747e+01, i -5\n",
      "Iter 19: fx0 2.387928e+00, fx1 2.387928e+00, fy 2.387932e+00, v -2.949589e-04, u 1.276747e+01, i -6\n",
      "Iter 20: fx0 2.387928e+00, fx1 2.387928e+00, fy 2.387931e+00, v -2.709682e-04, u 1.276747e+01, i -7\n",
      "Iter 21: fx0 2.387928e+00, fx1 2.387928e+00, fy 2.387934e+00, v -1.079838e-04, u 1.276747e+01, i -8\n",
      "Iter 22: fx0 2.387928e+00, fx1 2.387928e+00, fy 2.387932e+00, v -9.172810e-05, u 1.276747e+01, i -9\n",
      "Iter 23: fx0 2.387928e+00, fx1 2.387928e+00, fy 2.387929e+00, v -8.324174e-05, u 1.276747e+01, i -10\n",
      "Iter 24: fx0 2.387928e+00, fx1 2.387928e+00, fy 2.387928e+00, v -7.643317e-05, u 1.276747e+01, i -11\n",
      "Iter 25: fx0 2.387928e+00, fx1 2.387928e+00, fy 2.387929e+00, v -7.821624e-05, u 1.276747e+01, i -12\n",
      "Iter 26: fx0 2.387928e+00, fx1 2.387928e+00, fy 2.387929e+00, v -5.188284e-05, u 1.276747e+01, i -13\n",
      "Iter 27: fx0 2.387928e+00, fx1 2.387928e+00, fy 2.387929e+00, v -4.702165e-05, u 1.276747e+01, i -14\n",
      "Iter 28: fx0 2.387928e+00, fx1 2.387928e+00, fy 2.387928e+00, v -6.047499e-05, u 1.276747e+01, i -15\n",
      "Iter 29: fx0 2.387928e+00, fx1 2.387928e+00, fy 2.387928e+00, v -6.006445e-05, u 1.276747e+01, i -16\n",
      "Iter 30: fx0 2.387928e+00, fx1 2.387928e+00, fy 2.387928e+00, v -5.383896e-05, u 1.276747e+01, i -17\n",
      "Iter 31: fx0 2.387928e+00, fx1 2.387928e+00, fy 2.387928e+00, v -6.502977e-04, u 1.276747e+01, i -18\n",
      "Iter 32: fx0 2.387928e+00, fx1 2.387928e+00, fy 2.387929e+00, v -1.366201e-05, u 1.276747e+01, i -19\n",
      "TERMINATION: Optimal: v = -1.366200570451781e-5\n",
      "  0.224316 seconds (158.85 k allocations: 8.814 MiB)\n",
      "------------------------------------\n",
      "**Numerical result:\n",
      "====================================\n",
      "opt_val=-2.3879276825240643\n",
      "====================================\n",
      "Dimension of the null space of Gram matrix = 1\n",
      "------------------------------------\n",
      "atom 1 = [-0.6711226608994614, -0.6643372326873419, -0.23839272687389484, -0.03187642110810567, 0.22592888492933771]\n",
      "  check gap of lower bound  = 0.0008575368845655795\n",
      "  check equality constraint 1 = 0.0006406442018955794\n",
      "####################################\n",
      "Optimal solution: opt_sol = [-0.6711226608994614, -0.6643372326873419, -0.23839272687389484, -0.03187642110810567, 0.22592888492933771]\n",
      "####################################\n",
      "  0.000818 seconds (1.56 k allocations: 50.703 KiB)\n",
      "  0.268977 seconds (212.85 k allocations: 11.491 MiB)\n"
     ]
    },
    {
     "data": {
      "text/plain": [
       "(-2.3879276825240643, [-0.6711226608994614, -0.6643372326873419, -0.23839272687389484, -0.03187642110810567, 0.22592888492933771])"
      ]
     },
     "execution_count": 41,
     "metadata": {},
     "output_type": "execute_result"
    }
   ],
   "source": [
    "include(\"../src/SpectralPOP.jl\")\n",
    "using .SpectralPOP\n",
    "\n",
    "opt_val,opt_sol = SpectralPOP.CTP_POP(x,f,h,k,R;method=\"PB\",EigAlg=\"Arpack\",tol=1e-5) # Proximal Bundle method"
   ]
  },
  {
   "cell_type": "markdown",
   "metadata": {},
   "source": [
    "When using ```CTP_POP```, we have two options as follows:\n",
    "\n",
    "1) ```showEvaluation=true``` to display the following information for LMBM and SketchyCGAL:\n",
    "\n",
    "```linear_oper```:  the number of evaluations of the linear operator\n",
    "\n",
    "```adjoint_oper```:  the number of evaluations of the adjoint operator\n",
    "\n",
    "```max_size```: the largest size of symmetric matrices of which eigenvalues and eigenvec-tors are computed\n",
    "\n",
    "```num_eig```: the number of symmetric matrices of which eigenvalues and eigenvectorsare computed\n",
    "\n",
    "2) ```showNormGrad=true``` to display the norms of all subgradients when using LMBM"
   ]
  },
  {
   "cell_type": "code",
   "execution_count": 48,
   "metadata": {
    "scrolled": true
   },
   "outputs": [
    {
     "name": "stdout",
     "output_type": "stream",
     "text": [
      "**Convert moment relaxation to standard SDP:\n",
      "  Size of psd matrix: sk=6\n",
      "  Number of equality trace constraints: m=2\n",
      "  0.046707 seconds (51.47 k allocations: 2.603 MiB)\n",
      "**SketchyCGAL solver:\n"
     ]
    },
    {
     "name": "stderr",
     "output_type": "stream",
     "text": [
      "WARNING: replacing module SpectralPOP.\n"
     ]
    },
    {
     "name": "stdout",
     "output_type": "stream",
     "text": [
      "- SketchyCGAL SDP Solver - Beta.V.0.0\n",
      "--------------------------\n",
      " iter=1 \n",
      " stopObj=2.1914266521254047 \n",
      " stopFeas=1.0 \n",
      " primalObj=-2.04173543860642 \n",
      "--------------------------\n",
      " iter=2 \n",
      " stopObj=5.43451841344231 \n",
      " stopFeas=0.8813513373027295 \n",
      " primalObj=-1.7337802208746944 \n",
      "--------------------------\n",
      " iter=4 \n",
      " stopObj=2.991229664309435 \n",
      " stopFeas=0.5417856752649719 \n",
      " primalObj=-1.9191963865417996 \n",
      "--------------------------\n",
      " iter=8 \n",
      " stopObj=0.9104162201216097 \n",
      " stopFeas=0.1472274056604963 \n",
      " primalObj=-2.0475051906450945 \n",
      "--------------------------\n",
      " iter=16 \n",
      " stopObj=0.81038882544616 \n",
      " stopFeas=0.12713609126519249 \n",
      " primalObj=-2.0645799419286504 \n",
      "--------------------------\n",
      " iter=32 \n",
      " stopObj=0.919941317148258 \n",
      " stopFeas=0.0688241767577785 \n",
      " primalObj=-2.118398052562976 \n",
      "--------------------------\n",
      " iter=64 \n",
      " stopObj=0.5310537209883361 \n",
      " stopFeas=0.0328596042785979 \n",
      " primalObj=-2.1965813777955168 \n",
      "--------------------------\n",
      " iter=128 \n",
      " stopObj=0.04579471584652772 \n",
      " stopFeas=0.0005154786697569241 \n",
      " primalObj=-2.2411550189850695 \n",
      "* status = stopping criteria met\n",
      "  0.066596 seconds (112.38 k allocations: 7.811 MiB)\n",
      "------------------------------------\n",
      "**Numerical result:\n",
      "====================================\n",
      "opt_val=-2.2641309601427295\n",
      "====================================\n",
      "Rank of moment matrix = 3\n",
      "  0.000092 seconds (102 allocations: 11.547 KiB)\n",
      "----------------------------\n",
      "linear_oper=170\n",
      "adjoint_oper=994\n",
      "max_size=5\n",
      "num_eig=171\n",
      "----------------------------\n",
      "  0.114197 seconds (165.20 k allocations: 10.454 MiB)\n"
     ]
    },
    {
     "data": {
      "text/plain": [
       "(-2.2641309601427295, Array{Float64,1}[])"
      ]
     },
     "execution_count": 48,
     "metadata": {},
     "output_type": "execute_result"
    }
   ],
   "source": [
    "include(\"../src/SpectralPOP.jl\")\n",
    "using .SpectralPOP\n",
    "\n",
    "opt_val,opt_sol = SpectralPOP.CTP_POP(x,f,h,k,R;method=\"SketchyCGAL\",EigAlg=\"Normal\",tol=1e-4,showEvaluation=true)"
   ]
  },
  {
   "cell_type": "code",
   "execution_count": 49,
   "metadata": {
    "scrolled": true
   },
   "outputs": [
    {
     "name": "stdout",
     "output_type": "stream",
     "text": [
      "**Convert moment relaxation to standard SDP:\n",
      "  Size of psd matrix: sk=6\n",
      "  Number of equality trace constraints: m=2\n",
      "  0.042427 seconds (51.47 k allocations: 2.603 MiB)\n",
      "**LMBM solver:\n"
     ]
    },
    {
     "name": "stderr",
     "output_type": "stream",
     "text": [
      "WARNING: replacing module SpectralPOP.\n"
     ]
    },
    {
     "name": "stdout",
     "output_type": "stream",
     "text": [
      "---------------\n",
      "| Parameters: |\n",
      "---------------\n",
      "n:       2\n",
      "maxtime: 300000.000000\n",
      "na:      2\n",
      "mcu:     5\n",
      "mc:      7\n",
      "rpar: \n",
      "ipar: \n",
      "-----------\n",
      "| Output: |\n",
      "-----------\n",
      "Termination:     1\n",
      "N. iter.:        8\n",
      "N. func. eval.:  8\n",
      "Final value:     2.387928\n",
      "Execution time:  0.061249\n",
      "  0.222477 seconds (254.22 k allocations: 14.409 MiB)\n",
      "------------------------------------\n",
      "**Numerical result:\n",
      "====================================\n",
      "opt_val=-2.3879276746305087\n",
      "====================================\n",
      "Dimension of the null space of Gram matrix = 1\n",
      "------------------------------------\n",
      "atom 1 = [-0.671041783933286, -0.664264082414923, -0.23838563409910002, -0.03182900927995868, 0.22593234160823028]\n",
      "  check gap of lower bound  = 0.0005756733673929482\n",
      "  check equality constraint 1 = 0.000430066332058221\n",
      "####################################\n",
      "Optimal solution: opt_sol = [-0.671041783933286, -0.664264082414923, -0.23838563409910002, -0.03182900927995868, 0.22593234160823028]\n",
      "####################################\n",
      "  0.000715 seconds (1.56 k allocations: 51.766 KiB)\n",
      "----------------------------\n",
      "norm_grad=[1.7952121702905126, 2.149508558175728, 0.7725079547471393, 1.6939582894879883, 0.4265803223402985, 0.18124797907033113, 0.011737923460866526, 0.00048072540475753065]\n",
      "----------------------------\n",
      "  0.266296 seconds (308.91 k allocations: 17.099 MiB)\n"
     ]
    },
    {
     "data": {
      "text/plain": [
       "(-2.3879276746305087, [-0.671041783933286, -0.664264082414923, -0.23838563409910002, -0.03182900927995868, 0.22593234160823028])"
      ]
     },
     "execution_count": 49,
     "metadata": {},
     "output_type": "execute_result"
    }
   ],
   "source": [
    "include(\"../src/SpectralPOP.jl\")\n",
    "using .SpectralPOP\n",
    "\n",
    "opt_val,opt_sol = SpectralPOP.CTP_POP(x,f,h,k,R;method=\"LMBM\",EigAlg=\"Arpack\",tol=1e-5,showNormGrad=true) #Limited memory bundle method"
   ]
  },
  {
   "cell_type": "code",
   "execution_count": 44,
   "metadata": {},
   "outputs": [
    {
     "name": "stdout",
     "output_type": "stream",
     "text": [
      "**SumOfSquares+Mosek:\n",
      "OPTIMAL\n",
      "opt_val=-2.38792765455764\n",
      "Atomic measure on the variables x[1], x[2], x[3], x[4], x[5] with 1 atoms:\n",
      " at [-0.6708800117679365, -0.6641169886844425, -0.23836808690587727, -0.03176797269584887, 0.22592046769295457] with weight 1.0000000013941632\n",
      "  0.014095 seconds (10.23 k allocations: 1.181 MiB)\n"
     ]
    },
    {
     "name": "stderr",
     "output_type": "stream",
     "text": [
      "WARNING: replacing module SpectralPOP.\n"
     ]
    },
    {
     "data": {
      "text/plain": [
       "(-2.38792765455764, [-0.6708800117679365, -0.6641169886844425, -0.23836808690587727, -0.03176797269584887, 0.22592046769295457])"
      ]
     },
     "execution_count": 44,
     "metadata": {},
     "output_type": "execute_result"
    }
   ],
   "source": [
    "include(\"../src/SpectralPOP.jl\")\n",
    "using .SpectralPOP\n",
    "\n",
    "g=Vector{Polynomial{true,Float64}}([])\n",
    "\n",
    "opt_val,opt_sol = SpectralPOP.SumofSquares_POP_WithExtraction(x,f,g,h,k) # SumOfSquares.jl + Mosek"
   ]
  },
  {
   "cell_type": "code",
   "execution_count": 45,
   "metadata": {},
   "outputs": [
    {
     "name": "stdout",
     "output_type": "stream",
     "text": [
      "**SumOfSquares+Mosek:\n",
      "OPTIMAL\n",
      "opt_val=-2.3879276545578954\n",
      "  0.012420 seconds (9.19 k allocations: 881.109 KiB)\n"
     ]
    },
    {
     "name": "stderr",
     "output_type": "stream",
     "text": [
      "WARNING: replacing module SpectralPOP.\n"
     ]
    },
    {
     "data": {
      "text/plain": [
       "-2.3879276545578954"
      ]
     },
     "execution_count": 45,
     "metadata": {},
     "output_type": "execute_result"
    }
   ],
   "source": [
    "include(\"../src/SpectralPOP.jl\")\n",
    "using .SpectralPOP\n",
    "\n",
    "g=Vector{Polynomial{true,Float64}}([])\n",
    "\n",
    "opt_val = SpectralPOP.SumofSquares_POP(x,f,g,h,k) #No extraction, but faster than the one which has extraction"
   ]
  },
  {
   "cell_type": "code",
   "execution_count": null,
   "metadata": {},
   "outputs": [],
   "source": []
  }
 ],
 "metadata": {
  "kernelspec": {
   "display_name": "Julia 1.3.0",
   "language": "julia",
   "name": "julia-1.3"
  },
  "language_info": {
   "file_extension": ".jl",
   "mimetype": "application/julia",
   "name": "julia",
   "version": "1.3.0"
  }
 },
 "nbformat": 4,
 "nbformat_minor": 2
}
