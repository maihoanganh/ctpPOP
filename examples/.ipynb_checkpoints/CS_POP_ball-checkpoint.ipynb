{
 "cells": [
  {
   "cell_type": "code",
   "execution_count": 7,
   "metadata": {},
   "outputs": [
    {
     "name": "stdout",
     "output_type": "stream",
     "text": [
      "***Problem setting***\n",
      "Number of variable: n=6\n",
      "====================\n",
      "Number of inequality constraints: m=2\n",
      "====================\n",
      "Number of equality constraints: l=0\n"
     ]
    }
   ],
   "source": [
    "using DynamicPolynomials, LinearAlgebra, SparseArrays\n",
    "\n",
    "println(\"***Problem setting***\")\n",
    "\n",
    "n=6\n",
    "\n",
    "println(\"Number of variable: n=\",n)\n",
    "println(\"====================\")\n",
    "\n",
    "@polyvar x[1:n]# variables\n",
    "\n",
    "function generate_random_poly(T::UnitRange{Int64})\n",
    "    v=reverse(monomials(x[T],0:2))\n",
    "    c=2*rand(Float64,length(v)).-1\n",
    "    return c'*v\n",
    "end\n",
    "\n",
    "# unit sphere constraint\n",
    "u=3\n",
    "p=floor(Int64,n/u)\n",
    "\n",
    "I=Vector{UnitRange{Int64}}(undef,p)\n",
    "I[1]=1:u\n",
    "I[2:p-1]=[u*(j-1):u*j for j in 2:p-1]\n",
    "I[p]=u*(p-1):n\n",
    "\n",
    "# random quadratic objective function f\n",
    "vecf=[generate_random_poly(I[j]) for j in 1:p]\n",
    "f=sum(vecf)\n",
    "\n",
    "g=[1.0-sum(x[I[j]].^2) for j in 1:p]\n",
    "J=[j:j for j in 1:p]\n",
    "\n",
    "m=length(g)\n",
    "println(\"Number of inequality constraints: m=\",m)\n",
    "println(\"====================\")\n",
    "\n",
    "l=0#ceil(Int64, n/7)\n",
    "\n",
    "r=floor(Int64,l/p)\n",
    "W=[(j-1)*r+1:j*r for j in 1:p-1]\n",
    "append!(W,[(p-1)*r+1:l])\n",
    "\n",
    "h=Vector{Polynomial{true,Float64}}(undef,l)\n",
    "\n",
    "#=randx=[2*rand(length(I[j])).-1 for j in 1:p]# create a feasible solution\n",
    "randx=[randx[j]/norm(randx[j]) for j in 1:p]=#\n",
    "\n",
    "randx=2*rand(Float64,n).-1\n",
    "\n",
    "for j in 1:p\n",
    "    randx[I[j]]=randx[I[j]]./norm(randx[I[j]])\n",
    "    randx[I[j]]=rand(Float64,1)[1]*randx[I[j]]\n",
    "end\n",
    "\n",
    "for j in 1:p\n",
    "    for i in W[j]\n",
    "        h[i]=generate_random_poly(I[j])\n",
    "        h[i]-=h[i](x => randx) #make constraints feasible\n",
    "    end\n",
    "end\n",
    "\n",
    "l=length(h)\n",
    "println(\"Number of equality constraints: l=\",l)\n"
   ]
  },
  {
   "cell_type": "code",
   "execution_count": 8,
   "metadata": {},
   "outputs": [
    {
     "name": "stderr",
     "output_type": "stream",
     "text": [
      "WARNING: replacing module ctpPOP.\n"
     ]
    }
   ],
   "source": [
    "include(\"../src/ctpPOP.jl\")\n",
    "using .ctpPOP\n",
    "\n",
    "n,m,l,lmon_g,supp_g,coe_g,lmon_h,supp_h,coe_h,lmon_f,supp_f,coe_f,dg,dh=ctpPOP.get_info(x,f,g,h,sparse=true);"
   ]
  },
  {
   "cell_type": "code",
   "execution_count": 9,
   "metadata": {},
   "outputs": [
    {
     "name": "stdout",
     "output_type": "stream",
     "text": [
      "Relaxed order: k=2\n"
     ]
    }
   ],
   "source": [
    "k=2\n",
    "\n",
    "println(\"Relaxed order: k=\",k)"
   ]
  },
  {
   "cell_type": "code",
   "execution_count": 10,
   "metadata": {},
   "outputs": [
    {
     "name": "stdout",
     "output_type": "stream",
     "text": [
      "------------------------------------------------------\n",
      "The clique sizes of varibles:\n",
      "[4, 3]\n",
      "[1, 1]\n",
      "------------------------------------------------------\n",
      "  Number of cliques: p=2\n",
      "  Largest clique size: u=4\n"
     ]
    },
    {
     "name": "stderr",
     "output_type": "stream",
     "text": [
      "WARNING: replacing module ctpPOP.\n"
     ]
    },
    {
     "name": "stdout",
     "output_type": "stream",
     "text": [
      "  Largest constant trace: a=3.0\n",
      "  Number of blocks: omega=4\n",
      "  Number of equality consraints: zeta=101\n",
      "  Size of the largest block: s^max=15\n",
      "Modeling time:\n",
      "  0.298421 seconds (191.68 k allocations: 10.433 MiB)\n",
      "iter=1   val=-6.461056497804279   gap=0.005567114450523594   feas=4.504174305022055\n",
      "iter=2   val=-2.383642862090696   gap=0.6507584523918567   feas=1.0452566414357294\n",
      "iter=4   val=-2.8646394497065675   gap=0.47211819425416174   feas=1.2396572587163772\n",
      "iter=8   val=-2.004635540286927   gap=0.49528258314883217   feas=0.4251077230460165\n",
      "iter=16   val=-2.19231166269986   gap=0.10571333463147063   feas=0.35903916667702174\n",
      "iter=32   val=-2.1340182206798977   gap=0.17331009554252708   feas=0.10320443234678106\n",
      "iter=64   val=-2.164090064803909   gap=0.15629436904711827   feas=0.08303558932560734\n",
      "iter=128   val=-2.0535814107800987   gap=0.04040713505691463   feas=0.04243416164433567\n",
      "iter=256   val=-2.031401065339473   gap=0.06060707870605584   feas=0.01457606512439839\n",
      "iter=512   val=-2.041659666733277   gap=0.021889100867249604   feas=0.008990390417066306\n",
      "iter=893   val=-2.0441876319099497   gap=0.008194252398195703   feas=0.004267571616411406\n",
      "tol satisfies!!!\n",
      "\n",
      "####################################\n",
      "opt_val = -2.0441876319099497\n",
      "####################################\n",
      "Solving time:\n",
      "  0.333643 seconds (420.38 k allocations: 38.408 MiB)\n",
      "Total time:\n",
      "  0.632320 seconds (612.55 k allocations: 48.851 MiB)\n"
     ]
    },
    {
     "data": {
      "text/plain": [
       "-2.0441876319099497"
      ]
     },
     "execution_count": 10,
     "metadata": {},
     "output_type": "execute_result"
    }
   ],
   "source": [
    "include(\"../src/ctpPOP.jl\")\n",
    "using .ctpPOP\n",
    "\n",
    "opt_val1=ctpPOP.POP_CS_CGAL(n,m,l,lmon_g,supp_g,coe_g,lmon_h,supp_h,coe_h,lmon_f,supp_f,coe_f,dg,dh,k,\n",
    "    maxit=Int64(1e10),tol=1e-2,use_eqcons_to_get_constant_trace=false,check_tol_each_iter=true)"
   ]
  },
  {
   "cell_type": "code",
   "execution_count": 11,
   "metadata": {},
   "outputs": [
    {
     "name": "stdout",
     "output_type": "stream",
     "text": [
      "------------------------------------------------------\n",
      "The clique sizes of varibles:\n",
      "[4, 3]\n",
      "[1, 1]\n",
      "------------------------------------------------------\n",
      "Problem\n",
      "  Name                   :                 \n",
      "  Objective sense        : max             \n",
      "  Type                   : CONIC (conic optimization problem)\n",
      "  Constraints            : 100             \n",
      "  Cones                  : 0               \n",
      "  Scalar variables       : 1               \n",
      "  Matrix variables       : 6               \n",
      "  Integer variables      : 0               \n",
      "\n",
      "Optimizer started.\n",
      "Presolve started.\n",
      "Linear dependency checker started.\n",
      "Linear dependency checker terminated.\n",
      "Eliminator started.\n",
      "Freed constraints in eliminator : 0\n",
      "Eliminator terminated.\n",
      "Eliminator - tries                  : 1                 time                   : 0.00            \n",
      "Lin. dep.  - tries                  : 1                 time                   : 0.00            \n",
      "Lin. dep.  - number                 : 0               \n",
      "Presolve terminated. Time: 0.00    \n",
      "Problem\n",
      "  Name                   :                 \n",
      "  Objective sense        : max             \n",
      "  Type                   : CONIC (conic optimization problem)\n",
      "  Constraints            : 100             \n",
      "  Cones                  : 0               \n",
      "  Scalar variables       : 1               \n",
      "  Matrix variables       : 6               \n",
      "  Integer variables      : 0               \n",
      "\n",
      "Optimizer  - threads                : 4               \n",
      "Optimizer  - solved problem         : the primal      \n",
      "Optimizer  - Constraints            : 100\n",
      "Optimizer  - Cones                  : 1\n",
      "Optimizer  - Scalar variables       : 2                 conic                  : 2               \n",
      "Optimizer  - Semi-definite variables: 6                 scalarized             : 225             \n",
      "Factor     - setup time             : 0.00              dense det. time        : 0.00            \n",
      "Factor     - ML order time          : 0.00              GP order time          : 0.00            \n",
      "Factor     - nonzeros before factor : 3100              after factor           : 3100            \n",
      "Factor     - dense dim.             : 0                 flops                  : 1.96e+05        \n",
      "ITE PFEAS    DFEAS    GFEAS    PRSTATUS   POBJ              DOBJ              MU       TIME  \n",
      "0   5.8e+00  1.0e+00  1.0e+00  0.00e+00   0.000000000e+00   0.000000000e+00   1.0e+00  0.00  \n",
      "1   2.9e+00  5.0e-01  3.4e-01  6.63e-01   -7.466853945e-01  -6.922877769e-01  5.0e-01  0.00  \n",
      "2   6.5e-01  1.1e-01  3.2e-02  1.67e+00   -1.726933846e+00  -1.725933351e+00  1.1e-01  0.00  \n",
      "3   1.4e-01  2.4e-02  3.2e-03  9.96e-01   -1.982046463e+00  -1.981877803e+00  2.4e-02  0.00  \n",
      "4   4.2e-02  7.1e-03  5.2e-04  9.79e-01   -2.024480079e+00  -2.024369774e+00  7.1e-03  0.01  \n",
      "5   7.7e-03  1.3e-03  3.9e-05  9.82e-01   -2.064188600e+00  -2.064055124e+00  1.3e-03  0.01  \n",
      "6   5.5e-04  9.4e-05  7.3e-07  9.97e-01   -2.070041071e+00  -2.070031278e+00  9.4e-05  0.01  \n",
      "7   1.5e-05  2.5e-06  3.2e-09  1.00e+00   -2.070543071e+00  -2.070542810e+00  2.5e-06  0.01  \n",
      "8   1.7e-06  2.9e-07  1.3e-10  1.00e+00   -2.070555686e+00  -2.070555655e+00  2.9e-07  0.01  \n",
      "9   1.1e-07  1.9e-08  2.2e-12  1.00e+00   -2.070557381e+00  -2.070557379e+00  1.9e-08  0.01  \n",
      "10  7.7e-09  1.6e-09  3.8e-14  1.00e+00   -2.070557500e+00  -2.070557500e+00  1.3e-09  0.01  \n",
      "Optimizer terminated. Time: 0.01    \n",
      "\n",
      "optimum = -2.070557500389877\n",
      "  0.017891 seconds (32.99 k allocations: 2.519 MiB)\n"
     ]
    },
    {
     "data": {
      "text/plain": [
       "(-2.070557500389877, nothing, TSSOS.mdata_type(6, 0, 2, [2, 2], SparseMatrixCSC{UInt8,UInt32}[\n",
       "  [1,  1]  =  0x02\n",
       "  [1,  2]  =  0x01\n",
       "  [2,  2]  =  0x01\n",
       "  [1,  3]  =  0x01\n",
       "  [3,  3]  =  0x01\n",
       "  [2,  4]  =  0x02\n",
       "  [2,  5]  =  0x01\n",
       "  [3,  5]  =  0x01\n",
       "  [3,  6]  =  0x02\n",
       "  [3,  7]  =  0x01\n",
       "  [4,  7]  =  0x01\n",
       "  [3,  8]  =  0x01\n",
       "  ⋮\n",
       "  [5, 11]  =  0x01\n",
       "  [4, 12]  =  0x01\n",
       "  [6, 12]  =  0x01\n",
       "  [5, 13]  =  0x02\n",
       "  [5, 14]  =  0x01\n",
       "  [6, 14]  =  0x01\n",
       "  [6, 15]  =  0x02\n",
       "  [1, 16]  =  0x01\n",
       "  [2, 17]  =  0x01\n",
       "  [3, 18]  =  0x01\n",
       "  [4, 19]  =  0x01\n",
       "  [5, 20]  =  0x01\n",
       "  [6, 21]  =  0x01, \n",
       "  [1, 1]  =  0x02\n",
       "  [2, 2]  =  0x02\n",
       "  [3, 3]  =  0x02, \n",
       "  [3, 1]  =  0x02\n",
       "  [4, 2]  =  0x02\n",
       "  [5, 3]  =  0x02\n",
       "  [6, 4]  =  0x02], Array{Float64,1}[[0.06904297957201466, 0.12018571240604059, -0.6942162001186607, 0.5988324138803214, 0.7321063235795142, -1.4652221107047092, -0.6442048242646532, 0.55462915196357, -0.37379090698045525, 0.2742366605699833  …  0.8507626746193702, 0.02867651588871345, 0.342367769357411, -0.48872569727747583, 0.7322605397912536, 0.268493324913035, 0.7557436759388629, -0.8718143067641759, -0.6889768802035117, 0.16368434746946292], [-1.0, -1.0, -1.0, 1.0], [-1.0, -1.0, -1.0, -1.0, 1.0]], 0, [2, 2], \n",
       "  [3,   2]  =  0x01\n",
       "  [4,   3]  =  0x01\n",
       "  [5,   4]  =  0x01\n",
       "  [6,   5]  =  0x01\n",
       "  [3,   6]  =  0x02\n",
       "  [3,   7]  =  0x01\n",
       "  [4,   7]  =  0x01\n",
       "  [4,   8]  =  0x02\n",
       "  [3,   9]  =  0x01\n",
       "  [5,   9]  =  0x01\n",
       "  [4,  10]  =  0x01\n",
       "  [5,  10]  =  0x01\n",
       "  ⋮\n",
       "  [3,  94]  =  0x01\n",
       "  [1,  95]  =  0x01\n",
       "  [2,  95]  =  0x01\n",
       "  [3,  95]  =  0x02\n",
       "  [2,  96]  =  0x04\n",
       "  [2,  97]  =  0x03\n",
       "  [3,  97]  =  0x01\n",
       "  [2,  98]  =  0x02\n",
       "  [3,  98]  =  0x02\n",
       "  [1,  99]  =  0x01\n",
       "  [3,  99]  =  0x03\n",
       "  [2, 100]  =  0x01\n",
       "  [3, 100]  =  0x03, Array{Array{UInt8,2},1}[[[0x00 0x00 … 0x00 0x00; 0x00 0x00 … 0x00 0x00; 0x00 0x00 … 0x00 0x00; 0x00 0x00 … 0x00 0x00], [0x02 0x00 … 0x00 0x00; 0x00 0x02 … 0x00 0x00; 0x00 0x00 … 0x00 0x00; 0x00 0x00 … 0x02 0x00]], [[0x00 0x00 … 0x00 0x00; 0x00 0x00 … 0x00 0x00; 0x00 0x00 … 0x00 0x00], [0x02 0x00 0x00 0x00; 0x00 0x02 0x00 0x00; 0x00 0x00 0x02 0x00]]], Array{UInt16,1}[[0x0016, 0x0005], [0x0016, 0x0004]], Array{UInt8,2}[[0x00 0x01 … 0x00 0x00; 0x00 0x00 … 0x00 0x00; 0x00 0x00 … 0x01 0x00; 0x00 0x00 … 0x01 0x02], [0x00 0x01 … 0x00 0x00; 0x00 0x00 … 0x01 0x00; 0x00 0x00 … 0x01 0x02]], Array{Array{UInt8,2},1}[[[0x00 0x01 … 0x00 0x00; 0x00 0x00 … 0x00 0x00; 0x00 0x00 … 0x01 0x00; 0x00 0x00 … 0x00 0x01]], [[0x00 0x01 0x00 0x00; 0x00 0x00 0x01 0x00; 0x00 0x00 0x00 0x01]]], 2, Array{UInt16,1}[[0x0003, 0x0004, 0x0005, 0x0006], [0x0001, 0x0002, 0x0003]], [4, 3], Array{UInt16,1}[[0x0002], [0x0001]], UInt16[], Array{Array{Array{UInt16,1},1},1}[[[[0x0001, 0x0002, 0x0003, 0x0004, 0x0005, 0x0006, 0x0007, 0x0008, 0x0009, 0x000a, 0x000b, 0x000c, 0x000d, 0x000e, 0x000f]], [[0x0001, 0x0002, 0x0003, 0x0004, 0x0005]]], [[[0x0001, 0x0002, 0x0003, 0x0004, 0x0005, 0x0006, 0x0007, 0x0008, 0x0009, 0x000a]], [[0x0001, 0x0002, 0x0003, 0x0004]]]], Array{UInt16,1}[[0x0001, 0x0001], [0x0001, 0x0001]], Array{Array{Int64,1},1}[[[15], [5]], [[10], [4]]], Array{UInt16,1}[[0x000f], [0x000a]], Array{UInt16,1}[[0x0001], [0x0001]]))"
      ]
     },
     "execution_count": 11,
     "metadata": {},
     "output_type": "execute_result"
    }
   ],
   "source": [
    "using TSSOS\n",
    "\n",
    "\n",
    "@time begin\n",
    "    opt,sol,data=cs_tssos_first(Vector{SparseMatrixCSC{UInt8,UInt32}}([[supp_f];supp_g;supp_h]),[[coe_f];coe_g;coe_h],n,k,[dg;dh],numeq=l,CS=\"MD\",TS=\"block\",CTP=false);\n",
    "    #opt,sol,data=cs_tssos_higher!(data,TS=\"block\");\n",
    "end"
   ]
  },
  {
   "cell_type": "code",
   "execution_count": 12,
   "metadata": {
    "scrolled": true
   },
   "outputs": [
    {
     "name": "stdout",
     "output_type": "stream",
     "text": [
      "This is Ipopt version 3.13.2, running with linear solver mumps.\n",
      "NOTE: Other linear solvers might be more efficient (see Ipopt documentation).\n",
      "\n",
      "Number of nonzeros in equality constraint Jacobian...:        0\n",
      "Number of nonzeros in inequality constraint Jacobian.:        7\n",
      "Number of nonzeros in Lagrangian Hessian.............:       22\n",
      "\n",
      "Total number of variables............................:        6\n",
      "                     variables with only lower bounds:        0\n",
      "                variables with lower and upper bounds:        0\n",
      "                     variables with only upper bounds:        0\n",
      "Total number of equality constraints.................:        0\n",
      "Total number of inequality constraints...............:        2\n",
      "        inequality constraints with only lower bounds:        2\n",
      "   inequality constraints with lower and upper bounds:        0\n",
      "        inequality constraints with only upper bounds:        0\n",
      "\n",
      "iter    objective    inf_pr   inf_du lg(mu)  ||d||  lg(rg) alpha_du alpha_pr  ls\n",
      "   0  1.6368435e-01 0.00e+00 8.72e-01  -1.0 0.00e+00    -  0.00e+00 0.00e+00   0\n",
      "   1 -1.1092532e+00 0.00e+00 1.80e+00  -1.7 4.59e-01    -  1.00e+00 1.00e+00f  1\n",
      "   2 -6.1618691e-01 0.00e+00 1.63e+01  -1.7 1.90e-01   2.0 1.00e+00 1.00e+00h  1\n",
      "   3 -7.0857921e-01 0.00e+00 1.21e+00  -1.7 1.09e-01    -  1.00e+00 1.00e+00h  1\n",
      "   4 -7.4748653e-01 0.00e+00 7.68e-01  -1.7 2.30e-02   1.5 1.00e+00 1.00e+00h  1\n",
      "   5 -8.6584675e-01 0.00e+00 7.25e-01  -1.7 6.52e-02   1.0 1.00e+00 1.00e+00f  1\n",
      "   6 -1.2581393e+00 0.00e+00 7.66e-01  -1.7 2.07e-01   0.6 1.00e+00 1.00e+00f  1\n",
      "   7 -2.1519781e+00 1.19e-01 8.25e-01  -1.7 7.50e-01   0.1 1.00e+00 5.71e-01f  1\n",
      "   8 -1.9770773e+00 0.00e+00 3.61e-01  -1.7 2.45e-01    -  1.00e+00 1.00e+00h  1\n",
      "   9 -2.0741702e+00 3.14e-03 4.25e-02  -1.7 3.13e-01    -  1.00e+00 1.00e+00h  1\n",
      "iter    objective    inf_pr   inf_du lg(mu)  ||d||  lg(rg) alpha_du alpha_pr  ls\n",
      "  10 -2.0632715e+00 0.00e+00 2.36e-03  -2.5 7.31e-02    -  1.00e+00 1.00e+00h  1\n",
      "  11 -2.0698367e+00 0.00e+00 1.50e-03  -3.8 3.98e-02    -  1.00e+00 1.00e+00h  1\n",
      "  12 -2.0702578e+00 0.00e+00 6.40e-06  -3.8 7.22e-03    -  1.00e+00 1.00e+00h  1\n",
      "  13 -2.0705535e+00 0.00e+00 1.50e-06  -5.7 1.58e-03    -  1.00e+00 1.00e+00h  1\n",
      "  14 -2.0705575e+00 0.00e+00 3.30e-10  -8.6 2.73e-05    -  1.00e+00 1.00e+00h  1\n",
      "\n",
      "Number of Iterations....: 14\n",
      "\n",
      "                                   (scaled)                 (unscaled)\n",
      "Objective...............:  -2.0705575231704940e+00   -2.0705575231704940e+00\n",
      "Dual infeasibility......:   3.3017898137810420e-10    3.3017898137810420e-10\n",
      "Constraint violation....:   0.0000000000000000e+00    0.0000000000000000e+00\n",
      "Complementarity.........:   2.6807294445679367e-09    2.6807294445679367e-09\n",
      "Overall NLP error.......:   2.6807294445679367e-09    2.6807294445679367e-09\n",
      "\n",
      "\n",
      "Number of objective function evaluations             = 15\n",
      "Number of objective gradient evaluations             = 15\n",
      "Number of equality constraint evaluations            = 0\n",
      "Number of inequality constraint evaluations          = 15\n",
      "Number of equality constraint Jacobian evaluations   = 0\n",
      "Number of inequality constraint Jacobian evaluations = 15\n",
      "Number of Lagrangian Hessian evaluations             = 14\n",
      "Total CPU secs in IPOPT (w/o function evaluations)   =      0.009\n",
      "Total CPU secs in NLP function evaluations           =      0.000\n",
      "\n",
      "EXIT: Optimal Solution Found.\n",
      "LOCALLY_SOLVED\n",
      "opt_val=-2.070557523170494\n",
      "  0.095057 seconds (51.81 k allocations: 2.678 MiB)\n"
     ]
    },
    {
     "name": "stderr",
     "output_type": "stream",
     "text": [
      "WARNING: replacing module ctpPOP.\n"
     ]
    },
    {
     "data": {
      "text/plain": [
       "-2.070557523170494"
      ]
     },
     "execution_count": 12,
     "metadata": {},
     "output_type": "execute_result"
    }
   ],
   "source": [
    "include(\"../src/ctpPOP.jl\")\n",
    "using .ctpPOP\n",
    "\n",
    "optval=ctpPOP.POP_NLP(n,m,l,lmon_g,supp_g,coe_g,lmon_h,supp_h,coe_h,lmon_f,supp_f,coe_f)"
   ]
  },
  {
   "cell_type": "code",
   "execution_count": null,
   "metadata": {},
   "outputs": [],
   "source": []
  }
 ],
 "metadata": {
  "kernelspec": {
   "display_name": "Julia 1.3.0",
   "language": "julia",
   "name": "julia-1.3"
  },
  "language_info": {
   "file_extension": ".jl",
   "mimetype": "application/julia",
   "name": "julia",
   "version": "1.3.0"
  }
 },
 "nbformat": 4,
 "nbformat_minor": 2
}
