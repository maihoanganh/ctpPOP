{
 "cells": [
  {
   "cell_type": "code",
   "execution_count": 8,
   "metadata": {},
   "outputs": [
    {
     "name": "stdout",
     "output_type": "stream",
     "text": [
      "***Problem setting***\n",
      "Number of variable: n=6\n",
      "====================\n",
      "Number of inequality constraints: m=2\n",
      "====================\n",
      "Number of equality constraints: l=0\n"
     ]
    }
   ],
   "source": [
    "using DynamicPolynomials, LinearAlgebra, SparseArrays\n",
    "\n",
    "println(\"***Problem setting***\")\n",
    "\n",
    "n=6\n",
    "\n",
    "println(\"Number of variable: n=\",n)\n",
    "println(\"====================\")\n",
    "\n",
    "@polyvar x[1:n]# variables\n",
    "\n",
    "#function to get a random quadratic polynomial of variables x(T)\n",
    "function generate_random_poly(T::UnitRange{Int64})\n",
    "    v=reverse(monomials(x[T],0:2))\n",
    "    c=2*rand(Float64,length(v)).-1\n",
    "    return c'*v\n",
    "end\n",
    "\n",
    "# ball constraints on subsets of variables\n",
    "u=3# clique size\n",
    "p=floor(Int64,n/u) #number of cliques\n",
    "\n",
    "# indices of variables on each clique\n",
    "I=Vector{UnitRange{Int64}}(undef,p)\n",
    "I[1]=1:u \n",
    "I[2:p-1]=[u*(j-1):u*j for j in 2:p-1]\n",
    "I[p]=u*(p-1):n\n",
    "\n",
    "# random quadratic objective function f\n",
    "vecf=[generate_random_poly(I[j]) for j in 1:p] #vector of separable polynomials on each clique\n",
    "f=sum(vecf)\n",
    "\n",
    "# ball constraints on each clique\n",
    "g=[1.0-sum(x[I[j]].^2) for j in 1:p]\n",
    "J=[j:j for j in 1:p] # assign inequality constraints\n",
    "\n",
    "\n",
    "m=length(g)\n",
    "println(\"Number of inequality constraints: m=\",m)\n",
    "println(\"====================\")\n",
    "\n",
    "\n",
    "l=0#ceil(Int64, n/7)# number of the equality constraints\n",
    "\n",
    "r=floor(Int64,l/p)\n",
    "W=[(j-1)*r+1:j*r for j in 1:p-1]# assign equality constraints\n",
    "append!(W,[(p-1)*r+1:l])\n",
    "\n",
    "h=Vector{Polynomial{true,Float64}}(undef,l)\n",
    "\n",
    "\n",
    "# get a random point satisfies the inequality constraints\n",
    "randx=2*rand(Float64,n).-1\n",
    "\n",
    "for j in 1:p\n",
    "    randx[I[j]]=randx[I[j]]./norm(randx[I[j]])\n",
    "    randx[I[j]]=rand(Float64,1)[1]*randx[I[j]]\n",
    "end\n",
    "\n",
    "for j in 1:p\n",
    "    for i in W[j]\n",
    "        h[i]=generate_random_poly(I[j])\n",
    "        h[i]-=h[i](x => randx) #make the random point satisfy the equality constraint h[i](randx) = 0\n",
    "    end\n",
    "end\n",
    "\n",
    "l=length(h)\n",
    "println(\"Number of equality constraints: l=\",l)\n"
   ]
  },
  {
   "cell_type": "code",
   "execution_count": 9,
   "metadata": {},
   "outputs": [],
   "source": [
    "using ctpPOP\n",
    "\n",
    "n,m,l,lmon_g,supp_g,coe_g,lmon_h,supp_h,coe_h,lmon_f,supp_f,coe_f,dg,dh=ctpPOP.get_info(x,f,g,h,sparse=true);"
   ]
  },
  {
   "cell_type": "code",
   "execution_count": 10,
   "metadata": {},
   "outputs": [
    {
     "name": "stdout",
     "output_type": "stream",
     "text": [
      "Relaxed order: k=2\n"
     ]
    }
   ],
   "source": [
    "k=2\n",
    "\n",
    "println(\"Relaxed order: k=\",k)"
   ]
  },
  {
   "cell_type": "code",
   "execution_count": 11,
   "metadata": {},
   "outputs": [
    {
     "name": "stdout",
     "output_type": "stream",
     "text": [
      "------------------------------------------------------\n",
      "The clique sizes of varibles:\n",
      "[4, 3]\n",
      "[1, 1]\n",
      "------------------------------------------------------\n",
      "  Number of cliques: p=2\n",
      "  Largest clique size: u=4\n",
      "  Largest constant trace: a=3.0\n",
      "  Number of blocks: omega=4\n",
      "  Number of equality consraints: zeta=101\n",
      "  Size of the largest block: s^max=15\n",
      "Modeling time:\n",
      "  0.010849 seconds (17.95 k allocations: 1.562 MiB)\n",
      "iter=1   val=-3.5841484348982773   gap=0.06801841349034697   feas=3.6759107994647753\n",
      "iter=2   val=-1.1344630298955933   gap=0.696194168326104   feas=0.9018136575147957\n",
      "iter=4   val=-1.4364846496163075   gap=0.2620683937125096   feas=0.7532263142370321\n",
      "iter=8   val=-1.5549121880417505   gap=0.10379167018572825   feas=0.1667305967659999\n",
      "iter=16   val=-1.70979570300986   gap=0.026675277520596497   feas=0.04003599616829153\n",
      "iter=32   val=-1.7554389917169235   gap=0.0066882534423136734   feas=0.010153204776730073\n",
      "iter=33   val=-1.7563416145544202   gap=0.006307692476822366   feas=0.009553700738568921\n",
      "tol satisfies!!!\n",
      "\n",
      "####################################\n",
      "opt_val = -1.7563416145544202\n",
      "####################################\n",
      "Solving time:\n",
      "  0.009812 seconds (17.37 k allocations: 1.461 MiB)\n",
      "Total time:\n",
      "  0.020814 seconds (35.86 k allocations: 3.034 MiB)\n"
     ]
    },
    {
     "data": {
      "text/plain": [
       "-1.7563416145544202"
      ]
     },
     "execution_count": 11,
     "metadata": {},
     "output_type": "execute_result"
    }
   ],
   "source": [
    "using ctpPOP\n",
    "\n",
    "opt_val1=ctpPOP.POP_CS_CGAL(n,m,l,lmon_g,supp_g,coe_g,lmon_h,supp_h,coe_h,lmon_f,supp_f,coe_f,dg,dh,k,\n",
    "    maxit=Int64(1e10),tol=1e-2,use_eqcons_to_get_constant_trace=false,check_tol_each_iter=true)"
   ]
  },
  {
   "cell_type": "code",
   "execution_count": 12,
   "metadata": {},
   "outputs": [
    {
     "name": "stdout",
     "output_type": "stream",
     "text": [
      "------------------------------------------------------\n",
      "The clique sizes of varibles:\n",
      "[4, 3]\n",
      "[1, 1]\n",
      "------------------------------------------------------\n",
      "  Number of cliques: p=2\n",
      "  Largest clique size: u=4\n",
      "  Largest constant trace: a=3.0\n",
      "  Number of blocks: omega=4\n",
      "  Number of equality consraints: zeta=101\n",
      "  Size of the largest block: s^max=15\n",
      "Modeling time:\n",
      "  0.010509 seconds (17.95 k allocations: 1.562 MiB)\n",
      "**LMBM solver:\n",
      "---------------\n",
      "| Parameters: |\n",
      "---------------\n",
      "n:       101\n",
      "maxtime: 300000.000000\n",
      "na:      2\n",
      "mcu:     5\n",
      "mc:      7\n",
      "rpar: \n",
      "ipar: \n",
      " Warning: MC > MCU. Assigned MC = MCU.\n",
      " Entry to LMBM:\n",
      " NIT=    1  NFE=    1  F= 0.51115264D+00  WK= 0.4125D-01  QK= 0.2063D-01\n",
      " NIT=    2  NFE=    2  F= 0.49610278D+00  WK= 0.4125D-01  QK= 0.2063D-01\n",
      " NIT=    3  NFE=    3  F= 0.48892040D+00  WK= 0.4125D-01  QK= 0.2063D-01\n",
      " NIT=    4  NFE=    6  F= 0.48859910D+00  WK= 0.4125D-01  QK= 0.2063D-01\n",
      " NIT=    5  NFE=   46  F= 0.48859910D+00  WK= 0.4125D-01  QK= 0.2063D-01\n",
      " Exit from LMBM:\n",
      " Abnormal exit: The value of the function does not change.\n",
      " NIT=    5  NFE=   82  F= 0.48859910D+00  WK= 0.4125D-01  QK= 0.2063D-01  ITERM=  3\n",
      "-----------\n",
      "| Output: |\n",
      "-----------\n",
      "Termination:     3\n",
      "N. iter.:        5\n",
      "N. func. eval.:  82\n",
      "Final value:     0.488599\n",
      "Execution time:  0.015724\n",
      "\n",
      "####################################\n",
      "opt_val = -3.4787208568690855\n",
      "####################################\n",
      "  0.016287 seconds (39.88 k allocations: 3.491 MiB)\n",
      "Total time:\n",
      "  0.026938 seconds (58.36 k allocations: 5.063 MiB)\n"
     ]
    },
    {
     "data": {
      "text/plain": [
       "-3.4787208568690855"
      ]
     },
     "execution_count": 12,
     "metadata": {},
     "output_type": "execute_result"
    }
   ],
   "source": [
    "using ctpPOP\n",
    "\n",
    "opt_val1=ctpPOP.POP_CS_LMBM(n,m,l,lmon_g,supp_g,coe_g,lmon_h,supp_h,coe_h,lmon_f,supp_f,coe_f,dg,dh,k,\n",
    "    tol=1e-2,use_eqcons_to_get_constant_trace=false)"
   ]
  },
  {
   "cell_type": "code",
   "execution_count": 15,
   "metadata": {},
   "outputs": [
    {
     "name": "stdout",
     "output_type": "stream",
     "text": [
      "------------------------------------------------------\n",
      "The clique sizes of varibles:\n",
      "[4, 3]\n",
      "[1, 1]\n",
      "------------------------------------------------------\n",
      "Problem\n",
      "  Name                   :                 \n",
      "  Objective sense        : max             \n",
      "  Type                   : CONIC (conic optimization problem)\n",
      "  Constraints            : 100             \n",
      "  Cones                  : 0               \n",
      "  Scalar variables       : 1               \n",
      "  Matrix variables       : 4               \n",
      "  Integer variables      : 0               \n",
      "\n",
      "Optimizer started.\n",
      "Presolve started.\n",
      "Linear dependency checker started.\n",
      "Linear dependency checker terminated.\n",
      "Eliminator started.\n",
      "Freed constraints in eliminator : 0\n",
      "Eliminator terminated.\n",
      "Eliminator - tries                  : 1                 time                   : 0.00            \n",
      "Lin. dep.  - tries                  : 1                 time                   : 0.00            \n",
      "Lin. dep.  - number                 : 0               \n",
      "Presolve terminated. Time: 0.00    \n",
      "Problem\n",
      "  Name                   :                 \n",
      "  Objective sense        : max             \n",
      "  Type                   : CONIC (conic optimization problem)\n",
      "  Constraints            : 100             \n",
      "  Cones                  : 0               \n",
      "  Scalar variables       : 1               \n",
      "  Matrix variables       : 4               \n",
      "  Integer variables      : 0               \n",
      "\n",
      "Optimizer  - threads                : 4               \n",
      "Optimizer  - solved problem         : the primal      \n",
      "Optimizer  - Constraints            : 100\n",
      "Optimizer  - Cones                  : 1\n",
      "Optimizer  - Scalar variables       : 2                 conic                  : 2               \n",
      "Optimizer  - Semi-definite variables: 4                 scalarized             : 200             \n",
      "Factor     - setup time             : 0.00              dense det. time        : 0.00            \n",
      "Factor     - ML order time          : 0.00              GP order time          : 0.00            \n",
      "Factor     - nonzeros before factor : 3100              after factor           : 3100            \n",
      "Factor     - dense dim.             : 0                 flops                  : 1.94e+05        \n",
      "ITE PFEAS    DFEAS    GFEAS    PRSTATUS   POBJ              DOBJ              MU       TIME  \n",
      "0   3.2e+00  1.0e+00  1.0e+00  0.00e+00   0.000000000e+00   0.000000000e+00   1.0e+00  0.00  \n",
      "1   9.2e-01  2.9e-01  1.4e-01  9.98e-01   -3.273526457e-01  -2.757610661e-01  2.9e-01  0.00  \n",
      "2   2.6e-01  8.3e-02  2.3e-02  7.64e-01   -1.451159864e+00  -1.439570337e+00  8.3e-02  0.00  \n",
      "3   1.8e-02  5.6e-03  4.1e-04  9.70e-01   -1.745985922e+00  -1.745362375e+00  5.6e-03  0.01  \n",
      "4   2.9e-04  9.2e-05  8.7e-07  1.00e+00   -1.769982050e+00  -1.769973256e+00  9.2e-05  0.01  \n",
      "5   4.2e-06  1.3e-06  1.5e-09  9.99e-01   -1.770351676e+00  -1.770351559e+00  1.3e-06  0.01  \n",
      "6   1.8e-07  5.8e-08  1.4e-11  1.00e+00   -1.770356214e+00  -1.770356209e+00  5.8e-08  0.01  \n",
      "7   9.4e-09  3.0e-09  1.6e-13  1.00e+00   -1.770356413e+00  -1.770356413e+00  3.0e-09  0.01  \n",
      "Optimizer terminated. Time: 0.01    \n",
      "\n",
      "optimum = -1.7703564129798761\n",
      "  0.016982 seconds (28.84 k allocations: 2.145 MiB)\n"
     ]
    }
   ],
   "source": [
    "using TSSOS\n",
    "\n",
    "\n",
    "@time opt,sol,data=cs_tssos_first(Vector{SparseMatrixCSC{UInt8,UInt32}}([[supp_f];supp_g;supp_h]),[[coe_f];coe_g;coe_h],n,k,[dg;dh],numeq=l,CS=\"MD\",TS=false);"
   ]
  },
  {
   "cell_type": "code",
   "execution_count": 14,
   "metadata": {
    "scrolled": true
   },
   "outputs": [],
   "source": [
    "#using ctpPOP\n",
    "\n",
    "#optval=ctpPOP.POP_NLP(n,m,l,lmon_g,supp_g,coe_g,lmon_h,supp_h,coe_h,lmon_f,supp_f,coe_f)"
   ]
  },
  {
   "cell_type": "code",
   "execution_count": null,
   "metadata": {},
   "outputs": [],
   "source": []
  }
 ],
 "metadata": {
  "kernelspec": {
   "display_name": "Julia 1.3.0",
   "language": "julia",
   "name": "julia-1.3"
  },
  "language_info": {
   "file_extension": ".jl",
   "mimetype": "application/julia",
   "name": "julia",
   "version": "1.3.0"
  }
 },
 "nbformat": 4,
 "nbformat_minor": 2
}
