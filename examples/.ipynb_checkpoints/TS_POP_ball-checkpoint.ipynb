{
 "cells": [
  {
   "cell_type": "code",
   "execution_count": 53,
   "metadata": {},
   "outputs": [
    {
     "name": "stdout",
     "output_type": "stream",
     "text": [
      "***Problem setting***\n",
      "Number of variable: n=20\n",
      "====================\n",
      "Number of inequality constraints: m=1\n",
      "====================\n",
      "Number of equality constraints: l=0\n"
     ]
    }
   ],
   "source": [
    "using DynamicPolynomials, SparseArrays\n",
    "\n",
    "println(\"***Problem setting***\")\n",
    "\n",
    "n=10\n",
    "\n",
    "println(\"Number of variable: n=\",n)\n",
    "println(\"====================\")\n",
    "\n",
    "@ncpolyvar x[1:n]# variables\n",
    "\n",
    "function star_algebra(mom)\n",
    "    if mom==1\n",
    "        return mom\n",
    "    else\n",
    "        ind=mom.z .>0\n",
    "        vars=mom.vars[ind]\n",
    "        exp=mom.z[ind]\n",
    "        return prod(vars[i]^exp[i] for i in length(exp):-1:1)\n",
    "    end\n",
    "end\n",
    "\n",
    "function generate_random_poly(v)\n",
    "    lv=length(v)\n",
    "    c=2*rand(Float64,lv).-1\n",
    "    return sum(c[j]*v[j] for j in 1:lv)\n",
    "end\n",
    "# random quadratic objective function f\n",
    "v=reverse(monomials(x,2))\n",
    "v+=star_algebra.(v)\n",
    "v=v./2\n",
    "f=generate_random_poly(v)\n",
    "\n",
    "\n",
    "# unit sphere constraint\n",
    "g=[1.0-sum(x.^2)] #type of coefficients of each polynomial must be float\n",
    "\n",
    "m=length(g)\n",
    "println(\"Number of inequality constraints: m=\",m)\n",
    "println(\"====================\")\n",
    "\n",
    "l=ceil(Int64, n/4)\n",
    "\n",
    "h=Vector{Polynomial{false,Float64}}(undef,l)\n",
    "randx=2*rand(n).-1# create a feasible solution\n",
    "randx=rand(1)[1]*randx./sqrt(sum(randx.^2))\n",
    "\n",
    "\n",
    "for j in 1:l\n",
    "    h[j]=generate_random_poly(v[2:end])\n",
    "    h[j]-=h[j](x => randx) #make constraints feasible\n",
    "end\n",
    "\n",
    "l=length(h)\n",
    "println(\"Number of equality constraints: l=\",l)\n"
   ]
  },
  {
   "cell_type": "code",
   "execution_count": 54,
   "metadata": {},
   "outputs": [
    {
     "name": "stderr",
     "output_type": "stream",
     "text": [
      "WARNING: replacing module ctpNCPOP.\n"
     ]
    }
   ],
   "source": [
    "include(\"../src/ctpNCPOP.jl\")\n",
    "using .ctpNCPOP\n",
    "\n",
    "n,m,l,lmon_g,supp_g,coe_g,lmon_h,supp_h,coe_h,lmon_f,supp_f,coe_f,dg,dh=ctpNCPOP.get_info(x,f,g,h);"
   ]
  },
  {
   "cell_type": "code",
   "execution_count": 55,
   "metadata": {},
   "outputs": [
    {
     "name": "stdout",
     "output_type": "stream",
     "text": [
      "Relaxed order: k=2\n",
      "====================\n",
      "Sparse order: t=1\n"
     ]
    }
   ],
   "source": [
    "k=2\n",
    "\n",
    "println(\"Relaxed order: k=\",k)\n",
    "println(\"====================\")\n",
    "t=1\n",
    "println(\"Sparse order: t=\",t)"
   ]
  },
  {
   "cell_type": "code",
   "execution_count": null,
   "metadata": {},
   "outputs": [
    {
     "name": "stdout",
     "output_type": "stream",
     "text": [
      "------------------------------------------------------\n",
      "The sizes of blocks:\n",
      "[401, 20]\n",
      "[1, 1]\n",
      "------------------------------------------------------\n",
      "Problem\n",
      "  Name                   :                 \n",
      "  Objective sense        : max             \n",
      "  Type                   : CONIC (conic optimization problem)\n",
      "  Constraints            : 80411           \n",
      "  Cones                  : 0               \n",
      "  Scalar variables       : 2               \n",
      "  Matrix variables       : 3               \n",
      "  Integer variables      : 0               \n",
      "\n",
      "Optimizer started.\n",
      "Presolve started.\n",
      "Linear dependency checker started.\n",
      "Linear dependency checker terminated.\n",
      "Eliminator started.\n",
      "Freed constraints in eliminator : 0\n",
      "Eliminator terminated.\n",
      "Eliminator - tries                  : 1                 time                   : 0.00            \n",
      "Lin. dep.  - tries                  : 1                 time                   : 0.02            \n",
      "Lin. dep.  - number                 : 0               \n",
      "Presolve terminated. Time: 0.03    \n"
     ]
    },
    {
     "name": "stderr",
     "output_type": "stream",
     "text": [
      "WARNING: Force throwing a SIGINT\n"
     ]
    }
   ],
   "source": [
    "using NCTSSOS\n",
    "\n",
    "\n",
    "@time begin\n",
    "j=1\n",
    "opt,data=nctssos_first(Vector{Vector{Vector{UInt16}}}([[supp_f];supp_g;supp_h]),[[coe_f];coe_g;coe_h],n,k,[dg;dh],numeq=l,reducebasis=false,obj=\"eigen\",merge=false,TS=\"block\",QUIET=false)\n",
    "while j <= t-1\n",
    "    opt,data=nctssos_higher!(NCTSSOS.cdata_type(data),TS=\"block\")\n",
    "end\n",
    "end\n",
    "\n"
   ]
  },
  {
   "cell_type": "code",
   "execution_count": 57,
   "metadata": {},
   "outputs": [
    {
     "name": "stdout",
     "output_type": "stream",
     "text": [
      "  Computing constant trace status: OPTIMAL\n",
      "  Constant trace: ak = 3.0\n",
      "  Number of blocks: omega="
     ]
    },
    {
     "name": "stderr",
     "output_type": "stream",
     "text": [
      "WARNING: replacing module ctpNCPOP.\n"
     ]
    },
    {
     "name": "stdout",
     "output_type": "stream",
     "text": [
      "4\n",
      "  Size of the largest block: s^max=401\n",
      "  Number of equality trace constraints: zeta=612\n",
      "Modeling time:\n",
      "  1.978127 seconds (3.75 M allocations: 262.976 MiB, 7.76% gc time)\n",
      "iter=1   val=-9.076068723096316   gap=8.814731658828865e-16   feas=2.575607688885834\n",
      "iter=2   val=-3.0253562410321058   gap=0.8054739154767302   feas=0.9373549272742374\n",
      "iter=4   val=-3.5583704284740842   gap=0.6689250666816409   feas=0.572830902351627\n",
      "iter=8   val=-3.1747177484612736   gap=0.21113698818037668   feas=0.5387237482423632\n",
      "iter=16   val=-2.828207113930777   gap=0.41434099631818183   feas=0.2634907652663384\n",
      "iter=32   val=-3.504215157831562   gap=0.06251339442290026   feas=0.14830000838010604\n",
      "iter=64   val=-3.119153562706847   gap=0.03644292151238746   feas=0.05978308191566304\n",
      "iter=128   val=-3.015951330634873   gap=0.05788111218884044   feas=0.02750414414420377\n",
      "iter=256   val=-2.964648343641019   gap=0.04001382173436117   feas=0.010001342232912347\n",
      "iter=512   val=-3.0098603075598813   gap=0.0210910069568005   feas=0.00693367874829256\n",
      "iter=1024   val=-3.000320297163653   gap=0.02761052619638657   feas=0.0023083110395654945\n",
      "iter=2048   val=-3.0056231060490184   gap=0.016735875448882123   feas=0.0011847707356133072\n",
      "iter=3956   val=-3.019089098993676   gap=0.0008939534744367767   feas=0.0007551143691358895\n",
      "tol satisfies!!!\n",
      "\n",
      "####################################\n",
      "opt_val = -3.019089098993676\n",
      "####################################\n",
      "Solving time:\n",
      " 24.476157 seconds (4.05 M allocations: 15.294 GiB, 4.16% gc time)\n",
      "Total time:\n",
      " 26.455059 seconds (7.80 M allocations: 15.551 GiB, 4.43% gc time)\n"
     ]
    },
    {
     "data": {
      "text/plain": [
       "-3.019089098993676"
      ]
     },
     "execution_count": 57,
     "metadata": {},
     "output_type": "execute_result"
    }
   ],
   "source": [
    "include(\"../src/ctpNCPOP.jl\")\n",
    "using .ctpNCPOP\n",
    "\n",
    "opt_val=ctpNCPOP.POP_TS_CGAL(n,m,l,lmon_g,supp_g,coe_g,lmon_h,supp_h,coe_h,lmon_f,supp_f,coe_f,dg,dh,k,t,\n",
    "                         tol=1e-3,use_eqcons_to_get_constant_trace=false)"
   ]
  },
  {
   "cell_type": "code",
   "execution_count": 45,
   "metadata": {},
   "outputs": [],
   "source": [
    "#using ctpPOP\n",
    "\n",
    "#optval=ctpPOP.POP_NLP(n,m,l,lmon_g,supp_g,coe_g,lmon_h,supp_h,coe_h,lmon_f,supp_f,coe_f)"
   ]
  },
  {
   "cell_type": "code",
   "execution_count": null,
   "metadata": {},
   "outputs": [],
   "source": []
  }
 ],
 "metadata": {
  "kernelspec": {
   "display_name": "Julia 1.3.0",
   "language": "julia",
   "name": "julia-1.3"
  },
  "language_info": {
   "file_extension": ".jl",
   "mimetype": "application/julia",
   "name": "julia",
   "version": "1.3.0"
  }
 },
 "nbformat": 4,
 "nbformat_minor": 2
}
