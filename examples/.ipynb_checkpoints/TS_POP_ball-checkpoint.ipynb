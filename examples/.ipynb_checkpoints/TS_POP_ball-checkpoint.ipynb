{
 "cells": [
  {
   "cell_type": "code",
   "execution_count": 10,
   "metadata": {},
   "outputs": [
    {
     "name": "stdout",
     "output_type": "stream",
     "text": [
      "***Problem setting***\n",
      "Number of variable: n=5\n",
      "====================\n",
      "Number of inequality constraints: m=1\n",
      "====================\n",
      "Number of equality constraints: l=2\n"
     ]
    }
   ],
   "source": [
    "using DynamicPolynomials, SparseArrays\n",
    "\n",
    "println(\"***Problem setting***\")\n",
    "\n",
    "n=5\n",
    "\n",
    "println(\"Number of variable: n=\",n)\n",
    "println(\"====================\")\n",
    "\n",
    "@polyvar x[1:n]# variables\n",
    "\n",
    "function generate_random_poly(v)\n",
    "    lv=length(v)\n",
    "    c=2*rand(Float64,lv).-1\n",
    "    return sum(c[j]*v[j] for j in 1:lv)\n",
    "end\n",
    "# random quadratic objective function f\n",
    "v=reverse(monomials(x,2))\n",
    "f=generate_random_poly(v)\n",
    "\n",
    "\n",
    "# unit sphere constraint\n",
    "g=[1.0-sum(x.^2)] #type of coefficients of each polynomial must be float\n",
    "\n",
    "m=length(g)\n",
    "println(\"Number of inequality constraints: m=\",m)\n",
    "println(\"====================\")\n",
    "\n",
    "l=ceil(Int64, n/4)\n",
    "\n",
    "h=Vector{Polynomial{true,Float64}}(undef,l)\n",
    "randx=2*rand(n).-1# create a feasible solution\n",
    "randx=rand(1)[1]*randx./sqrt(sum(randx.^2))\n",
    "\n",
    "\n",
    "for j in 1:l\n",
    "    h[j]=generate_random_poly(v[2:end])\n",
    "    h[j]-=h[j](x => randx) #make constraints feasible\n",
    "end\n",
    "\n",
    "l=length(h)\n",
    "println(\"Number of equality constraints: l=\",l)\n"
   ]
  },
  {
   "cell_type": "code",
   "execution_count": 11,
   "metadata": {},
   "outputs": [
    {
     "name": "stderr",
     "output_type": "stream",
     "text": [
      "WARNING: replacing module ctpPOP.\n"
     ]
    }
   ],
   "source": [
    "include(\"../src/ctpPOP.jl\")\n",
    "using .ctpPOP\n",
    "\n",
    "n,m,l,lmon_g,supp_g,coe_g,lmon_h,supp_h,coe_h,lmon_f,supp_f,coe_f,dg,dh=ctpPOP.get_info(x,f,g,h,sparse=false);"
   ]
  },
  {
   "cell_type": "code",
   "execution_count": 12,
   "metadata": {},
   "outputs": [
    {
     "name": "stdout",
     "output_type": "stream",
     "text": [
      "Relaxed order: k=2\n",
      "====================\n",
      "Sparse order: t=1\n"
     ]
    }
   ],
   "source": [
    "k=2\n",
    "\n",
    "println(\"Relaxed order: k=\",k)\n",
    "println(\"====================\")\n",
    "t=1\n",
    "println(\"Sparse order: t=\",t)"
   ]
  },
  {
   "cell_type": "code",
   "execution_count": 13,
   "metadata": {},
   "outputs": [
    {
     "name": "stdout",
     "output_type": "stream",
     "text": [
      "  Computing constant trace status: OPTIMAL\n",
      "  Constant trace: ak = 3.0\n",
      "  Number of blocks: omega=4\n"
     ]
    },
    {
     "name": "stderr",
     "output_type": "stream",
     "text": [
      "WARNING: replacing module ctpPOP.\n"
     ]
    },
    {
     "name": "stdout",
     "output_type": "stream",
     "text": [
      "  Size of the largest block: s^max=16\n",
      "  Number of equality trace constraints: zeta=114\n",
      "Modeling time:\n",
      "  0.404686 seconds (569.57 k allocations: 30.066 MiB)\n",
      "---------------\n",
      "| Parameters: |\n",
      "---------------\n",
      "n:       114\n",
      "maxtime: 300000.000000\n",
      "na:      2\n",
      "mcu:     5\n",
      "mc:      7\n",
      "rpar: \n",
      "ipar: \n",
      " Warning: MC > MCU. Assigned MC = MCU.\n",
      " Entry to LMBM:\n",
      " NIT=    1  NFE=    1  F= 0.75221852D+00  WK= 0.4444D+00  QK= 0.2222D+00\n",
      " NIT=    2  NFE=    2  F= 0.32616106D+00  WK= 0.4717D+00  QK= 0.1644D+00\n",
      " NIT=    3  NFE=    4  F= 0.31719502D+00  WK= 0.7797D-01  QK= 0.6933D-01\n",
      " NIT=    4  NFE=    5  F= 0.24006084D+00  WK= 0.6067D+01  QK= 0.6591D-01\n",
      " NIT=    5  NFE=    6  F= 0.24006084D+00  WK= 0.3300D+00  QK= 0.1814D+00\n",
      " NIT=    6  NFE=   51  F= 0.24006084D+00  WK= 0.3602D-01  QK= 0.6591D-01\n",
      " NIT=    7  NFE=   56  F= 0.23874825D+00  WK= 0.7051D-02  QK= 0.1813D+00\n",
      " Warning: A nondescent search direction occured. Restart.\n",
      " NIT=    8  NFE=   57  F= 0.23874825D+00  WK= 0.3625D+00  QK= 0.1813D+00\n",
      " NIT=    9  NFE=   58  F= 0.23874825D+00  WK= 0.2227D+00  QK= 0.1129D+00\n",
      " NIT=   10  NFE=   59  F= 0.23834515D+00  WK= 0.3173D-01  QK= 0.6729D-01\n",
      " NIT=   11  NFE=   60  F= 0.22677592D+00  WK= 0.3445D-01  QK= 0.1826D+00\n",
      " NIT=   12  NFE=   61  F= 0.21477561D+00  WK= 0.5266D-02  QK= 0.6638D-01\n",
      " NIT=   13  NFE=   62  F= 0.21138386D+00  WK= 0.9167D-02  QK= 0.1825D+00\n",
      " NIT=   14  NFE=   63  F= 0.20333433D+00  WK= 0.3007D-01  QK= 0.6561D-01\n",
      " NIT=   15  NFE=   64  F= 0.20333433D+00  WK= 0.2087D-01  QK= 0.5260D-01\n",
      " NIT=   16  NFE=   65  F= 0.20056216D+00  WK= 0.1172D-01  QK= 0.1811D+00\n",
      " NIT=   17  NFE=   66  F= 0.18908875D+00  WK= 0.5027D+00  QK= 0.1770D+00\n",
      " NIT=   18  NFE=   67  F= 0.18908875D+00  WK= 0.2115D+00  QK= 0.2187D+00\n",
      " Warning: A nondescent search direction occured. Restart.\n",
      " NIT=   19  NFE=  112  F= 0.18908875D+00  WK= 0.3540D+00  QK= 0.1770D+00\n",
      " NIT=   20  NFE=  113  F= 0.18908875D+00  WK= 0.1976D+00  QK= 0.1026D+00\n",
      " NIT=   21  NFE=  116  F= 0.18900333D+00  WK= 0.1183D-01  QK= 0.6347D-01\n",
      " NIT=   22  NFE=  117  F= 0.17824692D+00  WK= 0.6752D-01  QK= 0.5872D-01\n",
      " Warning: A nondescent search direction occured. Restart.\n",
      " NIT=   23  NFE=  118  F= 0.17824692D+00  WK= 0.1174D+00  QK= 0.5872D-01\n",
      " NIT=   24  NFE=  119  F= 0.17824692D+00  WK= 0.5267D-01  QK= 0.2679D-01\n",
      " NIT=   25  NFE=  122  F= 0.17260962D+00  WK= 0.6154D-02  QK= 0.1687D+00\n",
      " NIT=   26  NFE=  123  F= 0.17167950D+00  WK= 0.1860D-02  QK= 0.5559D-01\n",
      " NIT=   27  NFE=  124  F= 0.17167950D+00  WK= 0.1825D-01  QK= 0.3519D-01\n",
      " NIT=   28  NFE=  127  F= 0.16955772D+00  WK= 0.4926D-02  QK= 0.1690D+00\n",
      " NIT=   29  NFE=  128  F= 0.16810883D+00  WK= 0.1926D-02  QK= 0.5297D-01\n",
      " NIT=   30  NFE=  129  F= 0.16810883D+00  WK= 0.6274D-02  QK= 0.3053D-01\n",
      " NIT=   31  NFE=  130  F= 0.16461003D+00  WK= 0.2371D-02  QK= 0.4449D-01\n",
      " NIT=   32  NFE=  131  F= 0.16260764D+00  WK= 0.1477D-01  QK= 0.4279D-01\n",
      " Warning: A nondescent search direction occured. Restart.\n",
      " NIT=   33  NFE=  132  F= 0.16260764D+00  WK= 0.8558D-01  QK= 0.4279D-01\n",
      " NIT=   34  NFE=  133  F= 0.16260764D+00  WK= 0.2572D-01  QK= 0.1362D-01\n",
      " NIT=   35  NFE=  136  F= 0.16246693D+00  WK= 0.1727D-02  QK= 0.1661D+00\n",
      " NIT=   36  NFE=  137  F= 0.16168912D+00  WK= 0.3039D-03  QK= 0.4205D-01\n",
      " NIT=   37  NFE=  138  F= 0.16168912D+00  WK= 0.2001D-02  QK= 0.1923D-01\n",
      " NIT=   38  NFE=  141  F= 0.16140772D+00  WK= 0.2931D-02  QK= 0.1999D+00\n",
      " NIT=   39  NFE=  142  F= 0.16140772D+00  WK= 0.2696D-02  QK= 0.1087D+00\n",
      " NIT=   40  NFE=  145  F= 0.16135487D+00  WK= 0.1189D-02  QK= 0.1692D+00\n",
      " NIT=   41  NFE=  146  F= 0.16130118D+00  WK= 0.2252D-03  QK= 0.4079D-01\n",
      " NIT=   42  NFE=  147  F= 0.16109760D+00  WK= 0.2075D-02  QK= 0.4055D-01\n",
      " Warning: A nondescent search direction occured. Restart.\n",
      " NIT=   43  NFE=  148  F= 0.16109760D+00  WK= 0.8111D-01  QK= 0.4055D-01\n",
      " NIT=   44  NFE=  149  F= 0.16109760D+00  WK= 0.2375D-01  QK= 0.1259D-01\n",
      " NIT=   45  NFE=  155  F= 0.16108327D+00  WK= 0.9002D-03  QK= 0.1703D+00\n",
      " NIT=   46  NFE=  156  F= 0.16102435D+00  WK= 0.4053D-03  QK= 0.4483D-01\n",
      " NIT=   47  NFE=  157  F= 0.16085917D+00  WK= 0.1246D-03  QK= 0.1658D+00\n",
      " NIT=   48  NFE=  158  F= 0.16085315D+00  WK= 0.4379D-04  QK= 0.4197D-01\n",
      " NIT=   49  NFE=  159  F= 0.16081881D+00  WK= 0.3727D-03  QK= 0.4245D-01\n",
      " NIT=   50  NFE=  160  F= 0.16081881D+00  WK= 0.3665D-03  QK= 0.3077D-01\n",
      " NIT=   51  NFE=  161  F= 0.16064765D+00  WK= 0.1300D-03  QK= 0.1650D+00\n",
      " NIT=   52  NFE=  162  F= 0.16059178D+00  WK= 0.1445D-03  QK= 0.1642D+00\n",
      " Warning: A nondescent search direction occured. Restart.\n",
      " NIT=   53  NFE=  163  F= 0.16059178D+00  WK= 0.3285D+00  QK= 0.1642D+00\n",
      " NIT=   54  NFE=  164  F= 0.16059178D+00  WK= 0.1705D+00  QK= 0.9066D-01\n",
      " NIT=   55  NFE=  174  F= 0.16057878D+00  WK= 0.4958D-04  QK= 0.4212D-01\n",
      " NIT=   56  NFE=  175  F= 0.16053465D+00  WK= 0.3312D-03  QK= 0.4165D-01\n",
      " NIT=   57  NFE=  176  F= 0.16053465D+00  WK= 0.4145D-03  QK= 0.3360D-01\n",
      " NIT=   58  NFE=  178  F= 0.16045566D+00  WK= 0.8911D-04  QK= 0.1641D+00\n",
      " NIT=   59  NFE=  179  F= 0.16044833D+00  WK= 0.1862D-04  QK= 0.4077D-01\n",
      " NIT=   60  NFE=  180  F= 0.16042997D+00  WK= 0.2519D-02  QK= 0.4082D-01\n",
      " Warning: A nondescent search direction occured. Restart.\n",
      " NIT=   61  NFE=  181  F= 0.16042997D+00  WK= 0.8165D-01  QK= 0.4082D-01\n",
      " NIT=   62  NFE=  182  F= 0.16042997D+00  WK= 0.2348D-01  QK= 0.1249D-01\n",
      " NIT=   63  NFE=  192  F= 0.16042094D+00  WK= 0.1338D+01  QK= 0.4082D-01\n",
      " Warning: A nondescent search direction occured. Restart.\n",
      " NIT=   64  NFE=  193  F= 0.16042094D+00  WK= 0.8165D-01  QK= 0.4082D-01\n",
      " NIT=   65  NFE=  194  F= 0.16042094D+00  WK= 0.2348D-01  QK= 0.1249D-01\n",
      " NIT=   66  NFE=  206  F= 0.16042067D+00  WK= 0.9777D-05  QK= 0.1641D+00\n",
      " NIT=   67  NFE=  207  F= 0.16041359D+00  WK= 0.2106D-04  QK= 0.4089D-01\n",
      " NIT=   68  NFE=  208  F= 0.16039581D+00  WK= 0.9740D-04  QK= 0.4113D-01\n",
      " NIT=   69  NFE=  209  F= 0.16032379D+00  WK= 0.2658D-03  QK= 0.4145D-01\n",
      " NIT=   70  NFE=  211  F= 0.16032379D+00  WK= 0.1488D-03  QK= 0.3541D-01\n",
      " NIT=   71  NFE=  214  F= 0.16030642D+00  WK= 0.2839D-03  QK= 0.4078D-01\n",
      " NIT=   72  NFE=  216  F= 0.16027951D+00  WK= 0.8919D-04  QK= 0.4083D-01\n",
      " NIT=   73  NFE=  217  F= 0.16022089D+00  WK= 0.5142D-04  QK= 0.4096D-01\n",
      " NIT=   74  NFE=  218  F= 0.16022089D+00  WK= 0.8590D-05  QK= 0.3033D-01\n",
      " Exit from LMBM:\n",
      " Abnormal exit: Too many steps without significant progress.\n",
      " NIT=   74  NFE=  223  F= 0.16022078D+00  WK= 0.8590D-05  QK= 0.3033D-01  ITERM=  2\n",
      "-----------\n",
      "| Output: |\n",
      "-----------\n",
      "Termination:     2\n",
      "N. iter.:        74\n",
      "N. func. eval.:  223\n",
      "Final value:     0.160221\n",
      "Execution time:  0.095871\n",
      "\n",
      "####################################\n",
      "opt_val = -0.8742672380716684\n",
      "####################################\n",
      "Solving time:\n",
      "  0.189938 seconds (331.88 k allocations: 22.380 MiB)\n",
      "Total time:\n",
      "  0.594744 seconds (901.94 k allocations: 52.456 MiB)\n"
     ]
    },
    {
     "data": {
      "text/plain": [
       "-0.8742672380716684"
      ]
     },
     "execution_count": 13,
     "metadata": {},
     "output_type": "execute_result"
    }
   ],
   "source": [
    "include(\"../src/ctpPOP.jl\")\n",
    "using .ctpPOP\n",
    "\n",
    "opt_val=ctpPOP.POP_TS_LMBM(n,m,l,lmon_g,supp_g,coe_g,lmon_h,supp_h,coe_h,lmon_f,supp_f,coe_f,dg,dh,k,t,\n",
    "                         tol=1e-3,use_eqcons_to_get_constant_trace=false)"
   ]
  },
  {
   "cell_type": "code",
   "execution_count": 14,
   "metadata": {},
   "outputs": [
    {
     "name": "stdout",
     "output_type": "stream",
     "text": [
      "------------------------------------------------------\n",
      "The sizes of blocks:\n",
      "[16, 5]\n",
      "[1, 1]\n",
      "------------------------------------------------------\n",
      "Problem\n",
      "  Name                   :                 \n",
      "  Objective sense        : max             \n",
      "  Type                   : CONIC (conic optimization problem)\n",
      "  Constraints            : 86              \n",
      "  Cones                  : 0               \n",
      "  Scalar variables       : 34              \n",
      "  Matrix variables       : 3               \n",
      "  Integer variables      : 0               \n",
      "\n",
      "Optimizer started.\n",
      "Presolve started.\n",
      "Linear dependency checker started.\n",
      "Linear dependency checker terminated.\n",
      "Eliminator started.\n",
      "Freed constraints in eliminator : 0\n",
      "Eliminator terminated.\n",
      "Eliminator started.\n",
      "Freed constraints in eliminator : 0\n",
      "Eliminator terminated.\n",
      "Eliminator - tries                  : 2                 time                   : 0.00            \n",
      "Lin. dep.  - tries                  : 1                 time                   : 0.00            \n",
      "Lin. dep.  - number                 : 0               \n",
      "Presolve terminated. Time: 0.00    \n",
      "Problem\n",
      "  Name                   :                 \n",
      "  Objective sense        : max             \n",
      "  Type                   : CONIC (conic optimization problem)\n",
      "  Constraints            : 86              \n",
      "  Cones                  : 0               \n",
      "  Scalar variables       : 34              \n",
      "  Matrix variables       : 3               \n",
      "  Integer variables      : 0               \n",
      "\n",
      "Optimizer  - threads                : 4               \n",
      "Optimizer  - solved problem         : the primal      \n",
      "Optimizer  - Constraints            : 86\n",
      "Optimizer  - Cones                  : 1\n",
      "Optimizer  - Scalar variables       : 35                conic                  : 34              \n",
      "Optimizer  - Semi-definite variables: 3                 scalarized             : 166             \n",
      "Factor     - setup time             : 0.00              dense det. time        : 0.00            \n",
      "Factor     - ML order time          : 0.00              GP order time          : 0.00            \n",
      "Factor     - nonzeros before factor : 3741              after factor           : 3741            \n",
      "Factor     - dense dim.             : 0                 flops                  : 2.98e+05        \n",
      "ITE PFEAS    DFEAS    GFEAS    PRSTATUS   POBJ              DOBJ              MU       TIME  \n",
      "0   2.8e+00  1.0e+00  1.0e+00  0.00e+00   0.000000000e+00   0.000000000e+00   1.0e+00  0.00  \n",
      "1   1.2e+00  4.2e-01  2.5e-01  3.60e-01   -7.859275756e-01  -6.972275760e-01  4.2e-01  0.00  \n",
      "2   2.5e-01  8.7e-02  1.7e-02  1.61e+00   -7.433958973e-01  -7.154689116e-01  8.7e-02  0.00  \n",
      "3   2.8e-02  1.0e-02  7.6e-04  1.16e+00   -8.641149318e-01  -8.626681358e-01  1.0e-02  0.00  \n",
      "4   9.4e-04  3.3e-04  4.7e-06  1.02e+00   -8.727120159e-01  -8.726821223e-01  3.3e-04  0.00  \n",
      "5   1.8e-05  6.2e-06  1.2e-08  1.00e+00   -8.731407352e-01  -8.731401820e-01  6.2e-06  0.00  \n",
      "6   1.1e-06  3.9e-07  1.9e-10  1.00e+00   -8.731431845e-01  -8.731431488e-01  3.9e-07  0.00  \n",
      "7   4.4e-08  1.5e-08  1.5e-12  1.00e+00   -8.731432361e-01  -8.731432347e-01  1.5e-08  0.01  \n",
      "8   2.3e-09  9.0e-10  1.8e-14  1.00e+00   -8.731432399e-01  -8.731432398e-01  8.1e-10  0.01  \n",
      "Optimizer terminated. Time: 0.01    \n",
      "\n",
      "optimum = -0.8731432398595103\n",
      "  0.011670 seconds (40.25 k allocations: 3.448 MiB)\n"
     ]
    }
   ],
   "source": [
    "using TSSOS\n",
    "\n",
    "@time begin\n",
    "    ~,~,data=tssos_first([[f];g;h],x,k,numeq=length(h),TS=\"block\",quotient=false);\n",
    "    for j in 1:t-1\n",
    "        ~,~,data=tssos_higher!(data,TS=\"block\")\n",
    "    end\n",
    "end"
   ]
  },
  {
   "cell_type": "code",
   "execution_count": 15,
   "metadata": {},
   "outputs": [
    {
     "name": "stdout",
     "output_type": "stream",
     "text": [
      "  Computing constant trace status: OPTIMAL\n",
      "  Constant trace: ak = 3.0\n",
      "  Number of blocks: omega=4\n"
     ]
    },
    {
     "name": "stderr",
     "output_type": "stream",
     "text": [
      "WARNING: replacing module ctpPOP.\n"
     ]
    },
    {
     "name": "stdout",
     "output_type": "stream",
     "text": [
      "  Size of the largest block: s^max=16\n",
      "  Number of equality trace constraints: zeta=114\n",
      "Modeling time:\n",
      "  0.345734 seconds (569.58 k allocations: 29.678 MiB)\n",
      "iter=1   val=-4.104586086277793   gap=0.0   feas=3.76893665109561\n",
      "iter=2   val=-1.3681953620925977   gap=0.39459333571988336   feas=1.04212221683159\n",
      "iter=4   val=-1.00951524521898   gap=0.3023897228268982   feas=0.6660302774770013\n",
      "iter=8   val=-1.317285105875222   gap=0.010242647720584563   feas=0.6364093669150612\n",
      "iter=16   val=-0.8495434365499714   gap=0.18437741048106435   feas=0.14252354380999588\n",
      "iter=32   val=-0.8343627529440077   gap=0.062019634784428644   feas=0.13188176975859864\n",
      "iter=64   val=-0.8662251933156929   gap=0.07962574360419919   feas=0.010376277257840233\n",
      "iter=128   val=-0.8572024848158895   gap=0.03135839737119633   feas=0.023365476809104148\n",
      "iter=256   val=-0.8731864263695996   gap=0.06382728699792496   feas=0.002243515196766036\n",
      "iter=512   val=-0.8700515078768231   gap=0.023367803448634535   feas=0.004828082931921289\n",
      "iter=1024   val=-0.8734567663004541   gap=0.025300894712707023   feas=0.0010242024776305292\n",
      "iter=2048   val=-0.8725145362128482   gap=0.011411420302386992   feas=0.001011673769749621\n",
      "iter=4079   val=-0.8728071344446223   gap=0.0009884539350662979   feas=0.0008545409818876386\n",
      "tol satisfies!!!\n",
      "\n",
      "####################################\n",
      "opt_val = -0.8728071344446223\n",
      "####################################\n",
      "Solving time:\n",
      "  0.714458 seconds (1.39 M allocations: 135.531 MiB, 8.57% gc time)\n",
      "Total time:\n",
      "  1.060330 seconds (1.96 M allocations: 165.221 MiB, 5.78% gc time)\n"
     ]
    },
    {
     "data": {
      "text/plain": [
       "-0.8728071344446223"
      ]
     },
     "execution_count": 15,
     "metadata": {},
     "output_type": "execute_result"
    }
   ],
   "source": [
    "include(\"../src/ctpPOP.jl\")\n",
    "using .ctpPOP\n",
    "\n",
    "opt_val=ctpPOP.POP_TS_CGAL(n,m,l,lmon_g,supp_g,coe_g,lmon_h,supp_h,coe_h,lmon_f,supp_f,coe_f,dg,dh,k,t,\n",
    "                         tol=1e-3,use_eqcons_to_get_constant_trace=false)"
   ]
  },
  {
   "cell_type": "code",
   "execution_count": 16,
   "metadata": {},
   "outputs": [
    {
     "name": "stdout",
     "output_type": "stream",
     "text": [
      "This is Ipopt version 3.13.2, running with linear solver mumps.\n",
      "NOTE: Other linear solvers might be more efficient (see Ipopt documentation).\n",
      "\n",
      "Number of nonzeros in equality constraint Jacobian...:       48\n",
      "Number of nonzeros in inequality constraint Jacobian.:        5\n",
      "Number of nonzeros in Lagrangian Hessian.............:       48\n",
      "\n",
      "Total number of variables............................:        5\n",
      "                     variables with only lower bounds:        0\n",
      "                variables with lower and upper bounds:        0\n",
      "                     variables with only upper bounds:        0\n",
      "Total number of equality constraints.................:        2\n",
      "Total number of inequality constraints...............:        1\n",
      "        inequality constraints with only lower bounds:        1\n",
      "   inequality constraints with lower and upper bounds:        0\n",
      "        inequality constraints with only upper bounds:        0\n",
      "\n",
      "iter    objective    inf_pr   inf_du lg(mu)  ||d||  lg(rg) alpha_du alpha_pr  ls\n",
      "   0  0.0000000e+00 3.96e-03 1.00e+00  -1.0 0.00e+00    -  0.00e+00 0.00e+00   0\n",
      "   1  0.0000000e+00 3.96e-03 2.08e-07  -1.7 7.52e-11   2.0 1.00e+00 1.00e+00s 22\n",
      "   2  0.0000000e+00 3.96e-03 8.41e-04  -3.8 9.63e-11   6.9 1.00e+00 1.00e+00s 22\n",
      "   3  0.0000000e+00 3.96e-03 4.57e-04  -3.8 1.96e-11   7.4 1.00e+00 1.00e+00s 22\n",
      "   4  0.0000000e+00 3.96e-03 1.13e-04  -3.8 1.82e-12   7.8 1.00e+00 1.00e+00s 22\n",
      "   5  0.0000000e+00 3.96e-03 3.58e-05  -3.8 2.16e-13   8.2 1.00e+00 1.00e+00s 22\n",
      "   6  0.0000000e+00 3.96e-03 1.06e-05  -3.8 1.93e-13   7.7 1.00e+00 1.00e+00s 22\n",
      "   7  0.0000000e+00 3.96e-03 2.04e-06  -3.8 1.38e-14   8.2 1.00e+00 1.00e+00s 22\n",
      "   8r 0.0000000e+00 3.96e-03 9.99e+02  -2.4 0.00e+00   8.6 0.00e+00 0.00e+00R  1\n",
      "   9r 0.0000000e+00 3.96e-03 3.96e-08  -2.4 3.13e-11    -  1.00e+00 1.00e+00h  1\n",
      "iter    objective    inf_pr   inf_du lg(mu)  ||d||  lg(rg) alpha_du alpha_pr  ls\n",
      "  10r 0.0000000e+00 3.96e-03 1.56e-01  -5.4 3.95e-06   4.0 1.00e+00 9.92e-01f  1\n",
      "  11r 0.0000000e+00 3.96e-03 8.25e-04  -5.4 3.09e-08   4.4 1.00e+00 1.00e+00f  1\n",
      "  12r 0.0000000e+00 3.96e-03 1.07e-08  -5.4 1.19e-12   3.9 1.00e+00 1.00e+00h  1\n",
      "  13r 0.0000000e+00 3.96e-03 9.29e-05  -8.1 3.92e-09   4.4 1.00e+00 1.00e+00f  1\n",
      "\n",
      "Number of Iterations....: 13\n",
      "\n",
      "                                   (scaled)                 (unscaled)\n",
      "Objective...............:   0.0000000000000000e+00    0.0000000000000000e+00\n",
      "Dual infeasibility......:   3.2063524643022636e-13    3.2063524643022636e-13\n",
      "Constraint violation....:   3.9572020534139000e-03    3.9572020534139000e-03\n",
      "Complementarity.........:   7.7836851776636164e-09    7.7836851776636164e-09\n",
      "Overall NLP error.......:   3.9572020534139000e-03    3.9572020534139000e-03\n",
      "\n",
      "\n",
      "Number of objective function evaluations             = 59\n",
      "Number of objective gradient evaluations             = 10\n",
      "Number of equality constraint evaluations            = 59\n",
      "Number of inequality constraint evaluations          = 59\n",
      "Number of equality constraint Jacobian evaluations   = 16\n",
      "Number of inequality constraint Jacobian evaluations = 16\n",
      "Number of Lagrangian Hessian evaluations             = 14\n",
      "Total CPU secs in IPOPT (w/o function evaluations)   =      0.008\n",
      "Total CPU secs in NLP function evaluations           =      0.000\n",
      "\n",
      "EXIT: Converged to a point of local infeasibility. Problem may be infeasible.\n",
      "LOCALLY_INFEASIBLE\n",
      "opt_val=0.0\n",
      "  0.015828 seconds (4.54 k allocations: 340.266 KiB)\n"
     ]
    },
    {
     "name": "stderr",
     "output_type": "stream",
     "text": [
      "WARNING: replacing module ctpPOP.\n"
     ]
    },
    {
     "data": {
      "text/plain": [
       "0.0"
      ]
     },
     "execution_count": 16,
     "metadata": {},
     "output_type": "execute_result"
    }
   ],
   "source": [
    "include(\"../src/ctpPOP.jl\")\n",
    "using .ctpPOP\n",
    "\n",
    "optval=ctpPOP.POP_NLP(n,m,l,lmon_g,supp_g,coe_g,lmon_h,supp_h,coe_h,lmon_f,supp_f,coe_f)"
   ]
  },
  {
   "cell_type": "code",
   "execution_count": null,
   "metadata": {},
   "outputs": [],
   "source": []
  }
 ],
 "metadata": {
  "kernelspec": {
   "display_name": "Julia 1.3.0",
   "language": "julia",
   "name": "julia-1.3"
  },
  "language_info": {
   "file_extension": ".jl",
   "mimetype": "application/julia",
   "name": "julia",
   "version": "1.3.0"
  }
 },
 "nbformat": 4,
 "nbformat_minor": 2
}
