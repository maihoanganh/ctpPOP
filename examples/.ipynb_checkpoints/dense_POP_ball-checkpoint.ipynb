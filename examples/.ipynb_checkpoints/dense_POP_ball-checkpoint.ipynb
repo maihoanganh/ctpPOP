{
 "cells": [
  {
   "cell_type": "code",
   "execution_count": 1,
   "metadata": {},
   "outputs": [
    {
     "name": "stdout",
     "output_type": "stream",
     "text": [
      "***Problem setting***\n",
      "Number of variable: n=10\n",
      "====================\n",
      "Number of inequality constraints: m=1\n",
      "====================\n",
      "Number of equality constraints: l=3\n"
     ]
    }
   ],
   "source": [
    "using DynamicPolynomials\n",
    "\n",
    "println(\"***Problem setting***\")\n",
    "\n",
    "n=10\n",
    "\n",
    "println(\"Number of variable: n=\",n)\n",
    "println(\"====================\")\n",
    "\n",
    "@polyvar x[1:n]# variables\n",
    "\n",
    "function generate_random_poly(v)\n",
    "    c=2*rand(Float64,length(v)).-1\n",
    "    return c'*v\n",
    "end\n",
    "# random quadratic objective function f\n",
    "v=reverse(monomials(x,0:2))\n",
    "f=generate_random_poly(v)\n",
    "\n",
    "\n",
    "# unit sphere constraint\n",
    "g=[1.0-sum(x.^2)] #type of coefficients of each polynomial must be float\n",
    "\n",
    "m=length(g)\n",
    "println(\"Number of inequality constraints: m=\",m)\n",
    "println(\"====================\")\n",
    "\n",
    "l=ceil(Int64, n/4)\n",
    "\n",
    "h=Vector{Polynomial{true,Float64}}(undef,l)\n",
    "randx=2*rand(n).-1# create a feasible solution\n",
    "randx=rand(1)[1]*randx./sqrt(sum(randx.^2))\n",
    "\n",
    "\n",
    "for j in 1:l\n",
    "    h[j]=generate_random_poly(v[2:end])\n",
    "    h[j]-=h[j](x => randx) #make constraints feasible\n",
    "end\n",
    "\n",
    "l=length(h)\n",
    "println(\"Number of equality constraints: l=\",l)"
   ]
  },
  {
   "cell_type": "code",
   "execution_count": 3,
   "metadata": {},
   "outputs": [],
   "source": [
    "include(\"../src/ctpPOP.jl\")\n",
    "using .ctpPOP\n",
    "\n",
    "n,m,l,lmon_g,supp_g,coe_g,lmon_h,supp_h,coe_h,lmon_f,supp_f,coe_f,dg,dh=ctpPOP.get_info(x,f,g,h,sparse=false);"
   ]
  },
  {
   "cell_type": "code",
   "execution_count": 17,
   "metadata": {},
   "outputs": [
    {
     "name": "stdout",
     "output_type": "stream",
     "text": [
      "Relaxation order: k=1\n"
     ]
    }
   ],
   "source": [
    "k=1\n",
    "println(\"Relaxation order: k=\",k)"
   ]
  },
  {
   "cell_type": "code",
   "execution_count": 18,
   "metadata": {},
   "outputs": [
    {
     "name": "stdout",
     "output_type": "stream",
     "text": [
      "  Computing constant trace status: OPTIMAL\n",
      "  Constant trace: ak = 2.0\n",
      "  Number of blocks: omega=2\n",
      "  Size of the largest block: s^max=11\n",
      "  Number of equality trace constraints: zeta=5\n",
      "Modeling time:\n",
      "  0.007055 seconds (7.13 k allocations: 846.094 KiB)\n",
      "iter=1   val=-2.2467955154216677   gap=0.4356955810931906   feas=0.41230209299043513\n",
      "iter=2   val=-3.0382487404661926   gap=0.23962705019731165   feas=0.6764952167826099\n",
      "iter=4   val=-2.719829215241678   gap=0.0901621052807328   feas=0.3645365825543057\n",
      "iter=8   val=-2.549379195639507   gap=0.030378776804748354   feas=0.0807572981926905\n",
      "iter=16   val=-2.5478454479273034   gap=0.01816011079592189   feas=0.02105597263721003\n",
      "iter=32   val=-2.550080600004092   gap=0.0035617518237958125   feas=0.0010302940146539603\n",
      "iter=52   val=-2.558091870506335   gap=0.0008645374460218178   feas=0.0009478369359405017\n",
      "tol satisfies!!!\n",
      "\n",
      "####################################\n",
      "opt_val = -2.558091870506335\n",
      "####################################\n",
      "Solving time:\n",
      "  0.006365 seconds (10.29 k allocations: 787.172 KiB)\n",
      "Total time:\n",
      "  0.013631 seconds (17.98 k allocations: 1.606 MiB)\n"
     ]
    },
    {
     "data": {
      "text/plain": [
       "-2.558091870506335"
      ]
     },
     "execution_count": 18,
     "metadata": {},
     "output_type": "execute_result"
    }
   ],
   "source": [
    "include(\"../src/ctpPOP.jl\")\n",
    "using .ctpPOP\n",
    "\n",
    "opt_val1=ctpPOP.POP_dense_CGAL(n,m,l,lmon_g,supp_g,coe_g,lmon_h,supp_h,coe_h,lmon_f,supp_f,coe_f,dg,dh,k,\n",
    "                         maxit=Int64(1e6),tol=1e-3,\n",
    "                         use_eqcons_to_get_constant_trace=false,\n",
    "                         check_tol_each_iter=true)"
   ]
  },
  {
   "cell_type": "code",
   "execution_count": 19,
   "metadata": {},
   "outputs": [
    {
     "name": "stdout",
     "output_type": "stream",
     "text": [
      "Problem\n",
      "  Name                   :                 \n",
      "  Objective sense        : max             \n",
      "  Type                   : CONIC (conic optimization problem)\n",
      "  Constraints            : 66              \n",
      "  Cones                  : 0               \n",
      "  Scalar variables       : 5               \n",
      "  Matrix variables       : 1               \n",
      "  Integer variables      : 0               \n",
      "\n",
      "Optimizer started.\n",
      "Presolve started.\n",
      "Linear dependency checker started.\n",
      "Linear dependency checker terminated.\n",
      "Eliminator started.\n",
      "Freed constraints in eliminator : 0\n",
      "Eliminator terminated.\n",
      "Eliminator - tries                  : 1                 time                   : 0.00            \n",
      "Lin. dep.  - tries                  : 1                 time                   : 0.00            \n",
      "Lin. dep.  - number                 : 0               \n",
      "Presolve terminated. Time: 0.00    \n",
      "Problem\n",
      "  Name                   :                 \n",
      "  Objective sense        : max             \n",
      "  Type                   : CONIC (conic optimization problem)\n",
      "  Constraints            : 66              \n",
      "  Cones                  : 0               \n",
      "  Scalar variables       : 5               \n",
      "  Matrix variables       : 1               \n",
      "  Integer variables      : 0               \n",
      "\n",
      "Optimizer  - threads                : 4               \n",
      "Optimizer  - solved problem         : the primal      \n",
      "Optimizer  - Constraints            : 66\n",
      "Optimizer  - Cones                  : 1\n",
      "Optimizer  - Scalar variables       : 6                 conic                  : 5               \n",
      "Optimizer  - Semi-definite variables: 1                 scalarized             : 66              \n",
      "Factor     - setup time             : 0.00              dense det. time        : 0.00            \n",
      "Factor     - ML order time          : 0.00              GP order time          : 0.00            \n",
      "Factor     - nonzeros before factor : 2211              after factor           : 2211            \n",
      "Factor     - dense dim.             : 0                 flops                  : 1.33e+05        \n",
      "ITE PFEAS    DFEAS    GFEAS    PRSTATUS   POBJ              DOBJ              MU       TIME  \n",
      "0   1.9e+00  1.0e+00  1.0e+00  0.00e+00   0.000000000e+00   0.000000000e+00   1.0e+00  0.00  \n",
      "1   3.5e-01  1.9e-01  2.4e-01  -7.08e-01  -2.744516821e+00  -3.845696268e+00  1.9e-01  0.00  \n",
      "2   5.1e-02  2.7e-02  1.1e-02  1.05e+00   -2.412697001e+00  -2.508448283e+00  2.7e-02  0.00  \n",
      "3   2.5e-03  1.4e-03  1.2e-04  1.02e+00   -2.563261806e+00  -2.567678121e+00  1.4e-03  0.00  \n",
      "4   2.8e-05  1.5e-05  1.5e-07  1.02e+00   -2.563530373e+00  -2.563591154e+00  1.5e-05  0.00  \n",
      "5   9.8e-08  5.3e-08  3.0e-11  1.00e+00   -2.563510264e+00  -2.563510478e+00  5.3e-08  0.00  \n",
      "6   4.2e-09  2.3e-09  2.6e-13  1.00e+00   -2.563510353e+00  -2.563510362e+00  2.2e-09  0.00  \n",
      "Optimizer terminated. Time: 0.00    \n",
      "\n",
      "OPTIMAL\n",
      "opt_val=-2.563510352713778\n",
      "  0.748653 seconds (2.54 M allocations: 130.853 MiB)\n"
     ]
    },
    {
     "data": {
      "text/plain": [
       "-2.563510352713778"
      ]
     },
     "execution_count": 19,
     "metadata": {},
     "output_type": "execute_result"
    }
   ],
   "source": [
    "include(\"../src/ctpPOP.jl\")\n",
    "using .ctpPOP\n",
    "\n",
    "opt_val2=ctpPOP.POP_dense_SOS(x,f,g,h,k,tol=1e-3)"
   ]
  },
  {
   "cell_type": "code",
   "execution_count": null,
   "metadata": {},
   "outputs": [],
   "source": []
  },
  {
   "cell_type": "code",
   "execution_count": null,
   "metadata": {},
   "outputs": [],
   "source": []
  },
  {
   "cell_type": "code",
   "execution_count": null,
   "metadata": {},
   "outputs": [],
   "source": []
  },
  {
   "cell_type": "code",
   "execution_count": 8,
   "metadata": {},
   "outputs": [
    {
     "name": "stdout",
     "output_type": "stream",
     "text": [
      "  Computing constant trace status: OPTIMAL\n",
      "  Constant trace: ak = 3.0\n",
      "  Number of blocks: omega=2\n",
      "  Size of the largest block: s^max=66\n",
      "  Number of equality trace constraints: zeta=1475\n",
      "Modeling time:\n",
      "  0.023023 seconds (230.28 k allocations: 36.885 MiB)\n",
      "---------------\n",
      "| Parameters: |\n",
      "---------------\n",
      "n:       1475\n",
      "maxtime: 300000.000000\n",
      "na:      2\n",
      "mcu:     5\n",
      "mc:      7\n",
      "rpar: \n",
      "ipar: \n",
      " Warning: MC > MCU. Assigned MC = MCU.\n",
      " Entry to LMBM:\n",
      " NIT=    1  NFE=    1  F= 0.49902378D+00  WK= 0.2891D+00  QK= 0.1446D+00\n",
      " NIT=    2  NFE=    2  F= 0.38667747D+00  WK= 0.1162D+00  QK= 0.9823D-01\n",
      " NIT=    3  NFE=    3  F= 0.33106632D+00  WK= 0.4902D-01  QK= 0.4966D-01\n",
      " NIT=    4  NFE=    4  F= 0.29366745D+00  WK= 0.1020D+00  QK= 0.2855D-01\n",
      " NIT=    5  NFE=    5  F= 0.29366745D+00  WK= 0.6091D-01  QK= 0.3293D-01\n",
      " NIT=    6  NFE=    6  F= 0.28484156D+00  WK= 0.3051D-01  QK= 0.1493D+00\n",
      " NIT=    7  NFE=    7  F= 0.26463400D+00  WK= 0.1209D-01  QK= 0.1927D-01\n",
      " NIT=    8  NFE=    8  F= 0.25859658D+00  WK= 0.6061D-02  QK= 0.9158D-02\n",
      " NIT=    9  NFE=    9  F= 0.25304191D+00  WK= 0.3819D-01  QK= 0.6536D-02\n",
      " Warning: A nondescent search direction occured. Restart.\n",
      " NIT=   10  NFE=   11  F= 0.25304191D+00  WK= 0.1307D-01  QK= 0.6536D-02\n",
      " NIT=   11  NFE=   12  F= 0.25304191D+00  WK= 0.1131D-01  QK= 0.5670D-02\n",
      " NIT=   12  NFE=   13  F= 0.24614424D+00  WK= 0.1089D-01  QK= 0.5745D-02\n",
      " NIT=   13  NFE=   15  F= 0.24361518D+00  WK= 0.3164D-02  QK= 0.5740D-01\n",
      " NIT=   14  NFE=   16  F= 0.24113642D+00  WK= 0.3366D-02  QK= 0.5495D-02\n",
      " NIT=   15  NFE=   18  F= 0.24058844D+00  WK= 0.4573D-02  QK= 0.4529D-01\n",
      " NIT=   16  NFE=   19  F= 0.24058844D+00  WK= 0.4938D-02  QK= 0.3428D-01\n",
      " NIT=   17  NFE=   20  F= 0.23960893D+00  WK= 0.2491D-02  QK= 0.1013D-01\n",
      " NIT=   18  NFE=   21  F= 0.23845118D+00  WK= 0.5174D-03  QK= 0.7775D-02\n",
      " NIT=   19  NFE=   22  F= 0.23825040D+00  WK= 0.3594D-03  QK= 0.1007D-02\n",
      " NIT=   20  NFE=   23  F= 0.23798227D+00  WK= 0.6920D-03  QK= 0.1936D-02\n",
      " Exit from LMBM:\n",
      " NIT=   21  NFE=   24  F= 0.23752014D+00  WK= 0.4168D-03  QK= 0.8021D-03  ITERM=  1\n",
      "-----------\n",
      "| Output: |\n",
      "-----------\n",
      "Termination:     1\n",
      "N. iter.:        21\n",
      "N. func. eval.:  24\n",
      "Final value:     0.237520\n",
      "Execution time:  0.085762\n",
      "\n",
      "####################################\n",
      "opt_val = -2.5689127744520364\n",
      "####################################\n",
      "Solving time:\n",
      "  0.355553 seconds (442.50 k allocations: 34.003 MiB, 8.01% gc time)\n",
      "Total time:\n",
      "  0.378762 seconds (673.38 k allocations: 70.901 MiB, 7.52% gc time)\n"
     ]
    },
    {
     "data": {
      "text/plain": [
       "-2.5689127744520364"
      ]
     },
     "execution_count": 8,
     "metadata": {},
     "output_type": "execute_result"
    }
   ],
   "source": [
    "include(\"../src/ctpPOP.jl\")\n",
    "using .ctpPOP\n",
    "\n",
    "opt_val=ctpPOP.POP_dense_LMBM(n,m,l,lmon_g,supp_g,coe_g,lmon_h,supp_h,coe_h,lmon_f,supp_f,coe_f,dg,dh,k,\n",
    "                         tol=1e-5,use_eqcons_to_get_constant_trace=false)"
   ]
  },
  {
   "cell_type": "code",
   "execution_count": 14,
   "metadata": {},
   "outputs": [],
   "source": [
    "#using ctpPOP\n",
    "\n",
    "#optval=ctpPOP.POP_NLP(n,m,l,lmon_g,supp_g,coe_g,lmon_h,supp_h,coe_h,lmon_f,supp_f,coe_f)"
   ]
  },
  {
   "cell_type": "code",
   "execution_count": null,
   "metadata": {},
   "outputs": [],
   "source": []
  }
 ],
 "metadata": {
  "kernelspec": {
   "display_name": "Julia 1.3.0",
   "language": "julia",
   "name": "julia-1.3"
  },
  "language_info": {
   "file_extension": ".jl",
   "mimetype": "application/julia",
   "name": "julia",
   "version": "1.3.0"
  }
 },
 "nbformat": 4,
 "nbformat_minor": 2
}
