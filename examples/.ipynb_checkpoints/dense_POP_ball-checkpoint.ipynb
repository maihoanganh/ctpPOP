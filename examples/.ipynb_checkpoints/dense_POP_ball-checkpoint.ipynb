{
 "cells": [
  {
   "cell_type": "code",
   "execution_count": 19,
   "metadata": {},
   "outputs": [
    {
     "name": "stdout",
     "output_type": "stream",
     "text": [
      "***Problem setting***\n",
      "Number of variable: n=10\n",
      "====================\n",
      "Number of inequality constraints: m=1\n",
      "====================\n",
      "Number of equality constraints: l=3\n"
     ]
    }
   ],
   "source": [
    "using DynamicPolynomials\n",
    "\n",
    "println(\"***Problem setting***\")\n",
    "\n",
    "n=10\n",
    "\n",
    "println(\"Number of variable: n=\",n)\n",
    "println(\"====================\")\n",
    "\n",
    "@ncpolyvar x[1:n]# variables\n",
    "\n",
    "function star_algebra(mom)\n",
    "    if mom==1\n",
    "        return mom\n",
    "    else\n",
    "        ind=mom.z .>0\n",
    "        vars=mom.vars[ind]\n",
    "        exp=mom.z[ind]\n",
    "        return prod(vars[i]^exp[i] for i in length(exp):-1:1)\n",
    "    end\n",
    "end\n",
    "function generate_random_poly(v)\n",
    "    c=2*rand(Float64,length(v)).-1\n",
    "    return c'*v\n",
    "end\n",
    "# random quadratic objective function f\n",
    "v=reverse(monomials(x,0:2))\n",
    "v+=star_algebra.(v)\n",
    "v=v./2\n",
    "\n",
    "f=generate_random_poly(v)\n",
    "\n",
    "\n",
    "# unit sphere constraint\n",
    "g=[1.0-sum(x.^2)] #type of coefficients of each polynomial must be float\n",
    "\n",
    "m=length(g)\n",
    "println(\"Number of inequality constraints: m=\",m)\n",
    "println(\"====================\")\n",
    "\n",
    "l=ceil(Int64, n/4)\n",
    "\n",
    "h=Vector{Polynomial{false,Float64}}(undef,l)\n",
    "randx=2*rand(n).-1# create a feasible solution\n",
    "randx=rand(1)[1]*randx./sqrt(sum(randx.^2))\n",
    "\n",
    "\n",
    "for j in 1:l\n",
    "    h[j]=generate_random_poly(v[2:end])\n",
    "    h[j]-=h[j](x => randx) #make constraints feasible\n",
    "end\n",
    "\n",
    "l=length(h)\n",
    "println(\"Number of equality constraints: l=\",l)"
   ]
  },
  {
   "cell_type": "code",
   "execution_count": 20,
   "metadata": {},
   "outputs": [
    {
     "name": "stderr",
     "output_type": "stream",
     "text": [
      "WARNING: replacing module ctpNCPOP.\n"
     ]
    }
   ],
   "source": [
    "include(\"../src/ctpNCPOP.jl\")\n",
    "using .ctpNCPOP\n",
    "\n",
    "n,m,l,lmon_g,supp_g,coe_g,lmon_h,supp_h,coe_h,lmon_f,supp_f,coe_f,dg,dh=ctpNCPOP.get_info(x,f,g,h);"
   ]
  },
  {
   "cell_type": "code",
   "execution_count": 21,
   "metadata": {},
   "outputs": [
    {
     "name": "stdout",
     "output_type": "stream",
     "text": [
      "Relaxation order: k=2\n"
     ]
    }
   ],
   "source": [
    "\n",
    "k=2\n",
    "\n",
    "println(\"Relaxation order: k=\",k)"
   ]
  },
  {
   "cell_type": "code",
   "execution_count": 22,
   "metadata": {},
   "outputs": [
    {
     "name": "stdout",
     "output_type": "stream",
     "text": [
      "  Computing constant trace status: OPTIMAL\n",
      "  Constant trace: ak = 3.0\n",
      "  Number of blocks: omega=2\n",
      "  Size of the largest block: s^max=111\n",
      "  Number of equality trace constraints: zeta=815\n",
      "Modeling time:\n",
      "  0.271825 seconds (1.02 M allocations: 109.325 MiB, 10.38% gc time)\n",
      "iter=1   val=-5.308165222344443   gap=0.15722483770933113   feas=1.817809566406506\n",
      "iter=2   val=-4.727277018619821   gap=0.08865980595859381   feas=1.6534043907206493\n",
      "iter=4   val=-4.083719439909436   gap=0.09760133012312243   feas=1.1211412125642546\n",
      "iter=8   val=-3.176797146734653   gap=0.259332069336652   feas=0.48910086243565176\n",
      "iter=16   val=-3.2267066194308844   gap=0.1728608918193157   feas=0.21101184503012865\n",
      "iter=32   val=-3.141333364741597   gap=0.014524478709214262   feas=0.12143733681110404\n",
      "iter=64   val=-3.100517324591983   gap=0.041999517427604924   feas=0.048453781704780395\n",
      "iter=128   val=-3.1019676222614048   gap=0.0050759545593252325   feas=0.024763852957357564\n",
      "iter=256   val=-3.1092675267045995   gap=0.037988632291504065   feas=0.007204764433305964\n",
      "iter=512   val=-3.10919400874557   gap=0.011504875933058043   feas=0.004302478027799528\n",
      "iter=1024   val=-3.1091902785388372   gap=0.012268365456071895   feas=0.002369757300153313\n",
      "iter=2048   val=-3.110265434510672   gap=0.000748497905695649   feas=0.0014708653850633699\n",
      "iter=4096   val=-3.110505357009734   gap=0.010277607304811413   feas=0.0003722297826706088\n",
      "iter=8192   val=-3.1103869668188806   gap=0.0026480155857273296   feas=0.000348741827994268\n",
      "iter=16384   val=-3.110762201897185   gap=0.0005620993411700279   feas=0.00020031622571759706\n",
      "iter=32768   val=-3.1107323604954433   gap=0.0006964790175556634   feas=5.3756790644943225e-5\n",
      "iter=65536   val=-3.110786950581812   gap=0.0021247737907050842   feas=8.316787295174745e-5\n",
      "iter=131072   val=-3.110830719895841   gap=0.0007492945125793623   feas=2.192354593512666e-5\n",
      "iter=243405   val=-3.1108098729340026   gap=9.906818919584588e-6   feas=9.76671491557588e-6\n",
      "tol satisfies!!!\n",
      "\n",
      "####################################\n",
      "opt_val = -3.1108098729340026\n",
      "####################################\n",
      "Solving time:\n",
      "524.534653 seconds (135.46 M allocations: 93.014 GiB, 1.47% gc time)\n",
      "Total time:\n",
      "524.806820 seconds (136.48 M allocations: 93.121 GiB, 1.47% gc time)\n"
     ]
    },
    {
     "name": "stderr",
     "output_type": "stream",
     "text": [
      "WARNING: replacing module ctpNCPOP.\n"
     ]
    },
    {
     "data": {
      "text/plain": [
       "-3.1108098729340026"
      ]
     },
     "execution_count": 22,
     "metadata": {},
     "output_type": "execute_result"
    }
   ],
   "source": [
    "include(\"../src/ctpNCPOP.jl\")\n",
    "using .ctpNCPOP\n",
    "\n",
    "opt_val1=ctpNCPOP.POP_dense_CGAL(n,m,l,lmon_g,supp_g,coe_g,lmon_h,supp_h,coe_h,lmon_f,supp_f,coe_f,dg,dh,k,\n",
    "                                 maxit=Int64(1e6),tol=1e-5,\n",
    "                                 use_eqcons_to_get_constant_trace=false,\n",
    "                                 check_tol_each_iter=true)"
   ]
  },
  {
   "cell_type": "code",
   "execution_count": null,
   "metadata": {},
   "outputs": [],
   "source": []
  },
  {
   "cell_type": "code",
   "execution_count": 23,
   "metadata": {},
   "outputs": [
    {
     "name": "stdout",
     "output_type": "stream",
     "text": [
      "------------------------------------------------------\n",
      "The sizes of blocks:\n",
      "[111]\n",
      "[1]\n",
      "------------------------------------------------------\n",
      "Problem\n",
      "  Name                   :                 \n",
      "  Objective sense        : max             \n",
      "  Type                   : CONIC (conic optimization problem)\n",
      "  Constraints            : 5666            \n",
      "  Cones                  : 0               \n",
      "  Scalar variables       : 199             \n",
      "  Matrix variables       : 2               \n",
      "  Integer variables      : 0               \n",
      "\n",
      "Optimizer started.\n",
      "Presolve started.\n",
      "Linear dependency checker started.\n",
      "Linear dependency checker terminated.\n",
      "Eliminator started.\n",
      "Freed constraints in eliminator : 0\n",
      "Eliminator terminated.\n",
      "Eliminator - tries                  : 1                 time                   : 0.00            \n",
      "Lin. dep.  - tries                  : 1                 time                   : 0.00            \n",
      "Lin. dep.  - number                 : 0               \n",
      "Presolve terminated. Time: 0.01    \n",
      "Problem\n",
      "  Name                   :                 \n",
      "  Objective sense        : max             \n",
      "  Type                   : CONIC (conic optimization problem)\n",
      "  Constraints            : 5666            \n",
      "  Cones                  : 0               \n",
      "  Scalar variables       : 199             \n",
      "  Matrix variables       : 2               \n",
      "  Integer variables      : 0               \n",
      "\n",
      "Optimizer  - threads                : 4               \n",
      "Optimizer  - solved problem         : the primal      \n",
      "Optimizer  - Constraints            : 5666\n",
      "Optimizer  - Cones                  : 1\n",
      "Optimizer  - Scalar variables       : 200               conic                  : 200             \n",
      "Optimizer  - Semi-definite variables: 2                 scalarized             : 6282            \n",
      "Factor     - setup time             : 3.30              dense det. time        : 0.00            \n",
      "Factor     - ML order time          : 2.48              GP order time          : 0.00            \n",
      "Factor     - nonzeros before factor : 1.61e+07          after factor           : 1.61e+07        \n",
      "Factor     - dense dim.             : 2                 flops                  : 6.08e+10        \n",
      "ITE PFEAS    DFEAS    GFEAS    PRSTATUS   POBJ              DOBJ              MU       TIME  \n",
      "0   2.9e+00  1.0e+00  1.0e+00  0.00e+00   0.000000000e+00   0.000000000e+00   1.0e+00  3.32  \n",
      "1   3.9e-01  1.4e-01  7.5e-02  -6.60e-01  -4.107728361e+00  -4.224822660e+00  1.4e-01  5.80  \n",
      "2   5.2e-02  1.8e-02  5.3e-04  1.59e+00   -3.103941759e+00  -3.091231983e+00  1.8e-02  8.06  \n",
      "3   2.9e-02  1.0e-02  3.8e-04  1.21e+00   -3.113145136e+00  -3.107328645e+00  1.0e-02  9.84  \n",
      "4   4.4e-03  1.5e-03  3.8e-05  1.18e+00   -3.110291264e+00  -3.109907563e+00  1.5e-03  11.79 \n",
      "5   1.5e-03  5.1e-04  6.8e-06  1.08e+00   -3.110708924e+00  -3.110576102e+00  5.1e-04  13.67 \n",
      "6   1.3e-04  4.6e-05  1.4e-07  1.04e+00   -3.111116635e+00  -3.111098639e+00  4.6e-05  15.84 \n",
      "7   8.5e-05  2.9e-05  7.7e-08  1.10e+00   -3.111027299e+00  -3.111016811e+00  2.9e-05  17.87 \n",
      "8   1.4e-05  4.9e-06  6.0e-09  1.05e+00   -3.111016689e+00  -3.111015367e+00  4.9e-06  19.78 \n",
      "9   1.4e-06  4.8e-07  1.8e-10  1.03e+00   -3.111018818e+00  -3.111018682e+00  4.8e-07  21.69 \n",
      "10  1.2e-07  4.1e-08  4.2e-12  1.01e+00   -3.111018725e+00  -3.111018712e+00  4.1e-08  23.51 \n",
      "11  4.1e-08  1.2e-08  6.6e-13  1.02e+00   -3.111018736e+00  -3.111018732e+00  1.2e-08  25.36 \n",
      "Optimizer terminated. Time: 25.37   \n",
      "\n",
      "optimum = -3.1110187356539276\n",
      " 25.646546 seconds (1.16 M allocations: 91.320 MiB, 0.17% gc time)\n"
     ]
    }
   ],
   "source": [
    "using NCTSSOS\n",
    "\n",
    "@time ctpNCPOP.nctssos_first(Vector{Vector{Vector{UInt16}}}([[supp_f];supp_g;supp_h]),[[coe_f];coe_g;coe_h],\n",
    "    n,k,[dg;dh],numeq=l,reducebasis=false,obj=\"eigen\",merge=false,TS=false,QUIET=false);"
   ]
  },
  {
   "cell_type": "code",
   "execution_count": 18,
   "metadata": {},
   "outputs": [],
   "source": [
    "#using ctpPOP\n",
    "\n",
    "#optval=ctpPOP.POP_NLP(n,m,l,lmon_g,supp_g,coe_g,lmon_h,supp_h,coe_h,lmon_f,supp_f,coe_f)"
   ]
  },
  {
   "cell_type": "code",
   "execution_count": null,
   "metadata": {},
   "outputs": [],
   "source": []
  }
 ],
 "metadata": {
  "kernelspec": {
   "display_name": "Julia 1.3.0",
   "language": "julia",
   "name": "julia-1.3"
  },
  "language_info": {
   "file_extension": ".jl",
   "mimetype": "application/julia",
   "name": "julia",
   "version": "1.3.0"
  }
 },
 "nbformat": 4,
 "nbformat_minor": 2
}
