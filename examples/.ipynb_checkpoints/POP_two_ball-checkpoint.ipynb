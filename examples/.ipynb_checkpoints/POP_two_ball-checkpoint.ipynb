{
 "cells": [
  {
   "cell_type": "code",
   "execution_count": 19,
   "metadata": {},
   "outputs": [
    {
     "name": "stdout",
     "output_type": "stream",
     "text": [
      "***Problem setting***\n",
      "Number of variable: n=20\n",
      "====================\n",
      "Number of inequality constraints: m=2\n",
      "====================\n",
      "Number of equality constraints: l=0\n",
      "====================\n",
      "Relaxed order: k=2\n"
     ]
    }
   ],
   "source": [
    "using DynamicPolynomials, LinearAlgebra\n",
    "\n",
    "println(\"***Problem setting***\")\n",
    "\n",
    "n=5\n",
    "\n",
    "println(\"Number of variable: n=\",n)\n",
    "println(\"====================\")\n",
    "\n",
    "@polyvar x[1:n]# variables\n",
    "\n",
    "function generate_random_poly(v)\n",
    "    c=2*rand(Float64,length(v)).-1\n",
    "    return c'*v\n",
    "end\n",
    "# random quadratic objective function f\n",
    "v=reverse(monomials(x,0:2))\n",
    "f=generate_random_poly(v)\n",
    "\n",
    "\n",
    "# unit sphere constraint\n",
    "R1=1.0\n",
    "R2=1.0\n",
    "n1=ceil(Int64,n/2)\n",
    "T1=1:n1\n",
    "T2=n1+1:n\n",
    "g=[R1-sum(x[T1].^2);R2-sum(x[T2].^2)] #type of coefficients of each polynomial must be float\n",
    "\n",
    "m=length(g)\n",
    "println(\"Number of inequality constraints: m=\",m)\n",
    "println(\"====================\")\n",
    "\n",
    "l=0#ceil(Int64, n/4)\n",
    "\n",
    "h=Vector{Polynomial{true,Float64}}(undef,l)\n",
    "randx1=2*rand(n1).-1# create a feasible solution\n",
    "randx1=sqrt(R1)*rand(1)[1]*randx1/norm(randx1)\n",
    "randx2=2*rand(n-n1).-1# create a feasible solution\n",
    "randx2=sqrt(R2)*rand(1)[1]*randx2/norm(randx2)\n",
    "randx=[randx1,randx2]\n",
    "\n",
    "for j in 1:l\n",
    "    h[j]=generate_random_poly(v[2:end])\n",
    "    h[j]-=h[j](x => randx) #make constraints feasible\n",
    "end\n",
    "\n",
    "l=length(h)\n",
    "println(\"Number of equality constraints: l=\",l)\n",
    "println(\"====================\")\n",
    "\n",
    "k=2\n",
    "\n",
    "println(\"Relaxed order: k=\",k)"
   ]
  },
  {
   "cell_type": "code",
   "execution_count": 22,
   "metadata": {},
   "outputs": [
    {
     "name": "stdout",
     "output_type": "stream",
     "text": [
      "  Number of blocks: omega=3\n",
      "  Size of the largest block: s^max=231\n",
      "  Number of equality trace constraints: zeta=16633\n",
      " "
     ]
    },
    {
     "name": "stderr",
     "output_type": "stream",
     "text": [
      "WARNING: replacing module SpectralPOP.\n"
     ]
    },
    {
     "name": "stdout",
     "output_type": "stream",
     "text": [
      " 0.375749 seconds (911.36 k allocations: 175.093 MiB, 15.85% gc time)\n",
      "Constant trace: ak=9.0\n",
      "####################################\n",
      "opt_val = -6.13046553945911\n",
      "####################################\n",
      "Dimension of the null space of Gram matrix = 1\n",
      "------------------------------------\n",
      "atom 1 = [0.1859608356829947, -0.26713688891165477, 0.41717791897622175, -0.5032116120557035, -0.07142610065275636, -0.16744113865883786, 0.5115443781415134, 0.27412439322773696, 0.30327912821854536, -0.07465152681385245, -0.19225872515649708, 0.1400244521650707, 0.04264063495885751, -0.41486023747831835, -0.08804178412692822, -0.5465600910176382, -0.13393317027456597, -0.5229005961578381, -0.40001261697103646, -0.12628869756389394]\n",
      "  check gap of lower bound  = -0.014174126888556238\n",
      "  check inequality constraint 1 = -0.0007140290234750601\n",
      "  check inequality constraint 2 = -0.004298850269072618\n",
      "####################################\n",
      "Optimal solution: opt_sol = [0.1859608356829947, -0.26713688891165477, 0.41717791897622175, -0.5032116120557035, -0.07142610065275636, -0.16744113865883786, 0.5115443781415134, 0.27412439322773696, 0.30327912821854536, -0.07465152681385245, -0.19225872515649708, 0.1400244521650707, 0.04264063495885751, -0.41486023747831835, -0.08804178412692822, -0.5465600910176382, -0.13393317027456597, -0.5229005961578381, -0.40001261697103646, -0.12628869756389394]\n",
      "####################################\n",
      "  1.071731 seconds (1.38 M allocations: 322.444 MiB, 7.94% gc time)\n"
     ]
    },
    {
     "data": {
      "text/plain": [
       "(-6.13046553945911, [0.1859608356829947, -0.26713688891165477, 0.41717791897622175, -0.5032116120557035, -0.07142610065275636, -0.16744113865883786, 0.5115443781415134, 0.27412439322773696, 0.30327912821854536, -0.07465152681385245, -0.19225872515649708, 0.1400244521650707, 0.04264063495885751, -0.41486023747831835, -0.08804178412692822, -0.5465600910176382, -0.13393317027456597, -0.5229005961578381, -0.40001261697103646, -0.12628869756389394])"
      ]
     },
     "execution_count": 22,
     "metadata": {},
     "output_type": "execute_result"
    }
   ],
   "source": [
    "include(\"../src/SpectralPOP.jl\")\n",
    "using .SpectralPOP\n",
    "\n",
    "opt_val,opt_sol=SpectralPOP.POP_two_ball(x,f,h,k,R1,R2,T1,T2;EigAlg=\"Arpack\",tol=1e-3)"
   ]
  },
  {
   "cell_type": "code",
   "execution_count": 21,
   "metadata": {},
   "outputs": [
    {
     "name": "stdout",
     "output_type": "stream",
     "text": [
      "**SumOfSquares+Mosek:\n"
     ]
    },
    {
     "name": "stderr",
     "output_type": "stream",
     "text": [
      "WARNING: replacing module SpectralPOP.\n"
     ]
    },
    {
     "name": "stdout",
     "output_type": "stream",
     "text": [
      "OPTIMAL\n",
      "opt_val=-6.130370244802959\n",
      " 75.940851 seconds (9.48 M allocations: 1020.747 MiB, 0.74% gc time)\n"
     ]
    },
    {
     "data": {
      "text/plain": [
       "-6.130370244802959"
      ]
     },
     "execution_count": 21,
     "metadata": {},
     "output_type": "execute_result"
    }
   ],
   "source": [
    "include(\"../src/SpectralPOP.jl\")\n",
    "using .SpectralPOP\n",
    "\n",
    "opt_val=SpectralPOP.SumofSquares_POP(x,f,g,h,k)"
   ]
  },
  {
   "cell_type": "code",
   "execution_count": null,
   "metadata": {},
   "outputs": [],
   "source": []
  }
 ],
 "metadata": {
  "kernelspec": {
   "display_name": "Julia 1.3.0",
   "language": "julia",
   "name": "julia-1.3"
  },
  "language_info": {
   "file_extension": ".jl",
   "mimetype": "application/julia",
   "name": "julia",
   "version": "1.3.0"
  }
 },
 "nbformat": 4,
 "nbformat_minor": 2
}
