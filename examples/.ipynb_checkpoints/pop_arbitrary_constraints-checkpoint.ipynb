{
 "cells": [
  {
   "cell_type": "code",
   "execution_count": 63,
   "metadata": {},
   "outputs": [
    {
     "name": "stdout",
     "output_type": "stream",
     "text": [
      "***Problem setting***\n",
      "Number of variable: n=2\n",
      "====================\n",
      "Number of inequality constraints: m=3\n",
      "====================\n",
      "Number of equality constraints: l=0\n",
      "====================\n",
      "Relaxed order: k=1\n"
     ]
    }
   ],
   "source": [
    "using DynamicPolynomials\n",
    "\n",
    "println(\"***Problem setting***\")\n",
    "\n",
    "n=2\n",
    "\n",
    "println(\"Number of variable: n=\",n)\n",
    "println(\"====================\")\n",
    "\n",
    "@polyvar x[1:n]# variables\n",
    "\n",
    "function generate_random_poly(v)\n",
    "    c=2*rand(Float64,length(v)).-1\n",
    "    return c'*v\n",
    "end\n",
    "# random quadratic objective function f\n",
    "v=reverse(monomials(x,0:2))\n",
    "f=generate_random_poly(v)\n",
    "\n",
    "\n",
    "# unit sphere constraint\n",
    "g=[x;1.0-sum(x.^2)] #type of coefficients of each polynomial must be float\n",
    "\n",
    "m=length(g)\n",
    "println(\"Number of inequality constraints: m=\",m)\n",
    "println(\"====================\")\n",
    "\n",
    "l=0#ceil(Int64, n/7)\n",
    "\n",
    "h=Vector{Polynomial{true,Float64}}(undef,l)\n",
    "randx=2*rand(n).-1# create a feasible solution\n",
    "randx=rand(1)[1]*randx./sqrt(sum(randx.^2))\n",
    "\n",
    "\n",
    "for j in 1:l\n",
    "    h[j]=generate_random_poly(v[2:end])\n",
    "    h[j]-=h[j](x => randx) #make constraints feasible\n",
    "end\n",
    "\n",
    "l=length(h)\n",
    "println(\"Number of equality constraints: l=\",l)\n",
    "println(\"====================\")\n",
    "\n",
    "k=1\n",
    "\n",
    "println(\"Relaxed order: k=\",k)\n",
    "\n"
   ]
  },
  {
   "cell_type": "code",
   "execution_count": 64,
   "metadata": {},
   "outputs": [
    {
     "name": "stdout",
     "output_type": "stream",
     "text": [
      "  Computing constant trace status: OPTIMAL\n",
      "  Constant trace: ak = 2.0\n",
      "  Number of blocks: omega=4\n",
      "  Size of the largest block: s^max=3\n",
      "  Number of equality trace constraints: zeta=4\n",
      "Modeling time:\n",
      "  0.281342 seconds (277.29 k allocations: 13.917 MiB)\n",
      "iter=1.0   val=-3.2527648606805726   gap=0.3683531901055237   feas=1.134098393455466\n",
      "iter=2.0   val=-3.2003902777346838   gap=0.5329327683478495   feas=1.0112918498533494\n",
      "iter=4.0   val=-3.2572639856452854   gap=1.1879287479445764   feas=0.9965992167316352\n",
      "iter=8.0   val=-3.2583625187081444   gap=2.3976629911604395   feas=0.9871646461315523\n",
      "iter=16.0   val=-2.4792771202546793   gap=3.547808123175776   feas=0.8348627099550892\n",
      "iter=32.0   val=-1.3242064177966224   gap=3.9204918861037292   feas=0.6998772357736284\n",
      "iter=64.0   val=-1.1568847382248921   gap=5.113663660446731   feas=0.6666905418223618\n",
      "iter=128.0   val=-1.0242709894430497   gap=5.954794054710826   feas=0.6520023028391836\n",
      "iter=256.0   val=-0.9453116866236092   gap=6.627978079568753   feas=0.6460452756672415\n",
      "iter=512.0   val=-0.8936187849832562   gap=7.08367753454602   feas=0.6433898912614243\n",
      "iter=1024.0   val=-0.861855139243502   gap=7.407501087227929   feas=0.641975266530692\n",
      "iter=2048.0   val=-0.8317938406978732   gap=7.626478334519663   feas=0.6411435414048161\n",
      "iter=4096.0   val=-0.8064160187105237   gap=7.78869163880501   feas=0.6405989669643207\n",
      "iter=8192.0   val=-0.7853941816731359   gap=7.8903050717905   feas=0.6402331247591392\n",
      "iter=16384.0   val=-0.7671630607671546   gap=7.963180806038368   feas=0.639995445905147\n",
      "iter=32768.0   val=-0.752151724173182   gap=8.014144702095532   feas=0.6398468053089466\n",
      "iter=65536.0   val=-0.7400998678657679   gap=8.046933417702483   feas=0.6397580811258141\n",
      "iter=131072.0   val=-0.7308112757080428   gap=8.069295390019816   feas=0.6397071504457877\n",
      "iter=262144.0   val=-0.7237769799723197   gap=8.084635378190287   feas=0.6396789301683504\n",
      "iter=524288.0   val=-0.7185500124789916   gap=8.095226075820552   feas=0.6396637054806281\n"
     ]
    },
    {
     "name": "stderr",
     "output_type": "stream",
     "text": [
      "WARNING: replacing module ctpPOP.\n",
      "WARNING: Compat.Printf is deprecated, use Printf instead.\n",
      "  likely near /home/hoanganh/Desktop/math-topics/ctpPOP/codes/ctpPOP/solvers/ProximalBundleMethod/ProximalMethod.jl:391\n"
     ]
    },
    {
     "ename": "InterruptException",
     "evalue": "InterruptException:",
     "output_type": "error",
     "traceback": [
      "InterruptException:",
      "",
      "Stacktrace:",
      " [1] to_indices at ./indices.jl:301 [inlined]",
      " [2] to_indices at ./indices.jl:297 [inlined]",
      " [3] getindex at ./abstractarray.jl:981 [inlined]",
      " [4] eupd_wrapper(::Type, ::Int64, ::Bool, ::Bool, ::String, ::Int64, ::String, ::Bool, ::Base.RefValue{Float64}, ::Array{Float64,1}, ::Int64, ::Array{Float64,2}, ::Int64, ::Float64, ::Array{Int64,1}, ::Array{Int64,1}, ::Array{Float64,1}, ::Array{Float64,1}, ::Int64, ::Array{Float64,1}) at /home/hoanganh/.julia/packages/Arpack/o35I5/src/libarpack.jl:176",
      " [5] #_eigs#17(::Int64, ::Int64, ::Symbol, ::Float64, ::Int64, ::Nothing, ::Array{Float64,1}, ::Bool, ::typeof(Arpack._eigs), ::Array{Float64,2}, ::LinearAlgebra.UniformScaling{Bool}) at /home/hoanganh/.julia/packages/Arpack/o35I5/src/Arpack.jl:185",
      " [6] #_eigs at ./none:0 [inlined]",
      " [7] #eigs#10 at /home/hoanganh/.julia/packages/Arpack/o35I5/src/Arpack.jl:46 [inlined]",
      " [8] #eigs at ./none:0 [inlined]",
      " [9] #eigs#9 at /home/hoanganh/.julia/packages/Arpack/o35I5/src/Arpack.jl:45 [inlined]",
      " [10] #eigs at ./none:0 [inlined]",
      " [11] #SmallEig_CGAL_arb_cons#230(::String, ::typeof(Main.ctpPOP.SmallEig_CGAL_arb_cons), ::Array{Float64,2}, ::UInt64) at /home/hoanganh/Desktop/math-topics/ctpPOP/codes/ctpPOP/src/pop/dense_pop/pop_CGAL_arb_cons.jl:464",
      " [12] #SmallEig_CGAL_arb_cons at ./none:0 [inlined]",
      " [13] #SmallEig_block_CGAL_arb_cons#231(::String, ::typeof(Main.ctpPOP.SmallEig_block_CGAL_arb_cons), ::LinearAlgebra.Adjoint{Float64,Array{Float64,1}}, ::UInt64) at /home/hoanganh/Desktop/math-topics/ctpPOP/codes/ctpPOP/src/pop/dense_pop/pop_CGAL_arb_cons.jl:499",
      " [14] #SmallEig_block_CGAL_arb_cons at ./none:0 [inlined]",
      " [15] macro expansion at /home/hoanganh/Desktop/math-topics/ctpPOP/codes/ctpPOP/src/pop/dense_pop/pop_CGAL_arb_cons.jl:517 [inlined]",
      " [16] macro expansion at ./simdloop.jl:77 [inlined]",
      " [17] #SmallEigBlocks_CGAL_arb_cons#232(::String, ::typeof(Main.ctpPOP.SmallEigBlocks_CGAL_arb_cons), ::Array{LinearAlgebra.Adjoint{Float64,Array{Float64,1}},1}, ::Array{SparseArrays.SparseMatrixCSC{Float64,Int64},1}, ::Array{Float64,1}, ::Array{UInt64,1}, ::Int64) at /home/hoanganh/Desktop/math-topics/ctpPOP/codes/ctpPOP/src/pop/dense_pop/pop_CGAL_arb_cons.jl:516",
      " [18] #SmallEigBlocks_CGAL_arb_cons at ./none:0 [inlined]",
      " [19] #update_CGAL_arb_cons#233(::String, ::typeof(Main.ctpPOP.update_CGAL_arb_cons), ::Array{Float64,1}, ::Array{Float64,1}, ::Float64, ::Float64, ::Array{SparseArrays.SparseMatrixCSC{Float64,Int64},1}, ::Array{LinearAlgebra.Adjoint{Float64,Array{Float64,1}},1}, ::Array{UInt64,1}, ::Int64, ::Float64, ::Float64, ::Float64) at /home/hoanganh/Desktop/math-topics/ctpPOP/codes/ctpPOP/src/pop/dense_pop/pop_CGAL_arb_cons.jl:535",
      " [20] #update_CGAL_arb_cons at ./none:0 [inlined]",
      " [21] #solve_POP_CGAL_arb_cons#238(::String, ::Float64, ::Float64, ::typeof(Main.ctpPOP.solve_POP_CGAL_arb_cons), ::Int64, ::Array{LinearAlgebra.Adjoint{Float64,Array{Float64,1}},1}, ::Array{SparseArrays.SparseMatrixCSC{Float64,Int64},1}, ::Array{UInt64,1}, ::UInt64, ::Float64, ::Float64, ::Float64) at /home/hoanganh/Desktop/math-topics/ctpPOP/codes/ctpPOP/src/pop/dense_pop/pop_CGAL_arb_cons.jl:573",
      " [22] #solve_POP_CGAL_arb_cons at ./none:0 [inlined]",
      " [23] macro expansion at ./util.jl:155 [inlined]",
      " [24] macro expansion at /home/hoanganh/Desktop/math-topics/ctpPOP/codes/ctpPOP/src/pop/dense_pop/pop_CGAL_arb_cons.jl:608 [inlined]",
      " [25] macro expansion at ./util.jl:155 [inlined]",
      " [26] #POP_CGAL_arb_cons#239(::String, ::Float64, ::Float64, ::Bool, ::typeof(Main.ctpPOP.POP_CGAL_arb_cons), ::Array{PolyVar{true},1}, ::Polynomial{true,Float64}, ::Array{Polynomial{true,Float64},1}, ::Array{Polynomial{true,Float64},1}, ::Int64) at /home/hoanganh/Desktop/math-topics/ctpPOP/codes/ctpPOP/src/pop/dense_pop/pop_CGAL_arb_cons.jl:601",
      " [27] (::Main.ctpPOP.var\"#kw##POP_CGAL_arb_cons\")(::NamedTuple{(:EigAlg, :tol, :maxit, :UseEq),Tuple{String,Float64,Float64,Bool}}, ::typeof(Main.ctpPOP.POP_CGAL_arb_cons), ::Array{PolyVar{true},1}, ::Polynomial{true,Float64}, ::Array{Polynomial{true,Float64},1}, ::Array{Polynomial{true,Float64},1}, ::Int64) at ./none:0",
      " [28] top-level scope at In[64]:3"
     ]
    }
   ],
   "source": [
    "include(\"../src/ctpPOP.jl\")\n",
    "using .ctpPOP\n",
    "\n",
    "opt_val=ctpPOP.POP_CGAL_arb_cons(x,f,g,h,k;EigAlg=\"Arpack\",tol=1e-3,maxit=1e10,UseEq=false)"
   ]
  },
  {
   "cell_type": "code",
   "execution_count": 65,
   "metadata": {},
   "outputs": [
    {
     "name": "stderr",
     "output_type": "stream",
     "text": [
      "WARNING: replacing module ctpPOP.\n",
      "WARNING: Compat.Printf is deprecated, use Printf instead.\n",
      "  likely near /home/hoanganh/Desktop/math-topics/ctpPOP/codes/ctpPOP/solvers/ProximalBundleMethod/ProximalMethod.jl:391\n"
     ]
    },
    {
     "ename": "MethodError",
     "evalue": "MethodError: no method matching POP_LMBM_arb_cons(::Array{PolyVar{true},1}, ::Polynomial{true,Float64}, ::Array{Polynomial{true,Float64},1}, ::Array{Polynomial{true,Float64},1}, ::Int64; EigAlg=\"Arpack\", tol=0.001, maxit=1.0e10, UseEq=false)\nClosest candidates are:\n  POP_LMBM_arb_cons(::Array{PolyVar{true},1}, ::Polynomial{true,T} where T, ::Array{Polynomial{true,Float64},1}, ::Array{Polynomial{true,Float64},1}, ::Int64; EigAlg, tol, UseEq) at /home/hoanganh/Desktop/math-topics/ctpPOP/codes/ctpPOP/src/pop/dense_pop/pop_LMBM_arb_cons.jl:560 got unsupported keyword argument \"maxit\"",
     "output_type": "error",
     "traceback": [
      "MethodError: no method matching POP_LMBM_arb_cons(::Array{PolyVar{true},1}, ::Polynomial{true,Float64}, ::Array{Polynomial{true,Float64},1}, ::Array{Polynomial{true,Float64},1}, ::Int64; EigAlg=\"Arpack\", tol=0.001, maxit=1.0e10, UseEq=false)\nClosest candidates are:\n  POP_LMBM_arb_cons(::Array{PolyVar{true},1}, ::Polynomial{true,T} where T, ::Array{Polynomial{true,Float64},1}, ::Array{Polynomial{true,Float64},1}, ::Int64; EigAlg, tol, UseEq) at /home/hoanganh/Desktop/math-topics/ctpPOP/codes/ctpPOP/src/pop/dense_pop/pop_LMBM_arb_cons.jl:560 got unsupported keyword argument \"maxit\"",
      "",
      "Stacktrace:",
      " [1] kwerr(::NamedTuple{(:EigAlg, :tol, :maxit, :UseEq),Tuple{String,Float64,Float64,Bool}}, ::Function, ::Array{PolyVar{true},1}, ::Polynomial{true,Float64}, ::Array{Polynomial{true,Float64},1}, ::Array{Polynomial{true,Float64},1}, ::Int64) at ./error.jl:125",
      " [2] (::Main.ctpPOP.var\"#kw##POP_LMBM_arb_cons\")(::NamedTuple{(:EigAlg, :tol, :maxit, :UseEq),Tuple{String,Float64,Float64,Bool}}, ::typeof(Main.ctpPOP.POP_LMBM_arb_cons), ::Array{PolyVar{true},1}, ::Polynomial{true,Float64}, ::Array{Polynomial{true,Float64},1}, ::Array{Polynomial{true,Float64},1}, ::Int64) at ./none:0",
      " [3] top-level scope at In[65]:3"
     ]
    }
   ],
   "source": [
    "include(\"../src/ctpPOP.jl\")\n",
    "using .ctpPOP\n",
    "\n",
    "opt_val=ctpPOP.POP_LMBM_arb_cons(x,f,g,h,k;EigAlg=\"Arpack\",tol=1e-3,UseEq=false)"
   ]
  },
  {
   "cell_type": "code",
   "execution_count": 66,
   "metadata": {},
   "outputs": [
    {
     "name": "stdout",
     "output_type": "stream",
     "text": [
      "**SumOfSquares+Mosek:\n",
      "Problem\n",
      "  Name                   :                 \n",
      "  Objective sense        : max             \n",
      "  Type                   : CONIC (conic optimization problem)\n",
      "  Constraints            : 6               \n",
      "  Cones                  : 0               \n",
      "  Scalar variables       : 4               \n",
      "  Matrix variables       : 1               \n",
      "  Integer variables      : 0               \n",
      "\n",
      "Optimizer started.\n",
      "Presolve started.\n",
      "Linear dependency checker started.\n",
      "Linear dependency checker terminated.\n",
      "Eliminator started.\n",
      "Freed constraints in eliminator : 0\n",
      "Eliminator terminated.\n",
      "Eliminator started.\n",
      "Freed constraints in eliminator : 0\n",
      "Eliminator terminated.\n",
      "Eliminator - tries                  : 2                 time                   : 0.00            \n",
      "Lin. dep.  - tries                  : 1                 time                   : 0.00            \n",
      "Lin. dep.  - number                 : 0               \n",
      "Presolve terminated. Time: 0.00    \n",
      "Problem\n",
      "  Name                   :                 \n",
      "  Objective sense        : max             \n",
      "  Type                   : CONIC (conic optimization problem)\n",
      "  Constraints            : 6               \n",
      "  Cones                  : 0               \n",
      "  Scalar variables       : 4               \n",
      "  Matrix variables       : 1               \n",
      "  Integer variables      : 0               \n",
      "\n",
      "Optimizer  - threads                : 4               \n",
      "Optimizer  - solved problem         : the primal      \n",
      "Optimizer  - Constraints            : 6\n",
      "Optimizer  - Cones                  : 1\n",
      "Optimizer  - Scalar variables       : 5                 conic                  : 2               \n",
      "Optimizer  - Semi-definite variables: 1                 scalarized             : 6               \n",
      "Factor     - setup time             : 0.00              dense det. time        : 0.00            \n",
      "Factor     - ML order time          : 0.00              GP order time          : 0.00            \n",
      "Factor     - nonzeros before factor : 21                after factor           : 21              \n",
      "Factor     - dense dim.             : 0                 flops                  : 2.76e+02        \n",
      "ITE PFEAS    DFEAS    GFEAS    PRSTATUS   POBJ              DOBJ              MU       TIME  \n",
      "0   2.0e+00  1.0e+00  1.0e+00  0.00e+00   0.000000000e+00   0.000000000e+00   1.0e+00  0.00  \n",
      "1   7.6e-01  3.8e-01  3.3e-01  -1.30e-01  -1.189626191e+00  -1.401046652e+00  3.8e-01  0.00  \n",
      "2   6.9e-02  3.5e-02  7.4e-03  9.10e-01   -2.153587401e+00  -2.148479717e+00  3.5e-02  0.00  \n",
      "3   1.6e-03  8.0e-04  2.8e-05  1.01e+00   -2.213932095e+00  -2.213957863e+00  8.0e-04  0.00  \n",
      "4   9.4e-05  4.7e-05  4.1e-07  9.93e-01   -2.215495734e+00  -2.215499756e+00  4.7e-05  0.00  \n",
      "5   3.9e-06  2.0e-06  3.5e-09  9.98e-01   -2.215528582e+00  -2.215528789e+00  2.0e-06  0.00  \n",
      "6   6.4e-08  3.2e-08  7.2e-12  1.00e+00   -2.215528852e+00  -2.215528856e+00  3.2e-08  0.00  \n",
      "7   4.7e-10  2.4e-10  4.5e-15  1.00e+00   -2.215528845e+00  -2.215528845e+00  2.4e-10  0.00  \n",
      "Optimizer terminated. Time: 0.00    \n",
      "\n",
      "OPTIMAL\n",
      "opt_val=-2.215528844680802\n",
      "  1.464731 seconds (2.55 M allocations: 130.833 MiB, 5.28% gc time)\n"
     ]
    },
    {
     "name": "stderr",
     "output_type": "stream",
     "text": [
      "WARNING: replacing module ctpPOP.\n",
      "WARNING: Compat.Printf is deprecated, use Printf instead.\n",
      "  likely near /home/hoanganh/Desktop/math-topics/ctpPOP/codes/ctpPOP/solvers/ProximalBundleMethod/ProximalMethod.jl:391\n"
     ]
    },
    {
     "data": {
      "text/plain": [
       "-2.215528844680802"
      ]
     },
     "execution_count": 66,
     "metadata": {},
     "output_type": "execute_result"
    }
   ],
   "source": [
    "include(\"../src/ctpPOP.jl\")\n",
    "using .ctpPOP\n",
    "\n",
    "opt_val=ctpPOP.SumofSquares_POP(x,f,g,h,k)"
   ]
  },
  {
   "cell_type": "code",
   "execution_count": null,
   "metadata": {},
   "outputs": [],
   "source": []
  }
 ],
 "metadata": {
  "kernelspec": {
   "display_name": "Julia 1.3.0",
   "language": "julia",
   "name": "julia-1.3"
  },
  "language_info": {
   "file_extension": ".jl",
   "mimetype": "application/julia",
   "name": "julia",
   "version": "1.3.0"
  }
 },
 "nbformat": 4,
 "nbformat_minor": 2
}
