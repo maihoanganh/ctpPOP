{
 "cells": [
  {
   "cell_type": "code",
   "execution_count": 21,
   "metadata": {},
   "outputs": [
    {
     "name": "stdout",
     "output_type": "stream",
     "text": [
      "***Problem setting***\n",
      "Number of variable: n=5\n",
      "====================\n",
      "Number of inequality constraints: m=5\n",
      "====================\n",
      "Number of equality constraints: l=0\n"
     ]
    }
   ],
   "source": [
    "using DynamicPolynomials, LinearAlgebra, SparseArrays\n",
    "\n",
    "println(\"***Problem setting***\")\n",
    "\n",
    "n=5\n",
    "\n",
    "println(\"Number of variable: n=\",n)\n",
    "println(\"====================\")\n",
    "\n",
    "@polyvar x[1:n]# variables\n",
    "\n",
    "function generate_random_poly(v)\n",
    "    c=2*rand(Float64,length(v)).-1\n",
    "    return c'*v\n",
    "end\n",
    "# random quadratic objective function f\n",
    "v=reverse(monomials(x,0:2))\n",
    "f=generate_random_poly(v)\n",
    "\n",
    "\n",
    "# unit sphere constraint\n",
    "m=n\n",
    "q=floor(Int64,n/m)\n",
    "R=ones(Float64,m)./n\n",
    "T=[(j-1)*q+1:j*q for j in 1:m-1]\n",
    "append!(T,[(m-1)*q+1:n])\n",
    "\n",
    "g=[R[j]-sum(x[T[j]].^2) for j in 1:m]\n",
    "\n",
    "m=length(g)\n",
    "println(\"Number of inequality constraints: m=\",m)\n",
    "println(\"====================\")\n",
    "\n",
    "l=0#ceil(Int64, n/7)\n",
    "\n",
    "h=Vector{Polynomial{true,Float64}}(undef,l)\n",
    "randx=[2*rand(length(T[j])).-1 for j in 1:m]# create a feasible solution\n",
    "randx=[sqrt(R[j])*rand(1)[1]*randx[j]/norm(randx[j]) for j in 1:m]\n",
    "randx=vcat(randx...)\n",
    "\n",
    "for j in 1:l\n",
    "    h[j]=generate_random_poly(v[2:end])\n",
    "    h[j]-=h[j](x => randx) #make constraints feasible\n",
    "end\n",
    "\n",
    "l=length(h)\n",
    "println(\"Number of equality constraints: l=\",l)"
   ]
  },
  {
   "cell_type": "code",
   "execution_count": 22,
   "metadata": {},
   "outputs": [
    {
     "name": "stderr",
     "output_type": "stream",
     "text": [
      "WARNING: replacing module ctpPOP.\n"
     ]
    }
   ],
   "source": [
    "include(\"../src/ctpPOP.jl\")\n",
    "using .ctpPOP\n",
    "\n",
    "n,m,l,lmon_g,supp_g,coe_g,lmon_h,supp_h,coe_h,lmon_f,supp_f,coe_f,dg,dh=ctpPOP.get_info(x,f,g,h,sparse=false);"
   ]
  },
  {
   "cell_type": "code",
   "execution_count": 23,
   "metadata": {},
   "outputs": [
    {
     "name": "stdout",
     "output_type": "stream",
     "text": [
      "Relaxed order: k=2\n"
     ]
    }
   ],
   "source": [
    "k=2\n",
    "println(\"Relaxed order: k=\",k)"
   ]
  },
  {
   "cell_type": "code",
   "execution_count": 24,
   "metadata": {
    "scrolled": true
   },
   "outputs": [
    {
     "name": "stdout",
     "output_type": "stream",
     "text": [
      "  Computing constant trace status: OPTIMAL\n",
      "  Constant trace: ak = 3.0\n",
      "  Condition number: c = 53.58171329847526\n",
      "  Number of blocks: omega=6\n",
      "  Size of the largest block: s^max=21\n",
      "  Number of equality trace constraints: zeta=211\n",
      "Modeling time:\n",
      "  0.083422 seconds (158.12 k allocations: 8.896 MiB)\n",
      "iter=1   val=-4.280385068743563   gap=0.02644134183900509   feas=3.108082628721325\n",
      "iter=2   val=-1.430799164236093   gap=0.449776630286239   feas=0.8999121656559207\n",
      "iter=4   val=-1.2863118584948587   gap=0.41496191919893   feas=0.6838821316304191\n",
      "iter=8   val=-1.295044944482312   gap=0.02888481202856706   feas=0.32656177600805103\n",
      "iter=16   val=-1.2352568935675816   gap=0.0009434166060255437   feas=0.13022799343859776\n",
      "iter=32   val=-1.2154813645220397   gap=0.0003481497249057023   feas=0.06802099499810167\n",
      "iter=64   val=-1.2109492721110509   gap=0.007209523776947951   feas=0.012865203622919005\n",
      "iter=128   val=-1.2219590455394318   gap=0.0015629998554901683   feas=0.003159828579973478\n"
     ]
    },
    {
     "name": "stderr",
     "output_type": "stream",
     "text": [
      "WARNING: replacing module ctpPOP.\n"
     ]
    },
    {
     "name": "stdout",
     "output_type": "stream",
     "text": [
      "iter=256   val=-1.221205499009062   gap=0.0022854948617424685   feas=0.005280264144183292\n",
      "iter=512   val=-1.2237683332162839   gap=0.0006249058324006739   feas=0.0013385387855231147\n",
      "iter=593   val=-1.2239701288218348   gap=0.0004530715658040161   feas=0.000997995238896406\n",
      "tol satisfies!!!\n",
      "\n",
      "####################################\n",
      "opt_val = -1.2239701288218348\n",
      "####################################\n",
      "Solving time:\n",
      "  0.174076 seconds (367.67 k allocations: 36.636 MiB)\n",
      "Total time:\n",
      "  0.257614 seconds (526.29 k allocations: 45.543 MiB)\n"
     ]
    },
    {
     "data": {
      "text/plain": [
       "-1.2239701288218348"
      ]
     },
     "execution_count": 24,
     "metadata": {},
     "output_type": "execute_result"
    }
   ],
   "source": [
    "include(\"../src/ctpPOP.jl\")\n",
    "using .ctpPOP\n",
    "\n",
    "opt_val1=ctpPOP.POP_dense_CGAL(n,m,l,lmon_g,supp_g,coe_g,lmon_h,supp_h,coe_h,lmon_f,supp_f,coe_f,dg,dh,k,\n",
    "                         maxit=Int64(1e6),tol=1e-3,\n",
    "                         use_eqcons_to_get_constant_trace=false,\n",
    "                         check_tol_each_iter=true)"
   ]
  },
  {
   "cell_type": "code",
   "execution_count": 119,
   "metadata": {},
   "outputs": [
    {
     "name": "stderr",
     "output_type": "stream",
     "text": [
      "WARNING: replacing module ctpPOP.\n"
     ]
    },
    {
     "name": "stdout",
     "output_type": "stream",
     "text": [
      "  Computing constant trace status: OPTIMAL\n",
      "  Constant trace: ak = 3.0\n",
      "  Number of blocks: omega=6\n",
      "  Size of the largest block: s^max=21\n",
      "  Number of equality trace constraints: zeta=232\n",
      "Modeling time:\n",
      "  0.139228 seconds (162.45 k allocations: 9.451 MiB)\n",
      "---------------\n",
      "| Parameters: |\n",
      "---------------\n",
      "n:       232\n",
      "maxtime: 300000.000000\n",
      "na:      2\n",
      "mcu:     5\n",
      "mc:      7\n",
      "rpar: \n",
      "ipar: \n",
      " Warning: MC > MCU. Assigned MC = MCU.\n",
      " Entry to LMBM:\n",
      " NIT=    1  NFE=    1  F= 0.62486093D+00  WK= 0.1760D+00  QK= 0.8798D-01\n",
      " NIT=    2  NFE=    2  F= 0.52904612D+00  WK= 0.6271D-01  QK= 0.6233D-01\n",
      " NIT=    3  NFE=    3  F= 0.47065683D+00  WK= 0.5766D+00  QK= 0.4534D-01\n",
      " NIT=    4  NFE=    4  F= 0.39087532D+00  WK= 0.1100D+00  QK= 0.7623D-01\n",
      " NIT=    5  NFE=    5  F= 0.37318584D+00  WK= 0.5713D-01  QK= 0.1635D+00\n",
      " NIT=    6  NFE=    6  F= 0.36414481D+00  WK= 0.1861D-01  QK= 0.6137D-01\n",
      " NIT=    7  NFE=    7  F= 0.35387940D+00  WK= 0.2781D-01  QK= 0.4502D-01\n",
      " NIT=    8  NFE=    8  F= 0.32863729D+00  WK= 0.2045D+00  QK= 0.2908D-01\n",
      " NIT=    9  NFE=   10  F= 0.32863729D+00  WK= 0.8093D-01  QK= 0.4946D-01\n",
      " Warning: A nondescent search direction occured. Restart.\n",
      " NIT=   10  NFE=   55  F= 0.32863729D+00  WK= 0.5815D-01  QK= 0.2908D-01\n",
      " NIT=   11  NFE=   56  F= 0.32863729D+00  WK= 0.4390D-01  QK= 0.2201D-01\n",
      " NIT=   12  NFE=   57  F= 0.31314474D+00  WK= 0.3588D-01  QK= 0.1890D+00\n",
      " NIT=   13  NFE=   58  F= 0.30337334D+00  WK= 0.8239D-02  QK= 0.4717D-01\n",
      " NIT=   14  NFE=   59  F= 0.30011456D+00  WK= 0.7049D-02  QK= 0.3140D-01\n",
      " NIT=   15  NFE=   60  F= 0.29424177D+00  WK= 0.1607D-01  QK= 0.3012D-01\n",
      " NIT=   16  NFE=   61  F= 0.29424177D+00  WK= 0.1984D-01  QK= 0.2237D-01\n",
      " NIT=   17  NFE=   64  F= 0.29381362D+00  WK= 0.8399D-02  QK= 0.5426D-01\n",
      " NIT=   18  NFE=   65  F= 0.29187910D+00  WK= 0.6469D-02  QK= 0.1233D+00\n",
      " NIT=   19  NFE=   66  F= 0.29187910D+00  WK= 0.1197D-01  QK= 0.9334D-01\n",
      " NIT=   20  NFE=   67  F= 0.29099151D+00  WK= 0.1245D-01  QK= 0.1134D+00\n",
      " NIT=   21  NFE=   68  F= 0.28853443D+00  WK= 0.5388D-02  QK= 0.2956D-01\n",
      " NIT=   22  NFE=   69  F= 0.28337690D+00  WK= 0.1196D+00  QK= 0.3158D-01\n",
      " Warning: A nondescent search direction occured. Restart.\n",
      " NIT=   23  NFE=   71  F= 0.28337690D+00  WK= 0.6316D-01  QK= 0.3158D-01\n",
      " NIT=   24  NFE=   72  F= 0.28337690D+00  WK= 0.3304D-01  QK= 0.1655D-01\n",
      " NIT=   25  NFE=   76  F= 0.28216062D+00  WK= 0.4259D-02  QK= 0.1170D+00\n",
      " NIT=   26  NFE=   77  F= 0.28216062D+00  WK= 0.1299D-01  QK= 0.9684D-01\n",
      " NIT=   27  NFE=   79  F= 0.28151515D+00  WK= 0.5297D-02  QK= 0.8102D-01\n",
      " NIT=   28  NFE=   80  F= 0.28022614D+00  WK= 0.2087D-02  QK= 0.3915D-01\n",
      " NIT=   29  NFE=   81  F= 0.27937337D+00  WK= 0.2547D-02  QK= 0.8114D-01\n",
      " NIT=   30  NFE=   82  F= 0.27785751D+00  WK= 0.1142D-02  QK= 0.1321D-01\n",
      " NIT=   31  NFE=   83  F= 0.27785751D+00  WK= 0.1418D-01  QK= 0.1178D-01\n",
      " NIT=   32  NFE=   87  F= 0.27737723D+00  WK= 0.2266D-02  QK= 0.1613D+00\n",
      " NIT=   33  NFE=   88  F= 0.27712943D+00  WK= 0.2160D-02  QK= 0.5490D-01\n",
      " NIT=   34  NFE=   89  F= 0.27712943D+00  WK= 0.9095D-02  QK= 0.2536D-01\n",
      " NIT=   35  NFE=   93  F= 0.27615767D+00  WK= 0.1984D-02  QK= 0.2958D-01\n",
      " NIT=   36  NFE=   94  F= 0.27615767D+00  WK= 0.6233D-02  QK= 0.1196D-01\n",
      " NIT=   37  NFE=   97  F= 0.27595134D+00  WK= 0.1573D-02  QK= 0.1061D+00\n",
      " NIT=   38  NFE=   98  F= 0.27563806D+00  WK= 0.1299D-02  QK= 0.1438D+00\n",
      " NIT=   39  NFE=   99  F= 0.27532308D+00  WK= 0.2508D-02  QK= 0.7968D-01\n",
      " NIT=   40  NFE=  100  F= 0.27532007D+00  WK= 0.8458D-03  QK= 0.4745D-01\n",
      " NIT=   41  NFE=  101  F= 0.27450656D+00  WK= 0.2421D-01  QK= 0.4464D-01\n",
      " Warning: A nondescent search direction occured. Restart.\n",
      " NIT=   42  NFE=  102  F= 0.27450656D+00  WK= 0.8929D-01  QK= 0.4464D-01\n",
      " NIT=   43  NFE=  103  F= 0.27450656D+00  WK= 0.5036D-01  QK= 0.2522D-01\n",
      " NIT=   44  NFE=  108  F= 0.27418075D+00  WK= 0.9842D-02  QK= 0.5118D-01\n",
      " NIT=   45  NFE=  109  F= 0.27418075D+00  WK= 0.1210D-01  QK= 0.1267D-01\n",
      " NIT=   46  NFE=  113  F= 0.27392267D+00  WK= 0.8292D-03  QK= 0.7864D-01\n",
      " NIT=   47  NFE=  114  F= 0.27309388D+00  WK= 0.1764D+01  QK= 0.7862D-01\n",
      " NIT=   48  NFE=  115  F= 0.27309388D+00  WK= 0.2955D+00  QK= 0.2062D+00\n",
      " Warning: A nondescent search direction occured. Restart.\n",
      " NIT=   49  NFE=  160  F= 0.27309388D+00  WK= 0.1572D+00  QK= 0.7862D-01\n",
      " NIT=   50  NFE=  161  F= 0.27309388D+00  WK= 0.1057D+00  QK= 0.5288D-01\n",
      " NIT=   51  NFE=  167  F= 0.27305049D+00  WK= 0.1817D-02  QK= 0.3482D-01\n",
      " NIT=   52  NFE=  168  F= 0.27305049D+00  WK= 0.1448D-01  QK= 0.1865D-01\n",
      " NIT=   53  NFE=  173  F= 0.27291644D+00  WK= 0.1647D-02  QK= 0.1093D+00\n",
      " NIT=   54  NFE=  174  F= 0.27291644D+00  WK= 0.9357D-02  QK= 0.4985D-01\n",
      " NIT=   55  NFE=  179  F= 0.27272245D+00  WK= 0.1298D-02  QK= 0.1627D+00\n",
      " NIT=   56  NFE=  180  F= 0.27200389D+00  WK= 0.4384D-03  QK= 0.1858D-01\n",
      " NIT=   57  NFE=  181  F= 0.27189895D+00  WK= 0.4023D-03  QK= 0.1046D+00\n",
      " NIT=   58  NFE=  182  F= 0.27173179D+00  WK= 0.1352D-03  QK= 0.1726D-01\n",
      " NIT=   59  NFE=  183  F= 0.27160709D+00  WK= 0.1177D-02  QK= 0.1247D-01\n",
      " NIT=   60  NFE=  184  F= 0.27160709D+00  WK= 0.1099D-01  QK= 0.1101D-01\n",
      " NIT=   61  NFE=  188  F= 0.27155737D+00  WK= 0.7874D-03  QK= 0.7538D-01\n",
      " NIT=   62  NFE=  189  F= 0.27117404D+00  WK= 0.2571D-03  QK= 0.3963D-01\n",
      " NIT=   63  NFE=  190  F= 0.27117404D+00  WK= 0.1660D-01  QK= 0.3007D-01\n",
      " NIT=   64  NFE=  196  F= 0.27073533D+00  WK= 0.2947D-02  QK= 0.2393D-01\n",
      " NIT=   65  NFE=  197  F= 0.27073533D+00  WK= 0.1824D-01  QK= 0.2449D-01\n",
      " NIT=   66  NFE=  205  F= 0.27065194D+00  WK= 0.1611D-02  QK= 0.1408D+00\n",
      " NIT=   67  NFE=  206  F= 0.27065194D+00  WK= 0.2424D-01  QK= 0.7075D-01\n",
      " NIT=   68  NFE=  213  F= 0.27054773D+00  WK= 0.4069D-03  QK= 0.4620D-01\n",
      " NIT=   69  NFE=  214  F= 0.27041676D+00  WK= 0.3788D-03  QK= 0.4333D-01\n",
      " NIT=   70  NFE=  215  F= 0.27028163D+00  WK= 0.2276D-03  QK= 0.4447D-01\n",
      " NIT=   71  NFE=  216  F= 0.27024453D+00  WK= 0.1231D-03  QK= 0.1022D+00\n",
      " NIT=   72  NFE=  217  F= 0.27021091D+00  WK= 0.2054D-03  QK= 0.7744D-01\n",
      " NIT=   73  NFE=  218  F= 0.27021091D+00  WK= 0.1020D-01  QK= 0.2863D-01\n",
      " NIT=   74  NFE=  224  F= 0.27008174D+00  WK= 0.3530D-03  QK= 0.3636D-01\n",
      " Exit from LMBM:\n",
      " Abnormal exit: Too many steps without significant progress.\n",
      " NIT=   74  NFE=  225  F= 0.26984683D+00  WK= 0.3530D-03  QK= 0.3636D-01  ITERM=  2\n",
      "-----------\n",
      "| Output: |\n",
      "-----------\n",
      "Termination:     2\n",
      "N. iter.:        74\n",
      "N. func. eval.:  225\n",
      "Final value:     0.269847\n",
      "Execution time:  0.230957\n",
      "\n",
      "####################################\n",
      "opt_val = -1.9683192588153429\n",
      "####################################\n",
      "Solving time:\n",
      "  0.381787 seconds (394.31 k allocations: 29.839 MiB)\n",
      "Total time:\n",
      "  0.521261 seconds (557.25 k allocations: 39.301 MiB)\n"
     ]
    },
    {
     "data": {
      "text/plain": [
       "-1.9683192588153429"
      ]
     },
     "execution_count": 119,
     "metadata": {},
     "output_type": "execute_result"
    }
   ],
   "source": [
    "include(\"../src/ctpPOP.jl\")\n",
    "using .ctpPOP\n",
    "\n",
    "opt_val1=ctpPOP.POP_LMBM(n,m,l,lmon_g,supp_g,coe_g,lmon_h,supp_h,coe_h,lmon_f,supp_f,coe_f,dg,dh,k,tol=1e-3,\n",
    "    use_eqcons_to_get_constant_trace=false)"
   ]
  },
  {
   "cell_type": "code",
   "execution_count": 120,
   "metadata": {},
   "outputs": [
    {
     "name": "stderr",
     "output_type": "stream",
     "text": [
      "WARNING: replacing module ctpPOP.\n"
     ]
    },
    {
     "name": "stdout",
     "output_type": "stream",
     "text": [
      "**SumOfSquares+Mosek:\n",
      "Problem\n",
      "  Name                   :                 \n",
      "  Objective sense        : max             \n",
      "  Type                   : CONIC (conic optimization problem)\n",
      "  Constraints            : 126             \n",
      "  Cones                  : 0               \n",
      "  Scalar variables       : 22              \n",
      "  Matrix variables       : 6               \n",
      "  Integer variables      : 0               \n",
      "\n",
      "Optimizer started.\n",
      "Presolve started.\n",
      "Linear dependency checker started.\n",
      "Linear dependency checker terminated.\n",
      "Eliminator started.\n",
      "Freed constraints in eliminator : 0\n",
      "Eliminator terminated.\n",
      "Eliminator - tries                  : 1                 time                   : 0.00            \n",
      "Lin. dep.  - tries                  : 1                 time                   : 0.00            \n",
      "Lin. dep.  - number                 : 0               \n",
      "Presolve terminated. Time: 0.00    \n",
      "Problem\n",
      "  Name                   :                 \n",
      "  Objective sense        : max             \n",
      "  Type                   : CONIC (conic optimization problem)\n",
      "  Constraints            : 126             \n",
      "  Cones                  : 0               \n",
      "  Scalar variables       : 22              \n",
      "  Matrix variables       : 6               \n",
      "  Integer variables      : 0               \n",
      "\n",
      "Optimizer  - threads                : 4               \n",
      "Optimizer  - solved problem         : the primal      \n",
      "Optimizer  - Constraints            : 126\n",
      "Optimizer  - Cones                  : 1\n",
      "Optimizer  - Scalar variables       : 23                conic                  : 23              \n",
      "Optimizer  - Semi-definite variables: 6                 scalarized             : 336             \n",
      "Factor     - setup time             : 0.00              dense det. time        : 0.00            \n",
      "Factor     - ML order time          : 0.00              GP order time          : 0.00            \n",
      "Factor     - nonzeros before factor : 8001              after factor           : 8001            \n",
      "Factor     - dense dim.             : 0                 flops                  : 8.68e+05        \n",
      "ITE PFEAS    DFEAS    GFEAS    PRSTATUS   POBJ              DOBJ              MU       TIME  \n",
      "0   2.9e+00  1.0e+00  1.0e+00  0.00e+00   0.000000000e+00   0.000000000e+00   1.0e+00  0.00  \n",
      "1   9.2e-01  3.1e-01  2.1e-01  -4.81e-01  -1.941463930e+00  -2.006863791e+00  3.1e-01  0.00  \n",
      "2   1.8e-01  6.1e-02  1.1e-02  1.64e+00   -1.853430137e+00  -1.834405544e+00  6.1e-02  0.01  \n",
      "3   4.3e-02  1.5e-02  1.1e-03  1.38e+00   -1.696125086e+00  -1.692157879e+00  1.5e-02  0.01  \n",
      "4   5.7e-03  1.9e-03  6.1e-05  1.03e+00   -1.719139694e+00  -1.718814341e+00  1.9e-03  0.01  \n",
      "5   3.0e-05  1.0e-05  2.3e-08  1.01e+00   -1.715877134e+00  -1.715875260e+00  1.0e-05  0.01  \n",
      "6   1.3e-07  4.5e-08  6.5e-12  1.00e+00   -1.715860425e+00  -1.715860414e+00  4.5e-08  0.01  \n",
      "7   8.9e-09  4.5e-09  1.8e-13  1.01e+00   -1.715860394e+00  -1.715860392e+00  4.2e-09  0.01  \n",
      "Optimizer terminated. Time: 0.01    \n",
      "\n",
      "OPTIMAL\n",
      "opt_val=-1.715860393512749\n",
      "  0.106029 seconds (159.65 k allocations: 14.473 MiB)\n"
     ]
    },
    {
     "data": {
      "text/plain": [
       "-1.715860393512749"
      ]
     },
     "execution_count": 120,
     "metadata": {},
     "output_type": "execute_result"
    }
   ],
   "source": [
    "include(\"../src/ctpPOP.jl\")\n",
    "using .ctpPOP\n",
    "\n",
    "opt_val2=ctpPOP.SumofSquares_POP(x,f,g,h,k,tol=1e-3)"
   ]
  },
  {
   "cell_type": "code",
   "execution_count": 121,
   "metadata": {},
   "outputs": [
    {
     "name": "stdout",
     "output_type": "stream",
     "text": [
      "This is Ipopt version 3.13.2, running with linear solver mumps.\n",
      "NOTE: Other linear solvers might be more efficient (see Ipopt documentation).\n",
      "\n",
      "Number of nonzeros in equality constraint Jacobian...:       30\n",
      "Number of nonzeros in inequality constraint Jacobian.:        5\n",
      "Number of nonzeros in Lagrangian Hessian.............:       35\n",
      "\n",
      "Total number of variables............................:        5\n",
      "                     variables with only lower bounds:        0\n",
      "                variables with lower and upper bounds:        0\n",
      "                     variables with only upper bounds:        0\n",
      "Total number of equality constraints.................:        1\n",
      "Total number of inequality constraints...............:        5\n",
      "        inequality constraints with only lower bounds:        5\n",
      "   inequality constraints with lower and upper bounds:        0\n",
      "        inequality constraints with only upper bounds:        0\n",
      "\n",
      "iter    objective    inf_pr   inf_du lg(mu)  ||d||  lg(rg) alpha_du alpha_pr  ls\n",
      "   0 -9.4812176e-01 3.23e-01 1.00e+00  -1.0 0.00e+00    -  0.00e+00 0.00e+00   0\n",
      "   1 -6.5196758e-01 2.86e-03 1.87e+01  -1.0 1.65e-01   2.0 1.00e+00 1.00e+00h  1\n",
      "   2 -6.5483361e-01 2.03e-05 7.12e+00  -1.0 2.67e-02   2.4 1.00e+00 1.00e+00h  1\n",
      "   3 -6.6846677e-01 1.06e-04 1.04e+00  -1.0 1.20e-02   1.9 1.00e+00 1.00e+00f  1\n",
      "   4 -7.1199475e-01 1.10e-03 1.08e+00  -1.0 3.66e-02   1.5 1.00e+00 1.00e+00f  1\n",
      "   5 -8.9860718e-01 2.16e-02 1.21e+00  -1.0 1.29e-01   1.0 1.00e+00 1.00e+00f  1\n",
      "   6 -1.7259496e+00 4.46e-01 3.44e-01  -1.0 4.85e-01   0.5 1.00e+00 6.84e-01f  1\n",
      "   7 -1.5892679e+00 3.52e-02 6.44e-01  -1.7 1.82e-01    -  5.85e-01 1.00e+00h  1\n",
      "   8 -1.5730053e+00 1.15e-04 3.43e-01  -1.7 3.90e-02   0.9 1.00e+00 1.00e+00h  1\n",
      "   9 -1.5864623e+00 2.40e-03 3.34e-02  -1.7 7.30e-02    -  1.00e+00 1.00e+00h  1\n",
      "iter    objective    inf_pr   inf_du lg(mu)  ||d||  lg(rg) alpha_du alpha_pr  ls\n",
      "  10 -1.6064868e+00 2.45e-04 6.17e-02  -2.5 2.00e-02   0.5 1.00e+00 1.00e+00h  1\n",
      "  11 -1.7767792e+00 1.28e-01 4.59e-01  -2.5 4.15e-01  -0.0 1.00e+00 9.11e-01h  1\n",
      "  12 -1.7738876e+00 8.77e-02 2.98e-01  -2.5 1.29e-01   0.4 1.00e+00 3.17e-01h  1\n",
      "  13 -1.7048879e+00 8.26e-03 4.79e-02  -2.5 1.04e-01    -  1.00e+00 1.00e+00h  1\n",
      "  14 -1.7083338e+00 2.00e-05 1.53e-03  -2.5 1.33e-02    -  1.00e+00 1.00e+00h  1\n",
      "  15 -1.7153031e+00 9.88e-05 7.41e-04  -3.8 1.13e-02    -  1.00e+00 1.00e+00h  1\n",
      "  16 -1.7158531e+00 2.67e-06 1.92e-05  -5.7 2.13e-03    -  1.00e+00 1.00e+00h  1\n",
      "  17 -1.7158549e+00 4.93e-10 6.34e-09  -5.7 4.14e-05    -  1.00e+00 1.00e+00h  1\n",
      "  18 -1.7158604e+00 6.25e-11 5.38e-10  -8.6 1.01e-05    -  1.00e+00 1.00e+00h  1\n",
      "\n",
      "Number of Iterations....: 18\n",
      "\n",
      "                                   (scaled)                 (unscaled)\n",
      "Objective...............:  -1.7158604094927701e+00   -1.7158604094927701e+00\n",
      "Dual infeasibility......:   5.3836080038394130e-10    5.3836080038394130e-10\n",
      "Constraint violation....:   6.2498284325585018e-11    6.2498284325585018e-11\n",
      "Complementarity.........:   2.6581701707956318e-09    2.6581701707956318e-09\n",
      "Overall NLP error.......:   2.6581701707956318e-09    2.6581701707956318e-09\n",
      "\n",
      "\n",
      "Number of objective function evaluations             = 19\n",
      "Number of objective gradient evaluations             = 19\n",
      "Number of equality constraint evaluations            = 19\n",
      "Number of inequality constraint evaluations          = 19\n",
      "Number of equality constraint Jacobian evaluations   = 19\n",
      "Number of inequality constraint Jacobian evaluations = 19\n",
      "Number of Lagrangian Hessian evaluations             = 18\n",
      "Total CPU secs in IPOPT (w/o function evaluations)   =      0.009\n",
      "Total CPU secs in NLP function evaluations           =      0.000\n",
      "\n",
      "EXIT: Optimal Solution Found.\n",
      "LOCALLY_SOLVED\n",
      "opt_val=-1.71586040949277\n",
      "  0.021502 seconds (4.41 k allocations: 336.750 KiB)\n",
      "  0.318582 seconds (326.61 k allocations: 15.897 MiB)\n"
     ]
    },
    {
     "name": "stderr",
     "output_type": "stream",
     "text": [
      "WARNING: replacing module ctpPOP.\n"
     ]
    },
    {
     "data": {
      "text/plain": [
       "-1.71586040949277"
      ]
     },
     "execution_count": 121,
     "metadata": {},
     "output_type": "execute_result"
    }
   ],
   "source": [
    "include(\"../src/ctpPOP.jl\")\n",
    "using .ctpPOP\n",
    "\n",
    "optval=ctpPOP.POP_NLP(n,m,l,lmon_g,supp_g,coe_g,lmon_h,supp_h,coe_h,lmon_f,supp_f,coe_f)"
   ]
  },
  {
   "cell_type": "code",
   "execution_count": null,
   "metadata": {},
   "outputs": [],
   "source": []
  }
 ],
 "metadata": {
  "kernelspec": {
   "display_name": "Julia 1.3.0",
   "language": "julia",
   "name": "julia-1.3"
  },
  "language_info": {
   "file_extension": ".jl",
   "mimetype": "application/julia",
   "name": "julia",
   "version": "1.3.0"
  }
 },
 "nbformat": 4,
 "nbformat_minor": 2
}
