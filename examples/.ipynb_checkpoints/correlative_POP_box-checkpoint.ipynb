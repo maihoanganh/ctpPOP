{
 "cells": [
  {
   "cell_type": "code",
   "execution_count": 1,
   "metadata": {},
   "outputs": [
    {
     "name": "stdout",
     "output_type": "stream",
     "text": [
      "***Problem setting***\n",
      "Number of variable: n=6\n",
      "====================\n",
      "Number of inequality constraints: m=6\n",
      "====================\n",
      "Number of equality constraints: l=1\n",
      "====================\n",
      "Relaxed order: k=2\n",
      "====================\n"
     ]
    }
   ],
   "source": [
    "using DynamicPolynomials, LinearAlgebra, SparseArrays\n",
    "\n",
    "println(\"***Problem setting***\")\n",
    "\n",
    "n=6\n",
    "\n",
    "println(\"Number of variable: n=\",n)\n",
    "println(\"====================\")\n",
    "\n",
    "@polyvar x[1:n]# variables\n",
    "\n",
    "function generate_random_poly(T::UnitRange{Int64})\n",
    "    v=reverse(monomials(x[T],0:2))\n",
    "    c=2*rand(Float64,length(v)).-1\n",
    "    return c'*v\n",
    "end\n",
    "\n",
    "# unit sphere constraint\n",
    "u=3\n",
    "p=floor(Int64,n/u)\n",
    "\n",
    "I=Vector{UnitRange{Int64}}(undef,p)\n",
    "I[1]=1:u\n",
    "I[2:p-1]=[u*(j-1):u*j for j in 2:p-1]\n",
    "I[p]=u*(p-1):n\n",
    "\n",
    "# random quadratic objective function f\n",
    "f=sum(generate_random_poly(I[j]) for j in 1:p)\n",
    "\n",
    "\n",
    "g=-(x.^2).+1/u\n",
    "\n",
    "\n",
    "\n",
    "m=length(g)\n",
    "println(\"Number of inequality constraints: m=\",m)\n",
    "println(\"====================\")\n",
    "\n",
    "l=ceil(Int64, n/7)\n",
    "\n",
    "r=floor(Int64,l/p)\n",
    "W=[(j-1)*r+1:j*r for j in 1:p-1]\n",
    "append!(W,[(p-1)*r+1:l])\n",
    "\n",
    "h=Vector{Polynomial{true,Float64}}(undef,l)\n",
    "\n",
    "#=randx=[2*rand(length(I[j])).-1 for j in 1:p]# create a feasible solution\n",
    "randx=[randx[j]/norm(randx[j]) for j in 1:p]=#\n",
    "\n",
    "randx=2*rand(n).-1\n",
    "randx=randx./sqrt(u)\n",
    "\n",
    "for j in 1:p\n",
    "    for i in W[j]\n",
    "        h[i]=generate_random_poly(I[j])\n",
    "        h[i]-=h[i](x => randx) #make constraints feasible\n",
    "    end\n",
    "end\n",
    "\n",
    "l=length(h)\n",
    "println(\"Number of equality constraints: l=\",l)\n",
    "println(\"====================\")\n",
    "\n",
    "k=2\n",
    "\n",
    "println(\"Relaxed order: k=\",k)\n",
    "println(\"====================\")"
   ]
  },
  {
   "cell_type": "code",
   "execution_count": 2,
   "metadata": {},
   "outputs": [
    {
     "data": {
      "text/plain": [
       "-0.7127277524048403"
      ]
     },
     "execution_count": 2,
     "metadata": {},
     "output_type": "execute_result"
    }
   ],
   "source": [
    "include(\"../src/ctpPOP.jl\")\n",
    "using .ctpPOP\n",
    "\n",
    "n,m,l,lmon_g,supp_g,coe_g,lmon_h,supp_h,coe_h,lmon_f,supp_f,coe_f,dg,dh=ctpPOP.get_info(x,f,g,h,sparse=true);"
   ]
  },
  {
   "cell_type": "code",
   "execution_count": 3,
   "metadata": {},
   "outputs": [
    {
     "name": "stdout",
     "output_type": "stream",
     "text": [
      "------------------------------------------------------\n",
      "The clique sizes of varibles:\n",
      "[4, 3]\n",
      "[1, 1]\n",
      "------------------------------------------------------\n",
      "  Number of cliques: p=2\n",
      "  Largest clique size: u=4\n"
     ]
    },
    {
     "name": "stderr",
     "output_type": "stream",
     "text": [
      "┌ Warning: `with_optimizer` is deprecated. Adapt the following example to update your code:\n",
      "│ `with_optimizer(Ipopt.Optimizer, max_cpu_time=60.0)` becomes `optimizer_with_attributes(Ipopt.Optimizer, \"max_cpu_time\" => 60.0)`.\n",
      "│   caller = ip:0x0\n",
      "└ @ Core :-1\n"
     ]
    },
    {
     "name": "stdout",
     "output_type": "stream",
     "text": [
      "  Largest constant trace: a=4.111111111111111\n",
      "  Number of blocks: omega=9\n",
      "  Number of equality consraints: zeta=181\n",
      "  Size of the largest block: s^max=15\n",
      "Modeling time:\n",
      " 19.231935 seconds (52.52 M allocations: 2.581 GiB, 5.23% gc time)\n",
      "iter=1.0   val=-8.835195340534083   gap=0.49962523192363584   feas=5.837819734862861\n",
      "iter=2.0   val=-4.762765416395822   gap=3.2330293586861742   feas=2.859671205375303\n",
      "iter=4.0   val=-5.077630793316131   gap=0.3054602031414193   feas=1.602273130749235\n",
      "iter=8.0   val=-4.698707244945438   gap=0.4232539872943324   feas=0.5920644134598608\n",
      "iter=16.0   val=-4.44554022647797   gap=0.17589391891472772   feas=0.2452991911785439\n",
      "iter=32.0   val=-4.176979206213734   gap=0.06287529753363685   feas=0.15967455406777806\n",
      "iter=64.0   val=-4.219564827741941   gap=0.047961524883551654   feas=0.08054011485657202\n",
      "iter=128.0   val=-4.196789100296807   gap=0.02931176164636895   feas=0.040801763521622174\n",
      "iter=256.0   val=-4.221537083912485   gap=0.005712719546209222   feas=0.010471554735770936\n",
      "iter=512.0   val=-4.217447078149247   gap=0.02230022956294686   feas=0.004556572123793453\n",
      "iter=1024.0   val=-4.223068134703319   gap=0.000891420488821737   feas=0.0017734783871619047\n",
      "iter=1340.0   val=-4.2224441827332715   gap=0.0009210699361590358   feas=0.000997810614695322\n",
      "tol satisfies!!!\n",
      "\n",
      "####################################\n",
      "opt_val = -4.2224441827332715\n",
      "####################################\n",
      "Solving time:\n",
      "  1.124647 seconds (2.78 M allocations: 193.364 MiB, 3.87% gc time)\n",
      "Total time:\n",
      " 20.384349 seconds (55.35 M allocations: 2.772 GiB, 5.15% gc time)\n"
     ]
    },
    {
     "data": {
      "text/plain": [
       "-4.2224441827332715"
      ]
     },
     "execution_count": 3,
     "metadata": {},
     "output_type": "execute_result"
    }
   ],
   "source": [
    "include(\"../src/ctpPOP.jl\")\n",
    "using .ctpPOP\n",
    "\n",
    "opt_val1=ctpPOP.POP_CS_CGAL(n,m,l,lmon_g,supp_g,coe_g,lmon_h,supp_h,coe_h,lmon_f,supp_f,coe_f,dg,dh,k;EigAlg=\"Arpack\",maxit=1e10,tol=1e-3,UseEq=false)"
   ]
  },
  {
   "cell_type": "code",
   "execution_count": 9,
   "metadata": {},
   "outputs": [
    {
     "name": "stdout",
     "output_type": "stream",
     "text": [
      "------------------------------------------------------\n",
      "The clique sizes of varibles:\n",
      "[4, 3]\n",
      "[1, 1]\n",
      "------------------------------------------------------\n"
     ]
    },
    {
     "ename": "OutOfMemoryError",
     "evalue": "OutOfMemoryError()",
     "output_type": "error",
     "traceback": [
      "OutOfMemoryError()",
      "",
      "Stacktrace:",
      " [1] Array at ./boot.jl:404 [inlined]",
      " [2] similar at ./array.jl:333 [inlined]",
      " [3] getindex at ./array.jl:752 [inlined]",
      " [4] #blockcpop_mix#125(::Int64, ::Int64, ::Bool, ::Bool, ::Bool, ::Bool, ::Bool, ::Bool, ::Bool, ::typeof(blockcpop_mix), ::Int64, ::Int64, ::Array{Int64,1}, ::Array{Int64,1}, ::Array{SparseMatrixCSC,1}, ::Array{Array{Float64,1},1}, ::Array{Array{UInt16,1},1}, ::Int64, ::Array{Int64,1}, ::Array{Array{UInt16,1},1}, ::Array{UInt16,1}, ::Array{Array{Array{Array{UInt16,1},1},1},1}, ::Array{Array{UInt16,1},1}, ::Array{Array{Array{Int64,1},1},1}) at /home/hoanganh/.julia/packages/TSSOS/fBjfl/src/blockmix.jl:440",
      " [5] (::TSSOS.var\"#kw##blockcpop_mix\")(::NamedTuple{(:nb, :numeq, :TS, :QUIET, :solve, :solution, :extra_sos),Tuple{Int64,Int64,Bool,Bool,Bool,Bool,Bool}}, ::typeof(blockcpop_mix), ::Int64, ::Int64, ::Array{Int64,1}, ::Array{Int64,1}, ::Array{SparseMatrixCSC,1}, ::Array{Array{Float64,1},1}, ::Array{Array{UInt16,1},1}, ::Int64, ::Array{Int64,1}, ::Array{Array{UInt16,1},1}, ::Array{UInt16,1}, ::Array{Array{Array{Array{UInt16,1},1},1},1}, ::Array{Array{UInt16,1},1}, ::Array{Array{Array{Int64,1},1},1}) at ./none:0",
      " [6] #cs_tssos_first#105(::Int64, ::Int64, ::Bool, ::String, ::Bool, ::String, ::Bool, ::Bool, ::Bool, ::Bool, ::Bool, ::typeof(cs_tssos_first), ::Array{Polynomial{true,Float64},1}, ::Array{PolyVar{true},1}, ::Int64) at /home/hoanganh/.julia/packages/TSSOS/fBjfl/src/blockmix.jl:54",
      " [7] (::TSSOS.var\"#kw##cs_tssos_first\")(::NamedTuple{(:numeq, :CS, :CTP, :TS),Tuple{Int64,String,Bool,Bool}}, ::typeof(cs_tssos_first), ::Array{Polynomial{true,Float64},1}, ::Array{PolyVar{true},1}, ::Int64) at ./none:0",
      " [8] top-level scope at util.jl:155",
      " [9] top-level scope at In[9]:2"
     ]
    }
   ],
   "source": [
    "using TSSOS\n",
    "\n",
    "\n",
    "@time opt,sol,data=cs_tssos_first(Vector{SparseMatrixCSC{UInt8,UInt32}}([[supp_f];supp_g;supp_h]),[[coe_f];coe_g;coe_h],n,k,[dg;dh],numeq=l,CS=\"MD\",TS=\"block\",CTP=false);"
   ]
  },
  {
   "cell_type": "code",
   "execution_count": 4,
   "metadata": {},
   "outputs": [
    {
     "name": "stdout",
     "output_type": "stream",
     "text": [
      "------------------------------------------------------\n",
      "The clique sizes of varibles:\n",
      "[3, 2]\n",
      "[2, 1]\n",
      "------------------------------------------------------\n"
     ]
    },
    {
     "name": "stderr",
     "output_type": "stream",
     "text": [
      "WARNING: replacing module ctpPOP.\n"
     ]
    },
    {
     "name": "stdout",
     "output_type": "stream",
     "text": [
      "Modeling time:\n",
      "  2.691657 seconds (3.59 M allocations: 177.932 MiB, 5.35% gc time)\n",
      "**LMBM solver:\n",
      "---------------\n",
      "| Parameters: |\n",
      "---------------\n",
      "n:       129\n",
      "maxtime: 300000.000000\n",
      "na:      2\n",
      "mcu:     5\n",
      "mc:      7\n",
      "rpar: \n",
      "ipar: \n",
      " Warning: MC > MCU. Assigned MC = MCU.\n",
      " Entry to LMBM:\n",
      " NIT=    1  NFE=    1  F= 0.42405367D+01  WK= 0.3265D+00  QK= 0.1633D+00\n",
      " NIT=    2  NFE=    2  F= 0.39592976D+01  WK= 0.3265D+00  QK= 0.1633D+00\n",
      " NIT=    3  NFE=    3  F= 0.37292962D+01  WK= 0.3265D+00  QK= 0.1633D+00\n",
      " NIT=    4  NFE=    4  F= 0.36248257D+01  WK= 0.3265D+00  QK= 0.1633D+00\n",
      " NIT=    5  NFE=    8  F= 0.36245277D+01  WK= 0.3265D+00  QK= 0.1633D+00\n",
      " NIT=    6  NFE=   53  F= 0.36245277D+01  WK= 0.3265D+00  QK= 0.1633D+00\n",
      " NIT=    7  NFE=   98  F= 0.36245277D+01  WK= 0.3265D+00  QK= 0.1633D+00\n",
      " NIT=    8  NFE=  143  F= 0.36245277D+01  WK= 0.3265D+00  QK= 0.1633D+00\n",
      " NIT=    9  NFE=  188  F= 0.36245277D+01  WK= 0.3265D+00  QK= 0.1633D+00\n",
      " NIT=   10  NFE=  233  F= 0.36245277D+01  WK= 0.3265D+00  QK= 0.1633D+00\n",
      " NIT=   11  NFE=  278  F= 0.36245277D+01  WK= 0.3265D+00  QK= 0.1633D+00\n",
      " NIT=   12  NFE=  323  F= 0.36245277D+01  WK= 0.3265D+00  QK= 0.1633D+00\n",
      " NIT=   13  NFE=  368  F= 0.36245277D+01  WK= 0.3265D+00  QK= 0.1633D+00\n",
      " NIT=   14  NFE=  413  F= 0.36245277D+01  WK= 0.3265D+00  QK= 0.1633D+00\n",
      " NIT=   15  NFE=  458  F= 0.36245277D+01  WK= 0.3265D+00  QK= 0.1633D+00\n",
      " NIT=   16  NFE=  503  F= 0.36245277D+01  WK= 0.3265D+00  QK= 0.1633D+00\n",
      " NIT=   17  NFE=  548  F= 0.36245277D+01  WK= 0.3265D+00  QK= 0.1633D+00\n",
      " NIT=   18  NFE=  593  F= 0.36245277D+01  WK= 0.3265D+00  QK= 0.1633D+00\n",
      " NIT=   19  NFE=  638  F= 0.36245277D+01  WK= 0.3265D+00  QK= 0.1633D+00\n",
      " NIT=   20  NFE=  683  F= 0.36245277D+01  WK= 0.3265D+00  QK= 0.1633D+00\n",
      " NIT=   21  NFE=  728  F= 0.36245277D+01  WK= 0.3265D+00  QK= 0.1633D+00\n",
      " NIT=   22  NFE=  773  F= 0.36245277D+01  WK= 0.3265D+00  QK= 0.1633D+00\n",
      " NIT=   23  NFE=  818  F= 0.36245277D+01  WK= 0.3265D+00  QK= 0.1633D+00\n",
      " NIT=   24  NFE=  863  F= 0.36245277D+01  WK= 0.3265D+00  QK= 0.1633D+00\n",
      " NIT=   25  NFE=  908  F= 0.36245277D+01  WK= 0.3265D+00  QK= 0.1633D+00\n",
      " Exit from LMBM:\n",
      " Abnormal exit: Failure in attaining the demanded accuracy.\n",
      " NIT=   26  NFE=  953  F= 0.36245277D+01  WK= 0.3265D+00  QK= 0.1633D+00  ITERM= -4\n",
      "-----------\n",
      "| Output: |\n",
      "-----------\n",
      "Termination:     -4\n",
      "N. iter.:        26\n",
      "N. func. eval.:  953\n",
      "Final value:     3.624528\n",
      "Execution time:  0.896194\n",
      "\n",
      "####################################\n",
      "opt_val = -3.6245277122981907\n",
      "####################################\n",
      "  1.403475 seconds (2.66 M allocations: 129.663 MiB, 4.97% gc time)\n",
      "Total time:\n",
      "  4.095404 seconds (6.25 M allocations: 307.609 MiB, 5.22% gc time)\n"
     ]
    },
    {
     "data": {
      "text/plain": [
       "-3.6245277122981907"
      ]
     },
     "execution_count": 4,
     "metadata": {},
     "output_type": "execute_result"
    }
   ],
   "source": [
    "include(\"../src/ctpPOP.jl\")\n",
    "using .ctpPOP\n",
    "\n",
    "opt_val1=ctpPOP.POP_CS_LMBM(n,m,l,lmon_g,supp_g,coe_g,lmon_h,supp_h,coe_h,lmon_f,supp_f,coe_f,dg,dh,k,EigAlg=\"Arpack\",tol=1e-3,UseEq=false)"
   ]
  },
  {
   "cell_type": "code",
   "execution_count": null,
   "metadata": {},
   "outputs": [],
   "source": []
  }
 ],
 "metadata": {
  "kernelspec": {
   "display_name": "Julia 1.3.0",
   "language": "julia",
   "name": "julia-1.3"
  },
  "language_info": {
   "file_extension": ".jl",
   "mimetype": "application/julia",
   "name": "julia",
   "version": "1.3.0"
  }
 },
 "nbformat": 4,
 "nbformat_minor": 2
}
