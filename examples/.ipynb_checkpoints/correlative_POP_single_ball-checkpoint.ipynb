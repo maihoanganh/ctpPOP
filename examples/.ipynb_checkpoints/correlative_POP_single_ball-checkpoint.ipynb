{
 "cells": [
  {
   "cell_type": "code",
   "execution_count": 1,
   "metadata": {},
   "outputs": [
    {
     "name": "stdout",
     "output_type": "stream",
     "text": [
      "***Problem setting***\n",
      "Number of variable: n=6\n",
      "====================\n",
      "Number of inequality constraints: m=2\n",
      "====================\n",
      "Number of equality constraints: l=0\n",
      "====================\n",
      "Relaxed order: k=2\n"
     ]
    }
   ],
   "source": [
    "using DynamicPolynomials, LinearAlgebra, SparseArrays\n",
    "\n",
    "println(\"***Problem setting***\")\n",
    "\n",
    "n=6\n",
    "\n",
    "println(\"Number of variable: n=\",n)\n",
    "println(\"====================\")\n",
    "\n",
    "@polyvar x[1:n]# variables\n",
    "\n",
    "function generate_random_poly(T::UnitRange{Int64})\n",
    "    v=reverse(monomials(x[T],0:2))\n",
    "    c=2*rand(Float64,length(v)).-1\n",
    "    return c'*v\n",
    "end\n",
    "\n",
    "# unit sphere constraint\n",
    "u=3\n",
    "p=floor(Int64,n/u)\n",
    "\n",
    "I=Vector{UnitRange{Int64}}(undef,p)\n",
    "I[1]=1:u\n",
    "I[2:p-1]=[u*(j-1):u*j for j in 2:p-1]\n",
    "I[p]=u*(p-1):n\n",
    "\n",
    "# random quadratic objective function f\n",
    "vecf=[generate_random_poly(I[j]) for j in 1:p]\n",
    "f=sum(vecf)\n",
    "\n",
    "g=[1.0-sum(x[I[j]].^2) for j in 1:p]\n",
    "J=[j:j for j in 1:p]\n",
    "\n",
    "m=length(g)\n",
    "println(\"Number of inequality constraints: m=\",m)\n",
    "println(\"====================\")\n",
    "\n",
    "l=0#ceil(Int64, n/7)\n",
    "\n",
    "r=floor(Int64,l/p)\n",
    "W=[(j-1)*r+1:j*r for j in 1:p-1]\n",
    "append!(W,[(p-1)*r+1:l])\n",
    "\n",
    "h=Vector{Polynomial{true,Float64}}(undef,l)\n",
    "\n",
    "#=randx=[2*rand(length(I[j])).-1 for j in 1:p]# create a feasible solution\n",
    "randx=[randx[j]/norm(randx[j]) for j in 1:p]=#\n",
    "\n",
    "randx=2*rand(Float64,n).-1\n",
    "\n",
    "for j in 1:p\n",
    "    randx[I[j]]=randx[I[j]]./norm(randx[I[j]])\n",
    "    randx[I[j]]=rand(Float64,1)[1]*randx[I[j]]\n",
    "end\n",
    "\n",
    "for j in 1:p\n",
    "    for i in W[j]\n",
    "        h[i]=generate_random_poly(I[j])\n",
    "        h[i]-=h[i](x => randx) #make constraints feasible\n",
    "    end\n",
    "end\n",
    "\n",
    "l=length(h)\n",
    "println(\"Number of equality constraints: l=\",l)\n",
    "println(\"====================\")\n",
    "\n",
    "k=2\n",
    "\n",
    "println(\"Relaxed order: k=\",k)"
   ]
  },
  {
   "cell_type": "code",
   "execution_count": 2,
   "metadata": {},
   "outputs": [
    {
     "name": "stderr",
     "output_type": "stream",
     "text": [
      "WARNING: Compat.Printf is deprecated, use Printf instead.\n",
      "  likely near /home/hoanganh/Desktop/math-topics/ctpPOP/codes/ctpPOP/solvers/ProximalBundleMethod/ProximalMethod.jl:391\n"
     ]
    }
   ],
   "source": [
    "include(\"../src/ctpPOP.jl\")\n",
    "using .ctpPOP\n",
    "\n",
    "n,m,l,lmon_g,supp_g,coe_g,lmon_h,supp_h,coe_h,lmon_f,supp_f,coe_f,dg,dh=ctpPOP.get_info(x,f,g,h,sparse=true);"
   ]
  },
  {
   "cell_type": "code",
   "execution_count": 3,
   "metadata": {},
   "outputs": [
    {
     "name": "stdout",
     "output_type": "stream",
     "text": [
      "------------------------------------------------------\n"
     ]
    },
    {
     "name": "stderr",
     "output_type": "stream",
     "text": [
      "WARNING: replacing module ctpPOP.\n",
      "WARNING: Compat.Printf is deprecated, use Printf instead.\n",
      "  likely near /home/hoanganh/Desktop/math-topics/ctpPOP/codes/ctpPOP/solvers/ProximalBundleMethod/ProximalMethod.jl:391\n"
     ]
    },
    {
     "name": "stdout",
     "output_type": "stream",
     "text": [
      "The clique sizes of varibles:\n",
      "[4, 3]\n",
      "[1, 1]\n",
      "------------------------------------------------------\n",
      "  Number of cliques: p=2\n",
      "  Largest clique size: u=4\n"
     ]
    },
    {
     "name": "stderr",
     "output_type": "stream",
     "text": [
      "┌ Warning: `with_optimizer` is deprecated. Adapt the following example to update your code:\n",
      "│ `with_optimizer(Ipopt.Optimizer, max_cpu_time=60.0)` becomes `optimizer_with_attributes(Ipopt.Optimizer, \"max_cpu_time\" => 60.0)`.\n",
      "│   caller = ip:0x0\n",
      "└ @ Core :-1\n"
     ]
    },
    {
     "name": "stdout",
     "output_type": "stream",
     "text": [
      "  Largest constant trace: a=3.0\n",
      "  Number of blocks: omega=4\n",
      "  Number of equality consraints: zeta=101\n",
      "  Size of the largest block: s^max=15\n",
      "Modeling time:\n",
      " 48.339280 seconds (55.23 M allocations: 2.713 GiB, 3.80% gc time)\n",
      "iter=1.0   val=-6.637975804116737   gap=0.28183686383134177   feas=4.160739326896631\n",
      "iter=2.0   val=-2.6906004252807243   gap=4.930969938391369   feas=0.6982753022700904\n",
      "iter=4.0   val=-3.349676768229228   gap=2.0903957792673036   feas=0.8966017881108206\n",
      "iter=8.0   val=-2.7600903681077167   gap=1.0311242538585668   feas=0.49275591438962363\n",
      "iter=16.0   val=-2.9708149891440367   gap=0.14899830176361695   feas=0.2257700653468454\n",
      "iter=32.0   val=-3.0409056176687925   gap=0.01843804353257994   feas=0.07858196914592779\n",
      "iter=64.0   val=-3.039329214494513   gap=0.05861708477055938   feas=0.03845772407267719\n",
      "iter=128.0   val=-3.0542314587453125   gap=0.006583384047501806   feas=0.009905369385181254\n",
      "iter=256.0   val=-3.060758052515756   gap=0.001479774747663587   feas=0.0024843016605399335\n",
      "iter=421.0   val=-3.061737831959706   gap=0.0009986297203448125   feas=0.0009563446366267624\n",
      "tol satisfies!!!\n",
      "\n",
      "####################################\n",
      "opt_val = -3.061737831959706\n",
      "####################################\n",
      "Solving time:\n",
      "  1.889670 seconds (1.77 M allocations: 101.485 MiB, 5.46% gc time)\n",
      "Total time:\n",
      " 50.306323 seconds (57.04 M allocations: 2.814 GiB, 3.85% gc time)\n"
     ]
    },
    {
     "data": {
      "text/plain": [
       "-3.061737831959706"
      ]
     },
     "execution_count": 3,
     "metadata": {},
     "output_type": "execute_result"
    }
   ],
   "source": [
    "include(\"../src/ctpPOP.jl\")\n",
    "using .ctpPOP\n",
    "\n",
    "opt_val1=ctpPOP.POP_CS_CGAL(n,m,l,lmon_g,supp_g,coe_g,lmon_h,supp_h,coe_h,lmon_f,supp_f,coe_f,dg,dh,k;EigAlg=\"Arpack\",maxit=1e10,tol=1e-3,UseEq=false)"
   ]
  },
  {
   "cell_type": "code",
   "execution_count": 4,
   "metadata": {},
   "outputs": [
    {
     "name": "stdout",
     "output_type": "stream",
     "text": [
      "------------------------------------------------------\n",
      "The clique sizes of varibles:\n",
      "[4, 3]\n",
      "[1, 1]\n",
      "------------------------------------------------------\n"
     ]
    },
    {
     "name": "stderr",
     "output_type": "stream",
     "text": [
      "WARNING: replacing module ctpPOP.\n",
      "WARNING: Compat.Printf is deprecated, use Printf instead.\n",
      "  likely near /home/hoanganh/Desktop/math-topics/ctpPOP/codes/ctpPOP/solvers/ProximalBundleMethod/ProximalMethod.jl:391\n"
     ]
    },
    {
     "name": "stdout",
     "output_type": "stream",
     "text": [
      "Modeling time:\n",
      "  4.982040 seconds (3.62 M allocations: 179.469 MiB, 2.88% gc time)\n",
      "**LMBM solver:\n",
      "---------------\n",
      "| Parameters: |\n",
      "---------------\n",
      "n:       101\n",
      "maxtime: 300000.000000\n",
      "na:      2\n",
      "mcu:     5\n",
      "mc:      7\n",
      "rpar: \n",
      "ipar: \n",
      " Warning: MC > MCU. Assigned MC = MCU.\n",
      " Entry to LMBM:\n",
      " NIT=    1  NFE=    1  F= 0.67707144D+01  WK= 0.1111D+00  QK= 0.5556D-01\n",
      " NIT=    2  NFE=    2  F= 0.66833394D+01  WK= 0.1111D+00  QK= 0.5556D-01\n",
      " NIT=    3  NFE=    3  F= 0.66059645D+01  WK= 0.1111D+00  QK= 0.5556D-01\n",
      " NIT=    4  NFE=    4  F= 0.65446643D+01  WK= 0.1111D+00  QK= 0.5556D-01\n",
      " NIT=    5  NFE=    5  F= 0.65088739D+01  WK= 0.1111D+00  QK= 0.5556D-01\n",
      " NIT=    6  NFE=    7  F= 0.65041813D+01  WK= 0.1111D+00  QK= 0.5556D-01\n",
      " Exit from LMBM:\n",
      " Abnormal exit: The value of the function does not change.\n",
      " NIT=    6  NFE=   50  F= 0.65041813D+01  WK= 0.1111D+00  QK= 0.5556D-01  ITERM=  3\n",
      "-----------\n",
      "| Output: |\n",
      "-----------\n",
      "Termination:     3\n",
      "N. iter.:        6\n",
      "N. func. eval.:  50\n",
      "Final value:     6.504181\n",
      "Execution time:  0.472702\n",
      "\n",
      "####################################\n",
      "opt_val = -6.50418131002838\n",
      "####################################\n",
      "  1.437038 seconds (1.01 M allocations: 52.940 MiB, 9.89% gc time)\n",
      "Total time:\n",
      "  6.419504 seconds (4.63 M allocations: 232.422 MiB, 4.45% gc time)\n"
     ]
    },
    {
     "data": {
      "text/plain": [
       "-6.50418131002838"
      ]
     },
     "execution_count": 4,
     "metadata": {},
     "output_type": "execute_result"
    }
   ],
   "source": [
    "include(\"../src/ctpPOP.jl\")\n",
    "using .ctpPOP\n",
    "\n",
    "opt_val1=ctpPOP.POP_CS_LMBM(n,m,l,lmon_g,supp_g,coe_g,lmon_h,supp_h,coe_h,lmon_f,supp_f,coe_f,dg,dh,k;EigAlg=\"Arpack\",tol=1e-3,UseEq=false)"
   ]
  },
  {
   "cell_type": "code",
   "execution_count": 5,
   "metadata": {},
   "outputs": [
    {
     "data": {
      "text/plain": [
       "11769"
      ]
     },
     "execution_count": 5,
     "metadata": {},
     "output_type": "execute_result"
    }
   ],
   "source": [
    "3923*3"
   ]
  },
  {
   "cell_type": "code",
   "execution_count": 6,
   "metadata": {
    "scrolled": true
   },
   "outputs": [
    {
     "name": "stdout",
     "output_type": "stream",
     "text": [
      "------------------------------------------------------\n",
      "The clique sizes of varibles:\n",
      "[4, 3]\n",
      "[1, 1]\n",
      "------------------------------------------------------\n",
      "Problem\n",
      "  Name                   :                 \n",
      "  Objective sense        : max             \n",
      "  Type                   : CONIC (conic optimization problem)\n",
      "  Constraints            : 100             \n",
      "  Cones                  : 0               \n",
      "  Scalar variables       : 1               \n",
      "  Matrix variables       : 6               \n",
      "  Integer variables      : 0               \n",
      "\n",
      "Optimizer started.\n",
      "Presolve started.\n",
      "Linear dependency checker started.\n",
      "Linear dependency checker terminated.\n",
      "Eliminator started.\n",
      "Freed constraints in eliminator : 0\n",
      "Eliminator terminated.\n",
      "Eliminator - tries                  : 1                 time                   : 0.00            \n",
      "Lin. dep.  - tries                  : 1                 time                   : 0.00            \n",
      "Lin. dep.  - number                 : 0               \n",
      "Presolve terminated. Time: 0.00    \n",
      "Problem\n",
      "  Name                   :                 \n",
      "  Objective sense        : max             \n",
      "  Type                   : CONIC (conic optimization problem)\n",
      "  Constraints            : 100             \n",
      "  Cones                  : 0               \n",
      "  Scalar variables       : 1               \n",
      "  Matrix variables       : 6               \n",
      "  Integer variables      : 0               \n",
      "\n",
      "Optimizer  - threads                : 4               \n",
      "Optimizer  - solved problem         : the primal      \n",
      "Optimizer  - Constraints            : 100\n",
      "Optimizer  - Cones                  : 1\n",
      "Optimizer  - Scalar variables       : 2                 conic                  : 2               \n",
      "Optimizer  - Semi-definite variables: 6                 scalarized             : 225             \n",
      "Factor     - setup time             : 0.00              dense det. time        : 0.00            \n",
      "Factor     - ML order time          : 0.00              GP order time          : 0.00            \n",
      "Factor     - nonzeros before factor : 3100              after factor           : 3100            \n",
      "Factor     - dense dim.             : 0                 flops                  : 1.96e+05        \n",
      "ITE PFEAS    DFEAS    GFEAS    PRSTATUS   POBJ              DOBJ              MU       TIME  \n",
      "0   6.0e+00  1.0e+00  1.0e+00  0.00e+00   0.000000000e+00   0.000000000e+00   1.0e+00  0.00  \n",
      "1   3.3e+00  5.4e-01  4.3e-01  7.72e-02   -1.024019730e+00  -1.024031270e+00  5.4e-01  0.01  \n",
      "2   1.1e+00  1.8e-01  6.3e-02  1.67e+00   -2.189273284e+00  -2.170694817e+00  1.8e-01  0.01  \n",
      "3   2.5e-01  4.1e-02  6.5e-03  9.66e-01   -2.822355593e+00  -2.814685908e+00  4.1e-02  0.01  \n",
      "4   5.0e-02  8.3e-03  6.1e-04  1.02e+00   -3.003247421e+00  -3.002087492e+00  8.3e-03  0.01  \n",
      "5   1.3e-03  2.2e-04  2.7e-06  1.00e+00   -3.061633515e+00  -3.061609505e+00  2.2e-04  0.01  \n",
      "6   3.2e-05  5.2e-06  1.0e-08  1.00e+00   -3.062917077e+00  -3.062916510e+00  5.2e-06  0.01  \n",
      "7   1.8e-06  3.0e-07  1.4e-10  1.00e+00   -3.062940893e+00  -3.062940861e+00  3.0e-07  0.02  \n",
      "8   1.1e-07  1.9e-08  2.2e-12  1.00e+00   -3.062942162e+00  -3.062942160e+00  1.9e-08  0.02  \n",
      "9   1.7e-08  2.9e-09  1.3e-13  1.00e+00   -3.062942254e+00  -3.062942254e+00  2.8e-09  0.02  \n",
      "Optimizer terminated. Time: 0.02    \n",
      "\n",
      "optimum = -3.0629422539165216\n",
      " 30.002413 seconds (31.49 M allocations: 1.507 GiB, 3.64% gc time)\n"
     ]
    }
   ],
   "source": [
    "using TSSOS\n",
    "\n",
    "\n",
    "@time opt,sol,data=cs_tssos_first(Vector{SparseMatrixCSC{UInt8,UInt32}}([[supp_f];supp_g;supp_h]),[[coe_f];coe_g;coe_h],n,k,[dg;dh],numeq=l,CS=\"MD\",TS=\"block\",CTP=false);"
   ]
  },
  {
   "cell_type": "code",
   "execution_count": null,
   "metadata": {},
   "outputs": [],
   "source": []
  },
  {
   "cell_type": "code",
   "execution_count": null,
   "metadata": {},
   "outputs": [],
   "source": []
  }
 ],
 "metadata": {
  "kernelspec": {
   "display_name": "Julia 1.3.0",
   "language": "julia",
   "name": "julia-1.3"
  },
  "language_info": {
   "file_extension": ".jl",
   "mimetype": "application/julia",
   "name": "julia",
   "version": "1.3.0"
  }
 },
 "nbformat": 4,
 "nbformat_minor": 2
}
