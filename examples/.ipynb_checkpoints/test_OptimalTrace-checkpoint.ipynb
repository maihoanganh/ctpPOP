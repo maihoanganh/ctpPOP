{
 "cells": [
  {
   "cell_type": "code",
   "execution_count": 93,
   "metadata": {},
   "outputs": [
    {
     "name": "stdout",
     "output_type": "stream",
     "text": [
      "***Problem setting***\n",
      "Number of variable: n=5\n",
      "====================\n",
      "Number of inequality constraints: l_g=6\n",
      "====================\n",
      "Relaxed order: k=2\n"
     ]
    }
   ],
   "source": [
    "using DynamicPolynomials\n",
    "\n",
    "println(\"***Problem setting***\")\n",
    "\n",
    "n=5\n",
    "\n",
    "println(\"Number of variable: n=\",n)\n",
    "println(\"====================\")\n",
    "\n",
    "@polyvar x[1:n]# variables\n",
    "\n",
    "function generate_random_poly(v)\n",
    "    c=2*rand(Float64,length(v)).-1\n",
    "    return c'*v\n",
    "end\n",
    "# random quadratic objective function f\n",
    "v=reverse(monomials(x,0:2))\n",
    "f=generate_random_poly(v)\n",
    "\n",
    "\n",
    "# unit sphere constraint\n",
    "g=[1.0-x[i]^2 for i in 1:n] #type of coefficients of each polynomial must be float\n",
    "g=[g;n-sum(x.^2)]\n",
    "\n",
    "l_g=length(g)\n",
    "println(\"Number of inequality constraints: l_g=\",l_g)\n",
    "println(\"====================\")\n",
    "\n",
    "h=Vector{Polynomial{true,Float64}}([])\n",
    "\n",
    "k=2\n",
    "\n",
    "println(\"Relaxed order: k=\",k)"
   ]
  },
  {
   "cell_type": "code",
   "execution_count": 99,
   "metadata": {
    "scrolled": true
   },
   "outputs": [
    {
     "name": "stdout",
     "output_type": "stream",
     "text": [
      "  Number of blocks: numBloc=7\n",
      "  Size of block-diagonal matrix: s=57\n",
      "  Size of blocks: [21, 6, 6, 6, 6, 6, 6]\n",
      "  Number of equality trace constraints: m=232\n",
      "  0.006686 seconds (11.64 k allocations: 1.282 MiB)\n"
     ]
    },
    {
     "name": "stderr",
     "output_type": "stream",
     "text": [
      "WARNING: replacing module SpectralPOP.\n"
     ]
    },
    {
     "name": "stdout",
     "output_type": "stream",
     "text": [
      "t=21.2\n",
      "eigval=0.08843680651190712\n",
      "####################################\n",
      "opt_val = -6.068606236600287\n",
      "####################################\n",
      "Dimension of the null space of Gram matrix = 1\n",
      "------------------------------------\n",
      "atom 1 = [-0.9984553424712016, -0.9993921193725737, 0.9977296502813588, 0.9981377985908578, -0.9984541524441043]\n",
      "  check gap of lower bound  = 0.03344878949810948\n",
      "  check inequality constraint 1 = 0.0030869290907155067\n",
      "  check inequality constraint 2 = 0.0012153917359954969\n",
      "  check inequality constraint 3 = 0.00453554494943742\n",
      "  check inequality constraint 4 = 0.003720935024196126\n",
      "  check inequality constraint 5 = 0.0030893054671253806\n",
      "  check inequality constraint 6 = 0.01564810626747004\n",
      "####################################\n",
      "Optimal solution: opt_sol = [-0.9984553424712016, -0.9993921193725737, 0.9977296502813588, 0.9981377985908578, -0.9984541524441043]\n",
      "####################################\n",
      "  3.684665 seconds (7.15 M allocations: 422.709 MiB, 3.11% gc time)\n"
     ]
    },
    {
     "data": {
      "text/plain": [
       "(-6.068606236600287, [-0.9984553424712016, -0.9993921193725737, 0.9977296502813588, 0.9981377985908578, -0.9984541524441043])"
      ]
     },
     "execution_count": 99,
     "metadata": {},
     "output_type": "execute_result"
    }
   ],
   "source": [
    "include(\"../src/SpectralPOP.jl\")\n",
    "using .SpectralPOP\n",
    "\n",
    "opt_val,opt_sol=SpectralPOP.OptimalTrace_BTP_POP(x,f,g,h,k;EigAlg=\"Arpack\",tol=1e-3)"
   ]
  },
  {
   "cell_type": "code",
   "execution_count": null,
   "metadata": {},
   "outputs": [],
   "source": []
  },
  {
   "cell_type": "code",
   "execution_count": 100,
   "metadata": {},
   "outputs": [
    {
     "name": "stdout",
     "output_type": "stream",
     "text": [
      "**SumOfSquares+Mosek:\n",
      "OPTIMAL\n",
      "opt_val=-6.050904863008845\n",
      "Atomic measure on the variables x[1], x[2], x[3], x[4], x[5] with 1 atoms:\n",
      " at [-0.9999999996478246, -0.9999999997642375, 0.9999999996598031, 0.9999999992125124, -0.9999998902098051] with weight 0.9999999999046001\n",
      "  0.074228 seconds (244.81 k allocations: 20.841 MiB)\n"
     ]
    },
    {
     "name": "stderr",
     "output_type": "stream",
     "text": [
      "WARNING: replacing module SpectralPOP.\n"
     ]
    },
    {
     "data": {
      "text/plain": [
       "(-6.050904863008845, [-0.9999999996478246, -0.9999999997642375, 0.9999999996598031, 0.9999999992125124, -0.9999998902098051])"
      ]
     },
     "execution_count": 100,
     "metadata": {},
     "output_type": "execute_result"
    }
   ],
   "source": [
    "include(\"../src/SpectralPOP.jl\")\n",
    "using .SpectralPOP\n",
    "\n",
    "opt_val=SpectralPOP.SumofSquares_POP_WithExtraction(x,f,g,h,k)"
   ]
  },
  {
   "cell_type": "code",
   "execution_count": null,
   "metadata": {},
   "outputs": [],
   "source": []
  },
  {
   "cell_type": "code",
   "execution_count": 133,
   "metadata": {
    "scrolled": true
   },
   "outputs": [
    {
     "name": "stdout",
     "output_type": "stream",
     "text": [
      "  Largest upper bound of psd matrix: bound_ak=72.0\n",
      "  Number of blocks: numBloc=4\n",
      "  Size of block-diagonal matrix: s=13\n",
      "  Size of blocks: [6, 3, 3, 1]\n",
      "  Number of equality trace constraints: m=19\n",
      "  0.071018 seconds (84.94 k allocations: 4.320 MiB)\n",
      "***LMBM solver:***\n"
     ]
    },
    {
     "name": "stderr",
     "output_type": "stream",
     "text": [
      "WARNING: replacing module SpectralPOP.\n"
     ]
    },
    {
     "name": "stdout",
     "output_type": "stream",
     "text": [
      "---------------\n",
      "| Parameters: |\n",
      "---------------\n",
      "n:       19\n",
      "maxtime: 300000.000000\n",
      "na:      2\n",
      "mcu:     5\n",
      "mc:      7\n",
      "rpar: \n",
      "ipar: \n",
      "-----------\n",
      "| Output: |\n",
      "-----------\n",
      "Termination:     3\n",
      "N. iter.:        714\n",
      "N. func. eval.:  3439\n",
      "Final value:     1.848020\n",
      "Execution time:  0.757324\n",
      "####################################\n",
      "opt_val = -1.8480196743453352\n",
      "####################################\n",
      "Dimension of the null space of Gram matrix = 1\n",
      "------------------------------------\n",
      "atom 1 = [-0.05669136477680175, -1.0004432921582085]\n",
      "  check gap of lower bound  = 0.004240076451197394\n",
      "  check inequality constraint 1 = 0.9967860891597436\n",
      "  check inequality constraint 2 = -0.0008867808243544495\n",
      "####################################\n",
      "Optimal solution: opt_sol = [-0.05669136477680175, -1.0004432921582085]\n",
      "####################################\n",
      "  0.981289 seconds (1.51 M allocations: 100.265 MiB, 3.79% gc time)\n"
     ]
    },
    {
     "data": {
      "text/plain": [
       "(-1.8480196743453352, [-0.05669136477680175, -1.0004432921582085])"
      ]
     },
     "execution_count": 133,
     "metadata": {},
     "output_type": "execute_result"
    }
   ],
   "source": [
    "include(\"../src/SpectralPOP.jl\")\n",
    "using .SpectralPOP\n",
    "\n",
    "R=Float64(n)\n",
    "opt_val,opt_sol=SpectralPOP.BTP_POP(x,f,g,h,k,R;ak=0.0,EigAlg=\"Mix\",tol=1e-5)"
   ]
  },
  {
   "cell_type": "code",
   "execution_count": null,
   "metadata": {},
   "outputs": [],
   "source": []
  }
 ],
 "metadata": {
  "kernelspec": {
   "display_name": "Julia 1.3.0",
   "language": "julia",
   "name": "julia-1.3"
  },
  "language_info": {
   "file_extension": ".jl",
   "mimetype": "application/julia",
   "name": "julia",
   "version": "1.3.0"
  }
 },
 "nbformat": 4,
 "nbformat_minor": 2
}
