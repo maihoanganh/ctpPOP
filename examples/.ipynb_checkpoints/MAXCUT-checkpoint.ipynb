{
 "cells": [
  {
   "cell_type": "code",
   "execution_count": 12,
   "metadata": {},
   "outputs": [
    {
     "name": "stdout",
     "output_type": "stream",
     "text": [
      "Size of weight matrix: n=800\n"
     ]
    }
   ],
   "source": [
    "using MAT\n",
    "using LinearAlgebra\n",
    "using SparseArrays\n",
    "\n",
    "\n",
    "\n",
    "#call weight matrix from GSET\n",
    "file = matopen(\"./GSET/g1.mat\")\n",
    "Problem=read(file, \"A\") \n",
    "close(file)\n",
    "\n",
    "\n",
    "n = size(Problem,1)\n",
    "C = sparse(diagm(Problem*ones(n))) - Problem\n",
    "\n",
    "println(\"Size of weight matrix: n=\",n)\n",
    "\n",
    "\n"
   ]
  },
  {
   "cell_type": "code",
   "execution_count": 13,
   "metadata": {},
   "outputs": [
    {
     "data": {
      "text/plain": [
       "2"
      ]
     },
     "execution_count": 13,
     "metadata": {},
     "output_type": "execute_result"
    }
   ],
   "source": [
    "using DynamicPolynomials, SparseArrays\n",
    "\n",
    "#=n=2\n",
    "C=2*sprand(n,n,1e-3).-1\n",
    "C=.5*(C+C')=#\n",
    "\n",
    "@polyvar x[1:n]# variables\n",
    "\n",
    "\n",
    "f=x'*C*x\n",
    "\n",
    "g=Vector{Polynomial{true,Float64}}([])\n",
    "\n",
    "h=(x.^2).-1.0\n",
    "\n",
    "k=2\n",
    "\n",
    "t=2"
   ]
  },
  {
   "cell_type": "code",
   "execution_count": 18,
   "metadata": {},
   "outputs": [
    {
     "name": "stderr",
     "output_type": "stream",
     "text": [
      "WARNING: replacing module SpectralPOP.\n"
     ]
    },
    {
     "ename": "OutOfMemoryError",
     "evalue": "OutOfMemoryError()",
     "output_type": "error",
     "traceback": [
      "OutOfMemoryError()",
      "",
      "Stacktrace:",
      " [1] Array at ./boot.jl:406 [inlined]",
      " [2] Array at ./boot.jl:414 [inlined]",
      " [3] zeros at ./array.jl:461 [inlined]",
      " [4] zeros at ./array.jl:457 [inlined]",
      " [5] get_basis(::Int64, ::Int64) at /home/hoanganh/Desktop/math-topics/SparseSpectralPOP/codes/SparseSpectralPOP/src/basicfuncs.jl:24",
      " [6] get_constant_trace_CGAL(::Array{PolyVar{true},1}, ::Array{Polynomial{true,Float64},1}, ::Array{Polynomial{true,Float64},1}, ::Int64) at /home/hoanganh/Desktop/math-topics/SparseSpectralPOP/codes/SparseSpectralPOP/src/pop/pop_CGAL.jl:6",
      " [7] model_POP_CGAL(::Array{PolyVar{true},1}, ::Polynomial{true,Float64}, ::Array{Polynomial{true,Float64},1}, ::Array{Polynomial{true,Float64},1}, ::Int64) at /home/hoanganh/Desktop/math-topics/SparseSpectralPOP/codes/SparseSpectralPOP/src/pop/pop_CGAL.jl:119",
      " [8] #POP_CGAL#563(::String, ::Float64, ::Float64, ::typeof(Main.SpectralPOP.POP_CGAL), ::Array{PolyVar{true},1}, ::Polynomial{true,Float64}, ::Array{Polynomial{true,Float64},1}, ::Array{Polynomial{true,Float64},1}, ::Int64) at ./util.jl:155",
      " [9] (::Main.SpectralPOP.var\"#kw##POP_CGAL\")(::NamedTuple{(:EigAlg, :maxit, :tol),Tuple{String,Float64,Float64}}, ::typeof(Main.SpectralPOP.POP_CGAL), ::Array{PolyVar{true},1}, ::Polynomial{true,Float64}, ::Array{Polynomial{true,Float64},1}, ::Array{Polynomial{true,Float64},1}, ::Int64) at ./none:0",
      " [10] top-level scope at In[18]:5"
     ]
    }
   ],
   "source": [
    "include(\"../src/SpectralPOP.jl\")\n",
    "using .SpectralPOP\n",
    "\n",
    "K=Inf\n",
    "\n",
    "opt_val=SpectralPOP.POP_mix(x,f,g,h,k,t,K;EigAlg=\"Arpack\",maxit=1e5,tol=1e-4)"
   ]
  },
  {
   "cell_type": "code",
   "execution_count": null,
   "metadata": {},
   "outputs": [],
   "source": []
  },
  {
   "cell_type": "code",
   "execution_count": 21,
   "metadata": {},
   "outputs": [
    {
     "name": "stdout",
     "output_type": "stream",
     "text": [
      "  Number of blocks: omega=1\n",
      "  Size of the largest block: s^max=801\n",
      "  Number of equality trace constraints: zeta=801\n",
      "Modeling time:"
     ]
    },
    {
     "name": "stderr",
     "output_type": "stream",
     "text": [
      "WARNING: replacing module SpectralPOP.\n"
     ]
    },
    {
     "name": "stdout",
     "output_type": "stream",
     "text": [
      "\n",
      " 56.827311 seconds (16.11 M allocations: 84.162 GiB, 16.27% gc time)\n",
      "iter=0.0   val=2.7284841053187847e-12   feas=3612.2774199276073  norm_mu=800.0\n",
      "iter=100.0   val=-7.105427357601002e-14   feas=22453.181032236138  norm_mu=800.0\n",
      "iter=200.0   val=2.2026824808563106e-13   feas=22546.916873039587  norm_mu=800.0\n",
      "iter=300.0   val=1.4210854715202004e-14   feas=22578.36976314378  norm_mu=800.0\n"
     ]
    },
    {
     "ename": "InterruptException",
     "evalue": "InterruptException:",
     "output_type": "error",
     "traceback": [
      "InterruptException:",
      "",
      "Stacktrace:",
      " [1] #update#322(::String, ::typeof(Main.SpectralPOP.update), ::Array{Float64,1}, ::Array{Float64,1}, ::Array{Float64,1}, ::Float64, ::Float64, ::Float64, ::Float64, ::SparseMatrixCSC{Float64,Int64}, ::Array{Float64,1}, ::Array{Array{Int64,1},1}, ::Array{Int64,1}, ::Int64, ::Array{Int64,1}, ::Int64, ::Int64) at /home/hoanganh/Desktop/math-topics/SparseSpectralPOP/codes/SparseSpectralPOP/src/pop_Saddle_Point_method.jl:326",
      " [2] #update at ./none:0 [inlined]",
      " [3] #solve_POP_Saddle_Point_method#327(::String, ::Float64, ::typeof(Main.SpectralPOP.solve_POP_Saddle_Point_method), ::Int64, ::Array{Float64,1}, ::SparseMatrixCSC{Float64,Int64}, ::Array{Array{Int64,1},1}, ::Array{Int64,1}, ::Int64, ::Array{Int64,1}, ::Int64, ::Int64) at /home/hoanganh/Desktop/math-topics/SparseSpectralPOP/codes/SparseSpectralPOP/src/pop_Saddle_Point_method.jl:348",
      " [4] #solve_POP_Saddle_Point_method at ./none:0 [inlined]",
      " [5] macro expansion at ./util.jl:155 [inlined]",
      " [6] macro expansion at /home/hoanganh/Desktop/math-topics/SparseSpectralPOP/codes/SparseSpectralPOP/src/pop_Saddle_Point_method.jl:383 [inlined]",
      " [7] macro expansion at ./util.jl:155 [inlined]",
      " [8] #POP_Saddle_Point_method#328(::String, ::Float64, ::typeof(Main.SpectralPOP.POP_Saddle_Point_method), ::Array{PolyVar{true},1}, ::Polynomial{true,Float64}, ::Array{Polynomial{true,Float64},1}, ::Array{Polynomial{true,Float64},1}, ::Int64) at /home/hoanganh/Desktop/math-topics/SparseSpectralPOP/codes/SparseSpectralPOP/src/pop_Saddle_Point_method.jl:376",
      " [9] (::Main.SpectralPOP.var\"#kw##POP_Saddle_Point_method\")(::NamedTuple{(:EigAlg, :maxit),Tuple{String,Float64}}, ::typeof(Main.SpectralPOP.POP_Saddle_Point_method), ::Array{PolyVar{true},1}, ::Polynomial{true,Float64}, ::Array{Polynomial{true,Float64},1}, ::Array{Polynomial{true,Float64},1}, ::Int64) at ./none:0",
      " [10] top-level scope at In[21]:3"
     ]
    }
   ],
   "source": [
    "include(\"../src/SpectralPOP.jl\")\n",
    "using .SpectralPOP\n",
    "\n",
    "opt_val,opt_sol=SpectralPOP.POP_Saddle_Point_method(x,f,g,h,k;EigAlg=\"Arpack\",maxit=1e5)"
   ]
  },
  {
   "cell_type": "code",
   "execution_count": null,
   "metadata": {},
   "outputs": [],
   "source": [
    "include(\"../src/SpectralPOP.jl\")\n",
    "using .SpectralPOP\n",
    "\n",
    "opt_val=SpectralPOP.SDP_MAXCUT(C,EigAlg=\"Normal\",tol=1e-3) "
   ]
  }
 ],
 "metadata": {
  "kernelspec": {
   "display_name": "Julia 1.3.0",
   "language": "julia",
   "name": "julia-1.3"
  },
  "language_info": {
   "file_extension": ".jl",
   "mimetype": "application/julia",
   "name": "julia",
   "version": "1.3.0"
  }
 },
 "nbformat": 4,
 "nbformat_minor": 2
}
