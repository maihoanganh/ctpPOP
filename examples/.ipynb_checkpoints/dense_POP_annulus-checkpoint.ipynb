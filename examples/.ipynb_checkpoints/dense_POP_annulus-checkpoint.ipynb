{
 "cells": [
  {
   "cell_type": "code",
   "execution_count": 1,
   "metadata": {},
   "outputs": [
    {
     "name": "stdout",
     "output_type": "stream",
     "text": [
      "***Problem setting***\n",
      "Number of variable: n=5\n",
      "====================\n",
      "Number of inequality constraints: m=2\n",
      "====================\n",
      "Number of equality constraints: l=2\n"
     ]
    }
   ],
   "source": [
    "using DynamicPolynomials\n",
    "\n",
    "println(\"***Problem setting***\")\n",
    "\n",
    "n=5\n",
    "println(\"Number of variable: n=\",n)\n",
    "println(\"====================\")\n",
    "\n",
    "@polyvar x[1:n]# variables\n",
    "\n",
    "function generate_random_poly(v)\n",
    "    c=2*rand(Float64,length(v)).-1\n",
    "    return c'*v\n",
    "end\n",
    "# random quadratic objective function f\n",
    "v=reverse(monomials(x,0:2))\n",
    "f=generate_random_poly(v)\n",
    "\n",
    "\n",
    "# unit sphere constraint\n",
    "R_small=0.5\n",
    "R_big=1.0\n",
    "\n",
    "g=[sum(x.^2)-R_small;R_big-sum(x.^2)] #type of coefficients of each polynomial must be float\n",
    "\n",
    "m=length(g)\n",
    "println(\"Number of inequality constraints: m=\",m)\n",
    "println(\"====================\")\n",
    "\n",
    "l=ceil(Int64, n/4)\n",
    "if l==0\n",
    "    h=Vector{Polynomial{true,Float64}}([])\n",
    "else\n",
    "    h=Vector{Polynomial{true,Float64}}(undef,l)\n",
    "end\n",
    "randx=2*rand(n).-1# create a feasible solution\n",
    "randx=(sqrt(R_small)+(sqrt(R_big)-sqrt(R_small))*rand(1)[1])*randx./sqrt(sum(randx.^2))\n",
    "\n",
    "\n",
    "for j in 1:l\n",
    "    h[j]=generate_random_poly(v[2:end])\n",
    "    h[j]-=h[j](x => randx) #make constraints feasible\n",
    "end\n",
    "\n",
    "l=length(h)\n",
    "println(\"Number of equality constraints: l=\",l)"
   ]
  },
  {
   "cell_type": "code",
   "execution_count": 2,
   "metadata": {},
   "outputs": [],
   "source": [
    "using ctpPOP\n",
    "\n",
    "n,m,l,lmon_g,supp_g,coe_g,lmon_h,supp_h,coe_h,lmon_f,supp_f,coe_f,dg,dh=ctpPOP.get_info(x,f,g,h,sparse=false);"
   ]
  },
  {
   "cell_type": "code",
   "execution_count": 3,
   "metadata": {},
   "outputs": [
    {
     "name": "stdout",
     "output_type": "stream",
     "text": [
      "Relaxed order: k=2\n"
     ]
    }
   ],
   "source": [
    "k=2\n",
    "\n",
    "println(\"Relaxed order: k=\",k)"
   ]
  },
  {
   "cell_type": "code",
   "execution_count": 4,
   "metadata": {},
   "outputs": [
    {
     "name": "stderr",
     "output_type": "stream",
     "text": [
      "WARNING: replacing module ctpPOP.\n",
      "┌ Warning: `with_optimizer` is deprecated. Adapt the following example to update your code:\n",
      "│ `with_optimizer(Ipopt.Optimizer, max_cpu_time=60.0)` becomes `optimizer_with_attributes(Ipopt.Optimizer, \"max_cpu_time\" => 60.0)`.\n",
      "│   caller = ip:0x0\n",
      "└ @ Core :-1\n"
     ]
    },
    {
     "name": "stdout",
     "output_type": "stream",
     "text": [
      "  Computing constant trace status: OPTIMAL\n",
      "  Constant trace: ak = 4.0\n",
      "  Number of blocks: omega=3\n",
      "  Size of the largest block: s^max=21\n",
      "  Number of equality trace constraints: zeta=190\n",
      "Modeling time:\n",
      " 14.302377 seconds (49.64 M allocations: 2.438 GiB, 6.39% gc time)\n",
      "iter=1   val=-5.311931762540607   gap=0.029987420314813423   feas=4.048196296007703\n",
      "iter=2   val=-3.294156664734263   gap=0.27685578826332524   feas=1.338667669123394\n",
      "iter=4   val=-3.5339893617167455   gap=0.23918010682159968   feas=1.188194611595698\n",
      "iter=8   val=-3.3282170873774404   gap=0.12549407721526873   feas=0.7191552637100846\n",
      "iter=16   val=-2.784402467077564   gap=0.12315051894827275   feas=0.3646915351895367\n",
      "iter=32   val=-2.4972034727717354   gap=0.01702180640351982   feas=0.1315489390373149\n",
      "iter=64   val=-2.435948728388172   gap=0.006479858419024206   feas=0.04291264651025209\n",
      "iter=128   val=-2.4137471876342924   gap=0.0017473133893596907   feas=0.015392991854676085\n",
      "iter=256   val=-2.402931209538004   gap=0.0006631306632776456   feas=0.006426075908253045\n",
      "iter=512   val=-2.4003602025138426   gap=0.0006884588120034457   feas=0.0028134238271818332\n",
      "iter=1024   val=-2.3988500773201116   gap=0.0007033139114047486   feas=0.0013799228013937977\n",
      "iter=1416   val=-2.3983446606051686   gap=0.0006781837785088757   feas=0.0009948876046091935\n",
      "tol satisfies!!!\n",
      "\n",
      "####################################\n",
      "opt_val = -2.3983446606051686\n",
      "####################################\n",
      "Solving time:\n",
      "  0.673472 seconds (1.64 M allocations: 119.468 MiB, 4.41% gc time)\n",
      "Total time:\n",
      " 15.001490 seconds (51.32 M allocations: 2.557 GiB, 6.29% gc time)\n"
     ]
    },
    {
     "data": {
      "text/plain": [
       "-2.3983446606051686"
      ]
     },
     "execution_count": 4,
     "metadata": {},
     "output_type": "execute_result"
    }
   ],
   "source": [
    "using ctpPOP\n",
    "\n",
    "opt_val1=ctpPOP.POP_dense_CGAL(n,m,l,lmon_g,supp_g,coe_g,lmon_h,supp_h,coe_h,lmon_f,supp_f,coe_f,dg,dh,k,\n",
    "                         maxit=Int64(1e6),tol=1e-3,\n",
    "                         use_eqcons_to_get_constant_trace=false,\n",
    "                         check_tol_each_iter=true)"
   ]
  },
  {
   "cell_type": "code",
   "execution_count": 5,
   "metadata": {},
   "outputs": [
    {
     "name": "stdout",
     "output_type": "stream",
     "text": [
      "  Computing constant trace status: OPTIMAL\n",
      "  Constant trace: ak = 4.0\n",
      "  Number of blocks: omega=3\n",
      "  Size of the largest block: s^max=21\n",
      "  Number of equality trace constraints: zeta=190\n",
      "Modeling time:\n",
      "  0.062539 seconds (106.06 k allocations: 6.927 MiB)\n"
     ]
    },
    {
     "name": "stderr",
     "output_type": "stream",
     "text": [
      "WARNING: replacing module ctpPOP.\n"
     ]
    },
    {
     "name": "stdout",
     "output_type": "stream",
     "text": [
      "---------------\n",
      "| Parameters: |\n",
      "---------------\n",
      "n:       190\n",
      "maxtime: 300000.000000\n",
      "na:      2\n",
      "mcu:     5\n",
      "mc:      7\n",
      "rpar: \n",
      "ipar: \n",
      " Warning: MC > MCU. Assigned MC = MCU.\n",
      " Entry to LMBM:\n",
      " NIT=    1  NFE=    1  F= 0.61445304D+00  WK= 0.3167D+00  QK= 0.1583D+00\n",
      " NIT=    2  NFE=    2  F= 0.52993744D+00  WK= 0.8853D-01  QK= 0.7028D-01\n",
      " NIT=    3  NFE=    3  F= 0.46315796D+00  WK= 0.1514D+00  QK= 0.4946D-01\n",
      " NIT=    4  NFE=    4  F= 0.44483872D+00  WK= 0.1037D+00  QK= 0.7935D-01\n",
      " NIT=    5  NFE=    5  F= 0.38733538D+00  WK= 0.1153D+00  QK= 0.1247D+00\n",
      " Warning: A nondescent search direction occured. Restart.\n",
      " NIT=    6  NFE=    6  F= 0.38733538D+00  WK= 0.2495D+00  QK= 0.1247D+00\n",
      " NIT=    7  NFE=    7  F= 0.38733538D+00  WK= 0.1389D+00  QK= 0.7169D-01\n",
      " NIT=    8  NFE=    8  F= 0.35609656D+00  WK= 0.8559D-02  QK= 0.1681D-01\n",
      " NIT=    9  NFE=    9  F= 0.34831548D+00  WK= 0.6255D-01  QK= 0.1330D-01\n",
      " NIT=   10  NFE=   11  F= 0.33547849D+00  WK= 0.1305D-01  QK= 0.3855D-01\n",
      " NIT=   11  NFE=   12  F= 0.32814956D+00  WK= 0.6419D-02  QK= 0.4514D-02\n",
      " NIT=   12  NFE=   13  F= 0.32256581D+00  WK= 0.3279D-01  QK= 0.6681D-02\n",
      " NIT=   13  NFE=   14  F= 0.31635433D+00  WK= 0.3724D-01  QK= 0.1118D+00\n",
      " NIT=   14  NFE=   15  F= 0.29345911D+00  WK= 0.3262D-01  QK= 0.3630D-01\n",
      " NIT=   15  NFE=   17  F= 0.29300312D+00  WK= 0.1091D-01  QK= 0.4714D-01\n",
      " NIT=   16  NFE=   18  F= 0.29300312D+00  WK= 0.4714D-02  QK= 0.4076D-01\n",
      " Warning: A nondescent search direction occured. Restart.\n",
      " NIT=   17  NFE=   63  F= 0.29300312D+00  WK= 0.9428D-01  QK= 0.4714D-01\n",
      " NIT=   18  NFE=   64  F= 0.29300312D+00  WK= 0.4844D-01  QK= 0.2439D-01\n",
      " NIT=   19  NFE=   65  F= 0.28202177D+00  WK= 0.1073D-01  QK= 0.2898D-01\n",
      " NIT=   20  NFE=   66  F= 0.28202177D+00  WK= 0.8436D-02  QK= 0.1700D-01\n",
      " NIT=   21  NFE=   67  F= 0.28013548D+00  WK= 0.2466D-02  QK= 0.1505D-01\n",
      " NIT=   22  NFE=   68  F= 0.27989809D+00  WK= 0.1212D-02  QK= 0.8354D-02\n",
      " NIT=   23  NFE=   69  F= 0.27893522D+00  WK= 0.1661D-02  QK= 0.4729D-02\n",
      " NIT=   24  NFE=   70  F= 0.27837194D+00  WK= 0.2100D-02  QK= 0.2910D-01\n",
      " NIT=   25  NFE=   71  F= 0.27793049D+00  WK= 0.6611D-03  QK= 0.7497D-02\n",
      " NIT=   26  NFE=   72  F= 0.27766192D+00  WK= 0.3381D-03  QK= 0.4359D-02\n",
      " NIT=   27  NFE=   73  F= 0.27736637D+00  WK= 0.1056D-02  QK= 0.3717D-02\n",
      " NIT=   28  NFE=   74  F= 0.27725378D+00  WK= 0.6010D-03  QK= 0.2930D-01\n",
      " NIT=   29  NFE=   75  F= 0.27686389D+00  WK= 0.1155D-03  QK= 0.3936D-02\n",
      " NIT=   30  NFE=   76  F= 0.27680691D+00  WK= 0.1172D-03  QK= 0.2932D-01\n",
      " Exit from LMBM:\n",
      " Abnormal exit: Too many steps without significant progress.\n",
      " NIT=   30  NFE=   77  F= 0.27680653D+00  WK= 0.1172D-03  QK= 0.2932D-01  ITERM=  2\n",
      "-----------\n",
      "| Output: |\n",
      "-----------\n",
      "Termination:     2\n",
      "N. iter.:        30\n",
      "N. func. eval.:  77\n",
      "Final value:     0.276807\n",
      "Execution time:  0.167709\n",
      "\n",
      "####################################\n",
      "opt_val = -2.4145123305391936\n",
      "####################################\n",
      "Solving time:\n",
      "  0.406285 seconds (466.91 k allocations: 28.112 MiB, 7.95% gc time)\n",
      "Total time:\n",
      "  0.468963 seconds (573.54 k allocations: 35.051 MiB, 6.89% gc time)\n"
     ]
    },
    {
     "data": {
      "text/plain": [
       "-2.4145123305391936"
      ]
     },
     "execution_count": 5,
     "metadata": {},
     "output_type": "execute_result"
    }
   ],
   "source": [
    "using ctpPOP\n",
    "\n",
    "opt_val=ctpPOP.POP_dense_LMBM(n,m,l,lmon_g,supp_g,coe_g,lmon_h,supp_h,coe_h,lmon_f,supp_f,coe_f,dg,dh,k,\n",
    "                         tol=1e-3,use_eqcons_to_get_constant_trace=false)"
   ]
  },
  {
   "cell_type": "code",
   "execution_count": 6,
   "metadata": {},
   "outputs": [
    {
     "name": "stdout",
     "output_type": "stream",
     "text": [
      "Problem\n",
      "  Name                   :                 \n",
      "  Objective sense        : max             \n",
      "  Type                   : CONIC (conic optimization problem)\n",
      "  Constraints            : 126             \n",
      "  Cones                  : 0               \n",
      "  Scalar variables       : 43              \n",
      "  Matrix variables       : 3               \n",
      "  Integer variables      : 0               \n",
      "\n",
      "Optimizer started.\n",
      "Presolve started.\n",
      "Linear dependency checker started.\n",
      "Linear dependency checker terminated.\n",
      "Eliminator started.\n",
      "Freed constraints in eliminator : 0\n",
      "Eliminator terminated.\n",
      "Eliminator started.\n",
      "Freed constraints in eliminator : 0\n",
      "Eliminator terminated.\n",
      "Eliminator - tries                  : 2                 time                   : 0.00            \n",
      "Lin. dep.  - tries                  : 1                 time                   : 0.00            \n",
      "Lin. dep.  - number                 : 0               \n",
      "Presolve terminated. Time: 0.00    \n",
      "Problem\n",
      "  Name                   :                 \n",
      "  Objective sense        : max             \n",
      "  Type                   : CONIC (conic optimization problem)\n",
      "  Constraints            : 126             \n",
      "  Cones                  : 0               \n",
      "  Scalar variables       : 43              \n",
      "  Matrix variables       : 3               \n",
      "  Integer variables      : 0               \n",
      "\n",
      "Optimizer  - threads                : 4               \n",
      "Optimizer  - solved problem         : the primal      \n",
      "Optimizer  - Constraints            : 126\n",
      "Optimizer  - Cones                  : 1\n",
      "Optimizer  - Scalar variables       : 44                conic                  : 44              \n",
      "Optimizer  - Semi-definite variables: 3                 scalarized             : 273             \n",
      "Factor     - setup time             : 0.00              dense det. time        : 0.00            \n",
      "Factor     - ML order time          : 0.00              GP order time          : 0.00            \n",
      "Factor     - nonzeros before factor : 8001              after factor           : 8001            \n",
      "Factor     - dense dim.             : 0                 flops                  : 9.09e+05        \n",
      "ITE PFEAS    DFEAS    GFEAS    PRSTATUS   POBJ              DOBJ              MU       TIME  \n",
      "0   2.5e+00  1.0e+00  1.0e+00  0.00e+00   0.000000000e+00   0.000000000e+00   1.0e+00  0.00  \n",
      "1   9.2e-01  3.7e-01  2.4e-01  -4.55e-01  -1.803884673e+00  -1.797715563e+00  3.7e-01  0.00  \n",
      "2   1.7e-01  6.8e-02  1.7e-02  1.49e+00   -2.129055729e+00  -2.124903163e+00  6.8e-02  0.00  \n",
      "3   1.6e-02  6.4e-03  5.3e-04  9.69e-01   -2.396062189e+00  -2.396807690e+00  6.4e-03  0.00  \n",
      "4   1.5e-04  5.9e-05  4.8e-07  1.01e+00   -2.397305401e+00  -2.397314951e+00  5.9e-05  0.01  \n",
      "5   3.2e-08  1.3e-08  1.5e-12  1.00e+00   -2.397297482e+00  -2.397297484e+00  1.3e-08  0.01  \n",
      "6   1.7e-09  5.6e-10  1.3e-14  1.00e+00   -2.397297492e+00  -2.397297493e+00  5.4e-10  0.01  \n",
      "Optimizer terminated. Time: 0.01    \n",
      "\n",
      "OPTIMAL\n"
     ]
    },
    {
     "name": "stderr",
     "output_type": "stream",
     "text": [
      "WARNING: replacing module ctpPOP.\n"
     ]
    },
    {
     "name": "stdout",
     "output_type": "stream",
     "text": [
      "opt_val=-2.397297492442105\n",
      "  5.645746 seconds (14.41 M allocations: 743.779 MiB, 3.65% gc time)\n"
     ]
    },
    {
     "data": {
      "text/plain": [
       "-2.397297492442105"
      ]
     },
     "execution_count": 6,
     "metadata": {},
     "output_type": "execute_result"
    }
   ],
   "source": [
    "using ctpPOP\n",
    "\n",
    "opt_val2=ctpPOP.POP_dense_SOS(x,f,g,h,k,tol=1e-3)"
   ]
  },
  {
   "cell_type": "code",
   "execution_count": null,
   "metadata": {},
   "outputs": [],
   "source": [
    "using ctpPOP\n",
    "\n",
    "optval=ctpPOP.POP_NLP(n,m,l,lmon_g,supp_g,coe_g,lmon_h,supp_h,coe_h,lmon_f,supp_f,coe_f)"
   ]
  },
  {
   "cell_type": "code",
   "execution_count": null,
   "metadata": {},
   "outputs": [],
   "source": []
  }
 ],
 "metadata": {
  "kernelspec": {
   "display_name": "Julia 1.3.0",
   "language": "julia",
   "name": "julia-1.3"
  },
  "language_info": {
   "file_extension": ".jl",
   "mimetype": "application/julia",
   "name": "julia",
   "version": "1.3.0"
  }
 },
 "nbformat": 4,
 "nbformat_minor": 2
}
