{
 "cells": [
  {
   "cell_type": "code",
   "execution_count": 19,
   "metadata": {},
   "outputs": [
    {
     "name": "stdout",
     "output_type": "stream",
     "text": [
      "***Problem setting***\n",
      "Number of variable: n=50\n",
      "====================\n",
      "Number of inequality constraints: m=2\n",
      "====================\n",
      "Number of equality constraints: l=13\n",
      "====================\n",
      "Relaxed order: k=2\n"
     ]
    }
   ],
   "source": [
    "using DynamicPolynomials\n",
    "\n",
    "println(\"***Problem setting***\")\n",
    "\n",
    "n=50\n",
    "println(\"Number of variable: n=\",n)\n",
    "println(\"====================\")\n",
    "\n",
    "@polyvar x[1:n]# variables\n",
    "\n",
    "function generate_random_poly(v)\n",
    "    c=2*rand(Float64,length(v)).-1\n",
    "    return c'*v\n",
    "end\n",
    "# random quadratic objective function f\n",
    "v=reverse(monomials(x,0:2))\n",
    "f=generate_random_poly(v)\n",
    "\n",
    "\n",
    "# unit sphere constraint\n",
    "R_small=0.5\n",
    "R_big=1.0\n",
    "\n",
    "g=[sum(x.^2)-R_small;R_big-sum(x.^2)] #type of coefficients of each polynomial must be float\n",
    "\n",
    "m=length(g)\n",
    "println(\"Number of inequality constraints: m=\",m)\n",
    "println(\"====================\")\n",
    "\n",
    "l=ceil(Int64, n/4)\n",
    "if l==0\n",
    "    h=Vector{Polynomial{true,Float64}}([])\n",
    "else\n",
    "    h=Vector{Polynomial{true,Float64}}(undef,l)\n",
    "end\n",
    "randx=2*rand(n).-1# create a feasible solution\n",
    "randx=(sqrt(R_small)+(sqrt(R_big)-sqrt(R_small))*rand(1)[1])*randx./sqrt(sum(randx.^2))\n",
    "\n",
    "\n",
    "for j in 1:l\n",
    "    h[j]=generate_random_poly(v[2:end])\n",
    "    h[j]-=h[j](x => randx) #make constraints feasible\n",
    "end\n",
    "\n",
    "l=length(h)\n",
    "println(\"Number of equality constraints: l=\",l)\n",
    "println(\"====================\")\n",
    "\n",
    "k=2\n",
    "\n",
    "println(\"Relaxed order: k=\",k)"
   ]
  },
  {
   "cell_type": "code",
   "execution_count": null,
   "metadata": {},
   "outputs": [],
   "source": []
  },
  {
   "cell_type": "code",
   "execution_count": 20,
   "metadata": {},
   "outputs": [
    {
     "name": "stdout",
     "output_type": "stream",
     "text": [
      "  Computing constant trace status: OPTIMAL\n",
      "  Constant trace: ak = 4.00000000019249\n"
     ]
    },
    {
     "name": "stderr",
     "output_type": "stream",
     "text": [
      "WARNING: replacing module ctpPOP.\n"
     ]
    },
    {
     "name": "stdout",
     "output_type": "stream",
     "text": [
      "  Number of blocks: omega=3\n",
      "  Size of the largest block: s^max=1326\n",
      "  Number of equality trace constraints: zeta=583441\n",
      "Modeling time:\n",
      "220.730158 seconds (545.13 M allocations: 231.774 GiB, 16.92% gc time)\n",
      "iter=1.0   val=-13.923617650670938   gap=0.794040256280157   feas=3.114537559585915\n",
      "iter=2.0   val=-7.663164930365868   gap=8.693747191134316   feas=1.075373878941084\n",
      "iter=4.0   val=-8.327678914194424   gap=4.50191847771266   feas=0.9142471619492941\n",
      "iter=8.0   val=-8.286540833155168   gap=1.5820765173664846   feas=0.7787622260514528\n",
      "iter=16.0   val=-7.154590271579404   gap=1.0664551201070855   feas=0.5020736580181212\n",
      "iter=32.0   val=-5.566824884219869   gap=0.45568160241883415   feas=0.3422748603598247\n",
      "iter=64.0   val=-4.785551220019779   gap=0.8298011197165636   feas=0.1442134147782111\n",
      "iter=128.0   val=-4.642203256248792   gap=0.3659489778474798   feas=0.08262500557838076\n",
      "iter=256.0   val=-4.745269609223093   gap=0.06014051949763033   feas=0.025705390477045866\n",
      "iter=512.0   val=-4.7916722950912085   gap=0.021913128059717124   feas=0.006779436639020282\n",
      "iter=1024.0   val=-4.813380645871641   gap=0.029177135583638325   feas=0.0021583102525508076\n",
      "iter=1969.0   val=-4.8219454442438066   gap=0.000854470765593085   feas=0.0008551024792209629\n",
      "tol satisfies!!!\n",
      "\n",
      "####################################\n",
      "opt_val = -4.8219454442438066\n",
      "####################################\n",
      "Solving time:\n",
      "362.637701 seconds (5.49 M allocations: 134.096 GiB, 0.52% gc time)\n",
      "Total time:\n",
      "583.368176 seconds (550.62 M allocations: 365.870 GiB, 6.73% gc time)\n"
     ]
    },
    {
     "data": {
      "text/plain": [
       "-4.8219454442438066"
      ]
     },
     "execution_count": 20,
     "metadata": {},
     "output_type": "execute_result"
    }
   ],
   "source": [
    "include(\"../src/ctpPOP.jl\")\n",
    "using .ctpPOP\n",
    "\n",
    "opt_val=ctpPOP.POP_CGAL(x,f,g,h,k;EigAlg=\"Arpack\",maxit=1e10,tol=1e-3,UseEq=false)"
   ]
  },
  {
   "cell_type": "code",
   "execution_count": 8,
   "metadata": {},
   "outputs": [
    {
     "name": "stderr",
     "output_type": "stream",
     "text": [
      "WARNING: replacing module ctpPOP.\n"
     ]
    },
    {
     "ename": "LoadError",
     "evalue": "LoadError: InterruptException:\nin expression starting at /home/hoanganh/Desktop/math-topics/ctpPOP/codes/ctpPOP/src/pop/dense_pop/pop_LMBM.jl:1",
     "output_type": "error",
     "traceback": [
      "LoadError: InterruptException:\nin expression starting at /home/hoanganh/Desktop/math-topics/ctpPOP/codes/ctpPOP/src/pop/dense_pop/pop_LMBM.jl:1",
      "",
      "Stacktrace:",
      " [1] include at ./boot.jl:328 [inlined]",
      " [2] include_relative(::Module, ::String) at ./loading.jl:1105",
      " [3] include at ./Base.jl:31 [inlined]",
      " [4] include(::String) at /home/hoanganh/Desktop/math-topics/ctpPOP/codes/ctpPOP/src/ctpPOP.jl:1",
      " [5] top-level scope at /home/hoanganh/Desktop/math-topics/ctpPOP/codes/ctpPOP/src/ctpPOP.jl:23",
      " [6] include at ./boot.jl:328 [inlined]",
      " [7] include_relative(::Module, ::String) at ./loading.jl:1105",
      " [8] include(::Module, ::String) at ./Base.jl:31",
      " [9] include(::String) at ./client.jl:424",
      " [10] top-level scope at In[8]:1"
     ]
    }
   ],
   "source": [
    "include(\"../src/ctpPOP.jl\")\n",
    "using .ctpPOP\n",
    "\n",
    "opt_val=ctpPOP.POP_LMBM(x,f,g,h,k;EigAlg=\"Arpack\",tol=1e-3,UseEq=false)"
   ]
  },
  {
   "cell_type": "code",
   "execution_count": null,
   "metadata": {},
   "outputs": [],
   "source": [
    "include(\"../src/ctpPOP.jl\")\n",
    "using .ctpPOP\n",
    "\n",
    "opt_val2=ctpPOP.SumofSquares_POP(x,f,g,h,k,tol=1e-3,solver=\"Mosek\")"
   ]
  },
  {
   "cell_type": "code",
   "execution_count": 21,
   "metadata": {},
   "outputs": [
    {
     "name": "stdout",
     "output_type": "stream",
     "text": [
      "**SumOfSquares+Mosek:\n"
     ]
    },
    {
     "name": "stderr",
     "output_type": "stream",
     "text": [
      "WARNING: replacing module ctpPOP.\n"
     ]
    },
    {
     "name": "stdout",
     "output_type": "stream",
     "text": [
      "------------------------------------------------------------------\n",
      "          COSMO v0.7.2 - A Quadratic Objective Conic Solver\n",
      "                         Michael Garstka\n",
      "                University of Oxford, 2017 - 2020\n",
      "------------------------------------------------------------------\n",
      "\n",
      "Problem:  x ∈ R^{899692},\n",
      "          constraints: A ∈ R^{1198704x899692} (24755095 nnz),\n",
      "          matrix size to factor: 2098396x2098396 (51608586 nnz)\n",
      "Sets:     PsdConeTriangle of dim: 879801\n",
      "          ZeroSet of dim: 316251\n",
      "          PsdConeTriangle of dim: 1326\n",
      "          PsdConeTriangle of dim: 1326\n",
      "Settings: ϵ_abs = 1.0e-04, ϵ_rel = 1.0e-04,\n",
      "          ϵ_prim_inf = 1.0e-06, ϵ_dual_inf = 1.0e-04,\n",
      "          ρ = 0.1, σ = 1.0e-6, α = 1.6,\n",
      "          max_iter = 2500,\n",
      "          scaling iter = 10 (on),\n",
      "          check termination every 40 iter,\n",
      "          check infeasibility every 40 iter,\n",
      "          KKT system solver: COSMO.CholmodKKTSolver\n",
      "Setup Time: 1.46245681e6ms\n",
      "\n",
      "Iter:\tObjective:\tPrimal Res:\tDual Res:\tRho:\n",
      "1\t-1.8899e+01\t1.6472e+01\t5.9998e-01\t1.0000e-01\n",
      "40\t4.6014e+00\t1.7712e-02\t1.8728e-04\t1.0000e-01\n",
      "80\t4.8359e+00\t1.1636e-03\t4.2898e-04\t5.4121e-01\n",
      "120\t4.8240e+00\t3.3097e-04\t1.9031e-05\t5.4121e-01\n",
      "\n",
      "------------------------------------------------------------------\n",
      ">>> Results\n",
      "Status: Solved\n",
      "Iterations: 120\n",
      "Optimal objective: 4.824\n",
      "Runtime: 3062.621s (3.06262063e6ms)\n",
      "\n",
      "OPTIMAL\n",
      "opt_val=-4.824041291328053\n",
      "3364.217679 seconds (827.12 M allocations: 149.894 GiB, 1.64% gc time)\n"
     ]
    },
    {
     "data": {
      "text/plain": [
       "-4.824041291328053"
      ]
     },
     "execution_count": 21,
     "metadata": {},
     "output_type": "execute_result"
    }
   ],
   "source": [
    "include(\"../src/ctpPOP.jl\")\n",
    "using .ctpPOP\n",
    "\n",
    "opt_val2=ctpPOP.SumofSquares_POP(x,f,g,h,k,tol=1e-3,solver=\"COSMO\")"
   ]
  },
  {
   "cell_type": "code",
   "execution_count": null,
   "metadata": {},
   "outputs": [],
   "source": []
  },
  {
   "cell_type": "code",
   "execution_count": null,
   "metadata": {},
   "outputs": [],
   "source": []
  }
 ],
 "metadata": {
  "kernelspec": {
   "display_name": "Julia 1.3.0",
   "language": "julia",
   "name": "julia-1.3"
  },
  "language_info": {
   "file_extension": ".jl",
   "mimetype": "application/julia",
   "name": "julia",
   "version": "1.3.0"
  }
 },
 "nbformat": 4,
 "nbformat_minor": 2
}
