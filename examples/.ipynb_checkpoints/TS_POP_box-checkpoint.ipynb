{
 "cells": [
  {
   "cell_type": "code",
   "execution_count": 10,
   "metadata": {},
   "outputs": [
    {
     "name": "stdout",
     "output_type": "stream",
     "text": [
      "***Problem setting***\n",
      "Number of variable: n=5\n",
      "====================\n",
      "Number of inequality constraints: m=5\n",
      "====================\n",
      "Number of equality constraints: l=1\n"
     ]
    }
   ],
   "source": [
    "using DynamicPolynomials, SparseArrays, LinearAlgebra\n",
    "\n",
    "println(\"***Problem setting***\")\n",
    "\n",
    "n=5\n",
    "\n",
    "println(\"Number of variable: n=\",n)\n",
    "println(\"====================\")\n",
    "\n",
    "@polyvar x[1:n]# variables\n",
    "\n",
    "function generate_random_poly(v)\n",
    "    c=2*rand(Float64,length(v)).-1\n",
    "    return c'*v\n",
    "end\n",
    "# random quadratic objective function f\n",
    "v=reverse(monomials(x,2))\n",
    "f=generate_random_poly(v)\n",
    "\n",
    "\n",
    "# unit sphere constraint\n",
    "m=n\n",
    "q=floor(Int64,n/m)\n",
    "R=ones(Float64,m)./n\n",
    "T=[(j-1)*q+1:j*q for j in 1:m-1]\n",
    "append!(T,[(m-1)*q+1:n])\n",
    "\n",
    "g=[R[j]-sum(x[T[j]].^2) for j in 1:m]\n",
    "\n",
    "m=length(g)\n",
    "println(\"Number of inequality constraints: m=\",m)\n",
    "println(\"====================\")\n",
    "\n",
    "\n",
    "l=ceil(Int64, n/7)\n",
    "\n",
    "\n",
    "h=Vector{Polynomial{true,Float64}}(undef,l)\n",
    "randx=[2*rand(length(T[j])).-1 for j in 1:m]# create a feasible solution\n",
    "randx=[sqrt(R[j])*rand(1)[1]*randx[j]/norm(randx[j]) for j in 1:m]\n",
    "randx=vcat(randx...)\n",
    "\n",
    "for j in 1:l\n",
    "    h[j]=generate_random_poly(v[2:end])\n",
    "    h[j]-=h[j](x => randx) #make constraints feasible\n",
    "end\n",
    "\n",
    "l=length(h)\n",
    "println(\"Number of equality constraints: l=\",l)"
   ]
  },
  {
   "cell_type": "code",
   "execution_count": 11,
   "metadata": {},
   "outputs": [
    {
     "name": "stderr",
     "output_type": "stream",
     "text": [
      "WARNING: replacing module ctpPOP.\n"
     ]
    }
   ],
   "source": [
    "include(\"../src/ctpPOP.jl\")\n",
    "using .ctpPOP\n",
    "\n",
    "n,m,l,lmon_g,supp_g,coe_g,lmon_h,supp_h,coe_h,lmon_f,supp_f,coe_f,dg,dh=ctpPOP.get_info(x,f,g,h,sparse=false);"
   ]
  },
  {
   "cell_type": "code",
   "execution_count": 12,
   "metadata": {},
   "outputs": [
    {
     "name": "stdout",
     "output_type": "stream",
     "text": [
      "Relaxed order: k=2\n",
      "====================\n",
      "Sparse order: t=1\n"
     ]
    }
   ],
   "source": [
    "k=2\n",
    "println(\"Relaxed order: k=\",k)\n",
    "println(\"====================\")\n",
    "t=1\n",
    "println(\"Sparse order: t=\",t)"
   ]
  },
  {
   "cell_type": "code",
   "execution_count": 13,
   "metadata": {},
   "outputs": [
    {
     "name": "stdout",
     "output_type": "stream",
     "text": [
      "  Computing constant trace status: OPTIMAL\n",
      "  Constant trace: ak = 3.0\n",
      "  Number of blocks: omega=12\n"
     ]
    },
    {
     "name": "stderr",
     "output_type": "stream",
     "text": [
      "WARNING: replacing module ctpPOP.\n"
     ]
    },
    {
     "name": "stdout",
     "output_type": "stream",
     "text": [
      "  Size of the largest block: s^max=16\n",
      "  Number of equality trace constraints: zeta=162\n",
      "Modeling time:\n",
      "  0.358786 seconds (568.82 k allocations: 29.166 MiB, 11.81% gc time)\n",
      "iter=1   val=-2.1756838314039597   gap=1.3984049843328773e-16   feas=3.2504561111541976\n",
      "iter=2   val=-0.72522794380132   gap=0.6099241275596871   feas=0.6449409402391801\n",
      "iter=4   val=-0.7237400380993763   gap=0.466687678502122   feas=0.6690645971431572\n",
      "iter=8   val=-0.5473524146045948   gap=0.1489210719839818   feas=0.3782712332114469\n",
      "iter=16   val=-0.6588050823683325   gap=0.13819146385946243   feas=0.3633350690063494\n",
      "iter=32   val=-0.6078055529916839   gap=0.0912689802465804   feas=0.1689899914146682\n",
      "iter=64   val=-0.5946393952075807   gap=0.14750369031814775   feas=0.09209637985990596\n",
      "iter=128   val=-0.5768331018424153   gap=0.020963039310478646   feas=0.062174733269964484\n",
      "iter=256   val=-0.5271870795113975   gap=0.06431539430262091   feas=0.03081166355651411\n",
      "iter=512   val=-0.508240703476987   gap=0.00736107233891786   feas=0.010642522235350333\n",
      "iter=1024   val=-0.5040497713820767   gap=0.0009629599256216508   feas=0.004192640815164269\n",
      "iter=2048   val=-0.5053431674976124   gap=0.018246153005446943   feas=0.0022703323621007373\n",
      "iter=4096   val=-0.5035524938904299   gap=0.009112956258792477   feas=0.0013678021589111037\n",
      "iter=5613   val=-0.5039212036418972   gap=0.000933980388975463   feas=0.0007692839881449527\n",
      "tol satisfies!!!\n",
      "\n",
      "####################################\n",
      "opt_val = -0.5039212036418972\n",
      "####################################\n",
      "Solving time:\n",
      "  1.660008 seconds (3.86 M allocations: 310.599 MiB, 4.36% gc time)\n",
      "Total time:\n",
      "  2.018943 seconds (4.43 M allocations: 339.779 MiB, 5.68% gc time)\n"
     ]
    },
    {
     "data": {
      "text/plain": [
       "-0.5039212036418972"
      ]
     },
     "execution_count": 13,
     "metadata": {},
     "output_type": "execute_result"
    }
   ],
   "source": [
    "include(\"../src/ctpPOP.jl\")\n",
    "using .ctpPOP\n",
    "\n",
    "opt_val=ctpPOP.POP_TS_CGAL(n,m,l,lmon_g,supp_g,coe_g,lmon_h,supp_h,coe_h,lmon_f,supp_f,coe_f,dg,dh,k,t,\n",
    "                         maxit=Int64(1e6),tol=1e-3,\n",
    "                         use_eqcons_to_get_constant_trace=false,\n",
    "                         check_tol_each_iter=true)"
   ]
  },
  {
   "cell_type": "code",
   "execution_count": 14,
   "metadata": {},
   "outputs": [
    {
     "name": "stdout",
     "output_type": "stream",
     "text": [
      "------------------------------------------------------\n",
      "The sizes of blocks:\n",
      "[16, 5]\n",
      "[1, 1]\n",
      "------------------------------------------------------\n",
      "Problem\n",
      "  Name                   :                 \n",
      "  Objective sense        : max             \n",
      "  Type                   : CONIC (conic optimization problem)\n",
      "  Constraints            : 86              \n",
      "  Cones                  : 0               \n",
      "  Scalar variables       : 22              \n",
      "  Matrix variables       : 7               \n",
      "  Integer variables      : 0               \n",
      "\n",
      "Optimizer started.\n",
      "Presolve started.\n",
      "Linear dependency checker started.\n",
      "Linear dependency checker terminated.\n",
      "Eliminator started.\n",
      "Freed constraints in eliminator : 0\n",
      "Eliminator terminated.\n",
      "Eliminator started.\n",
      "Freed constraints in eliminator : 0\n",
      "Eliminator terminated.\n",
      "Eliminator - tries                  : 2                 time                   : 0.00            \n",
      "Lin. dep.  - tries                  : 1                 time                   : 0.00            \n",
      "Lin. dep.  - number                 : 0               \n",
      "Presolve terminated. Time: 0.00    \n",
      "Problem\n",
      "  Name                   :                 \n",
      "  Objective sense        : max             \n",
      "  Type                   : CONIC (conic optimization problem)\n",
      "  Constraints            : 86              \n",
      "  Cones                  : 0               \n",
      "  Scalar variables       : 22              \n",
      "  Matrix variables       : 7               \n",
      "  Integer variables      : 0               \n",
      "\n",
      "Optimizer  - threads                : 4               \n",
      "Optimizer  - solved problem         : the primal      \n",
      "Optimizer  - Constraints            : 86\n",
      "Optimizer  - Cones                  : 1\n",
      "Optimizer  - Scalar variables       : 23                conic                  : 18              \n",
      "Optimizer  - Semi-definite variables: 7                 scalarized             : 226             \n",
      "Factor     - setup time             : 0.00              dense det. time        : 0.00            \n",
      "Factor     - ML order time          : 0.00              GP order time          : 0.00            \n",
      "Factor     - nonzeros before factor : 3741              after factor           : 3741            \n",
      "Factor     - dense dim.             : 0                 flops                  : 2.94e+05        \n",
      "ITE PFEAS    DFEAS    GFEAS    PRSTATUS   POBJ              DOBJ              MU       TIME  \n",
      "0   2.3e+00  1.0e+00  1.0e+00  0.00e+00   0.000000000e+00   0.000000000e+00   1.0e+00  0.00  \n",
      "1   9.6e-01  4.2e-01  2.1e-01  5.68e-01   -6.997745731e-01  -5.563228586e-01  4.2e-01  0.00  \n",
      "2   2.3e-01  1.0e-01  1.6e-02  1.81e+00   -5.695134069e-01  -5.324005479e-01  1.0e-01  0.00  \n",
      "3   6.7e-02  2.9e-02  2.4e-03  1.41e+00   -5.303183930e-01  -5.218936889e-01  2.9e-02  0.00  \n",
      "4   2.2e-02  9.6e-03  5.1e-04  9.36e-01   -4.982951914e-01  -4.956423811e-01  9.6e-03  0.00  \n",
      "5   1.6e-03  7.0e-04  1.1e-05  9.63e-01   -5.048230191e-01  -5.046491396e-01  7.0e-04  0.00  \n",
      "6   2.0e-05  8.6e-06  1.4e-08  9.87e-01   -5.042627781e-01  -5.042605743e-01  8.6e-06  0.01  \n",
      "7   3.8e-07  1.6e-07  3.7e-11  1.00e+00   -5.042581555e-01  -5.042581118e-01  1.6e-07  0.01  \n",
      "8   2.3e-08  1.0e-08  5.7e-13  1.00e+00   -5.042580051e-01  -5.042580024e-01  1.0e-08  0.01  \n",
      "Optimizer terminated. Time: 0.01    \n",
      "\n",
      "optimum = -0.5042580051304153\n",
      "  0.010499 seconds (35.86 k allocations: 3.001 MiB)\n"
     ]
    }
   ],
   "source": [
    "using TSSOS\n",
    "\n",
    "@time begin\n",
    "    ~,~,data=tssos_first([[f];g;h],x,k,numeq=length(h),TS=\"block\",quotient=false);\n",
    "    for j in 1:t-1\n",
    "        ~,~,data=tssos_higher!(data,TS=\"block\")\n",
    "    end\n",
    "end"
   ]
  },
  {
   "cell_type": "code",
   "execution_count": 15,
   "metadata": {},
   "outputs": [
    {
     "name": "stdout",
     "output_type": "stream",
     "text": [
      "  Computing constant trace status: OPTIMAL\n",
      "  Constant trace: ak = 3.0\n",
      "  Number of blocks: omega=12\n"
     ]
    },
    {
     "name": "stderr",
     "output_type": "stream",
     "text": [
      "WARNING: replacing module ctpPOP.\n"
     ]
    },
    {
     "name": "stdout",
     "output_type": "stream",
     "text": [
      "  Size of the largest block: s^max=16\n",
      "  Number of equality trace constraints: zeta=162\n",
      "Modeling time:\n",
      "  0.386812 seconds (568.78 k allocations: 29.169 MiB)\n",
      "---------------\n",
      "| Parameters: |\n",
      "---------------\n",
      "n:       162\n",
      "maxtime: 300000.000000\n",
      "na:      2\n",
      "mcu:     5\n",
      "mc:      7\n",
      "rpar: \n",
      "ipar: \n",
      " Warning: MC > MCU. Assigned MC = MCU.\n",
      " Entry to LMBM:\n",
      " NIT=    1  NFE=    1  F= 0.40146869D+00  WK= 0.4168D+00  QK= 0.2084D+00\n",
      " NIT=    2  NFE=    2  F= 0.24966075D+00  WK= 0.2977D+00  QK= 0.2177D+00\n",
      " NIT=    3  NFE=    3  F= 0.24966075D+00  WK= 0.2132D+00  QK= 0.1535D+00\n",
      " NIT=    4  NFE=    4  F= 0.22365640D+00  WK= 0.5392D-01  QK= 0.6738D-01\n",
      " NIT=    5  NFE=    5  F= 0.17430099D+00  WK= 0.4770D+00  QK= 0.6620D-01\n",
      " NIT=    6  NFE=    6  F= 0.17430099D+00  WK= 0.2153D+00  QK= 0.1258D+00\n",
      " Warning: A nondescent search direction occured. Restart.\n",
      " NIT=    7  NFE=   51  F= 0.17430099D+00  WK= 0.1324D+00  QK= 0.6620D-01\n",
      " NIT=    8  NFE=   52  F= 0.17430099D+00  WK= 0.8109D-01  QK= 0.4142D-01\n",
      " NIT=    9  NFE=   53  F= 0.16132007D+00  WK= 0.5880D-01  QK= 0.2183D+00\n",
      " NIT=   10  NFE=   54  F= 0.14031086D+00  WK= 0.1105D-01  QK= 0.5828D-01\n",
      " NIT=   11  NFE=   55  F= 0.12978034D+00  WK= 0.8614D-02  QK= 0.2064D+00\n",
      " NIT=   12  NFE=   56  F= 0.12965846D+00  WK= 0.4115D-02  QK= 0.5940D-01\n",
      " NIT=   13  NFE=   57  F= 0.12572831D+00  WK= 0.8510D-01  QK= 0.5801D-01\n",
      " NIT=   14  NFE=   58  F= 0.12572831D+00  WK= 0.4272D-01  QK= 0.3504D-01\n",
      " NIT=   15  NFE=   62  F= 0.12542214D+00  WK= 0.4963D-02  QK= 0.1977D+00\n",
      " NIT=   16  NFE=   63  F= 0.12542214D+00  WK= 0.8262D-02  QK= 0.1630D+00\n",
      " NIT=   17  NFE=   65  F= 0.12385647D+00  WK= 0.5917D-02  QK= 0.1992D+00\n",
      " NIT=   18  NFE=   66  F= 0.12182497D+00  WK= 0.4990D-03  QK= 0.4831D-01\n",
      " NIT=   19  NFE=   67  F= 0.12135387D+00  WK= 0.1003D-01  QK= 0.4929D-01\n",
      " NIT=   20  NFE=   68  F= 0.12135387D+00  WK= 0.2558D-02  QK= 0.1729D-01\n",
      " Warning: A nondescent search direction occured. Restart.\n",
      " NIT=   21  NFE=  113  F= 0.12135387D+00  WK= 0.9858D-01  QK= 0.4929D-01\n",
      " NIT=   22  NFE=  114  F= 0.12135387D+00  WK= 0.3192D-01  QK= 0.1670D-01\n",
      " NIT=   23  NFE=  118  F= 0.12035047D+00  WK= 0.7661D-02  QK= 0.1963D+00\n",
      " NIT=   24  NFE=  119  F= 0.12035047D+00  WK= 0.6126D-02  QK= 0.1587D+00\n",
      " NIT=   25  NFE=  126  F= 0.12032773D+00  WK= 0.3693D-02  QK= 0.1987D+00\n",
      " NIT=   26  NFE=  127  F= 0.12032773D+00  WK= 0.2681D-02  QK= 0.1410D+00\n",
      " NIT=   27  NFE=  128  F= 0.11900362D+00  WK= 0.2500D-02  QK= 0.5469D-01\n",
      " NIT=   28  NFE=  129  F= 0.11856264D+00  WK= 0.2206D-02  QK= 0.2254D+00\n",
      " Warning: A nondescent search direction occured. Restart.\n",
      " NIT=   29  NFE=  130  F= 0.11856264D+00  WK= 0.4509D+00  QK= 0.2254D+00\n",
      " NIT=   30  NFE=  131  F= 0.11856264D+00  WK= 0.2571D+00  QK= 0.1332D+00\n",
      " NIT=   31  NFE=  139  F= 0.11848174D+00  WK= 0.1206D-01  QK= 0.6751D-01\n",
      " NIT=   32  NFE=  140  F= 0.11848174D+00  WK= 0.9375D-02  QK= 0.1414D-01\n",
      " NIT=   33  NFE=  142  F= 0.11675353D+00  WK= 0.1387D-02  QK= 0.2005D+00\n",
      " NIT=   34  NFE=  143  F= 0.11675353D+00  WK= 0.4762D-02  QK= 0.1806D+00\n",
      " NIT=   35  NFE=  145  F= 0.11555358D+00  WK= 0.5669D-02  QK= 0.1962D+00\n",
      " NIT=   36  NFE=  146  F= 0.11555358D+00  WK= 0.1443D-02  QK= 0.5128D-02\n",
      " NIT=   37  NFE=  151  F= 0.11550766D+00  WK= 0.4134D-02  QK= 0.1975D+00\n",
      " NIT=   38  NFE=  152  F= 0.11550766D+00  WK= 0.3958D-02  QK= 0.4480D-02\n",
      " NIT=   39  NFE=  154  F= 0.11495785D+00  WK= 0.1442D-02  QK= 0.6749D-01\n",
      " NIT=   40  NFE=  155  F= 0.11495785D+00  WK= 0.3098D-02  QK= 0.5624D-01\n",
      " NIT=   41  NFE=  158  F= 0.11438364D+00  WK= 0.1076D-02  QK= 0.5661D-01\n",
      " NIT=   42  NFE=  159  F= 0.11438364D+00  WK= 0.1862D-02  QK= 0.4514D-01\n",
      " NIT=   43  NFE=  162  F= 0.11430677D+00  WK= 0.2735D-02  QK= 0.6511D-01\n",
      " NIT=   44  NFE=  163  F= 0.11430677D+00  WK= 0.1998D-02  QK= 0.3484D-01\n",
      " NIT=   45  NFE=  166  F= 0.11393380D+00  WK= 0.9759D-02  QK= 0.5207D-01\n",
      " NIT=   46  NFE=  167  F= 0.11393380D+00  WK= 0.1603D-01  QK= 0.4518D-01\n",
      " NIT=   47  NFE=  174  F= 0.11385852D+00  WK= 0.1017D-02  QK= 0.1955D+00\n",
      " NIT=   48  NFE=  175  F= 0.11385852D+00  WK= 0.2630D-02  QK= 0.1850D+00\n",
      " NIT=   49  NFE=  179  F= 0.11385033D+00  WK= 0.2104D-03  QK= 0.4709D-01\n",
      " NIT=   50  NFE=  180  F= 0.11366387D+00  WK= 0.6077D-03  QK= 0.5104D-01\n",
      " NIT=   51  NFE=  181  F= 0.11366387D+00  WK= 0.3140D-02  QK= 0.2661D-01\n",
      " NIT=   52  NFE=  187  F= 0.11365819D+00  WK= 0.1954D-03  QK= 0.9303D-01\n",
      " NIT=   53  NFE=  188  F= 0.11365819D+00  WK= 0.1878D-02  QK= 0.7139D-01\n",
      " NIT=   54  NFE=  193  F= 0.11362574D+00  WK= 0.6095D-03  QK= 0.7139D-01\n",
      " NIT=   55  NFE=  194  F= 0.11348148D+00  WK= 0.1873D-02  QK= 0.2201D+00\n",
      " NIT=   56  NFE=  195  F= 0.11323019D+00  WK= 0.6738D-04  QK= 0.5969D-01\n",
      " NIT=   57  NFE=  196  F= 0.11323019D+00  WK= 0.1190D-02  QK= 0.2799D-01\n",
      " NIT=   58  NFE=  198  F= 0.11298180D+00  WK= 0.5813D-03  QK= 0.8290D-01\n",
      " NIT=   59  NFE=  199  F= 0.11298180D+00  WK= 0.1263D-02  QK= 0.6494D-01\n",
      " NIT=   60  NFE=  204  F= 0.11293649D+00  WK= 0.5854D-03  QK= 0.1075D+00\n",
      " NIT=   61  NFE=  205  F= 0.11293649D+00  WK= 0.9409D-03  QK= 0.1040D+00\n",
      " Exit from LMBM:\n",
      " Abnormal exit: Too many steps without significant progress.\n",
      " NIT=   61  NFE=  207  F= 0.11292745D+00  WK= 0.9409D-03  QK= 0.1040D+00  ITERM=  2\n",
      "-----------\n",
      "| Output: |\n",
      "-----------\n",
      "Termination:     2\n",
      "N. iter.:        61\n",
      "N. func. eval.:  207\n",
      "Final value:     0.112927\n",
      "Execution time:  0.149124\n",
      "\n",
      "####################################\n",
      "opt_val = -0.6119890290661721\n",
      "####################################\n",
      "Solving time:\n",
      "  0.313742 seconds (400.88 k allocations: 26.544 MiB, 12.08% gc time)\n",
      "Total time:\n",
      "  0.700698 seconds (970.23 k allocations: 55.724 MiB, 5.41% gc time)\n"
     ]
    },
    {
     "data": {
      "text/plain": [
       "-0.6119890290661721"
      ]
     },
     "execution_count": 15,
     "metadata": {},
     "output_type": "execute_result"
    }
   ],
   "source": [
    "include(\"../src/ctpPOP.jl\")\n",
    "using .ctpPOP\n",
    "\n",
    "opt_val=ctpPOP.POP_TS_LMBM(n,m,l,lmon_g,supp_g,coe_g,lmon_h,supp_h,coe_h,lmon_f,supp_f,coe_f,dg,dh,k,t,\n",
    "                         tol=1e-3,use_eqcons_to_get_constant_trace=false)"
   ]
  },
  {
   "cell_type": "code",
   "execution_count": 16,
   "metadata": {},
   "outputs": [
    {
     "name": "stdout",
     "output_type": "stream",
     "text": [
      "This is Ipopt version 3.13.2, running with linear solver mumps.\n",
      "NOTE: Other linear solvers might be more efficient (see Ipopt documentation).\n",
      "\n",
      "Number of nonzeros in equality constraint Jacobian...:       24\n",
      "Number of nonzeros in inequality constraint Jacobian.:        5\n",
      "Number of nonzeros in Lagrangian Hessian.............:       34\n",
      "\n",
      "Total number of variables............................:        5\n",
      "                     variables with only lower bounds:        0\n",
      "                variables with lower and upper bounds:        0\n",
      "                     variables with only upper bounds:        0\n",
      "Total number of equality constraints.................:        1\n",
      "Total number of inequality constraints...............:        5\n",
      "        inequality constraints with only lower bounds:        5\n",
      "   inequality constraints with lower and upper bounds:        0\n",
      "        inequality constraints with only upper bounds:        0\n",
      "\n",
      "iter    objective    inf_pr   inf_du lg(mu)  ||d||  lg(rg) alpha_du alpha_pr  ls\n",
      "   0  0.0000000e+00 1.59e-02 1.00e+00  -1.0 0.00e+00    -  0.00e+00 0.00e+00   0\n",
      "   1  0.0000000e+00 1.59e-02 2.38e-07  -1.7 3.76e-10   2.0 1.00e+00 1.00e+00h  1\n",
      "   2  0.0000000e+00 1.59e-02 4.21e-03  -3.8 4.81e-10   6.9 1.00e+00 1.00e+00s 22\n",
      "   3r 0.0000000e+00 1.59e-02 9.99e+02  -1.8 0.00e+00   8.3 0.00e+00 0.00e+00R  1\n",
      "   4r 0.0000000e+00 1.59e-02 1.59e-07  -1.8 2.62e-09    -  1.00e+00 1.00e+00f  1\n",
      "   5r 0.0000000e+00 1.59e-02 1.58e-01  -4.0 1.58e-05   4.0 1.00e+00 1.00e+00f  1\n",
      "   6r 0.0000000e+00 1.59e-02 1.25e-05  -4.0 3.74e-09   3.5 1.00e+00 1.00e+00f  1\n",
      "   7r 0.0000000e+00 1.59e-02 7.86e-04  -6.1 8.84e-08   3.9 1.00e+00 1.00e+00f  1\n",
      "   8r 0.0000000e+00 1.59e-02 3.20e-10  -6.1 1.07e-13   3.5 1.00e+00 1.00e+00h  1\n",
      "   9r 0.0000000e+00 1.59e-02 6.65e-06  -9.0 8.42e-10   3.9 1.00e+00 1.00e+00f  1\n",
      "\n",
      "Number of Iterations....: 9\n",
      "\n",
      "                                   (scaled)                 (unscaled)\n",
      "Objective...............:   0.0000000000000000e+00    0.0000000000000000e+00\n",
      "Dual infeasibility......:   2.7773591327301730e-14    2.7773591327301730e-14\n",
      "Constraint violation....:   1.5858873466392365e-02    1.5858873466392365e-02\n",
      "Complementarity.........:   9.0909090909090920e-10    9.0909090909090920e-10\n",
      "Overall NLP error.......:   1.5858873466392365e-02    1.5858873466392365e-02\n",
      "\n",
      "\n",
      "Number of objective function evaluations             = 33\n",
      "Number of objective gradient evaluations             = 5\n",
      "Number of equality constraint evaluations            = 33\n",
      "Number of inequality constraint evaluations          = 33\n",
      "Number of equality constraint Jacobian evaluations   = 12\n",
      "Number of inequality constraint Jacobian evaluations = 12\n",
      "Number of Lagrangian Hessian evaluations             = 10\n",
      "Total CPU secs in IPOPT (w/o function evaluations)   =      0.010\n",
      "Total CPU secs in NLP function evaluations           =      0.000\n",
      "\n",
      "EXIT: Converged to a point of local infeasibility. Problem may be infeasible.\n",
      "LOCALLY_INFEASIBLE\n",
      "opt_val=0.0\n",
      "  0.018868 seconds (3.84 k allocations: 286.484 KiB)\n"
     ]
    },
    {
     "name": "stderr",
     "output_type": "stream",
     "text": [
      "WARNING: replacing module ctpPOP.\n"
     ]
    },
    {
     "data": {
      "text/plain": [
       "0.0"
      ]
     },
     "execution_count": 16,
     "metadata": {},
     "output_type": "execute_result"
    }
   ],
   "source": [
    "include(\"../src/ctpPOP.jl\")\n",
    "using .ctpPOP\n",
    "\n",
    "optval=ctpPOP.POP_NLP(n,m,l,lmon_g,supp_g,coe_g,lmon_h,supp_h,coe_h,lmon_f,supp_f,coe_f)"
   ]
  },
  {
   "cell_type": "code",
   "execution_count": null,
   "metadata": {},
   "outputs": [],
   "source": []
  }
 ],
 "metadata": {
  "kernelspec": {
   "display_name": "Julia 1.3.0",
   "language": "julia",
   "name": "julia-1.3"
  },
  "language_info": {
   "file_extension": ".jl",
   "mimetype": "application/julia",
   "name": "julia",
   "version": "1.3.0"
  }
 },
 "nbformat": 4,
 "nbformat_minor": 2
}
