{
 "cells": [
  {
   "cell_type": "code",
   "execution_count": 1,
   "metadata": {},
   "outputs": [
    {
     "name": "stdout",
     "output_type": "stream",
     "text": [
      "***Problem setting***\n",
      "Number of variable: n=5\n",
      "====================\n",
      "Number of inequality constraints: m=5\n",
      "====================\n",
      "Number of equality constraints: l=1\n"
     ]
    }
   ],
   "source": [
    "using DynamicPolynomials, SparseArrays, LinearAlgebra\n",
    "\n",
    "println(\"***Problem setting***\")\n",
    "\n",
    "n=5\n",
    "\n",
    "println(\"Number of variable: n=\",n)\n",
    "println(\"====================\")\n",
    "\n",
    "@ncpolyvar x[1:n]# variables\n",
    "\n",
    "\n",
    "function star_algebra(mom)\n",
    "    if mom==1\n",
    "        return mom\n",
    "    else\n",
    "        ind=mom.z .>0\n",
    "        vars=mom.vars[ind]\n",
    "        exp=mom.z[ind]\n",
    "        return prod(vars[i]^exp[i] for i in length(exp):-1:1)\n",
    "    end\n",
    "end\n",
    "function generate_random_poly(v)\n",
    "    c=2*rand(Float64,length(v)).-1\n",
    "    return c'*v\n",
    "end\n",
    "# random quadratic objective function f\n",
    "v=reverse(monomials(x,2))\n",
    "v+=star_algebra.(v)\n",
    "v=v./2\n",
    "f=generate_random_poly(v)\n",
    "\n",
    "\n",
    "# unit sphere constraint\n",
    "m=n\n",
    "q=floor(Int64,n/m)\n",
    "R=ones(Float64,m)./n\n",
    "T=[(j-1)*q+1:j*q for j in 1:m-1]\n",
    "append!(T,[(m-1)*q+1:n])\n",
    "\n",
    "g=[R[j]-sum(x[T[j]].^2) for j in 1:m]\n",
    "\n",
    "m=length(g)\n",
    "println(\"Number of inequality constraints: m=\",m)\n",
    "println(\"====================\")\n",
    "\n",
    "\n",
    "l=0#ceil(Int64, n/7)\n",
    "\n",
    "\n",
    "h=Vector{Polynomial{false,Float64}}(undef,l)\n",
    "randx=[2*rand(length(T[j])).-1 for j in 1:m]# create a feasible solution\n",
    "randx=[sqrt(R[j])*rand(1)[1]*randx[j]/norm(randx[j]) for j in 1:m]\n",
    "randx=vcat(randx...)\n",
    "\n",
    "for j in 1:l\n",
    "    h[j]=generate_random_poly(v[2:end])\n",
    "    h[j]-=h[j](x => randx) #make constraints feasible\n",
    "end\n",
    "\n",
    "l=length(h)\n",
    "println(\"Number of equality constraints: l=\",l)"
   ]
  },
  {
   "cell_type": "code",
   "execution_count": 2,
   "metadata": {},
   "outputs": [],
   "source": [
    "include(\"../src/ctpNCPOP.jl\")\n",
    "using .ctpNCPOP\n",
    "\n",
    "n,m,l,lmon_g,supp_g,coe_g,lmon_h,supp_h,coe_h,lmon_f,supp_f,coe_f,dg,dh=ctpNCPOP.get_info(x,f,g,h);"
   ]
  },
  {
   "cell_type": "code",
   "execution_count": 3,
   "metadata": {},
   "outputs": [
    {
     "name": "stdout",
     "output_type": "stream",
     "text": [
      "Relaxed order: k=2\n",
      "====================\n",
      "Sparse order: t=1\n"
     ]
    }
   ],
   "source": [
    "k=2\n",
    "println(\"Relaxed order: k=\",k)\n",
    "println(\"====================\")\n",
    "t=1\n",
    "println(\"Sparse order: t=\",t)"
   ]
  },
  {
   "cell_type": "code",
   "execution_count": 4,
   "metadata": {},
   "outputs": [
    {
     "name": "stdout",
     "output_type": "stream",
     "text": [
      "------------------------------------------------------\n",
      "The sizes of blocks:\n",
      "[26, 5]\n",
      "[1, 1]\n",
      "------------------------------------------------------\n",
      "Problem\n",
      "  Name                   :                 \n",
      "  Objective sense        : max             \n",
      "  Type                   : CONIC (conic optimization problem)\n",
      "  Constraints            : 341             \n",
      "  Cones                  : 0               \n",
      "  Scalar variables       : 22              \n",
      "  Matrix variables       : 7               \n",
      "  Integer variables      : 0               \n",
      "\n",
      "Optimizer started.\n",
      "Presolve started.\n",
      "Linear dependency checker started.\n",
      "Linear dependency checker terminated.\n",
      "Eliminator started.\n",
      "Freed constraints in eliminator : 0\n",
      "Eliminator terminated.\n",
      "Eliminator - tries                  : 1                 time                   : 0.00            \n",
      "Lin. dep.  - tries                  : 1                 time                   : 0.00            \n",
      "Lin. dep.  - number                 : 0               \n",
      "Presolve terminated. Time: 0.00    \n",
      "Problem\n",
      "  Name                   :                 \n",
      "  Objective sense        : max             \n",
      "  Type                   : CONIC (conic optimization problem)\n",
      "  Constraints            : 341             \n",
      "  Cones                  : 0               \n",
      "  Scalar variables       : 22              \n",
      "  Matrix variables       : 7               \n",
      "  Integer variables      : 0               \n",
      "\n",
      "Optimizer  - threads                : 4               \n",
      "Optimizer  - solved problem         : the primal      \n",
      "Optimizer  - Constraints            : 341\n",
      "Optimizer  - Cones                  : 1\n",
      "Optimizer  - Scalar variables       : 23                conic                  : 18              \n",
      "Optimizer  - Semi-definite variables: 7                 scalarized             : 441             \n",
      "Factor     - setup time             : 0.01              dense det. time        : 0.00            \n",
      "Factor     - ML order time          : 0.00              GP order time          : 0.00            \n",
      "Factor     - nonzeros before factor : 5.87e+04          after factor           : 5.87e+04        \n",
      "Factor     - dense dim.             : 2                 flops                  : 1.38e+07        \n",
      "ITE PFEAS    DFEAS    GFEAS    PRSTATUS   POBJ              DOBJ              MU       TIME  \n",
      "0   2.9e+00  1.0e+00  1.0e+00  0.00e+00   0.000000000e+00   0.000000000e+00   1.0e+00  0.02  \n",
      "1   5.5e-01  1.9e-01  6.1e-02  -3.31e-01  -2.199987923e+00  -2.088227555e+00  1.9e-01  0.03  \n",
      "2   9.4e-02  3.2e-02  2.6e-03  1.49e+00   -1.737352116e+00  -1.718800222e+00  3.2e-02  0.03  \n",
      "3   1.3e-02  4.4e-03  8.4e-05  1.45e+00   -1.619635311e+00  -1.617338485e+00  4.4e-03  0.04  \n",
      "4   1.4e-03  4.6e-04  2.9e-06  1.06e+00   -1.609840773e+00  -1.609606984e+00  4.6e-04  0.04  \n",
      "5   1.4e-04  4.6e-05  8.5e-08  1.02e+00   -1.608447613e+00  -1.608424404e+00  4.6e-05  0.05  \n",
      "6   9.6e-06  3.3e-06  1.9e-09  1.00e+00   -1.608223547e+00  -1.608222002e+00  3.3e-06  0.05  \n",
      "7   4.1e-07  1.4e-07  1.3e-11  9.85e-01   -1.608209382e+00  -1.608209311e+00  1.4e-07  0.06  \n",
      "8   7.2e-09  2.5e-09  3.3e-14  9.93e-01   -1.608208850e+00  -1.608208849e+00  2.4e-09  0.06  \n",
      "Optimizer terminated. Time: 0.07    \n",
      "\n",
      "optimum = -1.608208849882282\n",
      " 36.186902 seconds (73.29 M allocations: 3.615 GiB, 6.47% gc time)\n"
     ]
    }
   ],
   "source": [
    "using NCTSSOS\n",
    "\n",
    "\n",
    "@time begin\n",
    "j=1\n",
    "opt,data=nctssos_first(Vector{Vector{Vector{UInt16}}}([[supp_f];supp_g;supp_h]),[[coe_f];coe_g;coe_h],n,k,[dg;dh],numeq=l,reducebasis=false,obj=\"eigen\",merge=false,TS=\"block\",QUIET=false)\n",
    "while j <= t-1\n",
    "    opt,data=nctssos_higher!(NCTSSOS.cdata_type(data),TS=\"block\")\n",
    "end\n",
    "end"
   ]
  },
  {
   "cell_type": "code",
   "execution_count": 5,
   "metadata": {},
   "outputs": [
    {
     "name": "stderr",
     "output_type": "stream",
     "text": [
      "WARNING: replacing module ctpNCPOP.\n",
      "┌ Warning: `with_optimizer` is deprecated. Adapt the following example to update your code:\n",
      "│ `with_optimizer(Ipopt.Optimizer, max_cpu_time=60.0)` becomes `optimizer_with_attributes(Ipopt.Optimizer, \"max_cpu_time\" => 60.0)`.\n",
      "│   caller = ip:0x0\n",
      "└ @ Core :-1\n"
     ]
    },
    {
     "name": "stdout",
     "output_type": "stream",
     "text": [
      "  Computing constant trace status: OPTIMAL\n",
      "  Constant trace: ak = 3.0\n",
      "  Number of blocks: omega=12\n",
      "  Size of the largest block: s^max=26\n",
      "  Number of equality trace constraints: zeta=122\n",
      "Modeling time:\n",
      "  4.025845 seconds (5.41 M allocations: 275.871 MiB, 3.15% gc time)\n",
      "iter=1   val=-6.124811590562455   gap=1.2465991674455064e-16   feas=3.495311521110802\n",
      "iter=2   val=-4.680310865807484   gap=0.06327904789523353   feas=2.4571549003126214\n",
      "iter=4   val=-1.404093259742245   gap=0.17648498947087707   feas=0.833919050699059\n",
      "iter=8   val=-1.9435004100694417   gap=0.14822044464455508   feas=0.4089250689983182\n",
      "iter=16   val=-1.7902966898305774   gap=0.07153614771450505   feas=0.28061465259905105\n",
      "iter=32   val=-1.5526841694419362   gap=0.1293135533837043   feas=0.13663283655829145\n",
      "iter=64   val=-1.454155720993745   gap=0.08661883072485627   feas=0.08804394853815818\n",
      "iter=128   val=-1.4787787014115248   gap=0.03892159250778476   feas=0.059637276193329244\n",
      "iter=256   val=-1.4536583625515853   gap=0.010524972028679976   feas=0.0458149860689099\n",
      "iter=512   val=-1.4305813687251392   gap=0.04163842856819648   feas=0.03650310285817563\n",
      "iter=1024   val=-1.367357552986724   gap=0.05845703101622112   feas=0.028020619188859633\n",
      "iter=2048   val=-1.2207272050783489   gap=0.06351892346568815   feas=0.01730042939179741\n",
      "iter=4096   val=-1.1304824682375982   gap=0.05867981773345608   feas=0.0105576901883942\n",
      "iter=8192   val=-1.00749894966096   gap=0.003339245516235896   feas=0.005122879427263205\n",
      "iter=16384   val=-0.9606933575497915   gap=0.005128621958362489   feas=0.0024627145829294412\n",
      "iter=32768   val=-0.9295729671319279   gap=0.0045891683276230175   feas=0.0012014453061078715\n",
      "iter=38546   val=-0.9266205241734796   gap=0.0006305735473409993   feas=0.0009999378645858745\n",
      "tol satisfies!!!\n",
      "\n",
      "####################################\n",
      "opt_val = -0.9266205241734796\n",
      "####################################\n",
      "Solving time:\n",
      " 23.034946 seconds (29.15 M allocations: 2.636 GiB, 2.56% gc time)\n",
      "Total time:\n",
      " 27.061035 seconds (34.56 M allocations: 2.905 GiB, 2.65% gc time)\n"
     ]
    },
    {
     "data": {
      "text/plain": [
       "-0.9266205241734796"
      ]
     },
     "execution_count": 5,
     "metadata": {},
     "output_type": "execute_result"
    }
   ],
   "source": [
    "include(\"../src/ctpNCPOP.jl\")\n",
    "using .ctpNCPOP\n",
    "\n",
    "opt_val=ctpNCPOP.POP_TS_CGAL(n,m,l,lmon_g,supp_g,coe_g,lmon_h,supp_h,coe_h,lmon_f,supp_f,coe_f,dg,dh,k,t,\n",
    "                         tol=1e-3,use_eqcons_to_get_constant_trace=false)"
   ]
  },
  {
   "cell_type": "code",
   "execution_count": 6,
   "metadata": {},
   "outputs": [],
   "source": [
    "#using ctpPOP\n",
    "\n",
    "#optval=ctpPOP.POP_NLP(n,m,l,lmon_g,supp_g,coe_g,lmon_h,supp_h,coe_h,lmon_f,supp_f,coe_f)"
   ]
  },
  {
   "cell_type": "code",
   "execution_count": null,
   "metadata": {},
   "outputs": [],
   "source": []
  }
 ],
 "metadata": {
  "kernelspec": {
   "display_name": "Julia 1.3.0",
   "language": "julia",
   "name": "julia-1.3"
  },
  "language_info": {
   "file_extension": ".jl",
   "mimetype": "application/julia",
   "name": "julia",
   "version": "1.3.0"
  }
 },
 "nbformat": 4,
 "nbformat_minor": 2
}
