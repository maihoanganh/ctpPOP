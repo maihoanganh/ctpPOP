{
 "cells": [
  {
   "cell_type": "code",
   "execution_count": 1,
   "metadata": {},
   "outputs": [],
   "source": [
    "using DynamicPolynomials, LinearAlgebra\n",
    "\n",
    "@ncpolyvar x1 x2 y1 y2 \n",
    "\n",
    "var=Vector{PolyVar{false}}([x1;x2;y1;y2])\n",
    "\n",
    "function star_algebra(mom)\n",
    "    if mom==1\n",
    "        return mom\n",
    "    else\n",
    "        ind=mom.z .>0\n",
    "        vars=mom.vars[ind]\n",
    "        exp=mom.z[ind]\n",
    "        return prod(vars[i]^exp[i] for i in length(exp):-1:1)\n",
    "    end\n",
    "end\n",
    "\n",
    "function get_star_alg(f)\n",
    "    mom=monomials(f)\n",
    "    coe=coefficients(f)\n",
    "    mom=star_algebra.(mom)\n",
    "    return dot(mom,coe)\n",
    "end\n",
    "\n",
    "u = x1*y1 + x1*y2 + x2*y1 - x2*y2\n",
    "\n",
    "f = (u + get_star_alg(u))/2\n",
    "\n",
    "g=Vector{Polynomial{false,Float64}}([])\n",
    "\n",
    "h=[1.0-x1^2;1-x2^2;1-y1^2;1-y2^2;x1*y1-y1*x1;x2*y1-y1*x2;x1*y2-y2*x1;x2*y2-y2*x2];"
   ]
  },
  {
   "cell_type": "code",
   "execution_count": 2,
   "metadata": {},
   "outputs": [],
   "source": [
    "include(\"../src/ctpNCPOP.jl\")\n",
    "using .ctpNCPOP\n",
    "\n",
    "n,m,l,lmon_g,supp_g,coe_g,lmon_h,supp_h,coe_h,lmon_f,supp_f,coe_f,dg,dh=ctpNCPOP.get_info(var,f,g,h);"
   ]
  },
  {
   "cell_type": "code",
   "execution_count": null,
   "metadata": {},
   "outputs": [],
   "source": [
    "println(\"Number of variables: n=\",n)\n",
    "println(\"Number of inequality constraints: m=\",m)\n",
    "println(\"Number of equality constraints: l=\",l)"
   ]
  },
  {
   "cell_type": "code",
   "execution_count": 18,
   "metadata": {},
   "outputs": [
    {
     "name": "stdout",
     "output_type": "stream",
     "text": [
      "Relaxation order: k=4\n"
     ]
    }
   ],
   "source": [
    "k=4\n",
    "\n",
    "println(\"Relaxation order: k=\",k)"
   ]
  },
  {
   "cell_type": "code",
   "execution_count": 19,
   "metadata": {},
   "outputs": [
    {
     "name": "stdout",
     "output_type": "stream",
     "text": [
      "  Computing constant trace status: OPTIMAL\n",
      "  Constant trace: ak = 341.0\n",
      "  Number of blocks: omega=1\n",
      "  Size of the largest block: s^max=341\n",
      "  Number of equality trace constraints: zeta="
     ]
    },
    {
     "name": "stderr",
     "output_type": "stream",
     "text": [
      "WARNING: replacing module ctpNCPOP.\n"
     ]
    },
    {
     "name": "stdout",
     "output_type": "stream",
     "text": [
      "36461\n",
      "Modeling time:\n",
      "  5.361050 seconds (7.20 M allocations: 26.163 GiB, 23.27% gc time)\n",
      "iter=1   val=-241.12341238461272   gap=2.3477043504786023e-16   feas=596.7508378712174\n",
      "iter=2   val=-241.09353782558063   gap=0.019169513064235283   feas=446.0247782823504\n",
      "iter=4   val=-72.32806134857316   gap=0.11365621381945328   feas=309.2105580544952\n",
      "iter=8   val=-37.19017352566523   gap=0.5374725824598433   feas=206.16078364054488\n",
      "iter=16   val=-20.76711019176103   gap=0.6882911362624105   feas=129.87776027650602\n",
      "iter=32   val=-6.604922417182604   gap=0.8650251930799944   feas=85.79387109272041\n",
      "iter=64   val=-2.334617407857749   gap=0.9254835195632091   feas=26.377030674835336\n",
      "iter=128   val=-1.9298727206805997   gap=0.8820899872353075   feas=20.110702638334434\n",
      "iter=256   val=-1.3053006969913339   gap=0.820465921037807   feas=10.456436703304592\n",
      "iter=512   val=-1.4428999862351826   gap=0.6606503223047583   feas=5.675350397592218\n",
      "iter=1024   val=-1.985226786743082   gap=0.4843448759734744   feas=2.2303057292600452\n",
      "iter=2048   val=-2.4067251890986965   gap=0.31295487485409035   feas=0.9024141512400163\n",
      "iter=4096   val=-2.6107188340470904   gap=0.29652479131248805   feas=0.4163272198765727\n"
     ]
    },
    {
     "ename": "InterruptException",
     "evalue": "InterruptException:",
     "output_type": "error",
     "traceback": [
      "InterruptException:",
      "",
      "Stacktrace:",
      " [1] #108 at ./none:0 [inlined]",
      " [2] iterate at ./generator.jl:47 [inlined]",
      " [3] iterate at ./iterators.jl:903 [inlined]",
      " [4] grow_to!(::Array{Float64,1}, ::Base.Iterators.Flatten{Base.Generator{UnitRange{UInt64},Main.ctpNCPOP.var\"#108#109\"{Array{Float64,1}}}}, ::Tuple{UInt64,Base.Generator{UnitRange{UInt64},Main.ctpNCPOP.var\"#107#110\"{UInt64,Array{Float64,1}}},UInt64}) at ./array.jl:713",
      " [5] grow_to!(::Array{Float64,1}, ::Base.Iterators.Flatten{Base.Generator{UnitRange{UInt64},Main.ctpNCPOP.var\"#108#109\"{Array{Float64,1}}}}) at ./array.jl:686",
      " [6] _collect at ./array.jl:596 [inlined]",
      " [7] collect at ./array.jl:560 [inlined]",
      " [8] getmatvec_dense at /home/hoanganh/Desktop/math-topics/ctpNCPOP/code/ctpNCPOP/src/dense_pop/pop_dense_CGAL.jl:456 [inlined]",
      " [9] SmallEigBlocks_dense(::Array{Adjoint{Float64,Array{Float64,1}},1}, ::Array{SparseArrays.SparseMatrixCSC{Float64,Ti} where Ti<:Integer,1}, ::Array{Float64,1}, ::Array{UInt64,1}, ::Int64) at /home/hoanganh/Desktop/math-topics/ctpNCPOP/code/ctpNCPOP/src/dense_pop/pop_dense_CGAL.jl:482",
      " [10] update_dense_CGAL!(::Array{Float64,1}, ::Array{Float64,1}, ::Array{Float64,1}, ::Int64, ::Array{SparseArrays.SparseMatrixCSC{Float64,Ti} where Ti<:Integer,1}, ::Array{Adjoint{Float64,Array{Float64,1}},1}, ::Array{UInt64,1}, ::Int64, ::Float64, ::Float64, ::Float64) at /home/hoanganh/Desktop/math-topics/ctpNCPOP/code/ctpNCPOP/src/dense_pop/pop_dense_CGAL.jl:492",
      " [11] #solve_POP_dense_CGAL#111(::Int64, ::Float64, ::Bool, ::typeof(Main.ctpNCPOP.solve_POP_dense_CGAL), ::Int64, ::Array{Adjoint{Float64,Array{Float64,1}},1}, ::Array{SparseArrays.SparseMatrixCSC{Float64,Ti} where Ti<:Integer,1}, ::Array{UInt64,1}, ::UInt64, ::Float64, ::Float64, ::Float64) at /home/hoanganh/Desktop/math-topics/ctpNCPOP/code/ctpNCPOP/src/dense_pop/pop_dense_CGAL.jl:527",
      " [12] #solve_POP_dense_CGAL at ./none:0 [inlined]",
      " [13] macro expansion at ./util.jl:155 [inlined]",
      " [14] macro expansion at /home/hoanganh/Desktop/math-topics/ctpNCPOP/code/ctpNCPOP/src/dense_pop/pop_dense_CGAL.jl:580 [inlined]",
      " [15] macro expansion at ./util.jl:155 [inlined]",
      " [16] #POP_dense_CGAL#112(::Int64, ::Float64, ::Bool, ::Bool, ::typeof(Main.ctpNCPOP.POP_dense_CGAL), ::Int64, ::Int64, ::Int64, ::Array{UInt64,1}, ::Array{Array{Array{UInt64,1},1},1}, ::Array{Array{Float64,1},1}, ::Array{UInt64,1}, ::Array{Array{Array{UInt64,1},1},1}, ::Array{Array{Float64,1},1}, ::Int64, ::Array{Array{UInt64,1},1}, ::Array{Float64,1}, ::Array{Int64,1}, ::Array{Int64,1}, ::Int64) at /home/hoanganh/Desktop/math-topics/ctpNCPOP/code/ctpNCPOP/src/dense_pop/pop_dense_CGAL.jl:573",
      " [17] (::Main.ctpNCPOP.var\"#kw##POP_dense_CGAL\")(::NamedTuple{(:maxit, :tol, :use_eqcons_to_get_constant_trace, :check_tol_each_iter),Tuple{Int64,Float64,Bool,Bool}}, ::typeof(Main.ctpNCPOP.POP_dense_CGAL), ::Int64, ::Int64, ::Int64, ::Array{UInt64,1}, ::Array{Array{Array{UInt64,1},1},1}, ::Array{Array{Float64,1},1}, ::Array{UInt64,1}, ::Array{Array{Array{UInt64,1},1},1}, ::Array{Array{Float64,1},1}, ::Int64, ::Array{Array{UInt64,1},1}, ::Array{Float64,1}, ::Array{Int64,1}, ::Array{Int64,1}, ::Int64) at ./none:0",
      " [18] top-level scope at In[19]:3"
     ]
    }
   ],
   "source": [
    "include(\"../src/ctpNCPOP.jl\")\n",
    "using .ctpNCPOP\n",
    "\n",
    "opt_val1=ctpNCPOP.POP_dense_CGAL(n,m,l,lmon_g,supp_g,coe_g,lmon_h,supp_h,coe_h,lmon_f,supp_f,coe_f,dg,dh,k,\n",
    "                                 maxit=Int64(1e6),tol=1e-3,\n",
    "                                 use_eqcons_to_get_constant_trace=true,\n",
    "                                 check_tol_each_iter=true)"
   ]
  },
  {
   "cell_type": "code",
   "execution_count": null,
   "metadata": {},
   "outputs": [],
   "source": []
  },
  {
   "cell_type": "code",
   "execution_count": null,
   "metadata": {},
   "outputs": [],
   "source": []
  },
  {
   "cell_type": "code",
   "execution_count": 20,
   "metadata": {},
   "outputs": [
    {
     "name": "stdout",
     "output_type": "stream",
     "text": [
      "------------------------------------------------------\n",
      "The sizes of blocks:\n",
      "[341]\n",
      "[1]\n",
      "------------------------------------------------------\n",
      "Problem\n",
      "  Name                   :                 \n",
      "  Objective sense        : max             \n",
      "  Type                   : CONIC (conic optimization problem)\n",
      "  Constraints            : 44031           \n",
      "  Cones                  : 0               \n",
      "  Scalar variables       : 29241           \n",
      "  Matrix variables       : 1               \n",
      "  Integer variables      : 0               \n",
      "\n",
      "Optimizer started.\n",
      "Presolve started.\n",
      "Linear dependency checker started.\n",
      "Linear dependency checker terminated.\n",
      "Eliminator started.\n",
      "Freed constraints in eliminator : 0\n",
      "Eliminator terminated.\n",
      "Eliminator started.\n",
      "Freed constraints in eliminator : 0\n",
      "Eliminator terminated.\n",
      "Eliminator - tries                  : 2                 time                   : 0.00            \n",
      "Lin. dep.  - tries                  : 1                 time                   : 0.01            \n",
      "Lin. dep.  - number                 : 0               \n",
      "Presolve terminated. Time: 0.04    \n",
      "Problem\n",
      "  Name                   :                 \n",
      "  Objective sense        : max             \n",
      "  Type                   : CONIC (conic optimization problem)\n",
      "  Constraints            : 44031           \n",
      "  Cones                  : 0               \n",
      "  Scalar variables       : 29241           \n",
      "  Matrix variables       : 1               \n",
      "  Integer variables      : 0               \n",
      "\n",
      "Optimizer  - threads                : 4               \n",
      "Optimizer  - solved problem         : the primal      \n",
      "Optimizer  - Constraints            : 44031\n",
      "Optimizer  - Cones                  : 1\n",
      "Optimizer  - Scalar variables       : 28062             conic                  : 28062           \n",
      "Optimizer  - Semi-definite variables: 1                 scalarized             : 58311           \n",
      "Factor     - setup time             : 519.65            dense det. time        : 0.00            \n",
      "Factor     - ML order time          : 431.40            GP order time          : 0.00            \n",
      "Factor     - nonzeros before factor : 9.69e+08          after factor           : 9.69e+08        \n",
      "Factor     - dense dim.             : 2                 flops                  : 2.85e+13        \n",
      "ITE PFEAS    DFEAS    GFEAS    PRSTATUS   POBJ              DOBJ              MU       TIME  \n",
      "0   1.0e+00  1.0e+00  1.0e+00  0.00e+00   0.000000000e+00   0.000000000e+00   1.0e+00  519.82\n",
      "1   7.4e-01  7.4e-01  7.6e-01  2.87e-01   1.479828338e-01   1.167948821e-02   7.4e-01  895.13\n"
     ]
    },
    {
     "name": "stderr",
     "output_type": "stream",
     "text": [
      "WARNING: Force throwing a SIGINT\n"
     ]
    },
    {
     "ename": "InterruptException",
     "evalue": "InterruptException:",
     "output_type": "error",
     "traceback": [
      "InterruptException:",
      ""
     ]
    }
   ],
   "source": [
    "using NCTSSOS\n",
    "\n",
    "@time ctpNCPOP.nctssos_first(Vector{Vector{Vector{UInt16}}}([[supp_f];supp_g;supp_h]),[[coe_f];coe_g;coe_h],\n",
    "    n,k,[dg;dh],numeq=l,reducebasis=false,obj=\"eigen\",merge=false,TS=false,QUIET=false);"
   ]
  },
  {
   "cell_type": "code",
   "execution_count": null,
   "metadata": {},
   "outputs": [],
   "source": []
  }
 ],
 "metadata": {
  "kernelspec": {
   "display_name": "Julia 1.3.0",
   "language": "julia",
   "name": "julia-1.3"
  },
  "language_info": {
   "file_extension": ".jl",
   "mimetype": "application/julia",
   "name": "julia",
   "version": "1.3.0"
  }
 },
 "nbformat": 4,
 "nbformat_minor": 2
}
