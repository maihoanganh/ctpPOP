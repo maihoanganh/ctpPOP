{
 "cells": [
  {
   "cell_type": "code",
   "execution_count": 47,
   "metadata": {},
   "outputs": [
    {
     "name": "stdout",
     "output_type": "stream",
     "text": [
      "***Problem setting***\n",
      "Number of variable: n=20\n",
      "====================\n",
      "Number of inequality constraints: m=1\n",
      "====================\n",
      "Number of equality constraints: l=5\n"
     ]
    }
   ],
   "source": [
    "using DynamicPolynomials, LinearAlgebra, SparseArrays\n",
    "\n",
    "println(\"***Problem setting***\")\n",
    "\n",
    "n=20\n",
    "\n",
    "println(\"Number of variable: n=\",n)\n",
    "println(\"====================\")\n",
    "\n",
    "@polyvar x[1:n]# variables\n",
    "\n",
    "function generate_random_poly(v)\n",
    "    c=2*rand(Float64,length(v)).-1\n",
    "    return c'*v\n",
    "end\n",
    "# random quadratic objective function f\n",
    "v=reverse(monomials(x,0:2))\n",
    "f=generate_random_poly(v)\n",
    "\n",
    "\n",
    "# unit sphere constraint\n",
    "m=1\n",
    "q=floor(Int64,n/m)\n",
    "R=ones(Float64,m)./m\n",
    "T=[(j-1)*q+1:j*q for j in 1:m-1]\n",
    "append!(T,[(m-1)*q+1:n])\n",
    "\n",
    "g=[R[j]-sum(x[T[j]].^2) for j in 1:m]\n",
    "\n",
    "m=length(g)\n",
    "println(\"Number of inequality constraints: m=\",m)\n",
    "println(\"====================\")\n",
    "\n",
    "l=ceil(Int64, n/4)\n",
    "\n",
    "h=Vector{Polynomial{true,Float64}}(undef,l)\n",
    "randx=[2*rand(length(T[j])).-1 for j in 1:m]# create a feasible solution\n",
    "randx=[sqrt(R[j])*rand(1)[1]*randx[j]/norm(randx[j]) for j in 1:m]\n",
    "randx=vcat(randx...)\n",
    "\n",
    "for j in 1:l\n",
    "    h[j]=generate_random_poly(v[2:end])\n",
    "    h[j]-=h[j](x => randx) #make constraints feasible\n",
    "end\n",
    "\n",
    "l=length(h)\n",
    "println(\"Number of equality constraints: l=\",l)"
   ]
  },
  {
   "cell_type": "code",
   "execution_count": 48,
   "metadata": {},
   "outputs": [
    {
     "name": "stderr",
     "output_type": "stream",
     "text": [
      "WARNING: replacing module ctpPOP.\n"
     ]
    }
   ],
   "source": [
    "include(\"../src/ctpPOP.jl\")\n",
    "using .ctpPOP\n",
    "\n",
    "n,m,l,lmon_g,supp_g,coe_g,lmon_h,supp_h,coe_h,lmon_f,supp_f,coe_f,dg,dh=ctpPOP.get_info(x,f,g,h,sparse=false);"
   ]
  },
  {
   "cell_type": "code",
   "execution_count": 49,
   "metadata": {},
   "outputs": [
    {
     "name": "stdout",
     "output_type": "stream",
     "text": [
      "Relaxed order: k=2\n"
     ]
    }
   ],
   "source": [
    "k=2\n",
    "println(\"Relaxed order: k=\",k)"
   ]
  },
  {
   "cell_type": "code",
   "execution_count": 50,
   "metadata": {
    "scrolled": true
   },
   "outputs": [
    {
     "name": "stdout",
     "output_type": "stream",
     "text": [
      "  Computing constant trace status: OPTIMAL\n",
      "  Constant trace: ak = 1.0525\n",
      "  Number of blocks: omega=2\n",
      "  Size of the largest block: s^max=231\n",
      "  Number of equality trace constraints: zeta=17557\n",
      "Modeling time:\n",
      "  1.743513 seconds (5.32 M allocations: 1.149 GiB, 30.52% gc time)\n",
      "iter=1   val=-1.9435500335345697   gap=0.4393184622396889   feas=0.18447968459660363\n",
      "iter=2   val=-2.371910063980915   gap=0.011276377383696365   feas=0.9521610364449412\n",
      "iter=4   val=-1.7850062440282106   gap=0.3434143633864792   feas=0.26492334043410865\n",
      "iter=8   val=-1.6374847084299347   gap=0.15729167417540021   feas=0.1014242005077361\n",
      "iter=16   val=-1.5803593174122548   gap=0.0580951803586076   feas=0.05026811576399621\n",
      "iter=32   val=-1.551484496140646   gap=0.01048237368756924   feas=0.019612585852502657\n",
      "iter=64   val=-1.537464825998932   gap=0.010570574625627976   feas=0.01044223754294872\n",
      "iter=128   val=-1.5330253452731988   gap=0.00465937902791774   feas=0.002326434818588641\n",
      "iter=256   val=-1.5325305194478098   gap=0.0031573644781084003   feas=0.0009998157433022989\n",
      "iter=512   val=-1.5345144230065582   gap=0.0008084865445164451   feas=0.00021434808793773346\n",
      "iter=918   val=-1.5344686279849087   gap=9.947292315023297e-5   feas=6.442277799493398e-5\n",
      "tol satisfies!!!\n",
      "\n",
      "####################################\n",
      "opt_val = -1.5344686279849087\n",
      "####################################\n",
      "Solving time:\n",
      "  3.914609 seconds (729.25 k allocations: 1.745 GiB, 3.94% gc time)\n",
      "Total time:\n",
      "  5.658484 seconds (6.05 M allocations: 2.894 GiB, 12.13% gc time)\n"
     ]
    },
    {
     "name": "stderr",
     "output_type": "stream",
     "text": [
      "WARNING: replacing module ctpPOP.\n"
     ]
    },
    {
     "data": {
      "text/plain": [
       "-1.5344686279849087"
      ]
     },
     "execution_count": 50,
     "metadata": {},
     "output_type": "execute_result"
    }
   ],
   "source": [
    "include(\"../src/ctpPOP.jl\")\n",
    "using .ctpPOP\n",
    "\n",
    "opt_val1=ctpPOP.POP_dense_CGAL(n,m,l,lmon_g,supp_g,coe_g,lmon_h,supp_h,coe_h,lmon_f,supp_f,coe_f,dg,dh,k,\n",
    "                         maxit=Int64(1e6),tol=1e-4,\n",
    "                         use_eqcons_to_get_constant_trace=false,\n",
    "                         check_tol_each_iter=true)"
   ]
  },
  {
   "cell_type": "code",
   "execution_count": 51,
   "metadata": {},
   "outputs": [
    {
     "name": "stdout",
     "output_type": "stream",
     "text": [
      "**SumOfSquares+Mosek:\n",
      "------------------------------------------------------------------\n",
      "          COSMO v0.7.7 - A Quadratic Objective Conic Solver\n",
      "                         Michael Garstka\n",
      "                University of Oxford, 2017 - 2020\n",
      "------------------------------------------------------------------\n",
      "\n",
      "Problem:  x ∈ R^{28183},\n",
      "          constraints: A ∈ R^{37653x28183} (325480 nnz),\n",
      "          matrix size to factor: 65836x65836,\n",
      "          Floating-point precision: Float64\n",
      "Sets:     PsdConeTriangle of dim: 26796\n",
      "          ZeroSet of dim: 10626\n",
      "          PsdConeTriangle of dim: 231\n",
      "Settings: ϵ_abs = 1.0e-04, ϵ_rel = 1.0e-04,\n",
      "          ϵ_prim_inf = 1.0e-06, ϵ_dual_inf = 1.0e-04,\n",
      "          ρ = 0.1, σ = 1e-06, α = 1.6,\n",
      "          max_iter = 2500,\n",
      "          scaling iter = 10 (on),\n",
      "          check termination every 40 iter,\n",
      "          check infeasibility every 40 iter,\n",
      "          KKT system solver: COSMO.QdldlKKTSolver\n",
      "Setup Time: 619.37ms\n",
      "\n",
      "Iter:\tObjective:\tPrimal Res:\tDual Res:\tRho:\n",
      "1\t-1.4512e+01\t1.6061e+01\t5.9999e-01\t1.0000e-01\n",
      "40\t1.5488e+00\t5.4079e-03\t1.2133e-03\t1.0000e-01\n",
      "80\t1.5378e+00\t1.6055e-03\t4.6503e-04\t1.0000e-01\n",
      "120\t1.5356e+00\t7.0196e-04\t2.2818e-04\t1.0000e-01\n",
      "160\t1.5350e+00\t3.4991e-04\t1.2009e-04\t1.0000e-01\n",
      "\n",
      "------------------------------------------------------------------\n",
      ">>> Results\n",
      "Status: \u001b[32mSolved\u001b[39m\n",
      "Iterations: 160\n",
      "Optimal objective: 1.535\n",
      "Runtime: 4.578s (4578.07ms)\n",
      "\n",
      "OPTIMAL\n",
      "opt_val=-1.5350101459319332\n",
      "  7.497142 seconds (12.80 M allocations: 1.449 GiB, 6.73% gc time)\n"
     ]
    },
    {
     "name": "stderr",
     "output_type": "stream",
     "text": [
      "WARNING: replacing module ctpPOP.\n"
     ]
    },
    {
     "data": {
      "text/plain": [
       "-1.5350101459319332"
      ]
     },
     "execution_count": 51,
     "metadata": {},
     "output_type": "execute_result"
    }
   ],
   "source": [
    "include(\"../src/ctpPOP.jl\")\n",
    "using .ctpPOP\n",
    "\n",
    "opt_val2=ctpPOP.POP_dense_SOS(x,f,g,h,k,tol=1e-3,solver=\"COSMO\")"
   ]
  },
  {
   "cell_type": "code",
   "execution_count": 52,
   "metadata": {},
   "outputs": [
    {
     "name": "stdout",
     "output_type": "stream",
     "text": [
      "**SumOfSquares+Mosek:\n",
      "Problem\n",
      "  Name                   :                 \n",
      "  Objective sense        : max             \n",
      "  Type                   : CONIC (conic optimization problem)\n",
      "  Constraints            : 10626           \n",
      "  Cones                  : 0               \n",
      "  Scalar variables       : 1156            \n",
      "  Matrix variables       : 2               \n",
      "  Integer variables      : 0               \n",
      "\n",
      "Optimizer started.\n",
      "Presolve started.\n",
      "Linear dependency checker started.\n",
      "Linear dependency checker terminated.\n",
      "Eliminator started.\n",
      "Freed constraints in eliminator : 0\n",
      "Eliminator terminated.\n",
      "Eliminator - tries                  : 1                 time                   : 0.00            \n",
      "Lin. dep.  - tries                  : 1                 time                   : 0.00            \n",
      "Lin. dep.  - number                 : 0               \n",
      "Presolve terminated. Time: 0.03    \n",
      "Problem\n",
      "  Name                   :                 \n",
      "  Objective sense        : max             \n",
      "  Type                   : CONIC (conic optimization problem)\n",
      "  Constraints            : 10626           \n",
      "  Cones                  : 0               \n",
      "  Scalar variables       : 1156            \n",
      "  Matrix variables       : 2               \n",
      "  Integer variables      : 0               \n",
      "\n",
      "Optimizer  - threads                : 4               \n",
      "Optimizer  - solved problem         : the primal      \n",
      "Optimizer  - Constraints            : 10626\n",
      "Optimizer  - Cones                  : 1\n",
      "Optimizer  - Scalar variables       : 1157              conic                  : 1157            \n",
      "Optimizer  - Semi-definite variables: 2                 scalarized             : 27027           \n",
      "Factor     - setup time             : 13.47             dense det. time        : 0.00            \n",
      "Factor     - ML order time          : 9.09              GP order time          : 0.00            \n",
      "Factor     - nonzeros before factor : 5.65e+07          after factor           : 5.65e+07        \n",
      "Factor     - dense dim.             : 2                 flops                  : 4.02e+11        \n",
      "ITE PFEAS    DFEAS    GFEAS    PRSTATUS   POBJ              DOBJ              MU       TIME  \n",
      "0   2.0e+00  1.0e+00  1.0e+00  0.00e+00   0.000000000e+00   0.000000000e+00   1.0e+00  13.55 \n",
      "1   2.0e-01  9.8e-02  1.9e-01  -9.09e-01  -3.239428671e+00  -6.376743598e+00  9.8e-02  25.44 \n",
      "2   2.1e-03  1.1e-03  2.7e-04  6.39e-01   -1.548134095e+00  -1.609309302e+00  1.1e-03  36.61 \n",
      "3   2.6e-05  1.3e-05  1.4e-07  1.04e+00   -1.535285839e+00  -1.535340459e+00  1.3e-05  47.84 \n",
      "4   2.7e-08  1.3e-08  2.9e-12  1.02e+00   -1.534610070e+00  -1.534610054e+00  1.3e-08  59.14 \n",
      "5   2.1e-12  4.3e-13  4.6e-19  1.00e+00   -1.534609419e+00  -1.534609419e+00  3.7e-13  70.37 \n",
      "Optimizer terminated. Time: 70.40   \n",
      "\n",
      "OPTIMAL\n",
      "opt_val=-1.5346094192953108\n",
      " 72.744811 seconds (12.41 M allocations: 1.327 GiB, 0.63% gc time)\n"
     ]
    },
    {
     "name": "stderr",
     "output_type": "stream",
     "text": [
      "WARNING: replacing module ctpPOP.\n"
     ]
    },
    {
     "data": {
      "text/plain": [
       "-1.5346094192953108"
      ]
     },
     "execution_count": 52,
     "metadata": {},
     "output_type": "execute_result"
    }
   ],
   "source": [
    "include(\"../src/ctpPOP.jl\")\n",
    "using .ctpPOP\n",
    "\n",
    "opt_val2=ctpPOP.POP_dense_SOS(x,f,g,h,k,tol=1e-3)"
   ]
  },
  {
   "cell_type": "code",
   "execution_count": 53,
   "metadata": {},
   "outputs": [
    {
     "name": "stdout",
     "output_type": "stream",
     "text": [
      "  Computing constant trace status: OPTIMAL\n",
      "  Constant trace: ak = 1.0525\n",
      "  Number of blocks: omega=2\n",
      "  Size of the largest block: s^max=231\n",
      "  Number of equality trace constraints: zeta=17557\n",
      "Modeling time:\n",
      "  2.020155 seconds (5.32 M allocations: 1.149 GiB, 41.44% gc time)\n",
      "---------------\n",
      "| Parameters: |\n",
      "---------------\n",
      "n:       17557\n",
      "maxtime: 300000.000000\n",
      "na:      2\n",
      "mcu:     5\n",
      "mc:      7\n",
      "rpar: \n",
      "ipar: \n",
      " Warning: MC > MCU. Assigned MC = MCU.\n",
      " Entry to LMBM:\n",
      " NIT=    1  NFE=    1  F= 0.38857129D+00  WK= 0.4086D+00  QK= 0.2043D+00\n",
      " NIT=    2  NFE=    2  F= 0.26292230D+00  WK= 0.2299D-01  QK= 0.1029D-01\n",
      " NIT=    3  NFE=    3  F= 0.24564688D+00  WK= 0.2065D-01  QK= 0.3472D-02\n",
      " NIT=    4  NFE=    4  F= 0.23145866D+00  WK= 0.7774D-02  QK= 0.6173D-03\n",
      " NIT=    5  NFE=    5  F= 0.22619582D+00  WK= 0.3804D-02  QK= 0.1250D-03\n",
      " NIT=    6  NFE=    6  F= 0.22366165D+00  WK= 0.1645D-02  QK= 0.2434D-04\n",
      " Exit from LMBM:\n",
      " NIT=    7  NFE=    7  F= 0.22285259D+00  WK= 0.8107D-03  QK= 0.1907D-04  ITERM=  1\n",
      "-----------\n",
      "| Output: |\n",
      "-----------\n",
      "Termination:     1\n",
      "N. iter.:        7\n",
      "N. func. eval.:  7\n",
      "Final value:     0.222853\n",
      "Execution time:  0.200562\n",
      "\n",
      "####################################\n",
      "opt_val = -1.5359733026452438\n",
      "####################################\n",
      "Solving time:\n",
      "  0.359843 seconds (262.60 k allocations: 62.752 MiB, 3.36% gc time)\n",
      "Total time:\n",
      "  2.380371 seconds (5.59 M allocations: 1.210 GiB, 35.67% gc time)\n"
     ]
    },
    {
     "name": "stderr",
     "output_type": "stream",
     "text": [
      "WARNING: replacing module ctpPOP.\n"
     ]
    },
    {
     "data": {
      "text/plain": [
       "-1.5359733026452438"
      ]
     },
     "execution_count": 53,
     "metadata": {},
     "output_type": "execute_result"
    }
   ],
   "source": [
    "include(\"../src/ctpPOP.jl\")\n",
    "using .ctpPOP\n",
    "\n",
    "opt_val=ctpPOP.POP_dense_LMBM(n,m,l,lmon_g,supp_g,coe_g,lmon_h,supp_h,coe_h,lmon_f,supp_f,coe_f,dg,dh,k,\n",
    "                         tol=1e-3,use_eqcons_to_get_constant_trace=false)"
   ]
  },
  {
   "cell_type": "code",
   "execution_count": 54,
   "metadata": {},
   "outputs": [
    {
     "name": "stdout",
     "output_type": "stream",
     "text": [
      "This is Ipopt version 3.13.2, running with linear solver mumps.\n",
      "NOTE: Other linear solvers might be more efficient (see Ipopt documentation).\n",
      "\n",
      "Number of nonzeros in equality constraint Jacobian...:     2100\n",
      "Number of nonzeros in inequality constraint Jacobian.:       20\n",
      "Number of nonzeros in Lagrangian Hessian.............:     1280\n",
      "\n",
      "Total number of variables............................:       20\n",
      "                     variables with only lower bounds:        0\n",
      "                variables with lower and upper bounds:        0\n",
      "                     variables with only upper bounds:        0\n",
      "Total number of equality constraints.................:        5\n",
      "Total number of inequality constraints...............:        1\n",
      "        inequality constraints with only lower bounds:        1\n",
      "   inequality constraints with lower and upper bounds:        0\n",
      "        inequality constraints with only upper bounds:        0\n",
      "\n",
      "iter    objective    inf_pr   inf_du lg(mu)  ||d||  lg(rg) alpha_du alpha_pr  ls\n",
      "   0 -9.5254639e-01 6.99e-02 9.89e-01  -1.0 0.00e+00    -  0.00e+00 0.00e+00   0\n",
      "   1 -1.0317846e+00 2.44e-03 2.70e+00  -1.7 2.66e-02   2.0 1.00e+00 1.00e+00h  1\n",
      "   2 -1.2204897e+00 5.53e-03 9.12e-01  -1.7 2.70e-02   1.5 1.00e+00 1.00e+00f  1\n",
      "   3 -1.7482530e+00 4.13e-02 9.03e-01  -1.7 9.40e-02   1.0 1.00e+00 1.00e+00f  1\n",
      "   4 -1.4840386e+00 9.74e-03 2.12e-01  -1.7 4.82e-02   0.6 1.00e+00 1.00e+00h  1\n",
      "   5 -1.5307695e+00 3.67e-04 1.98e-02  -1.7 1.67e-02    -  1.00e+00 1.00e+00h  1\n",
      "   6 -1.5343541e+00 7.90e-06 3.54e-04  -3.8 1.61e-03    -  1.00e+00 1.00e+00h  1\n",
      "   7 -1.5346076e+00 1.16e-08 2.35e-07  -5.7 5.91e-05    -  1.00e+00 1.00e+00h  1\n",
      "   8 -1.5346095e+00 4.59e-13 1.11e-11  -8.6 3.48e-07    -  1.00e+00 1.00e+00h  1\n",
      "\n",
      "Number of Iterations....: 8\n",
      "\n",
      "                                   (scaled)                 (unscaled)\n",
      "Objective...............:  -1.5346094771146097e+00   -1.5346094771146097e+00\n",
      "Dual infeasibility......:   1.1080913964178762e-11    1.1080913964178762e-11\n",
      "Constraint violation....:   4.5927844860571554e-13    4.5927844860571554e-13\n",
      "Complementarity.........:   2.5110927666471983e-09    2.5110927666471983e-09\n",
      "Overall NLP error.......:   2.5110927666471983e-09    2.5110927666471983e-09\n",
      "\n",
      "\n",
      "Number of objective function evaluations             = 9\n",
      "Number of objective gradient evaluations             = 9\n",
      "Number of equality constraint evaluations            = 9\n",
      "Number of inequality constraint evaluations          = 9\n",
      "Number of equality constraint Jacobian evaluations   = 9\n",
      "Number of inequality constraint Jacobian evaluations = 9\n",
      "Number of Lagrangian Hessian evaluations             = 8\n",
      "Total CPU secs in IPOPT (w/o function evaluations)   =      0.009\n",
      "Total CPU secs in NLP function evaluations           =      0.000\n",
      "\n",
      "EXIT: Optimal Solution Found.\n",
      "LOCALLY_SOLVED\n",
      "opt_val=-1.5346094771146097\n",
      "  0.895083 seconds (1.76 M allocations: 100.099 MiB, 6.31% gc time)\n"
     ]
    },
    {
     "name": "stderr",
     "output_type": "stream",
     "text": [
      "WARNING: replacing module ctpPOP.\n"
     ]
    },
    {
     "data": {
      "text/plain": [
       "-1.5346094771146097"
      ]
     },
     "execution_count": 54,
     "metadata": {},
     "output_type": "execute_result"
    }
   ],
   "source": [
    "include(\"../src/ctpPOP.jl\")\n",
    "using .ctpPOP\n",
    "\n",
    "optval=ctpPOP.POP_NLP(n,m,l,lmon_g,supp_g,coe_g,lmon_h,supp_h,coe_h,lmon_f,supp_f,coe_f)"
   ]
  },
  {
   "cell_type": "code",
   "execution_count": null,
   "metadata": {},
   "outputs": [],
   "source": []
  }
 ],
 "metadata": {
  "kernelspec": {
   "display_name": "Julia 1.3.0",
   "language": "julia",
   "name": "julia-1.3"
  },
  "language_info": {
   "file_extension": ".jl",
   "mimetype": "application/julia",
   "name": "julia",
   "version": "1.3.0"
  }
 },
 "nbformat": 4,
 "nbformat_minor": 2
}
