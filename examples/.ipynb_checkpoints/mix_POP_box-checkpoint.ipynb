{
 "cells": [
  {
   "cell_type": "code",
   "execution_count": 8,
   "metadata": {},
   "outputs": [
    {
     "name": "stdout",
     "output_type": "stream",
     "text": [
      "***Problem setting***\n",
      "Number of variable: n=5\n",
      "====================\n",
      "Number of inequality constraints: m=5\n",
      "====================\n",
      "Number of equality constraints: l=1\n",
      "====================\n"
     ]
    }
   ],
   "source": [
    "using DynamicPolynomials, LinearAlgebra, SparseArrays\n",
    "\n",
    "println(\"***Problem setting***\")\n",
    "\n",
    "n=5\n",
    "\n",
    "println(\"Number of variable: n=\",n)\n",
    "println(\"====================\")\n",
    "\n",
    "@polyvar x[1:n]# variables\n",
    "\n",
    "function generate_random_poly(T::UnitRange{Int64})\n",
    "    v=reverse(monomials(x[T],2))\n",
    "    c=2*rand(Float64,length(v)).-1\n",
    "    return c'*v\n",
    "end\n",
    "\n",
    "# unit sphere constraint\n",
    "u=5\n",
    "p=floor(Int64,n/u)+1\n",
    "\n",
    "I=Vector{UnitRange{Int64}}(undef,p)\n",
    "I[1]=1:u\n",
    "I[2:p-1]=[u*(j-1):u*j for j in 2:p-1]\n",
    "I[p]=u*(p-1):n\n",
    "\n",
    "# random quadratic objective function f\n",
    "f=sum(generate_random_poly(I[j]) for j in 1:p)\n",
    "\n",
    "\n",
    "\n",
    "g=-(x.^2).+(1/u)\n",
    "\n",
    "\n",
    "\n",
    "m=length(g)\n",
    "println(\"Number of inequality constraints: m=\",m)\n",
    "println(\"====================\")\n",
    "\n",
    "l=ceil(Int64, n/7)\n",
    "\n",
    "r=floor(Int64,l/p)\n",
    "W=[(j-1)*r+1:j*r for j in 1:p-1]\n",
    "append!(W,[(p-1)*r+1:l])\n",
    "\n",
    "h=Vector{Polynomial{true,Float64}}(undef,l)\n",
    "\n",
    "randx=2*rand(n).-1\n",
    "randx=randx./sqrt(u)\n",
    "\n",
    "for j in 1:p\n",
    "    for i in W[j]\n",
    "        h[i]=generate_random_poly(I[j])\n",
    "        h[i]-=h[i](x => randx) #make constraints feasible\n",
    "    end\n",
    "end\n",
    "\n",
    "l=length(h)\n",
    "println(\"Number of equality constraints: l=\",l)\n",
    "println(\"====================\")\n",
    "\n"
   ]
  },
  {
   "cell_type": "code",
   "execution_count": 9,
   "metadata": {},
   "outputs": [
    {
     "name": "stdout",
     "output_type": "stream",
     "text": [
      "Relaxed order: k=2\n",
      "====================\n",
      "Sparse order: t=1\n",
      "====================\n"
     ]
    }
   ],
   "source": [
    "k=2\n",
    "\n",
    "println(\"Relaxed order: k=\",k)\n",
    "println(\"====================\")\n",
    "\n",
    "t=1\n",
    "\n",
    "println(\"Sparse order: t=\",t)\n",
    "println(\"====================\")"
   ]
  },
  {
   "cell_type": "code",
   "execution_count": 10,
   "metadata": {},
   "outputs": [],
   "source": [
    "using ctpPOP\n",
    "\n",
    "n,m,l,lmon_g,supp_g,coe_g,lmon_h,supp_h,coe_h,lmon_f,supp_f,coe_f,dg,dh=ctpPOP.get_info(x,f,g,h,sparse=true);"
   ]
  },
  {
   "cell_type": "code",
   "execution_count": 15,
   "metadata": {
    "scrolled": true
   },
   "outputs": [
    {
     "name": "stdout",
     "output_type": "stream",
     "text": [
      "------------------------------------------------------\n",
      "The clique sizes of varibles:\n",
      "[5]\n",
      "[1]\n",
      "------------------------------------------------------\n",
      "Problem\n",
      "  Name                   :                 \n",
      "  Objective sense        : max             \n",
      "  Type                   : CONIC (conic optimization problem)\n",
      "  Constraints            : 91              \n",
      "  Cones                  : 0               \n",
      "  Scalar variables       : 22              \n",
      "  Matrix variables       : 8               \n",
      "  Integer variables      : 0               \n",
      "\n",
      "Optimizer started.\n",
      "Presolve started.\n",
      "Linear dependency checker started.\n",
      "Linear dependency checker terminated.\n",
      "Eliminator started.\n",
      "Freed constraints in eliminator : 0\n",
      "Eliminator terminated.\n",
      "Eliminator - tries                  : 1                 time                   : 0.00            \n",
      "Lin. dep.  - tries                  : 1                 time                   : 0.00            \n",
      "Lin. dep.  - number                 : 0               \n",
      "Presolve terminated. Time: 0.00    \n",
      "Problem\n",
      "  Name                   :                 \n",
      "  Objective sense        : max             \n",
      "  Type                   : CONIC (conic optimization problem)\n",
      "  Constraints            : 91              \n",
      "  Cones                  : 0               \n",
      "  Scalar variables       : 22              \n",
      "  Matrix variables       : 8               \n",
      "  Integer variables      : 0               \n",
      "\n",
      "Optimizer  - threads                : 4               \n",
      "Optimizer  - solved problem         : the primal      \n",
      "Optimizer  - Constraints            : 91\n",
      "Optimizer  - Cones                  : 1\n",
      "Optimizer  - Scalar variables       : 23                conic                  : 18              \n",
      "Optimizer  - Semi-definite variables: 8                 scalarized             : 247             \n",
      "Factor     - setup time             : 0.00              dense det. time        : 0.00            \n",
      "Factor     - ML order time          : 0.00              GP order time          : 0.00            \n",
      "Factor     - nonzeros before factor : 3836              after factor           : 3836            \n",
      "Factor     - dense dim.             : 0                 flops                  : 2.88e+05        \n",
      "ITE PFEAS    DFEAS    GFEAS    PRSTATUS   POBJ              DOBJ              MU       TIME  \n",
      "0   2.9e+00  1.0e+00  1.0e+00  0.00e+00   0.000000000e+00   0.000000000e+00   1.0e+00  0.00  \n",
      "1   8.9e-01  3.1e-01  8.8e-02  1.73e+00   -1.417366092e-01  -2.288335892e-02  3.1e-01  0.00  \n",
      "2   3.4e-01  1.2e-01  1.9e-02  2.38e+00   -2.234430599e-02  -2.645942100e-03  1.2e-01  0.00  \n",
      "3   1.8e-01  6.3e-02  7.2e-03  1.29e+00   3.104407640e-02   4.084626496e-02   6.3e-02  0.00  \n",
      "4   3.1e-02  1.1e-02  4.9e-04  1.20e+00   1.726845691e-02   1.877442634e-02   1.1e-02  0.01  \n",
      "5   2.5e-03  8.6e-04  1.1e-05  1.03e+00   1.600825910e-02   1.612856016e-02   8.6e-04  0.01  \n",
      "6   1.5e-04  5.1e-05  1.6e-07  1.00e+00   1.588716278e-02   1.589453214e-02   5.1e-05  0.01  \n",
      "7   2.0e-06  7.1e-07  2.6e-10  1.00e+00   1.588047905e-02   1.588058646e-02   7.1e-07  0.01  \n",
      "8   1.3e-07  4.5e-08  4.1e-12  1.01e+00   1.588050889e-02   1.588051600e-02   4.5e-08  0.01  \n",
      "9   4.6e-09  1.6e-09  2.6e-14  1.01e+00   1.588051559e-02   1.588051586e-02   1.6e-09  0.01  \n",
      "Optimizer terminated. Time: 0.01    \n",
      "\n",
      "optimum = 0.015880515589054636\n",
      "  7.174880 seconds (11.34 M allocations: 565.832 MiB, 2.12% gc time)\n"
     ]
    }
   ],
   "source": [
    "using TSSOS\n",
    "\n",
    "\n",
    "@time begin\n",
    "    ~,~,data=cs_tssos_first(Vector{SparseMatrixCSC{UInt8,UInt32}}([[supp_f];supp_g;supp_h]),[[coe_f];coe_g;coe_h],n,k,[dg;dh],numeq=l,CS=\"MD\",TS=\"block\");\n",
    "    for j in 1:t-1\n",
    "        ~,~,data=cs_tssos_higher!(data,TS=\"block\");\n",
    "    end\n",
    "end"
   ]
  },
  {
   "cell_type": "code",
   "execution_count": 12,
   "metadata": {},
   "outputs": [
    {
     "name": "stdout",
     "output_type": "stream",
     "text": [
      "------------------------------------------------------\n",
      "The clique sizes of varibles:\n",
      "[5]\n",
      "[1]\n",
      "------------------------------------------------------\n",
      "  Number of cliques: p=1\n",
      "  Largest clique size: u=5\n",
      "  Largest constant trace: a=3.0\n",
      "  Number of blocks: omega=12\n",
      "  Number of equality consraints: zeta=162\n",
      "  Size of the largest block: s^max=16\n",
      "Modeling time:\n",
      "  0.012014 seconds (30.56 k allocations: 2.916 MiB)\n",
      "iter=1   val=0.0   gap=0.4818653920504858   feas=2.351599297907743\n",
      "iter=2   val=-0.14885153657649275   gap=0.5468749407920291   feas=2.1041268450850303\n",
      "iter=4   val=-0.04465546097294783   gap=0.610485785201389   feas=1.2421387705706926\n",
      "iter=8   val=-0.012404294714707732   gap=0.35699351045542566   feas=0.6304754367789697\n",
      "iter=16   val=0.050394893715033695   gap=0.43556390503639264   feas=0.3707045535345759\n",
      "iter=32   val=0.022223779453491566   gap=0.1854888104152228   feas=0.1583190638239776\n",
      "iter=64   val=0.01449478722115946   gap=0.17570121269518746   feas=0.10748627611282213\n",
      "iter=128   val=0.024290560678842613   gap=0.09655831744857664   feas=0.04059260115862154\n",
      "iter=256   val=0.016689459351740314   gap=0.035712008624842015   feas=0.025784441322885474\n",
      "iter=512   val=0.017261352172074803   gap=0.032120935204559095   feas=0.00947471022592937\n",
      "iter=1024   val=0.01642691991932682   gap=0.02437074971541153   feas=0.0046619921416156795\n",
      "iter=1545   val=0.01627332224291703   gap=0.00857150594043214   feas=0.00330897813387561\n",
      "tol satisfies!!!\n",
      "\n",
      "####################################\n",
      "opt_val = 0.01627332224291703\n",
      "####################################\n",
      "Solving time:\n",
      "  0.500172 seconds (1.06 M allocations: 83.489 MiB, 5.41% gc time)\n",
      "Total time:\n",
      "  0.512341 seconds (1.09 M allocations: 86.417 MiB, 5.28% gc time)\n"
     ]
    },
    {
     "data": {
      "text/plain": [
       "0.01627332224291703"
      ]
     },
     "execution_count": 12,
     "metadata": {},
     "output_type": "execute_result"
    }
   ],
   "source": [
    "using ctpPOP\n",
    "\n",
    "opt_val1=ctpPOP.POP_mix_CGAL(n,m,l,lmon_g,supp_g,coe_g,lmon_h,supp_h,coe_h,lmon_f,supp_f,coe_f,dg,dh,k,t,\n",
    "    maxit=Int64(1e10),tol=1e-2,use_eqcons_to_get_constant_trace=false,check_tol_each_iter=true)"
   ]
  },
  {
   "cell_type": "code",
   "execution_count": 13,
   "metadata": {},
   "outputs": [
    {
     "name": "stdout",
     "output_type": "stream",
     "text": [
      "------------------------------------------------------\n",
      "The clique sizes of varibles:\n",
      "[5]\n",
      "[1]\n",
      "------------------------------------------------------\n",
      "  Number of cliques: p=1\n",
      "  Largest clique size: u=5\n",
      "  Largest constant trace: a=3.0\n",
      "  Number of blocks: omega=12\n",
      "  Number of equality consraints: zeta=162\n",
      "  Size of the largest block: s^max=16\n",
      "Modeling time:\n",
      "  0.005766 seconds (30.56 k allocations: 2.916 MiB)\n",
      "**LMBM solver:\n",
      "---------------\n",
      "| Parameters: |\n",
      "---------------\n",
      "n:       162\n",
      "maxtime: 300000.000000\n",
      "na:      2\n",
      "mcu:     5\n",
      "mc:      7\n",
      "rpar: \n",
      "ipar: \n",
      " Warning: MC > MCU. Assigned MC = MCU.\n",
      " Entry to LMBM:\n",
      " NIT=    1  NFE=    1  F= 0.39256390D-01  WK= 0.3714D-01  QK= 0.1857D-01\n",
      " NIT=    2  NFE=    3  F= 0.37141779D-01  WK= 0.3714D-01  QK= 0.1857D-01\n",
      " NIT=    3  NFE=   48  F= 0.37141779D-01  WK= 0.3714D-01  QK= 0.1857D-01\n",
      " NIT=    4  NFE=   93  F= 0.37141779D-01  WK= 0.3714D-01  QK= 0.1857D-01\n",
      " NIT=    5  NFE=  138  F= 0.37141779D-01  WK= 0.3714D-01  QK= 0.1857D-01\n",
      " NIT=    6  NFE=  183  F= 0.37141779D-01  WK= 0.3714D-01  QK= 0.1857D-01\n",
      " NIT=    7  NFE=  228  F= 0.37141779D-01  WK= 0.3714D-01  QK= 0.1857D-01\n",
      " NIT=    8  NFE=  273  F= 0.37141779D-01  WK= 0.3714D-01  QK= 0.1857D-01\n",
      " NIT=    9  NFE=  318  F= 0.37141779D-01  WK= 0.3714D-01  QK= 0.1857D-01\n",
      " NIT=   10  NFE=  363  F= 0.37141779D-01  WK= 0.3714D-01  QK= 0.1857D-01\n",
      " NIT=   11  NFE=  408  F= 0.37141779D-01  WK= 0.3714D-01  QK= 0.1857D-01\n",
      " NIT=   12  NFE=  453  F= 0.37141779D-01  WK= 0.3714D-01  QK= 0.1857D-01\n",
      " NIT=   13  NFE=  498  F= 0.37141779D-01  WK= 0.3714D-01  QK= 0.1857D-01\n",
      " NIT=   14  NFE=  543  F= 0.37141779D-01  WK= 0.3714D-01  QK= 0.1857D-01\n",
      " NIT=   15  NFE=  588  F= 0.37141779D-01  WK= 0.3714D-01  QK= 0.1857D-01\n",
      " NIT=   16  NFE=  633  F= 0.37141779D-01  WK= 0.3714D-01  QK= 0.1857D-01\n",
      " NIT=   17  NFE=  678  F= 0.37141779D-01  WK= 0.3714D-01  QK= 0.1857D-01\n",
      " NIT=   18  NFE=  723  F= 0.37141779D-01  WK= 0.3714D-01  QK= 0.1857D-01\n",
      " NIT=   19  NFE=  768  F= 0.37141779D-01  WK= 0.3714D-01  QK= 0.1857D-01\n",
      " NIT=   20  NFE=  813  F= 0.37141779D-01  WK= 0.3714D-01  QK= 0.1857D-01\n",
      " NIT=   21  NFE=  858  F= 0.37141779D-01  WK= 0.3714D-01  QK= 0.1857D-01\n",
      " NIT=   22  NFE=  903  F= 0.37141779D-01  WK= 0.3714D-01  QK= 0.1857D-01\n",
      " Exit from LMBM:\n",
      " Abnormal exit: Failure in attaining the demanded accuracy.\n",
      " NIT=   23  NFE=  948  F= 0.37141779D-01  WK= 0.3714D-01  QK= 0.1857D-01  ITERM= -4\n",
      "-----------\n",
      "| Output: |\n",
      "-----------\n",
      "Termination:     -4\n",
      "N. iter.:        23\n",
      "N. func. eval.:  948\n",
      "Final value:     0.037142\n",
      "Execution time:  0.245453\n",
      "\n",
      "####################################\n",
      "opt_val = -0.2191988120258192\n",
      "####################################\n",
      "  0.246098 seconds (666.51 k allocations: 53.137 MiB, 4.05% gc time)\n",
      "Total time:\n",
      "  0.251996 seconds (697.67 k allocations: 56.065 MiB, 3.95% gc time)\n"
     ]
    },
    {
     "data": {
      "text/plain": [
       "-0.2191988120258192"
      ]
     },
     "execution_count": 13,
     "metadata": {},
     "output_type": "execute_result"
    }
   ],
   "source": [
    "using ctpPOP\n",
    "\n",
    "opt_val=ctpPOP.POP_mix_LMBM(n,m,l,lmon_g,supp_g,coe_g,lmon_h,supp_h,coe_h,lmon_f,supp_f,coe_f,dg,dh,k,t,\n",
    "    tol=1e-2,use_eqcons_to_get_constant_trace=false)"
   ]
  },
  {
   "cell_type": "code",
   "execution_count": 14,
   "metadata": {},
   "outputs": [],
   "source": [
    "#using ctpPOP\n",
    "\n",
    "#optval=ctpPOP.POP_NLP(n,m,l,lmon_g,supp_g,coe_g,lmon_h,supp_h,coe_h,lmon_f,supp_f,coe_f)"
   ]
  },
  {
   "cell_type": "code",
   "execution_count": null,
   "metadata": {},
   "outputs": [],
   "source": []
  }
 ],
 "metadata": {
  "kernelspec": {
   "display_name": "Julia 1.3.0",
   "language": "julia",
   "name": "julia-1.3"
  },
  "language_info": {
   "file_extension": ".jl",
   "mimetype": "application/julia",
   "name": "julia",
   "version": "1.3.0"
  }
 },
 "nbformat": 4,
 "nbformat_minor": 2
}
