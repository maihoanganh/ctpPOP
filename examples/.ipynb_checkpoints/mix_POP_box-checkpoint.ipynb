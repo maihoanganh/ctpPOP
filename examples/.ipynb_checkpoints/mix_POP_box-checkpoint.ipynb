{
 "cells": [
  {
   "cell_type": "code",
   "execution_count": 23,
   "metadata": {},
   "outputs": [
    {
     "name": "stdout",
     "output_type": "stream",
     "text": [
      "***Problem setting***\n",
      "Number of variable: n=1000\n",
      "====================\n",
      "Number of inequality constraints: m=1000\n",
      "====================\n",
      "Number of equality constraints: l=143\n",
      "====================\n"
     ]
    }
   ],
   "source": [
    "using DynamicPolynomials, LinearAlgebra, SparseArrays\n",
    "\n",
    "println(\"***Problem setting***\")\n",
    "\n",
    "n=1000\n",
    "\n",
    "println(\"Number of variable: n=\",n)\n",
    "println(\"====================\")\n",
    "\n",
    "@ncpolyvar x[1:n]# variables\n",
    "\n",
    "function star_algebra(mom)\n",
    "    if mom==1\n",
    "        return mom\n",
    "    else\n",
    "        ind=mom.z .>0\n",
    "        vars=mom.vars[ind]\n",
    "        exp=mom.z[ind]\n",
    "        return prod(vars[i]^exp[i] for i in length(exp):-1:1)\n",
    "    end\n",
    "end\n",
    "\n",
    "function generate_random_poly(T::UnitRange{Int64})\n",
    "    v=reverse(monomials(x[T],2))\n",
    "    v+=star_algebra.(v)\n",
    "    v=v./2\n",
    "    c=2*rand(Float64,length(v)).-1\n",
    "    return c'*v\n",
    "end\n",
    "\n",
    "# unit sphere constraint\n",
    "u=10\n",
    "p=floor(Int64,n/u)+1\n",
    "\n",
    "I=Vector{UnitRange{Int64}}(undef,p)\n",
    "I[1]=1:u\n",
    "I[2:p-1]=[u*(j-1):u*j for j in 2:p-1]\n",
    "I[p]=u*(p-1):n\n",
    "\n",
    "# random quadratic objective function f\n",
    "f=sum(generate_random_poly(I[j]) for j in 1:p)\n",
    "\n",
    "g=-(x.^2).+(1/u)\n",
    "\n",
    "m=length(g)\n",
    "println(\"Number of inequality constraints: m=\",m)\n",
    "println(\"====================\")\n",
    "\n",
    "l=ceil(Int64, n/7)\n",
    "\n",
    "r=floor(Int64,l/p)\n",
    "W=[(j-1)*r+1:j*r for j in 1:p-1]\n",
    "append!(W,[(p-1)*r+1:l])\n",
    "\n",
    "h=Vector{Polynomial{false,Float64}}(undef,l)\n",
    "\n",
    "randx=2*rand(n).-1\n",
    "randx=randx./sqrt(u)\n",
    "\n",
    "for j in 1:p\n",
    "    for i in W[j]\n",
    "        h[i]=generate_random_poly(I[j])\n",
    "        h[i]-=h[i](x => randx) #make constraints feasible\n",
    "    end\n",
    "end\n",
    "\n",
    "l=length(h)\n",
    "println(\"Number of equality constraints: l=\",l)\n",
    "println(\"====================\")"
   ]
  },
  {
   "cell_type": "code",
   "execution_count": 24,
   "metadata": {},
   "outputs": [
    {
     "name": "stdout",
     "output_type": "stream",
     "text": [
      "Relaxed order: k=2\n",
      "====================\n",
      "Sparse order: t=1\n",
      "====================\n"
     ]
    }
   ],
   "source": [
    "k=2\n",
    "\n",
    "println(\"Relaxed order: k=\",k)\n",
    "println(\"====================\")\n",
    "\n",
    "t=1\n",
    "\n",
    "println(\"Sparse order: t=\",t)\n",
    "println(\"====================\")"
   ]
  },
  {
   "cell_type": "code",
   "execution_count": 25,
   "metadata": {},
   "outputs": [
    {
     "name": "stderr",
     "output_type": "stream",
     "text": [
      "WARNING: replacing module ctpNCPOP.\n"
     ]
    }
   ],
   "source": [
    "include(\"../src/ctpNCPOP.jl\")\n",
    "using .ctpNCPOP\n",
    "\n",
    "n,m,l,lmon_g,supp_g,coe_g,lmon_h,supp_h,coe_h,lmon_f,supp_f,coe_f,dg,dh=ctpNCPOP.get_info(x,f,g,h);"
   ]
  },
  {
   "cell_type": "code",
   "execution_count": 26,
   "metadata": {
    "scrolled": true
   },
   "outputs": [
    {
     "name": "stdout",
     "output_type": "stream",
     "text": [
      "------------------------------------------------------\n",
      "The clique sizes of varibles:\n",
      "[11, 10]\n",
      "[99, 1]\n",
      "------------------------------------------------------\n",
      "  Number of cliques: p=100\n",
      "  Largest clique size: u=11\n",
      "  Largest constant trace: a=3.3100000000000014\n",
      "  Number of blocks: omega=2398\n",
      "  Number of equality consraints: zeta=95470\n",
      "  Size of the largest block: s^max=122\n",
      "Modeling time:\n",
      " 69.886527 seconds (524.58 M allocations: 57.062 GiB, 13.70% gc time)\n",
      "iter=1   val=-764.3925960044802   gap=4.456020543512701e-16   feas=29.45615582035144\n",
      "iter=2   val=-626.1706962352276   gap=0.12455774294268278   feas=26.740897955299758\n",
      "iter=4   val=-455.57517123713023   gap=0.12709148143900995   feas=14.570799508015671\n",
      "iter=8   val=-310.8531221091604   gap=0.1720316531731303   feas=7.665794795492987\n",
      "iter=16   val=-274.90294025215854   gap=0.07241056011677077   feas=3.8580585168035206\n",
      "iter=32   val=-244.71738115767172   gap=0.02817734194140382   feas=2.3870886874393666\n",
      "iter=64   val=-220.1127657463506   gap=0.03200042073326815   feas=1.5597914790031657\n",
      "iter=128   val=-198.43769417496242   gap=0.0762866924760295   feas=0.7899109468985721\n",
      "iter=256   val=-189.9480506420102   gap=0.06252858405207729   feas=0.36066994774372524\n",
      "iter=512   val=-188.30064549136537   gap=0.04970887503637319   feas=0.15353892897320068\n",
      "iter=1024   val=-188.6363627794033   gap=0.036905440054781864   feas=0.06210686553046686\n",
      "iter=2048   val=-188.99104432113418   gap=0.016743513975255735   feas=0.03290010715452956\n",
      "iter=4096   val=-189.13421518397965   gap=0.010991890214388605   feas=0.014837410771767817\n",
      "iter=5808   val=-189.13135230866027   gap=0.009684341621967116   feas=0.009881876233018914\n",
      "tol satisfies!!!\n",
      "\n",
      "####################################\n",
      "opt_val = -189.13135230866027\n",
      "####################################\n",
      "Solving time:\n",
      "2072.378979 seconds (977.56 M allocations: 707.433 GiB, 2.14% gc time)\n",
      "Total time:\n",
      "2142.265807 seconds (1.50 G allocations: 764.495 GiB, 2.52% gc time)\n"
     ]
    },
    {
     "name": "stderr",
     "output_type": "stream",
     "text": [
      "WARNING: replacing module ctpNCPOP.\n"
     ]
    },
    {
     "data": {
      "text/plain": [
       "-189.13135230866027"
      ]
     },
     "execution_count": 26,
     "metadata": {},
     "output_type": "execute_result"
    }
   ],
   "source": [
    "include(\"../src/ctpNCPOP.jl\")\n",
    "using .ctpNCPOP\n",
    "\n",
    "opt_val1=ctpNCPOP.POP_mix_CGAL(n,m,l,lmon_g,supp_g,coe_g,lmon_h,supp_h,coe_h,lmon_f,supp_f,coe_f,dg,dh,k,t,\n",
    "    maxit=Int64(1e10),tol=5e-3,use_eqcons_to_get_constant_trace=false,check_tol_each_iter=true)"
   ]
  },
  {
   "cell_type": "code",
   "execution_count": null,
   "metadata": {},
   "outputs": [],
   "source": []
  },
  {
   "cell_type": "code",
   "execution_count": null,
   "metadata": {},
   "outputs": [],
   "source": []
  },
  {
   "cell_type": "code",
   "execution_count": 27,
   "metadata": {},
   "outputs": [
    {
     "name": "stdout",
     "output_type": "stream",
     "text": [
      "------------------------------------------------------\n",
      "The clique sizes of varibles:\n",
      "[11, 10]\n",
      "[99, 1]\n",
      "------------------------------------------------------\n",
      "Problem\n",
      "  Name                   :                 \n",
      "  Objective sense        : max             \n",
      "  Type                   : CONIC (conic optimization problem)\n",
      "  Constraints            : 742161          \n",
      "  Cones                  : 0               \n",
      "  Scalar variables       : 1144            \n",
      "  Matrix variables       : 1343            \n",
      "  Integer variables      : 0               \n",
      "\n",
      "Optimizer started.\n",
      "Presolve started.\n",
      "Linear dependency checker started.\n",
      "Linear dependency checker terminated.\n",
      "Eliminator started.\n",
      "Freed constraints in eliminator : 0\n",
      "Eliminator terminated.\n",
      "Eliminator - tries                  : 1                 time                   : 0.00            \n",
      "Lin. dep.  - tries                  : 1                 time                   : 0.15            \n",
      "Lin. dep.  - number                 : 0               \n",
      "Presolve terminated. Time: 0.26    \n",
      "Problem\n",
      "  Name                   :                 \n",
      "  Objective sense        : max             \n",
      "  Type                   : CONIC (conic optimization problem)\n",
      "  Constraints            : 742161          \n",
      "  Cones                  : 0               \n",
      "  Scalar variables       : 1144            \n",
      "  Matrix variables       : 1343            \n",
      "  Integer variables      : 0               \n",
      "\n",
      "Optimizer  - threads                : 4               \n",
      "Optimizer  - solved problem         : the primal      \n",
      "Optimizer  - Constraints            : 742161\n",
      "Optimizer  - Cones                  : 1\n",
      "Optimizer  - Scalar variables       : 1103              conic                  : 3               \n",
      "Optimizer  - Semi-definite variables: 1343              scalarized             : 829865          \n",
      "Factor     - setup time             : 891.78            dense det. time        : 0.00            \n",
      "Factor     - ML order time          : 511.82            GP order time          : 0.00            \n",
      "Factor     - nonzeros before factor : 2.76e+09          after factor           : 2.76e+09        \n",
      "Factor     - dense dim.             : 0                 flops                  : 1.37e+13        \n",
      "ITE PFEAS    DFEAS    GFEAS    PRSTATUS   POBJ              DOBJ              MU       TIME  \n",
      "0   1.0e+02  1.0e+00  1.0e+00  0.00e+00   0.000000000e+00   0.000000000e+00   1.0e+00  894.13\n",
      "1   8.7e+01  8.7e-01  9.3e-01  -1.00e+00  -1.325234240e+00  -1.477727761e+00  8.7e-01  1349.60\n",
      "2   8.5e+01  8.5e-01  8.2e-01  -7.96e-01  -8.827749392e+01  -8.831680934e+01  8.5e-01  1735.59\n",
      "3   3.5e+01  3.5e-01  3.7e-01  -5.41e-01  -1.857322846e+02  -1.862608774e+02  3.5e-01  2073.36\n",
      "4   4.4e+00  4.4e-02  6.6e-03  5.79e-01   -2.659711511e+02  -2.659388697e+02  4.4e-02  2448.76\n",
      "5   3.0e+00  3.0e-02  3.6e-03  2.30e+00   -2.257646880e+02  -2.257514210e+02  3.0e-02  2789.86\n",
      "6   2.0e+00  2.0e-02  1.8e-03  1.75e+00   -2.102944982e+02  -2.102882636e+02  2.0e-02  3132.16\n",
      "7   2.6e-01  2.6e-03  8.4e-05  1.50e+00   -1.950468829e+02  -1.950464707e+02  2.6e-03  3504.73\n",
      "8   1.6e-01  1.6e-03  3.9e-05  1.11e+00   -1.943821777e+02  -1.943819208e+02  1.6e-03  3855.86\n",
      "9   2.1e-02  2.1e-04  1.7e-06  1.07e+00   -1.934609296e+02  -1.934608801e+02  2.1e-04  4222.40\n",
      "10  1.1e-02  1.1e-04  6.3e-07  1.01e+00   -1.934031388e+02  -1.934031134e+02  1.1e-04  4570.85\n",
      "11  1.5e-03  1.5e-05  3.3e-08  1.01e+00   -1.933496589e+02  -1.933496552e+02  1.5e-05  4922.97\n",
      "12  7.3e-04  7.3e-06  1.1e-08  1.00e+00   -1.933448355e+02  -1.933448338e+02  7.3e-06  5262.83\n",
      "13  9.7e-05  9.7e-07  5.3e-10  1.00e+00   -1.933409786e+02  -1.933409783e+02  9.7e-07  5612.38\n",
      "14  1.4e-05  1.6e-07  3.6e-11  1.00e+00   -1.933404984e+02  -1.933404984e+02  1.6e-07  5972.77\n",
      "15  9.7e-08  1.6e-08  1.1e-12  1.00e+00   -1.933404114e+02  -1.933404114e+02  1.6e-08  6318.50\n",
      "16  1.4e-08  2.7e-09  6.0e-15  1.00e+00   -1.933404017e+02  -1.933404017e+02  4.9e-10  6692.80\n",
      "Optimizer terminated. Time: 6694.95 \n",
      "\n",
      "optimum = -193.34040167294006\n",
      "6937.466855 seconds (3.09 G allocations: 252.973 GiB, 0.62% gc time)\n"
     ]
    }
   ],
   "source": [
    "using NCTSSOS\n",
    "\n",
    "@time begin\n",
    "\n",
    "j=1\n",
    "opt,data=cs_nctssos_first(Vector{Vector{Vector{UInt16}}}([[supp_f];supp_g;supp_h]),[[coe_f];coe_g;coe_h],\n",
    "        n,k,[dg;dh],numeq=l,minimize=true,obj=\"eigen\",TS=\"block\",QUIET=false);\n",
    "while j <= t-1\n",
    "    opt,data=cs_nctssos_higher!(data,TS=\"MD\")\n",
    "    j+=1\n",
    "end\n",
    "    \n",
    "end"
   ]
  },
  {
   "cell_type": "code",
   "execution_count": 28,
   "metadata": {},
   "outputs": [],
   "source": [
    "#using ctpPOP\n",
    "\n",
    "#optval=ctpPOP.POP_NLP(n,m,l,lmon_g,supp_g,coe_g,lmon_h,supp_h,coe_h,lmon_f,supp_f,coe_f)"
   ]
  },
  {
   "cell_type": "code",
   "execution_count": null,
   "metadata": {},
   "outputs": [],
   "source": []
  }
 ],
 "metadata": {
  "kernelspec": {
   "display_name": "Julia 1.3.0",
   "language": "julia",
   "name": "julia-1.3"
  },
  "language_info": {
   "file_extension": ".jl",
   "mimetype": "application/julia",
   "name": "julia",
   "version": "1.3.0"
  }
 },
 "nbformat": 4,
 "nbformat_minor": 2
}
