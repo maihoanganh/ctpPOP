{
 "cells": [
  {
   "cell_type": "code",
   "execution_count": 16,
   "metadata": {},
   "outputs": [
    {
     "name": "stdout",
     "output_type": "stream",
     "text": [
      "***Problem setting***\n",
      "Number of variable: n=6\n",
      "====================\n",
      "Number of inequality constraints: m=12\n",
      "====================\n",
      "Number of equality constraints: l=1\n",
      "====================\n",
      "Relaxed order: k=2\n",
      "====================\n"
     ]
    }
   ],
   "source": [
    "using DynamicPolynomials, LinearAlgebra, SparseArrays\n",
    "\n",
    "println(\"***Problem setting***\")\n",
    "\n",
    "n=10\n",
    "\n",
    "println(\"Number of variable: n=\",n)\n",
    "println(\"====================\")\n",
    "\n",
    "@polyvar x[1:n]# variables\n",
    "\n",
    "function generate_random_poly(T::UnitRange{Int64})\n",
    "    v=reverse(monomials(x[T],0:2))\n",
    "    c=2*rand(Float64,length(v)).-1\n",
    "    return c'*v\n",
    "end\n",
    "\n",
    "# unit sphere constraint\n",
    "u=3\n",
    "p=floor(Int64,n/u)\n",
    "\n",
    "I=Vector{UnitRange{Int64}}(undef,p)\n",
    "I[1]=1:u\n",
    "I[2:p-1]=[u*(j-1):u*j for j in 2:p-1]\n",
    "I[p]=u*(p-1):n\n",
    "\n",
    "# random quadratic objective function f\n",
    "f=sum(generate_random_poly(I[j]) for j in 1:p)\n",
    "\n",
    "\n",
    "g=[-(x.^2).+1/u;(x.^2).-0.5/u]\n",
    "\n",
    "\n",
    "\n",
    "m=length(g)\n",
    "println(\"Number of inequality constraints: m=\",m)\n",
    "println(\"====================\")\n",
    "\n",
    "l=ceil(Int64, n/7)\n",
    "\n",
    "r=floor(Int64,l/p)\n",
    "W=[(j-1)*r+1:j*r for j in 1:p-1]\n",
    "append!(W,[(p-1)*r+1:l])\n",
    "\n",
    "h=Vector{Polynomial{true,Float64}}(undef,l)\n",
    "\n",
    "#=randx=[2*rand(length(I[j])).-1 for j in 1:p]# create a feasible solution\n",
    "randx=[randx[j]/norm(randx[j]) for j in 1:p]=#\n",
    "\n",
    "randx=2*rand(n).-1\n",
    "randx=randx./sqrt(u)\n",
    "\n",
    "for j in 1:p\n",
    "    for i in W[j]\n",
    "        h[i]=generate_random_poly(I[j])\n",
    "        h[i]-=h[i](x => randx) #make constraints feasible\n",
    "    end\n",
    "end\n",
    "\n",
    "l=length(h)\n",
    "println(\"Number of equality constraints: l=\",l)\n",
    "println(\"====================\")\n",
    "\n",
    "k=2\n",
    "\n",
    "println(\"Relaxed order: k=\",k)\n",
    "println(\"====================\")"
   ]
  },
  {
   "cell_type": "code",
   "execution_count": 17,
   "metadata": {},
   "outputs": [
    {
     "name": "stderr",
     "output_type": "stream",
     "text": [
      "WARNING: replacing module ctpPOP.\n"
     ]
    }
   ],
   "source": [
    "include(\"../src/ctpPOP.jl\")\n",
    "using .ctpPOP\n",
    "\n",
    "n,m,l,lmon_g,supp_g,coe_g,lmon_h,supp_h,coe_h,lmon_f,supp_f,coe_f,dg,dh=ctpPOP.get_info(x,f,g,h,sparse=true);"
   ]
  },
  {
   "cell_type": "code",
   "execution_count": 18,
   "metadata": {},
   "outputs": [
    {
     "name": "stdout",
     "output_type": "stream",
     "text": [
      "------------------------------------------------------\n",
      "The clique sizes of varibles:\n",
      "[4, 3]\n",
      "[1, 1]\n",
      "------------------------------------------------------\n"
     ]
    },
    {
     "name": "stderr",
     "output_type": "stream",
     "text": [
      "WARNING: replacing module ctpPOP.\n"
     ]
    },
    {
     "name": "stdout",
     "output_type": "stream",
     "text": [
      "[4, 3]\n",
      "  Number of cliques: p=2\n",
      "  Largest clique size: u=4\n",
      "  Largest constant trace: a=4.611111111111111\n",
      "  Number of blocks: omega=15\n",
      "  Number of equality consraints: zeta=256\n",
      "  Size of the largest block: s^max=15\n",
      "Modeling time:\n",
      "  3.067308 seconds (3.50 M allocations: 174.271 MiB, 3.58% gc time)\n",
      "iter=1.0   val=-11.239620474648582   gap=0.014260177653799751   feas=7.165226063180066\n",
      "iter=2.0   val=-5.436636614475084   gap=0.4002566207662543   feas=2.5848383820599805\n",
      "iter=4.0   val=-5.801192131569045   gap=0.027987164534002386   feas=1.9186929149385343\n",
      "iter=8.0   val=-4.66366541826839   gap=0.0738913769079704   feas=1.2759216078280076\n",
      "iter=16.0   val=-3.5607871970892857   gap=0.008493646486176306   feas=0.7150260811759226\n",
      "iter=32.0   val=-3.4762877002690296   gap=0.026493272406962934   feas=0.3277607034647697\n",
      "iter=64.0   val=-3.35118983637191   gap=0.021293318383277245   feas=0.15842513044815343\n",
      "iter=128.0   val=-3.210008492849507   gap=0.011856602551870897   feas=0.09182760285430594\n",
      "iter=256.0   val=-3.128937512792647   gap=0.00785417190500175   feas=0.04559506262825128\n",
      "iter=512.0   val=-3.0577247905111107   gap=0.012102171493433954   feas=0.014464286733052216\n",
      "iter=1024.0   val=-3.061531013768285   gap=0.005835103384127152   feas=0.007140670561595995\n",
      "iter=2048.0   val=-3.0571463458682757   gap=0.00604523197838465   feas=0.0026229132257701952\n",
      "iter=4096.0   val=-3.0544822067546415   gap=0.0075233514134917185   feas=0.0012282135343339008\n",
      "iter=5593.0   val=-3.0569195375004736   gap=0.0008307366559035165   feas=0.0009925686461178093\n",
      "tol satisfies!!!\n",
      "\n",
      "####################################\n",
      "opt_val = -3.0569195375004736\n",
      "####################################\n",
      "Solving time:\n",
      "  8.252571 seconds (7.83 M allocations: 650.826 MiB, 2.65% gc time)\n",
      "Total time:\n",
      " 11.320176 seconds (11.33 M allocations: 825.111 MiB, 2.90% gc time)\n"
     ]
    },
    {
     "data": {
      "text/plain": [
       "-3.0569195375004736"
      ]
     },
     "execution_count": 18,
     "metadata": {},
     "output_type": "execute_result"
    }
   ],
   "source": [
    "include(\"../src/ctpPOP.jl\")\n",
    "using .ctpPOP\n",
    "\n",
    "opt_val1=ctpPOP.POP_CS_CGAL(n,m,l,lmon_g,supp_g,coe_g,lmon_h,supp_h,coe_h,lmon_f,supp_f,coe_f,dg,dh,k;EigAlg=\"Arpack\",maxit=1e10,tol=1e-3,UseEq=false)"
   ]
  },
  {
   "cell_type": "code",
   "execution_count": 19,
   "metadata": {},
   "outputs": [
    {
     "name": "stdout",
     "output_type": "stream",
     "text": [
      "------------------------------------------------------\n",
      "The clique sizes of varibles:\n",
      "[4, 3]\n",
      "[1, 1]\n",
      "------------------------------------------------------\n",
      "Problem\n",
      "  Name                   :                 \n",
      "  Objective sense        : max             \n",
      "  Type                   : CONIC (conic optimization problem)\n",
      "  Constraints            : 100             \n",
      "  Cones                  : 0               \n",
      "  Scalar variables       : 16              \n",
      "  Matrix variables       : 16              \n",
      "  Integer variables      : 0               \n",
      "\n",
      "Optimizer started.\n",
      "Presolve started.\n",
      "Linear dependency checker started.\n",
      "Linear dependency checker terminated.\n",
      "Eliminator started.\n",
      "Freed constraints in eliminator : 0\n",
      "Eliminator terminated.\n",
      "Eliminator - tries                  : 1                 time                   : 0.00            \n",
      "Lin. dep.  - tries                  : 1                 time                   : 0.00            \n",
      "Lin. dep.  - number                 : 0               \n",
      "Presolve terminated. Time: 0.00    \n",
      "Problem\n",
      "  Name                   :                 \n",
      "  Objective sense        : max             \n",
      "  Type                   : CONIC (conic optimization problem)\n",
      "  Constraints            : 100             \n",
      "  Cones                  : 0               \n",
      "  Scalar variables       : 16              \n",
      "  Matrix variables       : 16              \n",
      "  Integer variables      : 0               \n",
      "\n",
      "Optimizer  - threads                : 4               \n",
      "Optimizer  - solved problem         : the primal      \n",
      "Optimizer  - Constraints            : 100\n",
      "Optimizer  - Cones                  : 1\n",
      "Optimizer  - Scalar variables       : 17                conic                  : 17              \n",
      "Optimizer  - Semi-definite variables: 16                scalarized             : 350             \n",
      "Factor     - setup time             : 0.00              dense det. time        : 0.00            \n",
      "Factor     - ML order time          : 0.00              GP order time          : 0.00            \n",
      "Factor     - nonzeros before factor : 3100              after factor           : 3100            \n",
      "Factor     - dense dim.             : 0                 flops                  : 2.13e+05        \n",
      "ITE PFEAS    DFEAS    GFEAS    PRSTATUS   POBJ              DOBJ              MU       TIME  \n",
      "0   6.2e+00  1.0e+00  1.0e+00  0.00e+00   0.000000000e+00   0.000000000e+00   1.0e+00  0.01  \n",
      "1   3.7e+00  5.9e-01  5.2e-01  -1.77e-01  -1.046113161e+00  -1.114977352e+00  5.9e-01  0.01  \n",
      "2   1.2e+00  2.0e-01  5.4e-02  1.66e+00   -2.363891705e+00  -2.280693714e+00  2.0e-01  0.02  \n",
      "3   3.2e-01  5.2e-02  7.0e-03  1.13e+00   -2.888609720e+00  -2.868912214e+00  5.2e-02  0.02  \n",
      "4   1.2e-01  1.9e-02  1.8e-03  9.24e-01   -2.953709596e+00  -2.947029643e+00  1.9e-02  0.02  \n",
      "5   2.2e-02  3.6e-03  1.5e-04  9.49e-01   -3.037292941e+00  -3.036098792e+00  3.6e-03  0.03  \n",
      "6   4.6e-04  7.4e-05  4.4e-07  9.93e-01   -3.055727197e+00  -3.055702689e+00  7.4e-05  0.03  \n",
      "7   1.4e-05  2.2e-06  2.2e-09  1.00e+00   -3.056002295e+00  -3.056001562e+00  2.2e-06  0.04  \n",
      "8   6.6e-07  1.1e-07  2.4e-11  1.00e+00   -3.056006075e+00  -3.056006039e+00  1.1e-07  0.04  \n",
      "9   1.7e-08  2.8e-09  9.4e-14  1.01e+00   -3.056006145e+00  -3.056006144e+00  2.8e-09  0.04  \n",
      "Optimizer terminated. Time: 0.04    \n",
      "\n",
      "optimum = -3.0560061450471623\n",
      "  0.053265 seconds (70.55 k allocations: 5.326 MiB)\n"
     ]
    }
   ],
   "source": [
    "using TSSOS\n",
    "\n",
    "\n",
    "@time opt,sol,data=cs_tssos_first(Vector{SparseMatrixCSC{UInt8,UInt32}}([[supp_f];supp_g;supp_h]),[[coe_f];coe_g;coe_h],n,k,[dg;dh],numeq=l,CS=\"MD\",TS=\"block\",CTP=false);"
   ]
  },
  {
   "cell_type": "code",
   "execution_count": null,
   "metadata": {},
   "outputs": [],
   "source": []
  }
 ],
 "metadata": {
  "kernelspec": {
   "display_name": "Julia 1.3.0",
   "language": "julia",
   "name": "julia-1.3"
  },
  "language_info": {
   "file_extension": ".jl",
   "mimetype": "application/julia",
   "name": "julia",
   "version": "1.3.0"
  }
 },
 "nbformat": 4,
 "nbformat_minor": 2
}
