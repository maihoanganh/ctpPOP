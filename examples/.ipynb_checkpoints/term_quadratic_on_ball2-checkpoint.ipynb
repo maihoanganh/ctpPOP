{
 "cells": [
  {
   "cell_type": "code",
   "execution_count": 1,
   "metadata": {},
   "outputs": [
    {
     "name": "stdout",
     "output_type": "stream",
     "text": [
      "***Problem setting***\n",
      "Number of variable: n=5\n",
      "====================\n",
      "Number of inequality constraints: m=1\n",
      "====================\n",
      "Number of equality constraints: l=0\n",
      "====================\n",
      "Relaxed order: k=2\n",
      "====================\n",
      "Sparse order: t=2\n"
     ]
    }
   ],
   "source": [
    "using DynamicPolynomials, SparseArrays\n",
    "\n",
    "println(\"***Problem setting***\")\n",
    "\n",
    "n=5\n",
    "\n",
    "println(\"Number of variable: n=\",n)\n",
    "println(\"====================\")\n",
    "\n",
    "@polyvar x[1:n]# variables\n",
    "\n",
    "function generate_random_poly(v)\n",
    "    lv=length(v)\n",
    "    c=2*rand(Float64,lv).-1\n",
    "    return sum(c[j]*v[j] for j in 1:lv)\n",
    "end\n",
    "# random quadratic objective function f\n",
    "v=reverse(monomials(x,2))\n",
    "f=generate_random_poly(v)\n",
    "\n",
    "\n",
    "# unit sphere constraint\n",
    "g=[1.0-sum(x.^2)] #type of coefficients of each polynomial must be float\n",
    "\n",
    "m=length(g)\n",
    "println(\"Number of inequality constraints: m=\",m)\n",
    "println(\"====================\")\n",
    "\n",
    "l=0#ceil(Int64, n/4)\n",
    "\n",
    "h=Vector{Polynomial{true,Float64}}(undef,l)\n",
    "randx=2*rand(n).-1# create a feasible solution\n",
    "randx=rand(1)[1]*randx./sqrt(sum(randx.^2))\n",
    "\n",
    "\n",
    "for j in 1:l\n",
    "    h[j]=generate_random_poly(v[2:end])\n",
    "    h[j]-=h[j](x => randx) #make constraints feasible\n",
    "end\n",
    "\n",
    "l=length(h)\n",
    "println(\"Number of equality constraints: l=\",l)\n",
    "println(\"====================\")\n",
    "\n",
    "k=2\n",
    "\n",
    "println(\"Relaxed order: k=\",k)\n",
    "println(\"====================\")\n",
    "t=2\n",
    "println(\"Sparse order: t=\",t)"
   ]
  },
  {
   "cell_type": "code",
   "execution_count": null,
   "metadata": {},
   "outputs": [
    {
     "name": "stderr",
     "output_type": "stream",
     "text": [
      "┌ Info: Precompiling MosekTools [1ec41992-ff65-5c91-ac43-2df89e9693a4]\n",
      "└ @ Base loading.jl:1273\n",
      "┌ Info: Precompiling JuMP [4076af6c-e467-56ae-b986-b466b2749572]\n",
      "└ @ Base loading.jl:1273\n",
      "┌ Info: Precompiling SumOfSquares [4b9e565b-77fc-50a5-a571-1244f986bda1]\n",
      "└ @ Base loading.jl:1273\n"
     ]
    }
   ],
   "source": [
    "include(\"../src/ctpPOP.jl\")\n",
    "using .ctpPOP\n",
    "\n",
    "opt_val=ctpPOP.POP_TS_CGAL(x,f,g,h,k,t;EigAlg=\"Arpack\",maxit=1e10,tol=1e-3,UseEq=false)"
   ]
  },
  {
   "cell_type": "code",
   "execution_count": null,
   "metadata": {},
   "outputs": [],
   "source": [
    "include(\"../src/ctpPOP.jl\")\n",
    "using .ctpPOP\n",
    "\n",
    "@time opt_val,opt_sol=ctpPOP.Pu_block_hierarchy(x,f,g,h,k,t);"
   ]
  },
  {
   "cell_type": "code",
   "execution_count": null,
   "metadata": {},
   "outputs": [],
   "source": []
  },
  {
   "cell_type": "code",
   "execution_count": 3,
   "metadata": {
    "scrolled": true
   },
   "outputs": [
    {
     "name": "stdout",
     "output_type": "stream",
     "text": [
      " Support-extension operator is stable at sparse order t = 2\n",
      "  Number of blocks: omega="
     ]
    },
    {
     "name": "stderr",
     "output_type": "stream",
     "text": [
      "WARNING: replacing module SpectralPOP.\n"
     ]
    },
    {
     "name": "stdout",
     "output_type": "stream",
     "text": [
      "2\n",
      "  Size of the largest block: s^max=1326\n",
      "  Number of equality trace constraints: zeta=65077\n",
      "  Constant trace: ak=4.0\n",
      " 32.063696 seconds (36.58 M allocations: 13.653 GiB, 4.48% gc time)\n",
      "---------------\n",
      "| Parameters: |\n",
      "---------------\n",
      "n:       65077\n",
      "maxtime: 300000.000000\n",
      "na:      2\n",
      "mcu:     5\n",
      "mc:      7\n",
      "rpar: \n",
      "ipar: \n",
      " Warning: MC > MCU. Assigned MC = MCU.\n",
      " Entry to LMBM:\n",
      " NIT=    1  NFE=    1  F= 0.37164225D+02  WK= 0.7657D+01  QK= 0.3828D+01\n",
      " NIT=    2  NFE=    2  F= 0.32068236D+02  WK= 0.4048D+02  QK= 0.2847D+01\n",
      " NIT=    3  NFE=    3  F= 0.28436343D+02  WK= 0.3690D+01  QK= 0.9192D+00\n",
      " NIT=    4  NFE=    4  F= 0.27379360D+02  WK= 0.1422D+01  QK= 0.1820D+01\n",
      " NIT=    5  NFE=    5  F= 0.26153070D+02  WK= 0.4199D+01  QK= 0.7562D+00\n",
      " NIT=    6  NFE=    6  F= 0.24698523D+02  WK= 0.1040D+01  QK= 0.2036D+00\n",
      " Warning: A nondescent search direction occured. Restart.\n",
      " NIT=    7  NFE=    7  F= 0.24698523D+02  WK= 0.4073D+00  QK= 0.2036D+00\n",
      " NIT=    8  NFE=    8  F= 0.24698523D+02  WK= 0.3288D+00  QK= 0.1698D+00\n",
      " NIT=    9  NFE=    9  F= 0.24562380D+02  WK= 0.1125D+00  QK= 0.4053D+00\n",
      " NIT=   10  NFE=   10  F= 0.24475986D+02  WK= 0.1453D+00  QK= 0.1802D+00\n",
      " NIT=   11  NFE=   11  F= 0.24379827D+02  WK= 0.1437D+00  QK= 0.4677D+00\n",
      " NIT=   12  NFE=   12  F= 0.24286352D+02  WK= 0.1864D+00  QK= 0.2247D+00\n",
      " NIT=   13  NFE=   13  F= 0.24286352D+02  WK= 0.3957D+00  QK= 0.2173D+00\n",
      " NIT=   14  NFE=   14  F= 0.24286352D+02  WK= 0.2554D+00  QK= 0.1493D+00\n",
      " NIT=   15  NFE=   15  F= 0.24188355D+02  WK= 0.2082D+00  QK= 0.3504D+00\n",
      " Warning: A nondescent search direction occured. Restart.\n",
      " NIT=   16  NFE=   16  F= 0.24188355D+02  WK= 0.7007D+00  QK= 0.3504D+00\n",
      " NIT=   17  NFE=   17  F= 0.24188355D+02  WK= 0.3648D+00  QK= 0.1856D+00\n",
      " NIT=   18  NFE=   20  F= 0.24188355D+02  WK= 0.9305D-01  QK= 0.5473D-01\n",
      " NIT=   19  NFE=   21  F= 0.24161386D+02  WK= 0.2225D-01  QK= 0.1763D+00\n",
      " NIT=   20  NFE=   22  F= 0.24148969D+02  WK= 0.2292D-02  QK= 0.7144D-02\n",
      " NIT=   21  NFE=   23  F= 0.24146990D+02  WK= 0.1345D-01  QK= 0.1392D-01\n",
      " NIT=   22  NFE=   24  F= 0.24136513D+02  WK= 0.2737D-01  QK= 0.3434D-01\n"
     ]
    },
    {
     "ename": "InterruptException",
     "evalue": "InterruptException:",
     "output_type": "error",
     "traceback": [
      "InterruptException:",
      "",
      "Stacktrace:",
      " [1] Array at ./boot.jl:404 [inlined]",
      " [2] Array at ./boot.jl:413 [inlined]",
      " [3] zeros at ./array.jl:461 [inlined]",
      " [4] #_eigs at ./none:0 [inlined]",
      " [5] #eigs#10 at /home/hoanganh/.julia/packages/Arpack/o35I5/src/Arpack.jl:46 [inlined]",
      " [6] #eigs at ./none:0 [inlined]",
      " [7] #eigs#9 at /home/hoanganh/.julia/packages/Arpack/o35I5/src/Arpack.jl:45 [inlined]",
      " [8] #eigs at ./none:0 [inlined]",
      " [9] #SparseLargEig#431(::String, ::typeof(Main.SpectralPOP.SparseLargEig), ::SparseMatrixCSC{Float64,Int64}, ::Int64) at /home/hoanganh/Desktop/math-topics/SparseSpectralPOP/codes/SparseSpectralPOP/src/TSSpectralPOP_single_ball.jl:325",
      " [10] #SparseLargEig at /home/hoanganh/Desktop/math-topics/SparseSpectralPOP/codes/SparseSpectralPOP/src/TSSpectralPOP_single_ball.jl:0 [inlined]",
      " [11] #eig_sparse_momenmat#432(::String, ::typeof(Main.SpectralPOP.eig_sparse_momenmat), ::Array{Float64,1}, ::Int64, ::Int64, ::Int64, ::Array{Int64,1}, ::SparseMatrixCSC{UInt64,Int64}, ::Array{SparseMatrixCSC{UInt64,Int64},1}) at /home/hoanganh/Desktop/math-topics/SparseSpectralPOP/codes/SparseSpectralPOP/src/TSSpectralPOP_single_ball.jl:360",
      " [12] #eig_sparse_momenmat at ./none:0 [inlined]",
      " [13] (::Main.SpectralPOP.var\"#phi#434\"{String,Int64,Int64,Int64,Array{Int64,1},SparseMatrixCSC{UInt64,Int64},Array{SparseMatrixCSC{UInt64,Int64},1},SparseMatrixCSC{Float64,Int64},Array{Float64,1},UInt64})(::Int32, ::Ptr{Float64}, ::Ptr{Float64}) at /home/hoanganh/Desktop/math-topics/SparseSpectralPOP/codes/SparseSpectralPOP/src/TSSpectralPOP_single_ball.jl:398",
      " [14] #lmbm#1(::Int64, ::Int64, ::Bool, ::Float64, ::Float64, ::Int64, ::typeof(Main.SpectralPOP.lmbm), ::Function, ::Array{Float64,1}) at /home/hoanganh/Desktop/math-topics/SparseSpectralPOP/codes/SparseSpectralPOP/solvers/LMBM/LMBM.jl:106",
      " [15] #lmbm at ./none:0 [inlined]",
      " [16] #solve_TSSpectralPOP_single_ball#433(::Float64, ::String, ::typeof(Main.SpectralPOP.solve_TSSpectralPOP_single_ball), ::Int64, ::Int64, ::Int64, ::Array{Int64,1}, ::SparseMatrixCSC{UInt64,Int64}, ::Array{SparseMatrixCSC{UInt64,Int64},1}, ::UInt64, ::SparseMatrixCSC{Float64,Int64}, ::Array{Float64,1}, ::UInt64) at /home/hoanganh/Desktop/math-topics/SparseSpectralPOP/codes/SparseSpectralPOP/src/TSSpectralPOP_single_ball.jl:405",
      " [17] (::Main.SpectralPOP.var\"#kw##solve_TSSpectralPOP_single_ball\")(::NamedTuple{(:tol, :EigAlg),Tuple{Float64,String}}, ::typeof(Main.SpectralPOP.solve_TSSpectralPOP_single_ball), ::Int64, ::Int64, ::Int64, ::Array{Int64,1}, ::SparseMatrixCSC{UInt64,Int64}, ::Array{SparseMatrixCSC{UInt64,Int64},1}, ::UInt64, ::SparseMatrixCSC{Float64,Int64}, ::Array{Float64,1}, ::UInt64) at ./none:0",
      " [18] #TSSpectralPOP_single_ball#435(::String, ::Float64, ::typeof(Main.SpectralPOP.TSSpectralPOP_single_ball), ::Array{PolyVar{true},1}, ::Polynomial{true,Float64}, ::Array{Polynomial{true,Float64},1}, ::Array{Polynomial{true,Float64},1}, ::Int64, ::Int64, ::Float64) at ./util.jl:155",
      " [19] (::Main.SpectralPOP.var\"#kw##TSSpectralPOP_single_ball\")(::NamedTuple{(:EigAlg, :tol),Tuple{String,Float64}}, ::typeof(Main.SpectralPOP.TSSpectralPOP_single_ball), ::Array{PolyVar{true},1}, ::Polynomial{true,Float64}, ::Array{Polynomial{true,Float64},1}, ::Array{Polynomial{true,Float64},1}, ::Int64, ::Int64, ::Float64) at ./none:0",
      " [20] top-level scope at In[3]:3"
     ]
    }
   ],
   "source": []
  },
  {
   "cell_type": "code",
   "execution_count": null,
   "metadata": {
    "scrolled": true
   },
   "outputs": [],
   "source": [
    "include(\"../src/SpectralPOP.jl\")\n",
    "using .SpectralPOP\n",
    "\n",
    "\n",
    "opt_val,opt_sol=SpectralPOP.POP_single_ball(x,f,1.0,h,k;EigAlg=\"Arpack\",tol=1e-3)"
   ]
  },
  {
   "cell_type": "code",
   "execution_count": null,
   "metadata": {},
   "outputs": [],
   "source": []
  },
  {
   "cell_type": "code",
   "execution_count": null,
   "metadata": {},
   "outputs": [],
   "source": []
  },
  {
   "cell_type": "code",
   "execution_count": null,
   "metadata": {},
   "outputs": [],
   "source": []
  },
  {
   "cell_type": "code",
   "execution_count": 6,
   "metadata": {},
   "outputs": [
    {
     "ename": "LoadError",
     "evalue": "LoadError: InterruptException:\nin expression starting at /home/hoanganh/Desktop/math-topics/SparseSpectralPOP/codes/SparseSpectralPOP/src/correlative_pop_single_ball.jl:1",
     "output_type": "error",
     "traceback": [
      "LoadError: InterruptException:\nin expression starting at /home/hoanganh/Desktop/math-topics/SparseSpectralPOP/codes/SparseSpectralPOP/src/correlative_pop_single_ball.jl:1",
      "",
      "Stacktrace:",
      " [1] include at ./boot.jl:328 [inlined]",
      " [2] include_relative(::Module, ::String) at ./loading.jl:1105",
      " [3] include at ./Base.jl:31 [inlined]",
      " [4] include(::String) at /home/hoanganh/Desktop/math-topics/SparseSpectralPOP/codes/SparseSpectralPOP/src/SpectralPOP.jl:1",
      " [5] top-level scope at /home/hoanganh/Desktop/math-topics/SparseSpectralPOP/codes/SparseSpectralPOP/src/SpectralPOP.jl:32",
      " [6] include at ./boot.jl:328 [inlined]",
      " [7] include_relative(::Module, ::String) at ./loading.jl:1105",
      " [8] include(::Module, ::String) at ./Base.jl:31",
      " [9] include(::String) at ./client.jl:424",
      " [10] top-level scope at In[6]:1"
     ]
    }
   ],
   "source": [
    "include(\"../src/SpectralPOP.jl\")\n",
    "using .SpectralPOP\n",
    "\n",
    "opt_val=SpectralPOP.SumofSquares_POP(x,f,g,h,k)"
   ]
  },
  {
   "cell_type": "code",
   "execution_count": 23,
   "metadata": {},
   "outputs": [
    {
     "ename": "ErrorException",
     "evalue": "`mutable_operate!(removeleadingterm, ::Polynomial{true,Float64})` is not implemented yet.",
     "output_type": "error",
     "traceback": [
      "`mutable_operate!(removeleadingterm, ::Polynomial{true,Float64})` is not implemented yet.",
      "",
      "Stacktrace:",
      " [1] error(::String, ::String, ::String) at ./error.jl:42",
      " [2] mutable_operate_fallback(::MutableArithmetics.IsMutable, ::Function, ::Polynomial{true,Float64}) at /home/hoanganh/.julia/packages/MutableArithmetics/NuiNA/src/interface.jl:210",
      " [3] mutable_operate!(::Function, ::Polynomial{true,Float64}) at /home/hoanganh/.julia/packages/MutableArithmetics/NuiNA/src/interface.jl:221",
      " [4] operate_fallback!(::MutableArithmetics.IsMutable, ::Function, ::Polynomial{true,Float64}) at /home/hoanganh/.julia/packages/MutableArithmetics/NuiNA/src/interface.jl:278",
      " [5] operate!(::Function, ::Polynomial{true,Float64}) at /home/hoanganh/.julia/packages/MutableArithmetics/NuiNA/src/interface.jl:271",
      " [6] #divrem#94(::Base.Iterators.Pairs{Union{},Union{},Tuple{},NamedTuple{(),Tuple{}}}, ::typeof(divrem), ::Polynomial{true,Float64}, ::Array{Polynomial{true,Float64},1}) at /home/hoanganh/.julia/packages/MultivariatePolynomials/CZWzD/src/division.jl:86",
      " [7] divrem at /home/hoanganh/.julia/packages/MultivariatePolynomials/CZWzD/src/division.jl:65 [inlined]",
      " [8] #rem#92 at /home/hoanganh/.julia/packages/MultivariatePolynomials/CZWzD/src/division.jl:31 [inlined]",
      " [9] rem at /home/hoanganh/.julia/packages/MultivariatePolynomials/CZWzD/src/division.jl:31 [inlined]",
      " [10] #tssos_first#66(::Int64, ::Int64, ::Bool, ::Nothing, ::Bool, ::String, ::Bool, ::Bool, ::Bool, ::Bool, ::Bool, ::Bool, ::Float64, ::typeof(tssos_first), ::Array{Polynomial{true,Float64},1}, ::Array{PolyVar{true},1}, ::Int64) at /home/hoanganh/.julia/packages/TSSOS/N4zjL/src/blockpop_cons.jl:32",
      " [11] (::TSSOS.var\"#kw##tssos_first\")(::NamedTuple{(:numeq, :TS),Tuple{Int64,String}}, ::typeof(tssos_first), ::Array{Polynomial{true,Float64},1}, ::Array{PolyVar{true},1}, ::Int64) at ./none:0",
      " [12] top-level scope at In[23]:3"
     ]
    }
   ],
   "source": [
    "using TSSOS\n",
    "pop=[f,g[1]]\n",
    "opt,sol,data=tssos_first(pop,x,k,numeq=1,TS=\"block\")"
   ]
  },
  {
   "cell_type": "code",
   "execution_count": 18,
   "metadata": {},
   "outputs": [
    {
     "ename": "ErrorException",
     "evalue": "`mutable_operate!(removeleadingterm, ::Polynomial{true,Float64})` is not implemented yet.",
     "output_type": "error",
     "traceback": [
      "`mutable_operate!(removeleadingterm, ::Polynomial{true,Float64})` is not implemented yet.",
      "",
      "Stacktrace:",
      " [1] error(::String, ::String, ::String) at ./error.jl:42",
      " [2] mutable_operate_fallback(::MutableArithmetics.IsMutable, ::Function, ::Polynomial{true,Float64}) at /home/hoanganh/.julia/packages/MutableArithmetics/NuiNA/src/interface.jl:210",
      " [3] mutable_operate!(::Function, ::Polynomial{true,Float64}) at /home/hoanganh/.julia/packages/MutableArithmetics/NuiNA/src/interface.jl:221",
      " [4] operate_fallback!(::MutableArithmetics.IsMutable, ::Function, ::Polynomial{true,Float64}) at /home/hoanganh/.julia/packages/MutableArithmetics/NuiNA/src/interface.jl:278",
      " [5] operate!(::Function, ::Polynomial{true,Float64}) at /home/hoanganh/.julia/packages/MutableArithmetics/NuiNA/src/interface.jl:271",
      " [6] #divrem#94(::Base.Iterators.Pairs{Union{},Union{},Tuple{},NamedTuple{(),Tuple{}}}, ::typeof(divrem), ::Polynomial{true,Int64}, ::Array{Polynomial{true,Int64},1}) at /home/hoanganh/.julia/packages/MultivariatePolynomials/CZWzD/src/division.jl:86",
      " [7] divrem at /home/hoanganh/.julia/packages/MultivariatePolynomials/CZWzD/src/division.jl:65 [inlined]",
      " [8] #rem#92 at /home/hoanganh/.julia/packages/MultivariatePolynomials/CZWzD/src/division.jl:31 [inlined]",
      " [9] rem at /home/hoanganh/.julia/packages/MultivariatePolynomials/CZWzD/src/division.jl:31 [inlined]",
      " [10] #tssos_first#66(::Int64, ::Int64, ::Bool, ::Nothing, ::Bool, ::String, ::Bool, ::Bool, ::Bool, ::Bool, ::Bool, ::Bool, ::Float64, ::typeof(tssos_first), ::Array{Polynomial{true,Int64},1}, ::Array{PolyVar{true},1}, ::Int64) at /home/hoanganh/.julia/packages/TSSOS/N4zjL/src/blockpop_cons.jl:32",
      " [11] (::TSSOS.var\"#kw##tssos_first\")(::NamedTuple{(:numeq, :TS),Tuple{Int64,String}}, ::typeof(tssos_first), ::Array{Polynomial{true,Int64},1}, ::Array{PolyVar{true},1}, ::Int64) at ./none:0",
      " [12] top-level scope at In[18]:6"
     ]
    }
   ],
   "source": [
    "using TSSOS\n",
    "using DynamicPolynomials\n",
    "@polyvar x[1:3]\n",
    "f_1=1+x[1]^4+x[2]^4+x[3]^4+x[1]*x[2]*x[3]+x[2]\n",
    "g_1=1-sum(x.^2)\n",
    "opt,sol,data=tssos_first([f_1,g_1],x,2,numeq=1,TS=\"block\")"
   ]
  },
  {
   "cell_type": "code",
   "execution_count": 20,
   "metadata": {},
   "outputs": [
    {
     "ename": "ErrorException",
     "evalue": "`mutable_operate!(removeleadingterm, ::Polynomial{true,Float64})` is not implemented yet.",
     "output_type": "error",
     "traceback": [
      "`mutable_operate!(removeleadingterm, ::Polynomial{true,Float64})` is not implemented yet.",
      "",
      "Stacktrace:",
      " [1] error(::String, ::String, ::String) at ./error.jl:42",
      " [2] mutable_operate_fallback(::MutableArithmetics.IsMutable, ::Function, ::Polynomial{true,Float64}) at /home/hoanganh/.julia/packages/MutableArithmetics/NuiNA/src/interface.jl:210",
      " [3] mutable_operate!(::Function, ::Polynomial{true,Float64}) at /home/hoanganh/.julia/packages/MutableArithmetics/NuiNA/src/interface.jl:221",
      " [4] operate_fallback!(::MutableArithmetics.IsMutable, ::Function, ::Polynomial{true,Float64}) at /home/hoanganh/.julia/packages/MutableArithmetics/NuiNA/src/interface.jl:278",
      " [5] operate!(::Function, ::Polynomial{true,Float64}) at /home/hoanganh/.julia/packages/MutableArithmetics/NuiNA/src/interface.jl:271",
      " [6] #divrem#94(::Base.Iterators.Pairs{Union{},Union{},Tuple{},NamedTuple{(),Tuple{}}}, ::typeof(divrem), ::Polynomial{true,Int64}, ::Array{Polynomial{true,Int64},1}) at /home/hoanganh/.julia/packages/MultivariatePolynomials/CZWzD/src/division.jl:102",
      " [7] divrem at /home/hoanganh/.julia/packages/MultivariatePolynomials/CZWzD/src/division.jl:65 [inlined]",
      " [8] #rem#92 at /home/hoanganh/.julia/packages/MultivariatePolynomials/CZWzD/src/division.jl:31 [inlined]",
      " [9] rem at /home/hoanganh/.julia/packages/MultivariatePolynomials/CZWzD/src/division.jl:31 [inlined]",
      " [10] #tssos_first#66(::Int64, ::Int64, ::Bool, ::Nothing, ::Bool, ::String, ::Bool, ::Bool, ::Bool, ::Bool, ::Bool, ::Bool, ::Float64, ::typeof(tssos_first), ::Array{Polynomial{true,Int64},1}, ::Array{PolyVar{true},1}, ::Int64) at /home/hoanganh/.julia/packages/TSSOS/N4zjL/src/blockpop_cons.jl:32",
      " [11] (::TSSOS.var\"#kw##tssos_first\")(::NamedTuple{(:numeq, :TS),Tuple{Int64,String}}, ::typeof(tssos_first), ::Array{Polynomial{true,Int64},1}, ::Array{PolyVar{true},1}, ::Int64) at ./none:0",
      " [12] top-level scope at In[20]:7"
     ]
    }
   ],
   "source": [
    "@polyvar x[1:3]\n",
    "f=1+x[1]^4+x[2]^4+x[3]^4+x[1]*x[2]*x[3]+x[2]\n",
    "g_1=1-x[1]^2-2*x[2]^2\n",
    "g_2=x[2]^2+x[3]^2-1\n",
    "pop=[f,g_1,g_2]\n",
    "d=2 # the relaxation order\n",
    "opt,sol,data=tssos_first(pop,x,d,numeq=1,TS=\"MD\")"
   ]
  },
  {
   "cell_type": "code",
   "execution_count": 21,
   "metadata": {},
   "outputs": [
    {
     "data": {
      "text/plain": [
       "8-element Array{Int64,1}:\n",
       " 1\n",
       " 2\n",
       " 4\n",
       " 5\n",
       " 6\n",
       " 7\n",
       " 8\n",
       " 9"
      ]
     },
     "execution_count": 21,
     "metadata": {},
     "output_type": "execute_result"
    }
   ],
   "source": [
    "union(1:2,4:7,8:9)"
   ]
  },
  {
   "cell_type": "code",
   "execution_count": null,
   "metadata": {},
   "outputs": [],
   "source": []
  }
 ],
 "metadata": {
  "kernelspec": {
   "display_name": "Julia 1.3.0",
   "language": "julia",
   "name": "julia-1.3"
  },
  "language_info": {
   "file_extension": ".jl",
   "mimetype": "application/julia",
   "name": "julia",
   "version": "1.3.0"
  }
 },
 "nbformat": 4,
 "nbformat_minor": 2
}
