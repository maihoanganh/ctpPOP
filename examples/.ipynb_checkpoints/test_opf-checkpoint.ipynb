{
 "cells": [
  {
   "cell_type": "code",
   "execution_count": 10,
   "metadata": {},
   "outputs": [
    {
     "name": "stdout",
     "output_type": "stream",
     "text": [
      "\u001b[32m[info | PowerModels]: removing 3 cost terms from generator 3: Float64[]\u001b[39m\n",
      "\u001b[35m[warn | PowerModels]: Updated generator 3 cost function with order 0 to a function of order 3: [0.0, 0.0, 0.0]\u001b[39m\n",
      "Number of variable: n=11\n",
      "Number of inequality constraints: m=11\n",
      "Number of equality constraints: l=6\n",
      "====================\n",
      "Relaxed order: k=2\n",
      "Sparse order: t=2\n"
     ]
    }
   ],
   "source": [
    "using ctpPOP, PowerModels\n",
    "\n",
    "data = PowerModels.parse_file(\"/home/hoanganh/Desktop/math-topics/ctpPOP/codes/OPFproblems/pglib_opf_case3_lmbd.m\")\n",
    "\n",
    "using DynamicPolynomials\n",
    "\n",
    "x,f,g,h=ctpPOP.get_CTP_POP_OPF(data);\n",
    "\n",
    "println(\"Number of variable: n=\",length(x))\n",
    "println(\"Number of inequality constraints: m=\",length(g))\n",
    "println(\"Number of equality constraints: l=\",length(h))\n",
    "println(\"====================\")\n",
    "\n",
    "k=2; \n",
    "println(\"Relaxed order: k=\",k)\n",
    "t=2;\n",
    "println(\"Sparse order: t=\",t)"
   ]
  },
  {
   "cell_type": "code",
   "execution_count": 11,
   "metadata": {},
   "outputs": [
    {
     "data": {
      "text/plain": [
       "11-element Array{PolyVar{true},1}:\n",
       " mvr2\n",
       " mvi2\n",
       " mvr3\n",
       " mvi3\n",
       " mvr1\n",
       " mvi1\n",
       " mpg2\n",
       " mqg2\n",
       " mqg3\n",
       " mpg1\n",
       " mqg1"
      ]
     },
     "execution_count": 11,
     "metadata": {},
     "output_type": "execute_result"
    }
   ],
   "source": [
    "x"
   ]
  },
  {
   "cell_type": "code",
   "execution_count": 12,
   "metadata": {},
   "outputs": [
    {
     "data": {
      "text/latex": [
       "$$ 85000.00000000001mpg2^{2} + 110000.0mpg1^{2} + 171200.00000000003mpg2 + 225000.0mpg1 + 201200.0 $$"
      ],
      "text/plain": [
       "85000.00000000001mpg2² + 110000.0mpg1² + 171200.00000000003mpg2 + 225000.0mpg1 + 201200.0"
      ]
     },
     "execution_count": 12,
     "metadata": {},
     "output_type": "execute_result"
    }
   ],
   "source": [
    "f"
   ]
  },
  {
   "cell_type": "code",
   "execution_count": 13,
   "metadata": {},
   "outputs": [
    {
     "data": {
      "text/plain": [
       "11-element Array{Polynomial{true,Float64},1}:\n",
       " mvr2² + mvi2² - 0.6694214876033058\n",
       " -mvr2² - mvi2² + 1.0              \n",
       " mvr3² + mvi3² - 0.6694214876033058\n",
       " -mvr3² - mvi3² + 1.0              \n",
       " mvr1² + mvi1² - 0.6694214876033058\n",
       " -mvr1² - mvi1² + 1.0              \n",
       " -mpg2² + 1.0                      \n",
       " -mqg2² + 1.0                      \n",
       " -mqg3² + 1.0                      \n",
       " -mpg1² + 1.0                      \n",
       " -mqg1² + 1.0                      "
      ]
     },
     "execution_count": 13,
     "metadata": {},
     "output_type": "execute_result"
    }
   ],
   "source": [
    "g"
   ]
  },
  {
   "cell_type": "code",
   "execution_count": 14,
   "metadata": {},
   "outputs": [
    {
     "data": {
      "text/plain": [
       "6-element Array{Polynomial{true,Float64},1}:\n",
       " 0.11632249327468655mvr2² - 0.05371809100998891mvr2mvr3 - 1.6115427302996674mvr2mvi3 - 0.06260440226469764mvr2mvr1 - 1.341522905672092mvr2mvi1 + 0.11632249327468655mvi2² + 1.6115427302996674mvi2mvr3 - 0.05371809100998891mvi2mvi3 + 1.341522905672092mvi2mvr1 - 0.06260440226469764mvi2mvi1 - 10.0mpg2 - 8.9\n",
       " 2.3480656359717593mvr2² - 1.6115427302996674mvr2mvr3 + 0.05371809100998891mvr2mvi3 - 1.341522905672092mvr2mvr1 + 0.06260440226469764mvr2mvi1 + 2.3480656359717593mvi2² - 0.05371809100998891mvi2mvr3 - 1.6115427302996674mvi2mvi3 - 0.06260440226469764mvi2mvr1 - 1.341522905672092mvi2mvi1 - 10.0mqg2 + 0.4  \n",
       " -0.05371809100998891mvr2mvr3 + 1.6115427302996674mvr2mvi3 - 1.6115427302996674mvi2mvr3 - 0.05371809100998891mvi2mvi3 + 0.25609827756515136mvr3² - 0.20238018655516246mvr3mvr1 - 1.930395625603088mvr3mvi1 + 0.25609827756515136mvi3² + 1.930395625603088mvi3mvr1 - 0.20238018655516246mvi3mvi1 + 0.95         \n",
       " -1.6115427302996674mvr2mvr3 - 0.05371809100998891mvr2mvi3 + 0.05371809100998891mvi2mvr3 - 1.6115427302996674mvi2mvi3 + 2.846188355902755mvr3² - 1.930395625603088mvr3mvr1 + 0.20238018655516246mvr3mvi1 + 2.846188355902755mvi3² - 0.20238018655516246mvi3mvr1 - 1.930395625603088mvi3mvi1 - 10.0mqg3 + 0.5   \n",
       " -0.06260440226469764mvr2mvr1 + 1.341522905672092mvr2mvi1 - 1.341522905672092mvi2mvr1 - 0.06260440226469764mvi2mvi1 - 0.20238018655516246mvr3mvr1 + 1.930395625603088mvr3mvi1 - 1.930395625603088mvi3mvr1 - 0.20238018655516246mvi3mvi1 + 0.2649845888198601mvr1² + 0.2649845888198601mvi1² - 10.0mpg1 - 8.9   \n",
       " -1.341522905672092mvr2mvr1 - 0.06260440226469764mvr2mvi1 + 0.06260440226469764mvi2mvr1 - 1.341522905672092mvi2mvi1 - 1.930395625603088mvr3mvr1 - 0.20238018655516246mvr3mvi1 + 0.20238018655516246mvi3mvr1 - 1.930395625603088mvi3mvi1 + 2.81816853127518mvr1² + 2.81816853127518mvi1² - 10.0mqg1 + 0.4       "
      ]
     },
     "execution_count": 14,
     "metadata": {},
     "output_type": "execute_result"
    }
   ],
   "source": [
    "h"
   ]
  },
  {
   "cell_type": "code",
   "execution_count": 15,
   "metadata": {},
   "outputs": [],
   "source": [
    "using  SparseArrays, LinearAlgebra\n",
    "\n",
    "n,m,l,lmon_g,supp_g,coe_g,lmon_h,supp_h,coe_h,lmon_f,supp_f,coe_f,dg,dh=ctpPOP.get_info(x,f,g,h,sparse=true);"
   ]
  },
  {
   "cell_type": "code",
   "execution_count": 16,
   "metadata": {},
   "outputs": [
    {
     "name": "stdout",
     "output_type": "stream",
     "text": [
      "------------------------------------------------------\n",
      "The clique sizes of varibles:\n",
      "[7]\n",
      "[5]\n",
      "------------------------------------------------------\n",
      "Problem\n",
      "  Name                   :                 \n",
      "  Objective sense        : max             \n",
      "  Type                   : CONIC (conic optimization problem)\n",
      "  Constraints            : 414             \n",
      "  Cones                  : 0               \n",
      "  Scalar variables       : 190             \n",
      "  Matrix variables       : 37              \n",
      "  Integer variables      : 0               \n",
      "\n",
      "Optimizer started.\n",
      "Presolve started.\n",
      "Linear dependency checker started.\n",
      "Linear dependency checker terminated.\n",
      "Eliminator started.\n",
      "Freed constraints in eliminator : 0\n",
      "Eliminator terminated.\n",
      "Eliminator started.\n",
      "Freed constraints in eliminator : 0\n",
      "Eliminator terminated.\n",
      "Eliminator - tries                  : 2                 time                   : 0.00            \n",
      "Lin. dep.  - tries                  : 1                 time                   : 0.00            \n",
      "Lin. dep.  - number                 : 0               \n",
      "Presolve terminated. Time: 0.00    \n",
      "Problem\n",
      "  Name                   :                 \n",
      "  Objective sense        : max             \n",
      "  Type                   : CONIC (conic optimization problem)\n",
      "  Constraints            : 414             \n",
      "  Cones                  : 0               \n",
      "  Scalar variables       : 190             \n",
      "  Matrix variables       : 37              \n",
      "  Integer variables      : 0               \n",
      "\n",
      "Optimizer  - threads                : 4               \n",
      "Optimizer  - solved problem         : the primal      \n",
      "Optimizer  - Constraints            : 399\n",
      "Optimizer  - Cones                  : 12\n",
      "Optimizer  - Scalar variables       : 197               conic                  : 164             \n",
      "Optimizer  - Semi-definite variables: 26                scalarized             : 1671            \n",
      "Factor     - setup time             : 0.00              dense det. time        : 0.00            \n",
      "Factor     - ML order time          : 0.00              GP order time          : 0.00            \n",
      "Factor     - nonzeros before factor : 4.48e+04          after factor           : 4.91e+04        \n",
      "Factor     - dense dim.             : 2                 flops                  : 8.80e+06        \n",
      "ITE PFEAS    DFEAS    GFEAS    PRSTATUS   POBJ              DOBJ              MU       TIME  \n",
      "0   1.3e+04  1.0e+00  1.0e+00  0.00e+00   0.000000000e+00   0.000000000e+00   1.0e+00  0.01  \n",
      "1   8.5e+03  6.7e-01  8.2e-01  -1.00e+00  -2.169396827e+00  -2.658498607e+00  6.7e-01  0.01  \n",
      "2   7.1e+03  5.7e-01  7.5e-01  -9.98e-01  -2.593768931e+01  -2.670929163e+01  5.7e-01  0.02  \n",
      "3   1.7e+03  1.3e-01  3.6e-01  -9.98e-01  -2.816621813e+02  -2.879643730e+02  1.3e-01  0.02  \n",
      "4   3.8e+01  3.0e-03  4.8e-02  -9.89e-01  -1.286276001e+04  -1.312349605e+04  3.0e-03  0.03  \n",
      "5   1.7e+01  1.3e-03  1.3e-02  -2.23e-01  -6.852551916e+03  -6.948392469e+03  1.3e-03  0.04  \n",
      "6   1.0e+01  8.2e-04  5.0e-03  1.57e+00   1.705764710e+03   1.668053880e+03   8.2e-04  0.04  \n",
      "7   2.3e+00  1.8e-04  4.4e-04  1.23e+00   5.010083326e+03   5.004382788e+03   1.8e-04  0.05  \n",
      "8   3.5e-01  2.8e-05  2.5e-05  1.11e+00   5.597867964e+03   5.597102878e+03   2.8e-05  0.05  \n",
      "9   4.6e-02  3.7e-06  1.1e-06  1.04e+00   5.684654734e+03   5.684561360e+03   3.7e-06  0.06  \n",
      "10  4.0e-03  3.2e-07  3.0e-08  1.01e+00   5.693416734e+03   5.693407833e+03   3.2e-07  0.06  \n",
      "11  5.0e-04  4.0e-08  1.3e-09  1.00e+00   5.694389711e+03   5.694388633e+03   4.0e-08  0.07  \n",
      "12  8.2e-05  6.5e-09  8.6e-11  1.01e+00   5.694512080e+03   5.694511907e+03   6.5e-09  0.07  \n",
      "13  1.1e-05  8.9e-10  4.3e-12  1.01e+00   5.694533119e+03   5.694533095e+03   9.0e-10  0.08  \n",
      "14  1.4e-06  1.1e-10  2.0e-13  1.00e+00   5.694536132e+03   5.694536129e+03   1.2e-10  0.09  \n",
      "15  9.4e-08  8.1e-12  3.6e-15  1.00e+00   5.694536551e+03   5.694536551e+03   8.1e-12  0.10  \n",
      "Optimizer terminated. Time: 0.10    \n",
      "\n",
      "optimum = 5694.536550936674\n",
      "  0.132215 seconds (409.45 k allocations: 33.994 MiB)\n"
     ]
    }
   ],
   "source": [
    "using TSSOS, LinearAlgebra\n",
    "\n",
    "\n",
    "@time begin\n",
    "    ~,~,data1=cs_tssos_first(Vector{SparseMatrixCSC{UInt8,UInt32}}([[supp_f];supp_g;supp_h]),[[coe_f];coe_g;coe_h],n,k,[dg;dh],numeq=l,CS=\"MD\",TS=\"block\")\n",
    "    #=for j in 1:t-1\n",
    "        ~,~,data1=cs_tssos_higher!(data,TS=\"block\");\n",
    "    end=#\n",
    "    end;"
   ]
  },
  {
   "cell_type": "code",
   "execution_count": null,
   "metadata": {},
   "outputs": [
    {
     "name": "stdout",
     "output_type": "stream",
     "text": [
      "------------------------------------------------------\n",
      "The clique sizes of varibles:\n",
      "[7]\n",
      "[5]\n",
      "------------------------------------------------------\n",
      "  Number of cliques: p=5\n",
      "  Largest clique size: u=7\n",
      "  Largest constant trace: a=21.0\n",
      "  Number of blocks: omega=56\n",
      "  Number of equality consraints: zeta=2209\n",
      "  Size of the largest block: s^max=24\n",
      "Modeling time:\n",
      "  0.130670 seconds (569.03 k allocations: 69.029 MiB, 33.87% gc time)\n",
      "iter=1   val=-4.63668911811667e6   gap=6.025780573365745e-16   feas=56.76818343176126   time=0.004507788\n",
      "iter=3   val=-975399.3634200427   gap=0.7716177362072802   feas=27.940785542132403   time=0.014513803\n",
      "iter=7   val=-350687.9981036188   gap=0.908674326242059   feas=18.232242311683816   time=0.032001944\n",
      "iter=15   val=-70721.92173154904   gap=0.9715646277627288   feas=11.157131162488685   time=0.063603281\n",
      "iter=31   val=78191.48943516954   gap=1.0514128953773008   feas=5.493945938345697   time=0.125478585\n",
      "iter=63   val=33752.79157856613   gap=1.0360773504594571   feas=3.4951649794500304   time=0.204931518\n",
      "iter=127   val=21421.813979901   gap=1.0515183252065758   feas=1.5644257730322535   time=0.353267546\n",
      "iter=255   val=18936.239142502538   gap=1.07654286552347   feas=0.7643760292563282   time=0.6524738059999999\n",
      "iter=511   val=25634.57376651128   gap=1.2360092227933097   feas=0.4024940634966547   time=1.2893413169999999\n",
      "iter=1023   val=26245.23116169192   gap=0.5706987796058597   feas=0.2702425802835335   time=2.637977258\n",
      "iter=2047   val=28980.98854265527   gap=0.803652232911826   feas=0.21605818500580815   time=5.190074623999999\n",
      "iter=4095   val=29669.29909796251   gap=0.911078940271256   feas=0.2006408505972717   time=10.330407232999999\n"
     ]
    }
   ],
   "source": [
    "using ctpPOP\n",
    "\n",
    "opt_val1=ctpPOP.POP_mix_CGAL(n,m,l,lmon_g,supp_g,coe_g,lmon_h,supp_h,coe_h,lmon_f,supp_f,coe_f,dg,dh,k,t,\n",
    "    maxit=Int64(1e10),tol=1e-2,use_eqcons_to_get_constant_trace=false,check_tol_each_iter=false)"
   ]
  },
  {
   "cell_type": "code",
   "execution_count": null,
   "metadata": {},
   "outputs": [],
   "source": [
    "#using ctpPOP\n",
    "\n",
    "#optval=ctpPOP.POP_NLP(n,m,l,lmon_g,supp_g,coe_g,lmon_h,supp_h,coe_h,lmon_f,supp_f,coe_f,set_initial_point_opf=true)"
   ]
  },
  {
   "cell_type": "code",
   "execution_count": null,
   "metadata": {},
   "outputs": [],
   "source": []
  }
 ],
 "metadata": {
  "kernelspec": {
   "display_name": "Julia 1.3.0",
   "language": "julia",
   "name": "julia-1.3"
  },
  "language_info": {
   "file_extension": ".jl",
   "mimetype": "application/julia",
   "name": "julia",
   "version": "1.3.0"
  }
 },
 "nbformat": 4,
 "nbformat_minor": 2
}
