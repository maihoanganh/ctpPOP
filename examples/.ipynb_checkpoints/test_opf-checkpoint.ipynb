{
 "cells": [
  {
   "cell_type": "code",
   "execution_count": 1,
   "metadata": {},
   "outputs": [
    {
     "name": "stdout",
     "output_type": "stream",
     "text": [
      "\u001b[32m[info | PowerModels]: removing 3 cost terms from generator 3: Float64[]\u001b[39m\n",
      "\u001b[35m[warn | PowerModels]: Updated generator 3 cost function with order 0 to a function of order 3: [0.0, 0.0, 0.0]\u001b[39m\n",
      "Number of variable: n=11\n",
      "Number of inequality constraints: m=11\n",
      "Number of equality constraints: l=6\n",
      "====================\n",
      "Relaxed order: k=2\n",
      "Sparse order: t=2\n"
     ]
    }
   ],
   "source": [
    "include(\"../src/ctpPOP.jl\")\n",
    "using .ctpPOP, PowerModels\n",
    "\n",
    "data = PowerModels.parse_file(\"/home/hoanganh/Desktop/math-topics/ctpPOP/codes/OPFproblems/pglib_opf_case3_lmbd.m\")\n",
    "\n",
    "using DynamicPolynomials\n",
    "\n",
    "x,f,g,h=ctpPOP.get_CTP_POP_OPF(data);\n",
    "\n",
    "println(\"Number of variable: n=\",length(x))\n",
    "println(\"Number of inequality constraints: m=\",length(g))\n",
    "println(\"Number of equality constraints: l=\",length(h))\n",
    "println(\"====================\")\n",
    "\n",
    "k=2; \n",
    "println(\"Relaxed order: k=\",k)\n",
    "t=2;\n",
    "println(\"Sparse order: t=\",t)"
   ]
  },
  {
   "cell_type": "code",
   "execution_count": 5,
   "metadata": {},
   "outputs": [
    {
     "data": {
      "text/plain": [
       "11-element Array{PolyVar{true},1}:\n",
       " mvr2\n",
       " mvi2\n",
       " mvr3\n",
       " mvi3\n",
       " mvr1\n",
       " mvi1\n",
       " mpg2\n",
       " mqg2\n",
       " mqg3\n",
       " mpg1\n",
       " mqg1"
      ]
     },
     "execution_count": 5,
     "metadata": {},
     "output_type": "execute_result"
    }
   ],
   "source": [
    "x"
   ]
  },
  {
   "cell_type": "code",
   "execution_count": 2,
   "metadata": {},
   "outputs": [
    {
     "data": {
      "text/latex": [
       "$$ 85000.00000000001mpg2^{2} + 110000.0mpg1^{2} + 171200.00000000003mpg2 + 225000.0mpg1 + 201200.0 $$"
      ],
      "text/plain": [
       "85000.00000000001mpg2² + 110000.0mpg1² + 171200.00000000003mpg2 + 225000.0mpg1 + 201200.0"
      ]
     },
     "execution_count": 2,
     "metadata": {},
     "output_type": "execute_result"
    }
   ],
   "source": [
    "f"
   ]
  },
  {
   "cell_type": "code",
   "execution_count": 3,
   "metadata": {},
   "outputs": [
    {
     "data": {
      "text/plain": [
       "11-element Array{Polynomial{true,Float64},1}:\n",
       " mvr2² + mvi2² - 0.6694214876033058\n",
       " -mvr2² - mvi2² + 1.0              \n",
       " mvr3² + mvi3² - 0.6694214876033058\n",
       " -mvr3² - mvi3² + 1.0              \n",
       " mvr1² + mvi1² - 0.6694214876033058\n",
       " -mvr1² - mvi1² + 1.0              \n",
       " -mpg2² + 1.0                      \n",
       " -mqg2² + 1.0                      \n",
       " -mqg3² + 1.0                      \n",
       " -mpg1² + 1.0                      \n",
       " -mqg1² + 1.0                      "
      ]
     },
     "execution_count": 3,
     "metadata": {},
     "output_type": "execute_result"
    }
   ],
   "source": [
    "g"
   ]
  },
  {
   "cell_type": "code",
   "execution_count": 4,
   "metadata": {},
   "outputs": [
    {
     "data": {
      "text/plain": [
       "6-element Array{Polynomial{true,Float64},1}:\n",
       " 0.11632249327468655mvr2² - 0.05371809100998891mvr2mvr3 - 1.6115427302996674mvr2mvi3 - 0.06260440226469764mvr2mvr1 - 1.341522905672092mvr2mvi1 + 0.11632249327468655mvi2² + 1.6115427302996674mvi2mvr3 - 0.05371809100998891mvi2mvi3 + 1.341522905672092mvi2mvr1 - 0.06260440226469764mvi2mvi1 - 10.0mpg2 - 8.9\n",
       " 2.3480656359717593mvr2² - 1.6115427302996674mvr2mvr3 + 0.05371809100998891mvr2mvi3 - 1.341522905672092mvr2mvr1 + 0.06260440226469764mvr2mvi1 + 2.3480656359717593mvi2² - 0.05371809100998891mvi2mvr3 - 1.6115427302996674mvi2mvi3 - 0.06260440226469764mvi2mvr1 - 1.341522905672092mvi2mvi1 - 10.0mqg2 + 0.4  \n",
       " -0.05371809100998891mvr2mvr3 + 1.6115427302996674mvr2mvi3 - 1.6115427302996674mvi2mvr3 - 0.05371809100998891mvi2mvi3 + 0.25609827756515136mvr3² - 0.20238018655516246mvr3mvr1 - 1.930395625603088mvr3mvi1 + 0.25609827756515136mvi3² + 1.930395625603088mvi3mvr1 - 0.20238018655516246mvi3mvi1 + 0.95         \n",
       " -1.6115427302996674mvr2mvr3 - 0.05371809100998891mvr2mvi3 + 0.05371809100998891mvi2mvr3 - 1.6115427302996674mvi2mvi3 + 2.846188355902755mvr3² - 1.930395625603088mvr3mvr1 + 0.20238018655516246mvr3mvi1 + 2.846188355902755mvi3² - 0.20238018655516246mvi3mvr1 - 1.930395625603088mvi3mvi1 - 10.0mqg3 + 0.5   \n",
       " -0.06260440226469764mvr2mvr1 + 1.341522905672092mvr2mvi1 - 1.341522905672092mvi2mvr1 - 0.06260440226469764mvi2mvi1 - 0.20238018655516246mvr3mvr1 + 1.930395625603088mvr3mvi1 - 1.930395625603088mvi3mvr1 - 0.20238018655516246mvi3mvi1 + 0.2649845888198601mvr1² + 0.2649845888198601mvi1² - 10.0mpg1 - 8.9   \n",
       " -1.341522905672092mvr2mvr1 - 0.06260440226469764mvr2mvi1 + 0.06260440226469764mvi2mvr1 - 1.341522905672092mvi2mvi1 - 1.930395625603088mvr3mvr1 - 0.20238018655516246mvr3mvi1 + 0.20238018655516246mvi3mvr1 - 1.930395625603088mvi3mvi1 + 2.81816853127518mvr1² + 2.81816853127518mvi1² - 10.0mqg1 + 0.4       "
      ]
     },
     "execution_count": 4,
     "metadata": {},
     "output_type": "execute_result"
    }
   ],
   "source": [
    "h"
   ]
  },
  {
   "cell_type": "code",
   "execution_count": 6,
   "metadata": {},
   "outputs": [],
   "source": [
    "using  SparseArrays, LinearAlgebra\n",
    "\n",
    "n,m,l,lmon_g,supp_g,coe_g,lmon_h,supp_h,coe_h,lmon_f,supp_f,coe_f,dg,dh=ctpPOP.get_info(x,f,g,h,sparse=true);"
   ]
  },
  {
   "cell_type": "code",
   "execution_count": 7,
   "metadata": {},
   "outputs": [
    {
     "name": "stdout",
     "output_type": "stream",
     "text": [
      "------------------------------------------------------\n",
      "The clique sizes of varibles:\n",
      "[7]\n",
      "[5]\n",
      "------------------------------------------------------\n",
      "Problem\n",
      "  Name                   :                 \n",
      "  Objective sense        : max             \n",
      "  Type                   : CONIC (conic optimization problem)\n",
      "  Constraints            : 414             \n",
      "  Cones                  : 0               \n",
      "  Scalar variables       : 190             \n",
      "  Matrix variables       : 37              \n",
      "  Integer variables      : 0               \n",
      "\n",
      "Optimizer started.\n",
      "Presolve started.\n",
      "Linear dependency checker started.\n",
      "Linear dependency checker terminated.\n",
      "Eliminator started.\n",
      "Freed constraints in eliminator : 0\n",
      "Eliminator terminated.\n",
      "Eliminator started.\n",
      "Freed constraints in eliminator : 0\n",
      "Eliminator terminated.\n",
      "Eliminator - tries                  : 2                 time                   : 0.00            \n",
      "Lin. dep.  - tries                  : 1                 time                   : 0.00            \n",
      "Lin. dep.  - number                 : 0               \n",
      "Presolve terminated. Time: 0.00    \n",
      "Problem\n",
      "  Name                   :                 \n",
      "  Objective sense        : max             \n",
      "  Type                   : CONIC (conic optimization problem)\n",
      "  Constraints            : 414             \n",
      "  Cones                  : 0               \n",
      "  Scalar variables       : 190             \n",
      "  Matrix variables       : 37              \n",
      "  Integer variables      : 0               \n",
      "\n",
      "Optimizer  - threads                : 4               \n",
      "Optimizer  - solved problem         : the primal      \n",
      "Optimizer  - Constraints            : 399\n",
      "Optimizer  - Cones                  : 12\n",
      "Optimizer  - Scalar variables       : 197               conic                  : 164             \n",
      "Optimizer  - Semi-definite variables: 26                scalarized             : 1671            \n",
      "Factor     - setup time             : 0.01              dense det. time        : 0.00            \n",
      "Factor     - ML order time          : 0.00              GP order time          : 0.00            \n",
      "Factor     - nonzeros before factor : 4.48e+04          after factor           : 4.91e+04        \n",
      "Factor     - dense dim.             : 2                 flops                  : 8.80e+06        \n",
      "ITE PFEAS    DFEAS    GFEAS    PRSTATUS   POBJ              DOBJ              MU       TIME  \n",
      "0   1.3e+04  1.0e+00  1.0e+00  0.00e+00   0.000000000e+00   0.000000000e+00   1.0e+00  0.02  \n",
      "1   8.5e+03  6.7e-01  8.2e-01  -1.00e+00  -2.169396827e+00  -2.658498607e+00  6.7e-01  0.03  \n",
      "2   7.1e+03  5.7e-01  7.5e-01  -9.98e-01  -2.593768931e+01  -2.670929163e+01  5.7e-01  0.04  \n",
      "3   1.7e+03  1.3e-01  3.6e-01  -9.98e-01  -2.816621813e+02  -2.879643730e+02  1.3e-01  0.05  \n",
      "4   3.8e+01  3.0e-03  4.8e-02  -9.89e-01  -1.286276001e+04  -1.312349605e+04  3.0e-03  0.05  \n",
      "5   1.7e+01  1.3e-03  1.3e-02  -2.23e-01  -6.852551916e+03  -6.948392469e+03  1.3e-03  0.06  \n",
      "6   1.0e+01  8.2e-04  5.0e-03  1.57e+00   1.705764710e+03   1.668053880e+03   8.2e-04  0.07  \n",
      "7   2.3e+00  1.8e-04  4.4e-04  1.23e+00   5.010083326e+03   5.004382788e+03   1.8e-04  0.07  \n",
      "8   3.5e-01  2.8e-05  2.5e-05  1.11e+00   5.597867964e+03   5.597102878e+03   2.8e-05  0.08  \n",
      "9   4.6e-02  3.7e-06  1.1e-06  1.04e+00   5.684654734e+03   5.684561360e+03   3.7e-06  0.09  \n",
      "10  4.0e-03  3.2e-07  3.0e-08  1.01e+00   5.693416734e+03   5.693407833e+03   3.2e-07  0.09  \n",
      "11  5.0e-04  4.0e-08  1.3e-09  1.00e+00   5.694389711e+03   5.694388633e+03   4.0e-08  0.10  \n",
      "12  8.2e-05  6.5e-09  8.6e-11  1.01e+00   5.694512080e+03   5.694511907e+03   6.5e-09  0.11  \n",
      "13  1.1e-05  8.9e-10  4.3e-12  1.01e+00   5.694533119e+03   5.694533095e+03   9.0e-10  0.12  \n",
      "14  1.4e-06  1.1e-10  2.0e-13  1.00e+00   5.694536132e+03   5.694536129e+03   1.2e-10  0.15  \n",
      "15  9.4e-08  8.1e-12  3.6e-15  1.00e+00   5.694536551e+03   5.694536551e+03   8.1e-12  0.16  \n",
      "Optimizer terminated. Time: 0.16    \n",
      "\n",
      "optimum = 5694.536550936674\n",
      " 45.094239 seconds (89.65 M allocations: 4.404 GiB, 6.41% gc time)\n"
     ]
    }
   ],
   "source": [
    "using TSSOS, LinearAlgebra\n",
    "\n",
    "\n",
    "@time begin\n",
    "    ~,~,data1=cs_tssos_first(Vector{SparseMatrixCSC{UInt8,UInt32}}([[supp_f];supp_g;supp_h]),[[coe_f];coe_g;coe_h],n,k,[dg;dh],numeq=l,CS=\"MD\",TS=\"block\",CTP=false)\n",
    "    #=for j in 1:t-1\n",
    "        ~,~,data1=cs_tssos_higher!(data,TS=\"block\");\n",
    "    end=#\n",
    "    end;"
   ]
  },
  {
   "cell_type": "code",
   "execution_count": null,
   "metadata": {},
   "outputs": [
    {
     "name": "stdout",
     "output_type": "stream",
     "text": [
      "------------------------------------------------------\n",
      "The clique sizes of varibles:\n",
      "[7]\n",
      "[5]\n",
      "------------------------------------------------------\n",
      "  Number of cliques: p=5\n",
      "  Largest clique size: u=7\n"
     ]
    },
    {
     "name": "stderr",
     "output_type": "stream",
     "text": [
      "WARNING: replacing module ctpPOP.\n",
      "┌ Warning: `with_optimizer` is deprecated. Adapt the following example to update your code:\n",
      "│ `with_optimizer(Ipopt.Optimizer, max_cpu_time=60.0)` becomes `optimizer_with_attributes(Ipopt.Optimizer, \"max_cpu_time\" => 60.0)`.\n",
      "│   caller = ip:0x0\n",
      "└ @ Core :-1\n"
     ]
    },
    {
     "name": "stdout",
     "output_type": "stream",
     "text": [
      "  Largest constant trace: a=21.0\n",
      "  Number of blocks: omega=56\n",
      "  Number of equality consraints: zeta=2209\n",
      "  Size of the largest block: s^max=24\n",
      "Modeling time:\n",
      "  6.704674 seconds (10.27 M allocations: 550.414 MiB, 3.72% gc time)\n",
      "iter=1   val=-4.63668911811667e6   gap=4.017187048910497e-16   feas=58.115393298668415\n",
      "iter=2   val=-1.5455630355873234e6   gap=0.693509682052537   feas=35.39831948786768\n",
      "iter=4   val=-463668.9011560913   gap=0.8824800710273963   feas=29.31089222016634\n",
      "iter=8   val=-313085.4778827871   gap=0.918065056875093   feas=18.083025476868364\n",
      "iter=16   val=-58344.09791753551   gap=0.973390631531577   feas=9.087983397473844\n",
      "iter=32   val=69344.04498730817   gap=1.0563095373907114   feas=5.363470008166757\n",
      "iter=64   val=29365.398686145913   gap=1.0376289388092972   feas=3.0269661558881498\n",
      "iter=128   val=12433.194643699248   gap=1.0304072855908393   feas=1.675741932865407\n",
      "iter=256   val=23236.42219463233   gap=1.091439097460044   feas=0.7901274666368909\n",
      "iter=512   val=28712.201308214662   gap=1.2568616643365764   feas=0.41975860471887766\n",
      "iter=1024   val=26930.592141210607   gap=0.47070366240383765   feas=0.2659263688109498\n",
      "iter=2048   val=29318.22424715659   gap=0.8091069631641782   feas=0.21539883257365122\n",
      "iter=4096   val=29646.919100265546   gap=0.9118637405785353   feas=0.20043798201880123\n",
      "iter="
     ]
    }
   ],
   "source": [
    "include(\"../src/ctpPOP.jl\")\n",
    "using .ctpPOP\n",
    "\n",
    "opt_val1=ctpPOP.POP_mix_CGAL(n,m,l,lmon_g,supp_g,coe_g,lmon_h,supp_h,coe_h,lmon_f,supp_f,coe_f,dg,dh,k,t,\n",
    "    maxit=Int64(1e10),tol=1e-2,use_eqcons_to_get_constant_trace=false,check_tol_each_iter=false)"
   ]
  },
  {
   "cell_type": "code",
   "execution_count": 10,
   "metadata": {},
   "outputs": [
    {
     "name": "stdout",
     "output_type": "stream",
     "text": [
      "This is Ipopt version 3.13.2, running with linear solver mumps.\n",
      "NOTE: Other linear solvers might be more efficient (see Ipopt documentation).\n",
      "\n",
      "Number of nonzeros in equality constraint Jacobian...:      113\n",
      "Number of nonzeros in inequality constraint Jacobian.:       17\n",
      "Number of nonzeros in Lagrangian Hessian.............:       79\n",
      "\n",
      "Total number of variables............................:       11\n",
      "                     variables with only lower bounds:        0\n",
      "                variables with lower and upper bounds:        0\n",
      "                     variables with only upper bounds:        0\n",
      "Total number of equality constraints.................:        6\n",
      "Total number of inequality constraints...............:       11\n",
      "        inequality constraints with only lower bounds:       11\n",
      "   inequality constraints with lower and upper bounds:        0\n",
      "        inequality constraints with only upper bounds:        0\n",
      "\n",
      "iter    objective    inf_pr   inf_du lg(mu)  ||d||  lg(rg) alpha_du alpha_pr  ls\n",
      "   0  7.9240000e+05 1.89e+01 3.09e+00  -1.0 0.00e+00    -  0.00e+00 0.00e+00   0\n",
      "   1  8.3704651e+03 6.03e-01 1.31e+03  -1.0 3.72e+00   0.0 2.72e-03 9.80e-01f  1\n",
      "   2  6.3674643e+03 7.29e-02 4.53e+03  -1.0 3.32e+00   3.1 1.00e+00 1.00e+00h  1\n",
      "   3  6.3932356e+03 1.37e-03 2.36e+01  -1.0 2.11e-02   2.7 1.00e+00 1.00e+00h  1\n",
      "   4  6.1325814e+03 4.07e-03 9.03e-01  -1.0 4.48e-02    -  1.00e+00 1.00e+00f  1\n",
      "   5  6.1077670e+03 3.92e-05 4.40e-01  -1.7 2.90e-03   2.2 1.00e+00 1.00e+00h  1\n",
      "   6  5.6852379e+03 6.37e-02 3.31e-02  -1.7 1.25e-01    -  1.00e+00 1.00e+00f  1\n",
      "   7  5.7059906e+03 3.59e-04 1.35e-04  -2.5 1.11e-02    -  1.00e+00 1.00e+00h  1\n",
      "   8  5.7061725e+03 4.84e-09 3.82e-03  -3.8 7.56e-05   1.7 1.00e+00 1.00e+00h  1\n",
      "   9  5.7061560e+03 2.30e-08 3.54e-03  -3.8 2.10e-04   1.2 1.00e+00 1.00e+00h  1\n",
      "iter    objective    inf_pr   inf_du lg(mu)  ||d||  lg(rg) alpha_du alpha_pr  ls\n",
      "  10  5.7061082e+03 1.22e-07 3.51e-03  -3.8 6.25e-04   0.7 1.00e+00 1.00e+00h  1\n",
      "  11  5.7059692e+03 9.05e-07 3.44e-03  -3.8 1.83e-03   0.3 1.00e+00 1.00e+00h  1\n",
      "  12  5.7055674e+03 8.03e-06 3.27e-03  -3.8 5.23e-03  -0.2 1.00e+00 1.00e+00h  1\n",
      "  13  5.7044667e+03 5.96e-05 2.90e-03  -3.8 1.39e-02  -0.7 1.00e+00 1.00e+00h  1\n",
      "  14  5.7018138e+03 3.77e-04 2.31e-03  -3.8 3.33e-02  -1.2 1.00e+00 1.00e+00h  1\n",
      "  15  5.6971955e+03 1.30e-03 1.43e-03  -3.8 6.19e-02  -1.6 1.00e+00 1.00e+00h  1\n",
      "  16  5.6946925e+03 9.61e-04 7.66e-04  -5.7 6.91e-02  -2.1 8.09e-01 6.29e-01h  1\n",
      "  17  5.6944642e+03 3.27e-04 5.34e-04  -5.7 1.64e-02  -2.6 1.00e+00 6.76e-01h  1\n",
      "  18  5.6945615e+03 2.40e-07 4.09e-07  -5.7 4.78e-04  -3.1 1.00e+00 1.00e+00h  1\n",
      "  19  5.6945367e+03 5.06e-08 1.22e-08  -8.6 4.84e-04    -  1.00e+00 1.00e+00h  1\n",
      "iter    objective    inf_pr   inf_du lg(mu)  ||d||  lg(rg) alpha_du alpha_pr  ls\n",
      "  20  5.6945366e+03 1.09e-12 5.40e-10  -8.6 1.89e-06  -3.5 1.00e+00 1.00e+00h  1\n",
      "\n",
      "Number of Iterations....: 20\n",
      "\n",
      "                                   (scaled)                 (unscaled)\n",
      "Objective...............:   1.2796711480867031e+00    5.6945366089858289e+03\n",
      "Dual infeasibility......:   5.3965010755098225e-10    2.4014429786018710e-06\n",
      "Constraint violation....:   1.0935696792557792e-12    1.0935696792557792e-12\n",
      "Complementarity.........:   2.5060505129943951e-09    1.1151924782825058e-05\n",
      "Overall NLP error.......:   2.5060505129943951e-09    1.1151924782825058e-05\n",
      "\n",
      "\n",
      "Number of objective function evaluations             = 21\n",
      "Number of objective gradient evaluations             = 21\n",
      "Number of equality constraint evaluations            = 21\n",
      "Number of inequality constraint evaluations          = 21\n",
      "Number of equality constraint Jacobian evaluations   = 21\n",
      "Number of inequality constraint Jacobian evaluations = 21\n",
      "Number of Lagrangian Hessian evaluations             = 20\n",
      "Total CPU secs in IPOPT (w/o function evaluations)   =      0.007\n",
      "Total CPU secs in NLP function evaluations           =      0.000\n",
      "\n",
      "EXIT: Optimal Solution Found.\n",
      "LOCALLY_SOLVED\n",
      "opt_val=5694.536608985829\n",
      "  0.452147 seconds (970.49 k allocations: 49.010 MiB)\n"
     ]
    },
    {
     "name": "stderr",
     "output_type": "stream",
     "text": [
      "WARNING: replacing module ctpPOP.\n"
     ]
    },
    {
     "data": {
      "text/plain": [
       "5694.536608985829"
      ]
     },
     "execution_count": 10,
     "metadata": {},
     "output_type": "execute_result"
    }
   ],
   "source": [
    "include(\"../src/ctpPOP.jl\")\n",
    "using .ctpPOP\n",
    "\n",
    "optval=ctpPOP.POP_NLP(n,m,l,lmon_g,supp_g,coe_g,lmon_h,supp_h,coe_h,lmon_f,supp_f,coe_f,set_initial_point_opf=true)"
   ]
  },
  {
   "cell_type": "code",
   "execution_count": null,
   "metadata": {},
   "outputs": [],
   "source": []
  }
 ],
 "metadata": {
  "kernelspec": {
   "display_name": "Julia 1.3.0",
   "language": "julia",
   "name": "julia-1.3"
  },
  "language_info": {
   "file_extension": ".jl",
   "mimetype": "application/julia",
   "name": "julia",
   "version": "1.3.0"
  }
 },
 "nbformat": 4,
 "nbformat_minor": 2
}
