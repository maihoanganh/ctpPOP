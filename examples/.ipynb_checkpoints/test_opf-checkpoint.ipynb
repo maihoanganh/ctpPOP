{
 "cells": [
  {
   "cell_type": "code",
   "execution_count": 418,
   "metadata": {},
   "outputs": [
    {
     "name": "stdout",
     "output_type": "stream",
     "text": [
      "\u001b[32m[info | PowerModels]: removing 3 cost terms from generator 3: Float64[]\u001b[39m\n"
     ]
    },
    {
     "name": "stderr",
     "output_type": "stream",
     "text": [
      "WARNING: replacing module ctpPOP.\n"
     ]
    },
    {
     "name": "stdout",
     "output_type": "stream",
     "text": [
      "\u001b[35m[warn | PowerModels]: Updated generator 3 cost function with order 0 to a function of order 3: [0.0, 0.0, 0.0]\u001b[39m\n",
      "Number of variable: n=11\n",
      "Number of inequality constraints: m=11\n",
      "Number of equality constraints: l=6\n",
      "====================\n",
      "Relaxed order: k=2\n",
      "Sparse order: t=2\n",
      "====================\n"
     ]
    }
   ],
   "source": [
    "include(\"../src/ctpPOP.jl\")\n",
    "using .ctpPOP\n",
    "\n",
    "data = PolyPowerModels.parse_file(\"/home/hoanganh/Desktop/math-topics/ctpPOP/codes/OPFproblems/pglib_opf_case3_lmbd.m\")\n",
    "#data = PolyPowerModels.parse_file(\"/home/hoanganh/Desktop/math-topics/ctpPOP/codes/OPFproblems/pglib_opf_case5_pjm.m\")\n",
    "#data = PolyPowerModels.parse_file(\"/home/hoanganh/Desktop/math-topics/ctpPOP/codes/ctpPOP/PolyPowerModels/test/testcases/pglib_opf_case118_ieee__sad.m\")\n",
    "#data = PolyPowerModels.parse_file(\"/home/hoanganh/Desktop/math-topics/ctpPOP/codes/OPFproblems/pglib_opf_case2312_goc.m\")\n",
    "\n",
    "using DynamicPolynomials\n",
    "\n",
    "x,f,g,h=ctpPOP.get_CTP_POP_OPF(data);\n",
    "\n",
    "println(\"Number of variable: n=\",length(x))\n",
    "println(\"Number of inequality constraints: m=\",length(g))\n",
    "println(\"Number of equality constraints: l=\",length(h))\n",
    "println(\"====================\")\n",
    "k=2; t=2;\n",
    "println(\"Relaxed order: k=\",k)\n",
    "println(\"Sparse order: t=\",t)\n",
    "println(\"====================\")\n"
   ]
  },
  {
   "cell_type": "code",
   "execution_count": 419,
   "metadata": {},
   "outputs": [
    {
     "data": {
      "text/plain": [
       "Dict{String,Any}"
      ]
     },
     "execution_count": 419,
     "metadata": {},
     "output_type": "execute_result"
    }
   ],
   "source": [
    "typeof(data)"
   ]
  },
  {
   "cell_type": "code",
   "execution_count": 404,
   "metadata": {},
   "outputs": [
    {
     "data": {
      "text/plain": [
       "11-element Array{PolyVar{true},1}:\n",
       " mvr2\n",
       " mvi2\n",
       " mvr3\n",
       " mvi3\n",
       " mvr1\n",
       " mvi1\n",
       " mpg2\n",
       " mqg2\n",
       " mqg3\n",
       " mpg1\n",
       " mqg1"
      ]
     },
     "execution_count": 404,
     "metadata": {},
     "output_type": "execute_result"
    }
   ],
   "source": [
    "x"
   ]
  },
  {
   "cell_type": "code",
   "execution_count": 405,
   "metadata": {},
   "outputs": [
    {
     "data": {
      "text/latex": [
       "$$ 1200.0mpg2 + 5000.0mpg1 + 6200.0 $$"
      ],
      "text/plain": [
       "1200.0mpg2 + 5000.0mpg1 + 6200.0"
      ]
     },
     "execution_count": 405,
     "metadata": {},
     "output_type": "execute_result"
    }
   ],
   "source": [
    "f"
   ]
  },
  {
   "cell_type": "code",
   "execution_count": 406,
   "metadata": {},
   "outputs": [
    {
     "data": {
      "text/plain": [
       "11-element Array{Polynomial{true,Float64},1}:\n",
       " mvr2² + mvi2² - 1.3388429752066116\n",
       " -mvr2² - mvi2² + 2.0              \n",
       " mvr3² + mvi3² - 1.3388429752066116\n",
       " -mvr3² - mvi3² + 2.0              \n",
       " mvr1² + mvi1² - 1.3388429752066116\n",
       " -mvr1² - mvi1² + 2.0              \n",
       " -mpg2² + 1.0                      \n",
       " -mqg2² + 1.0                      \n",
       " -mqg3² + 1.0                      \n",
       " -mpg1² + 1.0                      \n",
       " -mqg1² + 1.0                      "
      ]
     },
     "execution_count": 406,
     "metadata": {},
     "output_type": "execute_result"
    }
   ],
   "source": [
    "g"
   ]
  },
  {
   "cell_type": "code",
   "execution_count": 407,
   "metadata": {},
   "outputs": [
    {
     "data": {
      "text/plain": [
       "6-element Array{Polynomial{true,Float64},1}:\n",
       " 0.005816124663734326mvr2² - 0.002685904550499445mvr2mvr3 - 0.08057713651498336mvr2mvi3 - 0.0031302201132348815mvr2mvr1 - 0.06707614528360459mvr2mvi1 + 0.005816124663734326mvi2² + 0.08057713651498336mvi2mvr3 - 0.002685904550499445mvi2mvi3 + 0.06707614528360459mvi2mvr1 - 0.0031302201132348815mvi2mvi1 - mpg2 - 0.89 \n",
       " 0.11740328179858794mvr2² - 0.08057713651498336mvr2mvr3 + 0.002685904550499445mvr2mvi3 - 0.06707614528360459mvr2mvr1 + 0.0031302201132348815mvr2mvi1 + 0.11740328179858794mvi2² - 0.002685904550499445mvi2mvr3 - 0.08057713651498336mvi2mvi3 - 0.0031302201132348815mvi2mvr1 - 0.06707614528360459mvi2mvi1 - mqg2 + 0.04   \n",
       " -0.027827503490745052mvr2mvr3 + 0.8348251047223516mvr2mvi3 - 0.8348251047223516mvi2mvr3 - 0.027827503490745052mvi2mvi3 + 0.13266621316816443mvr3² - 0.10483870967741936mvr3mvr1 - mvr3mvi1 + 0.13266621316816443mvi3² + mvi3mvr1 - 0.10483870967741936mvi3mvi1 + 0.9842541988802986                                       \n",
       " -0.08057713651498336mvr2mvr3 - 0.002685904550499445mvr2mvi3 + 0.002685904550499445mvi2mvr3 - 0.08057713651498336mvi2mvi3 + 0.14230941779513773mvr3² - 0.09651978128015438mvr3mvr1 + 0.010119009327758121mvr3mvi1 + 0.14230941779513773mvi3² - 0.010119009327758121mvi3mvr1 - 0.09651978128015438mvi3mvi1 - mqg3 + 0.05    \n",
       " -0.0031302201132348815mvr2mvr1 + 0.06707614528360459mvr2mvi1 - 0.06707614528360459mvi2mvr1 - 0.0031302201132348815mvi2mvi1 - 0.010119009327758121mvr3mvr1 + 0.09651978128015438mvr3mvi1 - 0.09651978128015438mvi3mvr1 - 0.010119009327758121mvi3mvi1 + 0.013249229440993004mvr1² + 0.013249229440993004mvi1² - mpg1 - 0.89\n",
       " -0.06707614528360459mvr2mvr1 - 0.0031302201132348815mvr2mvi1 + 0.0031302201132348815mvi2mvr1 - 0.06707614528360459mvi2mvi1 - 0.09651978128015438mvr3mvr1 - 0.010119009327758121mvr3mvi1 + 0.010119009327758121mvi3mvr1 - 0.09651978128015438mvi3mvi1 + 0.14090842656375896mvr1² + 0.14090842656375896mvi1² - mqg1 + 0.04  "
      ]
     },
     "execution_count": 407,
     "metadata": {},
     "output_type": "execute_result"
    }
   ],
   "source": [
    "h"
   ]
  },
  {
   "cell_type": "code",
   "execution_count": 408,
   "metadata": {},
   "outputs": [
    {
     "name": "stdout",
     "output_type": "stream",
     "text": [
      "------------------------------------------------------\n",
      "The clique sizes of varibles:\n",
      "[7]\n",
      "[5]\n",
      "------------------------------------------------------\n"
     ]
    }
   ],
   "source": [
    "f,g,h=ctpPOP.rescale_POP_OPF3(x,f,g,h,k);"
   ]
  },
  {
   "cell_type": "code",
   "execution_count": 409,
   "metadata": {},
   "outputs": [
    {
     "data": {
      "text/plain": [
       "11-element Array{PolyVar{true},1}:\n",
       " mvr2\n",
       " mvi2\n",
       " mvr3\n",
       " mvi3\n",
       " mvr1\n",
       " mvi1\n",
       " mpg2\n",
       " mqg2\n",
       " mqg3\n",
       " mpg1\n",
       " mqg1"
      ]
     },
     "execution_count": 409,
     "metadata": {},
     "output_type": "execute_result"
    }
   ],
   "source": [
    "x"
   ]
  },
  {
   "cell_type": "code",
   "execution_count": 410,
   "metadata": {},
   "outputs": [
    {
     "data": {
      "text/latex": [
       "$$ 3174.9015732775088mpg2 + 13228.756555322954mpg1 + 6200.0 $$"
      ],
      "text/plain": [
       "3174.9015732775088mpg2 + 13228.756555322954mpg1 + 6200.0"
      ]
     },
     "execution_count": 410,
     "metadata": {},
     "output_type": "execute_result"
    }
   ],
   "source": [
    "f"
   ]
  },
  {
   "cell_type": "code",
   "execution_count": 411,
   "metadata": {},
   "outputs": [
    {
     "data": {
      "text/plain": [
       "11-element Array{Polynomial{true,Float64},1}:\n",
       " 7.000000000000001mvr2² + 7.000000000000001mvi2² - 1.3388429752066116\n",
       " -7.000000000000001mvr2² - 7.000000000000001mvi2² + 2.0              \n",
       " 7.000000000000001mvr3² + 7.000000000000001mvi3² - 1.3388429752066116\n",
       " -7.000000000000001mvr3² - 7.000000000000001mvi3² + 2.0              \n",
       " 7.000000000000001mvr1² + 7.000000000000001mvi1² - 1.3388429752066116\n",
       " -7.000000000000001mvr1² - 7.000000000000001mvi1² + 2.0              \n",
       " -7.000000000000001mpg2² + 1.0                                       \n",
       " -7.000000000000001mqg2² + 1.0                                       \n",
       " -7.000000000000001mqg3² + 1.0                                       \n",
       " -7.000000000000001mpg1² + 1.0                                       \n",
       " -7.000000000000001mqg1² + 1.0                                       "
      ]
     },
     "execution_count": 411,
     "metadata": {},
     "output_type": "execute_result"
    }
   ],
   "source": [
    "g"
   ]
  },
  {
   "cell_type": "code",
   "execution_count": 412,
   "metadata": {},
   "outputs": [
    {
     "data": {
      "text/plain": [
       "6-element Array{Polynomial{true,Float64},1}:\n",
       " 0.040712872646140284mvr2² - 0.018801331853496115mvr2mvr3 - 0.5640399556048835mvr2mvi3 - 0.021911540792644173mvr2mvr1 - 0.4695330169852322mvr2mvi1 + 0.040712872646140284mvi2² + 0.5640399556048835mvi2mvr3 - 0.018801331853496115mvi2mvi3 + 0.4695330169852322mvi2mvr1 - 0.021911540792644173mvi2mvi1 - 2.6457513110645907mpg2 - 0.89\n",
       " 0.8218229725901157mvr2² - 0.5640399556048835mvr2mvr3 + 0.018801331853496115mvr2mvi3 - 0.4695330169852322mvr2mvr1 + 0.021911540792644173mvr2mvi1 + 0.8218229725901157mvi2² - 0.018801331853496115mvi2mvr3 - 0.5640399556048835mvi2mvi3 - 0.021911540792644173mvi2mvr1 - 0.4695330169852322mvi2mvi1 - 2.6457513110645907mqg2 + 0.04    \n",
       " -0.1947925244352154mvr2mvr3 + 5.843775733056462mvr2mvi3 - 5.843775733056462mvi2mvr3 - 0.1947925244352154mvi2mvi3 + 0.9286634921771512mvr3² - 0.7338709677419356mvr3mvr1 - 7.000000000000001mvr3mvi1 + 0.9286634921771512mvi3² + 7.000000000000001mvi3mvr1 - 0.7338709677419356mvi3mvi1 + 0.9842541988802986                          \n",
       " -0.5640399556048835mvr2mvr3 - 0.018801331853496115mvr2mvi3 + 0.018801331853496115mvi2mvr3 - 0.5640399556048835mvi2mvi3 + 0.9961659245659642mvr3² - 0.6756384689610808mvr3mvr1 + 0.07083306529430686mvr3mvi1 + 0.9961659245659642mvi3² - 0.07083306529430686mvi3mvr1 - 0.6756384689610808mvi3mvi1 - 2.6457513110645907mqg3 + 0.05     \n",
       " -0.021911540792644173mvr2mvr1 + 0.4695330169852322mvr2mvi1 - 0.4695330169852322mvi2mvr1 - 0.021911540792644173mvi2mvi1 - 0.07083306529430686mvr3mvr1 + 0.6756384689610808mvr3mvi1 - 0.6756384689610808mvi3mvr1 - 0.07083306529430686mvi3mvi1 + 0.09274460608695104mvr1² + 0.09274460608695104mvi1² - 2.6457513110645907mpg1 - 0.89   \n",
       " -0.4695330169852322mvr2mvr1 - 0.021911540792644173mvr2mvi1 + 0.021911540792644173mvi2mvr1 - 0.4695330169852322mvi2mvi1 - 0.6756384689610808mvr3mvr1 - 0.07083306529430686mvr3mvi1 + 0.07083306529430686mvi3mvr1 - 0.6756384689610808mvi3mvi1 + 0.9863589859463129mvr1² + 0.9863589859463129mvi1² - 2.6457513110645907mqg1 + 0.04     "
      ]
     },
     "execution_count": 412,
     "metadata": {},
     "output_type": "execute_result"
    }
   ],
   "source": [
    "h"
   ]
  },
  {
   "cell_type": "code",
   "execution_count": 413,
   "metadata": {},
   "outputs": [
    {
     "name": "stderr",
     "output_type": "stream",
     "text": [
      "WARNING: replacing module ctpPOP.\n"
     ]
    }
   ],
   "source": [
    "include(\"../src/ctpPOP.jl\")\n",
    "using .ctpPOP, LinearAlgebra\n",
    "\n",
    "n,m,l,lmon_g,supp_g,coe_g,lmon_h,supp_h,coe_h,lmon_f,supp_f,coe_f,dg,dh=ctpPOP.get_info(x,f,g,h,sparse=true);\n",
    "coe_g=[coe_g[i]./abs(coe_g[i][1]) for i in 1:m];\n",
    "#coe_h=[coe_h[i]./norm(coe_h[i],Inf) for i in 1:l];"
   ]
  },
  {
   "cell_type": "code",
   "execution_count": 420,
   "metadata": {},
   "outputs": [
    {
     "name": "stderr",
     "output_type": "stream",
     "text": [
      "┌ Warning: `with_optimizer` is deprecated. Adapt the following example to update your code:\n",
      "│ `with_optimizer(Ipopt.Optimizer)` becomes `Ipopt.Optimizer`.\n",
      "│   caller = NLP_opf(::Int64, ::Int64, ::Int64, ::Array{UInt64,1}, ::Array{SparseMatrixCSC{UInt64,Ti} where Ti<:Integer,1}, ::Array{Array{Float64,1},1}, ::Array{UInt64,1}, ::Array{SparseMatrixCSC{UInt64,Ti} where Ti<:Integer,1}, ::Array{Array{Float64,1},1}, ::Int64, ::SparseMatrixCSC{UInt64,Int64}, ::Array{Float64,1}) at In[420]:5\n",
      "└ @ Main ./In[420]:5\n"
     ]
    },
    {
     "name": "stdout",
     "output_type": "stream",
     "text": [
      "This is Ipopt version 3.13.2, running with linear solver mumps.\n",
      "NOTE: Other linear solvers might be more efficient (see Ipopt documentation).\n",
      "\n",
      "Number of nonzeros in equality constraint Jacobian...:      113\n",
      "Number of nonzeros in inequality constraint Jacobian.:        0\n",
      "Number of nonzeros in Lagrangian Hessian.............:       60\n",
      "\n",
      "Total number of variables............................:       11\n",
      "                     variables with only lower bounds:        0\n",
      "                variables with lower and upper bounds:        0\n",
      "                     variables with only upper bounds:        0\n",
      "Total number of equality constraints.................:        6\n",
      "Total number of inequality constraints...............:        0\n",
      "        inequality constraints with only lower bounds:        0\n",
      "   inequality constraints with lower and upper bounds:        0\n",
      "        inequality constraints with only upper bounds:        0\n",
      "\n",
      "iter    objective    inf_pr   inf_du lg(mu)  ||d||  lg(rg) alpha_du alpha_pr  ls\n",
      "   0  6.2000000e+03 9.84e-01 1.00e+02  -1.0 0.00e+00    -  0.00e+00 0.00e+00   0\n",
      "   1  6.8199888e+02 9.84e-01 3.36e-03  -1.0 3.36e-01  -2.0 1.00e+00 1.00e+00f  1\n",
      "   2r 6.8199888e+02 9.84e-01 9.99e+02  -0.0 0.00e+00   9.8 0.00e+00 4.77e-07R 22\n",
      "   3r 6.8200000e+02 9.84e-01 9.84e-06  -0.0 1.06e-07    -  1.00e+00 1.00e+00f  1\n",
      "   4r 6.8200000e+02 9.84e-01 9.67e+00  -2.1 9.67e-04   4.0 1.00e+00 1.00e+00f  1\n",
      "   5r 6.8200000e+02 9.84e-01 2.56e-01  -2.1 9.61e-06   4.4 1.00e+00 1.00e+00f  1\n",
      "   6r 6.8200000e+02 9.84e-01 6.25e-02  -3.2 7.03e-06   3.9 1.00e+00 1.00e+00f  1\n",
      "   7r 6.8200000e+02 9.84e-01 3.13e-05  -3.2 1.32e-09   4.4 1.00e+00 1.00e+00f  1\n",
      "   8r 6.8200000e+02 9.84e-01 4.36e-02  -7.1 6.90e-07   4.8 1.00e+00 1.00e+00f  1\n",
      "   9r 6.8200000e+02 9.84e-01 6.35e-07  -7.1 3.02e-11   4.3 1.00e+00 1.00e+00f  1\n",
      "iter    objective    inf_pr   inf_du lg(mu)  ||d||  lg(rg) alpha_du alpha_pr  ls\n",
      "  10r 6.8200000e+02 9.84e-01 4.29e-06  -9.0 7.64e-11   4.7 1.00e+00 1.00e+00f  1\n",
      "\n",
      "Number of Iterations....: 10\n",
      "\n",
      "                                   (scaled)                 (unscaled)\n",
      "Objective...............:   5.1554354118458585e+00    6.8200000000000000e+02\n",
      "Dual infeasibility......:   9.9999999999997584e+01    1.3228756555322634e+04\n",
      "Constraint violation....:   9.8425419888029864e-01    9.8425419888029864e-01\n",
      "Complementarity.........:   0.0000000000000000e+00    0.0000000000000000e+00\n",
      "Overall NLP error.......:   6.0000000000053895e+01    1.3228756555322634e+04\n",
      "\n",
      "\n",
      "Number of objective function evaluations             = 34\n",
      "Number of objective gradient evaluations             = 4\n",
      "Number of equality constraint evaluations            = 34\n",
      "Number of inequality constraint evaluations          = 0\n",
      "Number of equality constraint Jacobian evaluations   = 13\n",
      "Number of inequality constraint Jacobian evaluations = 0\n",
      "Number of Lagrangian Hessian evaluations             = 11\n",
      "Total CPU secs in IPOPT (w/o function evaluations)   =      0.040\n",
      "Total CPU secs in NLP function evaluations           =      0.000\n",
      "\n",
      "EXIT: Converged to a point of local infeasibility. Problem may be infeasible.\n",
      "LOCALLY_INFEASIBLE\n",
      "opt_val=682.0\n"
     ]
    }
   ],
   "source": [
    "using JuMP, Ipopt\n",
    "\n",
    "\n",
    "function NLP_opf(n,m,l,lmon_g,supp_g,coe_g,lmon_h,supp_h,coe_h,lmon_f,supp_f,coe_f)\n",
    "    model = Model(with_optimizer(Ipopt.Optimizer))\n",
    "    @variable(model, x[1:n])\n",
    "\n",
    "\n",
    "\n",
    "    function get_func(x,lmon_f,supp_f,coe_f)\n",
    "        f=0\n",
    "        for j in 1:lmon_f\n",
    "            ind=findall(r->r>0,supp_f[:,j])\n",
    "            lind=length(ind)\n",
    "            if lind==0\n",
    "                f+=coe_f[j]\n",
    "            elseif lind==1\n",
    "                f+=coe_f[j]*x[ind[1]]^supp_f[ind[1],j]\n",
    "            else\n",
    "                f+=coe_f[j]*x[ind[1]]*x[ind[2]]\n",
    "            end\n",
    "        end\n",
    "        return f\n",
    "    end\n",
    "\n",
    "    @objective(model, Min, get_func(x,lmon_f,supp_f,coe_f))\n",
    "    for i in 1:m\n",
    "        @constraint(model, get_func(x,lmon_g[i],supp_g[i],coe_g[i])>=0)\n",
    "    end\n",
    "    for i in 1:l\n",
    "        @constraint(model, get_func(x,lmon_h[i],supp_h[i],coe_h[i])==0)\n",
    "    end\n",
    "    optimize!(model)\n",
    "    println(termination_status(model))\n",
    "    opt_val=objective_value(model)\n",
    "    println(\"opt_val=\",opt_val)    \n",
    "end\n",
    "\n",
    "\n",
    "NLP_opf(n,m,l,lmon_g,supp_g,coe_g,lmon_h,supp_h,coe_h,lmon_f,supp_f,coe_f)"
   ]
  },
  {
   "cell_type": "code",
   "execution_count": 415,
   "metadata": {
    "scrolled": true
   },
   "outputs": [
    {
     "name": "stderr",
     "output_type": "stream",
     "text": [
      "WARNING: replacing module ctpPOP.\n"
     ]
    },
    {
     "name": "stdout",
     "output_type": "stream",
     "text": [
      "------------------------------------------------------\n",
      "The clique sizes of varibles:\n",
      "[7]\n",
      "[5]\n",
      "------------------------------------------------------\n",
      "  Number of cliques: p=5\n",
      "  Largest clique size: u=7\n",
      "  Largest constant trace: a=3.1993590824759646\n",
      "  Number of blocks: omega=56\n",
      "  Number of equality consraints: zeta=2209\n",
      "  Size of the largest block: s^max=24\n",
      "Modeling time:\n",
      "  6.051976 seconds (2.82 M allocations: 177.846 MiB)\n",
      "iter=1.0   val=-24605.48719290069   gap=4.4353898773588266e-16   feas=6.994873728470904\n",
      "iter=2.0   val=-19813.556345761295   gap=0.47239874853681746   feas=5.187053924666038\n",
      "iter=4.0   val=-19218.918474432965   gap=0.15876786861184966   feas=4.260994795049029\n",
      "iter=8.0   val=-7731.359744320208   gap=0.5233882144287496   feas=2.503863892250146\n",
      "iter=16.0   val=-1574.733433388183   gap=0.8703400440441923   feas=1.3940513227481144\n",
      "iter=32.0   val=-441.8257963414658   gap=0.9442069263744698   feas=0.7860211826815667\n",
      "iter=64.0   val=96.15288206877725   gap=1.0225209805092113   feas=0.3812720305879639\n",
      "iter=128.0   val=894.6842242840595   gap=1.3179184145687086   feas=0.2097196229141813\n",
      "iter=256.0   val=568.1524487580484   gap=1.4213604030792795   feas=0.1129760567777306\n",
      "iter=512.0   val=446.83893317995273   gap=1.916506557947181   feas=0.0539492193883516\n",
      "iter=1024.0   val=383.76180313644   gap=0.7097116872969504   feas=0.0319804869959892\n",
      "iter=2048.0   val=402.42016841147944   gap=0.21860792387297318   feas=0.02514483825049426\n",
      "iter=4096.0   val=427.9977638732734   gap=0.5933941248304476   feas=0.021316916825220644\n"
     ]
    },
    {
     "ename": "InterruptException",
     "evalue": "InterruptException:",
     "output_type": "error",
     "traceback": [
      "InterruptException:",
      "",
      "Stacktrace:",
      " [1] Array at ./boot.jl:404 [inlined]",
      " [2] Array{Float64,1}() at ./boot.jl:423",
      " [3] aupd_wrapper(::Type, ::Arpack.var\"#matvecA!#24\"{Array{Float64,2}}, ::Arpack.var\"#18#25\", ::Arpack.var\"#19#26\", ::Int64, ::Bool, ::Bool, ::String, ::Int64, ::Int64, ::String, ::Float64, ::Int64, ::Int64, ::Array{Float64,1}) at /home/hoanganh/.julia/packages/Arpack/o35I5/src/libarpack.jl:45",
      " [4] #_eigs#17(::Int64, ::Int64, ::Symbol, ::Float64, ::Int64, ::Nothing, ::Array{Float64,1}, ::Bool, ::typeof(Arpack._eigs), ::Array{Float64,2}, ::UniformScaling{Bool}) at /home/hoanganh/.julia/packages/Arpack/o35I5/src/Arpack.jl:181",
      " [5] #_eigs at ./none:0 [inlined]",
      " [6] #eigs#10 at /home/hoanganh/.julia/packages/Arpack/o35I5/src/Arpack.jl:46 [inlined]",
      " [7] #eigs at ./none:0 [inlined]",
      " [8] #eigs#9 at /home/hoanganh/.julia/packages/Arpack/o35I5/src/Arpack.jl:45 [inlined]",
      " [9] #eigs at ./none:0 [inlined]",
      " [10] #SmallEig_mix_CGAL#736(::String, ::typeof(Main.ctpPOP.SmallEig_mix_CGAL), ::Array{Float64,2}, ::UInt64) at /home/hoanganh/Desktop/math-topics/ctpPOP/codes/ctpPOP/src/pop/sparse_pop/mix/CGAL/pop_mix_CGAL.jl:251",
      " [11] #SmallEig_mix_CGAL at ./none:0 [inlined]",
      " [12] #SmallEig_block_mix_CGAL#737(::String, ::typeof(Main.ctpPOP.SmallEig_block_mix_CGAL), ::Adjoint{Float64,Array{Float64,1}}, ::UInt64) at /home/hoanganh/Desktop/math-topics/ctpPOP/codes/ctpPOP/src/pop/sparse_pop/mix/CGAL/pop_mix_CGAL.jl:284",
      " [13] #SmallEig_block_mix_CGAL at ./none:0 [inlined]",
      " [14] macro expansion at /home/hoanganh/Desktop/math-topics/ctpPOP/codes/ctpPOP/src/pop/sparse_pop/mix/CGAL/pop_mix_CGAL.jl:298 [inlined]",
      " [15] macro expansion at ./simdloop.jl:77 [inlined]",
      " [16] #SmallEigBlocks_mix_CGAL#738(::String, ::typeof(Main.ctpPOP.SmallEigBlocks_mix_CGAL), ::Array{Adjoint{Float64,Array{Float64,1}},1}, ::Array{SparseMatrixCSC{Float64,Ti} where Ti<:Integer,1}, ::Array{Float64,1}, ::Array{UInt64,1}, ::Int64) at /home/hoanganh/Desktop/math-topics/ctpPOP/codes/ctpPOP/src/pop/sparse_pop/mix/CGAL/pop_mix_CGAL.jl:297",
      " [17] #SmallEigBlocks_mix_CGAL at ./none:0 [inlined]",
      " [18] macro expansion at /home/hoanganh/Desktop/math-topics/ctpPOP/codes/ctpPOP/src/pop/sparse_pop/mix/CGAL/pop_mix_CGAL.jl:328 [inlined]",
      " [19] macro expansion at ./simdloop.jl:77 [inlined]",
      " [20] #update_mix_CGAL#739(::String, ::typeof(Main.ctpPOP.update_mix_CGAL), ::Array{Float64,1}, ::Array{Float64,1}, ::Float64, ::Float64, ::Array{Array{SparseMatrixCSC{Float64,Ti} where Ti<:Integer,1},1}, ::Array{Array{Adjoint{Float64,Array{Float64,1}},1},1}, ::Array{Array{UInt64,1},1}, ::Array{Int64,1}, ::Float64, ::Float64, ::Float64, ::Int64, ::UInt64) at /home/hoanganh/Desktop/math-topics/ctpPOP/codes/ctpPOP/src/pop/sparse_pop/mix/CGAL/pop_mix_CGAL.jl:327",
      " [21] #update_mix_CGAL at ./none:0 [inlined]",
      " [22] #solve_mix_CGAL#744(::String, ::Float64, ::Float64, ::typeof(Main.ctpPOP.solve_mix_CGAL), ::Array{Int64,1}, ::Array{Array{Adjoint{Float64,Array{Float64,1}},1},1}, ::Array{Array{SparseMatrixCSC{Float64,Ti} where Ti<:Integer,1},1}, ::Array{Array{UInt64,1},1}, ::UInt64, ::Float64, ::Float64, ::Float64, ::Int64) at /home/hoanganh/Desktop/math-topics/ctpPOP/codes/ctpPOP/src/pop/sparse_pop/mix/CGAL/pop_mix_CGAL.jl:364",
      " [23] #solve_mix_CGAL at ./none:0 [inlined]",
      " [24] macro expansion at ./util.jl:155 [inlined]",
      " [25] macro expansion at /home/hoanganh/Desktop/math-topics/ctpPOP/codes/ctpPOP/src/pop/sparse_pop/mix/CGAL/pop_mix_CGAL.jl:397 [inlined]",
      " [26] macro expansion at ./util.jl:155 [inlined]",
      " [27] #POP_mix_CGAL#745(::String, ::Float64, ::Float64, ::Bool, ::typeof(Main.ctpPOP.POP_mix_CGAL), ::Int64, ::Int64, ::Int64, ::Array{UInt64,1}, ::Array{SparseMatrixCSC{UInt64,Ti} where Ti<:Integer,1}, ::Array{Array{Float64,1},1}, ::Array{UInt64,1}, ::Array{SparseMatrixCSC{UInt64,Ti} where Ti<:Integer,1}, ::Array{Array{Float64,1},1}, ::Int64, ::SparseMatrixCSC{UInt64,Int64}, ::Array{Float64,1}, ::Array{Int64,1}, ::Array{Int64,1}, ::Int64, ::Int64) at /home/hoanganh/Desktop/math-topics/ctpPOP/codes/ctpPOP/src/pop/sparse_pop/mix/CGAL/pop_mix_CGAL.jl:391",
      " [28] (::Main.ctpPOP.var\"#kw##POP_mix_CGAL\")(::NamedTuple{(:EigAlg, :maxit, :tol, :UseEq),Tuple{String,Float64,Float64,Bool}}, ::typeof(Main.ctpPOP.POP_mix_CGAL), ::Int64, ::Int64, ::Int64, ::Array{UInt64,1}, ::Array{SparseMatrixCSC{UInt64,Ti} where Ti<:Integer,1}, ::Array{Array{Float64,1},1}, ::Array{UInt64,1}, ::Array{SparseMatrixCSC{UInt64,Ti} where Ti<:Integer,1}, ::Array{Array{Float64,1},1}, ::Int64, ::SparseMatrixCSC{UInt64,Int64}, ::Array{Float64,1}, ::Array{Int64,1}, ::Array{Int64,1}, ::Int64, ::Int64) at ./none:0",
      " [29] top-level scope at In[415]:3"
     ]
    }
   ],
   "source": [
    "include(\"../src/ctpPOP.jl\")\n",
    "using .ctpPOP\n",
    "\n",
    "ctpPOP.POP_mix_CGAL(n,m,l,lmon_g,supp_g,coe_g,lmon_h,supp_h,coe_h,lmon_f,supp_f,coe_f,dg,dh,k,t,EigAlg=\"Arpack\",maxit=1e10,tol=1e-3,UseEq=false)"
   ]
  },
  {
   "cell_type": "code",
   "execution_count": 416,
   "metadata": {},
   "outputs": [
    {
     "name": "stdout",
     "output_type": "stream",
     "text": [
      "------------------------------------------------------\n",
      "The clique sizes of varibles:\n",
      "[7]\n",
      "[5]\n",
      "------------------------------------------------------\n",
      "Problem\n",
      "  Name                   :                 \n",
      "  Objective sense        : max             \n",
      "  Type                   : CONIC (conic optimization problem)\n",
      "  Constraints            : 414             \n",
      "  Cones                  : 0               \n",
      "  Scalar variables       : 190             \n",
      "  Matrix variables       : 37              \n",
      "  Integer variables      : 0               \n",
      "\n",
      "Optimizer started.\n",
      "Presolve started.\n",
      "Linear dependency checker started.\n",
      "Linear dependency checker terminated.\n",
      "Eliminator started.\n",
      "Freed constraints in eliminator : 0\n",
      "Eliminator terminated.\n",
      "Eliminator started.\n",
      "Freed constraints in eliminator : 0\n",
      "Eliminator terminated.\n",
      "Eliminator - tries                  : 2                 time                   : 0.00            \n",
      "Lin. dep.  - tries                  : 1                 time                   : 0.00            \n",
      "Lin. dep.  - number                 : 0               \n",
      "Presolve terminated. Time: 0.00    \n",
      "Problem\n",
      "  Name                   :                 \n",
      "  Objective sense        : max             \n",
      "  Type                   : CONIC (conic optimization problem)\n",
      "  Constraints            : 414             \n",
      "  Cones                  : 0               \n",
      "  Scalar variables       : 190             \n",
      "  Matrix variables       : 37              \n",
      "  Integer variables      : 0               \n",
      "\n",
      "Optimizer  - threads                : 4               \n",
      "Optimizer  - solved problem         : the primal      \n",
      "Optimizer  - Constraints            : 399\n",
      "Optimizer  - Cones                  : 12\n",
      "Optimizer  - Scalar variables       : 197               conic                  : 164             \n",
      "Optimizer  - Semi-definite variables: 26                scalarized             : 1671            \n",
      "Factor     - setup time             : 0.01              dense det. time        : 0.00            \n",
      "Factor     - ML order time          : 0.00              GP order time          : 0.00            \n",
      "Factor     - nonzeros before factor : 4.48e+04          after factor           : 4.91e+04        \n",
      "Factor     - dense dim.             : 2                 flops                  : 8.80e+06        \n",
      "ITE PFEAS    DFEAS    GFEAS    PRSTATUS   POBJ              DOBJ              MU       TIME  \n",
      "0   6.2e+03  1.0e+00  1.0e+00  0.00e+00   0.000000000e+00   0.000000000e+00   1.0e+00  0.02  \n",
      "1   4.0e+03  6.5e-01  8.0e-01  -1.00e+00  -2.455453480e+00  -2.992460301e+00  6.5e-01  0.05  \n",
      "2   2.2e+03  3.6e-01  6.0e-01  -9.98e-01  -3.086180812e+01  -3.263413999e+01  3.6e-01  0.07  \n",
      "3   2.4e+02  3.9e-02  1.9e-01  -9.97e-01  -3.244822697e+02  -3.486183299e+02  3.9e-02  0.09  \n",
      "4   2.7e+01  4.4e-03  5.9e-02  -9.63e-01  -2.519039651e+03  -2.698495802e+03  4.4e-03  0.11  \n",
      "5   1.2e+01  2.0e-03  2.2e-02  -4.21e-01  -2.696219962e+03  -2.823952382e+03  2.0e-03  0.12  \n",
      "6   6.2e+00  1.0e-03  4.9e-03  1.19e+00   -6.077364487e+02  -6.318583497e+02  1.0e-03  0.13  \n",
      "7   2.2e+00  3.6e-04  8.9e-04  1.17e+00   -1.608461541e+02  -1.668923064e+02  3.6e-04  0.14  \n",
      "8   1.6e+00  2.6e-04  5.0e-04  1.45e+00   4.974909930e+01   4.628807559e+01   2.6e-04  0.17  \n",
      "9   4.7e-01  7.6e-05  7.0e-05  1.40e+00   3.077208062e+02   3.068737473e+02   7.6e-05  0.18  \n",
      "10  9.3e-02  1.5e-05  5.3e-06  1.39e+00   3.760003771e+02   3.758752526e+02   1.5e-05  0.19  \n",
      "11  1.3e-02  2.2e-06  2.7e-07  1.11e+00   3.850221649e+02   3.850067193e+02   2.2e-06  0.20  \n",
      "12  9.1e-04  1.5e-07  4.5e-09  1.04e+00   3.863126703e+02   3.863117612e+02   1.5e-07  0.21  \n",
      "13  1.4e-04  2.3e-08  2.6e-10  1.06e+00   3.863997735e+02   3.863996457e+02   2.3e-08  0.23  \n",
      "14  8.9e-06  1.4e-09  4.2e-12  1.02e+00   3.864154643e+02   3.864154558e+02   1.4e-09  0.24  \n",
      "15  4.4e-08  7.3e-12  1.4e-15  1.00e+00   3.864164641e+02   3.864164641e+02   7.0e-12  0.25  \n",
      "Optimizer terminated. Time: 0.25    \n",
      "\n",
      "optimum = 386.4164640960239\n",
      "Problem\n",
      "  Name                   :                 \n",
      "  Objective sense        : max             \n",
      "  Type                   : CONIC (conic optimization problem)\n",
      "  Constraints            : 414             \n",
      "  Cones                  : 0               \n",
      "  Scalar variables       : 145             \n",
      "  Matrix variables       : 37              \n",
      "  Integer variables      : 0               \n",
      "\n",
      "Optimizer started.\n",
      "Presolve started.\n",
      "Linear dependency checker started.\n",
      "Linear dependency checker terminated.\n",
      "Eliminator started.\n",
      "Freed constraints in eliminator : 0\n",
      "Eliminator terminated.\n",
      "Eliminator started.\n",
      "Freed constraints in eliminator : 0\n",
      "Eliminator terminated.\n",
      "Eliminator - tries                  : 2                 time                   : 0.00            \n",
      "Lin. dep.  - tries                  : 1                 time                   : 0.00            \n",
      "Lin. dep.  - number                 : 0               \n",
      "Presolve terminated. Time: 0.00    \n",
      "Problem\n",
      "  Name                   :                 \n",
      "  Objective sense        : max             \n",
      "  Type                   : CONIC (conic optimization problem)\n",
      "  Constraints            : 414             \n",
      "  Cones                  : 0               \n",
      "  Scalar variables       : 145             \n",
      "  Matrix variables       : 37              \n",
      "  Integer variables      : 0               \n",
      "\n",
      "Optimizer  - threads                : 4               \n",
      "Optimizer  - solved problem         : the primal      \n",
      "Optimizer  - Constraints            : 414\n",
      "Optimizer  - Cones                  : 12\n",
      "Optimizer  - Scalar variables       : 179               conic                  : 179             \n",
      "Optimizer  - Semi-definite variables: 26                scalarized             : 2301            \n",
      "Factor     - setup time             : 0.01              dense det. time        : 0.00            \n",
      "Factor     - ML order time          : 0.00              GP order time          : 0.00            \n",
      "Factor     - nonzeros before factor : 5.20e+04          after factor           : 5.50e+04        \n",
      "Factor     - dense dim.             : 2                 flops                  : 1.06e+07        \n",
      "ITE PFEAS    DFEAS    GFEAS    PRSTATUS   POBJ              DOBJ              MU       TIME  \n",
      "0   6.2e+03  1.0e+00  1.0e+00  0.00e+00   0.000000000e+00   0.000000000e+00   1.0e+00  0.02  \n",
      "1   4.0e+03  6.4e-01  8.0e-01  -1.00e+00  -2.656297930e+00  -3.215764167e+00  6.4e-01  0.03  \n",
      "2   2.1e+03  3.4e-01  5.8e-01  -9.98e-01  -3.360945050e+01  -3.557286383e+01  3.4e-01  0.04  \n",
      "3   1.8e+02  3.0e-02  1.7e-01  -9.96e-01  -4.422453016e+02  -4.738129741e+02  3.0e-02  0.06  \n",
      "4   2.3e+01  3.7e-03  5.2e-02  -9.50e-01  -2.923086675e+03  -3.122401515e+03  3.7e-03  0.07  \n",
      "5   9.7e+00  1.6e-03  1.4e-02  -2.21e-01  -2.236661549e+03  -2.318467465e+03  1.6e-03  0.09  \n",
      "6   3.9e+00  6.3e-04  2.6e-03  1.37e+00   -3.961069198e+02  -4.122244725e+02  6.3e-04  0.10  \n",
      "7   1.7e+00  2.8e-04  6.6e-04  1.31e+00   -7.549213409e+01  -8.099055450e+01  2.8e-04  0.12  \n",
      "8   1.3e+00  2.0e-04  3.4e-04  1.40e+00   1.759400335e+02   1.730836659e+02   2.0e-04  0.13  \n",
      "9   3.2e-01  5.1e-05  3.9e-05  1.27e+00   3.410593620e+02   3.404811798e+02   5.1e-05  0.15  \n",
      "10  6.0e-02  9.7e-06  2.8e-06  1.28e+00   3.811395703e+02   3.810567259e+02   9.7e-06  0.16  \n",
      "11  7.4e-03  1.2e-06  1.2e-07  1.10e+00   3.858828884e+02   3.858733143e+02   1.2e-06  0.18  \n",
      "12  3.9e-04  6.3e-08  1.4e-09  1.02e+00   3.863908434e+02   3.863903523e+02   6.3e-08  0.19  \n",
      "13  3.9e-06  6.4e-10  1.4e-12  1.00e+00   3.864161731e+02   3.864161685e+02   6.4e-10  0.21  \n",
      "14  3.9e-08  6.1e-12  1.1e-15  1.00e+00   3.864164657e+02   3.864164656e+02   5.6e-12  0.22  \n",
      "Optimizer terminated. Time: 0.22    \n",
      "\n",
      "optimum = 386.4164656796579\n",
      "  0.667345 seconds (848.97 k allocations: 71.867 MiB, 12.77% gc time)\n"
     ]
    },
    {
     "data": {
      "text/plain": [
       "(386.4164656796579, nothing, TSSOS.mdata_type(11, 0, 17, [2, 2, 2, 2, 2, 2, 2, 2, 2, 2, 2, 2, 2, 2, 2, 2, 2], SparseMatrixCSC{UInt8,UInt32}[\n",
       "  [7 , 1]  =  0x01\n",
       "  [10, 2]  =  0x01, \n",
       "  [1, 1]  =  0x02\n",
       "  [2, 2]  =  0x02, \n",
       "  [1, 1]  =  0x02\n",
       "  [2, 2]  =  0x02, \n",
       "  [3, 1]  =  0x02\n",
       "  [4, 2]  =  0x02, \n",
       "  [3, 1]  =  0x02\n",
       "  [4, 2]  =  0x02, \n",
       "  [5, 1]  =  0x02\n",
       "  [6, 2]  =  0x02, \n",
       "  [5, 1]  =  0x02\n",
       "  [6, 2]  =  0x02, \n",
       "  [7, 1]  =  0x02, \n",
       "  [8, 1]  =  0x02, \n",
       "  [9, 1]  =  0x02, \n",
       "  [10, 1]  =  0x02, \n",
       "  [11, 1]  =  0x02, \n",
       "  [1,  1]  =  0x02\n",
       "  [1,  2]  =  0x01\n",
       "  [3,  2]  =  0x01\n",
       "  [1,  3]  =  0x01\n",
       "  [4,  3]  =  0x01\n",
       "  [1,  4]  =  0x01\n",
       "  [5,  4]  =  0x01\n",
       "  [1,  5]  =  0x01\n",
       "  [6,  5]  =  0x01\n",
       "  [2,  6]  =  0x02\n",
       "  [2,  7]  =  0x01\n",
       "  [3,  7]  =  0x01\n",
       "  [2,  8]  =  0x01\n",
       "  [4,  8]  =  0x01\n",
       "  [2,  9]  =  0x01\n",
       "  [5,  9]  =  0x01\n",
       "  [2, 10]  =  0x01\n",
       "  [6, 10]  =  0x01\n",
       "  [7, 11]  =  0x01, \n",
       "  [1,  1]  =  0x02\n",
       "  [1,  2]  =  0x01\n",
       "  [3,  2]  =  0x01\n",
       "  [1,  3]  =  0x01\n",
       "  [4,  3]  =  0x01\n",
       "  [1,  4]  =  0x01\n",
       "  [5,  4]  =  0x01\n",
       "  [1,  5]  =  0x01\n",
       "  [6,  5]  =  0x01\n",
       "  [2,  6]  =  0x02\n",
       "  [2,  7]  =  0x01\n",
       "  [3,  7]  =  0x01\n",
       "  [2,  8]  =  0x01\n",
       "  [4,  8]  =  0x01\n",
       "  [2,  9]  =  0x01\n",
       "  [5,  9]  =  0x01\n",
       "  [2, 10]  =  0x01\n",
       "  [6, 10]  =  0x01\n",
       "  [8, 11]  =  0x01, \n",
       "  [1,  1]  =  0x01\n",
       "  [3,  1]  =  0x01\n",
       "  [1,  2]  =  0x01\n",
       "  [4,  2]  =  0x01\n",
       "  [2,  3]  =  0x01\n",
       "  [3,  3]  =  0x01\n",
       "  [2,  4]  =  0x01\n",
       "  [4,  4]  =  0x01\n",
       "  [3,  5]  =  0x02\n",
       "  [3,  6]  =  0x01\n",
       "  [5,  6]  =  0x01\n",
       "  [3,  7]  =  0x01\n",
       "  [6,  7]  =  0x01\n",
       "  [4,  8]  =  0x02\n",
       "  [4,  9]  =  0x01\n",
       "  [5,  9]  =  0x01\n",
       "  [4, 10]  =  0x01\n",
       "  [6, 10]  =  0x01, \n",
       "  [1,  1]  =  0x01\n",
       "  [3,  1]  =  0x01\n",
       "  [1,  2]  =  0x01\n",
       "  [4,  2]  =  0x01\n",
       "  [2,  3]  =  0x01\n",
       "  [3,  3]  =  0x01\n",
       "  [2,  4]  =  0x01\n",
       "  [4,  4]  =  0x01\n",
       "  [3,  5]  =  0x02\n",
       "  [3,  6]  =  0x01\n",
       "  [5,  6]  =  0x01\n",
       "  [3,  7]  =  0x01\n",
       "  [6,  7]  =  0x01\n",
       "  [4,  8]  =  0x02\n",
       "  [4,  9]  =  0x01\n",
       "  [5,  9]  =  0x01\n",
       "  [4, 10]  =  0x01\n",
       "  [6, 10]  =  0x01\n",
       "  [9, 11]  =  0x01, \n",
       "  [1 ,  1]  =  0x01\n",
       "  [5 ,  1]  =  0x01\n",
       "  [1 ,  2]  =  0x01\n",
       "  [6 ,  2]  =  0x01\n",
       "  [2 ,  3]  =  0x01\n",
       "  [5 ,  3]  =  0x01\n",
       "  [2 ,  4]  =  0x01\n",
       "  [6 ,  4]  =  0x01\n",
       "  [3 ,  5]  =  0x01\n",
       "  [5 ,  5]  =  0x01\n",
       "  [3 ,  6]  =  0x01\n",
       "  [6 ,  6]  =  0x01\n",
       "  [4 ,  7]  =  0x01\n",
       "  [5 ,  7]  =  0x01\n",
       "  [4 ,  8]  =  0x01\n",
       "  [6 ,  8]  =  0x01\n",
       "  [5 ,  9]  =  0x02\n",
       "  [6 , 10]  =  0x02\n",
       "  [10, 11]  =  0x01, \n",
       "  [1 ,  1]  =  0x01\n",
       "  [5 ,  1]  =  0x01\n",
       "  [1 ,  2]  =  0x01\n",
       "  [6 ,  2]  =  0x01\n",
       "  [2 ,  3]  =  0x01\n",
       "  [5 ,  3]  =  0x01\n",
       "  [2 ,  4]  =  0x01\n",
       "  [6 ,  4]  =  0x01\n",
       "  [3 ,  5]  =  0x01\n",
       "  [5 ,  5]  =  0x01\n",
       "  [3 ,  6]  =  0x01\n",
       "  [6 ,  6]  =  0x01\n",
       "  [4 ,  7]  =  0x01\n",
       "  [5 ,  7]  =  0x01\n",
       "  [4 ,  8]  =  0x01\n",
       "  [6 ,  8]  =  0x01\n",
       "  [5 ,  9]  =  0x02\n",
       "  [6 , 10]  =  0x02\n",
       "  [11, 11]  =  0x01], Array{Float64,1}[[3174.9015732775088, 13228.756555322954, 6200.0], [1.0, 1.0, -0.19126328217237307], [-1.0, -1.0, 0.2857142857142857], [1.0, 1.0, -0.19126328217237307], [-1.0, -1.0, 0.2857142857142857], [1.0, 1.0, -0.19126328217237307], [-1.0, -1.0, 0.2857142857142857], [-1.0, 0.14285714285714285], [-1.0, 0.14285714285714285], [-1.0, 0.14285714285714285], [-1.0, 0.14285714285714285], [-1.0, 0.14285714285714285], [0.040712872646140284, -0.018801331853496115, -0.5640399556048835, -0.021911540792644173, -0.4695330169852322, 0.040712872646140284, 0.5640399556048835, -0.018801331853496115, 0.4695330169852322, -0.021911540792644173, -2.6457513110645907, -0.89], [0.8218229725901157, -0.5640399556048835, 0.018801331853496115, -0.4695330169852322, 0.021911540792644173, 0.8218229725901157, -0.018801331853496115, -0.5640399556048835, -0.021911540792644173, -0.4695330169852322, -2.6457513110645907, 0.04], [-0.1947925244352154, 5.843775733056462, -5.843775733056462, -0.1947925244352154, 0.9286634921771512, -0.7338709677419356, -7.000000000000001, 0.9286634921771512, 7.000000000000001, -0.7338709677419356, 0.9842541988802986], [-0.5640399556048835, -0.018801331853496115, 0.018801331853496115, -0.5640399556048835, 0.9961659245659642, -0.6756384689610808, 0.07083306529430686, 0.9961659245659642, -0.07083306529430686, -0.6756384689610808, -2.6457513110645907, 0.05], [-0.021911540792644173, 0.4695330169852322, -0.4695330169852322, -0.021911540792644173, -0.07083306529430686, 0.6756384689610808, -0.6756384689610808, -0.07083306529430686, 0.09274460608695104, 0.09274460608695104, -2.6457513110645907, -0.89], [-0.4695330169852322, -0.021911540792644173, 0.021911540792644173, -0.4695330169852322, -0.6756384689610808, -0.07083306529430686, 0.07083306529430686, -0.6756384689610808, 0.9863589859463129, 0.9863589859463129, -2.6457513110645907, 0.04]], 6, [2, 2, 2, 2, 2], \n",
       "  [10,   2]  =  0x01\n",
       "  [1 ,   3]  =  0x02\n",
       "  [1 ,   4]  =  0x01\n",
       "  [2 ,   4]  =  0x01\n",
       "  [2 ,   5]  =  0x02\n",
       "  [1 ,   6]  =  0x01\n",
       "  [3 ,   6]  =  0x01\n",
       "  [2 ,   7]  =  0x01\n",
       "  [3 ,   7]  =  0x01\n",
       "  [3 ,   8]  =  0x02\n",
       "  [1 ,   9]  =  0x01\n",
       "  [4 ,   9]  =  0x01\n",
       "  ⋮\n",
       "  [11, 373]  =  0x02\n",
       "  [3 , 374]  =  0x01\n",
       "  [6 , 374]  =  0x01\n",
       "  [11, 374]  =  0x02\n",
       "  [4 , 375]  =  0x01\n",
       "  [6 , 375]  =  0x01\n",
       "  [11, 375]  =  0x02\n",
       "  [5 , 376]  =  0x01\n",
       "  [6 , 376]  =  0x01\n",
       "  [11, 376]  =  0x02\n",
       "  [6 , 377]  =  0x02\n",
       "  [11, 377]  =  0x02\n",
       "  [11, 378]  =  0x04, Array{Array{UInt8,2},1}[[[0x00 0x00 0x00; 0x00 0x00 0x00; … ; 0x00 0x00 0x00; 0x00 0x00 0x00], [0x02 0x00 0x00; 0x00 0x02 0x00; … ; 0x00 0x00 0x00; 0x00 0x00 0x00], [0x02 0x00 0x00; 0x00 0x02 0x00; … ; 0x00 0x00 0x00; 0x00 0x00 0x00], [0x00 0x00 0x00; 0x00 0x00 0x00; … ; 0x00 0x00 0x00; 0x00 0x00 0x00], [0x00 0x00 0x00; 0x00 0x00 0x00; … ; 0x00 0x00 0x00; 0x00 0x00 0x00], [0x00 0x00 0x00; 0x00 0x00 0x00; … ; 0x00 0x02 0x00; 0x00 0x00 0x00], [0x00 0x00 0x00; 0x00 0x00 0x00; … ; 0x00 0x02 0x00; 0x00 0x00 0x00], [0x00 0x00; 0x00 0x00; … ; 0x00 0x00; 0x02 0x00], [0x01 0x01 … 0x00 0x00; 0x00 0x00 … 0x00 0x00; … ; 0x00 0x00 … 0x01 0x00; 0x00 0x00 … 0x00 0x00], [0x01 0x01 … 0x00 0x00; 0x00 0x00 … 0x00 0x00; … ; 0x00 0x01 … 0x00 0x00; 0x00 0x00 … 0x01 0x00]], [[0x00 0x00 0x00; 0x00 0x00 0x00; … ; 0x00 0x00 0x00; 0x00 0x00 0x00], [0x00 0x00; 0x00 0x00; … ; 0x00 0x00; 0x02 0x00], [0x01 0x01 … 0x00 0x00; 0x00 0x00 … 0x00 0x00; … ; 0x00 0x00 … 0x00 0x00; 0x00 0x00 … 0x01 0x00]], [[0x00 0x00 0x00; 0x00 0x00 0x00; … ; 0x00 0x00 0x00; 0x00 0x00 0x00], [0x00 0x00; 0x00 0x00; … ; 0x00 0x00; 0x02 0x00], [0x02 0x01 … 0x00 0x00; 0x00 0x00 … 0x00 0x00; … ; 0x00 0x00 … 0x00 0x00; 0x00 0x00 … 0x01 0x00]], [[0x00 0x00 0x00; 0x00 0x00 0x00; … ; 0x00 0x00 0x00; 0x00 0x00 0x00], [0x00 0x00; 0x00 0x00; … ; 0x00 0x00; 0x02 0x00], [0x02 0x01 … 0x00 0x00; 0x00 0x00 … 0x00 0x00; … ; 0x00 0x00 … 0x00 0x00; 0x00 0x00 … 0x01 0x00]], [[0x00 0x00 0x00; 0x00 0x00 0x00; … ; 0x00 0x00 0x00; 0x00 0x00 0x00], [0x00 0x00; 0x00 0x00; … ; 0x00 0x00; 0x02 0x00], [0x01 0x01 … 0x00 0x00; 0x00 0x00 … 0x00 0x00; … ; 0x00 0x01 … 0x00 0x00; 0x00 0x00 … 0x01 0x00]]], Array{UInt16,1}[[0x0003, 0x0003, 0x0003, 0x0003, 0x0003, 0x0003, 0x0003, 0x0002, 0x000b, 0x000c], [0x0003, 0x0002, 0x000c], [0x0003, 0x0002, 0x000c], [0x0003, 0x0002, 0x000c], [0x0003, 0x0002, 0x000c]], Array{UInt8,2}[[0x00 0x01 … 0x00 0x00; 0x00 0x00 … 0x00 0x00; … ; 0x00 0x00 … 0x01 0x00; 0x00 0x00 … 0x01 0x02], [0x00 0x01 … 0x00 0x00; 0x00 0x00 … 0x00 0x00; … ; 0x00 0x00 … 0x01 0x00; 0x00 0x00 … 0x01 0x02], [0x00 0x01 … 0x00 0x00; 0x00 0x00 … 0x00 0x00; … ; 0x00 0x00 … 0x01 0x00; 0x00 0x00 … 0x01 0x02], [0x00 0x01 … 0x00 0x00; 0x00 0x00 … 0x00 0x00; … ; 0x00 0x00 … 0x01 0x00; 0x00 0x00 … 0x01 0x02], [0x00 0x01 … 0x00 0x00; 0x00 0x00 … 0x00 0x00; … ; 0x00 0x00 … 0x01 0x00; 0x00 0x00 … 0x01 0x02]], Array{Array{UInt8,2},1}[[[0x00 0x01 … 0x00 0x00; 0x00 0x00 … 0x00 0x00; … ; 0x00 0x00 … 0x01 0x00; 0x00 0x00 … 0x00 0x01], [0x00 0x01 … 0x00 0x00; 0x00 0x00 … 0x00 0x00; … ; 0x00 0x00 … 0x01 0x00; 0x00 0x00 … 0x00 0x01], [0x00 0x01 … 0x00 0x00; 0x00 0x00 … 0x00 0x00; … ; 0x00 0x00 … 0x01 0x00; 0x00 0x00 … 0x00 0x01], [0x00 0x01 … 0x00 0x00; 0x00 0x00 … 0x00 0x00; … ; 0x00 0x00 … 0x01 0x00; 0x00 0x00 … 0x00 0x01], [0x00 0x01 … 0x00 0x00; 0x00 0x00 … 0x00 0x00; … ; 0x00 0x00 … 0x01 0x00; 0x00 0x00 … 0x00 0x01], [0x00 0x01 … 0x00 0x00; 0x00 0x00 … 0x00 0x00; … ; 0x00 0x00 … 0x01 0x00; 0x00 0x00 … 0x00 0x01], [0x00 0x01 … 0x00 0x00; 0x00 0x00 … 0x00 0x00; … ; 0x00 0x00 … 0x01 0x00; 0x00 0x00 … 0x00 0x01], [0x00 0x01 … 0x00 0x00; 0x00 0x00 … 0x00 0x00; … ; 0x00 0x00 … 0x01 0x00; 0x00 0x00 … 0x00 0x01], [0x00 0x01 … 0x00 0x00; 0x00 0x00 … 0x00 0x00; … ; 0x00 0x00 … 0x01 0x00; 0x00 0x00 … 0x00 0x01]], [[0x00 0x01 … 0x00 0x00; 0x00 0x00 … 0x00 0x00; … ; 0x00 0x00 … 0x01 0x00; 0x00 0x00 … 0x00 0x01], [0x00 0x01 … 0x00 0x00; 0x00 0x00 … 0x00 0x00; … ; 0x00 0x00 … 0x01 0x00; 0x00 0x00 … 0x00 0x01]], [[0x00 0x01 … 0x00 0x00; 0x00 0x00 … 0x00 0x00; … ; 0x00 0x00 … 0x01 0x00; 0x00 0x00 … 0x00 0x01], [0x00 0x01 … 0x00 0x00; 0x00 0x00 … 0x00 0x00; … ; 0x00 0x00 … 0x01 0x00; 0x00 0x00 … 0x00 0x01]], [[0x00 0x01 … 0x00 0x00; 0x00 0x00 … 0x00 0x00; … ; 0x00 0x00 … 0x01 0x00; 0x00 0x00 … 0x00 0x01], [0x00 0x01 … 0x00 0x00; 0x00 0x00 … 0x00 0x00; … ; 0x00 0x00 … 0x01 0x00; 0x00 0x00 … 0x00 0x01]], [[0x00 0x01 … 0x00 0x00; 0x00 0x00 … 0x00 0x00; … ; 0x00 0x00 … 0x01 0x00; 0x00 0x00 … 0x00 0x01], [0x00 0x01 … 0x00 0x00; 0x00 0x00 … 0x00 0x00; … ; 0x00 0x00 … 0x01 0x00; 0x00 0x00 … 0x00 0x01]]], 5, Array{UInt16,1}[[0x0001, 0x0002, 0x0003, 0x0004, 0x0005, 0x0006, 0x000a], [0x0001, 0x0002, 0x0003, 0x0004, 0x0005, 0x0006, 0x0009], [0x0001, 0x0002, 0x0003, 0x0004, 0x0005, 0x0006, 0x0008], [0x0001, 0x0002, 0x0003, 0x0004, 0x0005, 0x0006, 0x0007], [0x0001, 0x0002, 0x0003, 0x0004, 0x0005, 0x0006, 0x000b]], [7, 7, 7, 7, 7], Array{UInt16,1}[[0x0001, 0x0002, 0x0003, 0x0004, 0x0005, 0x0006, 0x000a, 0x000e, 0x0010], [0x0009, 0x000f], [0x0008, 0x000d], [0x0007, 0x000c], [0x000b, 0x0011]], UInt16[], Array{Array{Array{UInt16,1},1},1}[[[[0x0001, 0x0008, 0x0009, 0x000a, 0x000b, 0x000c, 0x000d, 0x000e, 0x000f, 0x0010  …  0x0015, 0x0016, 0x0017, 0x0018, 0x0019, 0x001a, 0x001b, 0x001c, 0x001d, 0x0024], [0x0002, 0x0003, 0x0004, 0x0005, 0x0006, 0x0007, 0x001e, 0x001f, 0x0020, 0x0021, 0x0022, 0x0023]], [[0x0001, 0x0008], [0x0002, 0x0003, 0x0004, 0x0005, 0x0006, 0x0007]], [[0x0001, 0x0008], [0x0002, 0x0003, 0x0004, 0x0005, 0x0006, 0x0007]], [[0x0001, 0x0008], [0x0002, 0x0003, 0x0004, 0x0005, 0x0006, 0x0007]], [[0x0001, 0x0008], [0x0002, 0x0003, 0x0004, 0x0005, 0x0006, 0x0007]], [[0x0001, 0x0008], [0x0002, 0x0003, 0x0004, 0x0005, 0x0006, 0x0007]], [[0x0001, 0x0008], [0x0002, 0x0003, 0x0004, 0x0005, 0x0006, 0x0007]], [[0x0001, 0x0008], [0x0002, 0x0003, 0x0004, 0x0005, 0x0006, 0x0007]], [[0x0001, 0x0008], [0x0002, 0x0003, 0x0004, 0x0005, 0x0006, 0x0007]], [[0x0001, 0x0008], [0x0002, 0x0003, 0x0004, 0x0005, 0x0006, 0x0007]]], [[[0x0001, 0x0008, 0x0009, 0x000a, 0x000b, 0x000c, 0x000d, 0x000e, 0x000f, 0x0010  …  0x0015, 0x0016, 0x0017, 0x0018, 0x0019, 0x001a, 0x001b, 0x001c, 0x001d, 0x0024], [0x0002, 0x0003, 0x0004, 0x0005, 0x0006, 0x0007, 0x001e, 0x001f, 0x0020, 0x0021, 0x0022, 0x0023]], [[0x0001, 0x0008], [0x0002, 0x0003, 0x0004, 0x0005, 0x0006, 0x0007]], [[0x0001, 0x0008], [0x0002, 0x0003, 0x0004, 0x0005, 0x0006, 0x0007]]], [[[0x0001, 0x0008, 0x0009, 0x000a, 0x000b, 0x000c, 0x000d, 0x000e, 0x000f, 0x0010  …  0x0015, 0x0016, 0x0017, 0x0018, 0x0019, 0x001a, 0x001b, 0x001c, 0x001d, 0x0024], [0x0002, 0x0003, 0x0004, 0x0005, 0x0006, 0x0007, 0x001e, 0x001f, 0x0020, 0x0021, 0x0022, 0x0023]], [[0x0001, 0x0008], [0x0002, 0x0003, 0x0004, 0x0005, 0x0006, 0x0007]], [[0x0001, 0x0008], [0x0002, 0x0003, 0x0004, 0x0005, 0x0006, 0x0007]]], [[[0x0001, 0x0008, 0x0009, 0x000a, 0x000b, 0x000c, 0x000d, 0x000e, 0x000f, 0x0010  …  0x0015, 0x0016, 0x0017, 0x0018, 0x0019, 0x001a, 0x001b, 0x001c, 0x001d, 0x0024], [0x0002, 0x0003, 0x0004, 0x0005, 0x0006, 0x0007, 0x001e, 0x001f, 0x0020, 0x0021, 0x0022, 0x0023]], [[0x0001, 0x0008], [0x0002, 0x0003, 0x0004, 0x0005, 0x0006, 0x0007]], [[0x0001, 0x0008], [0x0002, 0x0003, 0x0004, 0x0005, 0x0006, 0x0007]]], [[[0x0001, 0x0008, 0x0009, 0x000a, 0x000b, 0x000c, 0x000d, 0x000e, 0x000f, 0x0010  …  0x0015, 0x0016, 0x0017, 0x0018, 0x0019, 0x001a, 0x001b, 0x001c, 0x001d, 0x0024], [0x0002, 0x0003, 0x0004, 0x0005, 0x0006, 0x0007, 0x001e, 0x001f, 0x0020, 0x0021, 0x0022, 0x0023]], [[0x0001, 0x0008], [0x0002, 0x0003, 0x0004, 0x0005, 0x0006, 0x0007]], [[0x0001, 0x0008], [0x0002, 0x0003, 0x0004, 0x0005, 0x0006, 0x0007]]]], Array{UInt16,1}[[0x0002, 0x0002, 0x0002, 0x0002, 0x0002, 0x0002, 0x0002, 0x0002, 0x0002, 0x0002], [0x0002, 0x0002, 0x0002], [0x0002, 0x0002, 0x0002], [0x0002, 0x0002, 0x0002], [0x0002, 0x0002, 0x0002]], Array{Array{Int64,1},1}[[[24, 12], [2, 6], [2, 6], [2, 6], [2, 6], [2, 6], [2, 6], [2, 6], [2, 6], [2, 6]], [[24, 12], [2, 6], [2, 6]], [[24, 12], [2, 6], [2, 6]], [[24, 12], [2, 6], [2, 6]], [[24, 12], [2, 6], [2, 6]]], Array{UInt16,1}[[0x0018, 0x000c], [0x0018, 0x000c], [0x0018, 0x000c], [0x0018, 0x000c], [0x0018, 0x000c]], Array{UInt16,1}[[0x0001, 0x0001], [0x0001, 0x0001], [0x0001, 0x0001], [0x0001, 0x0001], [0x0001, 0x0001]]))"
      ]
     },
     "execution_count": 416,
     "metadata": {},
     "output_type": "execute_result"
    }
   ],
   "source": [
    "using TSSOS, SparseArrays\n",
    "\n",
    "@time begin\n",
    "opt,sol,data=cs_tssos_first(Vector{SparseMatrixCSC{UInt8,UInt32}}([[supp_f];supp_g;supp_h]),[[coe_f];coe_g;coe_h],n,k,[dg;dh],numeq=l,CS=\"MD\",TS=\"block\",CTP=false);\n",
    "opt,sol,data=cs_tssos_higher!(data,TS=\"block\");\n",
    "end"
   ]
  },
  {
   "cell_type": "code",
   "execution_count": null,
   "metadata": {},
   "outputs": [],
   "source": []
  }
 ],
 "metadata": {
  "kernelspec": {
   "display_name": "Julia 1.3.0",
   "language": "julia",
   "name": "julia-1.3"
  },
  "language_info": {
   "file_extension": ".jl",
   "mimetype": "application/julia",
   "name": "julia",
   "version": "1.3.0"
  }
 },
 "nbformat": 4,
 "nbformat_minor": 2
}
