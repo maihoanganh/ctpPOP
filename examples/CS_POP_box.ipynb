{
 "cells": [
  {
   "cell_type": "code",
   "execution_count": 7,
   "metadata": {},
   "outputs": [
    {
     "name": "stdout",
     "output_type": "stream",
     "text": [
      "***Problem setting***\n",
      "Number of variable: n=6\n",
      "====================\n",
      "Number of inequality constraints: m=6\n",
      "====================\n",
      "Number of equality constraints: l=1\n",
      "====================\n",
      "Relaxed order: k=2\n",
      "====================\n"
     ]
    }
   ],
   "source": [
    "using DynamicPolynomials, LinearAlgebra, SparseArrays\n",
    "\n",
    "println(\"***Problem setting***\")\n",
    "\n",
    "n=6\n",
    "\n",
    "println(\"Number of variable: n=\",n)\n",
    "println(\"====================\")\n",
    "\n",
    "@polyvar x[1:n]# variables\n",
    "\n",
    "function generate_random_poly(T::UnitRange{Int64})\n",
    "    v=reverse(monomials(x[T],0:2))\n",
    "    c=2*rand(Float64,length(v)).-1\n",
    "    return c'*v\n",
    "end\n",
    "\n",
    "# unit sphere constraint\n",
    "u=3\n",
    "p=floor(Int64,n/u)\n",
    "\n",
    "I=Vector{UnitRange{Int64}}(undef,p)\n",
    "I[1]=1:u\n",
    "I[2:p-1]=[u*(j-1):u*j for j in 2:p-1]\n",
    "I[p]=u*(p-1):n\n",
    "\n",
    "# random quadratic objective function f\n",
    "f=sum(generate_random_poly(I[j]) for j in 1:p)\n",
    "\n",
    "\n",
    "g=-(x.^2).+1/u\n",
    "\n",
    "\n",
    "\n",
    "m=length(g)\n",
    "println(\"Number of inequality constraints: m=\",m)\n",
    "println(\"====================\")\n",
    "\n",
    "l=ceil(Int64, n/7)\n",
    "\n",
    "r=floor(Int64,l/p)\n",
    "W=[(j-1)*r+1:j*r for j in 1:p-1]\n",
    "append!(W,[(p-1)*r+1:l])\n",
    "\n",
    "h=Vector{Polynomial{true,Float64}}(undef,l)\n",
    "\n",
    "\n",
    "randx=2*rand(n).-1\n",
    "randx=randx./sqrt(u)\n",
    "\n",
    "for j in 1:p\n",
    "    for i in W[j]\n",
    "        h[i]=generate_random_poly(I[j])\n",
    "        h[i]-=h[i](x => randx) #make constraints feasible\n",
    "    end\n",
    "end\n",
    "\n",
    "l=length(h)\n",
    "println(\"Number of equality constraints: l=\",l)\n",
    "println(\"====================\")\n",
    "\n",
    "k=2\n",
    "\n",
    "println(\"Relaxed order: k=\",k)\n",
    "println(\"====================\")"
   ]
  },
  {
   "cell_type": "code",
   "execution_count": 8,
   "metadata": {},
   "outputs": [
    {
     "name": "stderr",
     "output_type": "stream",
     "text": [
      "WARNING: replacing module ctpPOP.\n"
     ]
    }
   ],
   "source": [
    "include(\"../src/ctpPOP.jl\")\n",
    "using .ctpPOP\n",
    "\n",
    "n,m,l,lmon_g,supp_g,coe_g,lmon_h,supp_h,coe_h,lmon_f,supp_f,coe_f,dg,dh=ctpPOP.get_info(x,f,g,h,sparse=true);"
   ]
  },
  {
   "cell_type": "code",
   "execution_count": 9,
   "metadata": {},
   "outputs": [
    {
     "name": "stdout",
     "output_type": "stream",
     "text": [
      "------------------------------------------------------\n",
      "The clique sizes of varibles:\n",
      "[4, 3]\n",
      "[1, 1]\n",
      "------------------------------------------------------\n",
      "  Number of cliques: p=2\n",
      "  Largest clique size: u=4\n"
     ]
    },
    {
     "name": "stderr",
     "output_type": "stream",
     "text": [
      "WARNING: replacing module ctpPOP.\n"
     ]
    },
    {
     "name": "stdout",
     "output_type": "stream",
     "text": [
      "  Largest constant trace: a=4.111111111111111\n",
      "  Number of blocks: omega=9\n",
      "  Number of equality consraints: zeta=181\n",
      "  Size of the largest block: s^max=15\n",
      "Modeling time:\n",
      "  0.349861 seconds (214.51 k allocations: 11.990 MiB)\n",
      "iter=1   val=-4.913628258960475   gap=0.06550414757684797   feas=5.87102908550129\n",
      "iter=2   val=-3.18665776377629   gap=0.41780328713545445   feas=3.5343297508086575\n",
      "iter=4   val=-1.9614403328095507   gap=0.35506782354385624   feas=1.6108672293798914\n",
      "iter=8   val=-2.1362426742334373   gap=0.02930004900371052   feas=0.9359602421260776\n",
      "iter=16   val=-1.7512048205552633   gap=0.11535604051361374   feas=0.5329382271779893\n",
      "iter=32   val=-1.8647265163206719   gap=0.0528822446213626   feas=0.19798902825446374\n",
      "iter=64   val=-1.8929807250565684   gap=0.0115754867290072   feas=0.08785172034198699\n",
      "iter=128   val=-1.8731517565795417   gap=0.022221776588311457   feas=0.019667757891193443\n",
      "iter=256   val=-1.8717997116783887   gap=0.016513089080277186   feas=0.013501434555425794\n",
      "iter=341   val=-1.8678673609662508   gap=0.009525705602097236   feas=0.009589614293824652\n",
      "tol satisfies!!!\n",
      "\n",
      "####################################\n",
      "opt_val = -1.8678673609662508\n",
      "####################################\n",
      "Solving time:\n",
      "  0.345758 seconds (290.70 k allocations: 22.982 MiB, 19.96% gc time)\n",
      "Total time:\n",
      "  0.695894 seconds (505.79 k allocations: 34.985 MiB, 9.92% gc time)\n"
     ]
    },
    {
     "data": {
      "text/plain": [
       "-1.8678673609662508"
      ]
     },
     "execution_count": 9,
     "metadata": {},
     "output_type": "execute_result"
    }
   ],
   "source": [
    "include(\"../src/ctpPOP.jl\")\n",
    "using .ctpPOP\n",
    "\n",
    "opt_val1=ctpPOP.POP_CS_CGAL(n,m,l,lmon_g,supp_g,coe_g,lmon_h,supp_h,coe_h,lmon_f,supp_f,coe_f,dg,dh,k,\n",
    "    maxit=Int64(1e10),tol=1e-2,use_eqcons_to_get_constant_trace=false,check_tol_each_iter=true)"
   ]
  },
  {
   "cell_type": "code",
   "execution_count": 10,
   "metadata": {},
   "outputs": [
    {
     "name": "stdout",
     "output_type": "stream",
     "text": [
      "------------------------------------------------------\n",
      "The clique sizes of varibles:\n",
      "[4, 3]\n",
      "[1, 1]\n",
      "------------------------------------------------------\n",
      "  Number of cliques: p=2\n",
      "  Largest clique size: u=4\n"
     ]
    },
    {
     "name": "stderr",
     "output_type": "stream",
     "text": [
      "WARNING: replacing module ctpPOP.\n"
     ]
    },
    {
     "name": "stdout",
     "output_type": "stream",
     "text": [
      "  Largest constant trace: a=4.111111111111111\n",
      "  Number of blocks: omega=9\n",
      "  Number of equality consraints: zeta=181\n",
      "  Size of the largest block: s^max=15\n",
      "Modeling time:\n",
      "  0.396463 seconds (214.52 k allocations: 11.994 MiB)\n",
      "**LMBM solver:\n",
      "---------------\n",
      "| Parameters: |\n",
      "---------------\n",
      "n:       181\n",
      "maxtime: 300000.000000\n",
      "na:      2\n",
      "mcu:     5\n",
      "mc:      7\n",
      "rpar: \n",
      "ipar: \n",
      " Warning: MC > MCU. Assigned MC = MCU.\n",
      " Entry to LMBM:\n",
      " NIT=    1  NFE=    1  F= 0.76684091D+00  WK= 0.1589D-01  QK= 0.7947D-02\n",
      " NIT=    2  NFE=   46  F= 0.76684091D+00  WK= 0.1589D-01  QK= 0.7947D-02\n",
      " NIT=    3  NFE=   91  F= 0.76684091D+00  WK= 0.1589D-01  QK= 0.7947D-02\n",
      " NIT=    4  NFE=  136  F= 0.76684091D+00  WK= 0.1589D-01  QK= 0.7947D-02\n",
      " NIT=    5  NFE=  181  F= 0.76684091D+00  WK= 0.1589D-01  QK= 0.7947D-02\n",
      " NIT=    6  NFE=  226  F= 0.76684091D+00  WK= 0.1589D-01  QK= 0.7947D-02\n",
      " NIT=    7  NFE=  271  F= 0.76684091D+00  WK= 0.1589D-01  QK= 0.7947D-02\n",
      " NIT=    8  NFE=  316  F= 0.76684091D+00  WK= 0.1589D-01  QK= 0.7947D-02\n",
      " NIT=    9  NFE=  361  F= 0.76684091D+00  WK= 0.1589D-01  QK= 0.7947D-02\n",
      " NIT=   10  NFE=  406  F= 0.76684091D+00  WK= 0.1589D-01  QK= 0.7947D-02\n",
      " NIT=   11  NFE=  451  F= 0.76684091D+00  WK= 0.1589D-01  QK= 0.7947D-02\n",
      " NIT=   12  NFE=  496  F= 0.76684091D+00  WK= 0.1589D-01  QK= 0.7947D-02\n",
      " NIT=   13  NFE=  541  F= 0.76684091D+00  WK= 0.1589D-01  QK= 0.7947D-02\n",
      " NIT=   14  NFE=  586  F= 0.76684091D+00  WK= 0.1589D-01  QK= 0.7947D-02\n",
      " NIT=   15  NFE=  631  F= 0.76684091D+00  WK= 0.1589D-01  QK= 0.7947D-02\n",
      " NIT=   16  NFE=  676  F= 0.76684091D+00  WK= 0.1589D-01  QK= 0.7947D-02\n",
      " NIT=   17  NFE=  721  F= 0.76684091D+00  WK= 0.1589D-01  QK= 0.7947D-02\n",
      " NIT=   18  NFE=  766  F= 0.76684091D+00  WK= 0.1589D-01  QK= 0.7947D-02\n",
      " NIT=   19  NFE=  811  F= 0.76684091D+00  WK= 0.1589D-01  QK= 0.7947D-02\n",
      " NIT=   20  NFE=  856  F= 0.76684091D+00  WK= 0.1589D-01  QK= 0.7947D-02\n",
      " NIT=   21  NFE=  901  F= 0.76684091D+00  WK= 0.1589D-01  QK= 0.7947D-02\n",
      " Exit from LMBM:\n",
      " Abnormal exit: Failure in attaining the demanded accuracy.\n",
      " NIT=   22  NFE=  946  F= 0.76684091D+00  WK= 0.1589D-01  QK= 0.7947D-02  ITERM= -4\n",
      "-----------\n",
      "| Output: |\n",
      "-----------\n",
      "Termination:     -4\n",
      "N. iter.:        22\n",
      "N. func. eval.:  946\n",
      "Final value:     0.766841\n",
      "Execution time:  0.809387\n",
      "\n",
      "####################################\n",
      "opt_val = -4.952004134548726\n",
      "####################################\n",
      "  1.055515 seconds (1.06 M allocations: 79.152 MiB, 3.61% gc time)\n",
      "Total time:\n",
      "  1.452397 seconds (1.28 M allocations: 91.158 MiB, 2.62% gc time)\n"
     ]
    },
    {
     "data": {
      "text/plain": [
       "-4.952004134548726"
      ]
     },
     "execution_count": 10,
     "metadata": {},
     "output_type": "execute_result"
    }
   ],
   "source": [
    "include(\"../src/ctpPOP.jl\")\n",
    "using .ctpPOP\n",
    "\n",
    "opt_val1=ctpPOP.POP_CS_LMBM(n,m,l,lmon_g,supp_g,coe_g,lmon_h,supp_h,coe_h,lmon_f,supp_f,coe_f,dg,dh,k,\n",
    "    tol=1e-2,use_eqcons_to_get_constant_trace=false)"
   ]
  },
  {
   "cell_type": "code",
   "execution_count": 11,
   "metadata": {},
   "outputs": [
    {
     "name": "stdout",
     "output_type": "stream",
     "text": [
      "------------------------------------------------------\n",
      "The clique sizes of varibles:\n",
      "[4, 3]\n",
      "[1, 1]\n",
      "------------------------------------------------------\n",
      "Problem\n",
      "  Name                   :                 \n",
      "  Objective sense        : max             \n",
      "  Type                   : CONIC (conic optimization problem)\n",
      "  Constraints            : 100             \n",
      "  Cones                  : 0               \n",
      "  Scalar variables       : 16              \n",
      "  Matrix variables       : 8               \n",
      "  Integer variables      : 0               \n",
      "\n",
      "Optimizer started.\n",
      "Presolve started.\n",
      "Linear dependency checker started.\n",
      "Linear dependency checker terminated.\n",
      "Eliminator started.\n",
      "Freed constraints in eliminator : 0\n",
      "Eliminator terminated.\n",
      "Eliminator - tries                  : 1                 time                   : 0.00            \n",
      "Lin. dep.  - tries                  : 1                 time                   : 0.00            \n",
      "Lin. dep.  - number                 : 0               \n",
      "Presolve terminated. Time: 0.00    \n",
      "Problem\n",
      "  Name                   :                 \n",
      "  Objective sense        : max             \n",
      "  Type                   : CONIC (conic optimization problem)\n",
      "  Constraints            : 100             \n",
      "  Cones                  : 0               \n",
      "  Scalar variables       : 16              \n",
      "  Matrix variables       : 8               \n",
      "  Integer variables      : 0               \n",
      "\n",
      "Optimizer  - threads                : 4               \n",
      "Optimizer  - solved problem         : the primal      \n",
      "Optimizer  - Constraints            : 100\n",
      "Optimizer  - Cones                  : 1\n",
      "Optimizer  - Scalar variables       : 17                conic                  : 17              \n",
      "Optimizer  - Semi-definite variables: 8                 scalarized             : 250             \n",
      "Factor     - setup time             : 0.00              dense det. time        : 0.00            \n",
      "Factor     - ML order time          : 0.00              GP order time          : 0.00            \n",
      "Factor     - nonzeros before factor : 3100              after factor           : 3100            \n",
      "Factor     - dense dim.             : 0                 flops                  : 2.00e+05        \n",
      "ITE PFEAS    DFEAS    GFEAS    PRSTATUS   POBJ              DOBJ              MU       TIME  \n",
      "0   4.2e+00  1.0e+00  1.0e+00  0.00e+00   0.000000000e+00   0.000000000e+00   1.0e+00  0.00  \n",
      "1   2.4e+00  5.7e-01  4.2e-01  2.74e-01   -9.860313292e-01  -9.298457876e-01  5.7e-01  0.00  \n",
      "2   6.8e-01  1.6e-01  4.2e-02  1.89e+00   -1.464787099e+00  -1.429437108e+00  1.6e-01  0.01  \n",
      "3   1.7e-01  4.1e-02  5.7e-03  1.16e+00   -1.785401292e+00  -1.778939992e+00  4.1e-02  0.01  \n",
      "4   2.2e-02  5.1e-03  2.5e-04  1.08e+00   -1.857246472e+00  -1.856438334e+00  5.1e-03  0.01  \n",
      "5   1.7e-03  4.1e-04  5.4e-06  1.01e+00   -1.870449454e+00  -1.870383759e+00  4.1e-04  0.01  \n",
      "6   1.7e-04  4.1e-05  1.7e-07  1.00e+00   -1.871386616e+00  -1.871379947e+00  4.1e-05  0.01  \n",
      "7   9.7e-06  2.3e-06  2.3e-09  1.00e+00   -1.871479195e+00  -1.871478816e+00  2.3e-06  0.01  \n",
      "8   4.6e-07  1.1e-07  2.3e-11  1.00e+00   -1.871483968e+00  -1.871483950e+00  1.1e-07  0.02  \n",
      "9   2.2e-08  5.1e-09  2.4e-13  1.00e+00   -1.871484162e+00  -1.871484161e+00  5.1e-09  0.02  \n",
      "Optimizer terminated. Time: 0.02    \n",
      "\n",
      "optimum = -1.8714841617565654\n",
      "  0.030021 seconds (49.42 k allocations: 3.657 MiB)\n"
     ]
    }
   ],
   "source": [
    "using TSSOS\n",
    "\n",
    "\n",
    "@time opt,sol,data=cs_tssos_first(Vector{SparseMatrixCSC{UInt8,UInt32}}([[supp_f];supp_g;supp_h]),[[coe_f];coe_g;coe_h],n,k,[dg;dh],numeq=l,CS=\"MD\",TS=false,CTP=false);"
   ]
  },
  {
   "cell_type": "code",
   "execution_count": 12,
   "metadata": {},
   "outputs": [
    {
     "name": "stdout",
     "output_type": "stream",
     "text": [
      "This is Ipopt version 3.13.2, running with linear solver mumps.\n",
      "NOTE: Other linear solvers might be more efficient (see Ipopt documentation).\n",
      "\n",
      "Number of nonzeros in equality constraint Jacobian...:       20\n",
      "Number of nonzeros in inequality constraint Jacobian.:        6\n",
      "Number of nonzeros in Lagrangian Hessian.............:       31\n",
      "\n",
      "Total number of variables............................:        6\n",
      "                     variables with only lower bounds:        0\n",
      "                variables with lower and upper bounds:        0\n",
      "                     variables with only upper bounds:        0\n",
      "Total number of equality constraints.................:        1\n",
      "Total number of inequality constraints...............:        6\n",
      "        inequality constraints with only lower bounds:        6\n",
      "   inequality constraints with lower and upper bounds:        0\n",
      "        inequality constraints with only upper bounds:        0\n",
      "\n",
      "iter    objective    inf_pr   inf_du lg(mu)  ||d||  lg(rg) alpha_du alpha_pr  ls\n",
      "   0 -2.3971512e-01 1.16e-01 6.97e-01  -1.0 0.00e+00    -  0.00e+00 0.00e+00   0\n",
      "   1 -9.7841248e-01 2.33e-01 1.10e+00  -1.7 4.18e-01   0.0 1.00e+00 1.00e+00f  1\n",
      "   2 -1.4217225e+00 2.23e-02 6.17e-01  -1.7 2.41e-01   0.4 1.00e+00 1.00e+00h  1\n",
      "   3 -1.7604901e+00 4.17e-02 4.01e-01  -1.7 5.73e-01  -0.1 1.00e+00 4.03e-01h  1\n",
      "   4 -1.8703879e+00 6.50e-02 4.04e-01  -1.7 5.52e-01    -  1.00e+00 2.33e-01f  1\n",
      "   5 -1.8023087e+00 1.04e-03 3.38e-02  -1.7 7.02e-02    -  1.00e+00 1.00e+00h  1\n",
      "   6 -1.8603251e+00 5.70e-05 4.41e-03  -2.5 3.23e-02    -  1.00e+00 1.00e+00h  1\n",
      "   7 -1.8708393e+00 3.08e-06 1.55e-04  -3.8 7.66e-03    -  1.00e+00 1.00e+00h  1\n",
      "   8 -1.8714767e+00 7.30e-08 3.96e-07  -5.7 4.11e-04    -  1.00e+00 1.00e+00h  1\n",
      "   9 -1.8714842e+00 1.03e-11 3.45e-11  -8.6 4.04e-06    -  1.00e+00 1.00e+00h  1\n",
      "\n",
      "Number of Iterations....: 9\n",
      "\n",
      "                                   (scaled)                 (unscaled)\n",
      "Objective...............:  -1.8714841877676296e+00   -1.8714841877676296e+00\n",
      "Dual infeasibility......:   3.4460738082553455e-11    3.4460738082553455e-11\n",
      "Constraint violation....:   1.0300080233172082e-11    1.0300080233172082e-11\n",
      "Complementarity.........:   2.5265234537501428e-09    2.5265234537501428e-09\n",
      "Overall NLP error.......:   2.5265234537501428e-09    2.5265234537501428e-09\n",
      "\n",
      "\n",
      "Number of objective function evaluations             = 10\n",
      "Number of objective gradient evaluations             = 10\n",
      "Number of equality constraint evaluations            = 10\n",
      "Number of inequality constraint evaluations          = 10\n",
      "Number of equality constraint Jacobian evaluations   = 10\n",
      "Number of inequality constraint Jacobian evaluations = 10\n",
      "Number of Lagrangian Hessian evaluations             = 9\n",
      "Total CPU secs in IPOPT (w/o function evaluations)   =      0.006\n",
      "Total CPU secs in NLP function evaluations           =      0.000\n",
      "\n",
      "EXIT: Optimal Solution Found.\n",
      "LOCALLY_SOLVED\n",
      "opt_val=-1.8714841877676296\n",
      "  0.101014 seconds (52.57 k allocations: 2.735 MiB)\n"
     ]
    },
    {
     "name": "stderr",
     "output_type": "stream",
     "text": [
      "WARNING: replacing module ctpPOP.\n"
     ]
    },
    {
     "data": {
      "text/plain": [
       "-1.8714841877676296"
      ]
     },
     "execution_count": 12,
     "metadata": {},
     "output_type": "execute_result"
    }
   ],
   "source": [
    "include(\"../src/ctpPOP.jl\")\n",
    "using .ctpPOP\n",
    "\n",
    "optval=ctpPOP.POP_NLP(n,m,l,lmon_g,supp_g,coe_g,lmon_h,supp_h,coe_h,lmon_f,supp_f,coe_f)"
   ]
  },
  {
   "cell_type": "code",
   "execution_count": null,
   "metadata": {},
   "outputs": [],
   "source": []
  }
 ],
 "metadata": {
  "kernelspec": {
   "display_name": "Julia 1.3.0",
   "language": "julia",
   "name": "julia-1.3"
  },
  "language_info": {
   "file_extension": ".jl",
   "mimetype": "application/julia",
   "name": "julia",
   "version": "1.3.0"
  }
 },
 "nbformat": 4,
 "nbformat_minor": 2
}
