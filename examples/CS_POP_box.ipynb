{
 "cells": [
  {
   "cell_type": "code",
   "execution_count": 6,
   "metadata": {},
   "outputs": [
    {
     "name": "stdout",
     "output_type": "stream",
     "text": [
      "***Problem setting***\n",
      "Number of variable: n=1000\n",
      "====================\n",
      "Number of inequality constraints: m=1000\n",
      "====================\n",
      "Number of equality constraints: l=143\n",
      "====================\n"
     ]
    }
   ],
   "source": [
    "using DynamicPolynomials, LinearAlgebra, SparseArrays\n",
    "\n",
    "println(\"***Problem setting***\")\n",
    "\n",
    "n=1000\n",
    "\n",
    "println(\"Number of variable: n=\",n)\n",
    "println(\"====================\")\n",
    "\n",
    "@ncpolyvar x[1:n]# variables\n",
    "function star_algebra(mom)\n",
    "    if mom==1\n",
    "        return mom\n",
    "    else\n",
    "        ind=mom.z .>0\n",
    "        vars=mom.vars[ind]\n",
    "        exp=mom.z[ind]\n",
    "        return prod(vars[i]^exp[i] for i in length(exp):-1:1)\n",
    "    end\n",
    "end\n",
    "function generate_random_poly(T::UnitRange{Int64})\n",
    "    v=reverse(monomials(x[T],0:2))\n",
    "    v+=star_algebra.(v)\n",
    "    v=v./2\n",
    "    c=2*rand(Float64,length(v)).-1\n",
    "    return c'*v\n",
    "end\n",
    "\n",
    "# unit sphere constraint\n",
    "u=10\n",
    "p=floor(Int64,n/u)\n",
    "\n",
    "I=Vector{UnitRange{Int64}}(undef,p)\n",
    "I[1]=1:u\n",
    "I[2:p-1]=[u*(j-1):u*j for j in 2:p-1]\n",
    "I[p]=u*(p-1):n\n",
    "\n",
    "# random quadratic objective function f\n",
    "f=sum(generate_random_poly(I[j]) for j in 1:p)\n",
    "\n",
    "f=f/100\n",
    "g=-(x.^2).+1/u\n",
    "\n",
    "\n",
    "\n",
    "m=length(g)\n",
    "println(\"Number of inequality constraints: m=\",m)\n",
    "println(\"====================\")\n",
    "\n",
    "l=ceil(Int64, n/7)\n",
    "\n",
    "r=floor(Int64,l/p)\n",
    "W=[(j-1)*r+1:j*r for j in 1:p-1]\n",
    "append!(W,[(p-1)*r+1:l])\n",
    "\n",
    "h=Vector{Polynomial{false,Float64}}(undef,l)\n",
    "\n",
    "\n",
    "randx=2*rand(n).-1\n",
    "randx=randx./sqrt(u)\n",
    "\n",
    "for j in 1:p\n",
    "    for i in W[j]\n",
    "        h[i]=generate_random_poly(I[j])\n",
    "        h[i]-=h[i](x => randx) #make constraints feasible\n",
    "    end\n",
    "end\n",
    "\n",
    "l=length(h)\n",
    "println(\"Number of equality constraints: l=\",l)\n",
    "println(\"====================\")\n"
   ]
  },
  {
   "cell_type": "code",
   "execution_count": null,
   "metadata": {},
   "outputs": [],
   "source": []
  },
  {
   "cell_type": "code",
   "execution_count": 7,
   "metadata": {},
   "outputs": [
    {
     "name": "stderr",
     "output_type": "stream",
     "text": [
      "WARNING: replacing module ctpNCPOP.\n"
     ]
    }
   ],
   "source": [
    "include(\"../src/ctpNCPOP.jl\")\n",
    "using .ctpNCPOP\n",
    "\n",
    "n,m,l,lmon_g,supp_g,coe_g,lmon_h,supp_h,coe_h,lmon_f,supp_f,coe_f,dg,dh=ctpNCPOP.get_info(x,f,g,h);"
   ]
  },
  {
   "cell_type": "code",
   "execution_count": 11,
   "metadata": {},
   "outputs": [
    {
     "name": "stdout",
     "output_type": "stream",
     "text": [
      "Relaxed order: k=2\n",
      "====================\n"
     ]
    }
   ],
   "source": [
    "k=2\n",
    "\n",
    "println(\"Relaxed order: k=\",k)\n",
    "println(\"====================\")"
   ]
  },
  {
   "cell_type": "code",
   "execution_count": 12,
   "metadata": {},
   "outputs": [
    {
     "name": "stdout",
     "output_type": "stream",
     "text": [
      "------------------------------------------------------\n",
      "The clique sizes of varibles:\n",
      "[11, 10]\n",
      "[99, 1]\n",
      "------------------------------------------------------\n",
      "  Number of cliques: p=100\n",
      "  Largest clique size: u=11\n"
     ]
    },
    {
     "name": "stderr",
     "output_type": "stream",
     "text": [
      "WARNING: replacing module ctpNCPOP.\n"
     ]
    },
    {
     "name": "stdout",
     "output_type": "stream",
     "text": [
      "  Largest constant trace: a=3.3100000000000014\n",
      "  Number of blocks: omega=1199\n",
      "  Number of equality consraints: zeta=169664\n",
      "  Size of the largest block: s^max=133\n",
      "Modeling time:\n",
      " 71.114504 seconds (532.02 M allocations: 81.260 GiB, 14.65% gc time)\n",
      "iter=1   val=-7.615456750600549   gap=4.492128978875036e-7   feas=35.984695714706874\n",
      "iter=2   val=-5.839775777883782   gap=0.01303595364623216   feas=22.215072503040066\n",
      "iter=4   val=-4.12575589809567   gap=0.15052221827220783   feas=9.791565540385811\n",
      "iter=8   val=-3.723703085571032   gap=0.013140085310203343   feas=7.379701207152166\n",
      "iter=16   val=-3.2223035296519167   gap=0.03712463834727638   feas=3.615674181812576\n",
      "iter=32   val=-2.980555220479911   gap=0.009632473069823838   feas=2.1363472062857856\n",
      "iter=64   val=-2.762287089526606   gap=0.007558981360055946   feas=1.1934010440881027\n",
      "iter=128   val=-2.577578758300037   gap=0.002534565700145187   feas=0.6200992998095567\n",
      "iter=256   val=-2.4728034913051906   gap=0.005940097331950341   feas=0.28228901166942244\n",
      "iter=512   val=-2.436236574790619   gap=0.008154338438785295   feas=0.12123203008340223\n",
      "iter=1024   val=-2.43000276588472   gap=0.006785480735112826   feas=0.056379395051821254\n",
      "iter=2048   val=-2.427823005979882   gap=0.008677508961719064   feas=0.026027226242702362\n",
      "iter=4096   val=-2.426809575767364   gap=0.0033432381751488604   feas=0.01436113126965577\n",
      "iter=8192   val=-2.426165999684244   gap=0.003873002386204497   feas=0.007520628971776718\n",
      "iter=16384   val=-2.42585703531981   gap=0.0013699001998690767   feas=0.004036783558531703\n",
      "iter=32768   val=-2.4255854510175734   gap=0.0019409502084099897   feas=0.0020811629492506426\n",
      "iter=65536   val=-2.4254191197897863   gap=0.0010472908334883287   feas=0.001161130209313422\n",
      "iter=75959   val=-2.4253975619098034   gap=0.0009026169869332615   feas=0.0009947955209610154\n",
      "tol satisfies!!!\n",
      "\n",
      "####################################\n",
      "opt_val = -2.4253975619098034\n",
      "####################################\n",
      "Solving time:\n",
      "31879.910943 seconds (12.75 G allocations: 14.959 TiB, 1.94% gc time)\n",
      "Total time:\n",
      "31951.025698 seconds (13.29 G allocations: 15.039 TiB, 1.97% gc time)\n"
     ]
    },
    {
     "data": {
      "text/plain": [
       "-2.4253975619098034"
      ]
     },
     "execution_count": 12,
     "metadata": {},
     "output_type": "execute_result"
    }
   ],
   "source": [
    "include(\"../src/ctpNCPOP.jl\")\n",
    "using .ctpNCPOP\n",
    "\n",
    "opt_val1=ctpNCPOP.POP_CS_CGAL(n,m,l,lmon_g,supp_g,coe_g,lmon_h,supp_h,coe_h,lmon_f,supp_f,coe_f,dg,dh,k,\n",
    "    maxit=Int64(1e10),tol=1e-3,use_eqcons_to_get_constant_trace=false,check_tol_each_iter=true)"
   ]
  },
  {
   "cell_type": "code",
   "execution_count": 10,
   "metadata": {},
   "outputs": [
    {
     "name": "stdout",
     "output_type": "stream",
     "text": [
      "------------------------------------------------------\n",
      "The clique sizes of varibles:\n",
      "[11, 10]\n",
      "[99, 1]\n",
      "------------------------------------------------------\n",
      "  Number of cliques: p=100\n",
      "  Largest clique size: u=11\n"
     ]
    },
    {
     "name": "stderr",
     "output_type": "stream",
     "text": [
      "WARNING: replacing module ctpNCPOP.\n"
     ]
    },
    {
     "name": "stdout",
     "output_type": "stream",
     "text": [
      "  Largest constant trace: a=2.100000000000001\n",
      "  Number of blocks: omega=1199\n",
      "  Number of equality consraints: zeta=1540\n",
      "  Size of the largest block: s^max=12\n",
      "Mosek:-----------------\n",
      "Problem\n",
      "  Name                   :                 \n",
      "  Objective sense        : min             \n",
      "  Type                   : CONIC (conic optimization problem)\n",
      "  Constraints            : 10428           \n",
      "  Cones                  : 0               \n",
      "  Scalar variables       : 8887            \n",
      "  Matrix variables       : 100             \n",
      "  Integer variables      : 0               \n",
      "\n",
      "Optimizer started.\n",
      "Presolve started.\n",
      "Linear dependency checker started.\n",
      "Linear dependency checker terminated.\n",
      "Eliminator started.\n",
      "Freed constraints in eliminator : 198\n",
      "Eliminator terminated.\n",
      "Eliminator started.\n",
      "Freed constraints in eliminator : 0\n",
      "Eliminator terminated.\n",
      "Eliminator - tries                  : 2                 time                   : 0.00            \n",
      "Lin. dep.  - tries                  : 1                 time                   : 0.00            \n",
      "Lin. dep.  - number                 : 0               \n",
      "Presolve terminated. Time: 0.04    \n",
      "Problem\n",
      "  Name                   :                 \n",
      "  Objective sense        : min             \n",
      "  Type                   : CONIC (conic optimization problem)\n",
      "  Constraints            : 10428           \n",
      "  Cones                  : 0               \n",
      "  Scalar variables       : 8887            \n",
      "  Matrix variables       : 100             \n",
      "  Integer variables      : 0               \n",
      "\n",
      "Optimizer  - threads                : 4               \n",
      "Optimizer  - solved problem         : the primal      \n",
      "Optimizer  - Constraints            : 7931\n",
      "Optimizer  - Cones                  : 1\n",
      "Optimizer  - Scalar variables       : 7491              conic                  : 6491            \n",
      "Optimizer  - Semi-definite variables: 100               scalarized             : 7788            \n",
      "Factor     - setup time             : 0.04              dense det. time        : 0.00            \n",
      "Factor     - ML order time          : 0.01              GP order time          : 0.00            \n",
      "Factor     - nonzeros before factor : 3.27e+05          after factor           : 3.28e+05        \n",
      "Factor     - dense dim.             : 2                 flops                  : 2.02e+07        \n",
      "ITE PFEAS    DFEAS    GFEAS    PRSTATUS   POBJ              DOBJ              MU       TIME  \n",
      "0   1.0e+00  1.0e+00  1.0e+00  0.00e+00   1.370717862e-01   1.370717862e-01   1.0e+00  0.08  \n",
      "1   7.3e-01  7.3e-01  7.0e-01  6.54e+00   -2.634567490e-01  3.753920102e-01   7.3e-01  0.12  \n",
      "2   3.9e-01  3.9e-01  2.2e-01  4.20e+00   -6.033096498e-01  -3.478510228e-01  3.9e-01  0.15  \n",
      "3   2.3e-01  2.3e-01  1.0e-01  2.32e+00   -1.467497231e+00  -1.302835918e+00  2.3e-01  0.19  \n",
      "4   1.1e-01  1.1e-01  3.3e-02  1.44e+00   -2.009803744e+00  -1.933401219e+00  1.1e-01  0.22  \n",
      "5   1.9e-02  1.9e-02  1.9e-03  1.18e+00   -2.374950041e+00  -2.367010817e+00  1.9e-02  0.26  \n",
      "6   2.7e-03  2.7e-03  7.8e-05  1.01e+00   -2.454672576e+00  -2.454054519e+00  2.7e-03  0.29  \n",
      "7   2.7e-04  2.7e-04  1.8e-06  1.00e+00   -2.469067599e+00  -2.469045714e+00  2.7e-04  0.32  \n",
      "8   3.9e-05  3.9e-05  8.6e-08  1.00e+00   -2.470623231e+00  -2.470621822e+00  3.9e-05  0.36  \n",
      "9   6.2e-06  6.2e-06  4.6e-09  1.00e+00   -2.470847914e+00  -2.470847927e+00  6.2e-06  0.39  \n",
      "10  1.1e-06  1.1e-06  2.6e-10  1.00e+00   -2.470884172e+00  -2.470884210e+00  1.1e-06  0.42  \n",
      "11  1.7e-07  1.7e-07  1.1e-11  1.00e+00   -2.470890762e+00  -2.470890773e+00  1.7e-07  0.45  \n",
      "Optimizer terminated. Time: 0.45    \n",
      "\n",
      "OPTIMAL\n",
      "-2.470890762100129\n",
      "-----------------\n",
      "  0.978948 seconds (2.31 M allocations: 184.516 MiB, 9.42% gc time)\n",
      "Total time:\n",
      "  2.565249 seconds (8.29 M allocations: 784.837 MiB, 7.21% gc time)\n"
     ]
    },
    {
     "data": {
      "text/plain": [
       "OPTIMAL::TerminationStatusCode = 1"
      ]
     },
     "execution_count": 10,
     "metadata": {},
     "output_type": "execute_result"
    }
   ],
   "source": [
    "include(\"../src/ctpNCPOP.jl\")\n",
    "using .ctpNCPOP\n",
    "\n",
    "opt_val1=ctpNCPOP.POP_CS_CGAL(n,m,l,lmon_g,supp_g,coe_g,lmon_h,supp_h,coe_h,lmon_f,supp_f,coe_f,dg,dh,k,\n",
    "    maxit=Int64(1e10),tol=5e-3,use_eqcons_to_get_constant_trace=false,check_tol_each_iter=true,check_by_mosek=true)"
   ]
  },
  {
   "cell_type": "code",
   "execution_count": null,
   "metadata": {},
   "outputs": [],
   "source": []
  }
 ],
 "metadata": {
  "kernelspec": {
   "display_name": "Julia 1.3.0",
   "language": "julia",
   "name": "julia-1.3"
  },
  "language_info": {
   "file_extension": ".jl",
   "mimetype": "application/julia",
   "name": "julia",
   "version": "1.3.0"
  }
 },
 "nbformat": 4,
 "nbformat_minor": 2
}
