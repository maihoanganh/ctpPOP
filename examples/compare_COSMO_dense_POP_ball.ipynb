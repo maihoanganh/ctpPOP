{
 "cells": [
  {
   "cell_type": "code",
   "execution_count": 18,
   "metadata": {},
   "outputs": [
    {
     "name": "stdout",
     "output_type": "stream",
     "text": [
      "***Problem setting***\n",
      "Number of variable: n=30\n",
      "====================\n",
      "Number of inequality constraints: m=1\n",
      "====================\n",
      "Number of equality constraints: l=8\n"
     ]
    }
   ],
   "source": [
    "using DynamicPolynomials, LinearAlgebra, SparseArrays\n",
    "\n",
    "println(\"***Problem setting***\")\n",
    "\n",
    "n=30\n",
    "\n",
    "println(\"Number of variable: n=\",n)\n",
    "println(\"====================\")\n",
    "\n",
    "@polyvar x[1:n]# variables\n",
    "\n",
    "function generate_random_poly(v)\n",
    "    c=2*rand(Float64,length(v)).-1\n",
    "    return c'*v\n",
    "end\n",
    "# random quadratic objective function f\n",
    "v=reverse(monomials(x,0:2))\n",
    "f=generate_random_poly(v)\n",
    "\n",
    "\n",
    "# unit sphere constraint\n",
    "m=1\n",
    "q=floor(Int64,n/m)\n",
    "R=ones(Float64,m)./m\n",
    "T=[(j-1)*q+1:j*q for j in 1:m-1]\n",
    "append!(T,[(m-1)*q+1:n])\n",
    "\n",
    "g=[R[j]-sum(x[T[j]].^2) for j in 1:m]\n",
    "\n",
    "m=length(g)\n",
    "println(\"Number of inequality constraints: m=\",m)\n",
    "println(\"====================\")\n",
    "\n",
    "l=ceil(Int64, n/4)\n",
    "\n",
    "h=Vector{Polynomial{true,Float64}}(undef,l)\n",
    "randx=[2*rand(length(T[j])).-1 for j in 1:m]# create a feasible solution\n",
    "randx=[sqrt(R[j])*rand(1)[1]*randx[j]/norm(randx[j]) for j in 1:m]\n",
    "randx=vcat(randx...)\n",
    "\n",
    "for j in 1:l\n",
    "    h[j]=generate_random_poly(v[2:end])\n",
    "    h[j]-=h[j](x => randx) #make constraints feasible\n",
    "end\n",
    "\n",
    "l=length(h)\n",
    "println(\"Number of equality constraints: l=\",l)"
   ]
  },
  {
   "cell_type": "code",
   "execution_count": 19,
   "metadata": {},
   "outputs": [
    {
     "name": "stderr",
     "output_type": "stream",
     "text": [
      "WARNING: replacing module ctpPOP.\n"
     ]
    }
   ],
   "source": [
    "include(\"../src/ctpPOP.jl\")\n",
    "using .ctpPOP\n",
    "\n",
    "n,m,l,lmon_g,supp_g,coe_g,lmon_h,supp_h,coe_h,lmon_f,supp_f,coe_f,dg,dh=ctpPOP.get_info(x,f,g,h,sparse=false);"
   ]
  },
  {
   "cell_type": "code",
   "execution_count": 20,
   "metadata": {},
   "outputs": [
    {
     "name": "stdout",
     "output_type": "stream",
     "text": [
      "Relaxed order: k=2\n"
     ]
    }
   ],
   "source": [
    "k=2\n",
    "println(\"Relaxed order: k=\",k)"
   ]
  },
  {
   "cell_type": "code",
   "execution_count": 21,
   "metadata": {
    "scrolled": true
   },
   "outputs": [
    {
     "name": "stdout",
     "output_type": "stream",
     "text": [
      "  Computing constant trace status: OPTIMAL\n",
      "  Constant trace: ak = 3.0\n",
      "  Number of blocks: omega="
     ]
    },
    {
     "name": "stderr",
     "output_type": "stream",
     "text": [
      "WARNING: replacing module ctpPOP.\n"
     ]
    },
    {
     "name": "stdout",
     "output_type": "stream",
     "text": [
      "2\n",
      "  Size of the largest block: s^max=496\n",
      "  Number of equality trace constraints: zeta=81345\n",
      "Modeling time:\n",
      " 13.547388 seconds (40.77 M allocations: 12.268 GiB, 19.60% gc time)\n",
      "iter=1   val=-7.900665517995127   gap=0.09348850571042829   feas=2.0641031077310745\n",
      "iter=2   val=-5.030201088368732   gap=0.32486988906486797   feas=0.9213830583765027\n",
      "iter=4   val=-4.728668801332295   gap=0.37856002838635305   feas=0.6178990771270882\n",
      "iter=8   val=-4.473712192854633   gap=0.3293872218061929   feas=0.5287384269665354\n",
      "iter=16   val=-4.193311298579527   gap=0.15414313139036356   feas=0.2874524779823411\n",
      "iter=32   val=-4.1168190391458355   gap=0.0012986328879876574   feas=0.08595089324034491\n",
      "iter=64   val=-4.19288027363604   gap=0.008385903157248551   feas=0.020922067037319685\n",
      "iter=128   val=-4.221619067161086   gap=0.0022227774282339396   feas=0.005256420028383287\n",
      "iter=256   val=-4.229167019074469   gap=0.0005120193235030469   feas=0.001283716544546903\n",
      "iter=295   val=-4.229750711237803   gap=0.0006190088106505661   feas=0.0009808273006224949\n",
      "tol satisfies!!!\n",
      "\n",
      "####################################\n",
      "opt_val = -4.229750711237803\n",
      "####################################\n",
      "Solving time:\n",
      "  6.876705 seconds (399.38 k allocations: 2.425 GiB, 5.41% gc time)\n",
      "Total time:\n",
      " 20.424422 seconds (41.17 M allocations: 14.693 GiB, 14.82% gc time)\n"
     ]
    },
    {
     "data": {
      "text/plain": [
       "-4.229750711237803"
      ]
     },
     "execution_count": 21,
     "metadata": {},
     "output_type": "execute_result"
    }
   ],
   "source": [
    "include(\"../src/ctpPOP.jl\")\n",
    "using .ctpPOP\n",
    "\n",
    "opt_val1=ctpPOP.POP_dense_CGAL(n,m,l,lmon_g,supp_g,coe_g,lmon_h,supp_h,coe_h,lmon_f,supp_f,coe_f,dg,dh,k,\n",
    "                         maxit=Int64(1e6),tol=1e-3,\n",
    "                         use_eqcons_to_get_constant_trace=false,\n",
    "                         check_tol_each_iter=true)"
   ]
  },
  {
   "cell_type": "code",
   "execution_count": 22,
   "metadata": {},
   "outputs": [
    {
     "name": "stdout",
     "output_type": "stream",
     "text": [
      "**SumOfSquares+Mosek:\n"
     ]
    },
    {
     "name": "stderr",
     "output_type": "stream",
     "text": [
      "WARNING: replacing module ctpPOP.\n"
     ]
    },
    {
     "name": "stdout",
     "output_type": "stream",
     "text": [
      "------------------------------------------------------------------\n",
      "          COSMO v0.7.7 - A Quadratic Objective Conic Solver\n",
      "                         Michael Garstka\n",
      "                University of Oxford, 2017 - 2020\n",
      "------------------------------------------------------------------\n",
      "\n",
      "Problem:  x ∈ R^{127721},\n",
      "          constraints: A ∈ R^{170128x127721} (2230513 nnz),\n",
      "          matrix size to factor: 297849x297849,\n",
      "          Floating-point precision: Float64\n",
      "Sets:     PsdConeTriangle of dim: 123256\n",
      "          ZeroSet of dim: 46376\n",
      "          PsdConeTriangle of dim: 496\n",
      "Settings: ϵ_abs = 1.0e-04, ϵ_rel = 1.0e-04,\n",
      "          ϵ_prim_inf = 1.0e-06, ϵ_dual_inf = 1.0e-04,\n",
      "          ρ = 0.1, σ = 1e-06, α = 1.6,\n",
      "          max_iter = 2500,\n",
      "          scaling iter = 10 (on),\n",
      "          check termination every 40 iter,\n",
      "          check infeasibility every 40 iter,\n",
      "          KKT system solver: COSMO.QdldlKKTSolver\n",
      "Setup Time: 21463.82ms\n",
      "\n",
      "Iter:\tObjective:\tPrimal Res:\tDual Res:\tRho:\n",
      "1\t-1.7685e+01\t1.6115e+01\t5.9998e-01\t1.0000e-01\n",
      "40\t4.2837e+00\t1.4609e-02\t3.7788e-03\t1.0000e-01\n",
      "80\t4.2546e+00\t1.5138e-03\t1.1624e-03\t1.0000e-01\n",
      "120\t4.2101e+00\t1.2867e-03\t3.8073e-04\t1.0000e-01\n",
      "160\t4.2430e+00\t6.7355e-04\t1.0856e-04\t1.0000e-01\n",
      "200\t4.2271e+00\t2.8579e-04\t2.6077e-05\t1.0000e-01\n",
      "\n",
      "------------------------------------------------------------------\n",
      ">>> Results\n",
      "Status: \u001b[32mSolved\u001b[39m\n",
      "Iterations: 200\n",
      "Optimal objective: 4.227\n",
      "Runtime: 46.902s (46901.61ms)\n",
      "\n",
      "OPTIMAL\n",
      "opt_val=-4.2270929401842725\n",
      " 69.613327 seconds (71.65 M allocations: 8.422 GiB, 6.16% gc time)\n"
     ]
    },
    {
     "data": {
      "text/plain": [
       "-4.2270929401842725"
      ]
     },
     "execution_count": 22,
     "metadata": {},
     "output_type": "execute_result"
    }
   ],
   "source": [
    "include(\"../src/ctpPOP.jl\")\n",
    "using .ctpPOP\n",
    "\n",
    "opt_val2=ctpPOP.POP_dense_SOS(x,f,g,h,k,tol=1e-3,solver=\"COSMO\")"
   ]
  },
  {
   "cell_type": "code",
   "execution_count": 15,
   "metadata": {},
   "outputs": [
    {
     "name": "stdout",
     "output_type": "stream",
     "text": [
      "**SumOfSquares+Mosek:\n"
     ]
    },
    {
     "name": "stderr",
     "output_type": "stream",
     "text": [
      "WARNING: replacing module ctpPOP.\n"
     ]
    },
    {
     "name": "stdout",
     "output_type": "stream",
     "text": [
      "Problem\n",
      "  Name                   :                 \n",
      "  Objective sense        : max             \n",
      "  Type                   : CONIC (conic optimization problem)\n",
      "  Constraints            : 10626           \n",
      "  Cones                  : 0               \n",
      "  Scalar variables       : 1156            \n",
      "  Matrix variables       : 2               \n",
      "  Integer variables      : 0               \n",
      "\n",
      "Optimizer started.\n",
      "Presolve started.\n",
      "Linear dependency checker started.\n",
      "Linear dependency checker terminated.\n",
      "Eliminator started.\n",
      "Freed constraints in eliminator : 0\n",
      "Eliminator terminated.\n",
      "Eliminator - tries                  : 1                 time                   : 0.00            \n",
      "Lin. dep.  - tries                  : 1                 time                   : 0.00            \n",
      "Lin. dep.  - number                 : 0               \n",
      "Presolve terminated. Time: 0.03    \n",
      "Problem\n",
      "  Name                   :                 \n",
      "  Objective sense        : max             \n",
      "  Type                   : CONIC (conic optimization problem)\n",
      "  Constraints            : 10626           \n",
      "  Cones                  : 0               \n",
      "  Scalar variables       : 1156            \n",
      "  Matrix variables       : 2               \n",
      "  Integer variables      : 0               \n",
      "\n",
      "Optimizer  - threads                : 4               \n",
      "Optimizer  - solved problem         : the primal      \n",
      "Optimizer  - Constraints            : 10626\n",
      "Optimizer  - Cones                  : 1\n",
      "Optimizer  - Scalar variables       : 1157              conic                  : 1157            \n",
      "Optimizer  - Semi-definite variables: 2                 scalarized             : 27027           \n",
      "Factor     - setup time             : 14.71             dense det. time        : 0.00            \n",
      "Factor     - ML order time          : 10.29             GP order time          : 0.00            \n",
      "Factor     - nonzeros before factor : 5.65e+07          after factor           : 5.65e+07        \n",
      "Factor     - dense dim.             : 2                 flops                  : 4.02e+11        \n",
      "ITE PFEAS    DFEAS    GFEAS    PRSTATUS   POBJ              DOBJ              MU       TIME  \n",
      "0   2.4e+00  1.0e+00  1.0e+00  0.00e+00   0.000000000e+00   0.000000000e+00   1.0e+00  14.79 \n",
      "1   3.3e-01  1.3e-01  1.9e-01  -8.27e-01  -6.849678175e+00  -8.513095494e+00  1.3e-01  26.48 \n",
      "2   7.1e-02  2.9e-02  9.3e-03  6.16e-01   -3.611335845e+00  -3.677148889e+00  2.9e-02  38.07 \n",
      "3   9.5e-03  3.9e-03  4.8e-04  1.10e+00   -3.613024446e+00  -3.622897356e+00  3.9e-03  48.69 \n",
      "4   6.4e-05  2.6e-05  1.2e-07  9.95e-01   -3.622670128e+00  -3.622660384e+00  2.6e-05  60.85 \n",
      "5   1.0e-08  4.2e-09  2.5e-13  1.00e+00   -3.622679152e+00  -3.622679150e+00  4.2e-09  73.05 \n",
      "Optimizer terminated. Time: 73.08   \n",
      "\n",
      "OPTIMAL\n",
      "opt_val=-3.6226791519503188\n",
      " 76.200795 seconds (12.42 M allocations: 1.327 GiB, 1.36% gc time)\n"
     ]
    },
    {
     "data": {
      "text/plain": [
       "-3.6226791519503188"
      ]
     },
     "execution_count": 15,
     "metadata": {},
     "output_type": "execute_result"
    }
   ],
   "source": [
    "include(\"../src/ctpPOP.jl\")\n",
    "using .ctpPOP\n",
    "\n",
    "opt_val2=ctpPOP.POP_dense_SOS(x,f,g,h,k,tol=1e-3)"
   ]
  },
  {
   "cell_type": "code",
   "execution_count": 23,
   "metadata": {},
   "outputs": [
    {
     "name": "stdout",
     "output_type": "stream",
     "text": [
      "  Computing constant trace status: OPTIMAL\n",
      "  Constant trace: ak = 3.0\n",
      "  Number of blocks: omega="
     ]
    },
    {
     "name": "stderr",
     "output_type": "stream",
     "text": [
      "WARNING: replacing module ctpPOP.\n"
     ]
    },
    {
     "name": "stdout",
     "output_type": "stream",
     "text": [
      "2\n",
      "  Size of the largest block: s^max=496\n",
      "  Number of equality trace constraints: zeta=81345\n",
      "Modeling time:\n",
      " 12.076548 seconds (40.77 M allocations: 12.268 GiB, 18.96% gc time)\n",
      "---------------\n",
      "| Parameters: |\n",
      "---------------\n",
      "n:       81345\n",
      "maxtime: 300000.000000\n",
      "na:      2\n",
      "mcu:     5\n",
      "mc:      7\n",
      "rpar: \n",
      "ipar: \n",
      " Warning: MC > MCU. Assigned MC = MCU.\n",
      " Entry to LMBM:\n",
      " NIT=    1  NFE=    1  F= 0.30493505D+00  WK= 0.2299D+00  QK= 0.1149D+00\n",
      " NIT=    2  NFE=    2  F= 0.26010729D+00  WK= 0.9699D-01  QK= 0.7931D-01\n",
      " NIT=    3  NFE=    3  F= 0.24689012D+00  WK= 0.3451D-01  QK= 0.3197D-01\n",
      " NIT=    4  NFE=    4  F= 0.21436501D+00  WK= 0.3702D+00  QK= 0.2731D-01\n",
      " Warning: A nondescent search direction occured. Restart.\n",
      " NIT=    5  NFE=    5  F= 0.21436501D+00  WK= 0.5461D-01  QK= 0.2731D-01\n",
      " NIT=    6  NFE=    6  F= 0.21436501D+00  WK= 0.4581D-01  QK= 0.2333D-01\n",
      " NIT=    7  NFE=    7  F= 0.20302516D+00  WK= 0.1675D-01  QK= 0.8757D-01\n",
      " NIT=    8  NFE=    8  F= 0.20302516D+00  WK= 0.9811D-02  QK= 0.5842D-01\n",
      " NIT=    9  NFE=   10  F= 0.20256915D+00  WK= 0.1404D-01  QK= 0.1246D+00\n",
      " NIT=   10  NFE=   11  F= 0.19783026D+00  WK= 0.9107D-02  QK= 0.8643D-01\n",
      " NIT=   11  NFE=   12  F= 0.19126322D+00  WK= 0.6678D-02  QK= 0.3307D-01\n",
      " NIT=   12  NFE=   13  F= 0.18703436D+00  WK= 0.6766D-02  QK= 0.3156D-01\n",
      " NIT=   13  NFE=   14  F= 0.18427532D+00  WK= 0.5099D-02  QK= 0.2165D-01\n",
      " NIT=   14  NFE=   15  F= 0.18330800D+00  WK= 0.7168D-02  QK= 0.6261D-01\n",
      " NIT=   15  NFE=   16  F= 0.17976370D+00  WK= 0.2421D-02  QK= 0.1546D-01\n",
      " NIT=   16  NFE=   17  F= 0.17816787D+00  WK= 0.4807D-02  QK= 0.1264D-01\n",
      " NIT=   17  NFE=   18  F= 0.17816787D+00  WK= 0.1419D-01  QK= 0.9791D-02\n",
      " NIT=   18  NFE=   20  F= 0.17641005D+00  WK= 0.8538D-02  QK= 0.1061D+00\n",
      " NIT=   19  NFE=   21  F= 0.17273045D+00  WK= 0.3701D-02  QK= 0.1820D-01\n",
      " NIT=   20  NFE=   22  F= 0.17199865D+00  WK= 0.3584D-02  QK= 0.2857D-01\n",
      " NIT=   21  NFE=   23  F= 0.16901409D+00  WK= 0.6618D-02  QK= 0.2271D-01\n",
      " NIT=   22  NFE=   24  F= 0.16807867D+00  WK= 0.6557D-02  QK= 0.1274D+00\n",
      " NIT=   23  NFE=   25  F= 0.16732260D+00  WK= 0.5472D-02  QK= 0.4677D-01\n",
      " NIT=   24  NFE=   26  F= 0.16732260D+00  WK= 0.1918D-01  QK= 0.3602D-01\n",
      " NIT=   25  NFE=   29  F= 0.16643886D+00  WK= 0.2467D-02  QK= 0.1413D-01\n",
      " NIT=   26  NFE=   30  F= 0.16476643D+00  WK= 0.3363D-02  QK= 0.1428D-01\n",
      " NIT=   27  NFE=   31  F= 0.16476643D+00  WK= 0.2125D-01  QK= 0.1233D-01\n",
      " NIT=   28  NFE=   36  F= 0.16446622D+00  WK= 0.1808D-02  QK= 0.1594D-01\n",
      " NIT=   29  NFE=   37  F= 0.16287065D+00  WK= 0.6486D-02  QK= 0.9618D-02\n",
      " NIT=   30  NFE=   38  F= 0.16287065D+00  WK= 0.8300D-02  QK= 0.9002D-02\n",
      " NIT=   31  NFE=   41  F= 0.16266458D+00  WK= 0.3641D-02  QK= 0.3143D-01\n",
      " NIT=   32  NFE=   42  F= 0.16022382D+00  WK= 0.7147D-02  QK= 0.6693D-01\n",
      " NIT=   33  NFE=   43  F= 0.16022382D+00  WK= 0.3459D-01  QK= 0.4915D-01\n",
      " NIT=   34  NFE=   48  F= 0.16011423D+00  WK= 0.1565D-02  QK= 0.3776D-01\n",
      " NIT=   35  NFE=   49  F= 0.16000303D+00  WK= 0.6732D-03  QK= 0.8458D-02\n",
      " NIT=   36  NFE=   50  F= 0.15982368D+00  WK= 0.1122D-02  QK= 0.1819D-01\n",
      " NIT=   37  NFE=   51  F= 0.15892574D+00  WK= 0.8562D-03  QK= 0.5329D-02\n",
      " NIT=   38  NFE=   52  F= 0.15892574D+00  WK= 0.9058D-02  QK= 0.5120D-02\n",
      " NIT=   39  NFE=   55  F= 0.15776264D+00  WK= 0.2121D-02  QK= 0.1044D+00\n",
      " NIT=   40  NFE=   56  F= 0.15776264D+00  WK= 0.5209D-02  QK= 0.6492D-01\n",
      " NIT=   41  NFE=  100  F= 0.15776264D+00  WK= 0.4796D-02  QK= 0.5860D-01\n",
      " NIT=   42  NFE=  145  F= 0.15776264D+00  WK= 0.4495D-02  QK= 0.1044D+00\n",
      " NIT=   43  NFE=  190  F= 0.15776264D+00  WK= 0.4456D-02  QK= 0.1043D+00\n",
      " NIT=   44  NFE=  204  F= 0.15579915D+00  WK= 0.7389D-03  QK= 0.1256D+00\n",
      " NIT=   45  NFE=  249  F= 0.15579915D+00  WK= 0.5543D-02  QK= 0.1256D+00\n",
      " NIT=   46  NFE=  274  F= 0.15575837D+00  WK= 0.3300D+00  QK= 0.1270D+00\n",
      " NIT=   47  NFE=  275  F= 0.15575837D+00  WK= 0.1784D+00  QK= 0.1710D+00\n",
      " NIT=   48  NFE=  293  F= 0.15543625D+00  WK= 0.1342D-02  QK= 0.8473D-01\n",
      " Warning: A nondescent search direction occured. Restart.\n",
      " NIT=   49  NFE=  294  F= 0.15543625D+00  WK= 0.1695D+00  QK= 0.8473D-01\n",
      " NIT=   50  NFE=  295  F= 0.15543625D+00  WK= 0.1030D+00  QK= 0.5250D-01\n",
      " NIT=   51  NFE=  340  F= 0.15543625D+00  WK= 0.5891D-01  QK= 0.3339D-01\n",
      " NIT=   52  NFE=  385  F= 0.15543625D+00  WK= 0.4805D-01  QK= 0.8473D-01\n",
      " NIT=   53  NFE=  430  F= 0.15543625D+00  WK= 0.4805D-01  QK= 0.8473D-01\n",
      " NIT=   54  NFE=  475  F= 0.15543625D+00  WK= 0.4805D-01  QK= 0.8473D-01\n",
      " NIT=   55  NFE=  520  F= 0.15543625D+00  WK= 0.4805D-01  QK= 0.8473D-01\n",
      " NIT=   56  NFE=  565  F= 0.15543625D+00  WK= 0.2283D-01  QK= 0.8473D-01\n",
      " NIT=   57  NFE=  610  F= 0.15543625D+00  WK= 0.2282D-01  QK= 0.8473D-01\n",
      " NIT=   58  NFE=  655  F= 0.15543625D+00  WK= 0.2204D-01  QK= 0.8473D-01\n",
      " NIT=   59  NFE=  700  F= 0.15543625D+00  WK= 0.2204D-01  QK= 0.8473D-01\n",
      " NIT=   60  NFE=  745  F= 0.15543625D+00  WK= 0.2204D-01  QK= 0.8473D-01\n",
      " NIT=   61  NFE=  790  F= 0.15543625D+00  WK= 0.2204D-01  QK= 0.8473D-01\n",
      " NIT=   62  NFE=  835  F= 0.15543625D+00  WK= 0.2204D-01  QK= 0.8473D-01\n",
      " NIT=   63  NFE=  880  F= 0.15543625D+00  WK= 0.2204D-01  QK= 0.8473D-01\n",
      " NIT=   64  NFE=  925  F= 0.15543625D+00  WK= 0.2204D-01  QK= 0.8473D-01\n",
      " NIT=   65  NFE=  970  F= 0.15543625D+00  WK= 0.2204D-01  QK= 0.8448D-01\n",
      " NIT=   66  NFE= 1015  F= 0.15543625D+00  WK= 0.2204D-01  QK= 0.8448D-01\n",
      " NIT=   67  NFE= 1060  F= 0.15543625D+00  WK= 0.2204D-01  QK= 0.8448D-01\n",
      " NIT=   68  NFE= 1105  F= 0.15543625D+00  WK= 0.2190D-01  QK= 0.8092D-01\n",
      " NIT=   69  NFE= 1150  F= 0.15543625D+00  WK= 0.2190D-01  QK= 0.8092D-01\n",
      " NIT=   70  NFE= 1195  F= 0.15543625D+00  WK= 0.2190D-01  QK= 0.8092D-01\n",
      " NIT=   71  NFE= 1240  F= 0.15543625D+00  WK= 0.2190D-01  QK= 0.8092D-01\n",
      " NIT=   72  NFE= 1285  F= 0.15543625D+00  WK= 0.1929D-01  QK= 0.8092D-01\n",
      " NIT=   73  NFE= 1330  F= 0.15543625D+00  WK= 0.1717D-01  QK= 0.8473D-01\n",
      " NIT=   74  NFE= 1375  F= 0.15543625D+00  WK= 0.1717D-01  QK= 0.8473D-01\n",
      " NIT=   75  NFE= 1420  F= 0.15543625D+00  WK= 0.1717D-01  QK= 0.8473D-01\n",
      " NIT=   76  NFE= 1465  F= 0.15543625D+00  WK= 0.1717D-01  QK= 0.8473D-01\n",
      " NIT=   77  NFE= 1510  F= 0.15543625D+00  WK= 0.1717D-01  QK= 0.8473D-01\n",
      " NIT=   78  NFE= 1555  F= 0.15543625D+00  WK= 0.1717D-01  QK= 0.8473D-01\n",
      " NIT=   79  NFE= 1600  F= 0.15543625D+00  WK= 0.1491D-01  QK= 0.3514D-01\n",
      " NIT=   80  NFE= 1645  F= 0.15543625D+00  WK= 0.1491D-01  QK= 0.3514D-01\n",
      " NIT=   81  NFE= 1690  F= 0.15543625D+00  WK= 0.1491D-01  QK= 0.3514D-01\n",
      " NIT=   82  NFE= 1735  F= 0.15543625D+00  WK= 0.1491D-01  QK= 0.3514D-01\n",
      " NIT=   83  NFE= 1780  F= 0.15543625D+00  WK= 0.1491D-01  QK= 0.3514D-01\n",
      " NIT=   84  NFE= 1825  F= 0.15543625D+00  WK= 0.1491D-01  QK= 0.3514D-01\n",
      " NIT=   85  NFE= 1870  F= 0.15543625D+00  WK= 0.1491D-01  QK= 0.3514D-01\n",
      " NIT=   86  NFE= 1915  F= 0.15543625D+00  WK= 0.1491D-01  QK= 0.3514D-01\n",
      " NIT=   87  NFE= 1960  F= 0.15543625D+00  WK= 0.1491D-01  QK= 0.3514D-01\n",
      " NIT=   88  NFE= 2005  F= 0.15543625D+00  WK= 0.1491D-01  QK= 0.3514D-01\n",
      " NIT=   89  NFE= 2050  F= 0.15543625D+00  WK= 0.1491D-01  QK= 0.3514D-01\n",
      " NIT=   90  NFE= 2095  F= 0.15543625D+00  WK= 0.1491D-01  QK= 0.3514D-01\n",
      " NIT=   91  NFE= 2140  F= 0.15543625D+00  WK= 0.1491D-01  QK= 0.3514D-01\n",
      " NIT=   92  NFE= 2185  F= 0.15543625D+00  WK= 0.1491D-01  QK= 0.3514D-01\n",
      " NIT=   93  NFE= 2230  F= 0.15543625D+00  WK= 0.1491D-01  QK= 0.3514D-01\n",
      " NIT=   94  NFE= 2275  F= 0.15543625D+00  WK= 0.1491D-01  QK= 0.3514D-01\n",
      " NIT=   95  NFE= 2320  F= 0.15543625D+00  WK= 0.1491D-01  QK= 0.3514D-01\n",
      " NIT=   96  NFE= 2365  F= 0.15543625D+00  WK= 0.1491D-01  QK= 0.3514D-01\n",
      " NIT=   97  NFE= 2410  F= 0.15543625D+00  WK= 0.1491D-01  QK= 0.3514D-01\n",
      " NIT=   98  NFE= 2455  F= 0.15543625D+00  WK= 0.1491D-01  QK= 0.3514D-01\n",
      " NIT=   99  NFE= 2500  F= 0.15543625D+00  WK= 0.1491D-01  QK= 0.3514D-01\n",
      " NIT=  100  NFE= 2545  F= 0.15543625D+00  WK= 0.1491D-01  QK= 0.3514D-01\n",
      " Exit from LMBM:\n",
      " Abnormal exit: Failure in attaining the demanded accuracy.\n",
      " NIT=  101  NFE= 2590  F= 0.15543625D+00  WK= 0.1491D-01  QK= 0.3514D-01  ITERM= -4\n",
      "-----------\n",
      "| Output: |\n",
      "-----------\n",
      "Termination:     -4\n",
      "N. iter.:        101\n",
      "N. func. eval.:  2590\n",
      "Final value:     0.155436\n",
      "Execution time:  184.104492\n",
      "\n",
      "####################################\n",
      "opt_val = -4.2363647917523055\n",
      "####################################\n",
      "Solving time:\n",
      " 65.413580 seconds (3.83 M allocations: 101.468 GiB, 7.19% gc time)\n",
      "Total time:\n",
      " 77.490432 seconds (44.61 M allocations: 113.736 GiB, 9.02% gc time)\n"
     ]
    },
    {
     "data": {
      "text/plain": [
       "-4.2363647917523055"
      ]
     },
     "execution_count": 23,
     "metadata": {},
     "output_type": "execute_result"
    }
   ],
   "source": [
    "include(\"../src/ctpPOP.jl\")\n",
    "using .ctpPOP\n",
    "\n",
    "opt_val=ctpPOP.POP_dense_LMBM(n,m,l,lmon_g,supp_g,coe_g,lmon_h,supp_h,coe_h,lmon_f,supp_f,coe_f,dg,dh,k,\n",
    "                         tol=1e-3,use_eqcons_to_get_constant_trace=false)"
   ]
  },
  {
   "cell_type": "code",
   "execution_count": 24,
   "metadata": {},
   "outputs": [
    {
     "name": "stdout",
     "output_type": "stream",
     "text": [
      "This is Ipopt version 3.13.2, running with linear solver mumps.\n",
      "NOTE: Other linear solvers might be more efficient (see Ipopt documentation).\n",
      "\n",
      "Number of nonzeros in equality constraint Jacobian...:     7440\n",
      "Number of nonzeros in inequality constraint Jacobian.:       30\n",
      "Number of nonzeros in Lagrangian Hessian.............:     4215\n",
      "\n",
      "Total number of variables............................:       30\n",
      "                     variables with only lower bounds:        0\n",
      "                variables with lower and upper bounds:        0\n",
      "                     variables with only upper bounds:        0\n",
      "Total number of equality constraints.................:        8\n",
      "Total number of inequality constraints...............:        1\n",
      "        inequality constraints with only lower bounds:        1\n",
      "   inequality constraints with lower and upper bounds:        0\n",
      "        inequality constraints with only upper bounds:        0\n",
      "\n",
      "iter    objective    inf_pr   inf_du lg(mu)  ||d||  lg(rg) alpha_du alpha_pr  ls\n",
      "   0 -8.1717775e-02 8.91e-02 1.05e+00  -1.0 0.00e+00    -  0.00e+00 0.00e+00   0\n",
      "   1 -1.7027842e-01 2.56e-03 2.26e+00  -1.0 2.21e-02   2.0 1.00e+00 1.00e+00h  1\n",
      "   2 -4.1522329e-01 3.40e-03 1.13e+00  -1.0 3.26e-02   1.5 1.00e+00 1.00e+00f  1\n",
      "   3 -1.3904028e+00 4.97e-02 1.44e+00  -1.0 1.48e-01   1.0 1.00e+00 1.00e+00f  1\n",
      "   4 -7.2304731e+00 1.19e+00 2.88e+00  -1.0 7.76e-01   0.6 1.00e+00 1.00e+00f  1\n",
      "   5 -7.3689428e+00 1.21e+00 1.52e+00  -1.0 1.53e+00    -  1.00e+00 9.33e-02h  1\n",
      "   6 -4.7643611e+00 2.55e-01 3.31e-01  -1.0 2.12e-01    -  1.00e+00 1.00e+00h  1\n",
      "   7 -4.2840906e+00 3.19e-02 3.77e-02  -1.7 7.94e-02    -  1.00e+00 1.00e+00h  1\n",
      "   8 -4.2300743e+00 5.97e-04 7.09e-04  -2.5 9.52e-03    -  1.00e+00 1.00e+00h  1\n",
      "   9 -4.2316451e+00 1.37e-07 1.68e-07  -3.8 8.92e-04    -  1.00e+00 1.00e+00h  1\n",
      "iter    objective    inf_pr   inf_du lg(mu)  ||d||  lg(rg) alpha_du alpha_pr  ls\n",
      "  10 -4.2317935e+00 5.00e-10 4.01e-10  -5.7 4.93e-05    -  1.00e+00 1.00e+00h  1\n",
      "  11 -4.2317954e+00 7.71e-14 6.17e-14  -8.6 6.11e-07    -  1.00e+00 1.00e+00h  1\n",
      "\n",
      "Number of Iterations....: 11\n",
      "\n",
      "                                   (scaled)                 (unscaled)\n",
      "Objective...............:  -4.2317953512710789e+00   -4.2317953512710789e+00\n",
      "Dual infeasibility......:   6.1728400169158704e-14    6.1728400169158704e-14\n",
      "Constraint violation....:   7.7098050166313215e-14    7.7098050166313215e-14\n",
      "Complementarity.........:   2.5060562216760686e-09    2.5060562216760686e-09\n",
      "Overall NLP error.......:   2.5060562216760686e-09    2.5060562216760686e-09\n",
      "\n",
      "\n",
      "Number of objective function evaluations             = 12\n",
      "Number of objective gradient evaluations             = 12\n",
      "Number of equality constraint evaluations            = 12\n",
      "Number of inequality constraint evaluations          = 12\n",
      "Number of equality constraint Jacobian evaluations   = 12\n",
      "Number of inequality constraint Jacobian evaluations = 12\n",
      "Number of Lagrangian Hessian evaluations             = 11\n",
      "Total CPU secs in IPOPT (w/o function evaluations)   =      0.017\n",
      "Total CPU secs in NLP function evaluations           =      0.001\n",
      "\n",
      "EXIT: Optimal Solution Found.\n",
      "LOCALLY_SOLVED\n",
      "opt_val=-4.231795351271079\n",
      "  0.066027 seconds (191.69 k allocations: 85.579 MiB, 25.21% gc time)\n"
     ]
    },
    {
     "name": "stderr",
     "output_type": "stream",
     "text": [
      "WARNING: replacing module ctpPOP.\n"
     ]
    },
    {
     "data": {
      "text/plain": [
       "-4.231795351271079"
      ]
     },
     "execution_count": 24,
     "metadata": {},
     "output_type": "execute_result"
    }
   ],
   "source": [
    "include(\"../src/ctpPOP.jl\")\n",
    "using .ctpPOP\n",
    "\n",
    "optval=ctpPOP.POP_NLP(n,m,l,lmon_g,supp_g,coe_g,lmon_h,supp_h,coe_h,lmon_f,supp_f,coe_f)"
   ]
  },
  {
   "cell_type": "code",
   "execution_count": null,
   "metadata": {},
   "outputs": [],
   "source": []
  }
 ],
 "metadata": {
  "kernelspec": {
   "display_name": "Julia 1.3.0",
   "language": "julia",
   "name": "julia-1.3"
  },
  "language_info": {
   "file_extension": ".jl",
   "mimetype": "application/julia",
   "name": "julia",
   "version": "1.3.0"
  }
 },
 "nbformat": 4,
 "nbformat_minor": 2
}
