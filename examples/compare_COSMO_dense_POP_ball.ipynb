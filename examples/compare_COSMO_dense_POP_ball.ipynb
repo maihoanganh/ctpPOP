{
 "cells": [
  {
   "cell_type": "code",
   "execution_count": 17,
   "metadata": {},
   "outputs": [
    {
     "name": "stdout",
     "output_type": "stream",
     "text": [
      "***Problem setting***\n",
      "Number of variable: n=10\n",
      "====================\n",
      "Number of inequality constraints: m=1\n",
      "====================\n",
      "Number of equality constraints: l=3\n"
     ]
    }
   ],
   "source": [
    "using DynamicPolynomials, LinearAlgebra, SparseArrays\n",
    "\n",
    "println(\"***Problem setting***\")\n",
    "\n",
    "n=10\n",
    "\n",
    "println(\"Number of variable: n=\",n)\n",
    "println(\"====================\")\n",
    "\n",
    "@polyvar x[1:n]# variables\n",
    "\n",
    "function generate_random_poly(v)\n",
    "    c=2*rand(Float64,length(v)).-1\n",
    "    return c'*v\n",
    "end\n",
    "# random quadratic objective function f\n",
    "v=reverse(monomials(x,0:2))\n",
    "f=generate_random_poly(v)\n",
    "\n",
    "\n",
    "# unit sphere constraint\n",
    "m=1\n",
    "q=floor(Int64,n/m)\n",
    "R=ones(Float64,m)./m\n",
    "T=[(j-1)*q+1:j*q for j in 1:m-1]\n",
    "append!(T,[(m-1)*q+1:n])\n",
    "\n",
    "g=[R[j]-sum(x[T[j]].^2) for j in 1:m]\n",
    "\n",
    "m=length(g)\n",
    "println(\"Number of inequality constraints: m=\",m)\n",
    "println(\"====================\")\n",
    "\n",
    "l=ceil(Int64, n/4)\n",
    "\n",
    "h=Vector{Polynomial{true,Float64}}(undef,l)\n",
    "randx=[2*rand(length(T[j])).-1 for j in 1:m]# create a feasible solution\n",
    "randx=[sqrt(R[j])*rand(1)[1]*randx[j]/norm(randx[j]) for j in 1:m]\n",
    "randx=vcat(randx...)\n",
    "\n",
    "for j in 1:l\n",
    "    h[j]=generate_random_poly(v[2:end])\n",
    "    h[j]-=h[j](x => randx) #make constraints feasible\n",
    "end\n",
    "\n",
    "l=length(h)\n",
    "println(\"Number of equality constraints: l=\",l)"
   ]
  },
  {
   "cell_type": "code",
   "execution_count": 18,
   "metadata": {},
   "outputs": [],
   "source": [
    "using ctpPOP\n",
    "\n",
    "n,m,l,lmon_g,supp_g,coe_g,lmon_h,supp_h,coe_h,lmon_f,supp_f,coe_f,dg,dh=ctpPOP.get_info(x,f,g,h,sparse=false);"
   ]
  },
  {
   "cell_type": "code",
   "execution_count": 19,
   "metadata": {},
   "outputs": [
    {
     "name": "stdout",
     "output_type": "stream",
     "text": [
      "Relaxed order: k=2\n"
     ]
    }
   ],
   "source": [
    "k=2\n",
    "println(\"Relaxed order: k=\",k)"
   ]
  },
  {
   "cell_type": "code",
   "execution_count": 20,
   "metadata": {
    "scrolled": true
   },
   "outputs": [
    {
     "name": "stdout",
     "output_type": "stream",
     "text": [
      "  Computing constant trace status: OPTIMAL\n",
      "  Constant trace: ak = 3.0\n",
      "  Number of blocks: omega=2\n",
      "  Size of the largest block: s^max=66\n",
      "  Number of equality trace constraints: zeta=1475\n",
      "Modeling time:\n",
      "  0.034725 seconds (230.28 k allocations: 36.885 MiB)\n",
      "iter=1   val=-5.1438145735103085   gap=0.13392373806623314   feas=1.5554622393554598\n",
      "iter=2   val=-4.554779830050489   gap=0.055535463090615154   feas=2.2785705436474717\n",
      "iter=4   val=-4.345551109938705   gap=0.07990995853423845   feas=0.9517370047110756\n",
      "iter=8   val=-3.882036150373605   gap=0.09463608912697387   feas=0.4459987414595269\n",
      "iter=16   val=-3.507069475793741   gap=0.05749740606316268   feas=0.19013253778444772\n",
      "iter=32   val=-3.3268449127788378   gap=0.00033254349377307096   feas=0.04313230894953597\n",
      "iter=64   val=-3.3133066558000017   gap=0.0021869881631441873   feas=0.009930600117558298\n",
      "iter=128   val=-3.323974027631761   gap=0.00039537223180624413   feas=0.0021102318540401044\n",
      "iter=181   val=-3.324152530480419   gap=0.0002388658692088758   feas=0.0009986372874123035\n",
      "tol satisfies!!!\n",
      "\n",
      "####################################\n",
      "opt_val = -3.324152530480419\n",
      "####################################\n",
      "Solving time:\n",
      "  0.090661 seconds (77.17 k allocations: 38.734 MiB)\n",
      "Total time:\n",
      "  0.125579 seconds (307.97 k allocations: 75.630 MiB)\n"
     ]
    },
    {
     "data": {
      "text/plain": [
       "-3.324152530480419"
      ]
     },
     "execution_count": 20,
     "metadata": {},
     "output_type": "execute_result"
    }
   ],
   "source": [
    "using ctpPOP\n",
    "\n",
    "opt_val1=ctpPOP.POP_dense_CGAL(n,m,l,lmon_g,supp_g,coe_g,lmon_h,supp_h,coe_h,lmon_f,supp_f,coe_f,dg,dh,k,\n",
    "                         maxit=Int64(1e6),tol=1e-3,\n",
    "                         use_eqcons_to_get_constant_trace=false,\n",
    "                         check_tol_each_iter=true)"
   ]
  },
  {
   "cell_type": "code",
   "execution_count": 21,
   "metadata": {},
   "outputs": [
    {
     "name": "stdout",
     "output_type": "stream",
     "text": [
      "------------------------------------------------------------------\n",
      "          COSMO v0.7.8 - A Quadratic Objective Conic Solver\n",
      "                         Michael Garstka\n",
      "                University of Oxford, 2017 - 2020\n",
      "------------------------------------------------------------------\n",
      "\n",
      "Problem:  x ∈ R^{2476},\n",
      "          constraints: A ∈ R^{3278x2476} (18283 nnz),\n",
      "          matrix size to factor: 5754x5754,\n",
      "          Floating-point precision: Float64\n",
      "Sets:     PsdConeTriangle of dim: 2211\n",
      "          ZeroSet of dim: 1001\n",
      "          PsdConeTriangle of dim: 66\n",
      "Settings: ϵ_abs = 1.0e-04, ϵ_rel = 1.0e-04,\n",
      "          ϵ_prim_inf = 1.0e-06, ϵ_dual_inf = 1.0e-04,\n",
      "          ρ = 0.1, σ = 1e-06, α = 1.6,\n",
      "          max_iter = 2500,\n",
      "          scaling iter = 10 (on),\n",
      "          check termination every 40 iter,\n",
      "          check infeasibility every 40 iter,\n",
      "          KKT system solver: COSMO.QdldlKKTSolver\n",
      "Setup Time: 6.74ms\n",
      "\n",
      "Iter:\tObjective:\tPrimal Res:\tDual Res:\tRho:\n",
      "1\t-1.8936e+01\t1.6011e+01\t5.9998e-01\t1.0000e-01\n",
      "40\t3.2313e+00\t2.7162e-02\t1.4935e-03\t1.0000e-01\n",
      "80\t3.2387e+00\t2.5147e-02\t5.7072e-05\t1.0000e-01\n",
      "120\t3.3257e+00\t5.0161e-05\t6.1345e-05\t1.6322e+00\n",
      "\n",
      "------------------------------------------------------------------\n",
      ">>> Results\n",
      "Status: \u001b[32mSolved\u001b[39m\n",
      "Iterations: 120\n",
      "Optimal objective: 3.326\n",
      "Runtime: 0.14s (140.38ms)\n",
      "\n",
      "OPTIMAL\n",
      "opt_val=-3.325693372276687\n",
      "  0.246362 seconds (790.33 k allocations: 97.272 MiB, 9.99% gc time)\n"
     ]
    },
    {
     "data": {
      "text/plain": [
       "-3.325693372276687"
      ]
     },
     "execution_count": 21,
     "metadata": {},
     "output_type": "execute_result"
    }
   ],
   "source": [
    "using ctpPOP\n",
    "\n",
    "opt_val2=ctpPOP.POP_dense_SOS(x,f,g,h,k,tol=1e-3,solver=\"COSMO\")"
   ]
  },
  {
   "cell_type": "code",
   "execution_count": 22,
   "metadata": {},
   "outputs": [
    {
     "name": "stdout",
     "output_type": "stream",
     "text": [
      "Problem\n",
      "  Name                   :                 \n",
      "  Objective sense        : max             \n",
      "  Type                   : CONIC (conic optimization problem)\n",
      "  Constraints            : 1001            \n",
      "  Cones                  : 0               \n",
      "  Scalar variables       : 199             \n",
      "  Matrix variables       : 2               \n",
      "  Integer variables      : 0               \n",
      "\n",
      "Optimizer started.\n",
      "Presolve started.\n",
      "Linear dependency checker started.\n",
      "Linear dependency checker terminated.\n",
      "Eliminator started.\n",
      "Freed constraints in eliminator : 0\n",
      "Eliminator terminated.\n",
      "Eliminator - tries                  : 1                 time                   : 0.00            \n",
      "Lin. dep.  - tries                  : 1                 time                   : 0.00            \n",
      "Lin. dep.  - number                 : 0               \n",
      "Presolve terminated. Time: 0.00    \n",
      "Problem\n",
      "  Name                   :                 \n",
      "  Objective sense        : max             \n",
      "  Type                   : CONIC (conic optimization problem)\n",
      "  Constraints            : 1001            \n",
      "  Cones                  : 0               \n",
      "  Scalar variables       : 199             \n",
      "  Matrix variables       : 2               \n",
      "  Integer variables      : 0               \n",
      "\n",
      "Optimizer  - threads                : 4               \n",
      "Optimizer  - solved problem         : the primal      \n",
      "Optimizer  - Constraints            : 1001\n",
      "Optimizer  - Cones                  : 1\n",
      "Optimizer  - Scalar variables       : 200               conic                  : 200             \n",
      "Optimizer  - Semi-definite variables: 2                 scalarized             : 2277            \n",
      "Factor     - setup time             : 0.03              dense det. time        : 0.00            \n",
      "Factor     - ML order time          : 0.02              GP order time          : 0.00            \n",
      "Factor     - nonzeros before factor : 5.03e+05          after factor           : 5.03e+05        \n",
      "Factor     - dense dim.             : 2                 flops                  : 3.50e+08        \n",
      "ITE PFEAS    DFEAS    GFEAS    PRSTATUS   POBJ              DOBJ              MU       TIME  \n",
      "0   2.9e+00  1.0e+00  1.0e+00  0.00e+00   0.000000000e+00   0.000000000e+00   1.0e+00  0.04  \n",
      "1   3.8e-01  1.3e-01  9.4e-02  -6.14e-01  -3.728565443e+00  -4.043295754e+00  1.3e-01  0.07  \n",
      "2   3.1e-02  1.1e-02  5.8e-04  1.29e+00   -3.269080083e+00  -3.260824910e+00  1.1e-02  0.11  \n",
      "3   8.6e-04  3.0e-04  5.4e-06  9.91e-01   -3.325624434e+00  -3.325639074e+00  3.0e-04  0.14  \n",
      "4   5.9e-07  2.1e-07  9.1e-11  1.00e+00   -3.325259521e+00  -3.325259502e+00  2.1e-07  0.18  \n",
      "5   4.7e-10  1.6e-10  2.0e-15  1.00e+00   -3.325260063e+00  -3.325260063e+00  1.6e-10  0.21  \n",
      "Optimizer terminated. Time: 0.21    \n",
      "\n",
      "OPTIMAL\n",
      "opt_val=-3.3252600632208145\n",
      "  0.310006 seconds (842.17 k allocations: 93.777 MiB)\n"
     ]
    },
    {
     "data": {
      "text/plain": [
       "-3.3252600632208145"
      ]
     },
     "execution_count": 22,
     "metadata": {},
     "output_type": "execute_result"
    }
   ],
   "source": [
    "using ctpPOP\n",
    "\n",
    "opt_val2=ctpPOP.POP_dense_SOS(x,f,g,h,k,tol=1e-3)"
   ]
  },
  {
   "cell_type": "code",
   "execution_count": 23,
   "metadata": {},
   "outputs": [
    {
     "name": "stdout",
     "output_type": "stream",
     "text": [
      "  Computing constant trace status: OPTIMAL\n",
      "  Constant trace: ak = 3.0\n",
      "  Number of blocks: omega=2\n",
      "  Size of the largest block: s^max=66\n",
      "  Number of equality trace constraints: zeta=1475\n",
      "Modeling time:\n",
      "  0.032891 seconds (230.27 k allocations: 36.885 MiB)\n",
      "---------------\n",
      "| Parameters: |\n",
      "---------------\n",
      "n:       1475\n",
      "maxtime: 300000.000000\n",
      "na:      2\n",
      "mcu:     5\n",
      "mc:      7\n",
      "rpar: \n",
      "ipar: \n",
      " Warning: MC > MCU. Assigned MC = MCU.\n",
      " Entry to LMBM:\n",
      " NIT=    1  NFE=    1  F= 0.48764093D+00  WK= 0.9786D-01  QK= 0.4893D-01\n",
      " NIT=    2  NFE=    2  F= 0.41759847D+00  WK= 0.7874D-01  QK= 0.7180D-01\n",
      " NIT=    3  NFE=    3  F= 0.39510687D+00  WK= 0.1679D-01  QK= 0.3066D-01\n",
      " NIT=    4  NFE=    4  F= 0.37964110D+00  WK= 0.1788D+00  QK= 0.2640D-01\n",
      " NIT=    5  NFE=    6  F= 0.36665467D+00  WK= 0.4852D-01  QK= 0.7686D-01\n",
      " NIT=    6  NFE=    7  F= 0.34852922D+00  WK= 0.4434D-01  QK= 0.1481D+00\n",
      " NIT=    7  NFE=    8  F= 0.34852922D+00  WK= 0.3863D-01  QK= 0.6162D-01\n",
      " NIT=    8  NFE=    9  F= 0.33734337D+00  WK= 0.1884D-01  QK= 0.3451D-01\n",
      " NIT=    9  NFE=   10  F= 0.32509979D+00  WK= 0.5649D-02  QK= 0.6404D-02\n",
      " NIT=   10  NFE=   11  F= 0.32116151D+00  WK= 0.7736D-02  QK= 0.4905D-02\n",
      " NIT=   11  NFE=   12  F= 0.31897923D+00  WK= 0.5154D-02  QK= 0.7407D-02\n",
      " NIT=   12  NFE=   13  F= 0.31727799D+00  WK= 0.2970D-02  QK= 0.2951D-02\n",
      " NIT=   13  NFE=   14  F= 0.31570404D+00  WK= 0.3404D-02  QK= 0.2823D-02\n",
      " NIT=   14  NFE=   15  F= 0.31516795D+00  WK= 0.2402D-02  QK= 0.1014D-01\n",
      " NIT=   15  NFE=   16  F= 0.31352156D+00  WK= 0.4024D-02  QK= 0.4979D-02\n",
      " NIT=   16  NFE=   17  F= 0.31352156D+00  WK= 0.8823D-03  QK= 0.5178D-02\n",
      " NIT=   17  NFE=   21  F= 0.31351227D+00  WK= 0.7030D-02  QK= 0.4521D-02\n",
      " NIT=   18  NFE=   22  F= 0.31021484D+00  WK= 0.1630D-02  QK= 0.2051D-02\n",
      " NIT=   19  NFE=   23  F= 0.30907065D+00  WK= 0.2857D-02  QK= 0.1265D-02\n",
      " NIT=   20  NFE=   24  F= 0.30891483D+00  WK= 0.2203D-02  QK= 0.5340D-02\n",
      " NIT=   21  NFE=   25  F= 0.30826155D+00  WK= 0.7213D-03  QK= 0.2325D-02\n",
      " Exit from LMBM:\n",
      " NIT=   22  NFE=   26  F= 0.30816779D+00  WK= 0.1761D-03  QK= 0.2109D-03  ITERM=  1\n",
      "-----------\n",
      "| Output: |\n",
      "-----------\n",
      "Termination:     1\n",
      "N. iter.:        22\n",
      "N. func. eval.:  26\n",
      "Final value:     0.308168\n",
      "Execution time:  0.052643\n",
      "\n",
      "####################################\n",
      "opt_val = -3.329321462445872\n",
      "####################################\n",
      "Solving time:\n",
      "  0.016278 seconds (12.74 k allocations: 11.878 MiB)\n",
      "Total time:\n",
      "  0.049367 seconds (243.54 k allocations: 48.774 MiB)\n"
     ]
    },
    {
     "data": {
      "text/plain": [
       "-3.329321462445872"
      ]
     },
     "execution_count": 23,
     "metadata": {},
     "output_type": "execute_result"
    }
   ],
   "source": [
    "using ctpPOP\n",
    "\n",
    "opt_val=ctpPOP.POP_dense_LMBM(n,m,l,lmon_g,supp_g,coe_g,lmon_h,supp_h,coe_h,lmon_f,supp_f,coe_f,dg,dh,k,\n",
    "                         tol=1e-3,use_eqcons_to_get_constant_trace=false)"
   ]
  },
  {
   "cell_type": "code",
   "execution_count": 24,
   "metadata": {},
   "outputs": [],
   "source": [
    "#using ctpPOP\n",
    "\n",
    "#optval=ctpPOP.POP_NLP(n,m,l,lmon_g,supp_g,coe_g,lmon_h,supp_h,coe_h,lmon_f,supp_f,coe_f)"
   ]
  },
  {
   "cell_type": "code",
   "execution_count": null,
   "metadata": {},
   "outputs": [],
   "source": []
  }
 ],
 "metadata": {
  "kernelspec": {
   "display_name": "Julia 1.3.0",
   "language": "julia",
   "name": "julia-1.3"
  },
  "language_info": {
   "file_extension": ".jl",
   "mimetype": "application/julia",
   "name": "julia",
   "version": "1.3.0"
  }
 },
 "nbformat": 4,
 "nbformat_minor": 2
}
