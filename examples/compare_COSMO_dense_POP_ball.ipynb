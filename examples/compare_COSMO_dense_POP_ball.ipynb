{
 "cells": [
  {
   "cell_type": "code",
   "execution_count": 110,
   "metadata": {},
   "outputs": [
    {
     "name": "stdout",
     "output_type": "stream",
     "text": [
      "***Problem setting***\n",
      "Number of variable: n=60\n",
      "====================\n",
      "Number of inequality constraints: m=1\n",
      "====================\n",
      "Number of equality constraints: l=15\n"
     ]
    }
   ],
   "source": [
    "using DynamicPolynomials, LinearAlgebra, SparseArrays\n",
    "\n",
    "println(\"***Problem setting***\")\n",
    "\n",
    "n=60\n",
    "\n",
    "println(\"Number of variable: n=\",n)\n",
    "println(\"====================\")\n",
    "\n",
    "@polyvar x[1:n]# variables\n",
    "\n",
    "function generate_random_poly(v)\n",
    "    c=2*rand(Float64,length(v)).-1\n",
    "    #c=rand(Float64,length(v))\n",
    "    return c'*v\n",
    "end\n",
    "# random quadratic objective function f\n",
    "v=reverse(monomials(x,0:2))\n",
    "f=generate_random_poly(v)\n",
    "#f=f^2\n",
    "\n",
    "\n",
    "# unit sphere constraint\n",
    "m=1\n",
    "q=floor(Int64,n/m)\n",
    "R=ones(Float64,m)./m\n",
    "T=[(j-1)*q+1:j*q for j in 1:m-1]\n",
    "append!(T,[(m-1)*q+1:n])\n",
    "\n",
    "g=[R[j]-sum(x[T[j]].^2) for j in 1:m]\n",
    "\n",
    "m=length(g)\n",
    "println(\"Number of inequality constraints: m=\",m)\n",
    "println(\"====================\")\n",
    "\n",
    "l=ceil(Int64, n/4)\n",
    "\n",
    "h=Vector{Polynomial{true,Float64}}(undef,l)\n",
    "randx=[2*rand(length(T[j])).-1 for j in 1:m]# create a feasible solution\n",
    "randx=[sqrt(R[j])*rand(1)[1]*randx[j]/norm(randx[j]) for j in 1:m]\n",
    "randx=vcat(randx...)\n",
    "\n",
    "for j in 1:l\n",
    "    h[j]=generate_random_poly(v[2:end])\n",
    "    h[j]-=h[j](x => randx) #make constraints feasible\n",
    "end\n",
    "\n",
    "l=length(h)\n",
    "println(\"Number of equality constraints: l=\",l)"
   ]
  },
  {
   "cell_type": "code",
   "execution_count": 106,
   "metadata": {},
   "outputs": [
    {
     "name": "stdout",
     "output_type": "stream",
     "text": [
      "Relaxed order: k=2\n"
     ]
    }
   ],
   "source": [
    "k=2\n",
    "println(\"Relaxed order: k=\",k)"
   ]
  },
  {
   "cell_type": "code",
   "execution_count": 101,
   "metadata": {},
   "outputs": [
    {
     "name": "stdout",
     "output_type": "stream",
     "text": [
      "Problem\n",
      "  Name                   :                 \n",
      "  Objective sense        : max             \n",
      "  Type                   : CONIC (conic optimization problem)\n",
      "  Constraints            : 46376           \n",
      "  Cones                  : 0               \n",
      "  Scalar variables       : 3969            \n",
      "  Matrix variables       : 2               \n",
      "  Integer variables      : 0               \n",
      "\n",
      "Optimizer started.\n",
      "Presolve started.\n",
      "Linear dependency checker started.\n",
      "Linear dependency checker terminated.\n",
      "Eliminator started.\n",
      "Freed constraints in eliminator : 0\n",
      "Eliminator terminated.\n",
      "Eliminator - tries                  : 1                 time                   : 0.00            \n",
      "Lin. dep.  - tries                  : 1                 time                   : 0.01            \n",
      "Lin. dep.  - number                 : 0               \n",
      "Presolve terminated. Time: 0.12    \n",
      "Problem\n",
      "  Name                   :                 \n",
      "  Objective sense        : max             \n",
      "  Type                   : CONIC (conic optimization problem)\n",
      "  Constraints            : 46376           \n",
      "  Cones                  : 0               \n",
      "  Scalar variables       : 3969            \n",
      "  Matrix variables       : 2               \n",
      "  Integer variables      : 0               \n",
      "\n",
      "Optimizer  - threads                : 4               \n",
      "Optimizer  - solved problem         : the primal      \n",
      "Optimizer  - Constraints            : 46376\n",
      "Optimizer  - Cones                  : 1\n",
      "Optimizer  - Scalar variables       : 3970              conic                  : 3970            \n",
      "Optimizer  - Semi-definite variables: 2                 scalarized             : 123752          \n",
      "Factor     - setup time             : 1180.18           dense det. time        : 131.95          \n",
      "Factor     - ML order time          : 743.36            GP order time          : 0.00            \n",
      "Factor     - nonzeros before factor : 1.08e+09          after factor           : 1.08e+09        \n",
      "Factor     - dense dim.             : 0                 flops                  : 3.33e+13        \n",
      "ITE PFEAS    DFEAS    GFEAS    PRSTATUS   POBJ              DOBJ              MU       TIME  \n",
      "0   2.8e+00  1.0e+00  1.0e+00  0.00e+00   0.000000000e+00   0.000000000e+00   1.0e+00  1180.80\n",
      "1   3.8e-01  1.4e-01  2.7e-01  -9.39e-01  -1.037387974e+01  -1.361033706e+01  1.4e-01  1703.28\n",
      "2   1.8e-01  6.3e-02  5.2e-02  5.15e-01   -6.526855666e+00  -6.976451595e+00  6.3e-02  2186.52\n",
      "3   1.3e-02  4.7e-03  3.8e-04  1.98e+00   -4.670222081e+00  -4.668344829e+00  4.7e-03  2687.38\n",
      "4   2.2e-03  7.6e-04  3.5e-05  1.13e+00   -4.614686690e+00  -4.615498478e+00  7.6e-04  3180.45\n",
      "5   1.0e-04  3.6e-05  3.7e-07  1.00e+00   -4.622275263e+00  -4.622319445e+00  3.6e-05  3662.44\n",
      "6   1.9e-07  6.7e-08  2.8e-11  1.00e+00   -4.622152418e+00  -4.622152477e+00  6.7e-08  4154.88\n",
      "7   7.2e-09  4.4e-10  1.3e-14  1.00e+00   -4.622152744e+00  -4.622152744e+00  4.3e-10  4653.90\n",
      "Optimizer terminated. Time: 4654.69 \n",
      "\n",
      "OPTIMAL\n",
      "opt_val=-4.622152744266953\n",
      "4670.451675 seconds (73.99 M allocations: 7.848 GiB, 0.08% gc time)\n"
     ]
    },
    {
     "data": {
      "text/plain": [
       "-4.622152744266953"
      ]
     },
     "execution_count": 101,
     "metadata": {},
     "output_type": "execute_result"
    }
   ],
   "source": [
    "using ctpPOP\n",
    "\n",
    "opt_val0=ctpPOP.POP_dense_SOS(x,f,g,h,k,tol=1e-3)"
   ]
  },
  {
   "cell_type": "code",
   "execution_count": 111,
   "metadata": {},
   "outputs": [],
   "source": [
    "using ctpPOP\n",
    "\n",
    "n,m,l,lmon_g,supp_g,coe_g,lmon_h,supp_h,coe_h,lmon_f,supp_f,coe_f,dg,dh=ctpPOP.get_info(x,f,g,h,sparse=false);"
   ]
  },
  {
   "cell_type": "code",
   "execution_count": 112,
   "metadata": {
    "scrolled": true
   },
   "outputs": [
    {
     "name": "stdout",
     "output_type": "stream",
     "text": [
      "  Computing constant trace status: OPTIMAL\n",
      "  Constant trace: ak = 3.0\n",
      "  Number of blocks: omega=2\n",
      "  Size of the largest block: s^max=1891\n",
      "  Number of equality trace constraints: zeta=1183767\n",
      "Modeling time:\n",
      "459.109499 seconds (1.26 G allocations: 652.542 GiB, 13.99% gc time)\n",
      "iter=1   val=-12.968652924659343   gap=0.05221453901787956   feas=2.485395731772089\n",
      "iter=2   val=-5.8208100194172205   gap=0.6588273517903134   feas=0.5931030035612227\n",
      "iter=4   val=-6.543171334220503   gap=0.5048889589185458   feas=0.622906974145087\n",
      "iter=8   val=-6.613949512786576   gap=0.402220446249998   feas=0.5145049166789029\n",
      "iter=16   val=-6.177559895855624   gap=0.30392495924256496   feas=0.3774645081459468\n",
      "iter=32   val=-5.372050326708486   gap=0.20674300359727457   feas=0.21109423497754864\n",
      "iter=64   val=-4.9739087919509775   gap=0.04981380045538175   feas=0.09135426787423714\n",
      "iter=128   val=-5.135727333147329   gap=0.0420802666923776   feas=0.02387544538242933\n",
      "iter=256   val=-5.303497615416846   gap=0.010637764820868187   feas=0.005762160344402522\n",
      "iter=512   val=-5.344428988220907   gap=0.0032047201622031024   feas=0.0014315627519898234\n",
      "iter=779   val=-5.353728434250639   gap=0.000884900779691098   feas=0.0006569484071854324\n",
      "tol satisfies!!!\n",
      "\n",
      "####################################\n",
      "opt_val = -5.353728434250639\n",
      "####################################\n",
      "Solving time:\n",
      "276.170432 seconds (3.26 M allocations: 82.397 GiB, 0.36% gc time)\n",
      "Total time:\n",
      "735.280243 seconds (1.27 G allocations: 734.940 GiB, 8.87% gc time)\n",
      "gap = 15.827596586700645\n"
     ]
    }
   ],
   "source": [
    "using ctpPOP\n",
    "\n",
    "opt_val1=ctpPOP.POP_dense_CGAL(n,m,l,lmon_g,supp_g,coe_g,lmon_h,supp_h,coe_h,lmon_f,supp_f,coe_f,dg,dh,k,\n",
    "                         maxit=Int64(1e6),tol=1e-3,\n",
    "                         use_eqcons_to_get_constant_trace=false,\n",
    "                         check_tol_each_iter=true)\n",
    "println(\"gap = \",abs(opt_val1-opt_val0)/abs(opt_val0)*100)"
   ]
  },
  {
   "cell_type": "code",
   "execution_count": 113,
   "metadata": {},
   "outputs": [
    {
     "name": "stdout",
     "output_type": "stream",
     "text": [
      "------------------------------------------------------------------\n",
      "          COSMO v0.7.8 - A Quadratic Objective Conic Solver\n",
      "                         Michael Garstka\n",
      "                University of Oxford, 2017 - 2020\n",
      "------------------------------------------------------------------\n",
      "\n",
      "Problem:  x ∈ R^{1819143},\n",
      "          constraints: A ∈ R^{2426153x1819143} (57333230 nnz),\n",
      "          matrix size to factor: 4245296x4245296,\n",
      "          Floating-point precision: Float64\n",
      "Sets:     PsdConeTriangle of dim: 1788886\n",
      "          ZeroSet of dim: 635376\n",
      "          PsdConeTriangle of dim: 1891\n",
      "Settings: ϵ_abs = 1.0e-04, ϵ_rel = 1.0e-04,\n",
      "          ϵ_prim_inf = 1.0e-06, ϵ_dual_inf = 1.0e-04,\n",
      "          ρ = 0.1, σ = 1e-06, α = 1.6,\n",
      "          max_iter = 2500,\n",
      "          scaling iter = 10 (on),\n",
      "          check termination every 40 iter,\n",
      "          check infeasibility every 40 iter,\n",
      "          KKT system solver: COSMO.QdldlKKTSolver\n",
      "Setup Time: 4.88764642e6ms\n",
      "\n",
      "Iter:\tObjective:\tPrimal Res:\tDual Res:\tRho:\n",
      "1\t-1.7804e+01\t1.6927e+01\t5.9998e-01\t1.0000e-01\n",
      "40\t5.0902e+00\t1.9637e-02\t1.4256e-03\t1.0000e-01\n",
      "80\t5.3236e+00\t3.8556e-03\t2.1436e-04\t1.0000e-01\n",
      "120\t5.3549e+00\t4.9391e-04\t1.2967e-05\t1.0000e-01\n",
      "\n",
      "------------------------------------------------------------------\n",
      ">>> Results\n",
      "Status: \u001b[32mSolved\u001b[39m\n",
      "Iterations: 120\n",
      "Optimal objective: 5.355\n",
      "Runtime: 5265.575s (5.2655752e6ms)\n",
      "\n",
      "OPTIMAL\n",
      "opt_val=-5.354853224699749\n",
      "6176.717141 seconds (2.01 G allocations: 224.682 GiB, 5.34% gc time)\n",
      "gap = 15.851931361238435\n"
     ]
    }
   ],
   "source": [
    "using ctpPOP\n",
    "\n",
    "opt_val2=ctpPOP.POP_dense_SOS(x,f,g,h,k,tol=1e-3,solver=\"COSMO\")\n",
    "\n",
    "println(\"gap = \",abs(opt_val2-opt_val0)/abs(opt_val0)*100)"
   ]
  },
  {
   "cell_type": "code",
   "execution_count": null,
   "metadata": {},
   "outputs": [],
   "source": []
  },
  {
   "cell_type": "code",
   "execution_count": 16,
   "metadata": {},
   "outputs": [],
   "source": [
    "# using ctpPOP\n",
    "\n",
    "# opt_val=ctpPOP.POP_dense_LMBM(n,m,l,lmon_g,supp_g,coe_g,lmon_h,supp_h,coe_h,lmon_f,supp_f,coe_f,dg,dh,k,\n",
    "#                          tol=1e-3,use_eqcons_to_get_constant_trace=false)"
   ]
  },
  {
   "cell_type": "code",
   "execution_count": 24,
   "metadata": {},
   "outputs": [],
   "source": [
    "#using ctpPOP\n",
    "\n",
    "#optval=ctpPOP.POP_NLP(n,m,l,lmon_g,supp_g,coe_g,lmon_h,supp_h,coe_h,lmon_f,supp_f,coe_f)"
   ]
  },
  {
   "cell_type": "code",
   "execution_count": null,
   "metadata": {},
   "outputs": [],
   "source": []
  }
 ],
 "metadata": {
  "kernelspec": {
   "display_name": "Julia 1.3.0",
   "language": "julia",
   "name": "julia-1.3"
  },
  "language_info": {
   "file_extension": ".jl",
   "mimetype": "application/julia",
   "name": "julia",
   "version": "1.3.0"
  }
 },
 "nbformat": 4,
 "nbformat_minor": 2
}
