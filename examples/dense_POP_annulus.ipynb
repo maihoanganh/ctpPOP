{
 "cells": [
  {
   "cell_type": "code",
   "execution_count": 8,
   "metadata": {},
   "outputs": [
    {
     "name": "stdout",
     "output_type": "stream",
     "text": [
      "***Problem setting***\n",
      "Number of variable: n=5\n",
      "====================\n",
      "Number of inequality constraints: m=2\n",
      "====================\n",
      "Number of equality constraints: l=2\n"
     ]
    }
   ],
   "source": [
    "using DynamicPolynomials\n",
    "\n",
    "println(\"***Problem setting***\")\n",
    "\n",
    "n=5\n",
    "println(\"Number of variable: n=\",n)\n",
    "println(\"====================\")\n",
    "\n",
    "@polyvar x[1:n]# variables\n",
    "\n",
    "function generate_random_poly(v)\n",
    "    c=2*rand(Float64,length(v)).-1\n",
    "    return c'*v\n",
    "end\n",
    "# random quadratic objective function f\n",
    "v=reverse(monomials(x,0:2))\n",
    "f=generate_random_poly(v)\n",
    "\n",
    "\n",
    "# unit sphere constraint\n",
    "R_small=0.5\n",
    "R_big=1.0\n",
    "\n",
    "g=[sum(x.^2)-R_small;R_big-sum(x.^2)] #type of coefficients of each polynomial must be float\n",
    "\n",
    "m=length(g)\n",
    "println(\"Number of inequality constraints: m=\",m)\n",
    "println(\"====================\")\n",
    "\n",
    "l=ceil(Int64, n/4)\n",
    "if l==0\n",
    "    h=Vector{Polynomial{true,Float64}}([])\n",
    "else\n",
    "    h=Vector{Polynomial{true,Float64}}(undef,l)\n",
    "end\n",
    "randx=2*rand(n).-1# create a feasible solution\n",
    "randx=(sqrt(R_small)+(sqrt(R_big)-sqrt(R_small))*rand(1)[1])*randx./sqrt(sum(randx.^2))\n",
    "\n",
    "\n",
    "for j in 1:l\n",
    "    h[j]=generate_random_poly(v[2:end])\n",
    "    h[j]-=h[j](x => randx) #make constraints feasible\n",
    "end\n",
    "\n",
    "l=length(h)\n",
    "println(\"Number of equality constraints: l=\",l)"
   ]
  },
  {
   "cell_type": "code",
   "execution_count": 9,
   "metadata": {},
   "outputs": [
    {
     "name": "stderr",
     "output_type": "stream",
     "text": [
      "WARNING: replacing module ctpPOP.\n"
     ]
    }
   ],
   "source": [
    "include(\"../src/ctpPOP.jl\")\n",
    "using .ctpPOP\n",
    "\n",
    "n,m,l,lmon_g,supp_g,coe_g,lmon_h,supp_h,coe_h,lmon_f,supp_f,coe_f,dg,dh=ctpPOP.get_info(x,f,g,h,sparse=false);"
   ]
  },
  {
   "cell_type": "code",
   "execution_count": 10,
   "metadata": {},
   "outputs": [
    {
     "name": "stdout",
     "output_type": "stream",
     "text": [
      "Relaxed order: k=2\n"
     ]
    }
   ],
   "source": [
    "k=2\n",
    "\n",
    "println(\"Relaxed order: k=\",k)"
   ]
  },
  {
   "cell_type": "code",
   "execution_count": 11,
   "metadata": {},
   "outputs": [
    {
     "name": "stdout",
     "output_type": "stream",
     "text": [
      "  Computing constant trace status: OPTIMAL\n",
      "  Constant trace: ak = 4.0\n",
      "  Condition number: c = 35.379069680088705\n",
      "  Number of blocks: omega=3\n",
      "  Size of the largest block: s^max=21\n",
      "  Number of equality trace constraints: zeta=190\n",
      "Modeling time:\n",
      "  0.110466 seconds (106.14 k allocations: 6.929 MiB)\n",
      "iter=1   val=-2.23152169508852   gap=0.05864050572803138   feas=3.956744768043493\n",
      "iter=2   val=-1.1574359739570625   gap=0.21741236858704838   feas=2.0168216712733003\n",
      "iter=4   val=-1.135273818336386   gap=0.04617730353725883   feas=1.6809497772806143\n",
      "iter=8   val=-0.27967706305704065   gap=0.22119466008758348   feas=1.0714354087828923\n",
      "iter=16   val=-0.27862420299331786   gap=0.15372505499001496   feas=0.412204163119661\n",
      "iter=32   val=-0.3369899761747276   gap=0.10338433094295818   feas=0.15013649437454468\n",
      "iter=64   val=-0.34918227962597853   gap=0.004999153416205269   feas=0.06097028912363793\n",
      "iter=128   val=-0.3530965168782959   gap=0.0008345729845619026   feas=0.02198963025354912\n"
     ]
    },
    {
     "name": "stderr",
     "output_type": "stream",
     "text": [
      "WARNING: replacing module ctpPOP.\n"
     ]
    },
    {
     "name": "stdout",
     "output_type": "stream",
     "text": [
      "iter=256   val=-0.35085972544450816   gap=0.001058723685136628   feas=0.012549859435383098\n",
      "iter=512   val=-0.35438263785298674   gap=0.0014152557104063802   feas=0.004728442136291067\n",
      "iter=1024   val=-0.3542237254797672   gap=0.000978375841075385   feas=0.0023286874790753053\n",
      "iter=2048   val=-0.35362877777995666   gap=0.000377441031609525   feas=0.001626419359438879\n",
      "iter=2308   val=-0.35406791151103656   gap=0.0006813092101812989   feas=0.0009998643231248162\n",
      "tol satisfies!!!\n",
      "\n",
      "####################################\n",
      "opt_val = -0.35406791151103656\n",
      "####################################\n",
      "Solving time:\n",
      "  0.894112 seconds (855.48 k allocations: 101.164 MiB, 4.06% gc time)\n",
      "Total time:\n",
      "  1.004814 seconds (962.19 k allocations: 108.105 MiB, 3.61% gc time)\n"
     ]
    },
    {
     "data": {
      "text/plain": [
       "-0.35406791151103656"
      ]
     },
     "execution_count": 11,
     "metadata": {},
     "output_type": "execute_result"
    }
   ],
   "source": [
    "include(\"../src/ctpPOP.jl\")\n",
    "using .ctpPOP\n",
    "\n",
    "opt_val1=ctpPOP.POP_dense_CGAL(n,m,l,lmon_g,supp_g,coe_g,lmon_h,supp_h,coe_h,lmon_f,supp_f,coe_f,dg,dh,k,\n",
    "                         maxit=Int64(1e6),tol=1e-3,\n",
    "                         use_eqcons_to_get_constant_trace=false,\n",
    "                         check_tol_each_iter=true)"
   ]
  },
  {
   "cell_type": "code",
   "execution_count": 12,
   "metadata": {},
   "outputs": [
    {
     "name": "stdout",
     "output_type": "stream",
     "text": [
      "**SumOfSquares+Mosek:\n",
      "Problem\n",
      "  Name                   :                 \n",
      "  Objective sense        : max             \n",
      "  Type                   : CONIC (conic optimization problem)\n",
      "  Constraints            : 126             \n",
      "  Cones                  : 0               \n",
      "  Scalar variables       : 43              \n",
      "  Matrix variables       : 3               \n",
      "  Integer variables      : 0               \n",
      "\n",
      "Optimizer started.\n",
      "Presolve started.\n",
      "Linear dependency checker started.\n",
      "Linear dependency checker terminated.\n",
      "Eliminator started.\n",
      "Freed constraints in eliminator : 0\n",
      "Eliminator terminated.\n",
      "Eliminator started.\n",
      "Freed constraints in eliminator : 0\n",
      "Eliminator terminated.\n",
      "Eliminator - tries                  : 2                 time                   : 0.00            \n",
      "Lin. dep.  - tries                  : 1                 time                   : 0.00            \n",
      "Lin. dep.  - number                 : 0               \n",
      "Presolve terminated. Time: 0.00    \n",
      "Problem\n",
      "  Name                   :                 \n",
      "  Objective sense        : max             \n",
      "  Type                   : CONIC (conic optimization problem)\n",
      "  Constraints            : 126             \n",
      "  Cones                  : 0               \n",
      "  Scalar variables       : 43              \n",
      "  Matrix variables       : 3               \n",
      "  Integer variables      : 0               \n",
      "\n",
      "Optimizer  - threads                : 4               \n",
      "Optimizer  - solved problem         : the primal      \n",
      "Optimizer  - Constraints            : 126\n",
      "Optimizer  - Cones                  : 1\n",
      "Optimizer  - Scalar variables       : 44                conic                  : 44              \n",
      "Optimizer  - Semi-definite variables: 3                 scalarized             : 273             \n",
      "Factor     - setup time             : 0.00              dense det. time        : 0.00            \n",
      "Factor     - ML order time          : 0.00              GP order time          : 0.00            \n",
      "Factor     - nonzeros before factor : 8001              after factor           : 8001            \n",
      "Factor     - dense dim.             : 0                 flops                  : 9.09e+05        \n",
      "ITE PFEAS    DFEAS    GFEAS    PRSTATUS   POBJ              DOBJ              MU       TIME  \n",
      "0   1.8e+00  1.0e+00  1.0e+00  0.00e+00   0.000000000e+00   0.000000000e+00   1.0e+00  0.00  \n",
      "1   5.2e-01  2.9e-01  5.5e-02  1.08e+00   -4.840588848e-01  -3.165560202e-01  2.9e-01  0.00  \n",
      "2   1.4e-01  7.6e-02  7.1e-03  1.74e+00   -2.614382004e-01  -2.317227134e-01  7.6e-02  0.01  \n"
     ]
    },
    {
     "name": "stderr",
     "output_type": "stream",
     "text": [
      "WARNING: replacing module ctpPOP.\n"
     ]
    },
    {
     "name": "stdout",
     "output_type": "stream",
     "text": [
      "3   2.7e-02  1.5e-02  8.9e-04  1.05e+00   -3.535466797e-01  -3.489241353e-01  1.5e-02  0.01  \n",
      "4   2.2e-04  1.2e-04  6.8e-07  1.03e+00   -3.538097587e-01  -3.537779542e-01  1.2e-04  0.01  \n",
      "5   6.3e-06  3.5e-06  3.3e-09  1.00e+00   -3.539212363e-01  -3.539203206e-01  3.5e-06  0.01  \n",
      "6   3.4e-07  1.9e-07  4.2e-11  1.00e+00   -3.539252284e-01  -3.539251777e-01  1.9e-07  0.01  \n",
      "7   1.1e-08  6.1e-09  2.4e-13  1.00e+00   -3.539254995e-01  -3.539254979e-01  6.1e-09  0.02  \n",
      "Optimizer terminated. Time: 0.02    \n",
      "\n",
      "OPTIMAL\n",
      "opt_val=-0.353925499517246\n",
      "  0.110027 seconds (146.18 k allocations: 12.982 MiB)\n"
     ]
    },
    {
     "data": {
      "text/plain": [
       "-0.353925499517246"
      ]
     },
     "execution_count": 12,
     "metadata": {},
     "output_type": "execute_result"
    }
   ],
   "source": [
    "include(\"../src/ctpPOP.jl\")\n",
    "using .ctpPOP\n",
    "\n",
    "opt_val2=ctpPOP.POP_dense_SOS(x,f,g,h,k,tol=1e-3)"
   ]
  },
  {
   "cell_type": "code",
   "execution_count": 13,
   "metadata": {},
   "outputs": [
    {
     "name": "stdout",
     "output_type": "stream",
     "text": [
      "This is Ipopt version 3.13.2, running with linear solver mumps.\n",
      "NOTE: Other linear solvers might be more efficient (see Ipopt documentation).\n",
      "\n",
      "Number of nonzeros in equality constraint Jacobian...:       60\n",
      "Number of nonzeros in inequality constraint Jacobian.:       10\n",
      "Number of nonzeros in Lagrangian Hessian.............:       55\n",
      "\n",
      "Total number of variables............................:        5\n",
      "                     variables with only lower bounds:        0\n",
      "                variables with lower and upper bounds:        0\n",
      "                     variables with only upper bounds:        0\n",
      "Total number of equality constraints.................:        2\n",
      "Total number of inequality constraints...............:        2\n",
      "        inequality constraints with only lower bounds:        2\n",
      "   inequality constraints with lower and upper bounds:        0\n",
      "        inequality constraints with only upper bounds:        0\n",
      "\n",
      "iter    objective    inf_pr   inf_du lg(mu)  ||d||  lg(rg) alpha_du alpha_pr  ls\n",
      "   0 -3.4724041e-02 5.00e-01 4.90e-01  -1.0 0.00e+00    -  0.00e+00 0.00e+00   0\n",
      "   1 -3.7566412e-02 5.00e-01 5.10e+01  -1.7 5.10e-01   0.0 1.00e+00 1.94e-02h  1\n",
      "   2 -1.9532006e+00 2.49e+01 6.23e+02  -1.7 1.15e+01   0.4 1.00e+00 2.54e-01f  1\n",
      "   3 -1.0221460e+00 5.73e+00 1.77e+02  -1.7 1.46e+00   2.7 1.00e+00 1.00e+00h  1\n",
      "   4 -5.1274470e-01 9.46e-01 4.46e+01  -1.7 7.16e-01    -  7.86e-01 1.00e+00h  1\n",
      "   5 -2.7172909e-01 1.43e-02 1.11e+01  -1.7 3.21e-01    -  9.06e-02 1.00e+00h  1\n",
      "   6 -3.0856903e-01 1.85e-04 1.10e+00  -1.7 3.98e-01    -  1.00e+00 1.00e+00h  1\n",
      "   7 -3.0799914e-01 2.38e-06 3.23e-01  -1.7 2.17e-03   2.2 1.00e+00 1.00e+00h  1\n",
      "   8 -3.4069959e-01 1.82e-03 5.29e-02  -1.7 9.48e-02    -  1.00e+00 1.00e+00f  1\n",
      "   9 -3.4941035e-01 1.65e-03 9.25e-04  -2.5 4.47e-02    -  1.00e+00 1.00e+00h  1\n",
      "iter    objective    inf_pr   inf_du lg(mu)  ||d||  lg(rg) alpha_du alpha_pr  ls\n",
      "  10 -3.5374267e-01 1.30e-05 1.79e-05  -3.8 1.69e-02    -  1.00e+00 1.00e+00h  1\n",
      "  11 -3.5392348e-01 1.60e-08 4.05e-08  -5.7 7.75e-04    -  1.00e+00 1.00e+00h  1\n",
      "  12 -3.5392551e-01 2.15e-12 5.71e-12  -8.6 7.99e-06    -  1.00e+00 1.00e+00h  1\n",
      "\n",
      "Number of Iterations....: 12\n",
      "\n",
      "                                   (scaled)                 (unscaled)\n",
      "Objective...............:  -3.5392550882763579e-01   -3.5392550882763579e-01\n",
      "Dual infeasibility......:   5.7124305286038179e-12    5.7124305286038179e-12\n",
      "Constraint violation....:   2.1534024563507614e-12    2.1534024563507614e-12\n",
      "Complementarity.........:   2.5385124388822853e-09    2.5385124388822853e-09\n",
      "Overall NLP error.......:   2.5385124388822853e-09    2.5385124388822853e-09\n",
      "\n",
      "\n",
      "Number of objective function evaluations             = 13\n",
      "Number of objective gradient evaluations             = 13\n",
      "Number of equality constraint evaluations            = 13\n",
      "Number of inequality constraint evaluations          = 13\n",
      "Number of equality constraint Jacobian evaluations   = 13\n",
      "Number of inequality constraint Jacobian evaluations = 13\n",
      "Number of Lagrangian Hessian evaluations             = 12\n",
      "Total CPU secs in IPOPT (w/o function evaluations)   =      0.011\n",
      "Total CPU secs in NLP function evaluations           =      0.000\n",
      "\n",
      "EXIT: Optimal Solution Found.\n",
      "LOCALLY_SOLVED\n",
      "opt_val=-0.3539255088276358\n",
      "  0.018150 seconds (5.22 k allocations: 408.484 KiB)\n"
     ]
    },
    {
     "name": "stderr",
     "output_type": "stream",
     "text": [
      "WARNING: replacing module ctpPOP.\n"
     ]
    },
    {
     "data": {
      "text/plain": [
       "-0.3539255088276358"
      ]
     },
     "execution_count": 13,
     "metadata": {},
     "output_type": "execute_result"
    }
   ],
   "source": [
    "include(\"../src/ctpPOP.jl\")\n",
    "using .ctpPOP\n",
    "\n",
    "optval=ctpPOP.POP_NLP(n,m,l,lmon_g,supp_g,coe_g,lmon_h,supp_h,coe_h,lmon_f,supp_f,coe_f)"
   ]
  },
  {
   "cell_type": "code",
   "execution_count": null,
   "metadata": {},
   "outputs": [],
   "source": []
  }
 ],
 "metadata": {
  "kernelspec": {
   "display_name": "Julia 1.3.0",
   "language": "julia",
   "name": "julia-1.3"
  },
  "language_info": {
   "file_extension": ".jl",
   "mimetype": "application/julia",
   "name": "julia",
   "version": "1.3.0"
  }
 },
 "nbformat": 4,
 "nbformat_minor": 2
}
