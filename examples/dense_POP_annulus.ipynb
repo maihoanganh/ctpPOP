{
 "cells": [
  {
   "cell_type": "code",
   "execution_count": 15,
   "metadata": {},
   "outputs": [
    {
     "name": "stdout",
     "output_type": "stream",
     "text": [
      "***Problem setting***\n",
      "Number of variable: n=5\n",
      "====================\n",
      "Number of inequality constraints: m=2\n",
      "====================\n",
      "Number of equality constraints: l=2\n"
     ]
    }
   ],
   "source": [
    "using DynamicPolynomials\n",
    "\n",
    "println(\"***Problem setting***\")\n",
    "\n",
    "n=5\n",
    "println(\"Number of variable: n=\",n)\n",
    "println(\"====================\")\n",
    "\n",
    "@polyvar x[1:n]# variables\n",
    "\n",
    "function generate_random_poly(v)\n",
    "    c=2*rand(Float64,length(v)).-1\n",
    "    return c'*v\n",
    "end\n",
    "# random quadratic objective function f\n",
    "v=reverse(monomials(x,0:2))\n",
    "f=generate_random_poly(v)\n",
    "\n",
    "\n",
    "# unit sphere constraint\n",
    "R_small=0.5\n",
    "R_big=1.0\n",
    "\n",
    "g=[sum(x.^2)-R_small;R_big-sum(x.^2)] #type of coefficients of each polynomial must be float\n",
    "\n",
    "m=length(g)\n",
    "println(\"Number of inequality constraints: m=\",m)\n",
    "println(\"====================\")\n",
    "\n",
    "l=ceil(Int64, n/4)\n",
    "if l==0\n",
    "    h=Vector{Polynomial{true,Float64}}([])\n",
    "else\n",
    "    h=Vector{Polynomial{true,Float64}}(undef,l)\n",
    "end\n",
    "randx=2*rand(n).-1# create a feasible solution\n",
    "randx=(sqrt(R_small)+(sqrt(R_big)-sqrt(R_small))*rand(1)[1])*randx./sqrt(sum(randx.^2))\n",
    "\n",
    "\n",
    "for j in 1:l\n",
    "    h[j]=generate_random_poly(v[2:end])\n",
    "    h[j]-=h[j](x => randx) #make constraints feasible\n",
    "end\n",
    "\n",
    "l=length(h)\n",
    "println(\"Number of equality constraints: l=\",l)"
   ]
  },
  {
   "cell_type": "code",
   "execution_count": 16,
   "metadata": {},
   "outputs": [
    {
     "name": "stderr",
     "output_type": "stream",
     "text": [
      "WARNING: replacing module ctpPOP.\n"
     ]
    }
   ],
   "source": [
    "include(\"../src/ctpPOP.jl\")\n",
    "using .ctpPOP\n",
    "\n",
    "n,m,l,lmon_g,supp_g,coe_g,lmon_h,supp_h,coe_h,lmon_f,supp_f,coe_f,dg,dh=ctpPOP.get_info(x,f,g,h,sparse=false);"
   ]
  },
  {
   "cell_type": "code",
   "execution_count": 17,
   "metadata": {},
   "outputs": [
    {
     "name": "stdout",
     "output_type": "stream",
     "text": [
      "Relaxed order: k=2\n"
     ]
    }
   ],
   "source": [
    "k=2\n",
    "\n",
    "println(\"Relaxed order: k=\",k)"
   ]
  },
  {
   "cell_type": "code",
   "execution_count": 18,
   "metadata": {},
   "outputs": [
    {
     "name": "stdout",
     "output_type": "stream",
     "text": [
      "  Computing constant trace status: OPTIMAL\n",
      "  Constant trace: ak = 4.0\n",
      "  Condition number: c = 35.379069680088705\n",
      "  Number of blocks: omega=3\n",
      "  Size of the largest block: s^max=21\n",
      "  Number of equality trace constraints: zeta=190\n",
      "Modeling time:\n",
      "  0.067646 seconds (106.14 k allocations: 6.929 MiB)\n",
      "iter=1   val=-4.066938661597021   gap=0.047527266695133595   feas=3.4154940931878945\n",
      "iter=2   val=-2.244400851752816   gap=0.22038500408221684   feas=1.2365848413537122\n",
      "iter=4   val=-2.785299708269961   gap=0.05187270806358683   feas=0.9300921052432506\n",
      "iter=8   val=-2.785424927081643   gap=0.18493212449679758   feas=0.7687653928631967\n",
      "iter=16   val=-2.0905129549689585   gap=0.08169102046421677   feas=0.24689364863284194\n",
      "iter=32   val=-1.9616961915192257   gap=0.028990523124291196   feas=0.16350727236704715\n",
      "iter=64   val=-1.8814770794699125   gap=0.014231103295880574   feas=0.07966999009068487\n",
      "iter=128   val=-1.805294662338939   gap=0.01495716137557613   feas=0.01355117123335325\n",
      "iter=256   val=-1.821319636528304   gap=0.006141372118985606   feas=0.0030679876124559027\n",
      "iter="
     ]
    },
    {
     "name": "stderr",
     "output_type": "stream",
     "text": [
      "WARNING: replacing module ctpPOP.\n"
     ]
    },
    {
     "name": "stdout",
     "output_type": "stream",
     "text": [
      "512   val=-1.8196553143897394   gap=0.004693437534031308   feas=0.001144205410772735\n",
      "iter=1024   val=-1.8206764366397028   gap=0.0030576347137239823   feas=0.00019903048354768507\n",
      "iter=1457   val=-1.8216672773001434   gap=0.0006125948400932684   feas=0.0009992116025160519\n",
      "tol satisfies!!!\n",
      "\n",
      "####################################\n",
      "opt_val = -1.8216672773001434\n",
      "####################################\n",
      "Solving time:\n",
      "  0.336490 seconds (541.15 k allocations: 63.893 MiB, 8.69% gc time)\n",
      "Total time:\n",
      "  0.404280 seconds (647.89 k allocations: 70.836 MiB, 7.23% gc time)\n"
     ]
    },
    {
     "data": {
      "text/plain": [
       "-1.8216672773001434"
      ]
     },
     "execution_count": 18,
     "metadata": {},
     "output_type": "execute_result"
    }
   ],
   "source": [
    "include(\"../src/ctpPOP.jl\")\n",
    "using .ctpPOP\n",
    "\n",
    "opt_val1=ctpPOP.POP_dense_CGAL(n,m,l,lmon_g,supp_g,coe_g,lmon_h,supp_h,coe_h,lmon_f,supp_f,coe_f,dg,dh,k,\n",
    "                         maxit=Int64(1e6),tol=1e-3,\n",
    "                         use_eqcons_to_get_constant_trace=false,\n",
    "                         check_tol_each_iter=true)"
   ]
  },
  {
   "cell_type": "code",
   "execution_count": 19,
   "metadata": {},
   "outputs": [
    {
     "name": "stdout",
     "output_type": "stream",
     "text": [
      "  Computing constant trace status: OPTIMAL\n",
      "  Constant trace: ak = 4.0\n",
      "  Condition number: c = 35.379069680088705\n",
      "  Number of blocks: omega=3\n",
      "  Size of the largest block: s^max=21\n",
      "  Number of equality trace constraints: zeta=190\n",
      "Modeling time:\n",
      "  0.060216 seconds (106.14 k allocations: 6.953 MiB)\n",
      "---------------\n"
     ]
    },
    {
     "name": "stderr",
     "output_type": "stream",
     "text": [
      "WARNING: replacing module ctpPOP.\n"
     ]
    },
    {
     "name": "stdout",
     "output_type": "stream",
     "text": [
      "| Parameters: |\n",
      "---------------\n",
      "n:       190\n",
      "maxtime: 300000.000000\n",
      "na:      2\n",
      "mcu:     5\n",
      "mc:      7\n",
      "rpar: \n",
      "ipar: \n",
      " Warning: MC > MCU. Assigned MC = MCU.\n",
      " Entry to LMBM:\n",
      " NIT=    1  NFE=    1  F= 0.50913272D+00  WK= 0.1712D+00  QK= 0.8562D-01\n",
      " NIT=    2  NFE=    2  F= 0.38133291D+00  WK= 0.1337D+00  QK= 0.2630D-01\n",
      " NIT=    3  NFE=    3  F= 0.37247630D+00  WK= 0.7143D-01  QK= 0.4589D-01\n",
      " NIT=    4  NFE=    4  F= 0.32429314D+00  WK= 0.2328D-01  QK= 0.7164D-02\n",
      " NIT=    5  NFE=    5  F= 0.30837201D+00  WK= 0.3333D-01  QK= 0.5722D-02\n",
      " NIT=    6  NFE=    6  F= 0.28397016D+00  WK= 0.9092D-01  QK= 0.1098D-01\n",
      " NIT=    7  NFE=    8  F= 0.24987154D+00  WK= 0.1834D+00  QK= 0.1055D-01\n",
      " NIT=    8  NFE=    9  F= 0.24987154D+00  WK= 0.8469D-01  QK= 0.4405D-01\n",
      " NIT=    9  NFE=   11  F= 0.24811752D+00  WK= 0.4062D-01  QK= 0.2948D-01\n",
      " NIT=   10  NFE=   13  F= 0.24422238D+00  WK= 0.6830D-02  QK= 0.6787D-02\n",
      " NIT=   11  NFE=   14  F= 0.24012701D+00  WK= 0.3151D-02  QK= 0.4190D-02\n",
      " NIT=   12  NFE=   15  F= 0.23795246D+00  WK= 0.3937D-02  QK= 0.4079D-02\n",
      " NIT=   13  NFE=   17  F= 0.23753126D+00  WK= 0.4512D-02  QK= 0.2920D-01\n",
      " NIT=   14  NFE=   18  F= 0.23650462D+00  WK= 0.1136D-02  QK= 0.3810D-02\n",
      " NIT=   15  NFE=   19  F= 0.23575783D+00  WK= 0.1859D-02  QK= 0.3591D-02\n",
      " NIT=   16  NFE=   20  F= 0.23529260D+00  WK= 0.1421D-02  QK= 0.2902D-01\n",
      " NIT=   17  NFE=   21  F= 0.23392663D+00  WK= 0.3530D-01  QK= 0.2892D-01\n",
      " Warning: A nondescent search direction occured. Restart.\n",
      " NIT=   18  NFE=   23  F= 0.23392663D+00  WK= 0.5785D-01  QK= 0.2892D-01\n",
      " NIT=   19  NFE=   24  F= 0.23392663D+00  WK= 0.3455D-01  QK= 0.1775D-01\n",
      " NIT=   20  NFE=   30  F= 0.23391193D+00  WK= 0.8843D-04  QK= 0.3682D-02\n",
      " NIT=   21  NFE=   31  F= 0.23383202D+00  WK= 0.8818D-03  QK= 0.3565D-02\n",
      " Exit from LMBM:\n",
      " NIT=   22  NFE=   32  F= 0.23383202D+00  WK= 0.4139D-03  QK= 0.3493D-03  ITERM=  1\n",
      "-----------\n",
      "| Output: |\n",
      "-----------\n",
      "Termination:     1\n",
      "N. iter.:        22\n",
      "N. func. eval.:  32\n",
      "Final value:     0.233832\n",
      "Execution time:  0.086426\n",
      "\n",
      "####################################\n",
      "opt_val = -1.8763387515849208\n",
      "####################################\n",
      "Solving time:\n",
      "  0.214643 seconds (268.92 k allocations: 16.379 MiB, 8.91% gc time)\n",
      "Total time:\n",
      "  0.275006 seconds (375.64 k allocations: 23.344 MiB, 6.95% gc time)\n"
     ]
    },
    {
     "data": {
      "text/plain": [
       "-1.8763387515849208"
      ]
     },
     "execution_count": 19,
     "metadata": {},
     "output_type": "execute_result"
    }
   ],
   "source": [
    "include(\"../src/ctpPOP.jl\")\n",
    "using .ctpPOP\n",
    "\n",
    "opt_val=ctpPOP.POP_dense_LMBM(n,m,l,lmon_g,supp_g,coe_g,lmon_h,supp_h,coe_h,lmon_f,supp_f,coe_f,dg,dh,k,\n",
    "                         tol=1e-3,use_eqcons_to_get_constant_trace=false)"
   ]
  },
  {
   "cell_type": "code",
   "execution_count": 20,
   "metadata": {},
   "outputs": [
    {
     "name": "stdout",
     "output_type": "stream",
     "text": [
      "**SumOfSquares+Mosek:\n",
      "Problem\n",
      "  Name                   :                 \n",
      "  Objective sense        : max             \n",
      "  Type                   : CONIC (conic optimization problem)\n",
      "  Constraints            : 126             \n",
      "  Cones                  : 0               \n",
      "  Scalar variables       : 43              \n",
      "  Matrix variables       : 3               \n",
      "  Integer variables      : 0               \n",
      "\n",
      "Optimizer started.\n",
      "Presolve started.\n",
      "Linear dependency checker started.\n",
      "Linear dependency checker terminated.\n",
      "Eliminator started.\n",
      "Freed constraints in eliminator : 0\n",
      "Eliminator terminated.\n",
      "Eliminator started.\n",
      "Freed constraints in eliminator : 0\n",
      "Eliminator terminated.\n",
      "Eliminator - tries                  : 2                 time                   : 0.00            \n",
      "Lin. dep.  - tries                  : 1                 time                   : 0.00            \n",
      "Lin. dep.  - number                 : 0               \n",
      "Presolve terminated. Time: 0.00    \n",
      "Problem\n",
      "  Name                   :                 \n",
      "  Objective sense        : max             \n",
      "  Type                   : CONIC (conic optimization problem)\n",
      "  Constraints            : 126             \n",
      "  Cones                  : 0               \n",
      "  Scalar variables       : 43              \n",
      "  Matrix variables       : 3               \n",
      "  Integer variables      : 0               \n",
      "\n",
      "Optimizer  - threads                : 4               \n",
      "Optimizer  - solved problem         : the primal      \n",
      "Optimizer  - Constraints            : 126\n",
      "Optimizer  - Cones                  : 1\n",
      "Optimizer  - Scalar variables       : 44                conic                  : 44              \n",
      "Optimizer  - Semi-definite variables: 3                 scalarized             : 273             \n",
      "Factor     - setup time             : 0.00              dense det. time        : 0.00            \n",
      "Factor     - ML order time          : 0.00              GP order time          : 0.00            \n",
      "Factor     - nonzeros before factor : 8001              after factor           : 8001            \n",
      "Factor     - dense dim.             : 0                 flops                  : 9.09e+05        \n",
      "ITE PFEAS    DFEAS    GFEAS    PRSTATUS   POBJ              DOBJ              MU       TIME  \n",
      "0   1.0e+00  1.0e+00  1.0e+00  0.00e+00   0.000000000e+00   0.000000000e+00   1.0e+00  0.00  \n",
      "1   3.1e-01  3.1e-01  2.1e-01  1.48e-01   -1.244866035e+00  -1.287614413e+00  3.1e-01  0.00  \n",
      "2   5.0e-02  5.0e-02  1.0e-02  1.26e+00   -1.708341490e+00  -1.693052868e+00  5.0e-02  0.00  \n",
      "3   4.8e-03  4.8e-03  3.0e-04  1.20e+00   -1.800726980e+00  -1.799798796e+00  4.8e-03  0.01  \n",
      "4   8.2e-05  8.2e-05  6.8e-07  1.01e+00   -1.820540148e+00  -1.820526989e+00  8.2e-05  0.01  \n",
      "5   7.6e-07  7.6e-07  6.1e-10  9.99e-01   -1.820786990e+00  -1.820786876e+00  7.6e-07  0.01  \n",
      "6   1.6e-08  1.6e-08  1.9e-12  1.00e+00   -1.820788388e+00  -1.820788386e+00  1.6e-08  0.01  \n",
      "Optimizer terminated. Time: 0.01    \n",
      "\n",
      "OPTIMAL\n",
      "opt_val=-1.8207883884335927\n",
      "  0.092871 seconds (145.89 k allocations: 12.973 MiB, 20.17% gc time)\n"
     ]
    },
    {
     "name": "stderr",
     "output_type": "stream",
     "text": [
      "WARNING: replacing module ctpPOP.\n"
     ]
    },
    {
     "data": {
      "text/plain": [
       "-1.8207883884335927"
      ]
     },
     "execution_count": 20,
     "metadata": {},
     "output_type": "execute_result"
    }
   ],
   "source": [
    "include(\"../src/ctpPOP.jl\")\n",
    "using .ctpPOP\n",
    "\n",
    "opt_val2=ctpPOP.POP_dense_SOS(x,f,g,h,k,tol=1e-3)"
   ]
  },
  {
   "cell_type": "code",
   "execution_count": 21,
   "metadata": {},
   "outputs": [
    {
     "name": "stdout",
     "output_type": "stream",
     "text": [
      "This is Ipopt version 3.13.2, running with linear solver mumps.\n",
      "NOTE: Other linear solvers might be more efficient (see Ipopt documentation).\n",
      "\n",
      "Number of nonzeros in equality constraint Jacobian...:       60\n",
      "Number of nonzeros in inequality constraint Jacobian.:       10\n",
      "Number of nonzeros in Lagrangian Hessian.............:       55\n",
      "\n",
      "Total number of variables............................:        5\n",
      "                     variables with only lower bounds:        0\n",
      "                variables with lower and upper bounds:        0\n",
      "                     variables with only upper bounds:        0\n",
      "Total number of equality constraints.................:        2\n",
      "Total number of inequality constraints...............:        2\n",
      "        inequality constraints with only lower bounds:        2\n",
      "   inequality constraints with lower and upper bounds:        0\n",
      "        inequality constraints with only upper bounds:        0\n",
      "\n",
      "iter    objective    inf_pr   inf_du lg(mu)  ||d||  lg(rg) alpha_du alpha_pr  ls\n",
      "   0 -3.2180312e-01 1.23e+00 3.95e-01  -1.0 0.00e+00    -  0.00e+00 0.00e+00   0\n",
      "   1 -3.5120481e-01 1.21e+00 5.88e+01  -1.0 1.01e+00   0.0 1.00e+00 1.94e-02h  1\n",
      "   2 -4.0722287e-01 1.21e+00 6.89e+03  -1.0 9.55e+00   1.3 1.00e+00 1.01e-02h  1\n",
      "   3 -1.9585179e+00 3.23e+00 4.20e+03  -1.0 1.36e+00   2.7 1.00e+00 1.00e+00f  1\n",
      "   4 -1.5750135e+00 8.03e-01 2.54e+03  -1.0 7.54e-01   4.0 6.65e-01 1.00e+00h  1\n",
      "   5 -1.4155437e+00 2.31e-01 8.19e+02  -1.0 4.45e-01    -  2.41e-02 1.00e+00f  1\n",
      "   6 -1.3423979e+00 1.70e-02 2.05e+02  -1.0 1.85e-01    -  1.00e+00 1.00e+00f  1\n",
      "   7 -1.3477238e+00 2.78e-04 4.59e+00  -1.0 3.35e-02    -  8.93e-01 1.00e+00h  1\n",
      "   8 -1.5767142e+00 9.82e-03 9.48e-01  -1.0 1.16e-01    -  1.00e+00 1.00e+00f  1\n",
      "   9 -1.9575427e+00 3.08e-01 6.24e-01  -1.7 9.80e-01    -  3.01e-01 4.47e-01f  1\n",
      "iter    objective    inf_pr   inf_du lg(mu)  ||d||  lg(rg) alpha_du alpha_pr  ls\n",
      "  10 -1.8597804e+00 2.91e-02 9.51e-02  -1.7 1.75e-01    -  1.00e+00 1.00e+00h  1\n",
      "  11 -1.8187461e+00 1.25e-03 3.60e-03  -2.5 3.25e-02    -  1.00e+00 1.00e+00h  1\n",
      "  12 -1.8205988e+00 1.20e-05 5.25e-05  -3.8 7.21e-03    -  1.00e+00 1.00e+00h  1\n",
      "  13 -1.8207865e+00 2.19e-08 1.45e-07  -5.7 3.61e-04    -  1.00e+00 1.00e+00h  1\n",
      "  14 -1.8207884e+00 2.42e-12 1.87e-11  -8.6 3.45e-06    -  1.00e+00 1.00e+00h  1\n",
      "\n",
      "Number of Iterations....: 14\n",
      "\n",
      "                                   (scaled)                 (unscaled)\n",
      "Objective...............:  -1.8207884244019485e+00   -1.8207884244019485e+00\n",
      "Dual infeasibility......:   1.8729573447728853e-11    1.8729573447728853e-11\n",
      "Constraint violation....:   2.4193980152631411e-12    2.4193980152631411e-12\n",
      "Complementarity.........:   2.5292147215042306e-09    2.5292147215042306e-09\n",
      "Overall NLP error.......:   2.5292147215042306e-09    2.5292147215042306e-09\n",
      "\n",
      "\n",
      "Number of objective function evaluations             = 15\n",
      "Number of objective gradient evaluations             = 15\n",
      "Number of equality constraint evaluations            = 15\n",
      "Number of inequality constraint evaluations          = 15\n",
      "Number of equality constraint Jacobian evaluations   = 15\n",
      "Number of inequality constraint Jacobian evaluations = 15\n",
      "Number of Lagrangian Hessian evaluations             = 14\n",
      "Total CPU secs in IPOPT (w/o function evaluations)   =      0.006\n",
      "Total CPU secs in NLP function evaluations           =      0.000\n",
      "\n",
      "EXIT: Optimal Solution Found.\n",
      "LOCALLY_SOLVED\n",
      "opt_val=-1.8207884244019485\n",
      "  0.011812 seconds (5.29 k allocations: 412.016 KiB)\n"
     ]
    },
    {
     "name": "stderr",
     "output_type": "stream",
     "text": [
      "WARNING: replacing module ctpPOP.\n"
     ]
    },
    {
     "data": {
      "text/plain": [
       "-1.8207884244019485"
      ]
     },
     "execution_count": 21,
     "metadata": {},
     "output_type": "execute_result"
    }
   ],
   "source": [
    "include(\"../src/ctpPOP.jl\")\n",
    "using .ctpPOP\n",
    "\n",
    "optval=ctpPOP.POP_NLP(n,m,l,lmon_g,supp_g,coe_g,lmon_h,supp_h,coe_h,lmon_f,supp_f,coe_f)"
   ]
  },
  {
   "cell_type": "code",
   "execution_count": null,
   "metadata": {},
   "outputs": [],
   "source": []
  }
 ],
 "metadata": {
  "kernelspec": {
   "display_name": "Julia 1.3.0",
   "language": "julia",
   "name": "julia-1.3"
  },
  "language_info": {
   "file_extension": ".jl",
   "mimetype": "application/julia",
   "name": "julia",
   "version": "1.3.0"
  }
 },
 "nbformat": 4,
 "nbformat_minor": 2
}
