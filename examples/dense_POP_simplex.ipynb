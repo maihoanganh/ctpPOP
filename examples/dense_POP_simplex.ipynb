{
 "cells": [
  {
   "cell_type": "code",
   "execution_count": 1,
   "metadata": {},
   "outputs": [
    {
     "name": "stdout",
     "output_type": "stream",
     "text": [
      "***Problem setting***\n",
      "Number of variable: n=5\n",
      "====================\n",
      "Number of inequality constraints: m=7\n",
      "====================\n",
      "Number of equality constraints: l=1\n"
     ]
    }
   ],
   "source": [
    "using DynamicPolynomials\n",
    "\n",
    "println(\"***Problem setting***\")\n",
    "\n",
    "n=5\n",
    "\n",
    "println(\"Number of variable: n=\",n)\n",
    "println(\"====================\")\n",
    "\n",
    "@polyvar x[1:n]# variables\n",
    "\n",
    "function generate_random_poly(v)\n",
    "    c=2*rand(Float64,length(v)).-1\n",
    "    return c'*v\n",
    "end\n",
    "# random quadratic objective function f\n",
    "v=reverse(monomials(x,0:2))\n",
    "f=generate_random_poly(v)\n",
    "\n",
    "\n",
    "# unit sphere constraint\n",
    "g=[x;1.0-sum(x);1.0-sum(x.^2)] #type of coefficients of each polynomial must be float\n",
    "\n",
    "m=length(g)\n",
    "println(\"Number of inequality constraints: m=\",m)\n",
    "println(\"====================\")\n",
    "\n",
    "l=ceil(Int64, n/7)\n",
    "\n",
    "h=Vector{Polynomial{true,Float64}}(undef,l)\n",
    "randx=2*rand(n).-1# create a feasible solution\n",
    "randx=rand(1)[1]*randx./sqrt(sum(randx.^2))\n",
    "\n",
    "\n",
    "for j in 1:l\n",
    "    h[j]=generate_random_poly(v[2:end])\n",
    "    h[j]-=h[j](x => randx) #make constraints feasible\n",
    "end\n",
    "\n",
    "l=length(h)\n",
    "println(\"Number of equality constraints: l=\",l)"
   ]
  },
  {
   "cell_type": "code",
   "execution_count": 2,
   "metadata": {},
   "outputs": [],
   "source": [
    "using ctpPOP\n",
    "\n",
    "n,m,l,lmon_g,supp_g,coe_g,lmon_h,supp_h,coe_h,lmon_f,supp_f,coe_f,dg,dh=ctpPOP.get_info(x,f,g,h,sparse=false);"
   ]
  },
  {
   "cell_type": "code",
   "execution_count": 3,
   "metadata": {},
   "outputs": [
    {
     "name": "stdout",
     "output_type": "stream",
     "text": [
      "Relaxed order: k=2\n"
     ]
    }
   ],
   "source": [
    "k=2\n",
    "\n",
    "println(\"Relaxed order: k=\",k)"
   ]
  },
  {
   "cell_type": "code",
   "execution_count": 4,
   "metadata": {},
   "outputs": [
    {
     "name": "stderr",
     "output_type": "stream",
     "text": [
      "┌ Warning: `with_optimizer` is deprecated. Adapt the following example to update your code:\n",
      "│ `with_optimizer(Ipopt.Optimizer, max_cpu_time=60.0)` becomes `optimizer_with_attributes(Ipopt.Optimizer, \"max_cpu_time\" => 60.0)`.\n",
      "│   caller = ip:0x0\n",
      "└ @ Core :-1\n"
     ]
    },
    {
     "name": "stdout",
     "output_type": "stream",
     "text": [
      "  Computing constant trace status: OPTIMAL\n",
      "  Constant trace: ak = 5.0\n",
      "  Number of blocks: omega=8\n",
      "  Size of the largest block: s^max=21\n",
      "  Number of equality trace constraints: zeta=274\n",
      "Modeling time:\n",
      " 17.651129 seconds (49.67 M allocations: 2.441 GiB, 5.47% gc time)\n",
      "iter=1   val=-6.3899267950991385   gap=0.0355237993383433   feas=5.4542242749471495\n",
      "iter=2   val=-5.058106944002917   gap=0.033605002751346   feas=5.081167845170663\n",
      "iter=4   val=-2.4731275732278455   gap=0.003716069837340851   feas=1.6719897870327785\n",
      "iter=8   val=-1.9618111414264865   gap=0.023378142346549096   feas=1.003264264431993\n",
      "iter=16   val=-1.9283130893005713   gap=0.035555694561343366   feas=0.5195294272593904\n",
      "iter=32   val=-1.6337427976638361   gap=0.013700783250075434   feas=0.3171989292877522\n",
      "iter=64   val=-1.5362578952455455   gap=0.06225260876075958   feas=0.20360643305166803\n",
      "iter=128   val=-1.4979391130715225   gap=0.05311368760802648   feas=0.1462977809530502\n",
      "iter=256   val=-1.3634923648018593   gap=0.06952187153764491   feas=0.09344076788421199\n",
      "iter=512   val=-1.193459594740405   gap=0.023003248228304702   feas=0.03707523518567815\n",
      "iter=1024   val=-1.1239942631652404   gap=0.006664860844147843   feas=0.011507114507517065\n",
      "iter=2048   val=-1.1103322528882833   gap=0.004022670907236914   feas=0.005482692572771262\n",
      "iter=4096   val=-1.1110099181854176   gap=0.004905544413520874   feas=0.0011597821333895926\n",
      "iter=8192   val=-1.1090721585933068   gap=0.005514687901264909   feas=0.0007143999663106053\n",
      "iter=16384   val=-1.1092036545338841   gap=0.003978359612573291   feas=0.00027518848908775293\n",
      "iter=16516   val=-1.109259315346738   gap=0.0009198749985948064   feas=0.00041467997626237253\n",
      "tol satisfies!!!\n",
      "\n",
      "####################################\n",
      "opt_val = -1.109259315346738\n",
      "####################################\n",
      "Solving time:\n",
      "  7.138956 seconds (13.87 M allocations: 1.217 GiB, 3.43% gc time)\n",
      "Total time:\n",
      " 24.815670 seconds (63.58 M allocations: 3.661 GiB, 4.88% gc time)\n"
     ]
    },
    {
     "data": {
      "text/plain": [
       "-1.109259315346738"
      ]
     },
     "execution_count": 4,
     "metadata": {},
     "output_type": "execute_result"
    }
   ],
   "source": [
    "using ctpPOP\n",
    "\n",
    "opt_val1=ctpPOP.POP_dense_CGAL(n,m,l,lmon_g,supp_g,coe_g,lmon_h,supp_h,coe_h,lmon_f,supp_f,coe_f,dg,dh,k,\n",
    "                         maxit=Int64(1e6),tol=1e-3,\n",
    "                         use_eqcons_to_get_constant_trace=false,\n",
    "                         check_tol_each_iter=true)"
   ]
  },
  {
   "cell_type": "code",
   "execution_count": 5,
   "metadata": {},
   "outputs": [
    {
     "name": "stdout",
     "output_type": "stream",
     "text": [
      "  Computing constant trace status: OPTIMAL\n",
      "  Constant trace: ak = 5.0\n",
      "  Number of blocks: omega=8\n",
      "  Size of the largest block: s^max=21\n",
      "  Number of equality trace constraints: zeta=274\n",
      "Modeling time:\n",
      "  0.005667 seconds (24.02 k allocations: 2.765 MiB)\n",
      "---------------\n",
      "| Parameters: |\n",
      "---------------\n",
      "n:       274\n",
      "maxtime: 300000.000000\n",
      "na:      2\n",
      "mcu:     5\n",
      "mc:      7\n",
      "rpar: \n",
      "ipar: \n",
      " Warning: MC > MCU. Assigned MC = MCU.\n",
      " Entry to LMBM:\n",
      " NIT=    1  NFE=    1  F= 0.53880202D+00  WK= 0.2969D+00  QK= 0.1484D+00\n",
      " NIT=    2  NFE=    2  F= 0.39338440D+00  WK= 0.1377D+00  QK= 0.1284D+00\n",
      " NIT=    3  NFE=    3  F= 0.33468249D+00  WK= 0.6346D-01  QK= 0.9282D-01\n",
      " NIT=    4  NFE=    4  F= 0.27721473D+00  WK= 0.5639D+00  QK= 0.8054D-01\n",
      " NIT=    5  NFE=    6  F= 0.23788498D+00  WK= 0.6799D-01  QK= 0.6511D-01\n",
      " NIT=    6  NFE=    7  F= 0.20392879D+00  WK= 0.3736D-01  QK= 0.8604D-01\n",
      " Warning: A nondescent search direction occured. Restart.\n",
      " NIT=    7  NFE=    8  F= 0.20392879D+00  WK= 0.1721D+00  QK= 0.8604D-01\n",
      " NIT=    8  NFE=    9  F= 0.20392879D+00  WK= 0.1268D+00  QK= 0.6384D-01\n",
      " NIT=    9  NFE=   10  F= 0.20143196D+00  WK= 0.3366D-01  QK= 0.6239D-01\n",
      " NIT=   10  NFE=   11  F= 0.17397481D+00  WK= 0.1023D+00  QK= 0.4718D-01\n",
      " NIT=   11  NFE=   12  F= 0.17397481D+00  WK= 0.5798D-01  QK= 0.3863D-01\n",
      " NIT=   12  NFE=   16  F= 0.17311460D+00  WK= 0.7413D-01  QK= 0.4596D-01\n",
      " Warning: A nondescent search direction occured. Restart.\n",
      " NIT=   13  NFE=   17  F= 0.17311460D+00  WK= 0.9193D-01  QK= 0.4596D-01\n",
      " NIT=   14  NFE=   18  F= 0.17311460D+00  WK= 0.6032D-01  QK= 0.3016D-01\n",
      " NIT=   15  NFE=   20  F= 0.17018077D+00  WK= 0.2735D-01  QK= 0.6057D-01\n",
      " NIT=   16  NFE=   21  F= 0.17018077D+00  WK= 0.1253D-01  QK= 0.4140D-01\n",
      " NIT=   17  NFE=   22  F= 0.16849098D+00  WK= 0.1456D-01  QK= 0.8019D-01\n",
      " NIT=   18  NFE=   23  F= 0.16649986D+00  WK= 0.6223D-02  QK= 0.2666D-01\n",
      " NIT=   19  NFE=   24  F= 0.16143275D+00  WK= 0.1893D-01  QK= 0.2363D-01\n",
      " NIT=   20  NFE=   25  F= 0.16143275D+00  WK= 0.8589D-02  QK= 0.2451D-01\n",
      " NIT=   21  NFE=   29  F= 0.16134787D+00  WK= 0.1149D-01  QK= 0.2713D-01\n",
      " NIT=   22  NFE=   30  F= 0.15707070D+00  WK= 0.5024D-02  QK= 0.5979D-01\n",
      " NIT=   23  NFE=   31  F= 0.15322622D+00  WK= 0.2841D-02  QK= 0.3130D-01\n",
      " NIT=   24  NFE=   32  F= 0.15241713D+00  WK= 0.4061D-02  QK= 0.3878D-01\n",
      " Warning: A nondescent search direction occured. Restart.\n",
      " NIT=   25  NFE=   33  F= 0.15241713D+00  WK= 0.7756D-01  QK= 0.3878D-01\n",
      " NIT=   26  NFE=   34  F= 0.15241713D+00  WK= 0.4012D-01  QK= 0.2036D-01\n",
      " NIT=   27  NFE=   38  F= 0.15234262D+00  WK= 0.1795D-01  QK= 0.5954D-01\n",
      " NIT=   28  NFE=   39  F= 0.15234262D+00  WK= 0.9499D-02  QK= 0.4559D-01\n",
      " NIT=   29  NFE=   40  F= 0.15125826D+00  WK= 0.2092D-01  QK= 0.7873D-01\n",
      " NIT=   30  NFE=   41  F= 0.14903030D+00  WK= 0.8132D-02  QK= 0.4343D-01\n",
      " NIT=   31  NFE=   42  F= 0.14339032D+00  WK= 0.7422D-02  QK= 0.3340D-01\n",
      " NIT=   32  NFE=   43  F= 0.14221838D+00  WK= 0.2478D-02  QK= 0.2314D-01\n",
      " NIT=   33  NFE=   44  F= 0.14054689D+00  WK= 0.5534D-02  QK= 0.5831D-01\n",
      " Warning: A nondescent search direction occured. Restart.\n",
      " NIT=   34  NFE=   45  F= 0.14054689D+00  WK= 0.1166D+00  QK= 0.5831D-01\n",
      " NIT=   35  NFE=   46  F= 0.14054689D+00  WK= 0.6271D-01  QK= 0.3188D-01\n",
      " NIT=   36  NFE=   53  F= 0.14045103D+00  WK= 0.3493D-02  QK= 0.5032D-01\n",
      " NIT=   37  NFE=   54  F= 0.14045103D+00  WK= 0.6292D-02  QK= 0.2879D-01\n",
      " NIT=   38  NFE=   55  F= 0.13958709D+00  WK= 0.1637D-02  QK= 0.2315D-01\n",
      " NIT=   39  NFE=   56  F= 0.13872399D+00  WK= 0.7455D-03  QK= 0.3099D-01\n",
      " NIT=   40  NFE=   57  F= 0.13867595D+00  WK= 0.6010D-03  QK= 0.3996D-01\n",
      " NIT=   41  NFE=   58  F= 0.13808889D+00  WK= 0.3257D-01  QK= 0.3895D-01\n",
      " NIT=   42  NFE=   59  F= 0.13808889D+00  WK= 0.1736D-01  QK= 0.2120D-01\n",
      " NIT=   43  NFE=   63  F= 0.13807054D+00  WK= 0.1625D-01  QK= 0.4463D-01\n",
      " NIT=   44  NFE=   64  F= 0.13807054D+00  WK= 0.7083D-02  QK= 0.2206D-01\n",
      " NIT=   45  NFE=   68  F= 0.13747213D+00  WK= 0.2382D-01  QK= 0.4611D-01\n",
      " NIT=   46  NFE=   69  F= 0.13747213D+00  WK= 0.2072D-01  QK= 0.2750D-01\n",
      " NIT=   47  NFE=   73  F= 0.13704179D+00  WK= 0.3093D-01  QK= 0.5823D-01\n",
      " NIT=   48  NFE=   74  F= 0.13704179D+00  WK= 0.1801D-01  QK= 0.5297D-01\n",
      " NIT=   49  NFE=   79  F= 0.13674573D+00  WK= 0.1648D+00  QK= 0.5823D-01\n",
      " Warning: A nondescent search direction occured. Restart.\n",
      " NIT=   50  NFE=   81  F= 0.13674573D+00  WK= 0.1165D+00  QK= 0.5823D-01\n",
      " NIT=   51  NFE=   82  F= 0.13674573D+00  WK= 0.6126D-01  QK= 0.3131D-01\n",
      " NIT=   52  NFE=   90  F= 0.13672397D+00  WK= 0.2161D-02  QK= 0.7242D-01\n",
      " NIT=   53  NFE=   91  F= 0.13672397D+00  WK= 0.9200D-02  QK= 0.3999D-01\n",
      " NIT=   54  NFE=   96  F= 0.13665814D+00  WK= 0.5849D-03  QK= 0.5955D-01\n",
      " NIT=   55  NFE=   97  F= 0.13615809D+00  WK= 0.3885D-03  QK= 0.6352D-01\n",
      " NIT=   56  NFE=   98  F= 0.13615809D+00  WK= 0.5183D-02  QK= 0.5051D-01\n",
      " NIT=   57  NFE=  101  F= 0.13570666D+00  WK= 0.1988D-02  QK= 0.6976D-01\n",
      " NIT=   58  NFE=  102  F= 0.13501257D+00  WK= 0.3492D-02  QK= 0.9081D-01\n",
      " NIT=   59  NFE=  103  F= 0.13501257D+00  WK= 0.3665D-02  QK= 0.4531D-01\n",
      " NIT=   60  NFE=  106  F= 0.13472064D+00  WK= 0.4604D-03  QK= 0.2311D-01\n",
      " NIT=   61  NFE=  107  F= 0.13472064D+00  WK= 0.2840D-01  QK= 0.1937D-01\n",
      " NIT=   62  NFE=  113  F= 0.13413377D+00  WK= 0.6869D-03  QK= 0.3606D-01\n",
      " NIT=   63  NFE=  114  F= 0.13388341D+00  WK= 0.5792D-03  QK= 0.2918D-01\n",
      " NIT=   64  NFE=  115  F= 0.13380793D+00  WK= 0.6500D-03  QK= 0.2310D-01\n",
      " NIT=   65  NFE=  116  F= 0.13316177D+00  WK= 0.1140D+00  QK= 0.2309D-01\n",
      " Warning: A nondescent search direction occured. Restart.\n",
      " NIT=   66  NFE=  117  F= 0.13316177D+00  WK= 0.4618D-01  QK= 0.2309D-01\n",
      " NIT=   67  NFE=  118  F= 0.13316177D+00  WK= 0.2530D-01  QK= 0.1269D-01\n",
      " NIT=   68  NFE=  124  F= 0.13314738D+00  WK= 0.1185D-02  QK= 0.6126D-01\n",
      " NIT=   69  NFE=  125  F= 0.13314738D+00  WK= 0.1531D-01  QK= 0.3788D-01\n",
      " NIT=   70  NFE=  134  F= 0.13312728D+00  WK= 0.5712D-03  QK= 0.5823D-01\n",
      " NIT=   71  NFE=  135  F= 0.13296071D+00  WK= 0.2920D-03  QK= 0.3804D-01\n",
      " NIT=   72  NFE=  136  F= 0.13277590D+00  WK= 0.2262D-03  QK= 0.4016D-01\n",
      " NIT=   73  NFE=  137  F= 0.13274450D+00  WK= 0.1877D-03  QK= 0.8659D-01\n",
      " NIT=   74  NFE=  138  F= 0.13263837D+00  WK= 0.4667D-03  QK= 0.5822D-01\n",
      " NIT=   75  NFE=  139  F= 0.13263837D+00  WK= 0.4880D-02  QK= 0.9919D-02\n",
      " NIT=   76  NFE=  143  F= 0.13239042D+00  WK= 0.3481D-03  QK= 0.2309D-01\n",
      " NIT=   77  NFE=  144  F= 0.13232365D+00  WK= 0.2412D-03  QK= 0.2679D-01\n",
      " NIT=   78  NFE=  145  F= 0.13232365D+00  WK= 0.3674D-02  QK= 0.1825D-01\n",
      " Exit from LMBM:\n",
      " Abnormal exit: Too many steps without significant progress.\n",
      " NIT=   78  NFE=  150  F= 0.13229080D+00  WK= 0.3674D-02  QK= 0.1825D-01  ITERM=  2\n",
      "-----------\n",
      "| Output: |\n",
      "-----------\n",
      "Termination:     2\n",
      "N. iter.:        78\n",
      "N. func. eval.:  150\n",
      "Final value:     0.132291\n",
      "Execution time:  0.140823\n",
      "\n",
      "####################################\n",
      "opt_val = -1.5780801072911113\n",
      "####################################\n",
      "Solving time:\n",
      "  0.368697 seconds (550.45 k allocations: 35.018 MiB, 7.91% gc time)\n",
      "Total time:\n",
      "  0.374513 seconds (575.07 k allocations: 37.796 MiB, 7.78% gc time)\n"
     ]
    },
    {
     "data": {
      "text/plain": [
       "-1.5780801072911113"
      ]
     },
     "execution_count": 5,
     "metadata": {},
     "output_type": "execute_result"
    }
   ],
   "source": [
    "using ctpPOP\n",
    "\n",
    "opt_val=ctpPOP.POP_dense_LMBM(n,m,l,lmon_g,supp_g,coe_g,lmon_h,supp_h,coe_h,lmon_f,supp_f,coe_f,dg,dh,k,\n",
    "                         tol=1e-3,use_eqcons_to_get_constant_trace=false)"
   ]
  },
  {
   "cell_type": "code",
   "execution_count": 6,
   "metadata": {},
   "outputs": [
    {
     "name": "stdout",
     "output_type": "stream",
     "text": [
      "Problem\n",
      "  Name                   :                 \n",
      "  Objective sense        : max             \n",
      "  Type                   : CONIC (conic optimization problem)\n",
      "  Constraints            : 126             \n",
      "  Cones                  : 0               \n",
      "  Scalar variables       : 22              \n",
      "  Matrix variables       : 8               \n",
      "  Integer variables      : 0               \n",
      "\n",
      "Optimizer started.\n",
      "Presolve started.\n",
      "Linear dependency checker started.\n",
      "Linear dependency checker terminated.\n",
      "Eliminator started.\n",
      "Freed constraints in eliminator : 0\n",
      "Eliminator terminated.\n",
      "Eliminator - tries                  : 1                 time                   : 0.00            \n",
      "Lin. dep.  - tries                  : 1                 time                   : 0.00            \n",
      "Lin. dep.  - number                 : 0               \n",
      "Presolve terminated. Time: 0.00    \n",
      "Problem\n",
      "  Name                   :                 \n",
      "  Objective sense        : max             \n",
      "  Type                   : CONIC (conic optimization problem)\n",
      "  Constraints            : 126             \n",
      "  Cones                  : 0               \n",
      "  Scalar variables       : 22              \n",
      "  Matrix variables       : 8               \n",
      "  Integer variables      : 0               \n",
      "\n",
      "Optimizer  - threads                : 4               \n",
      "Optimizer  - solved problem         : the primal      \n",
      "Optimizer  - Constraints            : 126\n",
      "Optimizer  - Cones                  : 1\n",
      "Optimizer  - Scalar variables       : 23                conic                  : 23              \n",
      "Optimizer  - Semi-definite variables: 8                 scalarized             : 378             \n",
      "Factor     - setup time             : 0.00              dense det. time        : 0.00            \n",
      "Factor     - ML order time          : 0.00              GP order time          : 0.00            \n",
      "Factor     - nonzeros before factor : 8001              after factor           : 8001            \n",
      "Factor     - dense dim.             : 0                 flops                  : 8.93e+05        \n",
      "ITE PFEAS    DFEAS    GFEAS    PRSTATUS   POBJ              DOBJ              MU       TIME  \n",
      "0   3.8e+00  1.0e+00  1.0e+00  0.00e+00   0.000000000e+00   0.000000000e+00   1.0e+00  0.00  \n",
      "1   1.5e+00  4.0e-01  8.2e-02  5.07e-02   -1.466778009e+00  -1.169703447e+00  4.0e-01  0.00  \n",
      "2   3.5e-01  9.2e-02  1.2e-02  1.80e+00   -1.207651866e+00  -1.168817057e+00  9.2e-02  0.00  \n",
      "3   8.0e-02  2.1e-02  1.5e-03  1.05e+00   -1.104594820e+00  -1.096339168e+00  2.1e-02  0.01  \n",
      "4   1.4e-02  3.7e-03  1.4e-04  9.05e-01   -1.101880207e+00  -1.100795324e+00  3.7e-03  0.01  \n",
      "5   2.6e-04  6.9e-05  3.4e-07  9.87e-01   -1.109178892e+00  -1.109156641e+00  6.9e-05  0.01  \n",
      "6   1.9e-06  4.9e-07  2.0e-10  1.00e+00   -1.109178186e+00  -1.109178021e+00  4.9e-07  0.01  \n",
      "7   2.8e-08  7.5e-09  3.7e-13  1.00e+00   -1.109177443e+00  -1.109177441e+00  7.5e-09  0.01  \n",
      "Optimizer terminated. Time: 0.01    \n",
      "\n",
      "OPTIMAL\n",
      "opt_val=-1.1091774432991646\n",
      "  6.743844 seconds (14.43 M allocations: 745.375 MiB, 3.19% gc time)\n"
     ]
    },
    {
     "data": {
      "text/plain": [
       "-1.1091774432991646"
      ]
     },
     "execution_count": 6,
     "metadata": {},
     "output_type": "execute_result"
    }
   ],
   "source": [
    "using ctpPOP\n",
    "\n",
    "opt_val2=ctpPOP.POP_dense_SOS(x,f,g,h,k,tol=1e-3)"
   ]
  },
  {
   "cell_type": "code",
   "execution_count": 7,
   "metadata": {},
   "outputs": [],
   "source": [
    "#using ctpPOP\n",
    "\n",
    "#optval=ctpPOP.POP_NLP(n,m,l,lmon_g,supp_g,coe_g,lmon_h,supp_h,coe_h,lmon_f,supp_f,coe_f)"
   ]
  },
  {
   "cell_type": "code",
   "execution_count": null,
   "metadata": {},
   "outputs": [],
   "source": []
  }
 ],
 "metadata": {
  "kernelspec": {
   "display_name": "Julia 1.3.0",
   "language": "julia",
   "name": "julia-1.3"
  },
  "language_info": {
   "file_extension": ".jl",
   "mimetype": "application/julia",
   "name": "julia",
   "version": "1.3.0"
  }
 },
 "nbformat": 4,
 "nbformat_minor": 2
}
