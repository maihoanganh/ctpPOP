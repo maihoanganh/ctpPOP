{
 "cells": [
  {
   "cell_type": "code",
   "execution_count": 7,
   "metadata": {},
   "outputs": [
    {
     "name": "stdout",
     "output_type": "stream",
     "text": [
      "***Problem setting***\n",
      "Number of variable: n=5\n",
      "====================\n",
      "Number of inequality constraints: m=7\n",
      "====================\n",
      "Number of equality constraints: l=1\n"
     ]
    }
   ],
   "source": [
    "using DynamicPolynomials\n",
    "\n",
    "println(\"***Problem setting***\")\n",
    "\n",
    "n=5\n",
    "\n",
    "println(\"Number of variable: n=\",n)\n",
    "println(\"====================\")\n",
    "\n",
    "@polyvar x[1:n]# variables\n",
    "\n",
    "function generate_random_poly(v)\n",
    "    c=2*rand(Float64,length(v)).-1\n",
    "    return c'*v\n",
    "end\n",
    "# random quadratic objective function f\n",
    "v=reverse(monomials(x,0:2))\n",
    "f=generate_random_poly(v)\n",
    "\n",
    "\n",
    "# unit sphere constraint\n",
    "g=[x;1.0-sum(x);1.0-sum(x.^2)] #type of coefficients of each polynomial must be float\n",
    "\n",
    "m=length(g)\n",
    "println(\"Number of inequality constraints: m=\",m)\n",
    "println(\"====================\")\n",
    "\n",
    "l=ceil(Int64, n/7)\n",
    "\n",
    "h=Vector{Polynomial{true,Float64}}(undef,l)\n",
    "randx=2*rand(n).-1# create a feasible solution\n",
    "randx=rand(1)[1]*randx./sqrt(sum(randx.^2))\n",
    "\n",
    "\n",
    "for j in 1:l\n",
    "    h[j]=generate_random_poly(v[2:end])\n",
    "    h[j]-=h[j](x => randx) #make constraints feasible\n",
    "end\n",
    "\n",
    "l=length(h)\n",
    "println(\"Number of equality constraints: l=\",l)"
   ]
  },
  {
   "cell_type": "code",
   "execution_count": 8,
   "metadata": {},
   "outputs": [
    {
     "name": "stderr",
     "output_type": "stream",
     "text": [
      "WARNING: replacing module ctpPOP.\n"
     ]
    }
   ],
   "source": [
    "include(\"../src/ctpPOP.jl\")\n",
    "using .ctpPOP\n",
    "\n",
    "n,m,l,lmon_g,supp_g,coe_g,lmon_h,supp_h,coe_h,lmon_f,supp_f,coe_f,dg,dh=ctpPOP.get_info(x,f,g,h,sparse=false);"
   ]
  },
  {
   "cell_type": "code",
   "execution_count": 9,
   "metadata": {},
   "outputs": [
    {
     "name": "stdout",
     "output_type": "stream",
     "text": [
      "Relaxed order: k=2\n"
     ]
    }
   ],
   "source": [
    "k=2\n",
    "\n",
    "println(\"Relaxed order: k=\",k)"
   ]
  },
  {
   "cell_type": "code",
   "execution_count": 10,
   "metadata": {},
   "outputs": [
    {
     "name": "stdout",
     "output_type": "stream",
     "text": [
      "  Computing constant trace status: OPTIMAL\n",
      "  Constant trace: ak = 5.0\n",
      "  Condition number: c = 65.57438524302002\n",
      "  Number of blocks: omega=8\n",
      "  Size of the largest block: s^max=21\n",
      "  Number of equality trace constraints: zeta=274\n",
      "Modeling time:\n",
      "  0.097779 seconds (108.20 k allocations: 7.000 MiB)\n",
      "iter=1   val=-5.174033721808997   gap=0.0034744093512228866   feas=7.648033075519758\n",
      "iter=2   val=-1.7767541599449315   gap=0.3604474156498409   feas=2.479081589894567\n",
      "iter=4   val=-1.3463022450668103   gap=0.19508937162492157   feas=2.2888893101739365\n",
      "iter=8   val=-0.5265854710616789   gap=0.23317960621256845   feas=1.0741132353629252\n",
      "iter=16   val=-0.22605783980719524   gap=0.27432325257838436   feas=0.7599088011971722\n",
      "iter=32   val=-0.23375508522042684   gap=0.04709738567159491   feas=0.35479289416803583\n",
      "iter=64   val=-0.09957331622171262   gap=0.040759616028411716   feas=0.24444601077334982\n",
      "iter=128   val=-0.09752716761844178   gap=0.1608372699558442   feas=0.17195012048153133\n",
      "iter="
     ]
    },
    {
     "name": "stderr",
     "output_type": "stream",
     "text": [
      "WARNING: replacing module ctpPOP.\n"
     ]
    },
    {
     "name": "stdout",
     "output_type": "stream",
     "text": [
      "256   val=0.08360558429996706   gap=0.07971360693383447   feas=0.0850770064582311\n",
      "iter=512   val=0.24763922356327622   gap=0.05841370242088959   feas=0.02044691145961709\n",
      "iter=1024   val=0.23440895407691978   gap=0.02784398912452435   feas=0.0066901788967473706\n",
      "iter=2048   val=0.2302190924265515   gap=0.01756736909958083   feas=0.00232229898603331\n",
      "iter=4096   val=0.22749688853772396   gap=0.018236877769508438   feas=0.001493344602016002\n",
      "iter=8192   val=0.2280356543930793   gap=0.0022801466382830608   feas=0.0005884727579957566\n",
      "iter=16384   val=0.22811128276698495   gap=0.002980410950449667   feas=0.00013696650816191525\n",
      "iter=19692   val=0.22808789230785298   gap=0.0009492972180081722   feas=0.00032363952730816596\n",
      "tol satisfies!!!\n",
      "\n",
      "####################################\n",
      "opt_val = 0.22808789230785298\n",
      "####################################\n",
      "Solving time:\n",
      " 14.213631 seconds (15.20 M allocations: 1.385 GiB, 2.61% gc time)\n",
      "Total time:\n",
      " 14.311652 seconds (15.31 M allocations: 1.392 GiB, 2.59% gc time)\n"
     ]
    },
    {
     "data": {
      "text/plain": [
       "0.22808789230785298"
      ]
     },
     "execution_count": 10,
     "metadata": {},
     "output_type": "execute_result"
    }
   ],
   "source": [
    "include(\"../src/ctpPOP.jl\")\n",
    "using .ctpPOP\n",
    "\n",
    "opt_val1=ctpPOP.POP_dense_CGAL(n,m,l,lmon_g,supp_g,coe_g,lmon_h,supp_h,coe_h,lmon_f,supp_f,coe_f,dg,dh,k,\n",
    "                         maxit=Int64(1e6),tol=1e-3,\n",
    "                         use_eqcons_to_get_constant_trace=false,\n",
    "                         check_tol_each_iter=true)"
   ]
  },
  {
   "cell_type": "code",
   "execution_count": 11,
   "metadata": {},
   "outputs": [
    {
     "name": "stdout",
     "output_type": "stream",
     "text": [
      "**SumOfSquares+Mosek:\n"
     ]
    },
    {
     "name": "stderr",
     "output_type": "stream",
     "text": [
      "WARNING: replacing module ctpPOP.\n"
     ]
    },
    {
     "name": "stdout",
     "output_type": "stream",
     "text": [
      "Problem\n",
      "  Name                   :                 \n",
      "  Objective sense        : max             \n",
      "  Type                   : CONIC (conic optimization problem)\n",
      "  Constraints            : 126             \n",
      "  Cones                  : 0               \n",
      "  Scalar variables       : 22              \n",
      "  Matrix variables       : 8               \n",
      "  Integer variables      : 0               \n",
      "\n",
      "Optimizer started.\n",
      "Presolve started.\n",
      "Linear dependency checker started.\n",
      "Linear dependency checker terminated.\n",
      "Eliminator started.\n",
      "Freed constraints in eliminator : 0\n",
      "Eliminator terminated.\n",
      "Eliminator - tries                  : 1                 time                   : 0.00            \n",
      "Lin. dep.  - tries                  : 1                 time                   : 0.00            \n",
      "Lin. dep.  - number                 : 0               \n",
      "Presolve terminated. Time: 0.00    \n",
      "Problem\n",
      "  Name                   :                 \n",
      "  Objective sense        : max             \n",
      "  Type                   : CONIC (conic optimization problem)\n",
      "  Constraints            : 126             \n",
      "  Cones                  : 0               \n",
      "  Scalar variables       : 22              \n",
      "  Matrix variables       : 8               \n",
      "  Integer variables      : 0               \n",
      "\n",
      "Optimizer  - threads                : 4               \n",
      "Optimizer  - solved problem         : the primal      \n",
      "Optimizer  - Constraints            : 126\n",
      "Optimizer  - Cones                  : 1\n",
      "Optimizer  - Scalar variables       : 23                conic                  : 23              \n",
      "Optimizer  - Semi-definite variables: 8                 scalarized             : 378             \n",
      "Factor     - setup time             : 0.00              dense det. time        : 0.00            \n",
      "Factor     - ML order time          : 0.00              GP order time          : 0.00            \n",
      "Factor     - nonzeros before factor : 8001              after factor           : 8001            \n",
      "Factor     - dense dim.             : 0                 flops                  : 8.93e+05        \n",
      "ITE PFEAS    DFEAS    GFEAS    PRSTATUS   POBJ              DOBJ              MU       TIME  \n",
      "0   2.5e+00  1.0e+00  1.0e+00  0.00e+00   0.000000000e+00   0.000000000e+00   1.0e+00  0.00  \n",
      "1   6.2e-01  2.5e-01  6.7e-02  1.26e+00   -8.812230438e-02  7.339199253e-03   2.5e-01  0.03  \n",
      "2   1.9e-01  7.4e-02  1.2e-02  1.02e+00   2.387970825e-01   2.624589681e-01   7.4e-02  0.03  \n",
      "3   9.7e-03  3.9e-03  1.4e-04  1.08e+00   2.305758710e-01   2.318641374e-01   3.9e-03  0.04  \n",
      "4   2.0e-04  8.0e-05  4.2e-07  1.01e+00   2.281175691e-01   2.281433808e-01   8.0e-05  0.05  \n",
      "5   1.7e-06  7.0e-07  3.3e-10  1.00e+00   2.281129469e-01   2.281131786e-01   7.0e-07  0.05  \n",
      "6   1.9e-08  7.7e-09  3.7e-13  1.01e+00   2.281135346e-01   2.281135373e-01   7.7e-09  0.06  \n",
      "Optimizer terminated. Time: 0.06    \n",
      "\n",
      "OPTIMAL\n",
      "opt_val=0.22811353464181214\n",
      "  0.161545 seconds (174.18 k allocations: 15.982 MiB)\n"
     ]
    },
    {
     "data": {
      "text/plain": [
       "0.22811353464181214"
      ]
     },
     "execution_count": 11,
     "metadata": {},
     "output_type": "execute_result"
    }
   ],
   "source": [
    "include(\"../src/ctpPOP.jl\")\n",
    "using .ctpPOP\n",
    "\n",
    "opt_val2=ctpPOP.POP_dense_SOS(x,f,g,h,k,tol=1e-3)"
   ]
  },
  {
   "cell_type": "code",
   "execution_count": 12,
   "metadata": {},
   "outputs": [
    {
     "name": "stdout",
     "output_type": "stream",
     "text": [
      "This is Ipopt version 3.13.2, running with linear solver mumps.\n",
      "NOTE: Other linear solvers might be more efficient (see Ipopt documentation).\n",
      "\n",
      "Number of nonzeros in equality constraint Jacobian...:       30\n",
      "Number of nonzeros in inequality constraint Jacobian.:       15\n",
      "Number of nonzeros in Lagrangian Hessian.............:       35\n",
      "\n",
      "Total number of variables............................:        5\n",
      "                     variables with only lower bounds:        0\n",
      "                variables with lower and upper bounds:        0\n",
      "                     variables with only upper bounds:        0\n",
      "Total number of equality constraints.................:        1\n",
      "Total number of inequality constraints...............:        7\n",
      "        inequality constraints with only lower bounds:        7\n",
      "   inequality constraints with lower and upper bounds:        0\n",
      "        inequality constraints with only upper bounds:        0\n",
      "\n",
      "iter    objective    inf_pr   inf_du lg(mu)  ||d||  lg(rg) alpha_du alpha_pr  ls\n",
      "   0  8.5604475e-01 9.21e-01 4.00e-01  -1.0 0.00e+00    -  0.00e+00 0.00e+00   0\n",
      "   1  8.6995202e-01 8.72e-01 1.50e+00  -1.7 9.41e-01    -  2.22e-02 5.22e-02h  1\n",
      "   2  8.5983997e-01 8.37e-01 9.27e+00  -1.7 1.51e+00    -  1.00e+00 3.65e-02h  1\n",
      "   3  4.2913108e-01 5.23e-01 4.93e+00  -1.7 8.98e-01    -  1.22e-01 1.00e+00f  1\n",
      "   4  4.8037569e-01 4.06e-02 3.04e+00  -1.7 3.72e-01    -  5.76e-01 1.00e+00h  1\n",
      "   5  2.9133065e-01 6.52e-03 2.17e+00  -1.7 2.18e-01    -  2.62e-01 9.04e-01f  1\n",
      "   6  2.8628688e-01 1.99e-03 2.61e-01  -1.7 9.34e-02    -  1.00e+00 5.76e-01h  1\n",
      "   7  3.1200283e-01 2.69e-05 6.87e-03  -1.7 4.93e-02    -  1.00e+00 1.00e+00f  1\n",
      "   8  2.4750663e-01 7.93e-04 1.76e-02  -2.5 4.95e-02    -  9.21e-01 1.00e+00h  1\n",
      "   9  2.2969792e-01 7.59e-05 7.69e-04  -3.8 2.14e-02    -  1.00e+00 1.00e+00h  1\n",
      "iter    objective    inf_pr   inf_du lg(mu)  ||d||  lg(rg) alpha_du alpha_pr  ls\n",
      "  10  2.2813973e-01 4.25e-07 1.22e-05  -5.7 2.74e-03    -  1.00e+00 1.00e+00h  1\n",
      "  11  2.2811351e-01 1.10e-10 3.22e-09  -8.6 5.02e-05    -  1.00e+00 1.00e+00h  1\n",
      "\n",
      "Number of Iterations....: 11\n",
      "\n",
      "                                   (scaled)                 (unscaled)\n",
      "Objective...............:   2.2811351007601738e-01    2.2811351007601738e-01\n",
      "Dual infeasibility......:   3.2230988988857234e-09    3.2230988988857234e-09\n",
      "Constraint violation....:   1.1008327582828770e-10    1.1008327582828770e-10\n",
      "Complementarity.........:   8.6680939671104473e-09    8.6680939671104473e-09\n",
      "Overall NLP error.......:   8.6680939671104473e-09    8.6680939671104473e-09\n",
      "\n",
      "\n",
      "Number of objective function evaluations             = 12\n",
      "Number of objective gradient evaluations             = 12\n",
      "Number of equality constraint evaluations            = 12\n",
      "Number of inequality constraint evaluations          = 12\n",
      "Number of equality constraint Jacobian evaluations   = 12\n",
      "Number of inequality constraint Jacobian evaluations = 12\n",
      "Number of Lagrangian Hessian evaluations             = 11\n",
      "Total CPU secs in IPOPT (w/o function evaluations)   =      0.009\n",
      "Total CPU secs in NLP function evaluations           =      0.000\n",
      "\n",
      "EXIT: Optimal Solution Found.\n",
      "LOCALLY_SOLVED\n",
      "opt_val=0.22811351007601738\n",
      "  0.021067 seconds (4.66 k allocations: 356.234 KiB)\n"
     ]
    },
    {
     "name": "stderr",
     "output_type": "stream",
     "text": [
      "WARNING: replacing module ctpPOP.\n"
     ]
    },
    {
     "data": {
      "text/plain": [
       "0.22811351007601738"
      ]
     },
     "execution_count": 12,
     "metadata": {},
     "output_type": "execute_result"
    }
   ],
   "source": [
    "include(\"../src/ctpPOP.jl\")\n",
    "using .ctpPOP\n",
    "\n",
    "optval=ctpPOP.POP_NLP(n,m,l,lmon_g,supp_g,coe_g,lmon_h,supp_h,coe_h,lmon_f,supp_f,coe_f)"
   ]
  },
  {
   "cell_type": "code",
   "execution_count": null,
   "metadata": {},
   "outputs": [],
   "source": []
  }
 ],
 "metadata": {
  "kernelspec": {
   "display_name": "Julia 1.3.0",
   "language": "julia",
   "name": "julia-1.3"
  },
  "language_info": {
   "file_extension": ".jl",
   "mimetype": "application/julia",
   "name": "julia",
   "version": "1.3.0"
  }
 },
 "nbformat": 4,
 "nbformat_minor": 2
}
