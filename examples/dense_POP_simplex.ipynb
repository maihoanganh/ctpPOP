{
 "cells": [
  {
   "cell_type": "code",
   "execution_count": 15,
   "metadata": {},
   "outputs": [
    {
     "name": "stdout",
     "output_type": "stream",
     "text": [
      "***Problem setting***\n",
      "Number of variable: n=5\n",
      "====================\n",
      "Number of inequality constraints: m=7\n",
      "====================\n",
      "Number of equality constraints: l=1\n"
     ]
    }
   ],
   "source": [
    "using DynamicPolynomials\n",
    "\n",
    "println(\"***Problem setting***\")\n",
    "\n",
    "n=5\n",
    "\n",
    "println(\"Number of variable: n=\",n)\n",
    "println(\"====================\")\n",
    "\n",
    "@polyvar x[1:n]# variables\n",
    "\n",
    "function generate_random_poly(v)\n",
    "    c=2*rand(Float64,length(v)).-1\n",
    "    return c'*v\n",
    "end\n",
    "# random quadratic objective function f\n",
    "v=reverse(monomials(x,0:2))\n",
    "f=generate_random_poly(v)\n",
    "\n",
    "\n",
    "# unit sphere constraint\n",
    "g=[x;1.0-sum(x);1.0-sum(x.^2)] #type of coefficients of each polynomial must be float\n",
    "\n",
    "m=length(g)\n",
    "println(\"Number of inequality constraints: m=\",m)\n",
    "println(\"====================\")\n",
    "\n",
    "l=ceil(Int64, n/7)\n",
    "\n",
    "h=Vector{Polynomial{true,Float64}}(undef,l)\n",
    "randx=2*rand(n).-1# create a feasible solution\n",
    "randx=rand(1)[1]*randx./sqrt(sum(randx.^2))\n",
    "\n",
    "\n",
    "for j in 1:l\n",
    "    h[j]=generate_random_poly(v[2:end])\n",
    "    h[j]-=h[j](x => randx) #make constraints feasible\n",
    "end\n",
    "\n",
    "l=length(h)\n",
    "println(\"Number of equality constraints: l=\",l)"
   ]
  },
  {
   "cell_type": "code",
   "execution_count": 16,
   "metadata": {},
   "outputs": [
    {
     "name": "stderr",
     "output_type": "stream",
     "text": [
      "WARNING: replacing module ctpPOP.\n"
     ]
    }
   ],
   "source": [
    "include(\"../src/ctpPOP.jl\")\n",
    "using .ctpPOP\n",
    "\n",
    "n,m,l,lmon_g,supp_g,coe_g,lmon_h,supp_h,coe_h,lmon_f,supp_f,coe_f,dg,dh=ctpPOP.get_info(x,f,g,h,sparse=false);"
   ]
  },
  {
   "cell_type": "code",
   "execution_count": 17,
   "metadata": {},
   "outputs": [
    {
     "name": "stdout",
     "output_type": "stream",
     "text": [
      "Relaxed order: k=2\n"
     ]
    }
   ],
   "source": [
    "k=2\n",
    "\n",
    "println(\"Relaxed order: k=\",k)"
   ]
  },
  {
   "cell_type": "code",
   "execution_count": 18,
   "metadata": {},
   "outputs": [
    {
     "name": "stdout",
     "output_type": "stream",
     "text": [
      "  Computing constant trace status: OPTIMAL\n",
      "  Constant trace: ak = 5.0\n",
      "  Condition number: c = 65.57438524302002\n",
      "  Number of blocks: omega=8\n",
      "  Size of the largest block: s^max=21\n",
      "  Number of equality trace constraints: zeta=274\n",
      "Modeling time:\n",
      "  0.059655 seconds (108.25 k allocations: 7.003 MiB)\n",
      "iter=1   val=-4.964233750892684   gap=0.011212405927642477   feas=7.068723943365406\n",
      "iter=2   val=-1.6155259933638328   gap=0.19689548137609203   feas=2.538313501739083\n",
      "iter=4   val=-1.637972835979574   gap=0.03516323415665735   feas=1.8876327698390327\n",
      "iter=8   val=-0.7838739671033013   gap=0.035164994508705485   feas=0.9167302264027727\n",
      "iter=16   val=-0.68282678338948   gap=0.07479808755180455   feas=0.6658630279144505\n",
      "iter=32   val=-0.37834538577905186   gap=0.12081047945732497   feas=0.3904944340612753\n",
      "iter=64   val=-0.09934981369939423   gap=0.04739121791422211   feas=0.18989091911009798\n",
      "iter=128   val=0.025161726495771336   gap=0.043123076533100387   feas=0.09479069548391517\n",
      "iter="
     ]
    },
    {
     "name": "stderr",
     "output_type": "stream",
     "text": [
      "WARNING: replacing module ctpPOP.\n"
     ]
    },
    {
     "name": "stdout",
     "output_type": "stream",
     "text": [
      "256   val=0.03211826856403701   gap=0.019792642540416756   feas=0.039390109426679205\n",
      "iter=512   val=0.03856595246926307   gap=0.019763385724491236   feas=0.016643319646876074\n",
      "iter=1024   val=0.041362230908017834   gap=0.009516748020983777   feas=0.006685962332883778\n",
      "iter=2048   val=0.04277117543338677   gap=0.005919072484289903   feas=0.0035716868434795216\n",
      "iter=4096   val=0.04336479919278788   gap=0.00412476755607586   feas=0.0012052514064564374\n",
      "iter=8192   val=0.043498156718798864   gap=0.0037031760610789937   feas=0.0005551418648747053\n",
      "iter=16384   val=0.04367222865763087   gap=0.007548894246888066   feas=0.00040632874121258444\n",
      "iter=30804   val=0.043535888910808555   gap=0.0009999094681865635   feas=0.00021219780771804876\n",
      "tol satisfies!!!\n",
      "\n",
      "####################################\n",
      "opt_val = 0.043535888910808555\n",
      "####################################\n",
      "Solving time:\n",
      " 11.458357 seconds (23.75 M allocations: 2.162 GiB, 2.67% gc time)\n",
      "Total time:\n",
      " 11.518146 seconds (23.86 M allocations: 2.169 GiB, 2.66% gc time)\n"
     ]
    },
    {
     "data": {
      "text/plain": [
       "0.043535888910808555"
      ]
     },
     "execution_count": 18,
     "metadata": {},
     "output_type": "execute_result"
    }
   ],
   "source": [
    "include(\"../src/ctpPOP.jl\")\n",
    "using .ctpPOP\n",
    "\n",
    "opt_val1=ctpPOP.POP_dense_CGAL(n,m,l,lmon_g,supp_g,coe_g,lmon_h,supp_h,coe_h,lmon_f,supp_f,coe_f,dg,dh,k,\n",
    "                         maxit=Int64(1e6),tol=1e-3,\n",
    "                         use_eqcons_to_get_constant_trace=false,\n",
    "                         check_tol_each_iter=true)"
   ]
  },
  {
   "cell_type": "code",
   "execution_count": 19,
   "metadata": {},
   "outputs": [
    {
     "name": "stdout",
     "output_type": "stream",
     "text": [
      "  Computing constant trace status: OPTIMAL\n",
      "  Constant trace: ak = 5.0\n",
      "  Condition number: c = 65.57438524302002\n",
      "  Number of blocks: omega=8\n",
      "  Size of the largest block: s^max=21\n",
      "  Number of equality trace constraints: zeta=274\n",
      "Modeling time:\n",
      "  0.056974 seconds (108.24 k allocations: 7.002 MiB)\n",
      "---------------\n",
      "| Parameters: |\n",
      "---------------\n",
      "n:       274\n",
      "maxtime: 300000.000000\n",
      "na:      2\n",
      "mcu:     5\n",
      "mc:      7\n",
      "rpar: \n",
      "ipar: \n"
     ]
    },
    {
     "name": "stderr",
     "output_type": "stream",
     "text": [
      "WARNING: replacing module ctpPOP.\n"
     ]
    },
    {
     "name": "stdout",
     "output_type": "stream",
     "text": [
      " Warning: MC > MCU. Assigned MC = MCU.\n",
      " Entry to LMBM:\n",
      " NIT=    1  NFE=    1  F= 0.58880210D+00  WK= 0.4414D+00  QK= 0.2207D+00\n",
      " NIT=    2  NFE=    2  F= 0.19663864D+00  WK= 0.8085D+00  QK= 0.1015D+00\n",
      " NIT=    3  NFE=    4  F= 0.13766818D+00  WK= 0.5842D-01  QK= 0.5555D-01\n",
      " Warning: A nondescent search direction occured. Restart.\n",
      " NIT=    4  NFE=    5  F= 0.13766818D+00  WK= 0.1111D+00  QK= 0.5555D-01\n",
      " NIT=    5  NFE=    6  F= 0.13460601D+00  WK= 0.5591D-01  QK= 0.6464D-01\n",
      " NIT=    6  NFE=    7  F= 0.97469763D-01  WK= 0.3221D-01  QK= 0.6879D-01\n",
      " NIT=    7  NFE=    8  F= 0.89209459D-01  WK= 0.1540D-01  QK= 0.6343D-01\n",
      " NIT=    8  NFE=    9  F= 0.85683135D-01  WK= 0.8475D-02  QK= 0.6646D-01\n",
      " NIT=    9  NFE=   10  F= 0.81886762D-01  WK= 0.2793D-02  QK= 0.3062D-01\n",
      " NIT=   10  NFE=   11  F= 0.79980376D-01  WK= 0.1354D-02  QK= 0.2361D-01\n",
      " NIT=   11  NFE=   12  F= 0.78728681D-01  WK= 0.3718D-02  QK= 0.3207D-01\n",
      " NIT=   12  NFE=   13  F= 0.78728681D-01  WK= 0.9078D-02  QK= 0.2353D-01\n",
      " NIT=   13  NFE=   14  F= 0.74163450D-01  WK= 0.2089D-01  QK= 0.2343D-01\n",
      " NIT=   14  NFE=   15  F= 0.71130940D-01  WK= 0.1030D-01  QK= 0.5860D-01\n",
      " NIT=   15  NFE=   16  F= 0.63249785D-01  WK= 0.1888D-01  QK= 0.4552D-01\n",
      " Warning: A nondescent search direction occured. Restart.\n",
      " NIT=   16  NFE=   17  F= 0.63249785D-01  WK= 0.9105D-01  QK= 0.4552D-01\n",
      " NIT=   17  NFE=   18  F= 0.63249785D-01  WK= 0.6164D-01  QK= 0.3084D-01\n",
      " NIT=   18  NFE=   25  F= 0.62907912D-01  WK= 0.4897D-03  QK= 0.6620D-01\n",
      " NIT=   19  NFE=   26  F= 0.62418177D-01  WK= 0.1666D+02  QK= 0.6620D-01\n",
      " NIT=   20  NFE=   27  F= 0.62418177D-01  WK= 0.2264D+00  QK= 0.1503D+00\n",
      " NIT=   21  NFE=   33  F= 0.61996916D-01  WK= 0.6500D-01  QK= 0.6191D-01\n",
      " Warning: A nondescent search direction occured. Restart.\n",
      " NIT=   22  NFE=   34  F= 0.61996916D-01  WK= 0.1238D+00  QK= 0.6191D-01\n",
      " NIT=   23  NFE=   35  F= 0.61996916D-01  WK= 0.7553D-01  QK= 0.3786D-01\n",
      " NIT=   24  NFE=   42  F= 0.61879328D-01  WK= 0.3099D-02  QK= 0.4456D-01\n",
      " NIT=   25  NFE=   43  F= 0.61879328D-01  WK= 0.1667D-01  QK= 0.1855D-01\n",
      " NIT=   26  NFE=   46  F= 0.61736052D-01  WK= 0.1755D-02  QK= 0.2286D-01\n",
      " NIT=   27  NFE=   47  F= 0.59981932D-01  WK= 0.6162D+01  QK= 0.2287D-01\n",
      " NIT=   28  NFE=   48  F= 0.59981932D-01  WK= 0.3166D+00  QK= 0.1635D+00\n",
      " Warning: A nondescent search direction occured. Restart.\n",
      " NIT=   29  NFE=   93  F= 0.59981932D-01  WK= 0.4574D-01  QK= 0.2287D-01\n",
      " NIT=   30  NFE=   94  F= 0.59981932D-01  WK= 0.2558D-01  QK= 0.1281D-01\n",
      " NIT=   31  NFE=   98  F= 0.59838845D-01  WK= 0.4210D-02  QK= 0.6617D-01\n",
      " NIT=   32  NFE=   99  F= 0.59838845D-01  WK= 0.7919D-02  QK= 0.2708D-01\n",
      " NIT=   33  NFE=  106  F= 0.59790379D-01  WK= 0.1494D-02  QK= 0.6192D-01\n",
      " NIT=   34  NFE=  107  F= 0.59790379D-01  WK= 0.4125D-02  QK= 0.1930D-01\n",
      " NIT=   35  NFE=  108  F= 0.56316630D-01  WK= 0.3047D-01  QK= 0.4410D-01\n",
      " NIT=   36  NFE=  110  F= 0.55090643D-01  WK= 0.1599D-01  QK= 0.1012D+00\n",
      " NIT=   37  NFE=  111  F= 0.46743963D-01  WK= 0.5274D-02  QK= 0.4788D-01\n",
      " NIT=   38  NFE=  112  F= 0.43354093D-01  WK= 0.4069D-02  QK= 0.2297D-01\n",
      " NIT=   39  NFE=  113  F= 0.39564971D-01  WK= 0.8730D-01  QK= 0.2332D-01\n",
      " NIT=   40  NFE=  115  F= 0.38874501D-01  WK= 0.5003D-01  QK= 0.1342D+00\n",
      " Warning: A nondescent search direction occured. Restart.\n",
      " NIT=   41  NFE=  117  F= 0.38874501D-01  WK= 0.2683D+00  QK= 0.1342D+00\n",
      " NIT=   42  NFE=  118  F= 0.38874501D-01  WK= 0.1889D+00  QK= 0.9447D-01\n",
      " NIT=   43  NFE=  121  F= 0.37678621D-01  WK= 0.1098D-01  QK= 0.6514D-01\n",
      " NIT=   44  NFE=  122  F= 0.36774994D-01  WK= 0.1060D-01  QK= 0.6204D-01\n",
      " NIT=   45  NFE=  123  F= 0.32606832D-01  WK= 0.8394D-02  QK= 0.4108D-01\n",
      " NIT=   46  NFE=  124  F= 0.28771525D-01  WK= 0.2342D-02  QK= 0.6199D-01\n",
      " NIT=   47  NFE=  125  F= 0.27533191D-01  WK= 0.1949D-02  QK= 0.3521D-01\n",
      " NIT=   48  NFE=  126  F= 0.26075944D-01  WK= 0.4349D-02  QK= 0.3370D-01\n",
      " NIT=   49  NFE=  127  F= 0.26075944D-01  WK= 0.8104D-02  QK= 0.2006D-01\n",
      " NIT=   50  NFE=  128  F= 0.20683259D-01  WK= 0.1078D-01  QK= 0.6022D-01\n",
      " NIT=   51  NFE=  129  F= 0.20683259D-01  WK= 0.1382D-01  QK= 0.3904D-01\n",
      " NIT=   52  NFE=  132  F= 0.20511913D-01  WK= 0.3312D-02  QK= 0.4646D-01\n",
      " NIT=   53  NFE=  133  F= 0.18216143D-01  WK= 0.9188D-02  QK= 0.5691D-01\n",
      " NIT=   54  NFE=  134  F= 0.18216143D-01  WK= 0.1018D-01  QK= 0.4292D-01\n",
      " NIT=   55  NFE=  138  F= 0.17965863D-01  WK= 0.3756D-02  QK= 0.6498D-01\n",
      " NIT=   56  NFE=  139  F= 0.17965863D-01  WK= 0.5867D-02  QK= 0.2206D-01\n",
      " NIT=   57  NFE=  141  F= 0.17870704D-01  WK= 0.6979D-02  QK= 0.4179D-01\n",
      " NIT=   58  NFE=  142  F= 0.16802684D-01  WK= 0.2803D-02  QK= 0.5880D-01\n",
      " NIT=   59  NFE=  143  F= 0.16802684D-01  WK= 0.2507D-02  QK= 0.2803D-01\n",
      " NIT=   60  NFE=  144  F= 0.16166677D-01  WK= 0.1998D-02  QK= 0.4698D-01\n",
      " NIT=   61  NFE=  145  F= 0.15338811D-01  WK= 0.1280D-02  QK= 0.3621D-01\n",
      " NIT=   62  NFE=  146  F= 0.14802530D-01  WK= 0.2406D-02  QK= 0.6509D-01\n",
      " NIT=   63  NFE=  147  F= 0.14802530D-01  WK= 0.2438D-02  QK= 0.3441D-01\n",
      " NIT=   64  NFE=  151  F= 0.14625420D-01  WK= 0.2682D-02  QK= 0.7243D-01\n",
      " NIT=   65  NFE=  152  F= 0.14625420D-01  WK= 0.4054D-02  QK= 0.4286D-01\n",
      " NIT=   66  NFE=  153  F= 0.14215397D-01  WK= 0.2251D-02  QK= 0.3887D-01\n",
      " NIT=   67  NFE=  154  F= 0.14215397D-01  WK= 0.1241D-01  QK= 0.1467D-01\n",
      " Exit from LMBM:\n",
      " Abnormal exit: Too many steps without significant progress.\n",
      " NIT=   67  NFE=  158  F= 0.13817010D-01  WK= 0.1241D-01  QK= 0.1467D-01  ITERM=  2\n",
      "-----------\n",
      "| Output: |\n",
      "-----------\n",
      "Termination:     2\n",
      "N. iter.:        67\n",
      "N. func. eval.:  158\n",
      "Final value:     0.013817\n",
      "Execution time:  0.116364\n",
      "\n",
      "####################################\n",
      "opt_val = -0.11657929952563466\n",
      "####################################\n",
      "Solving time:\n",
      "  0.209040 seconds (379.08 k allocations: 25.840 MiB)\n",
      "Total time:\n",
      "  0.266138 seconds (487.85 k allocations: 32.853 MiB)\n"
     ]
    },
    {
     "data": {
      "text/plain": [
       "-0.11657929952563466"
      ]
     },
     "execution_count": 19,
     "metadata": {},
     "output_type": "execute_result"
    }
   ],
   "source": [
    "include(\"../src/ctpPOP.jl\")\n",
    "using .ctpPOP\n",
    "\n",
    "opt_val=ctpPOP.POP_dense_LMBM(n,m,l,lmon_g,supp_g,coe_g,lmon_h,supp_h,coe_h,lmon_f,supp_f,coe_f,dg,dh,k,\n",
    "                         tol=1e-3,use_eqcons_to_get_constant_trace=false)"
   ]
  },
  {
   "cell_type": "code",
   "execution_count": 20,
   "metadata": {},
   "outputs": [
    {
     "name": "stdout",
     "output_type": "stream",
     "text": [
      "**SumOfSquares+Mosek:\n",
      "Problem\n",
      "  Name                   :                 \n",
      "  Objective sense        : max             \n",
      "  Type                   : CONIC (conic optimization problem)\n",
      "  Constraints            : 126             \n",
      "  Cones                  : 0               \n",
      "  Scalar variables       : 22              \n",
      "  Matrix variables       : 8               \n",
      "  Integer variables      : 0               \n",
      "\n",
      "Optimizer started.\n",
      "Presolve started.\n",
      "Linear dependency checker started.\n",
      "Linear dependency checker terminated.\n",
      "Eliminator started.\n",
      "Freed constraints in eliminator : 0\n",
      "Eliminator terminated.\n",
      "Eliminator - tries                  : 1                 time                   : 0.00            \n",
      "Lin. dep.  - tries                  : 1                 time                   : 0.00            \n",
      "Lin. dep.  - number                 : 0               \n",
      "Presolve terminated. Time: 0.00    \n",
      "Problem\n",
      "  Name                   :                 \n",
      "  Objective sense        : max             \n",
      "  Type                   : CONIC (conic optimization problem)\n",
      "  Constraints            : 126             \n",
      "  Cones                  : 0               \n",
      "  Scalar variables       : 22              \n",
      "  Matrix variables       : 8               \n",
      "  Integer variables      : 0               \n",
      "\n",
      "Optimizer  - threads                : 4               \n",
      "Optimizer  - solved problem         : the primal      \n",
      "Optimizer  - Constraints            : 126\n",
      "Optimizer  - Cones                  : 1\n",
      "Optimizer  - Scalar variables       : 23                conic                  : 23              \n",
      "Optimizer  - Semi-definite variables: 8                 scalarized             : 378             \n",
      "Factor     - setup time             : 0.00              dense det. time        : 0.00            \n",
      "Factor     - ML order time          : 0.00              GP order time          : 0.00            \n",
      "Factor     - nonzeros before factor : 8001              after factor           : 8001            \n",
      "Factor     - dense dim.             : 0                 flops                  : 8.93e+05        \n",
      "ITE PFEAS    DFEAS    GFEAS    PRSTATUS   POBJ              DOBJ              MU       TIME  \n",
      "0   2.5e+00  1.0e+00  1.0e+00  0.00e+00   0.000000000e+00   0.000000000e+00   1.0e+00  0.00  \n",
      "1   6.0e-01  2.4e-01  6.5e-02  1.75e+00   1.904418785e-02   7.981327388e-02   2.4e-01  0.00  \n",
      "2   1.1e-01  4.4e-02  4.3e-03  1.16e+00   4.873975006e-02   6.097618671e-02   4.4e-02  0.00  \n",
      "3   2.3e-02  9.0e-03  3.8e-04  1.13e+00   4.835839639e-02   5.087894971e-02   9.0e-03  0.01  \n",
      "4   2.8e-03  1.1e-03  1.8e-05  1.01e+00   4.465421210e-02   4.492535018e-02   1.1e-03  0.01  \n",
      "5   8.2e-05  3.3e-05  8.5e-08  1.00e+00   4.359450723e-02   4.360348313e-02   3.3e-05  0.01  \n",
      "6   6.9e-07  2.8e-07  6.2e-11  1.00e+00   4.357545990e-02   4.357553914e-02   2.8e-07  0.01  \n",
      "7   2.4e-08  9.4e-09  3.8e-13  1.01e+00   4.357542421e-02   4.357542693e-02   9.4e-09  0.01  \n",
      "Optimizer terminated. Time: 0.01    \n",
      "\n",
      "OPTIMAL\n",
      "opt_val=0.04357542420516848\n",
      "  0.068604 seconds (173.93 k allocations: 15.984 MiB)\n"
     ]
    },
    {
     "name": "stderr",
     "output_type": "stream",
     "text": [
      "WARNING: replacing module ctpPOP.\n"
     ]
    },
    {
     "data": {
      "text/plain": [
       "0.04357542420516848"
      ]
     },
     "execution_count": 20,
     "metadata": {},
     "output_type": "execute_result"
    }
   ],
   "source": [
    "include(\"../src/ctpPOP.jl\")\n",
    "using .ctpPOP\n",
    "\n",
    "opt_val2=ctpPOP.POP_dense_SOS(x,f,g,h,k,tol=1e-3)"
   ]
  },
  {
   "cell_type": "code",
   "execution_count": 21,
   "metadata": {},
   "outputs": [
    {
     "name": "stdout",
     "output_type": "stream",
     "text": [
      "This is Ipopt version 3.13.2, running with linear solver mumps.\n",
      "NOTE: Other linear solvers might be more efficient (see Ipopt documentation).\n",
      "\n",
      "Number of nonzeros in equality constraint Jacobian...:       30\n",
      "Number of nonzeros in inequality constraint Jacobian.:       15\n",
      "Number of nonzeros in Lagrangian Hessian.............:       35\n",
      "\n",
      "Total number of variables............................:        5\n",
      "                     variables with only lower bounds:        0\n",
      "                variables with lower and upper bounds:        0\n",
      "                     variables with only upper bounds:        0\n",
      "Total number of equality constraints.................:        1\n",
      "Total number of inequality constraints...............:        7\n",
      "        inequality constraints with only lower bounds:        7\n",
      "   inequality constraints with lower and upper bounds:        0\n",
      "        inequality constraints with only upper bounds:        0\n",
      "\n",
      "iter    objective    inf_pr   inf_du lg(mu)  ||d||  lg(rg) alpha_du alpha_pr  ls\n",
      "   0  4.9240128e-01 5.35e-01 3.25e-01  -1.0 0.00e+00    -  0.00e+00 0.00e+00   0\n",
      "   1  4.8834145e-01 5.12e-01 3.89e-01  -1.7 3.75e-01    -  4.49e-02 4.14e-02h  1\n",
      "   2  6.3745863e-01 1.02e-02 1.10e+00  -1.7 7.98e-01    -  1.34e-01 1.00e+00f  1\n",
      "   3  2.9625580e-01 1.87e-02 2.28e+00  -1.7 3.95e-01    -  2.15e-01 1.00e+00h  1\n",
      "   4  1.4970469e-01 3.61e-02 2.57e+00  -1.7 3.35e+00    -  5.10e-01 4.17e-02f  1\n",
      "   5  1.0311665e-01 1.98e-02 1.33e-01  -1.7 2.63e-01    -  1.00e+00 1.00e+00h  1\n",
      "   6  5.9870775e-02 7.55e-04 9.10e-03  -2.5 1.88e-01    -  9.93e-01 1.00e+00h  1\n",
      "   7  4.4580847e-02 3.65e-04 3.16e-03  -3.8 4.81e-02    -  9.97e-01 1.00e+00h  1\n",
      "   8  4.4048277e-02 7.11e-06 6.64e-05  -3.8 1.44e-02    -  1.00e+00 1.00e+00h  1\n",
      "   9  4.3581940e-02 6.26e-07 1.67e-06  -5.7 1.91e-03    -  1.00e+00 1.00e+00h  1\n",
      "iter    objective    inf_pr   inf_du lg(mu)  ||d||  lg(rg) alpha_du alpha_pr  ls\n",
      "  10  4.3575410e-02 2.10e-10 3.98e-10  -8.6 4.40e-05    -  1.00e+00 1.00e+00h  1\n",
      "\n",
      "Number of Iterations....: 10\n",
      "\n",
      "                                   (scaled)                 (unscaled)\n",
      "Objective...............:   4.3575410378371808e-02    4.3575410378371808e-02\n",
      "Dual infeasibility......:   3.9776060223317700e-10    3.9776060223317700e-10\n",
      "Constraint violation....:   2.0962942492985803e-10    2.0962942492985803e-10\n",
      "Complementarity.........:   4.0975678064988786e-09    4.0975678064988786e-09\n",
      "Overall NLP error.......:   4.0975678064988786e-09    4.0975678064988786e-09\n",
      "\n",
      "\n",
      "Number of objective function evaluations             = 11\n",
      "Number of objective gradient evaluations             = 11\n",
      "Number of equality constraint evaluations            = 11\n",
      "Number of inequality constraint evaluations          = 11\n",
      "Number of equality constraint Jacobian evaluations   = 11\n",
      "Number of inequality constraint Jacobian evaluations = 11\n",
      "Number of Lagrangian Hessian evaluations             = 10\n",
      "Total CPU secs in IPOPT (w/o function evaluations)   =      0.004\n",
      "Total CPU secs in NLP function evaluations           =      0.000\n",
      "\n",
      "EXIT: Optimal Solution Found.\n",
      "LOCALLY_SOLVED\n",
      "opt_val=0.04357541037837181\n",
      "  0.008467 seconds (4.65 k allocations: 355.250 KiB)\n"
     ]
    },
    {
     "name": "stderr",
     "output_type": "stream",
     "text": [
      "WARNING: replacing module ctpPOP.\n"
     ]
    },
    {
     "data": {
      "text/plain": [
       "0.04357541037837181"
      ]
     },
     "execution_count": 21,
     "metadata": {},
     "output_type": "execute_result"
    }
   ],
   "source": [
    "include(\"../src/ctpPOP.jl\")\n",
    "using .ctpPOP\n",
    "\n",
    "optval=ctpPOP.POP_NLP(n,m,l,lmon_g,supp_g,coe_g,lmon_h,supp_h,coe_h,lmon_f,supp_f,coe_f)"
   ]
  },
  {
   "cell_type": "code",
   "execution_count": null,
   "metadata": {},
   "outputs": [],
   "source": []
  }
 ],
 "metadata": {
  "kernelspec": {
   "display_name": "Julia 1.3.0",
   "language": "julia",
   "name": "julia-1.3"
  },
  "language_info": {
   "file_extension": ".jl",
   "mimetype": "application/julia",
   "name": "julia",
   "version": "1.3.0"
  }
 },
 "nbformat": 4,
 "nbformat_minor": 2
}
