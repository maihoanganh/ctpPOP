{
 "cells": [
  {
   "cell_type": "code",
   "execution_count": 1,
   "metadata": {},
   "outputs": [
    {
     "name": "stdout",
     "output_type": "stream",
     "text": [
      "***Problem setting***\n",
      "Number of variable: n=6\n",
      "====================\n",
      "Number of inequality constraints: m=2\n",
      "====================\n",
      "Number of equality constraints: l=0\n",
      "====================\n",
      "Relaxed order: k=2\n"
     ]
    }
   ],
   "source": [
    "using DynamicPolynomials, LinearAlgebra, SparseArrays\n",
    "\n",
    "println(\"***Problem setting***\")\n",
    "\n",
    "n=6\n",
    "\n",
    "println(\"Number of variable: n=\",n)\n",
    "println(\"====================\")\n",
    "\n",
    "@polyvar x[1:n]# variables\n",
    "\n",
    "function generate_random_poly(T::UnitRange{Int64})\n",
    "    v=reverse(monomials(x[T],0:2))\n",
    "    c=2*rand(Float64,length(v)).-1\n",
    "    return c'*v\n",
    "end\n",
    "\n",
    "# unit sphere constraint\n",
    "u=3\n",
    "p=floor(Int64,n/u)\n",
    "\n",
    "I=Vector{UnitRange{Int64}}(undef,p)\n",
    "I[1]=1:u\n",
    "I[2:p-1]=[u*(j-1):u*j for j in 2:p-1]\n",
    "I[p]=u*(p-1):n\n",
    "\n",
    "# random quadratic objective function f\n",
    "vecf=[generate_random_poly(I[j]) for j in 1:p]\n",
    "f=sum(vecf)\n",
    "\n",
    "g=[1.0-sum(x[I[j]].^2) for j in 1:p]\n",
    "J=[j:j for j in 1:p]\n",
    "\n",
    "m=length(g)\n",
    "println(\"Number of inequality constraints: m=\",m)\n",
    "println(\"====================\")\n",
    "\n",
    "l=0#ceil(Int64, n/7)\n",
    "\n",
    "r=floor(Int64,l/p)\n",
    "W=[(j-1)*r+1:j*r for j in 1:p-1]\n",
    "append!(W,[(p-1)*r+1:l])\n",
    "\n",
    "h=Vector{Polynomial{true,Float64}}(undef,l)\n",
    "\n",
    "#=randx=[2*rand(length(I[j])).-1 for j in 1:p]# create a feasible solution\n",
    "randx=[randx[j]/norm(randx[j]) for j in 1:p]=#\n",
    "\n",
    "randx=2*rand(Float64,n).-1\n",
    "\n",
    "for j in 1:p\n",
    "    randx[I[j]]=randx[I[j]]./norm(randx[I[j]])\n",
    "    randx[I[j]]=rand(Float64,1)[1]*randx[I[j]]\n",
    "end\n",
    "\n",
    "for j in 1:p\n",
    "    for i in W[j]\n",
    "        h[i]=generate_random_poly(I[j])\n",
    "        h[i]-=h[i](x => randx) #make constraints feasible\n",
    "    end\n",
    "end\n",
    "\n",
    "l=length(h)\n",
    "println(\"Number of equality constraints: l=\",l)\n",
    "println(\"====================\")\n",
    "\n",
    "k=2\n",
    "\n",
    "println(\"Relaxed order: k=\",k)"
   ]
  },
  {
   "cell_type": "code",
   "execution_count": 2,
   "metadata": {},
   "outputs": [
    {
     "name": "stderr",
     "output_type": "stream",
     "text": [
      "WARNING: Compat.Printf is deprecated, use Printf instead.\n",
      "  likely near /home/hoanganh/Desktop/math-topics/ctpPOP/codes/ctpPOP/solvers/ProximalBundleMethod/ProximalMethod.jl:391\n"
     ]
    }
   ],
   "source": [
    "include(\"../src/ctpPOP.jl\")\n",
    "using .ctpPOP\n",
    "\n",
    "n,m,l,lmon_g,supp_g,coe_g,lmon_h,supp_h,coe_h,lmon_f,supp_f,coe_f,dg,dh=ctpPOP.get_info(x,f,g,h,sparse=true);"
   ]
  },
  {
   "cell_type": "code",
   "execution_count": 3,
   "metadata": {},
   "outputs": [
    {
     "name": "stdout",
     "output_type": "stream",
     "text": [
      "------------------------------------------------------\n"
     ]
    },
    {
     "name": "stderr",
     "output_type": "stream",
     "text": [
      "WARNING: replacing module ctpPOP.\n",
      "WARNING: Compat.Printf is deprecated, use Printf instead.\n",
      "  likely near /home/hoanganh/Desktop/math-topics/ctpPOP/codes/ctpPOP/solvers/ProximalBundleMethod/ProximalMethod.jl:391\n"
     ]
    },
    {
     "name": "stdout",
     "output_type": "stream",
     "text": [
      "The clique sizes of varibles:\n",
      "[4, 3]\n",
      "[1, 1]\n",
      "------------------------------------------------------\n"
     ]
    },
    {
     "ename": "MethodError",
     "evalue": "MethodError: no method matching get_indcons(::Int64, ::Array{SparseMatrixCSC{UInt64,Ti} where Ti<:Integer,1}, ::Array{Array{UInt16,1},1}, ::Int64, ::Array{Int64,1}; assign=\"all\")\nClosest candidates are:\n  get_indcons(::Int64, !Matched::SparseMatrixCSC{UInt64,Ti} where Ti<:Integer, ::Array{Array{UInt16,1},1}, ::Int64, !Matched::Array{Array{Int64,1},1}; assign) at /home/hoanganh/Desktop/math-topics/ctpPOP/codes/ctpPOP/src/pop/sparse_pop/basic_func_sparse.jl:3",
     "output_type": "error",
     "traceback": [
      "MethodError: no method matching get_indcons(::Int64, ::Array{SparseMatrixCSC{UInt64,Ti} where Ti<:Integer,1}, ::Array{Array{UInt16,1},1}, ::Int64, ::Array{Int64,1}; assign=\"all\")\nClosest candidates are:\n  get_indcons(::Int64, !Matched::SparseMatrixCSC{UInt64,Ti} where Ti<:Integer, ::Array{Array{UInt16,1},1}, ::Int64, !Matched::Array{Array{Int64,1},1}; assign) at /home/hoanganh/Desktop/math-topics/ctpPOP/codes/ctpPOP/src/pop/sparse_pop/basic_func_sparse.jl:3",
      "",
      "Stacktrace:",
      " [1] #model_CS_CGAL#284(::Bool, ::typeof(Main.ctpPOP.model_CS_CGAL), ::Int64, ::Int64, ::Int64, ::Array{UInt64,1}, ::Array{SparseMatrixCSC{UInt64,Ti} where Ti<:Integer,1}, ::Array{Array{Float64,1},1}, ::Array{UInt64,1}, ::Array{SparseMatrixCSC{UInt64,Ti} where Ti<:Integer,1}, ::Array{Array{Float64,1},1}, ::Int64, ::SparseMatrixCSC{UInt64,Int64}, ::Array{Float64,1}, ::Array{Int64,1}, ::Array{Int64,1}, ::Int64) at /home/hoanganh/Desktop/math-topics/ctpPOP/codes/ctpPOP/src/pop/sparse_pop/CS/CGAL/pop_CS_CGAL.jl:5",
      " [2] (::Main.ctpPOP.var\"#kw##model_CS_CGAL\")(::NamedTuple{(:UseEq,),Tuple{Bool}}, ::typeof(Main.ctpPOP.model_CS_CGAL), ::Int64, ::Int64, ::Int64, ::Array{UInt64,1}, ::Array{SparseMatrixCSC{UInt64,Ti} where Ti<:Integer,1}, ::Array{Array{Float64,1},1}, ::Array{UInt64,1}, ::Array{SparseMatrixCSC{UInt64,Ti} where Ti<:Integer,1}, ::Array{Array{Float64,1},1}, ::Int64, ::SparseMatrixCSC{UInt64,Int64}, ::Array{Float64,1}, ::Array{Int64,1}, ::Array{Int64,1}, ::Int64) at ./none:0",
      " [3] macro expansion at ./util.jl:155 [inlined]",
      " [4] macro expansion at /home/hoanganh/Desktop/math-topics/ctpPOP/codes/ctpPOP/src/pop/sparse_pop/CS/CGAL/pop_CS_CGAL.jl:346 [inlined]",
      " [5] macro expansion at ./util.jl:155 [inlined]",
      " [6] #POP_CS_CGAL#310(::String, ::Float64, ::Float64, ::Bool, ::typeof(Main.ctpPOP.POP_CS_CGAL), ::Int64, ::Int64, ::Int64, ::Array{UInt64,1}, ::Array{SparseMatrixCSC{UInt64,Ti} where Ti<:Integer,1}, ::Array{Array{Float64,1},1}, ::Array{UInt64,1}, ::Array{SparseMatrixCSC{UInt64,Ti} where Ti<:Integer,1}, ::Array{Array{Float64,1},1}, ::Int64, ::SparseMatrixCSC{UInt64,Int64}, ::Array{Float64,1}, ::Array{Int64,1}, ::Array{Int64,1}, ::Int64) at /home/hoanganh/Desktop/math-topics/ctpPOP/codes/ctpPOP/src/pop/sparse_pop/CS/CGAL/pop_CS_CGAL.jl:343",
      " [7] (::Main.ctpPOP.var\"#kw##POP_CS_CGAL\")(::NamedTuple{(:EigAlg, :maxit, :tol, :UseEq),Tuple{String,Float64,Float64,Bool}}, ::typeof(Main.ctpPOP.POP_CS_CGAL), ::Int64, ::Int64, ::Int64, ::Array{UInt64,1}, ::Array{SparseMatrixCSC{UInt64,Ti} where Ti<:Integer,1}, ::Array{Array{Float64,1},1}, ::Array{UInt64,1}, ::Array{SparseMatrixCSC{UInt64,Ti} where Ti<:Integer,1}, ::Array{Array{Float64,1},1}, ::Int64, ::SparseMatrixCSC{UInt64,Int64}, ::Array{Float64,1}, ::Array{Int64,1}, ::Array{Int64,1}, ::Int64) at ./none:0",
      " [8] top-level scope at In[3]:3"
     ]
    }
   ],
   "source": [
    "include(\"../src/ctpPOP.jl\")\n",
    "using .ctpPOP\n",
    "\n",
    "opt_val1=ctpPOP.POP_CS_CGAL(n,m,l,lmon_g,supp_g,coe_g,lmon_h,supp_h,coe_h,lmon_f,supp_f,coe_f,dg,dh,k;EigAlg=\"Arpack\",maxit=1e10,tol=1e-3,UseEq=false)"
   ]
  },
  {
   "cell_type": "code",
   "execution_count": 4,
   "metadata": {},
   "outputs": [
    {
     "name": "stdout",
     "output_type": "stream",
     "text": [
      "------------------------------------------------------\n",
      "The clique sizes of varibles:\n",
      "[4, 3]\n",
      "[1, 1]\n",
      "------------------------------------------------------\n"
     ]
    },
    {
     "name": "stderr",
     "output_type": "stream",
     "text": [
      "WARNING: replacing module ctpPOP.\n",
      "WARNING: Compat.Printf is deprecated, use Printf instead.\n",
      "  likely near /home/hoanganh/Desktop/math-topics/ctpPOP/codes/ctpPOP/solvers/ProximalBundleMethod/ProximalMethod.jl:391\n"
     ]
    },
    {
     "ename": "MethodError",
     "evalue": "MethodError: no method matching get_indcons(::Int64, ::Array{SparseMatrixCSC{UInt64,Ti} where Ti<:Integer,1}, ::Array{Array{UInt16,1},1}, ::Int64, ::Array{Int64,1}; assign=\"all\")\nClosest candidates are:\n  get_indcons(::Int64, !Matched::SparseMatrixCSC{UInt64,Ti} where Ti<:Integer, ::Array{Array{UInt16,1},1}, ::Int64, !Matched::Array{Array{Int64,1},1}; assign) at /home/hoanganh/Desktop/math-topics/ctpPOP/codes/ctpPOP/src/pop/sparse_pop/basic_func_sparse.jl:3",
     "output_type": "error",
     "traceback": [
      "MethodError: no method matching get_indcons(::Int64, ::Array{SparseMatrixCSC{UInt64,Ti} where Ti<:Integer,1}, ::Array{Array{UInt16,1},1}, ::Int64, ::Array{Int64,1}; assign=\"all\")\nClosest candidates are:\n  get_indcons(::Int64, !Matched::SparseMatrixCSC{UInt64,Ti} where Ti<:Integer, ::Array{Array{UInt16,1},1}, ::Int64, !Matched::Array{Array{Int64,1},1}; assign) at /home/hoanganh/Desktop/math-topics/ctpPOP/codes/ctpPOP/src/pop/sparse_pop/basic_func_sparse.jl:3",
      "",
      "Stacktrace:",
      " [1] #model_CS_LMBM#365(::Bool, ::typeof(Main.ctpPOP.model_CS_LMBM), ::Int64, ::Int64, ::Int64, ::Array{UInt64,1}, ::Array{SparseMatrixCSC{UInt64,Ti} where Ti<:Integer,1}, ::Array{Array{Float64,1},1}, ::Array{UInt64,1}, ::Array{SparseMatrixCSC{UInt64,Ti} where Ti<:Integer,1}, ::Array{Array{Float64,1},1}, ::Int64, ::SparseMatrixCSC{UInt64,Int64}, ::Array{Float64,1}, ::Array{Int64,1}, ::Array{Int64,1}, ::Int64) at /home/hoanganh/Desktop/math-topics/ctpPOP/codes/ctpPOP/src/pop/sparse_pop/CS/LMBM/pop_CS_LMBM.jl:6",
      " [2] (::Main.ctpPOP.var\"#kw##model_CS_LMBM\")(::NamedTuple{(:UseEq,),Tuple{Bool}}, ::typeof(Main.ctpPOP.model_CS_LMBM), ::Int64, ::Int64, ::Int64, ::Array{UInt64,1}, ::Array{SparseMatrixCSC{UInt64,Ti} where Ti<:Integer,1}, ::Array{Array{Float64,1},1}, ::Array{UInt64,1}, ::Array{SparseMatrixCSC{UInt64,Ti} where Ti<:Integer,1}, ::Array{Array{Float64,1},1}, ::Int64, ::SparseMatrixCSC{UInt64,Int64}, ::Array{Float64,1}, ::Array{Int64,1}, ::Array{Int64,1}, ::Int64) at ./none:0",
      " [3] macro expansion at ./util.jl:155 [inlined]",
      " [4] macro expansion at /home/hoanganh/Desktop/math-topics/ctpPOP/codes/ctpPOP/src/pop/sparse_pop/CS/LMBM/pop_CS_LMBM.jl:306 [inlined]",
      " [5] macro expansion at ./util.jl:155 [inlined]",
      " [6] #POP_CS_LMBM#389(::String, ::Float64, ::Bool, ::typeof(Main.ctpPOP.POP_CS_LMBM), ::Int64, ::Int64, ::Int64, ::Array{UInt64,1}, ::Array{SparseMatrixCSC{UInt64,Ti} where Ti<:Integer,1}, ::Array{Array{Float64,1},1}, ::Array{UInt64,1}, ::Array{SparseMatrixCSC{UInt64,Ti} where Ti<:Integer,1}, ::Array{Array{Float64,1},1}, ::Int64, ::SparseMatrixCSC{UInt64,Int64}, ::Array{Float64,1}, ::Array{Int64,1}, ::Array{Int64,1}, ::Int64) at /home/hoanganh/Desktop/math-topics/ctpPOP/codes/ctpPOP/src/pop/sparse_pop/CS/LMBM/pop_CS_LMBM.jl:303",
      " [7] (::Main.ctpPOP.var\"#kw##POP_CS_LMBM\")(::NamedTuple{(:EigAlg, :tol, :UseEq),Tuple{String,Float64,Bool}}, ::typeof(Main.ctpPOP.POP_CS_LMBM), ::Int64, ::Int64, ::Int64, ::Array{UInt64,1}, ::Array{SparseMatrixCSC{UInt64,Ti} where Ti<:Integer,1}, ::Array{Array{Float64,1},1}, ::Array{UInt64,1}, ::Array{SparseMatrixCSC{UInt64,Ti} where Ti<:Integer,1}, ::Array{Array{Float64,1},1}, ::Int64, ::SparseMatrixCSC{UInt64,Int64}, ::Array{Float64,1}, ::Array{Int64,1}, ::Array{Int64,1}, ::Int64) at ./none:0",
      " [8] top-level scope at In[4]:3"
     ]
    }
   ],
   "source": [
    "include(\"../src/ctpPOP.jl\")\n",
    "using .ctpPOP\n",
    "\n",
    "opt_val1=ctpPOP.POP_CS_LMBM(n,m,l,lmon_g,supp_g,coe_g,lmon_h,supp_h,coe_h,lmon_f,supp_f,coe_f,dg,dh,k;EigAlg=\"Arpack\",tol=1e-3,UseEq=false)"
   ]
  },
  {
   "cell_type": "code",
   "execution_count": 5,
   "metadata": {
    "scrolled": true
   },
   "outputs": [
    {
     "name": "stdout",
     "output_type": "stream",
     "text": [
      "------------------------------------------------------\n",
      "The clique sizes of varibles:\n",
      "[4, 3]\n",
      "[1, 1]\n",
      "------------------------------------------------------\n",
      "Problem\n",
      "  Name                   :                 \n",
      "  Objective sense        : max             \n",
      "  Type                   : CONIC (conic optimization problem)\n",
      "  Constraints            : 100             \n",
      "  Cones                  : 0               \n",
      "  Scalar variables       : 1               \n",
      "  Matrix variables       : 6               \n",
      "  Integer variables      : 0               \n",
      "\n",
      "Optimizer started.\n",
      "Presolve started.\n",
      "Linear dependency checker started.\n",
      "Linear dependency checker terminated.\n",
      "Eliminator started.\n",
      "Freed constraints in eliminator : 0\n",
      "Eliminator terminated.\n",
      "Eliminator - tries                  : 1                 time                   : 0.00            \n",
      "Lin. dep.  - tries                  : 1                 time                   : 0.00            \n",
      "Lin. dep.  - number                 : 0               \n",
      "Presolve terminated. Time: 0.00    \n",
      "Problem\n",
      "  Name                   :                 \n",
      "  Objective sense        : max             \n",
      "  Type                   : CONIC (conic optimization problem)\n",
      "  Constraints            : 100             \n",
      "  Cones                  : 0               \n",
      "  Scalar variables       : 1               \n",
      "  Matrix variables       : 6               \n",
      "  Integer variables      : 0               \n",
      "\n",
      "Optimizer  - threads                : 4               \n",
      "Optimizer  - solved problem         : the primal      \n",
      "Optimizer  - Constraints            : 100\n",
      "Optimizer  - Cones                  : 1\n",
      "Optimizer  - Scalar variables       : 2                 conic                  : 2               \n",
      "Optimizer  - Semi-definite variables: 6                 scalarized             : 225             \n",
      "Factor     - setup time             : 0.00              dense det. time        : 0.00            \n",
      "Factor     - ML order time          : 0.00              GP order time          : 0.00            \n",
      "Factor     - nonzeros before factor : 3100              after factor           : 3100            \n",
      "Factor     - dense dim.             : 0                 flops                  : 1.96e+05        \n",
      "ITE PFEAS    DFEAS    GFEAS    PRSTATUS   POBJ              DOBJ              MU       TIME  \n",
      "0   7.0e+00  1.0e+00  1.0e+00  0.00e+00   0.000000000e+00   0.000000000e+00   1.0e+00  0.00  \n",
      "1   4.0e+00  5.7e-01  5.4e-01  -5.46e-01  -1.333137356e+00  -1.482329178e+00  5.7e-01  0.01  \n",
      "2   1.4e+00  2.0e-01  7.6e-02  2.12e+00   -2.276063269e+00  -2.279758101e+00  2.0e-01  0.01  \n",
      "3   4.1e-01  5.8e-02  1.1e-02  9.88e-01   -3.039360243e+00  -3.035135089e+00  5.8e-02  0.01  \n",
      "4   9.0e-02  1.3e-02  1.2e-03  1.00e+00   -3.308613309e+00  -3.307582793e+00  1.3e-02  0.02  \n",
      "5   8.9e-03  1.3e-03  3.7e-05  1.01e+00   -3.369433024e+00  -3.369345448e+00  1.3e-03  0.02  \n",
      "6   5.1e-04  7.2e-05  5.0e-07  9.99e-01   -3.377121707e+00  -3.377116842e+00  7.2e-05  0.02  \n",
      "7   1.9e-05  2.7e-06  3.6e-09  1.00e+00   -3.377532015e+00  -3.377531830e+00  2.7e-06  0.03  \n",
      "8   1.1e-06  1.5e-07  4.9e-11  1.00e+00   -3.377545749e+00  -3.377545738e+00  1.5e-07  0.03  \n",
      "9   1.2e-07  1.7e-08  1.9e-12  1.00e+00   -3.377546497e+00  -3.377546496e+00  1.7e-08  0.03  \n",
      "10  2.4e-08  5.0e-10  1.4e-14  1.00e+00   -3.377546589e+00  -3.377546589e+00  1.1e-09  0.04  \n",
      "Optimizer terminated. Time: 0.04    \n",
      "\n",
      "optimum = -3.3775465888050946\n",
      " 68.654897 seconds (81.37 M allocations: 3.982 GiB, 4.84% gc time)\n"
     ]
    }
   ],
   "source": [
    "using TSSOS\n",
    "\n",
    "\n",
    "@time opt,sol,data=cs_tssos_first(Vector{SparseMatrixCSC{UInt8,UInt32}}([[supp_f];supp_g;supp_h]),[[coe_f];coe_g;coe_h],n,k,[dg;dh],numeq=l,CS=\"MD\",TS=\"block\",CTP=false);"
   ]
  },
  {
   "cell_type": "code",
   "execution_count": null,
   "metadata": {},
   "outputs": [],
   "source": []
  },
  {
   "cell_type": "code",
   "execution_count": null,
   "metadata": {},
   "outputs": [],
   "source": []
  }
 ],
 "metadata": {
  "kernelspec": {
   "display_name": "Julia 1.3.0",
   "language": "julia",
   "name": "julia-1.3"
  },
  "language_info": {
   "file_extension": ".jl",
   "mimetype": "application/julia",
   "name": "julia",
   "version": "1.3.0"
  }
 },
 "nbformat": 4,
 "nbformat_minor": 2
}
