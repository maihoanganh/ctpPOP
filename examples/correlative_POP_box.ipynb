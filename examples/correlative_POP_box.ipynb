{
 "cells": [
  {
   "cell_type": "code",
   "execution_count": 1,
   "metadata": {},
   "outputs": [
    {
     "name": "stdout",
     "output_type": "stream",
     "text": [
      "***Problem setting***\n",
      "Number of variable: n=6\n",
      "====================\n",
      "Number of inequality constraints: m=6\n",
      "====================\n",
      "Number of equality constraints: l=1\n",
      "====================\n",
      "Relaxed order: k=2\n",
      "====================\n"
     ]
    }
   ],
   "source": [
    "using DynamicPolynomials, LinearAlgebra, SparseArrays\n",
    "\n",
    "println(\"***Problem setting***\")\n",
    "\n",
    "n=6\n",
    "\n",
    "println(\"Number of variable: n=\",n)\n",
    "println(\"====================\")\n",
    "\n",
    "@polyvar x[1:n]# variables\n",
    "\n",
    "function generate_random_poly(T::UnitRange{Int64})\n",
    "    v=reverse(monomials(x[T],0:2))\n",
    "    c=2*rand(Float64,length(v)).-1\n",
    "    return c'*v\n",
    "end\n",
    "\n",
    "# unit sphere constraint\n",
    "u=3\n",
    "p=floor(Int64,n/u)\n",
    "\n",
    "I=Vector{UnitRange{Int64}}(undef,p)\n",
    "I[1]=1:u\n",
    "I[2:p-1]=[u*(j-1):u*j for j in 2:p-1]\n",
    "I[p]=u*(p-1):n\n",
    "\n",
    "# random quadratic objective function f\n",
    "f=sum(generate_random_poly(I[j]) for j in 1:p)\n",
    "\n",
    "\n",
    "g=-(x.^2).+1/u\n",
    "\n",
    "\n",
    "\n",
    "m=length(g)\n",
    "println(\"Number of inequality constraints: m=\",m)\n",
    "println(\"====================\")\n",
    "\n",
    "l=ceil(Int64, n/7)\n",
    "\n",
    "r=floor(Int64,l/p)\n",
    "W=[(j-1)*r+1:j*r for j in 1:p-1]\n",
    "append!(W,[(p-1)*r+1:l])\n",
    "\n",
    "h=Vector{Polynomial{true,Float64}}(undef,l)\n",
    "\n",
    "#=randx=[2*rand(length(I[j])).-1 for j in 1:p]# create a feasible solution\n",
    "randx=[randx[j]/norm(randx[j]) for j in 1:p]=#\n",
    "\n",
    "randx=2*rand(n).-1\n",
    "randx=randx./sqrt(u)\n",
    "\n",
    "for j in 1:p\n",
    "    for i in W[j]\n",
    "        h[i]=generate_random_poly(I[j])\n",
    "        h[i]-=h[i](x => randx) #make constraints feasible\n",
    "    end\n",
    "end\n",
    "\n",
    "l=length(h)\n",
    "println(\"Number of equality constraints: l=\",l)\n",
    "println(\"====================\")\n",
    "\n",
    "k=2\n",
    "\n",
    "println(\"Relaxed order: k=\",k)\n",
    "println(\"====================\")"
   ]
  },
  {
   "cell_type": "code",
   "execution_count": 2,
   "metadata": {},
   "outputs": [
    {
     "name": "stderr",
     "output_type": "stream",
     "text": [
      "WARNING: Compat.Printf is deprecated, use Printf instead.\n",
      "  likely near /home/hoanganh/Desktop/math-topics/ctpPOP/codes/ctpPOP/solvers/ProximalBundleMethod/ProximalMethod.jl:391\n"
     ]
    }
   ],
   "source": [
    "include(\"../src/ctpPOP.jl\")\n",
    "using .ctpPOP\n",
    "\n",
    "n,m,l,lmon_g,supp_g,coe_g,lmon_h,supp_h,coe_h,lmon_f,supp_f,coe_f,dg,dh=ctpPOP.get_info(x,f,g,h,sparse=true);"
   ]
  },
  {
   "cell_type": "code",
   "execution_count": 3,
   "metadata": {},
   "outputs": [
    {
     "name": "stdout",
     "output_type": "stream",
     "text": [
      "------------------------------------------------------\n"
     ]
    },
    {
     "name": "stderr",
     "output_type": "stream",
     "text": [
      "WARNING: replacing module ctpPOP.\n",
      "WARNING: Compat.Printf is deprecated, use Printf instead.\n",
      "  likely near /home/hoanganh/Desktop/math-topics/ctpPOP/codes/ctpPOP/solvers/ProximalBundleMethod/ProximalMethod.jl:391\n"
     ]
    },
    {
     "name": "stdout",
     "output_type": "stream",
     "text": [
      "The clique sizes of varibles:\n",
      "[4, 3]\n",
      "[1, 1]\n",
      "------------------------------------------------------\n",
      "  Number of cliques: p=2\n",
      "  Largest clique size: u=4\n"
     ]
    },
    {
     "name": "stderr",
     "output_type": "stream",
     "text": [
      "┌ Warning: `with_optimizer` is deprecated. Adapt the following example to update your code:\n",
      "│ `with_optimizer(Ipopt.Optimizer, max_cpu_time=60.0)` becomes `optimizer_with_attributes(Ipopt.Optimizer, \"max_cpu_time\" => 60.0)`.\n",
      "│   caller = ip:0x0\n",
      "└ @ Core :-1\n"
     ]
    },
    {
     "name": "stdout",
     "output_type": "stream",
     "text": [
      "  Largest constant trace: a=4.111111111111111\n",
      "  Number of blocks: omega=9\n",
      "  Number of equality consraints: zeta=181\n",
      "  Size of the largest block: s^max=15\n",
      "Modeling time:\n",
      " 49.739543 seconds (56.57 M allocations: 2.781 GiB, 4.18% gc time)\n",
      "iter=1.0   val=-7.1698369191903595   gap=0.05531929865578   feas=6.202303152804338\n",
      "iter=2.0   val=-2.1968489066534036   gap=3.0905386860787654   feas=2.0616368110869034\n",
      "iter=4.0   val=-1.8983472239211057   gap=2.1106288427773414   feas=1.6826328774679078\n",
      "iter=8.0   val=-1.2856808338336734   gap=1.6175483298244941   feas=0.7825348024996993\n",
      "iter=16.0   val=-1.4529991072683566   gap=0.36010833696128697   feas=0.6759964102185491\n",
      "iter=32.0   val=-1.1569570983511377   gap=0.33463646156961846   feas=0.3130261927453795\n",
      "iter=64.0   val=-1.1237083341461418   gap=0.09322022892662019   feas=0.10643303708369961\n",
      "iter=128.0   val=-1.08931939992371   gap=0.03560461707221374   feas=0.036855152529934654\n",
      "iter=256.0   val=-1.0917058481730568   gap=0.018283829756172043   feas=0.019211751019659194\n",
      "iter=512.0   val=-1.0966376817526033   gap=0.01345994731770972   feas=0.004156866936218845\n",
      "iter=1024.0   val=-1.100634608186777   gap=0.0021115681226198113   feas=0.0021101638878179277\n",
      "iter=1735.0   val=-1.1013852609162131   gap=0.0008510190844164267   feas=0.0009186079459027956\n",
      "tol satisfies!!!\n",
      "\n",
      "####################################\n",
      "opt_val = -1.1013852609162131\n",
      "####################################\n",
      "Solving time:\n",
      "  3.526854 seconds (3.14 M allocations: 227.788 MiB, 1.85% gc time)\n",
      "Total time:\n",
      " 53.374470 seconds (59.76 M allocations: 3.005 GiB, 4.09% gc time)\n"
     ]
    },
    {
     "data": {
      "text/plain": [
       "-1.1013852609162131"
      ]
     },
     "execution_count": 3,
     "metadata": {},
     "output_type": "execute_result"
    }
   ],
   "source": [
    "include(\"../src/ctpPOP.jl\")\n",
    "using .ctpPOP\n",
    "\n",
    "opt_val1=ctpPOP.POP_CS_CGAL(n,m,l,lmon_g,supp_g,coe_g,lmon_h,supp_h,coe_h,lmon_f,supp_f,coe_f,dg,dh,k;EigAlg=\"Arpack\",maxit=1e10,tol=1e-3,UseEq=false)"
   ]
  },
  {
   "cell_type": "code",
   "execution_count": 4,
   "metadata": {},
   "outputs": [
    {
     "name": "stdout",
     "output_type": "stream",
     "text": [
      "------------------------------------------------------\n",
      "The clique sizes of varibles:\n",
      "[4, 3]\n",
      "[1, 1]\n",
      "------------------------------------------------------\n",
      "Problem\n",
      "  Name                   :                 \n",
      "  Objective sense        : max             \n",
      "  Type                   : CONIC (conic optimization problem)\n",
      "  Constraints            : 100             \n",
      "  Cones                  : 0               \n",
      "  Scalar variables       : 16              \n",
      "  Matrix variables       : 10              \n",
      "  Integer variables      : 0               \n",
      "\n",
      "Optimizer started.\n",
      "Presolve started.\n",
      "Linear dependency checker started.\n",
      "Linear dependency checker terminated.\n",
      "Eliminator started.\n",
      "Freed constraints in eliminator : 0\n",
      "Eliminator terminated.\n",
      "Eliminator - tries                  : 1                 time                   : 0.00            \n",
      "Lin. dep.  - tries                  : 1                 time                   : 0.00            \n",
      "Lin. dep.  - number                 : 0               \n",
      "Presolve terminated. Time: 0.00    \n",
      "Problem\n",
      "  Name                   :                 \n",
      "  Objective sense        : max             \n",
      "  Type                   : CONIC (conic optimization problem)\n",
      "  Constraints            : 100             \n",
      "  Cones                  : 0               \n",
      "  Scalar variables       : 16              \n",
      "  Matrix variables       : 10              \n",
      "  Integer variables      : 0               \n",
      "\n",
      "Optimizer  - threads                : 4               \n",
      "Optimizer  - solved problem         : the primal      \n",
      "Optimizer  - Constraints            : 100\n",
      "Optimizer  - Cones                  : 1\n",
      "Optimizer  - Scalar variables       : 17                conic                  : 17              \n",
      "Optimizer  - Semi-definite variables: 10                scalarized             : 275             \n",
      "Factor     - setup time             : 0.00              dense det. time        : 0.00            \n",
      "Factor     - ML order time          : 0.00              GP order time          : 0.00            \n",
      "Factor     - nonzeros before factor : 3100              after factor           : 3100            \n",
      "Factor     - dense dim.             : 0                 flops                  : 2.02e+05        \n",
      "ITE PFEAS    DFEAS    GFEAS    PRSTATUS   POBJ              DOBJ              MU       TIME  \n",
      "0   5.4e+00  1.0e+00  1.0e+00  0.00e+00   0.000000000e+00   0.000000000e+00   1.0e+00  0.00  \n",
      "1   2.2e+00  4.1e-01  1.7e-01  9.73e-01   -3.463101636e-01  -1.806194521e-01  4.1e-01  0.01  \n",
      "2   6.5e-01  1.2e-01  3.0e-02  1.59e+00   -6.902931231e-01  -6.693102081e-01  1.2e-01  0.01  \n",
      "3   1.4e-01  2.6e-02  3.2e-03  1.05e+00   -1.004158875e+00  -1.001051009e+00  2.6e-02  0.02  \n",
      "4   2.6e-02  4.8e-03  2.5e-04  9.75e-01   -1.082394159e+00  -1.081847015e+00  4.8e-03  0.02  \n",
      "5   1.4e-03  2.6e-04  3.1e-06  9.99e-01   -1.101282421e+00  -1.101250792e+00  2.6e-04  0.02  \n",
      "6   1.0e-04  1.9e-05  6.4e-08  1.00e+00   -1.102128443e+00  -1.102125993e+00  1.9e-05  0.03  \n",
      "7   1.3e-06  2.4e-07  8.6e-11  1.00e+00   -1.102186630e+00  -1.102186598e+00  2.4e-07  0.03  \n",
      "8   6.2e-08  1.2e-08  9.2e-13  1.00e+00   -1.102187185e+00  -1.102187183e+00  1.2e-08  0.03  \n",
      "9   6.9e-09  1.3e-09  3.5e-14  1.00e+00   -1.102187209e+00  -1.102187209e+00  1.3e-09  0.04  \n",
      "Optimizer terminated. Time: 0.05    \n",
      "\n",
      "optimum = -1.1021872090220537\n",
      " 29.883750 seconds (31.71 M allocations: 1.520 GiB, 3.42% gc time)\n"
     ]
    }
   ],
   "source": [
    "using TSSOS\n",
    "\n",
    "\n",
    "@time opt,sol,data=cs_tssos_first(Vector{SparseMatrixCSC{UInt8,UInt32}}([[supp_f];supp_g;supp_h]),[[coe_f];coe_g;coe_h],n,k,[dg;dh],numeq=l,CS=\"MD\",TS=\"block\",CTP=false);"
   ]
  },
  {
   "cell_type": "code",
   "execution_count": 5,
   "metadata": {},
   "outputs": [
    {
     "name": "stdout",
     "output_type": "stream",
     "text": [
      "------------------------------------------------------\n",
      "The clique sizes of varibles:\n",
      "[4, 3]\n",
      "[1, 1]\n",
      "------------------------------------------------------\n"
     ]
    },
    {
     "name": "stderr",
     "output_type": "stream",
     "text": [
      "WARNING: replacing module ctpPOP.\n",
      "WARNING: Compat.Printf is deprecated, use Printf instead.\n",
      "  likely near /home/hoanganh/Desktop/math-topics/ctpPOP/codes/ctpPOP/solvers/ProximalBundleMethod/ProximalMethod.jl:391\n"
     ]
    },
    {
     "name": "stdout",
     "output_type": "stream",
     "text": [
      "Modeling time:\n",
      "  6.750199 seconds (4.73 M allocations: 234.749 MiB, 2.44% gc time)\n",
      "**LMBM solver:\n",
      "---------------\n",
      "| Parameters: |\n",
      "---------------\n",
      "n:       181\n",
      "maxtime: 300000.000000\n",
      "na:      2\n",
      "mcu:     5\n",
      "mc:      7\n",
      "rpar: \n",
      "ipar: \n",
      " Warning: MC > MCU. Assigned MC = MCU.\n",
      " Entry to LMBM:\n",
      " NIT=    1  NFE=    1  F= 0.71752215D+01  WK= 0.5917D-01  QK= 0.2958D-01\n",
      " NIT=    2  NFE=    2  F= 0.71289606D+01  WK= 0.5917D-01  QK= 0.2958D-01\n",
      " NIT=    3  NFE=    3  F= 0.70834460D+01  WK= 0.5917D-01  QK= 0.2958D-01\n",
      " NIT=    4  NFE=    4  F= 0.70387397D+01  WK= 0.5917D-01  QK= 0.2958D-01\n",
      " NIT=    5  NFE=    5  F= 0.69949105D+01  WK= 0.5917D-01  QK= 0.2958D-01\n",
      " NIT=    6  NFE=    6  F= 0.69520342D+01  WK= 0.5917D-01  QK= 0.2958D-01\n",
      " NIT=    7  NFE=    7  F= 0.69101949D+01  WK= 0.5917D-01  QK= 0.2958D-01\n",
      " NIT=    8  NFE=    8  F= 0.68694859D+01  WK= 0.5917D-01  QK= 0.2958D-01\n",
      " NIT=    9  NFE=    9  F= 0.68300107D+01  WK= 0.5917D-01  QK= 0.2958D-01\n",
      " NIT=   10  NFE=   10  F= 0.67918842D+01  WK= 0.5917D-01  QK= 0.2958D-01\n",
      " NIT=   11  NFE=   11  F= 0.67552344D+01  WK= 0.5917D-01  QK= 0.2958D-01\n",
      " NIT=   12  NFE=   12  F= 0.67202032D+01  WK= 0.5917D-01  QK= 0.2958D-01\n",
      " NIT=   13  NFE=   13  F= 0.66869487D+01  WK= 0.5917D-01  QK= 0.2958D-01\n",
      " NIT=   14  NFE=   14  F= 0.66556464D+01  WK= 0.5917D-01  QK= 0.2958D-01\n",
      " NIT=   15  NFE=   15  F= 0.66264914D+01  WK= 0.5917D-01  QK= 0.2958D-01\n",
      " NIT=   16  NFE=   16  F= 0.65996996D+01  WK= 0.5917D-01  QK= 0.2958D-01\n",
      " NIT=   17  NFE=   17  F= 0.65755102D+01  WK= 0.5917D-01  QK= 0.2958D-01\n",
      " NIT=   18  NFE=   18  F= 0.65541864D+01  WK= 0.5917D-01  QK= 0.2958D-01\n",
      " NIT=   19  NFE=   19  F= 0.65360175D+01  WK= 0.5917D-01  QK= 0.2958D-01\n",
      " NIT=   20  NFE=   20  F= 0.65213186D+01  WK= 0.5917D-01  QK= 0.2958D-01\n",
      " NIT=   21  NFE=   21  F= 0.65104316D+01  WK= 0.5917D-01  QK= 0.2958D-01\n",
      " NIT=   22  NFE=   22  F= 0.65037228D+01  WK= 0.5917D-01  QK= 0.2958D-01\n",
      " NIT=   23  NFE=   23  F= 0.65015810D+01  WK= 0.5917D-01  QK= 0.2958D-01\n",
      " NIT=   24  NFE=   68  F= 0.65015810D+01  WK= 0.5917D-01  QK= 0.2958D-01\n",
      " NIT=   25  NFE=  113  F= 0.65015810D+01  WK= 0.5917D-01  QK= 0.2958D-01\n",
      " NIT=   26  NFE=  158  F= 0.65015810D+01  WK= 0.5917D-01  QK= 0.2958D-01\n",
      " NIT=   27  NFE=  203  F= 0.65015810D+01  WK= 0.5917D-01  QK= 0.2958D-01\n",
      " NIT=   28  NFE=  248  F= 0.65015810D+01  WK= 0.5917D-01  QK= 0.2958D-01\n",
      " NIT=   29  NFE=  293  F= 0.65015810D+01  WK= 0.5917D-01  QK= 0.2958D-01\n",
      " NIT=   30  NFE=  338  F= 0.65015810D+01  WK= 0.5917D-01  QK= 0.2958D-01\n",
      " NIT=   31  NFE=  383  F= 0.65015810D+01  WK= 0.5917D-01  QK= 0.2958D-01\n",
      " NIT=   32  NFE=  428  F= 0.65015810D+01  WK= 0.5917D-01  QK= 0.2958D-01\n",
      " NIT=   33  NFE=  473  F= 0.65015810D+01  WK= 0.5917D-01  QK= 0.2958D-01\n",
      " NIT=   34  NFE=  518  F= 0.65015810D+01  WK= 0.5917D-01  QK= 0.2958D-01\n",
      " NIT=   35  NFE=  563  F= 0.65015810D+01  WK= 0.5917D-01  QK= 0.2958D-01\n",
      " NIT=   36  NFE=  608  F= 0.65015810D+01  WK= 0.5917D-01  QK= 0.2958D-01\n",
      " NIT=   37  NFE=  653  F= 0.65015810D+01  WK= 0.5917D-01  QK= 0.2958D-01\n",
      " NIT=   38  NFE=  698  F= 0.65015810D+01  WK= 0.5917D-01  QK= 0.2958D-01\n",
      " NIT=   39  NFE=  743  F= 0.65015810D+01  WK= 0.5917D-01  QK= 0.2958D-01\n",
      " NIT=   40  NFE=  788  F= 0.65015810D+01  WK= 0.5917D-01  QK= 0.2958D-01\n",
      " Exit from LMBM:\n",
      " Abnormal exit: The value of the function does not change.\n",
      " NIT=   40  NFE=  827  F= 0.65015810D+01  WK= 0.5917D-01  QK= 0.2958D-01  ITERM=  3\n",
      "-----------\n",
      "| Output: |\n",
      "-----------\n",
      "Termination:     3\n",
      "N. iter.:        40\n",
      "N. func. eval.:  827\n",
      "Final value:     6.501581\n",
      "Execution time:  1.363907\n",
      "\n",
      "####################################\n",
      "opt_val = -6.501580955903814\n",
      "####################################\n",
      "  2.390545 seconds (2.53 M allocations: 122.160 MiB, 5.45% gc time)\n",
      "Total time:\n",
      "  9.141147 seconds (7.26 M allocations: 356.922 MiB, 3.23% gc time)\n"
     ]
    },
    {
     "data": {
      "text/plain": [
       "-6.501580955903814"
      ]
     },
     "execution_count": 5,
     "metadata": {},
     "output_type": "execute_result"
    }
   ],
   "source": [
    "include(\"../src/ctpPOP.jl\")\n",
    "using .ctpPOP\n",
    "\n",
    "opt_val1=ctpPOP.POP_CS_LMBM(n,m,l,lmon_g,supp_g,coe_g,lmon_h,supp_h,coe_h,lmon_f,supp_f,coe_f,dg,dh,k,EigAlg=\"Arpack\",tol=1e-3,UseEq=false)"
   ]
  },
  {
   "cell_type": "code",
   "execution_count": null,
   "metadata": {},
   "outputs": [],
   "source": []
  }
 ],
 "metadata": {
  "kernelspec": {
   "display_name": "Julia 1.3.0",
   "language": "julia",
   "name": "julia-1.3"
  },
  "language_info": {
   "file_extension": ".jl",
   "mimetype": "application/julia",
   "name": "julia",
   "version": "1.3.0"
  }
 },
 "nbformat": 4,
 "nbformat_minor": 2
}
