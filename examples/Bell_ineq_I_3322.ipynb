{
 "cells": [
  {
   "cell_type": "code",
   "execution_count": 13,
   "metadata": {},
   "outputs": [],
   "source": [
    "using DynamicPolynomials, LinearAlgebra\n",
    "\n",
    "@ncpolyvar x1 x2 x3 y1 y2 y3\n",
    "\n",
    "var=Vector{PolyVar{false}}([x1;x2;x3;y1;y2;y3])\n",
    "\n",
    "function star_algebra(mom)\n",
    "    if mom==1\n",
    "        return mom\n",
    "    else\n",
    "        ind=mom.z .>0\n",
    "        vars=mom.vars[ind]\n",
    "        exp=mom.z[ind]\n",
    "        return prod(vars[i]^exp[i] for i in length(exp):-1:1)\n",
    "    end\n",
    "end\n",
    "\n",
    "function get_star_alg(f)\n",
    "    mom=monomials(f)\n",
    "    coe=coefficients(f)\n",
    "    mom=star_algebra.(mom)\n",
    "    return dot(mom,coe)\n",
    "end\n",
    "\n",
    "\n",
    "\n",
    "u = x1*(y1+y2+y3)+x2*(y1+y2-y3)+x3*(y1-y2)-x1-2.0*y1-y2\n",
    "\n",
    "f = -(u + get_star_alg(u))/2\n",
    "\n",
    "g=Vector{Polynomial{false,Float64}}([])\n",
    "\n",
    "h=1.0*[x1-x1^2;\n",
    "    x2-x2^2;\n",
    "    x3-x3^2;\n",
    "    y1-y1^2;\n",
    "    y2-y2^2;\n",
    "    y3-y3^2;\n",
    "    x1*y1-y1*x1;\n",
    "    x2*y1-y1*x2;\n",
    "    x3*y1-y1*x3;\n",
    "    x1*y2-y2*x1;\n",
    "    x2*y2-y2*x2;\n",
    "    x3*y2-y2*x3;\n",
    "    x1*y3-y3*x1;\n",
    "    x2*y3-y3*x2;\n",
    "    x3*y3-y3*x3];\n",
    "\n",
    "f=f([x1;x2;x3;y1;y2;y3]=>[0.5*x1+0.5;0.5*x2+0.5;0.5*x3+0.5;0.5*y1+0.5;0.5*y2+0.5;0.5*y3+0.5])\n",
    "\n",
    "for j in 1:length(h)\n",
    "    h[j]=4.0*h[j]([x1;x2;x3;y1;y2;y3]=>[0.5*x1+0.5;0.5*x2+0.5;0.5*x3+0.5;0.5*y1+0.5;0.5*y2+0.5;0.5*y3+0.5])\n",
    "end"
   ]
  },
  {
   "cell_type": "code",
   "execution_count": 14,
   "metadata": {},
   "outputs": [
    {
     "name": "stderr",
     "output_type": "stream",
     "text": [
      "WARNING: replacing module ctpNCPOP.\n"
     ]
    }
   ],
   "source": [
    "include(\"../src/ctpNCPOP.jl\")\n",
    "using .ctpNCPOP\n",
    "\n",
    "n,m,l,lmon_g,supp_g,coe_g,lmon_h,supp_h,coe_h,lmon_f,supp_f,coe_f,dg,dh=ctpNCPOP.get_info(var,f,g,h);"
   ]
  },
  {
   "cell_type": "code",
   "execution_count": 15,
   "metadata": {},
   "outputs": [
    {
     "name": "stdout",
     "output_type": "stream",
     "text": [
      "Number of variables: n=6\n",
      "Number of inequality constraints: m=0\n",
      "Number of equality constraints: l=15\n"
     ]
    }
   ],
   "source": [
    "println(\"Number of variables: n=\",n)\n",
    "println(\"Number of inequality constraints: m=\",m)\n",
    "println(\"Number of equality constraints: l=\",l)"
   ]
  },
  {
   "cell_type": "code",
   "execution_count": 32,
   "metadata": {},
   "outputs": [
    {
     "name": "stdout",
     "output_type": "stream",
     "text": [
      "Relaxation order: k=2\n"
     ]
    }
   ],
   "source": [
    "k=2\n",
    "\n",
    "println(\"Relaxation order: k=\",k)"
   ]
  },
  {
   "cell_type": "code",
   "execution_count": 33,
   "metadata": {},
   "outputs": [
    {
     "name": "stdout",
     "output_type": "stream",
     "text": [
      "  Computing constant trace status: OPTIMAL\n",
      "  Constant trace: ak = 43.0\n",
      "  Number of blocks: omega=1\n",
      "  Size of the largest block: s^max=43\n",
      "  Number of equality trace constraints: zeta=484\n",
      "Modeling time:\n",
      "  0.198322 seconds (296.58 k allocations: 23.548 MiB)\n",
      "iter=1   val=-10.750000000000004   gap=9.07075832885234e-16   feas=86.45253996654276\n",
      "iter=2   val=-1.866665189630151   gap=0.8283195941241884   feas=19.94290130761034\n",
      "iter=4   val=-0.5688001080318088   gap=0.8361665031497935   feas=11.749674831877117\n",
      "iter=8   val=-1.9916905797640183   gap=0.5861351366487483   feas=19.53042675133582\n",
      "iter=16   val=-0.30418565828481975   gap=0.7766625243653403   feas=4.189626238550077\n",
      "iter=32   val=-0.17419331105640434   gap=0.5170362050217718   feas=4.834260782020131\n",
      "iter=64   val=-0.2914470682307424   gap=0.3194251410865663   feas=1.3014470061046566\n",
      "iter=128   val=-0.22431016599984113   gap=0.3131466208609536   feas=0.6369393095932843\n",
      "iter=256   val=-0.25278394807590465   gap=0.2491406090256964   feas=0.2938123045846286\n",
      "iter=512   val=-0.2526033581951407   gap=0.13469401774257786   feas=0.15338863499614627\n",
      "iter=1024   val=-0.24248367281729274   gap=0.11296067762424283   feas=0.06845715545475059\n",
      "iter=2048   val=-0.2530472303838281   gap=0.12040386072828663   feas=0.06134139395061723\n",
      "iter=4096   val=-0.251047241600654   gap=0.08312260227834581   feas=0.02302857465075712\n",
      "iter=8192   val=-0.2505609108673784   gap=0.04378499488700533   feas=0.011414242218652218\n",
      "iter=16384   val=-0.2503655386269791   gap=0.02781303643428061   feas=0.004027030352655856\n",
      "iter=32768   val=-0.2505043543503156   gap=0.02050939607750034   feas=0.00199823145924026\n",
      "iter=65536   val=-0.25079829693974254   gap=0.012902576387791591   feas=0.0009398970960610723\n",
      "iter=131072   val=-0.25092621663697673   gap=0.016276396157926015   feas=0.0006613655339485374\n",
      "iter=203103   val=-0.2508968294997016   gap=0.0009355310450344132   feas=0.00040193671841515965\n",
      "tol satisfies!!!\n",
      "\n",
      "####################################\n",
      "opt_val = -0.2508968294997016\n",
      "####################################\n",
      "Solving time:\n",
      "133.642407 seconds (78.14 M allocations: 17.322 GiB, 1.04% gc time)\n",
      "Total time:\n",
      "133.840982 seconds (78.44 M allocations: 17.345 GiB, 1.04% gc time)\n"
     ]
    },
    {
     "name": "stderr",
     "output_type": "stream",
     "text": [
      "WARNING: replacing module ctpNCPOP.\n"
     ]
    },
    {
     "data": {
      "text/plain": [
       "-0.2508968294997016"
      ]
     },
     "execution_count": 33,
     "metadata": {},
     "output_type": "execute_result"
    }
   ],
   "source": [
    "include(\"../src/ctpNCPOP.jl\")\n",
    "using .ctpNCPOP\n",
    "\n",
    "opt_val1=ctpNCPOP.POP_dense_CGAL(n,m,l,lmon_g,supp_g,coe_g,lmon_h,supp_h,coe_h,lmon_f,supp_f,coe_f,dg,dh,k,\n",
    "                                 maxit=Int64(1e6),tol=1e-3,\n",
    "                                 use_eqcons_to_get_constant_trace=true,\n",
    "                                 check_tol_each_iter=true)"
   ]
  },
  {
   "cell_type": "code",
   "execution_count": null,
   "metadata": {},
   "outputs": [],
   "source": []
  },
  {
   "cell_type": "code",
   "execution_count": null,
   "metadata": {},
   "outputs": [],
   "source": []
  },
  {
   "cell_type": "code",
   "execution_count": 34,
   "metadata": {},
   "outputs": [
    {
     "name": "stdout",
     "output_type": "stream",
     "text": [
      "------------------------------------------------------\n",
      "The sizes of blocks:\n",
      "[43]\n",
      "[1]\n",
      "------------------------------------------------------\n",
      "Problem\n",
      "  Name                   :                 \n",
      "  Objective sense        : max             \n",
      "  Type                   : CONIC (conic optimization problem)\n",
      "  Constraints            : 820             \n",
      "  Cones                  : 0               \n",
      "  Scalar variables       : 421             \n",
      "  Matrix variables       : 1               \n",
      "  Integer variables      : 0               \n",
      "\n",
      "Optimizer started.\n",
      "Presolve started.\n",
      "Linear dependency checker started.\n",
      "Linear dependency checker terminated.\n",
      "Eliminator started.\n",
      "Freed constraints in eliminator : 0\n",
      "Eliminator terminated.\n",
      "Eliminator started.\n",
      "Freed constraints in eliminator : 0\n",
      "Eliminator terminated.\n",
      "Eliminator - tries                  : 2                 time                   : 0.00            \n",
      "Lin. dep.  - tries                  : 1                 time                   : 0.00            \n",
      "Lin. dep.  - number                 : 0               \n",
      "Presolve terminated. Time: 0.00    \n",
      "Problem\n",
      "  Name                   :                 \n",
      "  Objective sense        : max             \n",
      "  Type                   : CONIC (conic optimization problem)\n",
      "  Constraints            : 820             \n",
      "  Cones                  : 0               \n",
      "  Scalar variables       : 421             \n",
      "  Matrix variables       : 1               \n",
      "  Integer variables      : 0               \n",
      "\n",
      "Optimizer  - threads                : 4               \n",
      "Optimizer  - solved problem         : the primal      \n",
      "Optimizer  - Constraints            : 820\n",
      "Optimizer  - Cones                  : 1\n",
      "Optimizer  - Scalar variables       : 359               conic                  : 359             \n",
      "Optimizer  - Semi-definite variables: 1                 scalarized             : 946             \n",
      "Factor     - setup time             : 0.03              dense det. time        : 0.00            \n",
      "Factor     - ML order time          : 0.01              GP order time          : 0.00            \n",
      "Factor     - nonzeros before factor : 3.37e+05          after factor           : 3.37e+05        \n",
      "Factor     - dense dim.             : 2                 flops                  : 1.87e+08        \n",
      "ITE PFEAS    DFEAS    GFEAS    PRSTATUS   POBJ              DOBJ              MU       TIME  \n",
      "0   1.0e+00  1.0e+00  1.0e+00  0.00e+00   0.000000000e+00   0.000000000e+00   1.0e+00  0.03  \n",
      "1   2.0e-01  2.0e-01  1.5e-01  1.18e+00   9.968958431e-01   6.535380292e-01   2.0e-01  0.05  \n",
      "2   2.9e-02  2.9e-02  1.0e-02  3.49e-01   7.268495085e-01   6.483628119e-01   2.9e-02  0.08  \n",
      "3   3.1e-03  3.1e-03  2.0e-04  9.51e-01   -1.295260674e-01  -1.285267322e-01  3.1e-03  0.11  \n",
      "4   2.6e-04  2.6e-04  2.5e-06  9.96e-01   -2.441886698e-01  -2.438666605e-01  2.6e-04  0.14  \n",
      "5   4.0e-05  4.0e-05  2.9e-07  1.01e+00   -2.503448600e-01  -2.503387149e-01  4.0e-05  0.18  \n",
      "6   1.0e-05  1.0e-05  4.2e-08  1.01e+00   -2.507198214e-01  -2.507213015e-01  1.0e-05  0.20  \n",
      "7   7.5e-07  7.5e-07  8.9e-10  9.91e-01   -2.509325775e-01  -2.509328553e-01  7.5e-07  0.23  \n",
      "8   4.1e-08  3.9e-08  9.0e-12  9.30e-01   -2.509402307e-01  -2.509402205e-01  3.9e-08  0.27  \n",
      "9   2.0e-08  1.9e-08  3.8e-12  7.01e-01   -2.509400939e-01  -2.509400974e-01  1.9e-08  0.32  \n",
      "10  1.6e-08  6.0e-09  6.7e-13  9.65e-01   -2.509401195e-01  -2.509401215e-01  5.7e-09  0.34  \n",
      "11  1.2e-08  6.5e-09  3.2e-13  9.96e-01   -2.509400691e-01  -2.509400710e-01  3.4e-09  0.37  \n",
      "Optimizer terminated. Time: 0.37    \n",
      "\n",
      "optimum = -0.25094006911751054\n",
      "  0.378879 seconds (102.73 k allocations: 8.363 MiB)\n"
     ]
    }
   ],
   "source": [
    "using NCTSSOS\n",
    "\n",
    "@time ctpNCPOP.nctssos_first(Vector{Vector{Vector{UInt16}}}([[supp_f];supp_g;supp_h]),[[coe_f];coe_g;coe_h],\n",
    "    n,k,[dg;dh],numeq=l,reducebasis=false,obj=\"eigen\",merge=false,TS=false,QUIET=false);"
   ]
  },
  {
   "cell_type": "code",
   "execution_count": null,
   "metadata": {},
   "outputs": [],
   "source": []
  },
  {
   "cell_type": "code",
   "execution_count": null,
   "metadata": {},
   "outputs": [],
   "source": []
  }
 ],
 "metadata": {
  "kernelspec": {
   "display_name": "Julia 1.3.0",
   "language": "julia",
   "name": "julia-1.3"
  },
  "language_info": {
   "file_extension": ".jl",
   "mimetype": "application/julia",
   "name": "julia",
   "version": "1.3.0"
  }
 },
 "nbformat": 4,
 "nbformat_minor": 2
}
