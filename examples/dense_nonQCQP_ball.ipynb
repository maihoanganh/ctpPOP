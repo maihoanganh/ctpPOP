{
 "cells": [
  {
   "cell_type": "code",
   "execution_count": 42,
   "metadata": {},
   "outputs": [
    {
     "name": "stdout",
     "output_type": "stream",
     "text": [
      "***Problem setting***\n",
      "Number of variable: n=5\n",
      "====================\n",
      "Number of inequality constraints: m=1\n",
      "====================\n",
      "Number of equality constraints: l=2\n"
     ]
    }
   ],
   "source": [
    "using DynamicPolynomials, LinearAlgebra, SparseArrays\n",
    "\n",
    "println(\"***Problem setting***\")\n",
    "\n",
    "n=5\n",
    "\n",
    "println(\"Number of variable: n=\",n)\n",
    "println(\"====================\")\n",
    "\n",
    "@polyvar x[1:n]# variables\n",
    "\n",
    "function generate_random_poly(v)\n",
    "    c=2*rand(Float64,length(v)).-1\n",
    "    #c=rand(Float64,length(v))\n",
    "    return c'*v\n",
    "end\n",
    "# random quadratic objective function f\n",
    "v=reverse(monomials(x,0:5))\n",
    "f=generate_random_poly(v)\n",
    "#f=f^2\n",
    "\n",
    "\n",
    "# unit sphere constraint\n",
    "m=1\n",
    "q=floor(Int64,n/m)\n",
    "R=ones(Float64,m)./m\n",
    "T=[(j-1)*q+1:j*q for j in 1:m-1]\n",
    "append!(T,[(m-1)*q+1:n])\n",
    "\n",
    "g=[R[j]-sum(x[T[j]].^2) for j in 1:m]\n",
    "\n",
    "m=length(g)\n",
    "println(\"Number of inequality constraints: m=\",m)\n",
    "println(\"====================\")\n",
    "\n",
    "l=ceil(Int64, n/4)\n",
    "\n",
    "h=Vector{Polynomial{true,Float64}}(undef,l)\n",
    "randx=[2*rand(length(T[j])).-1 for j in 1:m]# create a feasible solution\n",
    "randx=[sqrt(R[j])*rand(1)[1]*randx[j]/norm(randx[j]) for j in 1:m]\n",
    "randx=vcat(randx...)\n",
    "\n",
    "for j in 1:l\n",
    "    h[j]=generate_random_poly(v[2:end])\n",
    "    h[j]-=h[j](x => randx) #make constraints feasible\n",
    "end\n",
    "\n",
    "l=length(h)\n",
    "println(\"Number of equality constraints: l=\",l)"
   ]
  },
  {
   "cell_type": "code",
   "execution_count": 49,
   "metadata": {},
   "outputs": [
    {
     "name": "stdout",
     "output_type": "stream",
     "text": [
      "Relaxed order: k=4\n"
     ]
    }
   ],
   "source": [
    "k=4\n",
    "println(\"Relaxed order: k=\",k)"
   ]
  },
  {
   "cell_type": "code",
   "execution_count": 50,
   "metadata": {},
   "outputs": [
    {
     "name": "stdout",
     "output_type": "stream",
     "text": [
      "Problem\n",
      "  Name                   :                 \n",
      "  Objective sense        : max             \n",
      "  Type                   : CONIC (conic optimization problem)\n",
      "  Constraints            : 1287            \n",
      "  Cones                  : 0               \n",
      "  Scalar variables       : 43              \n",
      "  Matrix variables       : 2               \n",
      "  Integer variables      : 0               \n",
      "\n",
      "Optimizer started.\n",
      "Presolve started.\n",
      "Linear dependency checker started.\n",
      "Linear dependency checker terminated.\n",
      "Eliminator started.\n",
      "Freed constraints in eliminator : 0\n",
      "Eliminator terminated.\n",
      "Eliminator - tries                  : 1                 time                   : 0.00            \n",
      "Lin. dep.  - tries                  : 1                 time                   : 0.00            \n",
      "Lin. dep.  - number                 : 0               \n",
      "Presolve terminated. Time: 0.00    \n",
      "Problem\n",
      "  Name                   :                 \n",
      "  Objective sense        : max             \n",
      "  Type                   : CONIC (conic optimization problem)\n",
      "  Constraints            : 1287            \n",
      "  Cones                  : 0               \n",
      "  Scalar variables       : 43              \n",
      "  Matrix variables       : 2               \n",
      "  Integer variables      : 0               \n",
      "\n",
      "Optimizer  - threads                : 4               \n",
      "Optimizer  - solved problem         : the primal      \n",
      "Optimizer  - Constraints            : 1287\n",
      "Optimizer  - Cones                  : 1\n",
      "Optimizer  - Scalar variables       : 44                conic                  : 44              \n",
      "Optimizer  - Semi-definite variables: 2                 scalarized             : 9597            \n",
      "Factor     - setup time             : 0.08              dense det. time        : 0.00            \n",
      "Factor     - ML order time          : 0.02              GP order time          : 0.00            \n",
      "Factor     - nonzeros before factor : 8.39e+05          after factor           : 8.62e+05        \n",
      "Factor     - dense dim.             : 44                flops                  : 9.26e+08        \n",
      "ITE PFEAS    DFEAS    GFEAS    PRSTATUS   POBJ              DOBJ              MU       TIME  \n",
      "0   3.0e+00  1.0e+00  1.0e+00  0.00e+00   0.000000000e+00   0.000000000e+00   1.0e+00  0.08  \n",
      "1   6.2e-01  2.1e-01  1.0e-01  -2.97e-01  -1.928129648e+00  -1.926929842e+00  2.1e-01  0.18  \n",
      "2   1.2e-01  4.0e-02  7.0e-03  1.31e+00   -9.570463057e-01  -9.469687864e-01  4.0e-02  0.27  \n",
      "3   2.7e-02  9.1e-03  7.4e-04  8.77e-01   -8.259583101e-01  -8.231312576e-01  9.1e-03  0.37  \n",
      "4   1.2e-03  3.9e-04  8.2e-06  9.50e-01   -8.590585717e-01  -8.590665520e-01  3.9e-04  0.47  \n",
      "5   1.7e-07  5.7e-08  1.4e-11  9.99e-01   -8.570080023e-01  -8.570080035e-01  5.7e-08  0.57  \n",
      "6   4.6e-09  1.5e-09  6.0e-14  1.00e+00   -8.570078346e-01  -8.570078346e-01  1.5e-09  0.67  \n",
      "Optimizer terminated. Time: 0.67    \n",
      "\n",
      "OPTIMAL\n",
      "opt_val=-0.8570078346220894\n",
      "  0.939011 seconds (2.65 M allocations: 315.236 MiB, 6.66% gc time)\n"
     ]
    },
    {
     "data": {
      "text/plain": [
       "-0.8570078346220894"
      ]
     },
     "execution_count": 50,
     "metadata": {},
     "output_type": "execute_result"
    }
   ],
   "source": [
    "using ctpPOP\n",
    "\n",
    "opt_val0=ctpPOP.POP_dense_SOS(x,f,g,h,k,tol=1e-3)"
   ]
  },
  {
   "cell_type": "code",
   "execution_count": null,
   "metadata": {},
   "outputs": [],
   "source": []
  },
  {
   "cell_type": "code",
   "execution_count": 51,
   "metadata": {
    "scrolled": true
   },
   "outputs": [
    {
     "name": "stdout",
     "output_type": "stream",
     "text": [
      "  Computing constant trace status: OPTIMAL\n",
      "  Constant trace: ak = 5.0\n",
      "  Number of blocks: omega=2\n",
      "  Size of the largest block: s^max=126\n",
      "  Number of equality trace constraints: zeta=8353\n",
      "Modeling time:\n",
      "  0.092508 seconds (364.08 k allocations: 50.382 MiB, 31.33% gc time)\n",
      "iter=1   val=-6.735585557055925   gap=0.0001047791854641555   feas=6.132736333786388\n",
      "iter=2   val=-5.702717383546906   gap=0.07821563722243842   feas=4.55831530860276\n",
      "iter=4   val=-4.83381958613961   gap=0.20738328453676277   feas=3.1742427726810347\n",
      "iter=8   val=-3.093058133646316   gap=0.18789723337115258   feas=1.699857469433972\n",
      "iter=16   val=-2.199764129404866   gap=0.21516494718911625   feas=0.8855809305815392\n",
      "iter=32   val=-1.667439020846604   gap=0.10932728698788492   feas=0.3817455493686524\n",
      "iter=64   val=-1.4926534840968229   gap=0.09181026610696559   feas=0.2407850670130008\n",
      "iter=128   val=-1.3714805939989083   gap=0.1146333416421032   feas=0.17191817418250321\n",
      "iter=256   val=-1.230440528045774   gap=0.12365765299088391   feas=0.12387805746485535\n",
      "iter=512   val=-1.0354168119873008   gap=0.08447023345554794   feas=0.06295698055332186\n",
      "iter=1024   val=-0.838537246863138   gap=0.012971963740938036   feas=0.015364149447975033\n",
      "iter=2048   val=-0.8608474919273962   gap=0.0011292133537299529   feas=0.005510951673979446\n",
      "iter=4096   val=-0.8531660900675219   gap=0.0021646586795300606   feas=0.002936951095837402\n",
      "iter=8192   val=-0.8555771941218816   gap=0.0008261301372743678   feas=0.0018723115021485183\n",
      "iter=13607   val=-0.8562464589827434   gap=0.0005591303935555549   feas=0.000999962018920455\n",
      "tol satisfies!!!\n",
      "\n",
      "####################################\n",
      "opt_val = -0.8562464589827434\n",
      "####################################\n",
      "Solving time:\n",
      " 23.844609 seconds (8.62 M allocations: 9.833 GiB, 2.67% gc time)\n",
      "Total time:\n",
      " 23.937381 seconds (8.98 M allocations: 9.882 GiB, 2.78% gc time)\n",
      "gap = 0.08884115273948619\n"
     ]
    }
   ],
   "source": [
    "using ctpPOP\n",
    "\n",
    "n,m,l,lmon_g,supp_g,coe_g,lmon_h,supp_h,coe_h,lmon_f,supp_f,coe_f,dg,dh=ctpPOP.get_info(x,f,g,h,sparse=false);\n",
    "\n",
    "opt_val1=ctpPOP.POP_dense_CGAL(n,m,l,lmon_g,supp_g,coe_g,lmon_h,supp_h,coe_h,lmon_f,supp_f,coe_f,dg,dh,k,\n",
    "                         maxit=Int64(1e6),tol=1e-3,\n",
    "                         use_eqcons_to_get_constant_trace=false,\n",
    "                         check_tol_each_iter=true)\n",
    "println(\"gap = \",abs(opt_val1-opt_val0)/abs(opt_val0)*100)"
   ]
  },
  {
   "cell_type": "code",
   "execution_count": null,
   "metadata": {},
   "outputs": [],
   "source": []
  },
  {
   "cell_type": "code",
   "execution_count": 8,
   "metadata": {},
   "outputs": [
    {
     "name": "stdout",
     "output_type": "stream",
     "text": [
      "------------------------------------------------------------------\n",
      "          COSMO v0.7.8 - A Quadratic Objective Conic Solver\n",
      "                         Michael Garstka\n",
      "                University of Oxford, 2017 - 2020\n",
      "------------------------------------------------------------------\n",
      "\n",
      "Problem:  x ∈ R^{255},\n",
      "          constraints: A ∈ R^{378x255} (722 nnz),\n",
      "          matrix size to factor: 633x633,\n",
      "          Floating-point precision: Float64\n",
      "Sets:     PsdConeTriangle of dim: 231\n",
      "          ZeroSet of dim: 126\n",
      "          PsdConeTriangle of dim: 21\n",
      "Settings: ϵ_abs = 1.0e-04, ϵ_rel = 1.0e-04,\n",
      "          ϵ_prim_inf = 1.0e-06, ϵ_dual_inf = 1.0e-04,\n",
      "          ρ = 0.1, σ = 1e-06, α = 1.6,\n",
      "          max_iter = 2500,\n",
      "          scaling iter = 10 (on),\n",
      "          check termination every 40 iter,\n",
      "          check infeasibility every 40 iter,\n",
      "          KKT system solver: COSMO.QdldlKKTSolver\n",
      "Setup Time: 837.51ms\n",
      "\n",
      "Iter:\tObjective:\tPrimal Res:\tDual Res:\tRho:\n",
      "1\t-2.6789e+01\t1.6012e+01\t5.9998e-01\t1.0000e-01\n",
      "40\t4.9250e-01\t4.2833e-02\t7.2106e-04\t1.0000e-01\n",
      "80\t5.7305e-01\t3.1732e-04\t5.9484e-04\t6.9578e-01\n",
      "120\t5.7278e-01\t9.1885e-06\t2.7253e-05\t6.9578e-01\n",
      "\n",
      "------------------------------------------------------------------\n",
      ">>> Results\n",
      "Status: \u001b[32mSolved\u001b[39m\n",
      "Iterations: 120\n",
      "Optimal objective: 0.5728\n",
      "Runtime: 1.983s (1983.05ms)\n",
      "\n",
      "OPTIMAL\n",
      "opt_val=-0.5727775491807138\n",
      " 10.233478 seconds (30.79 M allocations: 1.521 GiB, 5.39% gc time)\n",
      "gap = 0.00022405286926645304\n"
     ]
    }
   ],
   "source": [
    "using ctpPOP\n",
    "\n",
    "opt_val2=ctpPOP.POP_dense_SOS(x,f,g,h,k,tol=1e-3,solver=\"COSMO\")\n",
    "\n",
    "println(\"gap = \",abs(opt_val2-opt_val0)/abs(opt_val0)*100)"
   ]
  },
  {
   "cell_type": "code",
   "execution_count": null,
   "metadata": {},
   "outputs": [],
   "source": []
  },
  {
   "cell_type": "code",
   "execution_count": 16,
   "metadata": {},
   "outputs": [],
   "source": [
    "# using ctpPOP\n",
    "\n",
    "# opt_val=ctpPOP.POP_dense_LMBM(n,m,l,lmon_g,supp_g,coe_g,lmon_h,supp_h,coe_h,lmon_f,supp_f,coe_f,dg,dh,k,\n",
    "#                          tol=1e-3,use_eqcons_to_get_constant_trace=false)"
   ]
  },
  {
   "cell_type": "code",
   "execution_count": 24,
   "metadata": {},
   "outputs": [],
   "source": [
    "#using ctpPOP\n",
    "\n",
    "#optval=ctpPOP.POP_NLP(n,m,l,lmon_g,supp_g,coe_g,lmon_h,supp_h,coe_h,lmon_f,supp_f,coe_f)"
   ]
  },
  {
   "cell_type": "code",
   "execution_count": null,
   "metadata": {},
   "outputs": [],
   "source": []
  }
 ],
 "metadata": {
  "kernelspec": {
   "display_name": "Julia 1.3.0",
   "language": "julia",
   "name": "julia-1.3"
  },
  "language_info": {
   "file_extension": ".jl",
   "mimetype": "application/julia",
   "name": "julia",
   "version": "1.3.0"
  }
 },
 "nbformat": 4,
 "nbformat_minor": 2
}
