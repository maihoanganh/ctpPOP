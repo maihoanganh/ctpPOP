{
 "cells": [
  {
   "cell_type": "code",
   "execution_count": 75,
   "metadata": {},
   "outputs": [
    {
     "name": "stdout",
     "output_type": "stream",
     "text": [
      "***Problem setting***\n",
      "Number of variable: n=2\n",
      "====================\n",
      "Number of inequality constraints: m=3\n",
      "====================\n",
      "Number of equality constraints: l=0\n",
      "====================\n",
      "Relaxed order: k=1\n"
     ]
    }
   ],
   "source": [
    "using DynamicPolynomials\n",
    "\n",
    "println(\"***Problem setting***\")\n",
    "\n",
    "n=2\n",
    "\n",
    "println(\"Number of variable: n=\",n)\n",
    "println(\"====================\")\n",
    "\n",
    "@polyvar x[1:n]# variables\n",
    "\n",
    "function generate_random_poly(v)\n",
    "    c=2*rand(Float64,length(v)).-1\n",
    "    return c'*v\n",
    "end\n",
    "# random quadratic objective function f\n",
    "v=reverse(monomials(x,0:2))\n",
    "f=generate_random_poly(v)\n",
    "\n",
    "\n",
    "# unit sphere constraint\n",
    "g=[x;1.0-sum(x.^2)] #type of coefficients of each polynomial must be float\n",
    "\n",
    "m=length(g)\n",
    "println(\"Number of inequality constraints: m=\",m)\n",
    "println(\"====================\")\n",
    "\n",
    "l=0#ceil(Int64, n/7)\n",
    "\n",
    "h=Vector{Polynomial{true,Float64}}(undef,l)\n",
    "randx=2*rand(n).-1# create a feasible solution\n",
    "randx=rand(1)[1]*randx./sqrt(sum(randx.^2))\n",
    "\n",
    "\n",
    "for j in 1:l\n",
    "    h[j]=generate_random_poly(v[2:end])\n",
    "    h[j]-=h[j](x => randx) #make constraints feasible\n",
    "end\n",
    "\n",
    "l=length(h)\n",
    "println(\"Number of equality constraints: l=\",l)\n",
    "println(\"====================\")\n",
    "\n",
    "k=1\n",
    "\n",
    "println(\"Relaxed order: k=\",k)\n",
    "\n"
   ]
  },
  {
   "cell_type": "code",
   "execution_count": 80,
   "metadata": {},
   "outputs": [
    {
     "name": "stdout",
     "output_type": "stream",
     "text": [
      "  Computing constant trace status: OPTIMAL\n",
      "  Constant trace: ak = 2.0\n",
      "  Number of blocks: omega=4\n",
      "  Size of the largest block: s^max=3\n",
      "  Number of equality trace constraints: zeta=4\n",
      "Modeling time:\n",
      "  0.320239 seconds (277.30 k allocations: 13.920 MiB)\n",
      "iter=1.0   val=-3.905924039119348   gap=1.226623455873924   feas=1.8598175659188199\n",
      "iter=2.0   val=-2.0054384217728773   gap=0.6007068093363963   feas=0.6604179358218546\n",
      "iter=4.0   val=-2.2996614713862185   gap=0.6089589195628147   feas=0.6301366183048511\n",
      "iter=8.0   val=-1.6537936561925037   gap=0.3711867547743761   feas=0.3091316689145394\n",
      "iter=16.0   val=-1.583142302702135   gap=0.4059683690047349   feas=0.2755563769195686\n",
      "iter=32.0   val=-1.7296581214007374   gap=0.8220330899870941   feas=0.2632251554218817\n",
      "iter=64.0   val=-1.710505897149677   gap=1.750770435623339   feas=0.2615654272676378\n",
      "iter=128.0   val=-1.6971210190108892   gap=3.1491000200622183   feas=0.26132399724925154\n",
      "iter=256.0   val=-1.7160516280727265   gap=3.987037331976278   feas=0.2611329917268884\n",
      "iter=512.0   val=-1.7130764378579477   gap=4.612494740367827   feas=0.2610969915988192\n",
      "iter=1024.0   val=-1.7116605737117572   gap=5.054575868458311   feas=0.2610888997805167\n",
      "iter=2048.0   val=-1.710958666152239   gap=5.4028159352390475   feas=0.26108724255295374\n",
      "iter=4096.0   val=-1.7106462869418901   gap=5.621711558918089   feas=0.2610869755270916\n",
      "iter=8192.0   val=-1.7113059953941372   gap=5.76394084441052   feas=0.26108669705557846\n",
      "iter=16384.0   val=-1.7112747614536574   gap=5.877872815290997   feas=0.26108665323176206\n",
      "iter=32768.0   val=-1.711282368477892   gap=5.960739582892707   feas=0.2610866387701099\n",
      "iter=65536.0   val=-1.7112068846547235   gap=6.019389701681331   feas=0.26108662751848877\n"
     ]
    },
    {
     "name": "stderr",
     "output_type": "stream",
     "text": [
      "WARNING: replacing module ctpPOP.\n",
      "WARNING: Compat.Printf is deprecated, use Printf instead.\n",
      "  likely near /home/hoanganh/Desktop/math-topics/ctpPOP/codes/ctpPOP/solvers/ProximalBundleMethod/ProximalMethod.jl:391\n"
     ]
    },
    {
     "ename": "InterruptException",
     "evalue": "InterruptException:",
     "output_type": "error",
     "traceback": [
      "InterruptException:",
      "",
      "Stacktrace:",
      " [1] Array at ./boot.jl:404 [inlined]",
      " [2] Array{Float64,1}() at ./boot.jl:423",
      " [3] aupd_wrapper(::Type, ::Arpack.var\"#matvecA!#24\"{Array{Float64,2}}, ::Arpack.var\"#18#25\", ::Arpack.var\"#19#26\", ::Int64, ::Bool, ::Bool, ::String, ::Int64, ::Int64, ::String, ::Float64, ::Int64, ::Int64, ::Array{Float64,1}) at /home/hoanganh/.julia/packages/Arpack/o35I5/src/libarpack.jl:45",
      " [4] #_eigs#17(::Int64, ::Int64, ::Symbol, ::Float64, ::Int64, ::Nothing, ::Array{Float64,1}, ::Bool, ::typeof(Arpack._eigs), ::Array{Float64,2}, ::LinearAlgebra.UniformScaling{Bool}) at /home/hoanganh/.julia/packages/Arpack/o35I5/src/Arpack.jl:181",
      " [5] #_eigs at ./none:0 [inlined]",
      " [6] #eigs#10 at /home/hoanganh/.julia/packages/Arpack/o35I5/src/Arpack.jl:46 [inlined]",
      " [7] #eigs at ./none:0 [inlined]",
      " [8] #eigs#9 at /home/hoanganh/.julia/packages/Arpack/o35I5/src/Arpack.jl:45 [inlined]",
      " [9] #eigs at ./none:0 [inlined]",
      " [10] #SmallEig_CGAL_arb_cons#230(::String, ::typeof(Main.ctpPOP.SmallEig_CGAL_arb_cons), ::Array{Float64,2}, ::UInt64) at /home/hoanganh/Desktop/math-topics/ctpPOP/codes/ctpPOP/src/pop/dense_pop/pop_CGAL_arb_cons.jl:464",
      " [11] #SmallEig_CGAL_arb_cons at ./none:0 [inlined]",
      " [12] #SmallEig_block_CGAL_arb_cons#231(::String, ::typeof(Main.ctpPOP.SmallEig_block_CGAL_arb_cons), ::LinearAlgebra.Adjoint{Float64,Array{Float64,1}}, ::UInt64) at /home/hoanganh/Desktop/math-topics/ctpPOP/codes/ctpPOP/src/pop/dense_pop/pop_CGAL_arb_cons.jl:499",
      " [13] #SmallEig_block_CGAL_arb_cons at ./none:0 [inlined]",
      " [14] macro expansion at /home/hoanganh/Desktop/math-topics/ctpPOP/codes/ctpPOP/src/pop/dense_pop/pop_CGAL_arb_cons.jl:517 [inlined]",
      " [15] macro expansion at ./simdloop.jl:77 [inlined]",
      " [16] #SmallEigBlocks_CGAL_arb_cons#232(::String, ::typeof(Main.ctpPOP.SmallEigBlocks_CGAL_arb_cons), ::Array{LinearAlgebra.Adjoint{Float64,Array{Float64,1}},1}, ::Array{SparseArrays.SparseMatrixCSC{Float64,Int64},1}, ::Array{Float64,1}, ::Array{UInt64,1}, ::Int64) at /home/hoanganh/Desktop/math-topics/ctpPOP/codes/ctpPOP/src/pop/dense_pop/pop_CGAL_arb_cons.jl:516",
      " [17] #SmallEigBlocks_CGAL_arb_cons at ./none:0 [inlined]",
      " [18] #update_CGAL_arb_cons#233(::String, ::typeof(Main.ctpPOP.update_CGAL_arb_cons), ::Array{Float64,1}, ::Array{Float64,1}, ::Float64, ::Float64, ::Array{SparseArrays.SparseMatrixCSC{Float64,Int64},1}, ::Array{LinearAlgebra.Adjoint{Float64,Array{Float64,1}},1}, ::Array{UInt64,1}, ::Int64, ::Float64, ::Float64, ::Float64) at /home/hoanganh/Desktop/math-topics/ctpPOP/codes/ctpPOP/src/pop/dense_pop/pop_CGAL_arb_cons.jl:535",
      " [19] #update_CGAL_arb_cons at ./none:0 [inlined]",
      " [20] #solve_POP_CGAL_arb_cons#238(::String, ::Float64, ::Float64, ::typeof(Main.ctpPOP.solve_POP_CGAL_arb_cons), ::Int64, ::Array{LinearAlgebra.Adjoint{Float64,Array{Float64,1}},1}, ::Array{SparseArrays.SparseMatrixCSC{Float64,Int64},1}, ::Array{UInt64,1}, ::UInt64, ::Float64, ::Float64, ::Float64) at /home/hoanganh/Desktop/math-topics/ctpPOP/codes/ctpPOP/src/pop/dense_pop/pop_CGAL_arb_cons.jl:573",
      " [21] #solve_POP_CGAL_arb_cons at ./none:0 [inlined]",
      " [22] macro expansion at ./util.jl:155 [inlined]",
      " [23] macro expansion at /home/hoanganh/Desktop/math-topics/ctpPOP/codes/ctpPOP/src/pop/dense_pop/pop_CGAL_arb_cons.jl:608 [inlined]",
      " [24] macro expansion at ./util.jl:155 [inlined]",
      " [25] #POP_CGAL_arb_cons#239(::String, ::Float64, ::Float64, ::Bool, ::typeof(Main.ctpPOP.POP_CGAL_arb_cons), ::Array{PolyVar{true},1}, ::Polynomial{true,Float64}, ::Array{Polynomial{true,Float64},1}, ::Array{Polynomial{true,Float64},1}, ::Int64) at /home/hoanganh/Desktop/math-topics/ctpPOP/codes/ctpPOP/src/pop/dense_pop/pop_CGAL_arb_cons.jl:601",
      " [26] (::Main.ctpPOP.var\"#kw##POP_CGAL_arb_cons\")(::NamedTuple{(:EigAlg, :tol, :maxit, :UseEq),Tuple{String,Float64,Float64,Bool}}, ::typeof(Main.ctpPOP.POP_CGAL_arb_cons), ::Array{PolyVar{true},1}, ::Polynomial{true,Float64}, ::Array{Polynomial{true,Float64},1}, ::Array{Polynomial{true,Float64},1}, ::Int64) at ./none:0",
      " [27] top-level scope at In[80]:3"
     ]
    }
   ],
   "source": [
    "include(\"../src/ctpPOP.jl\")\n",
    "using .ctpPOP\n",
    "\n",
    "opt_val=ctpPOP.POP_CGAL_arb_cons(x,f,g,h,k;EigAlg=\"Arpack\",tol=1e-3,maxit=1e10,UseEq=false)"
   ]
  },
  {
   "cell_type": "code",
   "execution_count": 81,
   "metadata": {},
   "outputs": [
    {
     "name": "stdout",
     "output_type": "stream",
     "text": [
      "  Computing constant trace status: OPTIMAL\n",
      "  Constant trace: ak = 2.0\n",
      "  Number of blocks: omega=4\n",
      "  Size of the largest block: s^max=3\n",
      "  Number of equality trace constraints: zeta=4\n",
      "Modeling time:\n",
      "  0.312673 seconds (277.31 k allocations: 13.922 MiB)\n",
      "---------------\n",
      "| Parameters: |\n",
      "---------------\n",
      "n:       4\n",
      "maxtime: 300000.000000\n",
      "na:      2\n",
      "mcu:     5\n",
      "mc:      7\n",
      "rpar: \n",
      "ipar: \n",
      " Warning: MC > MCU. Assigned MC = MCU.\n",
      " Entry to LMBM:\n",
      " NIT=    1  NFE=    1  F= 0.92165164D+00  WK= 0.3587D+00  QK= 0.1794D+00\n",
      " NIT=    2  NFE=    2  F= 0.65516162D+00  WK= 0.2133D+00  QK= 0.4620D-01\n",
      " NIT=    3  NFE=    3  F= 0.54446957D+00  WK= 0.1487D+00  QK= 0.6944D-01\n",
      " NIT=    4  NFE=    4  F= 0.41445506D+00  WK= 0.1146D+00  QK= 0.5124D-01\n",
      " Warning: A nondescent search direction occured. Restart.\n",
      " NIT=    5  NFE=    5  F= 0.41445506D+00  WK= 0.1025D+00  QK= 0.5124D-01\n",
      " NIT=    6  NFE=    6  F= 0.41445506D+00  WK= 0.7394D-01  QK= 0.3713D-01\n",
      " NIT=    7  NFE=    7  F= 0.38038793D+00  WK= 0.2663D-01  QK= 0.5128D-01\n",
      " NIT=    8  NFE=    8  F= 0.36955871D+00  WK= 0.1553D-01  QK= 0.3532D-01\n",
      " NIT=    9  NFE=    9  F= 0.35464255D+00  WK= 0.3506D+00  QK= 0.3459D-01\n",
      " Warning: A nondescent search direction occured. Restart.\n",
      " NIT=   10  NFE=   11  F= 0.35464255D+00  WK= 0.6918D-01  QK= 0.3459D-01\n",
      " NIT=   11  NFE=   12  F= 0.35464255D+00  WK= 0.3738D-01  QK= 0.1889D-01\n",
      " NIT=   12  NFE=   13  F= 0.33851167D+00  WK= 0.1817D-01  QK= 0.5124D-01\n",
      " Warning: A nondescent search direction occured. Restart.\n",
      " NIT=   13  NFE=   14  F= 0.33851167D+00  WK= 0.1025D+00  QK= 0.5124D-01\n",
      " NIT=   14  NFE=   15  F= 0.33851167D+00  WK= 0.5338D-01  QK= 0.2714D-01\n",
      " NIT=   15  NFE=   18  F= 0.33769417D+00  WK= 0.3552D-02  QK= 0.3803D-01\n",
      " NIT=   16  NFE=   19  F= 0.33473002D+00  WK= 0.2053D-01  QK= 0.3519D-01\n",
      " NIT=   17  NFE=   20  F= 0.32910040D+00  WK= 0.9786D-02  QK= 0.5124D-01\n",
      " NIT=   18  NFE=   21  F= 0.31931488D+00  WK= 0.8233D-02  QK= 0.5124D-01\n",
      " NIT=   19  NFE=   22  F= 0.31931488D+00  WK= 0.1182D-01  QK= 0.2653D-01\n",
      " NIT=   20  NFE=   23  F= 0.30951361D+00  WK= 0.3011D-01  QK= 0.5124D-01\n",
      " NIT=   21  NFE=   24  F= 0.29045332D+00  WK= 0.4652D-01  QK= 0.3595D-01\n",
      " NIT=   22  NFE=   25  F= 0.25455603D+00  WK= 0.6522D-01  QK= 0.4021D-01\n",
      " NIT=   23  NFE=   26  F= 0.20411232D+00  WK= 0.2567D+00  QK= 0.6050D-01\n",
      " NIT=   24  NFE=   27  F= 0.15281957D+00  WK= 0.1530D+01  QK= 0.7147D-01\n",
      " NIT=   25  NFE=   28  F= 0.99484584D-01  WK= 0.5698D+01  QK= 0.7723D-01\n",
      " NIT=   26  NFE=   29  F= 0.44771815D-01  WK= 0.1631D+02  QK= 0.8051D-01\n",
      " Exit from LMBM:\n",
      " Abnormal exit: F < TOLB.\n",
      " NIT=   27  NFE=   30  F=-0.10841361D-01  WK= 0.3963D+02  QK= 0.8250D-01  ITERM=  7\n",
      "-----------\n",
      "| Output: |\n",
      "-----------\n",
      "Termination:     7\n",
      "N. iter.:        27\n",
      "N. func. eval.:  30\n",
      "Final value:     -0.010841\n",
      "Execution time:  0.272095\n",
      "\n",
      "####################################\n",
      "opt_val = 0.04595048681765887\n",
      "####################################\n",
      "Solving time:\n",
      "  0.479625 seconds (482.37 k allocations: 25.564 MiB)\n",
      "Total time:\n",
      "  0.792551 seconds (760.17 k allocations: 39.497 MiB)\n"
     ]
    },
    {
     "name": "stderr",
     "output_type": "stream",
     "text": [
      "WARNING: replacing module ctpPOP.\n",
      "WARNING: Compat.Printf is deprecated, use Printf instead.\n",
      "  likely near /home/hoanganh/Desktop/math-topics/ctpPOP/codes/ctpPOP/solvers/ProximalBundleMethod/ProximalMethod.jl:391\n"
     ]
    },
    {
     "data": {
      "text/plain": [
       "0.04595048681765887"
      ]
     },
     "execution_count": 81,
     "metadata": {},
     "output_type": "execute_result"
    }
   ],
   "source": [
    "include(\"../src/ctpPOP.jl\")\n",
    "using .ctpPOP\n",
    "\n",
    "opt_val=ctpPOP.POP_LMBM_arb_cons(x,f,g,h,k;EigAlg=\"Arpack\",tol=1e-3,UseEq=false)"
   ]
  },
  {
   "cell_type": "code",
   "execution_count": 79,
   "metadata": {},
   "outputs": [
    {
     "name": "stdout",
     "output_type": "stream",
     "text": [
      "**SumOfSquares+Mosek:\n",
      "Problem\n",
      "  Name                   :                 \n",
      "  Objective sense        : max             \n",
      "  Type                   : CONIC (conic optimization problem)\n",
      "  Constraints            : 6               \n",
      "  Cones                  : 0               \n",
      "  Scalar variables       : 4               \n",
      "  Matrix variables       : 1               \n",
      "  Integer variables      : 0               \n",
      "\n",
      "Optimizer started.\n",
      "Presolve started.\n",
      "Linear dependency checker started.\n",
      "Linear dependency checker terminated.\n",
      "Eliminator started.\n",
      "Freed constraints in eliminator : 0\n",
      "Eliminator terminated.\n",
      "Eliminator started.\n",
      "Freed constraints in eliminator : 0\n",
      "Eliminator terminated.\n",
      "Eliminator - tries                  : 2                 time                   : 0.00            \n",
      "Lin. dep.  - tries                  : 1                 time                   : 0.00            \n",
      "Lin. dep.  - number                 : 0               \n",
      "Presolve terminated. Time: 0.00    \n",
      "Problem\n",
      "  Name                   :                 \n",
      "  Objective sense        : max             \n",
      "  Type                   : CONIC (conic optimization problem)\n",
      "  Constraints            : 6               \n",
      "  Cones                  : 0               \n",
      "  Scalar variables       : 4               \n",
      "  Matrix variables       : 1               \n",
      "  Integer variables      : 0               \n",
      "\n",
      "Optimizer  - threads                : 4               \n",
      "Optimizer  - solved problem         : the primal      \n",
      "Optimizer  - Constraints            : 6\n",
      "Optimizer  - Cones                  : 1\n",
      "Optimizer  - Scalar variables       : 5                 conic                  : 2               \n",
      "Optimizer  - Semi-definite variables: 1                 scalarized             : 6               \n",
      "Factor     - setup time             : 0.00              dense det. time        : 0.00            \n",
      "Factor     - ML order time          : 0.00              GP order time          : 0.00            \n",
      "Factor     - nonzeros before factor : 21                after factor           : 21              \n",
      "Factor     - dense dim.             : 0                 flops                  : 2.76e+02        \n",
      "ITE PFEAS    DFEAS    GFEAS    PRSTATUS   POBJ              DOBJ              MU       TIME  \n",
      "0   1.2e+00  1.0e+00  1.0e+00  0.00e+00   0.000000000e+00   0.000000000e+00   1.0e+00  0.00  \n",
      "1   3.3e-01  2.8e-01  1.1e-01  6.83e-01   -4.559751240e-01  -3.433409524e-01  2.8e-01  0.01  \n",
      "2   3.6e-02  3.0e-02  3.8e-03  1.42e+00   -4.398843995e-01  -4.306514905e-01  3.0e-02  0.01  \n",
      "3   3.4e-03  2.9e-03  1.1e-04  9.92e-01   -4.566475922e-01  -4.558421211e-01  2.9e-03  0.01  \n",
      "4   2.1e-04  1.8e-04  1.7e-06  9.93e-01   -4.580077022e-01  -4.579579392e-01  1.8e-04  0.01  \n",
      "5   2.1e-06  1.8e-06  1.7e-09  1.00e+00   -4.580171750e-01  -4.580166497e-01  1.8e-06  0.01  \n",
      "6   1.1e-07  9.6e-08  2.1e-11  1.00e+00   -4.580177718e-01  -4.580177439e-01  9.6e-08  0.01  \n",
      "7   8.3e-09  7.3e-09  4.3e-13  1.00e+00   -4.580178444e-01  -4.580178423e-01  7.1e-09  0.01  \n",
      "Optimizer terminated. Time: 0.01    \n",
      "\n",
      "OPTIMAL\n",
      "opt_val=-0.45801784437173715\n",
      "  0.079944 seconds (39.29 k allocations: 2.119 MiB)\n"
     ]
    },
    {
     "name": "stderr",
     "output_type": "stream",
     "text": [
      "WARNING: replacing module ctpPOP.\n",
      "WARNING: Compat.Printf is deprecated, use Printf instead.\n",
      "  likely near /home/hoanganh/Desktop/math-topics/ctpPOP/codes/ctpPOP/solvers/ProximalBundleMethod/ProximalMethod.jl:391\n"
     ]
    },
    {
     "data": {
      "text/plain": [
       "-0.45801784437173715"
      ]
     },
     "execution_count": 79,
     "metadata": {},
     "output_type": "execute_result"
    }
   ],
   "source": [
    "include(\"../src/ctpPOP.jl\")\n",
    "using .ctpPOP\n",
    "\n",
    "opt_val=ctpPOP.SumofSquares_POP(x,f,g,h,k)"
   ]
  },
  {
   "cell_type": "code",
   "execution_count": null,
   "metadata": {},
   "outputs": [],
   "source": []
  }
 ],
 "metadata": {
  "kernelspec": {
   "display_name": "Julia 1.3.0",
   "language": "julia",
   "name": "julia-1.3"
  },
  "language_info": {
   "file_extension": ".jl",
   "mimetype": "application/julia",
   "name": "julia",
   "version": "1.3.0"
  }
 },
 "nbformat": 4,
 "nbformat_minor": 2
}
