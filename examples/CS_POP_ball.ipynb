{
 "cells": [
  {
   "cell_type": "code",
   "execution_count": 1,
   "metadata": {},
   "outputs": [
    {
     "name": "stdout",
     "output_type": "stream",
     "text": [
      "***Problem setting***\n",
      "Number of variable: n=20\n",
      "====================\n",
      "Number of inequality constraints: m=2\n",
      "====================\n",
      "Number of equality constraints: l=3\n"
     ]
    }
   ],
   "source": [
    "using DynamicPolynomials, LinearAlgebra, SparseArrays\n",
    "\n",
    "println(\"***Problem setting***\")\n",
    "\n",
    "n=20\n",
    "\n",
    "println(\"Number of variable: n=\",n)\n",
    "println(\"====================\")\n",
    "\n",
    "@ncpolyvar x[1:n]# variables\n",
    "\n",
    "\n",
    "\n",
    "function star_algebra(mom)\n",
    "    if mom==1\n",
    "        return mom\n",
    "    else\n",
    "        ind=mom.z .>0\n",
    "        vars=mom.vars[ind]\n",
    "        exp=mom.z[ind]\n",
    "        return prod(vars[i]^exp[i] for i in length(exp):-1:1)\n",
    "    end\n",
    "end\n",
    "\n",
    "#function to get a random quadratic polynomial of variables x(T)\n",
    "function generate_random_poly(T::UnitRange{Int64})\n",
    "    v=reverse(monomials(x[T],0:2))\n",
    "    v+=star_algebra.(v)\n",
    "    v=v./2\n",
    "    c=2*rand(Float64,length(v)).-1\n",
    "    return c'*v\n",
    "end\n",
    "\n",
    "# ball constraints on subsets of variables\n",
    "u=10# clique size\n",
    "p=floor(Int64,n/u) #number of cliques\n",
    "\n",
    "# indices of variables on each clique\n",
    "I=Vector{UnitRange{Int64}}(undef,p)\n",
    "I[1]=1:u \n",
    "I[2:p-1]=[u*(j-1):u*j for j in 2:p-1]\n",
    "I[p]=u*(p-1):n\n",
    "\n",
    "# random quadratic objective function f\n",
    "vecf=[generate_random_poly(I[j]) for j in 1:p] #vector of separable polynomials on each clique\n",
    "f=sum(vecf)/100\n",
    "\n",
    "# ball constraints on each clique\n",
    "g=[1.0-sum(x[I[j]].^2) for j in 1:p]\n",
    "J=[j:j for j in 1:p] # assign inequality constraints\n",
    "\n",
    "\n",
    "m=length(g)\n",
    "println(\"Number of inequality constraints: m=\",m)\n",
    "println(\"====================\")\n",
    "\n",
    "\n",
    "l=ceil(Int64, n/7)# number of the equality constraints\n",
    "\n",
    "r=floor(Int64,l/p)\n",
    "W=[(j-1)*r+1:j*r for j in 1:p-1]# assign equality constraints\n",
    "append!(W,[(p-1)*r+1:l])\n",
    "\n",
    "h=Vector{Polynomial{false,Float64}}(undef,l)\n",
    "\n",
    "\n",
    "# get a random point satisfies the inequality constraints\n",
    "randx=2*rand(Float64,n).-1\n",
    "\n",
    "for j in 1:p\n",
    "    randx[I[j]]=randx[I[j]]./norm(randx[I[j]])\n",
    "    randx[I[j]]=rand(Float64,1)[1]*randx[I[j]]\n",
    "end\n",
    "\n",
    "for j in 1:p\n",
    "    for i in W[j]\n",
    "        h[i]=generate_random_poly(I[j])\n",
    "        h[i]-=h[i](x => randx) #make the random point satisfy the equality constraint h[i](randx) = 0\n",
    "    end\n",
    "end\n",
    "\n",
    "l=length(h)\n",
    "println(\"Number of equality constraints: l=\",l)\n"
   ]
  },
  {
   "cell_type": "code",
   "execution_count": 2,
   "metadata": {},
   "outputs": [],
   "source": [
    "include(\"../src/ctpNCPOP.jl\")\n",
    "using .ctpNCPOP\n",
    "\n",
    "n,m,l,lmon_g,supp_g,coe_g,lmon_h,supp_h,coe_h,lmon_f,supp_f,coe_f,dg,dh=ctpNCPOP.get_info(x,f,g,h);"
   ]
  },
  {
   "cell_type": "code",
   "execution_count": 3,
   "metadata": {},
   "outputs": [
    {
     "name": "stdout",
     "output_type": "stream",
     "text": [
      "Relaxed order: k=1\n"
     ]
    }
   ],
   "source": [
    "k=2\n",
    "\n",
    "println(\"Relaxed order: k=\",k)"
   ]
  },
  {
   "cell_type": "code",
   "execution_count": 7,
   "metadata": {},
   "outputs": [
    {
     "name": "stdout",
     "output_type": "stream",
     "text": [
      "------------------------------------------------------\n",
      "The clique sizes of varibles:\n",
      "[11, 10]\n",
      "[1, 1]\n",
      "------------------------------------------------------\n",
      "  Number of cliques: p=2\n",
      "  Largest clique size: u=11\n",
      "  Largest constant trace: a=2.0\n",
      "  Number of blocks: omega=4\n",
      "  Number of equality consraints: zeta=9\n",
      "  Size of the largest block: s^max=12\n",
      "Modeling time:"
     ]
    },
    {
     "name": "stderr",
     "output_type": "stream",
     "text": [
      "WARNING: replacing module ctpNCPOP.\n"
     ]
    },
    {
     "name": "stdout",
     "output_type": "stream",
     "text": [
      "\n",
      "  2.233105 seconds (3.13 M allocations: 159.823 MiB, 3.50% gc time)\n",
      "iter=1   val=-0.07211512683000708   gap=0.027822558838583367   feas=1.1887106637941653\n",
      "iter=2   val=-0.05670054340331083   gap=0.06886373397413746   feas=0.9513315998037305\n",
      "iter=4   val=-0.055511681812512974   gap=0.035980866966220715   feas=0.48074564602412406\n",
      "iter=8   val=-0.05649181503650288   gap=0.016309949621299398   feas=0.29889052595387416\n",
      "iter=16   val=-0.05282627837322204   gap=0.006379874341820477   feas=0.09329012662682158\n",
      "iter=32   val=-0.054388472934276656   gap=0.0018970233566956334   feas=0.030006682201582948\n",
      "iter=64   val=-0.055910892215586365   gap=0.0008173849251432717   feas=0.006617277730096569\n",
      "iter=91   val=-0.05612304379831648   gap=0.00037820109529297077   feas=0.0009500207384729385\n",
      "tol satisfies!!!\n",
      "\n",
      "####################################\n",
      "opt_val = -0.05612304379831648\n",
      "####################################\n",
      "Solving time:\n",
      "  0.583283 seconds (952.44 k allocations: 50.106 MiB, 5.66% gc time)\n",
      "Total time:\n",
      "  2.816690 seconds (4.08 M allocations: 209.946 MiB, 3.95% gc time)\n"
     ]
    },
    {
     "data": {
      "text/plain": [
       "-0.05612304379831648"
      ]
     },
     "execution_count": 7,
     "metadata": {},
     "output_type": "execute_result"
    }
   ],
   "source": [
    "include(\"../src/ctpNCPOP.jl\")\n",
    "using .ctpNCPOP\n",
    "\n",
    "opt_val1=ctpNCPOP.POP_CS_CGAL(n,m,l,lmon_g,supp_g,coe_g,lmon_h,supp_h,coe_h,lmon_f,supp_f,coe_f,dg,dh,k,\n",
    "    maxit=Int64(1e10),tol=1e-3,use_eqcons_to_get_constant_trace=false,check_tol_each_iter=true)"
   ]
  },
  {
   "cell_type": "code",
   "execution_count": 8,
   "metadata": {},
   "outputs": [
    {
     "name": "stdout",
     "output_type": "stream",
     "text": [
      "------------------------------------------------------\n",
      "The clique sizes of varibles:\n",
      "[11, 10]\n",
      "[1, 1]\n",
      "------------------------------------------------------\n",
      "  Number of cliques: p=2\n",
      "  Largest clique size: u=11\n",
      "  Largest constant trace: a=2.0\n",
      "  Number of blocks: omega=4\n",
      "  Number of equality consraints: zeta=9\n",
      "  Size of the largest block: s^max=12\n",
      "Mosek:-----------------"
     ]
    },
    {
     "name": "stderr",
     "output_type": "stream",
     "text": [
      "WARNING: replacing module ctpNCPOP.\n"
     ]
    },
    {
     "name": "stdout",
     "output_type": "stream",
     "text": [
      "\n",
      "Problem\n",
      "  Name                   :                 \n",
      "  Objective sense        : min             \n",
      "  Type                   : CONIC (conic optimization problem)\n",
      "  Constraints            : 156             \n",
      "  Cones                  : 0               \n",
      "  Scalar variables       : 146             \n",
      "  Matrix variables       : 2               \n",
      "  Integer variables      : 0               \n",
      "\n",
      "Optimizer started.\n",
      "Presolve started.\n",
      "Linear dependency checker started.\n",
      "Linear dependency checker terminated.\n",
      "Eliminator started.\n",
      "Freed constraints in eliminator : 4\n",
      "Eliminator terminated.\n",
      "Eliminator started.\n",
      "Freed constraints in eliminator : 0\n",
      "Eliminator terminated.\n",
      "Eliminator - tries                  : 2                 time                   : 0.00            \n",
      "Lin. dep.  - tries                  : 1                 time                   : 0.00            \n",
      "Lin. dep.  - number                 : 0               \n",
      "Presolve terminated. Time: 0.00    \n",
      "Problem\n",
      "  Name                   :                 \n",
      "  Objective sense        : min             \n",
      "  Type                   : CONIC (conic optimization problem)\n",
      "  Constraints            : 156             \n",
      "  Cones                  : 0               \n",
      "  Scalar variables       : 146             \n",
      "  Matrix variables       : 2               \n",
      "  Integer variables      : 0               \n",
      "\n",
      "Optimizer  - threads                : 4               \n",
      "Optimizer  - solved problem         : the primal      \n",
      "Optimizer  - Constraints            : 147\n",
      "Optimizer  - Cones                  : 1\n",
      "Optimizer  - Scalar variables       : 141               conic                  : 139             \n",
      "Optimizer  - Semi-definite variables: 2                 scalarized             : 144             \n",
      "Factor     - setup time             : 0.00              dense det. time        : 0.00            \n",
      "Factor     - ML order time          : 0.00              GP order time          : 0.00            \n",
      "Factor     - nonzeros before factor : 1.07e+04          after factor           : 1.08e+04        \n",
      "Factor     - dense dim.             : 0                 flops                  : 1.11e+06        \n",
      "ITE PFEAS    DFEAS    GFEAS    PRSTATUS   POBJ              DOBJ              MU       TIME  \n",
      "0   1.0e+00  1.0e+00  1.0e+00  0.00e+00   3.613809869e-03   3.613809869e-03   1.0e+00  0.00  \n",
      "1   3.1e-01  3.1e-01  4.3e-02  2.76e+00   -3.805605189e-03  -1.062136325e-01  3.1e-01  0.00  \n",
      "2   1.1e-01  1.1e-01  1.0e-02  3.59e+00   -1.216161402e-02  -2.381430045e-02  1.1e-01  0.00  \n",
      "3   4.1e-02  4.1e-02  2.5e-03  1.04e+00   -4.322589625e-02  -4.740536204e-02  4.1e-02  0.01  \n",
      "4   6.7e-03  6.7e-03  1.8e-04  9.96e-01   -5.321139273e-02  -5.386314036e-02  6.7e-03  0.01  \n",
      "5   4.8e-04  4.8e-04  3.4e-06  9.56e-01   -5.626813267e-02  -5.631682540e-02  4.8e-04  0.01  \n",
      "6   6.6e-06  6.6e-06  5.6e-09  9.96e-01   -5.649543704e-02  -5.649610793e-02  6.6e-06  0.01  \n",
      "7   2.9e-07  2.9e-07  5.2e-11  1.00e+00   -5.649887211e-02  -5.649890207e-02  2.9e-07  0.01  \n",
      "8   5.0e-09  5.0e-09  1.1e-13  1.00e+00   -5.649904940e-02  -5.649904993e-02  5.0e-09  0.01  \n",
      "Optimizer terminated. Time: 0.01    \n",
      "\n",
      "OPTIMAL\n",
      "-0.05649904939997128\n",
      "-----------------\n",
      "  0.212146 seconds (166.93 k allocations: 8.943 MiB)\n",
      "Total time:\n",
      "  0.405408 seconds (297.19 k allocations: 16.505 MiB)\n"
     ]
    },
    {
     "data": {
      "text/plain": [
       "OPTIMAL::TerminationStatusCode = 1"
      ]
     },
     "execution_count": 8,
     "metadata": {},
     "output_type": "execute_result"
    }
   ],
   "source": [
    "include(\"../src/ctpNCPOP.jl\")\n",
    "using .ctpNCPOP\n",
    "\n",
    "opt_val1=ctpNCPOP.POP_CS_CGAL(n,m,l,lmon_g,supp_g,coe_g,lmon_h,supp_h,coe_h,lmon_f,supp_f,coe_f,dg,dh,k,\n",
    "    maxit=Int64(1e10),tol=5e-3,use_eqcons_to_get_constant_trace=false,check_tol_each_iter=true,check_by_mosek=true)"
   ]
  },
  {
   "cell_type": "code",
   "execution_count": null,
   "metadata": {},
   "outputs": [],
   "source": []
  },
  {
   "cell_type": "code",
   "execution_count": null,
   "metadata": {},
   "outputs": [],
   "source": []
  },
  {
   "cell_type": "code",
   "execution_count": 9,
   "metadata": {},
   "outputs": [],
   "source": [
    "# using NCTSSOS\n",
    "\n",
    "# @time opt,data=cs_nctssos_first(Vector{Vector{Vector{UInt16}}}([[supp_f];supp_g;supp_h]),[[coe_f];coe_g;coe_h],\n",
    "#         n,k,[dg;dh],numeq=l,minimize=true,obj=\"eigen\",CS=\"MD\",TS=false,QUIET=false);"
   ]
  },
  {
   "cell_type": "code",
   "execution_count": null,
   "metadata": {},
   "outputs": [],
   "source": [
    "#@time opt,data=nctssos_higher!(data,TS=\"MD\");"
   ]
  },
  {
   "cell_type": "code",
   "execution_count": null,
   "metadata": {},
   "outputs": [],
   "source": []
  }
 ],
 "metadata": {
  "kernelspec": {
   "display_name": "Julia 1.3.0",
   "language": "julia",
   "name": "julia-1.3"
  },
  "language_info": {
   "file_extension": ".jl",
   "mimetype": "application/julia",
   "name": "julia",
   "version": "1.3.0"
  }
 },
 "nbformat": 4,
 "nbformat_minor": 2
}
