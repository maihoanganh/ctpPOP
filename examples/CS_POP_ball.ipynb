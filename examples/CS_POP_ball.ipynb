{
 "cells": [
  {
   "cell_type": "code",
   "execution_count": 16,
   "metadata": {},
   "outputs": [
    {
     "name": "stdout",
     "output_type": "stream",
     "text": [
      "***Problem setting***\n",
      "Number of variable: n=6\n",
      "====================\n",
      "Number of inequality constraints: m=2\n",
      "====================\n",
      "Number of equality constraints: l=0\n"
     ]
    }
   ],
   "source": [
    "using DynamicPolynomials, LinearAlgebra, SparseArrays\n",
    "\n",
    "println(\"***Problem setting***\")\n",
    "\n",
    "n=6\n",
    "\n",
    "println(\"Number of variable: n=\",n)\n",
    "println(\"====================\")\n",
    "\n",
    "@polyvar x[1:n]# variables\n",
    "\n",
    "#function to get a random quadratic polynomial of variables x(T)\n",
    "function generate_random_poly(T::UnitRange{Int64})\n",
    "    v=reverse(monomials(x[T],0:2))\n",
    "    c=2*rand(Float64,length(v)).-1\n",
    "    return c'*v\n",
    "end\n",
    "\n",
    "# ball constraints on subsets of variables\n",
    "u=3# clique size\n",
    "p=floor(Int64,n/u) #number of cliques\n",
    "\n",
    "# indices of variables on each clique\n",
    "I=Vector{UnitRange{Int64}}(undef,p)\n",
    "I[1]=1:u \n",
    "I[2:p-1]=[u*(j-1):u*j for j in 2:p-1]\n",
    "I[p]=u*(p-1):n\n",
    "\n",
    "# random quadratic objective function f\n",
    "vecf=[generate_random_poly(I[j]) for j in 1:p] #vector of separable polynomials on each clique\n",
    "f=sum(vecf)\n",
    "\n",
    "# ball constraints on each clique\n",
    "g=[1.0-sum(x[I[j]].^2) for j in 1:p]\n",
    "J=[j:j for j in 1:p] # assign inequality constraints\n",
    "\n",
    "\n",
    "m=length(g)\n",
    "println(\"Number of inequality constraints: m=\",m)\n",
    "println(\"====================\")\n",
    "\n",
    "\n",
    "l=0#ceil(Int64, n/7)# number of the equality constraints\n",
    "\n",
    "r=floor(Int64,l/p)\n",
    "W=[(j-1)*r+1:j*r for j in 1:p-1]# assign equality constraints\n",
    "append!(W,[(p-1)*r+1:l])\n",
    "\n",
    "h=Vector{Polynomial{true,Float64}}(undef,l)\n",
    "\n",
    "\n",
    "# get a random point satisfies the inequality constraints\n",
    "randx=2*rand(Float64,n).-1\n",
    "\n",
    "for j in 1:p\n",
    "    randx[I[j]]=randx[I[j]]./norm(randx[I[j]])\n",
    "    randx[I[j]]=rand(Float64,1)[1]*randx[I[j]]\n",
    "end\n",
    "\n",
    "for j in 1:p\n",
    "    for i in W[j]\n",
    "        h[i]=generate_random_poly(I[j])\n",
    "        h[i]-=h[i](x => randx) #make the random point satisfy the equality constraint h[i](randx) = 0\n",
    "    end\n",
    "end\n",
    "\n",
    "l=length(h)\n",
    "println(\"Number of equality constraints: l=\",l)\n"
   ]
  },
  {
   "cell_type": "code",
   "execution_count": 17,
   "metadata": {},
   "outputs": [
    {
     "name": "stderr",
     "output_type": "stream",
     "text": [
      "WARNING: replacing module ctpPOP.\n"
     ]
    }
   ],
   "source": [
    "include(\"../src/ctpPOP.jl\")\n",
    "using .ctpPOP\n",
    "\n",
    "n,m,l,lmon_g,supp_g,coe_g,lmon_h,supp_h,coe_h,lmon_f,supp_f,coe_f,dg,dh=ctpPOP.get_info(x,f,g,h,sparse=true);"
   ]
  },
  {
   "cell_type": "code",
   "execution_count": 18,
   "metadata": {},
   "outputs": [
    {
     "name": "stdout",
     "output_type": "stream",
     "text": [
      "Relaxed order: k=2\n"
     ]
    }
   ],
   "source": [
    "k=2\n",
    "\n",
    "println(\"Relaxed order: k=\",k)"
   ]
  },
  {
   "cell_type": "code",
   "execution_count": 19,
   "metadata": {},
   "outputs": [
    {
     "name": "stdout",
     "output_type": "stream",
     "text": [
      "------------------------------------------------------\n",
      "The clique sizes of varibles:\n",
      "[4, 3]\n",
      "[1, 1]\n",
      "------------------------------------------------------\n",
      "  Number of cliques: p=2\n",
      "  Largest clique size: u=4\n"
     ]
    },
    {
     "name": "stderr",
     "output_type": "stream",
     "text": [
      "WARNING: replacing module ctpPOP.\n"
     ]
    },
    {
     "name": "stdout",
     "output_type": "stream",
     "text": [
      "  Largest constant trace: a=3.0\n",
      "  Number of blocks: omega=4\n",
      "  Number of equality consraints: zeta=101\n",
      "  Size of the largest block: s^max=15\n",
      "Modeling time:\n",
      "  0.351871 seconds (191.70 k allocations: 10.441 MiB)\n",
      "iter=1   val=-6.406002976768876   gap=0.12596284525431128   feas=4.203664416153595\n",
      "iter=2   val=-5.229705140175328   gap=0.5093993662593332   feas=2.272213610638107\n",
      "iter=4   val=-3.6367192571006504   gap=0.10739507604028296   feas=0.8717457487899729\n",
      "iter=8   val=-4.000624574632816   gap=0.3124599885981676   feas=0.5543072850761637\n",
      "iter=16   val=-3.5577748951984685   gap=0.12905717790716048   feas=0.31154764388778267\n",
      "iter=32   val=-3.8113178774456293   gap=0.12327213126391962   feas=0.10270973388299358\n",
      "iter=64   val=-3.7540661870332044   gap=0.036744837647994195   feas=0.0574705613933149\n",
      "iter=128   val=-3.8066712292601217   gap=0.024439408515018093   feas=0.024414925649956114\n",
      "iter=172   val=-3.8368367108257004   gap=0.009761828262347482   feas=0.004596584059204319\n",
      "tol satisfies!!!\n",
      "\n",
      "####################################\n",
      "opt_val = -3.8368367108257004\n",
      "####################################\n",
      "Solving time:\n",
      "  0.079789 seconds (82.87 k allocations: 7.446 MiB)\n",
      "Total time:\n",
      "  0.431911 seconds (275.09 k allocations: 17.899 MiB)\n"
     ]
    },
    {
     "data": {
      "text/plain": [
       "-3.8368367108257004"
      ]
     },
     "execution_count": 19,
     "metadata": {},
     "output_type": "execute_result"
    }
   ],
   "source": [
    "include(\"../src/ctpPOP.jl\")\n",
    "using .ctpPOP\n",
    "\n",
    "opt_val1=ctpPOP.POP_CS_CGAL(n,m,l,lmon_g,supp_g,coe_g,lmon_h,supp_h,coe_h,lmon_f,supp_f,coe_f,dg,dh,k,\n",
    "    maxit=Int64(1e10),tol=1e-2,use_eqcons_to_get_constant_trace=false,check_tol_each_iter=true)"
   ]
  },
  {
   "cell_type": "code",
   "execution_count": 20,
   "metadata": {},
   "outputs": [
    {
     "name": "stdout",
     "output_type": "stream",
     "text": [
      "------------------------------------------------------\n",
      "The clique sizes of varibles:\n",
      "[4, 3]\n",
      "[1, 1]\n",
      "------------------------------------------------------\n",
      "  Number of cliques: p=2\n",
      "  Largest clique size: u=4\n"
     ]
    },
    {
     "name": "stderr",
     "output_type": "stream",
     "text": [
      "WARNING: replacing module ctpPOP.\n"
     ]
    },
    {
     "name": "stdout",
     "output_type": "stream",
     "text": [
      "  Largest constant trace: a=3.0\n",
      "  Number of blocks: omega=4\n",
      "  Number of equality consraints: zeta=101\n",
      "  Size of the largest block: s^max=15\n",
      "Modeling time:\n",
      "  0.330804 seconds (191.68 k allocations: 10.435 MiB)\n",
      "**LMBM solver:\n",
      "---------------\n",
      "| Parameters: |\n",
      "---------------\n",
      "n:       101\n",
      "maxtime: 300000.000000\n",
      "na:      2\n",
      "mcu:     5\n",
      "mc:      7\n",
      "rpar: \n",
      "ipar: \n",
      " Warning: MC > MCU. Assigned MC = MCU.\n",
      " Entry to LMBM:\n",
      " NIT=    1  NFE=    1  F= 0.93379558D+00  WK= 0.4125D-01  QK= 0.2063D-01\n",
      " NIT=    2  NFE=    2  F= 0.89979000D+00  WK= 0.4125D-01  QK= 0.2063D-01\n",
      " NIT=    3  NFE=    6  F= 0.89902157D+00  WK= 0.4125D-01  QK= 0.2063D-01\n",
      " NIT=    4  NFE=   51  F= 0.89902157D+00  WK= 0.4125D-01  QK= 0.2063D-01\n",
      " NIT=    5  NFE=   96  F= 0.89902157D+00  WK= 0.4125D-01  QK= 0.2063D-01\n",
      " NIT=    6  NFE=  141  F= 0.89902157D+00  WK= 0.4125D-01  QK= 0.2063D-01\n",
      " NIT=    7  NFE=  186  F= 0.89902157D+00  WK= 0.4125D-01  QK= 0.2063D-01\n",
      " NIT=    8  NFE=  231  F= 0.89902157D+00  WK= 0.4125D-01  QK= 0.2063D-01\n",
      " NIT=    9  NFE=  276  F= 0.89902157D+00  WK= 0.4125D-01  QK= 0.2063D-01\n",
      " NIT=   10  NFE=  321  F= 0.89902157D+00  WK= 0.4125D-01  QK= 0.2063D-01\n",
      " NIT=   11  NFE=  366  F= 0.89902157D+00  WK= 0.4125D-01  QK= 0.2063D-01\n",
      " NIT=   12  NFE=  411  F= 0.89902157D+00  WK= 0.4125D-01  QK= 0.2063D-01\n",
      " NIT=   13  NFE=  456  F= 0.89902157D+00  WK= 0.4125D-01  QK= 0.2063D-01\n",
      " NIT=   14  NFE=  501  F= 0.89902157D+00  WK= 0.4125D-01  QK= 0.2063D-01\n",
      " NIT=   15  NFE=  546  F= 0.89902157D+00  WK= 0.4125D-01  QK= 0.2063D-01\n",
      " NIT=   16  NFE=  591  F= 0.89902157D+00  WK= 0.4125D-01  QK= 0.2063D-01\n",
      " NIT=   17  NFE=  636  F= 0.89902157D+00  WK= 0.4125D-01  QK= 0.2063D-01\n",
      " NIT=   18  NFE=  681  F= 0.89902157D+00  WK= 0.4125D-01  QK= 0.2063D-01\n",
      " NIT=   19  NFE=  726  F= 0.89902157D+00  WK= 0.4125D-01  QK= 0.2063D-01\n",
      " NIT=   20  NFE=  771  F= 0.89902157D+00  WK= 0.4125D-01  QK= 0.2063D-01\n",
      " NIT=   21  NFE=  816  F= 0.89902157D+00  WK= 0.4125D-01  QK= 0.2063D-01\n",
      " NIT=   22  NFE=  861  F= 0.89902157D+00  WK= 0.4125D-01  QK= 0.2063D-01\n",
      " NIT=   23  NFE=  906  F= 0.89902157D+00  WK= 0.4125D-01  QK= 0.2063D-01\n",
      " Exit from LMBM:\n",
      " Abnormal exit: Failure in attaining the demanded accuracy.\n",
      " NIT=   24  NFE=  951  F= 0.89902157D+00  WK= 0.4125D-01  QK= 0.2063D-01  ITERM= -4\n",
      "-----------\n",
      "| Output: |\n",
      "-----------\n",
      "Termination:     -4\n",
      "N. iter.:        24\n",
      "N. func. eval.:  951\n",
      "Final value:     0.899022\n",
      "Execution time:  0.566071\n",
      "\n",
      "####################################\n",
      "opt_val = -6.949682888215117\n",
      "####################################\n",
      "  0.809957 seconds (698.55 k allocations: 54.365 MiB, 4.83% gc time)\n",
      "Total time:\n",
      "  1.141024 seconds (890.79 k allocations: 64.811 MiB, 3.43% gc time)\n"
     ]
    },
    {
     "data": {
      "text/plain": [
       "-6.949682888215117"
      ]
     },
     "execution_count": 20,
     "metadata": {},
     "output_type": "execute_result"
    }
   ],
   "source": [
    "include(\"../src/ctpPOP.jl\")\n",
    "using .ctpPOP\n",
    "\n",
    "opt_val1=ctpPOP.POP_CS_LMBM(n,m,l,lmon_g,supp_g,coe_g,lmon_h,supp_h,coe_h,lmon_f,supp_f,coe_f,dg,dh,k,\n",
    "    tol=1e-2,use_eqcons_to_get_constant_trace=false)"
   ]
  },
  {
   "cell_type": "code",
   "execution_count": 21,
   "metadata": {},
   "outputs": [
    {
     "name": "stdout",
     "output_type": "stream",
     "text": [
      "------------------------------------------------------\n",
      "The clique sizes of varibles:\n",
      "[4, 3]\n",
      "[1, 1]\n",
      "------------------------------------------------------\n",
      "Problem\n",
      "  Name                   :                 \n",
      "  Objective sense        : max             \n",
      "  Type                   : CONIC (conic optimization problem)\n",
      "  Constraints            : 100             \n",
      "  Cones                  : 0               \n",
      "  Scalar variables       : 1               \n",
      "  Matrix variables       : 4               \n",
      "  Integer variables      : 0               \n",
      "\n",
      "Optimizer started.\n",
      "Presolve started.\n",
      "Linear dependency checker started.\n",
      "Linear dependency checker terminated.\n",
      "Eliminator started.\n",
      "Freed constraints in eliminator : 0\n",
      "Eliminator terminated.\n",
      "Eliminator - tries                  : 1                 time                   : 0.00            \n",
      "Lin. dep.  - tries                  : 1                 time                   : 0.00            \n",
      "Lin. dep.  - number                 : 0               \n",
      "Presolve terminated. Time: 0.00    \n",
      "Problem\n",
      "  Name                   :                 \n",
      "  Objective sense        : max             \n",
      "  Type                   : CONIC (conic optimization problem)\n",
      "  Constraints            : 100             \n",
      "  Cones                  : 0               \n",
      "  Scalar variables       : 1               \n",
      "  Matrix variables       : 4               \n",
      "  Integer variables      : 0               \n",
      "\n",
      "Optimizer  - threads                : 4               \n",
      "Optimizer  - solved problem         : the primal      \n",
      "Optimizer  - Constraints            : 100\n",
      "Optimizer  - Cones                  : 1\n",
      "Optimizer  - Scalar variables       : 2                 conic                  : 2               \n",
      "Optimizer  - Semi-definite variables: 4                 scalarized             : 200             \n",
      "Factor     - setup time             : 0.00              dense det. time        : 0.00            \n",
      "Factor     - ML order time          : 0.00              GP order time          : 0.00            \n",
      "Factor     - nonzeros before factor : 3100              after factor           : 3100            \n",
      "Factor     - dense dim.             : 0                 flops                  : 1.94e+05        \n",
      "ITE PFEAS    DFEAS    GFEAS    PRSTATUS   POBJ              DOBJ              MU       TIME  \n",
      "0   5.2e+00  1.0e+00  1.0e+00  0.00e+00   0.000000000e+00   0.000000000e+00   1.0e+00  0.00  \n",
      "1   2.8e+00  5.4e-01  5.5e-01  -7.31e-01  -1.530756560e+00  -1.835327082e+00  5.4e-01  0.00  \n",
      "2   6.9e-01  1.3e-01  2.6e-02  1.38e+00   -3.056295513e+00  -2.962074981e+00  1.3e-01  0.01  \n",
      "3   1.8e-01  3.6e-02  4.2e-03  9.43e-01   -3.609954819e+00  -3.587671917e+00  3.6e-02  0.01  \n",
      "4   9.2e-03  1.8e-03  7.9e-05  9.58e-01   -3.881719101e+00  -3.881834325e+00  1.8e-03  0.01  \n",
      "5   4.1e-05  7.9e-06  2.3e-08  1.00e+00   -3.889106965e+00  -3.889107451e+00  7.9e-06  0.01  \n",
      "6   3.3e-06  6.3e-07  5.3e-10  1.00e+00   -3.889142600e+00  -3.889142638e+00  6.3e-07  0.01  \n",
      "7   6.1e-07  1.2e-07  4.2e-11  1.00e+00   -3.889145819e+00  -3.889145827e+00  1.2e-07  0.01  \n",
      "8   1.1e-07  2.1e-08  3.2e-12  9.99e-01   -3.889146467e+00  -3.889146469e+00  2.1e-08  0.02  \n",
      "9   2.7e-08  4.8e-09  3.5e-13  9.95e-01   -3.889146570e+00  -3.889146571e+00  4.8e-09  0.02  \n",
      "Optimizer terminated. Time: 0.02    \n",
      "\n",
      "optimum = -3.8891465701296513\n",
      "  0.023862 seconds (28.87 k allocations: 2.146 MiB)\n"
     ]
    }
   ],
   "source": [
    "using TSSOS\n",
    "\n",
    "\n",
    "@time opt,sol,data=cs_tssos_first(Vector{SparseMatrixCSC{UInt8,UInt32}}([[supp_f];supp_g;supp_h]),[[coe_f];coe_g;coe_h],n,k,[dg;dh],numeq=l,CS=\"MD\",TS=false,CTP=false);"
   ]
  },
  {
   "cell_type": "code",
   "execution_count": 22,
   "metadata": {
    "scrolled": true
   },
   "outputs": [
    {
     "name": "stdout",
     "output_type": "stream",
     "text": [
      "This is Ipopt version 3.13.2, running with linear solver mumps.\n",
      "NOTE: Other linear solvers might be more efficient (see Ipopt documentation).\n",
      "\n",
      "Number of nonzeros in equality constraint Jacobian...:        0\n",
      "Number of nonzeros in inequality constraint Jacobian.:        7\n",
      "Number of nonzeros in Lagrangian Hessian.............:       22\n",
      "\n",
      "Total number of variables............................:        6\n",
      "                     variables with only lower bounds:        0\n",
      "                variables with lower and upper bounds:        0\n",
      "                     variables with only upper bounds:        0\n",
      "Total number of equality constraints.................:        0\n",
      "Total number of inequality constraints...............:        2\n",
      "        inequality constraints with only lower bounds:        2\n",
      "   inequality constraints with lower and upper bounds:        0\n",
      "        inequality constraints with only upper bounds:        0\n",
      "\n",
      "iter    objective    inf_pr   inf_du lg(mu)  ||d||  lg(rg) alpha_du alpha_pr  ls\n",
      "   0 -1.1641763e+00 0.00e+00 7.89e-01  -1.0 0.00e+00    -  0.00e+00 0.00e+00   0\n",
      "   1 -2.6707735e+00 0.00e+00 2.05e+00  -1.7 6.94e-01   0.0 1.00e+00 1.00e+00f  1\n",
      "   2 -2.6454906e+00 0.00e+00 1.51e+00  -1.7 5.67e-01   0.4 1.00e+00 1.00e+00h  1\n",
      "   3 -3.6696798e+00 8.84e-02 5.91e-01  -1.7 1.59e+01    -  1.00e+00 2.70e-02f  1\n",
      "   4 -4.0789331e+00 1.40e-01 1.26e-01  -1.7 8.30e-01    -  1.00e+00 5.46e-01f  1\n",
      "   5 -3.8906044e+00 1.84e-03 6.34e-03  -2.5 4.50e-02    -  1.00e+00 1.00e+00h  1\n",
      "   6 -3.8888632e+00 0.00e+00 1.50e-05  -3.8 2.75e-03    -  1.00e+00 1.00e+00h  1\n",
      "   7 -3.8891429e+00 0.00e+00 1.08e-09  -5.7 1.54e-04    -  1.00e+00 1.00e+00h  1\n",
      "   8 -3.8891466e+00 0.00e+00 3.78e-13  -8.6 2.14e-06    -  1.00e+00 1.00e+00h  1\n",
      "\n",
      "Number of Iterations....: 8\n",
      "\n",
      "                                   (scaled)                 (unscaled)\n",
      "Objective...............:  -3.8891466222251383e+00   -3.8891466222251383e+00\n",
      "Dual infeasibility......:   3.7836400679225335e-13    3.7836400679225335e-13\n",
      "Constraint violation....:   0.0000000000000000e+00    0.0000000000000000e+00\n",
      "Complementarity.........:   2.5063510467745412e-09    2.5063510467745412e-09\n",
      "Overall NLP error.......:   2.5063510467745412e-09    2.5063510467745412e-09\n",
      "\n",
      "\n",
      "Number of objective function evaluations             = 9\n",
      "Number of objective gradient evaluations             = 9\n",
      "Number of equality constraint evaluations            = 0\n",
      "Number of inequality constraint evaluations          = 9\n",
      "Number of equality constraint Jacobian evaluations   = 0\n",
      "Number of inequality constraint Jacobian evaluations = 9\n",
      "Number of Lagrangian Hessian evaluations             = 8\n",
      "Total CPU secs in IPOPT (w/o function evaluations)   =      0.008\n",
      "Total CPU secs in NLP function evaluations           =      0.000\n",
      "\n",
      "EXIT: Optimal Solution Found.\n",
      "LOCALLY_SOLVED\n",
      "opt_val=-3.8891466222251383\n",
      "  0.154576 seconds (51.67 k allocations: 2.668 MiB, 23.52% gc time)\n"
     ]
    },
    {
     "name": "stderr",
     "output_type": "stream",
     "text": [
      "WARNING: replacing module ctpPOP.\n"
     ]
    },
    {
     "data": {
      "text/plain": [
       "-3.8891466222251383"
      ]
     },
     "execution_count": 22,
     "metadata": {},
     "output_type": "execute_result"
    }
   ],
   "source": [
    "include(\"../src/ctpPOP.jl\")\n",
    "using .ctpPOP\n",
    "\n",
    "optval=ctpPOP.POP_NLP(n,m,l,lmon_g,supp_g,coe_g,lmon_h,supp_h,coe_h,lmon_f,supp_f,coe_f)"
   ]
  },
  {
   "cell_type": "code",
   "execution_count": null,
   "metadata": {},
   "outputs": [],
   "source": []
  }
 ],
 "metadata": {
  "kernelspec": {
   "display_name": "Julia 1.3.0",
   "language": "julia",
   "name": "julia-1.3"
  },
  "language_info": {
   "file_extension": ".jl",
   "mimetype": "application/julia",
   "name": "julia",
   "version": "1.3.0"
  }
 },
 "nbformat": 4,
 "nbformat_minor": 2
}
