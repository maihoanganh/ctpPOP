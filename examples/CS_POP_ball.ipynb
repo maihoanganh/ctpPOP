{
 "cells": [
  {
   "cell_type": "code",
   "execution_count": 9,
   "metadata": {},
   "outputs": [
    {
     "name": "stdout",
     "output_type": "stream",
     "text": [
      "***Problem setting***\n",
      "Number of variable: n=6\n",
      "====================\n",
      "Number of inequality constraints: m=2\n",
      "====================\n",
      "Number of equality constraints: l=0\n"
     ]
    }
   ],
   "source": [
    "using DynamicPolynomials, LinearAlgebra, SparseArrays\n",
    "\n",
    "println(\"***Problem setting***\")\n",
    "\n",
    "n=6\n",
    "\n",
    "println(\"Number of variable: n=\",n)\n",
    "println(\"====================\")\n",
    "\n",
    "@polyvar x[1:n]# variables\n",
    "\n",
    "function generate_random_poly(T::UnitRange{Int64})\n",
    "    v=reverse(monomials(x[T],0:2))\n",
    "    c=2*rand(Float64,length(v)).-1\n",
    "    return c'*v\n",
    "end\n",
    "\n",
    "# unit sphere constraint\n",
    "u=3\n",
    "p=floor(Int64,n/u)\n",
    "\n",
    "I=Vector{UnitRange{Int64}}(undef,p)\n",
    "I[1]=1:u\n",
    "I[2:p-1]=[u*(j-1):u*j for j in 2:p-1]\n",
    "I[p]=u*(p-1):n\n",
    "\n",
    "# random quadratic objective function f\n",
    "vecf=[generate_random_poly(I[j]) for j in 1:p]\n",
    "f=sum(vecf)\n",
    "\n",
    "g=[1.0-sum(x[I[j]].^2) for j in 1:p]\n",
    "J=[j:j for j in 1:p]\n",
    "\n",
    "m=length(g)\n",
    "println(\"Number of inequality constraints: m=\",m)\n",
    "println(\"====================\")\n",
    "\n",
    "l=0#ceil(Int64, n/7)\n",
    "\n",
    "r=floor(Int64,l/p)\n",
    "W=[(j-1)*r+1:j*r for j in 1:p-1]\n",
    "append!(W,[(p-1)*r+1:l])\n",
    "\n",
    "h=Vector{Polynomial{true,Float64}}(undef,l)\n",
    "\n",
    "#=randx=[2*rand(length(I[j])).-1 for j in 1:p]# create a feasible solution\n",
    "randx=[randx[j]/norm(randx[j]) for j in 1:p]=#\n",
    "\n",
    "randx=2*rand(Float64,n).-1\n",
    "\n",
    "for j in 1:p\n",
    "    randx[I[j]]=randx[I[j]]./norm(randx[I[j]])\n",
    "    randx[I[j]]=rand(Float64,1)[1]*randx[I[j]]\n",
    "end\n",
    "\n",
    "for j in 1:p\n",
    "    for i in W[j]\n",
    "        h[i]=generate_random_poly(I[j])\n",
    "        h[i]-=h[i](x => randx) #make constraints feasible\n",
    "    end\n",
    "end\n",
    "\n",
    "l=length(h)\n",
    "println(\"Number of equality constraints: l=\",l)\n"
   ]
  },
  {
   "cell_type": "code",
   "execution_count": 10,
   "metadata": {},
   "outputs": [
    {
     "name": "stderr",
     "output_type": "stream",
     "text": [
      "WARNING: replacing module ctpPOP.\n"
     ]
    }
   ],
   "source": [
    "include(\"../src/ctpPOP.jl\")\n",
    "using .ctpPOP\n",
    "\n",
    "n,m,l,lmon_g,supp_g,coe_g,lmon_h,supp_h,coe_h,lmon_f,supp_f,coe_f,dg,dh=ctpPOP.get_info(x,f,g,h,sparse=true);"
   ]
  },
  {
   "cell_type": "code",
   "execution_count": 11,
   "metadata": {},
   "outputs": [
    {
     "name": "stdout",
     "output_type": "stream",
     "text": [
      "Relaxed order: k=2\n"
     ]
    }
   ],
   "source": [
    "k=2\n",
    "\n",
    "println(\"Relaxed order: k=\",k)"
   ]
  },
  {
   "cell_type": "code",
   "execution_count": 12,
   "metadata": {},
   "outputs": [
    {
     "name": "stdout",
     "output_type": "stream",
     "text": [
      "------------------------------------------------------\n",
      "The clique sizes of varibles:\n",
      "[4, 3]\n",
      "[1, 1]\n",
      "------------------------------------------------------\n",
      "  Number of cliques: p=2\n",
      "  Largest clique size: u=4\n",
      "  Largest constant trace: a=3.0\n",
      "  Number of blocks: omega=4\n",
      "  Number of equality consraints: zeta=101\n",
      "  Size of the largest block: s^max=15\n",
      "Modeling time:"
     ]
    },
    {
     "name": "stderr",
     "output_type": "stream",
     "text": [
      "WARNING: replacing module ctpPOP.\n"
     ]
    },
    {
     "name": "stdout",
     "output_type": "stream",
     "text": [
      "\n",
      "  0.172667 seconds (191.70 k allocations: 10.441 MiB)\n",
      "iter=1   val=-6.4789030798127065   gap=0.13430527656834096   feas=3.527723153898919\n",
      "iter=2   val=-4.646371671170182   gap=0.4650745168838816   feas=2.290370123288518\n",
      "iter=4   val=-3.7736699173189   gap=0.36375989519481977   feas=1.4049913138127057\n",
      "iter=8   val=-3.903700256224879   gap=0.07566852871920121   feas=0.5772406899044437\n",
      "iter=16   val=-3.5415788841846942   gap=0.20531694270574305   feas=0.20524902159828015\n",
      "iter=32   val=-3.6436422538026125   gap=0.10041479614478335   feas=0.09585079035772456\n",
      "iter=64   val=-3.7116173027477446   gap=0.03609120640556919   feas=0.03532047935895449\n",
      "iter=128   val=-3.777384628877593   gap=0.010751296442330948   feas=0.00499089857598744\n",
      "iter=132   val=-3.7802847881933808   gap=0.009997050395624341   feas=0.004106836955563751\n",
      "tol satisfies!!!\n",
      "\n",
      "####################################\n",
      "opt_val = -3.7802847881933808\n",
      "####################################\n",
      "Solving time:\n",
      "  0.037495 seconds (64.10 k allocations: 5.719 MiB)\n",
      "Total time:\n",
      "  0.210311 seconds (256.34 k allocations: 16.172 MiB)\n"
     ]
    },
    {
     "data": {
      "text/plain": [
       "-3.7802847881933808"
      ]
     },
     "execution_count": 12,
     "metadata": {},
     "output_type": "execute_result"
    }
   ],
   "source": [
    "include(\"../src/ctpPOP.jl\")\n",
    "using .ctpPOP\n",
    "\n",
    "opt_val1=ctpPOP.POP_CS_CGAL(n,m,l,lmon_g,supp_g,coe_g,lmon_h,supp_h,coe_h,lmon_f,supp_f,coe_f,dg,dh,k,\n",
    "    maxit=Int64(1e10),tol=1e-2,use_eqcons_to_get_constant_trace=false,check_tol_each_iter=true)"
   ]
  },
  {
   "cell_type": "code",
   "execution_count": 13,
   "metadata": {},
   "outputs": [
    {
     "name": "stdout",
     "output_type": "stream",
     "text": [
      "------------------------------------------------------\n",
      "The clique sizes of varibles:\n",
      "[4, 3]\n",
      "[1, 1]\n",
      "------------------------------------------------------\n",
      "  Number of cliques: p=2\n",
      "  Largest clique size: u=4\n",
      "  Largest constant trace: a=3.0\n",
      "  Number of blocks: omega=4\n",
      "  Number of equality consraints: zeta=101\n",
      "  Size of the largest block: s^max=15\n",
      "Modeling time:"
     ]
    },
    {
     "name": "stderr",
     "output_type": "stream",
     "text": [
      "WARNING: replacing module ctpPOP.\n"
     ]
    },
    {
     "name": "stdout",
     "output_type": "stream",
     "text": [
      "\n",
      "  0.198161 seconds (191.68 k allocations: 10.434 MiB)\n",
      "**LMBM solver:\n",
      "---------------\n",
      "| Parameters: |\n",
      "---------------\n",
      "n:       101\n",
      "maxtime: 300000.000000\n",
      "na:      2\n",
      "mcu:     5\n",
      "mc:      7\n",
      "rpar: \n",
      "ipar: \n",
      " Warning: MC > MCU. Assigned MC = MCU.\n",
      " Entry to LMBM:\n",
      " NIT=    1  NFE=    1  F= 0.86666527D+00  WK= 0.4125D-01  QK= 0.2063D-01\n",
      " NIT=    2  NFE=   46  F= 0.86666527D+00  WK= 0.4125D-01  QK= 0.2063D-01\n",
      " NIT=    3  NFE=   91  F= 0.86666527D+00  WK= 0.4125D-01  QK= 0.2063D-01\n",
      " NIT=    4  NFE=  136  F= 0.86666527D+00  WK= 0.4125D-01  QK= 0.2063D-01\n",
      " NIT=    5  NFE=  181  F= 0.86666527D+00  WK= 0.4125D-01  QK= 0.2063D-01\n",
      " NIT=    6  NFE=  226  F= 0.86666527D+00  WK= 0.4125D-01  QK= 0.2063D-01\n",
      " NIT=    7  NFE=  271  F= 0.86666527D+00  WK= 0.4125D-01  QK= 0.2063D-01\n",
      " NIT=    8  NFE=  316  F= 0.86666527D+00  WK= 0.4125D-01  QK= 0.2063D-01\n",
      " NIT=    9  NFE=  361  F= 0.86666527D+00  WK= 0.4125D-01  QK= 0.2063D-01\n",
      " NIT=   10  NFE=  406  F= 0.86666527D+00  WK= 0.4125D-01  QK= 0.2063D-01\n",
      " NIT=   11  NFE=  451  F= 0.86666527D+00  WK= 0.4125D-01  QK= 0.2063D-01\n",
      " NIT=   12  NFE=  496  F= 0.86666527D+00  WK= 0.4125D-01  QK= 0.2063D-01\n",
      " NIT=   13  NFE=  541  F= 0.86666527D+00  WK= 0.4125D-01  QK= 0.2063D-01\n",
      " NIT=   14  NFE=  586  F= 0.86666527D+00  WK= 0.4125D-01  QK= 0.2063D-01\n",
      " NIT=   15  NFE=  631  F= 0.86666527D+00  WK= 0.4125D-01  QK= 0.2063D-01\n",
      " NIT=   16  NFE=  676  F= 0.86666527D+00  WK= 0.4125D-01  QK= 0.2063D-01\n",
      " NIT=   17  NFE=  721  F= 0.86666527D+00  WK= 0.4125D-01  QK= 0.2063D-01\n",
      " NIT=   18  NFE=  766  F= 0.86666527D+00  WK= 0.4125D-01  QK= 0.2063D-01\n",
      " NIT=   19  NFE=  811  F= 0.86666527D+00  WK= 0.4125D-01  QK= 0.2063D-01\n",
      " NIT=   20  NFE=  856  F= 0.86666527D+00  WK= 0.4125D-01  QK= 0.2063D-01\n",
      " NIT=   21  NFE=  901  F= 0.86666527D+00  WK= 0.4125D-01  QK= 0.2063D-01\n",
      " Exit from LMBM:\n",
      " Abnormal exit: Failure in attaining the demanded accuracy.\n",
      " NIT=   22  NFE=  946  F= 0.86666527D+00  WK= 0.4125D-01  QK= 0.2063D-01  ITERM= -4\n",
      "-----------\n",
      "| Output: |\n",
      "-----------\n",
      "Termination:     -4\n",
      "N. iter.:        22\n",
      "N. func. eval.:  946\n",
      "Final value:     0.866665\n",
      "Execution time:  0.305069\n",
      "\n",
      "####################################\n",
      "opt_val = -6.527449159759112\n",
      "####################################\n",
      "  0.426912 seconds (696.22 k allocations: 54.154 MiB, 9.30% gc time)\n",
      "Total time:\n",
      "  0.625217 seconds (888.49 k allocations: 64.600 MiB, 6.35% gc time)\n"
     ]
    },
    {
     "data": {
      "text/plain": [
       "-6.527449159759112"
      ]
     },
     "execution_count": 13,
     "metadata": {},
     "output_type": "execute_result"
    }
   ],
   "source": [
    "include(\"../src/ctpPOP.jl\")\n",
    "using .ctpPOP\n",
    "\n",
    "opt_val1=ctpPOP.POP_CS_LMBM(n,m,l,lmon_g,supp_g,coe_g,lmon_h,supp_h,coe_h,lmon_f,supp_f,coe_f,dg,dh,k,\n",
    "    tol=1e-2,use_eqcons_to_get_constant_trace=false)"
   ]
  },
  {
   "cell_type": "code",
   "execution_count": 14,
   "metadata": {},
   "outputs": [
    {
     "name": "stdout",
     "output_type": "stream",
     "text": [
      "------------------------------------------------------\n",
      "The clique sizes of varibles:\n",
      "[4, 3]\n",
      "[1, 1]\n",
      "------------------------------------------------------\n",
      "Problem\n",
      "  Name                   :                 \n",
      "  Objective sense        : max             \n",
      "  Type                   : CONIC (conic optimization problem)\n",
      "  Constraints            : 100             \n",
      "  Cones                  : 0               \n",
      "  Scalar variables       : 1               \n",
      "  Matrix variables       : 6               \n",
      "  Integer variables      : 0               \n",
      "\n",
      "Optimizer started.\n",
      "Presolve started.\n",
      "Linear dependency checker started.\n",
      "Linear dependency checker terminated.\n",
      "Eliminator started.\n",
      "Freed constraints in eliminator : 0\n",
      "Eliminator terminated.\n",
      "Eliminator - tries                  : 1                 time                   : 0.00            \n",
      "Lin. dep.  - tries                  : 1                 time                   : 0.00            \n",
      "Lin. dep.  - number                 : 0               \n",
      "Presolve terminated. Time: 0.00    \n",
      "Problem\n",
      "  Name                   :                 \n",
      "  Objective sense        : max             \n",
      "  Type                   : CONIC (conic optimization problem)\n",
      "  Constraints            : 100             \n",
      "  Cones                  : 0               \n",
      "  Scalar variables       : 1               \n",
      "  Matrix variables       : 6               \n",
      "  Integer variables      : 0               \n",
      "\n",
      "Optimizer  - threads                : 4               \n",
      "Optimizer  - solved problem         : the primal      \n",
      "Optimizer  - Constraints            : 100\n",
      "Optimizer  - Cones                  : 1\n",
      "Optimizer  - Scalar variables       : 2                 conic                  : 2               \n",
      "Optimizer  - Semi-definite variables: 6                 scalarized             : 225             \n",
      "Factor     - setup time             : 0.00              dense det. time        : 0.00            \n",
      "Factor     - ML order time          : 0.00              GP order time          : 0.00            \n",
      "Factor     - nonzeros before factor : 3100              after factor           : 3100            \n",
      "Factor     - dense dim.             : 0                 flops                  : 1.96e+05        \n",
      "ITE PFEAS    DFEAS    GFEAS    PRSTATUS   POBJ              DOBJ              MU       TIME  \n",
      "0   7.7e+00  1.0e+00  1.0e+00  0.00e+00   0.000000000e+00   0.000000000e+00   1.0e+00  0.00  \n",
      "1   4.2e+00  5.4e-01  6.0e-01  -1.34e+00  -1.621952337e+00  -2.112257862e+00  5.4e-01  0.00  \n",
      "2   1.3e+00  1.7e-01  5.2e-02  2.30e+00   -2.712833845e+00  -2.685805062e+00  1.7e-01  0.00  \n",
      "3   2.7e-01  3.5e-02  4.8e-03  1.01e+00   -3.575898199e+00  -3.570709106e+00  3.5e-02  0.00  \n",
      "4   7.7e-02  1.0e-02  7.5e-04  9.72e-01   -3.766470224e+00  -3.765061997e+00  1.0e-02  0.00  \n",
      "5   1.2e-03  1.6e-04  1.5e-06  1.00e+00   -3.826516150e+00  -3.826498227e+00  1.6e-04  0.00  \n",
      "6   9.8e-05  1.3e-05  3.5e-08  1.00e+00   -3.827511396e+00  -3.827509930e+00  1.3e-05  0.00  \n",
      "7   1.0e-05  1.3e-06  1.1e-09  1.00e+00   -3.827588170e+00  -3.827588020e+00  1.3e-06  0.00  \n",
      "8   9.8e-07  1.3e-07  3.5e-11  1.00e+00   -3.827596100e+00  -3.827596085e+00  1.3e-07  0.01  \n",
      "9   1.1e-07  1.5e-08  1.4e-12  1.00e+00   -3.827596897e+00  -3.827596896e+00  1.5e-08  0.01  \n",
      "10  8.9e-09  1.5e-09  4.0e-14  9.99e-01   -3.827596999e+00  -3.827596999e+00  1.4e-09  0.01  \n",
      "Optimizer terminated. Time: 0.01    \n",
      "\n",
      "optimum = -3.8275969992555887\n",
      "  0.009834 seconds (32.99 k allocations: 2.519 MiB)\n"
     ]
    },
    {
     "data": {
      "text/plain": [
       "(-3.8275969992555887, nothing, TSSOS.mdata_type(6, 0, 2, [2, 2], SparseMatrixCSC{UInt8,UInt32}[\n",
       "  [1,  1]  =  0x02\n",
       "  [1,  2]  =  0x01\n",
       "  [2,  2]  =  0x01\n",
       "  [1,  3]  =  0x01\n",
       "  [3,  3]  =  0x01\n",
       "  [2,  4]  =  0x02\n",
       "  [2,  5]  =  0x01\n",
       "  [3,  5]  =  0x01\n",
       "  [3,  6]  =  0x02\n",
       "  [3,  7]  =  0x01\n",
       "  [4,  7]  =  0x01\n",
       "  [3,  8]  =  0x01\n",
       "  ⋮\n",
       "  [5, 11]  =  0x01\n",
       "  [4, 12]  =  0x01\n",
       "  [6, 12]  =  0x01\n",
       "  [5, 13]  =  0x02\n",
       "  [5, 14]  =  0x01\n",
       "  [6, 14]  =  0x01\n",
       "  [6, 15]  =  0x02\n",
       "  [1, 16]  =  0x01\n",
       "  [2, 17]  =  0x01\n",
       "  [3, 18]  =  0x01\n",
       "  [4, 19]  =  0x01\n",
       "  [5, 20]  =  0x01\n",
       "  [6, 21]  =  0x01, \n",
       "  [1, 1]  =  0x02\n",
       "  [2, 2]  =  0x02\n",
       "  [3, 3]  =  0x02, \n",
       "  [3, 1]  =  0x02\n",
       "  [4, 2]  =  0x02\n",
       "  [5, 3]  =  0x02\n",
       "  [6, 4]  =  0x02], Array{Float64,1}[[-0.09308933859488189, -0.06900109436283319, 0.1950782452770463, 0.41403409601716534, -0.1617863475725274, -1.0046576783229573, 0.4115650334585812, -0.081512366838842, 0.6752902501729712, -0.2652653916701513  …  -0.6436061509689548, 0.4995733345410702, -0.32211931865926413, -0.22006197365403013, -0.45247945752533303, -1.0051133309768092, -0.4364758741183268, -0.05971562237822825, -0.46209222732294464, -1.6721446255360255], [-1.0, -1.0, -1.0, 1.0], [-1.0, -1.0, -1.0, -1.0, 1.0]], 0, [2, 2], \n",
       "  [3,   2]  =  0x01\n",
       "  [4,   3]  =  0x01\n",
       "  [5,   4]  =  0x01\n",
       "  [6,   5]  =  0x01\n",
       "  [3,   6]  =  0x02\n",
       "  [3,   7]  =  0x01\n",
       "  [4,   7]  =  0x01\n",
       "  [4,   8]  =  0x02\n",
       "  [3,   9]  =  0x01\n",
       "  [5,   9]  =  0x01\n",
       "  [4,  10]  =  0x01\n",
       "  [5,  10]  =  0x01\n",
       "  ⋮\n",
       "  [3,  94]  =  0x01\n",
       "  [1,  95]  =  0x01\n",
       "  [2,  95]  =  0x01\n",
       "  [3,  95]  =  0x02\n",
       "  [2,  96]  =  0x04\n",
       "  [2,  97]  =  0x03\n",
       "  [3,  97]  =  0x01\n",
       "  [2,  98]  =  0x02\n",
       "  [3,  98]  =  0x02\n",
       "  [1,  99]  =  0x01\n",
       "  [3,  99]  =  0x03\n",
       "  [2, 100]  =  0x01\n",
       "  [3, 100]  =  0x03, Array{Array{UInt8,2},1}[[[0x00 0x00 … 0x00 0x00; 0x00 0x00 … 0x00 0x00; 0x00 0x00 … 0x00 0x00; 0x00 0x00 … 0x00 0x00], [0x02 0x00 … 0x00 0x00; 0x00 0x02 … 0x00 0x00; 0x00 0x00 … 0x00 0x00; 0x00 0x00 … 0x02 0x00]], [[0x00 0x00 … 0x00 0x00; 0x00 0x00 … 0x00 0x00; 0x00 0x00 … 0x00 0x00], [0x02 0x00 0x00 0x00; 0x00 0x02 0x00 0x00; 0x00 0x00 0x02 0x00]]], Array{UInt16,1}[[0x0016, 0x0005], [0x0016, 0x0004]], Array{UInt8,2}[[0x00 0x01 … 0x00 0x00; 0x00 0x00 … 0x00 0x00; 0x00 0x00 … 0x01 0x00; 0x00 0x00 … 0x01 0x02], [0x00 0x01 … 0x00 0x00; 0x00 0x00 … 0x01 0x00; 0x00 0x00 … 0x01 0x02]], Array{Array{UInt8,2},1}[[[0x00 0x01 … 0x00 0x00; 0x00 0x00 … 0x00 0x00; 0x00 0x00 … 0x01 0x00; 0x00 0x00 … 0x00 0x01]], [[0x00 0x01 0x00 0x00; 0x00 0x00 0x01 0x00; 0x00 0x00 0x00 0x01]]], 2, Array{UInt16,1}[[0x0003, 0x0004, 0x0005, 0x0006], [0x0001, 0x0002, 0x0003]], [4, 3], Array{UInt16,1}[[0x0002], [0x0001]], UInt16[], Array{Array{Array{UInt16,1},1},1}[[[[0x0001, 0x0002, 0x0003, 0x0004, 0x0005, 0x0006, 0x0007, 0x0008, 0x0009, 0x000a, 0x000b, 0x000c, 0x000d, 0x000e, 0x000f]], [[0x0001, 0x0002, 0x0003, 0x0004, 0x0005]]], [[[0x0001, 0x0002, 0x0003, 0x0004, 0x0005, 0x0006, 0x0007, 0x0008, 0x0009, 0x000a]], [[0x0001, 0x0002, 0x0003, 0x0004]]]], Array{UInt16,1}[[0x0001, 0x0001], [0x0001, 0x0001]], Array{Array{Int64,1},1}[[[15], [5]], [[10], [4]]], Array{UInt16,1}[[0x000f], [0x000a]], Array{UInt16,1}[[0x0001], [0x0001]]))"
      ]
     },
     "execution_count": 14,
     "metadata": {},
     "output_type": "execute_result"
    }
   ],
   "source": [
    "using TSSOS\n",
    "\n",
    "\n",
    "@time opt,sol,data=cs_tssos_first(Vector{SparseMatrixCSC{UInt8,UInt32}}([[supp_f];supp_g;supp_h]),[[coe_f];coe_g;coe_h],n,k,[dg;dh],numeq=l,CS=\"MD\",TS=false,CTP=false);"
   ]
  },
  {
   "cell_type": "code",
   "execution_count": 15,
   "metadata": {
    "scrolled": true
   },
   "outputs": [
    {
     "name": "stdout",
     "output_type": "stream",
     "text": [
      "This is Ipopt version 3.13.2, running with linear solver mumps.\n",
      "NOTE: Other linear solvers might be more efficient (see Ipopt documentation).\n",
      "\n",
      "Number of nonzeros in equality constraint Jacobian...:        0\n",
      "Number of nonzeros in inequality constraint Jacobian.:        7\n",
      "Number of nonzeros in Lagrangian Hessian.............:       22\n",
      "\n",
      "Total number of variables............................:        6\n",
      "                     variables with only lower bounds:        0\n",
      "                variables with lower and upper bounds:        0\n",
      "                     variables with only upper bounds:        0\n",
      "Total number of equality constraints.................:        0\n",
      "Total number of inequality constraints...............:        2\n",
      "        inequality constraints with only lower bounds:        2\n",
      "   inequality constraints with lower and upper bounds:        0\n",
      "        inequality constraints with only upper bounds:        0\n",
      "\n",
      "iter    objective    inf_pr   inf_du lg(mu)  ||d||  lg(rg) alpha_du alpha_pr  ls\n",
      "   0 -1.6721446e+00 0.00e+00 1.01e+00  -1.0 0.00e+00    -  0.00e+00 0.00e+00   0\n",
      "   1 -2.7206343e+00 0.00e+00 9.63e-01  -1.0 5.03e-01    -  1.00e+00 1.00e+00f  1\n",
      "   2 -2.3215225e+00 0.00e+00 1.73e+01  -1.7 1.73e-01   2.0 1.00e+00 1.00e+00h  1\n",
      "   3 -2.3986150e+00 0.00e+00 1.01e+00  -1.7 9.94e-02    -  1.00e+00 1.00e+00h  1\n",
      "   4 -2.4364110e+00 0.00e+00 7.16e-01  -1.7 2.15e-02   1.5 1.00e+00 1.00e+00h  1\n",
      "   5 -2.5468267e+00 0.00e+00 6.69e-01  -1.7 6.02e-02   1.0 1.00e+00 1.00e+00f  1\n",
      "   6 -2.8488644e+00 0.00e+00 6.47e-01  -1.7 1.75e-01   0.6 1.00e+00 1.00e+00f  1\n",
      "   7 -3.6613152e+00 1.58e-01 5.66e-01  -1.7 4.58e-01   0.1 1.00e+00 1.00e+00f  1\n",
      "   8 -3.5008149e+00 0.00e+00 3.82e-01  -1.7 1.16e-01   0.5 1.00e+00 1.00e+00h  1\n",
      "   9 -3.9345573e+00 1.20e-01 2.02e-01  -1.7 2.72e+00    -  1.00e+00 1.20e-01f  1\n",
      "iter    objective    inf_pr   inf_du lg(mu)  ||d||  lg(rg) alpha_du alpha_pr  ls\n",
      "  10 -3.8702095e+00 6.04e-02 2.99e-02  -1.7 2.23e-01    -  1.00e+00 1.00e+00h  1\n",
      "  11 -3.8357271e+00 1.10e-02 1.12e-02  -2.5 9.19e-02    -  1.00e+00 1.00e+00h  1\n",
      "  12 -3.8275803e+00 2.42e-04 7.64e-04  -3.8 1.49e-02    -  1.00e+00 1.00e+00h  1\n",
      "  13 -3.8275942e+00 0.00e+00 1.53e-06  -5.7 7.52e-04    -  1.00e+00 1.00e+00h  1\n",
      "  14 -3.8275970e+00 0.00e+00 2.46e-11  -8.6 4.75e-06    -  1.00e+00 1.00e+00h  1\n",
      "\n",
      "Number of Iterations....: 14\n",
      "\n",
      "                                   (scaled)                 (unscaled)\n",
      "Objective...............:  -3.8275970208999488e+00   -3.8275970208999488e+00\n",
      "Dual infeasibility......:   2.4596047420999412e-11    2.4596047420999412e-11\n",
      "Constraint violation....:   0.0000000000000000e+00    0.0000000000000000e+00\n",
      "Complementarity.........:   2.5286103399994502e-09    2.5286103399994502e-09\n",
      "Overall NLP error.......:   2.5286103399994502e-09    2.5286103399994502e-09\n",
      "\n",
      "\n",
      "Number of objective function evaluations             = 15\n",
      "Number of objective gradient evaluations             = 15\n",
      "Number of equality constraint evaluations            = 0\n",
      "Number of inequality constraint evaluations          = 15\n",
      "Number of equality constraint Jacobian evaluations   = 0\n",
      "Number of inequality constraint Jacobian evaluations = 15\n",
      "Number of Lagrangian Hessian evaluations             = 14\n",
      "Total CPU secs in IPOPT (w/o function evaluations)   =      0.007\n",
      "Total CPU secs in NLP function evaluations           =      0.000\n",
      "\n",
      "EXIT: Optimal Solution Found.\n",
      "LOCALLY_SOLVED\n",
      "opt_val=-3.827597020899949\n",
      "  0.063251 seconds (51.81 k allocations: 2.678 MiB)\n"
     ]
    },
    {
     "name": "stderr",
     "output_type": "stream",
     "text": [
      "WARNING: replacing module ctpPOP.\n"
     ]
    },
    {
     "data": {
      "text/plain": [
       "-3.827597020899949"
      ]
     },
     "execution_count": 15,
     "metadata": {},
     "output_type": "execute_result"
    }
   ],
   "source": [
    "include(\"../src/ctpPOP.jl\")\n",
    "using .ctpPOP\n",
    "\n",
    "optval=ctpPOP.POP_NLP(n,m,l,lmon_g,supp_g,coe_g,lmon_h,supp_h,coe_h,lmon_f,supp_f,coe_f)"
   ]
  },
  {
   "cell_type": "code",
   "execution_count": null,
   "metadata": {},
   "outputs": [],
   "source": []
  }
 ],
 "metadata": {
  "kernelspec": {
   "display_name": "Julia 1.3.0",
   "language": "julia",
   "name": "julia-1.3"
  },
  "language_info": {
   "file_extension": ".jl",
   "mimetype": "application/julia",
   "name": "julia",
   "version": "1.3.0"
  }
 },
 "nbformat": 4,
 "nbformat_minor": 2
}
