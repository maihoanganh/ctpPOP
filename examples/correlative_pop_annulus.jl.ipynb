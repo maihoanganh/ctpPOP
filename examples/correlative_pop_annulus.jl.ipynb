{
 "cells": [
  {
   "cell_type": "code",
   "execution_count": 20,
   "metadata": {},
   "outputs": [
    {
     "name": "stdout",
     "output_type": "stream",
     "text": [
      "***Problem setting***\n",
      "Number of variable: n=10\n",
      "====================\n",
      "Number of inequality constraints: m=20\n",
      "====================\n",
      "Number of equality constraints: l=2\n",
      "====================\n",
      "Relaxed order: k=2\n",
      "====================\n"
     ]
    }
   ],
   "source": [
    "using DynamicPolynomials, LinearAlgebra, SparseArrays\n",
    "\n",
    "println(\"***Problem setting***\")\n",
    "\n",
    "n=10\n",
    "\n",
    "println(\"Number of variable: n=\",n)\n",
    "println(\"====================\")\n",
    "\n",
    "@polyvar x[1:n]# variables\n",
    "\n",
    "function generate_random_poly(T::UnitRange{Int64})\n",
    "    v=reverse(monomials(x[T],0:2))\n",
    "    c=2*rand(Float64,length(v)).-1\n",
    "    return c'*v\n",
    "end\n",
    "\n",
    "# unit sphere constraint\n",
    "u=3\n",
    "p=floor(Int64,n/u)\n",
    "\n",
    "I=Vector{UnitRange{Int64}}(undef,p)\n",
    "I[1]=1:u\n",
    "I[2:p-1]=[u*(j-1):u*j for j in 2:p-1]\n",
    "I[p]=u*(p-1):n\n",
    "\n",
    "# random quadratic objective function f\n",
    "f=sum(generate_random_poly(I[j]) for j in 1:p)\n",
    "\n",
    "\n",
    "g=[-(x.^2).+1/u;(x.^2).-0.5/u]\n",
    "\n",
    "\n",
    "\n",
    "m=length(g)\n",
    "println(\"Number of inequality constraints: m=\",m)\n",
    "println(\"====================\")\n",
    "\n",
    "l=ceil(Int64, n/7)\n",
    "\n",
    "r=floor(Int64,l/p)\n",
    "W=[(j-1)*r+1:j*r for j in 1:p-1]\n",
    "append!(W,[(p-1)*r+1:l])\n",
    "\n",
    "h=Vector{Polynomial{true,Float64}}(undef,l)\n",
    "\n",
    "#=randx=[2*rand(length(I[j])).-1 for j in 1:p]# create a feasible solution\n",
    "randx=[randx[j]/norm(randx[j]) for j in 1:p]=#\n",
    "\n",
    "randx=2*rand(n).-1\n",
    "randx=randx./sqrt(u)\n",
    "\n",
    "for j in 1:p\n",
    "    for i in W[j]\n",
    "        h[i]=generate_random_poly(I[j])\n",
    "        h[i]-=h[i](x => randx) #make constraints feasible\n",
    "    end\n",
    "end\n",
    "\n",
    "l=length(h)\n",
    "println(\"Number of equality constraints: l=\",l)\n",
    "println(\"====================\")\n",
    "\n",
    "k=2\n",
    "\n",
    "println(\"Relaxed order: k=\",k)\n",
    "println(\"====================\")"
   ]
  },
  {
   "cell_type": "code",
   "execution_count": 21,
   "metadata": {},
   "outputs": [
    {
     "name": "stderr",
     "output_type": "stream",
     "text": [
      "WARNING: replacing module ctpPOP.\n"
     ]
    }
   ],
   "source": [
    "include(\"../src/ctpPOP.jl\")\n",
    "using .ctpPOP\n",
    "\n",
    "n,m,l,lmon_g,supp_g,coe_g,lmon_h,supp_h,coe_h,lmon_f,supp_f,coe_f,dg,dh=ctpPOP.get_info(x,f,g,h,sparse=true);"
   ]
  },
  {
   "cell_type": "code",
   "execution_count": 22,
   "metadata": {},
   "outputs": [
    {
     "name": "stdout",
     "output_type": "stream",
     "text": [
      "------------------------------------------------------\n",
      "The clique sizes of varibles:\n",
      "[5, 4, 3]\n",
      "[1, 1, 1]\n",
      "------------------------------------------------------\n",
      "[5, 4, 3]\n",
      "  Number of cliques: p=3\n",
      "  Largest clique size: u=5\n"
     ]
    },
    {
     "name": "stderr",
     "output_type": "stream",
     "text": [
      "WARNING: replacing module ctpPOP.\n"
     ]
    },
    {
     "name": "stdout",
     "output_type": "stream",
     "text": [
      "  Largest constant trace: a=6.111111111111109\n",
      "  Number of blocks: omega=25\n",
      "  Number of equality consraints: zeta=582\n",
      "  Size of the largest block: s^max=21\n",
      "Modeling time:\n",
      "  3.538372 seconds (3.15 M allocations: 159.191 MiB, 1.92% gc time)\n",
      "iter=1.0   val=-22.951431470859756   gap=0.04003495619378093   feas=12.357189178259887\n",
      "iter=2.0   val=-11.305426185343789   gap=0.6103639032854061   feas=6.469395368704147\n",
      "iter=4.0   val=-9.601760391353338   gap=0.41653116502981147   feas=4.3615135931705336\n",
      "iter=8.0   val=-6.570558323414767   gap=0.2516477757191972   feas=2.6135603333230604\n",
      "iter=16.0   val=-6.247366532484119   gap=0.3296523577780061   feas=1.4553057511829328\n",
      "iter=32.0   val=-5.379942535512352   gap=0.2616743589163465   feas=0.7625797889430839\n",
      "iter=64.0   val=-5.307860972705002   gap=0.2267565695414997   feas=0.3997784478138315\n",
      "iter=128.0   val=-5.231641816542352   gap=0.07783498281246702   feas=0.21055659607528268\n",
      "iter=256.0   val=-5.261678253399462   gap=0.029341385082017616   feas=0.11985735246907314\n",
      "iter=512.0   val=-5.138759787252525   gap=0.0035184664706106516   feas=0.06713461865310028\n",
      "iter=1024.0   val=-5.02436794242835   gap=0.001745034198735055   feas=0.041355900019533515\n",
      "iter=2048.0   val=-4.894306694714283   gap=0.001400509792171525   feas=0.022359518717258862\n",
      "iter=4096.0   val=-4.808159796704888   gap=0.00510803577260627   feas=0.00994999946233197\n",
      "iter=8192.0   val=-4.779640615934894   gap=0.00452539051864687   feas=0.0038521780787004437\n",
      "iter=16384.0   val=-4.7720983615513966   gap=0.003470308539617566   feas=0.0014374753887387182\n",
      "iter=23102.0   val=-4.771461320285669   gap=0.0009953779909064923   feas=0.0009577560151106994\n",
      "tol satisfies!!!\n",
      "\n",
      "####################################\n",
      "opt_val = -4.771461320285669\n",
      "####################################\n",
      "Solving time:\n",
      " 69.296680 seconds (54.98 M allocations: 5.275 GiB, 2.56% gc time)\n",
      "Total time:\n",
      " 72.835337 seconds (58.13 M allocations: 5.431 GiB, 2.53% gc time)\n"
     ]
    },
    {
     "data": {
      "text/plain": [
       "-4.771461320285669"
      ]
     },
     "execution_count": 22,
     "metadata": {},
     "output_type": "execute_result"
    }
   ],
   "source": [
    "include(\"../src/ctpPOP.jl\")\n",
    "using .ctpPOP\n",
    "\n",
    "opt_val1=ctpPOP.POP_CS_CGAL(n,m,l,lmon_g,supp_g,coe_g,lmon_h,supp_h,coe_h,lmon_f,supp_f,coe_f,dg,dh,k;EigAlg=\"Arpack\",maxit=1e10,tol=1e-3,UseEq=false)"
   ]
  },
  {
   "cell_type": "code",
   "execution_count": 23,
   "metadata": {},
   "outputs": [
    {
     "name": "stdout",
     "output_type": "stream",
     "text": [
      "------------------------------------------------------\n",
      "The clique sizes of varibles:\n",
      "[5, 4, 3]\n",
      "[1, 1, 1]\n",
      "------------------------------------------------------\n",
      "Problem\n",
      "  Name                   :                 \n",
      "  Objective sense        : max             \n",
      "  Type                   : CONIC (conic optimization problem)\n",
      "  Constraints            : 221             \n",
      "  Cones                  : 0               \n",
      "  Scalar variables       : 43              \n",
      "  Matrix variables       : 26              \n",
      "  Integer variables      : 0               \n",
      "\n",
      "Optimizer started.\n",
      "Presolve started.\n",
      "Linear dependency checker started.\n",
      "Linear dependency checker terminated.\n",
      "Eliminator started.\n",
      "Freed constraints in eliminator : 0\n",
      "Eliminator terminated.\n",
      "Eliminator - tries                  : 1                 time                   : 0.00            \n",
      "Lin. dep.  - tries                  : 1                 time                   : 0.00            \n",
      "Lin. dep.  - number                 : 0               \n",
      "Presolve terminated. Time: 0.00    \n",
      "Problem\n",
      "  Name                   :                 \n",
      "  Objective sense        : max             \n",
      "  Type                   : CONIC (conic optimization problem)\n",
      "  Constraints            : 221             \n",
      "  Cones                  : 0               \n",
      "  Scalar variables       : 43              \n",
      "  Matrix variables       : 26              \n",
      "  Integer variables      : 0               \n",
      "\n",
      "Optimizer  - threads                : 4               \n",
      "Optimizer  - solved problem         : the primal      \n",
      "Optimizer  - Constraints            : 221\n",
      "Optimizer  - Cones                  : 1\n",
      "Optimizer  - Scalar variables       : 44                conic                  : 44              \n",
      "Optimizer  - Semi-definite variables: 26                scalarized             : 770             \n",
      "Factor     - setup time             : 0.00              dense det. time        : 0.00            \n",
      "Factor     - ML order time          : 0.00              GP order time          : 0.00            \n",
      "Factor     - nonzeros before factor : 1.11e+04          after factor           : 1.11e+04        \n",
      "Factor     - dense dim.             : 0                 flops                  : 1.10e+06        \n",
      "ITE PFEAS    DFEAS    GFEAS    PRSTATUS   POBJ              DOBJ              MU       TIME  \n",
      "0   1.0e+01  1.0e+00  1.0e+00  0.00e+00   0.000000000e+00   0.000000000e+00   1.0e+00  0.02  \n",
      "1   7.0e+00  6.8e-01  8.8e-01  -1.54e+00  -1.669564055e+00  -2.319930775e+00  6.8e-01  0.02  \n",
      "2   4.0e+00  3.9e-01  7.5e-02  2.57e+00   -3.708502524e+00  -3.490549212e+00  3.9e-01  0.03  \n",
      "3   1.8e+00  1.7e-01  1.9e-02  1.12e+00   -4.711297564e+00  -4.630457947e+00  1.7e-01  0.04  \n",
      "4   7.4e-01  7.2e-02  6.9e-03  1.24e+00   -4.747568545e+00  -4.720078540e+00  7.2e-02  0.04  \n",
      "5   3.6e-01  3.5e-02  2.5e-03  1.15e+00   -4.786652435e+00  -4.774142752e+00  3.5e-02  0.05  \n",
      "6   1.4e-01  1.3e-02  6.8e-04  9.60e-01   -4.745168824e+00  -4.740781741e+00  1.3e-02  0.06  \n",
      "7   5.5e-02  5.3e-03  1.9e-04  9.35e-01   -4.756430235e+00  -4.754751943e+00  5.3e-03  0.07  \n",
      "8   1.8e-02  1.7e-03  3.6e-05  9.43e-01   -4.767087755e+00  -4.766574658e+00  1.7e-03  0.07  \n",
      "9   6.2e-03  6.1e-04  8.0e-06  9.54e-01   -4.768529291e+00  -4.768353085e+00  6.1e-04  0.08  \n",
      "10  2.5e-03  2.4e-04  2.1e-06  9.58e-01   -4.769070571e+00  -4.769003857e+00  2.4e-04  0.09  \n",
      "11  1.2e-03  1.2e-04  7.6e-07  9.36e-01   -4.769133789e+00  -4.769101008e+00  1.2e-04  0.09  \n",
      "12  2.9e-04  2.8e-05  8.8e-08  9.71e-01   -4.769554653e+00  -4.769547535e+00  2.8e-05  0.10  \n",
      "13  9.5e-05  9.2e-06  1.7e-08  9.72e-01   -4.769621323e+00  -4.769619029e+00  9.2e-06  0.11  \n",
      "14  3.3e-05  3.2e-06  3.5e-09  9.91e-01   -4.769657161e+00  -4.769656386e+00  3.2e-06  0.11  \n",
      "15  1.6e-05  1.5e-06  1.2e-09  9.92e-01   -4.769664991e+00  -4.769664618e+00  1.5e-06  0.12  \n",
      "16  5.3e-07  5.1e-08  7.3e-12  9.98e-01   -4.769675571e+00  -4.769675560e+00  5.1e-08  0.13  \n",
      "17  1.3e-08  1.7e-09  2.9e-14  1.00e+00   -4.769675928e+00  -4.769675927e+00  1.3e-09  0.13  \n",
      "Optimizer terminated. Time: 0.13    \n",
      "\n",
      "optimum = -4.769675927771341\n",
      "  0.166519 seconds (190.15 k allocations: 14.673 MiB)\n"
     ]
    }
   ],
   "source": [
    "using TSSOS\n",
    "\n",
    "\n",
    "@time opt,sol,data=cs_tssos_first(Vector{SparseMatrixCSC{UInt8,UInt32}}([[supp_f];supp_g;supp_h]),[[coe_f];coe_g;coe_h],n,k,[dg;dh],numeq=l,CS=\"MD\",TS=\"block\",CTP=false);"
   ]
  },
  {
   "cell_type": "code",
   "execution_count": null,
   "metadata": {},
   "outputs": [],
   "source": []
  }
 ],
 "metadata": {
  "kernelspec": {
   "display_name": "Julia 1.3.0",
   "language": "julia",
   "name": "julia-1.3"
  },
  "language_info": {
   "file_extension": ".jl",
   "mimetype": "application/julia",
   "name": "julia",
   "version": "1.3.0"
  }
 },
 "nbformat": 4,
 "nbformat_minor": 2
}
