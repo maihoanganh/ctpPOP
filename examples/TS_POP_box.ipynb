{
 "cells": [
  {
   "cell_type": "code",
   "execution_count": 7,
   "metadata": {},
   "outputs": [
    {
     "name": "stdout",
     "output_type": "stream",
     "text": [
      "***Problem setting***\n",
      "Number of variable: n=20\n",
      "====================\n",
      "Number of inequality constraints: m=20\n",
      "====================\n",
      "Number of equality constraints: l=3\n"
     ]
    }
   ],
   "source": [
    "using DynamicPolynomials, SparseArrays, LinearAlgebra\n",
    "\n",
    "println(\"***Problem setting***\")\n",
    "\n",
    "n=20\n",
    "\n",
    "println(\"Number of variable: n=\",n)\n",
    "println(\"====================\")\n",
    "\n",
    "@ncpolyvar x[1:n]# variables\n",
    "\n",
    "\n",
    "function star_algebra(mom)\n",
    "    if mom==1\n",
    "        return mom\n",
    "    else\n",
    "        ind=mom.z .>0\n",
    "        vars=mom.vars[ind]\n",
    "        exp=mom.z[ind]\n",
    "        return prod(vars[i]^exp[i] for i in length(exp):-1:1)\n",
    "    end\n",
    "end\n",
    "function generate_random_poly(v)\n",
    "    c=2*rand(Float64,length(v)).-1\n",
    "    return c'*v\n",
    "end\n",
    "# random quadratic objective function f\n",
    "v=reverse(monomials(x,2))\n",
    "v+=star_algebra.(v)\n",
    "v=v./2\n",
    "f=generate_random_poly(v)\n",
    "\n",
    "\n",
    "# unit sphere constraint\n",
    "m=n\n",
    "q=floor(Int64,n/m)\n",
    "R=ones(Float64,m)./n\n",
    "T=[(j-1)*q+1:j*q for j in 1:m-1]\n",
    "append!(T,[(m-1)*q+1:n])\n",
    "\n",
    "g=[R[j]-sum(x[T[j]].^2) for j in 1:m]\n",
    "\n",
    "m=length(g)\n",
    "println(\"Number of inequality constraints: m=\",m)\n",
    "println(\"====================\")\n",
    "\n",
    "\n",
    "l=ceil(Int64, n/7)\n",
    "\n",
    "\n",
    "h=Vector{Polynomial{false,Float64}}(undef,l)\n",
    "randx=[2*rand(length(T[j])).-1 for j in 1:m]# create a feasible solution\n",
    "randx=[sqrt(R[j])*rand(1)[1]*randx[j]/norm(randx[j]) for j in 1:m]\n",
    "randx=vcat(randx...)\n",
    "\n",
    "for j in 1:l\n",
    "    h[j]=generate_random_poly(v[2:end])\n",
    "    h[j]-=h[j](x => randx) #make constraints feasible\n",
    "end\n",
    "\n",
    "l=length(h)\n",
    "println(\"Number of equality constraints: l=\",l)"
   ]
  },
  {
   "cell_type": "code",
   "execution_count": 8,
   "metadata": {},
   "outputs": [
    {
     "name": "stderr",
     "output_type": "stream",
     "text": [
      "WARNING: replacing module ctpNCPOP.\n"
     ]
    }
   ],
   "source": [
    "include(\"../src/ctpNCPOP.jl\")\n",
    "using .ctpNCPOP\n",
    "\n",
    "n,m,l,lmon_g,supp_g,coe_g,lmon_h,supp_h,coe_h,lmon_f,supp_f,coe_f,dg,dh=ctpNCPOP.get_info(x,f,g,h);"
   ]
  },
  {
   "cell_type": "code",
   "execution_count": 9,
   "metadata": {},
   "outputs": [
    {
     "name": "stdout",
     "output_type": "stream",
     "text": [
      "Relaxed order: k=2\n",
      "====================\n",
      "Sparse order: t=1\n"
     ]
    }
   ],
   "source": [
    "k=2\n",
    "println(\"Relaxed order: k=\",k)\n",
    "println(\"====================\")\n",
    "t=1\n",
    "println(\"Sparse order: t=\",t)"
   ]
  },
  {
   "cell_type": "code",
   "execution_count": 4,
   "metadata": {},
   "outputs": [
    {
     "name": "stdout",
     "output_type": "stream",
     "text": [
      "------------------------------------------------------\n",
      "The sizes of blocks:\n",
      "[26, 5]\n",
      "[1, 1]\n",
      "------------------------------------------------------\n",
      "Problem\n",
      "  Name                   :                 \n",
      "  Objective sense        : max             \n",
      "  Type                   : CONIC (conic optimization problem)\n",
      "  Constraints            : 341             \n",
      "  Cones                  : 0               \n",
      "  Scalar variables       : 22              \n",
      "  Matrix variables       : 7               \n",
      "  Integer variables      : 0               \n",
      "\n",
      "Optimizer started.\n",
      "Presolve started.\n",
      "Linear dependency checker started.\n",
      "Linear dependency checker terminated.\n",
      "Eliminator started.\n",
      "Freed constraints in eliminator : 0\n",
      "Eliminator terminated.\n",
      "Eliminator - tries                  : 1                 time                   : 0.00            \n",
      "Lin. dep.  - tries                  : 1                 time                   : 0.00            \n",
      "Lin. dep.  - number                 : 0               \n",
      "Presolve terminated. Time: 0.00    \n",
      "Problem\n",
      "  Name                   :                 \n",
      "  Objective sense        : max             \n",
      "  Type                   : CONIC (conic optimization problem)\n",
      "  Constraints            : 341             \n",
      "  Cones                  : 0               \n",
      "  Scalar variables       : 22              \n",
      "  Matrix variables       : 7               \n",
      "  Integer variables      : 0               \n",
      "\n",
      "Optimizer  - threads                : 4               \n",
      "Optimizer  - solved problem         : the primal      \n",
      "Optimizer  - Constraints            : 341\n",
      "Optimizer  - Cones                  : 1\n",
      "Optimizer  - Scalar variables       : 23                conic                  : 18              \n",
      "Optimizer  - Semi-definite variables: 7                 scalarized             : 441             \n",
      "Factor     - setup time             : 0.01              dense det. time        : 0.00            \n",
      "Factor     - ML order time          : 0.00              GP order time          : 0.00            \n",
      "Factor     - nonzeros before factor : 5.87e+04          after factor           : 5.87e+04        \n",
      "Factor     - dense dim.             : 2                 flops                  : 1.38e+07        \n",
      "ITE PFEAS    DFEAS    GFEAS    PRSTATUS   POBJ              DOBJ              MU       TIME  \n",
      "0   2.5e+00  1.0e+00  1.0e+00  0.00e+00   0.000000000e+00   0.000000000e+00   1.0e+00  0.01  \n",
      "1   4.6e-01  1.9e-01  4.2e-02  2.11e-01   -1.787190271e+00  -1.646600944e+00  1.9e-01  0.02  \n",
      "2   5.5e-02  2.2e-02  1.1e-03  1.24e+00   -1.576696942e+00  -1.560769812e+00  2.2e-02  0.02  \n",
      "3   7.6e-03  3.1e-03  3.2e-05  1.20e+00   -1.502169321e+00  -1.500059446e+00  3.1e-03  0.03  \n",
      "4   8.2e-04  3.3e-04  2.1e-06  1.04e+00   -1.499835927e+00  -1.499640639e+00  3.3e-04  0.03  \n",
      "5   1.0e-05  4.1e-06  5.2e-09  1.01e+00   -1.499748563e+00  -1.499747257e+00  4.1e-06  0.03  \n",
      "6   4.5e-08  1.8e-08  1.5e-12  1.00e+00   -1.499748696e+00  -1.499748690e+00  1.8e-08  0.04  \n",
      "Optimizer terminated. Time: 0.04    \n",
      "\n",
      "optimum = -1.4997486957175887\n",
      " 35.554365 seconds (73.30 M allocations: 3.619 GiB, 6.45% gc time)\n"
     ]
    }
   ],
   "source": [
    "using NCTSSOS\n",
    "\n",
    "\n",
    "@time begin\n",
    "j=1\n",
    "opt,data=nctssos_first(Vector{Vector{Vector{UInt16}}}([[supp_f];supp_g;supp_h]),\n",
    "        [[coe_f];coe_g;coe_h],n,k,[dg;dh],numeq=l,reducebasis=false,obj=\"eigen\",\n",
    "        merge=false,TS=\"block\",QUIET=false)\n",
    "while j <= t-1\n",
    "    opt,data=nctssos_higher!(NCTSSOS.cdata_type(data),TS=\"block\")\n",
    "end\n",
    "end"
   ]
  },
  {
   "cell_type": "code",
   "execution_count": 10,
   "metadata": {},
   "outputs": [
    {
     "name": "stdout",
     "output_type": "stream",
     "text": [
      "  Computing constant trace status: OPTIMAL\n",
      "  Constant trace: ak = 3.0000000000000013\n"
     ]
    },
    {
     "name": "stderr",
     "output_type": "stream",
     "text": [
      "WARNING: replacing module ctpNCPOP.\n"
     ]
    },
    {
     "name": "stdout",
     "output_type": "stream",
     "text": [
      "  Number of blocks: omega=42\n",
      "  Size of the largest block: s^max=401\n",
      "  Number of equality trace constraints: zeta=5254\n",
      "Modeling time:\n",
      "  3.534610 seconds (12.38 M allocations: 3.876 GiB, 23.67% gc time)\n",
      "iter=1   val=-11.500709619552952   gap=2.8420096033936613e-16   feas=2.613216694219691\n",
      "iter=2   val=-3.8335698731843175   gap=0.7494694960948021   feas=1.0185275257235127\n",
      "iter=4   val=-3.688110518382438   gap=0.6333258490910048   feas=0.642145956845726\n",
      "iter=8   val=-3.2684848409784015   gap=0.5559747013275055   feas=0.4588661836120069\n",
      "iter=16   val=-4.062161696001279   gap=0.0612192363501792   feas=0.32274041433630546\n",
      "iter=32   val=-3.729718522254541   gap=0.03237461046644143   feas=0.18205097749169044\n",
      "iter=64   val=-3.14952220703479   gap=0.09520009083844683   feas=0.08972229744562936\n",
      "iter=128   val=-2.814017360754863   gap=0.2121596599211144   feas=0.03460964282406259\n",
      "iter=256   val=-2.7241167142394564   gap=0.16432151887385743   feas=0.01793678429305976\n",
      "iter=512   val=-2.7335074206363927   gap=0.09018268067419634   feas=0.011123131352974332\n",
      "iter=1024   val=-2.767345239302262   gap=0.02271232829312101   feas=0.0056864154740630755\n",
      "iter=2048   val=-2.7514776616621814   gap=0.06126841739935014   feas=0.002088873884471079\n",
      "iter=4096   val=-2.755630641795702   gap=0.014138969633085667   feas=0.0011766115553081308\n",
      "iter=8192   val=-2.7554150223120972   gap=0.032634955972540035   feas=0.0004892302117245148\n",
      "iter=10703   val=-2.7551749247972914   gap=0.0005510325319116524   feas=0.0005377918442337566\n",
      "tol satisfies!!!\n",
      "\n",
      "####################################\n",
      "opt_val = -2.7551749247972914\n",
      "####################################\n",
      "Solving time:\n",
      "146.005729 seconds (42.16 M allocations: 46.982 GiB, 2.28% gc time)\n",
      "Total time:\n",
      "149.540650 seconds (54.54 M allocations: 50.858 GiB, 2.79% gc time)\n"
     ]
    },
    {
     "data": {
      "text/plain": [
       "-2.7551749247972914"
      ]
     },
     "execution_count": 10,
     "metadata": {},
     "output_type": "execute_result"
    }
   ],
   "source": [
    "include(\"../src/ctpNCPOP.jl\")\n",
    "using .ctpNCPOP\n",
    "\n",
    "opt_val=ctpNCPOP.POP_TS_CGAL(n,m,l,lmon_g,supp_g,coe_g,lmon_h,supp_h,coe_h,lmon_f,supp_f,coe_f,dg,dh,k,t,\n",
    "                         tol=1e-3,use_eqcons_to_get_constant_trace=false)"
   ]
  },
  {
   "cell_type": "code",
   "execution_count": null,
   "metadata": {},
   "outputs": [],
   "source": []
  }
 ],
 "metadata": {
  "kernelspec": {
   "display_name": "Julia 1.3.0",
   "language": "julia",
   "name": "julia-1.3"
  },
  "language_info": {
   "file_extension": ".jl",
   "mimetype": "application/julia",
   "name": "julia",
   "version": "1.3.0"
  }
 },
 "nbformat": 4,
 "nbformat_minor": 2
}
