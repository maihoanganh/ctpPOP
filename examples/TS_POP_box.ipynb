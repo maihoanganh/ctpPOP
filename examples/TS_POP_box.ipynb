{
 "cells": [
  {
   "cell_type": "code",
   "execution_count": 40,
   "metadata": {},
   "outputs": [
    {
     "name": "stdout",
     "output_type": "stream",
     "text": [
      "***Problem setting***\n",
      "Number of variable: n=5\n",
      "====================\n",
      "Number of inequality constraints: m=5\n",
      "====================\n",
      "Number of equality constraints: l=1\n"
     ]
    }
   ],
   "source": [
    "using DynamicPolynomials, SparseArrays, LinearAlgebra\n",
    "\n",
    "println(\"***Problem setting***\")\n",
    "\n",
    "n=5\n",
    "\n",
    "println(\"Number of variable: n=\",n)\n",
    "println(\"====================\")\n",
    "\n",
    "@polyvar x[1:n]# variables\n",
    "\n",
    "function generate_random_poly(v)\n",
    "    c=2*rand(Float64,length(v)).-1\n",
    "    return c'*v\n",
    "end\n",
    "# random quadratic objective function f\n",
    "v=reverse(monomials(x,2))\n",
    "f=generate_random_poly(v)\n",
    "\n",
    "\n",
    "# unit sphere constraint\n",
    "m=n\n",
    "q=floor(Int64,n/m)\n",
    "R=ones(Float64,m)./n\n",
    "T=[(j-1)*q+1:j*q for j in 1:m-1]\n",
    "append!(T,[(m-1)*q+1:n])\n",
    "\n",
    "g=[R[j]-sum(x[T[j]].^2) for j in 1:m]\n",
    "\n",
    "m=length(g)\n",
    "println(\"Number of inequality constraints: m=\",m)\n",
    "println(\"====================\")\n",
    "\n",
    "\n",
    "l=ceil(Int64, n/7)\n",
    "\n",
    "\n",
    "h=Vector{Polynomial{true,Float64}}(undef,l)\n",
    "randx=[2*rand(length(T[j])).-1 for j in 1:m]# create a feasible solution\n",
    "randx=[sqrt(R[j])*rand(1)[1]*randx[j]/norm(randx[j]) for j in 1:m]\n",
    "randx=vcat(randx...)\n",
    "\n",
    "for j in 1:l\n",
    "    h[j]=generate_random_poly(v[2:end])\n",
    "    h[j]-=h[j](x => randx) #make constraints feasible\n",
    "end\n",
    "\n",
    "l=length(h)\n",
    "println(\"Number of equality constraints: l=\",l)"
   ]
  },
  {
   "cell_type": "code",
   "execution_count": 41,
   "metadata": {},
   "outputs": [
    {
     "name": "stderr",
     "output_type": "stream",
     "text": [
      "WARNING: replacing module ctpPOP.\n"
     ]
    }
   ],
   "source": [
    "include(\"../src/ctpPOP.jl\")\n",
    "using .ctpPOP\n",
    "\n",
    "n,m,l,lmon_g,supp_g,coe_g,lmon_h,supp_h,coe_h,lmon_f,supp_f,coe_f,dg,dh=ctpPOP.get_info(x,f,g,h,sparse=false);"
   ]
  },
  {
   "cell_type": "code",
   "execution_count": 42,
   "metadata": {},
   "outputs": [
    {
     "name": "stdout",
     "output_type": "stream",
     "text": [
      "Relaxed order: k=2\n",
      "====================\n",
      "Sparse order: t=1\n"
     ]
    }
   ],
   "source": [
    "k=2\n",
    "println(\"Relaxed order: k=\",k)\n",
    "println(\"====================\")\n",
    "t=1\n",
    "println(\"Sparse order: t=\",t)"
   ]
  },
  {
   "cell_type": "code",
   "execution_count": 43,
   "metadata": {},
   "outputs": [
    {
     "name": "stdout",
     "output_type": "stream",
     "text": [
      "  Computing constant trace status: OPTIMAL\n",
      "  Constant trace: ak = 3.0\n",
      "  Number of blocks: omega="
     ]
    },
    {
     "name": "stderr",
     "output_type": "stream",
     "text": [
      "WARNING: replacing module ctpPOP.\n"
     ]
    },
    {
     "name": "stdout",
     "output_type": "stream",
     "text": [
      "12\n",
      "  Size of the largest block: s^max=16\n",
      "  Number of equality trace constraints: zeta=162\n",
      "Modeling time:\n",
      "  0.660364 seconds (568.93 k allocations: 29.195 MiB, 7.73% gc time)\n",
      "iter=1   val=-3.7135657314248958   gap=1.8843026072145847e-16   feas=3.2912294816992214\n",
      "iter=2   val=-1.2378552438082986   gap=0.34671249047596725   feas=0.7691505495624673\n",
      "iter=4   val=-1.3927861305671922   gap=0.18989724054184542   feas=0.5597131337070681\n",
      "iter=8   val=-0.9435117542087565   gap=0.061592382408651454   feas=0.4290813178822494\n",
      "iter=16   val=-1.0030447930526174   gap=0.049488685036209464   feas=0.34365229104534595\n",
      "iter=32   val=-0.997841052273831   gap=0.04091820424833511   feas=0.1799094004071204\n",
      "iter=64   val=-0.8206767344573591   gap=0.029999113549790818   feas=0.06583127494954316\n",
      "iter=128   val=-0.7801771241140086   gap=0.03709259071264526   feas=0.024739162376422673\n",
      "iter=256   val=-0.7657588169649815   gap=0.029194638452097438   feas=0.010846253571401128\n",
      "iter=512   val=-0.7678479236539957   gap=0.008518822201210863   feas=0.008299241422026921\n",
      "iter=1024   val=-0.7720415797448802   gap=0.021385115599743123   feas=0.001394791799893456\n",
      "iter=2048   val=-0.7744716872208776   gap=0.007289205207353307   feas=0.00204891295164171\n",
      "iter=2706   val=-0.7725239238330983   gap=0.000870720292570795   feas=0.0009650837283345862\n",
      "tol satisfies!!!\n",
      "\n",
      "####################################\n",
      "opt_val = -0.7725239238330983\n",
      "####################################\n",
      "Solving time:\n",
      "  1.495865 seconds (1.86 M allocations: 149.788 MiB, 2.88% gc time)\n",
      "Total time:\n",
      "  2.156483 seconds (2.43 M allocations: 178.997 MiB, 4.36% gc time)\n"
     ]
    },
    {
     "data": {
      "text/plain": [
       "-0.7725239238330983"
      ]
     },
     "execution_count": 43,
     "metadata": {},
     "output_type": "execute_result"
    }
   ],
   "source": [
    "include(\"../src/ctpPOP.jl\")\n",
    "using .ctpPOP\n",
    "\n",
    "opt_val=ctpPOP.POP_TS_CGAL(n,m,l,lmon_g,supp_g,coe_g,lmon_h,supp_h,coe_h,lmon_f,supp_f,coe_f,dg,dh,k,t,\n",
    "                         maxit=Int64(1e6),tol=1e-3,\n",
    "                         use_eqcons_to_get_constant_trace=false,\n",
    "                         check_tol_each_iter=true)"
   ]
  },
  {
   "cell_type": "code",
   "execution_count": 44,
   "metadata": {},
   "outputs": [
    {
     "name": "stdout",
     "output_type": "stream",
     "text": [
      "------------------------------------------------------\n",
      "The sizes of blocks:\n",
      "[16, 5]\n",
      "[1, 1]\n",
      "------------------------------------------------------\n",
      "Problem\n",
      "  Name                   :                 \n",
      "  Objective sense        : max             \n",
      "  Type                   : CONIC (conic optimization problem)\n",
      "  Constraints            : 86              \n",
      "  Cones                  : 0               \n",
      "  Scalar variables       : 22              \n",
      "  Matrix variables       : 7               \n",
      "  Integer variables      : 0               \n",
      "\n",
      "Optimizer started.\n",
      "Presolve started.\n",
      "Linear dependency checker started.\n",
      "Linear dependency checker terminated.\n",
      "Eliminator started.\n",
      "Freed constraints in eliminator : 0\n",
      "Eliminator terminated.\n",
      "Eliminator started.\n",
      "Freed constraints in eliminator : 0\n",
      "Eliminator terminated.\n",
      "Eliminator - tries                  : 2                 time                   : 0.00            \n",
      "Lin. dep.  - tries                  : 1                 time                   : 0.00            \n",
      "Lin. dep.  - number                 : 0               \n",
      "Presolve terminated. Time: 0.00    \n",
      "Problem\n",
      "  Name                   :                 \n",
      "  Objective sense        : max             \n",
      "  Type                   : CONIC (conic optimization problem)\n",
      "  Constraints            : 86              \n",
      "  Cones                  : 0               \n",
      "  Scalar variables       : 22              \n",
      "  Matrix variables       : 7               \n",
      "  Integer variables      : 0               \n",
      "\n",
      "Optimizer  - threads                : 4               \n",
      "Optimizer  - solved problem         : the primal      \n",
      "Optimizer  - Constraints            : 86\n",
      "Optimizer  - Cones                  : 1\n",
      "Optimizer  - Scalar variables       : 23                conic                  : 18              \n",
      "Optimizer  - Semi-definite variables: 7                 scalarized             : 226             \n",
      "Factor     - setup time             : 0.00              dense det. time        : 0.00            \n",
      "Factor     - ML order time          : 0.00              GP order time          : 0.00            \n",
      "Factor     - nonzeros before factor : 3741              after factor           : 3741            \n",
      "Factor     - dense dim.             : 0                 flops                  : 2.94e+05        \n",
      "ITE PFEAS    DFEAS    GFEAS    PRSTATUS   POBJ              DOBJ              MU       TIME  \n",
      "0   2.6e+00  1.0e+00  1.0e+00  0.00e+00   0.000000000e+00   0.000000000e+00   1.0e+00  0.00  \n",
      "1   1.1e+00  4.2e-01  1.9e-01  5.29e-01   -6.754663971e-01  -4.947578616e-01  4.2e-01  0.00  \n",
      "2   2.4e-01  9.0e-02  1.6e-02  1.74e+00   -7.165072069e-01  -6.912360149e-01  9.0e-02  0.00  \n",
      "3   2.6e-02  9.8e-03  5.9e-04  1.13e+00   -7.643197700e-01  -7.619025425e-01  9.8e-03  0.00  \n",
      "4   2.6e-03  9.9e-04  1.9e-05  9.98e-01   -7.721628205e-01  -7.719272842e-01  9.9e-04  0.01  \n",
      "5   1.6e-04  6.2e-05  3.0e-07  9.97e-01   -7.730055859e-01  -7.729911262e-01  6.2e-05  0.01  \n",
      "6   6.8e-06  2.6e-06  2.5e-09  9.99e-01   -7.730547311e-01  -7.730541314e-01  2.6e-06  0.01  \n",
      "7   3.1e-07  1.2e-07  2.5e-11  1.00e+00   -7.730563185e-01  -7.730562908e-01  1.2e-07  0.01  \n",
      "8   1.4e-08  5.1e-09  2.2e-13  1.00e+00   -7.730563609e-01  -7.730563596e-01  5.1e-09  0.01  \n",
      "Optimizer terminated. Time: 0.01    \n",
      "\n",
      "optimum = -0.7730563608742036\n",
      "  0.017734 seconds (35.82 k allocations: 3.000 MiB)\n"
     ]
    }
   ],
   "source": [
    "using TSSOS\n",
    "\n",
    "@time tssos_first([[f];g;h],x,k,numeq=length(h),TS=\"block\",quotient=false);"
   ]
  },
  {
   "cell_type": "code",
   "execution_count": 45,
   "metadata": {},
   "outputs": [
    {
     "name": "stdout",
     "output_type": "stream",
     "text": [
      "This is Ipopt version 3.13.2, running with linear solver mumps.\n",
      "NOTE: Other linear solvers might be more efficient (see Ipopt documentation).\n",
      "\n",
      "Number of nonzeros in equality constraint Jacobian...:       24\n",
      "Number of nonzeros in inequality constraint Jacobian.:        5\n",
      "Number of nonzeros in Lagrangian Hessian.............:       34\n",
      "\n",
      "Total number of variables............................:        5\n",
      "                     variables with only lower bounds:        0\n",
      "                variables with lower and upper bounds:        0\n",
      "                     variables with only upper bounds:        0\n",
      "Total number of equality constraints.................:        1\n",
      "Total number of inequality constraints...............:        5\n",
      "        inequality constraints with only lower bounds:        5\n",
      "   inequality constraints with lower and upper bounds:        0\n",
      "        inequality constraints with only upper bounds:        0\n",
      "\n",
      "iter    objective    inf_pr   inf_du lg(mu)  ||d||  lg(rg) alpha_du alpha_pr  ls\n",
      "   0  0.0000000e+00 2.18e-01 1.00e+00  -1.0 0.00e+00    -  0.00e+00 0.00e+00   0\n",
      "   1  0.0000000e+00 2.18e-01 2.38e-07  -1.7 3.76e-10   2.0 1.00e+00 1.00e+00s 22\n",
      "   2r 0.0000000e+00 2.18e-01 9.99e+02  -0.7 0.00e+00   9.8 0.00e+00 0.00e+00R  1\n",
      "   3r 0.0000000e+00 2.18e-01 2.18e-06  -0.7 4.75e-07    -  1.00e+00 1.00e+00f  1\n",
      "   4r 0.0000000e+00 2.18e-01 2.17e+00  -3.1 2.17e-04   4.0 1.00e+00 1.00e+00f  1\n",
      "   5r 0.0000000e+00 2.18e-01 2.35e-03  -3.1 7.05e-07   3.5 1.00e+00 1.00e+00f  1\n",
      "   6r 0.0000000e+00 2.18e-01 7.03e-03  -4.6 7.90e-07   3.9 1.00e+00 1.00e+00f  1\n",
      "   7r 0.0000000e+00 2.18e-01 1.68e-08  -4.6 5.74e-12   3.5 1.00e+00 1.00e+00h  1\n",
      "   8r 0.0000000e+00 2.18e-01 1.83e-04  -7.0 2.31e-08   3.9 1.00e+00 1.00e+00f  1\n",
      "   9r 0.0000000e+00 2.18e-01 1.71e-11  -7.0 6.92e-15   3.4 1.00e+00 1.00e+00h  1\n",
      "iter    objective    inf_pr   inf_du lg(mu)  ||d||  lg(rg) alpha_du alpha_pr  ls\n",
      "  10r 0.0000000e+00 2.18e-01 7.80e-07  -9.0 1.11e-10   3.8 1.00e+00 1.00e+00f  1\n",
      "\n",
      "Number of Iterations....: 10\n",
      "\n",
      "                                   (scaled)                 (unscaled)\n",
      "Objective...............:   0.0000000000000000e+00    0.0000000000000000e+00\n",
      "Dual infeasibility......:   9.3797931196594830e-15    9.3797931196594830e-15\n",
      "Constraint violation....:   2.1799351298525771e-01    2.1799351298525771e-01\n",
      "Complementarity.........:   9.0909090909090920e-10    9.0909090909090920e-10\n",
      "Overall NLP error.......:   2.1799351298525771e-01    2.1799351298525771e-01\n",
      "\n",
      "\n",
      "Number of objective function evaluations             = 35\n",
      "Number of objective gradient evaluations             = 4\n",
      "Number of equality constraint evaluations            = 35\n",
      "Number of inequality constraint evaluations          = 35\n",
      "Number of equality constraint Jacobian evaluations   = 13\n",
      "Number of inequality constraint Jacobian evaluations = 13\n",
      "Number of Lagrangian Hessian evaluations             = 11\n",
      "Total CPU secs in IPOPT (w/o function evaluations)   =      0.018\n",
      "Total CPU secs in NLP function evaluations           =      0.001\n",
      "\n",
      "EXIT: Converged to a point of local infeasibility. Problem may be infeasible.\n",
      "LOCALLY_INFEASIBLE\n",
      "opt_val=0.0\n",
      "  0.025769 seconds (3.87 k allocations: 288.047 KiB)\n"
     ]
    },
    {
     "name": "stderr",
     "output_type": "stream",
     "text": [
      "WARNING: replacing module ctpPOP.\n"
     ]
    },
    {
     "data": {
      "text/plain": [
       "0.0"
      ]
     },
     "execution_count": 45,
     "metadata": {},
     "output_type": "execute_result"
    }
   ],
   "source": [
    "include(\"../src/ctpPOP.jl\")\n",
    "using .ctpPOP\n",
    "\n",
    "optval=ctpPOP.POP_NLP(n,m,l,lmon_g,supp_g,coe_g,lmon_h,supp_h,coe_h,lmon_f,supp_f,coe_f)"
   ]
  },
  {
   "cell_type": "code",
   "execution_count": null,
   "metadata": {},
   "outputs": [],
   "source": []
  }
 ],
 "metadata": {
  "kernelspec": {
   "display_name": "Julia 1.3.0",
   "language": "julia",
   "name": "julia-1.3"
  },
  "language_info": {
   "file_extension": ".jl",
   "mimetype": "application/julia",
   "name": "julia",
   "version": "1.3.0"
  }
 },
 "nbformat": 4,
 "nbformat_minor": 2
}
