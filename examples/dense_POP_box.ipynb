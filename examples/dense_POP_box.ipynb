{
 "cells": [
  {
   "cell_type": "code",
   "execution_count": 42,
   "metadata": {},
   "outputs": [
    {
     "name": "stdout",
     "output_type": "stream",
     "text": [
      "***Problem setting***\n",
      "Number of variable: n=5\n",
      "====================\n",
      "Number of inequality constraints: m=5\n",
      "====================\n",
      "Number of equality constraints: l=0\n"
     ]
    }
   ],
   "source": [
    "using DynamicPolynomials, LinearAlgebra, SparseArrays\n",
    "\n",
    "println(\"***Problem setting***\")\n",
    "\n",
    "n=5\n",
    "\n",
    "println(\"Number of variable: n=\",n)\n",
    "println(\"====================\")\n",
    "\n",
    "@polyvar x[1:n]# variables\n",
    "\n",
    "function generate_random_poly(v)\n",
    "    c=2*rand(Float64,length(v)).-1\n",
    "    return c'*v\n",
    "end\n",
    "# random quadratic objective function f\n",
    "v=reverse(monomials(x,0:2))\n",
    "f=generate_random_poly(v)\n",
    "\n",
    "\n",
    "# unit sphere constraint\n",
    "m=n\n",
    "q=floor(Int64,n/m)\n",
    "R=ones(Float64,m)./n\n",
    "T=[(j-1)*q+1:j*q for j in 1:m-1]\n",
    "append!(T,[(m-1)*q+1:n])\n",
    "\n",
    "g=[R[j]-sum(x[T[j]].^2) for j in 1:m]\n",
    "\n",
    "m=length(g)\n",
    "println(\"Number of inequality constraints: m=\",m)\n",
    "println(\"====================\")\n",
    "\n",
    "l=0#ceil(Int64, n/7)\n",
    "\n",
    "h=Vector{Polynomial{true,Float64}}(undef,l)\n",
    "randx=[2*rand(length(T[j])).-1 for j in 1:m]# create a feasible solution\n",
    "randx=[sqrt(R[j])*rand(1)[1]*randx[j]/norm(randx[j]) for j in 1:m]\n",
    "randx=vcat(randx...)\n",
    "\n",
    "for j in 1:l\n",
    "    h[j]=generate_random_poly(v[2:end])\n",
    "    h[j]-=h[j](x => randx) #make constraints feasible\n",
    "end\n",
    "\n",
    "l=length(h)\n",
    "println(\"Number of equality constraints: l=\",l)"
   ]
  },
  {
   "cell_type": "code",
   "execution_count": 43,
   "metadata": {},
   "outputs": [
    {
     "name": "stderr",
     "output_type": "stream",
     "text": [
      "WARNING: replacing module ctpPOP.\n"
     ]
    }
   ],
   "source": [
    "include(\"../src/ctpPOP.jl\")\n",
    "using .ctpPOP\n",
    "\n",
    "n,m,l,lmon_g,supp_g,coe_g,lmon_h,supp_h,coe_h,lmon_f,supp_f,coe_f,dg,dh=ctpPOP.get_info(x,f,g,h,sparse=false);"
   ]
  },
  {
   "cell_type": "code",
   "execution_count": 44,
   "metadata": {},
   "outputs": [
    {
     "name": "stdout",
     "output_type": "stream",
     "text": [
      "Relaxed order: k=2\n"
     ]
    }
   ],
   "source": [
    "k=2\n",
    "println(\"Relaxed order: k=\",k)"
   ]
  },
  {
   "cell_type": "code",
   "execution_count": 45,
   "metadata": {
    "scrolled": true
   },
   "outputs": [
    {
     "name": "stdout",
     "output_type": "stream",
     "text": [
      "  Computing constant trace status: OPTIMAL\n",
      "  Constant trace: ak = 3.0\n",
      "  Condition number: c = 53.58171329847526\n",
      "  Number of blocks: omega=6\n",
      "  Size of the largest block: s^max=21\n",
      "  Number of equality trace constraints: zeta=211\n",
      "Modeling time:\n",
      "  0.091502 seconds (99.25 k allocations: 5.881 MiB)\n",
      "iter=1   val=-4.2945445060799186   gap=0.08781807914718612   feas=2.0826821984335315\n",
      "iter=2   val=-2.428709681429633   gap=0.16635111910321104   feas=0.735193173393941\n",
      "iter=4   val=-2.616628799000372   gap=0.1286831939328125   feas=0.5267454009235231\n",
      "iter=8   val=-2.436369622994476   gap=0.057405815052456295   feas=0.3784281292637183\n",
      "iter=16   val=-2.40243950368915   gap=0.02277069979736614   feas=0.11836752429764305\n",
      "iter=32   val=-2.3568010043418597   gap=0.001348745135513505   feas=0.024909824941156653\n",
      "iter=64   val=-2.3485909901869446   gap=0.0022909827453151833   feas=0.00718346360126612\n",
      "iter=128   val=-2.3578749312272675   gap=0.0001545516225638798   feas=0.0014767823246609555\n",
      "iter=156   val=-2.35797153279852   gap=0.00012023223990287335   feas=0.0009991832207594804\n",
      "tol satisfies!!!\n",
      "\n",
      "####################################\n",
      "opt_val = -2.35797153279852\n",
      "####################################\n",
      "Solving time:\n",
      "  0.084730 seconds (100.23 k allocations: 9.700 MiB)\n",
      "Total time:\n",
      "  0.176452 seconds (200.02 k allocations: 15.591 MiB)\n"
     ]
    },
    {
     "name": "stderr",
     "output_type": "stream",
     "text": [
      "WARNING: replacing module ctpPOP.\n"
     ]
    },
    {
     "data": {
      "text/plain": [
       "-2.35797153279852"
      ]
     },
     "execution_count": 45,
     "metadata": {},
     "output_type": "execute_result"
    }
   ],
   "source": [
    "include(\"../src/ctpPOP.jl\")\n",
    "using .ctpPOP\n",
    "\n",
    "opt_val1=ctpPOP.POP_dense_CGAL(n,m,l,lmon_g,supp_g,coe_g,lmon_h,supp_h,coe_h,lmon_f,supp_f,coe_f,dg,dh,k,\n",
    "                         maxit=Int64(1e6),tol=1e-3,\n",
    "                         use_eqcons_to_get_constant_trace=false,\n",
    "                         check_tol_each_iter=true)"
   ]
  },
  {
   "cell_type": "code",
   "execution_count": 46,
   "metadata": {},
   "outputs": [
    {
     "name": "stdout",
     "output_type": "stream",
     "text": [
      "**SumOfSquares+Mosek:\n",
      "Problem\n",
      "  Name                   :                 \n",
      "  Objective sense        : max             \n",
      "  Type                   : CONIC (conic optimization problem)\n",
      "  Constraints            : 126             \n",
      "  Cones                  : 0               \n",
      "  Scalar variables       : 1               \n",
      "  Matrix variables       : 6               \n",
      "  Integer variables      : 0               \n",
      "\n",
      "Optimizer started.\n",
      "Presolve started.\n",
      "Linear dependency checker started.\n",
      "Linear dependency checker terminated.\n",
      "Eliminator started.\n",
      "Freed constraints in eliminator : 0\n",
      "Eliminator terminated.\n",
      "Eliminator - tries                  : 1                 time                   : 0.00            \n",
      "Lin. dep.  - tries                  : 1                 time                   : 0.00            \n",
      "Lin. dep.  - number                 : 0               \n",
      "Presolve terminated. Time: 0.00    \n",
      "Problem\n",
      "  Name                   :                 \n",
      "  Objective sense        : max             \n",
      "  Type                   : CONIC (conic optimization problem)\n",
      "  Constraints            : 126             \n",
      "  Cones                  : 0               \n",
      "  Scalar variables       : 1               \n",
      "  Matrix variables       : 6               \n",
      "  Integer variables      : 0               \n",
      "\n",
      "Optimizer  - threads                : 4               \n",
      "Optimizer  - solved problem         : the primal      \n",
      "Optimizer  - Constraints            : 126\n",
      "Optimizer  - Cones                  : 1\n",
      "Optimizer  - Scalar variables       : 2                 conic                  : 2               \n",
      "Optimizer  - Semi-definite variables: 6                 scalarized             : 336             \n",
      "Factor     - setup time             : 0.00              dense det. time        : 0.00            \n",
      "Factor     - ML order time          : 0.00              GP order time          : 0.00            \n",
      "Factor     - nonzeros before factor : 8001              after factor           : 8001            \n",
      "Factor     - dense dim.             : 0                 flops                  : 8.45e+05        \n",
      "ITE PFEAS    DFEAS    GFEAS    PRSTATUS   POBJ              DOBJ              MU       TIME  \n",
      "0   2.2e+00  1.0e+00  1.0e+00  0.00e+00   0.000000000e+00   0.000000000e+00   1.0e+00  0.00  \n",
      "1   7.1e-01  3.2e-01  2.2e-01  -1.88e-01  -1.814521514e+00  -1.872329964e+00  3.2e-01  0.00  \n",
      "2   1.2e-01  5.3e-02  1.2e-02  1.31e+00   -2.173991239e+00  -2.167817894e+00  5.3e-02  0.01  \n",
      "3   1.7e-02  7.6e-03  7.2e-04  1.06e+00   -2.348090328e+00  -2.349184516e+00  7.6e-03  0.01  \n",
      "4   3.5e-04  1.6e-04  2.2e-06  1.04e+00   -2.357733335e+00  -2.357768249e+00  1.6e-04  0.01  \n",
      "5   6.7e-06  3.0e-06  5.9e-09  9.99e-01   -2.358157155e+00  -2.358157878e+00  3.0e-06  0.01  \n",
      "6   4.2e-08  1.9e-08  2.9e-12  1.00e+00   -2.358162048e+00  -2.358162053e+00  1.9e-08  0.01  \n",
      "7   2.5e-09  1.4e-09  4.9e-14  1.00e+00   -2.358162073e+00  -2.358162073e+00  1.3e-09  0.01  \n",
      "Optimizer terminated. Time: 0.01    \n",
      "\n",
      "OPTIMAL\n",
      "opt_val=-2.3581620728217314\n",
      "  0.081767 seconds (136.69 k allocations: 13.059 MiB)\n"
     ]
    },
    {
     "name": "stderr",
     "output_type": "stream",
     "text": [
      "WARNING: replacing module ctpPOP.\n"
     ]
    },
    {
     "data": {
      "text/plain": [
       "-2.3581620728217314"
      ]
     },
     "execution_count": 46,
     "metadata": {},
     "output_type": "execute_result"
    }
   ],
   "source": [
    "include(\"../src/ctpPOP.jl\")\n",
    "using .ctpPOP\n",
    "\n",
    "opt_val2=ctpPOP.POP_dense_SOS(x,f,g,h,k,tol=1e-3)"
   ]
  },
  {
   "cell_type": "code",
   "execution_count": 47,
   "metadata": {},
   "outputs": [
    {
     "name": "stdout",
     "output_type": "stream",
     "text": [
      "This is Ipopt version 3.13.2, running with linear solver mumps.\n",
      "NOTE: Other linear solvers might be more efficient (see Ipopt documentation).\n",
      "\n",
      "Number of nonzeros in equality constraint Jacobian...:        0\n",
      "Number of nonzeros in inequality constraint Jacobian.:        5\n",
      "Number of nonzeros in Lagrangian Hessian.............:       20\n",
      "\n",
      "Total number of variables............................:        5\n",
      "                     variables with only lower bounds:        0\n",
      "                variables with lower and upper bounds:        0\n",
      "                     variables with only upper bounds:        0\n",
      "Total number of equality constraints.................:        0\n",
      "Total number of inequality constraints...............:        5\n",
      "        inequality constraints with only lower bounds:        5\n",
      "   inequality constraints with lower and upper bounds:        0\n",
      "        inequality constraints with only upper bounds:        0\n",
      "\n",
      "iter    objective    inf_pr   inf_du lg(mu)  ||d||  lg(rg) alpha_du alpha_pr  ls\n",
      "   0 -2.2572378e-01 0.00e+00 9.65e-01  -1.0 0.00e+00    -  0.00e+00 0.00e+00   0\n",
      "   1 -5.6407022e+00 1.49e+00 3.64e+00  -1.7 1.30e+00   0.0 1.00e+00 1.00e+00f  1\n",
      "   2 -5.9250702e+00 1.50e+00 3.62e+00  -1.7 4.44e+01  -0.5 1.09e-02 4.73e-03f  1\n",
      "   3 -6.2694231e+00 1.44e+00 3.09e+00  -1.7 1.88e+00  -0.1 1.00e+00 1.43e-01h  1\n",
      "   4 -6.0565904e+00 1.31e+00 2.83e+00  -1.7 6.12e-01    -  1.00e+00 9.01e-02h  1\n",
      "   5 -3.2016930e+00 2.96e-01 1.02e+00  -1.7 5.38e-01    -  1.00e+00 9.74e-01h  1\n",
      "   6 -2.4020146e+00 3.98e-02 3.82e-01  -1.7 2.15e-01    -  1.00e+00 1.00e+00h  1\n",
      "   7 -2.2654835e+00 0.00e+00 5.27e-02  -1.7 4.80e-02    -  1.00e+00 1.00e+00h  1\n",
      "   8 -2.3437133e+00 0.00e+00 2.94e-03  -2.5 2.11e-02    -  1.00e+00 1.00e+00f  1\n",
      "   9 -2.3573768e+00 0.00e+00 1.25e-04  -3.8 4.89e-03    -  1.00e+00 1.00e+00h  1\n",
      "iter    objective    inf_pr   inf_du lg(mu)  ||d||  lg(rg) alpha_du alpha_pr  ls\n",
      "  10 -2.3581528e+00 0.00e+00 3.78e-07  -5.7 2.68e-04    -  1.00e+00 1.00e+00h  1\n",
      "  11 -2.3581621e+00 0.00e+00 4.41e-11  -8.6 2.78e-06    -  1.00e+00 1.00e+00h  1\n",
      "\n",
      "Number of Iterations....: 11\n",
      "\n",
      "                                   (scaled)                 (unscaled)\n",
      "Objective...............:  -2.3581621309890246e+00   -2.3581621309890246e+00\n",
      "Dual infeasibility......:   4.4107717478425457e-11    4.4107717478425457e-11\n",
      "Constraint violation....:   0.0000000000000000e+00    0.0000000000000000e+00\n",
      "Complementarity.........:   2.5261976779719416e-09    2.5261976779719416e-09\n",
      "Overall NLP error.......:   2.5261976779719416e-09    2.5261976779719416e-09\n",
      "\n",
      "\n",
      "Number of objective function evaluations             = 12\n",
      "Number of objective gradient evaluations             = 12\n",
      "Number of equality constraint evaluations            = 0\n",
      "Number of inequality constraint evaluations          = 12\n",
      "Number of equality constraint Jacobian evaluations   = 0\n",
      "Number of inequality constraint Jacobian evaluations = 12\n",
      "Number of Lagrangian Hessian evaluations             = 11\n",
      "Total CPU secs in IPOPT (w/o function evaluations)   =      0.006\n",
      "Total CPU secs in NLP function evaluations           =      0.000\n",
      "\n",
      "EXIT: Optimal Solution Found.\n",
      "LOCALLY_SOLVED\n",
      "opt_val=-2.3581621309890246\n",
      "  0.019690 seconds (3.21 k allocations: 240.188 KiB)\n"
     ]
    },
    {
     "name": "stderr",
     "output_type": "stream",
     "text": [
      "WARNING: replacing module ctpPOP.\n"
     ]
    },
    {
     "data": {
      "text/plain": [
       "-2.3581621309890246"
      ]
     },
     "execution_count": 47,
     "metadata": {},
     "output_type": "execute_result"
    }
   ],
   "source": [
    "include(\"../src/ctpPOP.jl\")\n",
    "using .ctpPOP\n",
    "\n",
    "optval=ctpPOP.POP_NLP(n,m,l,lmon_g,supp_g,coe_g,lmon_h,supp_h,coe_h,lmon_f,supp_f,coe_f)"
   ]
  },
  {
   "cell_type": "code",
   "execution_count": null,
   "metadata": {},
   "outputs": [],
   "source": []
  }
 ],
 "metadata": {
  "kernelspec": {
   "display_name": "Julia 1.3.0",
   "language": "julia",
   "name": "julia-1.3"
  },
  "language_info": {
   "file_extension": ".jl",
   "mimetype": "application/julia",
   "name": "julia",
   "version": "1.3.0"
  }
 },
 "nbformat": 4,
 "nbformat_minor": 2
}
