{
 "cells": [
  {
   "cell_type": "code",
   "execution_count": 1,
   "metadata": {},
   "outputs": [
    {
     "name": "stdout",
     "output_type": "stream",
     "text": [
      "***Problem setting***\n",
      "Number of variable: n=3\n",
      "====================\n",
      "Number of inequality constraints: m=3\n",
      "====================\n",
      "Number of equality constraints: l=1\n"
     ]
    }
   ],
   "source": [
    "using DynamicPolynomials, LinearAlgebra, SparseArrays\n",
    "\n",
    "println(\"***Problem setting***\")\n",
    "\n",
    "n=3\n",
    "\n",
    "println(\"Number of variable: n=\",n)\n",
    "println(\"====================\")\n",
    "\n",
    "@ncpolyvar x[1:n]# variables\n",
    "\n",
    "function star_algebra(mom)\n",
    "    if mom==1\n",
    "        return mom\n",
    "    else\n",
    "        ind=mom.z .>0\n",
    "        vars=mom.vars[ind]\n",
    "        exp=mom.z[ind]\n",
    "        return prod(vars[i]^exp[i] for i in length(exp):-1:1)\n",
    "    end\n",
    "end\n",
    "function generate_random_poly(v)\n",
    "    c=2*rand(Float64,length(v)).-1\n",
    "    return c'*v\n",
    "end\n",
    "# random quadratic objective function f\n",
    "v=reverse(monomials(x,0:2))\n",
    "v+=star_algebra.(v)\n",
    "v=v./2\n",
    "f=generate_random_poly(v)\n",
    "\n",
    "\n",
    "# unit sphere constraint\n",
    "m=n\n",
    "q=floor(Int64,n/m)\n",
    "R=ones(Float64,m)./n\n",
    "T=[(j-1)*q+1:j*q for j in 1:m-1]\n",
    "append!(T,[(m-1)*q+1:n])\n",
    "\n",
    "g=[R[j]-sum(x[T[j]].^2) for j in 1:m]\n",
    "\n",
    "m=length(g)\n",
    "println(\"Number of inequality constraints: m=\",m)\n",
    "println(\"====================\")\n",
    "\n",
    "l=ceil(Int64, n/7)\n",
    "\n",
    "h=Vector{Polynomial{false,Float64}}(undef,l)\n",
    "randx=[2*rand(length(T[j])).-1 for j in 1:m]# create a feasible solution\n",
    "randx=[sqrt(R[j])*rand(1)[1]*randx[j]/norm(randx[j]) for j in 1:m]\n",
    "randx=vcat(randx...)\n",
    "\n",
    "for j in 1:l\n",
    "    h[j]=generate_random_poly(v[2:end])\n",
    "    h[j]-=h[j](x => randx) #make constraints feasible\n",
    "end\n",
    "\n",
    "l=length(h)\n",
    "println(\"Number of equality constraints: l=\",l)"
   ]
  },
  {
   "cell_type": "code",
   "execution_count": 2,
   "metadata": {},
   "outputs": [],
   "source": [
    "include(\"../src/ctpNCPOP.jl\")\n",
    "using .ctpNCPOP\n",
    "\n",
    "n,m,l,lmon_g,supp_g,coe_g,lmon_h,supp_h,coe_h,lmon_f,supp_f,coe_f,dg,dh=ctpNCPOP.get_info(x,f,g,h);"
   ]
  },
  {
   "cell_type": "code",
   "execution_count": 3,
   "metadata": {},
   "outputs": [
    {
     "name": "stdout",
     "output_type": "stream",
     "text": [
      "Relaxed order: k=2\n"
     ]
    }
   ],
   "source": [
    "k=2\n",
    "println(\"Relaxed order: k=\",k)"
   ]
  },
  {
   "cell_type": "code",
   "execution_count": 4,
   "metadata": {
    "scrolled": true
   },
   "outputs": [
    {
     "name": "stderr",
     "output_type": "stream",
     "text": [
      "WARNING: replacing module ctpNCPOP.\n",
      "┌ Warning: `with_optimizer` is deprecated. Adapt the following example to update your code:\n",
      "│ `with_optimizer(Ipopt.Optimizer, max_cpu_time=60.0)` becomes `optimizer_with_attributes(Ipopt.Optimizer, \"max_cpu_time\" => 60.0)`.\n",
      "│   caller = ip:0x0\n",
      "└ @ Core :-1\n"
     ]
    },
    {
     "name": "stdout",
     "output_type": "stream",
     "text": [
      "  Computing constant trace status: OPTIMAL\n",
      "  Constant trace: ak = 2.9999999999999996\n",
      "  Number of blocks: omega=4\n",
      "  Size of the largest block: s^max=13\n",
      "  Number of equality trace constraints: zeta=59\n",
      "Modeling time:\n",
      " 22.643110 seconds (47.69 M allocations: 2.341 GiB, 6.34% gc time)\n",
      "iter=1   val=-2.9337248060116368   gap=0.008278432771066753   feas=3.8679044086554337\n",
      "iter=2   val=-0.7472735650308815   gap=0.36643295845590323   feas=1.2494448508985363\n",
      "iter=4   val=-0.7961716021403527   gap=0.24689461586687234   feas=1.2902882551710395\n",
      "iter=8   val=-0.26790291133538413   gap=0.01816262645910669   feas=0.794545028397422\n",
      "iter=16   val=0.22654883180875005   gap=0.037160430600511093   feas=0.3399857777928634\n",
      "iter=32   val=0.3525888795523007   gap=0.08695172537920554   feas=0.15727906838631037\n",
      "iter=64   val=0.3817172647666482   gap=0.03650598785066348   feas=0.07028823542653685\n",
      "iter=128   val=0.41267432784271013   gap=0.03135474837016494   feas=0.02385476311853516\n",
      "iter=256   val=0.4197611809237434   gap=0.004280976438163759   feas=0.009062929980215025\n",
      "iter=512   val=0.42449486492514943   gap=0.018523950230395516   feas=0.0026121615165431546\n",
      "iter=1024   val=0.42509077255372946   gap=0.01100265451847545   feas=0.0005927321451290425\n",
      "iter=2048   val=0.42507216138499604   gap=0.0077562463671638675   feas=0.000395657648267401\n",
      "iter=4096   val=0.42487802358308857   gap=0.00035136179006981313   feas=0.0005516558073618563\n",
      "iter=8192   val=0.4246488560476623   gap=0.0007975576370535439   feas=0.00030889482421565193\n",
      "iter=16384   val=0.4247440584143236   gap=0.0004565564766163097   feas=9.560203440461232e-5\n",
      "iter=19126   val=0.42473794709583407   gap=7.168552022645645e-5   feas=9.984365324009757e-5\n",
      "tol satisfies!!!\n",
      "\n",
      "####################################\n",
      "opt_val = 0.42473794709583407\n",
      "####################################\n",
      "Solving time:\n",
      "  5.928529 seconds (8.27 M allocations: 613.253 MiB, 3.17% gc time)\n",
      "Total time:\n",
      " 28.614683 seconds (56.00 M allocations: 2.942 GiB, 5.67% gc time)\n"
     ]
    },
    {
     "data": {
      "text/plain": [
       "0.42473794709583407"
      ]
     },
     "execution_count": 4,
     "metadata": {},
     "output_type": "execute_result"
    }
   ],
   "source": [
    "include(\"../src/ctpNCPOP.jl\")\n",
    "using .ctpNCPOP\n",
    "\n",
    "opt_val1=ctpNCPOP.POP_dense_CGAL(n,m,l,lmon_g,supp_g,coe_g,lmon_h,supp_h,coe_h,lmon_f,supp_f,coe_f,dg,dh,k,\n",
    "                                 maxit=Int64(1e6),tol=1e-4,\n",
    "                                 use_eqcons_to_get_constant_trace=false,\n",
    "                                 check_tol_each_iter=true)"
   ]
  },
  {
   "cell_type": "code",
   "execution_count": null,
   "metadata": {},
   "outputs": [],
   "source": []
  },
  {
   "cell_type": "code",
   "execution_count": 5,
   "metadata": {},
   "outputs": [
    {
     "name": "stdout",
     "output_type": "stream",
     "text": [
      "------------------------------------------------------\n",
      "The sizes of blocks:\n",
      "[13]\n",
      "[1]\n",
      "------------------------------------------------------\n",
      "Problem\n",
      "  Name                   :                 \n",
      "  Objective sense        : max             \n",
      "  Type                   : CONIC (conic optimization problem)\n",
      "  Constraints            : 73              \n",
      "  Cones                  : 0               \n",
      "  Scalar variables       : 11              \n",
      "  Matrix variables       : 4               \n",
      "  Integer variables      : 0               \n",
      "\n",
      "Optimizer started.\n",
      "Presolve started.\n",
      "Linear dependency checker started.\n",
      "Linear dependency checker terminated.\n",
      "Eliminator started.\n",
      "Freed constraints in eliminator : 0\n",
      "Eliminator terminated.\n",
      "Eliminator - tries                  : 1                 time                   : 0.00            \n",
      "Lin. dep.  - tries                  : 1                 time                   : 0.00            \n",
      "Lin. dep.  - number                 : 0               \n",
      "Presolve terminated. Time: 0.00    \n",
      "Problem\n",
      "  Name                   :                 \n",
      "  Objective sense        : max             \n",
      "  Type                   : CONIC (conic optimization problem)\n",
      "  Constraints            : 73              \n",
      "  Cones                  : 0               \n",
      "  Scalar variables       : 11              \n",
      "  Matrix variables       : 4               \n",
      "  Integer variables      : 0               \n",
      "\n",
      "Optimizer  - threads                : 4               \n",
      "Optimizer  - solved problem         : the primal      \n",
      "Optimizer  - Constraints            : 73\n",
      "Optimizer  - Cones                  : 1\n",
      "Optimizer  - Scalar variables       : 12                conic                  : 12              \n",
      "Optimizer  - Semi-definite variables: 4                 scalarized             : 121             \n",
      "Factor     - setup time             : 0.00              dense det. time        : 0.00            \n",
      "Factor     - ML order time          : 0.00              GP order time          : 0.00            \n",
      "Factor     - nonzeros before factor : 2701              after factor           : 2701            \n",
      "Factor     - dense dim.             : 0                 flops                  : 1.68e+05        \n",
      "ITE PFEAS    DFEAS    GFEAS    PRSTATUS   POBJ              DOBJ              MU       TIME  \n",
      "0   1.7e+00  1.0e+00  1.0e+00  0.00e+00   0.000000000e+00   0.000000000e+00   1.0e+00  0.00  \n",
      "1   5.1e-01  3.1e-01  1.2e-01  1.10e+00   3.453192119e-02   1.522609879e-01   3.1e-01  0.00  \n",
      "2   8.9e-02  5.3e-02  7.2e-03  1.42e+00   4.174621811e-01   4.344382250e-01   5.3e-02  0.00  \n",
      "3   2.2e-02  1.3e-02  8.4e-04  1.08e+00   4.331211505e-01   4.372727930e-01   1.3e-02  0.00  \n",
      "4   5.9e-03  3.6e-03  1.2e-04  1.07e+00   4.248470258e-01   4.258319306e-01   3.6e-03  0.00  \n",
      "5   8.6e-04  5.2e-04  6.8e-06  1.03e+00   4.250229467e-01   4.251609975e-01   5.2e-04  0.01  \n",
      "6   5.1e-05  3.1e-05  9.8e-08  1.00e+00   4.247211352e-01   4.247291097e-01   3.1e-05  0.01  \n",
      "7   2.1e-06  1.3e-06  8.2e-10  1.00e+00   4.247120311e-01   4.247123631e-01   1.3e-06  0.01  \n",
      "8   9.6e-08  5.8e-08  8.0e-12  1.00e+00   4.247120017e-01   4.247120170e-01   5.8e-08  0.01  \n",
      "9   1.9e-09  1.2e-09  2.2e-14  1.00e+00   4.247120082e-01   4.247120085e-01   1.2e-09  0.01  \n",
      "Optimizer terminated. Time: 0.01    \n",
      "\n",
      "optimum = 0.42471200824292904\n",
      " 13.607031 seconds (24.53 M allocations: 1.199 GiB, 4.97% gc time)\n"
     ]
    }
   ],
   "source": [
    "using NCTSSOS\n",
    "\n",
    "@time ctpNCPOP.nctssos_first(Vector{Vector{Vector{UInt16}}}([[supp_f];supp_g;supp_h]),[[coe_f];coe_g;coe_h],\n",
    "    n,k,[dg;dh],numeq=l,reducebasis=false,obj=\"eigen\",merge=false,TS=false,QUIET=false);"
   ]
  },
  {
   "cell_type": "code",
   "execution_count": null,
   "metadata": {},
   "outputs": [],
   "source": []
  }
 ],
 "metadata": {
  "kernelspec": {
   "display_name": "Julia 1.3.0",
   "language": "julia",
   "name": "julia-1.3"
  },
  "language_info": {
   "file_extension": ".jl",
   "mimetype": "application/julia",
   "name": "julia",
   "version": "1.3.0"
  }
 },
 "nbformat": 4,
 "nbformat_minor": 2
}
