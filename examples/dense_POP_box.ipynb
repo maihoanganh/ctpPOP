{
 "cells": [
  {
   "cell_type": "code",
   "execution_count": 1,
   "metadata": {},
   "outputs": [
    {
     "name": "stdout",
     "output_type": "stream",
     "text": [
      "***Problem setting***\n",
      "Number of variable: n=5\n",
      "====================\n",
      "Number of inequality constraints: m=5\n",
      "====================\n",
      "Number of equality constraints: l=0\n"
     ]
    }
   ],
   "source": [
    "using DynamicPolynomials, LinearAlgebra, SparseArrays\n",
    "\n",
    "println(\"***Problem setting***\")\n",
    "\n",
    "n=5\n",
    "\n",
    "println(\"Number of variable: n=\",n)\n",
    "println(\"====================\")\n",
    "\n",
    "@polyvar x[1:n]# variables\n",
    "\n",
    "function generate_random_poly(v)\n",
    "    c=2*rand(Float64,length(v)).-1\n",
    "    return c'*v\n",
    "end\n",
    "# random quadratic objective function f\n",
    "v=reverse(monomials(x,0:2))\n",
    "f=generate_random_poly(v)\n",
    "\n",
    "\n",
    "# unit sphere constraint\n",
    "m=n\n",
    "q=floor(Int64,n/m)\n",
    "R=ones(Float64,m)./n\n",
    "T=[(j-1)*q+1:j*q for j in 1:m-1]\n",
    "append!(T,[(m-1)*q+1:n])\n",
    "\n",
    "g=[R[j]-sum(x[T[j]].^2) for j in 1:m]\n",
    "\n",
    "m=length(g)\n",
    "println(\"Number of inequality constraints: m=\",m)\n",
    "println(\"====================\")\n",
    "\n",
    "l=0#ceil(Int64, n/7)\n",
    "\n",
    "h=Vector{Polynomial{true,Float64}}(undef,l)\n",
    "randx=[2*rand(length(T[j])).-1 for j in 1:m]# create a feasible solution\n",
    "randx=[sqrt(R[j])*rand(1)[1]*randx[j]/norm(randx[j]) for j in 1:m]\n",
    "randx=vcat(randx...)\n",
    "\n",
    "for j in 1:l\n",
    "    h[j]=generate_random_poly(v[2:end])\n",
    "    h[j]-=h[j](x => randx) #make constraints feasible\n",
    "end\n",
    "\n",
    "l=length(h)\n",
    "println(\"Number of equality constraints: l=\",l)"
   ]
  },
  {
   "cell_type": "code",
   "execution_count": 2,
   "metadata": {},
   "outputs": [
    {
     "name": "stderr",
     "output_type": "stream",
     "text": [
      "┌ Info: Precompiling ctpPOP [8dd00c7b-d197-4c04-bcb1-2ef5c20236b2]\n",
      "└ @ Base loading.jl:1273\n",
      "┌ Warning: Package ctpPOP does not have LightGraphs in its dependencies:\n",
      "│ - If you have ctpPOP checked out for development and have\n",
      "│   added LightGraphs as a dependency but haven't updated your primary\n",
      "│   environment's manifest file, try `Pkg.resolve()`.\n",
      "│ - Otherwise you may need to report an issue with ctpPOP\n",
      "└ Loading LightGraphs into ctpPOP from project dependency, future warnings for ctpPOP are suppressed.\n"
     ]
    }
   ],
   "source": [
    "using ctpPOP\n",
    "\n",
    "n,m,l,lmon_g,supp_g,coe_g,lmon_h,supp_h,coe_h,lmon_f,supp_f,coe_f,dg,dh=ctpPOP.get_info(x,f,g,h,sparse=false);"
   ]
  },
  {
   "cell_type": "code",
   "execution_count": 3,
   "metadata": {},
   "outputs": [
    {
     "name": "stdout",
     "output_type": "stream",
     "text": [
      "Relaxed order: k=2\n"
     ]
    }
   ],
   "source": [
    "k=2\n",
    "println(\"Relaxed order: k=\",k)"
   ]
  },
  {
   "cell_type": "code",
   "execution_count": 4,
   "metadata": {
    "scrolled": true
   },
   "outputs": [
    {
     "name": "stderr",
     "output_type": "stream",
     "text": [
      "┌ Warning: `with_optimizer` is deprecated. Adapt the following example to update your code:\n",
      "│ `with_optimizer(Ipopt.Optimizer, max_cpu_time=60.0)` becomes `optimizer_with_attributes(Ipopt.Optimizer, \"max_cpu_time\" => 60.0)`.\n",
      "│   caller = ip:0x0\n",
      "└ @ Core :-1\n"
     ]
    },
    {
     "name": "stdout",
     "output_type": "stream",
     "text": [
      "  Computing constant trace status: OPTIMAL\n",
      "  Constant trace: ak = 3.0\n",
      "  Number of blocks: omega=6\n",
      "  Size of the largest block: s^max=21\n",
      "  Number of equality trace constraints: zeta=211\n",
      "Modeling time:\n",
      " 15.773055 seconds (49.72 M allocations: 2.441 GiB, 6.48% gc time)\n",
      "iter=1   val=-3.976297117223254   gap=0.0009240987698501636   feas=3.3906376019915965\n",
      "iter=2   val=-1.660149868275019   gap=0.5705762781135936   feas=0.8159604901765637\n",
      "iter=4   val=-1.4536005148985913   gap=0.42715922172136234   feas=0.8565159675754054\n",
      "iter=8   val=-1.186612461800377   gap=0.285824863440713   feas=0.34604887996312667\n",
      "iter=16   val=-1.1870602374679795   gap=0.03504571633975418   feas=0.22083295615884724\n",
      "iter=32   val=-1.1144347625049458   gap=0.06673682906569083   feas=0.10709339999338986\n",
      "iter=64   val=-1.13869735482517   gap=0.13964217447441887   feas=0.026205226809281976\n",
      "iter=128   val=-1.1704704445526133   gap=0.007520649609154053   feas=0.014456837377760844\n",
      "iter=256   val=-1.1909757996145913   gap=0.003796644656461108   feas=0.005238052536555392\n",
      "iter=512   val=-1.200270021458657   gap=0.0025124396841210914   feas=0.000690312644926468\n",
      "iter=824   val=-1.2036023038987582   gap=0.0009985234826186311   feas=0.00026564067508794674\n",
      "tol satisfies!!!\n",
      "\n",
      "####################################\n",
      "opt_val = -1.2036023038987582\n",
      "####################################\n",
      "Solving time:\n",
      "  0.621566 seconds (1.63 M allocations: 108.365 MiB, 5.37% gc time)\n",
      "Total time:\n",
      " 16.418721 seconds (51.40 M allocations: 2.549 GiB, 6.43% gc time)\n"
     ]
    },
    {
     "data": {
      "text/plain": [
       "-1.2036023038987582"
      ]
     },
     "execution_count": 4,
     "metadata": {},
     "output_type": "execute_result"
    }
   ],
   "source": [
    "using ctpPOP\n",
    "\n",
    "opt_val1=ctpPOP.POP_dense_CGAL(n,m,l,lmon_g,supp_g,coe_g,lmon_h,supp_h,coe_h,lmon_f,supp_f,coe_f,dg,dh,k,\n",
    "                         maxit=Int64(1e6),tol=1e-3,\n",
    "                         use_eqcons_to_get_constant_trace=false,\n",
    "                         check_tol_each_iter=true)"
   ]
  },
  {
   "cell_type": "code",
   "execution_count": 5,
   "metadata": {},
   "outputs": [
    {
     "name": "stdout",
     "output_type": "stream",
     "text": [
      "Problem\n",
      "  Name                   :                 \n",
      "  Objective sense        : max             \n",
      "  Type                   : CONIC (conic optimization problem)\n",
      "  Constraints            : 126             \n",
      "  Cones                  : 0               \n",
      "  Scalar variables       : 1               \n",
      "  Matrix variables       : 6               \n",
      "  Integer variables      : 0               \n",
      "\n",
      "Optimizer started.\n",
      "Presolve started.\n",
      "Linear dependency checker started.\n",
      "Linear dependency checker terminated.\n",
      "Eliminator started.\n",
      "Freed constraints in eliminator : 0\n",
      "Eliminator terminated.\n",
      "Eliminator - tries                  : 1                 time                   : 0.00            \n",
      "Lin. dep.  - tries                  : 1                 time                   : 0.00            \n",
      "Lin. dep.  - number                 : 0               \n",
      "Presolve terminated. Time: 0.00    \n",
      "Problem\n",
      "  Name                   :                 \n",
      "  Objective sense        : max             \n",
      "  Type                   : CONIC (conic optimization problem)\n",
      "  Constraints            : 126             \n",
      "  Cones                  : 0               \n",
      "  Scalar variables       : 1               \n",
      "  Matrix variables       : 6               \n",
      "  Integer variables      : 0               \n",
      "\n",
      "Optimizer  - threads                : 4               \n",
      "Optimizer  - solved problem         : the primal      \n",
      "Optimizer  - Constraints            : 126\n",
      "Optimizer  - Cones                  : 1\n",
      "Optimizer  - Scalar variables       : 2                 conic                  : 2               \n",
      "Optimizer  - Semi-definite variables: 6                 scalarized             : 336             \n",
      "Factor     - setup time             : 0.00              dense det. time        : 0.00            \n",
      "Factor     - ML order time          : 0.00              GP order time          : 0.00            \n",
      "Factor     - nonzeros before factor : 8001              after factor           : 8001            \n",
      "Factor     - dense dim.             : 0                 flops                  : 8.45e+05        \n",
      "ITE PFEAS    DFEAS    GFEAS    PRSTATUS   POBJ              DOBJ              MU       TIME  \n",
      "0   2.0e+00  1.0e+00  1.0e+00  0.00e+00   0.000000000e+00   0.000000000e+00   1.0e+00  0.00  \n",
      "1   6.2e-01  3.1e-01  1.7e-01  1.90e-01   -1.218479029e+00  -1.147085437e+00  3.1e-01  0.00  \n",
      "2   9.7e-02  4.9e-02  7.5e-03  1.48e+00   -1.155260450e+00  -1.138236243e+00  4.9e-02  0.00  \n",
      "3   1.9e-02  9.5e-03  7.1e-04  1.18e+00   -1.183102276e+00  -1.181284351e+00  9.5e-03  0.00  \n",
      "4   5.3e-04  2.7e-04  3.5e-06  1.00e+00   -1.205697467e+00  -1.205655960e+00  2.7e-04  0.01  \n",
      "5   9.6e-07  4.8e-07  2.6e-10  1.00e+00   -1.205702275e+00  -1.205702190e+00  4.8e-07  0.01  \n",
      "6   5.1e-10  2.6e-10  3.2e-15  1.00e+00   -1.205702224e+00  -1.205702224e+00  2.6e-10  0.01  \n",
      "Optimizer terminated. Time: 0.01    \n",
      "\n",
      "OPTIMAL\n",
      "opt_val=-1.205702223871009\n",
      "  5.285663 seconds (13.67 M allocations: 707.370 MiB, 4.02% gc time)\n"
     ]
    },
    {
     "data": {
      "text/plain": [
       "-1.205702223871009"
      ]
     },
     "execution_count": 5,
     "metadata": {},
     "output_type": "execute_result"
    }
   ],
   "source": [
    "using ctpPOP\n",
    "\n",
    "opt_val2=ctpPOP.POP_dense_SOS(x,f,g,h,k,tol=1e-3)"
   ]
  },
  {
   "cell_type": "code",
   "execution_count": 6,
   "metadata": {},
   "outputs": [
    {
     "name": "stdout",
     "output_type": "stream",
     "text": [
      "  Computing constant trace status: OPTIMAL\n",
      "  Constant trace: ak = 3.0\n",
      "  Number of blocks: omega=6\n",
      "  Size of the largest block: s^max=21\n",
      "  Number of equality trace constraints: zeta=211\n",
      "Modeling time:\n",
      "  0.005135 seconds (15.08 k allocations: 1.646 MiB)\n",
      "---------------\n",
      "| Parameters: |\n",
      "---------------\n",
      "n:       211\n",
      "maxtime: 300000.000000\n",
      "na:      2\n",
      "mcu:     5\n",
      "mc:      7\n",
      "rpar: \n",
      "ipar: \n",
      " Warning: MC > MCU. Assigned MC = MCU.\n",
      " Entry to LMBM:\n",
      " NIT=    1  NFE=    1  F= 0.59723186D+00  WK= 0.6071D+00  QK= 0.3036D+00\n",
      " NIT=    2  NFE=    2  F= 0.48241043D+00  WK= 0.2593D+00  QK= 0.2176D+00\n",
      " NIT=    3  NFE=    3  F= 0.39247071D+00  WK= 0.8683D-01  QK= 0.6816D-01\n",
      " NIT=    4  NFE=    4  F= 0.30955238D+00  WK= 0.1124D+01  QK= 0.5782D-01\n",
      " Warning: A nondescent search direction occured. Restart.\n",
      " NIT=    5  NFE=    5  F= 0.30955238D+00  WK= 0.1156D+00  QK= 0.5782D-01\n",
      " NIT=    6  NFE=    6  F= 0.21898998D+00  WK= 0.8340D-01  QK= 0.1726D+00\n",
      " NIT=    7  NFE=    7  F= 0.21898998D+00  WK= 0.3152D-01  QK= 0.2506D-01\n",
      " NIT=    8  NFE=    8  F= 0.21024023D+00  WK= 0.3829D-01  QK= 0.1297D+00\n",
      " NIT=    9  NFE=    9  F= 0.20626609D+00  WK= 0.6100D-02  QK= 0.4469D-01\n",
      " NIT=   10  NFE=   10  F= 0.20037444D+00  WK= 0.1144D+00  QK= 0.3994D-01\n",
      " Warning: A nondescent search direction occured. Restart.\n",
      " NIT=   11  NFE=   11  F= 0.20037444D+00  WK= 0.7989D-01  QK= 0.3994D-01\n",
      " NIT=   12  NFE=   12  F= 0.20037444D+00  WK= 0.3087D-01  QK= 0.1576D-01\n",
      " NIT=   13  NFE=   13  F= 0.19258295D+00  WK= 0.2863D-02  QK= 0.7645D-02\n",
      " NIT=   14  NFE=   14  F= 0.19258295D+00  WK= 0.5005D-02  QK= 0.7045D-02\n",
      " NIT=   15  NFE=   15  F= 0.18879182D+00  WK= 0.6298D-02  QK= 0.3996D-02\n",
      " NIT=   16  NFE=   16  F= 0.18879182D+00  WK= 0.3096D-02  QK= 0.8581D-02\n",
      " NIT=   17  NFE=   17  F= 0.18721411D+00  WK= 0.1055D-01  QK= 0.1519D-01\n",
      " Warning: A nondescent search direction occured. Restart.\n",
      " NIT=   18  NFE=   18  F= 0.18721411D+00  WK= 0.3038D-01  QK= 0.1519D-01\n",
      " NIT=   19  NFE=   19  F= 0.18721411D+00  WK= 0.1141D-01  QK= 0.5878D-02\n",
      " NIT=   20  NFE=   27  F= 0.18721315D+00  WK= 0.5721D-02  QK= 0.3368D-01\n",
      " NIT=   21  NFE=   28  F= 0.18721315D+00  WK= 0.5949D-02  QK= 0.1053D-01\n",
      " NIT=   22  NFE=   29  F= 0.18717716D+00  WK= 0.5343D-02  QK= 0.3975D-01\n",
      " NIT=   23  NFE=   30  F= 0.18473608D+00  WK= 0.5038D-03  QK= 0.1896D-01\n",
      " NIT=   24  NFE=   31  F= 0.18443234D+00  WK= 0.2203D-03  QK= 0.3626D-02\n",
      " NIT=   25  NFE=   32  F= 0.18422982D+00  WK= 0.1988D-02  QK= 0.1778D-02\n",
      " NIT=   26  NFE=   33  F= 0.18282120D+00  WK= 0.1343D-02  QK= 0.2024D-02\n",
      " Warning: A nondescent search direction occured. Restart.\n",
      " NIT=   27  NFE=   34  F= 0.18282120D+00  WK= 0.4048D-02  QK= 0.2024D-02\n",
      " NIT=   28  NFE=   35  F= 0.18282120D+00  WK= 0.2194D-02  QK= 0.1115D-02\n",
      " NIT=   29  NFE=   36  F= 0.18279453D+00  WK= 0.1600D-02  QK= 0.1475D-01\n",
      " NIT=   30  NFE=   37  F= 0.18279453D+00  WK= 0.1462D-02  QK= 0.6790D-02\n",
      " NIT=   31  NFE=   38  F= 0.18205480D+00  WK= 0.6658D-03  QK= 0.5915D-02\n",
      " NIT=   32  NFE=   39  F= 0.18198714D+00  WK= 0.1161D-02  QK= 0.1475D+00\n",
      " NIT=   33  NFE=   40  F= 0.18179624D+00  WK= 0.1965D-03  QK= 0.8639D-02\n",
      " Exit from LMBM:\n",
      " NIT=   34  NFE=   41  F= 0.18175051D+00  WK= 0.8453D-04  QK= 0.9987D-03  ITERM=  1\n",
      "-----------\n",
      "| Output: |\n",
      "-----------\n",
      "Termination:     1\n",
      "N. iter.:        34\n",
      "N. func. eval.:  41\n",
      "Final value:     0.181751\n",
      "Execution time:  0.052193\n",
      "\n",
      "####################################\n",
      "opt_val = -1.2107334946190855\n",
      "####################################\n",
      "Solving time:\n",
      "  0.265267 seconds (458.19 k allocations: 25.753 MiB)\n",
      "Total time:\n",
      "  0.270522 seconds (473.80 k allocations: 27.409 MiB)\n"
     ]
    },
    {
     "data": {
      "text/plain": [
       "-1.2107334946190855"
      ]
     },
     "execution_count": 6,
     "metadata": {},
     "output_type": "execute_result"
    }
   ],
   "source": [
    "using ctpPOP\n",
    "\n",
    "opt_val=ctpPOP.POP_dense_LMBM(n,m,l,lmon_g,supp_g,coe_g,lmon_h,supp_h,coe_h,lmon_f,supp_f,coe_f,dg,dh,k,\n",
    "                         tol=1e-3,use_eqcons_to_get_constant_trace=false)"
   ]
  },
  {
   "cell_type": "code",
   "execution_count": null,
   "metadata": {},
   "outputs": [],
   "source": [
    "using ctpPOP\n",
    "\n",
    "optval=ctpPOP.POP_NLP(n,m,l,lmon_g,supp_g,coe_g,lmon_h,supp_h,coe_h,lmon_f,supp_f,coe_f)"
   ]
  },
  {
   "cell_type": "code",
   "execution_count": null,
   "metadata": {},
   "outputs": [],
   "source": []
  }
 ],
 "metadata": {
  "kernelspec": {
   "display_name": "Julia 1.3.0",
   "language": "julia",
   "name": "julia-1.3"
  },
  "language_info": {
   "file_extension": ".jl",
   "mimetype": "application/julia",
   "name": "julia",
   "version": "1.3.0"
  }
 },
 "nbformat": 4,
 "nbformat_minor": 2
}
