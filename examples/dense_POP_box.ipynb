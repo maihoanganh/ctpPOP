{
 "cells": [
  {
   "cell_type": "code",
   "execution_count": 17,
   "metadata": {},
   "outputs": [
    {
     "name": "stdout",
     "output_type": "stream",
     "text": [
      "***Problem setting***\n",
      "Number of variable: n=5\n",
      "====================\n",
      "Number of inequality constraints: m=5\n",
      "====================\n",
      "Number of equality constraints: l=0\n"
     ]
    }
   ],
   "source": [
    "using DynamicPolynomials, LinearAlgebra, SparseArrays\n",
    "\n",
    "println(\"***Problem setting***\")\n",
    "\n",
    "n=5\n",
    "\n",
    "println(\"Number of variable: n=\",n)\n",
    "println(\"====================\")\n",
    "\n",
    "@polyvar x[1:n]# variables\n",
    "\n",
    "function generate_random_poly(v)\n",
    "    c=2*rand(Float64,length(v)).-1\n",
    "    return c'*v\n",
    "end\n",
    "# random quadratic objective function f\n",
    "v=reverse(monomials(x,0:2))\n",
    "f=generate_random_poly(v)\n",
    "\n",
    "\n",
    "# unit sphere constraint\n",
    "m=n\n",
    "q=floor(Int64,n/m)\n",
    "R=ones(Float64,m)./n\n",
    "T=[(j-1)*q+1:j*q for j in 1:m-1]\n",
    "append!(T,[(m-1)*q+1:n])\n",
    "\n",
    "g=[R[j]-sum(x[T[j]].^2) for j in 1:m]\n",
    "\n",
    "m=length(g)\n",
    "println(\"Number of inequality constraints: m=\",m)\n",
    "println(\"====================\")\n",
    "\n",
    "l=0#ceil(Int64, n/7)\n",
    "\n",
    "h=Vector{Polynomial{true,Float64}}(undef,l)\n",
    "randx=[2*rand(length(T[j])).-1 for j in 1:m]# create a feasible solution\n",
    "randx=[sqrt(R[j])*rand(1)[1]*randx[j]/norm(randx[j]) for j in 1:m]\n",
    "randx=vcat(randx...)\n",
    "\n",
    "for j in 1:l\n",
    "    h[j]=generate_random_poly(v[2:end])\n",
    "    h[j]-=h[j](x => randx) #make constraints feasible\n",
    "end\n",
    "\n",
    "l=length(h)\n",
    "println(\"Number of equality constraints: l=\",l)"
   ]
  },
  {
   "cell_type": "code",
   "execution_count": 18,
   "metadata": {},
   "outputs": [
    {
     "name": "stderr",
     "output_type": "stream",
     "text": [
      "WARNING: replacing module ctpPOP.\n"
     ]
    }
   ],
   "source": [
    "include(\"../src/ctpPOP.jl\")\n",
    "using .ctpPOP\n",
    "\n",
    "n,m,l,lmon_g,supp_g,coe_g,lmon_h,supp_h,coe_h,lmon_f,supp_f,coe_f,dg,dh=ctpPOP.get_info(x,f,g,h,sparse=false);"
   ]
  },
  {
   "cell_type": "code",
   "execution_count": 19,
   "metadata": {},
   "outputs": [
    {
     "name": "stdout",
     "output_type": "stream",
     "text": [
      "Relaxed order: k=2\n"
     ]
    }
   ],
   "source": [
    "k=2\n",
    "println(\"Relaxed order: k=\",k)"
   ]
  },
  {
   "cell_type": "code",
   "execution_count": 20,
   "metadata": {
    "scrolled": true
   },
   "outputs": [
    {
     "name": "stdout",
     "output_type": "stream",
     "text": [
      "  Computing constant trace status: OPTIMAL\n",
      "  Constant trace: ak = 3.0\n",
      "  Condition number: c = 53.58171329847526\n",
      "  Number of blocks: omega=6\n",
      "  Size of the largest block: s^max=21\n",
      "  Number of equality trace constraints: zeta=211\n",
      "Modeling time:\n",
      "  0.088057 seconds (99.25 k allocations: 5.881 MiB)\n",
      "iter=1   val=-4.626648970682034   gap=0.10854332421320054   feas=1.7856365087299342\n",
      "iter=2   val=-3.99990347812702   gap=0.04243929541670475   feas=1.9587321895558694\n",
      "iter=4   val=-3.4957526870131925   gap=0.05201378848607257   feas=1.132600196530711\n",
      "iter=8   val=-2.8427160391358415   gap=0.12108277404029939   feas=0.3374563918325334\n",
      "iter=16   val=-2.8034988107457712   gap=0.013993114839455407   feas=0.06618886423418387\n",
      "iter=32   val=-2.8581801404365366   gap=0.007995749369892117   feas=0.01264350686328856\n",
      "iter=64   val=-2.883439023317851   gap=0.001750880323229955   feas=0.003114683315982599\n",
      "iter=113   val=-2.8891473838001582   gap=0.0005634715958098924   feas=0.0009927095325137619\n",
      "tol satisfies!!!\n",
      "\n",
      "####################################\n",
      "opt_val = -2.8891473838001582\n",
      "####################################\n",
      "Solving time:\n",
      "  0.059821 seconds (73.06 k allocations: 7.037 MiB)\n",
      "Total time:\n",
      "  0.148072 seconds (172.84 k allocations: 12.929 MiB)\n"
     ]
    },
    {
     "name": "stderr",
     "output_type": "stream",
     "text": [
      "WARNING: replacing module ctpPOP.\n"
     ]
    },
    {
     "data": {
      "text/plain": [
       "-2.8891473838001582"
      ]
     },
     "execution_count": 20,
     "metadata": {},
     "output_type": "execute_result"
    }
   ],
   "source": [
    "include(\"../src/ctpPOP.jl\")\n",
    "using .ctpPOP\n",
    "\n",
    "opt_val1=ctpPOP.POP_dense_CGAL(n,m,l,lmon_g,supp_g,coe_g,lmon_h,supp_h,coe_h,lmon_f,supp_f,coe_f,dg,dh,k,\n",
    "                         maxit=Int64(1e6),tol=1e-3,\n",
    "                         use_eqcons_to_get_constant_trace=false,\n",
    "                         check_tol_each_iter=true)"
   ]
  },
  {
   "cell_type": "code",
   "execution_count": 21,
   "metadata": {},
   "outputs": [
    {
     "name": "stdout",
     "output_type": "stream",
     "text": [
      "**SumOfSquares+Mosek:\n",
      "Problem\n",
      "  Name                   :                 \n",
      "  Objective sense        : max             \n",
      "  Type                   : CONIC (conic optimization problem)\n",
      "  Constraints            : 126             \n",
      "  Cones                  : 0               \n",
      "  Scalar variables       : 1               \n",
      "  Matrix variables       : 6               \n",
      "  Integer variables      : 0               \n",
      "\n",
      "Optimizer started.\n",
      "Presolve started.\n",
      "Linear dependency checker started.\n",
      "Linear dependency checker terminated.\n",
      "Eliminator started.\n",
      "Freed constraints in eliminator : 0\n",
      "Eliminator terminated.\n",
      "Eliminator - tries                  : 1                 time                   : 0.00            \n",
      "Lin. dep.  - tries                  : 1                 time                   : 0.00            \n",
      "Lin. dep.  - number                 : 0               \n",
      "Presolve terminated. Time: 0.00    \n",
      "Problem\n",
      "  Name                   :                 \n",
      "  Objective sense        : max             \n",
      "  Type                   : CONIC (conic optimization problem)\n",
      "  Constraints            : 126             \n",
      "  Cones                  : 0               \n",
      "  Scalar variables       : 1               \n",
      "  Matrix variables       : 6               \n",
      "  Integer variables      : 0               \n",
      "\n",
      "Optimizer  - threads                : 4               \n",
      "Optimizer  - solved problem         : the primal      \n",
      "Optimizer  - Constraints            : 126\n",
      "Optimizer  - Cones                  : 1\n",
      "Optimizer  - Scalar variables       : 2                 conic                  : 2               \n",
      "Optimizer  - Semi-definite variables: 6                 scalarized             : 336             \n",
      "Factor     - setup time             : 0.00              dense det. time        : 0.00            \n",
      "Factor     - ML order time          : 0.00              GP order time          : 0.00            \n",
      "Factor     - nonzeros before factor : 8001              after factor           : 8001            \n",
      "Factor     - dense dim.             : 0                 flops                  : 8.45e+05        \n",
      "ITE PFEAS    DFEAS    GFEAS    PRSTATUS   POBJ              DOBJ              MU       TIME  \n",
      "0   2.8e+00  1.0e+00  1.0e+00  0.00e+00   0.000000000e+00   0.000000000e+00   1.0e+00  0.00  \n",
      "1   8.3e-01  3.0e-01  2.3e-01  -6.78e-01  -2.076283233e+00  -2.263412844e+00  3.0e-01  0.00  \n",
      "2   2.1e-01  7.5e-02  2.5e-02  1.42e+00   -2.528937511e+00  -2.557007492e+00  7.5e-02  0.00  \n",
      "3   1.1e-02  3.8e-03  2.9e-04  9.54e-01   -2.888090222e+00  -2.889940887e+00  3.8e-03  0.01  \n",
      "4   1.2e-04  4.4e-05  3.7e-07  1.03e+00   -2.891708847e+00  -2.891734564e+00  4.4e-05  0.01  \n",
      "5   2.5e-06  9.2e-07  1.1e-09  1.00e+00   -2.891795949e+00  -2.891796445e+00  9.2e-07  0.01  \n",
      "6   8.3e-09  3.0e-09  2.1e-13  1.00e+00   -2.891796848e+00  -2.891796850e+00  3.0e-09  0.01  \n",
      "Optimizer terminated. Time: 0.01    \n",
      "\n",
      "OPTIMAL\n",
      "opt_val=-2.891796848125\n",
      "  0.075432 seconds (136.67 k allocations: 13.056 MiB)\n"
     ]
    },
    {
     "name": "stderr",
     "output_type": "stream",
     "text": [
      "WARNING: replacing module ctpPOP.\n"
     ]
    },
    {
     "data": {
      "text/plain": [
       "-2.891796848125"
      ]
     },
     "execution_count": 21,
     "metadata": {},
     "output_type": "execute_result"
    }
   ],
   "source": [
    "include(\"../src/ctpPOP.jl\")\n",
    "using .ctpPOP\n",
    "\n",
    "opt_val2=ctpPOP.POP_dense_SOS(x,f,g,h,k,tol=1e-3)"
   ]
  },
  {
   "cell_type": "code",
   "execution_count": 22,
   "metadata": {},
   "outputs": [
    {
     "name": "stdout",
     "output_type": "stream",
     "text": [
      "  Computing constant trace status: OPTIMAL\n",
      "  Constant trace: ak = 3.0\n",
      "  Condition number: c = 53.58171329847526\n",
      "  Number of blocks: omega=6\n",
      "  Size of the largest block: s^max=21\n",
      "  Number of equality trace constraints: zeta=211\n",
      "Modeling time:\n",
      "  0.095890 seconds (99.25 k allocations: 5.881 MiB)\n"
     ]
    },
    {
     "name": "stderr",
     "output_type": "stream",
     "text": [
      "WARNING: replacing module ctpPOP.\n"
     ]
    },
    {
     "name": "stdout",
     "output_type": "stream",
     "text": [
      "---------------\n",
      "| Parameters: |\n",
      "---------------\n",
      "n:       211\n",
      "maxtime: 300000.000000\n",
      "na:      2\n",
      "mcu:     5\n",
      "mc:      7\n",
      "rpar: \n",
      "ipar: \n",
      " Warning: MC > MCU. Assigned MC = MCU.\n",
      " Entry to LMBM:\n",
      " NIT=    1  NFE=    1  F= 0.69924293D+00  WK= 0.3593D+00  QK= 0.1797D+00\n",
      " NIT=    2  NFE=    2  F= 0.59661455D+00  WK= 0.7315D-01  QK= 0.7504D-01\n",
      " NIT=    3  NFE=    3  F= 0.52755316D+00  WK= 0.9321D+00  QK= 0.6791D-01\n",
      " Warning: A nondescent search direction occured. Restart.\n",
      " NIT=    4  NFE=    4  F= 0.52755316D+00  WK= 0.1358D+00  QK= 0.6791D-01\n",
      " NIT=    5  NFE=    5  F= 0.52755316D+00  WK= 0.1097D+00  QK= 0.5509D-01\n",
      " NIT=    6  NFE=    6  F= 0.45814692D+00  WK= 0.6093D-01  QK= 0.2146D-01\n",
      " NIT=    7  NFE=    7  F= 0.45814692D+00  WK= 0.4412D-01  QK= 0.2488D-01\n",
      " NIT=    8  NFE=    8  F= 0.45719838D+00  WK= 0.4136D-01  QK= 0.2554D+00\n",
      " NIT=    9  NFE=    9  F= 0.43205007D+00  WK= 0.8332D-02  QK= 0.1648D-01\n",
      " NIT=   10  NFE=   10  F= 0.42595471D+00  WK= 0.1692D-01  QK= 0.1717D-01\n",
      " NIT=   11  NFE=   11  F= 0.42211032D+00  WK= 0.8466D-02  QK= 0.1744D-01\n",
      " NIT=   12  NFE=   12  F= 0.41784338D+00  WK= 0.1693D-02  QK= 0.4143D-02\n",
      " NIT=   13  NFE=   13  F= 0.41660190D+00  WK= 0.2661D-02  QK= 0.1618D-02\n",
      " NIT=   14  NFE=   14  F= 0.41508357D+00  WK= 0.9852D-03  QK= 0.1665D-02\n",
      " Exit from LMBM:\n",
      " NIT=   15  NFE=   15  F= 0.41459781D+00  WK= 0.1877D-03  QK= 0.5121D-03  ITERM=  1\n",
      "-----------\n",
      "| Output: |\n",
      "-----------\n",
      "Termination:     1\n",
      "N. iter.:        15\n",
      "N. func. eval.:  15\n",
      "Final value:     0.414598\n",
      "Execution time:  0.128235\n",
      "\n",
      "####################################\n",
      "opt_val = -2.8979252704255196\n",
      "####################################\n",
      "Solving time:\n",
      "  0.321000 seconds (266.62 k allocations: 15.597 MiB)\n",
      "Total time:\n",
      "  0.417168 seconds (366.44 k allocations: 21.490 MiB)\n"
     ]
    },
    {
     "data": {
      "text/plain": [
       "-2.8979252704255196"
      ]
     },
     "execution_count": 22,
     "metadata": {},
     "output_type": "execute_result"
    }
   ],
   "source": [
    "include(\"../src/ctpPOP.jl\")\n",
    "using .ctpPOP\n",
    "\n",
    "opt_val=ctpPOP.POP_dense_LMBM(n,m,l,lmon_g,supp_g,coe_g,lmon_h,supp_h,coe_h,lmon_f,supp_f,coe_f,dg,dh,k,\n",
    "                         tol=1e-3,use_eqcons_to_get_constant_trace=false)"
   ]
  },
  {
   "cell_type": "code",
   "execution_count": 23,
   "metadata": {},
   "outputs": [
    {
     "name": "stdout",
     "output_type": "stream",
     "text": [
      "This is Ipopt version 3.13.2, running with linear solver mumps.\n",
      "NOTE: Other linear solvers might be more efficient (see Ipopt documentation).\n",
      "\n",
      "Number of nonzeros in equality constraint Jacobian...:        0\n",
      "Number of nonzeros in inequality constraint Jacobian.:        5\n",
      "Number of nonzeros in Lagrangian Hessian.............:       20\n",
      "\n",
      "Total number of variables............................:        5\n",
      "                     variables with only lower bounds:        0\n",
      "                variables with lower and upper bounds:        0\n",
      "                     variables with only upper bounds:        0\n",
      "Total number of equality constraints.................:        0\n",
      "Total number of inequality constraints...............:        5\n",
      "        inequality constraints with only lower bounds:        5\n",
      "   inequality constraints with lower and upper bounds:        0\n",
      "        inequality constraints with only upper bounds:        0\n",
      "\n",
      "iter    objective    inf_pr   inf_du lg(mu)  ||d||  lg(rg) alpha_du alpha_pr  ls\n",
      "   0 -7.7656712e-01 0.00e+00 8.70e-01  -1.0 0.00e+00    -  0.00e+00 0.00e+00   0\n",
      "   1 -7.9087892e-01 0.00e+00 8.79e-01  -1.7 8.63e-03   2.0 1.00e+00 1.00e+00f  1\n",
      "   2 -8.3649188e-01 0.00e+00 9.06e-01  -1.7 2.72e-02   1.5 1.00e+00 1.00e+00f  1\n",
      "   3 -9.9826748e-01 0.00e+00 9.95e-01  -1.7 9.07e-02   1.0 1.00e+00 1.00e+00f  1\n",
      "   4 -2.9489208e+00 1.31e-01 1.47e+00  -1.7 4.66e-01   0.6 1.00e+00 1.00e+00f  1\n",
      "   5 -2.9209109e+00 1.05e-01 8.38e-01  -1.7 1.67e-01   1.0 1.00e+00 5.06e-01h  1\n",
      "   6 -3.4655647e+00 1.01e-01 7.25e+00  -1.7 4.11e+00    -  1.00e+00 3.84e-02f  1\n",
      "   7 -2.8409352e+00 5.27e-03 1.03e-01  -1.7 9.59e-02    -  1.00e+00 1.00e+00h  1\n",
      "   8 -2.8776806e+00 0.00e+00 1.40e-02  -2.5 4.62e-02    -  1.00e+00 1.00e+00h  1\n",
      "   9 -2.8910945e+00 0.00e+00 4.41e-05  -3.8 8.75e-03    -  1.00e+00 1.00e+00h  1\n",
      "iter    objective    inf_pr   inf_du lg(mu)  ||d||  lg(rg) alpha_du alpha_pr  ls\n",
      "  10 -2.8917877e+00 0.00e+00 4.63e-08  -5.7 1.87e-04    -  1.00e+00 1.00e+00h  1\n",
      "  11 -2.8917969e+00 0.00e+00 1.59e-11  -8.6 2.23e-06    -  1.00e+00 1.00e+00h  1\n",
      "\n",
      "Number of Iterations....: 11\n",
      "\n",
      "                                   (scaled)                 (unscaled)\n",
      "Objective...............:  -2.8917969237050793e+00   -2.8917969237050793e+00\n",
      "Dual infeasibility......:   1.5905721184594768e-11    1.5905721184594768e-11\n",
      "Constraint violation....:   0.0000000000000000e+00    0.0000000000000000e+00\n",
      "Complementarity.........:   2.5130931453167534e-09    2.5130931453167534e-09\n",
      "Overall NLP error.......:   2.5130931453167534e-09    2.5130931453167534e-09\n",
      "\n",
      "\n",
      "Number of objective function evaluations             = 12\n",
      "Number of objective gradient evaluations             = 12\n",
      "Number of equality constraint evaluations            = 0\n",
      "Number of inequality constraint evaluations          = 12\n",
      "Number of equality constraint Jacobian evaluations   = 0\n",
      "Number of inequality constraint Jacobian evaluations = 12\n",
      "Number of Lagrangian Hessian evaluations             = 11\n",
      "Total CPU secs in IPOPT (w/o function evaluations)   =      0.007\n",
      "Total CPU secs in NLP function evaluations           =      0.000\n",
      "\n",
      "EXIT: Optimal Solution Found.\n",
      "LOCALLY_SOLVED\n",
      "opt_val=-2.8917969237050793\n",
      "  0.015678 seconds (3.21 k allocations: 240.188 KiB)\n"
     ]
    },
    {
     "name": "stderr",
     "output_type": "stream",
     "text": [
      "WARNING: replacing module ctpPOP.\n"
     ]
    },
    {
     "data": {
      "text/plain": [
       "-2.8917969237050793"
      ]
     },
     "execution_count": 23,
     "metadata": {},
     "output_type": "execute_result"
    }
   ],
   "source": [
    "include(\"../src/ctpPOP.jl\")\n",
    "using .ctpPOP\n",
    "\n",
    "optval=ctpPOP.POP_NLP(n,m,l,lmon_g,supp_g,coe_g,lmon_h,supp_h,coe_h,lmon_f,supp_f,coe_f)"
   ]
  },
  {
   "cell_type": "code",
   "execution_count": null,
   "metadata": {},
   "outputs": [],
   "source": []
  }
 ],
 "metadata": {
  "kernelspec": {
   "display_name": "Julia 1.3.0",
   "language": "julia",
   "name": "julia-1.3"
  },
  "language_info": {
   "file_extension": ".jl",
   "mimetype": "application/julia",
   "name": "julia",
   "version": "1.3.0"
  }
 },
 "nbformat": 4,
 "nbformat_minor": 2
}
