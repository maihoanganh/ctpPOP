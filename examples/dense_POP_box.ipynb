{
 "cells": [
  {
   "cell_type": "code",
   "execution_count": 8,
   "metadata": {},
   "outputs": [
    {
     "name": "stdout",
     "output_type": "stream",
     "text": [
      "***Problem setting***\n",
      "Number of variable: n=5\n",
      "====================\n",
      "Number of inequality constraints: m=5\n",
      "====================\n",
      "Number of equality constraints: l=0\n"
     ]
    }
   ],
   "source": [
    "using DynamicPolynomials, LinearAlgebra, SparseArrays\n",
    "\n",
    "println(\"***Problem setting***\")\n",
    "\n",
    "n=5\n",
    "\n",
    "println(\"Number of variable: n=\",n)\n",
    "println(\"====================\")\n",
    "\n",
    "@polyvar x[1:n]# variables\n",
    "\n",
    "function generate_random_poly(v)\n",
    "    c=2*rand(Float64,length(v)).-1\n",
    "    return c'*v\n",
    "end\n",
    "# random quadratic objective function f\n",
    "v=reverse(monomials(x,0:2))\n",
    "f=generate_random_poly(v)\n",
    "\n",
    "\n",
    "# unit sphere constraint\n",
    "m=n\n",
    "q=floor(Int64,n/m)\n",
    "R=ones(Float64,m)./n\n",
    "T=[(j-1)*q+1:j*q for j in 1:m-1]\n",
    "append!(T,[(m-1)*q+1:n])\n",
    "\n",
    "g=[R[j]-sum(x[T[j]].^2) for j in 1:m]\n",
    "\n",
    "m=length(g)\n",
    "println(\"Number of inequality constraints: m=\",m)\n",
    "println(\"====================\")\n",
    "\n",
    "l=0#ceil(Int64, n/7)\n",
    "\n",
    "h=Vector{Polynomial{true,Float64}}(undef,l)\n",
    "randx=[2*rand(length(T[j])).-1 for j in 1:m]# create a feasible solution\n",
    "randx=[sqrt(R[j])*rand(1)[1]*randx[j]/norm(randx[j]) for j in 1:m]\n",
    "randx=vcat(randx...)\n",
    "\n",
    "for j in 1:l\n",
    "    h[j]=generate_random_poly(v[2:end])\n",
    "    h[j]-=h[j](x => randx) #make constraints feasible\n",
    "end\n",
    "\n",
    "l=length(h)\n",
    "println(\"Number of equality constraints: l=\",l)"
   ]
  },
  {
   "cell_type": "code",
   "execution_count": 9,
   "metadata": {},
   "outputs": [],
   "source": [
    "using ctpPOP\n",
    "\n",
    "n,m,l,lmon_g,supp_g,coe_g,lmon_h,supp_h,coe_h,lmon_f,supp_f,coe_f,dg,dh=ctpPOP.get_info(x,f,g,h,sparse=false);"
   ]
  },
  {
   "cell_type": "code",
   "execution_count": 10,
   "metadata": {},
   "outputs": [
    {
     "name": "stdout",
     "output_type": "stream",
     "text": [
      "Relaxed order: k=2\n"
     ]
    }
   ],
   "source": [
    "k=2\n",
    "println(\"Relaxed order: k=\",k)"
   ]
  },
  {
   "cell_type": "code",
   "execution_count": 11,
   "metadata": {
    "scrolled": true
   },
   "outputs": [
    {
     "name": "stdout",
     "output_type": "stream",
     "text": [
      "  Computing constant trace status: OPTIMAL\n",
      "  Constant trace: ak = 3.0\n",
      "  Number of blocks: omega=6\n",
      "  Size of the largest block: s^max=21\n",
      "  Number of equality trace constraints: zeta=211\n",
      "Modeling time:\n",
      "  0.008223 seconds (15.08 k allocations: 1.646 MiB)\n",
      "iter=1   val=-3.686168087218646   gap=0.00027657864007725827   feas=3.6776719963184967\n",
      "iter=2   val=-0.7336375057818572   gap=0.6856325343440921   feas=0.8991692337074143\n",
      "iter=4   val=-0.12492088122077133   gap=0.5480682160558514   feas=0.9663385579604783\n",
      "iter=8   val=-0.20162686592420126   gap=0.29493879408952245   feas=0.6031956649840721\n",
      "iter=16   val=-0.2342183284881777   gap=0.4197567815939036   feas=0.1948203344504864\n",
      "iter=32   val=-0.29443464463785857   gap=0.049828780789080054   feas=0.1361713815862133\n",
      "iter=64   val=-0.24517263578816328   gap=0.16324400746297926   feas=0.08820866001129647\n",
      "iter=128   val=-0.2796152437646705   gap=0.01771541931427684   feas=0.02795979947540347\n",
      "iter=256   val=-0.3119483433113311   gap=0.010090235257868096   feas=0.007360025764091829\n",
      "iter=512   val=-0.32011161200655774   gap=0.009144865157164832   feas=0.004722880603751453\n",
      "iter=1024   val=-0.3235157855868566   gap=0.002024495422632452   feas=0.0011564670798732454\n",
      "iter=1612   val=-0.3240847068919046   gap=0.0009938912155885852   feas=0.0005639986718276936\n",
      "tol satisfies!!!\n",
      "\n",
      "####################################\n",
      "opt_val = -0.3240847068919046\n",
      "####################################\n",
      "Solving time:\n",
      "  0.735747 seconds (1.01 M allocations: 99.647 MiB, 4.49% gc time)\n",
      "Total time:\n",
      "  0.744248 seconds (1.03 M allocations: 101.305 MiB, 4.44% gc time)\n"
     ]
    },
    {
     "data": {
      "text/plain": [
       "-0.3240847068919046"
      ]
     },
     "execution_count": 11,
     "metadata": {},
     "output_type": "execute_result"
    }
   ],
   "source": [
    "using ctpPOP\n",
    "\n",
    "opt_val1=ctpPOP.POP_dense_CGAL(n,m,l,lmon_g,supp_g,coe_g,lmon_h,supp_h,coe_h,lmon_f,supp_f,coe_f,dg,dh,k,\n",
    "                         maxit=Int64(1e6),tol=1e-3,\n",
    "                         use_eqcons_to_get_constant_trace=false,\n",
    "                         check_tol_each_iter=true)"
   ]
  },
  {
   "cell_type": "code",
   "execution_count": 12,
   "metadata": {},
   "outputs": [
    {
     "name": "stdout",
     "output_type": "stream",
     "text": [
      "Problem\n",
      "  Name                   :                 \n",
      "  Objective sense        : max             \n",
      "  Type                   : CONIC (conic optimization problem)\n",
      "  Constraints            : 126             \n",
      "  Cones                  : 0               \n",
      "  Scalar variables       : 1               \n",
      "  Matrix variables       : 6               \n",
      "  Integer variables      : 0               \n",
      "\n",
      "Optimizer started.\n",
      "Presolve started.\n",
      "Linear dependency checker started.\n",
      "Linear dependency checker terminated.\n",
      "Eliminator started.\n",
      "Freed constraints in eliminator : 0\n",
      "Eliminator terminated.\n",
      "Eliminator - tries                  : 1                 time                   : 0.00            \n",
      "Lin. dep.  - tries                  : 1                 time                   : 0.00            \n",
      "Lin. dep.  - number                 : 0               \n",
      "Presolve terminated. Time: 0.00    \n",
      "Problem\n",
      "  Name                   :                 \n",
      "  Objective sense        : max             \n",
      "  Type                   : CONIC (conic optimization problem)\n",
      "  Constraints            : 126             \n",
      "  Cones                  : 0               \n",
      "  Scalar variables       : 1               \n",
      "  Matrix variables       : 6               \n",
      "  Integer variables      : 0               \n",
      "\n",
      "Optimizer  - threads                : 4               \n",
      "Optimizer  - solved problem         : the primal      \n",
      "Optimizer  - Constraints            : 126\n",
      "Optimizer  - Cones                  : 1\n",
      "Optimizer  - Scalar variables       : 2                 conic                  : 2               \n",
      "Optimizer  - Semi-definite variables: 6                 scalarized             : 336             \n",
      "Factor     - setup time             : 0.00              dense det. time        : 0.00            \n",
      "Factor     - ML order time          : 0.00              GP order time          : 0.00            \n",
      "Factor     - nonzeros before factor : 8001              after factor           : 8001            \n",
      "Factor     - dense dim.             : 0                 flops                  : 8.45e+05        \n",
      "ITE PFEAS    DFEAS    GFEAS    PRSTATUS   POBJ              DOBJ              MU       TIME  \n",
      "0   2.0e+00  1.0e+00  1.0e+00  0.00e+00   0.000000000e+00   0.000000000e+00   1.0e+00  0.00  \n",
      "1   4.8e-01  2.4e-01  1.0e-01  6.23e-01   -5.502145031e-01  -4.654874213e-01  2.4e-01  0.00  \n",
      "2   8.7e-02  4.4e-02  5.2e-03  1.68e+00   -3.171621479e-01  -3.004477397e-01  4.4e-02  0.01  \n",
      "3   2.0e-02  1.0e-02  6.4e-04  1.15e+00   -3.107855379e-01  -3.078891983e-01  1.0e-02  0.01  \n",
      "4   2.3e-03  1.1e-03  2.5e-05  1.01e+00   -3.243848611e-01  -3.240902416e-01  1.1e-03  0.01  \n",
      "5   1.0e-04  5.0e-05  2.3e-07  1.01e+00   -3.247013219e-01  -3.246880972e-01  5.0e-05  0.01  \n",
      "6   3.6e-07  1.8e-07  4.9e-11  1.00e+00   -3.247134614e-01  -3.247134143e-01  1.8e-07  0.01  \n",
      "7   6.1e-10  3.1e-10  3.5e-15  1.00e+00   -3.247134569e-01  -3.247134568e-01  3.1e-10  0.01  \n",
      "Optimizer terminated. Time: 0.01    \n",
      "\n",
      "OPTIMAL\n",
      "opt_val=-0.32471345686928904\n",
      "  0.057130 seconds (104.07 k allocations: 11.398 MiB, 43.67% gc time)\n"
     ]
    },
    {
     "data": {
      "text/plain": [
       "-0.32471345686928904"
      ]
     },
     "execution_count": 12,
     "metadata": {},
     "output_type": "execute_result"
    }
   ],
   "source": [
    "using ctpPOP\n",
    "\n",
    "opt_val2=ctpPOP.POP_dense_SOS(x,f,g,h,k,tol=1e-3)"
   ]
  },
  {
   "cell_type": "code",
   "execution_count": 13,
   "metadata": {},
   "outputs": [
    {
     "name": "stdout",
     "output_type": "stream",
     "text": [
      "  Computing constant trace status: OPTIMAL\n",
      "  Constant trace: ak = 3.0\n",
      "  Number of blocks: omega=6\n",
      "  Size of the largest block: s^max=21\n",
      "  Number of equality trace constraints: zeta=211\n",
      "Modeling time:\n",
      "  0.010057 seconds (15.08 k allocations: 1.646 MiB)\n",
      "---------------\n",
      "| Parameters: |\n",
      "---------------\n",
      "n:       211\n",
      "maxtime: 300000.000000\n",
      "na:      2\n",
      "mcu:     5\n",
      "mc:      7\n",
      "rpar: \n",
      "ipar: \n",
      " Warning: MC > MCU. Assigned MC = MCU.\n",
      " Entry to LMBM:\n",
      " NIT=    1  NFE=    1  F= 0.52095665D+00  WK= 0.7035D+00  QK= 0.3518D+00\n",
      " NIT=    2  NFE=    2  F= 0.18241800D+00  WK= 0.9427D-01  QK= 0.8568D-01\n",
      " NIT=    3  NFE=    3  F= 0.97355748D-01  WK= 0.4779D+00  QK= 0.5941D-01\n",
      " Warning: A nondescent search direction occured. Restart.\n",
      " NIT=    4  NFE=    4  F= 0.97355748D-01  WK= 0.1188D+00  QK= 0.5941D-01\n",
      " NIT=    5  NFE=    5  F= 0.97355748D-01  WK= 0.7141D-01  QK= 0.3793D-01\n",
      " NIT=    6  NFE=    6  F= 0.69764490D-01  WK= 0.3188D-01  QK= 0.2617D-01\n",
      " NIT=    7  NFE=    7  F= 0.69764490D-01  WK= 0.2369D-01  QK= 0.1839D-01\n",
      " NIT=    8  NFE=    8  F= 0.57459856D-01  WK= 0.2310D-01  QK= 0.1198D-01\n",
      " NIT=    9  NFE=    9  F= 0.57459856D-01  WK= 0.1356D-01  QK= 0.7086D-02\n",
      " NIT=   10  NFE=   11  F= 0.55566490D-01  WK= 0.7634D-02  QK= 0.1121D-01\n",
      " NIT=   11  NFE=   12  F= 0.55566490D-01  WK= 0.6939D-02  QK= 0.1030D-01\n",
      " NIT=   12  NFE=   14  F= 0.53202753D-01  WK= 0.1482D-02  QK= 0.1772D-01\n",
      " NIT=   13  NFE=   15  F= 0.51961149D-01  WK= 0.6875D-02  QK= 0.3478D-02\n",
      " NIT=   14  NFE=   16  F= 0.51961149D-01  WK= 0.6332D-02  QK= 0.5164D-02\n",
      " NIT=   15  NFE=   21  F= 0.51795540D-01  WK= 0.3205D-02  QK= 0.5036D-01\n",
      " NIT=   16  NFE=   22  F= 0.51795540D-01  WK= 0.2833D-02  QK= 0.4647D-01\n",
      " NIT=   17  NFE=   24  F= 0.51671703D-01  WK= 0.1142D-02  QK= 0.8102D-02\n",
      " NIT=   18  NFE=   25  F= 0.51138673D-01  WK= 0.2158D-02  QK= 0.1972D+00\n",
      " NIT=   19  NFE=   26  F= 0.50945920D-01  WK= 0.3608D-03  QK= 0.8561D-02\n",
      " NIT=   20  NFE=   27  F= 0.50945920D-01  WK= 0.2305D-02  QK= 0.5183D-02\n",
      " NIT=   21  NFE=   28  F= 0.50488954D-01  WK= 0.8066D-02  QK= 0.1203D-01\n",
      " NIT=   22  NFE=   29  F= 0.50488954D-01  WK= 0.6853D-02  QK= 0.1048D-01\n",
      " NIT=   23  NFE=   34  F= 0.50305195D-01  WK= 0.1925D-02  QK= 0.9818D-01\n",
      " NIT=   24  NFE=   35  F= 0.50305195D-01  WK= 0.2562D-02  QK= 0.8075D-01\n",
      " NIT=   25  NFE=   36  F= 0.50062450D-01  WK= 0.8200D-02  QK= 0.1273D-01\n",
      " NIT=   26  NFE=   37  F= 0.50062450D-01  WK= 0.5348D-02  QK= 0.6007D-02\n",
      " NIT=   27  NFE=   38  F= 0.50008880D-01  WK= 0.2574D-02  QK= 0.1001D-01\n",
      " NIT=   28  NFE=   39  F= 0.48720109D-01  WK= 0.5835D-02  QK= 0.9691D-02\n",
      " NIT=   29  NFE=   40  F= 0.48720109D-01  WK= 0.2437D-02  QK= 0.8718D-02\n",
      " NIT=   30  NFE=   47  F= 0.48715214D-01  WK= 0.2535D-02  QK= 0.9792D-02\n",
      " NIT=   31  NFE=   48  F= 0.48715214D-01  WK= 0.1556D-02  QK= 0.8560D-02\n",
      " NIT=   32  NFE=   52  F= 0.48644230D-01  WK= 0.2210D-01  QK= 0.1911D+00\n",
      " NIT=   33  NFE=   53  F= 0.48644230D-01  WK= 0.1724D-01  QK= 0.1871D+00\n",
      " NIT=   34  NFE=   66  F= 0.48642046D-01  WK= 0.5911D-02  QK= 0.1911D+00\n",
      " Warning: A nondescent search direction occured. Restart.\n",
      " NIT=   35  NFE=   67  F= 0.48642046D-01  WK= 0.3822D+00  QK= 0.1911D+00\n",
      " NIT=   36  NFE=   69  F= 0.48642046D-01  WK= 0.1003D+00  QK= 0.5049D-01\n",
      " NIT=   37  NFE=   80  F= 0.48636887D-01  WK= 0.1789D-01  QK= 0.1525D+00\n",
      " NIT=   38  NFE=   81  F= 0.48636887D-01  WK= 0.4562D-01  QK= 0.6720D-01\n",
      " NIT=   39  NFE=   89  F= 0.48479758D-01  WK= 0.1487D-02  QK= 0.3079D-02\n",
      " NIT=   40  NFE=   90  F= 0.48479758D-01  WK= 0.2695D-02  QK= 0.1614D-02\n",
      " NIT=   41  NFE=   95  F= 0.48448659D-01  WK= 0.3824D-03  QK= 0.9774D-02\n",
      " NIT=   42  NFE=   96  F= 0.48448659D-01  WK= 0.1607D-02  QK= 0.3274D-02\n",
      " NIT=   43  NFE=  102  F= 0.48403158D-01  WK= 0.9448D-03  QK= 0.1004D-01\n",
      " NIT=   44  NFE=  103  F= 0.48403158D-01  WK= 0.1181D-02  QK= 0.9003D-02\n",
      " NIT=   45  NFE=  107  F= 0.48382101D-01  WK= 0.5092D-03  QK= 0.1530D+00\n",
      " NIT=   46  NFE=  108  F= 0.48382101D-01  WK= 0.1514D-02  QK= 0.1144D+00\n",
      " NIT=   47  NFE=  109  F= 0.48324943D-01  WK= 0.4101D-03  QK= 0.6115D-01\n",
      " NIT=   48  NFE=  110  F= 0.48058295D-01  WK= 0.2316D-03  QK= 0.4169D-02\n",
      " NIT=   49  NFE=  111  F= 0.48058295D-01  WK= 0.2073D-02  QK= 0.8731D-02\n",
      " NIT=   50  NFE=  115  F= 0.48029192D-01  WK= 0.1037D-02  QK= 0.1157D+00\n",
      " NIT=   51  NFE=  116  F= 0.47934893D-01  WK= 0.7903D-03  QK= 0.1863D+00\n",
      " NIT=   52  NFE=  117  F= 0.47686770D-01  WK= 0.1562D-03  QK= 0.3191D-02\n",
      " NIT=   53  NFE=  118  F= 0.47568610D-01  WK= 0.2136D-02  QK= 0.2462D-02\n",
      " NIT=   54  NFE=  119  F= 0.47568610D-01  WK= 0.2043D-02  QK= 0.1469D-02\n",
      " NIT=   55  NFE=  123  F= 0.47507434D-01  WK= 0.2565D-03  QK= 0.1437D-01\n",
      " NIT=   56  NFE=  124  F= 0.47319690D-01  WK= 0.7662D-03  QK= 0.7111D-02\n",
      " NIT=   57  NFE=  125  F= 0.47319690D-01  WK= 0.1133D-02  QK= 0.6173D-02\n",
      " NIT=   58  NFE=  129  F= 0.47257915D-01  WK= 0.5646D-03  QK= 0.5460D-02\n",
      " Exit from LMBM:\n",
      " NIT=   59  NFE=  130  F= 0.47257915D-01  WK= 0.7625D-03  QK= 0.7665D-03  ITERM=  1\n",
      "-----------\n",
      "| Output: |\n",
      "-----------\n",
      "Termination:     1\n",
      "N. iter.:        59\n",
      "N. func. eval.:  130\n",
      "Final value:     0.047258\n",
      "Execution time:  0.063774\n",
      "\n",
      "####################################\n",
      "opt_val = -0.33442033152619194\n",
      "####################################\n",
      "Solving time:\n",
      "  0.064944 seconds (82.05 k allocations: 7.953 MiB)\n",
      "Total time:\n",
      "  0.075210 seconds (97.65 k allocations: 9.609 MiB)\n"
     ]
    },
    {
     "data": {
      "text/plain": [
       "-0.33442033152619194"
      ]
     },
     "execution_count": 13,
     "metadata": {},
     "output_type": "execute_result"
    }
   ],
   "source": [
    "using ctpPOP\n",
    "\n",
    "opt_val=ctpPOP.POP_dense_LMBM(n,m,l,lmon_g,supp_g,coe_g,lmon_h,supp_h,coe_h,lmon_f,supp_f,coe_f,dg,dh,k,\n",
    "                         tol=1e-3,use_eqcons_to_get_constant_trace=false)"
   ]
  },
  {
   "cell_type": "code",
   "execution_count": 14,
   "metadata": {},
   "outputs": [],
   "source": [
    "#using ctpPOP\n",
    "\n",
    "#optval=ctpPOP.POP_NLP(n,m,l,lmon_g,supp_g,coe_g,lmon_h,supp_h,coe_h,lmon_f,supp_f,coe_f)"
   ]
  },
  {
   "cell_type": "code",
   "execution_count": null,
   "metadata": {},
   "outputs": [],
   "source": []
  }
 ],
 "metadata": {
  "kernelspec": {
   "display_name": "Julia 1.3.0",
   "language": "julia",
   "name": "julia-1.3"
  },
  "language_info": {
   "file_extension": ".jl",
   "mimetype": "application/julia",
   "name": "julia",
   "version": "1.3.0"
  }
 },
 "nbformat": 4,
 "nbformat_minor": 2
}
